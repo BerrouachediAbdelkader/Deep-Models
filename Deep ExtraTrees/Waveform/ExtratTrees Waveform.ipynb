{
 "cells": [
  {
   "cell_type": "code",
   "execution_count": 1,
   "metadata": {
    "collapsed": true
   },
   "outputs": [],
   "source": [
    "# imports \n",
    "import numpy as np\n",
    "from math import sqrt \n",
    "from pprint import pprint\n",
    "from numpy import array\n",
    "from scipy.io import arff\n",
    "import pandas as pd"
   ]
  },
  {
   "cell_type": "code",
   "execution_count": 2,
   "metadata": {},
   "outputs": [
    {
     "data": {
      "text/html": [
       "<div>\n",
       "<style>\n",
       "    .dataframe thead tr:only-child th {\n",
       "        text-align: right;\n",
       "    }\n",
       "\n",
       "    .dataframe thead th {\n",
       "        text-align: left;\n",
       "    }\n",
       "\n",
       "    .dataframe tbody tr th {\n",
       "        vertical-align: top;\n",
       "    }\n",
       "</style>\n",
       "<table border=\"1\" class=\"dataframe\">\n",
       "  <thead>\n",
       "    <tr style=\"text-align: right;\">\n",
       "      <th></th>\n",
       "      <th>att1</th>\n",
       "      <th>att2</th>\n",
       "      <th>att3</th>\n",
       "      <th>att4</th>\n",
       "      <th>att5</th>\n",
       "      <th>att6</th>\n",
       "      <th>att7</th>\n",
       "      <th>att8</th>\n",
       "      <th>att9</th>\n",
       "      <th>att10</th>\n",
       "      <th>...</th>\n",
       "      <th>att13</th>\n",
       "      <th>att14</th>\n",
       "      <th>att15</th>\n",
       "      <th>att16</th>\n",
       "      <th>att17</th>\n",
       "      <th>att18</th>\n",
       "      <th>att19</th>\n",
       "      <th>att20</th>\n",
       "      <th>att21</th>\n",
       "      <th>outlier</th>\n",
       "    </tr>\n",
       "  </thead>\n",
       "  <tbody>\n",
       "    <tr>\n",
       "      <th>0</th>\n",
       "      <td>0.323657</td>\n",
       "      <td>0.793785</td>\n",
       "      <td>0.848661</td>\n",
       "      <td>0.660063</td>\n",
       "      <td>0.622244</td>\n",
       "      <td>0.755102</td>\n",
       "      <td>0.760762</td>\n",
       "      <td>0.671655</td>\n",
       "      <td>0.603723</td>\n",
       "      <td>0.636170</td>\n",
       "      <td>...</td>\n",
       "      <td>0.281899</td>\n",
       "      <td>0.203557</td>\n",
       "      <td>0.286607</td>\n",
       "      <td>0.474383</td>\n",
       "      <td>0.352483</td>\n",
       "      <td>0.358857</td>\n",
       "      <td>0.275626</td>\n",
       "      <td>0.465937</td>\n",
       "      <td>0.220884</td>\n",
       "      <td>1</td>\n",
       "    </tr>\n",
       "    <tr>\n",
       "      <th>1</th>\n",
       "      <td>0.423803</td>\n",
       "      <td>0.769774</td>\n",
       "      <td>0.632130</td>\n",
       "      <td>0.572471</td>\n",
       "      <td>0.747495</td>\n",
       "      <td>0.670408</td>\n",
       "      <td>0.715232</td>\n",
       "      <td>0.617958</td>\n",
       "      <td>0.637411</td>\n",
       "      <td>0.457447</td>\n",
       "      <td>...</td>\n",
       "      <td>0.302671</td>\n",
       "      <td>0.375494</td>\n",
       "      <td>0.296429</td>\n",
       "      <td>0.383302</td>\n",
       "      <td>0.545278</td>\n",
       "      <td>0.394286</td>\n",
       "      <td>0.451025</td>\n",
       "      <td>0.470803</td>\n",
       "      <td>0.468541</td>\n",
       "      <td>1</td>\n",
       "    </tr>\n",
       "    <tr>\n",
       "      <th>2</th>\n",
       "      <td>0.477504</td>\n",
       "      <td>0.580508</td>\n",
       "      <td>0.554133</td>\n",
       "      <td>0.476538</td>\n",
       "      <td>0.851703</td>\n",
       "      <td>0.509184</td>\n",
       "      <td>0.745861</td>\n",
       "      <td>0.785211</td>\n",
       "      <td>0.508865</td>\n",
       "      <td>0.519149</td>\n",
       "      <td>...</td>\n",
       "      <td>0.341246</td>\n",
       "      <td>0.384387</td>\n",
       "      <td>0.229464</td>\n",
       "      <td>0.350095</td>\n",
       "      <td>0.117819</td>\n",
       "      <td>0.406857</td>\n",
       "      <td>0.149203</td>\n",
       "      <td>0.402676</td>\n",
       "      <td>0.370817</td>\n",
       "      <td>1</td>\n",
       "    </tr>\n",
       "    <tr>\n",
       "      <th>3</th>\n",
       "      <td>0.645864</td>\n",
       "      <td>0.570621</td>\n",
       "      <td>0.525029</td>\n",
       "      <td>0.631908</td>\n",
       "      <td>0.682365</td>\n",
       "      <td>0.382653</td>\n",
       "      <td>0.478477</td>\n",
       "      <td>0.608275</td>\n",
       "      <td>0.476950</td>\n",
       "      <td>0.190426</td>\n",
       "      <td>...</td>\n",
       "      <td>0.500495</td>\n",
       "      <td>0.555336</td>\n",
       "      <td>0.463393</td>\n",
       "      <td>0.537951</td>\n",
       "      <td>0.564752</td>\n",
       "      <td>0.485714</td>\n",
       "      <td>0.576310</td>\n",
       "      <td>0.518248</td>\n",
       "      <td>0.597055</td>\n",
       "      <td>1</td>\n",
       "    </tr>\n",
       "    <tr>\n",
       "      <th>4</th>\n",
       "      <td>0.219158</td>\n",
       "      <td>0.690678</td>\n",
       "      <td>0.530850</td>\n",
       "      <td>0.715328</td>\n",
       "      <td>0.687375</td>\n",
       "      <td>0.571429</td>\n",
       "      <td>0.649007</td>\n",
       "      <td>0.562500</td>\n",
       "      <td>0.523050</td>\n",
       "      <td>0.303191</td>\n",
       "      <td>...</td>\n",
       "      <td>0.190900</td>\n",
       "      <td>0.408103</td>\n",
       "      <td>0.322321</td>\n",
       "      <td>0.425996</td>\n",
       "      <td>0.400195</td>\n",
       "      <td>0.701714</td>\n",
       "      <td>0.515945</td>\n",
       "      <td>0.294404</td>\n",
       "      <td>0.463186</td>\n",
       "      <td>1</td>\n",
       "    </tr>\n",
       "  </tbody>\n",
       "</table>\n",
       "<p>5 rows × 22 columns</p>\n",
       "</div>"
      ],
      "text/plain": [
       "       att1      att2      att3      att4      att5      att6      att7  \\\n",
       "0  0.323657  0.793785  0.848661  0.660063  0.622244  0.755102  0.760762   \n",
       "1  0.423803  0.769774  0.632130  0.572471  0.747495  0.670408  0.715232   \n",
       "2  0.477504  0.580508  0.554133  0.476538  0.851703  0.509184  0.745861   \n",
       "3  0.645864  0.570621  0.525029  0.631908  0.682365  0.382653  0.478477   \n",
       "4  0.219158  0.690678  0.530850  0.715328  0.687375  0.571429  0.649007   \n",
       "\n",
       "       att8      att9     att10   ...        att13     att14     att15  \\\n",
       "0  0.671655  0.603723  0.636170   ...     0.281899  0.203557  0.286607   \n",
       "1  0.617958  0.637411  0.457447   ...     0.302671  0.375494  0.296429   \n",
       "2  0.785211  0.508865  0.519149   ...     0.341246  0.384387  0.229464   \n",
       "3  0.608275  0.476950  0.190426   ...     0.500495  0.555336  0.463393   \n",
       "4  0.562500  0.523050  0.303191   ...     0.190900  0.408103  0.322321   \n",
       "\n",
       "      att16     att17     att18     att19     att20     att21  outlier  \n",
       "0  0.474383  0.352483  0.358857  0.275626  0.465937  0.220884        1  \n",
       "1  0.383302  0.545278  0.394286  0.451025  0.470803  0.468541        1  \n",
       "2  0.350095  0.117819  0.406857  0.149203  0.402676  0.370817        1  \n",
       "3  0.537951  0.564752  0.485714  0.576310  0.518248  0.597055        1  \n",
       "4  0.425996  0.400195  0.701714  0.515945  0.294404  0.463186        1  \n",
       "\n",
       "[5 rows x 22 columns]"
      ]
     },
     "execution_count": 2,
     "metadata": {},
     "output_type": "execute_result"
    }
   ],
   "source": [
    "# load data\n",
    " \n",
    "df=pd.read_csv('Waveform_withoutdupl_norm_v01.csv')  \n",
    "del df['id']\n",
    "del df['Unnamed: 0']\n",
    "df['outlier'] = df.outlier.apply(lambda label: 1 if label == \"'yes'\" else 0)\n",
    "df.head()"
   ]
  },
  {
   "cell_type": "code",
   "execution_count": 4,
   "metadata": {},
   "outputs": [
    {
     "data": {
      "text/plain": [
       "(3443, 22)"
      ]
     },
     "execution_count": 4,
     "metadata": {},
     "output_type": "execute_result"
    }
   ],
   "source": [
    "df.shape"
   ]
  },
  {
   "cell_type": "code",
   "execution_count": 5,
   "metadata": {
    "collapsed": true
   },
   "outputs": [],
   "source": [
    "# data to values\n",
    "df = df.values"
   ]
  },
  {
   "cell_type": "code",
   "execution_count": 6,
   "metadata": {
    "collapsed": true
   },
   "outputs": [],
   "source": [
    "# Extratrees Deep\n",
    "import argparse\n",
    "import sys\n",
    "import pickle\n",
    "from sklearn.metrics import accuracy_score\n",
    "sys.path.insert(0, \"lib\")\n",
    "from gcforest.gcforest import GCForest\n",
    "from gcforest.utils.config_utils import load_json\n",
    "config = load_json(\"./examples/waveform.json\")\n",
    "gc = GCForest(config)"
   ]
  },
  {
   "cell_type": "code",
   "execution_count": 7,
   "metadata": {},
   "outputs": [],
   "source": [
    "# train test \n",
    "from sklearn.cross_validation import train_test_split\n",
    "y = df[:,21]\n",
    "X = df[:,0:21]\n",
    "\n",
    "X_train,X_test,y_train,y_test = train_test_split(X, y, test_size=0.33, random_state=42)"
   ]
  },
  {
   "cell_type": "code",
   "execution_count": 7,
   "metadata": {},
   "outputs": [
    {
     "data": {
      "text/plain": [
       "2"
      ]
     },
     "execution_count": 7,
     "metadata": {},
     "output_type": "execute_result"
    }
   ],
   "source": [
    "# number of class\n",
    "len(np.unique(y_train))"
   ]
  },
  {
   "cell_type": "code",
   "execution_count": 8,
   "metadata": {},
   "outputs": [
    {
     "name": "stderr",
     "output_type": "stream",
     "text": [
      "[ 2018-04-25 01:04:42,688][cascade_classifier.fit_transform] X_groups_train.shape=[(2306, 21)],y_train.shape=(2306,),X_groups_test.shape=[(1137, 21)],y_test.shape=(1137,)\n",
      "[ 2018-04-25 01:04:42,689][cascade_classifier.fit_transform] group_dims=[21]\n",
      "[ 2018-04-25 01:04:42,691][cascade_classifier.fit_transform] group_starts=[0]\n",
      "[ 2018-04-25 01:04:42,693][cascade_classifier.fit_transform] group_ends=[21]\n",
      "[ 2018-04-25 01:04:42,694][cascade_classifier.fit_transform] X_train.shape=(2306, 21),X_test.shape=(1137, 21)\n",
      "[ 2018-04-25 01:04:42,696][cascade_classifier.fit_transform] [layer=0] look_indexs=[0], X_cur_train.shape=(2306, 21), X_cur_test.shape=(1137, 21)\n",
      "[ 2018-04-25 01:04:43,329][kfold_wrapper.log_eval_metrics] Accuracy(layer_0 - estimator_0 - 10_folds.train_0.predict)=96.97%\n",
      "[ 2018-04-25 01:04:44,121][kfold_wrapper.log_eval_metrics] Accuracy(layer_0 - estimator_0 - 10_folds.train_1.predict)=97.40%\n",
      "[ 2018-04-25 01:04:44,907][kfold_wrapper.log_eval_metrics] Accuracy(layer_0 - estimator_0 - 10_folds.train_2.predict)=97.40%\n",
      "[ 2018-04-25 01:04:45,740][kfold_wrapper.log_eval_metrics] Accuracy(layer_0 - estimator_0 - 10_folds.train_3.predict)=96.97%\n",
      "[ 2018-04-25 01:04:46,523][kfold_wrapper.log_eval_metrics] Accuracy(layer_0 - estimator_0 - 10_folds.train_4.predict)=97.40%\n",
      "[ 2018-04-25 01:04:47,322][kfold_wrapper.log_eval_metrics] Accuracy(layer_0 - estimator_0 - 10_folds.train_5.predict)=96.97%\n",
      "[ 2018-04-25 01:04:48,073][kfold_wrapper.log_eval_metrics] Accuracy(layer_0 - estimator_0 - 10_folds.train_6.predict)=96.97%\n",
      "[ 2018-04-25 01:04:48,884][kfold_wrapper.log_eval_metrics] Accuracy(layer_0 - estimator_0 - 10_folds.train_7.predict)=97.39%\n",
      "[ 2018-04-25 01:04:49,800][kfold_wrapper.log_eval_metrics] Accuracy(layer_0 - estimator_0 - 10_folds.train_8.predict)=97.39%\n",
      "[ 2018-04-25 01:04:50,606][kfold_wrapper.log_eval_metrics] Accuracy(layer_0 - estimator_0 - 10_folds.train_9.predict)=97.38%\n",
      "[ 2018-04-25 01:04:50,759][kfold_wrapper.log_eval_metrics] Accuracy(layer_0 - estimator_0 - 10_folds.train_cv.predict)=97.22%\n",
      "[ 2018-04-25 01:04:50,761][kfold_wrapper.log_eval_metrics] Accuracy(layer_0 - estimator_0 - 10_folds.test.predict)=97.36%\n",
      "[ 2018-04-25 01:04:50,763][cascade_classifier.calc_accuracy] Accuracy(layer_0 - train.classifier_average)=97.22%\n",
      "[ 2018-04-25 01:04:50,765][cascade_classifier.calc_accuracy] Accuracy(layer_0 - test.classifier_average)=97.36%\n",
      "[ 2018-04-25 01:04:50,767][cascade_classifier.fit_transform] [Result][Reach Max Layer] opt_layer_num=1, accuracy_train=97.22%, accuracy_test=97.36%\n"
     ]
    }
   ],
   "source": [
    "             # X_enc is the concatenated predict_proba result of ExtraTrees\n",
    "\n",
    "X_train_enc, X_test_enc = gc.fit_transform(X_train, y_train, X_test=X_test, y_test=y_test)\n",
    "   "
   ]
  },
  {
   "cell_type": "code",
   "execution_count": 9,
   "metadata": {},
   "outputs": [
    {
     "name": "stderr",
     "output_type": "stream",
     "text": [
      "[ 2018-04-25 01:04:50,780][cascade_classifier.transform] X_groups_test.shape=[(1137, 21)]\n",
      "[ 2018-04-25 01:04:50,782][cascade_classifier.transform] group_dims=[21]\n",
      "[ 2018-04-25 01:04:50,784][cascade_classifier.transform] X_test.shape=(1137, 21)\n",
      "[ 2018-04-25 01:04:50,786][cascade_classifier.transform] [layer=0] look_indexs=[0], X_cur_test.shape=(1137, 21)\n"
     ]
    },
    {
     "name": "stdout",
     "output_type": "stream",
     "text": [
      "Test Accuracy of ExtraTrees = 97.361478 %\n"
     ]
    }
   ],
   "source": [
    "# predict\n",
    "y_pred = gc.predict(X_test)\n",
    "acc = accuracy_score(y_test, y_pred)\n",
    "print(\"Test Accuracy of ExtraTrees = {:.6f} %\".format(acc * 100))"
   ]
  },
  {
   "cell_type": "code",
   "execution_count": 10,
   "metadata": {},
   "outputs": [
    {
     "name": "stderr",
     "output_type": "stream",
     "text": [
      "[ 2018-04-25 01:04:52,305][cascade_classifier.transform] X_groups_test.shape=[(1137, 21)]\n",
      "[ 2018-04-25 01:04:52,307][cascade_classifier.transform] group_dims=[21]\n",
      "[ 2018-04-25 01:04:52,309][cascade_classifier.transform] X_test.shape=(1137, 21)\n",
      "[ 2018-04-25 01:04:52,312][cascade_classifier.transform] [layer=0] look_indexs=[0], X_cur_test.shape=(1137, 21)\n"
     ]
    }
   ],
   "source": [
    "# Make data + estimators\n",
    "X_test_enc = gc.transform(X_test)\n",
    "X_train_enc = X_train_enc.reshape((X_train_enc.shape[0], -1))\n",
    "X_test_enc = X_test_enc.reshape((X_test_enc.shape[0], -1))\n",
    "X_train_origin = X_train.reshape((X_train.shape[0], -1))\n",
    "X_test_origin = X_test.reshape((X_test.shape[0], -1))\n",
    "X_train_enc = np.hstack((X_train_origin, X_train_enc))\n",
    "X_test_enc = np.hstack((X_test_origin, X_test_enc))"
   ]
  },
  {
   "cell_type": "code",
   "execution_count": 11,
   "metadata": {},
   "outputs": [
    {
     "name": "stderr",
     "output_type": "stream",
     "text": [
      "[ 2018-04-25 01:04:53,902][cascade_classifier.fit_transform] X_groups_train.shape=[(2306, 23)],y_train.shape=(2306,),X_groups_test.shape=[(1137, 23)],y_test.shape=(1137,)\n",
      "[ 2018-04-25 01:04:53,905][cascade_classifier.fit_transform] group_dims=[23]\n",
      "[ 2018-04-25 01:04:53,907][cascade_classifier.fit_transform] group_starts=[0]\n",
      "[ 2018-04-25 01:04:53,909][cascade_classifier.fit_transform] group_ends=[23]\n",
      "[ 2018-04-25 01:04:53,911][cascade_classifier.fit_transform] X_train.shape=(2306, 23),X_test.shape=(1137, 23)\n",
      "[ 2018-04-25 01:04:53,914][cascade_classifier.fit_transform] [layer=0] look_indexs=[0], X_cur_train.shape=(2306, 23), X_cur_test.shape=(1137, 23)\n",
      "[ 2018-04-25 01:04:54,562][kfold_wrapper.log_eval_metrics] Accuracy(layer_0 - estimator_0 - 10_folds.train_0.predict)=97.84%\n",
      "[ 2018-04-25 01:04:55,331][kfold_wrapper.log_eval_metrics] Accuracy(layer_0 - estimator_0 - 10_folds.train_1.predict)=97.84%\n",
      "[ 2018-04-25 01:04:56,086][kfold_wrapper.log_eval_metrics] Accuracy(layer_0 - estimator_0 - 10_folds.train_2.predict)=98.27%\n",
      "[ 2018-04-25 01:04:56,891][kfold_wrapper.log_eval_metrics] Accuracy(layer_0 - estimator_0 - 10_folds.train_3.predict)=96.97%\n",
      "[ 2018-04-25 01:04:57,652][kfold_wrapper.log_eval_metrics] Accuracy(layer_0 - estimator_0 - 10_folds.train_4.predict)=98.27%\n",
      "[ 2018-04-25 01:04:58,497][kfold_wrapper.log_eval_metrics] Accuracy(layer_0 - estimator_0 - 10_folds.train_5.predict)=97.84%\n",
      "[ 2018-04-25 01:04:59,258][kfold_wrapper.log_eval_metrics] Accuracy(layer_0 - estimator_0 - 10_folds.train_6.predict)=97.84%\n",
      "[ 2018-04-25 01:05:00,242][kfold_wrapper.log_eval_metrics] Accuracy(layer_0 - estimator_0 - 10_folds.train_7.predict)=98.70%\n",
      "[ 2018-04-25 01:05:01,012][kfold_wrapper.log_eval_metrics] Accuracy(layer_0 - estimator_0 - 10_folds.train_8.predict)=98.26%\n",
      "[ 2018-04-25 01:05:01,835][kfold_wrapper.log_eval_metrics] Accuracy(layer_0 - estimator_0 - 10_folds.train_9.predict)=97.82%\n",
      "[ 2018-04-25 01:05:01,980][kfold_wrapper.log_eval_metrics] Accuracy(layer_0 - estimator_0 - 10_folds.train_cv.predict)=97.96%\n",
      "[ 2018-04-25 01:05:01,982][kfold_wrapper.log_eval_metrics] Accuracy(layer_0 - estimator_0 - 10_folds.test.predict)=97.80%\n",
      "[ 2018-04-25 01:05:01,990][cascade_classifier.calc_accuracy] Accuracy(layer_0 - train.classifier_average)=97.96%\n",
      "[ 2018-04-25 01:05:01,992][cascade_classifier.calc_accuracy] Accuracy(layer_0 - test.classifier_average)=97.80%\n",
      "[ 2018-04-25 01:05:01,994][cascade_classifier.fit_transform] [Result][Reach Max Layer] opt_layer_num=1, accuracy_train=97.96%, accuracy_test=97.80%\n"
     ]
    }
   ],
   "source": [
    "X_train=X_train_enc\n",
    "X_test=X_test_enc \n",
    "X_train_enc, X_test_enc = gc.fit_transform(X_train, y_train, X_test=X_test, y_test=y_test)"
   ]
  },
  {
   "cell_type": "code",
   "execution_count": 12,
   "metadata": {},
   "outputs": [
    {
     "name": "stderr",
     "output_type": "stream",
     "text": [
      "[ 2018-04-25 01:05:02,004][cascade_classifier.transform] X_groups_test.shape=[(1137, 23)]\n",
      "[ 2018-04-25 01:05:02,007][cascade_classifier.transform] group_dims=[23]\n",
      "[ 2018-04-25 01:05:02,008][cascade_classifier.transform] X_test.shape=(1137, 23)\n",
      "[ 2018-04-25 01:05:02,010][cascade_classifier.transform] [layer=0] look_indexs=[0], X_cur_test.shape=(1137, 23)\n"
     ]
    },
    {
     "name": "stdout",
     "output_type": "stream",
     "text": [
      "Test Accuracy of ExtraTrees = 97.801231 %\n"
     ]
    }
   ],
   "source": [
    "# predict  data + Es\n",
    "y_pred = gc.predict(X_test)\n",
    "acc = accuracy_score(y_test, y_pred)\n",
    "print(\"Test Accuracy of ExtraTrees = {:.6f} %\".format(acc * 100))"
   ]
  },
  {
   "cell_type": "code",
   "execution_count": 13,
   "metadata": {
    "collapsed": true
   },
   "outputs": [],
   "source": [
    "def update(X_train,X_test):\n",
    "    # update Estimators\n",
    "    M = np.delete(X_train, (-1), axis=1)\n",
    "    X_train= np.delete(M, (-1), axis=1)\n",
    "    M = np.delete(X_test, (-1), axis=1)\n",
    "    X_test = np.delete(M, (-1), axis=1)\n",
    "    return X_train,X_test\n",
    "\n",
    "def newdata(X_test_enc, X_train_enc):\n",
    "    # Make Data + Estimators\n",
    "    X_train_origin = X_train.reshape((X_train.shape[0], -1))\n",
    "    X_test_origin = X_test.reshape((X_test.shape[0], -1))\n",
    "    X_train_enc = np.hstack((X_train_origin, X_train_enc))\n",
    "    X_test_enc = np.hstack((X_test_origin, X_test_enc))\n",
    "    return X_test_enc, X_train_enc\n",
    "\n",
    "def affiche():\n",
    "    # predict\n",
    "    y_pred = gc.predict(X_test)\n",
    "    acc = accuracy_score(y_test, y_pred)\n",
    "    print(\"Test Accuracy of ExtraTrees = {:.6f} %\".format(acc * 100),i,'fois')"
   ]
  },
  {
   "cell_type": "code",
   "execution_count": 14,
   "metadata": {},
   "outputs": [
    {
     "name": "stderr",
     "output_type": "stream",
     "text": [
      "[ 2018-04-25 01:05:03,555][cascade_classifier.fit_transform] X_groups_train.shape=[(2306, 23)],y_train.shape=(2306,),X_groups_test.shape=[(1137, 23)],y_test.shape=(1137,)\n",
      "[ 2018-04-25 01:05:03,557][cascade_classifier.fit_transform] group_dims=[23]\n",
      "[ 2018-04-25 01:05:03,559][cascade_classifier.fit_transform] group_starts=[0]\n",
      "[ 2018-04-25 01:05:03,560][cascade_classifier.fit_transform] group_ends=[23]\n",
      "[ 2018-04-25 01:05:03,562][cascade_classifier.fit_transform] X_train.shape=(2306, 23),X_test.shape=(1137, 23)\n",
      "[ 2018-04-25 01:05:03,564][cascade_classifier.fit_transform] [layer=0] look_indexs=[0], X_cur_train.shape=(2306, 23), X_cur_test.shape=(1137, 23)\n",
      "[ 2018-04-25 01:05:04,203][kfold_wrapper.log_eval_metrics] Accuracy(layer_0 - estimator_0 - 10_folds.train_0.predict)=97.84%\n",
      "[ 2018-04-25 01:05:04,964][kfold_wrapper.log_eval_metrics] Accuracy(layer_0 - estimator_0 - 10_folds.train_1.predict)=97.84%\n",
      "[ 2018-04-25 01:05:05,780][kfold_wrapper.log_eval_metrics] Accuracy(layer_0 - estimator_0 - 10_folds.train_2.predict)=98.27%\n",
      "[ 2018-04-25 01:05:06,610][kfold_wrapper.log_eval_metrics] Accuracy(layer_0 - estimator_0 - 10_folds.train_3.predict)=96.97%\n",
      "[ 2018-04-25 01:05:07,412][kfold_wrapper.log_eval_metrics] Accuracy(layer_0 - estimator_0 - 10_folds.train_4.predict)=98.70%\n",
      "[ 2018-04-25 01:05:08,177][kfold_wrapper.log_eval_metrics] Accuracy(layer_0 - estimator_0 - 10_folds.train_5.predict)=97.84%\n",
      "[ 2018-04-25 01:05:08,956][kfold_wrapper.log_eval_metrics] Accuracy(layer_0 - estimator_0 - 10_folds.train_6.predict)=97.84%\n",
      "[ 2018-04-25 01:05:09,827][kfold_wrapper.log_eval_metrics] Accuracy(layer_0 - estimator_0 - 10_folds.train_7.predict)=99.13%\n",
      "[ 2018-04-25 01:05:10,609][kfold_wrapper.log_eval_metrics] Accuracy(layer_0 - estimator_0 - 10_folds.train_8.predict)=97.83%\n",
      "[ 2018-04-25 01:05:11,458][kfold_wrapper.log_eval_metrics] Accuracy(layer_0 - estimator_0 - 10_folds.train_9.predict)=97.82%\n",
      "[ 2018-04-25 01:05:11,608][kfold_wrapper.log_eval_metrics] Accuracy(layer_0 - estimator_0 - 10_folds.train_cv.predict)=98.01%\n",
      "[ 2018-04-25 01:05:11,610][kfold_wrapper.log_eval_metrics] Accuracy(layer_0 - estimator_0 - 10_folds.test.predict)=97.98%\n",
      "[ 2018-04-25 01:05:11,618][cascade_classifier.calc_accuracy] Accuracy(layer_0 - train.classifier_average)=98.01%\n",
      "[ 2018-04-25 01:05:11,620][cascade_classifier.calc_accuracy] Accuracy(layer_0 - test.classifier_average)=97.98%\n",
      "[ 2018-04-25 01:05:11,621][cascade_classifier.fit_transform] [Result][Reach Max Layer] opt_layer_num=1, accuracy_train=98.01%, accuracy_test=97.98%\n",
      "[ 2018-04-25 01:05:11,623][cascade_classifier.transform] X_groups_test.shape=[(1137, 23)]\n",
      "[ 2018-04-25 01:05:11,625][cascade_classifier.transform] group_dims=[23]\n",
      "[ 2018-04-25 01:05:11,626][cascade_classifier.transform] X_test.shape=(1137, 23)\n",
      "[ 2018-04-25 01:05:11,628][cascade_classifier.transform] [layer=0] look_indexs=[0], X_cur_test.shape=(1137, 23)\n",
      "[ 2018-04-25 01:05:13,118][cascade_classifier.fit_transform] X_groups_train.shape=[(2306, 23)],y_train.shape=(2306,),X_groups_test.shape=[(1137, 23)],y_test.shape=(1137,)\n",
      "[ 2018-04-25 01:05:13,121][cascade_classifier.fit_transform] group_dims=[23]\n",
      "[ 2018-04-25 01:05:13,122][cascade_classifier.fit_transform] group_starts=[0]\n",
      "[ 2018-04-25 01:05:13,124][cascade_classifier.fit_transform] group_ends=[23]\n",
      "[ 2018-04-25 01:05:13,125][cascade_classifier.fit_transform] X_train.shape=(2306, 23),X_test.shape=(1137, 23)\n",
      "[ 2018-04-25 01:05:13,127][cascade_classifier.fit_transform] [layer=0] look_indexs=[0], X_cur_train.shape=(2306, 23), X_cur_test.shape=(1137, 23)\n"
     ]
    },
    {
     "name": "stdout",
     "output_type": "stream",
     "text": [
      "('Test Accuracy of ExtraTrees = 97.977133 %', 0, 'fois')\n"
     ]
    },
    {
     "name": "stderr",
     "output_type": "stream",
     "text": [
      "[ 2018-04-25 01:05:13,789][kfold_wrapper.log_eval_metrics] Accuracy(layer_0 - estimator_0 - 10_folds.train_0.predict)=97.84%\n",
      "[ 2018-04-25 01:05:14,550][kfold_wrapper.log_eval_metrics] Accuracy(layer_0 - estimator_0 - 10_folds.train_1.predict)=97.84%\n",
      "[ 2018-04-25 01:05:15,376][kfold_wrapper.log_eval_metrics] Accuracy(layer_0 - estimator_0 - 10_folds.train_2.predict)=98.27%\n",
      "[ 2018-04-25 01:05:16,167][kfold_wrapper.log_eval_metrics] Accuracy(layer_0 - estimator_0 - 10_folds.train_3.predict)=96.97%\n",
      "[ 2018-04-25 01:05:16,931][kfold_wrapper.log_eval_metrics] Accuracy(layer_0 - estimator_0 - 10_folds.train_4.predict)=98.27%\n",
      "[ 2018-04-25 01:05:17,782][kfold_wrapper.log_eval_metrics] Accuracy(layer_0 - estimator_0 - 10_folds.train_5.predict)=97.84%\n",
      "[ 2018-04-25 01:05:18,564][kfold_wrapper.log_eval_metrics] Accuracy(layer_0 - estimator_0 - 10_folds.train_6.predict)=97.84%\n",
      "[ 2018-04-25 01:05:19,370][kfold_wrapper.log_eval_metrics] Accuracy(layer_0 - estimator_0 - 10_folds.train_7.predict)=99.13%\n",
      "[ 2018-04-25 01:05:20,129][kfold_wrapper.log_eval_metrics] Accuracy(layer_0 - estimator_0 - 10_folds.train_8.predict)=97.83%\n",
      "[ 2018-04-25 01:05:20,980][kfold_wrapper.log_eval_metrics] Accuracy(layer_0 - estimator_0 - 10_folds.train_9.predict)=97.82%\n",
      "[ 2018-04-25 01:05:21,134][kfold_wrapper.log_eval_metrics] Accuracy(layer_0 - estimator_0 - 10_folds.train_cv.predict)=97.96%\n",
      "[ 2018-04-25 01:05:21,136][kfold_wrapper.log_eval_metrics] Accuracy(layer_0 - estimator_0 - 10_folds.test.predict)=97.98%\n",
      "[ 2018-04-25 01:05:21,145][cascade_classifier.calc_accuracy] Accuracy(layer_0 - train.classifier_average)=97.96%\n",
      "[ 2018-04-25 01:05:21,147][cascade_classifier.calc_accuracy] Accuracy(layer_0 - test.classifier_average)=97.98%\n",
      "[ 2018-04-25 01:05:21,148][cascade_classifier.fit_transform] [Result][Reach Max Layer] opt_layer_num=1, accuracy_train=97.96%, accuracy_test=97.98%\n",
      "[ 2018-04-25 01:05:21,150][cascade_classifier.transform] X_groups_test.shape=[(1137, 23)]\n",
      "[ 2018-04-25 01:05:21,152][cascade_classifier.transform] group_dims=[23]\n",
      "[ 2018-04-25 01:05:21,153][cascade_classifier.transform] X_test.shape=(1137, 23)\n",
      "[ 2018-04-25 01:05:21,154][cascade_classifier.transform] [layer=0] look_indexs=[0], X_cur_test.shape=(1137, 23)\n",
      "[ 2018-04-25 01:05:22,754][cascade_classifier.fit_transform] X_groups_train.shape=[(2306, 23)],y_train.shape=(2306,),X_groups_test.shape=[(1137, 23)],y_test.shape=(1137,)\n",
      "[ 2018-04-25 01:05:22,757][cascade_classifier.fit_transform] group_dims=[23]\n",
      "[ 2018-04-25 01:05:22,758][cascade_classifier.fit_transform] group_starts=[0]\n",
      "[ 2018-04-25 01:05:22,760][cascade_classifier.fit_transform] group_ends=[23]\n",
      "[ 2018-04-25 01:05:22,762][cascade_classifier.fit_transform] X_train.shape=(2306, 23),X_test.shape=(1137, 23)\n",
      "[ 2018-04-25 01:05:22,764][cascade_classifier.fit_transform] [layer=0] look_indexs=[0], X_cur_train.shape=(2306, 23), X_cur_test.shape=(1137, 23)\n"
     ]
    },
    {
     "name": "stdout",
     "output_type": "stream",
     "text": [
      "('Test Accuracy of ExtraTrees = 97.977133 %', 1, 'fois')\n"
     ]
    },
    {
     "name": "stderr",
     "output_type": "stream",
     "text": [
      "[ 2018-04-25 01:05:23,416][kfold_wrapper.log_eval_metrics] Accuracy(layer_0 - estimator_0 - 10_folds.train_0.predict)=97.84%\n",
      "[ 2018-04-25 01:05:24,179][kfold_wrapper.log_eval_metrics] Accuracy(layer_0 - estimator_0 - 10_folds.train_1.predict)=97.84%\n",
      "[ 2018-04-25 01:05:24,942][kfold_wrapper.log_eval_metrics] Accuracy(layer_0 - estimator_0 - 10_folds.train_2.predict)=98.27%\n",
      "[ 2018-04-25 01:05:25,753][kfold_wrapper.log_eval_metrics] Accuracy(layer_0 - estimator_0 - 10_folds.train_3.predict)=96.97%\n",
      "[ 2018-04-25 01:05:26,530][kfold_wrapper.log_eval_metrics] Accuracy(layer_0 - estimator_0 - 10_folds.train_4.predict)=98.27%\n",
      "[ 2018-04-25 01:05:27,283][kfold_wrapper.log_eval_metrics] Accuracy(layer_0 - estimator_0 - 10_folds.train_5.predict)=97.84%\n",
      "[ 2018-04-25 01:05:28,049][kfold_wrapper.log_eval_metrics] Accuracy(layer_0 - estimator_0 - 10_folds.train_6.predict)=98.27%\n",
      "[ 2018-04-25 01:05:28,805][kfold_wrapper.log_eval_metrics] Accuracy(layer_0 - estimator_0 - 10_folds.train_7.predict)=99.13%\n",
      "[ 2018-04-25 01:05:29,591][kfold_wrapper.log_eval_metrics] Accuracy(layer_0 - estimator_0 - 10_folds.train_8.predict)=97.39%\n",
      "[ 2018-04-25 01:05:30,375][kfold_wrapper.log_eval_metrics] Accuracy(layer_0 - estimator_0 - 10_folds.train_9.predict)=97.82%\n",
      "[ 2018-04-25 01:05:30,526][kfold_wrapper.log_eval_metrics] Accuracy(layer_0 - estimator_0 - 10_folds.train_cv.predict)=97.96%\n",
      "[ 2018-04-25 01:05:30,528][kfold_wrapper.log_eval_metrics] Accuracy(layer_0 - estimator_0 - 10_folds.test.predict)=97.98%\n",
      "[ 2018-04-25 01:05:30,533][cascade_classifier.calc_accuracy] Accuracy(layer_0 - train.classifier_average)=97.96%\n",
      "[ 2018-04-25 01:05:30,535][cascade_classifier.calc_accuracy] Accuracy(layer_0 - test.classifier_average)=97.98%\n",
      "[ 2018-04-25 01:05:30,537][cascade_classifier.fit_transform] [Result][Reach Max Layer] opt_layer_num=1, accuracy_train=97.96%, accuracy_test=97.98%\n",
      "[ 2018-04-25 01:05:30,538][cascade_classifier.transform] X_groups_test.shape=[(1137, 23)]\n",
      "[ 2018-04-25 01:05:30,540][cascade_classifier.transform] group_dims=[23]\n",
      "[ 2018-04-25 01:05:30,542][cascade_classifier.transform] X_test.shape=(1137, 23)\n",
      "[ 2018-04-25 01:05:30,544][cascade_classifier.transform] [layer=0] look_indexs=[0], X_cur_test.shape=(1137, 23)\n",
      "[ 2018-04-25 01:05:31,986][cascade_classifier.fit_transform] X_groups_train.shape=[(2306, 23)],y_train.shape=(2306,),X_groups_test.shape=[(1137, 23)],y_test.shape=(1137,)\n",
      "[ 2018-04-25 01:05:31,988][cascade_classifier.fit_transform] group_dims=[23]\n",
      "[ 2018-04-25 01:05:31,990][cascade_classifier.fit_transform] group_starts=[0]\n",
      "[ 2018-04-25 01:05:31,991][cascade_classifier.fit_transform] group_ends=[23]\n",
      "[ 2018-04-25 01:05:32,037][cascade_classifier.fit_transform] X_train.shape=(2306, 23),X_test.shape=(1137, 23)\n",
      "[ 2018-04-25 01:05:32,039][cascade_classifier.fit_transform] [layer=0] look_indexs=[0], X_cur_train.shape=(2306, 23), X_cur_test.shape=(1137, 23)\n"
     ]
    },
    {
     "name": "stdout",
     "output_type": "stream",
     "text": [
      "('Test Accuracy of ExtraTrees = 97.977133 %', 2, 'fois')\n"
     ]
    },
    {
     "name": "stderr",
     "output_type": "stream",
     "text": [
      "[ 2018-04-25 01:05:32,687][kfold_wrapper.log_eval_metrics] Accuracy(layer_0 - estimator_0 - 10_folds.train_0.predict)=97.40%\n",
      "[ 2018-04-25 01:05:33,462][kfold_wrapper.log_eval_metrics] Accuracy(layer_0 - estimator_0 - 10_folds.train_1.predict)=97.84%\n",
      "[ 2018-04-25 01:05:34,237][kfold_wrapper.log_eval_metrics] Accuracy(layer_0 - estimator_0 - 10_folds.train_2.predict)=97.84%\n",
      "[ 2018-04-25 01:05:35,032][kfold_wrapper.log_eval_metrics] Accuracy(layer_0 - estimator_0 - 10_folds.train_3.predict)=96.97%\n",
      "[ 2018-04-25 01:05:35,810][kfold_wrapper.log_eval_metrics] Accuracy(layer_0 - estimator_0 - 10_folds.train_4.predict)=97.84%\n",
      "[ 2018-04-25 01:05:36,610][kfold_wrapper.log_eval_metrics] Accuracy(layer_0 - estimator_0 - 10_folds.train_5.predict)=97.84%\n",
      "[ 2018-04-25 01:05:37,372][kfold_wrapper.log_eval_metrics] Accuracy(layer_0 - estimator_0 - 10_folds.train_6.predict)=98.27%\n",
      "[ 2018-04-25 01:05:38,232][kfold_wrapper.log_eval_metrics] Accuracy(layer_0 - estimator_0 - 10_folds.train_7.predict)=99.13%\n",
      "[ 2018-04-25 01:05:39,051][kfold_wrapper.log_eval_metrics] Accuracy(layer_0 - estimator_0 - 10_folds.train_8.predict)=97.39%\n",
      "[ 2018-04-25 01:05:39,830][kfold_wrapper.log_eval_metrics] Accuracy(layer_0 - estimator_0 - 10_folds.train_9.predict)=98.25%\n",
      "[ 2018-04-25 01:05:39,972][kfold_wrapper.log_eval_metrics] Accuracy(layer_0 - estimator_0 - 10_folds.train_cv.predict)=97.88%\n",
      "[ 2018-04-25 01:05:39,973][kfold_wrapper.log_eval_metrics] Accuracy(layer_0 - estimator_0 - 10_folds.test.predict)=98.07%\n",
      "[ 2018-04-25 01:05:39,978][cascade_classifier.calc_accuracy] Accuracy(layer_0 - train.classifier_average)=97.88%\n",
      "[ 2018-04-25 01:05:39,980][cascade_classifier.calc_accuracy] Accuracy(layer_0 - test.classifier_average)=98.07%\n",
      "[ 2018-04-25 01:05:39,981][cascade_classifier.fit_transform] [Result][Reach Max Layer] opt_layer_num=1, accuracy_train=97.88%, accuracy_test=98.07%\n",
      "[ 2018-04-25 01:05:39,983][cascade_classifier.transform] X_groups_test.shape=[(1137, 23)]\n",
      "[ 2018-04-25 01:05:39,985][cascade_classifier.transform] group_dims=[23]\n",
      "[ 2018-04-25 01:05:39,986][cascade_classifier.transform] X_test.shape=(1137, 23)\n",
      "[ 2018-04-25 01:05:39,988][cascade_classifier.transform] [layer=0] look_indexs=[0], X_cur_test.shape=(1137, 23)\n",
      "[ 2018-04-25 01:05:41,404][cascade_classifier.fit_transform] X_groups_train.shape=[(2306, 23)],y_train.shape=(2306,),X_groups_test.shape=[(1137, 23)],y_test.shape=(1137,)\n",
      "[ 2018-04-25 01:05:41,406][cascade_classifier.fit_transform] group_dims=[23]\n",
      "[ 2018-04-25 01:05:41,408][cascade_classifier.fit_transform] group_starts=[0]\n",
      "[ 2018-04-25 01:05:41,409][cascade_classifier.fit_transform] group_ends=[23]\n",
      "[ 2018-04-25 01:05:41,411][cascade_classifier.fit_transform] X_train.shape=(2306, 23),X_test.shape=(1137, 23)\n",
      "[ 2018-04-25 01:05:41,413][cascade_classifier.fit_transform] [layer=0] look_indexs=[0], X_cur_train.shape=(2306, 23), X_cur_test.shape=(1137, 23)\n"
     ]
    },
    {
     "name": "stdout",
     "output_type": "stream",
     "text": [
      "('Test Accuracy of ExtraTrees = 98.065084 %', 3, 'fois')\n"
     ]
    },
    {
     "name": "stderr",
     "output_type": "stream",
     "text": [
      "[ 2018-04-25 01:05:42,051][kfold_wrapper.log_eval_metrics] Accuracy(layer_0 - estimator_0 - 10_folds.train_0.predict)=97.84%\n",
      "[ 2018-04-25 01:05:42,834][kfold_wrapper.log_eval_metrics] Accuracy(layer_0 - estimator_0 - 10_folds.train_1.predict)=97.40%\n",
      "[ 2018-04-25 01:05:43,695][kfold_wrapper.log_eval_metrics] Accuracy(layer_0 - estimator_0 - 10_folds.train_2.predict)=97.40%\n",
      "[ 2018-04-25 01:05:44,497][kfold_wrapper.log_eval_metrics] Accuracy(layer_0 - estimator_0 - 10_folds.train_3.predict)=96.97%\n",
      "[ 2018-04-25 01:05:45,305][kfold_wrapper.log_eval_metrics] Accuracy(layer_0 - estimator_0 - 10_folds.train_4.predict)=97.84%\n",
      "[ 2018-04-25 01:05:46,070][kfold_wrapper.log_eval_metrics] Accuracy(layer_0 - estimator_0 - 10_folds.train_5.predict)=97.84%\n",
      "[ 2018-04-25 01:05:46,869][kfold_wrapper.log_eval_metrics] Accuracy(layer_0 - estimator_0 - 10_folds.train_6.predict)=97.84%\n",
      "[ 2018-04-25 01:05:47,613][kfold_wrapper.log_eval_metrics] Accuracy(layer_0 - estimator_0 - 10_folds.train_7.predict)=98.70%\n",
      "[ 2018-04-25 01:05:48,402][kfold_wrapper.log_eval_metrics] Accuracy(layer_0 - estimator_0 - 10_folds.train_8.predict)=97.83%\n",
      "[ 2018-04-25 01:05:49,195][kfold_wrapper.log_eval_metrics] Accuracy(layer_0 - estimator_0 - 10_folds.train_9.predict)=98.25%\n",
      "[ 2018-04-25 01:05:49,341][kfold_wrapper.log_eval_metrics] Accuracy(layer_0 - estimator_0 - 10_folds.train_cv.predict)=97.79%\n",
      "[ 2018-04-25 01:05:49,343][kfold_wrapper.log_eval_metrics] Accuracy(layer_0 - estimator_0 - 10_folds.test.predict)=98.07%\n",
      "[ 2018-04-25 01:05:49,348][cascade_classifier.calc_accuracy] Accuracy(layer_0 - train.classifier_average)=97.79%\n",
      "[ 2018-04-25 01:05:49,350][cascade_classifier.calc_accuracy] Accuracy(layer_0 - test.classifier_average)=98.07%\n",
      "[ 2018-04-25 01:05:49,351][cascade_classifier.fit_transform] [Result][Reach Max Layer] opt_layer_num=1, accuracy_train=97.79%, accuracy_test=98.07%\n",
      "[ 2018-04-25 01:05:49,353][cascade_classifier.transform] X_groups_test.shape=[(1137, 23)]\n",
      "[ 2018-04-25 01:05:49,354][cascade_classifier.transform] group_dims=[23]\n",
      "[ 2018-04-25 01:05:49,356][cascade_classifier.transform] X_test.shape=(1137, 23)\n",
      "[ 2018-04-25 01:05:49,357][cascade_classifier.transform] [layer=0] look_indexs=[0], X_cur_test.shape=(1137, 23)\n",
      "[ 2018-04-25 01:05:50,813][cascade_classifier.fit_transform] X_groups_train.shape=[(2306, 23)],y_train.shape=(2306,),X_groups_test.shape=[(1137, 23)],y_test.shape=(1137,)\n",
      "[ 2018-04-25 01:05:50,815][cascade_classifier.fit_transform] group_dims=[23]\n",
      "[ 2018-04-25 01:05:50,817][cascade_classifier.fit_transform] group_starts=[0]\n",
      "[ 2018-04-25 01:05:50,818][cascade_classifier.fit_transform] group_ends=[23]\n",
      "[ 2018-04-25 01:05:50,820][cascade_classifier.fit_transform] X_train.shape=(2306, 23),X_test.shape=(1137, 23)\n",
      "[ 2018-04-25 01:05:50,822][cascade_classifier.fit_transform] [layer=0] look_indexs=[0], X_cur_train.shape=(2306, 23), X_cur_test.shape=(1137, 23)\n"
     ]
    },
    {
     "name": "stdout",
     "output_type": "stream",
     "text": [
      "('Test Accuracy of ExtraTrees = 98.065084 %', 4, 'fois')\n"
     ]
    },
    {
     "name": "stderr",
     "output_type": "stream",
     "text": [
      "[ 2018-04-25 01:05:51,429][kfold_wrapper.log_eval_metrics] Accuracy(layer_0 - estimator_0 - 10_folds.train_0.predict)=97.84%\n",
      "[ 2018-04-25 01:05:52,191][kfold_wrapper.log_eval_metrics] Accuracy(layer_0 - estimator_0 - 10_folds.train_1.predict)=96.54%\n",
      "[ 2018-04-25 01:05:52,982][kfold_wrapper.log_eval_metrics] Accuracy(layer_0 - estimator_0 - 10_folds.train_2.predict)=97.84%\n",
      "[ 2018-04-25 01:05:53,773][kfold_wrapper.log_eval_metrics] Accuracy(layer_0 - estimator_0 - 10_folds.train_3.predict)=96.97%\n",
      "[ 2018-04-25 01:05:54,562][kfold_wrapper.log_eval_metrics] Accuracy(layer_0 - estimator_0 - 10_folds.train_4.predict)=97.84%\n",
      "[ 2018-04-25 01:05:55,381][kfold_wrapper.log_eval_metrics] Accuracy(layer_0 - estimator_0 - 10_folds.train_5.predict)=97.84%\n",
      "[ 2018-04-25 01:05:56,165][kfold_wrapper.log_eval_metrics] Accuracy(layer_0 - estimator_0 - 10_folds.train_6.predict)=97.84%\n",
      "[ 2018-04-25 01:05:56,951][kfold_wrapper.log_eval_metrics] Accuracy(layer_0 - estimator_0 - 10_folds.train_7.predict)=99.13%\n",
      "[ 2018-04-25 01:05:57,723][kfold_wrapper.log_eval_metrics] Accuracy(layer_0 - estimator_0 - 10_folds.train_8.predict)=97.39%\n",
      "[ 2018-04-25 01:05:58,502][kfold_wrapper.log_eval_metrics] Accuracy(layer_0 - estimator_0 - 10_folds.train_9.predict)=98.25%\n",
      "[ 2018-04-25 01:05:58,651][kfold_wrapper.log_eval_metrics] Accuracy(layer_0 - estimator_0 - 10_folds.train_cv.predict)=97.75%\n",
      "[ 2018-04-25 01:05:58,653][kfold_wrapper.log_eval_metrics] Accuracy(layer_0 - estimator_0 - 10_folds.test.predict)=98.07%\n",
      "[ 2018-04-25 01:05:58,658][cascade_classifier.calc_accuracy] Accuracy(layer_0 - train.classifier_average)=97.75%\n",
      "[ 2018-04-25 01:05:58,661][cascade_classifier.calc_accuracy] Accuracy(layer_0 - test.classifier_average)=98.07%\n",
      "[ 2018-04-25 01:05:58,662][cascade_classifier.fit_transform] [Result][Reach Max Layer] opt_layer_num=1, accuracy_train=97.75%, accuracy_test=98.07%\n",
      "[ 2018-04-25 01:05:58,664][cascade_classifier.transform] X_groups_test.shape=[(1137, 23)]\n",
      "[ 2018-04-25 01:05:58,666][cascade_classifier.transform] group_dims=[23]\n",
      "[ 2018-04-25 01:05:58,668][cascade_classifier.transform] X_test.shape=(1137, 23)\n",
      "[ 2018-04-25 01:05:58,669][cascade_classifier.transform] [layer=0] look_indexs=[0], X_cur_test.shape=(1137, 23)\n",
      "[ 2018-04-25 01:06:00,085][cascade_classifier.fit_transform] X_groups_train.shape=[(2306, 23)],y_train.shape=(2306,),X_groups_test.shape=[(1137, 23)],y_test.shape=(1137,)\n",
      "[ 2018-04-25 01:06:00,087][cascade_classifier.fit_transform] group_dims=[23]\n",
      "[ 2018-04-25 01:06:00,089][cascade_classifier.fit_transform] group_starts=[0]\n",
      "[ 2018-04-25 01:06:00,090][cascade_classifier.fit_transform] group_ends=[23]\n",
      "[ 2018-04-25 01:06:00,092][cascade_classifier.fit_transform] X_train.shape=(2306, 23),X_test.shape=(1137, 23)\n",
      "[ 2018-04-25 01:06:00,094][cascade_classifier.fit_transform] [layer=0] look_indexs=[0], X_cur_train.shape=(2306, 23), X_cur_test.shape=(1137, 23)\n"
     ]
    },
    {
     "name": "stdout",
     "output_type": "stream",
     "text": [
      "('Test Accuracy of ExtraTrees = 98.065084 %', 5, 'fois')\n"
     ]
    },
    {
     "name": "stderr",
     "output_type": "stream",
     "text": [
      "[ 2018-04-25 01:06:00,702][kfold_wrapper.log_eval_metrics] Accuracy(layer_0 - estimator_0 - 10_folds.train_0.predict)=97.84%\n",
      "[ 2018-04-25 01:06:01,578][kfold_wrapper.log_eval_metrics] Accuracy(layer_0 - estimator_0 - 10_folds.train_1.predict)=96.54%\n",
      "[ 2018-04-25 01:06:02,292][kfold_wrapper.log_eval_metrics] Accuracy(layer_0 - estimator_0 - 10_folds.train_2.predict)=98.27%\n",
      "[ 2018-04-25 01:06:03,072][kfold_wrapper.log_eval_metrics] Accuracy(layer_0 - estimator_0 - 10_folds.train_3.predict)=96.97%\n",
      "[ 2018-04-25 01:06:03,869][kfold_wrapper.log_eval_metrics] Accuracy(layer_0 - estimator_0 - 10_folds.train_4.predict)=97.84%\n",
      "[ 2018-04-25 01:06:04,656][kfold_wrapper.log_eval_metrics] Accuracy(layer_0 - estimator_0 - 10_folds.train_5.predict)=97.84%\n",
      "[ 2018-04-25 01:06:05,425][kfold_wrapper.log_eval_metrics] Accuracy(layer_0 - estimator_0 - 10_folds.train_6.predict)=97.84%\n",
      "[ 2018-04-25 01:06:06,205][kfold_wrapper.log_eval_metrics] Accuracy(layer_0 - estimator_0 - 10_folds.train_7.predict)=98.70%\n",
      "[ 2018-04-25 01:06:07,009][kfold_wrapper.log_eval_metrics] Accuracy(layer_0 - estimator_0 - 10_folds.train_8.predict)=97.83%\n",
      "[ 2018-04-25 01:06:07,880][kfold_wrapper.log_eval_metrics] Accuracy(layer_0 - estimator_0 - 10_folds.train_9.predict)=98.25%\n",
      "[ 2018-04-25 01:06:08,019][kfold_wrapper.log_eval_metrics] Accuracy(layer_0 - estimator_0 - 10_folds.train_cv.predict)=97.79%\n",
      "[ 2018-04-25 01:06:08,021][kfold_wrapper.log_eval_metrics] Accuracy(layer_0 - estimator_0 - 10_folds.test.predict)=98.07%\n",
      "[ 2018-04-25 01:06:08,026][cascade_classifier.calc_accuracy] Accuracy(layer_0 - train.classifier_average)=97.79%\n",
      "[ 2018-04-25 01:06:08,028][cascade_classifier.calc_accuracy] Accuracy(layer_0 - test.classifier_average)=98.07%\n",
      "[ 2018-04-25 01:06:08,029][cascade_classifier.fit_transform] [Result][Reach Max Layer] opt_layer_num=1, accuracy_train=97.79%, accuracy_test=98.07%\n",
      "[ 2018-04-25 01:06:08,031][cascade_classifier.transform] X_groups_test.shape=[(1137, 23)]\n",
      "[ 2018-04-25 01:06:08,033][cascade_classifier.transform] group_dims=[23]\n",
      "[ 2018-04-25 01:06:08,035][cascade_classifier.transform] X_test.shape=(1137, 23)\n",
      "[ 2018-04-25 01:06:08,036][cascade_classifier.transform] [layer=0] look_indexs=[0], X_cur_test.shape=(1137, 23)\n",
      "[ 2018-04-25 01:06:09,419][cascade_classifier.fit_transform] X_groups_train.shape=[(2306, 23)],y_train.shape=(2306,),X_groups_test.shape=[(1137, 23)],y_test.shape=(1137,)\n",
      "[ 2018-04-25 01:06:09,421][cascade_classifier.fit_transform] group_dims=[23]\n",
      "[ 2018-04-25 01:06:09,423][cascade_classifier.fit_transform] group_starts=[0]\n",
      "[ 2018-04-25 01:06:09,424][cascade_classifier.fit_transform] group_ends=[23]\n",
      "[ 2018-04-25 01:06:09,426][cascade_classifier.fit_transform] X_train.shape=(2306, 23),X_test.shape=(1137, 23)\n",
      "[ 2018-04-25 01:06:09,428][cascade_classifier.fit_transform] [layer=0] look_indexs=[0], X_cur_train.shape=(2306, 23), X_cur_test.shape=(1137, 23)\n"
     ]
    },
    {
     "name": "stdout",
     "output_type": "stream",
     "text": [
      "('Test Accuracy of ExtraTrees = 98.065084 %', 6, 'fois')\n"
     ]
    },
    {
     "name": "stderr",
     "output_type": "stream",
     "text": [
      "[ 2018-04-25 01:06:10,077][kfold_wrapper.log_eval_metrics] Accuracy(layer_0 - estimator_0 - 10_folds.train_0.predict)=97.84%\n",
      "[ 2018-04-25 01:06:10,766][kfold_wrapper.log_eval_metrics] Accuracy(layer_0 - estimator_0 - 10_folds.train_1.predict)=96.54%\n",
      "[ 2018-04-25 01:06:11,579][kfold_wrapper.log_eval_metrics] Accuracy(layer_0 - estimator_0 - 10_folds.train_2.predict)=98.27%\n",
      "[ 2018-04-25 01:06:12,365][kfold_wrapper.log_eval_metrics] Accuracy(layer_0 - estimator_0 - 10_folds.train_3.predict)=96.97%\n",
      "[ 2018-04-25 01:06:13,118][kfold_wrapper.log_eval_metrics] Accuracy(layer_0 - estimator_0 - 10_folds.train_4.predict)=97.84%\n",
      "[ 2018-04-25 01:06:13,896][kfold_wrapper.log_eval_metrics] Accuracy(layer_0 - estimator_0 - 10_folds.train_5.predict)=97.40%\n",
      "[ 2018-04-25 01:06:14,651][kfold_wrapper.log_eval_metrics] Accuracy(layer_0 - estimator_0 - 10_folds.train_6.predict)=97.84%\n",
      "[ 2018-04-25 01:06:15,445][kfold_wrapper.log_eval_metrics] Accuracy(layer_0 - estimator_0 - 10_folds.train_7.predict)=99.13%\n",
      "[ 2018-04-25 01:06:16,224][kfold_wrapper.log_eval_metrics] Accuracy(layer_0 - estimator_0 - 10_folds.train_8.predict)=97.39%\n",
      "[ 2018-04-25 01:06:17,020][kfold_wrapper.log_eval_metrics] Accuracy(layer_0 - estimator_0 - 10_folds.train_9.predict)=98.25%\n",
      "[ 2018-04-25 01:06:17,159][kfold_wrapper.log_eval_metrics] Accuracy(layer_0 - estimator_0 - 10_folds.train_cv.predict)=97.75%\n",
      "[ 2018-04-25 01:06:17,161][kfold_wrapper.log_eval_metrics] Accuracy(layer_0 - estimator_0 - 10_folds.test.predict)=98.07%\n",
      "[ 2018-04-25 01:06:17,165][cascade_classifier.calc_accuracy] Accuracy(layer_0 - train.classifier_average)=97.75%\n",
      "[ 2018-04-25 01:06:17,167][cascade_classifier.calc_accuracy] Accuracy(layer_0 - test.classifier_average)=98.07%\n",
      "[ 2018-04-25 01:06:17,169][cascade_classifier.fit_transform] [Result][Reach Max Layer] opt_layer_num=1, accuracy_train=97.75%, accuracy_test=98.07%\n",
      "[ 2018-04-25 01:06:17,171][cascade_classifier.transform] X_groups_test.shape=[(1137, 23)]\n",
      "[ 2018-04-25 01:06:17,173][cascade_classifier.transform] group_dims=[23]\n",
      "[ 2018-04-25 01:06:17,175][cascade_classifier.transform] X_test.shape=(1137, 23)\n",
      "[ 2018-04-25 01:06:17,177][cascade_classifier.transform] [layer=0] look_indexs=[0], X_cur_test.shape=(1137, 23)\n",
      "[ 2018-04-25 01:06:18,607][cascade_classifier.fit_transform] X_groups_train.shape=[(2306, 23)],y_train.shape=(2306,),X_groups_test.shape=[(1137, 23)],y_test.shape=(1137,)\n",
      "[ 2018-04-25 01:06:18,609][cascade_classifier.fit_transform] group_dims=[23]\n",
      "[ 2018-04-25 01:06:18,610][cascade_classifier.fit_transform] group_starts=[0]\n",
      "[ 2018-04-25 01:06:18,612][cascade_classifier.fit_transform] group_ends=[23]\n",
      "[ 2018-04-25 01:06:18,614][cascade_classifier.fit_transform] X_train.shape=(2306, 23),X_test.shape=(1137, 23)\n",
      "[ 2018-04-25 01:06:18,615][cascade_classifier.fit_transform] [layer=0] look_indexs=[0], X_cur_train.shape=(2306, 23), X_cur_test.shape=(1137, 23)\n"
     ]
    },
    {
     "name": "stdout",
     "output_type": "stream",
     "text": [
      "('Test Accuracy of ExtraTrees = 98.065084 %', 7, 'fois')\n"
     ]
    },
    {
     "name": "stderr",
     "output_type": "stream",
     "text": [
      "[ 2018-04-25 01:06:19,288][kfold_wrapper.log_eval_metrics] Accuracy(layer_0 - estimator_0 - 10_folds.train_0.predict)=97.40%\n",
      "[ 2018-04-25 01:06:20,038][kfold_wrapper.log_eval_metrics] Accuracy(layer_0 - estimator_0 - 10_folds.train_1.predict)=96.54%\n",
      "[ 2018-04-25 01:06:20,847][kfold_wrapper.log_eval_metrics] Accuracy(layer_0 - estimator_0 - 10_folds.train_2.predict)=97.84%\n",
      "[ 2018-04-25 01:06:21,632][kfold_wrapper.log_eval_metrics] Accuracy(layer_0 - estimator_0 - 10_folds.train_3.predict)=96.97%\n",
      "[ 2018-04-25 01:06:22,410][kfold_wrapper.log_eval_metrics] Accuracy(layer_0 - estimator_0 - 10_folds.train_4.predict)=97.84%\n",
      "[ 2018-04-25 01:06:23,164][kfold_wrapper.log_eval_metrics] Accuracy(layer_0 - estimator_0 - 10_folds.train_5.predict)=97.40%\n",
      "[ 2018-04-25 01:06:23,952][kfold_wrapper.log_eval_metrics] Accuracy(layer_0 - estimator_0 - 10_folds.train_6.predict)=97.84%\n",
      "[ 2018-04-25 01:06:24,715][kfold_wrapper.log_eval_metrics] Accuracy(layer_0 - estimator_0 - 10_folds.train_7.predict)=99.13%\n",
      "[ 2018-04-25 01:06:25,507][kfold_wrapper.log_eval_metrics] Accuracy(layer_0 - estimator_0 - 10_folds.train_8.predict)=97.39%\n",
      "[ 2018-04-25 01:06:26,272][kfold_wrapper.log_eval_metrics] Accuracy(layer_0 - estimator_0 - 10_folds.train_9.predict)=98.25%\n",
      "[ 2018-04-25 01:06:26,418][kfold_wrapper.log_eval_metrics] Accuracy(layer_0 - estimator_0 - 10_folds.train_cv.predict)=97.66%\n",
      "[ 2018-04-25 01:06:26,420][kfold_wrapper.log_eval_metrics] Accuracy(layer_0 - estimator_0 - 10_folds.test.predict)=97.98%\n",
      "[ 2018-04-25 01:06:26,430][cascade_classifier.calc_accuracy] Accuracy(layer_0 - train.classifier_average)=97.66%\n",
      "[ 2018-04-25 01:06:26,432][cascade_classifier.calc_accuracy] Accuracy(layer_0 - test.classifier_average)=97.98%\n",
      "[ 2018-04-25 01:06:26,433][cascade_classifier.fit_transform] [Result][Reach Max Layer] opt_layer_num=1, accuracy_train=97.66%, accuracy_test=97.98%\n",
      "[ 2018-04-25 01:06:26,435][cascade_classifier.transform] X_groups_test.shape=[(1137, 23)]\n",
      "[ 2018-04-25 01:06:26,437][cascade_classifier.transform] group_dims=[23]\n",
      "[ 2018-04-25 01:06:26,438][cascade_classifier.transform] X_test.shape=(1137, 23)\n",
      "[ 2018-04-25 01:06:26,440][cascade_classifier.transform] [layer=0] look_indexs=[0], X_cur_test.shape=(1137, 23)\n",
      "[ 2018-04-25 01:06:27,851][cascade_classifier.fit_transform] X_groups_train.shape=[(2306, 23)],y_train.shape=(2306,),X_groups_test.shape=[(1137, 23)],y_test.shape=(1137,)\n",
      "[ 2018-04-25 01:06:27,853][cascade_classifier.fit_transform] group_dims=[23]\n",
      "[ 2018-04-25 01:06:27,855][cascade_classifier.fit_transform] group_starts=[0]\n",
      "[ 2018-04-25 01:06:27,856][cascade_classifier.fit_transform] group_ends=[23]\n",
      "[ 2018-04-25 01:06:27,858][cascade_classifier.fit_transform] X_train.shape=(2306, 23),X_test.shape=(1137, 23)\n",
      "[ 2018-04-25 01:06:27,860][cascade_classifier.fit_transform] [layer=0] look_indexs=[0], X_cur_train.shape=(2306, 23), X_cur_test.shape=(1137, 23)\n"
     ]
    },
    {
     "name": "stdout",
     "output_type": "stream",
     "text": [
      "('Test Accuracy of ExtraTrees = 97.977133 %', 8, 'fois')\n"
     ]
    },
    {
     "name": "stderr",
     "output_type": "stream",
     "text": [
      "[ 2018-04-25 01:06:28,506][kfold_wrapper.log_eval_metrics] Accuracy(layer_0 - estimator_0 - 10_folds.train_0.predict)=97.40%\n",
      "[ 2018-04-25 01:06:29,274][kfold_wrapper.log_eval_metrics] Accuracy(layer_0 - estimator_0 - 10_folds.train_1.predict)=96.54%\n",
      "[ 2018-04-25 01:06:30,042][kfold_wrapper.log_eval_metrics] Accuracy(layer_0 - estimator_0 - 10_folds.train_2.predict)=97.40%\n",
      "[ 2018-04-25 01:06:30,829][kfold_wrapper.log_eval_metrics] Accuracy(layer_0 - estimator_0 - 10_folds.train_3.predict)=96.97%\n",
      "[ 2018-04-25 01:06:31,626][kfold_wrapper.log_eval_metrics] Accuracy(layer_0 - estimator_0 - 10_folds.train_4.predict)=97.84%\n",
      "[ 2018-04-25 01:06:32,421][kfold_wrapper.log_eval_metrics] Accuracy(layer_0 - estimator_0 - 10_folds.train_5.predict)=97.84%\n",
      "[ 2018-04-25 01:06:33,201][kfold_wrapper.log_eval_metrics] Accuracy(layer_0 - estimator_0 - 10_folds.train_6.predict)=97.84%\n",
      "[ 2018-04-25 01:06:33,979][kfold_wrapper.log_eval_metrics] Accuracy(layer_0 - estimator_0 - 10_folds.train_7.predict)=99.13%\n",
      "[ 2018-04-25 01:06:34,748][kfold_wrapper.log_eval_metrics] Accuracy(layer_0 - estimator_0 - 10_folds.train_8.predict)=97.39%\n",
      "[ 2018-04-25 01:06:35,500][kfold_wrapper.log_eval_metrics] Accuracy(layer_0 - estimator_0 - 10_folds.train_9.predict)=98.25%\n",
      "[ 2018-04-25 01:06:35,645][kfold_wrapper.log_eval_metrics] Accuracy(layer_0 - estimator_0 - 10_folds.train_cv.predict)=97.66%\n",
      "[ 2018-04-25 01:06:35,647][kfold_wrapper.log_eval_metrics] Accuracy(layer_0 - estimator_0 - 10_folds.test.predict)=97.98%\n",
      "[ 2018-04-25 01:06:35,655][cascade_classifier.calc_accuracy] Accuracy(layer_0 - train.classifier_average)=97.66%\n",
      "[ 2018-04-25 01:06:35,657][cascade_classifier.calc_accuracy] Accuracy(layer_0 - test.classifier_average)=97.98%\n",
      "[ 2018-04-25 01:06:35,659][cascade_classifier.fit_transform] [Result][Reach Max Layer] opt_layer_num=1, accuracy_train=97.66%, accuracy_test=97.98%\n",
      "[ 2018-04-25 01:06:35,661][cascade_classifier.transform] X_groups_test.shape=[(1137, 23)]\n",
      "[ 2018-04-25 01:06:35,662][cascade_classifier.transform] group_dims=[23]\n",
      "[ 2018-04-25 01:06:35,664][cascade_classifier.transform] X_test.shape=(1137, 23)\n",
      "[ 2018-04-25 01:06:35,666][cascade_classifier.transform] [layer=0] look_indexs=[0], X_cur_test.shape=(1137, 23)\n",
      "[ 2018-04-25 01:06:37,092][cascade_classifier.fit_transform] X_groups_train.shape=[(2306, 23)],y_train.shape=(2306,),X_groups_test.shape=[(1137, 23)],y_test.shape=(1137,)\n",
      "[ 2018-04-25 01:06:37,095][cascade_classifier.fit_transform] group_dims=[23]\n",
      "[ 2018-04-25 01:06:37,097][cascade_classifier.fit_transform] group_starts=[0]\n",
      "[ 2018-04-25 01:06:37,098][cascade_classifier.fit_transform] group_ends=[23]\n",
      "[ 2018-04-25 01:06:37,100][cascade_classifier.fit_transform] X_train.shape=(2306, 23),X_test.shape=(1137, 23)\n",
      "[ 2018-04-25 01:06:37,102][cascade_classifier.fit_transform] [layer=0] look_indexs=[0], X_cur_train.shape=(2306, 23), X_cur_test.shape=(1137, 23)\n"
     ]
    },
    {
     "name": "stdout",
     "output_type": "stream",
     "text": [
      "('Test Accuracy of ExtraTrees = 97.977133 %', 9, 'fois')\n"
     ]
    },
    {
     "name": "stderr",
     "output_type": "stream",
     "text": [
      "[ 2018-04-25 01:06:37,696][kfold_wrapper.log_eval_metrics] Accuracy(layer_0 - estimator_0 - 10_folds.train_0.predict)=97.84%\n",
      "[ 2018-04-25 01:06:38,475][kfold_wrapper.log_eval_metrics] Accuracy(layer_0 - estimator_0 - 10_folds.train_1.predict)=96.97%\n",
      "[ 2018-04-25 01:06:39,247][kfold_wrapper.log_eval_metrics] Accuracy(layer_0 - estimator_0 - 10_folds.train_2.predict)=97.84%\n",
      "[ 2018-04-25 01:06:40,025][kfold_wrapper.log_eval_metrics] Accuracy(layer_0 - estimator_0 - 10_folds.train_3.predict)=97.40%\n",
      "[ 2018-04-25 01:06:40,866][kfold_wrapper.log_eval_metrics] Accuracy(layer_0 - estimator_0 - 10_folds.train_4.predict)=97.84%\n",
      "[ 2018-04-25 01:06:41,631][kfold_wrapper.log_eval_metrics] Accuracy(layer_0 - estimator_0 - 10_folds.train_5.predict)=97.40%\n",
      "[ 2018-04-25 01:06:42,426][kfold_wrapper.log_eval_metrics] Accuracy(layer_0 - estimator_0 - 10_folds.train_6.predict)=97.84%\n",
      "[ 2018-04-25 01:06:43,277][kfold_wrapper.log_eval_metrics] Accuracy(layer_0 - estimator_0 - 10_folds.train_7.predict)=99.13%\n",
      "[ 2018-04-25 01:06:44,090][kfold_wrapper.log_eval_metrics] Accuracy(layer_0 - estimator_0 - 10_folds.train_8.predict)=97.83%\n",
      "[ 2018-04-25 01:06:44,858][kfold_wrapper.log_eval_metrics] Accuracy(layer_0 - estimator_0 - 10_folds.train_9.predict)=98.25%\n",
      "[ 2018-04-25 01:06:45,011][kfold_wrapper.log_eval_metrics] Accuracy(layer_0 - estimator_0 - 10_folds.train_cv.predict)=97.83%\n",
      "[ 2018-04-25 01:06:45,013][kfold_wrapper.log_eval_metrics] Accuracy(layer_0 - estimator_0 - 10_folds.test.predict)=97.98%\n",
      "[ 2018-04-25 01:06:45,018][cascade_classifier.calc_accuracy] Accuracy(layer_0 - train.classifier_average)=97.83%\n",
      "[ 2018-04-25 01:06:45,020][cascade_classifier.calc_accuracy] Accuracy(layer_0 - test.classifier_average)=97.98%\n",
      "[ 2018-04-25 01:06:45,021][cascade_classifier.fit_transform] [Result][Reach Max Layer] opt_layer_num=1, accuracy_train=97.83%, accuracy_test=97.98%\n",
      "[ 2018-04-25 01:06:45,023][cascade_classifier.transform] X_groups_test.shape=[(1137, 23)]\n",
      "[ 2018-04-25 01:06:45,025][cascade_classifier.transform] group_dims=[23]\n",
      "[ 2018-04-25 01:06:45,026][cascade_classifier.transform] X_test.shape=(1137, 23)\n",
      "[ 2018-04-25 01:06:45,028][cascade_classifier.transform] [layer=0] look_indexs=[0], X_cur_test.shape=(1137, 23)\n",
      "[ 2018-04-25 01:06:46,465][cascade_classifier.fit_transform] X_groups_train.shape=[(2306, 23)],y_train.shape=(2306,),X_groups_test.shape=[(1137, 23)],y_test.shape=(1137,)\n",
      "[ 2018-04-25 01:06:46,467][cascade_classifier.fit_transform] group_dims=[23]\n",
      "[ 2018-04-25 01:06:46,469][cascade_classifier.fit_transform] group_starts=[0]\n",
      "[ 2018-04-25 01:06:46,470][cascade_classifier.fit_transform] group_ends=[23]\n",
      "[ 2018-04-25 01:06:46,472][cascade_classifier.fit_transform] X_train.shape=(2306, 23),X_test.shape=(1137, 23)\n",
      "[ 2018-04-25 01:06:46,474][cascade_classifier.fit_transform] [layer=0] look_indexs=[0], X_cur_train.shape=(2306, 23), X_cur_test.shape=(1137, 23)\n"
     ]
    },
    {
     "name": "stdout",
     "output_type": "stream",
     "text": [
      "('Test Accuracy of ExtraTrees = 97.977133 %', 10, 'fois')\n"
     ]
    },
    {
     "name": "stderr",
     "output_type": "stream",
     "text": [
      "[ 2018-04-25 01:06:47,139][kfold_wrapper.log_eval_metrics] Accuracy(layer_0 - estimator_0 - 10_folds.train_0.predict)=97.84%\n",
      "[ 2018-04-25 01:06:47,905][kfold_wrapper.log_eval_metrics] Accuracy(layer_0 - estimator_0 - 10_folds.train_1.predict)=96.97%\n",
      "[ 2018-04-25 01:06:48,632][kfold_wrapper.log_eval_metrics] Accuracy(layer_0 - estimator_0 - 10_folds.train_2.predict)=97.84%\n",
      "[ 2018-04-25 01:06:49,372][kfold_wrapper.log_eval_metrics] Accuracy(layer_0 - estimator_0 - 10_folds.train_3.predict)=96.97%\n",
      "[ 2018-04-25 01:06:50,135][kfold_wrapper.log_eval_metrics] Accuracy(layer_0 - estimator_0 - 10_folds.train_4.predict)=97.84%\n",
      "[ 2018-04-25 01:06:50,993][kfold_wrapper.log_eval_metrics] Accuracy(layer_0 - estimator_0 - 10_folds.train_5.predict)=97.84%\n",
      "[ 2018-04-25 01:06:51,773][kfold_wrapper.log_eval_metrics] Accuracy(layer_0 - estimator_0 - 10_folds.train_6.predict)=97.84%\n",
      "[ 2018-04-25 01:06:52,573][kfold_wrapper.log_eval_metrics] Accuracy(layer_0 - estimator_0 - 10_folds.train_7.predict)=99.13%\n",
      "[ 2018-04-25 01:06:53,341][kfold_wrapper.log_eval_metrics] Accuracy(layer_0 - estimator_0 - 10_folds.train_8.predict)=98.26%\n",
      "[ 2018-04-25 01:06:54,088][kfold_wrapper.log_eval_metrics] Accuracy(layer_0 - estimator_0 - 10_folds.train_9.predict)=98.25%\n",
      "[ 2018-04-25 01:06:54,237][kfold_wrapper.log_eval_metrics] Accuracy(layer_0 - estimator_0 - 10_folds.train_cv.predict)=97.88%\n",
      "[ 2018-04-25 01:06:54,240][kfold_wrapper.log_eval_metrics] Accuracy(layer_0 - estimator_0 - 10_folds.test.predict)=98.07%\n",
      "[ 2018-04-25 01:06:54,245][cascade_classifier.calc_accuracy] Accuracy(layer_0 - train.classifier_average)=97.88%\n",
      "[ 2018-04-25 01:06:54,246][cascade_classifier.calc_accuracy] Accuracy(layer_0 - test.classifier_average)=98.07%\n",
      "[ 2018-04-25 01:06:54,248][cascade_classifier.fit_transform] [Result][Reach Max Layer] opt_layer_num=1, accuracy_train=97.88%, accuracy_test=98.07%\n",
      "[ 2018-04-25 01:06:54,250][cascade_classifier.transform] X_groups_test.shape=[(1137, 23)]\n",
      "[ 2018-04-25 01:06:54,252][cascade_classifier.transform] group_dims=[23]\n",
      "[ 2018-04-25 01:06:54,253][cascade_classifier.transform] X_test.shape=(1137, 23)\n",
      "[ 2018-04-25 01:06:54,255][cascade_classifier.transform] [layer=0] look_indexs=[0], X_cur_test.shape=(1137, 23)\n",
      "[ 2018-04-25 01:06:55,821][cascade_classifier.fit_transform] X_groups_train.shape=[(2306, 23)],y_train.shape=(2306,),X_groups_test.shape=[(1137, 23)],y_test.shape=(1137,)\n",
      "[ 2018-04-25 01:06:55,823][cascade_classifier.fit_transform] group_dims=[23]\n",
      "[ 2018-04-25 01:06:55,825][cascade_classifier.fit_transform] group_starts=[0]\n",
      "[ 2018-04-25 01:06:55,827][cascade_classifier.fit_transform] group_ends=[23]\n",
      "[ 2018-04-25 01:06:55,829][cascade_classifier.fit_transform] X_train.shape=(2306, 23),X_test.shape=(1137, 23)\n",
      "[ 2018-04-25 01:06:55,831][cascade_classifier.fit_transform] [layer=0] look_indexs=[0], X_cur_train.shape=(2306, 23), X_cur_test.shape=(1137, 23)\n"
     ]
    },
    {
     "name": "stdout",
     "output_type": "stream",
     "text": [
      "('Test Accuracy of ExtraTrees = 98.065084 %', 11, 'fois')\n"
     ]
    },
    {
     "name": "stderr",
     "output_type": "stream",
     "text": [
      "[ 2018-04-25 01:06:56,448][kfold_wrapper.log_eval_metrics] Accuracy(layer_0 - estimator_0 - 10_folds.train_0.predict)=97.40%\n",
      "[ 2018-04-25 01:06:57,255][kfold_wrapper.log_eval_metrics] Accuracy(layer_0 - estimator_0 - 10_folds.train_1.predict)=96.97%\n",
      "[ 2018-04-25 01:06:58,011][kfold_wrapper.log_eval_metrics] Accuracy(layer_0 - estimator_0 - 10_folds.train_2.predict)=97.84%\n",
      "[ 2018-04-25 01:06:58,772][kfold_wrapper.log_eval_metrics] Accuracy(layer_0 - estimator_0 - 10_folds.train_3.predict)=96.97%\n",
      "[ 2018-04-25 01:06:59,534][kfold_wrapper.log_eval_metrics] Accuracy(layer_0 - estimator_0 - 10_folds.train_4.predict)=97.84%\n",
      "[ 2018-04-25 01:07:00,334][kfold_wrapper.log_eval_metrics] Accuracy(layer_0 - estimator_0 - 10_folds.train_5.predict)=97.84%\n",
      "[ 2018-04-25 01:07:01,106][kfold_wrapper.log_eval_metrics] Accuracy(layer_0 - estimator_0 - 10_folds.train_6.predict)=97.84%\n",
      "[ 2018-04-25 01:07:01,960][kfold_wrapper.log_eval_metrics] Accuracy(layer_0 - estimator_0 - 10_folds.train_7.predict)=99.13%\n",
      "[ 2018-04-25 01:07:02,687][kfold_wrapper.log_eval_metrics] Accuracy(layer_0 - estimator_0 - 10_folds.train_8.predict)=97.83%\n",
      "[ 2018-04-25 01:07:03,469][kfold_wrapper.log_eval_metrics] Accuracy(layer_0 - estimator_0 - 10_folds.train_9.predict)=98.25%\n",
      "[ 2018-04-25 01:07:03,625][kfold_wrapper.log_eval_metrics] Accuracy(layer_0 - estimator_0 - 10_folds.train_cv.predict)=97.79%\n",
      "[ 2018-04-25 01:07:03,627][kfold_wrapper.log_eval_metrics] Accuracy(layer_0 - estimator_0 - 10_folds.test.predict)=98.07%\n",
      "[ 2018-04-25 01:07:03,632][cascade_classifier.calc_accuracy] Accuracy(layer_0 - train.classifier_average)=97.79%\n",
      "[ 2018-04-25 01:07:03,633][cascade_classifier.calc_accuracy] Accuracy(layer_0 - test.classifier_average)=98.07%\n",
      "[ 2018-04-25 01:07:03,635][cascade_classifier.fit_transform] [Result][Reach Max Layer] opt_layer_num=1, accuracy_train=97.79%, accuracy_test=98.07%\n",
      "[ 2018-04-25 01:07:03,637][cascade_classifier.transform] X_groups_test.shape=[(1137, 23)]\n",
      "[ 2018-04-25 01:07:03,639][cascade_classifier.transform] group_dims=[23]\n",
      "[ 2018-04-25 01:07:03,640][cascade_classifier.transform] X_test.shape=(1137, 23)\n",
      "[ 2018-04-25 01:07:03,642][cascade_classifier.transform] [layer=0] look_indexs=[0], X_cur_test.shape=(1137, 23)\n",
      "[ 2018-04-25 01:07:05,051][cascade_classifier.fit_transform] X_groups_train.shape=[(2306, 23)],y_train.shape=(2306,),X_groups_test.shape=[(1137, 23)],y_test.shape=(1137,)\n",
      "[ 2018-04-25 01:07:05,053][cascade_classifier.fit_transform] group_dims=[23]\n",
      "[ 2018-04-25 01:07:05,055][cascade_classifier.fit_transform] group_starts=[0]\n",
      "[ 2018-04-25 01:07:05,057][cascade_classifier.fit_transform] group_ends=[23]\n",
      "[ 2018-04-25 01:07:05,058][cascade_classifier.fit_transform] X_train.shape=(2306, 23),X_test.shape=(1137, 23)\n",
      "[ 2018-04-25 01:07:05,060][cascade_classifier.fit_transform] [layer=0] look_indexs=[0], X_cur_train.shape=(2306, 23), X_cur_test.shape=(1137, 23)\n"
     ]
    },
    {
     "name": "stdout",
     "output_type": "stream",
     "text": [
      "('Test Accuracy of ExtraTrees = 98.065084 %', 12, 'fois')\n"
     ]
    },
    {
     "name": "stderr",
     "output_type": "stream",
     "text": [
      "[ 2018-04-25 01:07:05,689][kfold_wrapper.log_eval_metrics] Accuracy(layer_0 - estimator_0 - 10_folds.train_0.predict)=97.40%\n",
      "[ 2018-04-25 01:07:06,420][kfold_wrapper.log_eval_metrics] Accuracy(layer_0 - estimator_0 - 10_folds.train_1.predict)=96.54%\n",
      "[ 2018-04-25 01:07:07,190][kfold_wrapper.log_eval_metrics] Accuracy(layer_0 - estimator_0 - 10_folds.train_2.predict)=97.40%\n",
      "[ 2018-04-25 01:07:08,045][kfold_wrapper.log_eval_metrics] Accuracy(layer_0 - estimator_0 - 10_folds.train_3.predict)=96.97%\n",
      "[ 2018-04-25 01:07:08,745][kfold_wrapper.log_eval_metrics] Accuracy(layer_0 - estimator_0 - 10_folds.train_4.predict)=97.84%\n",
      "[ 2018-04-25 01:07:09,557][kfold_wrapper.log_eval_metrics] Accuracy(layer_0 - estimator_0 - 10_folds.train_5.predict)=97.84%\n",
      "[ 2018-04-25 01:07:10,354][kfold_wrapper.log_eval_metrics] Accuracy(layer_0 - estimator_0 - 10_folds.train_6.predict)=97.84%\n",
      "[ 2018-04-25 01:07:11,158][kfold_wrapper.log_eval_metrics] Accuracy(layer_0 - estimator_0 - 10_folds.train_7.predict)=99.57%\n",
      "[ 2018-04-25 01:07:11,934][kfold_wrapper.log_eval_metrics] Accuracy(layer_0 - estimator_0 - 10_folds.train_8.predict)=98.26%\n",
      "[ 2018-04-25 01:07:12,743][kfold_wrapper.log_eval_metrics] Accuracy(layer_0 - estimator_0 - 10_folds.train_9.predict)=98.25%\n",
      "[ 2018-04-25 01:07:12,883][kfold_wrapper.log_eval_metrics] Accuracy(layer_0 - estimator_0 - 10_folds.train_cv.predict)=97.79%\n",
      "[ 2018-04-25 01:07:12,884][kfold_wrapper.log_eval_metrics] Accuracy(layer_0 - estimator_0 - 10_folds.test.predict)=98.07%\n",
      "[ 2018-04-25 01:07:12,889][cascade_classifier.calc_accuracy] Accuracy(layer_0 - train.classifier_average)=97.79%\n",
      "[ 2018-04-25 01:07:12,891][cascade_classifier.calc_accuracy] Accuracy(layer_0 - test.classifier_average)=98.07%\n",
      "[ 2018-04-25 01:07:12,893][cascade_classifier.fit_transform] [Result][Reach Max Layer] opt_layer_num=1, accuracy_train=97.79%, accuracy_test=98.07%\n",
      "[ 2018-04-25 01:07:12,894][cascade_classifier.transform] X_groups_test.shape=[(1137, 23)]\n",
      "[ 2018-04-25 01:07:12,896][cascade_classifier.transform] group_dims=[23]\n",
      "[ 2018-04-25 01:07:12,898][cascade_classifier.transform] X_test.shape=(1137, 23)\n",
      "[ 2018-04-25 01:07:12,899][cascade_classifier.transform] [layer=0] look_indexs=[0], X_cur_test.shape=(1137, 23)\n",
      "[ 2018-04-25 01:07:14,357][cascade_classifier.fit_transform] X_groups_train.shape=[(2306, 23)],y_train.shape=(2306,),X_groups_test.shape=[(1137, 23)],y_test.shape=(1137,)\n",
      "[ 2018-04-25 01:07:14,359][cascade_classifier.fit_transform] group_dims=[23]\n",
      "[ 2018-04-25 01:07:14,361][cascade_classifier.fit_transform] group_starts=[0]\n",
      "[ 2018-04-25 01:07:14,362][cascade_classifier.fit_transform] group_ends=[23]\n",
      "[ 2018-04-25 01:07:14,364][cascade_classifier.fit_transform] X_train.shape=(2306, 23),X_test.shape=(1137, 23)\n",
      "[ 2018-04-25 01:07:14,365][cascade_classifier.fit_transform] [layer=0] look_indexs=[0], X_cur_train.shape=(2306, 23), X_cur_test.shape=(1137, 23)\n"
     ]
    },
    {
     "name": "stdout",
     "output_type": "stream",
     "text": [
      "('Test Accuracy of ExtraTrees = 98.065084 %', 13, 'fois')\n"
     ]
    },
    {
     "name": "stderr",
     "output_type": "stream",
     "text": [
      "[ 2018-04-25 01:07:15,012][kfold_wrapper.log_eval_metrics] Accuracy(layer_0 - estimator_0 - 10_folds.train_0.predict)=96.97%\n",
      "[ 2018-04-25 01:07:15,823][kfold_wrapper.log_eval_metrics] Accuracy(layer_0 - estimator_0 - 10_folds.train_1.predict)=96.54%\n",
      "[ 2018-04-25 01:07:16,603][kfold_wrapper.log_eval_metrics] Accuracy(layer_0 - estimator_0 - 10_folds.train_2.predict)=98.27%\n",
      "[ 2018-04-25 01:07:17,353][kfold_wrapper.log_eval_metrics] Accuracy(layer_0 - estimator_0 - 10_folds.train_3.predict)=96.97%\n",
      "[ 2018-04-25 01:07:18,161][kfold_wrapper.log_eval_metrics] Accuracy(layer_0 - estimator_0 - 10_folds.train_4.predict)=97.84%\n",
      "[ 2018-04-25 01:07:18,988][kfold_wrapper.log_eval_metrics] Accuracy(layer_0 - estimator_0 - 10_folds.train_5.predict)=97.84%\n",
      "[ 2018-04-25 01:07:19,916][kfold_wrapper.log_eval_metrics] Accuracy(layer_0 - estimator_0 - 10_folds.train_6.predict)=97.84%\n",
      "[ 2018-04-25 01:07:20,671][kfold_wrapper.log_eval_metrics] Accuracy(layer_0 - estimator_0 - 10_folds.train_7.predict)=99.13%\n",
      "[ 2018-04-25 01:07:21,452][kfold_wrapper.log_eval_metrics] Accuracy(layer_0 - estimator_0 - 10_folds.train_8.predict)=96.96%\n",
      "[ 2018-04-25 01:07:22,240][kfold_wrapper.log_eval_metrics] Accuracy(layer_0 - estimator_0 - 10_folds.train_9.predict)=98.25%\n",
      "[ 2018-04-25 01:07:22,375][kfold_wrapper.log_eval_metrics] Accuracy(layer_0 - estimator_0 - 10_folds.train_cv.predict)=97.66%\n",
      "[ 2018-04-25 01:07:22,376][kfold_wrapper.log_eval_metrics] Accuracy(layer_0 - estimator_0 - 10_folds.test.predict)=97.98%\n",
      "[ 2018-04-25 01:07:22,381][cascade_classifier.calc_accuracy] Accuracy(layer_0 - train.classifier_average)=97.66%\n",
      "[ 2018-04-25 01:07:22,383][cascade_classifier.calc_accuracy] Accuracy(layer_0 - test.classifier_average)=97.98%\n",
      "[ 2018-04-25 01:07:22,385][cascade_classifier.fit_transform] [Result][Reach Max Layer] opt_layer_num=1, accuracy_train=97.66%, accuracy_test=97.98%\n",
      "[ 2018-04-25 01:07:22,387][cascade_classifier.transform] X_groups_test.shape=[(1137, 23)]\n",
      "[ 2018-04-25 01:07:22,388][cascade_classifier.transform] group_dims=[23]\n",
      "[ 2018-04-25 01:07:22,390][cascade_classifier.transform] X_test.shape=(1137, 23)\n",
      "[ 2018-04-25 01:07:22,392][cascade_classifier.transform] [layer=0] look_indexs=[0], X_cur_test.shape=(1137, 23)\n",
      "[ 2018-04-25 01:07:23,840][cascade_classifier.fit_transform] X_groups_train.shape=[(2306, 23)],y_train.shape=(2306,),X_groups_test.shape=[(1137, 23)],y_test.shape=(1137,)\n",
      "[ 2018-04-25 01:07:23,842][cascade_classifier.fit_transform] group_dims=[23]\n",
      "[ 2018-04-25 01:07:23,844][cascade_classifier.fit_transform] group_starts=[0]\n",
      "[ 2018-04-25 01:07:23,845][cascade_classifier.fit_transform] group_ends=[23]\n",
      "[ 2018-04-25 01:07:23,847][cascade_classifier.fit_transform] X_train.shape=(2306, 23),X_test.shape=(1137, 23)\n",
      "[ 2018-04-25 01:07:23,849][cascade_classifier.fit_transform] [layer=0] look_indexs=[0], X_cur_train.shape=(2306, 23), X_cur_test.shape=(1137, 23)\n"
     ]
    },
    {
     "name": "stdout",
     "output_type": "stream",
     "text": [
      "('Test Accuracy of ExtraTrees = 97.977133 %', 14, 'fois')\n"
     ]
    },
    {
     "name": "stderr",
     "output_type": "stream",
     "text": [
      "[ 2018-04-25 01:07:24,500][kfold_wrapper.log_eval_metrics] Accuracy(layer_0 - estimator_0 - 10_folds.train_0.predict)=97.40%\n",
      "[ 2018-04-25 01:07:25,262][kfold_wrapper.log_eval_metrics] Accuracy(layer_0 - estimator_0 - 10_folds.train_1.predict)=96.54%\n",
      "[ 2018-04-25 01:07:26,086][kfold_wrapper.log_eval_metrics] Accuracy(layer_0 - estimator_0 - 10_folds.train_2.predict)=98.27%\n",
      "[ 2018-04-25 01:07:26,865][kfold_wrapper.log_eval_metrics] Accuracy(layer_0 - estimator_0 - 10_folds.train_3.predict)=97.40%\n",
      "[ 2018-04-25 01:07:27,653][kfold_wrapper.log_eval_metrics] Accuracy(layer_0 - estimator_0 - 10_folds.train_4.predict)=97.84%\n",
      "[ 2018-04-25 01:07:28,422][kfold_wrapper.log_eval_metrics] Accuracy(layer_0 - estimator_0 - 10_folds.train_5.predict)=97.84%\n",
      "[ 2018-04-25 01:07:29,232][kfold_wrapper.log_eval_metrics] Accuracy(layer_0 - estimator_0 - 10_folds.train_6.predict)=97.84%\n",
      "[ 2018-04-25 01:07:29,998][kfold_wrapper.log_eval_metrics] Accuracy(layer_0 - estimator_0 - 10_folds.train_7.predict)=99.13%\n",
      "[ 2018-04-25 01:07:30,740][kfold_wrapper.log_eval_metrics] Accuracy(layer_0 - estimator_0 - 10_folds.train_8.predict)=96.96%\n",
      "[ 2018-04-25 01:07:31,485][kfold_wrapper.log_eval_metrics] Accuracy(layer_0 - estimator_0 - 10_folds.train_9.predict)=98.25%\n",
      "[ 2018-04-25 01:07:31,628][kfold_wrapper.log_eval_metrics] Accuracy(layer_0 - estimator_0 - 10_folds.train_cv.predict)=97.75%\n",
      "[ 2018-04-25 01:07:31,630][kfold_wrapper.log_eval_metrics] Accuracy(layer_0 - estimator_0 - 10_folds.test.predict)=98.07%\n",
      "[ 2018-04-25 01:07:31,640][cascade_classifier.calc_accuracy] Accuracy(layer_0 - train.classifier_average)=97.75%\n",
      "[ 2018-04-25 01:07:31,642][cascade_classifier.calc_accuracy] Accuracy(layer_0 - test.classifier_average)=98.07%\n",
      "[ 2018-04-25 01:07:31,643][cascade_classifier.fit_transform] [Result][Reach Max Layer] opt_layer_num=1, accuracy_train=97.75%, accuracy_test=98.07%\n",
      "[ 2018-04-25 01:07:31,645][cascade_classifier.transform] X_groups_test.shape=[(1137, 23)]\n",
      "[ 2018-04-25 01:07:31,647][cascade_classifier.transform] group_dims=[23]\n",
      "[ 2018-04-25 01:07:31,648][cascade_classifier.transform] X_test.shape=(1137, 23)\n",
      "[ 2018-04-25 01:07:31,650][cascade_classifier.transform] [layer=0] look_indexs=[0], X_cur_test.shape=(1137, 23)\n",
      "[ 2018-04-25 01:07:33,182][cascade_classifier.fit_transform] X_groups_train.shape=[(2306, 23)],y_train.shape=(2306,),X_groups_test.shape=[(1137, 23)],y_test.shape=(1137,)\n",
      "[ 2018-04-25 01:07:33,184][cascade_classifier.fit_transform] group_dims=[23]\n",
      "[ 2018-04-25 01:07:33,186][cascade_classifier.fit_transform] group_starts=[0]\n",
      "[ 2018-04-25 01:07:33,187][cascade_classifier.fit_transform] group_ends=[23]\n",
      "[ 2018-04-25 01:07:33,189][cascade_classifier.fit_transform] X_train.shape=(2306, 23),X_test.shape=(1137, 23)\n",
      "[ 2018-04-25 01:07:33,191][cascade_classifier.fit_transform] [layer=0] look_indexs=[0], X_cur_train.shape=(2306, 23), X_cur_test.shape=(1137, 23)\n"
     ]
    },
    {
     "name": "stdout",
     "output_type": "stream",
     "text": [
      "('Test Accuracy of ExtraTrees = 98.065084 %', 15, 'fois')\n"
     ]
    },
    {
     "name": "stderr",
     "output_type": "stream",
     "text": [
      "[ 2018-04-25 01:07:33,800][kfold_wrapper.log_eval_metrics] Accuracy(layer_0 - estimator_0 - 10_folds.train_0.predict)=96.97%\n",
      "[ 2018-04-25 01:07:34,573][kfold_wrapper.log_eval_metrics] Accuracy(layer_0 - estimator_0 - 10_folds.train_1.predict)=96.97%\n",
      "[ 2018-04-25 01:07:35,367][kfold_wrapper.log_eval_metrics] Accuracy(layer_0 - estimator_0 - 10_folds.train_2.predict)=97.84%\n",
      "[ 2018-04-25 01:07:36,160][kfold_wrapper.log_eval_metrics] Accuracy(layer_0 - estimator_0 - 10_folds.train_3.predict)=96.97%\n",
      "[ 2018-04-25 01:07:36,967][kfold_wrapper.log_eval_metrics] Accuracy(layer_0 - estimator_0 - 10_folds.train_4.predict)=97.84%\n",
      "[ 2018-04-25 01:07:37,766][kfold_wrapper.log_eval_metrics] Accuracy(layer_0 - estimator_0 - 10_folds.train_5.predict)=97.40%\n",
      "[ 2018-04-25 01:07:38,562][kfold_wrapper.log_eval_metrics] Accuracy(layer_0 - estimator_0 - 10_folds.train_6.predict)=97.84%\n",
      "[ 2018-04-25 01:07:39,334][kfold_wrapper.log_eval_metrics] Accuracy(layer_0 - estimator_0 - 10_folds.train_7.predict)=99.13%\n",
      "[ 2018-04-25 01:07:40,115][kfold_wrapper.log_eval_metrics] Accuracy(layer_0 - estimator_0 - 10_folds.train_8.predict)=96.96%\n",
      "[ 2018-04-25 01:07:40,906][kfold_wrapper.log_eval_metrics] Accuracy(layer_0 - estimator_0 - 10_folds.train_9.predict)=98.25%\n",
      "[ 2018-04-25 01:07:41,055][kfold_wrapper.log_eval_metrics] Accuracy(layer_0 - estimator_0 - 10_folds.train_cv.predict)=97.61%\n",
      "[ 2018-04-25 01:07:41,057][kfold_wrapper.log_eval_metrics] Accuracy(layer_0 - estimator_0 - 10_folds.test.predict)=97.98%\n",
      "[ 2018-04-25 01:07:41,067][cascade_classifier.calc_accuracy] Accuracy(layer_0 - train.classifier_average)=97.61%\n",
      "[ 2018-04-25 01:07:41,068][cascade_classifier.calc_accuracy] Accuracy(layer_0 - test.classifier_average)=97.98%\n",
      "[ 2018-04-25 01:07:41,070][cascade_classifier.fit_transform] [Result][Reach Max Layer] opt_layer_num=1, accuracy_train=97.61%, accuracy_test=97.98%\n",
      "[ 2018-04-25 01:07:41,072][cascade_classifier.transform] X_groups_test.shape=[(1137, 23)]\n",
      "[ 2018-04-25 01:07:41,075][cascade_classifier.transform] group_dims=[23]\n",
      "[ 2018-04-25 01:07:41,076][cascade_classifier.transform] X_test.shape=(1137, 23)\n",
      "[ 2018-04-25 01:07:41,078][cascade_classifier.transform] [layer=0] look_indexs=[0], X_cur_test.shape=(1137, 23)\n",
      "[ 2018-04-25 01:07:42,517][cascade_classifier.fit_transform] X_groups_train.shape=[(2306, 23)],y_train.shape=(2306,),X_groups_test.shape=[(1137, 23)],y_test.shape=(1137,)\n",
      "[ 2018-04-25 01:07:42,519][cascade_classifier.fit_transform] group_dims=[23]\n",
      "[ 2018-04-25 01:07:42,521][cascade_classifier.fit_transform] group_starts=[0]\n",
      "[ 2018-04-25 01:07:42,522][cascade_classifier.fit_transform] group_ends=[23]\n",
      "[ 2018-04-25 01:07:42,524][cascade_classifier.fit_transform] X_train.shape=(2306, 23),X_test.shape=(1137, 23)\n",
      "[ 2018-04-25 01:07:42,526][cascade_classifier.fit_transform] [layer=0] look_indexs=[0], X_cur_train.shape=(2306, 23), X_cur_test.shape=(1137, 23)\n"
     ]
    },
    {
     "name": "stdout",
     "output_type": "stream",
     "text": [
      "('Test Accuracy of ExtraTrees = 97.977133 %', 16, 'fois')\n"
     ]
    },
    {
     "name": "stderr",
     "output_type": "stream",
     "text": [
      "[ 2018-04-25 01:07:43,144][kfold_wrapper.log_eval_metrics] Accuracy(layer_0 - estimator_0 - 10_folds.train_0.predict)=97.40%\n",
      "[ 2018-04-25 01:07:44,053][kfold_wrapper.log_eval_metrics] Accuracy(layer_0 - estimator_0 - 10_folds.train_1.predict)=96.54%\n",
      "[ 2018-04-25 01:07:44,839][kfold_wrapper.log_eval_metrics] Accuracy(layer_0 - estimator_0 - 10_folds.train_2.predict)=97.84%\n",
      "[ 2018-04-25 01:07:45,592][kfold_wrapper.log_eval_metrics] Accuracy(layer_0 - estimator_0 - 10_folds.train_3.predict)=97.40%\n",
      "[ 2018-04-25 01:07:46,393][kfold_wrapper.log_eval_metrics] Accuracy(layer_0 - estimator_0 - 10_folds.train_4.predict)=97.84%\n",
      "[ 2018-04-25 01:07:47,181][kfold_wrapper.log_eval_metrics] Accuracy(layer_0 - estimator_0 - 10_folds.train_5.predict)=97.84%\n",
      "[ 2018-04-25 01:07:47,976][kfold_wrapper.log_eval_metrics] Accuracy(layer_0 - estimator_0 - 10_folds.train_6.predict)=97.84%\n",
      "[ 2018-04-25 01:07:48,730][kfold_wrapper.log_eval_metrics] Accuracy(layer_0 - estimator_0 - 10_folds.train_7.predict)=99.57%\n",
      "[ 2018-04-25 01:07:49,581][kfold_wrapper.log_eval_metrics] Accuracy(layer_0 - estimator_0 - 10_folds.train_8.predict)=97.39%\n",
      "[ 2018-04-25 01:07:50,359][kfold_wrapper.log_eval_metrics] Accuracy(layer_0 - estimator_0 - 10_folds.train_9.predict)=98.25%\n",
      "[ 2018-04-25 01:07:50,508][kfold_wrapper.log_eval_metrics] Accuracy(layer_0 - estimator_0 - 10_folds.train_cv.predict)=97.79%\n",
      "[ 2018-04-25 01:07:50,510][kfold_wrapper.log_eval_metrics] Accuracy(layer_0 - estimator_0 - 10_folds.test.predict)=98.07%\n",
      "[ 2018-04-25 01:07:50,518][cascade_classifier.calc_accuracy] Accuracy(layer_0 - train.classifier_average)=97.79%\n",
      "[ 2018-04-25 01:07:50,520][cascade_classifier.calc_accuracy] Accuracy(layer_0 - test.classifier_average)=98.07%\n",
      "[ 2018-04-25 01:07:50,521][cascade_classifier.fit_transform] [Result][Reach Max Layer] opt_layer_num=1, accuracy_train=97.79%, accuracy_test=98.07%\n",
      "[ 2018-04-25 01:07:50,523][cascade_classifier.transform] X_groups_test.shape=[(1137, 23)]\n",
      "[ 2018-04-25 01:07:50,524][cascade_classifier.transform] group_dims=[23]\n",
      "[ 2018-04-25 01:07:50,526][cascade_classifier.transform] X_test.shape=(1137, 23)\n",
      "[ 2018-04-25 01:07:50,527][cascade_classifier.transform] [layer=0] look_indexs=[0], X_cur_test.shape=(1137, 23)\n",
      "[ 2018-04-25 01:07:51,938][cascade_classifier.fit_transform] X_groups_train.shape=[(2306, 23)],y_train.shape=(2306,),X_groups_test.shape=[(1137, 23)],y_test.shape=(1137,)\n",
      "[ 2018-04-25 01:07:51,940][cascade_classifier.fit_transform] group_dims=[23]\n",
      "[ 2018-04-25 01:07:51,942][cascade_classifier.fit_transform] group_starts=[0]\n",
      "[ 2018-04-25 01:07:51,943][cascade_classifier.fit_transform] group_ends=[23]\n",
      "[ 2018-04-25 01:07:51,945][cascade_classifier.fit_transform] X_train.shape=(2306, 23),X_test.shape=(1137, 23)\n",
      "[ 2018-04-25 01:07:51,947][cascade_classifier.fit_transform] [layer=0] look_indexs=[0], X_cur_train.shape=(2306, 23), X_cur_test.shape=(1137, 23)\n"
     ]
    },
    {
     "name": "stdout",
     "output_type": "stream",
     "text": [
      "('Test Accuracy of ExtraTrees = 98.065084 %', 17, 'fois')\n"
     ]
    },
    {
     "name": "stderr",
     "output_type": "stream",
     "text": [
      "[ 2018-04-25 01:07:52,523][kfold_wrapper.log_eval_metrics] Accuracy(layer_0 - estimator_0 - 10_folds.train_0.predict)=96.97%\n",
      "[ 2018-04-25 01:07:53,332][kfold_wrapper.log_eval_metrics] Accuracy(layer_0 - estimator_0 - 10_folds.train_1.predict)=96.54%\n",
      "[ 2018-04-25 01:07:54,145][kfold_wrapper.log_eval_metrics] Accuracy(layer_0 - estimator_0 - 10_folds.train_2.predict)=97.40%\n",
      "[ 2018-04-25 01:07:54,946][kfold_wrapper.log_eval_metrics] Accuracy(layer_0 - estimator_0 - 10_folds.train_3.predict)=97.40%\n",
      "[ 2018-04-25 01:07:55,815][kfold_wrapper.log_eval_metrics] Accuracy(layer_0 - estimator_0 - 10_folds.train_4.predict)=97.84%\n",
      "[ 2018-04-25 01:07:56,585][kfold_wrapper.log_eval_metrics] Accuracy(layer_0 - estimator_0 - 10_folds.train_5.predict)=97.40%\n",
      "[ 2018-04-25 01:07:57,369][kfold_wrapper.log_eval_metrics] Accuracy(layer_0 - estimator_0 - 10_folds.train_6.predict)=97.40%\n",
      "[ 2018-04-25 01:07:58,185][kfold_wrapper.log_eval_metrics] Accuracy(layer_0 - estimator_0 - 10_folds.train_7.predict)=99.13%\n",
      "[ 2018-04-25 01:07:58,998][kfold_wrapper.log_eval_metrics] Accuracy(layer_0 - estimator_0 - 10_folds.train_8.predict)=97.39%\n",
      "[ 2018-04-25 01:07:59,778][kfold_wrapper.log_eval_metrics] Accuracy(layer_0 - estimator_0 - 10_folds.train_9.predict)=98.25%\n",
      "[ 2018-04-25 01:07:59,934][kfold_wrapper.log_eval_metrics] Accuracy(layer_0 - estimator_0 - 10_folds.train_cv.predict)=97.57%\n",
      "[ 2018-04-25 01:07:59,936][kfold_wrapper.log_eval_metrics] Accuracy(layer_0 - estimator_0 - 10_folds.test.predict)=97.98%\n",
      "[ 2018-04-25 01:07:59,946][cascade_classifier.calc_accuracy] Accuracy(layer_0 - train.classifier_average)=97.57%\n",
      "[ 2018-04-25 01:07:59,948][cascade_classifier.calc_accuracy] Accuracy(layer_0 - test.classifier_average)=97.98%\n",
      "[ 2018-04-25 01:07:59,949][cascade_classifier.fit_transform] [Result][Reach Max Layer] opt_layer_num=1, accuracy_train=97.57%, accuracy_test=97.98%\n",
      "[ 2018-04-25 01:07:59,951][cascade_classifier.transform] X_groups_test.shape=[(1137, 23)]\n",
      "[ 2018-04-25 01:07:59,953][cascade_classifier.transform] group_dims=[23]\n",
      "[ 2018-04-25 01:07:59,955][cascade_classifier.transform] X_test.shape=(1137, 23)\n",
      "[ 2018-04-25 01:07:59,957][cascade_classifier.transform] [layer=0] look_indexs=[0], X_cur_test.shape=(1137, 23)\n",
      "[ 2018-04-25 01:08:01,487][cascade_classifier.fit_transform] X_groups_train.shape=[(2306, 23)],y_train.shape=(2306,),X_groups_test.shape=[(1137, 23)],y_test.shape=(1137,)\n",
      "[ 2018-04-25 01:08:01,489][cascade_classifier.fit_transform] group_dims=[23]\n",
      "[ 2018-04-25 01:08:01,491][cascade_classifier.fit_transform] group_starts=[0]\n",
      "[ 2018-04-25 01:08:01,492][cascade_classifier.fit_transform] group_ends=[23]\n",
      "[ 2018-04-25 01:08:01,494][cascade_classifier.fit_transform] X_train.shape=(2306, 23),X_test.shape=(1137, 23)\n",
      "[ 2018-04-25 01:08:01,496][cascade_classifier.fit_transform] [layer=0] look_indexs=[0], X_cur_train.shape=(2306, 23), X_cur_test.shape=(1137, 23)\n"
     ]
    },
    {
     "name": "stdout",
     "output_type": "stream",
     "text": [
      "('Test Accuracy of ExtraTrees = 97.977133 %', 18, 'fois')\n"
     ]
    },
    {
     "name": "stderr",
     "output_type": "stream",
     "text": [
      "[ 2018-04-25 01:08:02,111][kfold_wrapper.log_eval_metrics] Accuracy(layer_0 - estimator_0 - 10_folds.train_0.predict)=96.97%\n",
      "[ 2018-04-25 01:08:02,890][kfold_wrapper.log_eval_metrics] Accuracy(layer_0 - estimator_0 - 10_folds.train_1.predict)=96.54%\n",
      "[ 2018-04-25 01:08:03,656][kfold_wrapper.log_eval_metrics] Accuracy(layer_0 - estimator_0 - 10_folds.train_2.predict)=97.40%\n",
      "[ 2018-04-25 01:08:04,410][kfold_wrapper.log_eval_metrics] Accuracy(layer_0 - estimator_0 - 10_folds.train_3.predict)=97.84%\n",
      "[ 2018-04-25 01:08:05,188][kfold_wrapper.log_eval_metrics] Accuracy(layer_0 - estimator_0 - 10_folds.train_4.predict)=97.84%\n",
      "[ 2018-04-25 01:08:05,963][kfold_wrapper.log_eval_metrics] Accuracy(layer_0 - estimator_0 - 10_folds.train_5.predict)=97.84%\n",
      "[ 2018-04-25 01:08:06,753][kfold_wrapper.log_eval_metrics] Accuracy(layer_0 - estimator_0 - 10_folds.train_6.predict)=97.84%\n",
      "[ 2018-04-25 01:08:07,612][kfold_wrapper.log_eval_metrics] Accuracy(layer_0 - estimator_0 - 10_folds.train_7.predict)=99.57%\n",
      "[ 2018-04-25 01:08:08,404][kfold_wrapper.log_eval_metrics] Accuracy(layer_0 - estimator_0 - 10_folds.train_8.predict)=97.39%\n",
      "[ 2018-04-25 01:08:09,187][kfold_wrapper.log_eval_metrics] Accuracy(layer_0 - estimator_0 - 10_folds.train_9.predict)=98.25%\n",
      "[ 2018-04-25 01:08:09,333][kfold_wrapper.log_eval_metrics] Accuracy(layer_0 - estimator_0 - 10_folds.train_cv.predict)=97.75%\n",
      "[ 2018-04-25 01:08:09,335][kfold_wrapper.log_eval_metrics] Accuracy(layer_0 - estimator_0 - 10_folds.test.predict)=97.98%\n",
      "[ 2018-04-25 01:08:09,345][cascade_classifier.calc_accuracy] Accuracy(layer_0 - train.classifier_average)=97.75%\n",
      "[ 2018-04-25 01:08:09,347][cascade_classifier.calc_accuracy] Accuracy(layer_0 - test.classifier_average)=97.98%\n",
      "[ 2018-04-25 01:08:09,348][cascade_classifier.fit_transform] [Result][Reach Max Layer] opt_layer_num=1, accuracy_train=97.75%, accuracy_test=97.98%\n",
      "[ 2018-04-25 01:08:09,349][cascade_classifier.transform] X_groups_test.shape=[(1137, 23)]\n",
      "[ 2018-04-25 01:08:09,351][cascade_classifier.transform] group_dims=[23]\n",
      "[ 2018-04-25 01:08:09,353][cascade_classifier.transform] X_test.shape=(1137, 23)\n",
      "[ 2018-04-25 01:08:09,354][cascade_classifier.transform] [layer=0] look_indexs=[0], X_cur_test.shape=(1137, 23)\n"
     ]
    },
    {
     "name": "stdout",
     "output_type": "stream",
     "text": [
      "('Test Accuracy of ExtraTrees = 97.977133 %', 19, 'fois')\n"
     ]
    }
   ],
   "source": [
    "# Deep\n",
    "for i in range (20):\n",
    "    X_train,X_test=update(X_train,X_test)\n",
    "    X_test_enc, X_train_enc=newdata(X_test_enc, X_train_enc)\n",
    "\n",
    "    X_train=X_train_enc\n",
    "    X_test=X_test_enc \n",
    "    X_train_enc, X_test_enc = gc.fit_transform(X_train, y_train, X_test=X_test, y_test=y_test)\n",
    "    affiche()"
   ]
  },
  {
   "cell_type": "code",
   "execution_count": null,
   "metadata": {
    "collapsed": true
   },
   "outputs": [],
   "source": []
  },
  {
   "cell_type": "markdown",
   "metadata": {
    "collapsed": true
   },
   "source": [
    "# ('Test Accuracy of ExtraTrees = 98.065084 %', 3, 'fois')"
   ]
  },
  {
   "cell_type": "code",
   "execution_count": null,
   "metadata": {
    "collapsed": true
   },
   "outputs": [],
   "source": []
  },
  {
   "cell_type": "code",
   "execution_count": null,
   "metadata": {
    "collapsed": true
   },
   "outputs": [],
   "source": []
  }
 ],
 "metadata": {
  "kernelspec": {
   "display_name": "Python 2",
   "language": "python",
   "name": "python2"
  },
  "language_info": {
   "codemirror_mode": {
    "name": "ipython",
    "version": 2
   },
   "file_extension": ".py",
   "mimetype": "text/x-python",
   "name": "python",
   "nbconvert_exporter": "python",
   "pygments_lexer": "ipython2",
   "version": "2.7.14"
  }
 },
 "nbformat": 4,
 "nbformat_minor": 2
}
