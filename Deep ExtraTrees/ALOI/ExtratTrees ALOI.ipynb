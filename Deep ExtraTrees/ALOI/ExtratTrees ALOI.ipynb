{
 "cells": [
  {
   "cell_type": "code",
   "execution_count": 18,
   "metadata": {
    "collapsed": true
   },
   "outputs": [],
   "source": [
    "# imports \n",
    "import numpy as np\n",
    "from math import sqrt \n",
    "from pprint import pprint\n",
    "from numpy import array\n",
    "from scipy.io import arff\n",
    "import pandas as pd"
   ]
  },
  {
   "cell_type": "code",
   "execution_count": 19,
   "metadata": {},
   "outputs": [
    {
     "data": {
      "text/html": [
       "<div>\n",
       "<style>\n",
       "    .dataframe thead tr:only-child th {\n",
       "        text-align: right;\n",
       "    }\n",
       "\n",
       "    .dataframe thead th {\n",
       "        text-align: left;\n",
       "    }\n",
       "\n",
       "    .dataframe tbody tr th {\n",
       "        vertical-align: top;\n",
       "    }\n",
       "</style>\n",
       "<table border=\"1\" class=\"dataframe\">\n",
       "  <thead>\n",
       "    <tr style=\"text-align: right;\">\n",
       "      <th></th>\n",
       "      <th>att1</th>\n",
       "      <th>att2</th>\n",
       "      <th>att3</th>\n",
       "      <th>att4</th>\n",
       "      <th>att5</th>\n",
       "      <th>att6</th>\n",
       "      <th>att7</th>\n",
       "      <th>att8</th>\n",
       "      <th>att9</th>\n",
       "      <th>att10</th>\n",
       "      <th>...</th>\n",
       "      <th>att19</th>\n",
       "      <th>att20</th>\n",
       "      <th>att21</th>\n",
       "      <th>att22</th>\n",
       "      <th>att23</th>\n",
       "      <th>att24</th>\n",
       "      <th>att25</th>\n",
       "      <th>att26</th>\n",
       "      <th>att27</th>\n",
       "      <th>outlier</th>\n",
       "    </tr>\n",
       "  </thead>\n",
       "  <tbody>\n",
       "    <tr>\n",
       "      <th>0</th>\n",
       "      <td>0.784999</td>\n",
       "      <td>0.000018</td>\n",
       "      <td>0.0</td>\n",
       "      <td>0.000093</td>\n",
       "      <td>0.0</td>\n",
       "      <td>0.0</td>\n",
       "      <td>0.0</td>\n",
       "      <td>0.0</td>\n",
       "      <td>0.0</td>\n",
       "      <td>0.139811</td>\n",
       "      <td>...</td>\n",
       "      <td>0.048171</td>\n",
       "      <td>0.001189</td>\n",
       "      <td>0.0</td>\n",
       "      <td>0.115728</td>\n",
       "      <td>0.023449</td>\n",
       "      <td>0.0002</td>\n",
       "      <td>0.000220</td>\n",
       "      <td>0.034952</td>\n",
       "      <td>0.046914</td>\n",
       "      <td>1</td>\n",
       "    </tr>\n",
       "    <tr>\n",
       "      <th>1</th>\n",
       "      <td>0.958088</td>\n",
       "      <td>0.000000</td>\n",
       "      <td>0.0</td>\n",
       "      <td>0.001671</td>\n",
       "      <td>0.0</td>\n",
       "      <td>0.0</td>\n",
       "      <td>0.0</td>\n",
       "      <td>0.0</td>\n",
       "      <td>0.0</td>\n",
       "      <td>0.019556</td>\n",
       "      <td>...</td>\n",
       "      <td>0.000000</td>\n",
       "      <td>0.000000</td>\n",
       "      <td>0.0</td>\n",
       "      <td>0.022035</td>\n",
       "      <td>0.007516</td>\n",
       "      <td>0.0000</td>\n",
       "      <td>0.000000</td>\n",
       "      <td>0.001033</td>\n",
       "      <td>0.000000</td>\n",
       "      <td>1</td>\n",
       "    </tr>\n",
       "    <tr>\n",
       "      <th>2</th>\n",
       "      <td>0.938768</td>\n",
       "      <td>0.000000</td>\n",
       "      <td>0.0</td>\n",
       "      <td>0.005146</td>\n",
       "      <td>0.0</td>\n",
       "      <td>0.0</td>\n",
       "      <td>0.0</td>\n",
       "      <td>0.0</td>\n",
       "      <td>0.0</td>\n",
       "      <td>0.018451</td>\n",
       "      <td>...</td>\n",
       "      <td>0.000000</td>\n",
       "      <td>0.000000</td>\n",
       "      <td>0.0</td>\n",
       "      <td>0.035542</td>\n",
       "      <td>0.011982</td>\n",
       "      <td>0.0000</td>\n",
       "      <td>0.001595</td>\n",
       "      <td>0.019520</td>\n",
       "      <td>0.000000</td>\n",
       "      <td>1</td>\n",
       "    </tr>\n",
       "    <tr>\n",
       "      <th>3</th>\n",
       "      <td>0.954775</td>\n",
       "      <td>0.000000</td>\n",
       "      <td>0.0</td>\n",
       "      <td>0.001427</td>\n",
       "      <td>0.0</td>\n",
       "      <td>0.0</td>\n",
       "      <td>0.0</td>\n",
       "      <td>0.0</td>\n",
       "      <td>0.0</td>\n",
       "      <td>0.024944</td>\n",
       "      <td>...</td>\n",
       "      <td>0.000000</td>\n",
       "      <td>0.000000</td>\n",
       "      <td>0.0</td>\n",
       "      <td>0.019941</td>\n",
       "      <td>0.000805</td>\n",
       "      <td>0.0000</td>\n",
       "      <td>0.000000</td>\n",
       "      <td>0.000035</td>\n",
       "      <td>0.000000</td>\n",
       "      <td>1</td>\n",
       "    </tr>\n",
       "    <tr>\n",
       "      <th>4</th>\n",
       "      <td>0.933601</td>\n",
       "      <td>0.000000</td>\n",
       "      <td>0.0</td>\n",
       "      <td>0.001682</td>\n",
       "      <td>0.0</td>\n",
       "      <td>0.0</td>\n",
       "      <td>0.0</td>\n",
       "      <td>0.0</td>\n",
       "      <td>0.0</td>\n",
       "      <td>0.037002</td>\n",
       "      <td>...</td>\n",
       "      <td>0.000000</td>\n",
       "      <td>0.000000</td>\n",
       "      <td>0.0</td>\n",
       "      <td>0.046759</td>\n",
       "      <td>0.002663</td>\n",
       "      <td>0.0000</td>\n",
       "      <td>0.000339</td>\n",
       "      <td>0.001359</td>\n",
       "      <td>0.000000</td>\n",
       "      <td>1</td>\n",
       "    </tr>\n",
       "  </tbody>\n",
       "</table>\n",
       "<p>5 rows × 28 columns</p>\n",
       "</div>"
      ],
      "text/plain": [
       "       att1      att2  att3      att4  att5  att6  att7  att8  att9     att10  \\\n",
       "0  0.784999  0.000018   0.0  0.000093   0.0   0.0   0.0   0.0   0.0  0.139811   \n",
       "1  0.958088  0.000000   0.0  0.001671   0.0   0.0   0.0   0.0   0.0  0.019556   \n",
       "2  0.938768  0.000000   0.0  0.005146   0.0   0.0   0.0   0.0   0.0  0.018451   \n",
       "3  0.954775  0.000000   0.0  0.001427   0.0   0.0   0.0   0.0   0.0  0.024944   \n",
       "4  0.933601  0.000000   0.0  0.001682   0.0   0.0   0.0   0.0   0.0  0.037002   \n",
       "\n",
       "    ...        att19     att20  att21     att22     att23   att24     att25  \\\n",
       "0   ...     0.048171  0.001189    0.0  0.115728  0.023449  0.0002  0.000220   \n",
       "1   ...     0.000000  0.000000    0.0  0.022035  0.007516  0.0000  0.000000   \n",
       "2   ...     0.000000  0.000000    0.0  0.035542  0.011982  0.0000  0.001595   \n",
       "3   ...     0.000000  0.000000    0.0  0.019941  0.000805  0.0000  0.000000   \n",
       "4   ...     0.000000  0.000000    0.0  0.046759  0.002663  0.0000  0.000339   \n",
       "\n",
       "      att26     att27  outlier  \n",
       "0  0.034952  0.046914        1  \n",
       "1  0.001033  0.000000        1  \n",
       "2  0.019520  0.000000        1  \n",
       "3  0.000035  0.000000        1  \n",
       "4  0.001359  0.000000        1  \n",
       "\n",
       "[5 rows x 28 columns]"
      ]
     },
     "execution_count": 19,
     "metadata": {},
     "output_type": "execute_result"
    }
   ],
   "source": [
    "# load data\n",
    "df=pd.read_csv('ALOI_norm.csv')  \n",
    "\n",
    "del df['id']\n",
    "del df['Unnamed: 0']\n",
    "df['outlier'] = df.outlier.apply(lambda label: 1 if label == \"'yes'\" else 0)\n",
    "\n",
    "df.head()"
   ]
  },
  {
   "cell_type": "code",
   "execution_count": 20,
   "metadata": {},
   "outputs": [
    {
     "data": {
      "text/plain": [
       "(50000, 28)"
      ]
     },
     "execution_count": 20,
     "metadata": {},
     "output_type": "execute_result"
    }
   ],
   "source": [
    "df.shape"
   ]
  },
  {
   "cell_type": "code",
   "execution_count": 21,
   "metadata": {
    "collapsed": true
   },
   "outputs": [],
   "source": [
    "# data to values\n",
    "df = df.values"
   ]
  },
  {
   "cell_type": "code",
   "execution_count": 22,
   "metadata": {
    "collapsed": true
   },
   "outputs": [],
   "source": [
    "# Extratrees Deep\n",
    "import argparse\n",
    "import sys\n",
    "import pickle\n",
    "from sklearn.metrics import accuracy_score\n",
    "sys.path.insert(0, \"lib\")\n",
    "from gcforest.gcforest import GCForest\n",
    "from gcforest.utils.config_utils import load_json\n",
    "config = load_json(\"./examples/aloi.json\")\n",
    "gc = GCForest(config)"
   ]
  },
  {
   "cell_type": "code",
   "execution_count": 23,
   "metadata": {
    "collapsed": true
   },
   "outputs": [],
   "source": [
    "# train test \n",
    "from sklearn.cross_validation import train_test_split\n",
    "y = df[:,27]\n",
    "X = df[:,0:27]\n",
    "\n",
    "X_train,X_test,y_train,y_test = train_test_split(X, y, test_size=0.33, random_state=42)"
   ]
  },
  {
   "cell_type": "code",
   "execution_count": 24,
   "metadata": {},
   "outputs": [
    {
     "data": {
      "text/plain": [
       "2"
      ]
     },
     "execution_count": 24,
     "metadata": {},
     "output_type": "execute_result"
    }
   ],
   "source": [
    "# number of class\n",
    "len(np.unique(y_train))"
   ]
  },
  {
   "cell_type": "code",
   "execution_count": 26,
   "metadata": {},
   "outputs": [
    {
     "name": "stderr",
     "output_type": "stream",
     "text": [
      "[ 2018-04-25 00:21:24,562][cascade_classifier.fit_transform] X_groups_train.shape=[(33500, 27)],y_train.shape=(33500,),X_groups_test.shape=[(16500, 27)],y_test.shape=(16500,)\n",
      "[ 2018-04-25 00:21:24,568][cascade_classifier.fit_transform] group_dims=[27]\n",
      "[ 2018-04-25 00:21:24,570][cascade_classifier.fit_transform] group_starts=[0]\n",
      "[ 2018-04-25 00:21:24,571][cascade_classifier.fit_transform] group_ends=[27]\n",
      "[ 2018-04-25 00:21:24,573][cascade_classifier.fit_transform] X_train.shape=(33500, 27),X_test.shape=(16500, 27)\n",
      "[ 2018-04-25 00:21:24,578][cascade_classifier.fit_transform] [layer=0] look_indexs=[0], X_cur_train.shape=(33500, 27), X_cur_test.shape=(16500, 27)\n",
      "[ 2018-04-25 00:21:25,504][kfold_wrapper.log_eval_metrics] Accuracy(layer_0 - estimator_0 - 10_folds.train_0.predict)=97.49%\n",
      "[ 2018-04-25 00:21:26,370][kfold_wrapper.log_eval_metrics] Accuracy(layer_0 - estimator_0 - 10_folds.train_1.predict)=97.34%\n",
      "[ 2018-04-25 00:21:27,222][kfold_wrapper.log_eval_metrics] Accuracy(layer_0 - estimator_0 - 10_folds.train_2.predict)=97.25%\n",
      "[ 2018-04-25 00:21:28,116][kfold_wrapper.log_eval_metrics] Accuracy(layer_0 - estimator_0 - 10_folds.train_3.predict)=97.34%\n",
      "[ 2018-04-25 00:21:28,967][kfold_wrapper.log_eval_metrics] Accuracy(layer_0 - estimator_0 - 10_folds.train_4.predict)=97.40%\n",
      "[ 2018-04-25 00:21:29,853][kfold_wrapper.log_eval_metrics] Accuracy(layer_0 - estimator_0 - 10_folds.train_5.predict)=97.31%\n",
      "[ 2018-04-25 00:21:30,859][kfold_wrapper.log_eval_metrics] Accuracy(layer_0 - estimator_0 - 10_folds.train_6.predict)=97.46%\n",
      "[ 2018-04-25 00:21:31,692][kfold_wrapper.log_eval_metrics] Accuracy(layer_0 - estimator_0 - 10_folds.train_7.predict)=97.43%\n",
      "[ 2018-04-25 00:21:32,523][kfold_wrapper.log_eval_metrics] Accuracy(layer_0 - estimator_0 - 10_folds.train_8.predict)=97.49%\n",
      "[ 2018-04-25 00:21:33,373][kfold_wrapper.log_eval_metrics] Accuracy(layer_0 - estimator_0 - 10_folds.train_9.predict)=97.58%\n",
      "[ 2018-04-25 00:21:33,516][kfold_wrapper.log_eval_metrics] Accuracy(layer_0 - estimator_0 - 10_folds.train_cv.predict)=97.41%\n",
      "[ 2018-04-25 00:21:33,519][kfold_wrapper.log_eval_metrics] Accuracy(layer_0 - estimator_0 - 10_folds.test.predict)=97.04%\n",
      "[ 2018-04-25 00:21:33,522][cascade_classifier.calc_accuracy] Accuracy(layer_0 - train.classifier_average)=97.41%\n",
      "[ 2018-04-25 00:21:33,524][cascade_classifier.calc_accuracy] Accuracy(layer_0 - test.classifier_average)=97.04%\n",
      "[ 2018-04-25 00:21:33,526][cascade_classifier.fit_transform] [Result][Reach Max Layer] opt_layer_num=1, accuracy_train=97.41%, accuracy_test=97.04%\n"
     ]
    }
   ],
   "source": [
    "         # X_enc is the concatenated predict_proba result of ExtraTrees\n",
    "\n",
    "X_train_enc, X_test_enc = gc.fit_transform(X_train, y_train, X_test=X_test, y_test=y_test)\n",
    "   "
   ]
  },
  {
   "cell_type": "code",
   "execution_count": 27,
   "metadata": {},
   "outputs": [
    {
     "name": "stderr",
     "output_type": "stream",
     "text": [
      "[ 2018-04-25 00:21:33,536][cascade_classifier.transform] X_groups_test.shape=[(16500, 27)]\n",
      "[ 2018-04-25 00:21:33,539][cascade_classifier.transform] group_dims=[27]\n",
      "[ 2018-04-25 00:21:33,540][cascade_classifier.transform] X_test.shape=(16500, 27)\n",
      "[ 2018-04-25 00:21:33,543][cascade_classifier.transform] [layer=0] look_indexs=[0], X_cur_test.shape=(16500, 27)\n"
     ]
    },
    {
     "name": "stdout",
     "output_type": "stream",
     "text": [
      "Test Accuracy of ExtraTrees = 97.042424 %\n"
     ]
    }
   ],
   "source": [
    "# predict\n",
    "y_pred = gc.predict(X_test)\n",
    "acc = accuracy_score(y_test, y_pred)\n",
    "print(\"Test Accuracy of ExtraTrees = {:.6f} %\".format(acc * 100))"
   ]
  },
  {
   "cell_type": "code",
   "execution_count": 28,
   "metadata": {},
   "outputs": [
    {
     "name": "stderr",
     "output_type": "stream",
     "text": [
      "[ 2018-04-25 00:21:35,076][cascade_classifier.transform] X_groups_test.shape=[(16500, 27)]\n",
      "[ 2018-04-25 00:21:35,079][cascade_classifier.transform] group_dims=[27]\n",
      "[ 2018-04-25 00:21:35,080][cascade_classifier.transform] X_test.shape=(16500, 27)\n",
      "[ 2018-04-25 00:21:35,082][cascade_classifier.transform] [layer=0] look_indexs=[0], X_cur_test.shape=(16500, 27)\n"
     ]
    }
   ],
   "source": [
    "# Make data + estimators\n",
    "X_test_enc = gc.transform(X_test)\n",
    "X_train_enc = X_train_enc.reshape((X_train_enc.shape[0], -1))\n",
    "X_test_enc = X_test_enc.reshape((X_test_enc.shape[0], -1))\n",
    "X_train_origin = X_train.reshape((X_train.shape[0], -1))\n",
    "X_test_origin = X_test.reshape((X_test.shape[0], -1))\n",
    "X_train_enc = np.hstack((X_train_origin, X_train_enc))\n",
    "X_test_enc = np.hstack((X_test_origin, X_test_enc))"
   ]
  },
  {
   "cell_type": "code",
   "execution_count": 29,
   "metadata": {},
   "outputs": [
    {
     "name": "stderr",
     "output_type": "stream",
     "text": [
      "[ 2018-04-25 00:21:36,457][cascade_classifier.fit_transform] X_groups_train.shape=[(33500, 29)],y_train.shape=(33500,),X_groups_test.shape=[(16500, 29)],y_test.shape=(16500,)\n",
      "[ 2018-04-25 00:21:36,461][cascade_classifier.fit_transform] group_dims=[29]\n",
      "[ 2018-04-25 00:21:36,462][cascade_classifier.fit_transform] group_starts=[0]\n",
      "[ 2018-04-25 00:21:36,464][cascade_classifier.fit_transform] group_ends=[29]\n",
      "[ 2018-04-25 00:21:36,465][cascade_classifier.fit_transform] X_train.shape=(33500, 29),X_test.shape=(16500, 29)\n",
      "[ 2018-04-25 00:21:36,469][cascade_classifier.fit_transform] [layer=0] look_indexs=[0], X_cur_train.shape=(33500, 29), X_cur_test.shape=(16500, 29)\n",
      "[ 2018-04-25 00:21:37,204][kfold_wrapper.log_eval_metrics] Accuracy(layer_0 - estimator_0 - 10_folds.train_0.predict)=97.85%\n",
      "[ 2018-04-25 00:21:38,094][kfold_wrapper.log_eval_metrics] Accuracy(layer_0 - estimator_0 - 10_folds.train_1.predict)=97.82%\n",
      "[ 2018-04-25 00:21:38,963][kfold_wrapper.log_eval_metrics] Accuracy(layer_0 - estimator_0 - 10_folds.train_2.predict)=97.76%\n",
      "[ 2018-04-25 00:21:39,827][kfold_wrapper.log_eval_metrics] Accuracy(layer_0 - estimator_0 - 10_folds.train_3.predict)=97.94%\n",
      "[ 2018-04-25 00:21:40,727][kfold_wrapper.log_eval_metrics] Accuracy(layer_0 - estimator_0 - 10_folds.train_4.predict)=97.70%\n",
      "[ 2018-04-25 00:21:41,694][kfold_wrapper.log_eval_metrics] Accuracy(layer_0 - estimator_0 - 10_folds.train_5.predict)=97.79%\n",
      "[ 2018-04-25 00:21:42,540][kfold_wrapper.log_eval_metrics] Accuracy(layer_0 - estimator_0 - 10_folds.train_6.predict)=97.85%\n",
      "[ 2018-04-25 00:21:43,403][kfold_wrapper.log_eval_metrics] Accuracy(layer_0 - estimator_0 - 10_folds.train_7.predict)=98.00%\n",
      "[ 2018-04-25 00:21:44,315][kfold_wrapper.log_eval_metrics] Accuracy(layer_0 - estimator_0 - 10_folds.train_8.predict)=97.67%\n",
      "[ 2018-04-25 00:21:45,242][kfold_wrapper.log_eval_metrics] Accuracy(layer_0 - estimator_0 - 10_folds.train_9.predict)=97.97%\n",
      "[ 2018-04-25 00:21:45,389][kfold_wrapper.log_eval_metrics] Accuracy(layer_0 - estimator_0 - 10_folds.train_cv.predict)=97.84%\n",
      "[ 2018-04-25 00:21:45,391][kfold_wrapper.log_eval_metrics] Accuracy(layer_0 - estimator_0 - 10_folds.test.predict)=97.78%\n",
      "[ 2018-04-25 00:21:45,397][cascade_classifier.calc_accuracy] Accuracy(layer_0 - train.classifier_average)=97.84%\n",
      "[ 2018-04-25 00:21:45,399][cascade_classifier.calc_accuracy] Accuracy(layer_0 - test.classifier_average)=97.78%\n",
      "[ 2018-04-25 00:21:45,401][cascade_classifier.fit_transform] [Result][Reach Max Layer] opt_layer_num=1, accuracy_train=97.84%, accuracy_test=97.78%\n"
     ]
    }
   ],
   "source": [
    "# New data\n",
    "X_train=X_train_enc\n",
    "X_test=X_test_enc \n",
    "X_train_enc, X_test_enc = gc.fit_transform(X_train, y_train, X_test=X_test, y_test=y_test)"
   ]
  },
  {
   "cell_type": "code",
   "execution_count": 30,
   "metadata": {},
   "outputs": [
    {
     "name": "stderr",
     "output_type": "stream",
     "text": [
      "[ 2018-04-25 00:21:45,411][cascade_classifier.transform] X_groups_test.shape=[(16500, 29)]\n",
      "[ 2018-04-25 00:21:45,414][cascade_classifier.transform] group_dims=[29]\n",
      "[ 2018-04-25 00:21:45,417][cascade_classifier.transform] X_test.shape=(16500, 29)\n",
      "[ 2018-04-25 00:21:45,420][cascade_classifier.transform] [layer=0] look_indexs=[0], X_cur_test.shape=(16500, 29)\n"
     ]
    },
    {
     "name": "stdout",
     "output_type": "stream",
     "text": [
      "Test Accuracy of ExtraTrees = 97.775758 %\n"
     ]
    }
   ],
   "source": [
    "# predict  data + Es\n",
    "y_pred = gc.predict(X_test)\n",
    "acc = accuracy_score(y_test, y_pred)\n",
    "print(\"Test Accuracy of ExtraTrees = {:.6f} %\".format(acc * 100))"
   ]
  },
  {
   "cell_type": "code",
   "execution_count": 31,
   "metadata": {
    "collapsed": true
   },
   "outputs": [],
   "source": [
    "def update(X_train,X_test):\n",
    "    # update Estimators\n",
    "    M = np.delete(X_train, (-1), axis=1)\n",
    "    X_train= np.delete(M, (-1), axis=1)\n",
    "    M = np.delete(X_test, (-1), axis=1)\n",
    "    X_test = np.delete(M, (-1), axis=1)\n",
    "    return X_train,X_test\n",
    "\n",
    "def newdata(X_test_enc, X_train_enc):\n",
    "    # Make Data + Estimators\n",
    "    X_train_origin = X_train.reshape((X_train.shape[0], -1))\n",
    "    X_test_origin = X_test.reshape((X_test.shape[0], -1))\n",
    "    X_train_enc = np.hstack((X_train_origin, X_train_enc))\n",
    "    X_test_enc = np.hstack((X_test_origin, X_test_enc))\n",
    "    return X_test_enc, X_train_enc\n",
    "\n",
    "def affiche():\n",
    "    # predict\n",
    "    y_pred = gc.predict(X_test)\n",
    "    acc = accuracy_score(y_test, y_pred)\n",
    "    print(\"Test Accuracy of ExtraTrees = {:.6f} %\".format(acc * 100),i,'fois')"
   ]
  },
  {
   "cell_type": "code",
   "execution_count": 32,
   "metadata": {},
   "outputs": [
    {
     "name": "stderr",
     "output_type": "stream",
     "text": [
      "[ 2018-04-25 00:21:46,849][cascade_classifier.fit_transform] X_groups_train.shape=[(33500, 29)],y_train.shape=(33500,),X_groups_test.shape=[(16500, 29)],y_test.shape=(16500,)\n",
      "[ 2018-04-25 00:21:46,852][cascade_classifier.fit_transform] group_dims=[29]\n",
      "[ 2018-04-25 00:21:46,854][cascade_classifier.fit_transform] group_starts=[0]\n",
      "[ 2018-04-25 00:21:46,856][cascade_classifier.fit_transform] group_ends=[29]\n",
      "[ 2018-04-25 00:21:46,857][cascade_classifier.fit_transform] X_train.shape=(33500, 29),X_test.shape=(16500, 29)\n",
      "[ 2018-04-25 00:21:46,862][cascade_classifier.fit_transform] [layer=0] look_indexs=[0], X_cur_train.shape=(33500, 29), X_cur_test.shape=(16500, 29)\n",
      "[ 2018-04-25 00:21:47,566][kfold_wrapper.log_eval_metrics] Accuracy(layer_0 - estimator_0 - 10_folds.train_0.predict)=97.67%\n",
      "[ 2018-04-25 00:21:48,550][kfold_wrapper.log_eval_metrics] Accuracy(layer_0 - estimator_0 - 10_folds.train_1.predict)=97.70%\n",
      "[ 2018-04-25 00:21:49,443][kfold_wrapper.log_eval_metrics] Accuracy(layer_0 - estimator_0 - 10_folds.train_2.predict)=97.82%\n",
      "[ 2018-04-25 00:21:50,305][kfold_wrapper.log_eval_metrics] Accuracy(layer_0 - estimator_0 - 10_folds.train_3.predict)=97.91%\n",
      "[ 2018-04-25 00:21:51,175][kfold_wrapper.log_eval_metrics] Accuracy(layer_0 - estimator_0 - 10_folds.train_4.predict)=97.82%\n",
      "[ 2018-04-25 00:21:52,026][kfold_wrapper.log_eval_metrics] Accuracy(layer_0 - estimator_0 - 10_folds.train_5.predict)=97.79%\n",
      "[ 2018-04-25 00:21:52,897][kfold_wrapper.log_eval_metrics] Accuracy(layer_0 - estimator_0 - 10_folds.train_6.predict)=97.79%\n",
      "[ 2018-04-25 00:21:53,876][kfold_wrapper.log_eval_metrics] Accuracy(layer_0 - estimator_0 - 10_folds.train_7.predict)=97.97%\n",
      "[ 2018-04-25 00:21:54,975][kfold_wrapper.log_eval_metrics] Accuracy(layer_0 - estimator_0 - 10_folds.train_8.predict)=97.64%\n",
      "[ 2018-04-25 00:21:55,963][kfold_wrapper.log_eval_metrics] Accuracy(layer_0 - estimator_0 - 10_folds.train_9.predict)=97.76%\n",
      "[ 2018-04-25 00:21:56,106][kfold_wrapper.log_eval_metrics] Accuracy(layer_0 - estimator_0 - 10_folds.train_cv.predict)=97.79%\n",
      "[ 2018-04-25 00:21:56,109][kfold_wrapper.log_eval_metrics] Accuracy(layer_0 - estimator_0 - 10_folds.test.predict)=97.72%\n",
      "[ 2018-04-25 00:21:56,120][cascade_classifier.calc_accuracy] Accuracy(layer_0 - train.classifier_average)=97.79%\n",
      "[ 2018-04-25 00:21:56,121][cascade_classifier.calc_accuracy] Accuracy(layer_0 - test.classifier_average)=97.72%\n",
      "[ 2018-04-25 00:21:56,123][cascade_classifier.fit_transform] [Result][Reach Max Layer] opt_layer_num=1, accuracy_train=97.79%, accuracy_test=97.72%\n",
      "[ 2018-04-25 00:21:56,125][cascade_classifier.transform] X_groups_test.shape=[(16500, 29)]\n",
      "[ 2018-04-25 00:21:56,128][cascade_classifier.transform] group_dims=[29]\n",
      "[ 2018-04-25 00:21:56,129][cascade_classifier.transform] X_test.shape=(16500, 29)\n",
      "[ 2018-04-25 00:21:56,132][cascade_classifier.transform] [layer=0] look_indexs=[0], X_cur_test.shape=(16500, 29)\n",
      "[ 2018-04-25 00:21:57,519][cascade_classifier.fit_transform] X_groups_train.shape=[(33500, 29)],y_train.shape=(33500,),X_groups_test.shape=[(16500, 29)],y_test.shape=(16500,)\n",
      "[ 2018-04-25 00:21:57,524][cascade_classifier.fit_transform] group_dims=[29]\n",
      "[ 2018-04-25 00:21:57,525][cascade_classifier.fit_transform] group_starts=[0]\n",
      "[ 2018-04-25 00:21:57,526][cascade_classifier.fit_transform] group_ends=[29]\n",
      "[ 2018-04-25 00:21:57,527][cascade_classifier.fit_transform] X_train.shape=(33500, 29),X_test.shape=(16500, 29)\n",
      "[ 2018-04-25 00:21:57,531][cascade_classifier.fit_transform] [layer=0] look_indexs=[0], X_cur_train.shape=(33500, 29), X_cur_test.shape=(16500, 29)\n"
     ]
    },
    {
     "name": "stdout",
     "output_type": "stream",
     "text": [
      "('Test Accuracy of ExtraTrees = 97.715152 %', 0, 'fois')\n"
     ]
    },
    {
     "name": "stderr",
     "output_type": "stream",
     "text": [
      "[ 2018-04-25 00:21:58,229][kfold_wrapper.log_eval_metrics] Accuracy(layer_0 - estimator_0 - 10_folds.train_0.predict)=97.67%\n",
      "[ 2018-04-25 00:21:59,102][kfold_wrapper.log_eval_metrics] Accuracy(layer_0 - estimator_0 - 10_folds.train_1.predict)=98.00%\n",
      "[ 2018-04-25 00:21:59,969][kfold_wrapper.log_eval_metrics] Accuracy(layer_0 - estimator_0 - 10_folds.train_2.predict)=97.64%\n",
      "[ 2018-04-25 00:22:00,787][kfold_wrapper.log_eval_metrics] Accuracy(layer_0 - estimator_0 - 10_folds.train_3.predict)=97.73%\n",
      "[ 2018-04-25 00:22:01,621][kfold_wrapper.log_eval_metrics] Accuracy(layer_0 - estimator_0 - 10_folds.train_4.predict)=97.73%\n",
      "[ 2018-04-25 00:22:02,485][kfold_wrapper.log_eval_metrics] Accuracy(layer_0 - estimator_0 - 10_folds.train_5.predict)=97.58%\n",
      "[ 2018-04-25 00:22:03,419][kfold_wrapper.log_eval_metrics] Accuracy(layer_0 - estimator_0 - 10_folds.train_6.predict)=97.79%\n",
      "[ 2018-04-25 00:22:04,422][kfold_wrapper.log_eval_metrics] Accuracy(layer_0 - estimator_0 - 10_folds.train_7.predict)=97.79%\n",
      "[ 2018-04-25 00:22:05,230][kfold_wrapper.log_eval_metrics] Accuracy(layer_0 - estimator_0 - 10_folds.train_8.predict)=97.67%\n",
      "[ 2018-04-25 00:22:06,101][kfold_wrapper.log_eval_metrics] Accuracy(layer_0 - estimator_0 - 10_folds.train_9.predict)=97.70%\n",
      "[ 2018-04-25 00:22:06,255][kfold_wrapper.log_eval_metrics] Accuracy(layer_0 - estimator_0 - 10_folds.train_cv.predict)=97.73%\n",
      "[ 2018-04-25 00:22:06,258][kfold_wrapper.log_eval_metrics] Accuracy(layer_0 - estimator_0 - 10_folds.test.predict)=97.61%\n",
      "[ 2018-04-25 00:22:06,268][cascade_classifier.calc_accuracy] Accuracy(layer_0 - train.classifier_average)=97.73%\n",
      "[ 2018-04-25 00:22:06,270][cascade_classifier.calc_accuracy] Accuracy(layer_0 - test.classifier_average)=97.61%\n",
      "[ 2018-04-25 00:22:06,272][cascade_classifier.fit_transform] [Result][Reach Max Layer] opt_layer_num=1, accuracy_train=97.73%, accuracy_test=97.61%\n",
      "[ 2018-04-25 00:22:06,273][cascade_classifier.transform] X_groups_test.shape=[(16500, 29)]\n",
      "[ 2018-04-25 00:22:06,276][cascade_classifier.transform] group_dims=[29]\n",
      "[ 2018-04-25 00:22:06,277][cascade_classifier.transform] X_test.shape=(16500, 29)\n",
      "[ 2018-04-25 00:22:06,280][cascade_classifier.transform] [layer=0] look_indexs=[0], X_cur_test.shape=(16500, 29)\n",
      "[ 2018-04-25 00:22:07,888][cascade_classifier.fit_transform] X_groups_train.shape=[(33500, 29)],y_train.shape=(33500,),X_groups_test.shape=[(16500, 29)],y_test.shape=(16500,)\n",
      "[ 2018-04-25 00:22:07,892][cascade_classifier.fit_transform] group_dims=[29]\n",
      "[ 2018-04-25 00:22:07,893][cascade_classifier.fit_transform] group_starts=[0]\n",
      "[ 2018-04-25 00:22:07,895][cascade_classifier.fit_transform] group_ends=[29]\n",
      "[ 2018-04-25 00:22:07,897][cascade_classifier.fit_transform] X_train.shape=(33500, 29),X_test.shape=(16500, 29)\n",
      "[ 2018-04-25 00:22:07,901][cascade_classifier.fit_transform] [layer=0] look_indexs=[0], X_cur_train.shape=(33500, 29), X_cur_test.shape=(16500, 29)\n"
     ]
    },
    {
     "name": "stdout",
     "output_type": "stream",
     "text": [
      "('Test Accuracy of ExtraTrees = 97.606061 %', 1, 'fois')\n"
     ]
    },
    {
     "name": "stderr",
     "output_type": "stream",
     "text": [
      "[ 2018-04-25 00:22:08,773][kfold_wrapper.log_eval_metrics] Accuracy(layer_0 - estimator_0 - 10_folds.train_0.predict)=97.58%\n",
      "[ 2018-04-25 00:22:09,692][kfold_wrapper.log_eval_metrics] Accuracy(layer_0 - estimator_0 - 10_folds.train_1.predict)=97.76%\n",
      "[ 2018-04-25 00:22:10,604][kfold_wrapper.log_eval_metrics] Accuracy(layer_0 - estimator_0 - 10_folds.train_2.predict)=97.76%\n",
      "[ 2018-04-25 00:22:11,487][kfold_wrapper.log_eval_metrics] Accuracy(layer_0 - estimator_0 - 10_folds.train_3.predict)=97.82%\n",
      "[ 2018-04-25 00:22:12,349][kfold_wrapper.log_eval_metrics] Accuracy(layer_0 - estimator_0 - 10_folds.train_4.predict)=97.82%\n",
      "[ 2018-04-25 00:22:13,200][kfold_wrapper.log_eval_metrics] Accuracy(layer_0 - estimator_0 - 10_folds.train_5.predict)=97.46%\n",
      "[ 2018-04-25 00:22:14,097][kfold_wrapper.log_eval_metrics] Accuracy(layer_0 - estimator_0 - 10_folds.train_6.predict)=97.67%\n",
      "[ 2018-04-25 00:22:14,972][kfold_wrapper.log_eval_metrics] Accuracy(layer_0 - estimator_0 - 10_folds.train_7.predict)=97.97%\n",
      "[ 2018-04-25 00:22:15,946][kfold_wrapper.log_eval_metrics] Accuracy(layer_0 - estimator_0 - 10_folds.train_8.predict)=97.55%\n",
      "[ 2018-04-25 00:22:16,849][kfold_wrapper.log_eval_metrics] Accuracy(layer_0 - estimator_0 - 10_folds.train_9.predict)=97.55%\n",
      "[ 2018-04-25 00:22:16,986][kfold_wrapper.log_eval_metrics] Accuracy(layer_0 - estimator_0 - 10_folds.train_cv.predict)=97.70%\n",
      "[ 2018-04-25 00:22:16,987][kfold_wrapper.log_eval_metrics] Accuracy(layer_0 - estimator_0 - 10_folds.test.predict)=97.51%\n",
      "[ 2018-04-25 00:22:16,997][cascade_classifier.calc_accuracy] Accuracy(layer_0 - train.classifier_average)=97.70%\n",
      "[ 2018-04-25 00:22:16,998][cascade_classifier.calc_accuracy] Accuracy(layer_0 - test.classifier_average)=97.51%\n",
      "[ 2018-04-25 00:22:17,000][cascade_classifier.fit_transform] [Result][Reach Max Layer] opt_layer_num=1, accuracy_train=97.70%, accuracy_test=97.51%\n",
      "[ 2018-04-25 00:22:17,001][cascade_classifier.transform] X_groups_test.shape=[(16500, 29)]\n",
      "[ 2018-04-25 00:22:17,004][cascade_classifier.transform] group_dims=[29]\n",
      "[ 2018-04-25 00:22:17,005][cascade_classifier.transform] X_test.shape=(16500, 29)\n",
      "[ 2018-04-25 00:22:17,007][cascade_classifier.transform] [layer=0] look_indexs=[0], X_cur_test.shape=(16500, 29)\n",
      "[ 2018-04-25 00:22:18,368][cascade_classifier.fit_transform] X_groups_train.shape=[(33500, 29)],y_train.shape=(33500,),X_groups_test.shape=[(16500, 29)],y_test.shape=(16500,)\n",
      "[ 2018-04-25 00:22:18,372][cascade_classifier.fit_transform] group_dims=[29]\n",
      "[ 2018-04-25 00:22:18,374][cascade_classifier.fit_transform] group_starts=[0]\n",
      "[ 2018-04-25 00:22:18,375][cascade_classifier.fit_transform] group_ends=[29]\n",
      "[ 2018-04-25 00:22:18,377][cascade_classifier.fit_transform] X_train.shape=(33500, 29),X_test.shape=(16500, 29)\n",
      "[ 2018-04-25 00:22:18,382][cascade_classifier.fit_transform] [layer=0] look_indexs=[0], X_cur_train.shape=(33500, 29), X_cur_test.shape=(16500, 29)\n"
     ]
    },
    {
     "name": "stdout",
     "output_type": "stream",
     "text": [
      "('Test Accuracy of ExtraTrees = 97.509091 %', 2, 'fois')\n"
     ]
    },
    {
     "name": "stderr",
     "output_type": "stream",
     "text": [
      "[ 2018-04-25 00:22:19,264][kfold_wrapper.log_eval_metrics] Accuracy(layer_0 - estimator_0 - 10_folds.train_0.predict)=97.73%\n",
      "[ 2018-04-25 00:22:20,283][kfold_wrapper.log_eval_metrics] Accuracy(layer_0 - estimator_0 - 10_folds.train_1.predict)=97.67%\n",
      "[ 2018-04-25 00:22:21,308][kfold_wrapper.log_eval_metrics] Accuracy(layer_0 - estimator_0 - 10_folds.train_2.predict)=97.76%\n",
      "[ 2018-04-25 00:22:22,199][kfold_wrapper.log_eval_metrics] Accuracy(layer_0 - estimator_0 - 10_folds.train_3.predict)=97.79%\n",
      "[ 2018-04-25 00:22:23,036][kfold_wrapper.log_eval_metrics] Accuracy(layer_0 - estimator_0 - 10_folds.train_4.predict)=97.73%\n",
      "[ 2018-04-25 00:22:23,872][kfold_wrapper.log_eval_metrics] Accuracy(layer_0 - estimator_0 - 10_folds.train_5.predict)=97.49%\n",
      "[ 2018-04-25 00:22:24,738][kfold_wrapper.log_eval_metrics] Accuracy(layer_0 - estimator_0 - 10_folds.train_6.predict)=97.70%\n",
      "[ 2018-04-25 00:22:25,690][kfold_wrapper.log_eval_metrics] Accuracy(layer_0 - estimator_0 - 10_folds.train_7.predict)=97.73%\n",
      "[ 2018-04-25 00:22:26,678][kfold_wrapper.log_eval_metrics] Accuracy(layer_0 - estimator_0 - 10_folds.train_8.predict)=97.49%\n",
      "[ 2018-04-25 00:22:27,533][kfold_wrapper.log_eval_metrics] Accuracy(layer_0 - estimator_0 - 10_folds.train_9.predict)=97.79%\n",
      "[ 2018-04-25 00:22:27,670][kfold_wrapper.log_eval_metrics] Accuracy(layer_0 - estimator_0 - 10_folds.train_cv.predict)=97.69%\n",
      "[ 2018-04-25 00:22:27,672][kfold_wrapper.log_eval_metrics] Accuracy(layer_0 - estimator_0 - 10_folds.test.predict)=97.58%\n",
      "[ 2018-04-25 00:22:27,682][cascade_classifier.calc_accuracy] Accuracy(layer_0 - train.classifier_average)=97.69%\n",
      "[ 2018-04-25 00:22:27,683][cascade_classifier.calc_accuracy] Accuracy(layer_0 - test.classifier_average)=97.58%\n",
      "[ 2018-04-25 00:22:27,685][cascade_classifier.fit_transform] [Result][Reach Max Layer] opt_layer_num=1, accuracy_train=97.69%, accuracy_test=97.58%\n",
      "[ 2018-04-25 00:22:27,686][cascade_classifier.transform] X_groups_test.shape=[(16500, 29)]\n",
      "[ 2018-04-25 00:22:27,689][cascade_classifier.transform] group_dims=[29]\n",
      "[ 2018-04-25 00:22:27,690][cascade_classifier.transform] X_test.shape=(16500, 29)\n",
      "[ 2018-04-25 00:22:27,693][cascade_classifier.transform] [layer=0] look_indexs=[0], X_cur_test.shape=(16500, 29)\n",
      "[ 2018-04-25 00:22:29,399][cascade_classifier.fit_transform] X_groups_train.shape=[(33500, 29)],y_train.shape=(33500,),X_groups_test.shape=[(16500, 29)],y_test.shape=(16500,)\n",
      "[ 2018-04-25 00:22:29,403][cascade_classifier.fit_transform] group_dims=[29]\n",
      "[ 2018-04-25 00:22:29,404][cascade_classifier.fit_transform] group_starts=[0]\n",
      "[ 2018-04-25 00:22:29,406][cascade_classifier.fit_transform] group_ends=[29]\n",
      "[ 2018-04-25 00:22:29,408][cascade_classifier.fit_transform] X_train.shape=(33500, 29),X_test.shape=(16500, 29)\n",
      "[ 2018-04-25 00:22:29,413][cascade_classifier.fit_transform] [layer=0] look_indexs=[0], X_cur_train.shape=(33500, 29), X_cur_test.shape=(16500, 29)\n"
     ]
    },
    {
     "name": "stdout",
     "output_type": "stream",
     "text": [
      "('Test Accuracy of ExtraTrees = 97.581818 %', 3, 'fois')\n"
     ]
    },
    {
     "name": "stderr",
     "output_type": "stream",
     "text": [
      "[ 2018-04-25 00:22:30,296][kfold_wrapper.log_eval_metrics] Accuracy(layer_0 - estimator_0 - 10_folds.train_0.predict)=97.67%\n",
      "[ 2018-04-25 00:22:31,210][kfold_wrapper.log_eval_metrics] Accuracy(layer_0 - estimator_0 - 10_folds.train_1.predict)=97.67%\n",
      "[ 2018-04-25 00:22:32,083][kfold_wrapper.log_eval_metrics] Accuracy(layer_0 - estimator_0 - 10_folds.train_2.predict)=97.76%\n",
      "[ 2018-04-25 00:22:33,057][kfold_wrapper.log_eval_metrics] Accuracy(layer_0 - estimator_0 - 10_folds.train_3.predict)=97.82%\n",
      "[ 2018-04-25 00:22:33,914][kfold_wrapper.log_eval_metrics] Accuracy(layer_0 - estimator_0 - 10_folds.train_4.predict)=97.58%\n",
      "[ 2018-04-25 00:22:34,768][kfold_wrapper.log_eval_metrics] Accuracy(layer_0 - estimator_0 - 10_folds.train_5.predict)=97.55%\n",
      "[ 2018-04-25 00:22:35,644][kfold_wrapper.log_eval_metrics] Accuracy(layer_0 - estimator_0 - 10_folds.train_6.predict)=97.70%\n",
      "[ 2018-04-25 00:22:36,727][kfold_wrapper.log_eval_metrics] Accuracy(layer_0 - estimator_0 - 10_folds.train_7.predict)=97.79%\n",
      "[ 2018-04-25 00:22:37,609][kfold_wrapper.log_eval_metrics] Accuracy(layer_0 - estimator_0 - 10_folds.train_8.predict)=97.55%\n",
      "[ 2018-04-25 00:22:38,466][kfold_wrapper.log_eval_metrics] Accuracy(layer_0 - estimator_0 - 10_folds.train_9.predict)=97.61%\n",
      "[ 2018-04-25 00:22:38,611][kfold_wrapper.log_eval_metrics] Accuracy(layer_0 - estimator_0 - 10_folds.train_cv.predict)=97.67%\n",
      "[ 2018-04-25 00:22:38,613][kfold_wrapper.log_eval_metrics] Accuracy(layer_0 - estimator_0 - 10_folds.test.predict)=97.48%\n",
      "[ 2018-04-25 00:22:38,624][cascade_classifier.calc_accuracy] Accuracy(layer_0 - train.classifier_average)=97.67%\n",
      "[ 2018-04-25 00:22:38,625][cascade_classifier.calc_accuracy] Accuracy(layer_0 - test.classifier_average)=97.48%\n",
      "[ 2018-04-25 00:22:38,626][cascade_classifier.fit_transform] [Result][Reach Max Layer] opt_layer_num=1, accuracy_train=97.67%, accuracy_test=97.48%\n",
      "[ 2018-04-25 00:22:38,628][cascade_classifier.transform] X_groups_test.shape=[(16500, 29)]\n",
      "[ 2018-04-25 00:22:38,630][cascade_classifier.transform] group_dims=[29]\n",
      "[ 2018-04-25 00:22:38,631][cascade_classifier.transform] X_test.shape=(16500, 29)\n",
      "[ 2018-04-25 00:22:38,633][cascade_classifier.transform] [layer=0] look_indexs=[0], X_cur_test.shape=(16500, 29)\n",
      "[ 2018-04-25 00:22:40,028][cascade_classifier.fit_transform] X_groups_train.shape=[(33500, 29)],y_train.shape=(33500,),X_groups_test.shape=[(16500, 29)],y_test.shape=(16500,)\n",
      "[ 2018-04-25 00:22:40,031][cascade_classifier.fit_transform] group_dims=[29]\n",
      "[ 2018-04-25 00:22:40,033][cascade_classifier.fit_transform] group_starts=[0]\n",
      "[ 2018-04-25 00:22:40,034][cascade_classifier.fit_transform] group_ends=[29]\n",
      "[ 2018-04-25 00:22:40,036][cascade_classifier.fit_transform] X_train.shape=(33500, 29),X_test.shape=(16500, 29)\n",
      "[ 2018-04-25 00:22:40,041][cascade_classifier.fit_transform] [layer=0] look_indexs=[0], X_cur_train.shape=(33500, 29), X_cur_test.shape=(16500, 29)\n"
     ]
    },
    {
     "name": "stdout",
     "output_type": "stream",
     "text": [
      "('Test Accuracy of ExtraTrees = 97.478788 %', 4, 'fois')\n"
     ]
    },
    {
     "name": "stderr",
     "output_type": "stream",
     "text": [
      "[ 2018-04-25 00:22:40,993][kfold_wrapper.log_eval_metrics] Accuracy(layer_0 - estimator_0 - 10_folds.train_0.predict)=97.40%\n",
      "[ 2018-04-25 00:22:41,841][kfold_wrapper.log_eval_metrics] Accuracy(layer_0 - estimator_0 - 10_folds.train_1.predict)=97.58%\n",
      "[ 2018-04-25 00:22:42,716][kfold_wrapper.log_eval_metrics] Accuracy(layer_0 - estimator_0 - 10_folds.train_2.predict)=97.70%\n",
      "[ 2018-04-25 00:22:43,614][kfold_wrapper.log_eval_metrics] Accuracy(layer_0 - estimator_0 - 10_folds.train_3.predict)=97.61%\n",
      "[ 2018-04-25 00:22:44,601][kfold_wrapper.log_eval_metrics] Accuracy(layer_0 - estimator_0 - 10_folds.train_4.predict)=97.64%\n",
      "[ 2018-04-25 00:22:45,497][kfold_wrapper.log_eval_metrics] Accuracy(layer_0 - estimator_0 - 10_folds.train_5.predict)=97.67%\n",
      "[ 2018-04-25 00:22:46,364][kfold_wrapper.log_eval_metrics] Accuracy(layer_0 - estimator_0 - 10_folds.train_6.predict)=97.58%\n",
      "[ 2018-04-25 00:22:47,449][kfold_wrapper.log_eval_metrics] Accuracy(layer_0 - estimator_0 - 10_folds.train_7.predict)=97.67%\n",
      "[ 2018-04-25 00:22:48,553][kfold_wrapper.log_eval_metrics] Accuracy(layer_0 - estimator_0 - 10_folds.train_8.predict)=97.40%\n",
      "[ 2018-04-25 00:22:49,443][kfold_wrapper.log_eval_metrics] Accuracy(layer_0 - estimator_0 - 10_folds.train_9.predict)=97.61%\n",
      "[ 2018-04-25 00:22:49,582][kfold_wrapper.log_eval_metrics] Accuracy(layer_0 - estimator_0 - 10_folds.train_cv.predict)=97.59%\n",
      "[ 2018-04-25 00:22:49,584][kfold_wrapper.log_eval_metrics] Accuracy(layer_0 - estimator_0 - 10_folds.test.predict)=97.44%\n",
      "[ 2018-04-25 00:22:49,595][cascade_classifier.calc_accuracy] Accuracy(layer_0 - train.classifier_average)=97.59%\n",
      "[ 2018-04-25 00:22:49,597][cascade_classifier.calc_accuracy] Accuracy(layer_0 - test.classifier_average)=97.44%\n",
      "[ 2018-04-25 00:22:49,599][cascade_classifier.fit_transform] [Result][Reach Max Layer] opt_layer_num=1, accuracy_train=97.59%, accuracy_test=97.44%\n",
      "[ 2018-04-25 00:22:49,600][cascade_classifier.transform] X_groups_test.shape=[(16500, 29)]\n",
      "[ 2018-04-25 00:22:49,603][cascade_classifier.transform] group_dims=[29]\n",
      "[ 2018-04-25 00:22:49,604][cascade_classifier.transform] X_test.shape=(16500, 29)\n",
      "[ 2018-04-25 00:22:49,606][cascade_classifier.transform] [layer=0] look_indexs=[0], X_cur_test.shape=(16500, 29)\n",
      "[ 2018-04-25 00:22:51,101][cascade_classifier.fit_transform] X_groups_train.shape=[(33500, 29)],y_train.shape=(33500,),X_groups_test.shape=[(16500, 29)],y_test.shape=(16500,)\n",
      "[ 2018-04-25 00:22:51,105][cascade_classifier.fit_transform] group_dims=[29]\n",
      "[ 2018-04-25 00:22:51,107][cascade_classifier.fit_transform] group_starts=[0]\n",
      "[ 2018-04-25 00:22:51,108][cascade_classifier.fit_transform] group_ends=[29]\n",
      "[ 2018-04-25 00:22:51,110][cascade_classifier.fit_transform] X_train.shape=(33500, 29),X_test.shape=(16500, 29)\n",
      "[ 2018-04-25 00:22:51,115][cascade_classifier.fit_transform] [layer=0] look_indexs=[0], X_cur_train.shape=(33500, 29), X_cur_test.shape=(16500, 29)\n"
     ]
    },
    {
     "name": "stdout",
     "output_type": "stream",
     "text": [
      "('Test Accuracy of ExtraTrees = 97.436364 %', 5, 'fois')\n"
     ]
    },
    {
     "name": "stderr",
     "output_type": "stream",
     "text": [
      "[ 2018-04-25 00:22:51,962][kfold_wrapper.log_eval_metrics] Accuracy(layer_0 - estimator_0 - 10_folds.train_0.predict)=97.49%\n",
      "[ 2018-04-25 00:22:52,854][kfold_wrapper.log_eval_metrics] Accuracy(layer_0 - estimator_0 - 10_folds.train_1.predict)=97.52%\n",
      "[ 2018-04-25 00:22:53,759][kfold_wrapper.log_eval_metrics] Accuracy(layer_0 - estimator_0 - 10_folds.train_2.predict)=97.55%\n",
      "[ 2018-04-25 00:22:54,595][kfold_wrapper.log_eval_metrics] Accuracy(layer_0 - estimator_0 - 10_folds.train_3.predict)=97.61%\n",
      "[ 2018-04-25 00:22:55,443][kfold_wrapper.log_eval_metrics] Accuracy(layer_0 - estimator_0 - 10_folds.train_4.predict)=97.52%\n",
      "[ 2018-04-25 00:22:56,332][kfold_wrapper.log_eval_metrics] Accuracy(layer_0 - estimator_0 - 10_folds.train_5.predict)=97.76%\n",
      "[ 2018-04-25 00:22:57,200][kfold_wrapper.log_eval_metrics] Accuracy(layer_0 - estimator_0 - 10_folds.train_6.predict)=97.55%\n",
      "[ 2018-04-25 00:22:58,114][kfold_wrapper.log_eval_metrics] Accuracy(layer_0 - estimator_0 - 10_folds.train_7.predict)=97.73%\n",
      "[ 2018-04-25 00:22:58,944][kfold_wrapper.log_eval_metrics] Accuracy(layer_0 - estimator_0 - 10_folds.train_8.predict)=97.43%\n",
      "[ 2018-04-25 00:22:59,901][kfold_wrapper.log_eval_metrics] Accuracy(layer_0 - estimator_0 - 10_folds.train_9.predict)=97.64%\n",
      "[ 2018-04-25 00:23:00,041][kfold_wrapper.log_eval_metrics] Accuracy(layer_0 - estimator_0 - 10_folds.train_cv.predict)=97.58%\n",
      "[ 2018-04-25 00:23:00,043][kfold_wrapper.log_eval_metrics] Accuracy(layer_0 - estimator_0 - 10_folds.test.predict)=97.50%\n",
      "[ 2018-04-25 00:23:00,052][cascade_classifier.calc_accuracy] Accuracy(layer_0 - train.classifier_average)=97.58%\n",
      "[ 2018-04-25 00:23:00,054][cascade_classifier.calc_accuracy] Accuracy(layer_0 - test.classifier_average)=97.50%\n",
      "[ 2018-04-25 00:23:00,055][cascade_classifier.fit_transform] [Result][Reach Max Layer] opt_layer_num=1, accuracy_train=97.58%, accuracy_test=97.50%\n",
      "[ 2018-04-25 00:23:00,057][cascade_classifier.transform] X_groups_test.shape=[(16500, 29)]\n",
      "[ 2018-04-25 00:23:00,060][cascade_classifier.transform] group_dims=[29]\n",
      "[ 2018-04-25 00:23:00,061][cascade_classifier.transform] X_test.shape=(16500, 29)\n",
      "[ 2018-04-25 00:23:00,063][cascade_classifier.transform] [layer=0] look_indexs=[0], X_cur_test.shape=(16500, 29)\n",
      "[ 2018-04-25 00:23:01,434][cascade_classifier.fit_transform] X_groups_train.shape=[(33500, 29)],y_train.shape=(33500,),X_groups_test.shape=[(16500, 29)],y_test.shape=(16500,)\n",
      "[ 2018-04-25 00:23:01,438][cascade_classifier.fit_transform] group_dims=[29]\n",
      "[ 2018-04-25 00:23:01,440][cascade_classifier.fit_transform] group_starts=[0]\n",
      "[ 2018-04-25 00:23:01,441][cascade_classifier.fit_transform] group_ends=[29]\n",
      "[ 2018-04-25 00:23:01,443][cascade_classifier.fit_transform] X_train.shape=(33500, 29),X_test.shape=(16500, 29)\n",
      "[ 2018-04-25 00:23:01,449][cascade_classifier.fit_transform] [layer=0] look_indexs=[0], X_cur_train.shape=(33500, 29), X_cur_test.shape=(16500, 29)\n"
     ]
    },
    {
     "name": "stdout",
     "output_type": "stream",
     "text": [
      "('Test Accuracy of ExtraTrees = 97.490909 %', 6, 'fois')\n"
     ]
    },
    {
     "name": "stderr",
     "output_type": "stream",
     "text": [
      "[ 2018-04-25 00:23:02,178][kfold_wrapper.log_eval_metrics] Accuracy(layer_0 - estimator_0 - 10_folds.train_0.predict)=97.67%\n",
      "[ 2018-04-25 00:23:03,061][kfold_wrapper.log_eval_metrics] Accuracy(layer_0 - estimator_0 - 10_folds.train_1.predict)=97.67%\n",
      "[ 2018-04-25 00:23:04,038][kfold_wrapper.log_eval_metrics] Accuracy(layer_0 - estimator_0 - 10_folds.train_2.predict)=97.40%\n",
      "[ 2018-04-25 00:23:04,920][kfold_wrapper.log_eval_metrics] Accuracy(layer_0 - estimator_0 - 10_folds.train_3.predict)=97.46%\n",
      "[ 2018-04-25 00:23:05,769][kfold_wrapper.log_eval_metrics] Accuracy(layer_0 - estimator_0 - 10_folds.train_4.predict)=97.85%\n",
      "[ 2018-04-25 00:23:06,650][kfold_wrapper.log_eval_metrics] Accuracy(layer_0 - estimator_0 - 10_folds.train_5.predict)=97.61%\n",
      "[ 2018-04-25 00:23:07,500][kfold_wrapper.log_eval_metrics] Accuracy(layer_0 - estimator_0 - 10_folds.train_6.predict)=97.52%\n",
      "[ 2018-04-25 00:23:08,446][kfold_wrapper.log_eval_metrics] Accuracy(layer_0 - estimator_0 - 10_folds.train_7.predict)=97.76%\n",
      "[ 2018-04-25 00:23:09,389][kfold_wrapper.log_eval_metrics] Accuracy(layer_0 - estimator_0 - 10_folds.train_8.predict)=97.49%\n",
      "[ 2018-04-25 00:23:10,238][kfold_wrapper.log_eval_metrics] Accuracy(layer_0 - estimator_0 - 10_folds.train_9.predict)=97.67%\n",
      "[ 2018-04-25 00:23:10,381][kfold_wrapper.log_eval_metrics] Accuracy(layer_0 - estimator_0 - 10_folds.train_cv.predict)=97.61%\n",
      "[ 2018-04-25 00:23:10,383][kfold_wrapper.log_eval_metrics] Accuracy(layer_0 - estimator_0 - 10_folds.test.predict)=97.47%\n",
      "[ 2018-04-25 00:23:10,394][cascade_classifier.calc_accuracy] Accuracy(layer_0 - train.classifier_average)=97.61%\n",
      "[ 2018-04-25 00:23:10,396][cascade_classifier.calc_accuracy] Accuracy(layer_0 - test.classifier_average)=97.47%\n",
      "[ 2018-04-25 00:23:10,397][cascade_classifier.fit_transform] [Result][Reach Max Layer] opt_layer_num=1, accuracy_train=97.61%, accuracy_test=97.47%\n",
      "[ 2018-04-25 00:23:10,399][cascade_classifier.transform] X_groups_test.shape=[(16500, 29)]\n",
      "[ 2018-04-25 00:23:10,402][cascade_classifier.transform] group_dims=[29]\n",
      "[ 2018-04-25 00:23:10,403][cascade_classifier.transform] X_test.shape=(16500, 29)\n",
      "[ 2018-04-25 00:23:10,405][cascade_classifier.transform] [layer=0] look_indexs=[0], X_cur_test.shape=(16500, 29)\n",
      "[ 2018-04-25 00:23:11,769][cascade_classifier.fit_transform] X_groups_train.shape=[(33500, 29)],y_train.shape=(33500,),X_groups_test.shape=[(16500, 29)],y_test.shape=(16500,)\n",
      "[ 2018-04-25 00:23:11,772][cascade_classifier.fit_transform] group_dims=[29]\n",
      "[ 2018-04-25 00:23:11,774][cascade_classifier.fit_transform] group_starts=[0]\n",
      "[ 2018-04-25 00:23:11,775][cascade_classifier.fit_transform] group_ends=[29]\n",
      "[ 2018-04-25 00:23:11,776][cascade_classifier.fit_transform] X_train.shape=(33500, 29),X_test.shape=(16500, 29)\n",
      "[ 2018-04-25 00:23:11,781][cascade_classifier.fit_transform] [layer=0] look_indexs=[0], X_cur_train.shape=(33500, 29), X_cur_test.shape=(16500, 29)\n"
     ]
    },
    {
     "name": "stdout",
     "output_type": "stream",
     "text": [
      "('Test Accuracy of ExtraTrees = 97.472727 %', 7, 'fois')\n"
     ]
    },
    {
     "name": "stderr",
     "output_type": "stream",
     "text": [
      "[ 2018-04-25 00:23:12,657][kfold_wrapper.log_eval_metrics] Accuracy(layer_0 - estimator_0 - 10_folds.train_0.predict)=97.49%\n",
      "[ 2018-04-25 00:23:13,638][kfold_wrapper.log_eval_metrics] Accuracy(layer_0 - estimator_0 - 10_folds.train_1.predict)=97.55%\n",
      "[ 2018-04-25 00:23:14,475][kfold_wrapper.log_eval_metrics] Accuracy(layer_0 - estimator_0 - 10_folds.train_2.predict)=97.43%\n",
      "[ 2018-04-25 00:23:15,285][kfold_wrapper.log_eval_metrics] Accuracy(layer_0 - estimator_0 - 10_folds.train_3.predict)=97.70%\n",
      "[ 2018-04-25 00:23:16,235][kfold_wrapper.log_eval_metrics] Accuracy(layer_0 - estimator_0 - 10_folds.train_4.predict)=97.79%\n",
      "[ 2018-04-25 00:23:17,110][kfold_wrapper.log_eval_metrics] Accuracy(layer_0 - estimator_0 - 10_folds.train_5.predict)=97.67%\n",
      "[ 2018-04-25 00:23:17,939][kfold_wrapper.log_eval_metrics] Accuracy(layer_0 - estimator_0 - 10_folds.train_6.predict)=97.52%\n",
      "[ 2018-04-25 00:23:18,928][kfold_wrapper.log_eval_metrics] Accuracy(layer_0 - estimator_0 - 10_folds.train_7.predict)=97.64%\n",
      "[ 2018-04-25 00:23:19,805][kfold_wrapper.log_eval_metrics] Accuracy(layer_0 - estimator_0 - 10_folds.train_8.predict)=97.28%\n",
      "[ 2018-04-25 00:23:20,680][kfold_wrapper.log_eval_metrics] Accuracy(layer_0 - estimator_0 - 10_folds.train_9.predict)=97.52%\n",
      "[ 2018-04-25 00:23:20,824][kfold_wrapper.log_eval_metrics] Accuracy(layer_0 - estimator_0 - 10_folds.train_cv.predict)=97.56%\n",
      "[ 2018-04-25 00:23:20,826][kfold_wrapper.log_eval_metrics] Accuracy(layer_0 - estimator_0 - 10_folds.test.predict)=97.50%\n",
      "[ 2018-04-25 00:23:20,840][cascade_classifier.calc_accuracy] Accuracy(layer_0 - train.classifier_average)=97.56%\n",
      "[ 2018-04-25 00:23:20,842][cascade_classifier.calc_accuracy] Accuracy(layer_0 - test.classifier_average)=97.50%\n",
      "[ 2018-04-25 00:23:20,843][cascade_classifier.fit_transform] [Result][Reach Max Layer] opt_layer_num=1, accuracy_train=97.56%, accuracy_test=97.50%\n",
      "[ 2018-04-25 00:23:20,845][cascade_classifier.transform] X_groups_test.shape=[(16500, 29)]\n",
      "[ 2018-04-25 00:23:20,847][cascade_classifier.transform] group_dims=[29]\n",
      "[ 2018-04-25 00:23:20,849][cascade_classifier.transform] X_test.shape=(16500, 29)\n",
      "[ 2018-04-25 00:23:20,851][cascade_classifier.transform] [layer=0] look_indexs=[0], X_cur_test.shape=(16500, 29)\n",
      "[ 2018-04-25 00:23:22,205][cascade_classifier.fit_transform] X_groups_train.shape=[(33500, 29)],y_train.shape=(33500,),X_groups_test.shape=[(16500, 29)],y_test.shape=(16500,)\n",
      "[ 2018-04-25 00:23:22,209][cascade_classifier.fit_transform] group_dims=[29]\n",
      "[ 2018-04-25 00:23:22,211][cascade_classifier.fit_transform] group_starts=[0]\n",
      "[ 2018-04-25 00:23:22,212][cascade_classifier.fit_transform] group_ends=[29]\n",
      "[ 2018-04-25 00:23:22,214][cascade_classifier.fit_transform] X_train.shape=(33500, 29),X_test.shape=(16500, 29)\n",
      "[ 2018-04-25 00:23:22,219][cascade_classifier.fit_transform] [layer=0] look_indexs=[0], X_cur_train.shape=(33500, 29), X_cur_test.shape=(16500, 29)\n"
     ]
    },
    {
     "name": "stdout",
     "output_type": "stream",
     "text": [
      "('Test Accuracy of ExtraTrees = 97.496970 %', 8, 'fois')\n"
     ]
    },
    {
     "name": "stderr",
     "output_type": "stream",
     "text": [
      "[ 2018-04-25 00:23:22,952][kfold_wrapper.log_eval_metrics] Accuracy(layer_0 - estimator_0 - 10_folds.train_0.predict)=97.49%\n",
      "[ 2018-04-25 00:23:23,838][kfold_wrapper.log_eval_metrics] Accuracy(layer_0 - estimator_0 - 10_folds.train_1.predict)=97.43%\n",
      "[ 2018-04-25 00:23:24,813][kfold_wrapper.log_eval_metrics] Accuracy(layer_0 - estimator_0 - 10_folds.train_2.predict)=97.52%\n",
      "[ 2018-04-25 00:23:25,656][kfold_wrapper.log_eval_metrics] Accuracy(layer_0 - estimator_0 - 10_folds.train_3.predict)=97.52%\n",
      "[ 2018-04-25 00:23:26,519][kfold_wrapper.log_eval_metrics] Accuracy(layer_0 - estimator_0 - 10_folds.train_4.predict)=97.67%\n",
      "[ 2018-04-25 00:23:27,444][kfold_wrapper.log_eval_metrics] Accuracy(layer_0 - estimator_0 - 10_folds.train_5.predict)=97.61%\n",
      "[ 2018-04-25 00:23:28,351][kfold_wrapper.log_eval_metrics] Accuracy(layer_0 - estimator_0 - 10_folds.train_6.predict)=97.31%\n",
      "[ 2018-04-25 00:23:29,206][kfold_wrapper.log_eval_metrics] Accuracy(layer_0 - estimator_0 - 10_folds.train_7.predict)=97.73%\n",
      "[ 2018-04-25 00:23:30,126][kfold_wrapper.log_eval_metrics] Accuracy(layer_0 - estimator_0 - 10_folds.train_8.predict)=97.28%\n",
      "[ 2018-04-25 00:23:30,984][kfold_wrapper.log_eval_metrics] Accuracy(layer_0 - estimator_0 - 10_folds.train_9.predict)=97.52%\n",
      "[ 2018-04-25 00:23:31,122][kfold_wrapper.log_eval_metrics] Accuracy(layer_0 - estimator_0 - 10_folds.train_cv.predict)=97.51%\n",
      "[ 2018-04-25 00:23:31,123][kfold_wrapper.log_eval_metrics] Accuracy(layer_0 - estimator_0 - 10_folds.test.predict)=97.43%\n",
      "[ 2018-04-25 00:23:31,134][cascade_classifier.calc_accuracy] Accuracy(layer_0 - train.classifier_average)=97.51%\n",
      "[ 2018-04-25 00:23:31,135][cascade_classifier.calc_accuracy] Accuracy(layer_0 - test.classifier_average)=97.43%\n",
      "[ 2018-04-25 00:23:31,136][cascade_classifier.fit_transform] [Result][Reach Max Layer] opt_layer_num=1, accuracy_train=97.51%, accuracy_test=97.43%\n",
      "[ 2018-04-25 00:23:31,137][cascade_classifier.transform] X_groups_test.shape=[(16500, 29)]\n",
      "[ 2018-04-25 00:23:31,140][cascade_classifier.transform] group_dims=[29]\n",
      "[ 2018-04-25 00:23:31,141][cascade_classifier.transform] X_test.shape=(16500, 29)\n",
      "[ 2018-04-25 00:23:31,143][cascade_classifier.transform] [layer=0] look_indexs=[0], X_cur_test.shape=(16500, 29)\n",
      "[ 2018-04-25 00:23:32,582][cascade_classifier.fit_transform] X_groups_train.shape=[(33500, 29)],y_train.shape=(33500,),X_groups_test.shape=[(16500, 29)],y_test.shape=(16500,)\n",
      "[ 2018-04-25 00:23:32,586][cascade_classifier.fit_transform] group_dims=[29]\n",
      "[ 2018-04-25 00:23:32,588][cascade_classifier.fit_transform] group_starts=[0]\n",
      "[ 2018-04-25 00:23:32,589][cascade_classifier.fit_transform] group_ends=[29]\n",
      "[ 2018-04-25 00:23:32,591][cascade_classifier.fit_transform] X_train.shape=(33500, 29),X_test.shape=(16500, 29)\n",
      "[ 2018-04-25 00:23:32,596][cascade_classifier.fit_transform] [layer=0] look_indexs=[0], X_cur_train.shape=(33500, 29), X_cur_test.shape=(16500, 29)\n"
     ]
    },
    {
     "name": "stdout",
     "output_type": "stream",
     "text": [
      "('Test Accuracy of ExtraTrees = 97.430303 %', 9, 'fois')\n"
     ]
    },
    {
     "name": "stderr",
     "output_type": "stream",
     "text": [
      "[ 2018-04-25 00:23:33,314][kfold_wrapper.log_eval_metrics] Accuracy(layer_0 - estimator_0 - 10_folds.train_0.predict)=97.31%\n",
      "[ 2018-04-25 00:23:34,192][kfold_wrapper.log_eval_metrics] Accuracy(layer_0 - estimator_0 - 10_folds.train_1.predict)=97.40%\n",
      "[ 2018-04-25 00:23:35,174][kfold_wrapper.log_eval_metrics] Accuracy(layer_0 - estimator_0 - 10_folds.train_2.predict)=97.49%\n",
      "[ 2018-04-25 00:23:36,048][kfold_wrapper.log_eval_metrics] Accuracy(layer_0 - estimator_0 - 10_folds.train_3.predict)=97.64%\n",
      "[ 2018-04-25 00:23:36,892][kfold_wrapper.log_eval_metrics] Accuracy(layer_0 - estimator_0 - 10_folds.train_4.predict)=97.70%\n",
      "[ 2018-04-25 00:23:37,779][kfold_wrapper.log_eval_metrics] Accuracy(layer_0 - estimator_0 - 10_folds.train_5.predict)=97.52%\n",
      "[ 2018-04-25 00:23:38,822][kfold_wrapper.log_eval_metrics] Accuracy(layer_0 - estimator_0 - 10_folds.train_6.predict)=97.40%\n",
      "[ 2018-04-25 00:23:39,782][kfold_wrapper.log_eval_metrics] Accuracy(layer_0 - estimator_0 - 10_folds.train_7.predict)=97.76%\n",
      "[ 2018-04-25 00:23:40,653][kfold_wrapper.log_eval_metrics] Accuracy(layer_0 - estimator_0 - 10_folds.train_8.predict)=97.31%\n",
      "[ 2018-04-25 00:23:41,488][kfold_wrapper.log_eval_metrics] Accuracy(layer_0 - estimator_0 - 10_folds.train_9.predict)=97.64%\n",
      "[ 2018-04-25 00:23:41,625][kfold_wrapper.log_eval_metrics] Accuracy(layer_0 - estimator_0 - 10_folds.train_cv.predict)=97.52%\n",
      "[ 2018-04-25 00:23:41,628][kfold_wrapper.log_eval_metrics] Accuracy(layer_0 - estimator_0 - 10_folds.test.predict)=97.34%\n",
      "[ 2018-04-25 00:23:41,640][cascade_classifier.calc_accuracy] Accuracy(layer_0 - train.classifier_average)=97.52%\n",
      "[ 2018-04-25 00:23:41,642][cascade_classifier.calc_accuracy] Accuracy(layer_0 - test.classifier_average)=97.34%\n",
      "[ 2018-04-25 00:23:41,644][cascade_classifier.fit_transform] [Result][Reach Max Layer] opt_layer_num=1, accuracy_train=97.52%, accuracy_test=97.34%\n",
      "[ 2018-04-25 00:23:41,645][cascade_classifier.transform] X_groups_test.shape=[(16500, 29)]\n",
      "[ 2018-04-25 00:23:41,649][cascade_classifier.transform] group_dims=[29]\n",
      "[ 2018-04-25 00:23:41,650][cascade_classifier.transform] X_test.shape=(16500, 29)\n",
      "[ 2018-04-25 00:23:41,652][cascade_classifier.transform] [layer=0] look_indexs=[0], X_cur_test.shape=(16500, 29)\n",
      "[ 2018-04-25 00:23:43,027][cascade_classifier.fit_transform] X_groups_train.shape=[(33500, 29)],y_train.shape=(33500,),X_groups_test.shape=[(16500, 29)],y_test.shape=(16500,)\n",
      "[ 2018-04-25 00:23:43,032][cascade_classifier.fit_transform] group_dims=[29]\n",
      "[ 2018-04-25 00:23:43,033][cascade_classifier.fit_transform] group_starts=[0]\n",
      "[ 2018-04-25 00:23:43,035][cascade_classifier.fit_transform] group_ends=[29]\n",
      "[ 2018-04-25 00:23:43,037][cascade_classifier.fit_transform] X_train.shape=(33500, 29),X_test.shape=(16500, 29)\n",
      "[ 2018-04-25 00:23:43,041][cascade_classifier.fit_transform] [layer=0] look_indexs=[0], X_cur_train.shape=(33500, 29), X_cur_test.shape=(16500, 29)\n"
     ]
    },
    {
     "name": "stdout",
     "output_type": "stream",
     "text": [
      "('Test Accuracy of ExtraTrees = 97.339394 %', 10, 'fois')\n"
     ]
    },
    {
     "name": "stderr",
     "output_type": "stream",
     "text": [
      "[ 2018-04-25 00:23:43,872][kfold_wrapper.log_eval_metrics] Accuracy(layer_0 - estimator_0 - 10_folds.train_0.predict)=97.43%\n",
      "[ 2018-04-25 00:23:44,865][kfold_wrapper.log_eval_metrics] Accuracy(layer_0 - estimator_0 - 10_folds.train_1.predict)=97.49%\n",
      "[ 2018-04-25 00:23:45,695][kfold_wrapper.log_eval_metrics] Accuracy(layer_0 - estimator_0 - 10_folds.train_2.predict)=97.43%\n",
      "[ 2018-04-25 00:23:46,540][kfold_wrapper.log_eval_metrics] Accuracy(layer_0 - estimator_0 - 10_folds.train_3.predict)=97.61%\n",
      "[ 2018-04-25 00:23:47,454][kfold_wrapper.log_eval_metrics] Accuracy(layer_0 - estimator_0 - 10_folds.train_4.predict)=97.70%\n",
      "[ 2018-04-25 00:23:48,447][kfold_wrapper.log_eval_metrics] Accuracy(layer_0 - estimator_0 - 10_folds.train_5.predict)=97.64%\n",
      "[ 2018-04-25 00:23:49,455][kfold_wrapper.log_eval_metrics] Accuracy(layer_0 - estimator_0 - 10_folds.train_6.predict)=97.52%\n",
      "[ 2018-04-25 00:23:50,324][kfold_wrapper.log_eval_metrics] Accuracy(layer_0 - estimator_0 - 10_folds.train_7.predict)=97.67%\n",
      "[ 2018-04-25 00:23:51,202][kfold_wrapper.log_eval_metrics] Accuracy(layer_0 - estimator_0 - 10_folds.train_8.predict)=97.19%\n",
      "[ 2018-04-25 00:23:52,047][kfold_wrapper.log_eval_metrics] Accuracy(layer_0 - estimator_0 - 10_folds.train_9.predict)=97.73%\n",
      "[ 2018-04-25 00:23:52,184][kfold_wrapper.log_eval_metrics] Accuracy(layer_0 - estimator_0 - 10_folds.train_cv.predict)=97.54%\n",
      "[ 2018-04-25 00:23:52,187][kfold_wrapper.log_eval_metrics] Accuracy(layer_0 - estimator_0 - 10_folds.test.predict)=97.39%\n",
      "[ 2018-04-25 00:23:52,195][cascade_classifier.calc_accuracy] Accuracy(layer_0 - train.classifier_average)=97.54%\n",
      "[ 2018-04-25 00:23:52,197][cascade_classifier.calc_accuracy] Accuracy(layer_0 - test.classifier_average)=97.39%\n",
      "[ 2018-04-25 00:23:52,199][cascade_classifier.fit_transform] [Result][Reach Max Layer] opt_layer_num=1, accuracy_train=97.54%, accuracy_test=97.39%\n",
      "[ 2018-04-25 00:23:52,200][cascade_classifier.transform] X_groups_test.shape=[(16500, 29)]\n",
      "[ 2018-04-25 00:23:52,203][cascade_classifier.transform] group_dims=[29]\n",
      "[ 2018-04-25 00:23:52,207][cascade_classifier.transform] X_test.shape=(16500, 29)\n",
      "[ 2018-04-25 00:23:52,209][cascade_classifier.transform] [layer=0] look_indexs=[0], X_cur_test.shape=(16500, 29)\n",
      "[ 2018-04-25 00:23:53,726][cascade_classifier.fit_transform] X_groups_train.shape=[(33500, 29)],y_train.shape=(33500,),X_groups_test.shape=[(16500, 29)],y_test.shape=(16500,)\n",
      "[ 2018-04-25 00:23:53,730][cascade_classifier.fit_transform] group_dims=[29]\n",
      "[ 2018-04-25 00:23:53,731][cascade_classifier.fit_transform] group_starts=[0]\n",
      "[ 2018-04-25 00:23:53,733][cascade_classifier.fit_transform] group_ends=[29]\n",
      "[ 2018-04-25 00:23:53,735][cascade_classifier.fit_transform] X_train.shape=(33500, 29),X_test.shape=(16500, 29)\n",
      "[ 2018-04-25 00:23:53,740][cascade_classifier.fit_transform] [layer=0] look_indexs=[0], X_cur_train.shape=(33500, 29), X_cur_test.shape=(16500, 29)\n"
     ]
    },
    {
     "name": "stdout",
     "output_type": "stream",
     "text": [
      "('Test Accuracy of ExtraTrees = 97.393939 %', 11, 'fois')\n"
     ]
    },
    {
     "name": "stderr",
     "output_type": "stream",
     "text": [
      "[ 2018-04-25 00:23:54,481][kfold_wrapper.log_eval_metrics] Accuracy(layer_0 - estimator_0 - 10_folds.train_0.predict)=97.34%\n",
      "[ 2018-04-25 00:23:55,364][kfold_wrapper.log_eval_metrics] Accuracy(layer_0 - estimator_0 - 10_folds.train_1.predict)=97.37%\n",
      "[ 2018-04-25 00:23:56,236][kfold_wrapper.log_eval_metrics] Accuracy(layer_0 - estimator_0 - 10_folds.train_2.predict)=97.28%\n",
      "[ 2018-04-25 00:23:57,106][kfold_wrapper.log_eval_metrics] Accuracy(layer_0 - estimator_0 - 10_folds.train_3.predict)=97.73%\n",
      "[ 2018-04-25 00:23:57,964][kfold_wrapper.log_eval_metrics] Accuracy(layer_0 - estimator_0 - 10_folds.train_4.predict)=97.64%\n",
      "[ 2018-04-25 00:23:58,839][kfold_wrapper.log_eval_metrics] Accuracy(layer_0 - estimator_0 - 10_folds.train_5.predict)=97.55%\n",
      "[ 2018-04-25 00:23:59,879][kfold_wrapper.log_eval_metrics] Accuracy(layer_0 - estimator_0 - 10_folds.train_6.predict)=97.31%\n",
      "[ 2018-04-25 00:24:00,799][kfold_wrapper.log_eval_metrics] Accuracy(layer_0 - estimator_0 - 10_folds.train_7.predict)=97.73%\n",
      "[ 2018-04-25 00:24:01,725][kfold_wrapper.log_eval_metrics] Accuracy(layer_0 - estimator_0 - 10_folds.train_8.predict)=97.31%\n",
      "[ 2018-04-25 00:24:02,550][kfold_wrapper.log_eval_metrics] Accuracy(layer_0 - estimator_0 - 10_folds.train_9.predict)=97.73%\n",
      "[ 2018-04-25 00:24:02,695][kfold_wrapper.log_eval_metrics] Accuracy(layer_0 - estimator_0 - 10_folds.train_cv.predict)=97.50%\n",
      "[ 2018-04-25 00:24:02,697][kfold_wrapper.log_eval_metrics] Accuracy(layer_0 - estimator_0 - 10_folds.test.predict)=97.35%\n",
      "[ 2018-04-25 00:24:02,708][cascade_classifier.calc_accuracy] Accuracy(layer_0 - train.classifier_average)=97.50%\n",
      "[ 2018-04-25 00:24:02,709][cascade_classifier.calc_accuracy] Accuracy(layer_0 - test.classifier_average)=97.35%\n",
      "[ 2018-04-25 00:24:02,710][cascade_classifier.fit_transform] [Result][Reach Max Layer] opt_layer_num=1, accuracy_train=97.50%, accuracy_test=97.35%\n",
      "[ 2018-04-25 00:24:02,712][cascade_classifier.transform] X_groups_test.shape=[(16500, 29)]\n",
      "[ 2018-04-25 00:24:02,715][cascade_classifier.transform] group_dims=[29]\n",
      "[ 2018-04-25 00:24:02,716][cascade_classifier.transform] X_test.shape=(16500, 29)\n",
      "[ 2018-04-25 00:24:02,718][cascade_classifier.transform] [layer=0] look_indexs=[0], X_cur_test.shape=(16500, 29)\n",
      "[ 2018-04-25 00:24:04,059][cascade_classifier.fit_transform] X_groups_train.shape=[(33500, 29)],y_train.shape=(33500,),X_groups_test.shape=[(16500, 29)],y_test.shape=(16500,)\n",
      "[ 2018-04-25 00:24:04,062][cascade_classifier.fit_transform] group_dims=[29]\n",
      "[ 2018-04-25 00:24:04,063][cascade_classifier.fit_transform] group_starts=[0]\n",
      "[ 2018-04-25 00:24:04,065][cascade_classifier.fit_transform] group_ends=[29]\n",
      "[ 2018-04-25 00:24:04,066][cascade_classifier.fit_transform] X_train.shape=(33500, 29),X_test.shape=(16500, 29)\n",
      "[ 2018-04-25 00:24:04,071][cascade_classifier.fit_transform] [layer=0] look_indexs=[0], X_cur_train.shape=(33500, 29), X_cur_test.shape=(16500, 29)\n"
     ]
    },
    {
     "name": "stdout",
     "output_type": "stream",
     "text": [
      "('Test Accuracy of ExtraTrees = 97.351515 %', 12, 'fois')\n"
     ]
    },
    {
     "name": "stderr",
     "output_type": "stream",
     "text": [
      "[ 2018-04-25 00:24:04,897][kfold_wrapper.log_eval_metrics] Accuracy(layer_0 - estimator_0 - 10_folds.train_0.predict)=97.37%\n",
      "[ 2018-04-25 00:24:05,789][kfold_wrapper.log_eval_metrics] Accuracy(layer_0 - estimator_0 - 10_folds.train_1.predict)=97.40%\n",
      "[ 2018-04-25 00:24:06,680][kfold_wrapper.log_eval_metrics] Accuracy(layer_0 - estimator_0 - 10_folds.train_2.predict)=97.49%\n",
      "[ 2018-04-25 00:24:07,675][kfold_wrapper.log_eval_metrics] Accuracy(layer_0 - estimator_0 - 10_folds.train_3.predict)=97.46%\n",
      "[ 2018-04-25 00:24:08,532][kfold_wrapper.log_eval_metrics] Accuracy(layer_0 - estimator_0 - 10_folds.train_4.predict)=97.67%\n",
      "[ 2018-04-25 00:24:09,506][kfold_wrapper.log_eval_metrics] Accuracy(layer_0 - estimator_0 - 10_folds.train_5.predict)=97.52%\n",
      "[ 2018-04-25 00:24:10,418][kfold_wrapper.log_eval_metrics] Accuracy(layer_0 - estimator_0 - 10_folds.train_6.predict)=97.40%\n",
      "[ 2018-04-25 00:24:11,261][kfold_wrapper.log_eval_metrics] Accuracy(layer_0 - estimator_0 - 10_folds.train_7.predict)=97.70%\n",
      "[ 2018-04-25 00:24:12,139][kfold_wrapper.log_eval_metrics] Accuracy(layer_0 - estimator_0 - 10_folds.train_8.predict)=97.46%\n",
      "[ 2018-04-25 00:24:13,012][kfold_wrapper.log_eval_metrics] Accuracy(layer_0 - estimator_0 - 10_folds.train_9.predict)=97.79%\n",
      "[ 2018-04-25 00:24:13,168][kfold_wrapper.log_eval_metrics] Accuracy(layer_0 - estimator_0 - 10_folds.train_cv.predict)=97.53%\n",
      "[ 2018-04-25 00:24:13,170][kfold_wrapper.log_eval_metrics] Accuracy(layer_0 - estimator_0 - 10_folds.test.predict)=97.36%\n",
      "[ 2018-04-25 00:24:13,179][cascade_classifier.calc_accuracy] Accuracy(layer_0 - train.classifier_average)=97.53%\n",
      "[ 2018-04-25 00:24:13,181][cascade_classifier.calc_accuracy] Accuracy(layer_0 - test.classifier_average)=97.36%\n",
      "[ 2018-04-25 00:24:13,182][cascade_classifier.fit_transform] [Result][Reach Max Layer] opt_layer_num=1, accuracy_train=97.53%, accuracy_test=97.36%\n",
      "[ 2018-04-25 00:24:13,183][cascade_classifier.transform] X_groups_test.shape=[(16500, 29)]\n",
      "[ 2018-04-25 00:24:13,186][cascade_classifier.transform] group_dims=[29]\n",
      "[ 2018-04-25 00:24:13,187][cascade_classifier.transform] X_test.shape=(16500, 29)\n",
      "[ 2018-04-25 00:24:13,189][cascade_classifier.transform] [layer=0] look_indexs=[0], X_cur_test.shape=(16500, 29)\n",
      "[ 2018-04-25 00:24:14,657][cascade_classifier.fit_transform] X_groups_train.shape=[(33500, 29)],y_train.shape=(33500,),X_groups_test.shape=[(16500, 29)],y_test.shape=(16500,)\n",
      "[ 2018-04-25 00:24:14,660][cascade_classifier.fit_transform] group_dims=[29]\n",
      "[ 2018-04-25 00:24:14,662][cascade_classifier.fit_transform] group_starts=[0]\n",
      "[ 2018-04-25 00:24:14,663][cascade_classifier.fit_transform] group_ends=[29]\n",
      "[ 2018-04-25 00:24:14,664][cascade_classifier.fit_transform] X_train.shape=(33500, 29),X_test.shape=(16500, 29)\n",
      "[ 2018-04-25 00:24:14,669][cascade_classifier.fit_transform] [layer=0] look_indexs=[0], X_cur_train.shape=(33500, 29), X_cur_test.shape=(16500, 29)\n"
     ]
    },
    {
     "name": "stdout",
     "output_type": "stream",
     "text": [
      "('Test Accuracy of ExtraTrees = 97.357576 %', 13, 'fois')\n"
     ]
    },
    {
     "name": "stderr",
     "output_type": "stream",
     "text": [
      "[ 2018-04-25 00:24:15,400][kfold_wrapper.log_eval_metrics] Accuracy(layer_0 - estimator_0 - 10_folds.train_0.predict)=97.31%\n",
      "[ 2018-04-25 00:24:16,266][kfold_wrapper.log_eval_metrics] Accuracy(layer_0 - estimator_0 - 10_folds.train_1.predict)=97.46%\n",
      "[ 2018-04-25 00:24:17,105][kfold_wrapper.log_eval_metrics] Accuracy(layer_0 - estimator_0 - 10_folds.train_2.predict)=97.43%\n",
      "[ 2018-04-25 00:24:17,969][kfold_wrapper.log_eval_metrics] Accuracy(layer_0 - estimator_0 - 10_folds.train_3.predict)=97.52%\n",
      "[ 2018-04-25 00:24:18,790][kfold_wrapper.log_eval_metrics] Accuracy(layer_0 - estimator_0 - 10_folds.train_4.predict)=97.64%\n",
      "[ 2018-04-25 00:24:19,655][kfold_wrapper.log_eval_metrics] Accuracy(layer_0 - estimator_0 - 10_folds.train_5.predict)=97.46%\n",
      "[ 2018-04-25 00:24:20,517][kfold_wrapper.log_eval_metrics] Accuracy(layer_0 - estimator_0 - 10_folds.train_6.predict)=97.31%\n",
      "[ 2018-04-25 00:24:21,420][kfold_wrapper.log_eval_metrics] Accuracy(layer_0 - estimator_0 - 10_folds.train_7.predict)=97.73%\n",
      "[ 2018-04-25 00:24:22,397][kfold_wrapper.log_eval_metrics] Accuracy(layer_0 - estimator_0 - 10_folds.train_8.predict)=97.34%\n",
      "[ 2018-04-25 00:24:23,267][kfold_wrapper.log_eval_metrics] Accuracy(layer_0 - estimator_0 - 10_folds.train_9.predict)=97.64%\n",
      "[ 2018-04-25 00:24:23,400][kfold_wrapper.log_eval_metrics] Accuracy(layer_0 - estimator_0 - 10_folds.train_cv.predict)=97.49%\n",
      "[ 2018-04-25 00:24:23,402][kfold_wrapper.log_eval_metrics] Accuracy(layer_0 - estimator_0 - 10_folds.test.predict)=97.27%\n",
      "[ 2018-04-25 00:24:23,411][cascade_classifier.calc_accuracy] Accuracy(layer_0 - train.classifier_average)=97.49%\n",
      "[ 2018-04-25 00:24:23,413][cascade_classifier.calc_accuracy] Accuracy(layer_0 - test.classifier_average)=97.27%\n",
      "[ 2018-04-25 00:24:23,415][cascade_classifier.fit_transform] [Result][Reach Max Layer] opt_layer_num=1, accuracy_train=97.49%, accuracy_test=97.27%\n",
      "[ 2018-04-25 00:24:23,416][cascade_classifier.transform] X_groups_test.shape=[(16500, 29)]\n",
      "[ 2018-04-25 00:24:23,419][cascade_classifier.transform] group_dims=[29]\n",
      "[ 2018-04-25 00:24:23,421][cascade_classifier.transform] X_test.shape=(16500, 29)\n",
      "[ 2018-04-25 00:24:23,423][cascade_classifier.transform] [layer=0] look_indexs=[0], X_cur_test.shape=(16500, 29)\n",
      "[ 2018-04-25 00:24:24,939][cascade_classifier.fit_transform] X_groups_train.shape=[(33500, 29)],y_train.shape=(33500,),X_groups_test.shape=[(16500, 29)],y_test.shape=(16500,)\n",
      "[ 2018-04-25 00:24:24,943][cascade_classifier.fit_transform] group_dims=[29]\n",
      "[ 2018-04-25 00:24:24,944][cascade_classifier.fit_transform] group_starts=[0]\n",
      "[ 2018-04-25 00:24:24,946][cascade_classifier.fit_transform] group_ends=[29]\n",
      "[ 2018-04-25 00:24:24,947][cascade_classifier.fit_transform] X_train.shape=(33500, 29),X_test.shape=(16500, 29)\n",
      "[ 2018-04-25 00:24:24,953][cascade_classifier.fit_transform] [layer=0] look_indexs=[0], X_cur_train.shape=(33500, 29), X_cur_test.shape=(16500, 29)\n"
     ]
    },
    {
     "name": "stdout",
     "output_type": "stream",
     "text": [
      "('Test Accuracy of ExtraTrees = 97.272727 %', 14, 'fois')\n"
     ]
    },
    {
     "name": "stderr",
     "output_type": "stream",
     "text": [
      "[ 2018-04-25 00:24:25,808][kfold_wrapper.log_eval_metrics] Accuracy(layer_0 - estimator_0 - 10_folds.train_0.predict)=97.28%\n",
      "[ 2018-04-25 00:24:26,831][kfold_wrapper.log_eval_metrics] Accuracy(layer_0 - estimator_0 - 10_folds.train_1.predict)=97.46%\n",
      "[ 2018-04-25 00:24:27,703][kfold_wrapper.log_eval_metrics] Accuracy(layer_0 - estimator_0 - 10_folds.train_2.predict)=97.40%\n",
      "[ 2018-04-25 00:24:28,504][kfold_wrapper.log_eval_metrics] Accuracy(layer_0 - estimator_0 - 10_folds.train_3.predict)=97.40%\n",
      "[ 2018-04-25 00:24:29,399][kfold_wrapper.log_eval_metrics] Accuracy(layer_0 - estimator_0 - 10_folds.train_4.predict)=97.58%\n",
      "[ 2018-04-25 00:24:30,298][kfold_wrapper.log_eval_metrics] Accuracy(layer_0 - estimator_0 - 10_folds.train_5.predict)=97.43%\n",
      "[ 2018-04-25 00:24:31,290][kfold_wrapper.log_eval_metrics] Accuracy(layer_0 - estimator_0 - 10_folds.train_6.predict)=97.37%\n",
      "[ 2018-04-25 00:24:32,131][kfold_wrapper.log_eval_metrics] Accuracy(layer_0 - estimator_0 - 10_folds.train_7.predict)=97.64%\n",
      "[ 2018-04-25 00:24:33,055][kfold_wrapper.log_eval_metrics] Accuracy(layer_0 - estimator_0 - 10_folds.train_8.predict)=97.22%\n",
      "[ 2018-04-25 00:24:33,992][kfold_wrapper.log_eval_metrics] Accuracy(layer_0 - estimator_0 - 10_folds.train_9.predict)=97.55%\n",
      "[ 2018-04-25 00:24:34,134][kfold_wrapper.log_eval_metrics] Accuracy(layer_0 - estimator_0 - 10_folds.train_cv.predict)=97.44%\n",
      "[ 2018-04-25 00:24:34,136][kfold_wrapper.log_eval_metrics] Accuracy(layer_0 - estimator_0 - 10_folds.test.predict)=97.27%\n",
      "[ 2018-04-25 00:24:34,153][cascade_classifier.calc_accuracy] Accuracy(layer_0 - train.classifier_average)=97.44%\n",
      "[ 2018-04-25 00:24:34,155][cascade_classifier.calc_accuracy] Accuracy(layer_0 - test.classifier_average)=97.27%\n",
      "[ 2018-04-25 00:24:34,157][cascade_classifier.fit_transform] [Result][Reach Max Layer] opt_layer_num=1, accuracy_train=97.44%, accuracy_test=97.27%\n",
      "[ 2018-04-25 00:24:34,158][cascade_classifier.transform] X_groups_test.shape=[(16500, 29)]\n",
      "[ 2018-04-25 00:24:34,161][cascade_classifier.transform] group_dims=[29]\n",
      "[ 2018-04-25 00:24:34,163][cascade_classifier.transform] X_test.shape=(16500, 29)\n",
      "[ 2018-04-25 00:24:34,165][cascade_classifier.transform] [layer=0] look_indexs=[0], X_cur_test.shape=(16500, 29)\n",
      "[ 2018-04-25 00:24:35,558][cascade_classifier.fit_transform] X_groups_train.shape=[(33500, 29)],y_train.shape=(33500,),X_groups_test.shape=[(16500, 29)],y_test.shape=(16500,)\n",
      "[ 2018-04-25 00:24:35,562][cascade_classifier.fit_transform] group_dims=[29]\n",
      "[ 2018-04-25 00:24:35,563][cascade_classifier.fit_transform] group_starts=[0]\n",
      "[ 2018-04-25 00:24:35,565][cascade_classifier.fit_transform] group_ends=[29]\n",
      "[ 2018-04-25 00:24:35,566][cascade_classifier.fit_transform] X_train.shape=(33500, 29),X_test.shape=(16500, 29)\n",
      "[ 2018-04-25 00:24:35,571][cascade_classifier.fit_transform] [layer=0] look_indexs=[0], X_cur_train.shape=(33500, 29), X_cur_test.shape=(16500, 29)\n"
     ]
    },
    {
     "name": "stdout",
     "output_type": "stream",
     "text": [
      "('Test Accuracy of ExtraTrees = 97.266667 %', 15, 'fois')\n"
     ]
    },
    {
     "name": "stderr",
     "output_type": "stream",
     "text": [
      "[ 2018-04-25 00:24:36,246][kfold_wrapper.log_eval_metrics] Accuracy(layer_0 - estimator_0 - 10_folds.train_0.predict)=97.37%\n",
      "[ 2018-04-25 00:24:37,224][kfold_wrapper.log_eval_metrics] Accuracy(layer_0 - estimator_0 - 10_folds.train_1.predict)=97.40%\n",
      "[ 2018-04-25 00:24:38,060][kfold_wrapper.log_eval_metrics] Accuracy(layer_0 - estimator_0 - 10_folds.train_2.predict)=97.37%\n",
      "[ 2018-04-25 00:24:38,928][kfold_wrapper.log_eval_metrics] Accuracy(layer_0 - estimator_0 - 10_folds.train_3.predict)=97.52%\n",
      "[ 2018-04-25 00:24:39,813][kfold_wrapper.log_eval_metrics] Accuracy(layer_0 - estimator_0 - 10_folds.train_4.predict)=97.40%\n",
      "[ 2018-04-25 00:24:40,679][kfold_wrapper.log_eval_metrics] Accuracy(layer_0 - estimator_0 - 10_folds.train_5.predict)=97.40%\n",
      "[ 2018-04-25 00:24:41,571][kfold_wrapper.log_eval_metrics] Accuracy(layer_0 - estimator_0 - 10_folds.train_6.predict)=97.43%\n",
      "[ 2018-04-25 00:24:42,420][kfold_wrapper.log_eval_metrics] Accuracy(layer_0 - estimator_0 - 10_folds.train_7.predict)=97.61%\n",
      "[ 2018-04-25 00:24:43,253][kfold_wrapper.log_eval_metrics] Accuracy(layer_0 - estimator_0 - 10_folds.train_8.predict)=97.22%\n",
      "[ 2018-04-25 00:24:44,125][kfold_wrapper.log_eval_metrics] Accuracy(layer_0 - estimator_0 - 10_folds.train_9.predict)=97.49%\n",
      "[ 2018-04-25 00:24:44,263][kfold_wrapper.log_eval_metrics] Accuracy(layer_0 - estimator_0 - 10_folds.train_cv.predict)=97.42%\n",
      "[ 2018-04-25 00:24:44,265][kfold_wrapper.log_eval_metrics] Accuracy(layer_0 - estimator_0 - 10_folds.test.predict)=97.24%\n",
      "[ 2018-04-25 00:24:44,270][cascade_classifier.calc_accuracy] Accuracy(layer_0 - train.classifier_average)=97.42%\n",
      "[ 2018-04-25 00:24:44,271][cascade_classifier.calc_accuracy] Accuracy(layer_0 - test.classifier_average)=97.24%\n",
      "[ 2018-04-25 00:24:44,272][cascade_classifier.fit_transform] [Result][Reach Max Layer] opt_layer_num=1, accuracy_train=97.42%, accuracy_test=97.24%\n",
      "[ 2018-04-25 00:24:44,273][cascade_classifier.transform] X_groups_test.shape=[(16500, 29)]\n",
      "[ 2018-04-25 00:24:44,275][cascade_classifier.transform] group_dims=[29]\n",
      "[ 2018-04-25 00:24:44,276][cascade_classifier.transform] X_test.shape=(16500, 29)\n",
      "[ 2018-04-25 00:24:44,277][cascade_classifier.transform] [layer=0] look_indexs=[0], X_cur_test.shape=(16500, 29)\n",
      "[ 2018-04-25 00:24:45,811][cascade_classifier.fit_transform] X_groups_train.shape=[(33500, 29)],y_train.shape=(33500,),X_groups_test.shape=[(16500, 29)],y_test.shape=(16500,)\n",
      "[ 2018-04-25 00:24:45,815][cascade_classifier.fit_transform] group_dims=[29]\n",
      "[ 2018-04-25 00:24:45,817][cascade_classifier.fit_transform] group_starts=[0]\n",
      "[ 2018-04-25 00:24:45,818][cascade_classifier.fit_transform] group_ends=[29]\n",
      "[ 2018-04-25 00:24:45,820][cascade_classifier.fit_transform] X_train.shape=(33500, 29),X_test.shape=(16500, 29)\n",
      "[ 2018-04-25 00:24:45,825][cascade_classifier.fit_transform] [layer=0] look_indexs=[0], X_cur_train.shape=(33500, 29), X_cur_test.shape=(16500, 29)\n"
     ]
    },
    {
     "name": "stdout",
     "output_type": "stream",
     "text": [
      "('Test Accuracy of ExtraTrees = 97.236364 %', 16, 'fois')\n"
     ]
    },
    {
     "name": "stderr",
     "output_type": "stream",
     "text": [
      "[ 2018-04-25 00:24:46,561][kfold_wrapper.log_eval_metrics] Accuracy(layer_0 - estimator_0 - 10_folds.train_0.predict)=97.34%\n",
      "[ 2018-04-25 00:24:47,397][kfold_wrapper.log_eval_metrics] Accuracy(layer_0 - estimator_0 - 10_folds.train_1.predict)=97.52%\n",
      "[ 2018-04-25 00:24:48,259][kfold_wrapper.log_eval_metrics] Accuracy(layer_0 - estimator_0 - 10_folds.train_2.predict)=97.34%\n",
      "[ 2018-04-25 00:24:49,090][kfold_wrapper.log_eval_metrics] Accuracy(layer_0 - estimator_0 - 10_folds.train_3.predict)=97.52%\n",
      "[ 2018-04-25 00:24:49,986][kfold_wrapper.log_eval_metrics] Accuracy(layer_0 - estimator_0 - 10_folds.train_4.predict)=97.46%\n",
      "[ 2018-04-25 00:24:50,869][kfold_wrapper.log_eval_metrics] Accuracy(layer_0 - estimator_0 - 10_folds.train_5.predict)=97.31%\n",
      "[ 2018-04-25 00:24:51,872][kfold_wrapper.log_eval_metrics] Accuracy(layer_0 - estimator_0 - 10_folds.train_6.predict)=97.34%\n",
      "[ 2018-04-25 00:24:52,705][kfold_wrapper.log_eval_metrics] Accuracy(layer_0 - estimator_0 - 10_folds.train_7.predict)=97.64%\n",
      "[ 2018-04-25 00:24:53,647][kfold_wrapper.log_eval_metrics] Accuracy(layer_0 - estimator_0 - 10_folds.train_8.predict)=97.28%\n",
      "[ 2018-04-25 00:24:54,505][kfold_wrapper.log_eval_metrics] Accuracy(layer_0 - estimator_0 - 10_folds.train_9.predict)=97.40%\n",
      "[ 2018-04-25 00:24:54,636][kfold_wrapper.log_eval_metrics] Accuracy(layer_0 - estimator_0 - 10_folds.train_cv.predict)=97.42%\n",
      "[ 2018-04-25 00:24:54,638][kfold_wrapper.log_eval_metrics] Accuracy(layer_0 - estimator_0 - 10_folds.test.predict)=97.23%\n",
      "[ 2018-04-25 00:24:54,646][cascade_classifier.calc_accuracy] Accuracy(layer_0 - train.classifier_average)=97.42%\n",
      "[ 2018-04-25 00:24:54,648][cascade_classifier.calc_accuracy] Accuracy(layer_0 - test.classifier_average)=97.23%\n",
      "[ 2018-04-25 00:24:54,649][cascade_classifier.fit_transform] [Result][Reach Max Layer] opt_layer_num=1, accuracy_train=97.42%, accuracy_test=97.23%\n",
      "[ 2018-04-25 00:24:54,651][cascade_classifier.transform] X_groups_test.shape=[(16500, 29)]\n",
      "[ 2018-04-25 00:24:54,653][cascade_classifier.transform] group_dims=[29]\n",
      "[ 2018-04-25 00:24:54,655][cascade_classifier.transform] X_test.shape=(16500, 29)\n",
      "[ 2018-04-25 00:24:54,657][cascade_classifier.transform] [layer=0] look_indexs=[0], X_cur_test.shape=(16500, 29)\n",
      "[ 2018-04-25 00:24:56,045][cascade_classifier.fit_transform] X_groups_train.shape=[(33500, 29)],y_train.shape=(33500,),X_groups_test.shape=[(16500, 29)],y_test.shape=(16500,)\n",
      "[ 2018-04-25 00:24:56,049][cascade_classifier.fit_transform] group_dims=[29]\n",
      "[ 2018-04-25 00:24:56,050][cascade_classifier.fit_transform] group_starts=[0]\n",
      "[ 2018-04-25 00:24:56,052][cascade_classifier.fit_transform] group_ends=[29]\n",
      "[ 2018-04-25 00:24:56,054][cascade_classifier.fit_transform] X_train.shape=(33500, 29),X_test.shape=(16500, 29)\n",
      "[ 2018-04-25 00:24:56,059][cascade_classifier.fit_transform] [layer=0] look_indexs=[0], X_cur_train.shape=(33500, 29), X_cur_test.shape=(16500, 29)\n"
     ]
    },
    {
     "name": "stdout",
     "output_type": "stream",
     "text": [
      "('Test Accuracy of ExtraTrees = 97.230303 %', 17, 'fois')\n"
     ]
    },
    {
     "name": "stderr",
     "output_type": "stream",
     "text": [
      "[ 2018-04-25 00:24:56,852][kfold_wrapper.log_eval_metrics] Accuracy(layer_0 - estimator_0 - 10_folds.train_0.predict)=97.43%\n",
      "[ 2018-04-25 00:24:57,753][kfold_wrapper.log_eval_metrics] Accuracy(layer_0 - estimator_0 - 10_folds.train_1.predict)=97.46%\n",
      "[ 2018-04-25 00:24:58,616][kfold_wrapper.log_eval_metrics] Accuracy(layer_0 - estimator_0 - 10_folds.train_2.predict)=97.34%\n",
      "[ 2018-04-25 00:24:59,455][kfold_wrapper.log_eval_metrics] Accuracy(layer_0 - estimator_0 - 10_folds.train_3.predict)=97.61%\n",
      "[ 2018-04-25 00:25:00,322][kfold_wrapper.log_eval_metrics] Accuracy(layer_0 - estimator_0 - 10_folds.train_4.predict)=97.58%\n",
      "[ 2018-04-25 00:25:01,334][kfold_wrapper.log_eval_metrics] Accuracy(layer_0 - estimator_0 - 10_folds.train_5.predict)=97.34%\n",
      "[ 2018-04-25 00:25:02,223][kfold_wrapper.log_eval_metrics] Accuracy(layer_0 - estimator_0 - 10_folds.train_6.predict)=97.34%\n",
      "[ 2018-04-25 00:25:03,074][kfold_wrapper.log_eval_metrics] Accuracy(layer_0 - estimator_0 - 10_folds.train_7.predict)=97.61%\n",
      "[ 2018-04-25 00:25:03,938][kfold_wrapper.log_eval_metrics] Accuracy(layer_0 - estimator_0 - 10_folds.train_8.predict)=97.28%\n",
      "[ 2018-04-25 00:25:04,849][kfold_wrapper.log_eval_metrics] Accuracy(layer_0 - estimator_0 - 10_folds.train_9.predict)=97.40%\n",
      "[ 2018-04-25 00:25:04,989][kfold_wrapper.log_eval_metrics] Accuracy(layer_0 - estimator_0 - 10_folds.train_cv.predict)=97.44%\n",
      "[ 2018-04-25 00:25:04,992][kfold_wrapper.log_eval_metrics] Accuracy(layer_0 - estimator_0 - 10_folds.test.predict)=97.26%\n",
      "[ 2018-04-25 00:25:05,004][cascade_classifier.calc_accuracy] Accuracy(layer_0 - train.classifier_average)=97.44%\n",
      "[ 2018-04-25 00:25:05,006][cascade_classifier.calc_accuracy] Accuracy(layer_0 - test.classifier_average)=97.26%\n",
      "[ 2018-04-25 00:25:05,008][cascade_classifier.fit_transform] [Result][Reach Max Layer] opt_layer_num=1, accuracy_train=97.44%, accuracy_test=97.26%\n",
      "[ 2018-04-25 00:25:05,010][cascade_classifier.transform] X_groups_test.shape=[(16500, 29)]\n",
      "[ 2018-04-25 00:25:05,013][cascade_classifier.transform] group_dims=[29]\n",
      "[ 2018-04-25 00:25:05,014][cascade_classifier.transform] X_test.shape=(16500, 29)\n",
      "[ 2018-04-25 00:25:05,017][cascade_classifier.transform] [layer=0] look_indexs=[0], X_cur_test.shape=(16500, 29)\n",
      "[ 2018-04-25 00:25:06,372][cascade_classifier.fit_transform] X_groups_train.shape=[(33500, 29)],y_train.shape=(33500,),X_groups_test.shape=[(16500, 29)],y_test.shape=(16500,)\n",
      "[ 2018-04-25 00:25:06,377][cascade_classifier.fit_transform] group_dims=[29]\n",
      "[ 2018-04-25 00:25:06,378][cascade_classifier.fit_transform] group_starts=[0]\n",
      "[ 2018-04-25 00:25:06,380][cascade_classifier.fit_transform] group_ends=[29]\n",
      "[ 2018-04-25 00:25:06,381][cascade_classifier.fit_transform] X_train.shape=(33500, 29),X_test.shape=(16500, 29)\n",
      "[ 2018-04-25 00:25:06,386][cascade_classifier.fit_transform] [layer=0] look_indexs=[0], X_cur_train.shape=(33500, 29), X_cur_test.shape=(16500, 29)\n"
     ]
    },
    {
     "name": "stdout",
     "output_type": "stream",
     "text": [
      "('Test Accuracy of ExtraTrees = 97.260606 %', 18, 'fois')\n"
     ]
    },
    {
     "name": "stderr",
     "output_type": "stream",
     "text": [
      "[ 2018-04-25 00:25:07,094][kfold_wrapper.log_eval_metrics] Accuracy(layer_0 - estimator_0 - 10_folds.train_0.predict)=97.34%\n",
      "[ 2018-04-25 00:25:08,062][kfold_wrapper.log_eval_metrics] Accuracy(layer_0 - estimator_0 - 10_folds.train_1.predict)=97.34%\n",
      "[ 2018-04-25 00:25:08,917][kfold_wrapper.log_eval_metrics] Accuracy(layer_0 - estimator_0 - 10_folds.train_2.predict)=97.37%\n",
      "[ 2018-04-25 00:25:09,719][kfold_wrapper.log_eval_metrics] Accuracy(layer_0 - estimator_0 - 10_folds.train_3.predict)=97.37%\n",
      "[ 2018-04-25 00:25:10,592][kfold_wrapper.log_eval_metrics] Accuracy(layer_0 - estimator_0 - 10_folds.train_4.predict)=97.46%\n",
      "[ 2018-04-25 00:25:11,466][kfold_wrapper.log_eval_metrics] Accuracy(layer_0 - estimator_0 - 10_folds.train_5.predict)=97.52%\n",
      "[ 2018-04-25 00:25:12,451][kfold_wrapper.log_eval_metrics] Accuracy(layer_0 - estimator_0 - 10_folds.train_6.predict)=97.28%\n",
      "[ 2018-04-25 00:25:13,289][kfold_wrapper.log_eval_metrics] Accuracy(layer_0 - estimator_0 - 10_folds.train_7.predict)=97.58%\n",
      "[ 2018-04-25 00:25:14,158][kfold_wrapper.log_eval_metrics] Accuracy(layer_0 - estimator_0 - 10_folds.train_8.predict)=97.34%\n",
      "[ 2018-04-25 00:25:14,990][kfold_wrapper.log_eval_metrics] Accuracy(layer_0 - estimator_0 - 10_folds.train_9.predict)=97.46%\n",
      "[ 2018-04-25 00:25:15,125][kfold_wrapper.log_eval_metrics] Accuracy(layer_0 - estimator_0 - 10_folds.train_cv.predict)=97.41%\n",
      "[ 2018-04-25 00:25:15,127][kfold_wrapper.log_eval_metrics] Accuracy(layer_0 - estimator_0 - 10_folds.test.predict)=97.21%\n",
      "[ 2018-04-25 00:25:15,142][cascade_classifier.calc_accuracy] Accuracy(layer_0 - train.classifier_average)=97.41%\n",
      "[ 2018-04-25 00:25:15,144][cascade_classifier.calc_accuracy] Accuracy(layer_0 - test.classifier_average)=97.21%\n",
      "[ 2018-04-25 00:25:15,146][cascade_classifier.fit_transform] [Result][Reach Max Layer] opt_layer_num=1, accuracy_train=97.41%, accuracy_test=97.21%\n",
      "[ 2018-04-25 00:25:15,148][cascade_classifier.transform] X_groups_test.shape=[(16500, 29)]\n",
      "[ 2018-04-25 00:25:15,151][cascade_classifier.transform] group_dims=[29]\n",
      "[ 2018-04-25 00:25:15,152][cascade_classifier.transform] X_test.shape=(16500, 29)\n",
      "[ 2018-04-25 00:25:15,155][cascade_classifier.transform] [layer=0] look_indexs=[0], X_cur_test.shape=(16500, 29)\n"
     ]
    },
    {
     "name": "stdout",
     "output_type": "stream",
     "text": [
      "('Test Accuracy of ExtraTrees = 97.206061 %', 19, 'fois')\n"
     ]
    }
   ],
   "source": [
    "# Deep\n",
    "for i in range (20):\n",
    "    X_train,X_test=update(X_train,X_test)\n",
    "    X_test_enc, X_train_enc=newdata(X_test_enc, X_train_enc)\n",
    "\n",
    "    X_train=X_train_enc\n",
    "    X_test=X_test_enc \n",
    "    X_train_enc, X_test_enc = gc.fit_transform(X_train, y_train, X_test=X_test, y_test=y_test)\n",
    "    affiche()"
   ]
  },
  {
   "cell_type": "code",
   "execution_count": null,
   "metadata": {
    "collapsed": true
   },
   "outputs": [],
   "source": []
  },
  {
   "cell_type": "markdown",
   "metadata": {},
   "source": [
    "# ('Test Accuracy of ExtraTrees = 97.715152 %', 0, 'fois')"
   ]
  },
  {
   "cell_type": "code",
   "execution_count": null,
   "metadata": {
    "collapsed": true
   },
   "outputs": [],
   "source": []
  }
 ],
 "metadata": {
  "kernelspec": {
   "display_name": "Python 2",
   "language": "python",
   "name": "python2"
  },
  "language_info": {
   "codemirror_mode": {
    "name": "ipython",
    "version": 2
   },
   "file_extension": ".py",
   "mimetype": "text/x-python",
   "name": "python",
   "nbconvert_exporter": "python",
   "pygments_lexer": "ipython2",
   "version": "2.7.14"
  }
 },
 "nbformat": 4,
 "nbformat_minor": 2
}
