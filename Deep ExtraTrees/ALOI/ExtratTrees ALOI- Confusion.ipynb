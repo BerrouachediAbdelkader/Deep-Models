{
 "cells": [
  {
   "cell_type": "code",
   "execution_count": 1,
   "metadata": {
    "collapsed": true
   },
   "outputs": [],
   "source": [
    "# imports \n",
    "import numpy as np\n",
    "from math import sqrt \n",
    "from pprint import pprint\n",
    "from numpy import array\n",
    "from scipy.io import arff\n",
    "import pandas as pd"
   ]
  },
  {
   "cell_type": "code",
   "execution_count": 2,
   "metadata": {},
   "outputs": [
    {
     "data": {
      "text/html": [
       "<div>\n",
       "<style>\n",
       "    .dataframe thead tr:only-child th {\n",
       "        text-align: right;\n",
       "    }\n",
       "\n",
       "    .dataframe thead th {\n",
       "        text-align: left;\n",
       "    }\n",
       "\n",
       "    .dataframe tbody tr th {\n",
       "        vertical-align: top;\n",
       "    }\n",
       "</style>\n",
       "<table border=\"1\" class=\"dataframe\">\n",
       "  <thead>\n",
       "    <tr style=\"text-align: right;\">\n",
       "      <th></th>\n",
       "      <th>att1</th>\n",
       "      <th>att2</th>\n",
       "      <th>att3</th>\n",
       "      <th>att4</th>\n",
       "      <th>att5</th>\n",
       "      <th>att6</th>\n",
       "      <th>att7</th>\n",
       "      <th>att8</th>\n",
       "      <th>att9</th>\n",
       "      <th>att10</th>\n",
       "      <th>...</th>\n",
       "      <th>att19</th>\n",
       "      <th>att20</th>\n",
       "      <th>att21</th>\n",
       "      <th>att22</th>\n",
       "      <th>att23</th>\n",
       "      <th>att24</th>\n",
       "      <th>att25</th>\n",
       "      <th>att26</th>\n",
       "      <th>att27</th>\n",
       "      <th>outlier</th>\n",
       "    </tr>\n",
       "  </thead>\n",
       "  <tbody>\n",
       "    <tr>\n",
       "      <th>0</th>\n",
       "      <td>0.784999</td>\n",
       "      <td>0.000018</td>\n",
       "      <td>0.0</td>\n",
       "      <td>0.000093</td>\n",
       "      <td>0.0</td>\n",
       "      <td>0.0</td>\n",
       "      <td>0.0</td>\n",
       "      <td>0.0</td>\n",
       "      <td>0.0</td>\n",
       "      <td>0.139811</td>\n",
       "      <td>...</td>\n",
       "      <td>0.048171</td>\n",
       "      <td>0.001189</td>\n",
       "      <td>0.0</td>\n",
       "      <td>0.115728</td>\n",
       "      <td>0.023449</td>\n",
       "      <td>0.0002</td>\n",
       "      <td>0.000220</td>\n",
       "      <td>0.034952</td>\n",
       "      <td>0.046914</td>\n",
       "      <td>1</td>\n",
       "    </tr>\n",
       "    <tr>\n",
       "      <th>1</th>\n",
       "      <td>0.958088</td>\n",
       "      <td>0.000000</td>\n",
       "      <td>0.0</td>\n",
       "      <td>0.001671</td>\n",
       "      <td>0.0</td>\n",
       "      <td>0.0</td>\n",
       "      <td>0.0</td>\n",
       "      <td>0.0</td>\n",
       "      <td>0.0</td>\n",
       "      <td>0.019556</td>\n",
       "      <td>...</td>\n",
       "      <td>0.000000</td>\n",
       "      <td>0.000000</td>\n",
       "      <td>0.0</td>\n",
       "      <td>0.022035</td>\n",
       "      <td>0.007516</td>\n",
       "      <td>0.0000</td>\n",
       "      <td>0.000000</td>\n",
       "      <td>0.001033</td>\n",
       "      <td>0.000000</td>\n",
       "      <td>1</td>\n",
       "    </tr>\n",
       "    <tr>\n",
       "      <th>2</th>\n",
       "      <td>0.938768</td>\n",
       "      <td>0.000000</td>\n",
       "      <td>0.0</td>\n",
       "      <td>0.005146</td>\n",
       "      <td>0.0</td>\n",
       "      <td>0.0</td>\n",
       "      <td>0.0</td>\n",
       "      <td>0.0</td>\n",
       "      <td>0.0</td>\n",
       "      <td>0.018451</td>\n",
       "      <td>...</td>\n",
       "      <td>0.000000</td>\n",
       "      <td>0.000000</td>\n",
       "      <td>0.0</td>\n",
       "      <td>0.035542</td>\n",
       "      <td>0.011982</td>\n",
       "      <td>0.0000</td>\n",
       "      <td>0.001595</td>\n",
       "      <td>0.019520</td>\n",
       "      <td>0.000000</td>\n",
       "      <td>1</td>\n",
       "    </tr>\n",
       "    <tr>\n",
       "      <th>3</th>\n",
       "      <td>0.954775</td>\n",
       "      <td>0.000000</td>\n",
       "      <td>0.0</td>\n",
       "      <td>0.001427</td>\n",
       "      <td>0.0</td>\n",
       "      <td>0.0</td>\n",
       "      <td>0.0</td>\n",
       "      <td>0.0</td>\n",
       "      <td>0.0</td>\n",
       "      <td>0.024944</td>\n",
       "      <td>...</td>\n",
       "      <td>0.000000</td>\n",
       "      <td>0.000000</td>\n",
       "      <td>0.0</td>\n",
       "      <td>0.019941</td>\n",
       "      <td>0.000805</td>\n",
       "      <td>0.0000</td>\n",
       "      <td>0.000000</td>\n",
       "      <td>0.000035</td>\n",
       "      <td>0.000000</td>\n",
       "      <td>1</td>\n",
       "    </tr>\n",
       "    <tr>\n",
       "      <th>4</th>\n",
       "      <td>0.933601</td>\n",
       "      <td>0.000000</td>\n",
       "      <td>0.0</td>\n",
       "      <td>0.001682</td>\n",
       "      <td>0.0</td>\n",
       "      <td>0.0</td>\n",
       "      <td>0.0</td>\n",
       "      <td>0.0</td>\n",
       "      <td>0.0</td>\n",
       "      <td>0.037002</td>\n",
       "      <td>...</td>\n",
       "      <td>0.000000</td>\n",
       "      <td>0.000000</td>\n",
       "      <td>0.0</td>\n",
       "      <td>0.046759</td>\n",
       "      <td>0.002663</td>\n",
       "      <td>0.0000</td>\n",
       "      <td>0.000339</td>\n",
       "      <td>0.001359</td>\n",
       "      <td>0.000000</td>\n",
       "      <td>1</td>\n",
       "    </tr>\n",
       "  </tbody>\n",
       "</table>\n",
       "<p>5 rows × 28 columns</p>\n",
       "</div>"
      ],
      "text/plain": [
       "       att1      att2  att3      att4  att5  att6  att7  att8  att9     att10  \\\n",
       "0  0.784999  0.000018   0.0  0.000093   0.0   0.0   0.0   0.0   0.0  0.139811   \n",
       "1  0.958088  0.000000   0.0  0.001671   0.0   0.0   0.0   0.0   0.0  0.019556   \n",
       "2  0.938768  0.000000   0.0  0.005146   0.0   0.0   0.0   0.0   0.0  0.018451   \n",
       "3  0.954775  0.000000   0.0  0.001427   0.0   0.0   0.0   0.0   0.0  0.024944   \n",
       "4  0.933601  0.000000   0.0  0.001682   0.0   0.0   0.0   0.0   0.0  0.037002   \n",
       "\n",
       "    ...        att19     att20  att21     att22     att23   att24     att25  \\\n",
       "0   ...     0.048171  0.001189    0.0  0.115728  0.023449  0.0002  0.000220   \n",
       "1   ...     0.000000  0.000000    0.0  0.022035  0.007516  0.0000  0.000000   \n",
       "2   ...     0.000000  0.000000    0.0  0.035542  0.011982  0.0000  0.001595   \n",
       "3   ...     0.000000  0.000000    0.0  0.019941  0.000805  0.0000  0.000000   \n",
       "4   ...     0.000000  0.000000    0.0  0.046759  0.002663  0.0000  0.000339   \n",
       "\n",
       "      att26     att27  outlier  \n",
       "0  0.034952  0.046914        1  \n",
       "1  0.001033  0.000000        1  \n",
       "2  0.019520  0.000000        1  \n",
       "3  0.000035  0.000000        1  \n",
       "4  0.001359  0.000000        1  \n",
       "\n",
       "[5 rows x 28 columns]"
      ]
     },
     "execution_count": 2,
     "metadata": {},
     "output_type": "execute_result"
    }
   ],
   "source": [
    "# load data\n",
    "df=pd.read_csv('ALOI_norm.csv')  \n",
    "\n",
    "del df['id']\n",
    "del df['Unnamed: 0']\n",
    "df['outlier'] = df.outlier.apply(lambda label: 1 if label == \"'yes'\" else 0)\n",
    "\n",
    "df.head()"
   ]
  },
  {
   "cell_type": "code",
   "execution_count": 3,
   "metadata": {},
   "outputs": [
    {
     "data": {
      "text/plain": [
       "(50000, 28)"
      ]
     },
     "execution_count": 3,
     "metadata": {},
     "output_type": "execute_result"
    }
   ],
   "source": [
    "df.shape"
   ]
  },
  {
   "cell_type": "code",
   "execution_count": 4,
   "metadata": {
    "collapsed": true
   },
   "outputs": [],
   "source": [
    "# data to values\n",
    "df = df.values"
   ]
  },
  {
   "cell_type": "code",
   "execution_count": 5,
   "metadata": {
    "collapsed": true
   },
   "outputs": [],
   "source": [
    "# Extratrees Deep\n",
    "import argparse\n",
    "import sys\n",
    "import pickle\n",
    "from sklearn.metrics import accuracy_score\n",
    "sys.path.insert(0, \"lib\")\n",
    "from gcforest.gcforest import GCForest\n",
    "from gcforest.utils.config_utils import load_json\n",
    "config = load_json(\"./examples/aloi.json\")\n",
    "gc = GCForest(config)"
   ]
  },
  {
   "cell_type": "code",
   "execution_count": 9,
   "metadata": {},
   "outputs": [],
   "source": [
    "# train test \n",
    "from sklearn.cross_validation import train_test_split\n",
    "y = df[:,27]\n",
    "X = df[:,0:27]\n",
    "\n",
    "X_train,X_test,y_train,y_test = train_test_split(X, y, test_size=0.33, random_state=42)"
   ]
  },
  {
   "cell_type": "code",
   "execution_count": 7,
   "metadata": {},
   "outputs": [
    {
     "data": {
      "text/plain": [
       "2"
      ]
     },
     "execution_count": 7,
     "metadata": {},
     "output_type": "execute_result"
    }
   ],
   "source": [
    "# number of class\n",
    "len(np.unique(y_train))"
   ]
  },
  {
   "cell_type": "code",
   "execution_count": 10,
   "metadata": {},
   "outputs": [
    {
     "name": "stderr",
     "output_type": "stream",
     "text": [
      "[ 2018-05-15 00:39:20,968][cascade_classifier.fit_transform] X_groups_train.shape=[(33500, 27)],y_train.shape=(33500,),X_groups_test.shape=[(16500, 27)],y_test.shape=(16500,)\n",
      "[ 2018-05-15 00:39:20,973][cascade_classifier.fit_transform] group_dims=[27]\n",
      "[ 2018-05-15 00:39:20,974][cascade_classifier.fit_transform] group_starts=[0]\n",
      "[ 2018-05-15 00:39:20,976][cascade_classifier.fit_transform] group_ends=[27]\n",
      "[ 2018-05-15 00:39:20,977][cascade_classifier.fit_transform] X_train.shape=(33500, 27),X_test.shape=(16500, 27)\n",
      "[ 2018-05-15 00:39:20,982][cascade_classifier.fit_transform] [layer=0] look_indexs=[0], X_cur_train.shape=(33500, 27), X_cur_test.shape=(16500, 27)\n",
      "[ 2018-05-15 00:39:25,373][kfold_wrapper.log_eval_metrics] Accuracy(layer_0 - estimator_0 - 10_folds.train_0.predict)=97.49%\n",
      "[ 2018-05-15 00:39:30,517][kfold_wrapper.log_eval_metrics] Accuracy(layer_0 - estimator_0 - 10_folds.train_1.predict)=97.34%\n",
      "[ 2018-05-15 00:39:35,243][kfold_wrapper.log_eval_metrics] Accuracy(layer_0 - estimator_0 - 10_folds.train_2.predict)=97.25%\n",
      "[ 2018-05-15 00:39:39,691][kfold_wrapper.log_eval_metrics] Accuracy(layer_0 - estimator_0 - 10_folds.train_3.predict)=97.34%\n",
      "[ 2018-05-15 00:39:44,061][kfold_wrapper.log_eval_metrics] Accuracy(layer_0 - estimator_0 - 10_folds.train_4.predict)=97.40%\n",
      "[ 2018-05-15 00:39:48,598][kfold_wrapper.log_eval_metrics] Accuracy(layer_0 - estimator_0 - 10_folds.train_5.predict)=97.31%\n",
      "[ 2018-05-15 00:39:53,217][kfold_wrapper.log_eval_metrics] Accuracy(layer_0 - estimator_0 - 10_folds.train_6.predict)=97.46%\n",
      "[ 2018-05-15 00:39:58,536][kfold_wrapper.log_eval_metrics] Accuracy(layer_0 - estimator_0 - 10_folds.train_7.predict)=97.43%\n",
      "[ 2018-05-15 00:40:02,738][kfold_wrapper.log_eval_metrics] Accuracy(layer_0 - estimator_0 - 10_folds.train_8.predict)=97.49%\n",
      "[ 2018-05-15 00:40:06,839][kfold_wrapper.log_eval_metrics] Accuracy(layer_0 - estimator_0 - 10_folds.train_9.predict)=97.58%\n",
      "[ 2018-05-15 00:40:07,051][kfold_wrapper.log_eval_metrics] Accuracy(layer_0 - estimator_0 - 10_folds.train_cv.predict)=97.41%\n",
      "[ 2018-05-15 00:40:07,053][kfold_wrapper.log_eval_metrics] Accuracy(layer_0 - estimator_0 - 10_folds.test.predict)=97.04%\n",
      "[ 2018-05-15 00:40:07,059][cascade_classifier.calc_accuracy] Accuracy(layer_0 - train.classifier_average)=97.41%\n",
      "[ 2018-05-15 00:40:07,062][cascade_classifier.calc_accuracy] Accuracy(layer_0 - test.classifier_average)=97.04%\n",
      "[ 2018-05-15 00:40:07,063][cascade_classifier.fit_transform] [Result][Reach Max Layer] opt_layer_num=1, accuracy_train=97.41%, accuracy_test=97.04%\n"
     ]
    }
   ],
   "source": [
    "         # X_enc is the concatenated predict_proba result of ExtraTrees\n",
    "\n",
    "X_train_enc, X_test_enc = gc.fit_transform(X_train, y_train, X_test=X_test, y_test=y_test)\n",
    "   "
   ]
  },
  {
   "cell_type": "code",
   "execution_count": 11,
   "metadata": {},
   "outputs": [
    {
     "name": "stderr",
     "output_type": "stream",
     "text": [
      "[ 2018-05-15 00:40:11,171][cascade_classifier.transform] X_groups_test.shape=[(16500, 27)]\n",
      "[ 2018-05-15 00:40:11,173][cascade_classifier.transform] group_dims=[27]\n",
      "[ 2018-05-15 00:40:11,175][cascade_classifier.transform] X_test.shape=(16500, 27)\n",
      "[ 2018-05-15 00:40:11,177][cascade_classifier.transform] [layer=0] look_indexs=[0], X_cur_test.shape=(16500, 27)\n"
     ]
    },
    {
     "name": "stdout",
     "output_type": "stream",
     "text": [
      "Test Accuracy of ExtraTrees = 97.042424 %\n"
     ]
    }
   ],
   "source": [
    "# predict\n",
    "y_pred = gc.predict(X_test)\n",
    "acc = accuracy_score(y_test, y_pred)\n",
    "print(\"Test Accuracy of ExtraTrees = {:.6f} %\".format(acc * 100))"
   ]
  },
  {
   "cell_type": "code",
   "execution_count": 12,
   "metadata": {},
   "outputs": [
    {
     "name": "stdout",
     "output_type": "stream",
     "text": [
      "[[15968     2]\n",
      " [  486    44]]\n",
      "\n",
      "\n",
      "             precision    recall  f1-score   support\n",
      "\n",
      "        0.0       0.97      1.00      0.98     15970\n",
      "        1.0       0.96      0.08      0.15       530\n",
      "\n",
      "avg / total       0.97      0.97      0.96     16500\n",
      "\n"
     ]
    }
   ],
   "source": [
    "# Matrix de confusion\n",
    "from sklearn.metrics import classification_report, confusion_matrix\n",
    "print(confusion_matrix(y_test,y_pred))\n",
    "print('\\n')\n",
    "print(classification_report(y_test,y_pred))"
   ]
  },
  {
   "cell_type": "code",
   "execution_count": 13,
   "metadata": {},
   "outputs": [
    {
     "name": "stderr",
     "output_type": "stream",
     "text": [
      "[ 2018-05-15 00:40:35,688][cascade_classifier.transform] X_groups_test.shape=[(16500, 27)]\n",
      "[ 2018-05-15 00:40:35,691][cascade_classifier.transform] group_dims=[27]\n",
      "[ 2018-05-15 00:40:35,692][cascade_classifier.transform] X_test.shape=(16500, 27)\n",
      "[ 2018-05-15 00:40:35,694][cascade_classifier.transform] [layer=0] look_indexs=[0], X_cur_test.shape=(16500, 27)\n"
     ]
    }
   ],
   "source": [
    "# Make data + estimators\n",
    "X_test_enc = gc.transform(X_test)\n",
    "X_train_enc = X_train_enc.reshape((X_train_enc.shape[0], -1))\n",
    "X_test_enc = X_test_enc.reshape((X_test_enc.shape[0], -1))\n",
    "X_train_origin = X_train.reshape((X_train.shape[0], -1))\n",
    "X_test_origin = X_test.reshape((X_test.shape[0], -1))\n",
    "X_train_enc = np.hstack((X_train_origin, X_train_enc))\n",
    "X_test_enc = np.hstack((X_test_origin, X_test_enc))"
   ]
  },
  {
   "cell_type": "code",
   "execution_count": 14,
   "metadata": {},
   "outputs": [
    {
     "name": "stderr",
     "output_type": "stream",
     "text": [
      "[ 2018-05-15 00:40:38,230][cascade_classifier.fit_transform] X_groups_train.shape=[(33500, 29)],y_train.shape=(33500,),X_groups_test.shape=[(16500, 29)],y_test.shape=(16500,)\n",
      "[ 2018-05-15 00:40:38,234][cascade_classifier.fit_transform] group_dims=[29]\n",
      "[ 2018-05-15 00:40:38,236][cascade_classifier.fit_transform] group_starts=[0]\n",
      "[ 2018-05-15 00:40:38,238][cascade_classifier.fit_transform] group_ends=[29]\n",
      "[ 2018-05-15 00:40:38,240][cascade_classifier.fit_transform] X_train.shape=(33500, 29),X_test.shape=(16500, 29)\n",
      "[ 2018-05-15 00:40:38,244][cascade_classifier.fit_transform] [layer=0] look_indexs=[0], X_cur_train.shape=(33500, 29), X_cur_test.shape=(16500, 29)\n",
      "[ 2018-05-15 00:40:41,234][kfold_wrapper.log_eval_metrics] Accuracy(layer_0 - estimator_0 - 10_folds.train_0.predict)=97.85%\n",
      "[ 2018-05-15 00:40:44,986][kfold_wrapper.log_eval_metrics] Accuracy(layer_0 - estimator_0 - 10_folds.train_1.predict)=97.82%\n",
      "[ 2018-05-15 00:40:48,690][kfold_wrapper.log_eval_metrics] Accuracy(layer_0 - estimator_0 - 10_folds.train_2.predict)=97.76%\n",
      "[ 2018-05-15 00:40:51,933][kfold_wrapper.log_eval_metrics] Accuracy(layer_0 - estimator_0 - 10_folds.train_3.predict)=97.94%\n",
      "[ 2018-05-15 00:40:55,284][kfold_wrapper.log_eval_metrics] Accuracy(layer_0 - estimator_0 - 10_folds.train_4.predict)=97.70%\n",
      "[ 2018-05-15 00:40:58,229][kfold_wrapper.log_eval_metrics] Accuracy(layer_0 - estimator_0 - 10_folds.train_5.predict)=97.79%\n",
      "[ 2018-05-15 00:41:01,292][kfold_wrapper.log_eval_metrics] Accuracy(layer_0 - estimator_0 - 10_folds.train_6.predict)=97.85%\n",
      "[ 2018-05-15 00:41:04,219][kfold_wrapper.log_eval_metrics] Accuracy(layer_0 - estimator_0 - 10_folds.train_7.predict)=98.00%\n",
      "[ 2018-05-15 00:41:07,220][kfold_wrapper.log_eval_metrics] Accuracy(layer_0 - estimator_0 - 10_folds.train_8.predict)=97.67%\n",
      "[ 2018-05-15 00:41:10,771][kfold_wrapper.log_eval_metrics] Accuracy(layer_0 - estimator_0 - 10_folds.train_9.predict)=97.97%\n",
      "[ 2018-05-15 00:41:11,009][kfold_wrapper.log_eval_metrics] Accuracy(layer_0 - estimator_0 - 10_folds.train_cv.predict)=97.84%\n",
      "[ 2018-05-15 00:41:11,011][kfold_wrapper.log_eval_metrics] Accuracy(layer_0 - estimator_0 - 10_folds.test.predict)=97.78%\n",
      "[ 2018-05-15 00:41:11,017][cascade_classifier.calc_accuracy] Accuracy(layer_0 - train.classifier_average)=97.84%\n",
      "[ 2018-05-15 00:41:11,019][cascade_classifier.calc_accuracy] Accuracy(layer_0 - test.classifier_average)=97.78%\n",
      "[ 2018-05-15 00:41:11,020][cascade_classifier.fit_transform] [Result][Reach Max Layer] opt_layer_num=1, accuracy_train=97.84%, accuracy_test=97.78%\n"
     ]
    }
   ],
   "source": [
    "# New data\n",
    "X_train=X_train_enc\n",
    "X_test=X_test_enc \n",
    "X_train_enc, X_test_enc = gc.fit_transform(X_train, y_train, X_test=X_test, y_test=y_test)"
   ]
  },
  {
   "cell_type": "code",
   "execution_count": 16,
   "metadata": {},
   "outputs": [
    {
     "name": "stderr",
     "output_type": "stream",
     "text": [
      "[ 2018-05-15 00:41:18,977][cascade_classifier.transform] X_groups_test.shape=[(16500, 29)]\n",
      "[ 2018-05-15 00:41:18,980][cascade_classifier.transform] group_dims=[29]\n",
      "[ 2018-05-15 00:41:18,981][cascade_classifier.transform] X_test.shape=(16500, 29)\n",
      "[ 2018-05-15 00:41:18,983][cascade_classifier.transform] [layer=0] look_indexs=[0], X_cur_test.shape=(16500, 29)\n"
     ]
    },
    {
     "name": "stdout",
     "output_type": "stream",
     "text": [
      "Test Accuracy of ExtraTrees = 97.775758 %\n"
     ]
    }
   ],
   "source": [
    "# predict  data + Es\n",
    "y_pred = gc.predict(X_test)\n",
    "acc = accuracy_score(y_test, y_pred)\n",
    "print(\"Test Accuracy of ExtraTrees = {:.6f} %\".format(acc * 100))"
   ]
  },
  {
   "cell_type": "code",
   "execution_count": 17,
   "metadata": {},
   "outputs": [
    {
     "name": "stdout",
     "output_type": "stream",
     "text": [
      "[[15940    30]\n",
      " [  337   193]]\n",
      "\n",
      "\n",
      "             precision    recall  f1-score   support\n",
      "\n",
      "        0.0       0.98      1.00      0.99     15970\n",
      "        1.0       0.87      0.36      0.51       530\n",
      "\n",
      "avg / total       0.98      0.98      0.97     16500\n",
      "\n"
     ]
    }
   ],
   "source": [
    "# Matrix de confusion\n",
    "from sklearn.metrics import classification_report, confusion_matrix\n",
    "print(confusion_matrix(y_test,y_pred))\n",
    "print('\\n')\n",
    "print(classification_report(y_test,y_pred))"
   ]
  },
  {
   "cell_type": "code",
   "execution_count": 18,
   "metadata": {
    "collapsed": true
   },
   "outputs": [],
   "source": [
    "def update(X_train,X_test):\n",
    "    # update Estimators\n",
    "    M = np.delete(X_train, (-1), axis=1)\n",
    "    X_train= np.delete(M, (-1), axis=1)\n",
    "    M = np.delete(X_test, (-1), axis=1)\n",
    "    X_test = np.delete(M, (-1), axis=1)\n",
    "    return X_train,X_test\n",
    "\n",
    "def newdata(X_test_enc, X_train_enc):\n",
    "    # Make Data + Estimators\n",
    "    X_train_origin = X_train.reshape((X_train.shape[0], -1))\n",
    "    X_test_origin = X_test.reshape((X_test.shape[0], -1))\n",
    "    X_train_enc = np.hstack((X_train_origin, X_train_enc))\n",
    "    X_test_enc = np.hstack((X_test_origin, X_test_enc))\n",
    "    return X_test_enc, X_train_enc\n",
    "\n",
    "def affiche():\n",
    "    # predict\n",
    "    y_pred = gc.predict(X_test)\n",
    "    acc = accuracy_score(y_test, y_pred)\n",
    "    print(\"Test Accuracy of ExtraTrees = {:.6f} %\".format(acc * 100),i,'fois')\n",
    "    \n",
    "    # Matrix de confusion\n",
    "    from sklearn.metrics import classification_report, confusion_matrix\n",
    "    print(confusion_matrix(y_test,y_pred))\n",
    "    print('\\n')\n",
    "    print(classification_report(y_test,y_pred))"
   ]
  },
  {
   "cell_type": "code",
   "execution_count": 19,
   "metadata": {},
   "outputs": [
    {
     "name": "stderr",
     "output_type": "stream",
     "text": [
      "[ 2018-05-15 00:42:43,895][cascade_classifier.fit_transform] X_groups_train.shape=[(33500, 29)],y_train.shape=(33500,),X_groups_test.shape=[(16500, 29)],y_test.shape=(16500,)\n",
      "[ 2018-05-15 00:42:43,899][cascade_classifier.fit_transform] group_dims=[29]\n",
      "[ 2018-05-15 00:42:43,900][cascade_classifier.fit_transform] group_starts=[0]\n",
      "[ 2018-05-15 00:42:43,901][cascade_classifier.fit_transform] group_ends=[29]\n",
      "[ 2018-05-15 00:42:43,902][cascade_classifier.fit_transform] X_train.shape=(33500, 29),X_test.shape=(16500, 29)\n",
      "[ 2018-05-15 00:42:43,909][cascade_classifier.fit_transform] [layer=0] look_indexs=[0], X_cur_train.shape=(33500, 29), X_cur_test.shape=(16500, 29)\n",
      "[ 2018-05-15 00:42:47,646][kfold_wrapper.log_eval_metrics] Accuracy(layer_0 - estimator_0 - 10_folds.train_0.predict)=97.67%\n",
      "[ 2018-05-15 00:42:50,875][kfold_wrapper.log_eval_metrics] Accuracy(layer_0 - estimator_0 - 10_folds.train_1.predict)=97.70%\n",
      "[ 2018-05-15 00:42:54,250][kfold_wrapper.log_eval_metrics] Accuracy(layer_0 - estimator_0 - 10_folds.train_2.predict)=97.82%\n",
      "[ 2018-05-15 00:42:57,906][kfold_wrapper.log_eval_metrics] Accuracy(layer_0 - estimator_0 - 10_folds.train_3.predict)=97.91%\n",
      "[ 2018-05-15 00:43:01,756][kfold_wrapper.log_eval_metrics] Accuracy(layer_0 - estimator_0 - 10_folds.train_4.predict)=97.82%\n",
      "[ 2018-05-15 00:43:05,844][kfold_wrapper.log_eval_metrics] Accuracy(layer_0 - estimator_0 - 10_folds.train_5.predict)=97.79%\n",
      "[ 2018-05-15 00:43:10,153][kfold_wrapper.log_eval_metrics] Accuracy(layer_0 - estimator_0 - 10_folds.train_6.predict)=97.79%\n",
      "[ 2018-05-15 00:43:14,518][kfold_wrapper.log_eval_metrics] Accuracy(layer_0 - estimator_0 - 10_folds.train_7.predict)=97.97%\n",
      "[ 2018-05-15 00:43:17,933][kfold_wrapper.log_eval_metrics] Accuracy(layer_0 - estimator_0 - 10_folds.train_8.predict)=97.64%\n",
      "[ 2018-05-15 00:43:21,406][kfold_wrapper.log_eval_metrics] Accuracy(layer_0 - estimator_0 - 10_folds.train_9.predict)=97.76%\n",
      "[ 2018-05-15 00:43:21,643][kfold_wrapper.log_eval_metrics] Accuracy(layer_0 - estimator_0 - 10_folds.train_cv.predict)=97.79%\n",
      "[ 2018-05-15 00:43:21,645][kfold_wrapper.log_eval_metrics] Accuracy(layer_0 - estimator_0 - 10_folds.test.predict)=97.72%\n",
      "[ 2018-05-15 00:43:21,651][cascade_classifier.calc_accuracy] Accuracy(layer_0 - train.classifier_average)=97.79%\n",
      "[ 2018-05-15 00:43:21,652][cascade_classifier.calc_accuracy] Accuracy(layer_0 - test.classifier_average)=97.72%\n",
      "[ 2018-05-15 00:43:21,654][cascade_classifier.fit_transform] [Result][Reach Max Layer] opt_layer_num=1, accuracy_train=97.79%, accuracy_test=97.72%\n",
      "[ 2018-05-15 00:43:21,656][cascade_classifier.transform] X_groups_test.shape=[(16500, 29)]\n",
      "[ 2018-05-15 00:43:21,657][cascade_classifier.transform] group_dims=[29]\n",
      "[ 2018-05-15 00:43:21,658][cascade_classifier.transform] X_test.shape=(16500, 29)\n",
      "[ 2018-05-15 00:43:21,660][cascade_classifier.transform] [layer=0] look_indexs=[0], X_cur_test.shape=(16500, 29)\n",
      "[ 2018-05-15 00:43:23,999][cascade_classifier.fit_transform] X_groups_train.shape=[(33500, 29)],y_train.shape=(33500,),X_groups_test.shape=[(16500, 29)],y_test.shape=(16500,)\n",
      "[ 2018-05-15 00:43:24,002][cascade_classifier.fit_transform] group_dims=[29]\n",
      "[ 2018-05-15 00:43:24,003][cascade_classifier.fit_transform] group_starts=[0]\n",
      "[ 2018-05-15 00:43:24,005][cascade_classifier.fit_transform] group_ends=[29]\n",
      "[ 2018-05-15 00:43:24,007][cascade_classifier.fit_transform] X_train.shape=(33500, 29),X_test.shape=(16500, 29)\n",
      "[ 2018-05-15 00:43:24,012][cascade_classifier.fit_transform] [layer=0] look_indexs=[0], X_cur_train.shape=(33500, 29), X_cur_test.shape=(16500, 29)\n"
     ]
    },
    {
     "name": "stdout",
     "output_type": "stream",
     "text": [
      "('Test Accuracy of ExtraTrees = 97.715152 %', 0, 'fois')\n",
      "[[15945    25]\n",
      " [  352   178]]\n",
      "\n",
      "\n",
      "             precision    recall  f1-score   support\n",
      "\n",
      "        0.0       0.98      1.00      0.99     15970\n",
      "        1.0       0.88      0.34      0.49       530\n",
      "\n",
      "avg / total       0.98      0.98      0.97     16500\n",
      "\n"
     ]
    },
    {
     "name": "stderr",
     "output_type": "stream",
     "text": [
      "[ 2018-05-15 00:43:27,427][kfold_wrapper.log_eval_metrics] Accuracy(layer_0 - estimator_0 - 10_folds.train_0.predict)=97.67%\n",
      "[ 2018-05-15 00:43:31,079][kfold_wrapper.log_eval_metrics] Accuracy(layer_0 - estimator_0 - 10_folds.train_1.predict)=98.00%\n",
      "[ 2018-05-15 00:43:35,214][kfold_wrapper.log_eval_metrics] Accuracy(layer_0 - estimator_0 - 10_folds.train_2.predict)=97.64%\n",
      "[ 2018-05-15 00:43:39,673][kfold_wrapper.log_eval_metrics] Accuracy(layer_0 - estimator_0 - 10_folds.train_3.predict)=97.73%\n",
      "[ 2018-05-15 00:43:43,675][kfold_wrapper.log_eval_metrics] Accuracy(layer_0 - estimator_0 - 10_folds.train_4.predict)=97.73%\n",
      "[ 2018-05-15 00:43:47,449][kfold_wrapper.log_eval_metrics] Accuracy(layer_0 - estimator_0 - 10_folds.train_5.predict)=97.58%\n",
      "[ 2018-05-15 00:43:50,796][kfold_wrapper.log_eval_metrics] Accuracy(layer_0 - estimator_0 - 10_folds.train_6.predict)=97.79%\n",
      "[ 2018-05-15 00:43:54,450][kfold_wrapper.log_eval_metrics] Accuracy(layer_0 - estimator_0 - 10_folds.train_7.predict)=97.79%\n",
      "[ 2018-05-15 00:43:57,999][kfold_wrapper.log_eval_metrics] Accuracy(layer_0 - estimator_0 - 10_folds.train_8.predict)=97.67%\n",
      "[ 2018-05-15 00:44:02,022][kfold_wrapper.log_eval_metrics] Accuracy(layer_0 - estimator_0 - 10_folds.train_9.predict)=97.70%\n",
      "[ 2018-05-15 00:44:02,235][kfold_wrapper.log_eval_metrics] Accuracy(layer_0 - estimator_0 - 10_folds.train_cv.predict)=97.73%\n",
      "[ 2018-05-15 00:44:02,236][kfold_wrapper.log_eval_metrics] Accuracy(layer_0 - estimator_0 - 10_folds.test.predict)=97.61%\n",
      "[ 2018-05-15 00:44:02,246][cascade_classifier.calc_accuracy] Accuracy(layer_0 - train.classifier_average)=97.73%\n",
      "[ 2018-05-15 00:44:02,249][cascade_classifier.calc_accuracy] Accuracy(layer_0 - test.classifier_average)=97.61%\n",
      "[ 2018-05-15 00:44:02,250][cascade_classifier.fit_transform] [Result][Reach Max Layer] opt_layer_num=1, accuracy_train=97.73%, accuracy_test=97.61%\n",
      "[ 2018-05-15 00:44:02,254][cascade_classifier.transform] X_groups_test.shape=[(16500, 29)]\n",
      "[ 2018-05-15 00:44:02,256][cascade_classifier.transform] group_dims=[29]\n",
      "[ 2018-05-15 00:44:02,257][cascade_classifier.transform] X_test.shape=(16500, 29)\n",
      "[ 2018-05-15 00:44:02,259][cascade_classifier.transform] [layer=0] look_indexs=[0], X_cur_test.shape=(16500, 29)\n",
      "[ 2018-05-15 00:44:05,134][cascade_classifier.fit_transform] X_groups_train.shape=[(33500, 29)],y_train.shape=(33500,),X_groups_test.shape=[(16500, 29)],y_test.shape=(16500,)\n",
      "[ 2018-05-15 00:44:05,137][cascade_classifier.fit_transform] group_dims=[29]\n",
      "[ 2018-05-15 00:44:05,138][cascade_classifier.fit_transform] group_starts=[0]\n",
      "[ 2018-05-15 00:44:05,140][cascade_classifier.fit_transform] group_ends=[29]\n",
      "[ 2018-05-15 00:44:05,141][cascade_classifier.fit_transform] X_train.shape=(33500, 29),X_test.shape=(16500, 29)\n",
      "[ 2018-05-15 00:44:05,147][cascade_classifier.fit_transform] [layer=0] look_indexs=[0], X_cur_train.shape=(33500, 29), X_cur_test.shape=(16500, 29)\n"
     ]
    },
    {
     "name": "stdout",
     "output_type": "stream",
     "text": [
      "('Test Accuracy of ExtraTrees = 97.606061 %', 1, 'fois')\n",
      "[[15946    24]\n",
      " [  371   159]]\n",
      "\n",
      "\n",
      "             precision    recall  f1-score   support\n",
      "\n",
      "        0.0       0.98      1.00      0.99     15970\n",
      "        1.0       0.87      0.30      0.45       530\n",
      "\n",
      "avg / total       0.97      0.98      0.97     16500\n",
      "\n"
     ]
    },
    {
     "name": "stderr",
     "output_type": "stream",
     "text": [
      "[ 2018-05-15 00:44:08,520][kfold_wrapper.log_eval_metrics] Accuracy(layer_0 - estimator_0 - 10_folds.train_0.predict)=97.58%\n",
      "[ 2018-05-15 00:44:12,061][kfold_wrapper.log_eval_metrics] Accuracy(layer_0 - estimator_0 - 10_folds.train_1.predict)=97.76%\n",
      "[ 2018-05-15 00:44:15,376][kfold_wrapper.log_eval_metrics] Accuracy(layer_0 - estimator_0 - 10_folds.train_2.predict)=97.76%\n",
      "[ 2018-05-15 00:44:19,157][kfold_wrapper.log_eval_metrics] Accuracy(layer_0 - estimator_0 - 10_folds.train_3.predict)=97.82%\n",
      "[ 2018-05-15 00:44:22,406][kfold_wrapper.log_eval_metrics] Accuracy(layer_0 - estimator_0 - 10_folds.train_4.predict)=97.82%\n",
      "[ 2018-05-15 00:44:27,399][kfold_wrapper.log_eval_metrics] Accuracy(layer_0 - estimator_0 - 10_folds.train_5.predict)=97.46%\n",
      "[ 2018-05-15 00:44:31,497][kfold_wrapper.log_eval_metrics] Accuracy(layer_0 - estimator_0 - 10_folds.train_6.predict)=97.67%\n",
      "[ 2018-05-15 00:44:35,539][kfold_wrapper.log_eval_metrics] Accuracy(layer_0 - estimator_0 - 10_folds.train_7.predict)=97.97%\n",
      "[ 2018-05-15 00:44:39,837][kfold_wrapper.log_eval_metrics] Accuracy(layer_0 - estimator_0 - 10_folds.train_8.predict)=97.55%\n",
      "[ 2018-05-15 00:44:43,292][kfold_wrapper.log_eval_metrics] Accuracy(layer_0 - estimator_0 - 10_folds.train_9.predict)=97.55%\n",
      "[ 2018-05-15 00:44:43,517][kfold_wrapper.log_eval_metrics] Accuracy(layer_0 - estimator_0 - 10_folds.train_cv.predict)=97.70%\n",
      "[ 2018-05-15 00:44:43,521][kfold_wrapper.log_eval_metrics] Accuracy(layer_0 - estimator_0 - 10_folds.test.predict)=97.51%\n",
      "[ 2018-05-15 00:44:43,532][cascade_classifier.calc_accuracy] Accuracy(layer_0 - train.classifier_average)=97.70%\n",
      "[ 2018-05-15 00:44:43,534][cascade_classifier.calc_accuracy] Accuracy(layer_0 - test.classifier_average)=97.51%\n",
      "[ 2018-05-15 00:44:43,535][cascade_classifier.fit_transform] [Result][Reach Max Layer] opt_layer_num=1, accuracy_train=97.70%, accuracy_test=97.51%\n",
      "[ 2018-05-15 00:44:43,537][cascade_classifier.transform] X_groups_test.shape=[(16500, 29)]\n",
      "[ 2018-05-15 00:44:43,539][cascade_classifier.transform] group_dims=[29]\n",
      "[ 2018-05-15 00:44:43,543][cascade_classifier.transform] X_test.shape=(16500, 29)\n",
      "[ 2018-05-15 00:44:43,547][cascade_classifier.transform] [layer=0] look_indexs=[0], X_cur_test.shape=(16500, 29)\n",
      "[ 2018-05-15 00:44:45,791][cascade_classifier.fit_transform] X_groups_train.shape=[(33500, 29)],y_train.shape=(33500,),X_groups_test.shape=[(16500, 29)],y_test.shape=(16500,)\n",
      "[ 2018-05-15 00:44:45,794][cascade_classifier.fit_transform] group_dims=[29]\n",
      "[ 2018-05-15 00:44:45,796][cascade_classifier.fit_transform] group_starts=[0]\n",
      "[ 2018-05-15 00:44:45,799][cascade_classifier.fit_transform] group_ends=[29]\n",
      "[ 2018-05-15 00:44:45,802][cascade_classifier.fit_transform] X_train.shape=(33500, 29),X_test.shape=(16500, 29)\n",
      "[ 2018-05-15 00:44:45,811][cascade_classifier.fit_transform] [layer=0] look_indexs=[0], X_cur_train.shape=(33500, 29), X_cur_test.shape=(16500, 29)\n"
     ]
    },
    {
     "name": "stdout",
     "output_type": "stream",
     "text": [
      "('Test Accuracy of ExtraTrees = 97.509091 %', 2, 'fois')\n",
      "[[15946    24]\n",
      " [  387   143]]\n",
      "\n",
      "\n",
      "             precision    recall  f1-score   support\n",
      "\n",
      "        0.0       0.98      1.00      0.99     15970\n",
      "        1.0       0.86      0.27      0.41       530\n",
      "\n",
      "avg / total       0.97      0.98      0.97     16500\n",
      "\n"
     ]
    },
    {
     "name": "stderr",
     "output_type": "stream",
     "text": [
      "[ 2018-05-15 00:44:48,868][kfold_wrapper.log_eval_metrics] Accuracy(layer_0 - estimator_0 - 10_folds.train_0.predict)=97.73%\n",
      "[ 2018-05-15 00:44:53,150][kfold_wrapper.log_eval_metrics] Accuracy(layer_0 - estimator_0 - 10_folds.train_1.predict)=97.67%\n",
      "[ 2018-05-15 00:44:56,576][kfold_wrapper.log_eval_metrics] Accuracy(layer_0 - estimator_0 - 10_folds.train_2.predict)=97.76%\n",
      "[ 2018-05-15 00:45:00,112][kfold_wrapper.log_eval_metrics] Accuracy(layer_0 - estimator_0 - 10_folds.train_3.predict)=97.79%\n",
      "[ 2018-05-15 00:45:03,193][kfold_wrapper.log_eval_metrics] Accuracy(layer_0 - estimator_0 - 10_folds.train_4.predict)=97.73%\n",
      "[ 2018-05-15 00:45:06,531][kfold_wrapper.log_eval_metrics] Accuracy(layer_0 - estimator_0 - 10_folds.train_5.predict)=97.49%\n",
      "[ 2018-05-15 00:45:09,885][kfold_wrapper.log_eval_metrics] Accuracy(layer_0 - estimator_0 - 10_folds.train_6.predict)=97.70%\n",
      "[ 2018-05-15 00:45:12,993][kfold_wrapper.log_eval_metrics] Accuracy(layer_0 - estimator_0 - 10_folds.train_7.predict)=97.73%\n",
      "[ 2018-05-15 00:45:17,167][kfold_wrapper.log_eval_metrics] Accuracy(layer_0 - estimator_0 - 10_folds.train_8.predict)=97.49%\n",
      "[ 2018-05-15 00:45:21,149][kfold_wrapper.log_eval_metrics] Accuracy(layer_0 - estimator_0 - 10_folds.train_9.predict)=97.79%\n",
      "[ 2018-05-15 00:45:21,507][kfold_wrapper.log_eval_metrics] Accuracy(layer_0 - estimator_0 - 10_folds.train_cv.predict)=97.69%\n",
      "[ 2018-05-15 00:45:21,509][kfold_wrapper.log_eval_metrics] Accuracy(layer_0 - estimator_0 - 10_folds.test.predict)=97.58%\n",
      "[ 2018-05-15 00:45:21,516][cascade_classifier.calc_accuracy] Accuracy(layer_0 - train.classifier_average)=97.69%\n",
      "[ 2018-05-15 00:45:21,518][cascade_classifier.calc_accuracy] Accuracy(layer_0 - test.classifier_average)=97.58%\n",
      "[ 2018-05-15 00:45:21,530][cascade_classifier.fit_transform] [Result][Reach Max Layer] opt_layer_num=1, accuracy_train=97.69%, accuracy_test=97.58%\n",
      "[ 2018-05-15 00:45:21,533][cascade_classifier.transform] X_groups_test.shape=[(16500, 29)]\n",
      "[ 2018-05-15 00:45:21,536][cascade_classifier.transform] group_dims=[29]\n",
      "[ 2018-05-15 00:45:21,538][cascade_classifier.transform] X_test.shape=(16500, 29)\n",
      "[ 2018-05-15 00:45:21,541][cascade_classifier.transform] [layer=0] look_indexs=[0], X_cur_test.shape=(16500, 29)\n",
      "[ 2018-05-15 00:45:24,171][cascade_classifier.fit_transform] X_groups_train.shape=[(33500, 29)],y_train.shape=(33500,),X_groups_test.shape=[(16500, 29)],y_test.shape=(16500,)\n",
      "[ 2018-05-15 00:45:24,174][cascade_classifier.fit_transform] group_dims=[29]\n",
      "[ 2018-05-15 00:45:24,175][cascade_classifier.fit_transform] group_starts=[0]\n",
      "[ 2018-05-15 00:45:24,177][cascade_classifier.fit_transform] group_ends=[29]\n",
      "[ 2018-05-15 00:45:24,178][cascade_classifier.fit_transform] X_train.shape=(33500, 29),X_test.shape=(16500, 29)\n",
      "[ 2018-05-15 00:45:24,184][cascade_classifier.fit_transform] [layer=0] look_indexs=[0], X_cur_train.shape=(33500, 29), X_cur_test.shape=(16500, 29)\n"
     ]
    },
    {
     "name": "stdout",
     "output_type": "stream",
     "text": [
      "('Test Accuracy of ExtraTrees = 97.581818 %', 3, 'fois')\n",
      "[[15947    23]\n",
      " [  376   154]]\n",
      "\n",
      "\n",
      "             precision    recall  f1-score   support\n",
      "\n",
      "        0.0       0.98      1.00      0.99     15970\n",
      "        1.0       0.87      0.29      0.44       530\n",
      "\n",
      "avg / total       0.97      0.98      0.97     16500\n",
      "\n"
     ]
    },
    {
     "name": "stderr",
     "output_type": "stream",
     "text": [
      "[ 2018-05-15 00:45:27,757][kfold_wrapper.log_eval_metrics] Accuracy(layer_0 - estimator_0 - 10_folds.train_0.predict)=97.67%\n",
      "[ 2018-05-15 00:45:31,519][kfold_wrapper.log_eval_metrics] Accuracy(layer_0 - estimator_0 - 10_folds.train_1.predict)=97.67%\n",
      "[ 2018-05-15 00:45:34,987][kfold_wrapper.log_eval_metrics] Accuracy(layer_0 - estimator_0 - 10_folds.train_2.predict)=97.76%\n",
      "[ 2018-05-15 00:45:38,449][kfold_wrapper.log_eval_metrics] Accuracy(layer_0 - estimator_0 - 10_folds.train_3.predict)=97.82%\n",
      "[ 2018-05-15 00:45:41,983][kfold_wrapper.log_eval_metrics] Accuracy(layer_0 - estimator_0 - 10_folds.train_4.predict)=97.58%\n",
      "[ 2018-05-15 00:45:45,078][kfold_wrapper.log_eval_metrics] Accuracy(layer_0 - estimator_0 - 10_folds.train_5.predict)=97.55%\n",
      "[ 2018-05-15 00:45:48,942][kfold_wrapper.log_eval_metrics] Accuracy(layer_0 - estimator_0 - 10_folds.train_6.predict)=97.70%\n",
      "[ 2018-05-15 00:45:52,428][kfold_wrapper.log_eval_metrics] Accuracy(layer_0 - estimator_0 - 10_folds.train_7.predict)=97.79%\n",
      "[ 2018-05-15 00:45:55,762][kfold_wrapper.log_eval_metrics] Accuracy(layer_0 - estimator_0 - 10_folds.train_8.predict)=97.55%\n",
      "[ 2018-05-15 00:45:59,115][kfold_wrapper.log_eval_metrics] Accuracy(layer_0 - estimator_0 - 10_folds.train_9.predict)=97.61%\n",
      "[ 2018-05-15 00:45:59,333][kfold_wrapper.log_eval_metrics] Accuracy(layer_0 - estimator_0 - 10_folds.train_cv.predict)=97.67%\n",
      "[ 2018-05-15 00:45:59,336][kfold_wrapper.log_eval_metrics] Accuracy(layer_0 - estimator_0 - 10_folds.test.predict)=97.48%\n",
      "[ 2018-05-15 00:45:59,344][cascade_classifier.calc_accuracy] Accuracy(layer_0 - train.classifier_average)=97.67%\n",
      "[ 2018-05-15 00:45:59,346][cascade_classifier.calc_accuracy] Accuracy(layer_0 - test.classifier_average)=97.48%\n",
      "[ 2018-05-15 00:45:59,347][cascade_classifier.fit_transform] [Result][Reach Max Layer] opt_layer_num=1, accuracy_train=97.67%, accuracy_test=97.48%\n",
      "[ 2018-05-15 00:45:59,348][cascade_classifier.transform] X_groups_test.shape=[(16500, 29)]\n",
      "[ 2018-05-15 00:45:59,350][cascade_classifier.transform] group_dims=[29]\n",
      "[ 2018-05-15 00:45:59,351][cascade_classifier.transform] X_test.shape=(16500, 29)\n",
      "[ 2018-05-15 00:45:59,354][cascade_classifier.transform] [layer=0] look_indexs=[0], X_cur_test.shape=(16500, 29)\n",
      "[ 2018-05-15 00:46:01,623][cascade_classifier.fit_transform] X_groups_train.shape=[(33500, 29)],y_train.shape=(33500,),X_groups_test.shape=[(16500, 29)],y_test.shape=(16500,)\n",
      "[ 2018-05-15 00:46:01,627][cascade_classifier.fit_transform] group_dims=[29]\n",
      "[ 2018-05-15 00:46:01,628][cascade_classifier.fit_transform] group_starts=[0]\n",
      "[ 2018-05-15 00:46:01,630][cascade_classifier.fit_transform] group_ends=[29]\n",
      "[ 2018-05-15 00:46:01,633][cascade_classifier.fit_transform] X_train.shape=(33500, 29),X_test.shape=(16500, 29)\n",
      "[ 2018-05-15 00:46:01,638][cascade_classifier.fit_transform] [layer=0] look_indexs=[0], X_cur_train.shape=(33500, 29), X_cur_test.shape=(16500, 29)\n"
     ]
    },
    {
     "name": "stdout",
     "output_type": "stream",
     "text": [
      "('Test Accuracy of ExtraTrees = 97.478788 %', 4, 'fois')\n",
      "[[15941    29]\n",
      " [  387   143]]\n",
      "\n",
      "\n",
      "             precision    recall  f1-score   support\n",
      "\n",
      "        0.0       0.98      1.00      0.99     15970\n",
      "        1.0       0.83      0.27      0.41       530\n",
      "\n",
      "avg / total       0.97      0.97      0.97     16500\n",
      "\n"
     ]
    },
    {
     "name": "stderr",
     "output_type": "stream",
     "text": [
      "[ 2018-05-15 00:46:04,762][kfold_wrapper.log_eval_metrics] Accuracy(layer_0 - estimator_0 - 10_folds.train_0.predict)=97.40%\n",
      "[ 2018-05-15 00:46:07,894][kfold_wrapper.log_eval_metrics] Accuracy(layer_0 - estimator_0 - 10_folds.train_1.predict)=97.58%\n",
      "[ 2018-05-15 00:46:11,006][kfold_wrapper.log_eval_metrics] Accuracy(layer_0 - estimator_0 - 10_folds.train_2.predict)=97.70%\n",
      "[ 2018-05-15 00:46:14,130][kfold_wrapper.log_eval_metrics] Accuracy(layer_0 - estimator_0 - 10_folds.train_3.predict)=97.61%\n",
      "[ 2018-05-15 00:46:17,257][kfold_wrapper.log_eval_metrics] Accuracy(layer_0 - estimator_0 - 10_folds.train_4.predict)=97.64%\n",
      "[ 2018-05-15 00:46:20,498][kfold_wrapper.log_eval_metrics] Accuracy(layer_0 - estimator_0 - 10_folds.train_5.predict)=97.67%\n",
      "[ 2018-05-15 00:46:23,614][kfold_wrapper.log_eval_metrics] Accuracy(layer_0 - estimator_0 - 10_folds.train_6.predict)=97.58%\n",
      "[ 2018-05-15 00:46:26,710][kfold_wrapper.log_eval_metrics] Accuracy(layer_0 - estimator_0 - 10_folds.train_7.predict)=97.67%\n",
      "[ 2018-05-15 00:46:29,984][kfold_wrapper.log_eval_metrics] Accuracy(layer_0 - estimator_0 - 10_folds.train_8.predict)=97.40%\n",
      "[ 2018-05-15 00:46:33,126][kfold_wrapper.log_eval_metrics] Accuracy(layer_0 - estimator_0 - 10_folds.train_9.predict)=97.61%\n",
      "[ 2018-05-15 00:46:33,353][kfold_wrapper.log_eval_metrics] Accuracy(layer_0 - estimator_0 - 10_folds.train_cv.predict)=97.59%\n",
      "[ 2018-05-15 00:46:33,357][kfold_wrapper.log_eval_metrics] Accuracy(layer_0 - estimator_0 - 10_folds.test.predict)=97.44%\n",
      "[ 2018-05-15 00:46:33,364][cascade_classifier.calc_accuracy] Accuracy(layer_0 - train.classifier_average)=97.59%\n",
      "[ 2018-05-15 00:46:33,368][cascade_classifier.calc_accuracy] Accuracy(layer_0 - test.classifier_average)=97.44%\n",
      "[ 2018-05-15 00:46:33,369][cascade_classifier.fit_transform] [Result][Reach Max Layer] opt_layer_num=1, accuracy_train=97.59%, accuracy_test=97.44%\n",
      "[ 2018-05-15 00:46:33,370][cascade_classifier.transform] X_groups_test.shape=[(16500, 29)]\n",
      "[ 2018-05-15 00:46:33,372][cascade_classifier.transform] group_dims=[29]\n",
      "[ 2018-05-15 00:46:33,373][cascade_classifier.transform] X_test.shape=(16500, 29)\n",
      "[ 2018-05-15 00:46:33,375][cascade_classifier.transform] [layer=0] look_indexs=[0], X_cur_test.shape=(16500, 29)\n",
      "[ 2018-05-15 00:46:35,605][cascade_classifier.fit_transform] X_groups_train.shape=[(33500, 29)],y_train.shape=(33500,),X_groups_test.shape=[(16500, 29)],y_test.shape=(16500,)\n",
      "[ 2018-05-15 00:46:35,608][cascade_classifier.fit_transform] group_dims=[29]\n",
      "[ 2018-05-15 00:46:35,609][cascade_classifier.fit_transform] group_starts=[0]\n",
      "[ 2018-05-15 00:46:35,611][cascade_classifier.fit_transform] group_ends=[29]\n",
      "[ 2018-05-15 00:46:35,612][cascade_classifier.fit_transform] X_train.shape=(33500, 29),X_test.shape=(16500, 29)\n",
      "[ 2018-05-15 00:46:35,617][cascade_classifier.fit_transform] [layer=0] look_indexs=[0], X_cur_train.shape=(33500, 29), X_cur_test.shape=(16500, 29)\n"
     ]
    },
    {
     "name": "stdout",
     "output_type": "stream",
     "text": [
      "('Test Accuracy of ExtraTrees = 97.436364 %', 5, 'fois')\n",
      "[[15946    24]\n",
      " [  399   131]]\n",
      "\n",
      "\n",
      "             precision    recall  f1-score   support\n",
      "\n",
      "        0.0       0.98      1.00      0.99     15970\n",
      "        1.0       0.85      0.25      0.38       530\n",
      "\n",
      "avg / total       0.97      0.97      0.97     16500\n",
      "\n"
     ]
    },
    {
     "name": "stderr",
     "output_type": "stream",
     "text": [
      "[ 2018-05-15 00:46:38,713][kfold_wrapper.log_eval_metrics] Accuracy(layer_0 - estimator_0 - 10_folds.train_0.predict)=97.49%\n",
      "[ 2018-05-15 00:46:42,077][kfold_wrapper.log_eval_metrics] Accuracy(layer_0 - estimator_0 - 10_folds.train_1.predict)=97.52%\n",
      "[ 2018-05-15 00:46:45,296][kfold_wrapper.log_eval_metrics] Accuracy(layer_0 - estimator_0 - 10_folds.train_2.predict)=97.55%\n",
      "[ 2018-05-15 00:46:48,648][kfold_wrapper.log_eval_metrics] Accuracy(layer_0 - estimator_0 - 10_folds.train_3.predict)=97.61%\n",
      "[ 2018-05-15 00:46:51,779][kfold_wrapper.log_eval_metrics] Accuracy(layer_0 - estimator_0 - 10_folds.train_4.predict)=97.52%\n",
      "[ 2018-05-15 00:46:55,023][kfold_wrapper.log_eval_metrics] Accuracy(layer_0 - estimator_0 - 10_folds.train_5.predict)=97.76%\n",
      "[ 2018-05-15 00:46:58,727][kfold_wrapper.log_eval_metrics] Accuracy(layer_0 - estimator_0 - 10_folds.train_6.predict)=97.55%\n",
      "[ 2018-05-15 00:47:02,063][kfold_wrapper.log_eval_metrics] Accuracy(layer_0 - estimator_0 - 10_folds.train_7.predict)=97.73%\n",
      "[ 2018-05-15 00:47:05,302][kfold_wrapper.log_eval_metrics] Accuracy(layer_0 - estimator_0 - 10_folds.train_8.predict)=97.43%\n",
      "[ 2018-05-15 00:47:08,521][kfold_wrapper.log_eval_metrics] Accuracy(layer_0 - estimator_0 - 10_folds.train_9.predict)=97.64%\n",
      "[ 2018-05-15 00:47:08,762][kfold_wrapper.log_eval_metrics] Accuracy(layer_0 - estimator_0 - 10_folds.train_cv.predict)=97.58%\n",
      "[ 2018-05-15 00:47:08,765][kfold_wrapper.log_eval_metrics] Accuracy(layer_0 - estimator_0 - 10_folds.test.predict)=97.50%\n",
      "[ 2018-05-15 00:47:08,776][cascade_classifier.calc_accuracy] Accuracy(layer_0 - train.classifier_average)=97.58%\n",
      "[ 2018-05-15 00:47:08,778][cascade_classifier.calc_accuracy] Accuracy(layer_0 - test.classifier_average)=97.50%\n",
      "[ 2018-05-15 00:47:08,780][cascade_classifier.fit_transform] [Result][Reach Max Layer] opt_layer_num=1, accuracy_train=97.58%, accuracy_test=97.50%\n",
      "[ 2018-05-15 00:47:08,782][cascade_classifier.transform] X_groups_test.shape=[(16500, 29)]\n",
      "[ 2018-05-15 00:47:08,786][cascade_classifier.transform] group_dims=[29]\n",
      "[ 2018-05-15 00:47:08,788][cascade_classifier.transform] X_test.shape=(16500, 29)\n",
      "[ 2018-05-15 00:47:08,790][cascade_classifier.transform] [layer=0] look_indexs=[0], X_cur_test.shape=(16500, 29)\n",
      "[ 2018-05-15 00:47:11,118][cascade_classifier.fit_transform] X_groups_train.shape=[(33500, 29)],y_train.shape=(33500,),X_groups_test.shape=[(16500, 29)],y_test.shape=(16500,)\n",
      "[ 2018-05-15 00:47:11,121][cascade_classifier.fit_transform] group_dims=[29]\n",
      "[ 2018-05-15 00:47:11,123][cascade_classifier.fit_transform] group_starts=[0]\n",
      "[ 2018-05-15 00:47:11,126][cascade_classifier.fit_transform] group_ends=[29]\n",
      "[ 2018-05-15 00:47:11,127][cascade_classifier.fit_transform] X_train.shape=(33500, 29),X_test.shape=(16500, 29)\n",
      "[ 2018-05-15 00:47:11,132][cascade_classifier.fit_transform] [layer=0] look_indexs=[0], X_cur_train.shape=(33500, 29), X_cur_test.shape=(16500, 29)\n"
     ]
    },
    {
     "name": "stdout",
     "output_type": "stream",
     "text": [
      "('Test Accuracy of ExtraTrees = 97.490909 %', 6, 'fois')\n",
      "[[15948    22]\n",
      " [  392   138]]\n",
      "\n",
      "\n",
      "             precision    recall  f1-score   support\n",
      "\n",
      "        0.0       0.98      1.00      0.99     15970\n",
      "        1.0       0.86      0.26      0.40       530\n",
      "\n",
      "avg / total       0.97      0.97      0.97     16500\n",
      "\n"
     ]
    },
    {
     "name": "stderr",
     "output_type": "stream",
     "text": [
      "[ 2018-05-15 00:47:14,188][kfold_wrapper.log_eval_metrics] Accuracy(layer_0 - estimator_0 - 10_folds.train_0.predict)=97.67%\n",
      "[ 2018-05-15 00:47:17,436][kfold_wrapper.log_eval_metrics] Accuracy(layer_0 - estimator_0 - 10_folds.train_1.predict)=97.67%\n",
      "[ 2018-05-15 00:47:20,567][kfold_wrapper.log_eval_metrics] Accuracy(layer_0 - estimator_0 - 10_folds.train_2.predict)=97.40%\n",
      "[ 2018-05-15 00:47:24,020][kfold_wrapper.log_eval_metrics] Accuracy(layer_0 - estimator_0 - 10_folds.train_3.predict)=97.46%\n",
      "[ 2018-05-15 00:47:27,661][kfold_wrapper.log_eval_metrics] Accuracy(layer_0 - estimator_0 - 10_folds.train_4.predict)=97.85%\n",
      "[ 2018-05-15 00:47:31,037][kfold_wrapper.log_eval_metrics] Accuracy(layer_0 - estimator_0 - 10_folds.train_5.predict)=97.61%\n",
      "[ 2018-05-15 00:47:34,277][kfold_wrapper.log_eval_metrics] Accuracy(layer_0 - estimator_0 - 10_folds.train_6.predict)=97.52%\n",
      "[ 2018-05-15 00:47:37,426][kfold_wrapper.log_eval_metrics] Accuracy(layer_0 - estimator_0 - 10_folds.train_7.predict)=97.76%\n",
      "[ 2018-05-15 00:47:40,529][kfold_wrapper.log_eval_metrics] Accuracy(layer_0 - estimator_0 - 10_folds.train_8.predict)=97.49%\n",
      "[ 2018-05-15 00:47:43,639][kfold_wrapper.log_eval_metrics] Accuracy(layer_0 - estimator_0 - 10_folds.train_9.predict)=97.67%\n",
      "[ 2018-05-15 00:47:43,869][kfold_wrapper.log_eval_metrics] Accuracy(layer_0 - estimator_0 - 10_folds.train_cv.predict)=97.61%\n",
      "[ 2018-05-15 00:47:43,872][kfold_wrapper.log_eval_metrics] Accuracy(layer_0 - estimator_0 - 10_folds.test.predict)=97.47%\n",
      "[ 2018-05-15 00:47:43,882][cascade_classifier.calc_accuracy] Accuracy(layer_0 - train.classifier_average)=97.61%\n",
      "[ 2018-05-15 00:47:43,885][cascade_classifier.calc_accuracy] Accuracy(layer_0 - test.classifier_average)=97.47%\n",
      "[ 2018-05-15 00:47:43,886][cascade_classifier.fit_transform] [Result][Reach Max Layer] opt_layer_num=1, accuracy_train=97.61%, accuracy_test=97.47%\n",
      "[ 2018-05-15 00:47:43,887][cascade_classifier.transform] X_groups_test.shape=[(16500, 29)]\n",
      "[ 2018-05-15 00:47:43,889][cascade_classifier.transform] group_dims=[29]\n",
      "[ 2018-05-15 00:47:43,890][cascade_classifier.transform] X_test.shape=(16500, 29)\n",
      "[ 2018-05-15 00:47:43,892][cascade_classifier.transform] [layer=0] look_indexs=[0], X_cur_test.shape=(16500, 29)\n",
      "[ 2018-05-15 00:47:46,146][cascade_classifier.fit_transform] X_groups_train.shape=[(33500, 29)],y_train.shape=(33500,),X_groups_test.shape=[(16500, 29)],y_test.shape=(16500,)\n",
      "[ 2018-05-15 00:47:46,149][cascade_classifier.fit_transform] group_dims=[29]\n",
      "[ 2018-05-15 00:47:46,150][cascade_classifier.fit_transform] group_starts=[0]\n",
      "[ 2018-05-15 00:47:46,153][cascade_classifier.fit_transform] group_ends=[29]\n",
      "[ 2018-05-15 00:47:46,155][cascade_classifier.fit_transform] X_train.shape=(33500, 29),X_test.shape=(16500, 29)\n",
      "[ 2018-05-15 00:47:46,160][cascade_classifier.fit_transform] [layer=0] look_indexs=[0], X_cur_train.shape=(33500, 29), X_cur_test.shape=(16500, 29)\n"
     ]
    },
    {
     "name": "stdout",
     "output_type": "stream",
     "text": [
      "('Test Accuracy of ExtraTrees = 97.472727 %', 7, 'fois')\n",
      "[[15948    22]\n",
      " [  395   135]]\n",
      "\n",
      "\n",
      "             precision    recall  f1-score   support\n",
      "\n",
      "        0.0       0.98      1.00      0.99     15970\n",
      "        1.0       0.86      0.25      0.39       530\n",
      "\n",
      "avg / total       0.97      0.97      0.97     16500\n",
      "\n"
     ]
    },
    {
     "name": "stderr",
     "output_type": "stream",
     "text": [
      "[ 2018-05-15 00:47:49,212][kfold_wrapper.log_eval_metrics] Accuracy(layer_0 - estimator_0 - 10_folds.train_0.predict)=97.49%\n",
      "[ 2018-05-15 00:47:52,557][kfold_wrapper.log_eval_metrics] Accuracy(layer_0 - estimator_0 - 10_folds.train_1.predict)=97.55%\n",
      "[ 2018-05-15 00:47:55,779][kfold_wrapper.log_eval_metrics] Accuracy(layer_0 - estimator_0 - 10_folds.train_2.predict)=97.43%\n",
      "[ 2018-05-15 00:47:58,927][kfold_wrapper.log_eval_metrics] Accuracy(layer_0 - estimator_0 - 10_folds.train_3.predict)=97.70%\n",
      "[ 2018-05-15 00:48:02,739][kfold_wrapper.log_eval_metrics] Accuracy(layer_0 - estimator_0 - 10_folds.train_4.predict)=97.79%\n",
      "[ 2018-05-15 00:48:06,321][kfold_wrapper.log_eval_metrics] Accuracy(layer_0 - estimator_0 - 10_folds.train_5.predict)=97.67%\n",
      "[ 2018-05-15 00:48:09,594][kfold_wrapper.log_eval_metrics] Accuracy(layer_0 - estimator_0 - 10_folds.train_6.predict)=97.52%\n",
      "[ 2018-05-15 00:48:12,731][kfold_wrapper.log_eval_metrics] Accuracy(layer_0 - estimator_0 - 10_folds.train_7.predict)=97.64%\n",
      "[ 2018-05-15 00:48:15,974][kfold_wrapper.log_eval_metrics] Accuracy(layer_0 - estimator_0 - 10_folds.train_8.predict)=97.28%\n",
      "[ 2018-05-15 00:48:19,197][kfold_wrapper.log_eval_metrics] Accuracy(layer_0 - estimator_0 - 10_folds.train_9.predict)=97.52%\n",
      "[ 2018-05-15 00:48:19,412][kfold_wrapper.log_eval_metrics] Accuracy(layer_0 - estimator_0 - 10_folds.train_cv.predict)=97.56%\n",
      "[ 2018-05-15 00:48:19,413][kfold_wrapper.log_eval_metrics] Accuracy(layer_0 - estimator_0 - 10_folds.test.predict)=97.50%\n",
      "[ 2018-05-15 00:48:19,421][cascade_classifier.calc_accuracy] Accuracy(layer_0 - train.classifier_average)=97.56%\n",
      "[ 2018-05-15 00:48:19,423][cascade_classifier.calc_accuracy] Accuracy(layer_0 - test.classifier_average)=97.50%\n",
      "[ 2018-05-15 00:48:19,425][cascade_classifier.fit_transform] [Result][Reach Max Layer] opt_layer_num=1, accuracy_train=97.56%, accuracy_test=97.50%\n",
      "[ 2018-05-15 00:48:19,428][cascade_classifier.transform] X_groups_test.shape=[(16500, 29)]\n",
      "[ 2018-05-15 00:48:19,431][cascade_classifier.transform] group_dims=[29]\n",
      "[ 2018-05-15 00:48:19,433][cascade_classifier.transform] X_test.shape=(16500, 29)\n",
      "[ 2018-05-15 00:48:19,436][cascade_classifier.transform] [layer=0] look_indexs=[0], X_cur_test.shape=(16500, 29)\n",
      "[ 2018-05-15 00:48:21,684][cascade_classifier.fit_transform] X_groups_train.shape=[(33500, 29)],y_train.shape=(33500,),X_groups_test.shape=[(16500, 29)],y_test.shape=(16500,)\n",
      "[ 2018-05-15 00:48:21,687][cascade_classifier.fit_transform] group_dims=[29]\n",
      "[ 2018-05-15 00:48:21,689][cascade_classifier.fit_transform] group_starts=[0]\n",
      "[ 2018-05-15 00:48:21,691][cascade_classifier.fit_transform] group_ends=[29]\n",
      "[ 2018-05-15 00:48:21,693][cascade_classifier.fit_transform] X_train.shape=(33500, 29),X_test.shape=(16500, 29)\n",
      "[ 2018-05-15 00:48:21,697][cascade_classifier.fit_transform] [layer=0] look_indexs=[0], X_cur_train.shape=(33500, 29), X_cur_test.shape=(16500, 29)\n"
     ]
    },
    {
     "name": "stdout",
     "output_type": "stream",
     "text": [
      "('Test Accuracy of ExtraTrees = 97.496970 %', 8, 'fois')\n",
      "[[15950    20]\n",
      " [  393   137]]\n",
      "\n",
      "\n",
      "             precision    recall  f1-score   support\n",
      "\n",
      "        0.0       0.98      1.00      0.99     15970\n",
      "        1.0       0.87      0.26      0.40       530\n",
      "\n",
      "avg / total       0.97      0.97      0.97     16500\n",
      "\n"
     ]
    },
    {
     "name": "stderr",
     "output_type": "stream",
     "text": [
      "[ 2018-05-15 00:48:25,224][kfold_wrapper.log_eval_metrics] Accuracy(layer_0 - estimator_0 - 10_folds.train_0.predict)=97.49%\n",
      "[ 2018-05-15 00:48:28,588][kfold_wrapper.log_eval_metrics] Accuracy(layer_0 - estimator_0 - 10_folds.train_1.predict)=97.43%\n",
      "[ 2018-05-15 00:48:31,818][kfold_wrapper.log_eval_metrics] Accuracy(layer_0 - estimator_0 - 10_folds.train_2.predict)=97.52%\n",
      "[ 2018-05-15 00:48:35,203][kfold_wrapper.log_eval_metrics] Accuracy(layer_0 - estimator_0 - 10_folds.train_3.predict)=97.52%\n",
      "[ 2018-05-15 00:48:38,333][kfold_wrapper.log_eval_metrics] Accuracy(layer_0 - estimator_0 - 10_folds.train_4.predict)=97.67%\n",
      "[ 2018-05-15 00:48:41,554][kfold_wrapper.log_eval_metrics] Accuracy(layer_0 - estimator_0 - 10_folds.train_5.predict)=97.61%\n",
      "[ 2018-05-15 00:48:44,665][kfold_wrapper.log_eval_metrics] Accuracy(layer_0 - estimator_0 - 10_folds.train_6.predict)=97.31%\n",
      "[ 2018-05-15 00:48:48,310][kfold_wrapper.log_eval_metrics] Accuracy(layer_0 - estimator_0 - 10_folds.train_7.predict)=97.73%\n",
      "[ 2018-05-15 00:48:51,990][kfold_wrapper.log_eval_metrics] Accuracy(layer_0 - estimator_0 - 10_folds.train_8.predict)=97.28%\n",
      "[ 2018-05-15 00:48:55,890][kfold_wrapper.log_eval_metrics] Accuracy(layer_0 - estimator_0 - 10_folds.train_9.predict)=97.52%\n",
      "[ 2018-05-15 00:48:56,115][kfold_wrapper.log_eval_metrics] Accuracy(layer_0 - estimator_0 - 10_folds.train_cv.predict)=97.51%\n",
      "[ 2018-05-15 00:48:56,119][kfold_wrapper.log_eval_metrics] Accuracy(layer_0 - estimator_0 - 10_folds.test.predict)=97.43%\n",
      "[ 2018-05-15 00:48:56,128][cascade_classifier.calc_accuracy] Accuracy(layer_0 - train.classifier_average)=97.51%\n",
      "[ 2018-05-15 00:48:56,130][cascade_classifier.calc_accuracy] Accuracy(layer_0 - test.classifier_average)=97.43%\n",
      "[ 2018-05-15 00:48:56,131][cascade_classifier.fit_transform] [Result][Reach Max Layer] opt_layer_num=1, accuracy_train=97.51%, accuracy_test=97.43%\n",
      "[ 2018-05-15 00:48:56,132][cascade_classifier.transform] X_groups_test.shape=[(16500, 29)]\n",
      "[ 2018-05-15 00:48:56,134][cascade_classifier.transform] group_dims=[29]\n",
      "[ 2018-05-15 00:48:56,135][cascade_classifier.transform] X_test.shape=(16500, 29)\n",
      "[ 2018-05-15 00:48:56,137][cascade_classifier.transform] [layer=0] look_indexs=[0], X_cur_test.shape=(16500, 29)\n",
      "[ 2018-05-15 00:48:58,422][cascade_classifier.fit_transform] X_groups_train.shape=[(33500, 29)],y_train.shape=(33500,),X_groups_test.shape=[(16500, 29)],y_test.shape=(16500,)\n",
      "[ 2018-05-15 00:48:58,425][cascade_classifier.fit_transform] group_dims=[29]\n",
      "[ 2018-05-15 00:48:58,426][cascade_classifier.fit_transform] group_starts=[0]\n",
      "[ 2018-05-15 00:48:58,430][cascade_classifier.fit_transform] group_ends=[29]\n",
      "[ 2018-05-15 00:48:58,433][cascade_classifier.fit_transform] X_train.shape=(33500, 29),X_test.shape=(16500, 29)\n",
      "[ 2018-05-15 00:48:58,441][cascade_classifier.fit_transform] [layer=0] look_indexs=[0], X_cur_train.shape=(33500, 29), X_cur_test.shape=(16500, 29)\n"
     ]
    },
    {
     "name": "stdout",
     "output_type": "stream",
     "text": [
      "('Test Accuracy of ExtraTrees = 97.430303 %', 9, 'fois')\n",
      "[[15943    27]\n",
      " [  397   133]]\n",
      "\n",
      "\n",
      "             precision    recall  f1-score   support\n",
      "\n",
      "        0.0       0.98      1.00      0.99     15970\n",
      "        1.0       0.83      0.25      0.39       530\n",
      "\n",
      "avg / total       0.97      0.97      0.97     16500\n",
      "\n"
     ]
    },
    {
     "name": "stderr",
     "output_type": "stream",
     "text": [
      "[ 2018-05-15 00:49:01,498][kfold_wrapper.log_eval_metrics] Accuracy(layer_0 - estimator_0 - 10_folds.train_0.predict)=97.31%\n",
      "[ 2018-05-15 00:49:04,730][kfold_wrapper.log_eval_metrics] Accuracy(layer_0 - estimator_0 - 10_folds.train_1.predict)=97.40%\n",
      "[ 2018-05-15 00:49:08,375][kfold_wrapper.log_eval_metrics] Accuracy(layer_0 - estimator_0 - 10_folds.train_2.predict)=97.49%\n",
      "[ 2018-05-15 00:49:11,958][kfold_wrapper.log_eval_metrics] Accuracy(layer_0 - estimator_0 - 10_folds.train_3.predict)=97.64%\n",
      "[ 2018-05-15 00:49:15,545][kfold_wrapper.log_eval_metrics] Accuracy(layer_0 - estimator_0 - 10_folds.train_4.predict)=97.70%\n",
      "[ 2018-05-15 00:49:18,772][kfold_wrapper.log_eval_metrics] Accuracy(layer_0 - estimator_0 - 10_folds.train_5.predict)=97.52%\n",
      "[ 2018-05-15 00:49:21,971][kfold_wrapper.log_eval_metrics] Accuracy(layer_0 - estimator_0 - 10_folds.train_6.predict)=97.40%\n",
      "[ 2018-05-15 00:49:25,106][kfold_wrapper.log_eval_metrics] Accuracy(layer_0 - estimator_0 - 10_folds.train_7.predict)=97.76%\n",
      "[ 2018-05-15 00:49:28,340][kfold_wrapper.log_eval_metrics] Accuracy(layer_0 - estimator_0 - 10_folds.train_8.predict)=97.31%\n",
      "[ 2018-05-15 00:49:31,472][kfold_wrapper.log_eval_metrics] Accuracy(layer_0 - estimator_0 - 10_folds.train_9.predict)=97.64%\n",
      "[ 2018-05-15 00:49:31,704][kfold_wrapper.log_eval_metrics] Accuracy(layer_0 - estimator_0 - 10_folds.train_cv.predict)=97.52%\n",
      "[ 2018-05-15 00:49:31,707][kfold_wrapper.log_eval_metrics] Accuracy(layer_0 - estimator_0 - 10_folds.test.predict)=97.34%\n",
      "[ 2018-05-15 00:49:31,721][cascade_classifier.calc_accuracy] Accuracy(layer_0 - train.classifier_average)=97.52%\n",
      "[ 2018-05-15 00:49:31,722][cascade_classifier.calc_accuracy] Accuracy(layer_0 - test.classifier_average)=97.34%\n",
      "[ 2018-05-15 00:49:31,724][cascade_classifier.fit_transform] [Result][Reach Max Layer] opt_layer_num=1, accuracy_train=97.52%, accuracy_test=97.34%\n",
      "[ 2018-05-15 00:49:31,726][cascade_classifier.transform] X_groups_test.shape=[(16500, 29)]\n",
      "[ 2018-05-15 00:49:31,730][cascade_classifier.transform] group_dims=[29]\n",
      "[ 2018-05-15 00:49:31,731][cascade_classifier.transform] X_test.shape=(16500, 29)\n",
      "[ 2018-05-15 00:49:31,734][cascade_classifier.transform] [layer=0] look_indexs=[0], X_cur_test.shape=(16500, 29)\n",
      "[ 2018-05-15 00:49:34,002][cascade_classifier.fit_transform] X_groups_train.shape=[(33500, 29)],y_train.shape=(33500,),X_groups_test.shape=[(16500, 29)],y_test.shape=(16500,)\n",
      "[ 2018-05-15 00:49:34,005][cascade_classifier.fit_transform] group_dims=[29]\n",
      "[ 2018-05-15 00:49:34,007][cascade_classifier.fit_transform] group_starts=[0]\n",
      "[ 2018-05-15 00:49:34,009][cascade_classifier.fit_transform] group_ends=[29]\n",
      "[ 2018-05-15 00:49:34,011][cascade_classifier.fit_transform] X_train.shape=(33500, 29),X_test.shape=(16500, 29)\n",
      "[ 2018-05-15 00:49:34,015][cascade_classifier.fit_transform] [layer=0] look_indexs=[0], X_cur_train.shape=(33500, 29), X_cur_test.shape=(16500, 29)\n"
     ]
    },
    {
     "name": "stdout",
     "output_type": "stream",
     "text": [
      "('Test Accuracy of ExtraTrees = 97.339394 %', 10, 'fois')\n",
      "[[15946    24]\n",
      " [  415   115]]\n",
      "\n",
      "\n",
      "             precision    recall  f1-score   support\n",
      "\n",
      "        0.0       0.97      1.00      0.99     15970\n",
      "        1.0       0.83      0.22      0.34       530\n",
      "\n",
      "avg / total       0.97      0.97      0.97     16500\n",
      "\n"
     ]
    },
    {
     "name": "stderr",
     "output_type": "stream",
     "text": [
      "[ 2018-05-15 00:49:37,106][kfold_wrapper.log_eval_metrics] Accuracy(layer_0 - estimator_0 - 10_folds.train_0.predict)=97.43%\n",
      "[ 2018-05-15 00:49:40,355][kfold_wrapper.log_eval_metrics] Accuracy(layer_0 - estimator_0 - 10_folds.train_1.predict)=97.49%\n",
      "[ 2018-05-15 00:49:43,617][kfold_wrapper.log_eval_metrics] Accuracy(layer_0 - estimator_0 - 10_folds.train_2.predict)=97.43%\n",
      "[ 2018-05-15 00:49:47,040][kfold_wrapper.log_eval_metrics] Accuracy(layer_0 - estimator_0 - 10_folds.train_3.predict)=97.61%\n",
      "[ 2018-05-15 00:49:50,748][kfold_wrapper.log_eval_metrics] Accuracy(layer_0 - estimator_0 - 10_folds.train_4.predict)=97.70%\n",
      "[ 2018-05-15 00:49:54,226][kfold_wrapper.log_eval_metrics] Accuracy(layer_0 - estimator_0 - 10_folds.train_5.predict)=97.64%\n",
      "[ 2018-05-15 00:49:57,475][kfold_wrapper.log_eval_metrics] Accuracy(layer_0 - estimator_0 - 10_folds.train_6.predict)=97.52%\n",
      "[ 2018-05-15 00:50:00,700][kfold_wrapper.log_eval_metrics] Accuracy(layer_0 - estimator_0 - 10_folds.train_7.predict)=97.67%\n",
      "[ 2018-05-15 00:50:03,791][kfold_wrapper.log_eval_metrics] Accuracy(layer_0 - estimator_0 - 10_folds.train_8.predict)=97.19%\n",
      "[ 2018-05-15 00:50:07,032][kfold_wrapper.log_eval_metrics] Accuracy(layer_0 - estimator_0 - 10_folds.train_9.predict)=97.73%\n",
      "[ 2018-05-15 00:50:07,265][kfold_wrapper.log_eval_metrics] Accuracy(layer_0 - estimator_0 - 10_folds.train_cv.predict)=97.54%\n",
      "[ 2018-05-15 00:50:07,269][kfold_wrapper.log_eval_metrics] Accuracy(layer_0 - estimator_0 - 10_folds.test.predict)=97.39%\n",
      "[ 2018-05-15 00:50:07,278][cascade_classifier.calc_accuracy] Accuracy(layer_0 - train.classifier_average)=97.54%\n",
      "[ 2018-05-15 00:50:07,279][cascade_classifier.calc_accuracy] Accuracy(layer_0 - test.classifier_average)=97.39%\n",
      "[ 2018-05-15 00:50:07,281][cascade_classifier.fit_transform] [Result][Reach Max Layer] opt_layer_num=1, accuracy_train=97.54%, accuracy_test=97.39%\n",
      "[ 2018-05-15 00:50:07,283][cascade_classifier.transform] X_groups_test.shape=[(16500, 29)]\n",
      "[ 2018-05-15 00:50:07,285][cascade_classifier.transform] group_dims=[29]\n",
      "[ 2018-05-15 00:50:07,289][cascade_classifier.transform] X_test.shape=(16500, 29)\n",
      "[ 2018-05-15 00:50:07,292][cascade_classifier.transform] [layer=0] look_indexs=[0], X_cur_test.shape=(16500, 29)\n",
      "[ 2018-05-15 00:50:09,584][cascade_classifier.fit_transform] X_groups_train.shape=[(33500, 29)],y_train.shape=(33500,),X_groups_test.shape=[(16500, 29)],y_test.shape=(16500,)\n",
      "[ 2018-05-15 00:50:09,588][cascade_classifier.fit_transform] group_dims=[29]\n",
      "[ 2018-05-15 00:50:09,589][cascade_classifier.fit_transform] group_starts=[0]\n",
      "[ 2018-05-15 00:50:09,591][cascade_classifier.fit_transform] group_ends=[29]\n",
      "[ 2018-05-15 00:50:09,592][cascade_classifier.fit_transform] X_train.shape=(33500, 29),X_test.shape=(16500, 29)\n",
      "[ 2018-05-15 00:50:09,596][cascade_classifier.fit_transform] [layer=0] look_indexs=[0], X_cur_train.shape=(33500, 29), X_cur_test.shape=(16500, 29)\n"
     ]
    },
    {
     "name": "stdout",
     "output_type": "stream",
     "text": [
      "('Test Accuracy of ExtraTrees = 97.393939 %', 11, 'fois')\n",
      "[[15947    23]\n",
      " [  407   123]]\n",
      "\n",
      "\n",
      "             precision    recall  f1-score   support\n",
      "\n",
      "        0.0       0.98      1.00      0.99     15970\n",
      "        1.0       0.84      0.23      0.36       530\n",
      "\n",
      "avg / total       0.97      0.97      0.97     16500\n",
      "\n"
     ]
    },
    {
     "name": "stderr",
     "output_type": "stream",
     "text": [
      "[ 2018-05-15 00:50:12,583][kfold_wrapper.log_eval_metrics] Accuracy(layer_0 - estimator_0 - 10_folds.train_0.predict)=97.34%\n",
      "[ 2018-05-15 00:50:15,690][kfold_wrapper.log_eval_metrics] Accuracy(layer_0 - estimator_0 - 10_folds.train_1.predict)=97.37%\n",
      "[ 2018-05-15 00:50:18,810][kfold_wrapper.log_eval_metrics] Accuracy(layer_0 - estimator_0 - 10_folds.train_2.predict)=97.28%\n",
      "[ 2018-05-15 00:50:21,903][kfold_wrapper.log_eval_metrics] Accuracy(layer_0 - estimator_0 - 10_folds.train_3.predict)=97.73%\n",
      "[ 2018-05-15 00:50:25,036][kfold_wrapper.log_eval_metrics] Accuracy(layer_0 - estimator_0 - 10_folds.train_4.predict)=97.64%\n",
      "[ 2018-05-15 00:50:28,164][kfold_wrapper.log_eval_metrics] Accuracy(layer_0 - estimator_0 - 10_folds.train_5.predict)=97.55%\n",
      "[ 2018-05-15 00:50:31,386][kfold_wrapper.log_eval_metrics] Accuracy(layer_0 - estimator_0 - 10_folds.train_6.predict)=97.31%\n",
      "[ 2018-05-15 00:50:34,984][kfold_wrapper.log_eval_metrics] Accuracy(layer_0 - estimator_0 - 10_folds.train_7.predict)=97.73%\n",
      "[ 2018-05-15 00:50:38,336][kfold_wrapper.log_eval_metrics] Accuracy(layer_0 - estimator_0 - 10_folds.train_8.predict)=97.31%\n",
      "[ 2018-05-15 00:50:41,454][kfold_wrapper.log_eval_metrics] Accuracy(layer_0 - estimator_0 - 10_folds.train_9.predict)=97.73%\n",
      "[ 2018-05-15 00:50:41,685][kfold_wrapper.log_eval_metrics] Accuracy(layer_0 - estimator_0 - 10_folds.train_cv.predict)=97.50%\n",
      "[ 2018-05-15 00:50:41,691][kfold_wrapper.log_eval_metrics] Accuracy(layer_0 - estimator_0 - 10_folds.test.predict)=97.35%\n",
      "[ 2018-05-15 00:50:41,696][cascade_classifier.calc_accuracy] Accuracy(layer_0 - train.classifier_average)=97.50%\n",
      "[ 2018-05-15 00:50:41,698][cascade_classifier.calc_accuracy] Accuracy(layer_0 - test.classifier_average)=97.35%\n",
      "[ 2018-05-15 00:50:41,700][cascade_classifier.fit_transform] [Result][Reach Max Layer] opt_layer_num=1, accuracy_train=97.50%, accuracy_test=97.35%\n",
      "[ 2018-05-15 00:50:41,701][cascade_classifier.transform] X_groups_test.shape=[(16500, 29)]\n",
      "[ 2018-05-15 00:50:41,703][cascade_classifier.transform] group_dims=[29]\n",
      "[ 2018-05-15 00:50:41,705][cascade_classifier.transform] X_test.shape=(16500, 29)\n",
      "[ 2018-05-15 00:50:41,710][cascade_classifier.transform] [layer=0] look_indexs=[0], X_cur_test.shape=(16500, 29)\n",
      "[ 2018-05-15 00:50:43,953][cascade_classifier.fit_transform] X_groups_train.shape=[(33500, 29)],y_train.shape=(33500,),X_groups_test.shape=[(16500, 29)],y_test.shape=(16500,)\n",
      "[ 2018-05-15 00:50:43,956][cascade_classifier.fit_transform] group_dims=[29]\n",
      "[ 2018-05-15 00:50:43,957][cascade_classifier.fit_transform] group_starts=[0]\n",
      "[ 2018-05-15 00:50:43,959][cascade_classifier.fit_transform] group_ends=[29]\n",
      "[ 2018-05-15 00:50:43,961][cascade_classifier.fit_transform] X_train.shape=(33500, 29),X_test.shape=(16500, 29)\n",
      "[ 2018-05-15 00:50:43,964][cascade_classifier.fit_transform] [layer=0] look_indexs=[0], X_cur_train.shape=(33500, 29), X_cur_test.shape=(16500, 29)\n"
     ]
    },
    {
     "name": "stdout",
     "output_type": "stream",
     "text": [
      "('Test Accuracy of ExtraTrees = 97.351515 %', 12, 'fois')\n",
      "[[15945    25]\n",
      " [  412   118]]\n",
      "\n",
      "\n",
      "             precision    recall  f1-score   support\n",
      "\n",
      "        0.0       0.97      1.00      0.99     15970\n",
      "        1.0       0.83      0.22      0.35       530\n",
      "\n",
      "avg / total       0.97      0.97      0.97     16500\n",
      "\n"
     ]
    },
    {
     "name": "stderr",
     "output_type": "stream",
     "text": [
      "[ 2018-05-15 00:50:46,942][kfold_wrapper.log_eval_metrics] Accuracy(layer_0 - estimator_0 - 10_folds.train_0.predict)=97.37%\n",
      "[ 2018-05-15 00:50:50,043][kfold_wrapper.log_eval_metrics] Accuracy(layer_0 - estimator_0 - 10_folds.train_1.predict)=97.40%\n",
      "[ 2018-05-15 00:50:53,194][kfold_wrapper.log_eval_metrics] Accuracy(layer_0 - estimator_0 - 10_folds.train_2.predict)=97.49%\n",
      "[ 2018-05-15 00:50:56,329][kfold_wrapper.log_eval_metrics] Accuracy(layer_0 - estimator_0 - 10_folds.train_3.predict)=97.46%\n",
      "[ 2018-05-15 00:50:59,564][kfold_wrapper.log_eval_metrics] Accuracy(layer_0 - estimator_0 - 10_folds.train_4.predict)=97.67%\n",
      "[ 2018-05-15 00:51:02,808][kfold_wrapper.log_eval_metrics] Accuracy(layer_0 - estimator_0 - 10_folds.train_5.predict)=97.52%\n",
      "[ 2018-05-15 00:51:06,041][kfold_wrapper.log_eval_metrics] Accuracy(layer_0 - estimator_0 - 10_folds.train_6.predict)=97.40%\n",
      "[ 2018-05-15 00:51:09,164][kfold_wrapper.log_eval_metrics] Accuracy(layer_0 - estimator_0 - 10_folds.train_7.predict)=97.70%\n",
      "[ 2018-05-15 00:51:12,591][kfold_wrapper.log_eval_metrics] Accuracy(layer_0 - estimator_0 - 10_folds.train_8.predict)=97.46%\n",
      "[ 2018-05-15 00:51:16,190][kfold_wrapper.log_eval_metrics] Accuracy(layer_0 - estimator_0 - 10_folds.train_9.predict)=97.79%\n",
      "[ 2018-05-15 00:51:16,436][kfold_wrapper.log_eval_metrics] Accuracy(layer_0 - estimator_0 - 10_folds.train_cv.predict)=97.53%\n",
      "[ 2018-05-15 00:51:16,440][kfold_wrapper.log_eval_metrics] Accuracy(layer_0 - estimator_0 - 10_folds.test.predict)=97.36%\n",
      "[ 2018-05-15 00:51:16,453][cascade_classifier.calc_accuracy] Accuracy(layer_0 - train.classifier_average)=97.53%\n",
      "[ 2018-05-15 00:51:16,455][cascade_classifier.calc_accuracy] Accuracy(layer_0 - test.classifier_average)=97.36%\n",
      "[ 2018-05-15 00:51:16,456][cascade_classifier.fit_transform] [Result][Reach Max Layer] opt_layer_num=1, accuracy_train=97.53%, accuracy_test=97.36%\n",
      "[ 2018-05-15 00:51:16,458][cascade_classifier.transform] X_groups_test.shape=[(16500, 29)]\n",
      "[ 2018-05-15 00:51:16,460][cascade_classifier.transform] group_dims=[29]\n",
      "[ 2018-05-15 00:51:16,465][cascade_classifier.transform] X_test.shape=(16500, 29)\n",
      "[ 2018-05-15 00:51:16,467][cascade_classifier.transform] [layer=0] look_indexs=[0], X_cur_test.shape=(16500, 29)\n",
      "[ 2018-05-15 00:51:18,779][cascade_classifier.fit_transform] X_groups_train.shape=[(33500, 29)],y_train.shape=(33500,),X_groups_test.shape=[(16500, 29)],y_test.shape=(16500,)\n",
      "[ 2018-05-15 00:51:18,782][cascade_classifier.fit_transform] group_dims=[29]\n",
      "[ 2018-05-15 00:51:18,784][cascade_classifier.fit_transform] group_starts=[0]\n",
      "[ 2018-05-15 00:51:18,786][cascade_classifier.fit_transform] group_ends=[29]\n",
      "[ 2018-05-15 00:51:18,789][cascade_classifier.fit_transform] X_train.shape=(33500, 29),X_test.shape=(16500, 29)\n",
      "[ 2018-05-15 00:51:18,796][cascade_classifier.fit_transform] [layer=0] look_indexs=[0], X_cur_train.shape=(33500, 29), X_cur_test.shape=(16500, 29)\n"
     ]
    },
    {
     "name": "stdout",
     "output_type": "stream",
     "text": [
      "('Test Accuracy of ExtraTrees = 97.357576 %', 13, 'fois')\n",
      "[[15951    19]\n",
      " [  417   113]]\n",
      "\n",
      "\n",
      "             precision    recall  f1-score   support\n",
      "\n",
      "        0.0       0.97      1.00      0.99     15970\n",
      "        1.0       0.86      0.21      0.34       530\n",
      "\n",
      "avg / total       0.97      0.97      0.97     16500\n",
      "\n"
     ]
    },
    {
     "name": "stderr",
     "output_type": "stream",
     "text": [
      "[ 2018-05-15 00:51:21,848][kfold_wrapper.log_eval_metrics] Accuracy(layer_0 - estimator_0 - 10_folds.train_0.predict)=97.31%\n",
      "[ 2018-05-15 00:51:24,969][kfold_wrapper.log_eval_metrics] Accuracy(layer_0 - estimator_0 - 10_folds.train_1.predict)=97.46%\n",
      "[ 2018-05-15 00:51:28,062][kfold_wrapper.log_eval_metrics] Accuracy(layer_0 - estimator_0 - 10_folds.train_2.predict)=97.43%\n",
      "[ 2018-05-15 00:51:31,195][kfold_wrapper.log_eval_metrics] Accuracy(layer_0 - estimator_0 - 10_folds.train_3.predict)=97.52%\n",
      "[ 2018-05-15 00:51:34,333][kfold_wrapper.log_eval_metrics] Accuracy(layer_0 - estimator_0 - 10_folds.train_4.predict)=97.64%\n",
      "[ 2018-05-15 00:51:37,553][kfold_wrapper.log_eval_metrics] Accuracy(layer_0 - estimator_0 - 10_folds.train_5.predict)=97.46%\n",
      "[ 2018-05-15 00:51:40,782][kfold_wrapper.log_eval_metrics] Accuracy(layer_0 - estimator_0 - 10_folds.train_6.predict)=97.31%\n",
      "[ 2018-05-15 00:51:44,143][kfold_wrapper.log_eval_metrics] Accuracy(layer_0 - estimator_0 - 10_folds.train_7.predict)=97.73%\n",
      "[ 2018-05-15 00:51:47,743][kfold_wrapper.log_eval_metrics] Accuracy(layer_0 - estimator_0 - 10_folds.train_8.predict)=97.34%\n",
      "[ 2018-05-15 00:51:51,206][kfold_wrapper.log_eval_metrics] Accuracy(layer_0 - estimator_0 - 10_folds.train_9.predict)=97.64%\n",
      "[ 2018-05-15 00:51:51,444][kfold_wrapper.log_eval_metrics] Accuracy(layer_0 - estimator_0 - 10_folds.train_cv.predict)=97.49%\n",
      "[ 2018-05-15 00:51:51,447][kfold_wrapper.log_eval_metrics] Accuracy(layer_0 - estimator_0 - 10_folds.test.predict)=97.27%\n",
      "[ 2018-05-15 00:51:51,456][cascade_classifier.calc_accuracy] Accuracy(layer_0 - train.classifier_average)=97.49%\n",
      "[ 2018-05-15 00:51:51,458][cascade_classifier.calc_accuracy] Accuracy(layer_0 - test.classifier_average)=97.27%\n",
      "[ 2018-05-15 00:51:51,459][cascade_classifier.fit_transform] [Result][Reach Max Layer] opt_layer_num=1, accuracy_train=97.49%, accuracy_test=97.27%\n",
      "[ 2018-05-15 00:51:51,461][cascade_classifier.transform] X_groups_test.shape=[(16500, 29)]\n",
      "[ 2018-05-15 00:51:51,463][cascade_classifier.transform] group_dims=[29]\n",
      "[ 2018-05-15 00:51:51,464][cascade_classifier.transform] X_test.shape=(16500, 29)\n",
      "[ 2018-05-15 00:51:51,466][cascade_classifier.transform] [layer=0] look_indexs=[0], X_cur_test.shape=(16500, 29)\n",
      "[ 2018-05-15 00:51:53,737][cascade_classifier.fit_transform] X_groups_train.shape=[(33500, 29)],y_train.shape=(33500,),X_groups_test.shape=[(16500, 29)],y_test.shape=(16500,)\n",
      "[ 2018-05-15 00:51:53,740][cascade_classifier.fit_transform] group_dims=[29]\n",
      "[ 2018-05-15 00:51:53,742][cascade_classifier.fit_transform] group_starts=[0]\n",
      "[ 2018-05-15 00:51:53,743][cascade_classifier.fit_transform] group_ends=[29]\n",
      "[ 2018-05-15 00:51:53,744][cascade_classifier.fit_transform] X_train.shape=(33500, 29),X_test.shape=(16500, 29)\n",
      "[ 2018-05-15 00:51:53,749][cascade_classifier.fit_transform] [layer=0] look_indexs=[0], X_cur_train.shape=(33500, 29), X_cur_test.shape=(16500, 29)\n"
     ]
    },
    {
     "name": "stdout",
     "output_type": "stream",
     "text": [
      "('Test Accuracy of ExtraTrees = 97.272727 %', 14, 'fois')\n",
      "[[15946    24]\n",
      " [  426   104]]\n",
      "\n",
      "\n",
      "             precision    recall  f1-score   support\n",
      "\n",
      "        0.0       0.97      1.00      0.99     15970\n",
      "        1.0       0.81      0.20      0.32       530\n",
      "\n",
      "avg / total       0.97      0.97      0.96     16500\n",
      "\n"
     ]
    },
    {
     "name": "stderr",
     "output_type": "stream",
     "text": [
      "[ 2018-05-15 00:51:56,822][kfold_wrapper.log_eval_metrics] Accuracy(layer_0 - estimator_0 - 10_folds.train_0.predict)=97.28%\n",
      "[ 2018-05-15 00:52:00,042][kfold_wrapper.log_eval_metrics] Accuracy(layer_0 - estimator_0 - 10_folds.train_1.predict)=97.46%\n",
      "[ 2018-05-15 00:52:03,274][kfold_wrapper.log_eval_metrics] Accuracy(layer_0 - estimator_0 - 10_folds.train_2.predict)=97.40%\n",
      "[ 2018-05-15 00:52:07,102][kfold_wrapper.log_eval_metrics] Accuracy(layer_0 - estimator_0 - 10_folds.train_3.predict)=97.40%\n",
      "[ 2018-05-15 00:52:10,661][kfold_wrapper.log_eval_metrics] Accuracy(layer_0 - estimator_0 - 10_folds.train_4.predict)=97.58%\n",
      "[ 2018-05-15 00:52:13,879][kfold_wrapper.log_eval_metrics] Accuracy(layer_0 - estimator_0 - 10_folds.train_5.predict)=97.43%\n",
      "[ 2018-05-15 00:52:17,220][kfold_wrapper.log_eval_metrics] Accuracy(layer_0 - estimator_0 - 10_folds.train_6.predict)=97.37%\n",
      "[ 2018-05-15 00:52:20,364][kfold_wrapper.log_eval_metrics] Accuracy(layer_0 - estimator_0 - 10_folds.train_7.predict)=97.64%\n",
      "[ 2018-05-15 00:52:23,595][kfold_wrapper.log_eval_metrics] Accuracy(layer_0 - estimator_0 - 10_folds.train_8.predict)=97.22%\n",
      "[ 2018-05-15 00:52:26,948][kfold_wrapper.log_eval_metrics] Accuracy(layer_0 - estimator_0 - 10_folds.train_9.predict)=97.55%\n",
      "[ 2018-05-15 00:52:27,182][kfold_wrapper.log_eval_metrics] Accuracy(layer_0 - estimator_0 - 10_folds.train_cv.predict)=97.44%\n",
      "[ 2018-05-15 00:52:27,185][kfold_wrapper.log_eval_metrics] Accuracy(layer_0 - estimator_0 - 10_folds.test.predict)=97.27%\n",
      "[ 2018-05-15 00:52:27,195][cascade_classifier.calc_accuracy] Accuracy(layer_0 - train.classifier_average)=97.44%\n",
      "[ 2018-05-15 00:52:27,197][cascade_classifier.calc_accuracy] Accuracy(layer_0 - test.classifier_average)=97.27%\n",
      "[ 2018-05-15 00:52:27,198][cascade_classifier.fit_transform] [Result][Reach Max Layer] opt_layer_num=1, accuracy_train=97.44%, accuracy_test=97.27%\n",
      "[ 2018-05-15 00:52:27,199][cascade_classifier.transform] X_groups_test.shape=[(16500, 29)]\n",
      "[ 2018-05-15 00:52:27,201][cascade_classifier.transform] group_dims=[29]\n",
      "[ 2018-05-15 00:52:27,202][cascade_classifier.transform] X_test.shape=(16500, 29)\n",
      "[ 2018-05-15 00:52:27,204][cascade_classifier.transform] [layer=0] look_indexs=[0], X_cur_test.shape=(16500, 29)\n",
      "[ 2018-05-15 00:52:29,508][cascade_classifier.fit_transform] X_groups_train.shape=[(33500, 29)],y_train.shape=(33500,),X_groups_test.shape=[(16500, 29)],y_test.shape=(16500,)\n",
      "[ 2018-05-15 00:52:29,511][cascade_classifier.fit_transform] group_dims=[29]\n",
      "[ 2018-05-15 00:52:29,512][cascade_classifier.fit_transform] group_starts=[0]\n",
      "[ 2018-05-15 00:52:29,514][cascade_classifier.fit_transform] group_ends=[29]\n",
      "[ 2018-05-15 00:52:29,515][cascade_classifier.fit_transform] X_train.shape=(33500, 29),X_test.shape=(16500, 29)\n",
      "[ 2018-05-15 00:52:29,520][cascade_classifier.fit_transform] [layer=0] look_indexs=[0], X_cur_train.shape=(33500, 29), X_cur_test.shape=(16500, 29)\n"
     ]
    },
    {
     "name": "stdout",
     "output_type": "stream",
     "text": [
      "('Test Accuracy of ExtraTrees = 97.266667 %', 15, 'fois')\n",
      "[[15945    25]\n",
      " [  426   104]]\n",
      "\n",
      "\n",
      "             precision    recall  f1-score   support\n",
      "\n",
      "        0.0       0.97      1.00      0.99     15970\n",
      "        1.0       0.81      0.20      0.32       530\n",
      "\n",
      "avg / total       0.97      0.97      0.96     16500\n",
      "\n"
     ]
    },
    {
     "name": "stderr",
     "output_type": "stream",
     "text": [
      "[ 2018-05-15 00:52:32,564][kfold_wrapper.log_eval_metrics] Accuracy(layer_0 - estimator_0 - 10_folds.train_0.predict)=97.37%\n",
      "[ 2018-05-15 00:52:35,805][kfold_wrapper.log_eval_metrics] Accuracy(layer_0 - estimator_0 - 10_folds.train_1.predict)=97.40%\n",
      "[ 2018-05-15 00:52:38,911][kfold_wrapper.log_eval_metrics] Accuracy(layer_0 - estimator_0 - 10_folds.train_2.predict)=97.37%\n",
      "[ 2018-05-15 00:52:42,028][kfold_wrapper.log_eval_metrics] Accuracy(layer_0 - estimator_0 - 10_folds.train_3.predict)=97.52%\n",
      "[ 2018-05-15 00:52:45,249][kfold_wrapper.log_eval_metrics] Accuracy(layer_0 - estimator_0 - 10_folds.train_4.predict)=97.40%\n",
      "[ 2018-05-15 00:52:48,474][kfold_wrapper.log_eval_metrics] Accuracy(layer_0 - estimator_0 - 10_folds.train_5.predict)=97.40%\n",
      "[ 2018-05-15 00:52:51,835][kfold_wrapper.log_eval_metrics] Accuracy(layer_0 - estimator_0 - 10_folds.train_6.predict)=97.43%\n",
      "[ 2018-05-15 00:52:55,453][kfold_wrapper.log_eval_metrics] Accuracy(layer_0 - estimator_0 - 10_folds.train_7.predict)=97.61%\n",
      "[ 2018-05-15 00:52:58,977][kfold_wrapper.log_eval_metrics] Accuracy(layer_0 - estimator_0 - 10_folds.train_8.predict)=97.22%\n",
      "[ 2018-05-15 00:53:02,132][kfold_wrapper.log_eval_metrics] Accuracy(layer_0 - estimator_0 - 10_folds.train_9.predict)=97.49%\n",
      "[ 2018-05-15 00:53:02,368][kfold_wrapper.log_eval_metrics] Accuracy(layer_0 - estimator_0 - 10_folds.train_cv.predict)=97.42%\n",
      "[ 2018-05-15 00:53:02,372][kfold_wrapper.log_eval_metrics] Accuracy(layer_0 - estimator_0 - 10_folds.test.predict)=97.24%\n",
      "[ 2018-05-15 00:53:02,380][cascade_classifier.calc_accuracy] Accuracy(layer_0 - train.classifier_average)=97.42%\n",
      "[ 2018-05-15 00:53:02,383][cascade_classifier.calc_accuracy] Accuracy(layer_0 - test.classifier_average)=97.24%\n",
      "[ 2018-05-15 00:53:02,384][cascade_classifier.fit_transform] [Result][Reach Max Layer] opt_layer_num=1, accuracy_train=97.42%, accuracy_test=97.24%\n",
      "[ 2018-05-15 00:53:02,385][cascade_classifier.transform] X_groups_test.shape=[(16500, 29)]\n",
      "[ 2018-05-15 00:53:02,387][cascade_classifier.transform] group_dims=[29]\n",
      "[ 2018-05-15 00:53:02,388][cascade_classifier.transform] X_test.shape=(16500, 29)\n",
      "[ 2018-05-15 00:53:02,390][cascade_classifier.transform] [layer=0] look_indexs=[0], X_cur_test.shape=(16500, 29)\n",
      "[ 2018-05-15 00:53:04,658][cascade_classifier.fit_transform] X_groups_train.shape=[(33500, 29)],y_train.shape=(33500,),X_groups_test.shape=[(16500, 29)],y_test.shape=(16500,)\n",
      "[ 2018-05-15 00:53:04,661][cascade_classifier.fit_transform] group_dims=[29]\n",
      "[ 2018-05-15 00:53:04,662][cascade_classifier.fit_transform] group_starts=[0]\n",
      "[ 2018-05-15 00:53:04,664][cascade_classifier.fit_transform] group_ends=[29]\n",
      "[ 2018-05-15 00:53:04,665][cascade_classifier.fit_transform] X_train.shape=(33500, 29),X_test.shape=(16500, 29)\n",
      "[ 2018-05-15 00:53:04,670][cascade_classifier.fit_transform] [layer=0] look_indexs=[0], X_cur_train.shape=(33500, 29), X_cur_test.shape=(16500, 29)\n"
     ]
    },
    {
     "name": "stdout",
     "output_type": "stream",
     "text": [
      "('Test Accuracy of ExtraTrees = 97.236364 %', 16, 'fois')\n",
      "[[15948    22]\n",
      " [  434    96]]\n",
      "\n",
      "\n",
      "             precision    recall  f1-score   support\n",
      "\n",
      "        0.0       0.97      1.00      0.99     15970\n",
      "        1.0       0.81      0.18      0.30       530\n",
      "\n",
      "avg / total       0.97      0.97      0.96     16500\n",
      "\n"
     ]
    },
    {
     "name": "stderr",
     "output_type": "stream",
     "text": [
      "[ 2018-05-15 00:53:07,689][kfold_wrapper.log_eval_metrics] Accuracy(layer_0 - estimator_0 - 10_folds.train_0.predict)=97.34%\n",
      "[ 2018-05-15 00:53:10,817][kfold_wrapper.log_eval_metrics] Accuracy(layer_0 - estimator_0 - 10_folds.train_1.predict)=97.52%\n",
      "[ 2018-05-15 00:53:13,947][kfold_wrapper.log_eval_metrics] Accuracy(layer_0 - estimator_0 - 10_folds.train_2.predict)=97.34%\n",
      "[ 2018-05-15 00:53:17,076][kfold_wrapper.log_eval_metrics] Accuracy(layer_0 - estimator_0 - 10_folds.train_3.predict)=97.52%\n",
      "[ 2018-05-15 00:53:20,248][kfold_wrapper.log_eval_metrics] Accuracy(layer_0 - estimator_0 - 10_folds.train_4.predict)=97.46%\n",
      "[ 2018-05-15 00:53:23,591][kfold_wrapper.log_eval_metrics] Accuracy(layer_0 - estimator_0 - 10_folds.train_5.predict)=97.31%\n",
      "[ 2018-05-15 00:53:26,723][kfold_wrapper.log_eval_metrics] Accuracy(layer_0 - estimator_0 - 10_folds.train_6.predict)=97.34%\n",
      "[ 2018-05-15 00:53:29,856][kfold_wrapper.log_eval_metrics] Accuracy(layer_0 - estimator_0 - 10_folds.train_7.predict)=97.64%\n",
      "[ 2018-05-15 00:53:33,096][kfold_wrapper.log_eval_metrics] Accuracy(layer_0 - estimator_0 - 10_folds.train_8.predict)=97.28%\n",
      "[ 2018-05-15 00:53:36,718][kfold_wrapper.log_eval_metrics] Accuracy(layer_0 - estimator_0 - 10_folds.train_9.predict)=97.40%\n",
      "[ 2018-05-15 00:53:37,065][kfold_wrapper.log_eval_metrics] Accuracy(layer_0 - estimator_0 - 10_folds.train_cv.predict)=97.42%\n",
      "[ 2018-05-15 00:53:37,066][kfold_wrapper.log_eval_metrics] Accuracy(layer_0 - estimator_0 - 10_folds.test.predict)=97.23%\n",
      "[ 2018-05-15 00:53:37,072][cascade_classifier.calc_accuracy] Accuracy(layer_0 - train.classifier_average)=97.42%\n",
      "[ 2018-05-15 00:53:37,075][cascade_classifier.calc_accuracy] Accuracy(layer_0 - test.classifier_average)=97.23%\n",
      "[ 2018-05-15 00:53:37,080][cascade_classifier.fit_transform] [Result][Reach Max Layer] opt_layer_num=1, accuracy_train=97.42%, accuracy_test=97.23%\n",
      "[ 2018-05-15 00:53:37,092][cascade_classifier.transform] X_groups_test.shape=[(16500, 29)]\n",
      "[ 2018-05-15 00:53:37,097][cascade_classifier.transform] group_dims=[29]\n",
      "[ 2018-05-15 00:53:37,100][cascade_classifier.transform] X_test.shape=(16500, 29)\n",
      "[ 2018-05-15 00:53:37,105][cascade_classifier.transform] [layer=0] look_indexs=[0], X_cur_test.shape=(16500, 29)\n",
      "[ 2018-05-15 00:53:39,656][cascade_classifier.fit_transform] X_groups_train.shape=[(33500, 29)],y_train.shape=(33500,),X_groups_test.shape=[(16500, 29)],y_test.shape=(16500,)\n",
      "[ 2018-05-15 00:53:39,659][cascade_classifier.fit_transform] group_dims=[29]\n",
      "[ 2018-05-15 00:53:39,660][cascade_classifier.fit_transform] group_starts=[0]\n",
      "[ 2018-05-15 00:53:39,662][cascade_classifier.fit_transform] group_ends=[29]\n",
      "[ 2018-05-15 00:53:39,664][cascade_classifier.fit_transform] X_train.shape=(33500, 29),X_test.shape=(16500, 29)\n",
      "[ 2018-05-15 00:53:39,670][cascade_classifier.fit_transform] [layer=0] look_indexs=[0], X_cur_train.shape=(33500, 29), X_cur_test.shape=(16500, 29)\n"
     ]
    },
    {
     "name": "stdout",
     "output_type": "stream",
     "text": [
      "('Test Accuracy of ExtraTrees = 97.230303 %', 17, 'fois')\n",
      "[[15952    18]\n",
      " [  439    91]]\n",
      "\n",
      "\n",
      "             precision    recall  f1-score   support\n",
      "\n",
      "        0.0       0.97      1.00      0.99     15970\n",
      "        1.0       0.83      0.17      0.28       530\n",
      "\n",
      "avg / total       0.97      0.97      0.96     16500\n",
      "\n"
     ]
    },
    {
     "name": "stderr",
     "output_type": "stream",
     "text": [
      "[ 2018-05-15 00:53:42,887][kfold_wrapper.log_eval_metrics] Accuracy(layer_0 - estimator_0 - 10_folds.train_0.predict)=97.43%\n",
      "[ 2018-05-15 00:53:46,127][kfold_wrapper.log_eval_metrics] Accuracy(layer_0 - estimator_0 - 10_folds.train_1.predict)=97.46%\n",
      "[ 2018-05-15 00:53:49,367][kfold_wrapper.log_eval_metrics] Accuracy(layer_0 - estimator_0 - 10_folds.train_2.predict)=97.34%\n",
      "[ 2018-05-15 00:53:52,499][kfold_wrapper.log_eval_metrics] Accuracy(layer_0 - estimator_0 - 10_folds.train_3.predict)=97.61%\n",
      "[ 2018-05-15 00:53:55,893][kfold_wrapper.log_eval_metrics] Accuracy(layer_0 - estimator_0 - 10_folds.train_4.predict)=97.58%\n",
      "[ 2018-05-15 00:53:59,575][kfold_wrapper.log_eval_metrics] Accuracy(layer_0 - estimator_0 - 10_folds.train_5.predict)=97.34%\n",
      "[ 2018-05-15 00:54:02,948][kfold_wrapper.log_eval_metrics] Accuracy(layer_0 - estimator_0 - 10_folds.train_6.predict)=97.34%\n",
      "[ 2018-05-15 00:54:05,964][kfold_wrapper.log_eval_metrics] Accuracy(layer_0 - estimator_0 - 10_folds.train_7.predict)=97.61%\n",
      "[ 2018-05-15 00:54:09,192][kfold_wrapper.log_eval_metrics] Accuracy(layer_0 - estimator_0 - 10_folds.train_8.predict)=97.28%\n",
      "[ 2018-05-15 00:54:12,353][kfold_wrapper.log_eval_metrics] Accuracy(layer_0 - estimator_0 - 10_folds.train_9.predict)=97.40%\n",
      "[ 2018-05-15 00:54:12,584][kfold_wrapper.log_eval_metrics] Accuracy(layer_0 - estimator_0 - 10_folds.train_cv.predict)=97.44%\n",
      "[ 2018-05-15 00:54:12,587][kfold_wrapper.log_eval_metrics] Accuracy(layer_0 - estimator_0 - 10_folds.test.predict)=97.26%\n",
      "[ 2018-05-15 00:54:12,599][cascade_classifier.calc_accuracy] Accuracy(layer_0 - train.classifier_average)=97.44%\n",
      "[ 2018-05-15 00:54:12,600][cascade_classifier.calc_accuracy] Accuracy(layer_0 - test.classifier_average)=97.26%\n",
      "[ 2018-05-15 00:54:12,601][cascade_classifier.fit_transform] [Result][Reach Max Layer] opt_layer_num=1, accuracy_train=97.44%, accuracy_test=97.26%\n",
      "[ 2018-05-15 00:54:12,603][cascade_classifier.transform] X_groups_test.shape=[(16500, 29)]\n",
      "[ 2018-05-15 00:54:12,604][cascade_classifier.transform] group_dims=[29]\n",
      "[ 2018-05-15 00:54:12,605][cascade_classifier.transform] X_test.shape=(16500, 29)\n",
      "[ 2018-05-15 00:54:12,607][cascade_classifier.transform] [layer=0] look_indexs=[0], X_cur_test.shape=(16500, 29)\n",
      "[ 2018-05-15 00:54:14,897][cascade_classifier.fit_transform] X_groups_train.shape=[(33500, 29)],y_train.shape=(33500,),X_groups_test.shape=[(16500, 29)],y_test.shape=(16500,)\n",
      "[ 2018-05-15 00:54:14,900][cascade_classifier.fit_transform] group_dims=[29]\n",
      "[ 2018-05-15 00:54:14,902][cascade_classifier.fit_transform] group_starts=[0]\n",
      "[ 2018-05-15 00:54:14,904][cascade_classifier.fit_transform] group_ends=[29]\n",
      "[ 2018-05-15 00:54:14,906][cascade_classifier.fit_transform] X_train.shape=(33500, 29),X_test.shape=(16500, 29)\n",
      "[ 2018-05-15 00:54:14,910][cascade_classifier.fit_transform] [layer=0] look_indexs=[0], X_cur_train.shape=(33500, 29), X_cur_test.shape=(16500, 29)\n"
     ]
    },
    {
     "name": "stdout",
     "output_type": "stream",
     "text": [
      "('Test Accuracy of ExtraTrees = 97.260606 %', 18, 'fois')\n",
      "[[15957    13]\n",
      " [  439    91]]\n",
      "\n",
      "\n",
      "             precision    recall  f1-score   support\n",
      "\n",
      "        0.0       0.97      1.00      0.99     15970\n",
      "        1.0       0.88      0.17      0.29       530\n",
      "\n",
      "avg / total       0.97      0.97      0.96     16500\n",
      "\n"
     ]
    },
    {
     "name": "stderr",
     "output_type": "stream",
     "text": [
      "[ 2018-05-15 00:54:17,840][kfold_wrapper.log_eval_metrics] Accuracy(layer_0 - estimator_0 - 10_folds.train_0.predict)=97.34%\n",
      "[ 2018-05-15 00:54:21,007][kfold_wrapper.log_eval_metrics] Accuracy(layer_0 - estimator_0 - 10_folds.train_1.predict)=97.34%\n",
      "[ 2018-05-15 00:54:24,429][kfold_wrapper.log_eval_metrics] Accuracy(layer_0 - estimator_0 - 10_folds.train_2.predict)=97.37%\n",
      "[ 2018-05-15 00:54:28,015][kfold_wrapper.log_eval_metrics] Accuracy(layer_0 - estimator_0 - 10_folds.train_3.predict)=97.37%\n",
      "[ 2018-05-15 00:54:31,348][kfold_wrapper.log_eval_metrics] Accuracy(layer_0 - estimator_0 - 10_folds.train_4.predict)=97.46%\n",
      "[ 2018-05-15 00:54:34,606][kfold_wrapper.log_eval_metrics] Accuracy(layer_0 - estimator_0 - 10_folds.train_5.predict)=97.52%\n",
      "[ 2018-05-15 00:54:37,706][kfold_wrapper.log_eval_metrics] Accuracy(layer_0 - estimator_0 - 10_folds.train_6.predict)=97.28%\n",
      "[ 2018-05-15 00:54:40,849][kfold_wrapper.log_eval_metrics] Accuracy(layer_0 - estimator_0 - 10_folds.train_7.predict)=97.58%\n",
      "[ 2018-05-15 00:54:44,345][kfold_wrapper.log_eval_metrics] Accuracy(layer_0 - estimator_0 - 10_folds.train_8.predict)=97.34%\n",
      "[ 2018-05-15 00:54:47,954][kfold_wrapper.log_eval_metrics] Accuracy(layer_0 - estimator_0 - 10_folds.train_9.predict)=97.46%\n",
      "[ 2018-05-15 00:54:48,179][kfold_wrapper.log_eval_metrics] Accuracy(layer_0 - estimator_0 - 10_folds.train_cv.predict)=97.41%\n",
      "[ 2018-05-15 00:54:48,183][kfold_wrapper.log_eval_metrics] Accuracy(layer_0 - estimator_0 - 10_folds.test.predict)=97.21%\n",
      "[ 2018-05-15 00:54:48,192][cascade_classifier.calc_accuracy] Accuracy(layer_0 - train.classifier_average)=97.41%\n",
      "[ 2018-05-15 00:54:48,195][cascade_classifier.calc_accuracy] Accuracy(layer_0 - test.classifier_average)=97.21%\n",
      "[ 2018-05-15 00:54:48,196][cascade_classifier.fit_transform] [Result][Reach Max Layer] opt_layer_num=1, accuracy_train=97.41%, accuracy_test=97.21%\n",
      "[ 2018-05-15 00:54:48,198][cascade_classifier.transform] X_groups_test.shape=[(16500, 29)]\n",
      "[ 2018-05-15 00:54:48,201][cascade_classifier.transform] group_dims=[29]\n",
      "[ 2018-05-15 00:54:48,202][cascade_classifier.transform] X_test.shape=(16500, 29)\n",
      "[ 2018-05-15 00:54:48,206][cascade_classifier.transform] [layer=0] look_indexs=[0], X_cur_test.shape=(16500, 29)\n"
     ]
    },
    {
     "name": "stdout",
     "output_type": "stream",
     "text": [
      "('Test Accuracy of ExtraTrees = 97.206061 %', 19, 'fois')\n",
      "[[15954    16]\n",
      " [  445    85]]\n",
      "\n",
      "\n",
      "             precision    recall  f1-score   support\n",
      "\n",
      "        0.0       0.97      1.00      0.99     15970\n",
      "        1.0       0.84      0.16      0.27       530\n",
      "\n",
      "avg / total       0.97      0.97      0.96     16500\n",
      "\n"
     ]
    }
   ],
   "source": [
    "# Deep\n",
    "for i in range (20):\n",
    "    X_train,X_test=update(X_train,X_test)\n",
    "    X_test_enc, X_train_enc=newdata(X_test_enc, X_train_enc)\n",
    "\n",
    "    X_train=X_train_enc\n",
    "    X_test=X_test_enc \n",
    "    X_train_enc, X_test_enc = gc.fit_transform(X_train, y_train, X_test=X_test, y_test=y_test)\n",
    "    affiche()"
   ]
  },
  {
   "cell_type": "code",
   "execution_count": null,
   "metadata": {
    "collapsed": true
   },
   "outputs": [],
   "source": []
  },
  {
   "cell_type": "markdown",
   "metadata": {},
   "source": [
    "# ('Test Accuracy of ExtraTrees = 97.715152 %', 0, 'fois')"
   ]
  },
  {
   "cell_type": "code",
   "execution_count": null,
   "metadata": {
    "collapsed": true
   },
   "outputs": [],
   "source": []
  }
 ],
 "metadata": {
  "kernelspec": {
   "display_name": "Python 2",
   "language": "python",
   "name": "python2"
  },
  "language_info": {
   "codemirror_mode": {
    "name": "ipython",
    "version": 2
   },
   "file_extension": ".py",
   "mimetype": "text/x-python",
   "name": "python",
   "nbconvert_exporter": "python",
   "pygments_lexer": "ipython2",
   "version": "2.7.14"
  }
 },
 "nbformat": 4,
 "nbformat_minor": 2
}
