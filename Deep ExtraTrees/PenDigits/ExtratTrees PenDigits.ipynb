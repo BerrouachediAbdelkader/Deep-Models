{
 "cells": [
  {
   "cell_type": "code",
   "execution_count": 29,
   "metadata": {
    "collapsed": true
   },
   "outputs": [],
   "source": [
    "# imports \n",
    "import numpy as np\n",
    "from math import sqrt \n",
    "from pprint import pprint\n",
    "from numpy import array\n",
    "from scipy.io import arff\n",
    "import pandas as pd"
   ]
  },
  {
   "cell_type": "code",
   "execution_count": 30,
   "metadata": {},
   "outputs": [
    {
     "data": {
      "text/html": [
       "<div>\n",
       "<style>\n",
       "    .dataframe thead tr:only-child th {\n",
       "        text-align: right;\n",
       "    }\n",
       "\n",
       "    .dataframe thead th {\n",
       "        text-align: left;\n",
       "    }\n",
       "\n",
       "    .dataframe tbody tr th {\n",
       "        vertical-align: top;\n",
       "    }\n",
       "</style>\n",
       "<table border=\"1\" class=\"dataframe\">\n",
       "  <thead>\n",
       "    <tr style=\"text-align: right;\">\n",
       "      <th></th>\n",
       "      <th>att1</th>\n",
       "      <th>att2</th>\n",
       "      <th>att3</th>\n",
       "      <th>att4</th>\n",
       "      <th>att5</th>\n",
       "      <th>att6</th>\n",
       "      <th>att7</th>\n",
       "      <th>att8</th>\n",
       "      <th>att9</th>\n",
       "      <th>att10</th>\n",
       "      <th>att11</th>\n",
       "      <th>att12</th>\n",
       "      <th>att13</th>\n",
       "      <th>att14</th>\n",
       "      <th>att15</th>\n",
       "      <th>att16</th>\n",
       "      <th>outlier</th>\n",
       "    </tr>\n",
       "  </thead>\n",
       "  <tbody>\n",
       "    <tr>\n",
       "      <th>0</th>\n",
       "      <td>48.0</td>\n",
       "      <td>100.0</td>\n",
       "      <td>20.0</td>\n",
       "      <td>80.0</td>\n",
       "      <td>0.0</td>\n",
       "      <td>51.0</td>\n",
       "      <td>55.0</td>\n",
       "      <td>43.0</td>\n",
       "      <td>100.0</td>\n",
       "      <td>56.0</td>\n",
       "      <td>90.0</td>\n",
       "      <td>62.0</td>\n",
       "      <td>86.0</td>\n",
       "      <td>30.0</td>\n",
       "      <td>73.0</td>\n",
       "      <td>0.0</td>\n",
       "      <td>1</td>\n",
       "    </tr>\n",
       "    <tr>\n",
       "      <th>1</th>\n",
       "      <td>38.0</td>\n",
       "      <td>100.0</td>\n",
       "      <td>4.0</td>\n",
       "      <td>85.0</td>\n",
       "      <td>0.0</td>\n",
       "      <td>53.0</td>\n",
       "      <td>58.0</td>\n",
       "      <td>46.0</td>\n",
       "      <td>100.0</td>\n",
       "      <td>52.0</td>\n",
       "      <td>88.0</td>\n",
       "      <td>64.0</td>\n",
       "      <td>78.0</td>\n",
       "      <td>32.0</td>\n",
       "      <td>73.0</td>\n",
       "      <td>0.0</td>\n",
       "      <td>1</td>\n",
       "    </tr>\n",
       "    <tr>\n",
       "      <th>2</th>\n",
       "      <td>53.0</td>\n",
       "      <td>100.0</td>\n",
       "      <td>25.0</td>\n",
       "      <td>70.0</td>\n",
       "      <td>0.0</td>\n",
       "      <td>39.0</td>\n",
       "      <td>50.0</td>\n",
       "      <td>34.0</td>\n",
       "      <td>100.0</td>\n",
       "      <td>42.0</td>\n",
       "      <td>85.0</td>\n",
       "      <td>64.0</td>\n",
       "      <td>77.0</td>\n",
       "      <td>32.0</td>\n",
       "      <td>80.0</td>\n",
       "      <td>0.0</td>\n",
       "      <td>1</td>\n",
       "    </tr>\n",
       "    <tr>\n",
       "      <th>3</th>\n",
       "      <td>12.0</td>\n",
       "      <td>100.0</td>\n",
       "      <td>0.0</td>\n",
       "      <td>71.0</td>\n",
       "      <td>25.0</td>\n",
       "      <td>43.0</td>\n",
       "      <td>86.0</td>\n",
       "      <td>44.0</td>\n",
       "      <td>100.0</td>\n",
       "      <td>75.0</td>\n",
       "      <td>90.0</td>\n",
       "      <td>52.0</td>\n",
       "      <td>90.0</td>\n",
       "      <td>20.0</td>\n",
       "      <td>90.0</td>\n",
       "      <td>0.0</td>\n",
       "      <td>1</td>\n",
       "    </tr>\n",
       "    <tr>\n",
       "      <th>4</th>\n",
       "      <td>26.0</td>\n",
       "      <td>100.0</td>\n",
       "      <td>0.0</td>\n",
       "      <td>83.0</td>\n",
       "      <td>23.0</td>\n",
       "      <td>51.0</td>\n",
       "      <td>83.0</td>\n",
       "      <td>42.0</td>\n",
       "      <td>100.0</td>\n",
       "      <td>55.0</td>\n",
       "      <td>79.0</td>\n",
       "      <td>84.0</td>\n",
       "      <td>56.0</td>\n",
       "      <td>42.0</td>\n",
       "      <td>37.0</td>\n",
       "      <td>0.0</td>\n",
       "      <td>1</td>\n",
       "    </tr>\n",
       "  </tbody>\n",
       "</table>\n",
       "</div>"
      ],
      "text/plain": [
       "   att1   att2  att3  att4  att5  att6  att7  att8   att9  att10  att11  \\\n",
       "0  48.0  100.0  20.0  80.0   0.0  51.0  55.0  43.0  100.0   56.0   90.0   \n",
       "1  38.0  100.0   4.0  85.0   0.0  53.0  58.0  46.0  100.0   52.0   88.0   \n",
       "2  53.0  100.0  25.0  70.0   0.0  39.0  50.0  34.0  100.0   42.0   85.0   \n",
       "3  12.0  100.0   0.0  71.0  25.0  43.0  86.0  44.0  100.0   75.0   90.0   \n",
       "4  26.0  100.0   0.0  83.0  23.0  51.0  83.0  42.0  100.0   55.0   79.0   \n",
       "\n",
       "   att12  att13  att14  att15  att16  outlier  \n",
       "0   62.0   86.0   30.0   73.0    0.0        1  \n",
       "1   64.0   78.0   32.0   73.0    0.0        1  \n",
       "2   64.0   77.0   32.0   80.0    0.0        1  \n",
       "3   52.0   90.0   20.0   90.0    0.0        1  \n",
       "4   84.0   56.0   42.0   37.0    0.0        1  "
      ]
     },
     "execution_count": 30,
     "metadata": {},
     "output_type": "execute_result"
    }
   ],
   "source": [
    "# load data\n",
    "df=pd.read_csv('PenDigits_withoutdupl_norm_v01.csv')  \n",
    "\n",
    "del df['id']\n",
    "del df['Unnamed: 0']\n",
    "df['outlier'] = df.outlier.apply(lambda label: 1 if label == \"'yes'\" else 0)\n",
    "\n",
    "df.head()"
   ]
  },
  {
   "cell_type": "code",
   "execution_count": 31,
   "metadata": {},
   "outputs": [
    {
     "data": {
      "text/plain": [
       "(9868, 17)"
      ]
     },
     "execution_count": 31,
     "metadata": {},
     "output_type": "execute_result"
    }
   ],
   "source": [
    "df.shape"
   ]
  },
  {
   "cell_type": "code",
   "execution_count": 32,
   "metadata": {
    "collapsed": true
   },
   "outputs": [],
   "source": [
    "# data to values\n",
    "df = df.values"
   ]
  },
  {
   "cell_type": "code",
   "execution_count": 33,
   "metadata": {
    "collapsed": true
   },
   "outputs": [],
   "source": [
    "# Extratrees Deep\n",
    "import argparse\n",
    "import sys\n",
    "import pickle\n",
    "from sklearn.metrics import accuracy_score\n",
    "sys.path.insert(0, \"lib\")\n",
    "from gcforest.gcforest import GCForest\n",
    "from gcforest.utils.config_utils import load_json\n",
    "config = load_json(\"./examples/Pendigits.json\")\n",
    "gc = GCForest(config)"
   ]
  },
  {
   "cell_type": "code",
   "execution_count": 34,
   "metadata": {
    "collapsed": true
   },
   "outputs": [],
   "source": [
    "# train test \n",
    "from sklearn.cross_validation import train_test_split\n",
    "y = df[:,16]\n",
    "X = df[:,0:16]\n",
    "\n",
    "X_train,X_test,y_train,y_test = train_test_split(X, y, test_size=0.33, random_state=42)"
   ]
  },
  {
   "cell_type": "code",
   "execution_count": 35,
   "metadata": {},
   "outputs": [
    {
     "data": {
      "text/plain": [
       "2"
      ]
     },
     "execution_count": 35,
     "metadata": {},
     "output_type": "execute_result"
    }
   ],
   "source": [
    "# number of class\n",
    "len(np.unique(y_train))"
   ]
  },
  {
   "cell_type": "code",
   "execution_count": 36,
   "metadata": {},
   "outputs": [
    {
     "name": "stderr",
     "output_type": "stream",
     "text": [
      "[ 2018-04-25 00:56:25,104][cascade_classifier.fit_transform] X_groups_train.shape=[(6611, 16)],y_train.shape=(6611,),X_groups_test.shape=[(3257, 16)],y_test.shape=(3257,)\n",
      "[ 2018-04-25 00:56:25,106][cascade_classifier.fit_transform] group_dims=[16]\n",
      "[ 2018-04-25 00:56:25,108][cascade_classifier.fit_transform] group_starts=[0]\n",
      "[ 2018-04-25 00:56:25,110][cascade_classifier.fit_transform] group_ends=[16]\n",
      "[ 2018-04-25 00:56:25,111][cascade_classifier.fit_transform] X_train.shape=(6611, 16),X_test.shape=(3257, 16)\n",
      "[ 2018-04-25 00:56:25,113][cascade_classifier.fit_transform] [layer=0] look_indexs=[0], X_cur_train.shape=(6611, 16), X_cur_test.shape=(3257, 16)\n",
      "[ 2018-04-25 00:56:25,809][kfold_wrapper.log_eval_metrics] Accuracy(layer_0 - estimator_0 - 10_folds.train_0.predict)=100.00%\n",
      "[ 2018-04-25 00:56:26,632][kfold_wrapper.log_eval_metrics] Accuracy(layer_0 - estimator_0 - 10_folds.train_1.predict)=99.85%\n",
      "[ 2018-04-25 00:56:27,449][kfold_wrapper.log_eval_metrics] Accuracy(layer_0 - estimator_0 - 10_folds.train_2.predict)=99.85%\n",
      "[ 2018-04-25 00:56:28,232][kfold_wrapper.log_eval_metrics] Accuracy(layer_0 - estimator_0 - 10_folds.train_3.predict)=100.00%\n",
      "[ 2018-04-25 00:56:28,998][kfold_wrapper.log_eval_metrics] Accuracy(layer_0 - estimator_0 - 10_folds.train_4.predict)=100.00%\n",
      "[ 2018-04-25 00:56:29,837][kfold_wrapper.log_eval_metrics] Accuracy(layer_0 - estimator_0 - 10_folds.train_5.predict)=99.85%\n",
      "[ 2018-04-25 00:56:30,699][kfold_wrapper.log_eval_metrics] Accuracy(layer_0 - estimator_0 - 10_folds.train_6.predict)=99.85%\n",
      "[ 2018-04-25 00:56:31,542][kfold_wrapper.log_eval_metrics] Accuracy(layer_0 - estimator_0 - 10_folds.train_7.predict)=100.00%\n",
      "[ 2018-04-25 00:56:32,317][kfold_wrapper.log_eval_metrics] Accuracy(layer_0 - estimator_0 - 10_folds.train_8.predict)=100.00%\n",
      "[ 2018-04-25 00:56:33,111][kfold_wrapper.log_eval_metrics] Accuracy(layer_0 - estimator_0 - 10_folds.train_9.predict)=99.85%\n",
      "[ 2018-04-25 00:56:33,269][kfold_wrapper.log_eval_metrics] Accuracy(layer_0 - estimator_0 - 10_folds.train_cv.predict)=99.92%\n",
      "[ 2018-04-25 00:56:33,271][kfold_wrapper.log_eval_metrics] Accuracy(layer_0 - estimator_0 - 10_folds.test.predict)=99.88%\n",
      "[ 2018-04-25 00:56:33,273][cascade_classifier.calc_accuracy] Accuracy(layer_0 - train.classifier_average)=99.92%\n",
      "[ 2018-04-25 00:56:33,274][cascade_classifier.calc_accuracy] Accuracy(layer_0 - test.classifier_average)=99.88%\n",
      "[ 2018-04-25 00:56:33,276][cascade_classifier.fit_transform] [Result][Reach Max Layer] opt_layer_num=1, accuracy_train=99.92%, accuracy_test=99.88%\n"
     ]
    }
   ],
   "source": [
    "           # X_enc is the concatenated predict_proba result of ExtraTrees\n",
    "\n",
    "X_train_enc, X_test_enc = gc.fit_transform(X_train, y_train, X_test=X_test, y_test=y_test)\n",
    "   "
   ]
  },
  {
   "cell_type": "code",
   "execution_count": 37,
   "metadata": {},
   "outputs": [
    {
     "name": "stderr",
     "output_type": "stream",
     "text": [
      "[ 2018-04-25 00:56:33,288][cascade_classifier.transform] X_groups_test.shape=[(3257, 16)]\n",
      "[ 2018-04-25 00:56:33,291][cascade_classifier.transform] group_dims=[16]\n",
      "[ 2018-04-25 00:56:33,293][cascade_classifier.transform] X_test.shape=(3257, 16)\n",
      "[ 2018-04-25 00:56:33,295][cascade_classifier.transform] [layer=0] look_indexs=[0], X_cur_test.shape=(3257, 16)\n"
     ]
    },
    {
     "name": "stdout",
     "output_type": "stream",
     "text": [
      "Test Accuracy of ExtraTrees = 99.877188 %\n"
     ]
    }
   ],
   "source": [
    "# predict\n",
    "y_pred = gc.predict(X_test)\n",
    "acc = accuracy_score(y_test, y_pred)\n",
    "print(\"Test Accuracy of ExtraTrees = {:.6f} %\".format(acc * 100))"
   ]
  },
  {
   "cell_type": "code",
   "execution_count": 38,
   "metadata": {},
   "outputs": [
    {
     "name": "stderr",
     "output_type": "stream",
     "text": [
      "[ 2018-04-25 00:56:34,863][cascade_classifier.transform] X_groups_test.shape=[(3257, 16)]\n",
      "[ 2018-04-25 00:56:34,865][cascade_classifier.transform] group_dims=[16]\n",
      "[ 2018-04-25 00:56:34,867][cascade_classifier.transform] X_test.shape=(3257, 16)\n",
      "[ 2018-04-25 00:56:34,869][cascade_classifier.transform] [layer=0] look_indexs=[0], X_cur_test.shape=(3257, 16)\n"
     ]
    }
   ],
   "source": [
    "# Make data + estimators\n",
    "X_test_enc = gc.transform(X_test)\n",
    "X_train_enc = X_train_enc.reshape((X_train_enc.shape[0], -1))\n",
    "X_test_enc = X_test_enc.reshape((X_test_enc.shape[0], -1))\n",
    "X_train_origin = X_train.reshape((X_train.shape[0], -1))\n",
    "X_test_origin = X_test.reshape((X_test.shape[0], -1))\n",
    "X_train_enc = np.hstack((X_train_origin, X_train_enc))\n",
    "X_test_enc = np.hstack((X_test_origin, X_test_enc))"
   ]
  },
  {
   "cell_type": "code",
   "execution_count": 39,
   "metadata": {},
   "outputs": [
    {
     "name": "stderr",
     "output_type": "stream",
     "text": [
      "[ 2018-04-25 00:56:36,526][cascade_classifier.fit_transform] X_groups_train.shape=[(6611, 18)],y_train.shape=(6611,),X_groups_test.shape=[(3257, 18)],y_test.shape=(3257,)\n",
      "[ 2018-04-25 00:56:36,529][cascade_classifier.fit_transform] group_dims=[18]\n",
      "[ 2018-04-25 00:56:36,530][cascade_classifier.fit_transform] group_starts=[0]\n",
      "[ 2018-04-25 00:56:36,532][cascade_classifier.fit_transform] group_ends=[18]\n",
      "[ 2018-04-25 00:56:36,534][cascade_classifier.fit_transform] X_train.shape=(6611, 18),X_test.shape=(3257, 18)\n",
      "[ 2018-04-25 00:56:36,536][cascade_classifier.fit_transform] [layer=0] look_indexs=[0], X_cur_train.shape=(6611, 18), X_cur_test.shape=(3257, 18)\n",
      "[ 2018-04-25 00:56:37,232][kfold_wrapper.log_eval_metrics] Accuracy(layer_0 - estimator_0 - 10_folds.train_0.predict)=100.00%\n",
      "[ 2018-04-25 00:56:38,062][kfold_wrapper.log_eval_metrics] Accuracy(layer_0 - estimator_0 - 10_folds.train_1.predict)=99.85%\n",
      "[ 2018-04-25 00:56:38,838][kfold_wrapper.log_eval_metrics] Accuracy(layer_0 - estimator_0 - 10_folds.train_2.predict)=100.00%\n",
      "[ 2018-04-25 00:56:39,658][kfold_wrapper.log_eval_metrics] Accuracy(layer_0 - estimator_0 - 10_folds.train_3.predict)=100.00%\n",
      "[ 2018-04-25 00:56:40,419][kfold_wrapper.log_eval_metrics] Accuracy(layer_0 - estimator_0 - 10_folds.train_4.predict)=100.00%\n",
      "[ 2018-04-25 00:56:41,236][kfold_wrapper.log_eval_metrics] Accuracy(layer_0 - estimator_0 - 10_folds.train_5.predict)=100.00%\n",
      "[ 2018-04-25 00:56:42,114][kfold_wrapper.log_eval_metrics] Accuracy(layer_0 - estimator_0 - 10_folds.train_6.predict)=100.00%\n",
      "[ 2018-04-25 00:56:42,937][kfold_wrapper.log_eval_metrics] Accuracy(layer_0 - estimator_0 - 10_folds.train_7.predict)=100.00%\n",
      "[ 2018-04-25 00:56:43,725][kfold_wrapper.log_eval_metrics] Accuracy(layer_0 - estimator_0 - 10_folds.train_8.predict)=100.00%\n",
      "[ 2018-04-25 00:56:44,544][kfold_wrapper.log_eval_metrics] Accuracy(layer_0 - estimator_0 - 10_folds.train_9.predict)=100.00%\n",
      "[ 2018-04-25 00:56:44,679][kfold_wrapper.log_eval_metrics] Accuracy(layer_0 - estimator_0 - 10_folds.train_cv.predict)=99.98%\n",
      "[ 2018-04-25 00:56:44,681][kfold_wrapper.log_eval_metrics] Accuracy(layer_0 - estimator_0 - 10_folds.test.predict)=99.94%\n",
      "[ 2018-04-25 00:56:44,687][cascade_classifier.calc_accuracy] Accuracy(layer_0 - train.classifier_average)=99.98%\n",
      "[ 2018-04-25 00:56:44,689][cascade_classifier.calc_accuracy] Accuracy(layer_0 - test.classifier_average)=99.94%\n",
      "[ 2018-04-25 00:56:44,690][cascade_classifier.fit_transform] [Result][Reach Max Layer] opt_layer_num=1, accuracy_train=99.98%, accuracy_test=99.94%\n"
     ]
    }
   ],
   "source": [
    "X_train=X_train_enc\n",
    "X_test=X_test_enc \n",
    "X_train_enc, X_test_enc = gc.fit_transform(X_train, y_train, X_test=X_test, y_test=y_test)"
   ]
  },
  {
   "cell_type": "code",
   "execution_count": 40,
   "metadata": {},
   "outputs": [
    {
     "name": "stderr",
     "output_type": "stream",
     "text": [
      "[ 2018-04-25 00:56:44,701][cascade_classifier.transform] X_groups_test.shape=[(3257, 18)]\n",
      "[ 2018-04-25 00:56:44,704][cascade_classifier.transform] group_dims=[18]\n",
      "[ 2018-04-25 00:56:44,705][cascade_classifier.transform] X_test.shape=(3257, 18)\n",
      "[ 2018-04-25 00:56:44,707][cascade_classifier.transform] [layer=0] look_indexs=[0], X_cur_test.shape=(3257, 18)\n"
     ]
    },
    {
     "name": "stdout",
     "output_type": "stream",
     "text": [
      "Test Accuracy of ExtraTrees = 99.938594 %\n"
     ]
    }
   ],
   "source": [
    "# predict  data + Es\n",
    "y_pred = gc.predict(X_test)\n",
    "acc = accuracy_score(y_test, y_pred)\n",
    "print(\"Test Accuracy of ExtraTrees = {:.6f} %\".format(acc * 100))"
   ]
  },
  {
   "cell_type": "code",
   "execution_count": 41,
   "metadata": {
    "collapsed": true
   },
   "outputs": [],
   "source": [
    "def update(X_train,X_test):\n",
    "    # update Estimators\n",
    "    M = np.delete(X_train, (-1), axis=1)\n",
    "    X_train= np.delete(M, (-1), axis=1)\n",
    "    M = np.delete(X_test, (-1), axis=1)\n",
    "    X_test = np.delete(M, (-1), axis=1)\n",
    "    return X_train,X_test\n",
    "\n",
    "def newdata(X_test_enc, X_train_enc):\n",
    "    # Make Data + Estimators\n",
    "    X_train_origin = X_train.reshape((X_train.shape[0], -1))\n",
    "    X_test_origin = X_test.reshape((X_test.shape[0], -1))\n",
    "    X_train_enc = np.hstack((X_train_origin, X_train_enc))\n",
    "    X_test_enc = np.hstack((X_test_origin, X_test_enc))\n",
    "    return X_test_enc, X_train_enc\n",
    "\n",
    "def affiche():\n",
    "    # predict\n",
    "    y_pred = gc.predict(X_test)\n",
    "    acc = accuracy_score(y_test, y_pred)\n",
    "    print(\"Test Accuracy of ExtraTrees = {:.6f} %\".format(acc * 100),i,'fois')"
   ]
  },
  {
   "cell_type": "code",
   "execution_count": 42,
   "metadata": {},
   "outputs": [
    {
     "name": "stderr",
     "output_type": "stream",
     "text": [
      "[ 2018-04-25 00:56:46,325][cascade_classifier.fit_transform] X_groups_train.shape=[(6611, 18)],y_train.shape=(6611,),X_groups_test.shape=[(3257, 18)],y_test.shape=(3257,)\n",
      "[ 2018-04-25 00:56:46,327][cascade_classifier.fit_transform] group_dims=[18]\n",
      "[ 2018-04-25 00:56:46,329][cascade_classifier.fit_transform] group_starts=[0]\n",
      "[ 2018-04-25 00:56:46,331][cascade_classifier.fit_transform] group_ends=[18]\n",
      "[ 2018-04-25 00:56:46,332][cascade_classifier.fit_transform] X_train.shape=(6611, 18),X_test.shape=(3257, 18)\n",
      "[ 2018-04-25 00:56:46,334][cascade_classifier.fit_transform] [layer=0] look_indexs=[0], X_cur_train.shape=(6611, 18), X_cur_test.shape=(3257, 18)\n",
      "[ 2018-04-25 00:56:46,978][kfold_wrapper.log_eval_metrics] Accuracy(layer_0 - estimator_0 - 10_folds.train_0.predict)=100.00%\n",
      "[ 2018-04-25 00:56:47,804][kfold_wrapper.log_eval_metrics] Accuracy(layer_0 - estimator_0 - 10_folds.train_1.predict)=99.85%\n",
      "[ 2018-04-25 00:56:48,581][kfold_wrapper.log_eval_metrics] Accuracy(layer_0 - estimator_0 - 10_folds.train_2.predict)=100.00%\n",
      "[ 2018-04-25 00:56:49,367][kfold_wrapper.log_eval_metrics] Accuracy(layer_0 - estimator_0 - 10_folds.train_3.predict)=100.00%\n",
      "[ 2018-04-25 00:56:50,120][kfold_wrapper.log_eval_metrics] Accuracy(layer_0 - estimator_0 - 10_folds.train_4.predict)=100.00%\n",
      "[ 2018-04-25 00:56:50,944][kfold_wrapper.log_eval_metrics] Accuracy(layer_0 - estimator_0 - 10_folds.train_5.predict)=100.00%\n",
      "[ 2018-04-25 00:56:51,721][kfold_wrapper.log_eval_metrics] Accuracy(layer_0 - estimator_0 - 10_folds.train_6.predict)=100.00%\n",
      "[ 2018-04-25 00:56:52,484][kfold_wrapper.log_eval_metrics] Accuracy(layer_0 - estimator_0 - 10_folds.train_7.predict)=100.00%\n",
      "[ 2018-04-25 00:56:53,280][kfold_wrapper.log_eval_metrics] Accuracy(layer_0 - estimator_0 - 10_folds.train_8.predict)=100.00%\n",
      "[ 2018-04-25 00:56:54,115][kfold_wrapper.log_eval_metrics] Accuracy(layer_0 - estimator_0 - 10_folds.train_9.predict)=100.00%\n",
      "[ 2018-04-25 00:56:54,246][kfold_wrapper.log_eval_metrics] Accuracy(layer_0 - estimator_0 - 10_folds.train_cv.predict)=99.98%\n",
      "[ 2018-04-25 00:56:54,248][kfold_wrapper.log_eval_metrics] Accuracy(layer_0 - estimator_0 - 10_folds.test.predict)=99.97%\n",
      "[ 2018-04-25 00:56:54,253][cascade_classifier.calc_accuracy] Accuracy(layer_0 - train.classifier_average)=99.98%\n",
      "[ 2018-04-25 00:56:54,255][cascade_classifier.calc_accuracy] Accuracy(layer_0 - test.classifier_average)=99.97%\n",
      "[ 2018-04-25 00:56:54,257][cascade_classifier.fit_transform] [Result][Reach Max Layer] opt_layer_num=1, accuracy_train=99.98%, accuracy_test=99.97%\n",
      "[ 2018-04-25 00:56:54,259][cascade_classifier.transform] X_groups_test.shape=[(3257, 18)]\n",
      "[ 2018-04-25 00:56:54,261][cascade_classifier.transform] group_dims=[18]\n",
      "[ 2018-04-25 00:56:54,262][cascade_classifier.transform] X_test.shape=(3257, 18)\n",
      "[ 2018-04-25 00:56:54,264][cascade_classifier.transform] [layer=0] look_indexs=[0], X_cur_test.shape=(3257, 18)\n",
      "[ 2018-04-25 00:56:55,739][cascade_classifier.fit_transform] X_groups_train.shape=[(6611, 18)],y_train.shape=(6611,),X_groups_test.shape=[(3257, 18)],y_test.shape=(3257,)\n",
      "[ 2018-04-25 00:56:55,741][cascade_classifier.fit_transform] group_dims=[18]\n",
      "[ 2018-04-25 00:56:55,743][cascade_classifier.fit_transform] group_starts=[0]\n",
      "[ 2018-04-25 00:56:55,744][cascade_classifier.fit_transform] group_ends=[18]\n",
      "[ 2018-04-25 00:56:55,746][cascade_classifier.fit_transform] X_train.shape=(6611, 18),X_test.shape=(3257, 18)\n",
      "[ 2018-04-25 00:56:55,748][cascade_classifier.fit_transform] [layer=0] look_indexs=[0], X_cur_train.shape=(6611, 18), X_cur_test.shape=(3257, 18)\n"
     ]
    },
    {
     "name": "stdout",
     "output_type": "stream",
     "text": [
      "('Test Accuracy of ExtraTrees = 99.969297 %', 0, 'fois')\n"
     ]
    },
    {
     "name": "stderr",
     "output_type": "stream",
     "text": [
      "[ 2018-04-25 00:56:56,357][kfold_wrapper.log_eval_metrics] Accuracy(layer_0 - estimator_0 - 10_folds.train_0.predict)=100.00%\n",
      "[ 2018-04-25 00:56:57,135][kfold_wrapper.log_eval_metrics] Accuracy(layer_0 - estimator_0 - 10_folds.train_1.predict)=99.85%\n",
      "[ 2018-04-25 00:56:57,936][kfold_wrapper.log_eval_metrics] Accuracy(layer_0 - estimator_0 - 10_folds.train_2.predict)=100.00%\n",
      "[ 2018-04-25 00:56:58,729][kfold_wrapper.log_eval_metrics] Accuracy(layer_0 - estimator_0 - 10_folds.train_3.predict)=100.00%\n",
      "[ 2018-04-25 00:56:59,515][kfold_wrapper.log_eval_metrics] Accuracy(layer_0 - estimator_0 - 10_folds.train_4.predict)=100.00%\n",
      "[ 2018-04-25 00:57:00,362][kfold_wrapper.log_eval_metrics] Accuracy(layer_0 - estimator_0 - 10_folds.train_5.predict)=100.00%\n",
      "[ 2018-04-25 00:57:01,143][kfold_wrapper.log_eval_metrics] Accuracy(layer_0 - estimator_0 - 10_folds.train_6.predict)=100.00%\n",
      "[ 2018-04-25 00:57:01,887][kfold_wrapper.log_eval_metrics] Accuracy(layer_0 - estimator_0 - 10_folds.train_7.predict)=100.00%\n",
      "[ 2018-04-25 00:57:02,706][kfold_wrapper.log_eval_metrics] Accuracy(layer_0 - estimator_0 - 10_folds.train_8.predict)=100.00%\n",
      "[ 2018-04-25 00:57:03,487][kfold_wrapper.log_eval_metrics] Accuracy(layer_0 - estimator_0 - 10_folds.train_9.predict)=100.00%\n",
      "[ 2018-04-25 00:57:03,628][kfold_wrapper.log_eval_metrics] Accuracy(layer_0 - estimator_0 - 10_folds.train_cv.predict)=99.98%\n",
      "[ 2018-04-25 00:57:03,631][kfold_wrapper.log_eval_metrics] Accuracy(layer_0 - estimator_0 - 10_folds.test.predict)=99.97%\n",
      "[ 2018-04-25 00:57:03,635][cascade_classifier.calc_accuracy] Accuracy(layer_0 - train.classifier_average)=99.98%\n",
      "[ 2018-04-25 00:57:03,636][cascade_classifier.calc_accuracy] Accuracy(layer_0 - test.classifier_average)=99.97%\n",
      "[ 2018-04-25 00:57:03,638][cascade_classifier.fit_transform] [Result][Reach Max Layer] opt_layer_num=1, accuracy_train=99.98%, accuracy_test=99.97%\n",
      "[ 2018-04-25 00:57:03,640][cascade_classifier.transform] X_groups_test.shape=[(3257, 18)]\n",
      "[ 2018-04-25 00:57:03,642][cascade_classifier.transform] group_dims=[18]\n",
      "[ 2018-04-25 00:57:03,644][cascade_classifier.transform] X_test.shape=(3257, 18)\n",
      "[ 2018-04-25 00:57:03,646][cascade_classifier.transform] [layer=0] look_indexs=[0], X_cur_test.shape=(3257, 18)\n",
      "[ 2018-04-25 00:57:05,256][cascade_classifier.fit_transform] X_groups_train.shape=[(6611, 18)],y_train.shape=(6611,),X_groups_test.shape=[(3257, 18)],y_test.shape=(3257,)\n",
      "[ 2018-04-25 00:57:05,259][cascade_classifier.fit_transform] group_dims=[18]\n",
      "[ 2018-04-25 00:57:05,260][cascade_classifier.fit_transform] group_starts=[0]\n",
      "[ 2018-04-25 00:57:05,261][cascade_classifier.fit_transform] group_ends=[18]\n",
      "[ 2018-04-25 00:57:05,263][cascade_classifier.fit_transform] X_train.shape=(6611, 18),X_test.shape=(3257, 18)\n",
      "[ 2018-04-25 00:57:05,265][cascade_classifier.fit_transform] [layer=0] look_indexs=[0], X_cur_train.shape=(6611, 18), X_cur_test.shape=(3257, 18)\n"
     ]
    },
    {
     "name": "stdout",
     "output_type": "stream",
     "text": [
      "('Test Accuracy of ExtraTrees = 99.969297 %', 1, 'fois')\n"
     ]
    },
    {
     "name": "stderr",
     "output_type": "stream",
     "text": [
      "[ 2018-04-25 00:57:05,923][kfold_wrapper.log_eval_metrics] Accuracy(layer_0 - estimator_0 - 10_folds.train_0.predict)=100.00%\n",
      "[ 2018-04-25 00:57:06,745][kfold_wrapper.log_eval_metrics] Accuracy(layer_0 - estimator_0 - 10_folds.train_1.predict)=99.85%\n",
      "[ 2018-04-25 00:57:07,533][kfold_wrapper.log_eval_metrics] Accuracy(layer_0 - estimator_0 - 10_folds.train_2.predict)=100.00%\n",
      "[ 2018-04-25 00:57:08,318][kfold_wrapper.log_eval_metrics] Accuracy(layer_0 - estimator_0 - 10_folds.train_3.predict)=100.00%\n",
      "[ 2018-04-25 00:57:09,091][kfold_wrapper.log_eval_metrics] Accuracy(layer_0 - estimator_0 - 10_folds.train_4.predict)=100.00%\n",
      "[ 2018-04-25 00:57:09,910][kfold_wrapper.log_eval_metrics] Accuracy(layer_0 - estimator_0 - 10_folds.train_5.predict)=100.00%\n",
      "[ 2018-04-25 00:57:10,725][kfold_wrapper.log_eval_metrics] Accuracy(layer_0 - estimator_0 - 10_folds.train_6.predict)=100.00%\n",
      "[ 2018-04-25 00:57:11,563][kfold_wrapper.log_eval_metrics] Accuracy(layer_0 - estimator_0 - 10_folds.train_7.predict)=100.00%\n",
      "[ 2018-04-25 00:57:12,366][kfold_wrapper.log_eval_metrics] Accuracy(layer_0 - estimator_0 - 10_folds.train_8.predict)=100.00%\n",
      "[ 2018-04-25 00:57:13,213][kfold_wrapper.log_eval_metrics] Accuracy(layer_0 - estimator_0 - 10_folds.train_9.predict)=100.00%\n",
      "[ 2018-04-25 00:57:13,366][kfold_wrapper.log_eval_metrics] Accuracy(layer_0 - estimator_0 - 10_folds.train_cv.predict)=99.98%\n",
      "[ 2018-04-25 00:57:13,370][kfold_wrapper.log_eval_metrics] Accuracy(layer_0 - estimator_0 - 10_folds.test.predict)=99.97%\n",
      "[ 2018-04-25 00:57:13,380][cascade_classifier.calc_accuracy] Accuracy(layer_0 - train.classifier_average)=99.98%\n",
      "[ 2018-04-25 00:57:13,382][cascade_classifier.calc_accuracy] Accuracy(layer_0 - test.classifier_average)=99.97%\n",
      "[ 2018-04-25 00:57:13,384][cascade_classifier.fit_transform] [Result][Reach Max Layer] opt_layer_num=1, accuracy_train=99.98%, accuracy_test=99.97%\n",
      "[ 2018-04-25 00:57:13,385][cascade_classifier.transform] X_groups_test.shape=[(3257, 18)]\n",
      "[ 2018-04-25 00:57:13,388][cascade_classifier.transform] group_dims=[18]\n",
      "[ 2018-04-25 00:57:13,389][cascade_classifier.transform] X_test.shape=(3257, 18)\n",
      "[ 2018-04-25 00:57:13,391][cascade_classifier.transform] [layer=0] look_indexs=[0], X_cur_test.shape=(3257, 18)\n",
      "[ 2018-04-25 00:57:14,929][cascade_classifier.fit_transform] X_groups_train.shape=[(6611, 18)],y_train.shape=(6611,),X_groups_test.shape=[(3257, 18)],y_test.shape=(3257,)\n",
      "[ 2018-04-25 00:57:14,931][cascade_classifier.fit_transform] group_dims=[18]\n",
      "[ 2018-04-25 00:57:14,933][cascade_classifier.fit_transform] group_starts=[0]\n",
      "[ 2018-04-25 00:57:14,934][cascade_classifier.fit_transform] group_ends=[18]\n",
      "[ 2018-04-25 00:57:14,936][cascade_classifier.fit_transform] X_train.shape=(6611, 18),X_test.shape=(3257, 18)\n",
      "[ 2018-04-25 00:57:14,938][cascade_classifier.fit_transform] [layer=0] look_indexs=[0], X_cur_train.shape=(6611, 18), X_cur_test.shape=(3257, 18)\n"
     ]
    },
    {
     "name": "stdout",
     "output_type": "stream",
     "text": [
      "('Test Accuracy of ExtraTrees = 99.969297 %', 2, 'fois')\n"
     ]
    },
    {
     "name": "stderr",
     "output_type": "stream",
     "text": [
      "[ 2018-04-25 00:57:15,507][kfold_wrapper.log_eval_metrics] Accuracy(layer_0 - estimator_0 - 10_folds.train_0.predict)=100.00%\n",
      "[ 2018-04-25 00:57:16,381][kfold_wrapper.log_eval_metrics] Accuracy(layer_0 - estimator_0 - 10_folds.train_1.predict)=99.85%\n",
      "[ 2018-04-25 00:57:17,197][kfold_wrapper.log_eval_metrics] Accuracy(layer_0 - estimator_0 - 10_folds.train_2.predict)=100.00%\n",
      "[ 2018-04-25 00:57:18,007][kfold_wrapper.log_eval_metrics] Accuracy(layer_0 - estimator_0 - 10_folds.train_3.predict)=100.00%\n",
      "[ 2018-04-25 00:57:18,831][kfold_wrapper.log_eval_metrics] Accuracy(layer_0 - estimator_0 - 10_folds.train_4.predict)=100.00%\n",
      "[ 2018-04-25 00:57:19,587][kfold_wrapper.log_eval_metrics] Accuracy(layer_0 - estimator_0 - 10_folds.train_5.predict)=100.00%\n",
      "[ 2018-04-25 00:57:20,396][kfold_wrapper.log_eval_metrics] Accuracy(layer_0 - estimator_0 - 10_folds.train_6.predict)=100.00%\n",
      "[ 2018-04-25 00:57:21,224][kfold_wrapper.log_eval_metrics] Accuracy(layer_0 - estimator_0 - 10_folds.train_7.predict)=100.00%\n",
      "[ 2018-04-25 00:57:22,039][kfold_wrapper.log_eval_metrics] Accuracy(layer_0 - estimator_0 - 10_folds.train_8.predict)=100.00%\n",
      "[ 2018-04-25 00:57:22,813][kfold_wrapper.log_eval_metrics] Accuracy(layer_0 - estimator_0 - 10_folds.train_9.predict)=100.00%\n",
      "[ 2018-04-25 00:57:23,031][kfold_wrapper.log_eval_metrics] Accuracy(layer_0 - estimator_0 - 10_folds.train_cv.predict)=99.98%\n",
      "[ 2018-04-25 00:57:23,033][kfold_wrapper.log_eval_metrics] Accuracy(layer_0 - estimator_0 - 10_folds.test.predict)=99.97%\n",
      "[ 2018-04-25 00:57:23,039][cascade_classifier.calc_accuracy] Accuracy(layer_0 - train.classifier_average)=99.98%\n",
      "[ 2018-04-25 00:57:23,041][cascade_classifier.calc_accuracy] Accuracy(layer_0 - test.classifier_average)=99.97%\n",
      "[ 2018-04-25 00:57:23,042][cascade_classifier.fit_transform] [Result][Reach Max Layer] opt_layer_num=1, accuracy_train=99.98%, accuracy_test=99.97%\n",
      "[ 2018-04-25 00:57:23,044][cascade_classifier.transform] X_groups_test.shape=[(3257, 18)]\n",
      "[ 2018-04-25 00:57:23,046][cascade_classifier.transform] group_dims=[18]\n",
      "[ 2018-04-25 00:57:23,048][cascade_classifier.transform] X_test.shape=(3257, 18)\n",
      "[ 2018-04-25 00:57:23,049][cascade_classifier.transform] [layer=0] look_indexs=[0], X_cur_test.shape=(3257, 18)\n",
      "[ 2018-04-25 00:57:24,524][cascade_classifier.fit_transform] X_groups_train.shape=[(6611, 18)],y_train.shape=(6611,),X_groups_test.shape=[(3257, 18)],y_test.shape=(3257,)\n",
      "[ 2018-04-25 00:57:24,526][cascade_classifier.fit_transform] group_dims=[18]\n",
      "[ 2018-04-25 00:57:24,528][cascade_classifier.fit_transform] group_starts=[0]\n",
      "[ 2018-04-25 00:57:24,529][cascade_classifier.fit_transform] group_ends=[18]\n",
      "[ 2018-04-25 00:57:24,531][cascade_classifier.fit_transform] X_train.shape=(6611, 18),X_test.shape=(3257, 18)\n",
      "[ 2018-04-25 00:57:24,533][cascade_classifier.fit_transform] [layer=0] look_indexs=[0], X_cur_train.shape=(6611, 18), X_cur_test.shape=(3257, 18)\n"
     ]
    },
    {
     "name": "stdout",
     "output_type": "stream",
     "text": [
      "('Test Accuracy of ExtraTrees = 99.969297 %', 3, 'fois')\n"
     ]
    },
    {
     "name": "stderr",
     "output_type": "stream",
     "text": [
      "[ 2018-04-25 00:57:25,207][kfold_wrapper.log_eval_metrics] Accuracy(layer_0 - estimator_0 - 10_folds.train_0.predict)=100.00%\n",
      "[ 2018-04-25 00:57:25,969][kfold_wrapper.log_eval_metrics] Accuracy(layer_0 - estimator_0 - 10_folds.train_1.predict)=99.85%\n",
      "[ 2018-04-25 00:57:26,736][kfold_wrapper.log_eval_metrics] Accuracy(layer_0 - estimator_0 - 10_folds.train_2.predict)=100.00%\n",
      "[ 2018-04-25 00:57:27,508][kfold_wrapper.log_eval_metrics] Accuracy(layer_0 - estimator_0 - 10_folds.train_3.predict)=100.00%\n",
      "[ 2018-04-25 00:57:28,261][kfold_wrapper.log_eval_metrics] Accuracy(layer_0 - estimator_0 - 10_folds.train_4.predict)=100.00%\n",
      "[ 2018-04-25 00:57:29,019][kfold_wrapper.log_eval_metrics] Accuracy(layer_0 - estimator_0 - 10_folds.train_5.predict)=100.00%\n",
      "[ 2018-04-25 00:57:29,799][kfold_wrapper.log_eval_metrics] Accuracy(layer_0 - estimator_0 - 10_folds.train_6.predict)=100.00%\n",
      "[ 2018-04-25 00:57:30,588][kfold_wrapper.log_eval_metrics] Accuracy(layer_0 - estimator_0 - 10_folds.train_7.predict)=100.00%\n",
      "[ 2018-04-25 00:57:31,372][kfold_wrapper.log_eval_metrics] Accuracy(layer_0 - estimator_0 - 10_folds.train_8.predict)=100.00%\n",
      "[ 2018-04-25 00:57:32,203][kfold_wrapper.log_eval_metrics] Accuracy(layer_0 - estimator_0 - 10_folds.train_9.predict)=100.00%\n",
      "[ 2018-04-25 00:57:32,351][kfold_wrapper.log_eval_metrics] Accuracy(layer_0 - estimator_0 - 10_folds.train_cv.predict)=99.98%\n",
      "[ 2018-04-25 00:57:32,353][kfold_wrapper.log_eval_metrics] Accuracy(layer_0 - estimator_0 - 10_folds.test.predict)=99.97%\n",
      "[ 2018-04-25 00:57:32,358][cascade_classifier.calc_accuracy] Accuracy(layer_0 - train.classifier_average)=99.98%\n",
      "[ 2018-04-25 00:57:32,360][cascade_classifier.calc_accuracy] Accuracy(layer_0 - test.classifier_average)=99.97%\n",
      "[ 2018-04-25 00:57:32,362][cascade_classifier.fit_transform] [Result][Reach Max Layer] opt_layer_num=1, accuracy_train=99.98%, accuracy_test=99.97%\n",
      "[ 2018-04-25 00:57:32,364][cascade_classifier.transform] X_groups_test.shape=[(3257, 18)]\n",
      "[ 2018-04-25 00:57:32,366][cascade_classifier.transform] group_dims=[18]\n",
      "[ 2018-04-25 00:57:32,368][cascade_classifier.transform] X_test.shape=(3257, 18)\n",
      "[ 2018-04-25 00:57:32,369][cascade_classifier.transform] [layer=0] look_indexs=[0], X_cur_test.shape=(3257, 18)\n",
      "[ 2018-04-25 00:57:33,894][cascade_classifier.fit_transform] X_groups_train.shape=[(6611, 18)],y_train.shape=(6611,),X_groups_test.shape=[(3257, 18)],y_test.shape=(3257,)\n",
      "[ 2018-04-25 00:57:33,896][cascade_classifier.fit_transform] group_dims=[18]\n",
      "[ 2018-04-25 00:57:33,897][cascade_classifier.fit_transform] group_starts=[0]\n",
      "[ 2018-04-25 00:57:33,899][cascade_classifier.fit_transform] group_ends=[18]\n",
      "[ 2018-04-25 00:57:33,900][cascade_classifier.fit_transform] X_train.shape=(6611, 18),X_test.shape=(3257, 18)\n",
      "[ 2018-04-25 00:57:33,902][cascade_classifier.fit_transform] [layer=0] look_indexs=[0], X_cur_train.shape=(6611, 18), X_cur_test.shape=(3257, 18)\n"
     ]
    },
    {
     "name": "stdout",
     "output_type": "stream",
     "text": [
      "('Test Accuracy of ExtraTrees = 99.969297 %', 4, 'fois')\n"
     ]
    },
    {
     "name": "stderr",
     "output_type": "stream",
     "text": [
      "[ 2018-04-25 00:57:34,520][kfold_wrapper.log_eval_metrics] Accuracy(layer_0 - estimator_0 - 10_folds.train_0.predict)=100.00%\n",
      "[ 2018-04-25 00:57:35,309][kfold_wrapper.log_eval_metrics] Accuracy(layer_0 - estimator_0 - 10_folds.train_1.predict)=99.85%\n",
      "[ 2018-04-25 00:57:36,139][kfold_wrapper.log_eval_metrics] Accuracy(layer_0 - estimator_0 - 10_folds.train_2.predict)=100.00%\n",
      "[ 2018-04-25 00:57:36,935][kfold_wrapper.log_eval_metrics] Accuracy(layer_0 - estimator_0 - 10_folds.train_3.predict)=100.00%\n",
      "[ 2018-04-25 00:57:37,723][kfold_wrapper.log_eval_metrics] Accuracy(layer_0 - estimator_0 - 10_folds.train_4.predict)=100.00%\n",
      "[ 2018-04-25 00:57:38,546][kfold_wrapper.log_eval_metrics] Accuracy(layer_0 - estimator_0 - 10_folds.train_5.predict)=100.00%\n",
      "[ 2018-04-25 00:57:39,384][kfold_wrapper.log_eval_metrics] Accuracy(layer_0 - estimator_0 - 10_folds.train_6.predict)=100.00%\n",
      "[ 2018-04-25 00:57:40,272][kfold_wrapper.log_eval_metrics] Accuracy(layer_0 - estimator_0 - 10_folds.train_7.predict)=100.00%\n",
      "[ 2018-04-25 00:57:41,095][kfold_wrapper.log_eval_metrics] Accuracy(layer_0 - estimator_0 - 10_folds.train_8.predict)=100.00%\n",
      "[ 2018-04-25 00:57:41,842][kfold_wrapper.log_eval_metrics] Accuracy(layer_0 - estimator_0 - 10_folds.train_9.predict)=100.00%\n",
      "[ 2018-04-25 00:57:41,989][kfold_wrapper.log_eval_metrics] Accuracy(layer_0 - estimator_0 - 10_folds.train_cv.predict)=99.98%\n",
      "[ 2018-04-25 00:57:41,991][kfold_wrapper.log_eval_metrics] Accuracy(layer_0 - estimator_0 - 10_folds.test.predict)=99.97%\n",
      "[ 2018-04-25 00:57:41,995][cascade_classifier.calc_accuracy] Accuracy(layer_0 - train.classifier_average)=99.98%\n",
      "[ 2018-04-25 00:57:41,997][cascade_classifier.calc_accuracy] Accuracy(layer_0 - test.classifier_average)=99.97%\n",
      "[ 2018-04-25 00:57:41,998][cascade_classifier.fit_transform] [Result][Reach Max Layer] opt_layer_num=1, accuracy_train=99.98%, accuracy_test=99.97%\n",
      "[ 2018-04-25 00:57:42,000][cascade_classifier.transform] X_groups_test.shape=[(3257, 18)]\n",
      "[ 2018-04-25 00:57:42,002][cascade_classifier.transform] group_dims=[18]\n",
      "[ 2018-04-25 00:57:42,003][cascade_classifier.transform] X_test.shape=(3257, 18)\n",
      "[ 2018-04-25 00:57:42,005][cascade_classifier.transform] [layer=0] look_indexs=[0], X_cur_test.shape=(3257, 18)\n",
      "[ 2018-04-25 00:57:43,492][cascade_classifier.fit_transform] X_groups_train.shape=[(6611, 18)],y_train.shape=(6611,),X_groups_test.shape=[(3257, 18)],y_test.shape=(3257,)\n",
      "[ 2018-04-25 00:57:43,494][cascade_classifier.fit_transform] group_dims=[18]\n",
      "[ 2018-04-25 00:57:43,495][cascade_classifier.fit_transform] group_starts=[0]\n",
      "[ 2018-04-25 00:57:43,497][cascade_classifier.fit_transform] group_ends=[18]\n",
      "[ 2018-04-25 00:57:43,499][cascade_classifier.fit_transform] X_train.shape=(6611, 18),X_test.shape=(3257, 18)\n",
      "[ 2018-04-25 00:57:43,501][cascade_classifier.fit_transform] [layer=0] look_indexs=[0], X_cur_train.shape=(6611, 18), X_cur_test.shape=(3257, 18)\n"
     ]
    },
    {
     "name": "stdout",
     "output_type": "stream",
     "text": [
      "('Test Accuracy of ExtraTrees = 99.969297 %', 5, 'fois')\n"
     ]
    },
    {
     "name": "stderr",
     "output_type": "stream",
     "text": [
      "[ 2018-04-25 00:57:44,144][kfold_wrapper.log_eval_metrics] Accuracy(layer_0 - estimator_0 - 10_folds.train_0.predict)=100.00%\n",
      "[ 2018-04-25 00:57:44,886][kfold_wrapper.log_eval_metrics] Accuracy(layer_0 - estimator_0 - 10_folds.train_1.predict)=99.85%\n",
      "[ 2018-04-25 00:57:45,654][kfold_wrapper.log_eval_metrics] Accuracy(layer_0 - estimator_0 - 10_folds.train_2.predict)=100.00%\n",
      "[ 2018-04-25 00:57:46,434][kfold_wrapper.log_eval_metrics] Accuracy(layer_0 - estimator_0 - 10_folds.train_3.predict)=100.00%\n",
      "[ 2018-04-25 00:57:47,288][kfold_wrapper.log_eval_metrics] Accuracy(layer_0 - estimator_0 - 10_folds.train_4.predict)=100.00%\n",
      "[ 2018-04-25 00:57:48,089][kfold_wrapper.log_eval_metrics] Accuracy(layer_0 - estimator_0 - 10_folds.train_5.predict)=100.00%\n",
      "[ 2018-04-25 00:57:48,855][kfold_wrapper.log_eval_metrics] Accuracy(layer_0 - estimator_0 - 10_folds.train_6.predict)=100.00%\n",
      "[ 2018-04-25 00:57:49,669][kfold_wrapper.log_eval_metrics] Accuracy(layer_0 - estimator_0 - 10_folds.train_7.predict)=100.00%\n",
      "[ 2018-04-25 00:57:50,442][kfold_wrapper.log_eval_metrics] Accuracy(layer_0 - estimator_0 - 10_folds.train_8.predict)=100.00%\n",
      "[ 2018-04-25 00:57:51,257][kfold_wrapper.log_eval_metrics] Accuracy(layer_0 - estimator_0 - 10_folds.train_9.predict)=100.00%\n",
      "[ 2018-04-25 00:57:51,414][kfold_wrapper.log_eval_metrics] Accuracy(layer_0 - estimator_0 - 10_folds.train_cv.predict)=99.98%\n",
      "[ 2018-04-25 00:57:51,416][kfold_wrapper.log_eval_metrics] Accuracy(layer_0 - estimator_0 - 10_folds.test.predict)=99.97%\n",
      "[ 2018-04-25 00:57:51,421][cascade_classifier.calc_accuracy] Accuracy(layer_0 - train.classifier_average)=99.98%\n",
      "[ 2018-04-25 00:57:51,422][cascade_classifier.calc_accuracy] Accuracy(layer_0 - test.classifier_average)=99.97%\n",
      "[ 2018-04-25 00:57:51,424][cascade_classifier.fit_transform] [Result][Reach Max Layer] opt_layer_num=1, accuracy_train=99.98%, accuracy_test=99.97%\n",
      "[ 2018-04-25 00:57:51,425][cascade_classifier.transform] X_groups_test.shape=[(3257, 18)]\n",
      "[ 2018-04-25 00:57:51,427][cascade_classifier.transform] group_dims=[18]\n",
      "[ 2018-04-25 00:57:51,429][cascade_classifier.transform] X_test.shape=(3257, 18)\n",
      "[ 2018-04-25 00:57:51,430][cascade_classifier.transform] [layer=0] look_indexs=[0], X_cur_test.shape=(3257, 18)\n",
      "[ 2018-04-25 00:57:53,001][cascade_classifier.fit_transform] X_groups_train.shape=[(6611, 18)],y_train.shape=(6611,),X_groups_test.shape=[(3257, 18)],y_test.shape=(3257,)\n",
      "[ 2018-04-25 00:57:53,003][cascade_classifier.fit_transform] group_dims=[18]\n",
      "[ 2018-04-25 00:57:53,004][cascade_classifier.fit_transform] group_starts=[0]\n",
      "[ 2018-04-25 00:57:53,006][cascade_classifier.fit_transform] group_ends=[18]\n",
      "[ 2018-04-25 00:57:53,007][cascade_classifier.fit_transform] X_train.shape=(6611, 18),X_test.shape=(3257, 18)\n",
      "[ 2018-04-25 00:57:53,009][cascade_classifier.fit_transform] [layer=0] look_indexs=[0], X_cur_train.shape=(6611, 18), X_cur_test.shape=(3257, 18)\n"
     ]
    },
    {
     "name": "stdout",
     "output_type": "stream",
     "text": [
      "('Test Accuracy of ExtraTrees = 99.969297 %', 6, 'fois')\n"
     ]
    },
    {
     "name": "stderr",
     "output_type": "stream",
     "text": [
      "[ 2018-04-25 00:57:53,651][kfold_wrapper.log_eval_metrics] Accuracy(layer_0 - estimator_0 - 10_folds.train_0.predict)=100.00%\n",
      "[ 2018-04-25 00:57:54,425][kfold_wrapper.log_eval_metrics] Accuracy(layer_0 - estimator_0 - 10_folds.train_1.predict)=99.85%\n",
      "[ 2018-04-25 00:57:55,167][kfold_wrapper.log_eval_metrics] Accuracy(layer_0 - estimator_0 - 10_folds.train_2.predict)=100.00%\n",
      "[ 2018-04-25 00:57:55,979][kfold_wrapper.log_eval_metrics] Accuracy(layer_0 - estimator_0 - 10_folds.train_3.predict)=100.00%\n",
      "[ 2018-04-25 00:57:56,744][kfold_wrapper.log_eval_metrics] Accuracy(layer_0 - estimator_0 - 10_folds.train_4.predict)=100.00%\n",
      "[ 2018-04-25 00:57:57,537][kfold_wrapper.log_eval_metrics] Accuracy(layer_0 - estimator_0 - 10_folds.train_5.predict)=100.00%\n",
      "[ 2018-04-25 00:57:58,332][kfold_wrapper.log_eval_metrics] Accuracy(layer_0 - estimator_0 - 10_folds.train_6.predict)=100.00%\n",
      "[ 2018-04-25 00:57:59,195][kfold_wrapper.log_eval_metrics] Accuracy(layer_0 - estimator_0 - 10_folds.train_7.predict)=100.00%\n",
      "[ 2018-04-25 00:57:59,959][kfold_wrapper.log_eval_metrics] Accuracy(layer_0 - estimator_0 - 10_folds.train_8.predict)=100.00%\n",
      "[ 2018-04-25 00:58:00,728][kfold_wrapper.log_eval_metrics] Accuracy(layer_0 - estimator_0 - 10_folds.train_9.predict)=100.00%\n",
      "[ 2018-04-25 00:58:00,877][kfold_wrapper.log_eval_metrics] Accuracy(layer_0 - estimator_0 - 10_folds.train_cv.predict)=99.98%\n",
      "[ 2018-04-25 00:58:00,879][kfold_wrapper.log_eval_metrics] Accuracy(layer_0 - estimator_0 - 10_folds.test.predict)=99.97%\n",
      "[ 2018-04-25 00:58:00,883][cascade_classifier.calc_accuracy] Accuracy(layer_0 - train.classifier_average)=99.98%\n",
      "[ 2018-04-25 00:58:00,885][cascade_classifier.calc_accuracy] Accuracy(layer_0 - test.classifier_average)=99.97%\n",
      "[ 2018-04-25 00:58:00,887][cascade_classifier.fit_transform] [Result][Reach Max Layer] opt_layer_num=1, accuracy_train=99.98%, accuracy_test=99.97%\n",
      "[ 2018-04-25 00:58:00,888][cascade_classifier.transform] X_groups_test.shape=[(3257, 18)]\n",
      "[ 2018-04-25 00:58:00,890][cascade_classifier.transform] group_dims=[18]\n",
      "[ 2018-04-25 00:58:00,892][cascade_classifier.transform] X_test.shape=(3257, 18)\n",
      "[ 2018-04-25 00:58:00,893][cascade_classifier.transform] [layer=0] look_indexs=[0], X_cur_test.shape=(3257, 18)\n",
      "[ 2018-04-25 00:58:02,338][cascade_classifier.fit_transform] X_groups_train.shape=[(6611, 18)],y_train.shape=(6611,),X_groups_test.shape=[(3257, 18)],y_test.shape=(3257,)\n",
      "[ 2018-04-25 00:58:02,340][cascade_classifier.fit_transform] group_dims=[18]\n",
      "[ 2018-04-25 00:58:02,342][cascade_classifier.fit_transform] group_starts=[0]\n",
      "[ 2018-04-25 00:58:02,343][cascade_classifier.fit_transform] group_ends=[18]\n",
      "[ 2018-04-25 00:58:02,345][cascade_classifier.fit_transform] X_train.shape=(6611, 18),X_test.shape=(3257, 18)\n",
      "[ 2018-04-25 00:58:02,348][cascade_classifier.fit_transform] [layer=0] look_indexs=[0], X_cur_train.shape=(6611, 18), X_cur_test.shape=(3257, 18)\n"
     ]
    },
    {
     "name": "stdout",
     "output_type": "stream",
     "text": [
      "('Test Accuracy of ExtraTrees = 99.969297 %', 7, 'fois')\n"
     ]
    },
    {
     "name": "stderr",
     "output_type": "stream",
     "text": [
      "[ 2018-04-25 00:58:02,982][kfold_wrapper.log_eval_metrics] Accuracy(layer_0 - estimator_0 - 10_folds.train_0.predict)=100.00%\n",
      "[ 2018-04-25 00:58:03,745][kfold_wrapper.log_eval_metrics] Accuracy(layer_0 - estimator_0 - 10_folds.train_1.predict)=99.85%\n",
      "[ 2018-04-25 00:58:04,536][kfold_wrapper.log_eval_metrics] Accuracy(layer_0 - estimator_0 - 10_folds.train_2.predict)=100.00%\n",
      "[ 2018-04-25 00:58:05,316][kfold_wrapper.log_eval_metrics] Accuracy(layer_0 - estimator_0 - 10_folds.train_3.predict)=100.00%\n",
      "[ 2018-04-25 00:58:06,055][kfold_wrapper.log_eval_metrics] Accuracy(layer_0 - estimator_0 - 10_folds.train_4.predict)=100.00%\n",
      "[ 2018-04-25 00:58:06,835][kfold_wrapper.log_eval_metrics] Accuracy(layer_0 - estimator_0 - 10_folds.train_5.predict)=100.00%\n",
      "[ 2018-04-25 00:58:07,592][kfold_wrapper.log_eval_metrics] Accuracy(layer_0 - estimator_0 - 10_folds.train_6.predict)=100.00%\n",
      "[ 2018-04-25 00:58:08,404][kfold_wrapper.log_eval_metrics] Accuracy(layer_0 - estimator_0 - 10_folds.train_7.predict)=100.00%\n",
      "[ 2018-04-25 00:58:09,221][kfold_wrapper.log_eval_metrics] Accuracy(layer_0 - estimator_0 - 10_folds.train_8.predict)=100.00%\n",
      "[ 2018-04-25 00:58:10,043][kfold_wrapper.log_eval_metrics] Accuracy(layer_0 - estimator_0 - 10_folds.train_9.predict)=100.00%\n",
      "[ 2018-04-25 00:58:10,248][kfold_wrapper.log_eval_metrics] Accuracy(layer_0 - estimator_0 - 10_folds.train_cv.predict)=99.98%\n",
      "[ 2018-04-25 00:58:10,251][kfold_wrapper.log_eval_metrics] Accuracy(layer_0 - estimator_0 - 10_folds.test.predict)=99.97%\n",
      "[ 2018-04-25 00:58:10,256][cascade_classifier.calc_accuracy] Accuracy(layer_0 - train.classifier_average)=99.98%\n",
      "[ 2018-04-25 00:58:10,257][cascade_classifier.calc_accuracy] Accuracy(layer_0 - test.classifier_average)=99.97%\n",
      "[ 2018-04-25 00:58:10,259][cascade_classifier.fit_transform] [Result][Reach Max Layer] opt_layer_num=1, accuracy_train=99.98%, accuracy_test=99.97%\n",
      "[ 2018-04-25 00:58:10,261][cascade_classifier.transform] X_groups_test.shape=[(3257, 18)]\n",
      "[ 2018-04-25 00:58:10,263][cascade_classifier.transform] group_dims=[18]\n",
      "[ 2018-04-25 00:58:10,264][cascade_classifier.transform] X_test.shape=(3257, 18)\n",
      "[ 2018-04-25 00:58:10,266][cascade_classifier.transform] [layer=0] look_indexs=[0], X_cur_test.shape=(3257, 18)\n",
      "[ 2018-04-25 00:58:11,743][cascade_classifier.fit_transform] X_groups_train.shape=[(6611, 18)],y_train.shape=(6611,),X_groups_test.shape=[(3257, 18)],y_test.shape=(3257,)\n",
      "[ 2018-04-25 00:58:11,746][cascade_classifier.fit_transform] group_dims=[18]\n",
      "[ 2018-04-25 00:58:11,747][cascade_classifier.fit_transform] group_starts=[0]\n",
      "[ 2018-04-25 00:58:11,749][cascade_classifier.fit_transform] group_ends=[18]\n",
      "[ 2018-04-25 00:58:11,751][cascade_classifier.fit_transform] X_train.shape=(6611, 18),X_test.shape=(3257, 18)\n",
      "[ 2018-04-25 00:58:11,753][cascade_classifier.fit_transform] [layer=0] look_indexs=[0], X_cur_train.shape=(6611, 18), X_cur_test.shape=(3257, 18)\n"
     ]
    },
    {
     "name": "stdout",
     "output_type": "stream",
     "text": [
      "('Test Accuracy of ExtraTrees = 99.969297 %', 8, 'fois')\n"
     ]
    },
    {
     "name": "stderr",
     "output_type": "stream",
     "text": [
      "[ 2018-04-25 00:58:12,393][kfold_wrapper.log_eval_metrics] Accuracy(layer_0 - estimator_0 - 10_folds.train_0.predict)=100.00%\n",
      "[ 2018-04-25 00:58:13,164][kfold_wrapper.log_eval_metrics] Accuracy(layer_0 - estimator_0 - 10_folds.train_1.predict)=99.85%\n",
      "[ 2018-04-25 00:58:13,940][kfold_wrapper.log_eval_metrics] Accuracy(layer_0 - estimator_0 - 10_folds.train_2.predict)=100.00%\n",
      "[ 2018-04-25 00:58:14,749][kfold_wrapper.log_eval_metrics] Accuracy(layer_0 - estimator_0 - 10_folds.train_3.predict)=100.00%\n",
      "[ 2018-04-25 00:58:15,486][kfold_wrapper.log_eval_metrics] Accuracy(layer_0 - estimator_0 - 10_folds.train_4.predict)=100.00%\n",
      "[ 2018-04-25 00:58:16,275][kfold_wrapper.log_eval_metrics] Accuracy(layer_0 - estimator_0 - 10_folds.train_5.predict)=100.00%\n",
      "[ 2018-04-25 00:58:17,072][kfold_wrapper.log_eval_metrics] Accuracy(layer_0 - estimator_0 - 10_folds.train_6.predict)=100.00%\n",
      "[ 2018-04-25 00:58:17,881][kfold_wrapper.log_eval_metrics] Accuracy(layer_0 - estimator_0 - 10_folds.train_7.predict)=100.00%\n",
      "[ 2018-04-25 00:58:18,708][kfold_wrapper.log_eval_metrics] Accuracy(layer_0 - estimator_0 - 10_folds.train_8.predict)=100.00%\n",
      "[ 2018-04-25 00:58:19,519][kfold_wrapper.log_eval_metrics] Accuracy(layer_0 - estimator_0 - 10_folds.train_9.predict)=100.00%\n",
      "[ 2018-04-25 00:58:19,678][kfold_wrapper.log_eval_metrics] Accuracy(layer_0 - estimator_0 - 10_folds.train_cv.predict)=99.98%\n",
      "[ 2018-04-25 00:58:19,680][kfold_wrapper.log_eval_metrics] Accuracy(layer_0 - estimator_0 - 10_folds.test.predict)=99.97%\n",
      "[ 2018-04-25 00:58:19,685][cascade_classifier.calc_accuracy] Accuracy(layer_0 - train.classifier_average)=99.98%\n",
      "[ 2018-04-25 00:58:19,686][cascade_classifier.calc_accuracy] Accuracy(layer_0 - test.classifier_average)=99.97%\n",
      "[ 2018-04-25 00:58:19,688][cascade_classifier.fit_transform] [Result][Reach Max Layer] opt_layer_num=1, accuracy_train=99.98%, accuracy_test=99.97%\n",
      "[ 2018-04-25 00:58:19,690][cascade_classifier.transform] X_groups_test.shape=[(3257, 18)]\n",
      "[ 2018-04-25 00:58:19,692][cascade_classifier.transform] group_dims=[18]\n",
      "[ 2018-04-25 00:58:19,694][cascade_classifier.transform] X_test.shape=(3257, 18)\n",
      "[ 2018-04-25 00:58:19,695][cascade_classifier.transform] [layer=0] look_indexs=[0], X_cur_test.shape=(3257, 18)\n",
      "[ 2018-04-25 00:58:21,155][cascade_classifier.fit_transform] X_groups_train.shape=[(6611, 18)],y_train.shape=(6611,),X_groups_test.shape=[(3257, 18)],y_test.shape=(3257,)\n",
      "[ 2018-04-25 00:58:21,157][cascade_classifier.fit_transform] group_dims=[18]\n",
      "[ 2018-04-25 00:58:21,158][cascade_classifier.fit_transform] group_starts=[0]\n",
      "[ 2018-04-25 00:58:21,159][cascade_classifier.fit_transform] group_ends=[18]\n",
      "[ 2018-04-25 00:58:21,160][cascade_classifier.fit_transform] X_train.shape=(6611, 18),X_test.shape=(3257, 18)\n",
      "[ 2018-04-25 00:58:21,162][cascade_classifier.fit_transform] [layer=0] look_indexs=[0], X_cur_train.shape=(6611, 18), X_cur_test.shape=(3257, 18)\n"
     ]
    },
    {
     "name": "stdout",
     "output_type": "stream",
     "text": [
      "('Test Accuracy of ExtraTrees = 99.969297 %', 9, 'fois')\n"
     ]
    },
    {
     "name": "stderr",
     "output_type": "stream",
     "text": [
      "[ 2018-04-25 00:58:21,778][kfold_wrapper.log_eval_metrics] Accuracy(layer_0 - estimator_0 - 10_folds.train_0.predict)=100.00%\n",
      "[ 2018-04-25 00:58:22,503][kfold_wrapper.log_eval_metrics] Accuracy(layer_0 - estimator_0 - 10_folds.train_1.predict)=99.85%\n",
      "[ 2018-04-25 00:58:23,311][kfold_wrapper.log_eval_metrics] Accuracy(layer_0 - estimator_0 - 10_folds.train_2.predict)=100.00%\n",
      "[ 2018-04-25 00:58:24,118][kfold_wrapper.log_eval_metrics] Accuracy(layer_0 - estimator_0 - 10_folds.train_3.predict)=100.00%\n",
      "[ 2018-04-25 00:58:24,889][kfold_wrapper.log_eval_metrics] Accuracy(layer_0 - estimator_0 - 10_folds.train_4.predict)=100.00%\n",
      "[ 2018-04-25 00:58:25,698][kfold_wrapper.log_eval_metrics] Accuracy(layer_0 - estimator_0 - 10_folds.train_5.predict)=100.00%\n",
      "[ 2018-04-25 00:58:26,486][kfold_wrapper.log_eval_metrics] Accuracy(layer_0 - estimator_0 - 10_folds.train_6.predict)=100.00%\n",
      "[ 2018-04-25 00:58:27,308][kfold_wrapper.log_eval_metrics] Accuracy(layer_0 - estimator_0 - 10_folds.train_7.predict)=100.00%\n",
      "[ 2018-04-25 00:58:28,175][kfold_wrapper.log_eval_metrics] Accuracy(layer_0 - estimator_0 - 10_folds.train_8.predict)=100.00%\n",
      "[ 2018-04-25 00:58:28,956][kfold_wrapper.log_eval_metrics] Accuracy(layer_0 - estimator_0 - 10_folds.train_9.predict)=100.00%\n",
      "[ 2018-04-25 00:58:29,112][kfold_wrapper.log_eval_metrics] Accuracy(layer_0 - estimator_0 - 10_folds.train_cv.predict)=99.98%\n",
      "[ 2018-04-25 00:58:29,114][kfold_wrapper.log_eval_metrics] Accuracy(layer_0 - estimator_0 - 10_folds.test.predict)=99.97%\n",
      "[ 2018-04-25 00:58:29,118][cascade_classifier.calc_accuracy] Accuracy(layer_0 - train.classifier_average)=99.98%\n",
      "[ 2018-04-25 00:58:29,120][cascade_classifier.calc_accuracy] Accuracy(layer_0 - test.classifier_average)=99.97%\n",
      "[ 2018-04-25 00:58:29,121][cascade_classifier.fit_transform] [Result][Reach Max Layer] opt_layer_num=1, accuracy_train=99.98%, accuracy_test=99.97%\n",
      "[ 2018-04-25 00:58:29,123][cascade_classifier.transform] X_groups_test.shape=[(3257, 18)]\n",
      "[ 2018-04-25 00:58:29,124][cascade_classifier.transform] group_dims=[18]\n",
      "[ 2018-04-25 00:58:29,126][cascade_classifier.transform] X_test.shape=(3257, 18)\n",
      "[ 2018-04-25 00:58:29,128][cascade_classifier.transform] [layer=0] look_indexs=[0], X_cur_test.shape=(3257, 18)\n",
      "[ 2018-04-25 00:58:30,611][cascade_classifier.fit_transform] X_groups_train.shape=[(6611, 18)],y_train.shape=(6611,),X_groups_test.shape=[(3257, 18)],y_test.shape=(3257,)\n",
      "[ 2018-04-25 00:58:30,613][cascade_classifier.fit_transform] group_dims=[18]\n",
      "[ 2018-04-25 00:58:30,614][cascade_classifier.fit_transform] group_starts=[0]\n",
      "[ 2018-04-25 00:58:30,616][cascade_classifier.fit_transform] group_ends=[18]\n",
      "[ 2018-04-25 00:58:30,618][cascade_classifier.fit_transform] X_train.shape=(6611, 18),X_test.shape=(3257, 18)\n",
      "[ 2018-04-25 00:58:30,620][cascade_classifier.fit_transform] [layer=0] look_indexs=[0], X_cur_train.shape=(6611, 18), X_cur_test.shape=(3257, 18)\n"
     ]
    },
    {
     "name": "stdout",
     "output_type": "stream",
     "text": [
      "('Test Accuracy of ExtraTrees = 99.969297 %', 10, 'fois')\n"
     ]
    },
    {
     "name": "stderr",
     "output_type": "stream",
     "text": [
      "[ 2018-04-25 00:58:31,253][kfold_wrapper.log_eval_metrics] Accuracy(layer_0 - estimator_0 - 10_folds.train_0.predict)=100.00%\n",
      "[ 2018-04-25 00:58:32,067][kfold_wrapper.log_eval_metrics] Accuracy(layer_0 - estimator_0 - 10_folds.train_1.predict)=99.85%\n",
      "[ 2018-04-25 00:58:32,885][kfold_wrapper.log_eval_metrics] Accuracy(layer_0 - estimator_0 - 10_folds.train_2.predict)=100.00%\n",
      "[ 2018-04-25 00:58:33,671][kfold_wrapper.log_eval_metrics] Accuracy(layer_0 - estimator_0 - 10_folds.train_3.predict)=100.00%\n",
      "[ 2018-04-25 00:58:34,468][kfold_wrapper.log_eval_metrics] Accuracy(layer_0 - estimator_0 - 10_folds.train_4.predict)=100.00%\n",
      "[ 2018-04-25 00:58:35,303][kfold_wrapper.log_eval_metrics] Accuracy(layer_0 - estimator_0 - 10_folds.train_5.predict)=100.00%\n",
      "[ 2018-04-25 00:58:36,084][kfold_wrapper.log_eval_metrics] Accuracy(layer_0 - estimator_0 - 10_folds.train_6.predict)=100.00%\n",
      "[ 2018-04-25 00:58:36,885][kfold_wrapper.log_eval_metrics] Accuracy(layer_0 - estimator_0 - 10_folds.train_7.predict)=100.00%\n",
      "[ 2018-04-25 00:58:37,655][kfold_wrapper.log_eval_metrics] Accuracy(layer_0 - estimator_0 - 10_folds.train_8.predict)=100.00%\n",
      "[ 2018-04-25 00:58:38,446][kfold_wrapper.log_eval_metrics] Accuracy(layer_0 - estimator_0 - 10_folds.train_9.predict)=100.00%\n",
      "[ 2018-04-25 00:58:38,584][kfold_wrapper.log_eval_metrics] Accuracy(layer_0 - estimator_0 - 10_folds.train_cv.predict)=99.98%\n",
      "[ 2018-04-25 00:58:38,586][kfold_wrapper.log_eval_metrics] Accuracy(layer_0 - estimator_0 - 10_folds.test.predict)=99.97%\n",
      "[ 2018-04-25 00:58:38,591][cascade_classifier.calc_accuracy] Accuracy(layer_0 - train.classifier_average)=99.98%\n",
      "[ 2018-04-25 00:58:38,593][cascade_classifier.calc_accuracy] Accuracy(layer_0 - test.classifier_average)=99.97%\n",
      "[ 2018-04-25 00:58:38,595][cascade_classifier.fit_transform] [Result][Reach Max Layer] opt_layer_num=1, accuracy_train=99.98%, accuracy_test=99.97%\n",
      "[ 2018-04-25 00:58:38,596][cascade_classifier.transform] X_groups_test.shape=[(3257, 18)]\n",
      "[ 2018-04-25 00:58:38,598][cascade_classifier.transform] group_dims=[18]\n",
      "[ 2018-04-25 00:58:38,600][cascade_classifier.transform] X_test.shape=(3257, 18)\n",
      "[ 2018-04-25 00:58:38,601][cascade_classifier.transform] [layer=0] look_indexs=[0], X_cur_test.shape=(3257, 18)\n",
      "[ 2018-04-25 00:58:40,162][cascade_classifier.fit_transform] X_groups_train.shape=[(6611, 18)],y_train.shape=(6611,),X_groups_test.shape=[(3257, 18)],y_test.shape=(3257,)\n",
      "[ 2018-04-25 00:58:40,164][cascade_classifier.fit_transform] group_dims=[18]\n",
      "[ 2018-04-25 00:58:40,166][cascade_classifier.fit_transform] group_starts=[0]\n",
      "[ 2018-04-25 00:58:40,167][cascade_classifier.fit_transform] group_ends=[18]\n",
      "[ 2018-04-25 00:58:40,169][cascade_classifier.fit_transform] X_train.shape=(6611, 18),X_test.shape=(3257, 18)\n",
      "[ 2018-04-25 00:58:40,171][cascade_classifier.fit_transform] [layer=0] look_indexs=[0], X_cur_train.shape=(6611, 18), X_cur_test.shape=(3257, 18)\n"
     ]
    },
    {
     "name": "stdout",
     "output_type": "stream",
     "text": [
      "('Test Accuracy of ExtraTrees = 99.969297 %', 11, 'fois')\n"
     ]
    },
    {
     "name": "stderr",
     "output_type": "stream",
     "text": [
      "[ 2018-04-25 00:58:40,800][kfold_wrapper.log_eval_metrics] Accuracy(layer_0 - estimator_0 - 10_folds.train_0.predict)=100.00%\n",
      "[ 2018-04-25 00:58:41,581][kfold_wrapper.log_eval_metrics] Accuracy(layer_0 - estimator_0 - 10_folds.train_1.predict)=99.85%\n",
      "[ 2018-04-25 00:58:42,368][kfold_wrapper.log_eval_metrics] Accuracy(layer_0 - estimator_0 - 10_folds.train_2.predict)=100.00%\n",
      "[ 2018-04-25 00:58:43,123][kfold_wrapper.log_eval_metrics] Accuracy(layer_0 - estimator_0 - 10_folds.train_3.predict)=100.00%\n",
      "[ 2018-04-25 00:58:43,916][kfold_wrapper.log_eval_metrics] Accuracy(layer_0 - estimator_0 - 10_folds.train_4.predict)=100.00%\n",
      "[ 2018-04-25 00:58:44,776][kfold_wrapper.log_eval_metrics] Accuracy(layer_0 - estimator_0 - 10_folds.train_5.predict)=100.00%\n",
      "[ 2018-04-25 00:58:45,591][kfold_wrapper.log_eval_metrics] Accuracy(layer_0 - estimator_0 - 10_folds.train_6.predict)=100.00%\n",
      "[ 2018-04-25 00:58:46,399][kfold_wrapper.log_eval_metrics] Accuracy(layer_0 - estimator_0 - 10_folds.train_7.predict)=100.00%\n",
      "[ 2018-04-25 00:58:47,201][kfold_wrapper.log_eval_metrics] Accuracy(layer_0 - estimator_0 - 10_folds.train_8.predict)=100.00%\n",
      "[ 2018-04-25 00:58:47,999][kfold_wrapper.log_eval_metrics] Accuracy(layer_0 - estimator_0 - 10_folds.train_9.predict)=100.00%\n",
      "[ 2018-04-25 00:58:48,154][kfold_wrapper.log_eval_metrics] Accuracy(layer_0 - estimator_0 - 10_folds.train_cv.predict)=99.98%\n",
      "[ 2018-04-25 00:58:48,156][kfold_wrapper.log_eval_metrics] Accuracy(layer_0 - estimator_0 - 10_folds.test.predict)=99.97%\n",
      "[ 2018-04-25 00:58:48,160][cascade_classifier.calc_accuracy] Accuracy(layer_0 - train.classifier_average)=99.98%\n",
      "[ 2018-04-25 00:58:48,162][cascade_classifier.calc_accuracy] Accuracy(layer_0 - test.classifier_average)=99.97%\n",
      "[ 2018-04-25 00:58:48,163][cascade_classifier.fit_transform] [Result][Reach Max Layer] opt_layer_num=1, accuracy_train=99.98%, accuracy_test=99.97%\n",
      "[ 2018-04-25 00:58:48,164][cascade_classifier.transform] X_groups_test.shape=[(3257, 18)]\n",
      "[ 2018-04-25 00:58:48,166][cascade_classifier.transform] group_dims=[18]\n",
      "[ 2018-04-25 00:58:48,167][cascade_classifier.transform] X_test.shape=(3257, 18)\n",
      "[ 2018-04-25 00:58:48,169][cascade_classifier.transform] [layer=0] look_indexs=[0], X_cur_test.shape=(3257, 18)\n",
      "[ 2018-04-25 00:58:49,762][cascade_classifier.fit_transform] X_groups_train.shape=[(6611, 18)],y_train.shape=(6611,),X_groups_test.shape=[(3257, 18)],y_test.shape=(3257,)\n",
      "[ 2018-04-25 00:58:49,764][cascade_classifier.fit_transform] group_dims=[18]\n",
      "[ 2018-04-25 00:58:49,766][cascade_classifier.fit_transform] group_starts=[0]\n",
      "[ 2018-04-25 00:58:49,767][cascade_classifier.fit_transform] group_ends=[18]\n",
      "[ 2018-04-25 00:58:49,769][cascade_classifier.fit_transform] X_train.shape=(6611, 18),X_test.shape=(3257, 18)\n",
      "[ 2018-04-25 00:58:49,771][cascade_classifier.fit_transform] [layer=0] look_indexs=[0], X_cur_train.shape=(6611, 18), X_cur_test.shape=(3257, 18)\n"
     ]
    },
    {
     "name": "stdout",
     "output_type": "stream",
     "text": [
      "('Test Accuracy of ExtraTrees = 99.969297 %', 12, 'fois')\n"
     ]
    },
    {
     "name": "stderr",
     "output_type": "stream",
     "text": [
      "[ 2018-04-25 00:58:50,374][kfold_wrapper.log_eval_metrics] Accuracy(layer_0 - estimator_0 - 10_folds.train_0.predict)=100.00%\n",
      "[ 2018-04-25 00:58:51,174][kfold_wrapper.log_eval_metrics] Accuracy(layer_0 - estimator_0 - 10_folds.train_1.predict)=99.85%\n",
      "[ 2018-04-25 00:58:51,954][kfold_wrapper.log_eval_metrics] Accuracy(layer_0 - estimator_0 - 10_folds.train_2.predict)=100.00%\n",
      "[ 2018-04-25 00:58:52,741][kfold_wrapper.log_eval_metrics] Accuracy(layer_0 - estimator_0 - 10_folds.train_3.predict)=100.00%\n",
      "[ 2018-04-25 00:58:53,549][kfold_wrapper.log_eval_metrics] Accuracy(layer_0 - estimator_0 - 10_folds.train_4.predict)=100.00%\n",
      "[ 2018-04-25 00:58:54,315][kfold_wrapper.log_eval_metrics] Accuracy(layer_0 - estimator_0 - 10_folds.train_5.predict)=100.00%\n",
      "[ 2018-04-25 00:58:55,066][kfold_wrapper.log_eval_metrics] Accuracy(layer_0 - estimator_0 - 10_folds.train_6.predict)=100.00%\n",
      "[ 2018-04-25 00:58:55,798][kfold_wrapper.log_eval_metrics] Accuracy(layer_0 - estimator_0 - 10_folds.train_7.predict)=100.00%\n",
      "[ 2018-04-25 00:58:56,579][kfold_wrapper.log_eval_metrics] Accuracy(layer_0 - estimator_0 - 10_folds.train_8.predict)=100.00%\n",
      "[ 2018-04-25 00:58:57,327][kfold_wrapper.log_eval_metrics] Accuracy(layer_0 - estimator_0 - 10_folds.train_9.predict)=100.00%\n",
      "[ 2018-04-25 00:58:57,482][kfold_wrapper.log_eval_metrics] Accuracy(layer_0 - estimator_0 - 10_folds.train_cv.predict)=99.98%\n",
      "[ 2018-04-25 00:58:57,484][kfold_wrapper.log_eval_metrics] Accuracy(layer_0 - estimator_0 - 10_folds.test.predict)=99.97%\n",
      "[ 2018-04-25 00:58:57,489][cascade_classifier.calc_accuracy] Accuracy(layer_0 - train.classifier_average)=99.98%\n",
      "[ 2018-04-25 00:58:57,491][cascade_classifier.calc_accuracy] Accuracy(layer_0 - test.classifier_average)=99.97%\n",
      "[ 2018-04-25 00:58:57,493][cascade_classifier.fit_transform] [Result][Reach Max Layer] opt_layer_num=1, accuracy_train=99.98%, accuracy_test=99.97%\n",
      "[ 2018-04-25 00:58:57,494][cascade_classifier.transform] X_groups_test.shape=[(3257, 18)]\n",
      "[ 2018-04-25 00:58:57,496][cascade_classifier.transform] group_dims=[18]\n",
      "[ 2018-04-25 00:58:57,498][cascade_classifier.transform] X_test.shape=(3257, 18)\n",
      "[ 2018-04-25 00:58:57,500][cascade_classifier.transform] [layer=0] look_indexs=[0], X_cur_test.shape=(3257, 18)\n",
      "[ 2018-04-25 00:58:58,948][cascade_classifier.fit_transform] X_groups_train.shape=[(6611, 18)],y_train.shape=(6611,),X_groups_test.shape=[(3257, 18)],y_test.shape=(3257,)\n",
      "[ 2018-04-25 00:58:58,950][cascade_classifier.fit_transform] group_dims=[18]\n",
      "[ 2018-04-25 00:58:58,952][cascade_classifier.fit_transform] group_starts=[0]\n",
      "[ 2018-04-25 00:58:58,954][cascade_classifier.fit_transform] group_ends=[18]\n",
      "[ 2018-04-25 00:58:58,955][cascade_classifier.fit_transform] X_train.shape=(6611, 18),X_test.shape=(3257, 18)\n",
      "[ 2018-04-25 00:58:58,958][cascade_classifier.fit_transform] [layer=0] look_indexs=[0], X_cur_train.shape=(6611, 18), X_cur_test.shape=(3257, 18)\n"
     ]
    },
    {
     "name": "stdout",
     "output_type": "stream",
     "text": [
      "('Test Accuracy of ExtraTrees = 99.969297 %', 13, 'fois')\n"
     ]
    },
    {
     "name": "stderr",
     "output_type": "stream",
     "text": [
      "[ 2018-04-25 00:58:59,601][kfold_wrapper.log_eval_metrics] Accuracy(layer_0 - estimator_0 - 10_folds.train_0.predict)=100.00%\n",
      "[ 2018-04-25 00:59:00,421][kfold_wrapper.log_eval_metrics] Accuracy(layer_0 - estimator_0 - 10_folds.train_1.predict)=99.85%\n",
      "[ 2018-04-25 00:59:01,256][kfold_wrapper.log_eval_metrics] Accuracy(layer_0 - estimator_0 - 10_folds.train_2.predict)=100.00%\n",
      "[ 2018-04-25 00:59:01,981][kfold_wrapper.log_eval_metrics] Accuracy(layer_0 - estimator_0 - 10_folds.train_3.predict)=100.00%\n",
      "[ 2018-04-25 00:59:02,849][kfold_wrapper.log_eval_metrics] Accuracy(layer_0 - estimator_0 - 10_folds.train_4.predict)=100.00%\n",
      "[ 2018-04-25 00:59:03,651][kfold_wrapper.log_eval_metrics] Accuracy(layer_0 - estimator_0 - 10_folds.train_5.predict)=100.00%\n",
      "[ 2018-04-25 00:59:04,408][kfold_wrapper.log_eval_metrics] Accuracy(layer_0 - estimator_0 - 10_folds.train_6.predict)=100.00%\n",
      "[ 2018-04-25 00:59:05,199][kfold_wrapper.log_eval_metrics] Accuracy(layer_0 - estimator_0 - 10_folds.train_7.predict)=100.00%\n",
      "[ 2018-04-25 00:59:06,012][kfold_wrapper.log_eval_metrics] Accuracy(layer_0 - estimator_0 - 10_folds.train_8.predict)=100.00%\n",
      "[ 2018-04-25 00:59:06,832][kfold_wrapper.log_eval_metrics] Accuracy(layer_0 - estimator_0 - 10_folds.train_9.predict)=100.00%\n",
      "[ 2018-04-25 00:59:06,973][kfold_wrapper.log_eval_metrics] Accuracy(layer_0 - estimator_0 - 10_folds.train_cv.predict)=99.98%\n",
      "[ 2018-04-25 00:59:06,975][kfold_wrapper.log_eval_metrics] Accuracy(layer_0 - estimator_0 - 10_folds.test.predict)=99.97%\n",
      "[ 2018-04-25 00:59:06,979][cascade_classifier.calc_accuracy] Accuracy(layer_0 - train.classifier_average)=99.98%\n",
      "[ 2018-04-25 00:59:06,981][cascade_classifier.calc_accuracy] Accuracy(layer_0 - test.classifier_average)=99.97%\n",
      "[ 2018-04-25 00:59:06,982][cascade_classifier.fit_transform] [Result][Reach Max Layer] opt_layer_num=1, accuracy_train=99.98%, accuracy_test=99.97%\n",
      "[ 2018-04-25 00:59:06,983][cascade_classifier.transform] X_groups_test.shape=[(3257, 18)]\n",
      "[ 2018-04-25 00:59:06,985][cascade_classifier.transform] group_dims=[18]\n",
      "[ 2018-04-25 00:59:06,986][cascade_classifier.transform] X_test.shape=(3257, 18)\n",
      "[ 2018-04-25 00:59:06,988][cascade_classifier.transform] [layer=0] look_indexs=[0], X_cur_test.shape=(3257, 18)\n",
      "[ 2018-04-25 00:59:08,537][cascade_classifier.fit_transform] X_groups_train.shape=[(6611, 18)],y_train.shape=(6611,),X_groups_test.shape=[(3257, 18)],y_test.shape=(3257,)\n",
      "[ 2018-04-25 00:59:08,539][cascade_classifier.fit_transform] group_dims=[18]\n",
      "[ 2018-04-25 00:59:08,541][cascade_classifier.fit_transform] group_starts=[0]\n",
      "[ 2018-04-25 00:59:08,543][cascade_classifier.fit_transform] group_ends=[18]\n",
      "[ 2018-04-25 00:59:08,545][cascade_classifier.fit_transform] X_train.shape=(6611, 18),X_test.shape=(3257, 18)\n",
      "[ 2018-04-25 00:59:08,547][cascade_classifier.fit_transform] [layer=0] look_indexs=[0], X_cur_train.shape=(6611, 18), X_cur_test.shape=(3257, 18)\n"
     ]
    },
    {
     "name": "stdout",
     "output_type": "stream",
     "text": [
      "('Test Accuracy of ExtraTrees = 99.969297 %', 14, 'fois')\n"
     ]
    },
    {
     "name": "stderr",
     "output_type": "stream",
     "text": [
      "[ 2018-04-25 00:59:09,199][kfold_wrapper.log_eval_metrics] Accuracy(layer_0 - estimator_0 - 10_folds.train_0.predict)=100.00%\n",
      "[ 2018-04-25 00:59:09,986][kfold_wrapper.log_eval_metrics] Accuracy(layer_0 - estimator_0 - 10_folds.train_1.predict)=99.85%\n",
      "[ 2018-04-25 00:59:10,728][kfold_wrapper.log_eval_metrics] Accuracy(layer_0 - estimator_0 - 10_folds.train_2.predict)=100.00%\n",
      "[ 2018-04-25 00:59:11,517][kfold_wrapper.log_eval_metrics] Accuracy(layer_0 - estimator_0 - 10_folds.train_3.predict)=100.00%\n",
      "[ 2018-04-25 00:59:12,299][kfold_wrapper.log_eval_metrics] Accuracy(layer_0 - estimator_0 - 10_folds.train_4.predict)=100.00%\n",
      "[ 2018-04-25 00:59:13,089][kfold_wrapper.log_eval_metrics] Accuracy(layer_0 - estimator_0 - 10_folds.train_5.predict)=100.00%\n",
      "[ 2018-04-25 00:59:13,866][kfold_wrapper.log_eval_metrics] Accuracy(layer_0 - estimator_0 - 10_folds.train_6.predict)=100.00%\n",
      "[ 2018-04-25 00:59:14,708][kfold_wrapper.log_eval_metrics] Accuracy(layer_0 - estimator_0 - 10_folds.train_7.predict)=100.00%\n",
      "[ 2018-04-25 00:59:15,453][kfold_wrapper.log_eval_metrics] Accuracy(layer_0 - estimator_0 - 10_folds.train_8.predict)=100.00%\n",
      "[ 2018-04-25 00:59:16,300][kfold_wrapper.log_eval_metrics] Accuracy(layer_0 - estimator_0 - 10_folds.train_9.predict)=100.00%\n",
      "[ 2018-04-25 00:59:16,453][kfold_wrapper.log_eval_metrics] Accuracy(layer_0 - estimator_0 - 10_folds.train_cv.predict)=99.98%\n",
      "[ 2018-04-25 00:59:16,455][kfold_wrapper.log_eval_metrics] Accuracy(layer_0 - estimator_0 - 10_folds.test.predict)=99.97%\n",
      "[ 2018-04-25 00:59:16,461][cascade_classifier.calc_accuracy] Accuracy(layer_0 - train.classifier_average)=99.98%\n",
      "[ 2018-04-25 00:59:16,464][cascade_classifier.calc_accuracy] Accuracy(layer_0 - test.classifier_average)=99.97%\n",
      "[ 2018-04-25 00:59:16,465][cascade_classifier.fit_transform] [Result][Reach Max Layer] opt_layer_num=1, accuracy_train=99.98%, accuracy_test=99.97%\n",
      "[ 2018-04-25 00:59:16,467][cascade_classifier.transform] X_groups_test.shape=[(3257, 18)]\n",
      "[ 2018-04-25 00:59:16,469][cascade_classifier.transform] group_dims=[18]\n",
      "[ 2018-04-25 00:59:16,471][cascade_classifier.transform] X_test.shape=(3257, 18)\n",
      "[ 2018-04-25 00:59:16,473][cascade_classifier.transform] [layer=0] look_indexs=[0], X_cur_test.shape=(3257, 18)\n",
      "[ 2018-04-25 00:59:17,930][cascade_classifier.fit_transform] X_groups_train.shape=[(6611, 18)],y_train.shape=(6611,),X_groups_test.shape=[(3257, 18)],y_test.shape=(3257,)\n",
      "[ 2018-04-25 00:59:17,932][cascade_classifier.fit_transform] group_dims=[18]\n",
      "[ 2018-04-25 00:59:17,934][cascade_classifier.fit_transform] group_starts=[0]\n",
      "[ 2018-04-25 00:59:17,935][cascade_classifier.fit_transform] group_ends=[18]\n",
      "[ 2018-04-25 00:59:17,937][cascade_classifier.fit_transform] X_train.shape=(6611, 18),X_test.shape=(3257, 18)\n",
      "[ 2018-04-25 00:59:17,939][cascade_classifier.fit_transform] [layer=0] look_indexs=[0], X_cur_train.shape=(6611, 18), X_cur_test.shape=(3257, 18)\n"
     ]
    },
    {
     "name": "stdout",
     "output_type": "stream",
     "text": [
      "('Test Accuracy of ExtraTrees = 99.969297 %', 15, 'fois')\n"
     ]
    },
    {
     "name": "stderr",
     "output_type": "stream",
     "text": [
      "[ 2018-04-25 00:59:18,695][kfold_wrapper.log_eval_metrics] Accuracy(layer_0 - estimator_0 - 10_folds.train_0.predict)=100.00%\n",
      "[ 2018-04-25 00:59:19,488][kfold_wrapper.log_eval_metrics] Accuracy(layer_0 - estimator_0 - 10_folds.train_1.predict)=99.85%\n",
      "[ 2018-04-25 00:59:20,291][kfold_wrapper.log_eval_metrics] Accuracy(layer_0 - estimator_0 - 10_folds.train_2.predict)=100.00%\n",
      "[ 2018-04-25 00:59:21,063][kfold_wrapper.log_eval_metrics] Accuracy(layer_0 - estimator_0 - 10_folds.train_3.predict)=100.00%\n",
      "[ 2018-04-25 00:59:21,840][kfold_wrapper.log_eval_metrics] Accuracy(layer_0 - estimator_0 - 10_folds.train_4.predict)=100.00%\n",
      "[ 2018-04-25 00:59:22,633][kfold_wrapper.log_eval_metrics] Accuracy(layer_0 - estimator_0 - 10_folds.train_5.predict)=100.00%\n",
      "[ 2018-04-25 00:59:23,454][kfold_wrapper.log_eval_metrics] Accuracy(layer_0 - estimator_0 - 10_folds.train_6.predict)=100.00%\n",
      "[ 2018-04-25 00:59:24,259][kfold_wrapper.log_eval_metrics] Accuracy(layer_0 - estimator_0 - 10_folds.train_7.predict)=100.00%\n",
      "[ 2018-04-25 00:59:25,017][kfold_wrapper.log_eval_metrics] Accuracy(layer_0 - estimator_0 - 10_folds.train_8.predict)=100.00%\n",
      "[ 2018-04-25 00:59:25,838][kfold_wrapper.log_eval_metrics] Accuracy(layer_0 - estimator_0 - 10_folds.train_9.predict)=100.00%\n",
      "[ 2018-04-25 00:59:25,986][kfold_wrapper.log_eval_metrics] Accuracy(layer_0 - estimator_0 - 10_folds.train_cv.predict)=99.98%\n",
      "[ 2018-04-25 00:59:25,988][kfold_wrapper.log_eval_metrics] Accuracy(layer_0 - estimator_0 - 10_folds.test.predict)=99.97%\n",
      "[ 2018-04-25 00:59:25,994][cascade_classifier.calc_accuracy] Accuracy(layer_0 - train.classifier_average)=99.98%\n",
      "[ 2018-04-25 00:59:25,996][cascade_classifier.calc_accuracy] Accuracy(layer_0 - test.classifier_average)=99.97%\n",
      "[ 2018-04-25 00:59:25,997][cascade_classifier.fit_transform] [Result][Reach Max Layer] opt_layer_num=1, accuracy_train=99.98%, accuracy_test=99.97%\n",
      "[ 2018-04-25 00:59:25,999][cascade_classifier.transform] X_groups_test.shape=[(3257, 18)]\n",
      "[ 2018-04-25 00:59:26,001][cascade_classifier.transform] group_dims=[18]\n",
      "[ 2018-04-25 00:59:26,002][cascade_classifier.transform] X_test.shape=(3257, 18)\n",
      "[ 2018-04-25 00:59:26,004][cascade_classifier.transform] [layer=0] look_indexs=[0], X_cur_test.shape=(3257, 18)\n",
      "[ 2018-04-25 00:59:27,486][cascade_classifier.fit_transform] X_groups_train.shape=[(6611, 18)],y_train.shape=(6611,),X_groups_test.shape=[(3257, 18)],y_test.shape=(3257,)\n",
      "[ 2018-04-25 00:59:27,489][cascade_classifier.fit_transform] group_dims=[18]\n",
      "[ 2018-04-25 00:59:27,490][cascade_classifier.fit_transform] group_starts=[0]\n",
      "[ 2018-04-25 00:59:27,492][cascade_classifier.fit_transform] group_ends=[18]\n",
      "[ 2018-04-25 00:59:27,493][cascade_classifier.fit_transform] X_train.shape=(6611, 18),X_test.shape=(3257, 18)\n",
      "[ 2018-04-25 00:59:27,495][cascade_classifier.fit_transform] [layer=0] look_indexs=[0], X_cur_train.shape=(6611, 18), X_cur_test.shape=(3257, 18)\n"
     ]
    },
    {
     "name": "stdout",
     "output_type": "stream",
     "text": [
      "('Test Accuracy of ExtraTrees = 99.969297 %', 16, 'fois')\n"
     ]
    },
    {
     "name": "stderr",
     "output_type": "stream",
     "text": [
      "[ 2018-04-25 00:59:28,142][kfold_wrapper.log_eval_metrics] Accuracy(layer_0 - estimator_0 - 10_folds.train_0.predict)=100.00%\n",
      "[ 2018-04-25 00:59:28,946][kfold_wrapper.log_eval_metrics] Accuracy(layer_0 - estimator_0 - 10_folds.train_1.predict)=99.85%\n",
      "[ 2018-04-25 00:59:29,722][kfold_wrapper.log_eval_metrics] Accuracy(layer_0 - estimator_0 - 10_folds.train_2.predict)=100.00%\n",
      "[ 2018-04-25 00:59:30,621][kfold_wrapper.log_eval_metrics] Accuracy(layer_0 - estimator_0 - 10_folds.train_3.predict)=100.00%\n",
      "[ 2018-04-25 00:59:31,445][kfold_wrapper.log_eval_metrics] Accuracy(layer_0 - estimator_0 - 10_folds.train_4.predict)=100.00%\n",
      "[ 2018-04-25 00:59:32,254][kfold_wrapper.log_eval_metrics] Accuracy(layer_0 - estimator_0 - 10_folds.train_5.predict)=100.00%\n",
      "[ 2018-04-25 00:59:33,069][kfold_wrapper.log_eval_metrics] Accuracy(layer_0 - estimator_0 - 10_folds.train_6.predict)=100.00%\n",
      "[ 2018-04-25 00:59:33,873][kfold_wrapper.log_eval_metrics] Accuracy(layer_0 - estimator_0 - 10_folds.train_7.predict)=100.00%\n",
      "[ 2018-04-25 00:59:34,655][kfold_wrapper.log_eval_metrics] Accuracy(layer_0 - estimator_0 - 10_folds.train_8.predict)=100.00%\n",
      "[ 2018-04-25 00:59:35,485][kfold_wrapper.log_eval_metrics] Accuracy(layer_0 - estimator_0 - 10_folds.train_9.predict)=100.00%\n",
      "[ 2018-04-25 00:59:35,636][kfold_wrapper.log_eval_metrics] Accuracy(layer_0 - estimator_0 - 10_folds.train_cv.predict)=99.98%\n",
      "[ 2018-04-25 00:59:35,638][kfold_wrapper.log_eval_metrics] Accuracy(layer_0 - estimator_0 - 10_folds.test.predict)=99.97%\n",
      "[ 2018-04-25 00:59:35,643][cascade_classifier.calc_accuracy] Accuracy(layer_0 - train.classifier_average)=99.98%\n",
      "[ 2018-04-25 00:59:35,645][cascade_classifier.calc_accuracy] Accuracy(layer_0 - test.classifier_average)=99.97%\n",
      "[ 2018-04-25 00:59:35,646][cascade_classifier.fit_transform] [Result][Reach Max Layer] opt_layer_num=1, accuracy_train=99.98%, accuracy_test=99.97%\n",
      "[ 2018-04-25 00:59:35,648][cascade_classifier.transform] X_groups_test.shape=[(3257, 18)]\n",
      "[ 2018-04-25 00:59:35,651][cascade_classifier.transform] group_dims=[18]\n",
      "[ 2018-04-25 00:59:35,652][cascade_classifier.transform] X_test.shape=(3257, 18)\n",
      "[ 2018-04-25 00:59:35,654][cascade_classifier.transform] [layer=0] look_indexs=[0], X_cur_test.shape=(3257, 18)\n",
      "[ 2018-04-25 00:59:37,024][cascade_classifier.fit_transform] X_groups_train.shape=[(6611, 18)],y_train.shape=(6611,),X_groups_test.shape=[(3257, 18)],y_test.shape=(3257,)\n",
      "[ 2018-04-25 00:59:37,027][cascade_classifier.fit_transform] group_dims=[18]\n",
      "[ 2018-04-25 00:59:37,028][cascade_classifier.fit_transform] group_starts=[0]\n",
      "[ 2018-04-25 00:59:37,030][cascade_classifier.fit_transform] group_ends=[18]\n",
      "[ 2018-04-25 00:59:37,032][cascade_classifier.fit_transform] X_train.shape=(6611, 18),X_test.shape=(3257, 18)\n",
      "[ 2018-04-25 00:59:37,034][cascade_classifier.fit_transform] [layer=0] look_indexs=[0], X_cur_train.shape=(6611, 18), X_cur_test.shape=(3257, 18)\n"
     ]
    },
    {
     "name": "stdout",
     "output_type": "stream",
     "text": [
      "('Test Accuracy of ExtraTrees = 99.969297 %', 17, 'fois')\n"
     ]
    },
    {
     "name": "stderr",
     "output_type": "stream",
     "text": [
      "[ 2018-04-25 00:59:37,666][kfold_wrapper.log_eval_metrics] Accuracy(layer_0 - estimator_0 - 10_folds.train_0.predict)=100.00%\n",
      "[ 2018-04-25 00:59:38,440][kfold_wrapper.log_eval_metrics] Accuracy(layer_0 - estimator_0 - 10_folds.train_1.predict)=99.85%\n",
      "[ 2018-04-25 00:59:39,214][kfold_wrapper.log_eval_metrics] Accuracy(layer_0 - estimator_0 - 10_folds.train_2.predict)=100.00%\n",
      "[ 2018-04-25 00:59:39,978][kfold_wrapper.log_eval_metrics] Accuracy(layer_0 - estimator_0 - 10_folds.train_3.predict)=100.00%\n",
      "[ 2018-04-25 00:59:40,776][kfold_wrapper.log_eval_metrics] Accuracy(layer_0 - estimator_0 - 10_folds.train_4.predict)=100.00%\n",
      "[ 2018-04-25 00:59:41,566][kfold_wrapper.log_eval_metrics] Accuracy(layer_0 - estimator_0 - 10_folds.train_5.predict)=100.00%\n",
      "[ 2018-04-25 00:59:42,367][kfold_wrapper.log_eval_metrics] Accuracy(layer_0 - estimator_0 - 10_folds.train_6.predict)=100.00%\n",
      "[ 2018-04-25 00:59:43,096][kfold_wrapper.log_eval_metrics] Accuracy(layer_0 - estimator_0 - 10_folds.train_7.predict)=100.00%\n",
      "[ 2018-04-25 00:59:43,903][kfold_wrapper.log_eval_metrics] Accuracy(layer_0 - estimator_0 - 10_folds.train_8.predict)=100.00%\n",
      "[ 2018-04-25 00:59:44,645][kfold_wrapper.log_eval_metrics] Accuracy(layer_0 - estimator_0 - 10_folds.train_9.predict)=100.00%\n",
      "[ 2018-04-25 00:59:44,794][kfold_wrapper.log_eval_metrics] Accuracy(layer_0 - estimator_0 - 10_folds.train_cv.predict)=99.98%\n",
      "[ 2018-04-25 00:59:44,796][kfold_wrapper.log_eval_metrics] Accuracy(layer_0 - estimator_0 - 10_folds.test.predict)=99.97%\n",
      "[ 2018-04-25 00:59:44,800][cascade_classifier.calc_accuracy] Accuracy(layer_0 - train.classifier_average)=99.98%\n",
      "[ 2018-04-25 00:59:44,801][cascade_classifier.calc_accuracy] Accuracy(layer_0 - test.classifier_average)=99.97%\n",
      "[ 2018-04-25 00:59:44,803][cascade_classifier.fit_transform] [Result][Reach Max Layer] opt_layer_num=1, accuracy_train=99.98%, accuracy_test=99.97%\n",
      "[ 2018-04-25 00:59:44,804][cascade_classifier.transform] X_groups_test.shape=[(3257, 18)]\n",
      "[ 2018-04-25 00:59:44,806][cascade_classifier.transform] group_dims=[18]\n",
      "[ 2018-04-25 00:59:44,807][cascade_classifier.transform] X_test.shape=(3257, 18)\n",
      "[ 2018-04-25 00:59:44,809][cascade_classifier.transform] [layer=0] look_indexs=[0], X_cur_test.shape=(3257, 18)\n",
      "[ 2018-04-25 00:59:46,193][cascade_classifier.fit_transform] X_groups_train.shape=[(6611, 18)],y_train.shape=(6611,),X_groups_test.shape=[(3257, 18)],y_test.shape=(3257,)\n",
      "[ 2018-04-25 00:59:46,195][cascade_classifier.fit_transform] group_dims=[18]\n",
      "[ 2018-04-25 00:59:46,197][cascade_classifier.fit_transform] group_starts=[0]\n",
      "[ 2018-04-25 00:59:46,198][cascade_classifier.fit_transform] group_ends=[18]\n",
      "[ 2018-04-25 00:59:46,200][cascade_classifier.fit_transform] X_train.shape=(6611, 18),X_test.shape=(3257, 18)\n",
      "[ 2018-04-25 00:59:46,202][cascade_classifier.fit_transform] [layer=0] look_indexs=[0], X_cur_train.shape=(6611, 18), X_cur_test.shape=(3257, 18)\n"
     ]
    },
    {
     "name": "stdout",
     "output_type": "stream",
     "text": [
      "('Test Accuracy of ExtraTrees = 99.969297 %', 18, 'fois')\n"
     ]
    },
    {
     "name": "stderr",
     "output_type": "stream",
     "text": [
      "[ 2018-04-25 00:59:46,838][kfold_wrapper.log_eval_metrics] Accuracy(layer_0 - estimator_0 - 10_folds.train_0.predict)=100.00%\n",
      "[ 2018-04-25 00:59:47,569][kfold_wrapper.log_eval_metrics] Accuracy(layer_0 - estimator_0 - 10_folds.train_1.predict)=99.85%\n",
      "[ 2018-04-25 00:59:48,449][kfold_wrapper.log_eval_metrics] Accuracy(layer_0 - estimator_0 - 10_folds.train_2.predict)=100.00%\n",
      "[ 2018-04-25 00:59:49,221][kfold_wrapper.log_eval_metrics] Accuracy(layer_0 - estimator_0 - 10_folds.train_3.predict)=100.00%\n",
      "[ 2018-04-25 00:59:49,972][kfold_wrapper.log_eval_metrics] Accuracy(layer_0 - estimator_0 - 10_folds.train_4.predict)=100.00%\n",
      "[ 2018-04-25 00:59:50,717][kfold_wrapper.log_eval_metrics] Accuracy(layer_0 - estimator_0 - 10_folds.train_5.predict)=100.00%\n",
      "[ 2018-04-25 00:59:51,453][kfold_wrapper.log_eval_metrics] Accuracy(layer_0 - estimator_0 - 10_folds.train_6.predict)=100.00%\n",
      "[ 2018-04-25 00:59:52,223][kfold_wrapper.log_eval_metrics] Accuracy(layer_0 - estimator_0 - 10_folds.train_7.predict)=100.00%\n",
      "[ 2018-04-25 00:59:53,003][kfold_wrapper.log_eval_metrics] Accuracy(layer_0 - estimator_0 - 10_folds.train_8.predict)=100.00%\n",
      "[ 2018-04-25 00:59:53,763][kfold_wrapper.log_eval_metrics] Accuracy(layer_0 - estimator_0 - 10_folds.train_9.predict)=100.00%\n",
      "[ 2018-04-25 00:59:53,915][kfold_wrapper.log_eval_metrics] Accuracy(layer_0 - estimator_0 - 10_folds.train_cv.predict)=99.98%\n",
      "[ 2018-04-25 00:59:53,917][kfold_wrapper.log_eval_metrics] Accuracy(layer_0 - estimator_0 - 10_folds.test.predict)=99.97%\n",
      "[ 2018-04-25 00:59:53,923][cascade_classifier.calc_accuracy] Accuracy(layer_0 - train.classifier_average)=99.98%\n",
      "[ 2018-04-25 00:59:53,925][cascade_classifier.calc_accuracy] Accuracy(layer_0 - test.classifier_average)=99.97%\n",
      "[ 2018-04-25 00:59:53,926][cascade_classifier.fit_transform] [Result][Reach Max Layer] opt_layer_num=1, accuracy_train=99.98%, accuracy_test=99.97%\n",
      "[ 2018-04-25 00:59:53,928][cascade_classifier.transform] X_groups_test.shape=[(3257, 18)]\n",
      "[ 2018-04-25 00:59:53,930][cascade_classifier.transform] group_dims=[18]\n",
      "[ 2018-04-25 00:59:53,932][cascade_classifier.transform] X_test.shape=(3257, 18)\n",
      "[ 2018-04-25 00:59:53,933][cascade_classifier.transform] [layer=0] look_indexs=[0], X_cur_test.shape=(3257, 18)\n"
     ]
    },
    {
     "name": "stdout",
     "output_type": "stream",
     "text": [
      "('Test Accuracy of ExtraTrees = 99.969297 %', 19, 'fois')\n"
     ]
    }
   ],
   "source": [
    "# Deep\n",
    "for i in range (20):\n",
    "    X_train,X_test=update(X_train,X_test)\n",
    "    X_test_enc, X_train_enc=newdata(X_test_enc, X_train_enc)\n",
    "\n",
    "    X_train=X_train_enc\n",
    "    X_test=X_test_enc \n",
    "    X_train_enc, X_test_enc = gc.fit_transform(X_train, y_train, X_test=X_test, y_test=y_test)\n",
    "    affiche()"
   ]
  },
  {
   "cell_type": "code",
   "execution_count": null,
   "metadata": {
    "collapsed": true
   },
   "outputs": [],
   "source": []
  },
  {
   "cell_type": "markdown",
   "metadata": {
    "collapsed": true
   },
   "source": [
    "# ('Test Accuracy of ExtraTrees = 99.969297 %', 0, 'fois')"
   ]
  },
  {
   "cell_type": "code",
   "execution_count": null,
   "metadata": {
    "collapsed": true
   },
   "outputs": [],
   "source": []
  }
 ],
 "metadata": {
  "kernelspec": {
   "display_name": "Python 2",
   "language": "python",
   "name": "python2"
  },
  "language_info": {
   "codemirror_mode": {
    "name": "ipython",
    "version": 2
   },
   "file_extension": ".py",
   "mimetype": "text/x-python",
   "name": "python",
   "nbconvert_exporter": "python",
   "pygments_lexer": "ipython2",
   "version": "2.7.14"
  }
 },
 "nbformat": 4,
 "nbformat_minor": 2
}
