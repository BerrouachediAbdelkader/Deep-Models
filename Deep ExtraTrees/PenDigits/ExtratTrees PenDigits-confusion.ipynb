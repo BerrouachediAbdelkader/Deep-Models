{
 "cells": [
  {
   "cell_type": "code",
   "execution_count": 1,
   "metadata": {
    "collapsed": true
   },
   "outputs": [],
   "source": [
    "# imports \n",
    "import numpy as np\n",
    "from math import sqrt \n",
    "from pprint import pprint\n",
    "from numpy import array\n",
    "from scipy.io import arff\n",
    "import pandas as pd"
   ]
  },
  {
   "cell_type": "code",
   "execution_count": 2,
   "metadata": {},
   "outputs": [
    {
     "data": {
      "text/html": [
       "<div>\n",
       "<style>\n",
       "    .dataframe thead tr:only-child th {\n",
       "        text-align: right;\n",
       "    }\n",
       "\n",
       "    .dataframe thead th {\n",
       "        text-align: left;\n",
       "    }\n",
       "\n",
       "    .dataframe tbody tr th {\n",
       "        vertical-align: top;\n",
       "    }\n",
       "</style>\n",
       "<table border=\"1\" class=\"dataframe\">\n",
       "  <thead>\n",
       "    <tr style=\"text-align: right;\">\n",
       "      <th></th>\n",
       "      <th>att1</th>\n",
       "      <th>att2</th>\n",
       "      <th>att3</th>\n",
       "      <th>att4</th>\n",
       "      <th>att5</th>\n",
       "      <th>att6</th>\n",
       "      <th>att7</th>\n",
       "      <th>att8</th>\n",
       "      <th>att9</th>\n",
       "      <th>att10</th>\n",
       "      <th>att11</th>\n",
       "      <th>att12</th>\n",
       "      <th>att13</th>\n",
       "      <th>att14</th>\n",
       "      <th>att15</th>\n",
       "      <th>att16</th>\n",
       "      <th>outlier</th>\n",
       "    </tr>\n",
       "  </thead>\n",
       "  <tbody>\n",
       "    <tr>\n",
       "      <th>0</th>\n",
       "      <td>48.0</td>\n",
       "      <td>100.0</td>\n",
       "      <td>20.0</td>\n",
       "      <td>80.0</td>\n",
       "      <td>0.0</td>\n",
       "      <td>51.0</td>\n",
       "      <td>55.0</td>\n",
       "      <td>43.0</td>\n",
       "      <td>100.0</td>\n",
       "      <td>56.0</td>\n",
       "      <td>90.0</td>\n",
       "      <td>62.0</td>\n",
       "      <td>86.0</td>\n",
       "      <td>30.0</td>\n",
       "      <td>73.0</td>\n",
       "      <td>0.0</td>\n",
       "      <td>1</td>\n",
       "    </tr>\n",
       "    <tr>\n",
       "      <th>1</th>\n",
       "      <td>38.0</td>\n",
       "      <td>100.0</td>\n",
       "      <td>4.0</td>\n",
       "      <td>85.0</td>\n",
       "      <td>0.0</td>\n",
       "      <td>53.0</td>\n",
       "      <td>58.0</td>\n",
       "      <td>46.0</td>\n",
       "      <td>100.0</td>\n",
       "      <td>52.0</td>\n",
       "      <td>88.0</td>\n",
       "      <td>64.0</td>\n",
       "      <td>78.0</td>\n",
       "      <td>32.0</td>\n",
       "      <td>73.0</td>\n",
       "      <td>0.0</td>\n",
       "      <td>1</td>\n",
       "    </tr>\n",
       "    <tr>\n",
       "      <th>2</th>\n",
       "      <td>53.0</td>\n",
       "      <td>100.0</td>\n",
       "      <td>25.0</td>\n",
       "      <td>70.0</td>\n",
       "      <td>0.0</td>\n",
       "      <td>39.0</td>\n",
       "      <td>50.0</td>\n",
       "      <td>34.0</td>\n",
       "      <td>100.0</td>\n",
       "      <td>42.0</td>\n",
       "      <td>85.0</td>\n",
       "      <td>64.0</td>\n",
       "      <td>77.0</td>\n",
       "      <td>32.0</td>\n",
       "      <td>80.0</td>\n",
       "      <td>0.0</td>\n",
       "      <td>1</td>\n",
       "    </tr>\n",
       "    <tr>\n",
       "      <th>3</th>\n",
       "      <td>12.0</td>\n",
       "      <td>100.0</td>\n",
       "      <td>0.0</td>\n",
       "      <td>71.0</td>\n",
       "      <td>25.0</td>\n",
       "      <td>43.0</td>\n",
       "      <td>86.0</td>\n",
       "      <td>44.0</td>\n",
       "      <td>100.0</td>\n",
       "      <td>75.0</td>\n",
       "      <td>90.0</td>\n",
       "      <td>52.0</td>\n",
       "      <td>90.0</td>\n",
       "      <td>20.0</td>\n",
       "      <td>90.0</td>\n",
       "      <td>0.0</td>\n",
       "      <td>1</td>\n",
       "    </tr>\n",
       "    <tr>\n",
       "      <th>4</th>\n",
       "      <td>26.0</td>\n",
       "      <td>100.0</td>\n",
       "      <td>0.0</td>\n",
       "      <td>83.0</td>\n",
       "      <td>23.0</td>\n",
       "      <td>51.0</td>\n",
       "      <td>83.0</td>\n",
       "      <td>42.0</td>\n",
       "      <td>100.0</td>\n",
       "      <td>55.0</td>\n",
       "      <td>79.0</td>\n",
       "      <td>84.0</td>\n",
       "      <td>56.0</td>\n",
       "      <td>42.0</td>\n",
       "      <td>37.0</td>\n",
       "      <td>0.0</td>\n",
       "      <td>1</td>\n",
       "    </tr>\n",
       "  </tbody>\n",
       "</table>\n",
       "</div>"
      ],
      "text/plain": [
       "   att1   att2  att3  att4  att5  att6  att7  att8   att9  att10  att11  \\\n",
       "0  48.0  100.0  20.0  80.0   0.0  51.0  55.0  43.0  100.0   56.0   90.0   \n",
       "1  38.0  100.0   4.0  85.0   0.0  53.0  58.0  46.0  100.0   52.0   88.0   \n",
       "2  53.0  100.0  25.0  70.0   0.0  39.0  50.0  34.0  100.0   42.0   85.0   \n",
       "3  12.0  100.0   0.0  71.0  25.0  43.0  86.0  44.0  100.0   75.0   90.0   \n",
       "4  26.0  100.0   0.0  83.0  23.0  51.0  83.0  42.0  100.0   55.0   79.0   \n",
       "\n",
       "   att12  att13  att14  att15  att16  outlier  \n",
       "0   62.0   86.0   30.0   73.0    0.0        1  \n",
       "1   64.0   78.0   32.0   73.0    0.0        1  \n",
       "2   64.0   77.0   32.0   80.0    0.0        1  \n",
       "3   52.0   90.0   20.0   90.0    0.0        1  \n",
       "4   84.0   56.0   42.0   37.0    0.0        1  "
      ]
     },
     "execution_count": 2,
     "metadata": {},
     "output_type": "execute_result"
    }
   ],
   "source": [
    "# load data\n",
    "df=pd.read_csv('PenDigits_withoutdupl_norm_v01.csv')  \n",
    "\n",
    "del df['id']\n",
    "del df['Unnamed: 0']\n",
    "df['outlier'] = df.outlier.apply(lambda label: 1 if label == \"'yes'\" else 0)\n",
    "\n",
    "df.head()"
   ]
  },
  {
   "cell_type": "code",
   "execution_count": 3,
   "metadata": {},
   "outputs": [
    {
     "data": {
      "text/plain": [
       "(9868, 17)"
      ]
     },
     "execution_count": 3,
     "metadata": {},
     "output_type": "execute_result"
    }
   ],
   "source": [
    "df.shape"
   ]
  },
  {
   "cell_type": "code",
   "execution_count": 4,
   "metadata": {
    "collapsed": true
   },
   "outputs": [],
   "source": [
    "# data to values\n",
    "df = df.values"
   ]
  },
  {
   "cell_type": "code",
   "execution_count": 5,
   "metadata": {
    "collapsed": true
   },
   "outputs": [],
   "source": [
    "# Extratrees Deep\n",
    "import argparse\n",
    "import sys\n",
    "import pickle\n",
    "from sklearn.metrics import accuracy_score\n",
    "sys.path.insert(0, \"lib\")\n",
    "from gcforest.gcforest import GCForest\n",
    "from gcforest.utils.config_utils import load_json\n",
    "config = load_json(\"./examples/Pendigits.json\")\n",
    "gc = GCForest(config)"
   ]
  },
  {
   "cell_type": "code",
   "execution_count": 6,
   "metadata": {},
   "outputs": [
    {
     "name": "stderr",
     "output_type": "stream",
     "text": [
      "/home/kader/anaconda3/envs/py27/lib/python2.7/site-packages/sklearn/cross_validation.py:41: DeprecationWarning: This module was deprecated in version 0.18 in favor of the model_selection module into which all the refactored classes and functions are moved. Also note that the interface of the new CV iterators are different from that of this module. This module will be removed in 0.20.\n",
      "  \"This module will be removed in 0.20.\", DeprecationWarning)\n"
     ]
    }
   ],
   "source": [
    "# train test \n",
    "from sklearn.cross_validation import train_test_split\n",
    "y = df[:,16]\n",
    "X = df[:,0:16]\n",
    "\n",
    "X_train,X_test,y_train,y_test = train_test_split(X, y, test_size=0.33, random_state=42)"
   ]
  },
  {
   "cell_type": "code",
   "execution_count": 7,
   "metadata": {},
   "outputs": [
    {
     "data": {
      "text/plain": [
       "2"
      ]
     },
     "execution_count": 7,
     "metadata": {},
     "output_type": "execute_result"
    }
   ],
   "source": [
    "# number of class\n",
    "len(np.unique(y_train))"
   ]
  },
  {
   "cell_type": "code",
   "execution_count": 8,
   "metadata": {},
   "outputs": [
    {
     "name": "stderr",
     "output_type": "stream",
     "text": [
      "[ 2018-05-15 11:25:16,829][cascade_classifier.fit_transform] X_groups_train.shape=[(6611, 16)],y_train.shape=(6611,),X_groups_test.shape=[(3257, 16)],y_test.shape=(3257,)\n",
      "[ 2018-05-15 11:25:16,833][cascade_classifier.fit_transform] group_dims=[16]\n",
      "[ 2018-05-15 11:25:16,834][cascade_classifier.fit_transform] group_starts=[0]\n",
      "[ 2018-05-15 11:25:16,836][cascade_classifier.fit_transform] group_ends=[16]\n",
      "[ 2018-05-15 11:25:16,837][cascade_classifier.fit_transform] X_train.shape=(6611, 16),X_test.shape=(3257, 16)\n",
      "[ 2018-05-15 11:25:16,840][cascade_classifier.fit_transform] [layer=0] look_indexs=[0], X_cur_train.shape=(6611, 16), X_cur_test.shape=(3257, 16)\n",
      "[ 2018-05-15 11:25:18,354][kfold_wrapper.log_eval_metrics] Accuracy(layer_0 - estimator_0 - 10_folds.train_0.predict)=100.00%\n",
      "[ 2018-05-15 11:25:19,206][kfold_wrapper.log_eval_metrics] Accuracy(layer_0 - estimator_0 - 10_folds.train_1.predict)=99.85%\n",
      "[ 2018-05-15 11:25:19,934][kfold_wrapper.log_eval_metrics] Accuracy(layer_0 - estimator_0 - 10_folds.train_2.predict)=99.85%\n",
      "[ 2018-05-15 11:25:20,638][kfold_wrapper.log_eval_metrics] Accuracy(layer_0 - estimator_0 - 10_folds.train_3.predict)=100.00%\n",
      "[ 2018-05-15 11:25:21,343][kfold_wrapper.log_eval_metrics] Accuracy(layer_0 - estimator_0 - 10_folds.train_4.predict)=100.00%\n",
      "[ 2018-05-15 11:25:22,060][kfold_wrapper.log_eval_metrics] Accuracy(layer_0 - estimator_0 - 10_folds.train_5.predict)=99.85%\n",
      "[ 2018-05-15 11:25:22,792][kfold_wrapper.log_eval_metrics] Accuracy(layer_0 - estimator_0 - 10_folds.train_6.predict)=99.85%\n",
      "[ 2018-05-15 11:25:23,533][kfold_wrapper.log_eval_metrics] Accuracy(layer_0 - estimator_0 - 10_folds.train_7.predict)=100.00%\n",
      "[ 2018-05-15 11:25:24,234][kfold_wrapper.log_eval_metrics] Accuracy(layer_0 - estimator_0 - 10_folds.train_8.predict)=100.00%\n",
      "[ 2018-05-15 11:25:24,942][kfold_wrapper.log_eval_metrics] Accuracy(layer_0 - estimator_0 - 10_folds.train_9.predict)=99.85%\n",
      "[ 2018-05-15 11:25:25,064][kfold_wrapper.log_eval_metrics] Accuracy(layer_0 - estimator_0 - 10_folds.train_cv.predict)=99.92%\n",
      "[ 2018-05-15 11:25:25,068][kfold_wrapper.log_eval_metrics] Accuracy(layer_0 - estimator_0 - 10_folds.test.predict)=99.88%\n",
      "[ 2018-05-15 11:25:25,073][cascade_classifier.calc_accuracy] Accuracy(layer_0 - train.classifier_average)=99.92%\n",
      "[ 2018-05-15 11:25:25,075][cascade_classifier.calc_accuracy] Accuracy(layer_0 - test.classifier_average)=99.88%\n",
      "[ 2018-05-15 11:25:25,076][cascade_classifier.fit_transform] [Result][Reach Max Layer] opt_layer_num=1, accuracy_train=99.92%, accuracy_test=99.88%\n"
     ]
    }
   ],
   "source": [
    "           # X_enc is the concatenated predict_proba result of ExtraTrees\n",
    "\n",
    "X_train_enc, X_test_enc = gc.fit_transform(X_train, y_train, X_test=X_test, y_test=y_test)\n",
    "   "
   ]
  },
  {
   "cell_type": "code",
   "execution_count": 9,
   "metadata": {},
   "outputs": [
    {
     "name": "stderr",
     "output_type": "stream",
     "text": [
      "[ 2018-05-15 11:25:25,088][cascade_classifier.transform] X_groups_test.shape=[(3257, 16)]\n",
      "[ 2018-05-15 11:25:25,090][cascade_classifier.transform] group_dims=[16]\n",
      "[ 2018-05-15 11:25:25,092][cascade_classifier.transform] X_test.shape=(3257, 16)\n",
      "[ 2018-05-15 11:25:25,093][cascade_classifier.transform] [layer=0] look_indexs=[0], X_cur_test.shape=(3257, 16)\n"
     ]
    },
    {
     "name": "stdout",
     "output_type": "stream",
     "text": [
      "Test Accuracy of ExtraTrees = 99.877188 %\n"
     ]
    }
   ],
   "source": [
    "# predict\n",
    "y_pred = gc.predict(X_test)\n",
    "acc = accuracy_score(y_test, y_pred)\n",
    "print(\"Test Accuracy of ExtraTrees = {:.6f} %\".format(acc * 100))"
   ]
  },
  {
   "cell_type": "code",
   "execution_count": 10,
   "metadata": {},
   "outputs": [
    {
     "name": "stdout",
     "output_type": "stream",
     "text": [
      "[[3249    0]\n",
      " [   4    4]]\n",
      "\n",
      "\n",
      "             precision    recall  f1-score   support\n",
      "\n",
      "        0.0       1.00      1.00      1.00      3249\n",
      "        1.0       1.00      0.50      0.67         8\n",
      "\n",
      "avg / total       1.00      1.00      1.00      3257\n",
      "\n"
     ]
    }
   ],
   "source": [
    "# Matrix de confusion\n",
    "from sklearn.metrics import classification_report, confusion_matrix\n",
    "print(confusion_matrix(y_test,y_pred))\n",
    "print('\\n')\n",
    "print(classification_report(y_test,y_pred))"
   ]
  },
  {
   "cell_type": "code",
   "execution_count": 11,
   "metadata": {},
   "outputs": [
    {
     "name": "stderr",
     "output_type": "stream",
     "text": [
      "[ 2018-05-15 11:25:26,575][cascade_classifier.transform] X_groups_test.shape=[(3257, 16)]\n",
      "[ 2018-05-15 11:25:26,576][cascade_classifier.transform] group_dims=[16]\n",
      "[ 2018-05-15 11:25:26,578][cascade_classifier.transform] X_test.shape=(3257, 16)\n",
      "[ 2018-05-15 11:25:26,580][cascade_classifier.transform] [layer=0] look_indexs=[0], X_cur_test.shape=(3257, 16)\n"
     ]
    }
   ],
   "source": [
    "# Make data + estimators\n",
    "X_test_enc = gc.transform(X_test)\n",
    "X_train_enc = X_train_enc.reshape((X_train_enc.shape[0], -1))\n",
    "X_test_enc = X_test_enc.reshape((X_test_enc.shape[0], -1))\n",
    "X_train_origin = X_train.reshape((X_train.shape[0], -1))\n",
    "X_test_origin = X_test.reshape((X_test.shape[0], -1))\n",
    "X_train_enc = np.hstack((X_train_origin, X_train_enc))\n",
    "X_test_enc = np.hstack((X_test_origin, X_test_enc))"
   ]
  },
  {
   "cell_type": "code",
   "execution_count": 12,
   "metadata": {},
   "outputs": [
    {
     "name": "stderr",
     "output_type": "stream",
     "text": [
      "[ 2018-05-15 11:25:27,752][cascade_classifier.fit_transform] X_groups_train.shape=[(6611, 18)],y_train.shape=(6611,),X_groups_test.shape=[(3257, 18)],y_test.shape=(3257,)\n",
      "[ 2018-05-15 11:25:27,755][cascade_classifier.fit_transform] group_dims=[18]\n",
      "[ 2018-05-15 11:25:27,756][cascade_classifier.fit_transform] group_starts=[0]\n",
      "[ 2018-05-15 11:25:27,758][cascade_classifier.fit_transform] group_ends=[18]\n",
      "[ 2018-05-15 11:25:27,765][cascade_classifier.fit_transform] X_train.shape=(6611, 18),X_test.shape=(3257, 18)\n",
      "[ 2018-05-15 11:25:27,881][cascade_classifier.fit_transform] [layer=0] look_indexs=[0], X_cur_train.shape=(6611, 18), X_cur_test.shape=(3257, 18)\n",
      "[ 2018-05-15 11:25:28,510][kfold_wrapper.log_eval_metrics] Accuracy(layer_0 - estimator_0 - 10_folds.train_0.predict)=100.00%\n",
      "[ 2018-05-15 11:25:29,103][kfold_wrapper.log_eval_metrics] Accuracy(layer_0 - estimator_0 - 10_folds.train_1.predict)=99.85%\n",
      "[ 2018-05-15 11:25:29,818][kfold_wrapper.log_eval_metrics] Accuracy(layer_0 - estimator_0 - 10_folds.train_2.predict)=100.00%\n",
      "[ 2018-05-15 11:25:30,514][kfold_wrapper.log_eval_metrics] Accuracy(layer_0 - estimator_0 - 10_folds.train_3.predict)=100.00%\n",
      "[ 2018-05-15 11:25:31,258][kfold_wrapper.log_eval_metrics] Accuracy(layer_0 - estimator_0 - 10_folds.train_4.predict)=100.00%\n",
      "[ 2018-05-15 11:25:32,025][kfold_wrapper.log_eval_metrics] Accuracy(layer_0 - estimator_0 - 10_folds.train_5.predict)=100.00%\n",
      "[ 2018-05-15 11:25:32,796][kfold_wrapper.log_eval_metrics] Accuracy(layer_0 - estimator_0 - 10_folds.train_6.predict)=100.00%\n",
      "[ 2018-05-15 11:25:33,554][kfold_wrapper.log_eval_metrics] Accuracy(layer_0 - estimator_0 - 10_folds.train_7.predict)=100.00%\n",
      "[ 2018-05-15 11:25:34,292][kfold_wrapper.log_eval_metrics] Accuracy(layer_0 - estimator_0 - 10_folds.train_8.predict)=100.00%\n",
      "[ 2018-05-15 11:25:35,003][kfold_wrapper.log_eval_metrics] Accuracy(layer_0 - estimator_0 - 10_folds.train_9.predict)=100.00%\n",
      "[ 2018-05-15 11:25:35,120][kfold_wrapper.log_eval_metrics] Accuracy(layer_0 - estimator_0 - 10_folds.train_cv.predict)=99.98%\n",
      "[ 2018-05-15 11:25:35,123][kfold_wrapper.log_eval_metrics] Accuracy(layer_0 - estimator_0 - 10_folds.test.predict)=99.94%\n",
      "[ 2018-05-15 11:25:35,127][cascade_classifier.calc_accuracy] Accuracy(layer_0 - train.classifier_average)=99.98%\n",
      "[ 2018-05-15 11:25:35,129][cascade_classifier.calc_accuracy] Accuracy(layer_0 - test.classifier_average)=99.94%\n",
      "[ 2018-05-15 11:25:35,133][cascade_classifier.fit_transform] [Result][Reach Max Layer] opt_layer_num=1, accuracy_train=99.98%, accuracy_test=99.94%\n"
     ]
    }
   ],
   "source": [
    "X_train=X_train_enc\n",
    "X_test=X_test_enc \n",
    "X_train_enc, X_test_enc = gc.fit_transform(X_train, y_train, X_test=X_test, y_test=y_test)"
   ]
  },
  {
   "cell_type": "code",
   "execution_count": 13,
   "metadata": {},
   "outputs": [
    {
     "name": "stderr",
     "output_type": "stream",
     "text": [
      "[ 2018-05-15 11:25:35,143][cascade_classifier.transform] X_groups_test.shape=[(3257, 18)]\n",
      "[ 2018-05-15 11:25:35,145][cascade_classifier.transform] group_dims=[18]\n",
      "[ 2018-05-15 11:25:35,146][cascade_classifier.transform] X_test.shape=(3257, 18)\n",
      "[ 2018-05-15 11:25:35,149][cascade_classifier.transform] [layer=0] look_indexs=[0], X_cur_test.shape=(3257, 18)\n"
     ]
    },
    {
     "name": "stdout",
     "output_type": "stream",
     "text": [
      "Test Accuracy of ExtraTrees = 99.938594 %\n"
     ]
    }
   ],
   "source": [
    "# predict  data + Es\n",
    "y_pred = gc.predict(X_test)\n",
    "acc = accuracy_score(y_test, y_pred)\n",
    "print(\"Test Accuracy of ExtraTrees = {:.6f} %\".format(acc * 100))"
   ]
  },
  {
   "cell_type": "code",
   "execution_count": 14,
   "metadata": {},
   "outputs": [
    {
     "name": "stdout",
     "output_type": "stream",
     "text": [
      "[[3249    0]\n",
      " [   2    6]]\n",
      "\n",
      "\n",
      "             precision    recall  f1-score   support\n",
      "\n",
      "        0.0       1.00      1.00      1.00      3249\n",
      "        1.0       1.00      0.75      0.86         8\n",
      "\n",
      "avg / total       1.00      1.00      1.00      3257\n",
      "\n"
     ]
    }
   ],
   "source": [
    "# Matrix de confusion\n",
    "from sklearn.metrics import classification_report, confusion_matrix\n",
    "print(confusion_matrix(y_test,y_pred))\n",
    "print('\\n')\n",
    "print(classification_report(y_test,y_pred))"
   ]
  },
  {
   "cell_type": "code",
   "execution_count": null,
   "metadata": {
    "collapsed": true
   },
   "outputs": [],
   "source": []
  },
  {
   "cell_type": "code",
   "execution_count": 15,
   "metadata": {
    "collapsed": true
   },
   "outputs": [],
   "source": [
    "def update(X_train,X_test):\n",
    "    # update Estimators\n",
    "    M = np.delete(X_train, (-1), axis=1)\n",
    "    X_train= np.delete(M, (-1), axis=1)\n",
    "    M = np.delete(X_test, (-1), axis=1)\n",
    "    X_test = np.delete(M, (-1), axis=1)\n",
    "    return X_train,X_test\n",
    "\n",
    "def newdata(X_test_enc, X_train_enc):\n",
    "    # Make Data + Estimators\n",
    "    X_train_origin = X_train.reshape((X_train.shape[0], -1))\n",
    "    X_test_origin = X_test.reshape((X_test.shape[0], -1))\n",
    "    X_train_enc = np.hstack((X_train_origin, X_train_enc))\n",
    "    X_test_enc = np.hstack((X_test_origin, X_test_enc))\n",
    "    return X_test_enc, X_train_enc\n",
    "\n",
    "def affiche():\n",
    "    # predict\n",
    "    y_pred = gc.predict(X_test)\n",
    "    acc = accuracy_score(y_test, y_pred)\n",
    "    print(\"Test Accuracy of ExtraTrees = {:.6f} %\".format(acc * 100),i,'fois')\n",
    "    # Matrix de confusion\n",
    "    from sklearn.metrics import classification_report, confusion_matrix\n",
    "    print(confusion_matrix(y_test,y_pred))\n",
    "    print('\\n')\n",
    "    print(classification_report(y_test,y_pred))"
   ]
  },
  {
   "cell_type": "code",
   "execution_count": 16,
   "metadata": {},
   "outputs": [
    {
     "name": "stderr",
     "output_type": "stream",
     "text": [
      "[ 2018-05-15 11:25:44,570][cascade_classifier.fit_transform] X_groups_train.shape=[(6611, 18)],y_train.shape=(6611,),X_groups_test.shape=[(3257, 18)],y_test.shape=(3257,)\n",
      "[ 2018-05-15 11:25:44,574][cascade_classifier.fit_transform] group_dims=[18]\n",
      "[ 2018-05-15 11:25:44,576][cascade_classifier.fit_transform] group_starts=[0]\n",
      "[ 2018-05-15 11:25:44,577][cascade_classifier.fit_transform] group_ends=[18]\n",
      "[ 2018-05-15 11:25:44,579][cascade_classifier.fit_transform] X_train.shape=(6611, 18),X_test.shape=(3257, 18)\n",
      "[ 2018-05-15 11:25:44,581][cascade_classifier.fit_transform] [layer=0] look_indexs=[0], X_cur_train.shape=(6611, 18), X_cur_test.shape=(3257, 18)\n",
      "[ 2018-05-15 11:25:45,065][kfold_wrapper.log_eval_metrics] Accuracy(layer_0 - estimator_0 - 10_folds.train_0.predict)=100.00%\n",
      "[ 2018-05-15 11:25:45,657][kfold_wrapper.log_eval_metrics] Accuracy(layer_0 - estimator_0 - 10_folds.train_1.predict)=99.85%\n",
      "[ 2018-05-15 11:25:46,364][kfold_wrapper.log_eval_metrics] Accuracy(layer_0 - estimator_0 - 10_folds.train_2.predict)=100.00%\n",
      "[ 2018-05-15 11:25:47,074][kfold_wrapper.log_eval_metrics] Accuracy(layer_0 - estimator_0 - 10_folds.train_3.predict)=100.00%\n",
      "[ 2018-05-15 11:25:47,799][kfold_wrapper.log_eval_metrics] Accuracy(layer_0 - estimator_0 - 10_folds.train_4.predict)=100.00%\n",
      "[ 2018-05-15 11:25:48,498][kfold_wrapper.log_eval_metrics] Accuracy(layer_0 - estimator_0 - 10_folds.train_5.predict)=100.00%\n",
      "[ 2018-05-15 11:25:49,237][kfold_wrapper.log_eval_metrics] Accuracy(layer_0 - estimator_0 - 10_folds.train_6.predict)=100.00%\n",
      "[ 2018-05-15 11:25:49,967][kfold_wrapper.log_eval_metrics] Accuracy(layer_0 - estimator_0 - 10_folds.train_7.predict)=100.00%\n",
      "[ 2018-05-15 11:25:50,690][kfold_wrapper.log_eval_metrics] Accuracy(layer_0 - estimator_0 - 10_folds.train_8.predict)=100.00%\n",
      "[ 2018-05-15 11:25:51,408][kfold_wrapper.log_eval_metrics] Accuracy(layer_0 - estimator_0 - 10_folds.train_9.predict)=100.00%\n",
      "[ 2018-05-15 11:25:51,524][kfold_wrapper.log_eval_metrics] Accuracy(layer_0 - estimator_0 - 10_folds.train_cv.predict)=99.98%\n",
      "[ 2018-05-15 11:25:51,529][kfold_wrapper.log_eval_metrics] Accuracy(layer_0 - estimator_0 - 10_folds.test.predict)=99.97%\n",
      "[ 2018-05-15 11:25:51,543][cascade_classifier.calc_accuracy] Accuracy(layer_0 - train.classifier_average)=99.98%\n",
      "[ 2018-05-15 11:25:51,545][cascade_classifier.calc_accuracy] Accuracy(layer_0 - test.classifier_average)=99.97%\n",
      "[ 2018-05-15 11:25:51,554][cascade_classifier.fit_transform] [Result][Reach Max Layer] opt_layer_num=1, accuracy_train=99.98%, accuracy_test=99.97%\n",
      "[ 2018-05-15 11:25:51,555][cascade_classifier.transform] X_groups_test.shape=[(3257, 18)]\n",
      "[ 2018-05-15 11:25:51,559][cascade_classifier.transform] group_dims=[18]\n",
      "[ 2018-05-15 11:25:51,562][cascade_classifier.transform] X_test.shape=(3257, 18)\n",
      "[ 2018-05-15 11:25:51,566][cascade_classifier.transform] [layer=0] look_indexs=[0], X_cur_test.shape=(3257, 18)\n",
      "[ 2018-05-15 11:25:52,791][cascade_classifier.fit_transform] X_groups_train.shape=[(6611, 18)],y_train.shape=(6611,),X_groups_test.shape=[(3257, 18)],y_test.shape=(3257,)\n",
      "[ 2018-05-15 11:25:52,793][cascade_classifier.fit_transform] group_dims=[18]\n",
      "[ 2018-05-15 11:25:52,796][cascade_classifier.fit_transform] group_starts=[0]\n",
      "[ 2018-05-15 11:25:52,799][cascade_classifier.fit_transform] group_ends=[18]\n",
      "[ 2018-05-15 11:25:52,800][cascade_classifier.fit_transform] X_train.shape=(6611, 18),X_test.shape=(3257, 18)\n",
      "[ 2018-05-15 11:25:52,802][cascade_classifier.fit_transform] [layer=0] look_indexs=[0], X_cur_train.shape=(6611, 18), X_cur_test.shape=(3257, 18)\n"
     ]
    },
    {
     "name": "stdout",
     "output_type": "stream",
     "text": [
      "('Test Accuracy of ExtraTrees = 99.969297 %', 0, 'fois')\n",
      "[[3249    0]\n",
      " [   1    7]]\n",
      "\n",
      "\n",
      "             precision    recall  f1-score   support\n",
      "\n",
      "        0.0       1.00      1.00      1.00      3249\n",
      "        1.0       1.00      0.88      0.93         8\n",
      "\n",
      "avg / total       1.00      1.00      1.00      3257\n",
      "\n"
     ]
    },
    {
     "name": "stderr",
     "output_type": "stream",
     "text": [
      "[ 2018-05-15 11:25:53,471][kfold_wrapper.log_eval_metrics] Accuracy(layer_0 - estimator_0 - 10_folds.train_0.predict)=100.00%\n",
      "[ 2018-05-15 11:25:54,289][kfold_wrapper.log_eval_metrics] Accuracy(layer_0 - estimator_0 - 10_folds.train_1.predict)=99.85%\n",
      "[ 2018-05-15 11:25:55,042][kfold_wrapper.log_eval_metrics] Accuracy(layer_0 - estimator_0 - 10_folds.train_2.predict)=100.00%\n",
      "[ 2018-05-15 11:25:55,771][kfold_wrapper.log_eval_metrics] Accuracy(layer_0 - estimator_0 - 10_folds.train_3.predict)=100.00%\n",
      "[ 2018-05-15 11:25:56,575][kfold_wrapper.log_eval_metrics] Accuracy(layer_0 - estimator_0 - 10_folds.train_4.predict)=100.00%\n",
      "[ 2018-05-15 11:25:57,372][kfold_wrapper.log_eval_metrics] Accuracy(layer_0 - estimator_0 - 10_folds.train_5.predict)=100.00%\n",
      "[ 2018-05-15 11:25:58,760][kfold_wrapper.log_eval_metrics] Accuracy(layer_0 - estimator_0 - 10_folds.train_6.predict)=100.00%\n",
      "[ 2018-05-15 11:25:59,508][kfold_wrapper.log_eval_metrics] Accuracy(layer_0 - estimator_0 - 10_folds.train_7.predict)=100.00%\n",
      "[ 2018-05-15 11:26:00,282][kfold_wrapper.log_eval_metrics] Accuracy(layer_0 - estimator_0 - 10_folds.train_8.predict)=100.00%\n",
      "[ 2018-05-15 11:26:01,012][kfold_wrapper.log_eval_metrics] Accuracy(layer_0 - estimator_0 - 10_folds.train_9.predict)=100.00%\n",
      "[ 2018-05-15 11:26:01,133][kfold_wrapper.log_eval_metrics] Accuracy(layer_0 - estimator_0 - 10_folds.train_cv.predict)=99.98%\n",
      "[ 2018-05-15 11:26:01,136][kfold_wrapper.log_eval_metrics] Accuracy(layer_0 - estimator_0 - 10_folds.test.predict)=99.97%\n",
      "[ 2018-05-15 11:26:01,140][cascade_classifier.calc_accuracy] Accuracy(layer_0 - train.classifier_average)=99.98%\n",
      "[ 2018-05-15 11:26:01,142][cascade_classifier.calc_accuracy] Accuracy(layer_0 - test.classifier_average)=99.97%\n",
      "[ 2018-05-15 11:26:01,144][cascade_classifier.fit_transform] [Result][Reach Max Layer] opt_layer_num=1, accuracy_train=99.98%, accuracy_test=99.97%\n",
      "[ 2018-05-15 11:26:01,145][cascade_classifier.transform] X_groups_test.shape=[(3257, 18)]\n",
      "[ 2018-05-15 11:26:01,147][cascade_classifier.transform] group_dims=[18]\n",
      "[ 2018-05-15 11:26:01,148][cascade_classifier.transform] X_test.shape=(3257, 18)\n",
      "[ 2018-05-15 11:26:01,150][cascade_classifier.transform] [layer=0] look_indexs=[0], X_cur_test.shape=(3257, 18)\n",
      "[ 2018-05-15 11:26:02,338][cascade_classifier.fit_transform] X_groups_train.shape=[(6611, 18)],y_train.shape=(6611,),X_groups_test.shape=[(3257, 18)],y_test.shape=(3257,)\n",
      "[ 2018-05-15 11:26:02,340][cascade_classifier.fit_transform] group_dims=[18]\n",
      "[ 2018-05-15 11:26:02,341][cascade_classifier.fit_transform] group_starts=[0]\n",
      "[ 2018-05-15 11:26:02,342][cascade_classifier.fit_transform] group_ends=[18]\n",
      "[ 2018-05-15 11:26:02,343][cascade_classifier.fit_transform] X_train.shape=(6611, 18),X_test.shape=(3257, 18)\n",
      "[ 2018-05-15 11:26:02,345][cascade_classifier.fit_transform] [layer=0] look_indexs=[0], X_cur_train.shape=(6611, 18), X_cur_test.shape=(3257, 18)\n"
     ]
    },
    {
     "name": "stdout",
     "output_type": "stream",
     "text": [
      "('Test Accuracy of ExtraTrees = 99.969297 %', 1, 'fois')\n",
      "[[3249    0]\n",
      " [   1    7]]\n",
      "\n",
      "\n",
      "             precision    recall  f1-score   support\n",
      "\n",
      "        0.0       1.00      1.00      1.00      3249\n",
      "        1.0       1.00      0.88      0.93         8\n",
      "\n",
      "avg / total       1.00      1.00      1.00      3257\n",
      "\n"
     ]
    },
    {
     "name": "stderr",
     "output_type": "stream",
     "text": [
      "[ 2018-05-15 11:26:02,975][kfold_wrapper.log_eval_metrics] Accuracy(layer_0 - estimator_0 - 10_folds.train_0.predict)=100.00%\n",
      "[ 2018-05-15 11:26:03,569][kfold_wrapper.log_eval_metrics] Accuracy(layer_0 - estimator_0 - 10_folds.train_1.predict)=99.85%\n",
      "[ 2018-05-15 11:26:04,305][kfold_wrapper.log_eval_metrics] Accuracy(layer_0 - estimator_0 - 10_folds.train_2.predict)=100.00%\n",
      "[ 2018-05-15 11:26:05,021][kfold_wrapper.log_eval_metrics] Accuracy(layer_0 - estimator_0 - 10_folds.train_3.predict)=100.00%\n",
      "[ 2018-05-15 11:26:05,735][kfold_wrapper.log_eval_metrics] Accuracy(layer_0 - estimator_0 - 10_folds.train_4.predict)=100.00%\n",
      "[ 2018-05-15 11:26:06,433][kfold_wrapper.log_eval_metrics] Accuracy(layer_0 - estimator_0 - 10_folds.train_5.predict)=100.00%\n",
      "[ 2018-05-15 11:26:07,179][kfold_wrapper.log_eval_metrics] Accuracy(layer_0 - estimator_0 - 10_folds.train_6.predict)=100.00%\n",
      "[ 2018-05-15 11:26:07,953][kfold_wrapper.log_eval_metrics] Accuracy(layer_0 - estimator_0 - 10_folds.train_7.predict)=100.00%\n",
      "[ 2018-05-15 11:26:08,707][kfold_wrapper.log_eval_metrics] Accuracy(layer_0 - estimator_0 - 10_folds.train_8.predict)=100.00%\n",
      "[ 2018-05-15 11:26:09,507][kfold_wrapper.log_eval_metrics] Accuracy(layer_0 - estimator_0 - 10_folds.train_9.predict)=100.00%\n",
      "[ 2018-05-15 11:26:09,635][kfold_wrapper.log_eval_metrics] Accuracy(layer_0 - estimator_0 - 10_folds.train_cv.predict)=99.98%\n",
      "[ 2018-05-15 11:26:09,638][kfold_wrapper.log_eval_metrics] Accuracy(layer_0 - estimator_0 - 10_folds.test.predict)=99.97%\n",
      "[ 2018-05-15 11:26:09,641][cascade_classifier.calc_accuracy] Accuracy(layer_0 - train.classifier_average)=99.98%\n",
      "[ 2018-05-15 11:26:09,643][cascade_classifier.calc_accuracy] Accuracy(layer_0 - test.classifier_average)=99.97%\n",
      "[ 2018-05-15 11:26:09,644][cascade_classifier.fit_transform] [Result][Reach Max Layer] opt_layer_num=1, accuracy_train=99.98%, accuracy_test=99.97%\n",
      "[ 2018-05-15 11:26:09,646][cascade_classifier.transform] X_groups_test.shape=[(3257, 18)]\n",
      "[ 2018-05-15 11:26:09,647][cascade_classifier.transform] group_dims=[18]\n",
      "[ 2018-05-15 11:26:09,648][cascade_classifier.transform] X_test.shape=(3257, 18)\n",
      "[ 2018-05-15 11:26:09,650][cascade_classifier.transform] [layer=0] look_indexs=[0], X_cur_test.shape=(3257, 18)\n",
      "[ 2018-05-15 11:26:10,859][cascade_classifier.fit_transform] X_groups_train.shape=[(6611, 18)],y_train.shape=(6611,),X_groups_test.shape=[(3257, 18)],y_test.shape=(3257,)\n",
      "[ 2018-05-15 11:26:10,861][cascade_classifier.fit_transform] group_dims=[18]\n",
      "[ 2018-05-15 11:26:10,862][cascade_classifier.fit_transform] group_starts=[0]\n",
      "[ 2018-05-15 11:26:10,863][cascade_classifier.fit_transform] group_ends=[18]\n",
      "[ 2018-05-15 11:26:10,866][cascade_classifier.fit_transform] X_train.shape=(6611, 18),X_test.shape=(3257, 18)\n",
      "[ 2018-05-15 11:26:10,868][cascade_classifier.fit_transform] [layer=0] look_indexs=[0], X_cur_train.shape=(6611, 18), X_cur_test.shape=(3257, 18)\n"
     ]
    },
    {
     "name": "stdout",
     "output_type": "stream",
     "text": [
      "('Test Accuracy of ExtraTrees = 99.969297 %', 2, 'fois')\n",
      "[[3249    0]\n",
      " [   1    7]]\n",
      "\n",
      "\n",
      "             precision    recall  f1-score   support\n",
      "\n",
      "        0.0       1.00      1.00      1.00      3249\n",
      "        1.0       1.00      0.88      0.93         8\n",
      "\n",
      "avg / total       1.00      1.00      1.00      3257\n",
      "\n"
     ]
    },
    {
     "name": "stderr",
     "output_type": "stream",
     "text": [
      "[ 2018-05-15 11:26:11,553][kfold_wrapper.log_eval_metrics] Accuracy(layer_0 - estimator_0 - 10_folds.train_0.predict)=100.00%\n",
      "[ 2018-05-15 11:26:12,400][kfold_wrapper.log_eval_metrics] Accuracy(layer_0 - estimator_0 - 10_folds.train_1.predict)=99.85%\n",
      "[ 2018-05-15 11:26:13,218][kfold_wrapper.log_eval_metrics] Accuracy(layer_0 - estimator_0 - 10_folds.train_2.predict)=100.00%\n",
      "[ 2018-05-15 11:26:13,858][kfold_wrapper.log_eval_metrics] Accuracy(layer_0 - estimator_0 - 10_folds.train_3.predict)=100.00%\n",
      "[ 2018-05-15 11:26:14,697][kfold_wrapper.log_eval_metrics] Accuracy(layer_0 - estimator_0 - 10_folds.train_4.predict)=100.00%\n",
      "[ 2018-05-15 11:26:15,495][kfold_wrapper.log_eval_metrics] Accuracy(layer_0 - estimator_0 - 10_folds.train_5.predict)=100.00%\n",
      "[ 2018-05-15 11:26:16,266][kfold_wrapper.log_eval_metrics] Accuracy(layer_0 - estimator_0 - 10_folds.train_6.predict)=100.00%\n",
      "[ 2018-05-15 11:26:17,074][kfold_wrapper.log_eval_metrics] Accuracy(layer_0 - estimator_0 - 10_folds.train_7.predict)=100.00%\n",
      "[ 2018-05-15 11:26:17,789][kfold_wrapper.log_eval_metrics] Accuracy(layer_0 - estimator_0 - 10_folds.train_8.predict)=100.00%\n",
      "[ 2018-05-15 11:26:18,630][kfold_wrapper.log_eval_metrics] Accuracy(layer_0 - estimator_0 - 10_folds.train_9.predict)=100.00%\n",
      "[ 2018-05-15 11:26:18,750][kfold_wrapper.log_eval_metrics] Accuracy(layer_0 - estimator_0 - 10_folds.train_cv.predict)=99.98%\n",
      "[ 2018-05-15 11:26:18,754][kfold_wrapper.log_eval_metrics] Accuracy(layer_0 - estimator_0 - 10_folds.test.predict)=99.97%\n",
      "[ 2018-05-15 11:26:18,762][cascade_classifier.calc_accuracy] Accuracy(layer_0 - train.classifier_average)=99.98%\n",
      "[ 2018-05-15 11:26:18,764][cascade_classifier.calc_accuracy] Accuracy(layer_0 - test.classifier_average)=99.97%\n",
      "[ 2018-05-15 11:26:18,765][cascade_classifier.fit_transform] [Result][Reach Max Layer] opt_layer_num=1, accuracy_train=99.98%, accuracy_test=99.97%\n",
      "[ 2018-05-15 11:26:18,766][cascade_classifier.transform] X_groups_test.shape=[(3257, 18)]\n",
      "[ 2018-05-15 11:26:18,768][cascade_classifier.transform] group_dims=[18]\n",
      "[ 2018-05-15 11:26:18,769][cascade_classifier.transform] X_test.shape=(3257, 18)\n",
      "[ 2018-05-15 11:26:18,770][cascade_classifier.transform] [layer=0] look_indexs=[0], X_cur_test.shape=(3257, 18)\n",
      "[ 2018-05-15 11:26:19,946][cascade_classifier.fit_transform] X_groups_train.shape=[(6611, 18)],y_train.shape=(6611,),X_groups_test.shape=[(3257, 18)],y_test.shape=(3257,)\n",
      "[ 2018-05-15 11:26:19,949][cascade_classifier.fit_transform] group_dims=[18]\n",
      "[ 2018-05-15 11:26:19,950][cascade_classifier.fit_transform] group_starts=[0]\n",
      "[ 2018-05-15 11:26:19,951][cascade_classifier.fit_transform] group_ends=[18]\n",
      "[ 2018-05-15 11:26:19,953][cascade_classifier.fit_transform] X_train.shape=(6611, 18),X_test.shape=(3257, 18)\n",
      "[ 2018-05-15 11:26:19,955][cascade_classifier.fit_transform] [layer=0] look_indexs=[0], X_cur_train.shape=(6611, 18), X_cur_test.shape=(3257, 18)\n"
     ]
    },
    {
     "name": "stdout",
     "output_type": "stream",
     "text": [
      "('Test Accuracy of ExtraTrees = 99.969297 %', 3, 'fois')\n",
      "[[3249    0]\n",
      " [   1    7]]\n",
      "\n",
      "\n",
      "             precision    recall  f1-score   support\n",
      "\n",
      "        0.0       1.00      1.00      1.00      3249\n",
      "        1.0       1.00      0.88      0.93         8\n",
      "\n",
      "avg / total       1.00      1.00      1.00      3257\n",
      "\n"
     ]
    },
    {
     "name": "stderr",
     "output_type": "stream",
     "text": [
      "[ 2018-05-15 11:26:20,570][kfold_wrapper.log_eval_metrics] Accuracy(layer_0 - estimator_0 - 10_folds.train_0.predict)=100.00%\n",
      "[ 2018-05-15 11:26:21,470][kfold_wrapper.log_eval_metrics] Accuracy(layer_0 - estimator_0 - 10_folds.train_1.predict)=99.85%\n",
      "[ 2018-05-15 11:26:22,245][kfold_wrapper.log_eval_metrics] Accuracy(layer_0 - estimator_0 - 10_folds.train_2.predict)=100.00%\n",
      "[ 2018-05-15 11:26:23,078][kfold_wrapper.log_eval_metrics] Accuracy(layer_0 - estimator_0 - 10_folds.train_3.predict)=100.00%\n",
      "[ 2018-05-15 11:26:23,821][kfold_wrapper.log_eval_metrics] Accuracy(layer_0 - estimator_0 - 10_folds.train_4.predict)=100.00%\n",
      "[ 2018-05-15 11:26:24,621][kfold_wrapper.log_eval_metrics] Accuracy(layer_0 - estimator_0 - 10_folds.train_5.predict)=100.00%\n",
      "[ 2018-05-15 11:26:25,375][kfold_wrapper.log_eval_metrics] Accuracy(layer_0 - estimator_0 - 10_folds.train_6.predict)=100.00%\n",
      "[ 2018-05-15 11:26:26,228][kfold_wrapper.log_eval_metrics] Accuracy(layer_0 - estimator_0 - 10_folds.train_7.predict)=100.00%\n",
      "[ 2018-05-15 11:26:27,122][kfold_wrapper.log_eval_metrics] Accuracy(layer_0 - estimator_0 - 10_folds.train_8.predict)=100.00%\n",
      "[ 2018-05-15 11:26:27,766][kfold_wrapper.log_eval_metrics] Accuracy(layer_0 - estimator_0 - 10_folds.train_9.predict)=100.00%\n",
      "[ 2018-05-15 11:26:27,886][kfold_wrapper.log_eval_metrics] Accuracy(layer_0 - estimator_0 - 10_folds.train_cv.predict)=99.98%\n",
      "[ 2018-05-15 11:26:27,888][kfold_wrapper.log_eval_metrics] Accuracy(layer_0 - estimator_0 - 10_folds.test.predict)=99.97%\n",
      "[ 2018-05-15 11:26:27,895][cascade_classifier.calc_accuracy] Accuracy(layer_0 - train.classifier_average)=99.98%\n",
      "[ 2018-05-15 11:26:27,902][cascade_classifier.calc_accuracy] Accuracy(layer_0 - test.classifier_average)=99.97%\n",
      "[ 2018-05-15 11:26:27,904][cascade_classifier.fit_transform] [Result][Reach Max Layer] opt_layer_num=1, accuracy_train=99.98%, accuracy_test=99.97%\n",
      "[ 2018-05-15 11:26:27,906][cascade_classifier.transform] X_groups_test.shape=[(3257, 18)]\n",
      "[ 2018-05-15 11:26:27,908][cascade_classifier.transform] group_dims=[18]\n",
      "[ 2018-05-15 11:26:27,910][cascade_classifier.transform] X_test.shape=(3257, 18)\n",
      "[ 2018-05-15 11:26:27,912][cascade_classifier.transform] [layer=0] look_indexs=[0], X_cur_test.shape=(3257, 18)\n",
      "[ 2018-05-15 11:26:29,102][cascade_classifier.fit_transform] X_groups_train.shape=[(6611, 18)],y_train.shape=(6611,),X_groups_test.shape=[(3257, 18)],y_test.shape=(3257,)\n",
      "[ 2018-05-15 11:26:29,104][cascade_classifier.fit_transform] group_dims=[18]\n",
      "[ 2018-05-15 11:26:29,107][cascade_classifier.fit_transform] group_starts=[0]\n",
      "[ 2018-05-15 11:26:29,108][cascade_classifier.fit_transform] group_ends=[18]\n",
      "[ 2018-05-15 11:26:29,110][cascade_classifier.fit_transform] X_train.shape=(6611, 18),X_test.shape=(3257, 18)\n",
      "[ 2018-05-15 11:26:29,112][cascade_classifier.fit_transform] [layer=0] look_indexs=[0], X_cur_train.shape=(6611, 18), X_cur_test.shape=(3257, 18)\n"
     ]
    },
    {
     "name": "stdout",
     "output_type": "stream",
     "text": [
      "('Test Accuracy of ExtraTrees = 99.969297 %', 4, 'fois')\n",
      "[[3249    0]\n",
      " [   1    7]]\n",
      "\n",
      "\n",
      "             precision    recall  f1-score   support\n",
      "\n",
      "        0.0       1.00      1.00      1.00      3249\n",
      "        1.0       1.00      0.88      0.93         8\n",
      "\n",
      "avg / total       1.00      1.00      1.00      3257\n",
      "\n"
     ]
    },
    {
     "name": "stderr",
     "output_type": "stream",
     "text": [
      "[ 2018-05-15 11:26:29,799][kfold_wrapper.log_eval_metrics] Accuracy(layer_0 - estimator_0 - 10_folds.train_0.predict)=100.00%\n",
      "[ 2018-05-15 11:26:30,551][kfold_wrapper.log_eval_metrics] Accuracy(layer_0 - estimator_0 - 10_folds.train_1.predict)=99.85%\n",
      "[ 2018-05-15 11:26:31,331][kfold_wrapper.log_eval_metrics] Accuracy(layer_0 - estimator_0 - 10_folds.train_2.predict)=100.00%\n",
      "[ 2018-05-15 11:26:32,059][kfold_wrapper.log_eval_metrics] Accuracy(layer_0 - estimator_0 - 10_folds.train_3.predict)=100.00%\n",
      "[ 2018-05-15 11:26:32,805][kfold_wrapper.log_eval_metrics] Accuracy(layer_0 - estimator_0 - 10_folds.train_4.predict)=100.00%\n",
      "[ 2018-05-15 11:26:33,547][kfold_wrapper.log_eval_metrics] Accuracy(layer_0 - estimator_0 - 10_folds.train_5.predict)=100.00%\n",
      "[ 2018-05-15 11:26:34,286][kfold_wrapper.log_eval_metrics] Accuracy(layer_0 - estimator_0 - 10_folds.train_6.predict)=100.00%\n",
      "[ 2018-05-15 11:26:35,129][kfold_wrapper.log_eval_metrics] Accuracy(layer_0 - estimator_0 - 10_folds.train_7.predict)=100.00%\n",
      "[ 2018-05-15 11:26:35,840][kfold_wrapper.log_eval_metrics] Accuracy(layer_0 - estimator_0 - 10_folds.train_8.predict)=100.00%\n",
      "[ 2018-05-15 11:26:36,561][kfold_wrapper.log_eval_metrics] Accuracy(layer_0 - estimator_0 - 10_folds.train_9.predict)=100.00%\n",
      "[ 2018-05-15 11:26:36,685][kfold_wrapper.log_eval_metrics] Accuracy(layer_0 - estimator_0 - 10_folds.train_cv.predict)=99.98%\n",
      "[ 2018-05-15 11:26:36,688][kfold_wrapper.log_eval_metrics] Accuracy(layer_0 - estimator_0 - 10_folds.test.predict)=99.97%\n",
      "[ 2018-05-15 11:26:36,695][cascade_classifier.calc_accuracy] Accuracy(layer_0 - train.classifier_average)=99.98%\n",
      "[ 2018-05-15 11:26:36,697][cascade_classifier.calc_accuracy] Accuracy(layer_0 - test.classifier_average)=99.97%\n",
      "[ 2018-05-15 11:26:36,698][cascade_classifier.fit_transform] [Result][Reach Max Layer] opt_layer_num=1, accuracy_train=99.98%, accuracy_test=99.97%\n",
      "[ 2018-05-15 11:26:36,700][cascade_classifier.transform] X_groups_test.shape=[(3257, 18)]\n",
      "[ 2018-05-15 11:26:36,701][cascade_classifier.transform] group_dims=[18]\n",
      "[ 2018-05-15 11:26:36,703][cascade_classifier.transform] X_test.shape=(3257, 18)\n",
      "[ 2018-05-15 11:26:36,704][cascade_classifier.transform] [layer=0] look_indexs=[0], X_cur_test.shape=(3257, 18)\n",
      "[ 2018-05-15 11:26:37,864][cascade_classifier.fit_transform] X_groups_train.shape=[(6611, 18)],y_train.shape=(6611,),X_groups_test.shape=[(3257, 18)],y_test.shape=(3257,)\n",
      "[ 2018-05-15 11:26:37,865][cascade_classifier.fit_transform] group_dims=[18]\n",
      "[ 2018-05-15 11:26:37,867][cascade_classifier.fit_transform] group_starts=[0]\n",
      "[ 2018-05-15 11:26:37,868][cascade_classifier.fit_transform] group_ends=[18]\n",
      "[ 2018-05-15 11:26:37,870][cascade_classifier.fit_transform] X_train.shape=(6611, 18),X_test.shape=(3257, 18)\n",
      "[ 2018-05-15 11:26:37,872][cascade_classifier.fit_transform] [layer=0] look_indexs=[0], X_cur_train.shape=(6611, 18), X_cur_test.shape=(3257, 18)\n"
     ]
    },
    {
     "name": "stdout",
     "output_type": "stream",
     "text": [
      "('Test Accuracy of ExtraTrees = 99.969297 %', 5, 'fois')\n",
      "[[3249    0]\n",
      " [   1    7]]\n",
      "\n",
      "\n",
      "             precision    recall  f1-score   support\n",
      "\n",
      "        0.0       1.00      1.00      1.00      3249\n",
      "        1.0       1.00      0.88      0.93         8\n",
      "\n",
      "avg / total       1.00      1.00      1.00      3257\n",
      "\n"
     ]
    },
    {
     "name": "stderr",
     "output_type": "stream",
     "text": [
      "[ 2018-05-15 11:26:38,509][kfold_wrapper.log_eval_metrics] Accuracy(layer_0 - estimator_0 - 10_folds.train_0.predict)=100.00%\n",
      "[ 2018-05-15 11:26:39,108][kfold_wrapper.log_eval_metrics] Accuracy(layer_0 - estimator_0 - 10_folds.train_1.predict)=99.85%\n",
      "[ 2018-05-15 11:26:39,878][kfold_wrapper.log_eval_metrics] Accuracy(layer_0 - estimator_0 - 10_folds.train_2.predict)=100.00%\n",
      "[ 2018-05-15 11:26:40,596][kfold_wrapper.log_eval_metrics] Accuracy(layer_0 - estimator_0 - 10_folds.train_3.predict)=100.00%\n",
      "[ 2018-05-15 11:26:41,306][kfold_wrapper.log_eval_metrics] Accuracy(layer_0 - estimator_0 - 10_folds.train_4.predict)=100.00%\n",
      "[ 2018-05-15 11:26:42,032][kfold_wrapper.log_eval_metrics] Accuracy(layer_0 - estimator_0 - 10_folds.train_5.predict)=100.00%\n",
      "[ 2018-05-15 11:26:42,805][kfold_wrapper.log_eval_metrics] Accuracy(layer_0 - estimator_0 - 10_folds.train_6.predict)=100.00%\n",
      "[ 2018-05-15 11:26:43,692][kfold_wrapper.log_eval_metrics] Accuracy(layer_0 - estimator_0 - 10_folds.train_7.predict)=100.00%\n",
      "[ 2018-05-15 11:26:44,493][kfold_wrapper.log_eval_metrics] Accuracy(layer_0 - estimator_0 - 10_folds.train_8.predict)=100.00%\n",
      "[ 2018-05-15 11:26:45,277][kfold_wrapper.log_eval_metrics] Accuracy(layer_0 - estimator_0 - 10_folds.train_9.predict)=100.00%\n",
      "[ 2018-05-15 11:26:45,417][kfold_wrapper.log_eval_metrics] Accuracy(layer_0 - estimator_0 - 10_folds.train_cv.predict)=99.98%\n",
      "[ 2018-05-15 11:26:45,419][kfold_wrapper.log_eval_metrics] Accuracy(layer_0 - estimator_0 - 10_folds.test.predict)=99.97%\n",
      "[ 2018-05-15 11:26:45,423][cascade_classifier.calc_accuracy] Accuracy(layer_0 - train.classifier_average)=99.98%\n",
      "[ 2018-05-15 11:26:45,426][cascade_classifier.calc_accuracy] Accuracy(layer_0 - test.classifier_average)=99.97%\n",
      "[ 2018-05-15 11:26:45,428][cascade_classifier.fit_transform] [Result][Reach Max Layer] opt_layer_num=1, accuracy_train=99.98%, accuracy_test=99.97%\n",
      "[ 2018-05-15 11:26:45,429][cascade_classifier.transform] X_groups_test.shape=[(3257, 18)]\n",
      "[ 2018-05-15 11:26:45,430][cascade_classifier.transform] group_dims=[18]\n",
      "[ 2018-05-15 11:26:45,431][cascade_classifier.transform] X_test.shape=(3257, 18)\n",
      "[ 2018-05-15 11:26:45,433][cascade_classifier.transform] [layer=0] look_indexs=[0], X_cur_test.shape=(3257, 18)\n",
      "[ 2018-05-15 11:26:46,624][cascade_classifier.fit_transform] X_groups_train.shape=[(6611, 18)],y_train.shape=(6611,),X_groups_test.shape=[(3257, 18)],y_test.shape=(3257,)\n",
      "[ 2018-05-15 11:26:46,626][cascade_classifier.fit_transform] group_dims=[18]\n",
      "[ 2018-05-15 11:26:46,627][cascade_classifier.fit_transform] group_starts=[0]\n",
      "[ 2018-05-15 11:26:46,628][cascade_classifier.fit_transform] group_ends=[18]\n",
      "[ 2018-05-15 11:26:46,629][cascade_classifier.fit_transform] X_train.shape=(6611, 18),X_test.shape=(3257, 18)\n",
      "[ 2018-05-15 11:26:46,631][cascade_classifier.fit_transform] [layer=0] look_indexs=[0], X_cur_train.shape=(6611, 18), X_cur_test.shape=(3257, 18)\n"
     ]
    },
    {
     "name": "stdout",
     "output_type": "stream",
     "text": [
      "('Test Accuracy of ExtraTrees = 99.969297 %', 6, 'fois')\n",
      "[[3249    0]\n",
      " [   1    7]]\n",
      "\n",
      "\n",
      "             precision    recall  f1-score   support\n",
      "\n",
      "        0.0       1.00      1.00      1.00      3249\n",
      "        1.0       1.00      0.88      0.93         8\n",
      "\n",
      "avg / total       1.00      1.00      1.00      3257\n",
      "\n"
     ]
    },
    {
     "name": "stderr",
     "output_type": "stream",
     "text": [
      "[ 2018-05-15 11:26:47,281][kfold_wrapper.log_eval_metrics] Accuracy(layer_0 - estimator_0 - 10_folds.train_0.predict)=100.00%\n",
      "[ 2018-05-15 11:26:48,124][kfold_wrapper.log_eval_metrics] Accuracy(layer_0 - estimator_0 - 10_folds.train_1.predict)=99.85%\n",
      "[ 2018-05-15 11:26:48,900][kfold_wrapper.log_eval_metrics] Accuracy(layer_0 - estimator_0 - 10_folds.train_2.predict)=100.00%\n",
      "[ 2018-05-15 11:26:49,687][kfold_wrapper.log_eval_metrics] Accuracy(layer_0 - estimator_0 - 10_folds.train_3.predict)=100.00%\n",
      "[ 2018-05-15 11:26:50,456][kfold_wrapper.log_eval_metrics] Accuracy(layer_0 - estimator_0 - 10_folds.train_4.predict)=100.00%\n",
      "[ 2018-05-15 11:26:51,238][kfold_wrapper.log_eval_metrics] Accuracy(layer_0 - estimator_0 - 10_folds.train_5.predict)=100.00%\n",
      "[ 2018-05-15 11:26:52,017][kfold_wrapper.log_eval_metrics] Accuracy(layer_0 - estimator_0 - 10_folds.train_6.predict)=100.00%\n",
      "[ 2018-05-15 11:26:52,839][kfold_wrapper.log_eval_metrics] Accuracy(layer_0 - estimator_0 - 10_folds.train_7.predict)=100.00%\n",
      "[ 2018-05-15 11:26:53,580][kfold_wrapper.log_eval_metrics] Accuracy(layer_0 - estimator_0 - 10_folds.train_8.predict)=100.00%\n",
      "[ 2018-05-15 11:26:54,305][kfold_wrapper.log_eval_metrics] Accuracy(layer_0 - estimator_0 - 10_folds.train_9.predict)=100.00%\n",
      "[ 2018-05-15 11:26:54,425][kfold_wrapper.log_eval_metrics] Accuracy(layer_0 - estimator_0 - 10_folds.train_cv.predict)=99.98%\n",
      "[ 2018-05-15 11:26:54,427][kfold_wrapper.log_eval_metrics] Accuracy(layer_0 - estimator_0 - 10_folds.test.predict)=99.97%\n",
      "[ 2018-05-15 11:26:54,433][cascade_classifier.calc_accuracy] Accuracy(layer_0 - train.classifier_average)=99.98%\n",
      "[ 2018-05-15 11:26:54,435][cascade_classifier.calc_accuracy] Accuracy(layer_0 - test.classifier_average)=99.97%\n",
      "[ 2018-05-15 11:26:54,438][cascade_classifier.fit_transform] [Result][Reach Max Layer] opt_layer_num=1, accuracy_train=99.98%, accuracy_test=99.97%\n",
      "[ 2018-05-15 11:26:54,440][cascade_classifier.transform] X_groups_test.shape=[(3257, 18)]\n",
      "[ 2018-05-15 11:26:54,442][cascade_classifier.transform] group_dims=[18]\n",
      "[ 2018-05-15 11:26:54,443][cascade_classifier.transform] X_test.shape=(3257, 18)\n",
      "[ 2018-05-15 11:26:54,445][cascade_classifier.transform] [layer=0] look_indexs=[0], X_cur_test.shape=(3257, 18)\n",
      "[ 2018-05-15 11:26:55,622][cascade_classifier.fit_transform] X_groups_train.shape=[(6611, 18)],y_train.shape=(6611,),X_groups_test.shape=[(3257, 18)],y_test.shape=(3257,)\n",
      "[ 2018-05-15 11:26:55,624][cascade_classifier.fit_transform] group_dims=[18]\n",
      "[ 2018-05-15 11:26:55,625][cascade_classifier.fit_transform] group_starts=[0]\n",
      "[ 2018-05-15 11:26:55,626][cascade_classifier.fit_transform] group_ends=[18]\n",
      "[ 2018-05-15 11:26:55,627][cascade_classifier.fit_transform] X_train.shape=(6611, 18),X_test.shape=(3257, 18)\n",
      "[ 2018-05-15 11:26:55,631][cascade_classifier.fit_transform] [layer=0] look_indexs=[0], X_cur_train.shape=(6611, 18), X_cur_test.shape=(3257, 18)\n"
     ]
    },
    {
     "name": "stdout",
     "output_type": "stream",
     "text": [
      "('Test Accuracy of ExtraTrees = 99.969297 %', 7, 'fois')\n",
      "[[3249    0]\n",
      " [   1    7]]\n",
      "\n",
      "\n",
      "             precision    recall  f1-score   support\n",
      "\n",
      "        0.0       1.00      1.00      1.00      3249\n",
      "        1.0       1.00      0.88      0.93         8\n",
      "\n",
      "avg / total       1.00      1.00      1.00      3257\n",
      "\n"
     ]
    },
    {
     "name": "stderr",
     "output_type": "stream",
     "text": [
      "[ 2018-05-15 11:26:56,334][kfold_wrapper.log_eval_metrics] Accuracy(layer_0 - estimator_0 - 10_folds.train_0.predict)=100.00%\n",
      "[ 2018-05-15 11:26:57,119][kfold_wrapper.log_eval_metrics] Accuracy(layer_0 - estimator_0 - 10_folds.train_1.predict)=99.85%\n",
      "[ 2018-05-15 11:26:57,934][kfold_wrapper.log_eval_metrics] Accuracy(layer_0 - estimator_0 - 10_folds.train_2.predict)=100.00%\n",
      "[ 2018-05-15 11:26:58,680][kfold_wrapper.log_eval_metrics] Accuracy(layer_0 - estimator_0 - 10_folds.train_3.predict)=100.00%\n",
      "[ 2018-05-15 11:26:59,419][kfold_wrapper.log_eval_metrics] Accuracy(layer_0 - estimator_0 - 10_folds.train_4.predict)=100.00%\n",
      "[ 2018-05-15 11:27:00,161][kfold_wrapper.log_eval_metrics] Accuracy(layer_0 - estimator_0 - 10_folds.train_5.predict)=100.00%\n",
      "[ 2018-05-15 11:27:00,877][kfold_wrapper.log_eval_metrics] Accuracy(layer_0 - estimator_0 - 10_folds.train_6.predict)=100.00%\n",
      "[ 2018-05-15 11:27:01,619][kfold_wrapper.log_eval_metrics] Accuracy(layer_0 - estimator_0 - 10_folds.train_7.predict)=100.00%\n",
      "[ 2018-05-15 11:27:02,392][kfold_wrapper.log_eval_metrics] Accuracy(layer_0 - estimator_0 - 10_folds.train_8.predict)=100.00%\n",
      "[ 2018-05-15 11:27:03,117][kfold_wrapper.log_eval_metrics] Accuracy(layer_0 - estimator_0 - 10_folds.train_9.predict)=100.00%\n",
      "[ 2018-05-15 11:27:03,239][kfold_wrapper.log_eval_metrics] Accuracy(layer_0 - estimator_0 - 10_folds.train_cv.predict)=99.98%\n",
      "[ 2018-05-15 11:27:03,241][kfold_wrapper.log_eval_metrics] Accuracy(layer_0 - estimator_0 - 10_folds.test.predict)=99.97%\n",
      "[ 2018-05-15 11:27:03,247][cascade_classifier.calc_accuracy] Accuracy(layer_0 - train.classifier_average)=99.98%\n",
      "[ 2018-05-15 11:27:03,249][cascade_classifier.calc_accuracy] Accuracy(layer_0 - test.classifier_average)=99.97%\n",
      "[ 2018-05-15 11:27:03,251][cascade_classifier.fit_transform] [Result][Reach Max Layer] opt_layer_num=1, accuracy_train=99.98%, accuracy_test=99.97%\n",
      "[ 2018-05-15 11:27:03,252][cascade_classifier.transform] X_groups_test.shape=[(3257, 18)]\n",
      "[ 2018-05-15 11:27:03,254][cascade_classifier.transform] group_dims=[18]\n",
      "[ 2018-05-15 11:27:03,255][cascade_classifier.transform] X_test.shape=(3257, 18)\n",
      "[ 2018-05-15 11:27:03,256][cascade_classifier.transform] [layer=0] look_indexs=[0], X_cur_test.shape=(3257, 18)\n",
      "[ 2018-05-15 11:27:04,430][cascade_classifier.fit_transform] X_groups_train.shape=[(6611, 18)],y_train.shape=(6611,),X_groups_test.shape=[(3257, 18)],y_test.shape=(3257,)\n",
      "[ 2018-05-15 11:27:04,432][cascade_classifier.fit_transform] group_dims=[18]\n",
      "[ 2018-05-15 11:27:04,434][cascade_classifier.fit_transform] group_starts=[0]\n",
      "[ 2018-05-15 11:27:04,435][cascade_classifier.fit_transform] group_ends=[18]\n",
      "[ 2018-05-15 11:27:04,437][cascade_classifier.fit_transform] X_train.shape=(6611, 18),X_test.shape=(3257, 18)\n",
      "[ 2018-05-15 11:27:04,439][cascade_classifier.fit_transform] [layer=0] look_indexs=[0], X_cur_train.shape=(6611, 18), X_cur_test.shape=(3257, 18)\n"
     ]
    },
    {
     "name": "stdout",
     "output_type": "stream",
     "text": [
      "('Test Accuracy of ExtraTrees = 99.969297 %', 8, 'fois')\n",
      "[[3249    0]\n",
      " [   1    7]]\n",
      "\n",
      "\n",
      "             precision    recall  f1-score   support\n",
      "\n",
      "        0.0       1.00      1.00      1.00      3249\n",
      "        1.0       1.00      0.88      0.93         8\n",
      "\n",
      "avg / total       1.00      1.00      1.00      3257\n",
      "\n"
     ]
    },
    {
     "name": "stderr",
     "output_type": "stream",
     "text": [
      "[ 2018-05-15 11:27:05,089][kfold_wrapper.log_eval_metrics] Accuracy(layer_0 - estimator_0 - 10_folds.train_0.predict)=100.00%\n",
      "[ 2018-05-15 11:27:05,681][kfold_wrapper.log_eval_metrics] Accuracy(layer_0 - estimator_0 - 10_folds.train_1.predict)=99.85%\n",
      "[ 2018-05-15 11:27:06,453][kfold_wrapper.log_eval_metrics] Accuracy(layer_0 - estimator_0 - 10_folds.train_2.predict)=100.00%\n",
      "[ 2018-05-15 11:27:07,190][kfold_wrapper.log_eval_metrics] Accuracy(layer_0 - estimator_0 - 10_folds.train_3.predict)=100.00%\n",
      "[ 2018-05-15 11:27:07,964][kfold_wrapper.log_eval_metrics] Accuracy(layer_0 - estimator_0 - 10_folds.train_4.predict)=100.00%\n",
      "[ 2018-05-15 11:27:08,707][kfold_wrapper.log_eval_metrics] Accuracy(layer_0 - estimator_0 - 10_folds.train_5.predict)=100.00%\n",
      "[ 2018-05-15 11:27:09,439][kfold_wrapper.log_eval_metrics] Accuracy(layer_0 - estimator_0 - 10_folds.train_6.predict)=100.00%\n",
      "[ 2018-05-15 11:27:10,195][kfold_wrapper.log_eval_metrics] Accuracy(layer_0 - estimator_0 - 10_folds.train_7.predict)=100.00%\n",
      "[ 2018-05-15 11:27:11,043][kfold_wrapper.log_eval_metrics] Accuracy(layer_0 - estimator_0 - 10_folds.train_8.predict)=100.00%\n",
      "[ 2018-05-15 11:27:11,903][kfold_wrapper.log_eval_metrics] Accuracy(layer_0 - estimator_0 - 10_folds.train_9.predict)=100.00%\n",
      "[ 2018-05-15 11:27:12,018][kfold_wrapper.log_eval_metrics] Accuracy(layer_0 - estimator_0 - 10_folds.train_cv.predict)=99.98%\n",
      "[ 2018-05-15 11:27:12,020][kfold_wrapper.log_eval_metrics] Accuracy(layer_0 - estimator_0 - 10_folds.test.predict)=99.97%\n",
      "[ 2018-05-15 11:27:12,024][cascade_classifier.calc_accuracy] Accuracy(layer_0 - train.classifier_average)=99.98%\n",
      "[ 2018-05-15 11:27:12,026][cascade_classifier.calc_accuracy] Accuracy(layer_0 - test.classifier_average)=99.97%\n",
      "[ 2018-05-15 11:27:12,027][cascade_classifier.fit_transform] [Result][Reach Max Layer] opt_layer_num=1, accuracy_train=99.98%, accuracy_test=99.97%\n",
      "[ 2018-05-15 11:27:12,028][cascade_classifier.transform] X_groups_test.shape=[(3257, 18)]\n",
      "[ 2018-05-15 11:27:12,029][cascade_classifier.transform] group_dims=[18]\n",
      "[ 2018-05-15 11:27:12,032][cascade_classifier.transform] X_test.shape=(3257, 18)\n",
      "[ 2018-05-15 11:27:12,035][cascade_classifier.transform] [layer=0] look_indexs=[0], X_cur_test.shape=(3257, 18)\n",
      "[ 2018-05-15 11:27:13,227][cascade_classifier.fit_transform] X_groups_train.shape=[(6611, 18)],y_train.shape=(6611,),X_groups_test.shape=[(3257, 18)],y_test.shape=(3257,)\n",
      "[ 2018-05-15 11:27:13,228][cascade_classifier.fit_transform] group_dims=[18]\n",
      "[ 2018-05-15 11:27:13,229][cascade_classifier.fit_transform] group_starts=[0]\n",
      "[ 2018-05-15 11:27:13,231][cascade_classifier.fit_transform] group_ends=[18]\n",
      "[ 2018-05-15 11:27:13,233][cascade_classifier.fit_transform] X_train.shape=(6611, 18),X_test.shape=(3257, 18)\n",
      "[ 2018-05-15 11:27:13,236][cascade_classifier.fit_transform] [layer=0] look_indexs=[0], X_cur_train.shape=(6611, 18), X_cur_test.shape=(3257, 18)\n"
     ]
    },
    {
     "name": "stdout",
     "output_type": "stream",
     "text": [
      "('Test Accuracy of ExtraTrees = 99.969297 %', 9, 'fois')\n",
      "[[3249    0]\n",
      " [   1    7]]\n",
      "\n",
      "\n",
      "             precision    recall  f1-score   support\n",
      "\n",
      "        0.0       1.00      1.00      1.00      3249\n",
      "        1.0       1.00      0.88      0.93         8\n",
      "\n",
      "avg / total       1.00      1.00      1.00      3257\n",
      "\n"
     ]
    },
    {
     "name": "stderr",
     "output_type": "stream",
     "text": [
      "[ 2018-05-15 11:27:13,984][kfold_wrapper.log_eval_metrics] Accuracy(layer_0 - estimator_0 - 10_folds.train_0.predict)=100.00%\n",
      "[ 2018-05-15 11:27:14,638][kfold_wrapper.log_eval_metrics] Accuracy(layer_0 - estimator_0 - 10_folds.train_1.predict)=99.85%\n",
      "[ 2018-05-15 11:27:15,339][kfold_wrapper.log_eval_metrics] Accuracy(layer_0 - estimator_0 - 10_folds.train_2.predict)=100.00%\n",
      "[ 2018-05-15 11:27:16,055][kfold_wrapper.log_eval_metrics] Accuracy(layer_0 - estimator_0 - 10_folds.train_3.predict)=100.00%\n",
      "[ 2018-05-15 11:27:16,811][kfold_wrapper.log_eval_metrics] Accuracy(layer_0 - estimator_0 - 10_folds.train_4.predict)=100.00%\n",
      "[ 2018-05-15 11:27:17,379][kfold_wrapper.log_eval_metrics] Accuracy(layer_0 - estimator_0 - 10_folds.train_5.predict)=100.00%\n",
      "[ 2018-05-15 11:27:18,168][kfold_wrapper.log_eval_metrics] Accuracy(layer_0 - estimator_0 - 10_folds.train_6.predict)=100.00%\n",
      "[ 2018-05-15 11:27:19,032][kfold_wrapper.log_eval_metrics] Accuracy(layer_0 - estimator_0 - 10_folds.train_7.predict)=100.00%\n",
      "[ 2018-05-15 11:27:19,797][kfold_wrapper.log_eval_metrics] Accuracy(layer_0 - estimator_0 - 10_folds.train_8.predict)=100.00%\n",
      "[ 2018-05-15 11:27:20,495][kfold_wrapper.log_eval_metrics] Accuracy(layer_0 - estimator_0 - 10_folds.train_9.predict)=100.00%\n",
      "[ 2018-05-15 11:27:20,619][kfold_wrapper.log_eval_metrics] Accuracy(layer_0 - estimator_0 - 10_folds.train_cv.predict)=99.98%\n",
      "[ 2018-05-15 11:27:20,621][kfold_wrapper.log_eval_metrics] Accuracy(layer_0 - estimator_0 - 10_folds.test.predict)=99.97%\n",
      "[ 2018-05-15 11:27:20,625][cascade_classifier.calc_accuracy] Accuracy(layer_0 - train.classifier_average)=99.98%\n",
      "[ 2018-05-15 11:27:20,626][cascade_classifier.calc_accuracy] Accuracy(layer_0 - test.classifier_average)=99.97%\n",
      "[ 2018-05-15 11:27:20,628][cascade_classifier.fit_transform] [Result][Reach Max Layer] opt_layer_num=1, accuracy_train=99.98%, accuracy_test=99.97%\n",
      "[ 2018-05-15 11:27:20,630][cascade_classifier.transform] X_groups_test.shape=[(3257, 18)]\n",
      "[ 2018-05-15 11:27:20,631][cascade_classifier.transform] group_dims=[18]\n",
      "[ 2018-05-15 11:27:20,632][cascade_classifier.transform] X_test.shape=(3257, 18)\n",
      "[ 2018-05-15 11:27:20,634][cascade_classifier.transform] [layer=0] look_indexs=[0], X_cur_test.shape=(3257, 18)\n",
      "[ 2018-05-15 11:27:21,836][cascade_classifier.fit_transform] X_groups_train.shape=[(6611, 18)],y_train.shape=(6611,),X_groups_test.shape=[(3257, 18)],y_test.shape=(3257,)\n"
     ]
    },
    {
     "name": "stdout",
     "output_type": "stream",
     "text": [
      "('Test Accuracy of ExtraTrees = 99.969297 %', 10, 'fois')\n",
      "[[3249    0]\n",
      " [   1    7]]\n",
      "\n",
      "\n",
      "             precision    recall  f1-score   support\n",
      "\n",
      "        0.0       1.00      1.00      1.00      3249\n",
      "        1.0       1.00      0.88      0.93         8\n",
      "\n",
      "avg / total       1.00      1.00      1.00      3257\n",
      "\n"
     ]
    },
    {
     "name": "stderr",
     "output_type": "stream",
     "text": [
      "[ 2018-05-15 11:27:21,838][cascade_classifier.fit_transform] group_dims=[18]\n",
      "[ 2018-05-15 11:27:22,100][cascade_classifier.fit_transform] group_starts=[0]\n",
      "[ 2018-05-15 11:27:22,103][cascade_classifier.fit_transform] group_ends=[18]\n",
      "[ 2018-05-15 11:27:22,105][cascade_classifier.fit_transform] X_train.shape=(6611, 18),X_test.shape=(3257, 18)\n",
      "[ 2018-05-15 11:27:22,107][cascade_classifier.fit_transform] [layer=0] look_indexs=[0], X_cur_train.shape=(6611, 18), X_cur_test.shape=(3257, 18)\n",
      "[ 2018-05-15 11:27:22,761][kfold_wrapper.log_eval_metrics] Accuracy(layer_0 - estimator_0 - 10_folds.train_0.predict)=100.00%\n",
      "[ 2018-05-15 11:27:23,489][kfold_wrapper.log_eval_metrics] Accuracy(layer_0 - estimator_0 - 10_folds.train_1.predict)=99.85%\n",
      "[ 2018-05-15 11:27:24,212][kfold_wrapper.log_eval_metrics] Accuracy(layer_0 - estimator_0 - 10_folds.train_2.predict)=100.00%\n",
      "[ 2018-05-15 11:27:24,816][kfold_wrapper.log_eval_metrics] Accuracy(layer_0 - estimator_0 - 10_folds.train_3.predict)=100.00%\n",
      "[ 2018-05-15 11:27:25,379][kfold_wrapper.log_eval_metrics] Accuracy(layer_0 - estimator_0 - 10_folds.train_4.predict)=100.00%\n",
      "[ 2018-05-15 11:27:26,086][kfold_wrapper.log_eval_metrics] Accuracy(layer_0 - estimator_0 - 10_folds.train_5.predict)=100.00%\n",
      "[ 2018-05-15 11:27:26,807][kfold_wrapper.log_eval_metrics] Accuracy(layer_0 - estimator_0 - 10_folds.train_6.predict)=100.00%\n",
      "[ 2018-05-15 11:27:27,549][kfold_wrapper.log_eval_metrics] Accuracy(layer_0 - estimator_0 - 10_folds.train_7.predict)=100.00%\n",
      "[ 2018-05-15 11:27:28,255][kfold_wrapper.log_eval_metrics] Accuracy(layer_0 - estimator_0 - 10_folds.train_8.predict)=100.00%\n",
      "[ 2018-05-15 11:27:28,831][kfold_wrapper.log_eval_metrics] Accuracy(layer_0 - estimator_0 - 10_folds.train_9.predict)=100.00%\n",
      "[ 2018-05-15 11:27:28,951][kfold_wrapper.log_eval_metrics] Accuracy(layer_0 - estimator_0 - 10_folds.train_cv.predict)=99.98%\n",
      "[ 2018-05-15 11:27:28,954][kfold_wrapper.log_eval_metrics] Accuracy(layer_0 - estimator_0 - 10_folds.test.predict)=99.97%\n",
      "[ 2018-05-15 11:27:28,962][cascade_classifier.calc_accuracy] Accuracy(layer_0 - train.classifier_average)=99.98%\n",
      "[ 2018-05-15 11:27:28,965][cascade_classifier.calc_accuracy] Accuracy(layer_0 - test.classifier_average)=99.97%\n",
      "[ 2018-05-15 11:27:28,966][cascade_classifier.fit_transform] [Result][Reach Max Layer] opt_layer_num=1, accuracy_train=99.98%, accuracy_test=99.97%\n",
      "[ 2018-05-15 11:27:28,968][cascade_classifier.transform] X_groups_test.shape=[(3257, 18)]\n",
      "[ 2018-05-15 11:27:28,969][cascade_classifier.transform] group_dims=[18]\n",
      "[ 2018-05-15 11:27:28,971][cascade_classifier.transform] X_test.shape=(3257, 18)\n",
      "[ 2018-05-15 11:27:28,973][cascade_classifier.transform] [layer=0] look_indexs=[0], X_cur_test.shape=(3257, 18)\n",
      "[ 2018-05-15 11:27:30,171][cascade_classifier.fit_transform] X_groups_train.shape=[(6611, 18)],y_train.shape=(6611,),X_groups_test.shape=[(3257, 18)],y_test.shape=(3257,)\n",
      "[ 2018-05-15 11:27:30,172][cascade_classifier.fit_transform] group_dims=[18]\n",
      "[ 2018-05-15 11:27:30,173][cascade_classifier.fit_transform] group_starts=[0]\n",
      "[ 2018-05-15 11:27:30,174][cascade_classifier.fit_transform] group_ends=[18]\n",
      "[ 2018-05-15 11:27:30,176][cascade_classifier.fit_transform] X_train.shape=(6611, 18),X_test.shape=(3257, 18)\n",
      "[ 2018-05-15 11:27:30,178][cascade_classifier.fit_transform] [layer=0] look_indexs=[0], X_cur_train.shape=(6611, 18), X_cur_test.shape=(3257, 18)\n"
     ]
    },
    {
     "name": "stdout",
     "output_type": "stream",
     "text": [
      "('Test Accuracy of ExtraTrees = 99.969297 %', 11, 'fois')\n",
      "[[3249    0]\n",
      " [   1    7]]\n",
      "\n",
      "\n",
      "             precision    recall  f1-score   support\n",
      "\n",
      "        0.0       1.00      1.00      1.00      3249\n",
      "        1.0       1.00      0.88      0.93         8\n",
      "\n",
      "avg / total       1.00      1.00      1.00      3257\n",
      "\n"
     ]
    },
    {
     "name": "stderr",
     "output_type": "stream",
     "text": [
      "[ 2018-05-15 11:27:30,797][kfold_wrapper.log_eval_metrics] Accuracy(layer_0 - estimator_0 - 10_folds.train_0.predict)=100.00%\n",
      "[ 2018-05-15 11:27:31,538][kfold_wrapper.log_eval_metrics] Accuracy(layer_0 - estimator_0 - 10_folds.train_1.predict)=99.85%\n",
      "[ 2018-05-15 11:27:32,271][kfold_wrapper.log_eval_metrics] Accuracy(layer_0 - estimator_0 - 10_folds.train_2.predict)=100.00%\n",
      "[ 2018-05-15 11:27:32,980][kfold_wrapper.log_eval_metrics] Accuracy(layer_0 - estimator_0 - 10_folds.train_3.predict)=100.00%\n",
      "[ 2018-05-15 11:27:33,706][kfold_wrapper.log_eval_metrics] Accuracy(layer_0 - estimator_0 - 10_folds.train_4.predict)=100.00%\n",
      "[ 2018-05-15 11:27:34,412][kfold_wrapper.log_eval_metrics] Accuracy(layer_0 - estimator_0 - 10_folds.train_5.predict)=100.00%\n",
      "[ 2018-05-15 11:27:35,129][kfold_wrapper.log_eval_metrics] Accuracy(layer_0 - estimator_0 - 10_folds.train_6.predict)=100.00%\n",
      "[ 2018-05-15 11:27:35,749][kfold_wrapper.log_eval_metrics] Accuracy(layer_0 - estimator_0 - 10_folds.train_7.predict)=100.00%\n",
      "[ 2018-05-15 11:27:36,490][kfold_wrapper.log_eval_metrics] Accuracy(layer_0 - estimator_0 - 10_folds.train_8.predict)=100.00%\n",
      "[ 2018-05-15 11:27:37,208][kfold_wrapper.log_eval_metrics] Accuracy(layer_0 - estimator_0 - 10_folds.train_9.predict)=100.00%\n",
      "[ 2018-05-15 11:27:37,316][kfold_wrapper.log_eval_metrics] Accuracy(layer_0 - estimator_0 - 10_folds.train_cv.predict)=99.98%\n",
      "[ 2018-05-15 11:27:37,322][kfold_wrapper.log_eval_metrics] Accuracy(layer_0 - estimator_0 - 10_folds.test.predict)=99.97%\n",
      "[ 2018-05-15 11:27:37,328][cascade_classifier.calc_accuracy] Accuracy(layer_0 - train.classifier_average)=99.98%\n",
      "[ 2018-05-15 11:27:37,329][cascade_classifier.calc_accuracy] Accuracy(layer_0 - test.classifier_average)=99.97%\n",
      "[ 2018-05-15 11:27:37,331][cascade_classifier.fit_transform] [Result][Reach Max Layer] opt_layer_num=1, accuracy_train=99.98%, accuracy_test=99.97%\n",
      "[ 2018-05-15 11:27:37,332][cascade_classifier.transform] X_groups_test.shape=[(3257, 18)]\n",
      "[ 2018-05-15 11:27:37,334][cascade_classifier.transform] group_dims=[18]\n",
      "[ 2018-05-15 11:27:37,335][cascade_classifier.transform] X_test.shape=(3257, 18)\n",
      "[ 2018-05-15 11:27:37,336][cascade_classifier.transform] [layer=0] look_indexs=[0], X_cur_test.shape=(3257, 18)\n",
      "[ 2018-05-15 11:27:38,491][cascade_classifier.fit_transform] X_groups_train.shape=[(6611, 18)],y_train.shape=(6611,),X_groups_test.shape=[(3257, 18)],y_test.shape=(3257,)\n",
      "[ 2018-05-15 11:27:38,493][cascade_classifier.fit_transform] group_dims=[18]\n",
      "[ 2018-05-15 11:27:38,494][cascade_classifier.fit_transform] group_starts=[0]\n",
      "[ 2018-05-15 11:27:38,495][cascade_classifier.fit_transform] group_ends=[18]\n",
      "[ 2018-05-15 11:27:38,496][cascade_classifier.fit_transform] X_train.shape=(6611, 18),X_test.shape=(3257, 18)\n",
      "[ 2018-05-15 11:27:38,498][cascade_classifier.fit_transform] [layer=0] look_indexs=[0], X_cur_train.shape=(6611, 18), X_cur_test.shape=(3257, 18)\n"
     ]
    },
    {
     "name": "stdout",
     "output_type": "stream",
     "text": [
      "('Test Accuracy of ExtraTrees = 99.969297 %', 12, 'fois')\n",
      "[[3249    0]\n",
      " [   1    7]]\n",
      "\n",
      "\n",
      "             precision    recall  f1-score   support\n",
      "\n",
      "        0.0       1.00      1.00      1.00      3249\n",
      "        1.0       1.00      0.88      0.93         8\n",
      "\n",
      "avg / total       1.00      1.00      1.00      3257\n",
      "\n"
     ]
    },
    {
     "name": "stderr",
     "output_type": "stream",
     "text": [
      "[ 2018-05-15 11:27:39,152][kfold_wrapper.log_eval_metrics] Accuracy(layer_0 - estimator_0 - 10_folds.train_0.predict)=100.00%\n",
      "[ 2018-05-15 11:27:39,874][kfold_wrapper.log_eval_metrics] Accuracy(layer_0 - estimator_0 - 10_folds.train_1.predict)=99.85%\n",
      "[ 2018-05-15 11:27:40,459][kfold_wrapper.log_eval_metrics] Accuracy(layer_0 - estimator_0 - 10_folds.train_2.predict)=100.00%\n",
      "[ 2018-05-15 11:27:41,150][kfold_wrapper.log_eval_metrics] Accuracy(layer_0 - estimator_0 - 10_folds.train_3.predict)=100.00%\n",
      "[ 2018-05-15 11:27:41,797][kfold_wrapper.log_eval_metrics] Accuracy(layer_0 - estimator_0 - 10_folds.train_4.predict)=100.00%\n",
      "[ 2018-05-15 11:27:42,367][kfold_wrapper.log_eval_metrics] Accuracy(layer_0 - estimator_0 - 10_folds.train_5.predict)=100.00%\n",
      "[ 2018-05-15 11:27:42,958][kfold_wrapper.log_eval_metrics] Accuracy(layer_0 - estimator_0 - 10_folds.train_6.predict)=100.00%\n",
      "[ 2018-05-15 11:27:43,694][kfold_wrapper.log_eval_metrics] Accuracy(layer_0 - estimator_0 - 10_folds.train_7.predict)=100.00%\n",
      "[ 2018-05-15 11:27:44,416][kfold_wrapper.log_eval_metrics] Accuracy(layer_0 - estimator_0 - 10_folds.train_8.predict)=100.00%\n",
      "[ 2018-05-15 11:27:44,990][kfold_wrapper.log_eval_metrics] Accuracy(layer_0 - estimator_0 - 10_folds.train_9.predict)=100.00%\n",
      "[ 2018-05-15 11:27:45,112][kfold_wrapper.log_eval_metrics] Accuracy(layer_0 - estimator_0 - 10_folds.train_cv.predict)=99.98%\n",
      "[ 2018-05-15 11:27:45,115][kfold_wrapper.log_eval_metrics] Accuracy(layer_0 - estimator_0 - 10_folds.test.predict)=99.97%\n",
      "[ 2018-05-15 11:27:45,123][cascade_classifier.calc_accuracy] Accuracy(layer_0 - train.classifier_average)=99.98%\n",
      "[ 2018-05-15 11:27:45,125][cascade_classifier.calc_accuracy] Accuracy(layer_0 - test.classifier_average)=99.97%\n",
      "[ 2018-05-15 11:27:45,126][cascade_classifier.fit_transform] [Result][Reach Max Layer] opt_layer_num=1, accuracy_train=99.98%, accuracy_test=99.97%\n",
      "[ 2018-05-15 11:27:45,127][cascade_classifier.transform] X_groups_test.shape=[(3257, 18)]\n",
      "[ 2018-05-15 11:27:45,128][cascade_classifier.transform] group_dims=[18]\n",
      "[ 2018-05-15 11:27:45,129][cascade_classifier.transform] X_test.shape=(3257, 18)\n",
      "[ 2018-05-15 11:27:45,131][cascade_classifier.transform] [layer=0] look_indexs=[0], X_cur_test.shape=(3257, 18)\n",
      "[ 2018-05-15 11:27:46,311][cascade_classifier.fit_transform] X_groups_train.shape=[(6611, 18)],y_train.shape=(6611,),X_groups_test.shape=[(3257, 18)],y_test.shape=(3257,)\n",
      "[ 2018-05-15 11:27:46,313][cascade_classifier.fit_transform] group_dims=[18]\n",
      "[ 2018-05-15 11:27:46,314][cascade_classifier.fit_transform] group_starts=[0]\n",
      "[ 2018-05-15 11:27:46,315][cascade_classifier.fit_transform] group_ends=[18]\n",
      "[ 2018-05-15 11:27:46,316][cascade_classifier.fit_transform] X_train.shape=(6611, 18),X_test.shape=(3257, 18)\n",
      "[ 2018-05-15 11:27:46,319][cascade_classifier.fit_transform] [layer=0] look_indexs=[0], X_cur_train.shape=(6611, 18), X_cur_test.shape=(3257, 18)\n"
     ]
    },
    {
     "name": "stdout",
     "output_type": "stream",
     "text": [
      "('Test Accuracy of ExtraTrees = 99.969297 %', 13, 'fois')\n",
      "[[3249    0]\n",
      " [   1    7]]\n",
      "\n",
      "\n",
      "             precision    recall  f1-score   support\n",
      "\n",
      "        0.0       1.00      1.00      1.00      3249\n",
      "        1.0       1.00      0.88      0.93         8\n",
      "\n",
      "avg / total       1.00      1.00      1.00      3257\n",
      "\n"
     ]
    },
    {
     "name": "stderr",
     "output_type": "stream",
     "text": [
      "[ 2018-05-15 11:27:47,026][kfold_wrapper.log_eval_metrics] Accuracy(layer_0 - estimator_0 - 10_folds.train_0.predict)=100.00%\n",
      "[ 2018-05-15 11:27:47,609][kfold_wrapper.log_eval_metrics] Accuracy(layer_0 - estimator_0 - 10_folds.train_1.predict)=99.85%\n",
      "[ 2018-05-15 11:27:48,339][kfold_wrapper.log_eval_metrics] Accuracy(layer_0 - estimator_0 - 10_folds.train_2.predict)=100.00%\n",
      "[ 2018-05-15 11:27:49,063][kfold_wrapper.log_eval_metrics] Accuracy(layer_0 - estimator_0 - 10_folds.train_3.predict)=100.00%\n",
      "[ 2018-05-15 11:27:49,661][kfold_wrapper.log_eval_metrics] Accuracy(layer_0 - estimator_0 - 10_folds.train_4.predict)=100.00%\n",
      "[ 2018-05-15 11:27:50,413][kfold_wrapper.log_eval_metrics] Accuracy(layer_0 - estimator_0 - 10_folds.train_5.predict)=100.00%\n",
      "[ 2018-05-15 11:27:51,190][kfold_wrapper.log_eval_metrics] Accuracy(layer_0 - estimator_0 - 10_folds.train_6.predict)=100.00%\n",
      "[ 2018-05-15 11:27:51,762][kfold_wrapper.log_eval_metrics] Accuracy(layer_0 - estimator_0 - 10_folds.train_7.predict)=100.00%\n",
      "[ 2018-05-15 11:27:52,328][kfold_wrapper.log_eval_metrics] Accuracy(layer_0 - estimator_0 - 10_folds.train_8.predict)=100.00%\n",
      "[ 2018-05-15 11:27:52,969][kfold_wrapper.log_eval_metrics] Accuracy(layer_0 - estimator_0 - 10_folds.train_9.predict)=100.00%\n",
      "[ 2018-05-15 11:27:53,087][kfold_wrapper.log_eval_metrics] Accuracy(layer_0 - estimator_0 - 10_folds.train_cv.predict)=99.98%\n",
      "[ 2018-05-15 11:27:53,092][kfold_wrapper.log_eval_metrics] Accuracy(layer_0 - estimator_0 - 10_folds.test.predict)=99.97%\n",
      "[ 2018-05-15 11:27:53,098][cascade_classifier.calc_accuracy] Accuracy(layer_0 - train.classifier_average)=99.98%\n",
      "[ 2018-05-15 11:27:53,099][cascade_classifier.calc_accuracy] Accuracy(layer_0 - test.classifier_average)=99.97%\n",
      "[ 2018-05-15 11:27:53,100][cascade_classifier.fit_transform] [Result][Reach Max Layer] opt_layer_num=1, accuracy_train=99.98%, accuracy_test=99.97%\n",
      "[ 2018-05-15 11:27:53,102][cascade_classifier.transform] X_groups_test.shape=[(3257, 18)]\n",
      "[ 2018-05-15 11:27:53,107][cascade_classifier.transform] group_dims=[18]\n",
      "[ 2018-05-15 11:27:53,110][cascade_classifier.transform] X_test.shape=(3257, 18)\n",
      "[ 2018-05-15 11:27:53,112][cascade_classifier.transform] [layer=0] look_indexs=[0], X_cur_test.shape=(3257, 18)\n",
      "[ 2018-05-15 11:27:54,228][cascade_classifier.fit_transform] X_groups_train.shape=[(6611, 18)],y_train.shape=(6611,),X_groups_test.shape=[(3257, 18)],y_test.shape=(3257,)\n",
      "[ 2018-05-15 11:27:54,230][cascade_classifier.fit_transform] group_dims=[18]\n",
      "[ 2018-05-15 11:27:54,231][cascade_classifier.fit_transform] group_starts=[0]\n",
      "[ 2018-05-15 11:27:54,232][cascade_classifier.fit_transform] group_ends=[18]\n",
      "[ 2018-05-15 11:27:54,233][cascade_classifier.fit_transform] X_train.shape=(6611, 18),X_test.shape=(3257, 18)\n",
      "[ 2018-05-15 11:27:54,235][cascade_classifier.fit_transform] [layer=0] look_indexs=[0], X_cur_train.shape=(6611, 18), X_cur_test.shape=(3257, 18)\n"
     ]
    },
    {
     "name": "stdout",
     "output_type": "stream",
     "text": [
      "('Test Accuracy of ExtraTrees = 99.969297 %', 14, 'fois')\n",
      "[[3249    0]\n",
      " [   1    7]]\n",
      "\n",
      "\n",
      "             precision    recall  f1-score   support\n",
      "\n",
      "        0.0       1.00      1.00      1.00      3249\n",
      "        1.0       1.00      0.88      0.93         8\n",
      "\n",
      "avg / total       1.00      1.00      1.00      3257\n",
      "\n"
     ]
    },
    {
     "name": "stderr",
     "output_type": "stream",
     "text": [
      "[ 2018-05-15 11:27:54,891][kfold_wrapper.log_eval_metrics] Accuracy(layer_0 - estimator_0 - 10_folds.train_0.predict)=100.00%\n",
      "[ 2018-05-15 11:27:55,466][kfold_wrapper.log_eval_metrics] Accuracy(layer_0 - estimator_0 - 10_folds.train_1.predict)=99.85%\n",
      "[ 2018-05-15 11:27:56,191][kfold_wrapper.log_eval_metrics] Accuracy(layer_0 - estimator_0 - 10_folds.train_2.predict)=100.00%\n",
      "[ 2018-05-15 11:27:56,910][kfold_wrapper.log_eval_metrics] Accuracy(layer_0 - estimator_0 - 10_folds.train_3.predict)=100.00%\n",
      "[ 2018-05-15 11:27:57,682][kfold_wrapper.log_eval_metrics] Accuracy(layer_0 - estimator_0 - 10_folds.train_4.predict)=100.00%\n",
      "[ 2018-05-15 11:27:58,260][kfold_wrapper.log_eval_metrics] Accuracy(layer_0 - estimator_0 - 10_folds.train_5.predict)=100.00%\n",
      "[ 2018-05-15 11:27:58,836][kfold_wrapper.log_eval_metrics] Accuracy(layer_0 - estimator_0 - 10_folds.train_6.predict)=100.00%\n",
      "[ 2018-05-15 11:27:59,416][kfold_wrapper.log_eval_metrics] Accuracy(layer_0 - estimator_0 - 10_folds.train_7.predict)=100.00%\n",
      "[ 2018-05-15 11:28:00,144][kfold_wrapper.log_eval_metrics] Accuracy(layer_0 - estimator_0 - 10_folds.train_8.predict)=100.00%\n",
      "[ 2018-05-15 11:28:00,907][kfold_wrapper.log_eval_metrics] Accuracy(layer_0 - estimator_0 - 10_folds.train_9.predict)=100.00%\n",
      "[ 2018-05-15 11:28:01,028][kfold_wrapper.log_eval_metrics] Accuracy(layer_0 - estimator_0 - 10_folds.train_cv.predict)=99.98%\n",
      "[ 2018-05-15 11:28:01,031][kfold_wrapper.log_eval_metrics] Accuracy(layer_0 - estimator_0 - 10_folds.test.predict)=99.97%\n",
      "[ 2018-05-15 11:28:01,038][cascade_classifier.calc_accuracy] Accuracy(layer_0 - train.classifier_average)=99.98%\n",
      "[ 2018-05-15 11:28:01,041][cascade_classifier.calc_accuracy] Accuracy(layer_0 - test.classifier_average)=99.97%\n",
      "[ 2018-05-15 11:28:01,043][cascade_classifier.fit_transform] [Result][Reach Max Layer] opt_layer_num=1, accuracy_train=99.98%, accuracy_test=99.97%\n",
      "[ 2018-05-15 11:28:01,045][cascade_classifier.transform] X_groups_test.shape=[(3257, 18)]\n",
      "[ 2018-05-15 11:28:01,047][cascade_classifier.transform] group_dims=[18]\n",
      "[ 2018-05-15 11:28:01,048][cascade_classifier.transform] X_test.shape=(3257, 18)\n",
      "[ 2018-05-15 11:28:01,050][cascade_classifier.transform] [layer=0] look_indexs=[0], X_cur_test.shape=(3257, 18)\n",
      "[ 2018-05-15 11:28:02,235][cascade_classifier.fit_transform] X_groups_train.shape=[(6611, 18)],y_train.shape=(6611,),X_groups_test.shape=[(3257, 18)],y_test.shape=(3257,)\n",
      "[ 2018-05-15 11:28:02,236][cascade_classifier.fit_transform] group_dims=[18]\n",
      "[ 2018-05-15 11:28:02,237][cascade_classifier.fit_transform] group_starts=[0]\n",
      "[ 2018-05-15 11:28:02,239][cascade_classifier.fit_transform] group_ends=[18]\n",
      "[ 2018-05-15 11:28:02,241][cascade_classifier.fit_transform] X_train.shape=(6611, 18),X_test.shape=(3257, 18)\n",
      "[ 2018-05-15 11:28:02,244][cascade_classifier.fit_transform] [layer=0] look_indexs=[0], X_cur_train.shape=(6611, 18), X_cur_test.shape=(3257, 18)\n"
     ]
    },
    {
     "name": "stdout",
     "output_type": "stream",
     "text": [
      "('Test Accuracy of ExtraTrees = 99.969297 %', 15, 'fois')\n",
      "[[3249    0]\n",
      " [   1    7]]\n",
      "\n",
      "\n",
      "             precision    recall  f1-score   support\n",
      "\n",
      "        0.0       1.00      1.00      1.00      3249\n",
      "        1.0       1.00      0.88      0.93         8\n",
      "\n",
      "avg / total       1.00      1.00      1.00      3257\n",
      "\n"
     ]
    },
    {
     "name": "stderr",
     "output_type": "stream",
     "text": [
      "[ 2018-05-15 11:28:02,848][kfold_wrapper.log_eval_metrics] Accuracy(layer_0 - estimator_0 - 10_folds.train_0.predict)=100.00%\n",
      "[ 2018-05-15 11:28:03,430][kfold_wrapper.log_eval_metrics] Accuracy(layer_0 - estimator_0 - 10_folds.train_1.predict)=99.85%\n",
      "[ 2018-05-15 11:28:04,030][kfold_wrapper.log_eval_metrics] Accuracy(layer_0 - estimator_0 - 10_folds.train_2.predict)=100.00%\n",
      "[ 2018-05-15 11:28:04,657][kfold_wrapper.log_eval_metrics] Accuracy(layer_0 - estimator_0 - 10_folds.train_3.predict)=100.00%\n",
      "[ 2018-05-15 11:28:05,367][kfold_wrapper.log_eval_metrics] Accuracy(layer_0 - estimator_0 - 10_folds.train_4.predict)=100.00%\n",
      "[ 2018-05-15 11:28:05,974][kfold_wrapper.log_eval_metrics] Accuracy(layer_0 - estimator_0 - 10_folds.train_5.predict)=100.00%\n",
      "[ 2018-05-15 11:28:06,563][kfold_wrapper.log_eval_metrics] Accuracy(layer_0 - estimator_0 - 10_folds.train_6.predict)=100.00%\n",
      "[ 2018-05-15 11:28:07,292][kfold_wrapper.log_eval_metrics] Accuracy(layer_0 - estimator_0 - 10_folds.train_7.predict)=100.00%\n",
      "[ 2018-05-15 11:28:08,021][kfold_wrapper.log_eval_metrics] Accuracy(layer_0 - estimator_0 - 10_folds.train_8.predict)=100.00%\n",
      "[ 2018-05-15 11:28:08,627][kfold_wrapper.log_eval_metrics] Accuracy(layer_0 - estimator_0 - 10_folds.train_9.predict)=100.00%\n",
      "[ 2018-05-15 11:28:08,753][kfold_wrapper.log_eval_metrics] Accuracy(layer_0 - estimator_0 - 10_folds.train_cv.predict)=99.98%\n",
      "[ 2018-05-15 11:28:08,757][kfold_wrapper.log_eval_metrics] Accuracy(layer_0 - estimator_0 - 10_folds.test.predict)=99.97%\n",
      "[ 2018-05-15 11:28:08,764][cascade_classifier.calc_accuracy] Accuracy(layer_0 - train.classifier_average)=99.98%\n",
      "[ 2018-05-15 11:28:08,766][cascade_classifier.calc_accuracy] Accuracy(layer_0 - test.classifier_average)=99.97%\n",
      "[ 2018-05-15 11:28:08,767][cascade_classifier.fit_transform] [Result][Reach Max Layer] opt_layer_num=1, accuracy_train=99.98%, accuracy_test=99.97%\n",
      "[ 2018-05-15 11:28:08,769][cascade_classifier.transform] X_groups_test.shape=[(3257, 18)]\n",
      "[ 2018-05-15 11:28:08,771][cascade_classifier.transform] group_dims=[18]\n",
      "[ 2018-05-15 11:28:08,772][cascade_classifier.transform] X_test.shape=(3257, 18)\n",
      "[ 2018-05-15 11:28:08,775][cascade_classifier.transform] [layer=0] look_indexs=[0], X_cur_test.shape=(3257, 18)\n",
      "[ 2018-05-15 11:28:09,950][cascade_classifier.fit_transform] X_groups_train.shape=[(6611, 18)],y_train.shape=(6611,),X_groups_test.shape=[(3257, 18)],y_test.shape=(3257,)\n",
      "[ 2018-05-15 11:28:09,952][cascade_classifier.fit_transform] group_dims=[18]\n",
      "[ 2018-05-15 11:28:09,953][cascade_classifier.fit_transform] group_starts=[0]\n",
      "[ 2018-05-15 11:28:09,954][cascade_classifier.fit_transform] group_ends=[18]\n",
      "[ 2018-05-15 11:28:09,957][cascade_classifier.fit_transform] X_train.shape=(6611, 18),X_test.shape=(3257, 18)\n",
      "[ 2018-05-15 11:28:09,960][cascade_classifier.fit_transform] [layer=0] look_indexs=[0], X_cur_train.shape=(6611, 18), X_cur_test.shape=(3257, 18)\n"
     ]
    },
    {
     "name": "stdout",
     "output_type": "stream",
     "text": [
      "('Test Accuracy of ExtraTrees = 99.969297 %', 16, 'fois')\n",
      "[[3249    0]\n",
      " [   1    7]]\n",
      "\n",
      "\n",
      "             precision    recall  f1-score   support\n",
      "\n",
      "        0.0       1.00      1.00      1.00      3249\n",
      "        1.0       1.00      0.88      0.93         8\n",
      "\n",
      "avg / total       1.00      1.00      1.00      3257\n",
      "\n"
     ]
    },
    {
     "name": "stderr",
     "output_type": "stream",
     "text": [
      "[ 2018-05-15 11:28:10,590][kfold_wrapper.log_eval_metrics] Accuracy(layer_0 - estimator_0 - 10_folds.train_0.predict)=100.00%\n",
      "[ 2018-05-15 11:28:11,186][kfold_wrapper.log_eval_metrics] Accuracy(layer_0 - estimator_0 - 10_folds.train_1.predict)=99.85%\n",
      "[ 2018-05-15 11:28:11,770][kfold_wrapper.log_eval_metrics] Accuracy(layer_0 - estimator_0 - 10_folds.train_2.predict)=100.00%\n",
      "[ 2018-05-15 11:28:12,352][kfold_wrapper.log_eval_metrics] Accuracy(layer_0 - estimator_0 - 10_folds.train_3.predict)=100.00%\n",
      "[ 2018-05-15 11:28:12,949][kfold_wrapper.log_eval_metrics] Accuracy(layer_0 - estimator_0 - 10_folds.train_4.predict)=100.00%\n",
      "[ 2018-05-15 11:28:13,581][kfold_wrapper.log_eval_metrics] Accuracy(layer_0 - estimator_0 - 10_folds.train_5.predict)=100.00%\n",
      "[ 2018-05-15 11:28:14,166][kfold_wrapper.log_eval_metrics] Accuracy(layer_0 - estimator_0 - 10_folds.train_6.predict)=100.00%\n",
      "[ 2018-05-15 11:28:14,767][kfold_wrapper.log_eval_metrics] Accuracy(layer_0 - estimator_0 - 10_folds.train_7.predict)=100.00%\n",
      "[ 2018-05-15 11:28:15,349][kfold_wrapper.log_eval_metrics] Accuracy(layer_0 - estimator_0 - 10_folds.train_8.predict)=100.00%\n",
      "[ 2018-05-15 11:28:15,927][kfold_wrapper.log_eval_metrics] Accuracy(layer_0 - estimator_0 - 10_folds.train_9.predict)=100.00%\n",
      "[ 2018-05-15 11:28:16,046][kfold_wrapper.log_eval_metrics] Accuracy(layer_0 - estimator_0 - 10_folds.train_cv.predict)=99.98%\n",
      "[ 2018-05-15 11:28:16,050][kfold_wrapper.log_eval_metrics] Accuracy(layer_0 - estimator_0 - 10_folds.test.predict)=99.97%\n",
      "[ 2018-05-15 11:28:16,058][cascade_classifier.calc_accuracy] Accuracy(layer_0 - train.classifier_average)=99.98%\n",
      "[ 2018-05-15 11:28:16,062][cascade_classifier.calc_accuracy] Accuracy(layer_0 - test.classifier_average)=99.97%\n",
      "[ 2018-05-15 11:28:16,064][cascade_classifier.fit_transform] [Result][Reach Max Layer] opt_layer_num=1, accuracy_train=99.98%, accuracy_test=99.97%\n",
      "[ 2018-05-15 11:28:16,066][cascade_classifier.transform] X_groups_test.shape=[(3257, 18)]\n",
      "[ 2018-05-15 11:28:16,068][cascade_classifier.transform] group_dims=[18]\n",
      "[ 2018-05-15 11:28:16,069][cascade_classifier.transform] X_test.shape=(3257, 18)\n",
      "[ 2018-05-15 11:28:16,073][cascade_classifier.transform] [layer=0] look_indexs=[0], X_cur_test.shape=(3257, 18)\n",
      "[ 2018-05-15 11:28:17,273][cascade_classifier.fit_transform] X_groups_train.shape=[(6611, 18)],y_train.shape=(6611,),X_groups_test.shape=[(3257, 18)],y_test.shape=(3257,)\n",
      "[ 2018-05-15 11:28:17,275][cascade_classifier.fit_transform] group_dims=[18]\n",
      "[ 2018-05-15 11:28:17,276][cascade_classifier.fit_transform] group_starts=[0]\n",
      "[ 2018-05-15 11:28:17,277][cascade_classifier.fit_transform] group_ends=[18]\n",
      "[ 2018-05-15 11:28:17,280][cascade_classifier.fit_transform] X_train.shape=(6611, 18),X_test.shape=(3257, 18)\n",
      "[ 2018-05-15 11:28:17,283][cascade_classifier.fit_transform] [layer=0] look_indexs=[0], X_cur_train.shape=(6611, 18), X_cur_test.shape=(3257, 18)\n"
     ]
    },
    {
     "name": "stdout",
     "output_type": "stream",
     "text": [
      "('Test Accuracy of ExtraTrees = 99.969297 %', 17, 'fois')\n",
      "[[3249    0]\n",
      " [   1    7]]\n",
      "\n",
      "\n",
      "             precision    recall  f1-score   support\n",
      "\n",
      "        0.0       1.00      1.00      1.00      3249\n",
      "        1.0       1.00      0.88      0.93         8\n",
      "\n",
      "avg / total       1.00      1.00      1.00      3257\n",
      "\n"
     ]
    },
    {
     "name": "stderr",
     "output_type": "stream",
     "text": [
      "[ 2018-05-15 11:28:17,902][kfold_wrapper.log_eval_metrics] Accuracy(layer_0 - estimator_0 - 10_folds.train_0.predict)=100.00%\n",
      "[ 2018-05-15 11:28:18,498][kfold_wrapper.log_eval_metrics] Accuracy(layer_0 - estimator_0 - 10_folds.train_1.predict)=99.85%\n",
      "[ 2018-05-15 11:28:19,241][kfold_wrapper.log_eval_metrics] Accuracy(layer_0 - estimator_0 - 10_folds.train_2.predict)=100.00%\n",
      "[ 2018-05-15 11:28:19,843][kfold_wrapper.log_eval_metrics] Accuracy(layer_0 - estimator_0 - 10_folds.train_3.predict)=100.00%\n",
      "[ 2018-05-15 11:28:20,444][kfold_wrapper.log_eval_metrics] Accuracy(layer_0 - estimator_0 - 10_folds.train_4.predict)=100.00%\n",
      "[ 2018-05-15 11:28:21,026][kfold_wrapper.log_eval_metrics] Accuracy(layer_0 - estimator_0 - 10_folds.train_5.predict)=100.00%\n",
      "[ 2018-05-15 11:28:21,609][kfold_wrapper.log_eval_metrics] Accuracy(layer_0 - estimator_0 - 10_folds.train_6.predict)=100.00%\n",
      "[ 2018-05-15 11:28:22,349][kfold_wrapper.log_eval_metrics] Accuracy(layer_0 - estimator_0 - 10_folds.train_7.predict)=100.00%\n",
      "[ 2018-05-15 11:28:23,068][kfold_wrapper.log_eval_metrics] Accuracy(layer_0 - estimator_0 - 10_folds.train_8.predict)=100.00%\n",
      "[ 2018-05-15 11:28:23,802][kfold_wrapper.log_eval_metrics] Accuracy(layer_0 - estimator_0 - 10_folds.train_9.predict)=100.00%\n",
      "[ 2018-05-15 11:28:23,920][kfold_wrapper.log_eval_metrics] Accuracy(layer_0 - estimator_0 - 10_folds.train_cv.predict)=99.98%\n",
      "[ 2018-05-15 11:28:23,923][kfold_wrapper.log_eval_metrics] Accuracy(layer_0 - estimator_0 - 10_folds.test.predict)=99.97%\n",
      "[ 2018-05-15 11:28:23,932][cascade_classifier.calc_accuracy] Accuracy(layer_0 - train.classifier_average)=99.98%\n",
      "[ 2018-05-15 11:28:23,935][cascade_classifier.calc_accuracy] Accuracy(layer_0 - test.classifier_average)=99.97%\n",
      "[ 2018-05-15 11:28:23,937][cascade_classifier.fit_transform] [Result][Reach Max Layer] opt_layer_num=1, accuracy_train=99.98%, accuracy_test=99.97%\n",
      "[ 2018-05-15 11:28:23,938][cascade_classifier.transform] X_groups_test.shape=[(3257, 18)]\n",
      "[ 2018-05-15 11:28:23,940][cascade_classifier.transform] group_dims=[18]\n",
      "[ 2018-05-15 11:28:23,941][cascade_classifier.transform] X_test.shape=(3257, 18)\n",
      "[ 2018-05-15 11:28:23,942][cascade_classifier.transform] [layer=0] look_indexs=[0], X_cur_test.shape=(3257, 18)\n",
      "[ 2018-05-15 11:28:25,138][cascade_classifier.fit_transform] X_groups_train.shape=[(6611, 18)],y_train.shape=(6611,),X_groups_test.shape=[(3257, 18)],y_test.shape=(3257,)\n",
      "[ 2018-05-15 11:28:25,139][cascade_classifier.fit_transform] group_dims=[18]\n",
      "[ 2018-05-15 11:28:25,140][cascade_classifier.fit_transform] group_starts=[0]\n",
      "[ 2018-05-15 11:28:25,141][cascade_classifier.fit_transform] group_ends=[18]\n",
      "[ 2018-05-15 11:28:25,142][cascade_classifier.fit_transform] X_train.shape=(6611, 18),X_test.shape=(3257, 18)\n",
      "[ 2018-05-15 11:28:25,144][cascade_classifier.fit_transform] [layer=0] look_indexs=[0], X_cur_train.shape=(6611, 18), X_cur_test.shape=(3257, 18)\n"
     ]
    },
    {
     "name": "stdout",
     "output_type": "stream",
     "text": [
      "('Test Accuracy of ExtraTrees = 99.969297 %', 18, 'fois')\n",
      "[[3249    0]\n",
      " [   1    7]]\n",
      "\n",
      "\n",
      "             precision    recall  f1-score   support\n",
      "\n",
      "        0.0       1.00      1.00      1.00      3249\n",
      "        1.0       1.00      0.88      0.93         8\n",
      "\n",
      "avg / total       1.00      1.00      1.00      3257\n",
      "\n"
     ]
    },
    {
     "name": "stderr",
     "output_type": "stream",
     "text": [
      "[ 2018-05-15 11:28:25,616][kfold_wrapper.log_eval_metrics] Accuracy(layer_0 - estimator_0 - 10_folds.train_0.predict)=100.00%\n",
      "[ 2018-05-15 11:28:26,205][kfold_wrapper.log_eval_metrics] Accuracy(layer_0 - estimator_0 - 10_folds.train_1.predict)=99.85%\n",
      "[ 2018-05-15 11:28:26,811][kfold_wrapper.log_eval_metrics] Accuracy(layer_0 - estimator_0 - 10_folds.train_2.predict)=100.00%\n",
      "[ 2018-05-15 11:28:27,547][kfold_wrapper.log_eval_metrics] Accuracy(layer_0 - estimator_0 - 10_folds.train_3.predict)=100.00%\n",
      "[ 2018-05-15 11:28:28,157][kfold_wrapper.log_eval_metrics] Accuracy(layer_0 - estimator_0 - 10_folds.train_4.predict)=100.00%\n",
      "[ 2018-05-15 11:28:28,734][kfold_wrapper.log_eval_metrics] Accuracy(layer_0 - estimator_0 - 10_folds.train_5.predict)=100.00%\n",
      "[ 2018-05-15 11:28:29,314][kfold_wrapper.log_eval_metrics] Accuracy(layer_0 - estimator_0 - 10_folds.train_6.predict)=100.00%\n",
      "[ 2018-05-15 11:28:29,902][kfold_wrapper.log_eval_metrics] Accuracy(layer_0 - estimator_0 - 10_folds.train_7.predict)=100.00%\n",
      "[ 2018-05-15 11:28:30,658][kfold_wrapper.log_eval_metrics] Accuracy(layer_0 - estimator_0 - 10_folds.train_8.predict)=100.00%\n",
      "[ 2018-05-15 11:28:31,392][kfold_wrapper.log_eval_metrics] Accuracy(layer_0 - estimator_0 - 10_folds.train_9.predict)=100.00%\n",
      "[ 2018-05-15 11:28:31,499][kfold_wrapper.log_eval_metrics] Accuracy(layer_0 - estimator_0 - 10_folds.train_cv.predict)=99.98%\n",
      "[ 2018-05-15 11:28:31,501][kfold_wrapper.log_eval_metrics] Accuracy(layer_0 - estimator_0 - 10_folds.test.predict)=99.97%\n",
      "[ 2018-05-15 11:28:31,506][cascade_classifier.calc_accuracy] Accuracy(layer_0 - train.classifier_average)=99.98%\n",
      "[ 2018-05-15 11:28:31,508][cascade_classifier.calc_accuracy] Accuracy(layer_0 - test.classifier_average)=99.97%\n",
      "[ 2018-05-15 11:28:31,511][cascade_classifier.fit_transform] [Result][Reach Max Layer] opt_layer_num=1, accuracy_train=99.98%, accuracy_test=99.97%\n",
      "[ 2018-05-15 11:28:31,515][cascade_classifier.transform] X_groups_test.shape=[(3257, 18)]\n",
      "[ 2018-05-15 11:28:31,518][cascade_classifier.transform] group_dims=[18]\n",
      "[ 2018-05-15 11:28:31,521][cascade_classifier.transform] X_test.shape=(3257, 18)\n",
      "[ 2018-05-15 11:28:31,524][cascade_classifier.transform] [layer=0] look_indexs=[0], X_cur_test.shape=(3257, 18)\n"
     ]
    },
    {
     "name": "stdout",
     "output_type": "stream",
     "text": [
      "('Test Accuracy of ExtraTrees = 99.969297 %', 19, 'fois')\n",
      "[[3249    0]\n",
      " [   1    7]]\n",
      "\n",
      "\n",
      "             precision    recall  f1-score   support\n",
      "\n",
      "        0.0       1.00      1.00      1.00      3249\n",
      "        1.0       1.00      0.88      0.93         8\n",
      "\n",
      "avg / total       1.00      1.00      1.00      3257\n",
      "\n"
     ]
    }
   ],
   "source": [
    "# Deep\n",
    "for i in range (20):\n",
    "    X_train,X_test=update(X_train,X_test)\n",
    "    X_test_enc, X_train_enc=newdata(X_test_enc, X_train_enc)\n",
    "\n",
    "    X_train=X_train_enc\n",
    "    X_test=X_test_enc \n",
    "    X_train_enc, X_test_enc = gc.fit_transform(X_train, y_train, X_test=X_test, y_test=y_test)\n",
    "    affiche()"
   ]
  },
  {
   "cell_type": "code",
   "execution_count": null,
   "metadata": {
    "collapsed": true
   },
   "outputs": [],
   "source": []
  },
  {
   "cell_type": "markdown",
   "metadata": {
    "collapsed": true
   },
   "source": [
    "# ('Test Accuracy of ExtraTrees = 99.969297 %', 0, 'fois')"
   ]
  },
  {
   "cell_type": "code",
   "execution_count": null,
   "metadata": {
    "collapsed": true
   },
   "outputs": [],
   "source": []
  }
 ],
 "metadata": {
  "kernelspec": {
   "display_name": "Python 2",
   "language": "python",
   "name": "python2"
  },
  "language_info": {
   "codemirror_mode": {
    "name": "ipython",
    "version": 2
   },
   "file_extension": ".py",
   "mimetype": "text/x-python",
   "name": "python",
   "nbconvert_exporter": "python",
   "pygments_lexer": "ipython2",
   "version": "2.7.14"
  }
 },
 "nbformat": 4,
 "nbformat_minor": 2
}
