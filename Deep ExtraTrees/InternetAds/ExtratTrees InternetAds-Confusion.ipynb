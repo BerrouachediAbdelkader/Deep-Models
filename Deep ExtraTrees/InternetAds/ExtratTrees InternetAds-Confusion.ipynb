{
 "cells": [
  {
   "cell_type": "code",
   "execution_count": 1,
   "metadata": {
    "collapsed": true
   },
   "outputs": [],
   "source": [
    "# imports \n",
    "import numpy as np\n",
    "from math import sqrt \n",
    "from pprint import pprint\n",
    "from numpy import array\n",
    "from scipy.io import arff\n",
    "import pandas as pd"
   ]
  },
  {
   "cell_type": "code",
   "execution_count": 2,
   "metadata": {},
   "outputs": [
    {
     "data": {
      "text/html": [
       "<div>\n",
       "<style>\n",
       "    .dataframe thead tr:only-child th {\n",
       "        text-align: right;\n",
       "    }\n",
       "\n",
       "    .dataframe thead th {\n",
       "        text-align: left;\n",
       "    }\n",
       "\n",
       "    .dataframe tbody tr th {\n",
       "        vertical-align: top;\n",
       "    }\n",
       "</style>\n",
       "<table border=\"1\" class=\"dataframe\">\n",
       "  <thead>\n",
       "    <tr style=\"text-align: right;\">\n",
       "      <th></th>\n",
       "      <th>att4</th>\n",
       "      <th>att5</th>\n",
       "      <th>att6</th>\n",
       "      <th>att7</th>\n",
       "      <th>att8</th>\n",
       "      <th>att9</th>\n",
       "      <th>att10</th>\n",
       "      <th>att11</th>\n",
       "      <th>att12</th>\n",
       "      <th>att13</th>\n",
       "      <th>...</th>\n",
       "      <th>att1550</th>\n",
       "      <th>att1551</th>\n",
       "      <th>att1552</th>\n",
       "      <th>att1553</th>\n",
       "      <th>att1554</th>\n",
       "      <th>att1555</th>\n",
       "      <th>att1556</th>\n",
       "      <th>att1557</th>\n",
       "      <th>att1558</th>\n",
       "      <th>outlier</th>\n",
       "    </tr>\n",
       "  </thead>\n",
       "  <tbody>\n",
       "    <tr>\n",
       "      <th>0</th>\n",
       "      <td>1.0</td>\n",
       "      <td>0.0</td>\n",
       "      <td>0.0</td>\n",
       "      <td>0.0</td>\n",
       "      <td>0.0</td>\n",
       "      <td>0.0</td>\n",
       "      <td>0.0</td>\n",
       "      <td>0.0</td>\n",
       "      <td>0.0</td>\n",
       "      <td>0.0</td>\n",
       "      <td>...</td>\n",
       "      <td>0.0</td>\n",
       "      <td>0.0</td>\n",
       "      <td>0.0</td>\n",
       "      <td>0.0</td>\n",
       "      <td>0.0</td>\n",
       "      <td>0.0</td>\n",
       "      <td>0.0</td>\n",
       "      <td>0.0</td>\n",
       "      <td>0.0</td>\n",
       "      <td>1</td>\n",
       "    </tr>\n",
       "    <tr>\n",
       "      <th>1</th>\n",
       "      <td>1.0</td>\n",
       "      <td>0.0</td>\n",
       "      <td>0.0</td>\n",
       "      <td>0.0</td>\n",
       "      <td>0.0</td>\n",
       "      <td>0.0</td>\n",
       "      <td>0.0</td>\n",
       "      <td>0.0</td>\n",
       "      <td>0.0</td>\n",
       "      <td>0.0</td>\n",
       "      <td>...</td>\n",
       "      <td>0.0</td>\n",
       "      <td>0.0</td>\n",
       "      <td>0.0</td>\n",
       "      <td>0.0</td>\n",
       "      <td>0.0</td>\n",
       "      <td>0.0</td>\n",
       "      <td>0.0</td>\n",
       "      <td>0.0</td>\n",
       "      <td>0.0</td>\n",
       "      <td>1</td>\n",
       "    </tr>\n",
       "    <tr>\n",
       "      <th>2</th>\n",
       "      <td>1.0</td>\n",
       "      <td>0.0</td>\n",
       "      <td>0.0</td>\n",
       "      <td>0.0</td>\n",
       "      <td>0.0</td>\n",
       "      <td>0.0</td>\n",
       "      <td>0.0</td>\n",
       "      <td>0.0</td>\n",
       "      <td>0.0</td>\n",
       "      <td>0.0</td>\n",
       "      <td>...</td>\n",
       "      <td>0.0</td>\n",
       "      <td>0.0</td>\n",
       "      <td>0.0</td>\n",
       "      <td>0.0</td>\n",
       "      <td>0.0</td>\n",
       "      <td>0.0</td>\n",
       "      <td>0.0</td>\n",
       "      <td>0.0</td>\n",
       "      <td>0.0</td>\n",
       "      <td>1</td>\n",
       "    </tr>\n",
       "    <tr>\n",
       "      <th>3</th>\n",
       "      <td>1.0</td>\n",
       "      <td>0.0</td>\n",
       "      <td>0.0</td>\n",
       "      <td>0.0</td>\n",
       "      <td>0.0</td>\n",
       "      <td>0.0</td>\n",
       "      <td>0.0</td>\n",
       "      <td>0.0</td>\n",
       "      <td>0.0</td>\n",
       "      <td>0.0</td>\n",
       "      <td>...</td>\n",
       "      <td>0.0</td>\n",
       "      <td>0.0</td>\n",
       "      <td>0.0</td>\n",
       "      <td>0.0</td>\n",
       "      <td>0.0</td>\n",
       "      <td>0.0</td>\n",
       "      <td>0.0</td>\n",
       "      <td>0.0</td>\n",
       "      <td>0.0</td>\n",
       "      <td>1</td>\n",
       "    </tr>\n",
       "    <tr>\n",
       "      <th>4</th>\n",
       "      <td>1.0</td>\n",
       "      <td>0.0</td>\n",
       "      <td>0.0</td>\n",
       "      <td>0.0</td>\n",
       "      <td>0.0</td>\n",
       "      <td>0.0</td>\n",
       "      <td>0.0</td>\n",
       "      <td>0.0</td>\n",
       "      <td>0.0</td>\n",
       "      <td>0.0</td>\n",
       "      <td>...</td>\n",
       "      <td>0.0</td>\n",
       "      <td>0.0</td>\n",
       "      <td>0.0</td>\n",
       "      <td>0.0</td>\n",
       "      <td>0.0</td>\n",
       "      <td>0.0</td>\n",
       "      <td>0.0</td>\n",
       "      <td>0.0</td>\n",
       "      <td>0.0</td>\n",
       "      <td>1</td>\n",
       "    </tr>\n",
       "  </tbody>\n",
       "</table>\n",
       "<p>5 rows × 1556 columns</p>\n",
       "</div>"
      ],
      "text/plain": [
       "   att4  att5  att6  att7  att8  att9  att10  att11  att12  att13   ...     \\\n",
       "0   1.0   0.0   0.0   0.0   0.0   0.0    0.0    0.0    0.0    0.0   ...      \n",
       "1   1.0   0.0   0.0   0.0   0.0   0.0    0.0    0.0    0.0    0.0   ...      \n",
       "2   1.0   0.0   0.0   0.0   0.0   0.0    0.0    0.0    0.0    0.0   ...      \n",
       "3   1.0   0.0   0.0   0.0   0.0   0.0    0.0    0.0    0.0    0.0   ...      \n",
       "4   1.0   0.0   0.0   0.0   0.0   0.0    0.0    0.0    0.0    0.0   ...      \n",
       "\n",
       "   att1550  att1551  att1552  att1553  att1554  att1555  att1556  att1557  \\\n",
       "0      0.0      0.0      0.0      0.0      0.0      0.0      0.0      0.0   \n",
       "1      0.0      0.0      0.0      0.0      0.0      0.0      0.0      0.0   \n",
       "2      0.0      0.0      0.0      0.0      0.0      0.0      0.0      0.0   \n",
       "3      0.0      0.0      0.0      0.0      0.0      0.0      0.0      0.0   \n",
       "4      0.0      0.0      0.0      0.0      0.0      0.0      0.0      0.0   \n",
       "\n",
       "   att1558  outlier  \n",
       "0      0.0        1  \n",
       "1      0.0        1  \n",
       "2      0.0        1  \n",
       "3      0.0        1  \n",
       "4      0.0        1  \n",
       "\n",
       "[5 rows x 1556 columns]"
      ]
     },
     "execution_count": 2,
     "metadata": {},
     "output_type": "execute_result"
    }
   ],
   "source": [
    "# load data\n",
    "df=pd.read_csv('InternetAds_norm_19.csv')  \n",
    "\n",
    "del df['id']\n",
    "del df['Unnamed: 0']\n",
    "df['outlier'] = df.outlier.apply(lambda label: 1 if label == \"'yes'\" else 0)\n",
    "\n",
    "df.head()"
   ]
  },
  {
   "cell_type": "code",
   "execution_count": 3,
   "metadata": {},
   "outputs": [
    {
     "data": {
      "text/plain": [
       "(3264, 1556)"
      ]
     },
     "execution_count": 3,
     "metadata": {},
     "output_type": "execute_result"
    }
   ],
   "source": [
    "df.shape"
   ]
  },
  {
   "cell_type": "code",
   "execution_count": 4,
   "metadata": {
    "collapsed": true
   },
   "outputs": [],
   "source": [
    "# data to values\n",
    "df = df.values"
   ]
  },
  {
   "cell_type": "code",
   "execution_count": 5,
   "metadata": {
    "collapsed": true
   },
   "outputs": [],
   "source": [
    "# Extratrees Deep\n",
    "import argparse\n",
    "import sys\n",
    "import pickle\n",
    "from sklearn.metrics import accuracy_score\n",
    "sys.path.insert(0, \"lib\")\n",
    "from gcforest.gcforest import GCForest\n",
    "from gcforest.utils.config_utils import load_json\n",
    "config = load_json(\"./examples/InternetAds.json\")\n",
    "gc = GCForest(config)"
   ]
  },
  {
   "cell_type": "code",
   "execution_count": 6,
   "metadata": {},
   "outputs": [
    {
     "name": "stderr",
     "output_type": "stream",
     "text": [
      "/home/kader/anaconda3/envs/py27/lib/python2.7/site-packages/sklearn/cross_validation.py:41: DeprecationWarning: This module was deprecated in version 0.18 in favor of the model_selection module into which all the refactored classes and functions are moved. Also note that the interface of the new CV iterators are different from that of this module. This module will be removed in 0.20.\n",
      "  \"This module will be removed in 0.20.\", DeprecationWarning)\n"
     ]
    }
   ],
   "source": [
    "# train test \n",
    "from sklearn.cross_validation import train_test_split\n",
    "y = df[:,1555]\n",
    "X = df[:,0:1555]\n",
    "\n",
    "X_train,X_test,y_train,y_test = train_test_split(X, y, test_size=0.33, random_state=42)"
   ]
  },
  {
   "cell_type": "code",
   "execution_count": 7,
   "metadata": {},
   "outputs": [
    {
     "data": {
      "text/plain": [
       "2"
      ]
     },
     "execution_count": 7,
     "metadata": {},
     "output_type": "execute_result"
    }
   ],
   "source": [
    "# number of class\n",
    "len(np.unique(y_train))"
   ]
  },
  {
   "cell_type": "code",
   "execution_count": 8,
   "metadata": {},
   "outputs": [
    {
     "name": "stderr",
     "output_type": "stream",
     "text": [
      "[ 2018-05-15 10:21:47,617][cascade_classifier.fit_transform] X_groups_train.shape=[(2186, 1555)],y_train.shape=(2186,),X_groups_test.shape=[(1078, 1555)],y_test.shape=(1078,)\n",
      "[ 2018-05-15 10:21:47,647][cascade_classifier.fit_transform] group_dims=[1555]\n",
      "[ 2018-05-15 10:21:47,648][cascade_classifier.fit_transform] group_starts=[0]\n",
      "[ 2018-05-15 10:21:47,649][cascade_classifier.fit_transform] group_ends=[1555]\n",
      "[ 2018-05-15 10:21:47,650][cascade_classifier.fit_transform] X_train.shape=(2186, 1555),X_test.shape=(1078, 1555)\n",
      "[ 2018-05-15 10:21:47,679][cascade_classifier.fit_transform] [layer=0] look_indexs=[0], X_cur_train.shape=(2186, 1555), X_cur_test.shape=(1078, 1555)\n",
      "[ 2018-05-15 10:21:50,819][kfold_wrapper.log_eval_metrics] Accuracy(layer_0 - estimator_0 - 10_folds.train_0.predict)=97.26%\n",
      "[ 2018-05-15 10:21:54,491][kfold_wrapper.log_eval_metrics] Accuracy(layer_0 - estimator_0 - 10_folds.train_1.predict)=96.35%\n",
      "[ 2018-05-15 10:21:58,268][kfold_wrapper.log_eval_metrics] Accuracy(layer_0 - estimator_0 - 10_folds.train_2.predict)=96.80%\n",
      "[ 2018-05-15 10:22:02,971][kfold_wrapper.log_eval_metrics] Accuracy(layer_0 - estimator_0 - 10_folds.train_3.predict)=97.26%\n",
      "[ 2018-05-15 10:22:08,494][kfold_wrapper.log_eval_metrics] Accuracy(layer_0 - estimator_0 - 10_folds.train_4.predict)=97.26%\n",
      "[ 2018-05-15 10:22:15,047][kfold_wrapper.log_eval_metrics] Accuracy(layer_0 - estimator_0 - 10_folds.train_5.predict)=97.26%\n",
      "[ 2018-05-15 10:22:22,020][kfold_wrapper.log_eval_metrics] Accuracy(layer_0 - estimator_0 - 10_folds.train_6.predict)=95.89%\n",
      "[ 2018-05-15 10:22:27,910][kfold_wrapper.log_eval_metrics] Accuracy(layer_0 - estimator_0 - 10_folds.train_7.predict)=97.25%\n",
      "[ 2018-05-15 10:22:32,217][kfold_wrapper.log_eval_metrics] Accuracy(layer_0 - estimator_0 - 10_folds.train_8.predict)=98.17%\n",
      "[ 2018-05-15 10:22:36,777][kfold_wrapper.log_eval_metrics] Accuracy(layer_0 - estimator_0 - 10_folds.train_9.predict)=95.85%\n",
      "[ 2018-05-15 10:22:36,906][kfold_wrapper.log_eval_metrics] Accuracy(layer_0 - estimator_0 - 10_folds.train_cv.predict)=96.94%\n",
      "[ 2018-05-15 10:22:36,907][kfold_wrapper.log_eval_metrics] Accuracy(layer_0 - estimator_0 - 10_folds.test.predict)=97.03%\n",
      "[ 2018-05-15 10:22:36,910][cascade_classifier.calc_accuracy] Accuracy(layer_0 - train.classifier_average)=96.94%\n",
      "[ 2018-05-15 10:22:36,916][cascade_classifier.calc_accuracy] Accuracy(layer_0 - test.classifier_average)=97.03%\n",
      "[ 2018-05-15 10:22:36,919][cascade_classifier.fit_transform] [Result][Reach Max Layer] opt_layer_num=1, accuracy_train=96.94%, accuracy_test=97.03%\n"
     ]
    }
   ],
   "source": [
    "          # X_enc is the concatenated predict_proba result of ExtraTrees\n",
    "\n",
    "X_train_enc, X_test_enc = gc.fit_transform(X_train, y_train, X_test=X_test, y_test=y_test)\n",
    "   "
   ]
  },
  {
   "cell_type": "code",
   "execution_count": 9,
   "metadata": {},
   "outputs": [
    {
     "name": "stderr",
     "output_type": "stream",
     "text": [
      "[ 2018-05-15 10:22:36,933][cascade_classifier.transform] X_groups_test.shape=[(1078, 1555)]\n",
      "[ 2018-05-15 10:22:36,937][cascade_classifier.transform] group_dims=[1555]\n",
      "[ 2018-05-15 10:22:36,938][cascade_classifier.transform] X_test.shape=(1078, 1555)\n",
      "[ 2018-05-15 10:22:36,941][cascade_classifier.transform] [layer=0] look_indexs=[0], X_cur_test.shape=(1078, 1555)\n"
     ]
    },
    {
     "name": "stdout",
     "output_type": "stream",
     "text": [
      "Test Accuracy of ExtraTrees = 97.031540 %\n"
     ]
    }
   ],
   "source": [
    "# predict\n",
    "y_pred = gc.predict(X_test)\n",
    "acc = accuracy_score(y_test, y_pred)\n",
    "print(\"Test Accuracy of ExtraTrees = {:.6f} %\".format(acc * 100))"
   ]
  },
  {
   "cell_type": "code",
   "execution_count": 10,
   "metadata": {},
   "outputs": [
    {
     "name": "stdout",
     "output_type": "stream",
     "text": [
      "[[903  10]\n",
      " [ 22 143]]\n",
      "\n",
      "\n",
      "             precision    recall  f1-score   support\n",
      "\n",
      "        0.0       0.98      0.99      0.98       913\n",
      "        1.0       0.93      0.87      0.90       165\n",
      "\n",
      "avg / total       0.97      0.97      0.97      1078\n",
      "\n"
     ]
    }
   ],
   "source": [
    "# Matrix de confusion\n",
    "from sklearn.metrics import classification_report, confusion_matrix\n",
    "print(confusion_matrix(y_test,y_pred))\n",
    "print('\\n')\n",
    "print(classification_report(y_test,y_pred))"
   ]
  },
  {
   "cell_type": "code",
   "execution_count": 11,
   "metadata": {},
   "outputs": [
    {
     "name": "stderr",
     "output_type": "stream",
     "text": [
      "[ 2018-05-15 10:22:38,718][cascade_classifier.transform] X_groups_test.shape=[(1078, 1555)]\n",
      "[ 2018-05-15 10:22:38,725][cascade_classifier.transform] group_dims=[1555]\n",
      "[ 2018-05-15 10:22:38,727][cascade_classifier.transform] X_test.shape=(1078, 1555)\n",
      "[ 2018-05-15 10:22:38,733][cascade_classifier.transform] [layer=0] look_indexs=[0], X_cur_test.shape=(1078, 1555)\n"
     ]
    }
   ],
   "source": [
    "# Make data + estimators\n",
    "X_test_enc = gc.transform(X_test)\n",
    "X_train_enc = X_train_enc.reshape((X_train_enc.shape[0], -1))\n",
    "X_test_enc = X_test_enc.reshape((X_test_enc.shape[0], -1))\n",
    "X_train_origin = X_train.reshape((X_train.shape[0], -1))\n",
    "X_test_origin = X_test.reshape((X_test.shape[0], -1))\n",
    "X_train_enc = np.hstack((X_train_origin, X_train_enc))\n",
    "X_test_enc = np.hstack((X_test_origin, X_test_enc))"
   ]
  },
  {
   "cell_type": "code",
   "execution_count": 12,
   "metadata": {},
   "outputs": [
    {
     "name": "stderr",
     "output_type": "stream",
     "text": [
      "[ 2018-05-15 10:22:40,048][cascade_classifier.fit_transform] X_groups_train.shape=[(2186, 1557)],y_train.shape=(2186,),X_groups_test.shape=[(1078, 1557)],y_test.shape=(1078,)\n",
      "[ 2018-05-15 10:22:40,073][cascade_classifier.fit_transform] group_dims=[1557]\n",
      "[ 2018-05-15 10:22:40,074][cascade_classifier.fit_transform] group_starts=[0]\n",
      "[ 2018-05-15 10:22:40,077][cascade_classifier.fit_transform] group_ends=[1557]\n",
      "[ 2018-05-15 10:22:40,080][cascade_classifier.fit_transform] X_train.shape=(2186, 1557),X_test.shape=(1078, 1557)\n",
      "[ 2018-05-15 10:22:40,108][cascade_classifier.fit_transform] [layer=0] look_indexs=[0], X_cur_train.shape=(2186, 1557), X_cur_test.shape=(1078, 1557)\n",
      "[ 2018-05-15 10:22:42,986][kfold_wrapper.log_eval_metrics] Accuracy(layer_0 - estimator_0 - 10_folds.train_0.predict)=97.72%\n",
      "[ 2018-05-15 10:22:45,830][kfold_wrapper.log_eval_metrics] Accuracy(layer_0 - estimator_0 - 10_folds.train_1.predict)=96.80%\n",
      "[ 2018-05-15 10:22:48,792][kfold_wrapper.log_eval_metrics] Accuracy(layer_0 - estimator_0 - 10_folds.train_2.predict)=95.43%\n",
      "[ 2018-05-15 10:22:52,239][kfold_wrapper.log_eval_metrics] Accuracy(layer_0 - estimator_0 - 10_folds.train_3.predict)=97.72%\n",
      "[ 2018-05-15 10:22:56,477][kfold_wrapper.log_eval_metrics] Accuracy(layer_0 - estimator_0 - 10_folds.train_4.predict)=97.72%\n",
      "[ 2018-05-15 10:22:59,707][kfold_wrapper.log_eval_metrics] Accuracy(layer_0 - estimator_0 - 10_folds.train_5.predict)=97.26%\n",
      "[ 2018-05-15 10:23:02,856][kfold_wrapper.log_eval_metrics] Accuracy(layer_0 - estimator_0 - 10_folds.train_6.predict)=96.80%\n",
      "[ 2018-05-15 10:23:06,011][kfold_wrapper.log_eval_metrics] Accuracy(layer_0 - estimator_0 - 10_folds.train_7.predict)=96.79%\n",
      "[ 2018-05-15 10:23:09,089][kfold_wrapper.log_eval_metrics] Accuracy(layer_0 - estimator_0 - 10_folds.train_8.predict)=98.17%\n",
      "[ 2018-05-15 10:23:12,313][kfold_wrapper.log_eval_metrics] Accuracy(layer_0 - estimator_0 - 10_folds.train_9.predict)=95.39%\n",
      "[ 2018-05-15 10:23:12,454][kfold_wrapper.log_eval_metrics] Accuracy(layer_0 - estimator_0 - 10_folds.train_cv.predict)=96.98%\n",
      "[ 2018-05-15 10:23:12,457][kfold_wrapper.log_eval_metrics] Accuracy(layer_0 - estimator_0 - 10_folds.test.predict)=96.57%\n",
      "[ 2018-05-15 10:23:12,465][cascade_classifier.calc_accuracy] Accuracy(layer_0 - train.classifier_average)=96.98%\n",
      "[ 2018-05-15 10:23:12,467][cascade_classifier.calc_accuracy] Accuracy(layer_0 - test.classifier_average)=96.57%\n",
      "[ 2018-05-15 10:23:12,469][cascade_classifier.fit_transform] [Result][Reach Max Layer] opt_layer_num=1, accuracy_train=96.98%, accuracy_test=96.57%\n"
     ]
    }
   ],
   "source": [
    "# New data\n",
    "X_train=X_train_enc\n",
    "X_test=X_test_enc \n",
    "X_train_enc, X_test_enc = gc.fit_transform(X_train, y_train, X_test=X_test, y_test=y_test)"
   ]
  },
  {
   "cell_type": "code",
   "execution_count": 13,
   "metadata": {},
   "outputs": [
    {
     "name": "stderr",
     "output_type": "stream",
     "text": [
      "[ 2018-05-15 10:23:12,489][cascade_classifier.transform] X_groups_test.shape=[(1078, 1557)]\n",
      "[ 2018-05-15 10:23:12,501][cascade_classifier.transform] group_dims=[1557]\n",
      "[ 2018-05-15 10:23:12,506][cascade_classifier.transform] X_test.shape=(1078, 1557)\n",
      "[ 2018-05-15 10:23:12,516][cascade_classifier.transform] [layer=0] look_indexs=[0], X_cur_test.shape=(1078, 1557)\n"
     ]
    },
    {
     "name": "stdout",
     "output_type": "stream",
     "text": [
      "Test Accuracy of ExtraTrees = 96.567718 %\n"
     ]
    }
   ],
   "source": [
    "# predict  data + Es\n",
    "y_pred = gc.predict(X_test)\n",
    "acc = accuracy_score(y_test, y_pred)\n",
    "print(\"Test Accuracy of ExtraTrees = {:.6f} %\".format(acc * 100))"
   ]
  },
  {
   "cell_type": "code",
   "execution_count": 14,
   "metadata": {},
   "outputs": [
    {
     "name": "stdout",
     "output_type": "stream",
     "text": [
      "[[903  10]\n",
      " [ 27 138]]\n",
      "\n",
      "\n",
      "             precision    recall  f1-score   support\n",
      "\n",
      "        0.0       0.97      0.99      0.98       913\n",
      "        1.0       0.93      0.84      0.88       165\n",
      "\n",
      "avg / total       0.97      0.97      0.96      1078\n",
      "\n"
     ]
    }
   ],
   "source": [
    "# Matrix de confusion\n",
    "from sklearn.metrics import classification_report, confusion_matrix\n",
    "print(confusion_matrix(y_test,y_pred))\n",
    "print('\\n')\n",
    "print(classification_report(y_test,y_pred))"
   ]
  },
  {
   "cell_type": "code",
   "execution_count": 15,
   "metadata": {
    "collapsed": true
   },
   "outputs": [],
   "source": [
    "def update(X_train,X_test):\n",
    "    # update Estimators\n",
    "    M = np.delete(X_train, (-1), axis=1)\n",
    "    X_train= np.delete(M, (-1), axis=1)\n",
    "    M = np.delete(X_test, (-1), axis=1)\n",
    "    X_test = np.delete(M, (-1), axis=1)\n",
    "    return X_train,X_test\n",
    "\n",
    "def newdata(X_test_enc, X_train_enc):\n",
    "    # Make Data + Estimators\n",
    "    X_train_origin = X_train.reshape((X_train.shape[0], -1))\n",
    "    X_test_origin = X_test.reshape((X_test.shape[0], -1))\n",
    "    X_train_enc = np.hstack((X_train_origin, X_train_enc))\n",
    "    X_test_enc = np.hstack((X_test_origin, X_test_enc))\n",
    "    return X_test_enc, X_train_enc\n",
    "\n",
    "def affiche():\n",
    "    # predict\n",
    "    y_pred = gc.predict(X_test)\n",
    "    acc = accuracy_score(y_test, y_pred)\n",
    "    print(\"Test Accuracy of ExtraTrees = {:.6f} %\".format(acc * 100),i,'fois')\n",
    "    \n",
    "    # Matrix de confusion\n",
    "    from sklearn.metrics import classification_report, confusion_matrix\n",
    "    print(confusion_matrix(y_test,y_pred))\n",
    "    print('\\n')\n",
    "    print(classification_report(y_test,y_pred))"
   ]
  },
  {
   "cell_type": "code",
   "execution_count": 16,
   "metadata": {},
   "outputs": [
    {
     "name": "stderr",
     "output_type": "stream",
     "text": [
      "[ 2018-05-15 10:23:14,139][cascade_classifier.fit_transform] X_groups_train.shape=[(2186, 1557)],y_train.shape=(2186,),X_groups_test.shape=[(1078, 1557)],y_test.shape=(1078,)\n",
      "[ 2018-05-15 10:23:14,147][cascade_classifier.fit_transform] group_dims=[1557]\n",
      "[ 2018-05-15 10:23:14,149][cascade_classifier.fit_transform] group_starts=[0]\n",
      "[ 2018-05-15 10:23:14,150][cascade_classifier.fit_transform] group_ends=[1557]\n",
      "[ 2018-05-15 10:23:14,152][cascade_classifier.fit_transform] X_train.shape=(2186, 1557),X_test.shape=(1078, 1557)\n",
      "[ 2018-05-15 10:23:14,171][cascade_classifier.fit_transform] [layer=0] look_indexs=[0], X_cur_train.shape=(2186, 1557), X_cur_test.shape=(1078, 1557)\n",
      "[ 2018-05-15 10:23:17,234][kfold_wrapper.log_eval_metrics] Accuracy(layer_0 - estimator_0 - 10_folds.train_0.predict)=97.26%\n",
      "[ 2018-05-15 10:23:20,238][kfold_wrapper.log_eval_metrics] Accuracy(layer_0 - estimator_0 - 10_folds.train_1.predict)=96.80%\n",
      "[ 2018-05-15 10:23:23,324][kfold_wrapper.log_eval_metrics] Accuracy(layer_0 - estimator_0 - 10_folds.train_2.predict)=95.89%\n",
      "[ 2018-05-15 10:23:26,557][kfold_wrapper.log_eval_metrics] Accuracy(layer_0 - estimator_0 - 10_folds.train_3.predict)=97.72%\n",
      "[ 2018-05-15 10:23:29,752][kfold_wrapper.log_eval_metrics] Accuracy(layer_0 - estimator_0 - 10_folds.train_4.predict)=96.80%\n",
      "[ 2018-05-15 10:23:32,848][kfold_wrapper.log_eval_metrics] Accuracy(layer_0 - estimator_0 - 10_folds.train_5.predict)=97.26%\n",
      "[ 2018-05-15 10:23:35,804][kfold_wrapper.log_eval_metrics] Accuracy(layer_0 - estimator_0 - 10_folds.train_6.predict)=96.80%\n",
      "[ 2018-05-15 10:23:38,912][kfold_wrapper.log_eval_metrics] Accuracy(layer_0 - estimator_0 - 10_folds.train_7.predict)=96.79%\n",
      "[ 2018-05-15 10:23:42,076][kfold_wrapper.log_eval_metrics] Accuracy(layer_0 - estimator_0 - 10_folds.train_8.predict)=98.62%\n",
      "[ 2018-05-15 10:23:45,232][kfold_wrapper.log_eval_metrics] Accuracy(layer_0 - estimator_0 - 10_folds.train_9.predict)=96.31%\n",
      "[ 2018-05-15 10:23:45,370][kfold_wrapper.log_eval_metrics] Accuracy(layer_0 - estimator_0 - 10_folds.train_cv.predict)=97.03%\n",
      "[ 2018-05-15 10:23:45,374][kfold_wrapper.log_eval_metrics] Accuracy(layer_0 - estimator_0 - 10_folds.test.predict)=96.85%\n",
      "[ 2018-05-15 10:23:45,377][cascade_classifier.calc_accuracy] Accuracy(layer_0 - train.classifier_average)=97.03%\n",
      "[ 2018-05-15 10:23:45,380][cascade_classifier.calc_accuracy] Accuracy(layer_0 - test.classifier_average)=96.85%\n",
      "[ 2018-05-15 10:23:45,381][cascade_classifier.fit_transform] [Result][Reach Max Layer] opt_layer_num=1, accuracy_train=97.03%, accuracy_test=96.85%\n",
      "[ 2018-05-15 10:23:45,386][cascade_classifier.transform] X_groups_test.shape=[(1078, 1557)]\n",
      "[ 2018-05-15 10:23:45,390][cascade_classifier.transform] group_dims=[1557]\n",
      "[ 2018-05-15 10:23:45,392][cascade_classifier.transform] X_test.shape=(1078, 1557)\n",
      "[ 2018-05-15 10:23:45,403][cascade_classifier.transform] [layer=0] look_indexs=[0], X_cur_test.shape=(1078, 1557)\n",
      "[ 2018-05-15 10:23:46,750][cascade_classifier.fit_transform] X_groups_train.shape=[(2186, 1557)],y_train.shape=(2186,),X_groups_test.shape=[(1078, 1557)],y_test.shape=(1078,)\n",
      "[ 2018-05-15 10:23:46,769][cascade_classifier.fit_transform] group_dims=[1557]\n",
      "[ 2018-05-15 10:23:46,770][cascade_classifier.fit_transform] group_starts=[0]\n",
      "[ 2018-05-15 10:23:46,771][cascade_classifier.fit_transform] group_ends=[1557]\n",
      "[ 2018-05-15 10:23:46,772][cascade_classifier.fit_transform] X_train.shape=(2186, 1557),X_test.shape=(1078, 1557)\n",
      "[ 2018-05-15 10:23:46,797][cascade_classifier.fit_transform] [layer=0] look_indexs=[0], X_cur_train.shape=(2186, 1557), X_cur_test.shape=(1078, 1557)\n"
     ]
    },
    {
     "name": "stdout",
     "output_type": "stream",
     "text": [
      "('Test Accuracy of ExtraTrees = 96.846011 %', 0, 'fois')\n",
      "[[905   8]\n",
      " [ 26 139]]\n",
      "\n",
      "\n",
      "             precision    recall  f1-score   support\n",
      "\n",
      "        0.0       0.97      0.99      0.98       913\n",
      "        1.0       0.95      0.84      0.89       165\n",
      "\n",
      "avg / total       0.97      0.97      0.97      1078\n",
      "\n"
     ]
    },
    {
     "name": "stderr",
     "output_type": "stream",
     "text": [
      "[ 2018-05-15 10:23:49,769][kfold_wrapper.log_eval_metrics] Accuracy(layer_0 - estimator_0 - 10_folds.train_0.predict)=97.26%\n",
      "[ 2018-05-15 10:23:52,690][kfold_wrapper.log_eval_metrics] Accuracy(layer_0 - estimator_0 - 10_folds.train_1.predict)=96.80%\n",
      "[ 2018-05-15 10:23:55,854][kfold_wrapper.log_eval_metrics] Accuracy(layer_0 - estimator_0 - 10_folds.train_2.predict)=95.89%\n",
      "[ 2018-05-15 10:23:59,096][kfold_wrapper.log_eval_metrics] Accuracy(layer_0 - estimator_0 - 10_folds.train_3.predict)=97.72%\n",
      "[ 2018-05-15 10:24:02,360][kfold_wrapper.log_eval_metrics] Accuracy(layer_0 - estimator_0 - 10_folds.train_4.predict)=97.72%\n",
      "[ 2018-05-15 10:24:05,551][kfold_wrapper.log_eval_metrics] Accuracy(layer_0 - estimator_0 - 10_folds.train_5.predict)=98.17%\n",
      "[ 2018-05-15 10:24:08,748][kfold_wrapper.log_eval_metrics] Accuracy(layer_0 - estimator_0 - 10_folds.train_6.predict)=96.35%\n",
      "[ 2018-05-15 10:24:11,819][kfold_wrapper.log_eval_metrics] Accuracy(layer_0 - estimator_0 - 10_folds.train_7.predict)=96.79%\n",
      "[ 2018-05-15 10:24:14,974][kfold_wrapper.log_eval_metrics] Accuracy(layer_0 - estimator_0 - 10_folds.train_8.predict)=98.17%\n",
      "[ 2018-05-15 10:24:18,111][kfold_wrapper.log_eval_metrics] Accuracy(layer_0 - estimator_0 - 10_folds.train_9.predict)=96.77%\n",
      "[ 2018-05-15 10:24:18,248][kfold_wrapper.log_eval_metrics] Accuracy(layer_0 - estimator_0 - 10_folds.train_cv.predict)=97.16%\n",
      "[ 2018-05-15 10:24:18,250][kfold_wrapper.log_eval_metrics] Accuracy(layer_0 - estimator_0 - 10_folds.test.predict)=95.73%\n",
      "[ 2018-05-15 10:24:18,257][cascade_classifier.calc_accuracy] Accuracy(layer_0 - train.classifier_average)=97.16%\n",
      "[ 2018-05-15 10:24:18,259][cascade_classifier.calc_accuracy] Accuracy(layer_0 - test.classifier_average)=95.73%\n",
      "[ 2018-05-15 10:24:18,264][cascade_classifier.fit_transform] [Result][Reach Max Layer] opt_layer_num=1, accuracy_train=97.16%, accuracy_test=95.73%\n",
      "[ 2018-05-15 10:24:18,271][cascade_classifier.transform] X_groups_test.shape=[(1078, 1557)]\n",
      "[ 2018-05-15 10:24:18,284][cascade_classifier.transform] group_dims=[1557]\n",
      "[ 2018-05-15 10:24:18,285][cascade_classifier.transform] X_test.shape=(1078, 1557)\n",
      "[ 2018-05-15 10:24:18,300][cascade_classifier.transform] [layer=0] look_indexs=[0], X_cur_test.shape=(1078, 1557)\n",
      "[ 2018-05-15 10:24:19,665][cascade_classifier.fit_transform] X_groups_train.shape=[(2186, 1557)],y_train.shape=(2186,),X_groups_test.shape=[(1078, 1557)],y_test.shape=(1078,)\n",
      "[ 2018-05-15 10:24:19,673][cascade_classifier.fit_transform] group_dims=[1557]\n",
      "[ 2018-05-15 10:24:19,675][cascade_classifier.fit_transform] group_starts=[0]\n",
      "[ 2018-05-15 10:24:19,676][cascade_classifier.fit_transform] group_ends=[1557]\n",
      "[ 2018-05-15 10:24:19,677][cascade_classifier.fit_transform] X_train.shape=(2186, 1557),X_test.shape=(1078, 1557)\n",
      "[ 2018-05-15 10:24:19,696][cascade_classifier.fit_transform] [layer=0] look_indexs=[0], X_cur_train.shape=(2186, 1557), X_cur_test.shape=(1078, 1557)\n"
     ]
    },
    {
     "name": "stdout",
     "output_type": "stream",
     "text": [
      "('Test Accuracy of ExtraTrees = 95.732839 %', 1, 'fois')\n",
      "[[895  18]\n",
      " [ 28 137]]\n",
      "\n",
      "\n",
      "             precision    recall  f1-score   support\n",
      "\n",
      "        0.0       0.97      0.98      0.97       913\n",
      "        1.0       0.88      0.83      0.86       165\n",
      "\n",
      "avg / total       0.96      0.96      0.96      1078\n",
      "\n"
     ]
    },
    {
     "name": "stderr",
     "output_type": "stream",
     "text": [
      "[ 2018-05-15 10:24:22,675][kfold_wrapper.log_eval_metrics] Accuracy(layer_0 - estimator_0 - 10_folds.train_0.predict)=97.26%\n",
      "[ 2018-05-15 10:24:25,760][kfold_wrapper.log_eval_metrics] Accuracy(layer_0 - estimator_0 - 10_folds.train_1.predict)=96.80%\n",
      "[ 2018-05-15 10:24:28,811][kfold_wrapper.log_eval_metrics] Accuracy(layer_0 - estimator_0 - 10_folds.train_2.predict)=96.35%\n",
      "[ 2018-05-15 10:24:31,939][kfold_wrapper.log_eval_metrics] Accuracy(layer_0 - estimator_0 - 10_folds.train_3.predict)=98.17%\n",
      "[ 2018-05-15 10:24:34,998][kfold_wrapper.log_eval_metrics] Accuracy(layer_0 - estimator_0 - 10_folds.train_4.predict)=97.72%\n",
      "[ 2018-05-15 10:24:38,114][kfold_wrapper.log_eval_metrics] Accuracy(layer_0 - estimator_0 - 10_folds.train_5.predict)=98.63%\n",
      "[ 2018-05-15 10:24:41,203][kfold_wrapper.log_eval_metrics] Accuracy(layer_0 - estimator_0 - 10_folds.train_6.predict)=97.26%\n",
      "[ 2018-05-15 10:24:44,271][kfold_wrapper.log_eval_metrics] Accuracy(layer_0 - estimator_0 - 10_folds.train_7.predict)=97.71%\n",
      "[ 2018-05-15 10:24:47,488][kfold_wrapper.log_eval_metrics] Accuracy(layer_0 - estimator_0 - 10_folds.train_8.predict)=98.62%\n",
      "[ 2018-05-15 10:24:50,687][kfold_wrapper.log_eval_metrics] Accuracy(layer_0 - estimator_0 - 10_folds.train_9.predict)=96.77%\n",
      "[ 2018-05-15 10:24:50,823][kfold_wrapper.log_eval_metrics] Accuracy(layer_0 - estimator_0 - 10_folds.train_cv.predict)=97.53%\n",
      "[ 2018-05-15 10:24:50,824][kfold_wrapper.log_eval_metrics] Accuracy(layer_0 - estimator_0 - 10_folds.test.predict)=95.83%\n",
      "[ 2018-05-15 10:24:50,828][cascade_classifier.calc_accuracy] Accuracy(layer_0 - train.classifier_average)=97.53%\n",
      "[ 2018-05-15 10:24:50,830][cascade_classifier.calc_accuracy] Accuracy(layer_0 - test.classifier_average)=95.83%\n",
      "[ 2018-05-15 10:24:50,834][cascade_classifier.fit_transform] [Result][Reach Max Layer] opt_layer_num=1, accuracy_train=97.53%, accuracy_test=95.83%\n",
      "[ 2018-05-15 10:24:50,841][cascade_classifier.transform] X_groups_test.shape=[(1078, 1557)]\n",
      "[ 2018-05-15 10:24:50,845][cascade_classifier.transform] group_dims=[1557]\n",
      "[ 2018-05-15 10:24:50,848][cascade_classifier.transform] X_test.shape=(1078, 1557)\n",
      "[ 2018-05-15 10:24:50,859][cascade_classifier.transform] [layer=0] look_indexs=[0], X_cur_test.shape=(1078, 1557)\n",
      "[ 2018-05-15 10:24:52,233][cascade_classifier.fit_transform] X_groups_train.shape=[(2186, 1557)],y_train.shape=(2186,),X_groups_test.shape=[(1078, 1557)],y_test.shape=(1078,)\n",
      "[ 2018-05-15 10:24:52,252][cascade_classifier.fit_transform] group_dims=[1557]\n",
      "[ 2018-05-15 10:24:52,253][cascade_classifier.fit_transform] group_starts=[0]\n",
      "[ 2018-05-15 10:24:52,258][cascade_classifier.fit_transform] group_ends=[1557]\n",
      "[ 2018-05-15 10:24:52,261][cascade_classifier.fit_transform] X_train.shape=(2186, 1557),X_test.shape=(1078, 1557)\n",
      "[ 2018-05-15 10:24:52,285][cascade_classifier.fit_transform] [layer=0] look_indexs=[0], X_cur_train.shape=(2186, 1557), X_cur_test.shape=(1078, 1557)\n"
     ]
    },
    {
     "name": "stdout",
     "output_type": "stream",
     "text": [
      "('Test Accuracy of ExtraTrees = 95.825603 %', 2, 'fois')\n",
      "[[894  19]\n",
      " [ 26 139]]\n",
      "\n",
      "\n",
      "             precision    recall  f1-score   support\n",
      "\n",
      "        0.0       0.97      0.98      0.98       913\n",
      "        1.0       0.88      0.84      0.86       165\n",
      "\n",
      "avg / total       0.96      0.96      0.96      1078\n",
      "\n"
     ]
    },
    {
     "name": "stderr",
     "output_type": "stream",
     "text": [
      "[ 2018-05-15 10:24:55,426][kfold_wrapper.log_eval_metrics] Accuracy(layer_0 - estimator_0 - 10_folds.train_0.predict)=97.26%\n",
      "[ 2018-05-15 10:24:58,393][kfold_wrapper.log_eval_metrics] Accuracy(layer_0 - estimator_0 - 10_folds.train_1.predict)=97.26%\n",
      "[ 2018-05-15 10:25:01,453][kfold_wrapper.log_eval_metrics] Accuracy(layer_0 - estimator_0 - 10_folds.train_2.predict)=96.35%\n",
      "[ 2018-05-15 10:25:04,551][kfold_wrapper.log_eval_metrics] Accuracy(layer_0 - estimator_0 - 10_folds.train_3.predict)=97.72%\n",
      "[ 2018-05-15 10:25:07,647][kfold_wrapper.log_eval_metrics] Accuracy(layer_0 - estimator_0 - 10_folds.train_4.predict)=97.26%\n",
      "[ 2018-05-15 10:25:10,757][kfold_wrapper.log_eval_metrics] Accuracy(layer_0 - estimator_0 - 10_folds.train_5.predict)=98.17%\n",
      "[ 2018-05-15 10:25:13,715][kfold_wrapper.log_eval_metrics] Accuracy(layer_0 - estimator_0 - 10_folds.train_6.predict)=96.80%\n",
      "[ 2018-05-15 10:25:16,903][kfold_wrapper.log_eval_metrics] Accuracy(layer_0 - estimator_0 - 10_folds.train_7.predict)=96.79%\n",
      "[ 2018-05-15 10:25:20,067][kfold_wrapper.log_eval_metrics] Accuracy(layer_0 - estimator_0 - 10_folds.train_8.predict)=98.17%\n",
      "[ 2018-05-15 10:25:23,234][kfold_wrapper.log_eval_metrics] Accuracy(layer_0 - estimator_0 - 10_folds.train_9.predict)=96.77%\n",
      "[ 2018-05-15 10:25:23,358][kfold_wrapper.log_eval_metrics] Accuracy(layer_0 - estimator_0 - 10_folds.train_cv.predict)=97.26%\n",
      "[ 2018-05-15 10:25:23,361][kfold_wrapper.log_eval_metrics] Accuracy(layer_0 - estimator_0 - 10_folds.test.predict)=97.12%\n",
      "[ 2018-05-15 10:25:23,368][cascade_classifier.calc_accuracy] Accuracy(layer_0 - train.classifier_average)=97.26%\n",
      "[ 2018-05-15 10:25:23,371][cascade_classifier.calc_accuracy] Accuracy(layer_0 - test.classifier_average)=97.12%\n",
      "[ 2018-05-15 10:25:23,372][cascade_classifier.fit_transform] [Result][Reach Max Layer] opt_layer_num=1, accuracy_train=97.26%, accuracy_test=97.12%\n",
      "[ 2018-05-15 10:25:23,381][cascade_classifier.transform] X_groups_test.shape=[(1078, 1557)]\n",
      "[ 2018-05-15 10:25:23,393][cascade_classifier.transform] group_dims=[1557]\n",
      "[ 2018-05-15 10:25:23,395][cascade_classifier.transform] X_test.shape=(1078, 1557)\n",
      "[ 2018-05-15 10:25:23,409][cascade_classifier.transform] [layer=0] look_indexs=[0], X_cur_test.shape=(1078, 1557)\n",
      "[ 2018-05-15 10:25:24,686][cascade_classifier.fit_transform] X_groups_train.shape=[(2186, 1557)],y_train.shape=(2186,),X_groups_test.shape=[(1078, 1557)],y_test.shape=(1078,)\n",
      "[ 2018-05-15 10:25:24,693][cascade_classifier.fit_transform] group_dims=[1557]\n",
      "[ 2018-05-15 10:25:24,695][cascade_classifier.fit_transform] group_starts=[0]\n",
      "[ 2018-05-15 10:25:24,696][cascade_classifier.fit_transform] group_ends=[1557]\n",
      "[ 2018-05-15 10:25:24,699][cascade_classifier.fit_transform] X_train.shape=(2186, 1557),X_test.shape=(1078, 1557)\n",
      "[ 2018-05-15 10:25:24,720][cascade_classifier.fit_transform] [layer=0] look_indexs=[0], X_cur_train.shape=(2186, 1557), X_cur_test.shape=(1078, 1557)\n"
     ]
    },
    {
     "name": "stdout",
     "output_type": "stream",
     "text": [
      "('Test Accuracy of ExtraTrees = 97.124304 %', 3, 'fois')\n",
      "[[907   6]\n",
      " [ 25 140]]\n",
      "\n",
      "\n",
      "             precision    recall  f1-score   support\n",
      "\n",
      "        0.0       0.97      0.99      0.98       913\n",
      "        1.0       0.96      0.85      0.90       165\n",
      "\n",
      "avg / total       0.97      0.97      0.97      1078\n",
      "\n"
     ]
    },
    {
     "name": "stderr",
     "output_type": "stream",
     "text": [
      "[ 2018-05-15 10:25:27,871][kfold_wrapper.log_eval_metrics] Accuracy(layer_0 - estimator_0 - 10_folds.train_0.predict)=97.26%\n",
      "[ 2018-05-15 10:25:30,964][kfold_wrapper.log_eval_metrics] Accuracy(layer_0 - estimator_0 - 10_folds.train_1.predict)=96.80%\n",
      "[ 2018-05-15 10:25:34,006][kfold_wrapper.log_eval_metrics] Accuracy(layer_0 - estimator_0 - 10_folds.train_2.predict)=95.43%\n",
      "[ 2018-05-15 10:25:36,985][kfold_wrapper.log_eval_metrics] Accuracy(layer_0 - estimator_0 - 10_folds.train_3.predict)=97.26%\n",
      "[ 2018-05-15 10:25:40,172][kfold_wrapper.log_eval_metrics] Accuracy(layer_0 - estimator_0 - 10_folds.train_4.predict)=97.26%\n",
      "[ 2018-05-15 10:25:43,306][kfold_wrapper.log_eval_metrics] Accuracy(layer_0 - estimator_0 - 10_folds.train_5.predict)=98.63%\n",
      "[ 2018-05-15 10:25:46,356][kfold_wrapper.log_eval_metrics] Accuracy(layer_0 - estimator_0 - 10_folds.train_6.predict)=96.80%\n",
      "[ 2018-05-15 10:25:49,440][kfold_wrapper.log_eval_metrics] Accuracy(layer_0 - estimator_0 - 10_folds.train_7.predict)=97.25%\n",
      "[ 2018-05-15 10:25:52,701][kfold_wrapper.log_eval_metrics] Accuracy(layer_0 - estimator_0 - 10_folds.train_8.predict)=98.62%\n",
      "[ 2018-05-15 10:25:55,920][kfold_wrapper.log_eval_metrics] Accuracy(layer_0 - estimator_0 - 10_folds.train_9.predict)=96.31%\n",
      "[ 2018-05-15 10:25:56,058][kfold_wrapper.log_eval_metrics] Accuracy(layer_0 - estimator_0 - 10_folds.train_cv.predict)=97.16%\n",
      "[ 2018-05-15 10:25:56,061][kfold_wrapper.log_eval_metrics] Accuracy(layer_0 - estimator_0 - 10_folds.test.predict)=96.66%\n",
      "[ 2018-05-15 10:25:56,068][cascade_classifier.calc_accuracy] Accuracy(layer_0 - train.classifier_average)=97.16%\n",
      "[ 2018-05-15 10:25:56,069][cascade_classifier.calc_accuracy] Accuracy(layer_0 - test.classifier_average)=96.66%\n",
      "[ 2018-05-15 10:25:56,071][cascade_classifier.fit_transform] [Result][Reach Max Layer] opt_layer_num=1, accuracy_train=97.16%, accuracy_test=96.66%\n",
      "[ 2018-05-15 10:25:56,078][cascade_classifier.transform] X_groups_test.shape=[(1078, 1557)]\n",
      "[ 2018-05-15 10:25:56,082][cascade_classifier.transform] group_dims=[1557]\n",
      "[ 2018-05-15 10:25:56,084][cascade_classifier.transform] X_test.shape=(1078, 1557)\n",
      "[ 2018-05-15 10:25:56,095][cascade_classifier.transform] [layer=0] look_indexs=[0], X_cur_test.shape=(1078, 1557)\n",
      "[ 2018-05-15 10:25:57,408][cascade_classifier.fit_transform] X_groups_train.shape=[(2186, 1557)],y_train.shape=(2186,),X_groups_test.shape=[(1078, 1557)],y_test.shape=(1078,)\n",
      "[ 2018-05-15 10:25:57,430][cascade_classifier.fit_transform] group_dims=[1557]\n",
      "[ 2018-05-15 10:25:57,432][cascade_classifier.fit_transform] group_starts=[0]\n",
      "[ 2018-05-15 10:25:57,438][cascade_classifier.fit_transform] group_ends=[1557]\n",
      "[ 2018-05-15 10:25:57,440][cascade_classifier.fit_transform] X_train.shape=(2186, 1557),X_test.shape=(1078, 1557)\n",
      "[ 2018-05-15 10:25:57,469][cascade_classifier.fit_transform] [layer=0] look_indexs=[0], X_cur_train.shape=(2186, 1557), X_cur_test.shape=(1078, 1557)\n"
     ]
    },
    {
     "name": "stdout",
     "output_type": "stream",
     "text": [
      "('Test Accuracy of ExtraTrees = 96.660482 %', 4, 'fois')\n",
      "[[905   8]\n",
      " [ 28 137]]\n",
      "\n",
      "\n",
      "             precision    recall  f1-score   support\n",
      "\n",
      "        0.0       0.97      0.99      0.98       913\n",
      "        1.0       0.94      0.83      0.88       165\n",
      "\n",
      "avg / total       0.97      0.97      0.97      1078\n",
      "\n"
     ]
    },
    {
     "name": "stderr",
     "output_type": "stream",
     "text": [
      "[ 2018-05-15 10:26:00,489][kfold_wrapper.log_eval_metrics] Accuracy(layer_0 - estimator_0 - 10_folds.train_0.predict)=97.26%\n",
      "[ 2018-05-15 10:26:03,483][kfold_wrapper.log_eval_metrics] Accuracy(layer_0 - estimator_0 - 10_folds.train_1.predict)=96.80%\n",
      "[ 2018-05-15 10:26:06,557][kfold_wrapper.log_eval_metrics] Accuracy(layer_0 - estimator_0 - 10_folds.train_2.predict)=95.89%\n",
      "[ 2018-05-15 10:26:09,726][kfold_wrapper.log_eval_metrics] Accuracy(layer_0 - estimator_0 - 10_folds.train_3.predict)=97.72%\n",
      "[ 2018-05-15 10:26:12,929][kfold_wrapper.log_eval_metrics] Accuracy(layer_0 - estimator_0 - 10_folds.train_4.predict)=97.72%\n",
      "[ 2018-05-15 10:26:15,998][kfold_wrapper.log_eval_metrics] Accuracy(layer_0 - estimator_0 - 10_folds.train_5.predict)=98.17%\n",
      "[ 2018-05-15 10:26:19,084][kfold_wrapper.log_eval_metrics] Accuracy(layer_0 - estimator_0 - 10_folds.train_6.predict)=97.26%\n",
      "[ 2018-05-15 10:26:22,333][kfold_wrapper.log_eval_metrics] Accuracy(layer_0 - estimator_0 - 10_folds.train_7.predict)=96.79%\n",
      "[ 2018-05-15 10:26:25,522][kfold_wrapper.log_eval_metrics] Accuracy(layer_0 - estimator_0 - 10_folds.train_8.predict)=98.17%\n",
      "[ 2018-05-15 10:26:28,767][kfold_wrapper.log_eval_metrics] Accuracy(layer_0 - estimator_0 - 10_folds.train_9.predict)=96.77%\n",
      "[ 2018-05-15 10:26:28,889][kfold_wrapper.log_eval_metrics] Accuracy(layer_0 - estimator_0 - 10_folds.train_cv.predict)=97.26%\n",
      "[ 2018-05-15 10:26:28,892][kfold_wrapper.log_eval_metrics] Accuracy(layer_0 - estimator_0 - 10_folds.test.predict)=96.85%\n",
      "[ 2018-05-15 10:26:28,902][cascade_classifier.calc_accuracy] Accuracy(layer_0 - train.classifier_average)=97.26%\n",
      "[ 2018-05-15 10:26:28,906][cascade_classifier.calc_accuracy] Accuracy(layer_0 - test.classifier_average)=96.85%\n",
      "[ 2018-05-15 10:26:28,908][cascade_classifier.fit_transform] [Result][Reach Max Layer] opt_layer_num=1, accuracy_train=97.26%, accuracy_test=96.85%\n",
      "[ 2018-05-15 10:26:28,915][cascade_classifier.transform] X_groups_test.shape=[(1078, 1557)]\n",
      "[ 2018-05-15 10:26:28,926][cascade_classifier.transform] group_dims=[1557]\n",
      "[ 2018-05-15 10:26:28,927][cascade_classifier.transform] X_test.shape=(1078, 1557)\n",
      "[ 2018-05-15 10:26:28,939][cascade_classifier.transform] [layer=0] look_indexs=[0], X_cur_test.shape=(1078, 1557)\n",
      "[ 2018-05-15 10:26:30,297][cascade_classifier.fit_transform] X_groups_train.shape=[(2186, 1557)],y_train.shape=(2186,),X_groups_test.shape=[(1078, 1557)],y_test.shape=(1078,)\n",
      "[ 2018-05-15 10:26:30,305][cascade_classifier.fit_transform] group_dims=[1557]\n",
      "[ 2018-05-15 10:26:30,307][cascade_classifier.fit_transform] group_starts=[0]\n",
      "[ 2018-05-15 10:26:30,310][cascade_classifier.fit_transform] group_ends=[1557]\n",
      "[ 2018-05-15 10:26:30,313][cascade_classifier.fit_transform] X_train.shape=(2186, 1557),X_test.shape=(1078, 1557)\n",
      "[ 2018-05-15 10:26:30,331][cascade_classifier.fit_transform] [layer=0] look_indexs=[0], X_cur_train.shape=(2186, 1557), X_cur_test.shape=(1078, 1557)\n"
     ]
    },
    {
     "name": "stdout",
     "output_type": "stream",
     "text": [
      "('Test Accuracy of ExtraTrees = 96.846011 %', 5, 'fois')\n",
      "[[907   6]\n",
      " [ 28 137]]\n",
      "\n",
      "\n",
      "             precision    recall  f1-score   support\n",
      "\n",
      "        0.0       0.97      0.99      0.98       913\n",
      "        1.0       0.96      0.83      0.89       165\n",
      "\n",
      "avg / total       0.97      0.97      0.97      1078\n",
      "\n"
     ]
    },
    {
     "name": "stderr",
     "output_type": "stream",
     "text": [
      "[ 2018-05-15 10:26:33,486][kfold_wrapper.log_eval_metrics] Accuracy(layer_0 - estimator_0 - 10_folds.train_0.predict)=97.26%\n",
      "[ 2018-05-15 10:26:36,447][kfold_wrapper.log_eval_metrics] Accuracy(layer_0 - estimator_0 - 10_folds.train_1.predict)=96.80%\n",
      "[ 2018-05-15 10:26:39,543][kfold_wrapper.log_eval_metrics] Accuracy(layer_0 - estimator_0 - 10_folds.train_2.predict)=96.35%\n",
      "[ 2018-05-15 10:26:42,679][kfold_wrapper.log_eval_metrics] Accuracy(layer_0 - estimator_0 - 10_folds.train_3.predict)=96.80%\n",
      "[ 2018-05-15 10:26:45,848][kfold_wrapper.log_eval_metrics] Accuracy(layer_0 - estimator_0 - 10_folds.train_4.predict)=96.80%\n",
      "[ 2018-05-15 10:26:48,910][kfold_wrapper.log_eval_metrics] Accuracy(layer_0 - estimator_0 - 10_folds.train_5.predict)=98.63%\n",
      "[ 2018-05-15 10:26:51,960][kfold_wrapper.log_eval_metrics] Accuracy(layer_0 - estimator_0 - 10_folds.train_6.predict)=97.26%\n",
      "[ 2018-05-15 10:26:55,173][kfold_wrapper.log_eval_metrics] Accuracy(layer_0 - estimator_0 - 10_folds.train_7.predict)=97.71%\n",
      "[ 2018-05-15 10:26:58,353][kfold_wrapper.log_eval_metrics] Accuracy(layer_0 - estimator_0 - 10_folds.train_8.predict)=98.62%\n",
      "[ 2018-05-15 10:27:01,407][kfold_wrapper.log_eval_metrics] Accuracy(layer_0 - estimator_0 - 10_folds.train_9.predict)=96.31%\n",
      "[ 2018-05-15 10:27:01,545][kfold_wrapper.log_eval_metrics] Accuracy(layer_0 - estimator_0 - 10_folds.train_cv.predict)=97.26%\n",
      "[ 2018-05-15 10:27:01,546][kfold_wrapper.log_eval_metrics] Accuracy(layer_0 - estimator_0 - 10_folds.test.predict)=96.75%\n",
      "[ 2018-05-15 10:27:01,552][cascade_classifier.calc_accuracy] Accuracy(layer_0 - train.classifier_average)=97.26%\n",
      "[ 2018-05-15 10:27:01,553][cascade_classifier.calc_accuracy] Accuracy(layer_0 - test.classifier_average)=96.75%\n",
      "[ 2018-05-15 10:27:01,558][cascade_classifier.fit_transform] [Result][Reach Max Layer] opt_layer_num=1, accuracy_train=97.26%, accuracy_test=96.75%\n",
      "[ 2018-05-15 10:27:01,565][cascade_classifier.transform] X_groups_test.shape=[(1078, 1557)]\n",
      "[ 2018-05-15 10:27:01,571][cascade_classifier.transform] group_dims=[1557]\n",
      "[ 2018-05-15 10:27:01,573][cascade_classifier.transform] X_test.shape=(1078, 1557)\n",
      "[ 2018-05-15 10:27:01,584][cascade_classifier.transform] [layer=0] look_indexs=[0], X_cur_test.shape=(1078, 1557)\n",
      "[ 2018-05-15 10:27:02,869][cascade_classifier.fit_transform] X_groups_train.shape=[(2186, 1557)],y_train.shape=(2186,),X_groups_test.shape=[(1078, 1557)],y_test.shape=(1078,)\n",
      "[ 2018-05-15 10:27:02,890][cascade_classifier.fit_transform] group_dims=[1557]\n",
      "[ 2018-05-15 10:27:02,891][cascade_classifier.fit_transform] group_starts=[0]\n",
      "[ 2018-05-15 10:27:02,898][cascade_classifier.fit_transform] group_ends=[1557]\n",
      "[ 2018-05-15 10:27:02,901][cascade_classifier.fit_transform] X_train.shape=(2186, 1557),X_test.shape=(1078, 1557)\n",
      "[ 2018-05-15 10:27:02,931][cascade_classifier.fit_transform] [layer=0] look_indexs=[0], X_cur_train.shape=(2186, 1557), X_cur_test.shape=(1078, 1557)\n"
     ]
    },
    {
     "name": "stdout",
     "output_type": "stream",
     "text": [
      "('Test Accuracy of ExtraTrees = 96.753247 %', 6, 'fois')\n",
      "[[904   9]\n",
      " [ 26 139]]\n",
      "\n",
      "\n",
      "             precision    recall  f1-score   support\n",
      "\n",
      "        0.0       0.97      0.99      0.98       913\n",
      "        1.0       0.94      0.84      0.89       165\n",
      "\n",
      "avg / total       0.97      0.97      0.97      1078\n",
      "\n"
     ]
    },
    {
     "name": "stderr",
     "output_type": "stream",
     "text": [
      "[ 2018-05-15 10:27:05,942][kfold_wrapper.log_eval_metrics] Accuracy(layer_0 - estimator_0 - 10_folds.train_0.predict)=97.26%\n",
      "[ 2018-05-15 10:27:08,881][kfold_wrapper.log_eval_metrics] Accuracy(layer_0 - estimator_0 - 10_folds.train_1.predict)=97.26%\n",
      "[ 2018-05-15 10:27:11,951][kfold_wrapper.log_eval_metrics] Accuracy(layer_0 - estimator_0 - 10_folds.train_2.predict)=95.89%\n",
      "[ 2018-05-15 10:27:15,030][kfold_wrapper.log_eval_metrics] Accuracy(layer_0 - estimator_0 - 10_folds.train_3.predict)=97.72%\n",
      "[ 2018-05-15 10:27:18,204][kfold_wrapper.log_eval_metrics] Accuracy(layer_0 - estimator_0 - 10_folds.train_4.predict)=97.26%\n",
      "[ 2018-05-15 10:27:21,376][kfold_wrapper.log_eval_metrics] Accuracy(layer_0 - estimator_0 - 10_folds.train_5.predict)=98.17%\n",
      "[ 2018-05-15 10:27:24,494][kfold_wrapper.log_eval_metrics] Accuracy(layer_0 - estimator_0 - 10_folds.train_6.predict)=96.80%\n",
      "[ 2018-05-15 10:27:27,366][kfold_wrapper.log_eval_metrics] Accuracy(layer_0 - estimator_0 - 10_folds.train_7.predict)=97.71%\n",
      "[ 2018-05-15 10:27:30,145][kfold_wrapper.log_eval_metrics] Accuracy(layer_0 - estimator_0 - 10_folds.train_8.predict)=98.17%\n",
      "[ 2018-05-15 10:27:32,769][kfold_wrapper.log_eval_metrics] Accuracy(layer_0 - estimator_0 - 10_folds.train_9.predict)=96.31%\n",
      "[ 2018-05-15 10:27:32,902][kfold_wrapper.log_eval_metrics] Accuracy(layer_0 - estimator_0 - 10_folds.train_cv.predict)=97.26%\n",
      "[ 2018-05-15 10:27:32,905][kfold_wrapper.log_eval_metrics] Accuracy(layer_0 - estimator_0 - 10_folds.test.predict)=96.66%\n",
      "[ 2018-05-15 10:27:32,912][cascade_classifier.calc_accuracy] Accuracy(layer_0 - train.classifier_average)=97.26%\n",
      "[ 2018-05-15 10:27:32,915][cascade_classifier.calc_accuracy] Accuracy(layer_0 - test.classifier_average)=96.66%\n",
      "[ 2018-05-15 10:27:32,917][cascade_classifier.fit_transform] [Result][Reach Max Layer] opt_layer_num=1, accuracy_train=97.26%, accuracy_test=96.66%\n",
      "[ 2018-05-15 10:27:32,930][cascade_classifier.transform] X_groups_test.shape=[(1078, 1557)]\n",
      "[ 2018-05-15 10:27:32,940][cascade_classifier.transform] group_dims=[1557]\n",
      "[ 2018-05-15 10:27:32,941][cascade_classifier.transform] X_test.shape=(1078, 1557)\n",
      "[ 2018-05-15 10:27:32,950][cascade_classifier.transform] [layer=0] look_indexs=[0], X_cur_test.shape=(1078, 1557)\n",
      "[ 2018-05-15 10:27:34,298][cascade_classifier.fit_transform] X_groups_train.shape=[(2186, 1557)],y_train.shape=(2186,),X_groups_test.shape=[(1078, 1557)],y_test.shape=(1078,)\n",
      "[ 2018-05-15 10:27:34,305][cascade_classifier.fit_transform] group_dims=[1557]\n",
      "[ 2018-05-15 10:27:34,306][cascade_classifier.fit_transform] group_starts=[0]\n",
      "[ 2018-05-15 10:27:34,309][cascade_classifier.fit_transform] group_ends=[1557]\n",
      "[ 2018-05-15 10:27:34,311][cascade_classifier.fit_transform] X_train.shape=(2186, 1557),X_test.shape=(1078, 1557)\n",
      "[ 2018-05-15 10:27:34,331][cascade_classifier.fit_transform] [layer=0] look_indexs=[0], X_cur_train.shape=(2186, 1557), X_cur_test.shape=(1078, 1557)\n"
     ]
    },
    {
     "name": "stdout",
     "output_type": "stream",
     "text": [
      "('Test Accuracy of ExtraTrees = 96.660482 %', 7, 'fois')\n",
      "[[906   7]\n",
      " [ 29 136]]\n",
      "\n",
      "\n",
      "             precision    recall  f1-score   support\n",
      "\n",
      "        0.0       0.97      0.99      0.98       913\n",
      "        1.0       0.95      0.82      0.88       165\n",
      "\n",
      "avg / total       0.97      0.97      0.97      1078\n",
      "\n"
     ]
    },
    {
     "name": "stderr",
     "output_type": "stream",
     "text": [
      "[ 2018-05-15 10:27:36,867][kfold_wrapper.log_eval_metrics] Accuracy(layer_0 - estimator_0 - 10_folds.train_0.predict)=97.26%\n",
      "[ 2018-05-15 10:27:39,385][kfold_wrapper.log_eval_metrics] Accuracy(layer_0 - estimator_0 - 10_folds.train_1.predict)=97.26%\n",
      "[ 2018-05-15 10:27:41,996][kfold_wrapper.log_eval_metrics] Accuracy(layer_0 - estimator_0 - 10_folds.train_2.predict)=95.43%\n",
      "[ 2018-05-15 10:27:44,723][kfold_wrapper.log_eval_metrics] Accuracy(layer_0 - estimator_0 - 10_folds.train_3.predict)=97.26%\n",
      "[ 2018-05-15 10:27:47,447][kfold_wrapper.log_eval_metrics] Accuracy(layer_0 - estimator_0 - 10_folds.train_4.predict)=97.72%\n",
      "[ 2018-05-15 10:27:50,083][kfold_wrapper.log_eval_metrics] Accuracy(layer_0 - estimator_0 - 10_folds.train_5.predict)=98.17%\n",
      "[ 2018-05-15 10:27:52,715][kfold_wrapper.log_eval_metrics] Accuracy(layer_0 - estimator_0 - 10_folds.train_6.predict)=97.26%\n",
      "[ 2018-05-15 10:27:55,367][kfold_wrapper.log_eval_metrics] Accuracy(layer_0 - estimator_0 - 10_folds.train_7.predict)=97.25%\n",
      "[ 2018-05-15 10:27:58,213][kfold_wrapper.log_eval_metrics] Accuracy(layer_0 - estimator_0 - 10_folds.train_8.predict)=98.62%\n",
      "[ 2018-05-15 10:28:00,966][kfold_wrapper.log_eval_metrics] Accuracy(layer_0 - estimator_0 - 10_folds.train_9.predict)=96.31%\n",
      "[ 2018-05-15 10:28:01,099][kfold_wrapper.log_eval_metrics] Accuracy(layer_0 - estimator_0 - 10_folds.train_cv.predict)=97.26%\n",
      "[ 2018-05-15 10:28:01,103][kfold_wrapper.log_eval_metrics] Accuracy(layer_0 - estimator_0 - 10_folds.test.predict)=96.85%\n",
      "[ 2018-05-15 10:28:01,111][cascade_classifier.calc_accuracy] Accuracy(layer_0 - train.classifier_average)=97.26%\n",
      "[ 2018-05-15 10:28:01,116][cascade_classifier.calc_accuracy] Accuracy(layer_0 - test.classifier_average)=96.85%\n",
      "[ 2018-05-15 10:28:01,117][cascade_classifier.fit_transform] [Result][Reach Max Layer] opt_layer_num=1, accuracy_train=97.26%, accuracy_test=96.85%\n",
      "[ 2018-05-15 10:28:01,124][cascade_classifier.transform] X_groups_test.shape=[(1078, 1557)]\n",
      "[ 2018-05-15 10:28:01,127][cascade_classifier.transform] group_dims=[1557]\n",
      "[ 2018-05-15 10:28:01,129][cascade_classifier.transform] X_test.shape=(1078, 1557)\n",
      "[ 2018-05-15 10:28:01,139][cascade_classifier.transform] [layer=0] look_indexs=[0], X_cur_test.shape=(1078, 1557)\n",
      "[ 2018-05-15 10:28:02,489][cascade_classifier.fit_transform] X_groups_train.shape=[(2186, 1557)],y_train.shape=(2186,),X_groups_test.shape=[(1078, 1557)],y_test.shape=(1078,)\n",
      "[ 2018-05-15 10:28:02,507][cascade_classifier.fit_transform] group_dims=[1557]\n",
      "[ 2018-05-15 10:28:02,508][cascade_classifier.fit_transform] group_starts=[0]\n",
      "[ 2018-05-15 10:28:02,509][cascade_classifier.fit_transform] group_ends=[1557]\n",
      "[ 2018-05-15 10:28:02,510][cascade_classifier.fit_transform] X_train.shape=(2186, 1557),X_test.shape=(1078, 1557)\n",
      "[ 2018-05-15 10:28:02,534][cascade_classifier.fit_transform] [layer=0] look_indexs=[0], X_cur_train.shape=(2186, 1557), X_cur_test.shape=(1078, 1557)\n"
     ]
    },
    {
     "name": "stdout",
     "output_type": "stream",
     "text": [
      "('Test Accuracy of ExtraTrees = 96.846011 %', 8, 'fois')\n",
      "[[906   7]\n",
      " [ 27 138]]\n",
      "\n",
      "\n",
      "             precision    recall  f1-score   support\n",
      "\n",
      "        0.0       0.97      0.99      0.98       913\n",
      "        1.0       0.95      0.84      0.89       165\n",
      "\n",
      "avg / total       0.97      0.97      0.97      1078\n",
      "\n"
     ]
    },
    {
     "name": "stderr",
     "output_type": "stream",
     "text": [
      "[ 2018-05-15 10:28:05,107][kfold_wrapper.log_eval_metrics] Accuracy(layer_0 - estimator_0 - 10_folds.train_0.predict)=97.26%\n",
      "[ 2018-05-15 10:28:07,690][kfold_wrapper.log_eval_metrics] Accuracy(layer_0 - estimator_0 - 10_folds.train_1.predict)=97.72%\n",
      "[ 2018-05-15 10:28:10,359][kfold_wrapper.log_eval_metrics] Accuracy(layer_0 - estimator_0 - 10_folds.train_2.predict)=95.89%\n",
      "[ 2018-05-15 10:28:12,973][kfold_wrapper.log_eval_metrics] Accuracy(layer_0 - estimator_0 - 10_folds.train_3.predict)=97.72%\n",
      "[ 2018-05-15 10:28:15,646][kfold_wrapper.log_eval_metrics] Accuracy(layer_0 - estimator_0 - 10_folds.train_4.predict)=96.80%\n",
      "[ 2018-05-15 10:28:18,293][kfold_wrapper.log_eval_metrics] Accuracy(layer_0 - estimator_0 - 10_folds.train_5.predict)=98.17%\n",
      "[ 2018-05-15 10:28:20,940][kfold_wrapper.log_eval_metrics] Accuracy(layer_0 - estimator_0 - 10_folds.train_6.predict)=96.35%\n",
      "[ 2018-05-15 10:28:23,614][kfold_wrapper.log_eval_metrics] Accuracy(layer_0 - estimator_0 - 10_folds.train_7.predict)=97.25%\n",
      "[ 2018-05-15 10:28:26,292][kfold_wrapper.log_eval_metrics] Accuracy(layer_0 - estimator_0 - 10_folds.train_8.predict)=98.17%\n",
      "[ 2018-05-15 10:28:28,928][kfold_wrapper.log_eval_metrics] Accuracy(layer_0 - estimator_0 - 10_folds.train_9.predict)=97.24%\n",
      "[ 2018-05-15 10:28:29,063][kfold_wrapper.log_eval_metrics] Accuracy(layer_0 - estimator_0 - 10_folds.train_cv.predict)=97.26%\n",
      "[ 2018-05-15 10:28:29,066][kfold_wrapper.log_eval_metrics] Accuracy(layer_0 - estimator_0 - 10_folds.test.predict)=96.85%\n",
      "[ 2018-05-15 10:28:29,074][cascade_classifier.calc_accuracy] Accuracy(layer_0 - train.classifier_average)=97.26%\n",
      "[ 2018-05-15 10:28:29,077][cascade_classifier.calc_accuracy] Accuracy(layer_0 - test.classifier_average)=96.85%\n",
      "[ 2018-05-15 10:28:29,079][cascade_classifier.fit_transform] [Result][Reach Max Layer] opt_layer_num=1, accuracy_train=97.26%, accuracy_test=96.85%\n",
      "[ 2018-05-15 10:28:29,088][cascade_classifier.transform] X_groups_test.shape=[(1078, 1557)]\n",
      "[ 2018-05-15 10:28:29,097][cascade_classifier.transform] group_dims=[1557]\n",
      "[ 2018-05-15 10:28:29,098][cascade_classifier.transform] X_test.shape=(1078, 1557)\n",
      "[ 2018-05-15 10:28:29,108][cascade_classifier.transform] [layer=0] look_indexs=[0], X_cur_test.shape=(1078, 1557)\n",
      "[ 2018-05-15 10:28:30,455][cascade_classifier.fit_transform] X_groups_train.shape=[(2186, 1557)],y_train.shape=(2186,),X_groups_test.shape=[(1078, 1557)],y_test.shape=(1078,)\n",
      "[ 2018-05-15 10:28:30,462][cascade_classifier.fit_transform] group_dims=[1557]\n",
      "[ 2018-05-15 10:28:30,463][cascade_classifier.fit_transform] group_starts=[0]\n",
      "[ 2018-05-15 10:28:30,464][cascade_classifier.fit_transform] group_ends=[1557]\n",
      "[ 2018-05-15 10:28:30,465][cascade_classifier.fit_transform] X_train.shape=(2186, 1557),X_test.shape=(1078, 1557)\n",
      "[ 2018-05-15 10:28:30,484][cascade_classifier.fit_transform] [layer=0] look_indexs=[0], X_cur_train.shape=(2186, 1557), X_cur_test.shape=(1078, 1557)\n"
     ]
    },
    {
     "name": "stdout",
     "output_type": "stream",
     "text": [
      "('Test Accuracy of ExtraTrees = 96.846011 %', 9, 'fois')\n",
      "[[906   7]\n",
      " [ 27 138]]\n",
      "\n",
      "\n",
      "             precision    recall  f1-score   support\n",
      "\n",
      "        0.0       0.97      0.99      0.98       913\n",
      "        1.0       0.95      0.84      0.89       165\n",
      "\n",
      "avg / total       0.97      0.97      0.97      1078\n",
      "\n"
     ]
    },
    {
     "name": "stderr",
     "output_type": "stream",
     "text": [
      "[ 2018-05-15 10:28:33,001][kfold_wrapper.log_eval_metrics] Accuracy(layer_0 - estimator_0 - 10_folds.train_0.predict)=97.26%\n",
      "[ 2018-05-15 10:28:35,523][kfold_wrapper.log_eval_metrics] Accuracy(layer_0 - estimator_0 - 10_folds.train_1.predict)=96.80%\n",
      "[ 2018-05-15 10:28:38,152][kfold_wrapper.log_eval_metrics] Accuracy(layer_0 - estimator_0 - 10_folds.train_2.predict)=95.89%\n",
      "[ 2018-05-15 10:28:40,962][kfold_wrapper.log_eval_metrics] Accuracy(layer_0 - estimator_0 - 10_folds.train_3.predict)=97.72%\n",
      "[ 2018-05-15 10:28:43,673][kfold_wrapper.log_eval_metrics] Accuracy(layer_0 - estimator_0 - 10_folds.train_4.predict)=97.26%\n",
      "[ 2018-05-15 10:28:46,405][kfold_wrapper.log_eval_metrics] Accuracy(layer_0 - estimator_0 - 10_folds.train_5.predict)=98.63%\n",
      "[ 2018-05-15 10:28:49,032][kfold_wrapper.log_eval_metrics] Accuracy(layer_0 - estimator_0 - 10_folds.train_6.predict)=97.26%\n",
      "[ 2018-05-15 10:28:51,652][kfold_wrapper.log_eval_metrics] Accuracy(layer_0 - estimator_0 - 10_folds.train_7.predict)=97.25%\n",
      "[ 2018-05-15 10:28:54,371][kfold_wrapper.log_eval_metrics] Accuracy(layer_0 - estimator_0 - 10_folds.train_8.predict)=98.62%\n",
      "[ 2018-05-15 10:28:56,992][kfold_wrapper.log_eval_metrics] Accuracy(layer_0 - estimator_0 - 10_folds.train_9.predict)=96.31%\n",
      "[ 2018-05-15 10:28:57,126][kfold_wrapper.log_eval_metrics] Accuracy(layer_0 - estimator_0 - 10_folds.train_cv.predict)=97.30%\n",
      "[ 2018-05-15 10:28:57,129][kfold_wrapper.log_eval_metrics] Accuracy(layer_0 - estimator_0 - 10_folds.test.predict)=96.38%\n",
      "[ 2018-05-15 10:28:57,139][cascade_classifier.calc_accuracy] Accuracy(layer_0 - train.classifier_average)=97.30%\n",
      "[ 2018-05-15 10:28:57,141][cascade_classifier.calc_accuracy] Accuracy(layer_0 - test.classifier_average)=96.38%\n",
      "[ 2018-05-15 10:28:57,142][cascade_classifier.fit_transform] [Result][Reach Max Layer] opt_layer_num=1, accuracy_train=97.30%, accuracy_test=96.38%\n",
      "[ 2018-05-15 10:28:57,148][cascade_classifier.transform] X_groups_test.shape=[(1078, 1557)]\n",
      "[ 2018-05-15 10:28:57,154][cascade_classifier.transform] group_dims=[1557]\n",
      "[ 2018-05-15 10:28:57,155][cascade_classifier.transform] X_test.shape=(1078, 1557)\n",
      "[ 2018-05-15 10:28:57,167][cascade_classifier.transform] [layer=0] look_indexs=[0], X_cur_test.shape=(1078, 1557)\n",
      "[ 2018-05-15 10:28:58,516][cascade_classifier.fit_transform] X_groups_train.shape=[(2186, 1557)],y_train.shape=(2186,),X_groups_test.shape=[(1078, 1557)],y_test.shape=(1078,)\n",
      "[ 2018-05-15 10:28:58,535][cascade_classifier.fit_transform] group_dims=[1557]\n",
      "[ 2018-05-15 10:28:58,536][cascade_classifier.fit_transform] group_starts=[0]\n",
      "[ 2018-05-15 10:28:58,537][cascade_classifier.fit_transform] group_ends=[1557]\n",
      "[ 2018-05-15 10:28:58,538][cascade_classifier.fit_transform] X_train.shape=(2186, 1557),X_test.shape=(1078, 1557)\n",
      "[ 2018-05-15 10:28:58,563][cascade_classifier.fit_transform] [layer=0] look_indexs=[0], X_cur_train.shape=(2186, 1557), X_cur_test.shape=(1078, 1557)\n"
     ]
    },
    {
     "name": "stdout",
     "output_type": "stream",
     "text": [
      "('Test Accuracy of ExtraTrees = 96.382189 %', 10, 'fois')\n",
      "[[901  12]\n",
      " [ 27 138]]\n",
      "\n",
      "\n",
      "             precision    recall  f1-score   support\n",
      "\n",
      "        0.0       0.97      0.99      0.98       913\n",
      "        1.0       0.92      0.84      0.88       165\n",
      "\n",
      "avg / total       0.96      0.96      0.96      1078\n",
      "\n"
     ]
    },
    {
     "name": "stderr",
     "output_type": "stream",
     "text": [
      "[ 2018-05-15 10:29:01,208][kfold_wrapper.log_eval_metrics] Accuracy(layer_0 - estimator_0 - 10_folds.train_0.predict)=97.26%\n",
      "[ 2018-05-15 10:29:03,724][kfold_wrapper.log_eval_metrics] Accuracy(layer_0 - estimator_0 - 10_folds.train_1.predict)=96.80%\n",
      "[ 2018-05-15 10:29:06,334][kfold_wrapper.log_eval_metrics] Accuracy(layer_0 - estimator_0 - 10_folds.train_2.predict)=96.35%\n",
      "[ 2018-05-15 10:29:08,953][kfold_wrapper.log_eval_metrics] Accuracy(layer_0 - estimator_0 - 10_folds.train_3.predict)=97.26%\n",
      "[ 2018-05-15 10:29:11,721][kfold_wrapper.log_eval_metrics] Accuracy(layer_0 - estimator_0 - 10_folds.train_4.predict)=97.26%\n",
      "[ 2018-05-15 10:29:14,327][kfold_wrapper.log_eval_metrics] Accuracy(layer_0 - estimator_0 - 10_folds.train_5.predict)=97.72%\n",
      "[ 2018-05-15 10:29:16,963][kfold_wrapper.log_eval_metrics] Accuracy(layer_0 - estimator_0 - 10_folds.train_6.predict)=96.80%\n",
      "[ 2018-05-15 10:29:19,601][kfold_wrapper.log_eval_metrics] Accuracy(layer_0 - estimator_0 - 10_folds.train_7.predict)=97.25%\n",
      "[ 2018-05-15 10:29:22,352][kfold_wrapper.log_eval_metrics] Accuracy(layer_0 - estimator_0 - 10_folds.train_8.predict)=98.62%\n",
      "[ 2018-05-15 10:29:24,967][kfold_wrapper.log_eval_metrics] Accuracy(layer_0 - estimator_0 - 10_folds.train_9.predict)=97.24%\n",
      "[ 2018-05-15 10:29:25,100][kfold_wrapper.log_eval_metrics] Accuracy(layer_0 - estimator_0 - 10_folds.train_cv.predict)=97.26%\n",
      "[ 2018-05-15 10:29:25,103][kfold_wrapper.log_eval_metrics] Accuracy(layer_0 - estimator_0 - 10_folds.test.predict)=96.85%\n",
      "[ 2018-05-15 10:29:25,112][cascade_classifier.calc_accuracy] Accuracy(layer_0 - train.classifier_average)=97.26%\n",
      "[ 2018-05-15 10:29:25,114][cascade_classifier.calc_accuracy] Accuracy(layer_0 - test.classifier_average)=96.85%\n",
      "[ 2018-05-15 10:29:25,115][cascade_classifier.fit_transform] [Result][Reach Max Layer] opt_layer_num=1, accuracy_train=97.26%, accuracy_test=96.85%\n",
      "[ 2018-05-15 10:29:25,128][cascade_classifier.transform] X_groups_test.shape=[(1078, 1557)]\n",
      "[ 2018-05-15 10:29:25,137][cascade_classifier.transform] group_dims=[1557]\n",
      "[ 2018-05-15 10:29:25,139][cascade_classifier.transform] X_test.shape=(1078, 1557)\n",
      "[ 2018-05-15 10:29:25,148][cascade_classifier.transform] [layer=0] look_indexs=[0], X_cur_test.shape=(1078, 1557)\n",
      "[ 2018-05-15 10:29:26,497][cascade_classifier.fit_transform] X_groups_train.shape=[(2186, 1557)],y_train.shape=(2186,),X_groups_test.shape=[(1078, 1557)],y_test.shape=(1078,)\n",
      "[ 2018-05-15 10:29:26,504][cascade_classifier.fit_transform] group_dims=[1557]\n",
      "[ 2018-05-15 10:29:26,505][cascade_classifier.fit_transform] group_starts=[0]\n",
      "[ 2018-05-15 10:29:26,506][cascade_classifier.fit_transform] group_ends=[1557]\n",
      "[ 2018-05-15 10:29:26,507][cascade_classifier.fit_transform] X_train.shape=(2186, 1557),X_test.shape=(1078, 1557)\n",
      "[ 2018-05-15 10:29:26,526][cascade_classifier.fit_transform] [layer=0] look_indexs=[0], X_cur_train.shape=(2186, 1557), X_cur_test.shape=(1078, 1557)\n"
     ]
    },
    {
     "name": "stdout",
     "output_type": "stream",
     "text": [
      "('Test Accuracy of ExtraTrees = 96.846011 %', 11, 'fois')\n",
      "[[902  11]\n",
      " [ 23 142]]\n",
      "\n",
      "\n",
      "             precision    recall  f1-score   support\n",
      "\n",
      "        0.0       0.98      0.99      0.98       913\n",
      "        1.0       0.93      0.86      0.89       165\n",
      "\n",
      "avg / total       0.97      0.97      0.97      1078\n",
      "\n"
     ]
    },
    {
     "name": "stderr",
     "output_type": "stream",
     "text": [
      "[ 2018-05-15 10:29:29,074][kfold_wrapper.log_eval_metrics] Accuracy(layer_0 - estimator_0 - 10_folds.train_0.predict)=97.72%\n",
      "[ 2018-05-15 10:29:31,623][kfold_wrapper.log_eval_metrics] Accuracy(layer_0 - estimator_0 - 10_folds.train_1.predict)=97.72%\n",
      "[ 2018-05-15 10:29:34,271][kfold_wrapper.log_eval_metrics] Accuracy(layer_0 - estimator_0 - 10_folds.train_2.predict)=96.80%\n",
      "[ 2018-05-15 10:29:36,895][kfold_wrapper.log_eval_metrics] Accuracy(layer_0 - estimator_0 - 10_folds.train_3.predict)=97.26%\n",
      "[ 2018-05-15 10:29:39,495][kfold_wrapper.log_eval_metrics] Accuracy(layer_0 - estimator_0 - 10_folds.train_4.predict)=97.26%\n",
      "[ 2018-05-15 10:29:42,128][kfold_wrapper.log_eval_metrics] Accuracy(layer_0 - estimator_0 - 10_folds.train_5.predict)=97.72%\n",
      "[ 2018-05-15 10:29:44,634][kfold_wrapper.log_eval_metrics] Accuracy(layer_0 - estimator_0 - 10_folds.train_6.predict)=97.26%\n",
      "[ 2018-05-15 10:29:47,260][kfold_wrapper.log_eval_metrics] Accuracy(layer_0 - estimator_0 - 10_folds.train_7.predict)=97.25%\n",
      "[ 2018-05-15 10:29:50,029][kfold_wrapper.log_eval_metrics] Accuracy(layer_0 - estimator_0 - 10_folds.train_8.predict)=98.17%\n",
      "[ 2018-05-15 10:29:52,675][kfold_wrapper.log_eval_metrics] Accuracy(layer_0 - estimator_0 - 10_folds.train_9.predict)=96.31%\n",
      "[ 2018-05-15 10:29:52,809][kfold_wrapper.log_eval_metrics] Accuracy(layer_0 - estimator_0 - 10_folds.train_cv.predict)=97.35%\n",
      "[ 2018-05-15 10:29:52,813][kfold_wrapper.log_eval_metrics] Accuracy(layer_0 - estimator_0 - 10_folds.test.predict)=96.66%\n",
      "[ 2018-05-15 10:29:52,824][cascade_classifier.calc_accuracy] Accuracy(layer_0 - train.classifier_average)=97.35%\n",
      "[ 2018-05-15 10:29:52,826][cascade_classifier.calc_accuracy] Accuracy(layer_0 - test.classifier_average)=96.66%\n",
      "[ 2018-05-15 10:29:52,829][cascade_classifier.fit_transform] [Result][Reach Max Layer] opt_layer_num=1, accuracy_train=97.35%, accuracy_test=96.66%\n",
      "[ 2018-05-15 10:29:52,838][cascade_classifier.transform] X_groups_test.shape=[(1078, 1557)]\n",
      "[ 2018-05-15 10:29:52,842][cascade_classifier.transform] group_dims=[1557]\n",
      "[ 2018-05-15 10:29:52,843][cascade_classifier.transform] X_test.shape=(1078, 1557)\n",
      "[ 2018-05-15 10:29:52,853][cascade_classifier.transform] [layer=0] look_indexs=[0], X_cur_test.shape=(1078, 1557)\n",
      "[ 2018-05-15 10:29:54,216][cascade_classifier.fit_transform] X_groups_train.shape=[(2186, 1557)],y_train.shape=(2186,),X_groups_test.shape=[(1078, 1557)],y_test.shape=(1078,)\n",
      "[ 2018-05-15 10:29:54,234][cascade_classifier.fit_transform] group_dims=[1557]\n",
      "[ 2018-05-15 10:29:54,235][cascade_classifier.fit_transform] group_starts=[0]\n",
      "[ 2018-05-15 10:29:54,238][cascade_classifier.fit_transform] group_ends=[1557]\n",
      "[ 2018-05-15 10:29:54,239][cascade_classifier.fit_transform] X_train.shape=(2186, 1557),X_test.shape=(1078, 1557)\n",
      "[ 2018-05-15 10:29:54,266][cascade_classifier.fit_transform] [layer=0] look_indexs=[0], X_cur_train.shape=(2186, 1557), X_cur_test.shape=(1078, 1557)\n"
     ]
    },
    {
     "name": "stdout",
     "output_type": "stream",
     "text": [
      "('Test Accuracy of ExtraTrees = 96.660482 %', 12, 'fois')\n",
      "[[905   8]\n",
      " [ 28 137]]\n",
      "\n",
      "\n",
      "             precision    recall  f1-score   support\n",
      "\n",
      "        0.0       0.97      0.99      0.98       913\n",
      "        1.0       0.94      0.83      0.88       165\n",
      "\n",
      "avg / total       0.97      0.97      0.97      1078\n",
      "\n"
     ]
    },
    {
     "name": "stderr",
     "output_type": "stream",
     "text": [
      "[ 2018-05-15 10:29:56,823][kfold_wrapper.log_eval_metrics] Accuracy(layer_0 - estimator_0 - 10_folds.train_0.predict)=97.26%\n",
      "[ 2018-05-15 10:29:59,338][kfold_wrapper.log_eval_metrics] Accuracy(layer_0 - estimator_0 - 10_folds.train_1.predict)=96.80%\n",
      "[ 2018-05-15 10:30:01,969][kfold_wrapper.log_eval_metrics] Accuracy(layer_0 - estimator_0 - 10_folds.train_2.predict)=96.80%\n",
      "[ 2018-05-15 10:30:04,594][kfold_wrapper.log_eval_metrics] Accuracy(layer_0 - estimator_0 - 10_folds.train_3.predict)=97.26%\n",
      "[ 2018-05-15 10:30:07,201][kfold_wrapper.log_eval_metrics] Accuracy(layer_0 - estimator_0 - 10_folds.train_4.predict)=97.26%\n",
      "[ 2018-05-15 10:30:09,855][kfold_wrapper.log_eval_metrics] Accuracy(layer_0 - estimator_0 - 10_folds.train_5.predict)=97.26%\n",
      "[ 2018-05-15 10:30:12,521][kfold_wrapper.log_eval_metrics] Accuracy(layer_0 - estimator_0 - 10_folds.train_6.predict)=96.80%\n",
      "[ 2018-05-15 10:30:15,151][kfold_wrapper.log_eval_metrics] Accuracy(layer_0 - estimator_0 - 10_folds.train_7.predict)=98.17%\n",
      "[ 2018-05-15 10:30:17,904][kfold_wrapper.log_eval_metrics] Accuracy(layer_0 - estimator_0 - 10_folds.train_8.predict)=98.62%\n",
      "[ 2018-05-15 10:30:20,693][kfold_wrapper.log_eval_metrics] Accuracy(layer_0 - estimator_0 - 10_folds.train_9.predict)=95.85%\n",
      "[ 2018-05-15 10:30:20,827][kfold_wrapper.log_eval_metrics] Accuracy(layer_0 - estimator_0 - 10_folds.train_cv.predict)=97.21%\n",
      "[ 2018-05-15 10:30:20,831][kfold_wrapper.log_eval_metrics] Accuracy(layer_0 - estimator_0 - 10_folds.test.predict)=96.75%\n",
      "[ 2018-05-15 10:30:20,840][cascade_classifier.calc_accuracy] Accuracy(layer_0 - train.classifier_average)=97.21%\n",
      "[ 2018-05-15 10:30:20,843][cascade_classifier.calc_accuracy] Accuracy(layer_0 - test.classifier_average)=96.75%\n",
      "[ 2018-05-15 10:30:20,845][cascade_classifier.fit_transform] [Result][Reach Max Layer] opt_layer_num=1, accuracy_train=97.21%, accuracy_test=96.75%\n",
      "[ 2018-05-15 10:30:20,854][cascade_classifier.transform] X_groups_test.shape=[(1078, 1557)]\n",
      "[ 2018-05-15 10:30:20,864][cascade_classifier.transform] group_dims=[1557]\n",
      "[ 2018-05-15 10:30:20,865][cascade_classifier.transform] X_test.shape=(1078, 1557)\n",
      "[ 2018-05-15 10:30:20,876][cascade_classifier.transform] [layer=0] look_indexs=[0], X_cur_test.shape=(1078, 1557)\n",
      "[ 2018-05-15 10:30:22,222][cascade_classifier.fit_transform] X_groups_train.shape=[(2186, 1557)],y_train.shape=(2186,),X_groups_test.shape=[(1078, 1557)],y_test.shape=(1078,)\n",
      "[ 2018-05-15 10:30:22,230][cascade_classifier.fit_transform] group_dims=[1557]\n",
      "[ 2018-05-15 10:30:22,231][cascade_classifier.fit_transform] group_starts=[0]\n",
      "[ 2018-05-15 10:30:22,234][cascade_classifier.fit_transform] group_ends=[1557]\n",
      "[ 2018-05-15 10:30:22,235][cascade_classifier.fit_transform] X_train.shape=(2186, 1557),X_test.shape=(1078, 1557)\n",
      "[ 2018-05-15 10:30:22,254][cascade_classifier.fit_transform] [layer=0] look_indexs=[0], X_cur_train.shape=(2186, 1557), X_cur_test.shape=(1078, 1557)\n"
     ]
    },
    {
     "name": "stdout",
     "output_type": "stream",
     "text": [
      "('Test Accuracy of ExtraTrees = 96.753247 %', 13, 'fois')\n",
      "[[904   9]\n",
      " [ 26 139]]\n",
      "\n",
      "\n",
      "             precision    recall  f1-score   support\n",
      "\n",
      "        0.0       0.97      0.99      0.98       913\n",
      "        1.0       0.94      0.84      0.89       165\n",
      "\n",
      "avg / total       0.97      0.97      0.97      1078\n",
      "\n"
     ]
    },
    {
     "name": "stderr",
     "output_type": "stream",
     "text": [
      "[ 2018-05-15 10:30:24,775][kfold_wrapper.log_eval_metrics] Accuracy(layer_0 - estimator_0 - 10_folds.train_0.predict)=97.72%\n",
      "[ 2018-05-15 10:30:27,409][kfold_wrapper.log_eval_metrics] Accuracy(layer_0 - estimator_0 - 10_folds.train_1.predict)=97.72%\n",
      "[ 2018-05-15 10:30:30,079][kfold_wrapper.log_eval_metrics] Accuracy(layer_0 - estimator_0 - 10_folds.train_2.predict)=96.35%\n",
      "[ 2018-05-15 10:30:32,834][kfold_wrapper.log_eval_metrics] Accuracy(layer_0 - estimator_0 - 10_folds.train_3.predict)=97.26%\n",
      "[ 2018-05-15 10:30:35,610][kfold_wrapper.log_eval_metrics] Accuracy(layer_0 - estimator_0 - 10_folds.train_4.predict)=97.26%\n",
      "[ 2018-05-15 10:30:38,344][kfold_wrapper.log_eval_metrics] Accuracy(layer_0 - estimator_0 - 10_folds.train_5.predict)=98.17%\n",
      "[ 2018-05-15 10:30:40,983][kfold_wrapper.log_eval_metrics] Accuracy(layer_0 - estimator_0 - 10_folds.train_6.predict)=96.80%\n",
      "[ 2018-05-15 10:30:43,579][kfold_wrapper.log_eval_metrics] Accuracy(layer_0 - estimator_0 - 10_folds.train_7.predict)=97.25%\n",
      "[ 2018-05-15 10:30:46,345][kfold_wrapper.log_eval_metrics] Accuracy(layer_0 - estimator_0 - 10_folds.train_8.predict)=98.17%\n",
      "[ 2018-05-15 10:30:49,105][kfold_wrapper.log_eval_metrics] Accuracy(layer_0 - estimator_0 - 10_folds.train_9.predict)=97.24%\n",
      "[ 2018-05-15 10:30:49,238][kfold_wrapper.log_eval_metrics] Accuracy(layer_0 - estimator_0 - 10_folds.train_cv.predict)=97.39%\n",
      "[ 2018-05-15 10:30:49,242][kfold_wrapper.log_eval_metrics] Accuracy(layer_0 - estimator_0 - 10_folds.test.predict)=96.85%\n",
      "[ 2018-05-15 10:30:49,252][cascade_classifier.calc_accuracy] Accuracy(layer_0 - train.classifier_average)=97.39%\n",
      "[ 2018-05-15 10:30:49,255][cascade_classifier.calc_accuracy] Accuracy(layer_0 - test.classifier_average)=96.85%\n",
      "[ 2018-05-15 10:30:49,256][cascade_classifier.fit_transform] [Result][Reach Max Layer] opt_layer_num=1, accuracy_train=97.39%, accuracy_test=96.85%\n",
      "[ 2018-05-15 10:30:49,264][cascade_classifier.transform] X_groups_test.shape=[(1078, 1557)]\n",
      "[ 2018-05-15 10:30:49,267][cascade_classifier.transform] group_dims=[1557]\n",
      "[ 2018-05-15 10:30:49,268][cascade_classifier.transform] X_test.shape=(1078, 1557)\n",
      "[ 2018-05-15 10:30:49,278][cascade_classifier.transform] [layer=0] look_indexs=[0], X_cur_test.shape=(1078, 1557)\n",
      "[ 2018-05-15 10:30:50,624][cascade_classifier.fit_transform] X_groups_train.shape=[(2186, 1557)],y_train.shape=(2186,),X_groups_test.shape=[(1078, 1557)],y_test.shape=(1078,)\n",
      "[ 2018-05-15 10:30:50,643][cascade_classifier.fit_transform] group_dims=[1557]\n",
      "[ 2018-05-15 10:30:50,644][cascade_classifier.fit_transform] group_starts=[0]\n",
      "[ 2018-05-15 10:30:50,644][cascade_classifier.fit_transform] group_ends=[1557]\n",
      "[ 2018-05-15 10:30:50,645][cascade_classifier.fit_transform] X_train.shape=(2186, 1557),X_test.shape=(1078, 1557)\n",
      "[ 2018-05-15 10:30:50,671][cascade_classifier.fit_transform] [layer=0] look_indexs=[0], X_cur_train.shape=(2186, 1557), X_cur_test.shape=(1078, 1557)\n"
     ]
    },
    {
     "name": "stdout",
     "output_type": "stream",
     "text": [
      "('Test Accuracy of ExtraTrees = 96.846011 %', 14, 'fois')\n",
      "[[907   6]\n",
      " [ 28 137]]\n",
      "\n",
      "\n",
      "             precision    recall  f1-score   support\n",
      "\n",
      "        0.0       0.97      0.99      0.98       913\n",
      "        1.0       0.96      0.83      0.89       165\n",
      "\n",
      "avg / total       0.97      0.97      0.97      1078\n",
      "\n"
     ]
    },
    {
     "name": "stderr",
     "output_type": "stream",
     "text": [
      "[ 2018-05-15 10:30:53,236][kfold_wrapper.log_eval_metrics] Accuracy(layer_0 - estimator_0 - 10_folds.train_0.predict)=97.26%\n",
      "[ 2018-05-15 10:30:55,763][kfold_wrapper.log_eval_metrics] Accuracy(layer_0 - estimator_0 - 10_folds.train_1.predict)=97.72%\n",
      "[ 2018-05-15 10:30:58,379][kfold_wrapper.log_eval_metrics] Accuracy(layer_0 - estimator_0 - 10_folds.train_2.predict)=97.26%\n",
      "[ 2018-05-15 10:31:01,103][kfold_wrapper.log_eval_metrics] Accuracy(layer_0 - estimator_0 - 10_folds.train_3.predict)=97.26%\n",
      "[ 2018-05-15 10:31:03,844][kfold_wrapper.log_eval_metrics] Accuracy(layer_0 - estimator_0 - 10_folds.train_4.predict)=97.26%\n",
      "[ 2018-05-15 10:31:06,497][kfold_wrapper.log_eval_metrics] Accuracy(layer_0 - estimator_0 - 10_folds.train_5.predict)=98.63%\n",
      "[ 2018-05-15 10:31:09,135][kfold_wrapper.log_eval_metrics] Accuracy(layer_0 - estimator_0 - 10_folds.train_6.predict)=96.80%\n",
      "[ 2018-05-15 10:31:11,741][kfold_wrapper.log_eval_metrics] Accuracy(layer_0 - estimator_0 - 10_folds.train_7.predict)=98.17%\n",
      "[ 2018-05-15 10:31:14,493][kfold_wrapper.log_eval_metrics] Accuracy(layer_0 - estimator_0 - 10_folds.train_8.predict)=98.62%\n",
      "[ 2018-05-15 10:31:17,221][kfold_wrapper.log_eval_metrics] Accuracy(layer_0 - estimator_0 - 10_folds.train_9.predict)=96.31%\n",
      "[ 2018-05-15 10:31:17,354][kfold_wrapper.log_eval_metrics] Accuracy(layer_0 - estimator_0 - 10_folds.train_cv.predict)=97.53%\n",
      "[ 2018-05-15 10:31:17,358][kfold_wrapper.log_eval_metrics] Accuracy(layer_0 - estimator_0 - 10_folds.test.predict)=96.85%\n",
      "[ 2018-05-15 10:31:17,367][cascade_classifier.calc_accuracy] Accuracy(layer_0 - train.classifier_average)=97.53%\n",
      "[ 2018-05-15 10:31:17,370][cascade_classifier.calc_accuracy] Accuracy(layer_0 - test.classifier_average)=96.85%\n",
      "[ 2018-05-15 10:31:17,371][cascade_classifier.fit_transform] [Result][Reach Max Layer] opt_layer_num=1, accuracy_train=97.53%, accuracy_test=96.85%\n",
      "[ 2018-05-15 10:31:17,380][cascade_classifier.transform] X_groups_test.shape=[(1078, 1557)]\n",
      "[ 2018-05-15 10:31:17,390][cascade_classifier.transform] group_dims=[1557]\n",
      "[ 2018-05-15 10:31:17,391][cascade_classifier.transform] X_test.shape=(1078, 1557)\n",
      "[ 2018-05-15 10:31:17,401][cascade_classifier.transform] [layer=0] look_indexs=[0], X_cur_test.shape=(1078, 1557)\n",
      "[ 2018-05-15 10:31:18,750][cascade_classifier.fit_transform] X_groups_train.shape=[(2186, 1557)],y_train.shape=(2186,),X_groups_test.shape=[(1078, 1557)],y_test.shape=(1078,)\n",
      "[ 2018-05-15 10:31:18,758][cascade_classifier.fit_transform] group_dims=[1557]\n",
      "[ 2018-05-15 10:31:18,759][cascade_classifier.fit_transform] group_starts=[0]\n",
      "[ 2018-05-15 10:31:18,760][cascade_classifier.fit_transform] group_ends=[1557]\n",
      "[ 2018-05-15 10:31:18,761][cascade_classifier.fit_transform] X_train.shape=(2186, 1557),X_test.shape=(1078, 1557)\n",
      "[ 2018-05-15 10:31:18,780][cascade_classifier.fit_transform] [layer=0] look_indexs=[0], X_cur_train.shape=(2186, 1557), X_cur_test.shape=(1078, 1557)\n"
     ]
    },
    {
     "name": "stdout",
     "output_type": "stream",
     "text": [
      "('Test Accuracy of ExtraTrees = 96.846011 %', 15, 'fois')\n",
      "[[905   8]\n",
      " [ 26 139]]\n",
      "\n",
      "\n",
      "             precision    recall  f1-score   support\n",
      "\n",
      "        0.0       0.97      0.99      0.98       913\n",
      "        1.0       0.95      0.84      0.89       165\n",
      "\n",
      "avg / total       0.97      0.97      0.97      1078\n",
      "\n"
     ]
    },
    {
     "name": "stderr",
     "output_type": "stream",
     "text": [
      "[ 2018-05-15 10:31:21,435][kfold_wrapper.log_eval_metrics] Accuracy(layer_0 - estimator_0 - 10_folds.train_0.predict)=97.26%\n",
      "[ 2018-05-15 10:31:23,951][kfold_wrapper.log_eval_metrics] Accuracy(layer_0 - estimator_0 - 10_folds.train_1.predict)=96.80%\n",
      "[ 2018-05-15 10:31:26,561][kfold_wrapper.log_eval_metrics] Accuracy(layer_0 - estimator_0 - 10_folds.train_2.predict)=96.35%\n",
      "[ 2018-05-15 10:31:29,309][kfold_wrapper.log_eval_metrics] Accuracy(layer_0 - estimator_0 - 10_folds.train_3.predict)=97.26%\n",
      "[ 2018-05-15 10:31:32,029][kfold_wrapper.log_eval_metrics] Accuracy(layer_0 - estimator_0 - 10_folds.train_4.predict)=97.72%\n",
      "[ 2018-05-15 10:31:34,656][kfold_wrapper.log_eval_metrics] Accuracy(layer_0 - estimator_0 - 10_folds.train_5.predict)=98.17%\n",
      "[ 2018-05-15 10:31:37,294][kfold_wrapper.log_eval_metrics] Accuracy(layer_0 - estimator_0 - 10_folds.train_6.predict)=96.80%\n",
      "[ 2018-05-15 10:31:40,033][kfold_wrapper.log_eval_metrics] Accuracy(layer_0 - estimator_0 - 10_folds.train_7.predict)=98.17%\n",
      "[ 2018-05-15 10:31:42,786][kfold_wrapper.log_eval_metrics] Accuracy(layer_0 - estimator_0 - 10_folds.train_8.predict)=98.17%\n",
      "[ 2018-05-15 10:31:45,527][kfold_wrapper.log_eval_metrics] Accuracy(layer_0 - estimator_0 - 10_folds.train_9.predict)=96.31%\n",
      "[ 2018-05-15 10:31:45,661][kfold_wrapper.log_eval_metrics] Accuracy(layer_0 - estimator_0 - 10_folds.train_cv.predict)=97.30%\n",
      "[ 2018-05-15 10:31:45,665][kfold_wrapper.log_eval_metrics] Accuracy(layer_0 - estimator_0 - 10_folds.test.predict)=96.75%\n",
      "[ 2018-05-15 10:31:45,673][cascade_classifier.calc_accuracy] Accuracy(layer_0 - train.classifier_average)=97.30%\n",
      "[ 2018-05-15 10:31:45,675][cascade_classifier.calc_accuracy] Accuracy(layer_0 - test.classifier_average)=96.75%\n",
      "[ 2018-05-15 10:31:45,677][cascade_classifier.fit_transform] [Result][Reach Max Layer] opt_layer_num=1, accuracy_train=97.30%, accuracy_test=96.75%\n",
      "[ 2018-05-15 10:31:45,684][cascade_classifier.transform] X_groups_test.shape=[(1078, 1557)]\n",
      "[ 2018-05-15 10:31:45,688][cascade_classifier.transform] group_dims=[1557]\n",
      "[ 2018-05-15 10:31:45,690][cascade_classifier.transform] X_test.shape=(1078, 1557)\n",
      "[ 2018-05-15 10:31:45,701][cascade_classifier.transform] [layer=0] look_indexs=[0], X_cur_test.shape=(1078, 1557)\n",
      "[ 2018-05-15 10:31:47,048][cascade_classifier.fit_transform] X_groups_train.shape=[(2186, 1557)],y_train.shape=(2186,),X_groups_test.shape=[(1078, 1557)],y_test.shape=(1078,)\n",
      "[ 2018-05-15 10:31:47,067][cascade_classifier.fit_transform] group_dims=[1557]\n",
      "[ 2018-05-15 10:31:47,068][cascade_classifier.fit_transform] group_starts=[0]\n",
      "[ 2018-05-15 10:31:47,069][cascade_classifier.fit_transform] group_ends=[1557]\n",
      "[ 2018-05-15 10:31:47,070][cascade_classifier.fit_transform] X_train.shape=(2186, 1557),X_test.shape=(1078, 1557)\n",
      "[ 2018-05-15 10:31:47,097][cascade_classifier.fit_transform] [layer=0] look_indexs=[0], X_cur_train.shape=(2186, 1557), X_cur_test.shape=(1078, 1557)\n"
     ]
    },
    {
     "name": "stdout",
     "output_type": "stream",
     "text": [
      "('Test Accuracy of ExtraTrees = 96.753247 %', 16, 'fois')\n",
      "[[906   7]\n",
      " [ 28 137]]\n",
      "\n",
      "\n",
      "             precision    recall  f1-score   support\n",
      "\n",
      "        0.0       0.97      0.99      0.98       913\n",
      "        1.0       0.95      0.83      0.89       165\n",
      "\n",
      "avg / total       0.97      0.97      0.97      1078\n",
      "\n"
     ]
    },
    {
     "name": "stderr",
     "output_type": "stream",
     "text": [
      "[ 2018-05-15 10:31:49,759][kfold_wrapper.log_eval_metrics] Accuracy(layer_0 - estimator_0 - 10_folds.train_0.predict)=97.26%\n",
      "[ 2018-05-15 10:31:52,295][kfold_wrapper.log_eval_metrics] Accuracy(layer_0 - estimator_0 - 10_folds.train_1.predict)=97.26%\n",
      "[ 2018-05-15 10:31:54,926][kfold_wrapper.log_eval_metrics] Accuracy(layer_0 - estimator_0 - 10_folds.train_2.predict)=96.80%\n",
      "[ 2018-05-15 10:31:57,532][kfold_wrapper.log_eval_metrics] Accuracy(layer_0 - estimator_0 - 10_folds.train_3.predict)=97.26%\n",
      "[ 2018-05-15 10:32:00,145][kfold_wrapper.log_eval_metrics] Accuracy(layer_0 - estimator_0 - 10_folds.train_4.predict)=97.26%\n",
      "[ 2018-05-15 10:32:02,800][kfold_wrapper.log_eval_metrics] Accuracy(layer_0 - estimator_0 - 10_folds.train_5.predict)=97.72%\n",
      "[ 2018-05-15 10:32:05,440][kfold_wrapper.log_eval_metrics] Accuracy(layer_0 - estimator_0 - 10_folds.train_6.predict)=96.80%\n",
      "[ 2018-05-15 10:32:08,064][kfold_wrapper.log_eval_metrics] Accuracy(layer_0 - estimator_0 - 10_folds.train_7.predict)=97.71%\n",
      "[ 2018-05-15 10:32:10,802][kfold_wrapper.log_eval_metrics] Accuracy(layer_0 - estimator_0 - 10_folds.train_8.predict)=98.62%\n",
      "[ 2018-05-15 10:32:13,443][kfold_wrapper.log_eval_metrics] Accuracy(layer_0 - estimator_0 - 10_folds.train_9.predict)=96.31%\n",
      "[ 2018-05-15 10:32:13,577][kfold_wrapper.log_eval_metrics] Accuracy(layer_0 - estimator_0 - 10_folds.train_cv.predict)=97.30%\n",
      "[ 2018-05-15 10:32:13,580][kfold_wrapper.log_eval_metrics] Accuracy(layer_0 - estimator_0 - 10_folds.test.predict)=96.94%\n",
      "[ 2018-05-15 10:32:13,589][cascade_classifier.calc_accuracy] Accuracy(layer_0 - train.classifier_average)=97.30%\n",
      "[ 2018-05-15 10:32:13,592][cascade_classifier.calc_accuracy] Accuracy(layer_0 - test.classifier_average)=96.94%\n",
      "[ 2018-05-15 10:32:13,594][cascade_classifier.fit_transform] [Result][Reach Max Layer] opt_layer_num=1, accuracy_train=97.30%, accuracy_test=96.94%\n",
      "[ 2018-05-15 10:32:13,605][cascade_classifier.transform] X_groups_test.shape=[(1078, 1557)]\n",
      "[ 2018-05-15 10:32:13,616][cascade_classifier.transform] group_dims=[1557]\n",
      "[ 2018-05-15 10:32:13,617][cascade_classifier.transform] X_test.shape=(1078, 1557)\n",
      "[ 2018-05-15 10:32:13,627][cascade_classifier.transform] [layer=0] look_indexs=[0], X_cur_test.shape=(1078, 1557)\n",
      "[ 2018-05-15 10:32:14,981][cascade_classifier.fit_transform] X_groups_train.shape=[(2186, 1557)],y_train.shape=(2186,),X_groups_test.shape=[(1078, 1557)],y_test.shape=(1078,)\n",
      "[ 2018-05-15 10:32:14,989][cascade_classifier.fit_transform] group_dims=[1557]\n",
      "[ 2018-05-15 10:32:14,990][cascade_classifier.fit_transform] group_starts=[0]\n",
      "[ 2018-05-15 10:32:14,992][cascade_classifier.fit_transform] group_ends=[1557]\n",
      "[ 2018-05-15 10:32:14,994][cascade_classifier.fit_transform] X_train.shape=(2186, 1557),X_test.shape=(1078, 1557)\n",
      "[ 2018-05-15 10:32:15,014][cascade_classifier.fit_transform] [layer=0] look_indexs=[0], X_cur_train.shape=(2186, 1557), X_cur_test.shape=(1078, 1557)\n"
     ]
    },
    {
     "name": "stdout",
     "output_type": "stream",
     "text": [
      "('Test Accuracy of ExtraTrees = 96.938776 %', 17, 'fois')\n",
      "[[904   9]\n",
      " [ 24 141]]\n",
      "\n",
      "\n",
      "             precision    recall  f1-score   support\n",
      "\n",
      "        0.0       0.97      0.99      0.98       913\n",
      "        1.0       0.94      0.85      0.90       165\n",
      "\n",
      "avg / total       0.97      0.97      0.97      1078\n",
      "\n"
     ]
    },
    {
     "name": "stderr",
     "output_type": "stream",
     "text": [
      "[ 2018-05-15 10:32:17,562][kfold_wrapper.log_eval_metrics] Accuracy(layer_0 - estimator_0 - 10_folds.train_0.predict)=97.26%\n",
      "[ 2018-05-15 10:32:20,149][kfold_wrapper.log_eval_metrics] Accuracy(layer_0 - estimator_0 - 10_folds.train_1.predict)=97.72%\n",
      "[ 2018-05-15 10:32:22,802][kfold_wrapper.log_eval_metrics] Accuracy(layer_0 - estimator_0 - 10_folds.train_2.predict)=96.35%\n",
      "[ 2018-05-15 10:32:25,556][kfold_wrapper.log_eval_metrics] Accuracy(layer_0 - estimator_0 - 10_folds.train_3.predict)=97.72%\n",
      "[ 2018-05-15 10:32:28,264][kfold_wrapper.log_eval_metrics] Accuracy(layer_0 - estimator_0 - 10_folds.train_4.predict)=97.26%\n",
      "[ 2018-05-15 10:32:30,999][kfold_wrapper.log_eval_metrics] Accuracy(layer_0 - estimator_0 - 10_folds.train_5.predict)=98.17%\n",
      "[ 2018-05-15 10:32:33,504][kfold_wrapper.log_eval_metrics] Accuracy(layer_0 - estimator_0 - 10_folds.train_6.predict)=97.26%\n",
      "[ 2018-05-15 10:32:36,117][kfold_wrapper.log_eval_metrics] Accuracy(layer_0 - estimator_0 - 10_folds.train_7.predict)=97.25%\n",
      "[ 2018-05-15 10:32:38,825][kfold_wrapper.log_eval_metrics] Accuracy(layer_0 - estimator_0 - 10_folds.train_8.predict)=98.17%\n",
      "[ 2018-05-15 10:32:41,466][kfold_wrapper.log_eval_metrics] Accuracy(layer_0 - estimator_0 - 10_folds.train_9.predict)=96.77%\n",
      "[ 2018-05-15 10:32:41,595][kfold_wrapper.log_eval_metrics] Accuracy(layer_0 - estimator_0 - 10_folds.train_cv.predict)=97.39%\n",
      "[ 2018-05-15 10:32:41,599][kfold_wrapper.log_eval_metrics] Accuracy(layer_0 - estimator_0 - 10_folds.test.predict)=96.75%\n",
      "[ 2018-05-15 10:32:41,606][cascade_classifier.calc_accuracy] Accuracy(layer_0 - train.classifier_average)=97.39%\n",
      "[ 2018-05-15 10:32:41,608][cascade_classifier.calc_accuracy] Accuracy(layer_0 - test.classifier_average)=96.75%\n",
      "[ 2018-05-15 10:32:41,611][cascade_classifier.fit_transform] [Result][Reach Max Layer] opt_layer_num=1, accuracy_train=97.39%, accuracy_test=96.75%\n",
      "[ 2018-05-15 10:32:41,619][cascade_classifier.transform] X_groups_test.shape=[(1078, 1557)]\n",
      "[ 2018-05-15 10:32:41,623][cascade_classifier.transform] group_dims=[1557]\n",
      "[ 2018-05-15 10:32:41,624][cascade_classifier.transform] X_test.shape=(1078, 1557)\n",
      "[ 2018-05-15 10:32:41,633][cascade_classifier.transform] [layer=0] look_indexs=[0], X_cur_test.shape=(1078, 1557)\n",
      "[ 2018-05-15 10:32:42,982][cascade_classifier.fit_transform] X_groups_train.shape=[(2186, 1557)],y_train.shape=(2186,),X_groups_test.shape=[(1078, 1557)],y_test.shape=(1078,)\n",
      "[ 2018-05-15 10:32:43,001][cascade_classifier.fit_transform] group_dims=[1557]\n",
      "[ 2018-05-15 10:32:43,002][cascade_classifier.fit_transform] group_starts=[0]\n",
      "[ 2018-05-15 10:32:43,003][cascade_classifier.fit_transform] group_ends=[1557]\n",
      "[ 2018-05-15 10:32:43,004][cascade_classifier.fit_transform] X_train.shape=(2186, 1557),X_test.shape=(1078, 1557)\n",
      "[ 2018-05-15 10:32:43,029][cascade_classifier.fit_transform] [layer=0] look_indexs=[0], X_cur_train.shape=(2186, 1557), X_cur_test.shape=(1078, 1557)\n"
     ]
    },
    {
     "name": "stdout",
     "output_type": "stream",
     "text": [
      "('Test Accuracy of ExtraTrees = 96.753247 %', 18, 'fois')\n",
      "[[906   7]\n",
      " [ 28 137]]\n",
      "\n",
      "\n",
      "             precision    recall  f1-score   support\n",
      "\n",
      "        0.0       0.97      0.99      0.98       913\n",
      "        1.0       0.95      0.83      0.89       165\n",
      "\n",
      "avg / total       0.97      0.97      0.97      1078\n",
      "\n"
     ]
    },
    {
     "name": "stderr",
     "output_type": "stream",
     "text": [
      "[ 2018-05-15 10:32:45,559][kfold_wrapper.log_eval_metrics] Accuracy(layer_0 - estimator_0 - 10_folds.train_0.predict)=97.26%\n",
      "[ 2018-05-15 10:32:48,101][kfold_wrapper.log_eval_metrics] Accuracy(layer_0 - estimator_0 - 10_folds.train_1.predict)=97.26%\n",
      "[ 2018-05-15 10:32:50,727][kfold_wrapper.log_eval_metrics] Accuracy(layer_0 - estimator_0 - 10_folds.train_2.predict)=96.80%\n",
      "[ 2018-05-15 10:32:53,483][kfold_wrapper.log_eval_metrics] Accuracy(layer_0 - estimator_0 - 10_folds.train_3.predict)=97.72%\n",
      "[ 2018-05-15 10:32:56,230][kfold_wrapper.log_eval_metrics] Accuracy(layer_0 - estimator_0 - 10_folds.train_4.predict)=97.26%\n",
      "[ 2018-05-15 10:32:58,891][kfold_wrapper.log_eval_metrics] Accuracy(layer_0 - estimator_0 - 10_folds.train_5.predict)=98.63%\n",
      "[ 2018-05-15 10:33:01,523][kfold_wrapper.log_eval_metrics] Accuracy(layer_0 - estimator_0 - 10_folds.train_6.predict)=96.35%\n",
      "[ 2018-05-15 10:33:04,121][kfold_wrapper.log_eval_metrics] Accuracy(layer_0 - estimator_0 - 10_folds.train_7.predict)=97.25%\n",
      "[ 2018-05-15 10:33:06,826][kfold_wrapper.log_eval_metrics] Accuracy(layer_0 - estimator_0 - 10_folds.train_8.predict)=98.62%\n",
      "[ 2018-05-15 10:33:09,597][kfold_wrapper.log_eval_metrics] Accuracy(layer_0 - estimator_0 - 10_folds.train_9.predict)=96.31%\n",
      "[ 2018-05-15 10:33:09,732][kfold_wrapper.log_eval_metrics] Accuracy(layer_0 - estimator_0 - 10_folds.train_cv.predict)=97.35%\n",
      "[ 2018-05-15 10:33:09,735][kfold_wrapper.log_eval_metrics] Accuracy(layer_0 - estimator_0 - 10_folds.test.predict)=96.75%\n",
      "[ 2018-05-15 10:33:09,744][cascade_classifier.calc_accuracy] Accuracy(layer_0 - train.classifier_average)=97.35%\n",
      "[ 2018-05-15 10:33:09,746][cascade_classifier.calc_accuracy] Accuracy(layer_0 - test.classifier_average)=96.75%\n",
      "[ 2018-05-15 10:33:09,747][cascade_classifier.fit_transform] [Result][Reach Max Layer] opt_layer_num=1, accuracy_train=97.35%, accuracy_test=96.75%\n",
      "[ 2018-05-15 10:33:09,756][cascade_classifier.transform] X_groups_test.shape=[(1078, 1557)]\n",
      "[ 2018-05-15 10:33:09,766][cascade_classifier.transform] group_dims=[1557]\n",
      "[ 2018-05-15 10:33:09,767][cascade_classifier.transform] X_test.shape=(1078, 1557)\n",
      "[ 2018-05-15 10:33:09,775][cascade_classifier.transform] [layer=0] look_indexs=[0], X_cur_test.shape=(1078, 1557)\n"
     ]
    },
    {
     "name": "stdout",
     "output_type": "stream",
     "text": [
      "('Test Accuracy of ExtraTrees = 96.753247 %', 19, 'fois')\n",
      "[[904   9]\n",
      " [ 26 139]]\n",
      "\n",
      "\n",
      "             precision    recall  f1-score   support\n",
      "\n",
      "        0.0       0.97      0.99      0.98       913\n",
      "        1.0       0.94      0.84      0.89       165\n",
      "\n",
      "avg / total       0.97      0.97      0.97      1078\n",
      "\n"
     ]
    }
   ],
   "source": [
    "# Deep\n",
    "for i in range (20):\n",
    "    X_train,X_test=update(X_train,X_test)\n",
    "    X_test_enc, X_train_enc=newdata(X_test_enc, X_train_enc)\n",
    "\n",
    "    X_train=X_train_enc\n",
    "    X_test=X_test_enc \n",
    "    X_train_enc, X_test_enc = gc.fit_transform(X_train, y_train, X_test=X_test, y_test=y_test)\n",
    "    affiche()"
   ]
  },
  {
   "cell_type": "code",
   "execution_count": null,
   "metadata": {
    "collapsed": true
   },
   "outputs": [],
   "source": []
  },
  {
   "cell_type": "markdown",
   "metadata": {},
   "source": [
    "# ('Test Accuracy of ExtraTrees = 97.124304 %', 3, 'fois')"
   ]
  },
  {
   "cell_type": "code",
   "execution_count": null,
   "metadata": {
    "collapsed": true
   },
   "outputs": [],
   "source": []
  }
 ],
 "metadata": {
  "kernelspec": {
   "display_name": "Python 2",
   "language": "python",
   "name": "python2"
  },
  "language_info": {
   "codemirror_mode": {
    "name": "ipython",
    "version": 2
   },
   "file_extension": ".py",
   "mimetype": "text/x-python",
   "name": "python",
   "nbconvert_exporter": "python",
   "pygments_lexer": "ipython2",
   "version": "2.7.14"
  }
 },
 "nbformat": 4,
 "nbformat_minor": 2
}
