{
 "cells": [
  {
   "cell_type": "code",
   "execution_count": 1,
   "metadata": {
    "collapsed": true
   },
   "outputs": [],
   "source": [
    "# imports \n",
    "import numpy as np\n",
    "from math import sqrt \n",
    "from pprint import pprint\n",
    "from numpy import array\n",
    "from scipy.io import arff\n",
    "import pandas as pd"
   ]
  },
  {
   "cell_type": "code",
   "execution_count": 2,
   "metadata": {},
   "outputs": [
    {
     "data": {
      "text/html": [
       "<div>\n",
       "<style>\n",
       "    .dataframe thead tr:only-child th {\n",
       "        text-align: right;\n",
       "    }\n",
       "\n",
       "    .dataframe thead th {\n",
       "        text-align: left;\n",
       "    }\n",
       "\n",
       "    .dataframe tbody tr th {\n",
       "        vertical-align: top;\n",
       "    }\n",
       "</style>\n",
       "<table border=\"1\" class=\"dataframe\">\n",
       "  <thead>\n",
       "    <tr style=\"text-align: right;\">\n",
       "      <th></th>\n",
       "      <th>att4</th>\n",
       "      <th>att5</th>\n",
       "      <th>att6</th>\n",
       "      <th>att7</th>\n",
       "      <th>att8</th>\n",
       "      <th>att9</th>\n",
       "      <th>att10</th>\n",
       "      <th>att11</th>\n",
       "      <th>att12</th>\n",
       "      <th>att13</th>\n",
       "      <th>...</th>\n",
       "      <th>att1550</th>\n",
       "      <th>att1551</th>\n",
       "      <th>att1552</th>\n",
       "      <th>att1553</th>\n",
       "      <th>att1554</th>\n",
       "      <th>att1555</th>\n",
       "      <th>att1556</th>\n",
       "      <th>att1557</th>\n",
       "      <th>att1558</th>\n",
       "      <th>outlier</th>\n",
       "    </tr>\n",
       "  </thead>\n",
       "  <tbody>\n",
       "    <tr>\n",
       "      <th>0</th>\n",
       "      <td>1.0</td>\n",
       "      <td>0.0</td>\n",
       "      <td>0.0</td>\n",
       "      <td>0.0</td>\n",
       "      <td>0.0</td>\n",
       "      <td>0.0</td>\n",
       "      <td>0.0</td>\n",
       "      <td>0.0</td>\n",
       "      <td>0.0</td>\n",
       "      <td>0.0</td>\n",
       "      <td>...</td>\n",
       "      <td>0.0</td>\n",
       "      <td>0.0</td>\n",
       "      <td>0.0</td>\n",
       "      <td>0.0</td>\n",
       "      <td>0.0</td>\n",
       "      <td>0.0</td>\n",
       "      <td>0.0</td>\n",
       "      <td>0.0</td>\n",
       "      <td>0.0</td>\n",
       "      <td>1</td>\n",
       "    </tr>\n",
       "    <tr>\n",
       "      <th>1</th>\n",
       "      <td>1.0</td>\n",
       "      <td>0.0</td>\n",
       "      <td>0.0</td>\n",
       "      <td>0.0</td>\n",
       "      <td>0.0</td>\n",
       "      <td>0.0</td>\n",
       "      <td>0.0</td>\n",
       "      <td>0.0</td>\n",
       "      <td>0.0</td>\n",
       "      <td>0.0</td>\n",
       "      <td>...</td>\n",
       "      <td>0.0</td>\n",
       "      <td>0.0</td>\n",
       "      <td>0.0</td>\n",
       "      <td>0.0</td>\n",
       "      <td>0.0</td>\n",
       "      <td>0.0</td>\n",
       "      <td>0.0</td>\n",
       "      <td>0.0</td>\n",
       "      <td>0.0</td>\n",
       "      <td>1</td>\n",
       "    </tr>\n",
       "    <tr>\n",
       "      <th>2</th>\n",
       "      <td>1.0</td>\n",
       "      <td>0.0</td>\n",
       "      <td>0.0</td>\n",
       "      <td>0.0</td>\n",
       "      <td>0.0</td>\n",
       "      <td>0.0</td>\n",
       "      <td>0.0</td>\n",
       "      <td>0.0</td>\n",
       "      <td>0.0</td>\n",
       "      <td>0.0</td>\n",
       "      <td>...</td>\n",
       "      <td>0.0</td>\n",
       "      <td>0.0</td>\n",
       "      <td>0.0</td>\n",
       "      <td>0.0</td>\n",
       "      <td>0.0</td>\n",
       "      <td>0.0</td>\n",
       "      <td>0.0</td>\n",
       "      <td>0.0</td>\n",
       "      <td>0.0</td>\n",
       "      <td>1</td>\n",
       "    </tr>\n",
       "    <tr>\n",
       "      <th>3</th>\n",
       "      <td>1.0</td>\n",
       "      <td>0.0</td>\n",
       "      <td>0.0</td>\n",
       "      <td>0.0</td>\n",
       "      <td>0.0</td>\n",
       "      <td>0.0</td>\n",
       "      <td>0.0</td>\n",
       "      <td>0.0</td>\n",
       "      <td>0.0</td>\n",
       "      <td>0.0</td>\n",
       "      <td>...</td>\n",
       "      <td>0.0</td>\n",
       "      <td>0.0</td>\n",
       "      <td>0.0</td>\n",
       "      <td>0.0</td>\n",
       "      <td>0.0</td>\n",
       "      <td>0.0</td>\n",
       "      <td>0.0</td>\n",
       "      <td>0.0</td>\n",
       "      <td>0.0</td>\n",
       "      <td>1</td>\n",
       "    </tr>\n",
       "    <tr>\n",
       "      <th>4</th>\n",
       "      <td>1.0</td>\n",
       "      <td>0.0</td>\n",
       "      <td>0.0</td>\n",
       "      <td>0.0</td>\n",
       "      <td>0.0</td>\n",
       "      <td>0.0</td>\n",
       "      <td>0.0</td>\n",
       "      <td>0.0</td>\n",
       "      <td>0.0</td>\n",
       "      <td>0.0</td>\n",
       "      <td>...</td>\n",
       "      <td>0.0</td>\n",
       "      <td>0.0</td>\n",
       "      <td>0.0</td>\n",
       "      <td>0.0</td>\n",
       "      <td>0.0</td>\n",
       "      <td>0.0</td>\n",
       "      <td>0.0</td>\n",
       "      <td>0.0</td>\n",
       "      <td>0.0</td>\n",
       "      <td>1</td>\n",
       "    </tr>\n",
       "  </tbody>\n",
       "</table>\n",
       "<p>5 rows × 1556 columns</p>\n",
       "</div>"
      ],
      "text/plain": [
       "   att4  att5  att6  att7  att8  att9  att10  att11  att12  att13   ...     \\\n",
       "0   1.0   0.0   0.0   0.0   0.0   0.0    0.0    0.0    0.0    0.0   ...      \n",
       "1   1.0   0.0   0.0   0.0   0.0   0.0    0.0    0.0    0.0    0.0   ...      \n",
       "2   1.0   0.0   0.0   0.0   0.0   0.0    0.0    0.0    0.0    0.0   ...      \n",
       "3   1.0   0.0   0.0   0.0   0.0   0.0    0.0    0.0    0.0    0.0   ...      \n",
       "4   1.0   0.0   0.0   0.0   0.0   0.0    0.0    0.0    0.0    0.0   ...      \n",
       "\n",
       "   att1550  att1551  att1552  att1553  att1554  att1555  att1556  att1557  \\\n",
       "0      0.0      0.0      0.0      0.0      0.0      0.0      0.0      0.0   \n",
       "1      0.0      0.0      0.0      0.0      0.0      0.0      0.0      0.0   \n",
       "2      0.0      0.0      0.0      0.0      0.0      0.0      0.0      0.0   \n",
       "3      0.0      0.0      0.0      0.0      0.0      0.0      0.0      0.0   \n",
       "4      0.0      0.0      0.0      0.0      0.0      0.0      0.0      0.0   \n",
       "\n",
       "   att1558  outlier  \n",
       "0      0.0        1  \n",
       "1      0.0        1  \n",
       "2      0.0        1  \n",
       "3      0.0        1  \n",
       "4      0.0        1  \n",
       "\n",
       "[5 rows x 1556 columns]"
      ]
     },
     "execution_count": 2,
     "metadata": {},
     "output_type": "execute_result"
    }
   ],
   "source": [
    "# load data\n",
    "df=pd.read_csv('InternetAds_norm_19.csv')  \n",
    "\n",
    "del df['id']\n",
    "del df['Unnamed: 0']\n",
    "df['outlier'] = df.outlier.apply(lambda label: 1 if label == \"'yes'\" else 0)\n",
    "\n",
    "df.head()"
   ]
  },
  {
   "cell_type": "code",
   "execution_count": 3,
   "metadata": {},
   "outputs": [
    {
     "data": {
      "text/plain": [
       "(3264, 1556)"
      ]
     },
     "execution_count": 3,
     "metadata": {},
     "output_type": "execute_result"
    }
   ],
   "source": [
    "df.shape"
   ]
  },
  {
   "cell_type": "code",
   "execution_count": 4,
   "metadata": {
    "collapsed": true
   },
   "outputs": [],
   "source": [
    "# data to values\n",
    "df = df.values"
   ]
  },
  {
   "cell_type": "code",
   "execution_count": 5,
   "metadata": {
    "collapsed": true
   },
   "outputs": [],
   "source": [
    "# Extratrees Deep\n",
    "import argparse\n",
    "import sys\n",
    "import pickle\n",
    "from sklearn.metrics import accuracy_score\n",
    "sys.path.insert(0, \"lib\")\n",
    "from gcforest.gcforest import GCForest\n",
    "from gcforest.utils.config_utils import load_json\n",
    "config = load_json(\"./examples/InternetAds.json\")\n",
    "gc = GCForest(config)"
   ]
  },
  {
   "cell_type": "code",
   "execution_count": 15,
   "metadata": {
    "collapsed": true
   },
   "outputs": [],
   "source": [
    "# train test \n",
    "from sklearn.cross_validation import train_test_split\n",
    "y = df[:,1555]\n",
    "X = df[:,0:1555]\n",
    "\n",
    "X_train,X_test,y_train,y_test = train_test_split(X, y, test_size=0.33, random_state=42)"
   ]
  },
  {
   "cell_type": "code",
   "execution_count": 7,
   "metadata": {},
   "outputs": [
    {
     "data": {
      "text/plain": [
       "2"
      ]
     },
     "execution_count": 7,
     "metadata": {},
     "output_type": "execute_result"
    }
   ],
   "source": [
    "# number of class\n",
    "len(np.unique(y_train))"
   ]
  },
  {
   "cell_type": "code",
   "execution_count": 8,
   "metadata": {},
   "outputs": [
    {
     "name": "stderr",
     "output_type": "stream",
     "text": [
      "[ 2018-04-25 00:31:32,182][cascade_classifier.fit_transform] X_groups_train.shape=[(2186, 1555)],y_train.shape=(2186,),X_groups_test.shape=[(1078, 1555)],y_test.shape=(1078,)\n",
      "[ 2018-04-25 00:31:32,199][cascade_classifier.fit_transform] group_dims=[1555]\n",
      "[ 2018-04-25 00:31:32,201][cascade_classifier.fit_transform] group_starts=[0]\n",
      "[ 2018-04-25 00:31:32,202][cascade_classifier.fit_transform] group_ends=[1555]\n",
      "[ 2018-04-25 00:31:32,204][cascade_classifier.fit_transform] X_train.shape=(2186, 1555),X_test.shape=(1078, 1555)\n",
      "[ 2018-04-25 00:31:32,222][cascade_classifier.fit_transform] [layer=0] look_indexs=[0], X_cur_train.shape=(2186, 1555), X_cur_test.shape=(1078, 1555)\n",
      "[ 2018-04-25 00:31:33,000][kfold_wrapper.log_eval_metrics] Accuracy(layer_0 - estimator_0 - 10_folds.train_0.predict)=97.26%\n",
      "[ 2018-04-25 00:31:33,990][kfold_wrapper.log_eval_metrics] Accuracy(layer_0 - estimator_0 - 10_folds.train_1.predict)=96.35%\n",
      "[ 2018-04-25 00:31:34,886][kfold_wrapper.log_eval_metrics] Accuracy(layer_0 - estimator_0 - 10_folds.train_2.predict)=96.80%\n",
      "[ 2018-04-25 00:31:35,833][kfold_wrapper.log_eval_metrics] Accuracy(layer_0 - estimator_0 - 10_folds.train_3.predict)=97.26%\n",
      "[ 2018-04-25 00:31:36,592][kfold_wrapper.log_eval_metrics] Accuracy(layer_0 - estimator_0 - 10_folds.train_4.predict)=97.26%\n",
      "[ 2018-04-25 00:31:37,466][kfold_wrapper.log_eval_metrics] Accuracy(layer_0 - estimator_0 - 10_folds.train_5.predict)=97.26%\n",
      "[ 2018-04-25 00:31:38,272][kfold_wrapper.log_eval_metrics] Accuracy(layer_0 - estimator_0 - 10_folds.train_6.predict)=95.89%\n",
      "[ 2018-04-25 00:31:39,133][kfold_wrapper.log_eval_metrics] Accuracy(layer_0 - estimator_0 - 10_folds.train_7.predict)=97.25%\n",
      "[ 2018-04-25 00:31:39,900][kfold_wrapper.log_eval_metrics] Accuracy(layer_0 - estimator_0 - 10_folds.train_8.predict)=98.17%\n",
      "[ 2018-04-25 00:31:40,644][kfold_wrapper.log_eval_metrics] Accuracy(layer_0 - estimator_0 - 10_folds.train_9.predict)=95.85%\n",
      "[ 2018-04-25 00:31:40,794][kfold_wrapper.log_eval_metrics] Accuracy(layer_0 - estimator_0 - 10_folds.train_cv.predict)=96.94%\n",
      "[ 2018-04-25 00:31:40,796][kfold_wrapper.log_eval_metrics] Accuracy(layer_0 - estimator_0 - 10_folds.test.predict)=97.03%\n",
      "[ 2018-04-25 00:31:40,798][cascade_classifier.calc_accuracy] Accuracy(layer_0 - train.classifier_average)=96.94%\n",
      "[ 2018-04-25 00:31:40,800][cascade_classifier.calc_accuracy] Accuracy(layer_0 - test.classifier_average)=97.03%\n",
      "[ 2018-04-25 00:31:40,801][cascade_classifier.fit_transform] [Result][Reach Max Layer] opt_layer_num=1, accuracy_train=96.94%, accuracy_test=97.03%\n"
     ]
    }
   ],
   "source": [
    "          # X_enc is the concatenated predict_proba result of ExtraTrees\n",
    "\n",
    "X_train_enc, X_test_enc = gc.fit_transform(X_train, y_train, X_test=X_test, y_test=y_test)\n",
    "   "
   ]
  },
  {
   "cell_type": "code",
   "execution_count": 9,
   "metadata": {},
   "outputs": [
    {
     "name": "stderr",
     "output_type": "stream",
     "text": [
      "[ 2018-04-25 00:31:40,811][cascade_classifier.transform] X_groups_test.shape=[(1078, 1555)]\n",
      "[ 2018-04-25 00:31:40,816][cascade_classifier.transform] group_dims=[1555]\n",
      "[ 2018-04-25 00:31:40,817][cascade_classifier.transform] X_test.shape=(1078, 1555)\n",
      "[ 2018-04-25 00:31:40,821][cascade_classifier.transform] [layer=0] look_indexs=[0], X_cur_test.shape=(1078, 1555)\n"
     ]
    },
    {
     "name": "stdout",
     "output_type": "stream",
     "text": [
      "Test Accuracy of ExtraTrees = 97.031540 %\n"
     ]
    }
   ],
   "source": [
    "# predict\n",
    "y_pred = gc.predict(X_test)\n",
    "acc = accuracy_score(y_test, y_pred)\n",
    "print(\"Test Accuracy of ExtraTrees = {:.6f} %\".format(acc * 100))"
   ]
  },
  {
   "cell_type": "code",
   "execution_count": 10,
   "metadata": {},
   "outputs": [
    {
     "name": "stderr",
     "output_type": "stream",
     "text": [
      "[ 2018-04-25 00:31:42,353][cascade_classifier.transform] X_groups_test.shape=[(1078, 1555)]\n",
      "[ 2018-04-25 00:31:42,357][cascade_classifier.transform] group_dims=[1555]\n",
      "[ 2018-04-25 00:31:42,359][cascade_classifier.transform] X_test.shape=(1078, 1555)\n",
      "[ 2018-04-25 00:31:42,364][cascade_classifier.transform] [layer=0] look_indexs=[0], X_cur_test.shape=(1078, 1555)\n"
     ]
    }
   ],
   "source": [
    "# Make data + estimators\n",
    "X_test_enc = gc.transform(X_test)\n",
    "X_train_enc = X_train_enc.reshape((X_train_enc.shape[0], -1))\n",
    "X_test_enc = X_test_enc.reshape((X_test_enc.shape[0], -1))\n",
    "X_train_origin = X_train.reshape((X_train.shape[0], -1))\n",
    "X_test_origin = X_test.reshape((X_test.shape[0], -1))\n",
    "X_train_enc = np.hstack((X_train_origin, X_train_enc))\n",
    "X_test_enc = np.hstack((X_test_origin, X_test_enc))"
   ]
  },
  {
   "cell_type": "code",
   "execution_count": 11,
   "metadata": {},
   "outputs": [
    {
     "name": "stderr",
     "output_type": "stream",
     "text": [
      "[ 2018-04-25 00:31:44,084][cascade_classifier.fit_transform] X_groups_train.shape=[(2186, 1557)],y_train.shape=(2186,),X_groups_test.shape=[(1078, 1557)],y_test.shape=(1078,)\n",
      "[ 2018-04-25 00:31:44,107][cascade_classifier.fit_transform] group_dims=[1557]\n",
      "[ 2018-04-25 00:31:44,109][cascade_classifier.fit_transform] group_starts=[0]\n",
      "[ 2018-04-25 00:31:44,111][cascade_classifier.fit_transform] group_ends=[1557]\n",
      "[ 2018-04-25 00:31:44,113][cascade_classifier.fit_transform] X_train.shape=(2186, 1557),X_test.shape=(1078, 1557)\n",
      "[ 2018-04-25 00:31:44,134][cascade_classifier.fit_transform] [layer=0] look_indexs=[0], X_cur_train.shape=(2186, 1557), X_cur_test.shape=(1078, 1557)\n",
      "[ 2018-04-25 00:31:44,745][kfold_wrapper.log_eval_metrics] Accuracy(layer_0 - estimator_0 - 10_folds.train_0.predict)=97.72%\n",
      "[ 2018-04-25 00:31:45,499][kfold_wrapper.log_eval_metrics] Accuracy(layer_0 - estimator_0 - 10_folds.train_1.predict)=96.80%\n",
      "[ 2018-04-25 00:31:46,248][kfold_wrapper.log_eval_metrics] Accuracy(layer_0 - estimator_0 - 10_folds.train_2.predict)=95.43%\n",
      "[ 2018-04-25 00:31:47,133][kfold_wrapper.log_eval_metrics] Accuracy(layer_0 - estimator_0 - 10_folds.train_3.predict)=97.72%\n",
      "[ 2018-04-25 00:31:47,904][kfold_wrapper.log_eval_metrics] Accuracy(layer_0 - estimator_0 - 10_folds.train_4.predict)=97.72%\n",
      "[ 2018-04-25 00:31:48,659][kfold_wrapper.log_eval_metrics] Accuracy(layer_0 - estimator_0 - 10_folds.train_5.predict)=97.26%\n",
      "[ 2018-04-25 00:31:49,599][kfold_wrapper.log_eval_metrics] Accuracy(layer_0 - estimator_0 - 10_folds.train_6.predict)=96.80%\n",
      "[ 2018-04-25 00:31:50,386][kfold_wrapper.log_eval_metrics] Accuracy(layer_0 - estimator_0 - 10_folds.train_7.predict)=96.79%\n",
      "[ 2018-04-25 00:31:51,168][kfold_wrapper.log_eval_metrics] Accuracy(layer_0 - estimator_0 - 10_folds.train_8.predict)=98.17%\n",
      "[ 2018-04-25 00:31:51,958][kfold_wrapper.log_eval_metrics] Accuracy(layer_0 - estimator_0 - 10_folds.train_9.predict)=95.39%\n",
      "[ 2018-04-25 00:31:52,103][kfold_wrapper.log_eval_metrics] Accuracy(layer_0 - estimator_0 - 10_folds.train_cv.predict)=96.98%\n",
      "[ 2018-04-25 00:31:52,105][kfold_wrapper.log_eval_metrics] Accuracy(layer_0 - estimator_0 - 10_folds.test.predict)=96.57%\n",
      "[ 2018-04-25 00:31:52,111][cascade_classifier.calc_accuracy] Accuracy(layer_0 - train.classifier_average)=96.98%\n",
      "[ 2018-04-25 00:31:52,112][cascade_classifier.calc_accuracy] Accuracy(layer_0 - test.classifier_average)=96.57%\n",
      "[ 2018-04-25 00:31:52,113][cascade_classifier.fit_transform] [Result][Reach Max Layer] opt_layer_num=1, accuracy_train=96.98%, accuracy_test=96.57%\n"
     ]
    }
   ],
   "source": [
    "# New data\n",
    "X_train=X_train_enc\n",
    "X_test=X_test_enc \n",
    "X_train_enc, X_test_enc = gc.fit_transform(X_train, y_train, X_test=X_test, y_test=y_test)"
   ]
  },
  {
   "cell_type": "code",
   "execution_count": 12,
   "metadata": {},
   "outputs": [
    {
     "name": "stderr",
     "output_type": "stream",
     "text": [
      "[ 2018-04-25 00:31:52,122][cascade_classifier.transform] X_groups_test.shape=[(1078, 1557)]\n",
      "[ 2018-04-25 00:31:52,130][cascade_classifier.transform] group_dims=[1557]\n",
      "[ 2018-04-25 00:31:52,132][cascade_classifier.transform] X_test.shape=(1078, 1557)\n",
      "[ 2018-04-25 00:31:52,139][cascade_classifier.transform] [layer=0] look_indexs=[0], X_cur_test.shape=(1078, 1557)\n"
     ]
    },
    {
     "name": "stdout",
     "output_type": "stream",
     "text": [
      "Test Accuracy of ExtraTrees = 96.567718 %\n"
     ]
    }
   ],
   "source": [
    "# predict  data + Es\n",
    "y_pred = gc.predict(X_test)\n",
    "acc = accuracy_score(y_test, y_pred)\n",
    "print(\"Test Accuracy of ExtraTrees = {:.6f} %\".format(acc * 100))"
   ]
  },
  {
   "cell_type": "code",
   "execution_count": 13,
   "metadata": {
    "collapsed": true
   },
   "outputs": [],
   "source": [
    "def update(X_train,X_test):\n",
    "    # update Estimators\n",
    "    M = np.delete(X_train, (-1), axis=1)\n",
    "    X_train= np.delete(M, (-1), axis=1)\n",
    "    M = np.delete(X_test, (-1), axis=1)\n",
    "    X_test = np.delete(M, (-1), axis=1)\n",
    "    return X_train,X_test\n",
    "\n",
    "def newdata(X_test_enc, X_train_enc):\n",
    "    # Make Data + Estimators\n",
    "    X_train_origin = X_train.reshape((X_train.shape[0], -1))\n",
    "    X_test_origin = X_test.reshape((X_test.shape[0], -1))\n",
    "    X_train_enc = np.hstack((X_train_origin, X_train_enc))\n",
    "    X_test_enc = np.hstack((X_test_origin, X_test_enc))\n",
    "    return X_test_enc, X_train_enc\n",
    "\n",
    "def affiche():\n",
    "    # predict\n",
    "    y_pred = gc.predict(X_test)\n",
    "    acc = accuracy_score(y_test, y_pred)\n",
    "    print(\"Test Accuracy of ExtraTrees = {:.6f} %\".format(acc * 100),i,'fois')"
   ]
  },
  {
   "cell_type": "code",
   "execution_count": 14,
   "metadata": {},
   "outputs": [
    {
     "name": "stderr",
     "output_type": "stream",
     "text": [
      "[ 2018-04-25 00:31:53,740][cascade_classifier.fit_transform] X_groups_train.shape=[(2186, 1557)],y_train.shape=(2186,),X_groups_test.shape=[(1078, 1557)],y_test.shape=(1078,)\n",
      "[ 2018-04-25 00:31:53,756][cascade_classifier.fit_transform] group_dims=[1557]\n",
      "[ 2018-04-25 00:31:53,757][cascade_classifier.fit_transform] group_starts=[0]\n",
      "[ 2018-04-25 00:31:53,759][cascade_classifier.fit_transform] group_ends=[1557]\n",
      "[ 2018-04-25 00:31:53,760][cascade_classifier.fit_transform] X_train.shape=(2186, 1557),X_test.shape=(1078, 1557)\n",
      "[ 2018-04-25 00:31:53,778][cascade_classifier.fit_transform] [layer=0] look_indexs=[0], X_cur_train.shape=(2186, 1557), X_cur_test.shape=(1078, 1557)\n",
      "[ 2018-04-25 00:31:54,496][kfold_wrapper.log_eval_metrics] Accuracy(layer_0 - estimator_0 - 10_folds.train_0.predict)=97.26%\n",
      "[ 2018-04-25 00:31:55,560][kfold_wrapper.log_eval_metrics] Accuracy(layer_0 - estimator_0 - 10_folds.train_1.predict)=96.80%\n",
      "[ 2018-04-25 00:31:56,330][kfold_wrapper.log_eval_metrics] Accuracy(layer_0 - estimator_0 - 10_folds.train_2.predict)=95.89%\n",
      "[ 2018-04-25 00:31:57,094][kfold_wrapper.log_eval_metrics] Accuracy(layer_0 - estimator_0 - 10_folds.train_3.predict)=97.72%\n",
      "[ 2018-04-25 00:31:57,996][kfold_wrapper.log_eval_metrics] Accuracy(layer_0 - estimator_0 - 10_folds.train_4.predict)=96.80%\n",
      "[ 2018-04-25 00:31:58,907][kfold_wrapper.log_eval_metrics] Accuracy(layer_0 - estimator_0 - 10_folds.train_5.predict)=97.26%\n",
      "[ 2018-04-25 00:31:59,675][kfold_wrapper.log_eval_metrics] Accuracy(layer_0 - estimator_0 - 10_folds.train_6.predict)=96.80%\n",
      "[ 2018-04-25 00:32:00,482][kfold_wrapper.log_eval_metrics] Accuracy(layer_0 - estimator_0 - 10_folds.train_7.predict)=96.79%\n",
      "[ 2018-04-25 00:32:01,231][kfold_wrapper.log_eval_metrics] Accuracy(layer_0 - estimator_0 - 10_folds.train_8.predict)=98.62%\n",
      "[ 2018-04-25 00:32:02,147][kfold_wrapper.log_eval_metrics] Accuracy(layer_0 - estimator_0 - 10_folds.train_9.predict)=96.31%\n",
      "[ 2018-04-25 00:32:02,300][kfold_wrapper.log_eval_metrics] Accuracy(layer_0 - estimator_0 - 10_folds.train_cv.predict)=97.03%\n",
      "[ 2018-04-25 00:32:02,302][kfold_wrapper.log_eval_metrics] Accuracy(layer_0 - estimator_0 - 10_folds.test.predict)=96.85%\n",
      "[ 2018-04-25 00:32:02,311][cascade_classifier.calc_accuracy] Accuracy(layer_0 - train.classifier_average)=97.03%\n",
      "[ 2018-04-25 00:32:02,313][cascade_classifier.calc_accuracy] Accuracy(layer_0 - test.classifier_average)=96.85%\n",
      "[ 2018-04-25 00:32:02,315][cascade_classifier.fit_transform] [Result][Reach Max Layer] opt_layer_num=1, accuracy_train=97.03%, accuracy_test=96.85%\n",
      "[ 2018-04-25 00:32:02,318][cascade_classifier.transform] X_groups_test.shape=[(1078, 1557)]\n",
      "[ 2018-04-25 00:32:02,329][cascade_classifier.transform] group_dims=[1557]\n",
      "[ 2018-04-25 00:32:02,330][cascade_classifier.transform] X_test.shape=(1078, 1557)\n",
      "[ 2018-04-25 00:32:02,338][cascade_classifier.transform] [layer=0] look_indexs=[0], X_cur_test.shape=(1078, 1557)\n",
      "[ 2018-04-25 00:32:03,967][cascade_classifier.fit_transform] X_groups_train.shape=[(2186, 1557)],y_train.shape=(2186,),X_groups_test.shape=[(1078, 1557)],y_test.shape=(1078,)\n",
      "[ 2018-04-25 00:32:03,987][cascade_classifier.fit_transform] group_dims=[1557]\n",
      "[ 2018-04-25 00:32:03,988][cascade_classifier.fit_transform] group_starts=[0]\n",
      "[ 2018-04-25 00:32:03,990][cascade_classifier.fit_transform] group_ends=[1557]\n",
      "[ 2018-04-25 00:32:03,992][cascade_classifier.fit_transform] X_train.shape=(2186, 1557),X_test.shape=(1078, 1557)\n",
      "[ 2018-04-25 00:32:04,013][cascade_classifier.fit_transform] [layer=0] look_indexs=[0], X_cur_train.shape=(2186, 1557), X_cur_test.shape=(1078, 1557)\n"
     ]
    },
    {
     "name": "stdout",
     "output_type": "stream",
     "text": [
      "('Test Accuracy of ExtraTrees = 96.846011 %', 0, 'fois')\n"
     ]
    },
    {
     "name": "stderr",
     "output_type": "stream",
     "text": [
      "[ 2018-04-25 00:32:04,764][kfold_wrapper.log_eval_metrics] Accuracy(layer_0 - estimator_0 - 10_folds.train_0.predict)=97.26%\n",
      "[ 2018-04-25 00:32:05,690][kfold_wrapper.log_eval_metrics] Accuracy(layer_0 - estimator_0 - 10_folds.train_1.predict)=96.80%\n",
      "[ 2018-04-25 00:32:06,500][kfold_wrapper.log_eval_metrics] Accuracy(layer_0 - estimator_0 - 10_folds.train_2.predict)=95.89%\n",
      "[ 2018-04-25 00:32:07,283][kfold_wrapper.log_eval_metrics] Accuracy(layer_0 - estimator_0 - 10_folds.train_3.predict)=97.72%\n",
      "[ 2018-04-25 00:32:08,191][kfold_wrapper.log_eval_metrics] Accuracy(layer_0 - estimator_0 - 10_folds.train_4.predict)=97.72%\n",
      "[ 2018-04-25 00:32:08,990][kfold_wrapper.log_eval_metrics] Accuracy(layer_0 - estimator_0 - 10_folds.train_5.predict)=98.17%\n",
      "[ 2018-04-25 00:32:09,762][kfold_wrapper.log_eval_metrics] Accuracy(layer_0 - estimator_0 - 10_folds.train_6.predict)=96.35%\n",
      "[ 2018-04-25 00:32:10,743][kfold_wrapper.log_eval_metrics] Accuracy(layer_0 - estimator_0 - 10_folds.train_7.predict)=96.79%\n",
      "[ 2018-04-25 00:32:11,653][kfold_wrapper.log_eval_metrics] Accuracy(layer_0 - estimator_0 - 10_folds.train_8.predict)=98.17%\n",
      "[ 2018-04-25 00:32:12,487][kfold_wrapper.log_eval_metrics] Accuracy(layer_0 - estimator_0 - 10_folds.train_9.predict)=96.77%\n",
      "[ 2018-04-25 00:32:12,639][kfold_wrapper.log_eval_metrics] Accuracy(layer_0 - estimator_0 - 10_folds.train_cv.predict)=97.16%\n",
      "[ 2018-04-25 00:32:12,642][kfold_wrapper.log_eval_metrics] Accuracy(layer_0 - estimator_0 - 10_folds.test.predict)=95.73%\n",
      "[ 2018-04-25 00:32:12,653][cascade_classifier.calc_accuracy] Accuracy(layer_0 - train.classifier_average)=97.16%\n",
      "[ 2018-04-25 00:32:12,655][cascade_classifier.calc_accuracy] Accuracy(layer_0 - test.classifier_average)=95.73%\n",
      "[ 2018-04-25 00:32:12,657][cascade_classifier.fit_transform] [Result][Reach Max Layer] opt_layer_num=1, accuracy_train=97.16%, accuracy_test=95.73%\n",
      "[ 2018-04-25 00:32:12,660][cascade_classifier.transform] X_groups_test.shape=[(1078, 1557)]\n",
      "[ 2018-04-25 00:32:12,671][cascade_classifier.transform] group_dims=[1557]\n",
      "[ 2018-04-25 00:32:12,673][cascade_classifier.transform] X_test.shape=(1078, 1557)\n",
      "[ 2018-04-25 00:32:12,681][cascade_classifier.transform] [layer=0] look_indexs=[0], X_cur_test.shape=(1078, 1557)\n",
      "[ 2018-04-25 00:32:14,320][cascade_classifier.fit_transform] X_groups_train.shape=[(2186, 1557)],y_train.shape=(2186,),X_groups_test.shape=[(1078, 1557)],y_test.shape=(1078,)\n",
      "[ 2018-04-25 00:32:14,337][cascade_classifier.fit_transform] group_dims=[1557]\n",
      "[ 2018-04-25 00:32:14,339][cascade_classifier.fit_transform] group_starts=[0]\n",
      "[ 2018-04-25 00:32:14,340][cascade_classifier.fit_transform] group_ends=[1557]\n",
      "[ 2018-04-25 00:32:14,342][cascade_classifier.fit_transform] X_train.shape=(2186, 1557),X_test.shape=(1078, 1557)\n",
      "[ 2018-04-25 00:32:14,361][cascade_classifier.fit_transform] [layer=0] look_indexs=[0], X_cur_train.shape=(2186, 1557), X_cur_test.shape=(1078, 1557)\n"
     ]
    },
    {
     "name": "stdout",
     "output_type": "stream",
     "text": [
      "('Test Accuracy of ExtraTrees = 95.732839 %', 1, 'fois')\n"
     ]
    },
    {
     "name": "stderr",
     "output_type": "stream",
     "text": [
      "[ 2018-04-25 00:32:14,947][kfold_wrapper.log_eval_metrics] Accuracy(layer_0 - estimator_0 - 10_folds.train_0.predict)=97.26%\n",
      "[ 2018-04-25 00:32:15,688][kfold_wrapper.log_eval_metrics] Accuracy(layer_0 - estimator_0 - 10_folds.train_1.predict)=96.80%\n",
      "[ 2018-04-25 00:32:16,563][kfold_wrapper.log_eval_metrics] Accuracy(layer_0 - estimator_0 - 10_folds.train_2.predict)=96.35%\n",
      "[ 2018-04-25 00:32:17,354][kfold_wrapper.log_eval_metrics] Accuracy(layer_0 - estimator_0 - 10_folds.train_3.predict)=98.17%\n",
      "[ 2018-04-25 00:32:18,135][kfold_wrapper.log_eval_metrics] Accuracy(layer_0 - estimator_0 - 10_folds.train_4.predict)=97.72%\n",
      "[ 2018-04-25 00:32:18,898][kfold_wrapper.log_eval_metrics] Accuracy(layer_0 - estimator_0 - 10_folds.train_5.predict)=98.63%\n",
      "[ 2018-04-25 00:32:19,644][kfold_wrapper.log_eval_metrics] Accuracy(layer_0 - estimator_0 - 10_folds.train_6.predict)=97.26%\n",
      "[ 2018-04-25 00:32:20,548][kfold_wrapper.log_eval_metrics] Accuracy(layer_0 - estimator_0 - 10_folds.train_7.predict)=97.71%\n",
      "[ 2018-04-25 00:32:21,398][kfold_wrapper.log_eval_metrics] Accuracy(layer_0 - estimator_0 - 10_folds.train_8.predict)=98.62%\n",
      "[ 2018-04-25 00:32:22,301][kfold_wrapper.log_eval_metrics] Accuracy(layer_0 - estimator_0 - 10_folds.train_9.predict)=96.77%\n",
      "[ 2018-04-25 00:32:22,454][kfold_wrapper.log_eval_metrics] Accuracy(layer_0 - estimator_0 - 10_folds.train_cv.predict)=97.53%\n",
      "[ 2018-04-25 00:32:22,456][kfold_wrapper.log_eval_metrics] Accuracy(layer_0 - estimator_0 - 10_folds.test.predict)=95.83%\n",
      "[ 2018-04-25 00:32:22,467][cascade_classifier.calc_accuracy] Accuracy(layer_0 - train.classifier_average)=97.53%\n",
      "[ 2018-04-25 00:32:22,469][cascade_classifier.calc_accuracy] Accuracy(layer_0 - test.classifier_average)=95.83%\n",
      "[ 2018-04-25 00:32:22,471][cascade_classifier.fit_transform] [Result][Reach Max Layer] opt_layer_num=1, accuracy_train=97.53%, accuracy_test=95.83%\n",
      "[ 2018-04-25 00:32:22,474][cascade_classifier.transform] X_groups_test.shape=[(1078, 1557)]\n",
      "[ 2018-04-25 00:32:22,485][cascade_classifier.transform] group_dims=[1557]\n",
      "[ 2018-04-25 00:32:22,487][cascade_classifier.transform] X_test.shape=(1078, 1557)\n",
      "[ 2018-04-25 00:32:22,495][cascade_classifier.transform] [layer=0] look_indexs=[0], X_cur_test.shape=(1078, 1557)\n",
      "[ 2018-04-25 00:32:24,119][cascade_classifier.fit_transform] X_groups_train.shape=[(2186, 1557)],y_train.shape=(2186,),X_groups_test.shape=[(1078, 1557)],y_test.shape=(1078,)\n",
      "[ 2018-04-25 00:32:24,139][cascade_classifier.fit_transform] group_dims=[1557]\n",
      "[ 2018-04-25 00:32:24,141][cascade_classifier.fit_transform] group_starts=[0]\n",
      "[ 2018-04-25 00:32:24,143][cascade_classifier.fit_transform] group_ends=[1557]\n",
      "[ 2018-04-25 00:32:24,144][cascade_classifier.fit_transform] X_train.shape=(2186, 1557),X_test.shape=(1078, 1557)\n",
      "[ 2018-04-25 00:32:24,166][cascade_classifier.fit_transform] [layer=0] look_indexs=[0], X_cur_train.shape=(2186, 1557), X_cur_test.shape=(1078, 1557)\n"
     ]
    },
    {
     "name": "stdout",
     "output_type": "stream",
     "text": [
      "('Test Accuracy of ExtraTrees = 95.825603 %', 2, 'fois')\n"
     ]
    },
    {
     "name": "stderr",
     "output_type": "stream",
     "text": [
      "[ 2018-04-25 00:32:24,916][kfold_wrapper.log_eval_metrics] Accuracy(layer_0 - estimator_0 - 10_folds.train_0.predict)=97.26%\n",
      "[ 2018-04-25 00:32:25,662][kfold_wrapper.log_eval_metrics] Accuracy(layer_0 - estimator_0 - 10_folds.train_1.predict)=97.26%\n",
      "[ 2018-04-25 00:32:26,378][kfold_wrapper.log_eval_metrics] Accuracy(layer_0 - estimator_0 - 10_folds.train_2.predict)=96.35%\n",
      "[ 2018-04-25 00:32:27,173][kfold_wrapper.log_eval_metrics] Accuracy(layer_0 - estimator_0 - 10_folds.train_3.predict)=97.72%\n",
      "[ 2018-04-25 00:32:27,947][kfold_wrapper.log_eval_metrics] Accuracy(layer_0 - estimator_0 - 10_folds.train_4.predict)=97.26%\n",
      "[ 2018-04-25 00:32:28,692][kfold_wrapper.log_eval_metrics] Accuracy(layer_0 - estimator_0 - 10_folds.train_5.predict)=98.17%\n",
      "[ 2018-04-25 00:32:29,505][kfold_wrapper.log_eval_metrics] Accuracy(layer_0 - estimator_0 - 10_folds.train_6.predict)=96.80%\n",
      "[ 2018-04-25 00:32:30,267][kfold_wrapper.log_eval_metrics] Accuracy(layer_0 - estimator_0 - 10_folds.train_7.predict)=96.79%\n",
      "[ 2018-04-25 00:32:31,071][kfold_wrapper.log_eval_metrics] Accuracy(layer_0 - estimator_0 - 10_folds.train_8.predict)=98.17%\n",
      "[ 2018-04-25 00:32:31,845][kfold_wrapper.log_eval_metrics] Accuracy(layer_0 - estimator_0 - 10_folds.train_9.predict)=96.77%\n",
      "[ 2018-04-25 00:32:31,992][kfold_wrapper.log_eval_metrics] Accuracy(layer_0 - estimator_0 - 10_folds.train_cv.predict)=97.26%\n",
      "[ 2018-04-25 00:32:31,994][kfold_wrapper.log_eval_metrics] Accuracy(layer_0 - estimator_0 - 10_folds.test.predict)=97.12%\n",
      "[ 2018-04-25 00:32:31,999][cascade_classifier.calc_accuracy] Accuracy(layer_0 - train.classifier_average)=97.26%\n",
      "[ 2018-04-25 00:32:32,001][cascade_classifier.calc_accuracy] Accuracy(layer_0 - test.classifier_average)=97.12%\n",
      "[ 2018-04-25 00:32:32,002][cascade_classifier.fit_transform] [Result][Reach Max Layer] opt_layer_num=1, accuracy_train=97.26%, accuracy_test=97.12%\n",
      "[ 2018-04-25 00:32:32,006][cascade_classifier.transform] X_groups_test.shape=[(1078, 1557)]\n",
      "[ 2018-04-25 00:32:32,016][cascade_classifier.transform] group_dims=[1557]\n",
      "[ 2018-04-25 00:32:32,017][cascade_classifier.transform] X_test.shape=(1078, 1557)\n",
      "[ 2018-04-25 00:32:32,025][cascade_classifier.transform] [layer=0] look_indexs=[0], X_cur_test.shape=(1078, 1557)\n",
      "[ 2018-04-25 00:32:33,687][cascade_classifier.fit_transform] X_groups_train.shape=[(2186, 1557)],y_train.shape=(2186,),X_groups_test.shape=[(1078, 1557)],y_test.shape=(1078,)\n",
      "[ 2018-04-25 00:32:33,705][cascade_classifier.fit_transform] group_dims=[1557]\n",
      "[ 2018-04-25 00:32:33,706][cascade_classifier.fit_transform] group_starts=[0]\n",
      "[ 2018-04-25 00:32:33,708][cascade_classifier.fit_transform] group_ends=[1557]\n",
      "[ 2018-04-25 00:32:33,710][cascade_classifier.fit_transform] X_train.shape=(2186, 1557),X_test.shape=(1078, 1557)\n",
      "[ 2018-04-25 00:32:33,729][cascade_classifier.fit_transform] [layer=0] look_indexs=[0], X_cur_train.shape=(2186, 1557), X_cur_test.shape=(1078, 1557)\n"
     ]
    },
    {
     "name": "stdout",
     "output_type": "stream",
     "text": [
      "('Test Accuracy of ExtraTrees = 97.124304 %', 3, 'fois')\n"
     ]
    },
    {
     "name": "stderr",
     "output_type": "stream",
     "text": [
      "[ 2018-04-25 00:32:34,437][kfold_wrapper.log_eval_metrics] Accuracy(layer_0 - estimator_0 - 10_folds.train_0.predict)=97.26%\n",
      "[ 2018-04-25 00:32:35,206][kfold_wrapper.log_eval_metrics] Accuracy(layer_0 - estimator_0 - 10_folds.train_1.predict)=96.80%\n",
      "[ 2018-04-25 00:32:36,116][kfold_wrapper.log_eval_metrics] Accuracy(layer_0 - estimator_0 - 10_folds.train_2.predict)=95.43%\n",
      "[ 2018-04-25 00:32:36,837][kfold_wrapper.log_eval_metrics] Accuracy(layer_0 - estimator_0 - 10_folds.train_3.predict)=97.26%\n",
      "[ 2018-04-25 00:32:37,576][kfold_wrapper.log_eval_metrics] Accuracy(layer_0 - estimator_0 - 10_folds.train_4.predict)=97.26%\n",
      "[ 2018-04-25 00:32:38,352][kfold_wrapper.log_eval_metrics] Accuracy(layer_0 - estimator_0 - 10_folds.train_5.predict)=98.63%\n",
      "[ 2018-04-25 00:32:39,246][kfold_wrapper.log_eval_metrics] Accuracy(layer_0 - estimator_0 - 10_folds.train_6.predict)=96.80%\n",
      "[ 2018-04-25 00:32:40,176][kfold_wrapper.log_eval_metrics] Accuracy(layer_0 - estimator_0 - 10_folds.train_7.predict)=97.25%\n",
      "[ 2018-04-25 00:32:41,000][kfold_wrapper.log_eval_metrics] Accuracy(layer_0 - estimator_0 - 10_folds.train_8.predict)=98.62%\n",
      "[ 2018-04-25 00:32:41,776][kfold_wrapper.log_eval_metrics] Accuracy(layer_0 - estimator_0 - 10_folds.train_9.predict)=96.31%\n",
      "[ 2018-04-25 00:32:41,905][kfold_wrapper.log_eval_metrics] Accuracy(layer_0 - estimator_0 - 10_folds.train_cv.predict)=97.16%\n",
      "[ 2018-04-25 00:32:41,907][kfold_wrapper.log_eval_metrics] Accuracy(layer_0 - estimator_0 - 10_folds.test.predict)=96.66%\n",
      "[ 2018-04-25 00:32:41,916][cascade_classifier.calc_accuracy] Accuracy(layer_0 - train.classifier_average)=97.16%\n",
      "[ 2018-04-25 00:32:41,917][cascade_classifier.calc_accuracy] Accuracy(layer_0 - test.classifier_average)=96.66%\n",
      "[ 2018-04-25 00:32:41,918][cascade_classifier.fit_transform] [Result][Reach Max Layer] opt_layer_num=1, accuracy_train=97.16%, accuracy_test=96.66%\n",
      "[ 2018-04-25 00:32:41,921][cascade_classifier.transform] X_groups_test.shape=[(1078, 1557)]\n",
      "[ 2018-04-25 00:32:41,930][cascade_classifier.transform] group_dims=[1557]\n",
      "[ 2018-04-25 00:32:41,932][cascade_classifier.transform] X_test.shape=(1078, 1557)\n",
      "[ 2018-04-25 00:32:41,939][cascade_classifier.transform] [layer=0] look_indexs=[0], X_cur_test.shape=(1078, 1557)\n",
      "[ 2018-04-25 00:32:43,636][cascade_classifier.fit_transform] X_groups_train.shape=[(2186, 1557)],y_train.shape=(2186,),X_groups_test.shape=[(1078, 1557)],y_test.shape=(1078,)\n",
      "[ 2018-04-25 00:32:43,652][cascade_classifier.fit_transform] group_dims=[1557]\n",
      "[ 2018-04-25 00:32:43,653][cascade_classifier.fit_transform] group_starts=[0]\n",
      "[ 2018-04-25 00:32:43,655][cascade_classifier.fit_transform] group_ends=[1557]\n",
      "[ 2018-04-25 00:32:43,656][cascade_classifier.fit_transform] X_train.shape=(2186, 1557),X_test.shape=(1078, 1557)\n",
      "[ 2018-04-25 00:32:43,675][cascade_classifier.fit_transform] [layer=0] look_indexs=[0], X_cur_train.shape=(2186, 1557), X_cur_test.shape=(1078, 1557)\n"
     ]
    },
    {
     "name": "stdout",
     "output_type": "stream",
     "text": [
      "('Test Accuracy of ExtraTrees = 96.660482 %', 4, 'fois')\n"
     ]
    },
    {
     "name": "stderr",
     "output_type": "stream",
     "text": [
      "[ 2018-04-25 00:32:44,274][kfold_wrapper.log_eval_metrics] Accuracy(layer_0 - estimator_0 - 10_folds.train_0.predict)=97.26%\n",
      "[ 2018-04-25 00:32:45,040][kfold_wrapper.log_eval_metrics] Accuracy(layer_0 - estimator_0 - 10_folds.train_1.predict)=96.80%\n",
      "[ 2018-04-25 00:32:45,803][kfold_wrapper.log_eval_metrics] Accuracy(layer_0 - estimator_0 - 10_folds.train_2.predict)=95.89%\n",
      "[ 2018-04-25 00:32:46,582][kfold_wrapper.log_eval_metrics] Accuracy(layer_0 - estimator_0 - 10_folds.train_3.predict)=97.72%\n",
      "[ 2018-04-25 00:32:47,342][kfold_wrapper.log_eval_metrics] Accuracy(layer_0 - estimator_0 - 10_folds.train_4.predict)=97.72%\n",
      "[ 2018-04-25 00:32:48,176][kfold_wrapper.log_eval_metrics] Accuracy(layer_0 - estimator_0 - 10_folds.train_5.predict)=98.17%\n",
      "[ 2018-04-25 00:32:49,019][kfold_wrapper.log_eval_metrics] Accuracy(layer_0 - estimator_0 - 10_folds.train_6.predict)=97.26%\n",
      "[ 2018-04-25 00:32:49,762][kfold_wrapper.log_eval_metrics] Accuracy(layer_0 - estimator_0 - 10_folds.train_7.predict)=96.79%\n",
      "[ 2018-04-25 00:32:50,511][kfold_wrapper.log_eval_metrics] Accuracy(layer_0 - estimator_0 - 10_folds.train_8.predict)=98.17%\n",
      "[ 2018-04-25 00:32:51,254][kfold_wrapper.log_eval_metrics] Accuracy(layer_0 - estimator_0 - 10_folds.train_9.predict)=96.77%\n",
      "[ 2018-04-25 00:32:51,411][kfold_wrapper.log_eval_metrics] Accuracy(layer_0 - estimator_0 - 10_folds.train_cv.predict)=97.26%\n",
      "[ 2018-04-25 00:32:51,413][kfold_wrapper.log_eval_metrics] Accuracy(layer_0 - estimator_0 - 10_folds.test.predict)=96.85%\n",
      "[ 2018-04-25 00:32:51,419][cascade_classifier.calc_accuracy] Accuracy(layer_0 - train.classifier_average)=97.26%\n",
      "[ 2018-04-25 00:32:51,420][cascade_classifier.calc_accuracy] Accuracy(layer_0 - test.classifier_average)=96.85%\n",
      "[ 2018-04-25 00:32:51,422][cascade_classifier.fit_transform] [Result][Reach Max Layer] opt_layer_num=1, accuracy_train=97.26%, accuracy_test=96.85%\n",
      "[ 2018-04-25 00:32:51,425][cascade_classifier.transform] X_groups_test.shape=[(1078, 1557)]\n",
      "[ 2018-04-25 00:32:51,435][cascade_classifier.transform] group_dims=[1557]\n",
      "[ 2018-04-25 00:32:51,437][cascade_classifier.transform] X_test.shape=(1078, 1557)\n",
      "[ 2018-04-25 00:32:51,445][cascade_classifier.transform] [layer=0] look_indexs=[0], X_cur_test.shape=(1078, 1557)\n",
      "[ 2018-04-25 00:32:53,124][cascade_classifier.fit_transform] X_groups_train.shape=[(2186, 1557)],y_train.shape=(2186,),X_groups_test.shape=[(1078, 1557)],y_test.shape=(1078,)\n",
      "[ 2018-04-25 00:32:53,141][cascade_classifier.fit_transform] group_dims=[1557]\n",
      "[ 2018-04-25 00:32:53,143][cascade_classifier.fit_transform] group_starts=[0]\n",
      "[ 2018-04-25 00:32:53,144][cascade_classifier.fit_transform] group_ends=[1557]\n",
      "[ 2018-04-25 00:32:53,146][cascade_classifier.fit_transform] X_train.shape=(2186, 1557),X_test.shape=(1078, 1557)\n",
      "[ 2018-04-25 00:32:53,166][cascade_classifier.fit_transform] [layer=0] look_indexs=[0], X_cur_train.shape=(2186, 1557), X_cur_test.shape=(1078, 1557)\n"
     ]
    },
    {
     "name": "stdout",
     "output_type": "stream",
     "text": [
      "('Test Accuracy of ExtraTrees = 96.846011 %', 5, 'fois')\n"
     ]
    },
    {
     "name": "stderr",
     "output_type": "stream",
     "text": [
      "[ 2018-04-25 00:32:53,751][kfold_wrapper.log_eval_metrics] Accuracy(layer_0 - estimator_0 - 10_folds.train_0.predict)=97.26%\n",
      "[ 2018-04-25 00:32:54,526][kfold_wrapper.log_eval_metrics] Accuracy(layer_0 - estimator_0 - 10_folds.train_1.predict)=96.80%\n",
      "[ 2018-04-25 00:32:55,316][kfold_wrapper.log_eval_metrics] Accuracy(layer_0 - estimator_0 - 10_folds.train_2.predict)=96.35%\n",
      "[ 2018-04-25 00:32:56,095][kfold_wrapper.log_eval_metrics] Accuracy(layer_0 - estimator_0 - 10_folds.train_3.predict)=96.80%\n",
      "[ 2018-04-25 00:32:56,887][kfold_wrapper.log_eval_metrics] Accuracy(layer_0 - estimator_0 - 10_folds.train_4.predict)=96.80%\n",
      "[ 2018-04-25 00:32:57,690][kfold_wrapper.log_eval_metrics] Accuracy(layer_0 - estimator_0 - 10_folds.train_5.predict)=98.63%\n",
      "[ 2018-04-25 00:32:58,610][kfold_wrapper.log_eval_metrics] Accuracy(layer_0 - estimator_0 - 10_folds.train_6.predict)=97.26%\n",
      "[ 2018-04-25 00:32:59,391][kfold_wrapper.log_eval_metrics] Accuracy(layer_0 - estimator_0 - 10_folds.train_7.predict)=97.71%\n",
      "[ 2018-04-25 00:33:00,178][kfold_wrapper.log_eval_metrics] Accuracy(layer_0 - estimator_0 - 10_folds.train_8.predict)=98.62%\n",
      "[ 2018-04-25 00:33:00,966][kfold_wrapper.log_eval_metrics] Accuracy(layer_0 - estimator_0 - 10_folds.train_9.predict)=96.31%\n",
      "[ 2018-04-25 00:33:01,118][kfold_wrapper.log_eval_metrics] Accuracy(layer_0 - estimator_0 - 10_folds.train_cv.predict)=97.26%\n",
      "[ 2018-04-25 00:33:01,120][kfold_wrapper.log_eval_metrics] Accuracy(layer_0 - estimator_0 - 10_folds.test.predict)=96.75%\n",
      "[ 2018-04-25 00:33:01,125][cascade_classifier.calc_accuracy] Accuracy(layer_0 - train.classifier_average)=97.26%\n",
      "[ 2018-04-25 00:33:01,127][cascade_classifier.calc_accuracy] Accuracy(layer_0 - test.classifier_average)=96.75%\n",
      "[ 2018-04-25 00:33:01,128][cascade_classifier.fit_transform] [Result][Reach Max Layer] opt_layer_num=1, accuracy_train=97.26%, accuracy_test=96.75%\n",
      "[ 2018-04-25 00:33:01,132][cascade_classifier.transform] X_groups_test.shape=[(1078, 1557)]\n",
      "[ 2018-04-25 00:33:01,143][cascade_classifier.transform] group_dims=[1557]\n",
      "[ 2018-04-25 00:33:01,144][cascade_classifier.transform] X_test.shape=(1078, 1557)\n",
      "[ 2018-04-25 00:33:01,153][cascade_classifier.transform] [layer=0] look_indexs=[0], X_cur_test.shape=(1078, 1557)\n",
      "[ 2018-04-25 00:33:02,845][cascade_classifier.fit_transform] X_groups_train.shape=[(2186, 1557)],y_train.shape=(2186,),X_groups_test.shape=[(1078, 1557)],y_test.shape=(1078,)\n",
      "[ 2018-04-25 00:33:02,864][cascade_classifier.fit_transform] group_dims=[1557]\n",
      "[ 2018-04-25 00:33:02,865][cascade_classifier.fit_transform] group_starts=[0]\n",
      "[ 2018-04-25 00:33:02,867][cascade_classifier.fit_transform] group_ends=[1557]\n",
      "[ 2018-04-25 00:33:02,868][cascade_classifier.fit_transform] X_train.shape=(2186, 1557),X_test.shape=(1078, 1557)\n",
      "[ 2018-04-25 00:33:02,889][cascade_classifier.fit_transform] [layer=0] look_indexs=[0], X_cur_train.shape=(2186, 1557), X_cur_test.shape=(1078, 1557)\n"
     ]
    },
    {
     "name": "stdout",
     "output_type": "stream",
     "text": [
      "('Test Accuracy of ExtraTrees = 96.753247 %', 6, 'fois')\n"
     ]
    },
    {
     "name": "stderr",
     "output_type": "stream",
     "text": [
      "[ 2018-04-25 00:33:03,622][kfold_wrapper.log_eval_metrics] Accuracy(layer_0 - estimator_0 - 10_folds.train_0.predict)=97.26%\n",
      "[ 2018-04-25 00:33:04,397][kfold_wrapper.log_eval_metrics] Accuracy(layer_0 - estimator_0 - 10_folds.train_1.predict)=97.26%\n",
      "[ 2018-04-25 00:33:05,175][kfold_wrapper.log_eval_metrics] Accuracy(layer_0 - estimator_0 - 10_folds.train_2.predict)=95.89%\n",
      "[ 2018-04-25 00:33:05,943][kfold_wrapper.log_eval_metrics] Accuracy(layer_0 - estimator_0 - 10_folds.train_3.predict)=97.72%\n",
      "[ 2018-04-25 00:33:06,699][kfold_wrapper.log_eval_metrics] Accuracy(layer_0 - estimator_0 - 10_folds.train_4.predict)=97.26%\n",
      "[ 2018-04-25 00:33:07,478][kfold_wrapper.log_eval_metrics] Accuracy(layer_0 - estimator_0 - 10_folds.train_5.predict)=98.17%\n",
      "[ 2018-04-25 00:33:08,256][kfold_wrapper.log_eval_metrics] Accuracy(layer_0 - estimator_0 - 10_folds.train_6.predict)=96.80%\n",
      "[ 2018-04-25 00:33:09,283][kfold_wrapper.log_eval_metrics] Accuracy(layer_0 - estimator_0 - 10_folds.train_7.predict)=97.71%\n",
      "[ 2018-04-25 00:33:10,180][kfold_wrapper.log_eval_metrics] Accuracy(layer_0 - estimator_0 - 10_folds.train_8.predict)=98.17%\n",
      "[ 2018-04-25 00:33:10,954][kfold_wrapper.log_eval_metrics] Accuracy(layer_0 - estimator_0 - 10_folds.train_9.predict)=96.31%\n",
      "[ 2018-04-25 00:33:11,103][kfold_wrapper.log_eval_metrics] Accuracy(layer_0 - estimator_0 - 10_folds.train_cv.predict)=97.26%\n",
      "[ 2018-04-25 00:33:11,105][kfold_wrapper.log_eval_metrics] Accuracy(layer_0 - estimator_0 - 10_folds.test.predict)=96.66%\n",
      "[ 2018-04-25 00:33:11,113][cascade_classifier.calc_accuracy] Accuracy(layer_0 - train.classifier_average)=97.26%\n",
      "[ 2018-04-25 00:33:11,114][cascade_classifier.calc_accuracy] Accuracy(layer_0 - test.classifier_average)=96.66%\n",
      "[ 2018-04-25 00:33:11,116][cascade_classifier.fit_transform] [Result][Reach Max Layer] opt_layer_num=1, accuracy_train=97.26%, accuracy_test=96.66%\n",
      "[ 2018-04-25 00:33:11,119][cascade_classifier.transform] X_groups_test.shape=[(1078, 1557)]\n",
      "[ 2018-04-25 00:33:11,129][cascade_classifier.transform] group_dims=[1557]\n",
      "[ 2018-04-25 00:33:11,131][cascade_classifier.transform] X_test.shape=(1078, 1557)\n",
      "[ 2018-04-25 00:33:11,138][cascade_classifier.transform] [layer=0] look_indexs=[0], X_cur_test.shape=(1078, 1557)\n",
      "[ 2018-04-25 00:33:12,754][cascade_classifier.fit_transform] X_groups_train.shape=[(2186, 1557)],y_train.shape=(2186,),X_groups_test.shape=[(1078, 1557)],y_test.shape=(1078,)\n",
      "[ 2018-04-25 00:33:12,773][cascade_classifier.fit_transform] group_dims=[1557]\n",
      "[ 2018-04-25 00:33:12,774][cascade_classifier.fit_transform] group_starts=[0]\n",
      "[ 2018-04-25 00:33:12,776][cascade_classifier.fit_transform] group_ends=[1557]\n",
      "[ 2018-04-25 00:33:12,778][cascade_classifier.fit_transform] X_train.shape=(2186, 1557),X_test.shape=(1078, 1557)\n",
      "[ 2018-04-25 00:33:12,799][cascade_classifier.fit_transform] [layer=0] look_indexs=[0], X_cur_train.shape=(2186, 1557), X_cur_test.shape=(1078, 1557)\n"
     ]
    },
    {
     "name": "stdout",
     "output_type": "stream",
     "text": [
      "('Test Accuracy of ExtraTrees = 96.660482 %', 7, 'fois')\n"
     ]
    },
    {
     "name": "stderr",
     "output_type": "stream",
     "text": [
      "[ 2018-04-25 00:33:13,408][kfold_wrapper.log_eval_metrics] Accuracy(layer_0 - estimator_0 - 10_folds.train_0.predict)=97.26%\n",
      "[ 2018-04-25 00:33:14,151][kfold_wrapper.log_eval_metrics] Accuracy(layer_0 - estimator_0 - 10_folds.train_1.predict)=97.26%\n",
      "[ 2018-04-25 00:33:14,906][kfold_wrapper.log_eval_metrics] Accuracy(layer_0 - estimator_0 - 10_folds.train_2.predict)=95.43%\n",
      "[ 2018-04-25 00:33:15,765][kfold_wrapper.log_eval_metrics] Accuracy(layer_0 - estimator_0 - 10_folds.train_3.predict)=97.26%\n",
      "[ 2018-04-25 00:33:16,551][kfold_wrapper.log_eval_metrics] Accuracy(layer_0 - estimator_0 - 10_folds.train_4.predict)=97.72%\n",
      "[ 2018-04-25 00:33:17,292][kfold_wrapper.log_eval_metrics] Accuracy(layer_0 - estimator_0 - 10_folds.train_5.predict)=98.17%\n",
      "[ 2018-04-25 00:33:18,038][kfold_wrapper.log_eval_metrics] Accuracy(layer_0 - estimator_0 - 10_folds.train_6.predict)=97.26%\n",
      "[ 2018-04-25 00:33:18,817][kfold_wrapper.log_eval_metrics] Accuracy(layer_0 - estimator_0 - 10_folds.train_7.predict)=97.25%\n",
      "[ 2018-04-25 00:33:19,584][kfold_wrapper.log_eval_metrics] Accuracy(layer_0 - estimator_0 - 10_folds.train_8.predict)=98.62%\n",
      "[ 2018-04-25 00:33:20,361][kfold_wrapper.log_eval_metrics] Accuracy(layer_0 - estimator_0 - 10_folds.train_9.predict)=96.31%\n",
      "[ 2018-04-25 00:33:20,511][kfold_wrapper.log_eval_metrics] Accuracy(layer_0 - estimator_0 - 10_folds.train_cv.predict)=97.26%\n",
      "[ 2018-04-25 00:33:20,513][kfold_wrapper.log_eval_metrics] Accuracy(layer_0 - estimator_0 - 10_folds.test.predict)=96.85%\n",
      "[ 2018-04-25 00:33:20,519][cascade_classifier.calc_accuracy] Accuracy(layer_0 - train.classifier_average)=97.26%\n",
      "[ 2018-04-25 00:33:20,521][cascade_classifier.calc_accuracy] Accuracy(layer_0 - test.classifier_average)=96.85%\n",
      "[ 2018-04-25 00:33:20,522][cascade_classifier.fit_transform] [Result][Reach Max Layer] opt_layer_num=1, accuracy_train=97.26%, accuracy_test=96.85%\n",
      "[ 2018-04-25 00:33:20,526][cascade_classifier.transform] X_groups_test.shape=[(1078, 1557)]\n",
      "[ 2018-04-25 00:33:20,536][cascade_classifier.transform] group_dims=[1557]\n",
      "[ 2018-04-25 00:33:20,537][cascade_classifier.transform] X_test.shape=(1078, 1557)\n",
      "[ 2018-04-25 00:33:20,546][cascade_classifier.transform] [layer=0] look_indexs=[0], X_cur_test.shape=(1078, 1557)\n",
      "[ 2018-04-25 00:33:22,111][cascade_classifier.fit_transform] X_groups_train.shape=[(2186, 1557)],y_train.shape=(2186,),X_groups_test.shape=[(1078, 1557)],y_test.shape=(1078,)\n",
      "[ 2018-04-25 00:33:22,130][cascade_classifier.fit_transform] group_dims=[1557]\n",
      "[ 2018-04-25 00:33:22,132][cascade_classifier.fit_transform] group_starts=[0]\n",
      "[ 2018-04-25 00:33:22,134][cascade_classifier.fit_transform] group_ends=[1557]\n",
      "[ 2018-04-25 00:33:22,136][cascade_classifier.fit_transform] X_train.shape=(2186, 1557),X_test.shape=(1078, 1557)\n",
      "[ 2018-04-25 00:33:22,156][cascade_classifier.fit_transform] [layer=0] look_indexs=[0], X_cur_train.shape=(2186, 1557), X_cur_test.shape=(1078, 1557)\n"
     ]
    },
    {
     "name": "stdout",
     "output_type": "stream",
     "text": [
      "('Test Accuracy of ExtraTrees = 96.846011 %', 8, 'fois')\n"
     ]
    },
    {
     "name": "stderr",
     "output_type": "stream",
     "text": [
      "[ 2018-04-25 00:33:22,763][kfold_wrapper.log_eval_metrics] Accuracy(layer_0 - estimator_0 - 10_folds.train_0.predict)=97.26%\n",
      "[ 2018-04-25 00:33:23,595][kfold_wrapper.log_eval_metrics] Accuracy(layer_0 - estimator_0 - 10_folds.train_1.predict)=97.72%\n",
      "[ 2018-04-25 00:33:24,343][kfold_wrapper.log_eval_metrics] Accuracy(layer_0 - estimator_0 - 10_folds.train_2.predict)=95.89%\n",
      "[ 2018-04-25 00:33:25,142][kfold_wrapper.log_eval_metrics] Accuracy(layer_0 - estimator_0 - 10_folds.train_3.predict)=97.72%\n",
      "[ 2018-04-25 00:33:26,087][kfold_wrapper.log_eval_metrics] Accuracy(layer_0 - estimator_0 - 10_folds.train_4.predict)=96.80%\n",
      "[ 2018-04-25 00:33:26,857][kfold_wrapper.log_eval_metrics] Accuracy(layer_0 - estimator_0 - 10_folds.train_5.predict)=98.17%\n",
      "[ 2018-04-25 00:33:27,633][kfold_wrapper.log_eval_metrics] Accuracy(layer_0 - estimator_0 - 10_folds.train_6.predict)=96.35%\n",
      "[ 2018-04-25 00:33:28,502][kfold_wrapper.log_eval_metrics] Accuracy(layer_0 - estimator_0 - 10_folds.train_7.predict)=97.25%\n",
      "[ 2018-04-25 00:33:29,271][kfold_wrapper.log_eval_metrics] Accuracy(layer_0 - estimator_0 - 10_folds.train_8.predict)=98.17%\n",
      "[ 2018-04-25 00:33:30,025][kfold_wrapper.log_eval_metrics] Accuracy(layer_0 - estimator_0 - 10_folds.train_9.predict)=97.24%\n",
      "[ 2018-04-25 00:33:30,166][kfold_wrapper.log_eval_metrics] Accuracy(layer_0 - estimator_0 - 10_folds.train_cv.predict)=97.26%\n",
      "[ 2018-04-25 00:33:30,168][kfold_wrapper.log_eval_metrics] Accuracy(layer_0 - estimator_0 - 10_folds.test.predict)=96.85%\n",
      "[ 2018-04-25 00:33:30,177][cascade_classifier.calc_accuracy] Accuracy(layer_0 - train.classifier_average)=97.26%\n",
      "[ 2018-04-25 00:33:30,178][cascade_classifier.calc_accuracy] Accuracy(layer_0 - test.classifier_average)=96.85%\n",
      "[ 2018-04-25 00:33:30,179][cascade_classifier.fit_transform] [Result][Reach Max Layer] opt_layer_num=1, accuracy_train=97.26%, accuracy_test=96.85%\n",
      "[ 2018-04-25 00:33:30,183][cascade_classifier.transform] X_groups_test.shape=[(1078, 1557)]\n",
      "[ 2018-04-25 00:33:30,193][cascade_classifier.transform] group_dims=[1557]\n",
      "[ 2018-04-25 00:33:30,194][cascade_classifier.transform] X_test.shape=(1078, 1557)\n",
      "[ 2018-04-25 00:33:30,202][cascade_classifier.transform] [layer=0] look_indexs=[0], X_cur_test.shape=(1078, 1557)\n",
      "[ 2018-04-25 00:33:31,788][cascade_classifier.fit_transform] X_groups_train.shape=[(2186, 1557)],y_train.shape=(2186,),X_groups_test.shape=[(1078, 1557)],y_test.shape=(1078,)\n",
      "[ 2018-04-25 00:33:31,804][cascade_classifier.fit_transform] group_dims=[1557]\n",
      "[ 2018-04-25 00:33:31,806][cascade_classifier.fit_transform] group_starts=[0]\n",
      "[ 2018-04-25 00:33:31,807][cascade_classifier.fit_transform] group_ends=[1557]\n",
      "[ 2018-04-25 00:33:31,809][cascade_classifier.fit_transform] X_train.shape=(2186, 1557),X_test.shape=(1078, 1557)\n",
      "[ 2018-04-25 00:33:31,828][cascade_classifier.fit_transform] [layer=0] look_indexs=[0], X_cur_train.shape=(2186, 1557), X_cur_test.shape=(1078, 1557)\n"
     ]
    },
    {
     "name": "stdout",
     "output_type": "stream",
     "text": [
      "('Test Accuracy of ExtraTrees = 96.846011 %', 9, 'fois')\n"
     ]
    },
    {
     "name": "stderr",
     "output_type": "stream",
     "text": [
      "[ 2018-04-25 00:33:32,457][kfold_wrapper.log_eval_metrics] Accuracy(layer_0 - estimator_0 - 10_folds.train_0.predict)=97.26%\n",
      "[ 2018-04-25 00:33:33,212][kfold_wrapper.log_eval_metrics] Accuracy(layer_0 - estimator_0 - 10_folds.train_1.predict)=96.80%\n",
      "[ 2018-04-25 00:33:33,974][kfold_wrapper.log_eval_metrics] Accuracy(layer_0 - estimator_0 - 10_folds.train_2.predict)=95.89%\n",
      "[ 2018-04-25 00:33:34,732][kfold_wrapper.log_eval_metrics] Accuracy(layer_0 - estimator_0 - 10_folds.train_3.predict)=97.72%\n",
      "[ 2018-04-25 00:33:35,485][kfold_wrapper.log_eval_metrics] Accuracy(layer_0 - estimator_0 - 10_folds.train_4.predict)=97.26%\n",
      "[ 2018-04-25 00:33:36,267][kfold_wrapper.log_eval_metrics] Accuracy(layer_0 - estimator_0 - 10_folds.train_5.predict)=98.63%\n",
      "[ 2018-04-25 00:33:37,032][kfold_wrapper.log_eval_metrics] Accuracy(layer_0 - estimator_0 - 10_folds.train_6.predict)=97.26%\n",
      "[ 2018-04-25 00:33:37,798][kfold_wrapper.log_eval_metrics] Accuracy(layer_0 - estimator_0 - 10_folds.train_7.predict)=97.25%\n",
      "[ 2018-04-25 00:33:38,552][kfold_wrapper.log_eval_metrics] Accuracy(layer_0 - estimator_0 - 10_folds.train_8.predict)=98.62%\n",
      "[ 2018-04-25 00:33:39,310][kfold_wrapper.log_eval_metrics] Accuracy(layer_0 - estimator_0 - 10_folds.train_9.predict)=96.31%\n",
      "[ 2018-04-25 00:33:39,461][kfold_wrapper.log_eval_metrics] Accuracy(layer_0 - estimator_0 - 10_folds.train_cv.predict)=97.30%\n",
      "[ 2018-04-25 00:33:39,463][kfold_wrapper.log_eval_metrics] Accuracy(layer_0 - estimator_0 - 10_folds.test.predict)=96.38%\n",
      "[ 2018-04-25 00:33:39,468][cascade_classifier.calc_accuracy] Accuracy(layer_0 - train.classifier_average)=97.30%\n",
      "[ 2018-04-25 00:33:39,470][cascade_classifier.calc_accuracy] Accuracy(layer_0 - test.classifier_average)=96.38%\n",
      "[ 2018-04-25 00:33:39,472][cascade_classifier.fit_transform] [Result][Reach Max Layer] opt_layer_num=1, accuracy_train=97.30%, accuracy_test=96.38%\n",
      "[ 2018-04-25 00:33:39,475][cascade_classifier.transform] X_groups_test.shape=[(1078, 1557)]\n",
      "[ 2018-04-25 00:33:39,485][cascade_classifier.transform] group_dims=[1557]\n",
      "[ 2018-04-25 00:33:39,487][cascade_classifier.transform] X_test.shape=(1078, 1557)\n",
      "[ 2018-04-25 00:33:39,495][cascade_classifier.transform] [layer=0] look_indexs=[0], X_cur_test.shape=(1078, 1557)\n",
      "[ 2018-04-25 00:33:41,172][cascade_classifier.fit_transform] X_groups_train.shape=[(2186, 1557)],y_train.shape=(2186,),X_groups_test.shape=[(1078, 1557)],y_test.shape=(1078,)\n",
      "[ 2018-04-25 00:33:41,191][cascade_classifier.fit_transform] group_dims=[1557]\n",
      "[ 2018-04-25 00:33:41,193][cascade_classifier.fit_transform] group_starts=[0]\n",
      "[ 2018-04-25 00:33:41,195][cascade_classifier.fit_transform] group_ends=[1557]\n",
      "[ 2018-04-25 00:33:41,197][cascade_classifier.fit_transform] X_train.shape=(2186, 1557),X_test.shape=(1078, 1557)\n",
      "[ 2018-04-25 00:33:41,218][cascade_classifier.fit_transform] [layer=0] look_indexs=[0], X_cur_train.shape=(2186, 1557), X_cur_test.shape=(1078, 1557)\n"
     ]
    },
    {
     "name": "stdout",
     "output_type": "stream",
     "text": [
      "('Test Accuracy of ExtraTrees = 96.382189 %', 10, 'fois')\n"
     ]
    },
    {
     "name": "stderr",
     "output_type": "stream",
     "text": [
      "[ 2018-04-25 00:33:41,823][kfold_wrapper.log_eval_metrics] Accuracy(layer_0 - estimator_0 - 10_folds.train_0.predict)=97.26%\n",
      "[ 2018-04-25 00:33:42,632][kfold_wrapper.log_eval_metrics] Accuracy(layer_0 - estimator_0 - 10_folds.train_1.predict)=96.80%\n",
      "[ 2018-04-25 00:33:43,403][kfold_wrapper.log_eval_metrics] Accuracy(layer_0 - estimator_0 - 10_folds.train_2.predict)=96.35%\n",
      "[ 2018-04-25 00:33:44,157][kfold_wrapper.log_eval_metrics] Accuracy(layer_0 - estimator_0 - 10_folds.train_3.predict)=97.26%\n",
      "[ 2018-04-25 00:33:44,926][kfold_wrapper.log_eval_metrics] Accuracy(layer_0 - estimator_0 - 10_folds.train_4.predict)=97.26%\n",
      "[ 2018-04-25 00:33:45,712][kfold_wrapper.log_eval_metrics] Accuracy(layer_0 - estimator_0 - 10_folds.train_5.predict)=97.72%\n",
      "[ 2018-04-25 00:33:46,427][kfold_wrapper.log_eval_metrics] Accuracy(layer_0 - estimator_0 - 10_folds.train_6.predict)=96.80%\n",
      "[ 2018-04-25 00:33:47,210][kfold_wrapper.log_eval_metrics] Accuracy(layer_0 - estimator_0 - 10_folds.train_7.predict)=97.25%\n",
      "[ 2018-04-25 00:33:48,019][kfold_wrapper.log_eval_metrics] Accuracy(layer_0 - estimator_0 - 10_folds.train_8.predict)=98.62%\n",
      "[ 2018-04-25 00:33:48,917][kfold_wrapper.log_eval_metrics] Accuracy(layer_0 - estimator_0 - 10_folds.train_9.predict)=97.24%\n",
      "[ 2018-04-25 00:33:49,064][kfold_wrapper.log_eval_metrics] Accuracy(layer_0 - estimator_0 - 10_folds.train_cv.predict)=97.26%\n",
      "[ 2018-04-25 00:33:49,066][kfold_wrapper.log_eval_metrics] Accuracy(layer_0 - estimator_0 - 10_folds.test.predict)=96.85%\n",
      "[ 2018-04-25 00:33:49,079][cascade_classifier.calc_accuracy] Accuracy(layer_0 - train.classifier_average)=97.26%\n",
      "[ 2018-04-25 00:33:49,081][cascade_classifier.calc_accuracy] Accuracy(layer_0 - test.classifier_average)=96.85%\n",
      "[ 2018-04-25 00:33:49,083][cascade_classifier.fit_transform] [Result][Reach Max Layer] opt_layer_num=1, accuracy_train=97.26%, accuracy_test=96.85%\n",
      "[ 2018-04-25 00:33:49,087][cascade_classifier.transform] X_groups_test.shape=[(1078, 1557)]\n",
      "[ 2018-04-25 00:33:49,098][cascade_classifier.transform] group_dims=[1557]\n",
      "[ 2018-04-25 00:33:49,100][cascade_classifier.transform] X_test.shape=(1078, 1557)\n",
      "[ 2018-04-25 00:33:49,108][cascade_classifier.transform] [layer=0] look_indexs=[0], X_cur_test.shape=(1078, 1557)\n",
      "[ 2018-04-25 00:33:50,894][cascade_classifier.fit_transform] X_groups_train.shape=[(2186, 1557)],y_train.shape=(2186,),X_groups_test.shape=[(1078, 1557)],y_test.shape=(1078,)\n",
      "[ 2018-04-25 00:33:50,916][cascade_classifier.fit_transform] group_dims=[1557]\n",
      "[ 2018-04-25 00:33:50,918][cascade_classifier.fit_transform] group_starts=[0]\n",
      "[ 2018-04-25 00:33:50,919][cascade_classifier.fit_transform] group_ends=[1557]\n",
      "[ 2018-04-25 00:33:50,921][cascade_classifier.fit_transform] X_train.shape=(2186, 1557),X_test.shape=(1078, 1557)\n",
      "[ 2018-04-25 00:33:50,942][cascade_classifier.fit_transform] [layer=0] look_indexs=[0], X_cur_train.shape=(2186, 1557), X_cur_test.shape=(1078, 1557)\n"
     ]
    },
    {
     "name": "stdout",
     "output_type": "stream",
     "text": [
      "('Test Accuracy of ExtraTrees = 96.846011 %', 11, 'fois')\n"
     ]
    },
    {
     "name": "stderr",
     "output_type": "stream",
     "text": [
      "[ 2018-04-25 00:33:51,548][kfold_wrapper.log_eval_metrics] Accuracy(layer_0 - estimator_0 - 10_folds.train_0.predict)=97.72%\n",
      "[ 2018-04-25 00:33:52,319][kfold_wrapper.log_eval_metrics] Accuracy(layer_0 - estimator_0 - 10_folds.train_1.predict)=97.72%\n",
      "[ 2018-04-25 00:33:53,115][kfold_wrapper.log_eval_metrics] Accuracy(layer_0 - estimator_0 - 10_folds.train_2.predict)=96.80%\n",
      "[ 2018-04-25 00:33:53,897][kfold_wrapper.log_eval_metrics] Accuracy(layer_0 - estimator_0 - 10_folds.train_3.predict)=97.26%\n",
      "[ 2018-04-25 00:33:54,695][kfold_wrapper.log_eval_metrics] Accuracy(layer_0 - estimator_0 - 10_folds.train_4.predict)=97.26%\n",
      "[ 2018-04-25 00:33:55,755][kfold_wrapper.log_eval_metrics] Accuracy(layer_0 - estimator_0 - 10_folds.train_5.predict)=97.72%\n",
      "[ 2018-04-25 00:33:56,554][kfold_wrapper.log_eval_metrics] Accuracy(layer_0 - estimator_0 - 10_folds.train_6.predict)=97.26%\n",
      "[ 2018-04-25 00:33:57,295][kfold_wrapper.log_eval_metrics] Accuracy(layer_0 - estimator_0 - 10_folds.train_7.predict)=97.25%\n",
      "[ 2018-04-25 00:33:58,082][kfold_wrapper.log_eval_metrics] Accuracy(layer_0 - estimator_0 - 10_folds.train_8.predict)=98.17%\n",
      "[ 2018-04-25 00:33:58,846][kfold_wrapper.log_eval_metrics] Accuracy(layer_0 - estimator_0 - 10_folds.train_9.predict)=96.31%\n",
      "[ 2018-04-25 00:33:58,992][kfold_wrapper.log_eval_metrics] Accuracy(layer_0 - estimator_0 - 10_folds.train_cv.predict)=97.35%\n",
      "[ 2018-04-25 00:33:58,993][kfold_wrapper.log_eval_metrics] Accuracy(layer_0 - estimator_0 - 10_folds.test.predict)=96.66%\n",
      "[ 2018-04-25 00:33:58,999][cascade_classifier.calc_accuracy] Accuracy(layer_0 - train.classifier_average)=97.35%\n",
      "[ 2018-04-25 00:33:59,000][cascade_classifier.calc_accuracy] Accuracy(layer_0 - test.classifier_average)=96.66%\n",
      "[ 2018-04-25 00:33:59,002][cascade_classifier.fit_transform] [Result][Reach Max Layer] opt_layer_num=1, accuracy_train=97.35%, accuracy_test=96.66%\n",
      "[ 2018-04-25 00:33:59,005][cascade_classifier.transform] X_groups_test.shape=[(1078, 1557)]\n",
      "[ 2018-04-25 00:33:59,014][cascade_classifier.transform] group_dims=[1557]\n",
      "[ 2018-04-25 00:33:59,016][cascade_classifier.transform] X_test.shape=(1078, 1557)\n",
      "[ 2018-04-25 00:33:59,024][cascade_classifier.transform] [layer=0] look_indexs=[0], X_cur_test.shape=(1078, 1557)\n",
      "[ 2018-04-25 00:34:00,704][cascade_classifier.fit_transform] X_groups_train.shape=[(2186, 1557)],y_train.shape=(2186,),X_groups_test.shape=[(1078, 1557)],y_test.shape=(1078,)\n",
      "[ 2018-04-25 00:34:00,723][cascade_classifier.fit_transform] group_dims=[1557]\n",
      "[ 2018-04-25 00:34:00,724][cascade_classifier.fit_transform] group_starts=[0]\n",
      "[ 2018-04-25 00:34:00,726][cascade_classifier.fit_transform] group_ends=[1557]\n",
      "[ 2018-04-25 00:34:00,728][cascade_classifier.fit_transform] X_train.shape=(2186, 1557),X_test.shape=(1078, 1557)\n",
      "[ 2018-04-25 00:34:00,749][cascade_classifier.fit_transform] [layer=0] look_indexs=[0], X_cur_train.shape=(2186, 1557), X_cur_test.shape=(1078, 1557)\n"
     ]
    },
    {
     "name": "stdout",
     "output_type": "stream",
     "text": [
      "('Test Accuracy of ExtraTrees = 96.660482 %', 12, 'fois')\n"
     ]
    },
    {
     "name": "stderr",
     "output_type": "stream",
     "text": [
      "[ 2018-04-25 00:34:01,382][kfold_wrapper.log_eval_metrics] Accuracy(layer_0 - estimator_0 - 10_folds.train_0.predict)=97.26%\n",
      "[ 2018-04-25 00:34:02,139][kfold_wrapper.log_eval_metrics] Accuracy(layer_0 - estimator_0 - 10_folds.train_1.predict)=96.80%\n",
      "[ 2018-04-25 00:34:02,931][kfold_wrapper.log_eval_metrics] Accuracy(layer_0 - estimator_0 - 10_folds.train_2.predict)=96.80%\n",
      "[ 2018-04-25 00:34:03,724][kfold_wrapper.log_eval_metrics] Accuracy(layer_0 - estimator_0 - 10_folds.train_3.predict)=97.26%\n",
      "[ 2018-04-25 00:34:04,479][kfold_wrapper.log_eval_metrics] Accuracy(layer_0 - estimator_0 - 10_folds.train_4.predict)=97.26%\n",
      "[ 2018-04-25 00:34:05,362][kfold_wrapper.log_eval_metrics] Accuracy(layer_0 - estimator_0 - 10_folds.train_5.predict)=97.26%\n",
      "[ 2018-04-25 00:34:06,130][kfold_wrapper.log_eval_metrics] Accuracy(layer_0 - estimator_0 - 10_folds.train_6.predict)=96.80%\n",
      "[ 2018-04-25 00:34:06,910][kfold_wrapper.log_eval_metrics] Accuracy(layer_0 - estimator_0 - 10_folds.train_7.predict)=98.17%\n",
      "[ 2018-04-25 00:34:07,693][kfold_wrapper.log_eval_metrics] Accuracy(layer_0 - estimator_0 - 10_folds.train_8.predict)=98.62%\n",
      "[ 2018-04-25 00:34:08,458][kfold_wrapper.log_eval_metrics] Accuracy(layer_0 - estimator_0 - 10_folds.train_9.predict)=95.85%\n",
      "[ 2018-04-25 00:34:08,609][kfold_wrapper.log_eval_metrics] Accuracy(layer_0 - estimator_0 - 10_folds.train_cv.predict)=97.21%\n",
      "[ 2018-04-25 00:34:08,611][kfold_wrapper.log_eval_metrics] Accuracy(layer_0 - estimator_0 - 10_folds.test.predict)=96.75%\n",
      "[ 2018-04-25 00:34:08,616][cascade_classifier.calc_accuracy] Accuracy(layer_0 - train.classifier_average)=97.21%\n",
      "[ 2018-04-25 00:34:08,618][cascade_classifier.calc_accuracy] Accuracy(layer_0 - test.classifier_average)=96.75%\n",
      "[ 2018-04-25 00:34:08,619][cascade_classifier.fit_transform] [Result][Reach Max Layer] opt_layer_num=1, accuracy_train=97.21%, accuracy_test=96.75%\n",
      "[ 2018-04-25 00:34:08,623][cascade_classifier.transform] X_groups_test.shape=[(1078, 1557)]\n",
      "[ 2018-04-25 00:34:08,632][cascade_classifier.transform] group_dims=[1557]\n",
      "[ 2018-04-25 00:34:08,633][cascade_classifier.transform] X_test.shape=(1078, 1557)\n",
      "[ 2018-04-25 00:34:08,641][cascade_classifier.transform] [layer=0] look_indexs=[0], X_cur_test.shape=(1078, 1557)\n",
      "[ 2018-04-25 00:34:10,185][cascade_classifier.fit_transform] X_groups_train.shape=[(2186, 1557)],y_train.shape=(2186,),X_groups_test.shape=[(1078, 1557)],y_test.shape=(1078,)\n",
      "[ 2018-04-25 00:34:10,205][cascade_classifier.fit_transform] group_dims=[1557]\n",
      "[ 2018-04-25 00:34:10,207][cascade_classifier.fit_transform] group_starts=[0]\n",
      "[ 2018-04-25 00:34:10,209][cascade_classifier.fit_transform] group_ends=[1557]\n",
      "[ 2018-04-25 00:34:10,210][cascade_classifier.fit_transform] X_train.shape=(2186, 1557),X_test.shape=(1078, 1557)\n",
      "[ 2018-04-25 00:34:10,232][cascade_classifier.fit_transform] [layer=0] look_indexs=[0], X_cur_train.shape=(2186, 1557), X_cur_test.shape=(1078, 1557)\n"
     ]
    },
    {
     "name": "stdout",
     "output_type": "stream",
     "text": [
      "('Test Accuracy of ExtraTrees = 96.753247 %', 13, 'fois')\n"
     ]
    },
    {
     "name": "stderr",
     "output_type": "stream",
     "text": [
      "[ 2018-04-25 00:34:10,847][kfold_wrapper.log_eval_metrics] Accuracy(layer_0 - estimator_0 - 10_folds.train_0.predict)=97.72%\n",
      "[ 2018-04-25 00:34:11,650][kfold_wrapper.log_eval_metrics] Accuracy(layer_0 - estimator_0 - 10_folds.train_1.predict)=97.72%\n",
      "[ 2018-04-25 00:34:12,448][kfold_wrapper.log_eval_metrics] Accuracy(layer_0 - estimator_0 - 10_folds.train_2.predict)=96.35%\n",
      "[ 2018-04-25 00:34:13,226][kfold_wrapper.log_eval_metrics] Accuracy(layer_0 - estimator_0 - 10_folds.train_3.predict)=97.26%\n",
      "[ 2018-04-25 00:34:13,994][kfold_wrapper.log_eval_metrics] Accuracy(layer_0 - estimator_0 - 10_folds.train_4.predict)=97.26%\n",
      "[ 2018-04-25 00:34:14,779][kfold_wrapper.log_eval_metrics] Accuracy(layer_0 - estimator_0 - 10_folds.train_5.predict)=98.17%\n",
      "[ 2018-04-25 00:34:15,553][kfold_wrapper.log_eval_metrics] Accuracy(layer_0 - estimator_0 - 10_folds.train_6.predict)=96.80%\n",
      "[ 2018-04-25 00:34:16,314][kfold_wrapper.log_eval_metrics] Accuracy(layer_0 - estimator_0 - 10_folds.train_7.predict)=97.25%\n",
      "[ 2018-04-25 00:34:17,076][kfold_wrapper.log_eval_metrics] Accuracy(layer_0 - estimator_0 - 10_folds.train_8.predict)=98.17%\n",
      "[ 2018-04-25 00:34:17,836][kfold_wrapper.log_eval_metrics] Accuracy(layer_0 - estimator_0 - 10_folds.train_9.predict)=97.24%\n",
      "[ 2018-04-25 00:34:17,975][kfold_wrapper.log_eval_metrics] Accuracy(layer_0 - estimator_0 - 10_folds.train_cv.predict)=97.39%\n",
      "[ 2018-04-25 00:34:17,977][kfold_wrapper.log_eval_metrics] Accuracy(layer_0 - estimator_0 - 10_folds.test.predict)=96.85%\n",
      "[ 2018-04-25 00:34:17,982][cascade_classifier.calc_accuracy] Accuracy(layer_0 - train.classifier_average)=97.39%\n",
      "[ 2018-04-25 00:34:17,984][cascade_classifier.calc_accuracy] Accuracy(layer_0 - test.classifier_average)=96.85%\n",
      "[ 2018-04-25 00:34:17,986][cascade_classifier.fit_transform] [Result][Reach Max Layer] opt_layer_num=1, accuracy_train=97.39%, accuracy_test=96.85%\n",
      "[ 2018-04-25 00:34:17,989][cascade_classifier.transform] X_groups_test.shape=[(1078, 1557)]\n",
      "[ 2018-04-25 00:34:18,000][cascade_classifier.transform] group_dims=[1557]\n",
      "[ 2018-04-25 00:34:18,001][cascade_classifier.transform] X_test.shape=(1078, 1557)\n",
      "[ 2018-04-25 00:34:18,009][cascade_classifier.transform] [layer=0] look_indexs=[0], X_cur_test.shape=(1078, 1557)\n",
      "[ 2018-04-25 00:34:19,585][cascade_classifier.fit_transform] X_groups_train.shape=[(2186, 1557)],y_train.shape=(2186,),X_groups_test.shape=[(1078, 1557)],y_test.shape=(1078,)\n",
      "[ 2018-04-25 00:34:19,601][cascade_classifier.fit_transform] group_dims=[1557]\n",
      "[ 2018-04-25 00:34:19,603][cascade_classifier.fit_transform] group_starts=[0]\n",
      "[ 2018-04-25 00:34:19,604][cascade_classifier.fit_transform] group_ends=[1557]\n",
      "[ 2018-04-25 00:34:19,606][cascade_classifier.fit_transform] X_train.shape=(2186, 1557),X_test.shape=(1078, 1557)\n",
      "[ 2018-04-25 00:34:19,625][cascade_classifier.fit_transform] [layer=0] look_indexs=[0], X_cur_train.shape=(2186, 1557), X_cur_test.shape=(1078, 1557)\n"
     ]
    },
    {
     "name": "stdout",
     "output_type": "stream",
     "text": [
      "('Test Accuracy of ExtraTrees = 96.846011 %', 14, 'fois')\n"
     ]
    },
    {
     "name": "stderr",
     "output_type": "stream",
     "text": [
      "[ 2018-04-25 00:34:20,214][kfold_wrapper.log_eval_metrics] Accuracy(layer_0 - estimator_0 - 10_folds.train_0.predict)=97.26%\n",
      "[ 2018-04-25 00:34:21,002][kfold_wrapper.log_eval_metrics] Accuracy(layer_0 - estimator_0 - 10_folds.train_1.predict)=97.72%\n",
      "[ 2018-04-25 00:34:21,952][kfold_wrapper.log_eval_metrics] Accuracy(layer_0 - estimator_0 - 10_folds.train_2.predict)=97.26%\n",
      "[ 2018-04-25 00:34:22,762][kfold_wrapper.log_eval_metrics] Accuracy(layer_0 - estimator_0 - 10_folds.train_3.predict)=97.26%\n",
      "[ 2018-04-25 00:34:23,489][kfold_wrapper.log_eval_metrics] Accuracy(layer_0 - estimator_0 - 10_folds.train_4.predict)=97.26%\n",
      "[ 2018-04-25 00:34:24,281][kfold_wrapper.log_eval_metrics] Accuracy(layer_0 - estimator_0 - 10_folds.train_5.predict)=98.63%\n",
      "[ 2018-04-25 00:34:25,174][kfold_wrapper.log_eval_metrics] Accuracy(layer_0 - estimator_0 - 10_folds.train_6.predict)=96.80%\n",
      "[ 2018-04-25 00:34:26,049][kfold_wrapper.log_eval_metrics] Accuracy(layer_0 - estimator_0 - 10_folds.train_7.predict)=98.17%\n",
      "[ 2018-04-25 00:34:26,850][kfold_wrapper.log_eval_metrics] Accuracy(layer_0 - estimator_0 - 10_folds.train_8.predict)=98.62%\n",
      "[ 2018-04-25 00:34:27,724][kfold_wrapper.log_eval_metrics] Accuracy(layer_0 - estimator_0 - 10_folds.train_9.predict)=96.31%\n",
      "[ 2018-04-25 00:34:27,872][kfold_wrapper.log_eval_metrics] Accuracy(layer_0 - estimator_0 - 10_folds.train_cv.predict)=97.53%\n",
      "[ 2018-04-25 00:34:27,874][kfold_wrapper.log_eval_metrics] Accuracy(layer_0 - estimator_0 - 10_folds.test.predict)=96.85%\n",
      "[ 2018-04-25 00:34:27,884][cascade_classifier.calc_accuracy] Accuracy(layer_0 - train.classifier_average)=97.53%\n",
      "[ 2018-04-25 00:34:27,886][cascade_classifier.calc_accuracy] Accuracy(layer_0 - test.classifier_average)=96.85%\n",
      "[ 2018-04-25 00:34:27,888][cascade_classifier.fit_transform] [Result][Reach Max Layer] opt_layer_num=1, accuracy_train=97.53%, accuracy_test=96.85%\n",
      "[ 2018-04-25 00:34:27,891][cascade_classifier.transform] X_groups_test.shape=[(1078, 1557)]\n",
      "[ 2018-04-25 00:34:27,902][cascade_classifier.transform] group_dims=[1557]\n",
      "[ 2018-04-25 00:34:27,904][cascade_classifier.transform] X_test.shape=(1078, 1557)\n",
      "[ 2018-04-25 00:34:27,912][cascade_classifier.transform] [layer=0] look_indexs=[0], X_cur_test.shape=(1078, 1557)\n",
      "[ 2018-04-25 00:34:29,529][cascade_classifier.fit_transform] X_groups_train.shape=[(2186, 1557)],y_train.shape=(2186,),X_groups_test.shape=[(1078, 1557)],y_test.shape=(1078,)\n",
      "[ 2018-04-25 00:34:29,547][cascade_classifier.fit_transform] group_dims=[1557]\n",
      "[ 2018-04-25 00:34:29,549][cascade_classifier.fit_transform] group_starts=[0]\n",
      "[ 2018-04-25 00:34:29,550][cascade_classifier.fit_transform] group_ends=[1557]\n",
      "[ 2018-04-25 00:34:29,552][cascade_classifier.fit_transform] X_train.shape=(2186, 1557),X_test.shape=(1078, 1557)\n",
      "[ 2018-04-25 00:34:29,573][cascade_classifier.fit_transform] [layer=0] look_indexs=[0], X_cur_train.shape=(2186, 1557), X_cur_test.shape=(1078, 1557)\n"
     ]
    },
    {
     "name": "stdout",
     "output_type": "stream",
     "text": [
      "('Test Accuracy of ExtraTrees = 96.846011 %', 15, 'fois')\n"
     ]
    },
    {
     "name": "stderr",
     "output_type": "stream",
     "text": [
      "[ 2018-04-25 00:34:30,290][kfold_wrapper.log_eval_metrics] Accuracy(layer_0 - estimator_0 - 10_folds.train_0.predict)=97.26%\n",
      "[ 2018-04-25 00:34:31,052][kfold_wrapper.log_eval_metrics] Accuracy(layer_0 - estimator_0 - 10_folds.train_1.predict)=96.80%\n",
      "[ 2018-04-25 00:34:31,803][kfold_wrapper.log_eval_metrics] Accuracy(layer_0 - estimator_0 - 10_folds.train_2.predict)=96.35%\n",
      "[ 2018-04-25 00:34:32,645][kfold_wrapper.log_eval_metrics] Accuracy(layer_0 - estimator_0 - 10_folds.train_3.predict)=97.26%\n",
      "[ 2018-04-25 00:34:33,386][kfold_wrapper.log_eval_metrics] Accuracy(layer_0 - estimator_0 - 10_folds.train_4.predict)=97.72%\n",
      "[ 2018-04-25 00:34:34,290][kfold_wrapper.log_eval_metrics] Accuracy(layer_0 - estimator_0 - 10_folds.train_5.predict)=98.17%\n",
      "[ 2018-04-25 00:34:35,212][kfold_wrapper.log_eval_metrics] Accuracy(layer_0 - estimator_0 - 10_folds.train_6.predict)=96.80%\n",
      "[ 2018-04-25 00:34:36,131][kfold_wrapper.log_eval_metrics] Accuracy(layer_0 - estimator_0 - 10_folds.train_7.predict)=98.17%\n",
      "[ 2018-04-25 00:34:36,879][kfold_wrapper.log_eval_metrics] Accuracy(layer_0 - estimator_0 - 10_folds.train_8.predict)=98.17%\n",
      "[ 2018-04-25 00:34:37,632][kfold_wrapper.log_eval_metrics] Accuracy(layer_0 - estimator_0 - 10_folds.train_9.predict)=96.31%\n",
      "[ 2018-04-25 00:34:37,785][kfold_wrapper.log_eval_metrics] Accuracy(layer_0 - estimator_0 - 10_folds.train_cv.predict)=97.30%\n",
      "[ 2018-04-25 00:34:37,787][kfold_wrapper.log_eval_metrics] Accuracy(layer_0 - estimator_0 - 10_folds.test.predict)=96.75%\n",
      "[ 2018-04-25 00:34:37,792][cascade_classifier.calc_accuracy] Accuracy(layer_0 - train.classifier_average)=97.30%\n",
      "[ 2018-04-25 00:34:37,794][cascade_classifier.calc_accuracy] Accuracy(layer_0 - test.classifier_average)=96.75%\n",
      "[ 2018-04-25 00:34:37,796][cascade_classifier.fit_transform] [Result][Reach Max Layer] opt_layer_num=1, accuracy_train=97.30%, accuracy_test=96.75%\n",
      "[ 2018-04-25 00:34:37,800][cascade_classifier.transform] X_groups_test.shape=[(1078, 1557)]\n",
      "[ 2018-04-25 00:34:37,809][cascade_classifier.transform] group_dims=[1557]\n",
      "[ 2018-04-25 00:34:37,811][cascade_classifier.transform] X_test.shape=(1078, 1557)\n",
      "[ 2018-04-25 00:34:37,819][cascade_classifier.transform] [layer=0] look_indexs=[0], X_cur_test.shape=(1078, 1557)\n",
      "[ 2018-04-25 00:34:39,390][cascade_classifier.fit_transform] X_groups_train.shape=[(2186, 1557)],y_train.shape=(2186,),X_groups_test.shape=[(1078, 1557)],y_test.shape=(1078,)\n",
      "[ 2018-04-25 00:34:39,409][cascade_classifier.fit_transform] group_dims=[1557]\n",
      "[ 2018-04-25 00:34:39,411][cascade_classifier.fit_transform] group_starts=[0]\n",
      "[ 2018-04-25 00:34:39,412][cascade_classifier.fit_transform] group_ends=[1557]\n",
      "[ 2018-04-25 00:34:39,414][cascade_classifier.fit_transform] X_train.shape=(2186, 1557),X_test.shape=(1078, 1557)\n",
      "[ 2018-04-25 00:34:39,436][cascade_classifier.fit_transform] [layer=0] look_indexs=[0], X_cur_train.shape=(2186, 1557), X_cur_test.shape=(1078, 1557)\n"
     ]
    },
    {
     "name": "stdout",
     "output_type": "stream",
     "text": [
      "('Test Accuracy of ExtraTrees = 96.753247 %', 16, 'fois')\n"
     ]
    },
    {
     "name": "stderr",
     "output_type": "stream",
     "text": [
      "[ 2018-04-25 00:34:40,047][kfold_wrapper.log_eval_metrics] Accuracy(layer_0 - estimator_0 - 10_folds.train_0.predict)=97.26%\n",
      "[ 2018-04-25 00:34:40,816][kfold_wrapper.log_eval_metrics] Accuracy(layer_0 - estimator_0 - 10_folds.train_1.predict)=97.26%\n",
      "[ 2018-04-25 00:34:41,618][kfold_wrapper.log_eval_metrics] Accuracy(layer_0 - estimator_0 - 10_folds.train_2.predict)=96.80%\n",
      "[ 2018-04-25 00:34:42,358][kfold_wrapper.log_eval_metrics] Accuracy(layer_0 - estimator_0 - 10_folds.train_3.predict)=97.26%\n",
      "[ 2018-04-25 00:34:43,108][kfold_wrapper.log_eval_metrics] Accuracy(layer_0 - estimator_0 - 10_folds.train_4.predict)=97.26%\n",
      "[ 2018-04-25 00:34:43,948][kfold_wrapper.log_eval_metrics] Accuracy(layer_0 - estimator_0 - 10_folds.train_5.predict)=97.72%\n",
      "[ 2018-04-25 00:34:44,925][kfold_wrapper.log_eval_metrics] Accuracy(layer_0 - estimator_0 - 10_folds.train_6.predict)=96.80%\n",
      "[ 2018-04-25 00:34:45,721][kfold_wrapper.log_eval_metrics] Accuracy(layer_0 - estimator_0 - 10_folds.train_7.predict)=97.71%\n",
      "[ 2018-04-25 00:34:46,500][kfold_wrapper.log_eval_metrics] Accuracy(layer_0 - estimator_0 - 10_folds.train_8.predict)=98.62%\n",
      "[ 2018-04-25 00:34:47,266][kfold_wrapper.log_eval_metrics] Accuracy(layer_0 - estimator_0 - 10_folds.train_9.predict)=96.31%\n",
      "[ 2018-04-25 00:34:47,420][kfold_wrapper.log_eval_metrics] Accuracy(layer_0 - estimator_0 - 10_folds.train_cv.predict)=97.30%\n",
      "[ 2018-04-25 00:34:47,422][kfold_wrapper.log_eval_metrics] Accuracy(layer_0 - estimator_0 - 10_folds.test.predict)=96.94%\n",
      "[ 2018-04-25 00:34:47,433][cascade_classifier.calc_accuracy] Accuracy(layer_0 - train.classifier_average)=97.30%\n",
      "[ 2018-04-25 00:34:47,434][cascade_classifier.calc_accuracy] Accuracy(layer_0 - test.classifier_average)=96.94%\n",
      "[ 2018-04-25 00:34:47,436][cascade_classifier.fit_transform] [Result][Reach Max Layer] opt_layer_num=1, accuracy_train=97.30%, accuracy_test=96.94%\n",
      "[ 2018-04-25 00:34:47,440][cascade_classifier.transform] X_groups_test.shape=[(1078, 1557)]\n",
      "[ 2018-04-25 00:34:47,452][cascade_classifier.transform] group_dims=[1557]\n",
      "[ 2018-04-25 00:34:47,454][cascade_classifier.transform] X_test.shape=(1078, 1557)\n",
      "[ 2018-04-25 00:34:47,463][cascade_classifier.transform] [layer=0] look_indexs=[0], X_cur_test.shape=(1078, 1557)\n",
      "[ 2018-04-25 00:34:49,113][cascade_classifier.fit_transform] X_groups_train.shape=[(2186, 1557)],y_train.shape=(2186,),X_groups_test.shape=[(1078, 1557)],y_test.shape=(1078,)\n",
      "[ 2018-04-25 00:34:49,132][cascade_classifier.fit_transform] group_dims=[1557]\n",
      "[ 2018-04-25 00:34:49,134][cascade_classifier.fit_transform] group_starts=[0]\n",
      "[ 2018-04-25 00:34:49,135][cascade_classifier.fit_transform] group_ends=[1557]\n",
      "[ 2018-04-25 00:34:49,137][cascade_classifier.fit_transform] X_train.shape=(2186, 1557),X_test.shape=(1078, 1557)\n",
      "[ 2018-04-25 00:34:49,158][cascade_classifier.fit_transform] [layer=0] look_indexs=[0], X_cur_train.shape=(2186, 1557), X_cur_test.shape=(1078, 1557)\n"
     ]
    },
    {
     "name": "stdout",
     "output_type": "stream",
     "text": [
      "('Test Accuracy of ExtraTrees = 96.938776 %', 17, 'fois')\n"
     ]
    },
    {
     "name": "stderr",
     "output_type": "stream",
     "text": [
      "[ 2018-04-25 00:34:49,962][kfold_wrapper.log_eval_metrics] Accuracy(layer_0 - estimator_0 - 10_folds.train_0.predict)=97.26%\n",
      "[ 2018-04-25 00:34:50,886][kfold_wrapper.log_eval_metrics] Accuracy(layer_0 - estimator_0 - 10_folds.train_1.predict)=97.72%\n",
      "[ 2018-04-25 00:34:51,856][kfold_wrapper.log_eval_metrics] Accuracy(layer_0 - estimator_0 - 10_folds.train_2.predict)=96.35%\n",
      "[ 2018-04-25 00:34:52,736][kfold_wrapper.log_eval_metrics] Accuracy(layer_0 - estimator_0 - 10_folds.train_3.predict)=97.72%\n",
      "[ 2018-04-25 00:34:53,653][kfold_wrapper.log_eval_metrics] Accuracy(layer_0 - estimator_0 - 10_folds.train_4.predict)=97.26%\n",
      "[ 2018-04-25 00:34:54,542][kfold_wrapper.log_eval_metrics] Accuracy(layer_0 - estimator_0 - 10_folds.train_5.predict)=98.17%\n",
      "[ 2018-04-25 00:34:55,307][kfold_wrapper.log_eval_metrics] Accuracy(layer_0 - estimator_0 - 10_folds.train_6.predict)=97.26%\n",
      "[ 2018-04-25 00:34:56,110][kfold_wrapper.log_eval_metrics] Accuracy(layer_0 - estimator_0 - 10_folds.train_7.predict)=97.25%\n",
      "[ 2018-04-25 00:34:56,932][kfold_wrapper.log_eval_metrics] Accuracy(layer_0 - estimator_0 - 10_folds.train_8.predict)=98.17%\n",
      "[ 2018-04-25 00:34:57,788][kfold_wrapper.log_eval_metrics] Accuracy(layer_0 - estimator_0 - 10_folds.train_9.predict)=96.77%\n",
      "[ 2018-04-25 00:34:57,934][kfold_wrapper.log_eval_metrics] Accuracy(layer_0 - estimator_0 - 10_folds.train_cv.predict)=97.39%\n",
      "[ 2018-04-25 00:34:57,936][kfold_wrapper.log_eval_metrics] Accuracy(layer_0 - estimator_0 - 10_folds.test.predict)=96.75%\n",
      "[ 2018-04-25 00:34:57,945][cascade_classifier.calc_accuracy] Accuracy(layer_0 - train.classifier_average)=97.39%\n",
      "[ 2018-04-25 00:34:57,947][cascade_classifier.calc_accuracy] Accuracy(layer_0 - test.classifier_average)=96.75%\n",
      "[ 2018-04-25 00:34:57,948][cascade_classifier.fit_transform] [Result][Reach Max Layer] opt_layer_num=1, accuracy_train=97.39%, accuracy_test=96.75%\n",
      "[ 2018-04-25 00:34:57,951][cascade_classifier.transform] X_groups_test.shape=[(1078, 1557)]\n",
      "[ 2018-04-25 00:34:57,962][cascade_classifier.transform] group_dims=[1557]\n",
      "[ 2018-04-25 00:34:57,963][cascade_classifier.transform] X_test.shape=(1078, 1557)\n",
      "[ 2018-04-25 00:34:57,971][cascade_classifier.transform] [layer=0] look_indexs=[0], X_cur_test.shape=(1078, 1557)\n",
      "[ 2018-04-25 00:34:59,649][cascade_classifier.fit_transform] X_groups_train.shape=[(2186, 1557)],y_train.shape=(2186,),X_groups_test.shape=[(1078, 1557)],y_test.shape=(1078,)\n",
      "[ 2018-04-25 00:34:59,669][cascade_classifier.fit_transform] group_dims=[1557]\n",
      "[ 2018-04-25 00:34:59,670][cascade_classifier.fit_transform] group_starts=[0]\n",
      "[ 2018-04-25 00:34:59,672][cascade_classifier.fit_transform] group_ends=[1557]\n",
      "[ 2018-04-25 00:34:59,674][cascade_classifier.fit_transform] X_train.shape=(2186, 1557),X_test.shape=(1078, 1557)\n",
      "[ 2018-04-25 00:34:59,694][cascade_classifier.fit_transform] [layer=0] look_indexs=[0], X_cur_train.shape=(2186, 1557), X_cur_test.shape=(1078, 1557)\n"
     ]
    },
    {
     "name": "stdout",
     "output_type": "stream",
     "text": [
      "('Test Accuracy of ExtraTrees = 96.753247 %', 18, 'fois')\n"
     ]
    },
    {
     "name": "stderr",
     "output_type": "stream",
     "text": [
      "[ 2018-04-25 00:35:00,553][kfold_wrapper.log_eval_metrics] Accuracy(layer_0 - estimator_0 - 10_folds.train_0.predict)=97.26%\n",
      "[ 2018-04-25 00:35:01,454][kfold_wrapper.log_eval_metrics] Accuracy(layer_0 - estimator_0 - 10_folds.train_1.predict)=97.26%\n",
      "[ 2018-04-25 00:35:02,207][kfold_wrapper.log_eval_metrics] Accuracy(layer_0 - estimator_0 - 10_folds.train_2.predict)=96.80%\n",
      "[ 2018-04-25 00:35:03,004][kfold_wrapper.log_eval_metrics] Accuracy(layer_0 - estimator_0 - 10_folds.train_3.predict)=97.72%\n",
      "[ 2018-04-25 00:35:03,972][kfold_wrapper.log_eval_metrics] Accuracy(layer_0 - estimator_0 - 10_folds.train_4.predict)=97.26%\n",
      "[ 2018-04-25 00:35:04,751][kfold_wrapper.log_eval_metrics] Accuracy(layer_0 - estimator_0 - 10_folds.train_5.predict)=98.63%\n",
      "[ 2018-04-25 00:35:05,688][kfold_wrapper.log_eval_metrics] Accuracy(layer_0 - estimator_0 - 10_folds.train_6.predict)=96.35%\n",
      "[ 2018-04-25 00:35:06,486][kfold_wrapper.log_eval_metrics] Accuracy(layer_0 - estimator_0 - 10_folds.train_7.predict)=97.25%\n",
      "[ 2018-04-25 00:35:07,227][kfold_wrapper.log_eval_metrics] Accuracy(layer_0 - estimator_0 - 10_folds.train_8.predict)=98.62%\n",
      "[ 2018-04-25 00:35:08,022][kfold_wrapper.log_eval_metrics] Accuracy(layer_0 - estimator_0 - 10_folds.train_9.predict)=96.31%\n",
      "[ 2018-04-25 00:35:08,171][kfold_wrapper.log_eval_metrics] Accuracy(layer_0 - estimator_0 - 10_folds.train_cv.predict)=97.35%\n",
      "[ 2018-04-25 00:35:08,173][kfold_wrapper.log_eval_metrics] Accuracy(layer_0 - estimator_0 - 10_folds.test.predict)=96.75%\n",
      "[ 2018-04-25 00:35:08,180][cascade_classifier.calc_accuracy] Accuracy(layer_0 - train.classifier_average)=97.35%\n",
      "[ 2018-04-25 00:35:08,182][cascade_classifier.calc_accuracy] Accuracy(layer_0 - test.classifier_average)=96.75%\n",
      "[ 2018-04-25 00:35:08,183][cascade_classifier.fit_transform] [Result][Reach Max Layer] opt_layer_num=1, accuracy_train=97.35%, accuracy_test=96.75%\n",
      "[ 2018-04-25 00:35:08,186][cascade_classifier.transform] X_groups_test.shape=[(1078, 1557)]\n",
      "[ 2018-04-25 00:35:08,280][cascade_classifier.transform] group_dims=[1557]\n",
      "[ 2018-04-25 00:35:08,282][cascade_classifier.transform] X_test.shape=(1078, 1557)\n",
      "[ 2018-04-25 00:35:08,290][cascade_classifier.transform] [layer=0] look_indexs=[0], X_cur_test.shape=(1078, 1557)\n"
     ]
    },
    {
     "name": "stdout",
     "output_type": "stream",
     "text": [
      "('Test Accuracy of ExtraTrees = 96.753247 %', 19, 'fois')\n"
     ]
    }
   ],
   "source": [
    "# Deep\n",
    "for i in range (20):\n",
    "    X_train,X_test=update(X_train,X_test)\n",
    "    X_test_enc, X_train_enc=newdata(X_test_enc, X_train_enc)\n",
    "\n",
    "    X_train=X_train_enc\n",
    "    X_test=X_test_enc \n",
    "    X_train_enc, X_test_enc = gc.fit_transform(X_train, y_train, X_test=X_test, y_test=y_test)\n",
    "    affiche()"
   ]
  },
  {
   "cell_type": "code",
   "execution_count": null,
   "metadata": {
    "collapsed": true
   },
   "outputs": [],
   "source": []
  },
  {
   "cell_type": "markdown",
   "metadata": {},
   "source": [
    "# ('Test Accuracy of ExtraTrees = 97.124304 %', 3, 'fois')"
   ]
  },
  {
   "cell_type": "code",
   "execution_count": null,
   "metadata": {
    "collapsed": true
   },
   "outputs": [],
   "source": []
  }
 ],
 "metadata": {
  "kernelspec": {
   "display_name": "Python 2",
   "language": "python",
   "name": "python2"
  },
  "language_info": {
   "codemirror_mode": {
    "name": "ipython",
    "version": 2
   },
   "file_extension": ".py",
   "mimetype": "text/x-python",
   "name": "python",
   "nbconvert_exporter": "python",
   "pygments_lexer": "ipython2",
   "version": "2.7.14"
  }
 },
 "nbformat": 4,
 "nbformat_minor": 2
}
