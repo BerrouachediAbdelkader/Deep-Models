{
 "cells": [
  {
   "cell_type": "code",
   "execution_count": 1,
   "metadata": {
    "collapsed": true
   },
   "outputs": [],
   "source": [
    "# imports \n",
    "import numpy as np\n",
    "from math import sqrt \n",
    "from pprint import pprint\n",
    "from numpy import array\n",
    "from scipy.io import arff\n",
    "import pandas as pd"
   ]
  },
  {
   "cell_type": "code",
   "execution_count": 2,
   "metadata": {},
   "outputs": [
    {
     "data": {
      "text/html": [
       "<div>\n",
       "<style>\n",
       "    .dataframe thead tr:only-child th {\n",
       "        text-align: right;\n",
       "    }\n",
       "\n",
       "    .dataframe thead th {\n",
       "        text-align: left;\n",
       "    }\n",
       "\n",
       "    .dataframe tbody tr th {\n",
       "        vertical-align: top;\n",
       "    }\n",
       "</style>\n",
       "<table border=\"1\" class=\"dataframe\">\n",
       "  <thead>\n",
       "    <tr style=\"text-align: right;\">\n",
       "      <th></th>\n",
       "      <th>att1</th>\n",
       "      <th>att2</th>\n",
       "      <th>att3</th>\n",
       "      <th>att4</th>\n",
       "      <th>att5</th>\n",
       "      <th>att6</th>\n",
       "      <th>att7</th>\n",
       "      <th>att8</th>\n",
       "      <th>att9</th>\n",
       "      <th>outlier</th>\n",
       "    </tr>\n",
       "  </thead>\n",
       "  <tbody>\n",
       "    <tr>\n",
       "      <th>0</th>\n",
       "      <td>0.214286</td>\n",
       "      <td>0.607955</td>\n",
       "      <td>0.12766</td>\n",
       "      <td>0.020145</td>\n",
       "      <td>0.207865</td>\n",
       "      <td>0.088428</td>\n",
       "      <td>0.347222</td>\n",
       "      <td>0.746875</td>\n",
       "      <td>0.737113</td>\n",
       "      <td>1</td>\n",
       "    </tr>\n",
       "    <tr>\n",
       "      <th>1</th>\n",
       "      <td>0.085714</td>\n",
       "      <td>0.607955</td>\n",
       "      <td>0.12766</td>\n",
       "      <td>0.020145</td>\n",
       "      <td>0.207865</td>\n",
       "      <td>0.088428</td>\n",
       "      <td>0.458333</td>\n",
       "      <td>0.746875</td>\n",
       "      <td>0.716495</td>\n",
       "      <td>1</td>\n",
       "    </tr>\n",
       "    <tr>\n",
       "      <th>2</th>\n",
       "      <td>0.200000</td>\n",
       "      <td>0.607955</td>\n",
       "      <td>0.12766</td>\n",
       "      <td>0.020145</td>\n",
       "      <td>0.067416</td>\n",
       "      <td>0.088428</td>\n",
       "      <td>0.361111</td>\n",
       "      <td>0.912500</td>\n",
       "      <td>0.871134</td>\n",
       "      <td>1</td>\n",
       "    </tr>\n",
       "    <tr>\n",
       "      <th>3</th>\n",
       "      <td>0.085714</td>\n",
       "      <td>0.602273</td>\n",
       "      <td>0.12766</td>\n",
       "      <td>0.020145</td>\n",
       "      <td>0.207865</td>\n",
       "      <td>0.088428</td>\n",
       "      <td>0.472222</td>\n",
       "      <td>0.746875</td>\n",
       "      <td>0.716495</td>\n",
       "      <td>1</td>\n",
       "    </tr>\n",
       "    <tr>\n",
       "      <th>4</th>\n",
       "      <td>0.185714</td>\n",
       "      <td>0.653409</td>\n",
       "      <td>0.12766</td>\n",
       "      <td>0.020145</td>\n",
       "      <td>0.067416</td>\n",
       "      <td>0.088428</td>\n",
       "      <td>0.375000</td>\n",
       "      <td>0.912500</td>\n",
       "      <td>0.865979</td>\n",
       "      <td>1</td>\n",
       "    </tr>\n",
       "  </tbody>\n",
       "</table>\n",
       "</div>"
      ],
      "text/plain": [
       "       att1      att2     att3      att4      att5      att6      att7  \\\n",
       "0  0.214286  0.607955  0.12766  0.020145  0.207865  0.088428  0.347222   \n",
       "1  0.085714  0.607955  0.12766  0.020145  0.207865  0.088428  0.458333   \n",
       "2  0.200000  0.607955  0.12766  0.020145  0.067416  0.088428  0.361111   \n",
       "3  0.085714  0.602273  0.12766  0.020145  0.207865  0.088428  0.472222   \n",
       "4  0.185714  0.653409  0.12766  0.020145  0.067416  0.088428  0.375000   \n",
       "\n",
       "       att8      att9  outlier  \n",
       "0  0.746875  0.737113        1  \n",
       "1  0.746875  0.716495        1  \n",
       "2  0.912500  0.871134        1  \n",
       "3  0.746875  0.716495        1  \n",
       "4  0.912500  0.865979        1  "
      ]
     },
     "execution_count": 2,
     "metadata": {},
     "output_type": "execute_result"
    }
   ],
   "source": [
    "# load data\n",
    "df=pd.read_csv('Shuttle_withoutdupl_norm_v01.csv')\n",
    "\n",
    "del df['id']\n",
    "del df['Unnamed: 0']\n",
    "df['outlier'] = df.outlier.apply(lambda label: 1 if label == \"'yes'\" else 0)\n",
    "\n",
    "df.head()"
   ]
  },
  {
   "cell_type": "code",
   "execution_count": 3,
   "metadata": {},
   "outputs": [
    {
     "data": {
      "text/plain": [
       "(1013, 10)"
      ]
     },
     "execution_count": 3,
     "metadata": {},
     "output_type": "execute_result"
    }
   ],
   "source": [
    "df.shape"
   ]
  },
  {
   "cell_type": "code",
   "execution_count": 4,
   "metadata": {
    "collapsed": true
   },
   "outputs": [],
   "source": [
    "# data to values\n",
    "df = df.values"
   ]
  },
  {
   "cell_type": "code",
   "execution_count": 5,
   "metadata": {
    "collapsed": true
   },
   "outputs": [],
   "source": [
    "# Extratrees Deep\n",
    "import argparse\n",
    "import sys\n",
    "import pickle\n",
    "from sklearn.metrics import accuracy_score\n",
    "sys.path.insert(0, \"lib\")\n",
    "from gcforest.gcforest import GCForest\n",
    "from gcforest.utils.config_utils import load_json\n",
    "config = load_json(\"./examples/Shuttle.json\")\n",
    "gc = GCForest(config)"
   ]
  },
  {
   "cell_type": "code",
   "execution_count": null,
   "metadata": {
    "collapsed": true
   },
   "outputs": [],
   "source": [
    "# train test \n",
    "from sklearn.cross_validation import train_test_split\n",
    "y = df[:,9]\n",
    "X = df[:,0:9]\n",
    "\n",
    "X_train,X_test,y_train,y_test = train_test_split(X, y, test_size=0.33, random_state=42)"
   ]
  },
  {
   "cell_type": "code",
   "execution_count": 7,
   "metadata": {},
   "outputs": [
    {
     "data": {
      "text/plain": [
       "2"
      ]
     },
     "execution_count": 7,
     "metadata": {},
     "output_type": "execute_result"
    }
   ],
   "source": [
    "# number of class\n",
    "len(np.unique(y_train))"
   ]
  },
  {
   "cell_type": "code",
   "execution_count": 8,
   "metadata": {},
   "outputs": [
    {
     "name": "stderr",
     "output_type": "stream",
     "text": [
      "[ 2018-04-25 00:56:38,213][cascade_classifier.fit_transform] X_groups_train.shape=[(678, 9)],y_train.shape=(678,),X_groups_test.shape=[(335, 9)],y_test.shape=(335,)\n",
      "[ 2018-04-25 00:56:38,214][cascade_classifier.fit_transform] group_dims=[9]\n",
      "[ 2018-04-25 00:56:38,216][cascade_classifier.fit_transform] group_starts=[0]\n",
      "[ 2018-04-25 00:56:38,217][cascade_classifier.fit_transform] group_ends=[9]\n",
      "[ 2018-04-25 00:56:38,219][cascade_classifier.fit_transform] X_train.shape=(678, 9),X_test.shape=(335, 9)\n",
      "[ 2018-04-25 00:56:38,220][cascade_classifier.fit_transform] [layer=0] look_indexs=[0], X_cur_train.shape=(678, 9), X_cur_test.shape=(335, 9)\n",
      "/home/ubuntu/anaconda2/lib/python2.7/site-packages/sklearn/model_selection/_split.py:605: Warning: The least populated class in y has only 7 members, which is too few. The minimum number of members in any class cannot be less than n_splits=10.\n",
      "  % (min_groups, self.n_splits)), Warning)\n",
      "[ 2018-04-25 00:56:38,886][kfold_wrapper.log_eval_metrics] Accuracy(layer_0 - estimator_0 - 10_folds.train_0.predict)=100.00%\n",
      "[ 2018-04-25 00:56:39,674][kfold_wrapper.log_eval_metrics] Accuracy(layer_0 - estimator_0 - 10_folds.train_1.predict)=100.00%\n",
      "[ 2018-04-25 00:56:40,432][kfold_wrapper.log_eval_metrics] Accuracy(layer_0 - estimator_0 - 10_folds.train_2.predict)=98.53%\n",
      "[ 2018-04-25 00:56:41,210][kfold_wrapper.log_eval_metrics] Accuracy(layer_0 - estimator_0 - 10_folds.train_3.predict)=98.53%\n",
      "[ 2018-04-25 00:56:42,013][kfold_wrapper.log_eval_metrics] Accuracy(layer_0 - estimator_0 - 10_folds.train_4.predict)=100.00%\n",
      "[ 2018-04-25 00:56:42,766][kfold_wrapper.log_eval_metrics] Accuracy(layer_0 - estimator_0 - 10_folds.train_5.predict)=100.00%\n",
      "[ 2018-04-25 00:56:43,551][kfold_wrapper.log_eval_metrics] Accuracy(layer_0 - estimator_0 - 10_folds.train_6.predict)=98.53%\n",
      "[ 2018-04-25 00:56:44,327][kfold_wrapper.log_eval_metrics] Accuracy(layer_0 - estimator_0 - 10_folds.train_7.predict)=100.00%\n",
      "[ 2018-04-25 00:56:45,073][kfold_wrapper.log_eval_metrics] Accuracy(layer_0 - estimator_0 - 10_folds.train_8.predict)=98.53%\n",
      "[ 2018-04-25 00:56:45,830][kfold_wrapper.log_eval_metrics] Accuracy(layer_0 - estimator_0 - 10_folds.train_9.predict)=100.00%\n",
      "[ 2018-04-25 00:56:45,968][kfold_wrapper.log_eval_metrics] Accuracy(layer_0 - estimator_0 - 10_folds.train_cv.predict)=99.41%\n",
      "[ 2018-04-25 00:56:45,970][kfold_wrapper.log_eval_metrics] Accuracy(layer_0 - estimator_0 - 10_folds.test.predict)=100.00%\n",
      "[ 2018-04-25 00:56:45,972][cascade_classifier.calc_accuracy] Accuracy(layer_0 - train.classifier_average)=99.41%\n",
      "[ 2018-04-25 00:56:45,973][cascade_classifier.calc_accuracy] Accuracy(layer_0 - test.classifier_average)=100.00%\n",
      "[ 2018-04-25 00:56:45,975][cascade_classifier.fit_transform] [Result][Reach Max Layer] opt_layer_num=1, accuracy_train=99.41%, accuracy_test=100.00%\n"
     ]
    }
   ],
   "source": [
    "           # X_enc is the concatenated predict_proba result of ExtraTrees\n",
    "\n",
    "X_train_enc, X_test_enc = gc.fit_transform(X_train, y_train, X_test=X_test, y_test=y_test)\n",
    "   "
   ]
  },
  {
   "cell_type": "code",
   "execution_count": 9,
   "metadata": {},
   "outputs": [
    {
     "name": "stderr",
     "output_type": "stream",
     "text": [
      "[ 2018-04-25 00:56:45,986][cascade_classifier.transform] X_groups_test.shape=[(335, 9)]\n",
      "[ 2018-04-25 00:56:45,988][cascade_classifier.transform] group_dims=[9]\n",
      "[ 2018-04-25 00:56:45,990][cascade_classifier.transform] X_test.shape=(335, 9)\n",
      "[ 2018-04-25 00:56:45,992][cascade_classifier.transform] [layer=0] look_indexs=[0], X_cur_test.shape=(335, 9)\n"
     ]
    },
    {
     "name": "stdout",
     "output_type": "stream",
     "text": [
      "Test Accuracy of ExtraTrees = 100.000000 %\n"
     ]
    }
   ],
   "source": [
    "# predict\n",
    "y_pred = gc.predict(X_test)\n",
    "acc = accuracy_score(y_test, y_pred)\n",
    "print(\"Test Accuracy of ExtraTrees = {:.6f} %\".format(acc * 100))"
   ]
  },
  {
   "cell_type": "code",
   "execution_count": 10,
   "metadata": {},
   "outputs": [
    {
     "name": "stderr",
     "output_type": "stream",
     "text": [
      "[ 2018-04-25 00:56:47,423][cascade_classifier.transform] X_groups_test.shape=[(335, 9)]\n",
      "[ 2018-04-25 00:56:47,426][cascade_classifier.transform] group_dims=[9]\n",
      "[ 2018-04-25 00:56:47,428][cascade_classifier.transform] X_test.shape=(335, 9)\n",
      "[ 2018-04-25 00:56:47,430][cascade_classifier.transform] [layer=0] look_indexs=[0], X_cur_test.shape=(335, 9)\n"
     ]
    }
   ],
   "source": [
    "# Make data + estimators\n",
    "X_test_enc = gc.transform(X_test)\n",
    "X_train_enc = X_train_enc.reshape((X_train_enc.shape[0], -1))\n",
    "X_test_enc = X_test_enc.reshape((X_test_enc.shape[0], -1))\n",
    "X_train_origin = X_train.reshape((X_train.shape[0], -1))\n",
    "X_test_origin = X_test.reshape((X_test.shape[0], -1))\n",
    "X_train_enc = np.hstack((X_train_origin, X_train_enc))\n",
    "X_test_enc = np.hstack((X_test_origin, X_test_enc))"
   ]
  },
  {
   "cell_type": "code",
   "execution_count": 11,
   "metadata": {},
   "outputs": [
    {
     "name": "stderr",
     "output_type": "stream",
     "text": [
      "[ 2018-04-25 00:56:48,850][cascade_classifier.fit_transform] X_groups_train.shape=[(678, 11)],y_train.shape=(678,),X_groups_test.shape=[(335, 11)],y_test.shape=(335,)\n",
      "[ 2018-04-25 00:56:48,852][cascade_classifier.fit_transform] group_dims=[11]\n",
      "[ 2018-04-25 00:56:48,854][cascade_classifier.fit_transform] group_starts=[0]\n",
      "[ 2018-04-25 00:56:48,855][cascade_classifier.fit_transform] group_ends=[11]\n",
      "[ 2018-04-25 00:56:48,857][cascade_classifier.fit_transform] X_train.shape=(678, 11),X_test.shape=(335, 11)\n",
      "[ 2018-04-25 00:56:48,859][cascade_classifier.fit_transform] [layer=0] look_indexs=[0], X_cur_train.shape=(678, 11), X_cur_test.shape=(335, 11)\n",
      "[ 2018-04-25 00:56:49,487][kfold_wrapper.log_eval_metrics] Accuracy(layer_0 - estimator_0 - 10_folds.train_0.predict)=100.00%\n",
      "[ 2018-04-25 00:56:50,129][kfold_wrapper.log_eval_metrics] Accuracy(layer_0 - estimator_0 - 10_folds.train_1.predict)=100.00%\n",
      "[ 2018-04-25 00:56:50,907][kfold_wrapper.log_eval_metrics] Accuracy(layer_0 - estimator_0 - 10_folds.train_2.predict)=100.00%\n",
      "[ 2018-04-25 00:56:51,648][kfold_wrapper.log_eval_metrics] Accuracy(layer_0 - estimator_0 - 10_folds.train_3.predict)=98.53%\n",
      "[ 2018-04-25 00:56:52,406][kfold_wrapper.log_eval_metrics] Accuracy(layer_0 - estimator_0 - 10_folds.train_4.predict)=100.00%\n",
      "[ 2018-04-25 00:56:53,160][kfold_wrapper.log_eval_metrics] Accuracy(layer_0 - estimator_0 - 10_folds.train_5.predict)=98.53%\n",
      "[ 2018-04-25 00:56:53,954][kfold_wrapper.log_eval_metrics] Accuracy(layer_0 - estimator_0 - 10_folds.train_6.predict)=98.53%\n",
      "[ 2018-04-25 00:56:54,762][kfold_wrapper.log_eval_metrics] Accuracy(layer_0 - estimator_0 - 10_folds.train_7.predict)=100.00%\n",
      "[ 2018-04-25 00:56:55,584][kfold_wrapper.log_eval_metrics] Accuracy(layer_0 - estimator_0 - 10_folds.train_8.predict)=100.00%\n",
      "[ 2018-04-25 00:56:56,403][kfold_wrapper.log_eval_metrics] Accuracy(layer_0 - estimator_0 - 10_folds.train_9.predict)=100.00%\n",
      "[ 2018-04-25 00:56:56,545][kfold_wrapper.log_eval_metrics] Accuracy(layer_0 - estimator_0 - 10_folds.train_cv.predict)=99.56%\n",
      "[ 2018-04-25 00:56:56,547][kfold_wrapper.log_eval_metrics] Accuracy(layer_0 - estimator_0 - 10_folds.test.predict)=100.00%\n",
      "[ 2018-04-25 00:56:56,552][cascade_classifier.calc_accuracy] Accuracy(layer_0 - train.classifier_average)=99.56%\n",
      "[ 2018-04-25 00:56:56,554][cascade_classifier.calc_accuracy] Accuracy(layer_0 - test.classifier_average)=100.00%\n",
      "[ 2018-04-25 00:56:56,556][cascade_classifier.fit_transform] [Result][Reach Max Layer] opt_layer_num=1, accuracy_train=99.56%, accuracy_test=100.00%\n"
     ]
    }
   ],
   "source": [
    "X_train=X_train_enc\n",
    "X_test=X_test_enc \n",
    "X_train_enc, X_test_enc = gc.fit_transform(X_train, y_train, X_test=X_test, y_test=y_test)"
   ]
  },
  {
   "cell_type": "code",
   "execution_count": 12,
   "metadata": {},
   "outputs": [
    {
     "name": "stderr",
     "output_type": "stream",
     "text": [
      "[ 2018-04-25 00:56:56,567][cascade_classifier.transform] X_groups_test.shape=[(335, 11)]\n",
      "[ 2018-04-25 00:56:56,569][cascade_classifier.transform] group_dims=[11]\n",
      "[ 2018-04-25 00:56:56,571][cascade_classifier.transform] X_test.shape=(335, 11)\n",
      "[ 2018-04-25 00:56:56,573][cascade_classifier.transform] [layer=0] look_indexs=[0], X_cur_test.shape=(335, 11)\n"
     ]
    },
    {
     "name": "stdout",
     "output_type": "stream",
     "text": [
      "Test Accuracy of ExtraTrees = 100.000000 %\n"
     ]
    }
   ],
   "source": [
    "# predict  data + Es\n",
    "y_pred = gc.predict(X_test)\n",
    "acc = accuracy_score(y_test, y_pred)\n",
    "print(\"Test Accuracy of ExtraTrees = {:.6f} %\".format(acc * 100))"
   ]
  },
  {
   "cell_type": "code",
   "execution_count": null,
   "metadata": {
    "collapsed": true
   },
   "outputs": [],
   "source": [
    "def update(X_train,X_test):\n",
    "    # update Estimators\n",
    "    M = np.delete(X_train, (-1), axis=1)\n",
    "    X_train= np.delete(M, (-1), axis=1)\n",
    "    M = np.delete(X_test, (-1), axis=1)\n",
    "    X_test = np.delete(M, (-1), axis=1)\n",
    "    return X_train,X_test\n",
    "\n",
    "def newdata(X_test_enc, X_train_enc):\n",
    "    # Make Data + Estimators\n",
    "    X_train_origin = X_train.reshape((X_train.shape[0], -1))\n",
    "    X_test_origin = X_test.reshape((X_test.shape[0], -1))\n",
    "    X_train_enc = np.hstack((X_train_origin, X_train_enc))\n",
    "    X_test_enc = np.hstack((X_test_origin, X_test_enc))\n",
    "    return X_test_enc, X_train_enc\n",
    "\n",
    "def affiche():\n",
    "    # predict\n",
    "    y_pred = gc.predict(X_test)\n",
    "    acc = accuracy_score(y_test, y_pred)\n",
    "    print(\"Test Accuracy of ExtraTrees = {:.6f} %\".format(acc * 100),i,'fois')"
   ]
  },
  {
   "cell_type": "code",
   "execution_count": null,
   "metadata": {},
   "outputs": [
    {
     "name": "stderr",
     "output_type": "stream",
     "text": [
      "[ 2018-04-25 00:56:57,984][cascade_classifier.fit_transform] X_groups_train.shape=[(678, 11)],y_train.shape=(678,),X_groups_test.shape=[(335, 11)],y_test.shape=(335,)\n",
      "[ 2018-04-25 00:56:57,986][cascade_classifier.fit_transform] group_dims=[11]\n",
      "[ 2018-04-25 00:56:57,987][cascade_classifier.fit_transform] group_starts=[0]\n",
      "[ 2018-04-25 00:56:57,989][cascade_classifier.fit_transform] group_ends=[11]\n",
      "[ 2018-04-25 00:56:57,990][cascade_classifier.fit_transform] X_train.shape=(678, 11),X_test.shape=(335, 11)\n",
      "[ 2018-04-25 00:56:57,992][cascade_classifier.fit_transform] [layer=0] look_indexs=[0], X_cur_train.shape=(678, 11), X_cur_test.shape=(335, 11)\n",
      "[ 2018-04-25 00:56:58,582][kfold_wrapper.log_eval_metrics] Accuracy(layer_0 - estimator_0 - 10_folds.train_0.predict)=100.00%\n",
      "[ 2018-04-25 00:56:59,384][kfold_wrapper.log_eval_metrics] Accuracy(layer_0 - estimator_0 - 10_folds.train_1.predict)=100.00%\n",
      "[ 2018-04-25 00:57:00,165][kfold_wrapper.log_eval_metrics] Accuracy(layer_0 - estimator_0 - 10_folds.train_2.predict)=100.00%\n",
      "[ 2018-04-25 00:57:00,830][kfold_wrapper.log_eval_metrics] Accuracy(layer_0 - estimator_0 - 10_folds.train_3.predict)=98.53%\n",
      "[ 2018-04-25 00:57:01,569][kfold_wrapper.log_eval_metrics] Accuracy(layer_0 - estimator_0 - 10_folds.train_4.predict)=98.51%\n",
      "[ 2018-04-25 00:57:02,374][kfold_wrapper.log_eval_metrics] Accuracy(layer_0 - estimator_0 - 10_folds.train_5.predict)=98.53%\n",
      "[ 2018-04-25 00:57:03,169][kfold_wrapper.log_eval_metrics] Accuracy(layer_0 - estimator_0 - 10_folds.train_6.predict)=98.53%\n",
      "[ 2018-04-25 00:57:03,975][kfold_wrapper.log_eval_metrics] Accuracy(layer_0 - estimator_0 - 10_folds.train_7.predict)=100.00%\n",
      "[ 2018-04-25 00:57:04,745][kfold_wrapper.log_eval_metrics] Accuracy(layer_0 - estimator_0 - 10_folds.train_8.predict)=98.53%\n",
      "[ 2018-04-25 00:57:05,483][kfold_wrapper.log_eval_metrics] Accuracy(layer_0 - estimator_0 - 10_folds.train_9.predict)=100.00%\n",
      "[ 2018-04-25 00:57:05,615][kfold_wrapper.log_eval_metrics] Accuracy(layer_0 - estimator_0 - 10_folds.train_cv.predict)=99.26%\n",
      "[ 2018-04-25 00:57:05,617][kfold_wrapper.log_eval_metrics] Accuracy(layer_0 - estimator_0 - 10_folds.test.predict)=100.00%\n",
      "[ 2018-04-25 00:57:05,621][cascade_classifier.calc_accuracy] Accuracy(layer_0 - train.classifier_average)=99.26%\n",
      "[ 2018-04-25 00:57:05,623][cascade_classifier.calc_accuracy] Accuracy(layer_0 - test.classifier_average)=100.00%\n",
      "[ 2018-04-25 00:57:05,624][cascade_classifier.fit_transform] [Result][Reach Max Layer] opt_layer_num=1, accuracy_train=99.26%, accuracy_test=100.00%\n",
      "[ 2018-04-25 00:57:05,626][cascade_classifier.transform] X_groups_test.shape=[(335, 11)]\n",
      "[ 2018-04-25 00:57:05,628][cascade_classifier.transform] group_dims=[11]\n",
      "[ 2018-04-25 00:57:05,630][cascade_classifier.transform] X_test.shape=(335, 11)\n",
      "[ 2018-04-25 00:57:05,631][cascade_classifier.transform] [layer=0] look_indexs=[0], X_cur_test.shape=(335, 11)\n",
      "[ 2018-04-25 00:57:07,039][cascade_classifier.fit_transform] X_groups_train.shape=[(678, 11)],y_train.shape=(678,),X_groups_test.shape=[(335, 11)],y_test.shape=(335,)\n",
      "[ 2018-04-25 00:57:07,041][cascade_classifier.fit_transform] group_dims=[11]\n",
      "[ 2018-04-25 00:57:07,042][cascade_classifier.fit_transform] group_starts=[0]\n",
      "[ 2018-04-25 00:57:07,044][cascade_classifier.fit_transform] group_ends=[11]\n",
      "[ 2018-04-25 00:57:07,045][cascade_classifier.fit_transform] X_train.shape=(678, 11),X_test.shape=(335, 11)\n",
      "[ 2018-04-25 00:57:07,047][cascade_classifier.fit_transform] [layer=0] look_indexs=[0], X_cur_train.shape=(678, 11), X_cur_test.shape=(335, 11)\n"
     ]
    },
    {
     "name": "stdout",
     "output_type": "stream",
     "text": [
      "('Test Accuracy of ExtraTrees = 100.000000 %', 0, 'fois')\n"
     ]
    },
    {
     "name": "stderr",
     "output_type": "stream",
     "text": [
      "[ 2018-04-25 00:57:07,671][kfold_wrapper.log_eval_metrics] Accuracy(layer_0 - estimator_0 - 10_folds.train_0.predict)=100.00%\n",
      "[ 2018-04-25 00:57:08,311][kfold_wrapper.log_eval_metrics] Accuracy(layer_0 - estimator_0 - 10_folds.train_1.predict)=100.00%\n",
      "[ 2018-04-25 00:57:09,141][kfold_wrapper.log_eval_metrics] Accuracy(layer_0 - estimator_0 - 10_folds.train_2.predict)=100.00%\n",
      "[ 2018-04-25 00:57:09,947][kfold_wrapper.log_eval_metrics] Accuracy(layer_0 - estimator_0 - 10_folds.train_3.predict)=98.53%\n",
      "[ 2018-04-25 00:57:10,755][kfold_wrapper.log_eval_metrics] Accuracy(layer_0 - estimator_0 - 10_folds.train_4.predict)=98.51%\n",
      "[ 2018-04-25 00:57:11,532][kfold_wrapper.log_eval_metrics] Accuracy(layer_0 - estimator_0 - 10_folds.train_5.predict)=98.53%\n",
      "[ 2018-04-25 00:57:12,327][kfold_wrapper.log_eval_metrics] Accuracy(layer_0 - estimator_0 - 10_folds.train_6.predict)=100.00%\n",
      "[ 2018-04-25 00:57:13,103][kfold_wrapper.log_eval_metrics] Accuracy(layer_0 - estimator_0 - 10_folds.train_7.predict)=100.00%\n",
      "[ 2018-04-25 00:57:13,878][kfold_wrapper.log_eval_metrics] Accuracy(layer_0 - estimator_0 - 10_folds.train_8.predict)=100.00%\n",
      "[ 2018-04-25 00:57:14,659][kfold_wrapper.log_eval_metrics] Accuracy(layer_0 - estimator_0 - 10_folds.train_9.predict)=100.00%\n",
      "[ 2018-04-25 00:57:14,806][kfold_wrapper.log_eval_metrics] Accuracy(layer_0 - estimator_0 - 10_folds.train_cv.predict)=99.56%\n",
      "[ 2018-04-25 00:57:14,808][kfold_wrapper.log_eval_metrics] Accuracy(layer_0 - estimator_0 - 10_folds.test.predict)=100.00%\n",
      "[ 2018-04-25 00:57:14,812][cascade_classifier.calc_accuracy] Accuracy(layer_0 - train.classifier_average)=99.56%\n",
      "[ 2018-04-25 00:57:14,814][cascade_classifier.calc_accuracy] Accuracy(layer_0 - test.classifier_average)=100.00%\n",
      "[ 2018-04-25 00:57:14,816][cascade_classifier.fit_transform] [Result][Reach Max Layer] opt_layer_num=1, accuracy_train=99.56%, accuracy_test=100.00%\n",
      "[ 2018-04-25 00:57:14,817][cascade_classifier.transform] X_groups_test.shape=[(335, 11)]\n",
      "[ 2018-04-25 00:57:14,819][cascade_classifier.transform] group_dims=[11]\n",
      "[ 2018-04-25 00:57:14,820][cascade_classifier.transform] X_test.shape=(335, 11)\n",
      "[ 2018-04-25 00:57:14,822][cascade_classifier.transform] [layer=0] look_indexs=[0], X_cur_test.shape=(335, 11)\n",
      "[ 2018-04-25 00:57:16,237][cascade_classifier.fit_transform] X_groups_train.shape=[(678, 11)],y_train.shape=(678,),X_groups_test.shape=[(335, 11)],y_test.shape=(335,)\n",
      "[ 2018-04-25 00:57:16,240][cascade_classifier.fit_transform] group_dims=[11]\n",
      "[ 2018-04-25 00:57:16,241][cascade_classifier.fit_transform] group_starts=[0]\n",
      "[ 2018-04-25 00:57:16,243][cascade_classifier.fit_transform] group_ends=[11]\n",
      "[ 2018-04-25 00:57:16,245][cascade_classifier.fit_transform] X_train.shape=(678, 11),X_test.shape=(335, 11)\n",
      "[ 2018-04-25 00:57:16,247][cascade_classifier.fit_transform] [layer=0] look_indexs=[0], X_cur_train.shape=(678, 11), X_cur_test.shape=(335, 11)\n"
     ]
    },
    {
     "name": "stdout",
     "output_type": "stream",
     "text": [
      "('Test Accuracy of ExtraTrees = 100.000000 %', 1, 'fois')\n"
     ]
    },
    {
     "name": "stderr",
     "output_type": "stream",
     "text": [
      "[ 2018-04-25 00:57:16,831][kfold_wrapper.log_eval_metrics] Accuracy(layer_0 - estimator_0 - 10_folds.train_0.predict)=100.00%\n",
      "[ 2018-04-25 00:57:17,632][kfold_wrapper.log_eval_metrics] Accuracy(layer_0 - estimator_0 - 10_folds.train_1.predict)=100.00%\n",
      "[ 2018-04-25 00:57:18,407][kfold_wrapper.log_eval_metrics] Accuracy(layer_0 - estimator_0 - 10_folds.train_2.predict)=100.00%\n",
      "[ 2018-04-25 00:57:19,098][kfold_wrapper.log_eval_metrics] Accuracy(layer_0 - estimator_0 - 10_folds.train_3.predict)=98.53%\n",
      "[ 2018-04-25 00:57:19,883][kfold_wrapper.log_eval_metrics] Accuracy(layer_0 - estimator_0 - 10_folds.train_4.predict)=98.51%\n",
      "[ 2018-04-25 00:57:20,671][kfold_wrapper.log_eval_metrics] Accuracy(layer_0 - estimator_0 - 10_folds.train_5.predict)=98.53%\n",
      "[ 2018-04-25 00:57:21,459][kfold_wrapper.log_eval_metrics] Accuracy(layer_0 - estimator_0 - 10_folds.train_6.predict)=100.00%\n",
      "[ 2018-04-25 00:57:22,312][kfold_wrapper.log_eval_metrics] Accuracy(layer_0 - estimator_0 - 10_folds.train_7.predict)=100.00%\n",
      "[ 2018-04-25 00:57:23,108][kfold_wrapper.log_eval_metrics] Accuracy(layer_0 - estimator_0 - 10_folds.train_8.predict)=98.53%\n",
      "[ 2018-04-25 00:57:23,746][kfold_wrapper.log_eval_metrics] Accuracy(layer_0 - estimator_0 - 10_folds.train_9.predict)=100.00%\n",
      "[ 2018-04-25 00:57:23,887][kfold_wrapper.log_eval_metrics] Accuracy(layer_0 - estimator_0 - 10_folds.train_cv.predict)=99.41%\n",
      "[ 2018-04-25 00:57:23,889][kfold_wrapper.log_eval_metrics] Accuracy(layer_0 - estimator_0 - 10_folds.test.predict)=99.40%\n",
      "[ 2018-04-25 00:57:23,894][cascade_classifier.calc_accuracy] Accuracy(layer_0 - train.classifier_average)=99.41%\n",
      "[ 2018-04-25 00:57:23,895][cascade_classifier.calc_accuracy] Accuracy(layer_0 - test.classifier_average)=99.40%\n",
      "[ 2018-04-25 00:57:23,897][cascade_classifier.fit_transform] [Result][Reach Max Layer] opt_layer_num=1, accuracy_train=99.41%, accuracy_test=99.40%\n",
      "[ 2018-04-25 00:57:23,899][cascade_classifier.transform] X_groups_test.shape=[(335, 11)]\n",
      "[ 2018-04-25 00:57:23,900][cascade_classifier.transform] group_dims=[11]\n",
      "[ 2018-04-25 00:57:23,902][cascade_classifier.transform] X_test.shape=(335, 11)\n",
      "[ 2018-04-25 00:57:23,903][cascade_classifier.transform] [layer=0] look_indexs=[0], X_cur_test.shape=(335, 11)\n",
      "[ 2018-04-25 00:57:25,278][cascade_classifier.fit_transform] X_groups_train.shape=[(678, 11)],y_train.shape=(678,),X_groups_test.shape=[(335, 11)],y_test.shape=(335,)\n",
      "[ 2018-04-25 00:57:25,281][cascade_classifier.fit_transform] group_dims=[11]\n",
      "[ 2018-04-25 00:57:25,282][cascade_classifier.fit_transform] group_starts=[0]\n",
      "[ 2018-04-25 00:57:25,284][cascade_classifier.fit_transform] group_ends=[11]\n",
      "[ 2018-04-25 00:57:25,286][cascade_classifier.fit_transform] X_train.shape=(678, 11),X_test.shape=(335, 11)\n",
      "[ 2018-04-25 00:57:25,287][cascade_classifier.fit_transform] [layer=0] look_indexs=[0], X_cur_train.shape=(678, 11), X_cur_test.shape=(335, 11)\n"
     ]
    },
    {
     "name": "stdout",
     "output_type": "stream",
     "text": [
      "('Test Accuracy of ExtraTrees = 99.402985 %', 2, 'fois')\n"
     ]
    },
    {
     "name": "stderr",
     "output_type": "stream",
     "text": [
      "[ 2018-04-25 00:57:25,795][kfold_wrapper.log_eval_metrics] Accuracy(layer_0 - estimator_0 - 10_folds.train_0.predict)=100.00%\n",
      "[ 2018-04-25 00:57:26,389][kfold_wrapper.log_eval_metrics] Accuracy(layer_0 - estimator_0 - 10_folds.train_1.predict)=100.00%\n",
      "[ 2018-04-25 00:57:27,154][kfold_wrapper.log_eval_metrics] Accuracy(layer_0 - estimator_0 - 10_folds.train_2.predict)=100.00%\n",
      "[ 2018-04-25 00:57:27,913][kfold_wrapper.log_eval_metrics] Accuracy(layer_0 - estimator_0 - 10_folds.train_3.predict)=98.53%\n",
      "[ 2018-04-25 00:57:28,680][kfold_wrapper.log_eval_metrics] Accuracy(layer_0 - estimator_0 - 10_folds.train_4.predict)=98.51%\n",
      "[ 2018-04-25 00:57:29,328][kfold_wrapper.log_eval_metrics] Accuracy(layer_0 - estimator_0 - 10_folds.train_5.predict)=98.53%\n",
      "[ 2018-04-25 00:57:29,962][kfold_wrapper.log_eval_metrics] Accuracy(layer_0 - estimator_0 - 10_folds.train_6.predict)=100.00%\n",
      "[ 2018-04-25 00:57:30,721][kfold_wrapper.log_eval_metrics] Accuracy(layer_0 - estimator_0 - 10_folds.train_7.predict)=100.00%\n",
      "[ 2018-04-25 00:57:31,508][kfold_wrapper.log_eval_metrics] Accuracy(layer_0 - estimator_0 - 10_folds.train_8.predict)=100.00%\n",
      "[ 2018-04-25 00:57:32,260][kfold_wrapper.log_eval_metrics] Accuracy(layer_0 - estimator_0 - 10_folds.train_9.predict)=100.00%\n",
      "[ 2018-04-25 00:57:32,402][kfold_wrapper.log_eval_metrics] Accuracy(layer_0 - estimator_0 - 10_folds.train_cv.predict)=99.56%\n",
      "[ 2018-04-25 00:57:32,404][kfold_wrapper.log_eval_metrics] Accuracy(layer_0 - estimator_0 - 10_folds.test.predict)=99.40%\n",
      "[ 2018-04-25 00:57:32,408][cascade_classifier.calc_accuracy] Accuracy(layer_0 - train.classifier_average)=99.56%\n",
      "[ 2018-04-25 00:57:32,409][cascade_classifier.calc_accuracy] Accuracy(layer_0 - test.classifier_average)=99.40%\n",
      "[ 2018-04-25 00:57:32,411][cascade_classifier.fit_transform] [Result][Reach Max Layer] opt_layer_num=1, accuracy_train=99.56%, accuracy_test=99.40%\n",
      "[ 2018-04-25 00:57:32,412][cascade_classifier.transform] X_groups_test.shape=[(335, 11)]\n",
      "[ 2018-04-25 00:57:32,414][cascade_classifier.transform] group_dims=[11]\n",
      "[ 2018-04-25 00:57:32,415][cascade_classifier.transform] X_test.shape=(335, 11)\n",
      "[ 2018-04-25 00:57:32,417][cascade_classifier.transform] [layer=0] look_indexs=[0], X_cur_test.shape=(335, 11)\n",
      "[ 2018-04-25 00:57:33,861][cascade_classifier.fit_transform] X_groups_train.shape=[(678, 11)],y_train.shape=(678,),X_groups_test.shape=[(335, 11)],y_test.shape=(335,)\n",
      "[ 2018-04-25 00:57:33,863][cascade_classifier.fit_transform] group_dims=[11]\n",
      "[ 2018-04-25 00:57:33,864][cascade_classifier.fit_transform] group_starts=[0]\n",
      "[ 2018-04-25 00:57:33,866][cascade_classifier.fit_transform] group_ends=[11]\n",
      "[ 2018-04-25 00:57:33,867][cascade_classifier.fit_transform] X_train.shape=(678, 11),X_test.shape=(335, 11)\n",
      "[ 2018-04-25 00:57:33,869][cascade_classifier.fit_transform] [layer=0] look_indexs=[0], X_cur_train.shape=(678, 11), X_cur_test.shape=(335, 11)\n"
     ]
    },
    {
     "name": "stdout",
     "output_type": "stream",
     "text": [
      "('Test Accuracy of ExtraTrees = 99.402985 %', 3, 'fois')\n"
     ]
    },
    {
     "name": "stderr",
     "output_type": "stream",
     "text": [
      "[ 2018-04-25 00:57:34,498][kfold_wrapper.log_eval_metrics] Accuracy(layer_0 - estimator_0 - 10_folds.train_0.predict)=100.00%\n",
      "[ 2018-04-25 00:57:35,262][kfold_wrapper.log_eval_metrics] Accuracy(layer_0 - estimator_0 - 10_folds.train_1.predict)=100.00%\n",
      "[ 2018-04-25 00:57:36,003][kfold_wrapper.log_eval_metrics] Accuracy(layer_0 - estimator_0 - 10_folds.train_2.predict)=100.00%\n",
      "[ 2018-04-25 00:57:36,622][kfold_wrapper.log_eval_metrics] Accuracy(layer_0 - estimator_0 - 10_folds.train_3.predict)=98.53%\n",
      "[ 2018-04-25 00:57:37,256][kfold_wrapper.log_eval_metrics] Accuracy(layer_0 - estimator_0 - 10_folds.train_4.predict)=98.51%\n",
      "[ 2018-04-25 00:57:38,005][kfold_wrapper.log_eval_metrics] Accuracy(layer_0 - estimator_0 - 10_folds.train_5.predict)=98.53%\n",
      "[ 2018-04-25 00:57:38,783][kfold_wrapper.log_eval_metrics] Accuracy(layer_0 - estimator_0 - 10_folds.train_6.predict)=100.00%\n",
      "[ 2018-04-25 00:57:39,591][kfold_wrapper.log_eval_metrics] Accuracy(layer_0 - estimator_0 - 10_folds.train_7.predict)=100.00%\n",
      "[ 2018-04-25 00:57:40,258][kfold_wrapper.log_eval_metrics] Accuracy(layer_0 - estimator_0 - 10_folds.train_8.predict)=98.53%\n",
      "[ 2018-04-25 00:57:41,039][kfold_wrapper.log_eval_metrics] Accuracy(layer_0 - estimator_0 - 10_folds.train_9.predict)=100.00%\n",
      "[ 2018-04-25 00:57:41,179][kfold_wrapper.log_eval_metrics] Accuracy(layer_0 - estimator_0 - 10_folds.train_cv.predict)=99.41%\n",
      "[ 2018-04-25 00:57:41,181][kfold_wrapper.log_eval_metrics] Accuracy(layer_0 - estimator_0 - 10_folds.test.predict)=99.40%\n",
      "[ 2018-04-25 00:57:41,187][cascade_classifier.calc_accuracy] Accuracy(layer_0 - train.classifier_average)=99.41%\n",
      "[ 2018-04-25 00:57:41,189][cascade_classifier.calc_accuracy] Accuracy(layer_0 - test.classifier_average)=99.40%\n",
      "[ 2018-04-25 00:57:41,191][cascade_classifier.fit_transform] [Result][Reach Max Layer] opt_layer_num=1, accuracy_train=99.41%, accuracy_test=99.40%\n",
      "[ 2018-04-25 00:57:41,193][cascade_classifier.transform] X_groups_test.shape=[(335, 11)]\n",
      "[ 2018-04-25 00:57:41,196][cascade_classifier.transform] group_dims=[11]\n",
      "[ 2018-04-25 00:57:41,197][cascade_classifier.transform] X_test.shape=(335, 11)\n",
      "[ 2018-04-25 00:57:41,199][cascade_classifier.transform] [layer=0] look_indexs=[0], X_cur_test.shape=(335, 11)\n",
      "[ 2018-04-25 00:57:42,744][cascade_classifier.fit_transform] X_groups_train.shape=[(678, 11)],y_train.shape=(678,),X_groups_test.shape=[(335, 11)],y_test.shape=(335,)\n",
      "[ 2018-04-25 00:57:42,746][cascade_classifier.fit_transform] group_dims=[11]\n",
      "[ 2018-04-25 00:57:42,748][cascade_classifier.fit_transform] group_starts=[0]\n",
      "[ 2018-04-25 00:57:42,750][cascade_classifier.fit_transform] group_ends=[11]\n",
      "[ 2018-04-25 00:57:42,751][cascade_classifier.fit_transform] X_train.shape=(678, 11),X_test.shape=(335, 11)\n",
      "[ 2018-04-25 00:57:42,754][cascade_classifier.fit_transform] [layer=0] look_indexs=[0], X_cur_train.shape=(678, 11), X_cur_test.shape=(335, 11)\n"
     ]
    },
    {
     "name": "stdout",
     "output_type": "stream",
     "text": [
      "('Test Accuracy of ExtraTrees = 99.402985 %', 4, 'fois')\n"
     ]
    },
    {
     "name": "stderr",
     "output_type": "stream",
     "text": [
      "[ 2018-04-25 00:57:43,400][kfold_wrapper.log_eval_metrics] Accuracy(layer_0 - estimator_0 - 10_folds.train_0.predict)=100.00%\n",
      "[ 2018-04-25 00:57:44,211][kfold_wrapper.log_eval_metrics] Accuracy(layer_0 - estimator_0 - 10_folds.train_1.predict)=100.00%\n",
      "[ 2018-04-25 00:57:44,982][kfold_wrapper.log_eval_metrics] Accuracy(layer_0 - estimator_0 - 10_folds.train_2.predict)=100.00%\n",
      "[ 2018-04-25 00:57:45,906][kfold_wrapper.log_eval_metrics] Accuracy(layer_0 - estimator_0 - 10_folds.train_3.predict)=98.53%\n",
      "[ 2018-04-25 00:57:46,698][kfold_wrapper.log_eval_metrics] Accuracy(layer_0 - estimator_0 - 10_folds.train_4.predict)=97.01%\n",
      "[ 2018-04-25 00:57:47,509][kfold_wrapper.log_eval_metrics] Accuracy(layer_0 - estimator_0 - 10_folds.train_5.predict)=98.53%\n",
      "[ 2018-04-25 00:57:48,262][kfold_wrapper.log_eval_metrics] Accuracy(layer_0 - estimator_0 - 10_folds.train_6.predict)=100.00%\n",
      "[ 2018-04-25 00:57:49,022][kfold_wrapper.log_eval_metrics] Accuracy(layer_0 - estimator_0 - 10_folds.train_7.predict)=100.00%\n",
      "[ 2018-04-25 00:57:49,804][kfold_wrapper.log_eval_metrics] Accuracy(layer_0 - estimator_0 - 10_folds.train_8.predict)=100.00%\n",
      "[ 2018-04-25 00:57:50,657][kfold_wrapper.log_eval_metrics] Accuracy(layer_0 - estimator_0 - 10_folds.train_9.predict)=100.00%\n",
      "[ 2018-04-25 00:57:50,781][kfold_wrapper.log_eval_metrics] Accuracy(layer_0 - estimator_0 - 10_folds.train_cv.predict)=99.41%\n",
      "[ 2018-04-25 00:57:50,783][kfold_wrapper.log_eval_metrics] Accuracy(layer_0 - estimator_0 - 10_folds.test.predict)=99.70%\n",
      "[ 2018-04-25 00:57:50,788][cascade_classifier.calc_accuracy] Accuracy(layer_0 - train.classifier_average)=99.41%\n",
      "[ 2018-04-25 00:57:50,790][cascade_classifier.calc_accuracy] Accuracy(layer_0 - test.classifier_average)=99.70%\n",
      "[ 2018-04-25 00:57:50,792][cascade_classifier.fit_transform] [Result][Reach Max Layer] opt_layer_num=1, accuracy_train=99.41%, accuracy_test=99.70%\n",
      "[ 2018-04-25 00:57:50,793][cascade_classifier.transform] X_groups_test.shape=[(335, 11)]\n",
      "[ 2018-04-25 00:57:50,795][cascade_classifier.transform] group_dims=[11]\n",
      "[ 2018-04-25 00:57:50,797][cascade_classifier.transform] X_test.shape=(335, 11)\n",
      "[ 2018-04-25 00:57:50,798][cascade_classifier.transform] [layer=0] look_indexs=[0], X_cur_test.shape=(335, 11)\n",
      "[ 2018-04-25 00:57:52,318][cascade_classifier.fit_transform] X_groups_train.shape=[(678, 11)],y_train.shape=(678,),X_groups_test.shape=[(335, 11)],y_test.shape=(335,)\n",
      "[ 2018-04-25 00:57:52,321][cascade_classifier.fit_transform] group_dims=[11]\n",
      "[ 2018-04-25 00:57:52,322][cascade_classifier.fit_transform] group_starts=[0]\n",
      "[ 2018-04-25 00:57:52,324][cascade_classifier.fit_transform] group_ends=[11]\n",
      "[ 2018-04-25 00:57:52,326][cascade_classifier.fit_transform] X_train.shape=(678, 11),X_test.shape=(335, 11)\n",
      "[ 2018-04-25 00:57:52,327][cascade_classifier.fit_transform] [layer=0] look_indexs=[0], X_cur_train.shape=(678, 11), X_cur_test.shape=(335, 11)\n"
     ]
    },
    {
     "name": "stdout",
     "output_type": "stream",
     "text": [
      "('Test Accuracy of ExtraTrees = 99.701493 %', 5, 'fois')\n"
     ]
    },
    {
     "name": "stderr",
     "output_type": "stream",
     "text": [
      "[ 2018-04-25 00:57:52,950][kfold_wrapper.log_eval_metrics] Accuracy(layer_0 - estimator_0 - 10_folds.train_0.predict)=100.00%\n",
      "[ 2018-04-25 00:57:53,762][kfold_wrapper.log_eval_metrics] Accuracy(layer_0 - estimator_0 - 10_folds.train_1.predict)=100.00%\n",
      "[ 2018-04-25 00:57:54,525][kfold_wrapper.log_eval_metrics] Accuracy(layer_0 - estimator_0 - 10_folds.train_2.predict)=100.00%\n",
      "[ 2018-04-25 00:57:55,291][kfold_wrapper.log_eval_metrics] Accuracy(layer_0 - estimator_0 - 10_folds.train_3.predict)=98.53%\n",
      "[ 2018-04-25 00:57:56,058][kfold_wrapper.log_eval_metrics] Accuracy(layer_0 - estimator_0 - 10_folds.train_4.predict)=97.01%\n",
      "[ 2018-04-25 00:57:56,786][kfold_wrapper.log_eval_metrics] Accuracy(layer_0 - estimator_0 - 10_folds.train_5.predict)=98.53%\n",
      "[ 2018-04-25 00:57:57,464][kfold_wrapper.log_eval_metrics] Accuracy(layer_0 - estimator_0 - 10_folds.train_6.predict)=100.00%\n",
      "[ 2018-04-25 00:57:58,256][kfold_wrapper.log_eval_metrics] Accuracy(layer_0 - estimator_0 - 10_folds.train_7.predict)=100.00%\n",
      "[ 2018-04-25 00:57:59,044][kfold_wrapper.log_eval_metrics] Accuracy(layer_0 - estimator_0 - 10_folds.train_8.predict)=100.00%\n",
      "[ 2018-04-25 00:57:59,676][kfold_wrapper.log_eval_metrics] Accuracy(layer_0 - estimator_0 - 10_folds.train_9.predict)=100.00%\n",
      "[ 2018-04-25 00:57:59,820][kfold_wrapper.log_eval_metrics] Accuracy(layer_0 - estimator_0 - 10_folds.train_cv.predict)=99.41%\n",
      "[ 2018-04-25 00:57:59,822][kfold_wrapper.log_eval_metrics] Accuracy(layer_0 - estimator_0 - 10_folds.test.predict)=99.40%\n",
      "[ 2018-04-25 00:57:59,828][cascade_classifier.calc_accuracy] Accuracy(layer_0 - train.classifier_average)=99.41%\n",
      "[ 2018-04-25 00:57:59,829][cascade_classifier.calc_accuracy] Accuracy(layer_0 - test.classifier_average)=99.40%\n",
      "[ 2018-04-25 00:57:59,831][cascade_classifier.fit_transform] [Result][Reach Max Layer] opt_layer_num=1, accuracy_train=99.41%, accuracy_test=99.40%\n",
      "[ 2018-04-25 00:57:59,832][cascade_classifier.transform] X_groups_test.shape=[(335, 11)]\n",
      "[ 2018-04-25 00:57:59,834][cascade_classifier.transform] group_dims=[11]\n",
      "[ 2018-04-25 00:57:59,835][cascade_classifier.transform] X_test.shape=(335, 11)\n",
      "[ 2018-04-25 00:57:59,837][cascade_classifier.transform] [layer=0] look_indexs=[0], X_cur_test.shape=(335, 11)\n",
      "[ 2018-04-25 00:58:01,226][cascade_classifier.fit_transform] X_groups_train.shape=[(678, 11)],y_train.shape=(678,),X_groups_test.shape=[(335, 11)],y_test.shape=(335,)\n",
      "[ 2018-04-25 00:58:01,228][cascade_classifier.fit_transform] group_dims=[11]\n",
      "[ 2018-04-25 00:58:01,230][cascade_classifier.fit_transform] group_starts=[0]\n",
      "[ 2018-04-25 00:58:01,231][cascade_classifier.fit_transform] group_ends=[11]\n",
      "[ 2018-04-25 00:58:01,233][cascade_classifier.fit_transform] X_train.shape=(678, 11),X_test.shape=(335, 11)\n",
      "[ 2018-04-25 00:58:01,235][cascade_classifier.fit_transform] [layer=0] look_indexs=[0], X_cur_train.shape=(678, 11), X_cur_test.shape=(335, 11)\n"
     ]
    },
    {
     "name": "stdout",
     "output_type": "stream",
     "text": [
      "('Test Accuracy of ExtraTrees = 99.402985 %', 6, 'fois')\n"
     ]
    },
    {
     "name": "stderr",
     "output_type": "stream",
     "text": [
      "[ 2018-04-25 00:58:01,868][kfold_wrapper.log_eval_metrics] Accuracy(layer_0 - estimator_0 - 10_folds.train_0.predict)=100.00%\n",
      "[ 2018-04-25 00:58:02,532][kfold_wrapper.log_eval_metrics] Accuracy(layer_0 - estimator_0 - 10_folds.train_1.predict)=100.00%\n",
      "[ 2018-04-25 00:58:03,387][kfold_wrapper.log_eval_metrics] Accuracy(layer_0 - estimator_0 - 10_folds.train_2.predict)=100.00%\n",
      "[ 2018-04-25 00:58:04,168][kfold_wrapper.log_eval_metrics] Accuracy(layer_0 - estimator_0 - 10_folds.train_3.predict)=100.00%\n",
      "[ 2018-04-25 00:58:04,974][kfold_wrapper.log_eval_metrics] Accuracy(layer_0 - estimator_0 - 10_folds.train_4.predict)=97.01%\n",
      "[ 2018-04-25 00:58:05,707][kfold_wrapper.log_eval_metrics] Accuracy(layer_0 - estimator_0 - 10_folds.train_5.predict)=98.53%\n",
      "[ 2018-04-25 00:58:06,477][kfold_wrapper.log_eval_metrics] Accuracy(layer_0 - estimator_0 - 10_folds.train_6.predict)=100.00%\n",
      "[ 2018-04-25 00:58:07,244][kfold_wrapper.log_eval_metrics] Accuracy(layer_0 - estimator_0 - 10_folds.train_7.predict)=100.00%\n",
      "[ 2018-04-25 00:58:07,875][kfold_wrapper.log_eval_metrics] Accuracy(layer_0 - estimator_0 - 10_folds.train_8.predict)=100.00%\n",
      "[ 2018-04-25 00:58:08,623][kfold_wrapper.log_eval_metrics] Accuracy(layer_0 - estimator_0 - 10_folds.train_9.predict)=100.00%\n",
      "[ 2018-04-25 00:58:08,749][kfold_wrapper.log_eval_metrics] Accuracy(layer_0 - estimator_0 - 10_folds.train_cv.predict)=99.56%\n",
      "[ 2018-04-25 00:58:08,751][kfold_wrapper.log_eval_metrics] Accuracy(layer_0 - estimator_0 - 10_folds.test.predict)=100.00%\n",
      "[ 2018-04-25 00:58:08,756][cascade_classifier.calc_accuracy] Accuracy(layer_0 - train.classifier_average)=99.56%\n",
      "[ 2018-04-25 00:58:08,758][cascade_classifier.calc_accuracy] Accuracy(layer_0 - test.classifier_average)=100.00%\n",
      "[ 2018-04-25 00:58:08,760][cascade_classifier.fit_transform] [Result][Reach Max Layer] opt_layer_num=1, accuracy_train=99.56%, accuracy_test=100.00%\n",
      "[ 2018-04-25 00:58:08,762][cascade_classifier.transform] X_groups_test.shape=[(335, 11)]\n",
      "[ 2018-04-25 00:58:08,764][cascade_classifier.transform] group_dims=[11]\n",
      "[ 2018-04-25 00:58:08,765][cascade_classifier.transform] X_test.shape=(335, 11)\n",
      "[ 2018-04-25 00:58:08,766][cascade_classifier.transform] [layer=0] look_indexs=[0], X_cur_test.shape=(335, 11)\n",
      "[ 2018-04-25 00:58:10,298][cascade_classifier.fit_transform] X_groups_train.shape=[(678, 11)],y_train.shape=(678,),X_groups_test.shape=[(335, 11)],y_test.shape=(335,)\n",
      "[ 2018-04-25 00:58:10,300][cascade_classifier.fit_transform] group_dims=[11]\n",
      "[ 2018-04-25 00:58:10,302][cascade_classifier.fit_transform] group_starts=[0]\n",
      "[ 2018-04-25 00:58:10,304][cascade_classifier.fit_transform] group_ends=[11]\n",
      "[ 2018-04-25 00:58:10,305][cascade_classifier.fit_transform] X_train.shape=(678, 11),X_test.shape=(335, 11)\n",
      "[ 2018-04-25 00:58:10,307][cascade_classifier.fit_transform] [layer=0] look_indexs=[0], X_cur_train.shape=(678, 11), X_cur_test.shape=(335, 11)\n"
     ]
    },
    {
     "name": "stdout",
     "output_type": "stream",
     "text": [
      "('Test Accuracy of ExtraTrees = 100.000000 %', 7, 'fois')\n"
     ]
    },
    {
     "name": "stderr",
     "output_type": "stream",
     "text": [
      "[ 2018-04-25 00:58:10,925][kfold_wrapper.log_eval_metrics] Accuracy(layer_0 - estimator_0 - 10_folds.train_0.predict)=100.00%\n",
      "[ 2018-04-25 00:58:11,711][kfold_wrapper.log_eval_metrics] Accuracy(layer_0 - estimator_0 - 10_folds.train_1.predict)=100.00%\n",
      "[ 2018-04-25 00:58:12,481][kfold_wrapper.log_eval_metrics] Accuracy(layer_0 - estimator_0 - 10_folds.train_2.predict)=100.00%\n",
      "[ 2018-04-25 00:58:13,287][kfold_wrapper.log_eval_metrics] Accuracy(layer_0 - estimator_0 - 10_folds.train_3.predict)=98.53%\n",
      "[ 2018-04-25 00:58:14,049][kfold_wrapper.log_eval_metrics] Accuracy(layer_0 - estimator_0 - 10_folds.train_4.predict)=97.01%\n",
      "[ 2018-04-25 00:58:14,700][kfold_wrapper.log_eval_metrics] Accuracy(layer_0 - estimator_0 - 10_folds.train_5.predict)=98.53%\n",
      "[ 2018-04-25 00:58:15,406][kfold_wrapper.log_eval_metrics] Accuracy(layer_0 - estimator_0 - 10_folds.train_6.predict)=100.00%\n",
      "[ 2018-04-25 00:58:16,069][kfold_wrapper.log_eval_metrics] Accuracy(layer_0 - estimator_0 - 10_folds.train_7.predict)=100.00%\n",
      "[ 2018-04-25 00:58:16,712][kfold_wrapper.log_eval_metrics] Accuracy(layer_0 - estimator_0 - 10_folds.train_8.predict)=98.53%\n",
      "[ 2018-04-25 00:58:17,403][kfold_wrapper.log_eval_metrics] Accuracy(layer_0 - estimator_0 - 10_folds.train_9.predict)=100.00%\n",
      "[ 2018-04-25 00:58:17,535][kfold_wrapper.log_eval_metrics] Accuracy(layer_0 - estimator_0 - 10_folds.train_cv.predict)=99.26%\n",
      "[ 2018-04-25 00:58:17,537][kfold_wrapper.log_eval_metrics] Accuracy(layer_0 - estimator_0 - 10_folds.test.predict)=99.40%\n",
      "[ 2018-04-25 00:58:17,541][cascade_classifier.calc_accuracy] Accuracy(layer_0 - train.classifier_average)=99.26%\n",
      "[ 2018-04-25 00:58:17,542][cascade_classifier.calc_accuracy] Accuracy(layer_0 - test.classifier_average)=99.40%\n",
      "[ 2018-04-25 00:58:17,544][cascade_classifier.fit_transform] [Result][Reach Max Layer] opt_layer_num=1, accuracy_train=99.26%, accuracy_test=99.40%\n",
      "[ 2018-04-25 00:58:17,545][cascade_classifier.transform] X_groups_test.shape=[(335, 11)]\n",
      "[ 2018-04-25 00:58:17,546][cascade_classifier.transform] group_dims=[11]\n",
      "[ 2018-04-25 00:58:17,547][cascade_classifier.transform] X_test.shape=(335, 11)\n",
      "[ 2018-04-25 00:58:17,548][cascade_classifier.transform] [layer=0] look_indexs=[0], X_cur_test.shape=(335, 11)\n",
      "[ 2018-04-25 00:58:19,019][cascade_classifier.fit_transform] X_groups_train.shape=[(678, 11)],y_train.shape=(678,),X_groups_test.shape=[(335, 11)],y_test.shape=(335,)\n",
      "[ 2018-04-25 00:58:19,021][cascade_classifier.fit_transform] group_dims=[11]\n",
      "[ 2018-04-25 00:58:19,022][cascade_classifier.fit_transform] group_starts=[0]\n",
      "[ 2018-04-25 00:58:19,024][cascade_classifier.fit_transform] group_ends=[11]\n",
      "[ 2018-04-25 00:58:19,025][cascade_classifier.fit_transform] X_train.shape=(678, 11),X_test.shape=(335, 11)\n",
      "[ 2018-04-25 00:58:19,027][cascade_classifier.fit_transform] [layer=0] look_indexs=[0], X_cur_train.shape=(678, 11), X_cur_test.shape=(335, 11)\n"
     ]
    },
    {
     "name": "stdout",
     "output_type": "stream",
     "text": [
      "('Test Accuracy of ExtraTrees = 99.402985 %', 8, 'fois')\n"
     ]
    },
    {
     "name": "stderr",
     "output_type": "stream",
     "text": [
      "[ 2018-04-25 00:58:19,651][kfold_wrapper.log_eval_metrics] Accuracy(layer_0 - estimator_0 - 10_folds.train_0.predict)=100.00%\n",
      "[ 2018-04-25 00:58:20,480][kfold_wrapper.log_eval_metrics] Accuracy(layer_0 - estimator_0 - 10_folds.train_1.predict)=100.00%\n",
      "[ 2018-04-25 00:58:21,235][kfold_wrapper.log_eval_metrics] Accuracy(layer_0 - estimator_0 - 10_folds.train_2.predict)=100.00%\n",
      "[ 2018-04-25 00:58:21,998][kfold_wrapper.log_eval_metrics] Accuracy(layer_0 - estimator_0 - 10_folds.train_3.predict)=100.00%\n",
      "[ 2018-04-25 00:58:22,790][kfold_wrapper.log_eval_metrics] Accuracy(layer_0 - estimator_0 - 10_folds.train_4.predict)=97.01%\n",
      "[ 2018-04-25 00:58:23,568][kfold_wrapper.log_eval_metrics] Accuracy(layer_0 - estimator_0 - 10_folds.train_5.predict)=98.53%\n",
      "[ 2018-04-25 00:58:24,346][kfold_wrapper.log_eval_metrics] Accuracy(layer_0 - estimator_0 - 10_folds.train_6.predict)=100.00%\n",
      "[ 2018-04-25 00:58:25,179][kfold_wrapper.log_eval_metrics] Accuracy(layer_0 - estimator_0 - 10_folds.train_7.predict)=100.00%\n",
      "[ 2018-04-25 00:58:26,063][kfold_wrapper.log_eval_metrics] Accuracy(layer_0 - estimator_0 - 10_folds.train_8.predict)=100.00%\n",
      "[ 2018-04-25 00:58:26,893][kfold_wrapper.log_eval_metrics] Accuracy(layer_0 - estimator_0 - 10_folds.train_9.predict)=100.00%\n",
      "[ 2018-04-25 00:58:27,042][kfold_wrapper.log_eval_metrics] Accuracy(layer_0 - estimator_0 - 10_folds.train_cv.predict)=99.56%\n",
      "[ 2018-04-25 00:58:27,044][kfold_wrapper.log_eval_metrics] Accuracy(layer_0 - estimator_0 - 10_folds.test.predict)=99.40%\n",
      "[ 2018-04-25 00:58:27,050][cascade_classifier.calc_accuracy] Accuracy(layer_0 - train.classifier_average)=99.56%\n",
      "[ 2018-04-25 00:58:27,051][cascade_classifier.calc_accuracy] Accuracy(layer_0 - test.classifier_average)=99.40%\n",
      "[ 2018-04-25 00:58:27,053][cascade_classifier.fit_transform] [Result][Reach Max Layer] opt_layer_num=1, accuracy_train=99.56%, accuracy_test=99.40%\n",
      "[ 2018-04-25 00:58:27,055][cascade_classifier.transform] X_groups_test.shape=[(335, 11)]\n",
      "[ 2018-04-25 00:58:27,057][cascade_classifier.transform] group_dims=[11]\n",
      "[ 2018-04-25 00:58:27,058][cascade_classifier.transform] X_test.shape=(335, 11)\n",
      "[ 2018-04-25 00:58:27,060][cascade_classifier.transform] [layer=0] look_indexs=[0], X_cur_test.shape=(335, 11)\n",
      "[ 2018-04-25 00:58:28,463][cascade_classifier.fit_transform] X_groups_train.shape=[(678, 11)],y_train.shape=(678,),X_groups_test.shape=[(335, 11)],y_test.shape=(335,)\n",
      "[ 2018-04-25 00:58:28,465][cascade_classifier.fit_transform] group_dims=[11]\n",
      "[ 2018-04-25 00:58:28,466][cascade_classifier.fit_transform] group_starts=[0]\n",
      "[ 2018-04-25 00:58:28,468][cascade_classifier.fit_transform] group_ends=[11]\n",
      "[ 2018-04-25 00:58:28,470][cascade_classifier.fit_transform] X_train.shape=(678, 11),X_test.shape=(335, 11)\n",
      "[ 2018-04-25 00:58:28,471][cascade_classifier.fit_transform] [layer=0] look_indexs=[0], X_cur_train.shape=(678, 11), X_cur_test.shape=(335, 11)\n"
     ]
    },
    {
     "name": "stdout",
     "output_type": "stream",
     "text": [
      "('Test Accuracy of ExtraTrees = 99.402985 %', 9, 'fois')\n"
     ]
    },
    {
     "name": "stderr",
     "output_type": "stream",
     "text": [
      "[ 2018-04-25 00:58:29,091][kfold_wrapper.log_eval_metrics] Accuracy(layer_0 - estimator_0 - 10_folds.train_0.predict)=100.00%\n",
      "[ 2018-04-25 00:58:29,855][kfold_wrapper.log_eval_metrics] Accuracy(layer_0 - estimator_0 - 10_folds.train_1.predict)=100.00%\n",
      "[ 2018-04-25 00:58:30,626][kfold_wrapper.log_eval_metrics] Accuracy(layer_0 - estimator_0 - 10_folds.train_2.predict)=100.00%\n",
      "[ 2018-04-25 00:58:31,566][kfold_wrapper.log_eval_metrics] Accuracy(layer_0 - estimator_0 - 10_folds.train_3.predict)=98.53%\n",
      "[ 2018-04-25 00:58:32,320][kfold_wrapper.log_eval_metrics] Accuracy(layer_0 - estimator_0 - 10_folds.train_4.predict)=97.01%\n",
      "[ 2018-04-25 00:58:33,113][kfold_wrapper.log_eval_metrics] Accuracy(layer_0 - estimator_0 - 10_folds.train_5.predict)=98.53%\n",
      "[ 2018-04-25 00:58:33,888][kfold_wrapper.log_eval_metrics] Accuracy(layer_0 - estimator_0 - 10_folds.train_6.predict)=100.00%\n",
      "[ 2018-04-25 00:58:34,632][kfold_wrapper.log_eval_metrics] Accuracy(layer_0 - estimator_0 - 10_folds.train_7.predict)=100.00%\n",
      "[ 2018-04-25 00:58:35,305][kfold_wrapper.log_eval_metrics] Accuracy(layer_0 - estimator_0 - 10_folds.train_8.predict)=100.00%\n",
      "[ 2018-04-25 00:58:36,070][kfold_wrapper.log_eval_metrics] Accuracy(layer_0 - estimator_0 - 10_folds.train_9.predict)=100.00%\n",
      "[ 2018-04-25 00:58:36,221][kfold_wrapper.log_eval_metrics] Accuracy(layer_0 - estimator_0 - 10_folds.train_cv.predict)=99.41%\n",
      "[ 2018-04-25 00:58:36,222][kfold_wrapper.log_eval_metrics] Accuracy(layer_0 - estimator_0 - 10_folds.test.predict)=99.40%\n",
      "[ 2018-04-25 00:58:36,228][cascade_classifier.calc_accuracy] Accuracy(layer_0 - train.classifier_average)=99.41%\n",
      "[ 2018-04-25 00:58:36,229][cascade_classifier.calc_accuracy] Accuracy(layer_0 - test.classifier_average)=99.40%\n",
      "[ 2018-04-25 00:58:36,231][cascade_classifier.fit_transform] [Result][Reach Max Layer] opt_layer_num=1, accuracy_train=99.41%, accuracy_test=99.40%\n",
      "[ 2018-04-25 00:58:36,233][cascade_classifier.transform] X_groups_test.shape=[(335, 11)]\n",
      "[ 2018-04-25 00:58:36,235][cascade_classifier.transform] group_dims=[11]\n",
      "[ 2018-04-25 00:58:36,237][cascade_classifier.transform] X_test.shape=(335, 11)\n",
      "[ 2018-04-25 00:58:36,238][cascade_classifier.transform] [layer=0] look_indexs=[0], X_cur_test.shape=(335, 11)\n",
      "[ 2018-04-25 00:58:37,724][cascade_classifier.fit_transform] X_groups_train.shape=[(678, 11)],y_train.shape=(678,),X_groups_test.shape=[(335, 11)],y_test.shape=(335,)\n",
      "[ 2018-04-25 00:58:37,726][cascade_classifier.fit_transform] group_dims=[11]\n",
      "[ 2018-04-25 00:58:37,727][cascade_classifier.fit_transform] group_starts=[0]\n",
      "[ 2018-04-25 00:58:37,729][cascade_classifier.fit_transform] group_ends=[11]\n",
      "[ 2018-04-25 00:58:37,731][cascade_classifier.fit_transform] X_train.shape=(678, 11),X_test.shape=(335, 11)\n",
      "[ 2018-04-25 00:58:37,733][cascade_classifier.fit_transform] [layer=0] look_indexs=[0], X_cur_train.shape=(678, 11), X_cur_test.shape=(335, 11)\n"
     ]
    },
    {
     "name": "stdout",
     "output_type": "stream",
     "text": [
      "('Test Accuracy of ExtraTrees = 99.402985 %', 10, 'fois')\n"
     ]
    },
    {
     "name": "stderr",
     "output_type": "stream",
     "text": [
      "[ 2018-04-25 00:58:38,386][kfold_wrapper.log_eval_metrics] Accuracy(layer_0 - estimator_0 - 10_folds.train_0.predict)=100.00%\n",
      "[ 2018-04-25 00:58:39,040][kfold_wrapper.log_eval_metrics] Accuracy(layer_0 - estimator_0 - 10_folds.train_1.predict)=100.00%\n",
      "[ 2018-04-25 00:58:39,817][kfold_wrapper.log_eval_metrics] Accuracy(layer_0 - estimator_0 - 10_folds.train_2.predict)=100.00%\n",
      "[ 2018-04-25 00:58:40,571][kfold_wrapper.log_eval_metrics] Accuracy(layer_0 - estimator_0 - 10_folds.train_3.predict)=98.53%\n",
      "[ 2018-04-25 00:58:41,298][kfold_wrapper.log_eval_metrics] Accuracy(layer_0 - estimator_0 - 10_folds.train_4.predict)=97.01%\n",
      "[ 2018-04-25 00:58:42,069][kfold_wrapper.log_eval_metrics] Accuracy(layer_0 - estimator_0 - 10_folds.train_5.predict)=98.53%\n",
      "[ 2018-04-25 00:58:42,838][kfold_wrapper.log_eval_metrics] Accuracy(layer_0 - estimator_0 - 10_folds.train_6.predict)=100.00%\n",
      "[ 2018-04-25 00:58:43,582][kfold_wrapper.log_eval_metrics] Accuracy(layer_0 - estimator_0 - 10_folds.train_7.predict)=100.00%\n",
      "[ 2018-04-25 00:58:44,467][kfold_wrapper.log_eval_metrics] Accuracy(layer_0 - estimator_0 - 10_folds.train_8.predict)=100.00%\n",
      "[ 2018-04-25 00:58:45,126][kfold_wrapper.log_eval_metrics] Accuracy(layer_0 - estimator_0 - 10_folds.train_9.predict)=100.00%\n",
      "[ 2018-04-25 00:58:45,257][kfold_wrapper.log_eval_metrics] Accuracy(layer_0 - estimator_0 - 10_folds.train_cv.predict)=99.41%\n",
      "[ 2018-04-25 00:58:45,259][kfold_wrapper.log_eval_metrics] Accuracy(layer_0 - estimator_0 - 10_folds.test.predict)=99.10%\n",
      "[ 2018-04-25 00:58:45,264][cascade_classifier.calc_accuracy] Accuracy(layer_0 - train.classifier_average)=99.41%\n",
      "[ 2018-04-25 00:58:45,266][cascade_classifier.calc_accuracy] Accuracy(layer_0 - test.classifier_average)=99.10%\n",
      "[ 2018-04-25 00:58:45,268][cascade_classifier.fit_transform] [Result][Reach Max Layer] opt_layer_num=1, accuracy_train=99.41%, accuracy_test=99.10%\n",
      "[ 2018-04-25 00:58:45,269][cascade_classifier.transform] X_groups_test.shape=[(335, 11)]\n",
      "[ 2018-04-25 00:58:45,272][cascade_classifier.transform] group_dims=[11]\n",
      "[ 2018-04-25 00:58:45,273][cascade_classifier.transform] X_test.shape=(335, 11)\n",
      "[ 2018-04-25 00:58:45,275][cascade_classifier.transform] [layer=0] look_indexs=[0], X_cur_test.shape=(335, 11)\n",
      "[ 2018-04-25 00:58:46,674][cascade_classifier.fit_transform] X_groups_train.shape=[(678, 11)],y_train.shape=(678,),X_groups_test.shape=[(335, 11)],y_test.shape=(335,)\n",
      "[ 2018-04-25 00:58:46,677][cascade_classifier.fit_transform] group_dims=[11]\n",
      "[ 2018-04-25 00:58:46,678][cascade_classifier.fit_transform] group_starts=[0]\n",
      "[ 2018-04-25 00:58:46,680][cascade_classifier.fit_transform] group_ends=[11]\n",
      "[ 2018-04-25 00:58:46,681][cascade_classifier.fit_transform] X_train.shape=(678, 11),X_test.shape=(335, 11)\n",
      "[ 2018-04-25 00:58:46,683][cascade_classifier.fit_transform] [layer=0] look_indexs=[0], X_cur_train.shape=(678, 11), X_cur_test.shape=(335, 11)\n"
     ]
    },
    {
     "name": "stdout",
     "output_type": "stream",
     "text": [
      "('Test Accuracy of ExtraTrees = 99.104478 %', 11, 'fois')\n"
     ]
    },
    {
     "name": "stderr",
     "output_type": "stream",
     "text": [
      "[ 2018-04-25 00:58:47,332][kfold_wrapper.log_eval_metrics] Accuracy(layer_0 - estimator_0 - 10_folds.train_0.predict)=100.00%\n",
      "[ 2018-04-25 00:58:48,105][kfold_wrapper.log_eval_metrics] Accuracy(layer_0 - estimator_0 - 10_folds.train_1.predict)=100.00%\n",
      "[ 2018-04-25 00:58:48,912][kfold_wrapper.log_eval_metrics] Accuracy(layer_0 - estimator_0 - 10_folds.train_2.predict)=100.00%\n",
      "[ 2018-04-25 00:58:49,705][kfold_wrapper.log_eval_metrics] Accuracy(layer_0 - estimator_0 - 10_folds.train_3.predict)=98.53%\n",
      "[ 2018-04-25 00:58:50,491][kfold_wrapper.log_eval_metrics] Accuracy(layer_0 - estimator_0 - 10_folds.train_4.predict)=97.01%\n",
      "[ 2018-04-25 00:58:51,277][kfold_wrapper.log_eval_metrics] Accuracy(layer_0 - estimator_0 - 10_folds.train_5.predict)=98.53%\n",
      "[ 2018-04-25 00:58:52,048][kfold_wrapper.log_eval_metrics] Accuracy(layer_0 - estimator_0 - 10_folds.train_6.predict)=100.00%\n",
      "[ 2018-04-25 00:58:52,861][kfold_wrapper.log_eval_metrics] Accuracy(layer_0 - estimator_0 - 10_folds.train_7.predict)=100.00%\n",
      "[ 2018-04-25 00:58:53,650][kfold_wrapper.log_eval_metrics] Accuracy(layer_0 - estimator_0 - 10_folds.train_8.predict)=98.53%\n",
      "[ 2018-04-25 00:58:54,436][kfold_wrapper.log_eval_metrics] Accuracy(layer_0 - estimator_0 - 10_folds.train_9.predict)=100.00%\n",
      "[ 2018-04-25 00:58:54,583][kfold_wrapper.log_eval_metrics] Accuracy(layer_0 - estimator_0 - 10_folds.train_cv.predict)=99.26%\n",
      "[ 2018-04-25 00:58:54,585][kfold_wrapper.log_eval_metrics] Accuracy(layer_0 - estimator_0 - 10_folds.test.predict)=99.40%\n",
      "[ 2018-04-25 00:58:54,590][cascade_classifier.calc_accuracy] Accuracy(layer_0 - train.classifier_average)=99.26%\n",
      "[ 2018-04-25 00:58:54,592][cascade_classifier.calc_accuracy] Accuracy(layer_0 - test.classifier_average)=99.40%\n",
      "[ 2018-04-25 00:58:54,593][cascade_classifier.fit_transform] [Result][Reach Max Layer] opt_layer_num=1, accuracy_train=99.26%, accuracy_test=99.40%\n",
      "[ 2018-04-25 00:58:54,594][cascade_classifier.transform] X_groups_test.shape=[(335, 11)]\n",
      "[ 2018-04-25 00:58:54,596][cascade_classifier.transform] group_dims=[11]\n",
      "[ 2018-04-25 00:58:54,597][cascade_classifier.transform] X_test.shape=(335, 11)\n",
      "[ 2018-04-25 00:58:54,598][cascade_classifier.transform] [layer=0] look_indexs=[0], X_cur_test.shape=(335, 11)\n",
      "[ 2018-04-25 00:58:55,990][cascade_classifier.fit_transform] X_groups_train.shape=[(678, 11)],y_train.shape=(678,),X_groups_test.shape=[(335, 11)],y_test.shape=(335,)\n",
      "[ 2018-04-25 00:58:55,993][cascade_classifier.fit_transform] group_dims=[11]\n",
      "[ 2018-04-25 00:58:55,994][cascade_classifier.fit_transform] group_starts=[0]\n",
      "[ 2018-04-25 00:58:55,996][cascade_classifier.fit_transform] group_ends=[11]\n",
      "[ 2018-04-25 00:58:55,997][cascade_classifier.fit_transform] X_train.shape=(678, 11),X_test.shape=(335, 11)\n",
      "[ 2018-04-25 00:58:55,999][cascade_classifier.fit_transform] [layer=0] look_indexs=[0], X_cur_train.shape=(678, 11), X_cur_test.shape=(335, 11)\n"
     ]
    },
    {
     "name": "stdout",
     "output_type": "stream",
     "text": [
      "('Test Accuracy of ExtraTrees = 99.402985 %', 12, 'fois')\n"
     ]
    },
    {
     "name": "stderr",
     "output_type": "stream",
     "text": [
      "[ 2018-04-25 00:58:56,597][kfold_wrapper.log_eval_metrics] Accuracy(layer_0 - estimator_0 - 10_folds.train_0.predict)=100.00%\n",
      "[ 2018-04-25 00:58:57,374][kfold_wrapper.log_eval_metrics] Accuracy(layer_0 - estimator_0 - 10_folds.train_1.predict)=100.00%\n",
      "[ 2018-04-25 00:58:58,179][kfold_wrapper.log_eval_metrics] Accuracy(layer_0 - estimator_0 - 10_folds.train_2.predict)=100.00%\n",
      "[ 2018-04-25 00:58:58,824][kfold_wrapper.log_eval_metrics] Accuracy(layer_0 - estimator_0 - 10_folds.train_3.predict)=98.53%\n",
      "[ 2018-04-25 00:58:59,610][kfold_wrapper.log_eval_metrics] Accuracy(layer_0 - estimator_0 - 10_folds.train_4.predict)=97.01%\n",
      "[ 2018-04-25 00:59:00,395][kfold_wrapper.log_eval_metrics] Accuracy(layer_0 - estimator_0 - 10_folds.train_5.predict)=98.53%\n",
      "[ 2018-04-25 00:59:01,205][kfold_wrapper.log_eval_metrics] Accuracy(layer_0 - estimator_0 - 10_folds.train_6.predict)=100.00%\n",
      "[ 2018-04-25 00:59:02,021][kfold_wrapper.log_eval_metrics] Accuracy(layer_0 - estimator_0 - 10_folds.train_7.predict)=100.00%\n",
      "[ 2018-04-25 00:59:02,802][kfold_wrapper.log_eval_metrics] Accuracy(layer_0 - estimator_0 - 10_folds.train_8.predict)=100.00%\n",
      "[ 2018-04-25 00:59:03,442][kfold_wrapper.log_eval_metrics] Accuracy(layer_0 - estimator_0 - 10_folds.train_9.predict)=100.00%\n",
      "[ 2018-04-25 00:59:03,599][kfold_wrapper.log_eval_metrics] Accuracy(layer_0 - estimator_0 - 10_folds.train_cv.predict)=99.41%\n",
      "[ 2018-04-25 00:59:03,601][kfold_wrapper.log_eval_metrics] Accuracy(layer_0 - estimator_0 - 10_folds.test.predict)=98.81%\n",
      "[ 2018-04-25 00:59:03,606][cascade_classifier.calc_accuracy] Accuracy(layer_0 - train.classifier_average)=99.41%\n",
      "[ 2018-04-25 00:59:03,607][cascade_classifier.calc_accuracy] Accuracy(layer_0 - test.classifier_average)=98.81%\n",
      "[ 2018-04-25 00:59:03,609][cascade_classifier.fit_transform] [Result][Reach Max Layer] opt_layer_num=1, accuracy_train=99.41%, accuracy_test=98.81%\n",
      "[ 2018-04-25 00:59:03,610][cascade_classifier.transform] X_groups_test.shape=[(335, 11)]\n",
      "[ 2018-04-25 00:59:03,612][cascade_classifier.transform] group_dims=[11]\n",
      "[ 2018-04-25 00:59:03,613][cascade_classifier.transform] X_test.shape=(335, 11)\n",
      "[ 2018-04-25 00:59:03,614][cascade_classifier.transform] [layer=0] look_indexs=[0], X_cur_test.shape=(335, 11)\n",
      "[ 2018-04-25 00:59:05,079][cascade_classifier.fit_transform] X_groups_train.shape=[(678, 11)],y_train.shape=(678,),X_groups_test.shape=[(335, 11)],y_test.shape=(335,)\n",
      "[ 2018-04-25 00:59:05,081][cascade_classifier.fit_transform] group_dims=[11]\n",
      "[ 2018-04-25 00:59:05,083][cascade_classifier.fit_transform] group_starts=[0]\n",
      "[ 2018-04-25 00:59:05,084][cascade_classifier.fit_transform] group_ends=[11]\n",
      "[ 2018-04-25 00:59:05,086][cascade_classifier.fit_transform] X_train.shape=(678, 11),X_test.shape=(335, 11)\n",
      "[ 2018-04-25 00:59:05,088][cascade_classifier.fit_transform] [layer=0] look_indexs=[0], X_cur_train.shape=(678, 11), X_cur_test.shape=(335, 11)\n"
     ]
    },
    {
     "name": "stdout",
     "output_type": "stream",
     "text": [
      "('Test Accuracy of ExtraTrees = 98.805970 %', 13, 'fois')\n"
     ]
    },
    {
     "name": "stderr",
     "output_type": "stream",
     "text": [
      "[ 2018-04-25 00:59:05,701][kfold_wrapper.log_eval_metrics] Accuracy(layer_0 - estimator_0 - 10_folds.train_0.predict)=100.00%\n",
      "[ 2018-04-25 00:59:06,473][kfold_wrapper.log_eval_metrics] Accuracy(layer_0 - estimator_0 - 10_folds.train_1.predict)=100.00%\n",
      "[ 2018-04-25 00:59:07,290][kfold_wrapper.log_eval_metrics] Accuracy(layer_0 - estimator_0 - 10_folds.train_2.predict)=100.00%\n",
      "[ 2018-04-25 00:59:08,077][kfold_wrapper.log_eval_metrics] Accuracy(layer_0 - estimator_0 - 10_folds.train_3.predict)=98.53%\n"
     ]
    }
   ],
   "source": [
    "# Deep\n",
    "for i in range (20):\n",
    "    X_train,X_test=update(X_train,X_test)\n",
    "    X_test_enc, X_train_enc=newdata(X_test_enc, X_train_enc)\n",
    "\n",
    "    X_train=X_train_enc\n",
    "    X_test=X_test_enc \n",
    "    X_train_enc, X_test_enc = gc.fit_transform(X_train, y_train, X_test=X_test, y_test=y_test)\n",
    "    affiche()"
   ]
  },
  {
   "cell_type": "code",
   "execution_count": null,
   "metadata": {
    "collapsed": true
   },
   "outputs": [],
   "source": []
  },
  {
   "cell_type": "markdown",
   "metadata": {
    "collapsed": true
   },
   "source": [
    "# ('Test Accuracy of ExtraTrees = 100.000000 %', 0, 'fois')"
   ]
  },
  {
   "cell_type": "code",
   "execution_count": null,
   "metadata": {
    "collapsed": true
   },
   "outputs": [],
   "source": []
  },
  {
   "cell_type": "code",
   "execution_count": null,
   "metadata": {
    "collapsed": true
   },
   "outputs": [],
   "source": []
  }
 ],
 "metadata": {
  "kernelspec": {
   "display_name": "Python 2",
   "language": "python",
   "name": "python2"
  },
  "language_info": {
   "codemirror_mode": {
    "name": "ipython",
    "version": 2
   },
   "file_extension": ".py",
   "mimetype": "text/x-python",
   "name": "python",
   "nbconvert_exporter": "python",
   "pygments_lexer": "ipython2",
   "version": "2.7.14"
  }
 },
 "nbformat": 4,
 "nbformat_minor": 2
}
