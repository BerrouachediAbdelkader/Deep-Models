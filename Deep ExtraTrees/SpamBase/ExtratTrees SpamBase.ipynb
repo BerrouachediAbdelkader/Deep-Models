{
 "cells": [
  {
   "cell_type": "code",
   "execution_count": 1,
   "metadata": {
    "collapsed": true
   },
   "outputs": [],
   "source": [
    "# imports \n",
    "import numpy as np\n",
    "from math import sqrt \n",
    "from pprint import pprint\n",
    "from numpy import array\n",
    "from scipy.io import arff\n",
    "import pandas as pd"
   ]
  },
  {
   "cell_type": "code",
   "execution_count": 2,
   "metadata": {},
   "outputs": [
    {
     "data": {
      "text/html": [
       "<div>\n",
       "<style>\n",
       "    .dataframe thead tr:only-child th {\n",
       "        text-align: right;\n",
       "    }\n",
       "\n",
       "    .dataframe thead th {\n",
       "        text-align: left;\n",
       "    }\n",
       "\n",
       "    .dataframe tbody tr th {\n",
       "        vertical-align: top;\n",
       "    }\n",
       "</style>\n",
       "<table border=\"1\" class=\"dataframe\">\n",
       "  <thead>\n",
       "    <tr style=\"text-align: right;\">\n",
       "      <th></th>\n",
       "      <th>att1</th>\n",
       "      <th>att2</th>\n",
       "      <th>att3</th>\n",
       "      <th>att4</th>\n",
       "      <th>att5</th>\n",
       "      <th>att6</th>\n",
       "      <th>att7</th>\n",
       "      <th>att8</th>\n",
       "      <th>att9</th>\n",
       "      <th>att10</th>\n",
       "      <th>...</th>\n",
       "      <th>att49</th>\n",
       "      <th>att50</th>\n",
       "      <th>att51</th>\n",
       "      <th>att52</th>\n",
       "      <th>att53</th>\n",
       "      <th>att54</th>\n",
       "      <th>att55</th>\n",
       "      <th>att56</th>\n",
       "      <th>att57</th>\n",
       "      <th>outlier</th>\n",
       "    </tr>\n",
       "  </thead>\n",
       "  <tbody>\n",
       "    <tr>\n",
       "      <th>0</th>\n",
       "      <td>0.000000</td>\n",
       "      <td>0.044818</td>\n",
       "      <td>0.125490</td>\n",
       "      <td>0.0</td>\n",
       "      <td>0.032</td>\n",
       "      <td>0.000000</td>\n",
       "      <td>0.000000</td>\n",
       "      <td>0.000000</td>\n",
       "      <td>0.000000</td>\n",
       "      <td>0.000000</td>\n",
       "      <td>...</td>\n",
       "      <td>0.000000</td>\n",
       "      <td>0.000000</td>\n",
       "      <td>0.0</td>\n",
       "      <td>0.023955</td>\n",
       "      <td>0.000000</td>\n",
       "      <td>0.000000</td>\n",
       "      <td>0.002502</td>\n",
       "      <td>0.006007</td>\n",
       "      <td>0.017487</td>\n",
       "      <td>1</td>\n",
       "    </tr>\n",
       "    <tr>\n",
       "      <th>1</th>\n",
       "      <td>0.046256</td>\n",
       "      <td>0.019608</td>\n",
       "      <td>0.098039</td>\n",
       "      <td>0.0</td>\n",
       "      <td>0.014</td>\n",
       "      <td>0.047619</td>\n",
       "      <td>0.028886</td>\n",
       "      <td>0.006301</td>\n",
       "      <td>0.000000</td>\n",
       "      <td>0.051705</td>\n",
       "      <td>...</td>\n",
       "      <td>0.000000</td>\n",
       "      <td>0.013536</td>\n",
       "      <td>0.0</td>\n",
       "      <td>0.011454</td>\n",
       "      <td>0.029985</td>\n",
       "      <td>0.002421</td>\n",
       "      <td>0.003735</td>\n",
       "      <td>0.010012</td>\n",
       "      <td>0.064836</td>\n",
       "      <td>1</td>\n",
       "    </tr>\n",
       "    <tr>\n",
       "      <th>2</th>\n",
       "      <td>0.013216</td>\n",
       "      <td>0.000000</td>\n",
       "      <td>0.139216</td>\n",
       "      <td>0.0</td>\n",
       "      <td>0.123</td>\n",
       "      <td>0.032313</td>\n",
       "      <td>0.026135</td>\n",
       "      <td>0.010801</td>\n",
       "      <td>0.121673</td>\n",
       "      <td>0.013751</td>\n",
       "      <td>...</td>\n",
       "      <td>0.002281</td>\n",
       "      <td>0.014664</td>\n",
       "      <td>0.0</td>\n",
       "      <td>0.008498</td>\n",
       "      <td>0.030651</td>\n",
       "      <td>0.000504</td>\n",
       "      <td>0.008008</td>\n",
       "      <td>0.048458</td>\n",
       "      <td>0.142551</td>\n",
       "      <td>1</td>\n",
       "    </tr>\n",
       "    <tr>\n",
       "      <th>3</th>\n",
       "      <td>0.000000</td>\n",
       "      <td>0.000000</td>\n",
       "      <td>0.000000</td>\n",
       "      <td>0.0</td>\n",
       "      <td>0.063</td>\n",
       "      <td>0.000000</td>\n",
       "      <td>0.042641</td>\n",
       "      <td>0.056706</td>\n",
       "      <td>0.058935</td>\n",
       "      <td>0.034653</td>\n",
       "      <td>...</td>\n",
       "      <td>0.000000</td>\n",
       "      <td>0.014048</td>\n",
       "      <td>0.0</td>\n",
       "      <td>0.004218</td>\n",
       "      <td>0.000000</td>\n",
       "      <td>0.000000</td>\n",
       "      <td>0.002303</td>\n",
       "      <td>0.003905</td>\n",
       "      <td>0.011995</td>\n",
       "      <td>1</td>\n",
       "    </tr>\n",
       "    <tr>\n",
       "      <th>4</th>\n",
       "      <td>0.000000</td>\n",
       "      <td>0.000000</td>\n",
       "      <td>0.000000</td>\n",
       "      <td>0.0</td>\n",
       "      <td>0.063</td>\n",
       "      <td>0.000000</td>\n",
       "      <td>0.042641</td>\n",
       "      <td>0.056706</td>\n",
       "      <td>0.058935</td>\n",
       "      <td>0.034653</td>\n",
       "      <td>...</td>\n",
       "      <td>0.000000</td>\n",
       "      <td>0.013843</td>\n",
       "      <td>0.0</td>\n",
       "      <td>0.004157</td>\n",
       "      <td>0.000000</td>\n",
       "      <td>0.000000</td>\n",
       "      <td>0.002303</td>\n",
       "      <td>0.003905</td>\n",
       "      <td>0.011995</td>\n",
       "      <td>1</td>\n",
       "    </tr>\n",
       "  </tbody>\n",
       "</table>\n",
       "<p>5 rows × 58 columns</p>\n",
       "</div>"
      ],
      "text/plain": [
       "       att1      att2      att3  att4   att5      att6      att7      att8  \\\n",
       "0  0.000000  0.044818  0.125490   0.0  0.032  0.000000  0.000000  0.000000   \n",
       "1  0.046256  0.019608  0.098039   0.0  0.014  0.047619  0.028886  0.006301   \n",
       "2  0.013216  0.000000  0.139216   0.0  0.123  0.032313  0.026135  0.010801   \n",
       "3  0.000000  0.000000  0.000000   0.0  0.063  0.000000  0.042641  0.056706   \n",
       "4  0.000000  0.000000  0.000000   0.0  0.063  0.000000  0.042641  0.056706   \n",
       "\n",
       "       att9     att10   ...        att49     att50  att51     att52     att53  \\\n",
       "0  0.000000  0.000000   ...     0.000000  0.000000    0.0  0.023955  0.000000   \n",
       "1  0.000000  0.051705   ...     0.000000  0.013536    0.0  0.011454  0.029985   \n",
       "2  0.121673  0.013751   ...     0.002281  0.014664    0.0  0.008498  0.030651   \n",
       "3  0.058935  0.034653   ...     0.000000  0.014048    0.0  0.004218  0.000000   \n",
       "4  0.058935  0.034653   ...     0.000000  0.013843    0.0  0.004157  0.000000   \n",
       "\n",
       "      att54     att55     att56     att57  outlier  \n",
       "0  0.000000  0.002502  0.006007  0.017487        1  \n",
       "1  0.002421  0.003735  0.010012  0.064836        1  \n",
       "2  0.000504  0.008008  0.048458  0.142551        1  \n",
       "3  0.000000  0.002303  0.003905  0.011995        1  \n",
       "4  0.000000  0.002303  0.003905  0.011995        1  \n",
       "\n",
       "[5 rows x 58 columns]"
      ]
     },
     "execution_count": 2,
     "metadata": {},
     "output_type": "execute_result"
    }
   ],
   "source": [
    "# load data\n",
    "\n",
    "df=pd.read_csv('SpamBase_withoutdupl_norm_40.csv')  \n",
    "\n",
    "del df['id']\n",
    "del df['Unnamed: 0']\n",
    "df['outlier'] = df.outlier.apply(lambda label: 1 if label == \"'yes'\" else 0)\n",
    "\n",
    "df.head()"
   ]
  },
  {
   "cell_type": "code",
   "execution_count": 3,
   "metadata": {},
   "outputs": [
    {
     "data": {
      "text/plain": [
       "(4207, 58)"
      ]
     },
     "execution_count": 3,
     "metadata": {},
     "output_type": "execute_result"
    }
   ],
   "source": [
    "df.shape"
   ]
  },
  {
   "cell_type": "code",
   "execution_count": 4,
   "metadata": {
    "collapsed": true
   },
   "outputs": [],
   "source": [
    "# data to values\n",
    "df = df.values"
   ]
  },
  {
   "cell_type": "code",
   "execution_count": 5,
   "metadata": {
    "collapsed": true
   },
   "outputs": [],
   "source": [
    "# Extratrees Deep\n",
    "import argparse\n",
    "import sys\n",
    "import pickle\n",
    "from sklearn.metrics import accuracy_score\n",
    "sys.path.insert(0, \"lib\")\n",
    "from gcforest.gcforest import GCForest\n",
    "from gcforest.utils.config_utils import load_json\n",
    "config = load_json(\"./examples/SpamBase.json\")\n",
    "gc = GCForest(config)"
   ]
  },
  {
   "cell_type": "code",
   "execution_count": 15,
   "metadata": {
    "collapsed": true
   },
   "outputs": [],
   "source": [
    "# train test \n",
    "from sklearn.cross_validation import train_test_split\n",
    "y = df[:,57]\n",
    "X = df[:,0:57]\n",
    "\n",
    "X_train,X_test,y_train,y_test = train_test_split(X, y, test_size=0.33, random_state=42)"
   ]
  },
  {
   "cell_type": "code",
   "execution_count": 7,
   "metadata": {},
   "outputs": [
    {
     "data": {
      "text/plain": [
       "2"
      ]
     },
     "execution_count": 7,
     "metadata": {},
     "output_type": "execute_result"
    }
   ],
   "source": [
    "# number of class\n",
    "len(np.unique(y_train))"
   ]
  },
  {
   "cell_type": "code",
   "execution_count": 8,
   "metadata": {},
   "outputs": [
    {
     "name": "stderr",
     "output_type": "stream",
     "text": [
      "[ 2018-04-25 00:59:35,236][cascade_classifier.fit_transform] X_groups_train.shape=[(2818, 57)],y_train.shape=(2818,),X_groups_test.shape=[(1389, 57)],y_test.shape=(1389,)\n",
      "[ 2018-04-25 00:59:35,238][cascade_classifier.fit_transform] group_dims=[57]\n",
      "[ 2018-04-25 00:59:35,240][cascade_classifier.fit_transform] group_starts=[0]\n",
      "[ 2018-04-25 00:59:35,242][cascade_classifier.fit_transform] group_ends=[57]\n",
      "[ 2018-04-25 00:59:35,244][cascade_classifier.fit_transform] X_train.shape=(2818, 57),X_test.shape=(1389, 57)\n",
      "[ 2018-04-25 00:59:35,246][cascade_classifier.fit_transform] [layer=0] look_indexs=[0], X_cur_train.shape=(2818, 57), X_cur_test.shape=(1389, 57)\n",
      "[ 2018-04-25 00:59:36,007][kfold_wrapper.log_eval_metrics] Accuracy(layer_0 - estimator_0 - 10_folds.train_0.predict)=95.05%\n",
      "[ 2018-04-25 00:59:36,732][kfold_wrapper.log_eval_metrics] Accuracy(layer_0 - estimator_0 - 10_folds.train_1.predict)=93.29%\n",
      "[ 2018-04-25 00:59:37,460][kfold_wrapper.log_eval_metrics] Accuracy(layer_0 - estimator_0 - 10_folds.train_2.predict)=94.68%\n",
      "[ 2018-04-25 00:59:38,227][kfold_wrapper.log_eval_metrics] Accuracy(layer_0 - estimator_0 - 10_folds.train_3.predict)=95.39%\n",
      "[ 2018-04-25 00:59:38,992][kfold_wrapper.log_eval_metrics] Accuracy(layer_0 - estimator_0 - 10_folds.train_4.predict)=96.10%\n",
      "[ 2018-04-25 00:59:39,731][kfold_wrapper.log_eval_metrics] Accuracy(layer_0 - estimator_0 - 10_folds.train_5.predict)=93.62%\n",
      "[ 2018-04-25 00:59:40,566][kfold_wrapper.log_eval_metrics] Accuracy(layer_0 - estimator_0 - 10_folds.train_6.predict)=95.73%\n",
      "[ 2018-04-25 00:59:41,322][kfold_wrapper.log_eval_metrics] Accuracy(layer_0 - estimator_0 - 10_folds.train_7.predict)=95.73%\n",
      "[ 2018-04-25 00:59:42,114][kfold_wrapper.log_eval_metrics] Accuracy(layer_0 - estimator_0 - 10_folds.train_8.predict)=91.46%\n",
      "[ 2018-04-25 00:59:42,872][kfold_wrapper.log_eval_metrics] Accuracy(layer_0 - estimator_0 - 10_folds.train_9.predict)=95.02%\n",
      "[ 2018-04-25 00:59:43,007][kfold_wrapper.log_eval_metrics] Accuracy(layer_0 - estimator_0 - 10_folds.train_cv.predict)=94.61%\n",
      "[ 2018-04-25 00:59:43,009][kfold_wrapper.log_eval_metrics] Accuracy(layer_0 - estimator_0 - 10_folds.test.predict)=95.18%\n",
      "[ 2018-04-25 00:59:43,012][cascade_classifier.calc_accuracy] Accuracy(layer_0 - train.classifier_average)=94.61%\n",
      "[ 2018-04-25 00:59:43,014][cascade_classifier.calc_accuracy] Accuracy(layer_0 - test.classifier_average)=95.18%\n",
      "[ 2018-04-25 00:59:43,015][cascade_classifier.fit_transform] [Result][Reach Max Layer] opt_layer_num=1, accuracy_train=94.61%, accuracy_test=95.18%\n"
     ]
    }
   ],
   "source": [
    "            # X_enc is the concatenated predict_proba result of ExtraTrees\n",
    "\n",
    "X_train_enc, X_test_enc = gc.fit_transform(X_train, y_train, X_test=X_test, y_test=y_test)\n",
    "   "
   ]
  },
  {
   "cell_type": "code",
   "execution_count": 9,
   "metadata": {},
   "outputs": [
    {
     "name": "stderr",
     "output_type": "stream",
     "text": [
      "[ 2018-04-25 00:59:43,028][cascade_classifier.transform] X_groups_test.shape=[(1389, 57)]\n",
      "[ 2018-04-25 00:59:43,033][cascade_classifier.transform] group_dims=[57]\n",
      "[ 2018-04-25 00:59:43,034][cascade_classifier.transform] X_test.shape=(1389, 57)\n",
      "[ 2018-04-25 00:59:43,036][cascade_classifier.transform] [layer=0] look_indexs=[0], X_cur_test.shape=(1389, 57)\n"
     ]
    },
    {
     "name": "stdout",
     "output_type": "stream",
     "text": [
      "Test Accuracy of ExtraTrees = 95.176386 %\n"
     ]
    }
   ],
   "source": [
    "# predict\n",
    "y_pred = gc.predict(X_test)\n",
    "acc = accuracy_score(y_test, y_pred)\n",
    "print(\"Test Accuracy of ExtraTrees = {:.6f} %\".format(acc * 100))"
   ]
  },
  {
   "cell_type": "code",
   "execution_count": 10,
   "metadata": {},
   "outputs": [
    {
     "name": "stderr",
     "output_type": "stream",
     "text": [
      "[ 2018-04-25 00:59:44,583][cascade_classifier.transform] X_groups_test.shape=[(1389, 57)]\n",
      "[ 2018-04-25 00:59:44,586][cascade_classifier.transform] group_dims=[57]\n",
      "[ 2018-04-25 00:59:44,587][cascade_classifier.transform] X_test.shape=(1389, 57)\n",
      "[ 2018-04-25 00:59:44,590][cascade_classifier.transform] [layer=0] look_indexs=[0], X_cur_test.shape=(1389, 57)\n"
     ]
    }
   ],
   "source": [
    "# Make data + estimators\n",
    "X_test_enc = gc.transform(X_test)\n",
    "X_train_enc = X_train_enc.reshape((X_train_enc.shape[0], -1))\n",
    "X_test_enc = X_test_enc.reshape((X_test_enc.shape[0], -1))\n",
    "X_train_origin = X_train.reshape((X_train.shape[0], -1))\n",
    "X_test_origin = X_test.reshape((X_test.shape[0], -1))\n",
    "X_train_enc = np.hstack((X_train_origin, X_train_enc))\n",
    "X_test_enc = np.hstack((X_test_origin, X_test_enc))"
   ]
  },
  {
   "cell_type": "code",
   "execution_count": 11,
   "metadata": {},
   "outputs": [
    {
     "name": "stderr",
     "output_type": "stream",
     "text": [
      "[ 2018-04-25 00:59:45,987][cascade_classifier.fit_transform] X_groups_train.shape=[(2818, 59)],y_train.shape=(2818,),X_groups_test.shape=[(1389, 59)],y_test.shape=(1389,)\n",
      "[ 2018-04-25 00:59:45,991][cascade_classifier.fit_transform] group_dims=[59]\n",
      "[ 2018-04-25 00:59:45,991][cascade_classifier.fit_transform] group_starts=[0]\n",
      "[ 2018-04-25 00:59:45,993][cascade_classifier.fit_transform] group_ends=[59]\n",
      "[ 2018-04-25 00:59:45,994][cascade_classifier.fit_transform] X_train.shape=(2818, 59),X_test.shape=(1389, 59)\n",
      "[ 2018-04-25 00:59:45,997][cascade_classifier.fit_transform] [layer=0] look_indexs=[0], X_cur_train.shape=(2818, 59), X_cur_test.shape=(1389, 59)\n",
      "[ 2018-04-25 00:59:46,578][kfold_wrapper.log_eval_metrics] Accuracy(layer_0 - estimator_0 - 10_folds.train_0.predict)=95.76%\n",
      "[ 2018-04-25 00:59:47,336][kfold_wrapper.log_eval_metrics] Accuracy(layer_0 - estimator_0 - 10_folds.train_1.predict)=93.64%\n",
      "[ 2018-04-25 00:59:48,110][kfold_wrapper.log_eval_metrics] Accuracy(layer_0 - estimator_0 - 10_folds.train_2.predict)=94.68%\n",
      "[ 2018-04-25 00:59:48,981][kfold_wrapper.log_eval_metrics] Accuracy(layer_0 - estimator_0 - 10_folds.train_3.predict)=95.39%\n",
      "[ 2018-04-25 00:59:49,689][kfold_wrapper.log_eval_metrics] Accuracy(layer_0 - estimator_0 - 10_folds.train_4.predict)=95.39%\n",
      "[ 2018-04-25 00:59:50,420][kfold_wrapper.log_eval_metrics] Accuracy(layer_0 - estimator_0 - 10_folds.train_5.predict)=93.97%\n",
      "[ 2018-04-25 00:59:51,158][kfold_wrapper.log_eval_metrics] Accuracy(layer_0 - estimator_0 - 10_folds.train_6.predict)=95.73%\n",
      "[ 2018-04-25 00:59:51,919][kfold_wrapper.log_eval_metrics] Accuracy(layer_0 - estimator_0 - 10_folds.train_7.predict)=96.09%\n",
      "[ 2018-04-25 00:59:52,660][kfold_wrapper.log_eval_metrics] Accuracy(layer_0 - estimator_0 - 10_folds.train_8.predict)=90.75%\n",
      "[ 2018-04-25 00:59:53,396][kfold_wrapper.log_eval_metrics] Accuracy(layer_0 - estimator_0 - 10_folds.train_9.predict)=95.73%\n",
      "[ 2018-04-25 00:59:53,526][kfold_wrapper.log_eval_metrics] Accuracy(layer_0 - estimator_0 - 10_folds.train_cv.predict)=94.71%\n",
      "[ 2018-04-25 00:59:53,528][kfold_wrapper.log_eval_metrics] Accuracy(layer_0 - estimator_0 - 10_folds.test.predict)=95.10%\n",
      "[ 2018-04-25 00:59:53,539][cascade_classifier.calc_accuracy] Accuracy(layer_0 - train.classifier_average)=94.71%\n",
      "[ 2018-04-25 00:59:53,541][cascade_classifier.calc_accuracy] Accuracy(layer_0 - test.classifier_average)=95.10%\n",
      "[ 2018-04-25 00:59:53,542][cascade_classifier.fit_transform] [Result][Reach Max Layer] opt_layer_num=1, accuracy_train=94.71%, accuracy_test=95.10%\n"
     ]
    }
   ],
   "source": [
    "# New data\n",
    "X_train=X_train_enc\n",
    "X_test=X_test_enc \n",
    "X_train_enc, X_test_enc = gc.fit_transform(X_train, y_train, X_test=X_test, y_test=y_test)"
   ]
  },
  {
   "cell_type": "code",
   "execution_count": 12,
   "metadata": {},
   "outputs": [
    {
     "name": "stderr",
     "output_type": "stream",
     "text": [
      "[ 2018-04-25 00:59:53,555][cascade_classifier.transform] X_groups_test.shape=[(1389, 59)]\n",
      "[ 2018-04-25 00:59:53,557][cascade_classifier.transform] group_dims=[59]\n",
      "[ 2018-04-25 00:59:53,560][cascade_classifier.transform] X_test.shape=(1389, 59)\n",
      "[ 2018-04-25 00:59:53,563][cascade_classifier.transform] [layer=0] look_indexs=[0], X_cur_test.shape=(1389, 59)\n"
     ]
    },
    {
     "name": "stdout",
     "output_type": "stream",
     "text": [
      "Test Accuracy of ExtraTrees = 95.104392 %\n"
     ]
    }
   ],
   "source": [
    "# predict  data + Es\n",
    "y_pred = gc.predict(X_test)\n",
    "acc = accuracy_score(y_test, y_pred)\n",
    "print(\"Test Accuracy of ExtraTrees = {:.6f} %\".format(acc * 100))"
   ]
  },
  {
   "cell_type": "code",
   "execution_count": 13,
   "metadata": {
    "collapsed": true
   },
   "outputs": [],
   "source": [
    "def update(X_train,X_test):\n",
    "    # update Estimators\n",
    "    M = np.delete(X_train, (-1), axis=1)\n",
    "    X_train= np.delete(M, (-1), axis=1)\n",
    "    M = np.delete(X_test, (-1), axis=1)\n",
    "    X_test = np.delete(M, (-1), axis=1)\n",
    "    return X_train,X_test\n",
    "\n",
    "def newdata(X_test_enc, X_train_enc):\n",
    "    # Make Data + Estimators\n",
    "    X_train_origin = X_train.reshape((X_train.shape[0], -1))\n",
    "    X_test_origin = X_test.reshape((X_test.shape[0], -1))\n",
    "    X_train_enc = np.hstack((X_train_origin, X_train_enc))\n",
    "    X_test_enc = np.hstack((X_test_origin, X_test_enc))\n",
    "    return X_test_enc, X_train_enc\n",
    "\n",
    "def affiche():\n",
    "    # predict\n",
    "    y_pred = gc.predict(X_test)\n",
    "    acc = accuracy_score(y_test, y_pred)\n",
    "    print(\"Test Accuracy of ExtraTrees = {:.6f} %\".format(acc * 100),i,'fois')"
   ]
  },
  {
   "cell_type": "code",
   "execution_count": 14,
   "metadata": {},
   "outputs": [
    {
     "name": "stderr",
     "output_type": "stream",
     "text": [
      "[ 2018-04-25 00:59:55,174][cascade_classifier.fit_transform] X_groups_train.shape=[(2818, 59)],y_train.shape=(2818,),X_groups_test.shape=[(1389, 59)],y_test.shape=(1389,)\n",
      "[ 2018-04-25 00:59:55,176][cascade_classifier.fit_transform] group_dims=[59]\n",
      "[ 2018-04-25 00:59:55,177][cascade_classifier.fit_transform] group_starts=[0]\n",
      "[ 2018-04-25 00:59:55,179][cascade_classifier.fit_transform] group_ends=[59]\n",
      "[ 2018-04-25 00:59:55,181][cascade_classifier.fit_transform] X_train.shape=(2818, 59),X_test.shape=(1389, 59)\n",
      "[ 2018-04-25 00:59:55,183][cascade_classifier.fit_transform] [layer=0] look_indexs=[0], X_cur_train.shape=(2818, 59), X_cur_test.shape=(1389, 59)\n",
      "[ 2018-04-25 00:59:55,807][kfold_wrapper.log_eval_metrics] Accuracy(layer_0 - estimator_0 - 10_folds.train_0.predict)=95.76%\n",
      "[ 2018-04-25 00:59:56,547][kfold_wrapper.log_eval_metrics] Accuracy(layer_0 - estimator_0 - 10_folds.train_1.predict)=93.29%\n",
      "[ 2018-04-25 00:59:57,339][kfold_wrapper.log_eval_metrics] Accuracy(layer_0 - estimator_0 - 10_folds.train_2.predict)=94.33%\n",
      "[ 2018-04-25 00:59:58,154][kfold_wrapper.log_eval_metrics] Accuracy(layer_0 - estimator_0 - 10_folds.train_3.predict)=95.04%\n",
      "[ 2018-04-25 00:59:58,961][kfold_wrapper.log_eval_metrics] Accuracy(layer_0 - estimator_0 - 10_folds.train_4.predict)=93.97%\n",
      "[ 2018-04-25 00:59:59,717][kfold_wrapper.log_eval_metrics] Accuracy(layer_0 - estimator_0 - 10_folds.train_5.predict)=95.04%\n",
      "[ 2018-04-25 01:00:00,584][kfold_wrapper.log_eval_metrics] Accuracy(layer_0 - estimator_0 - 10_folds.train_6.predict)=95.73%\n",
      "[ 2018-04-25 01:00:01,401][kfold_wrapper.log_eval_metrics] Accuracy(layer_0 - estimator_0 - 10_folds.train_7.predict)=96.44%\n",
      "[ 2018-04-25 01:00:02,183][kfold_wrapper.log_eval_metrics] Accuracy(layer_0 - estimator_0 - 10_folds.train_8.predict)=91.46%\n",
      "[ 2018-04-25 01:00:03,000][kfold_wrapper.log_eval_metrics] Accuracy(layer_0 - estimator_0 - 10_folds.train_9.predict)=95.02%\n",
      "[ 2018-04-25 01:00:03,156][kfold_wrapper.log_eval_metrics] Accuracy(layer_0 - estimator_0 - 10_folds.train_cv.predict)=94.61%\n",
      "[ 2018-04-25 01:00:03,157][kfold_wrapper.log_eval_metrics] Accuracy(layer_0 - estimator_0 - 10_folds.test.predict)=94.96%\n",
      "[ 2018-04-25 01:00:03,168][cascade_classifier.calc_accuracy] Accuracy(layer_0 - train.classifier_average)=94.61%\n",
      "[ 2018-04-25 01:00:03,170][cascade_classifier.calc_accuracy] Accuracy(layer_0 - test.classifier_average)=94.96%\n",
      "[ 2018-04-25 01:00:03,171][cascade_classifier.fit_transform] [Result][Reach Max Layer] opt_layer_num=1, accuracy_train=94.61%, accuracy_test=94.96%\n",
      "[ 2018-04-25 01:00:03,172][cascade_classifier.transform] X_groups_test.shape=[(1389, 59)]\n",
      "[ 2018-04-25 01:00:03,174][cascade_classifier.transform] group_dims=[59]\n",
      "[ 2018-04-25 01:00:03,175][cascade_classifier.transform] X_test.shape=(1389, 59)\n",
      "[ 2018-04-25 01:00:03,178][cascade_classifier.transform] [layer=0] look_indexs=[0], X_cur_test.shape=(1389, 59)\n",
      "[ 2018-04-25 01:00:04,723][cascade_classifier.fit_transform] X_groups_train.shape=[(2818, 59)],y_train.shape=(2818,),X_groups_test.shape=[(1389, 59)],y_test.shape=(1389,)\n",
      "[ 2018-04-25 01:00:04,726][cascade_classifier.fit_transform] group_dims=[59]\n",
      "[ 2018-04-25 01:00:04,728][cascade_classifier.fit_transform] group_starts=[0]\n",
      "[ 2018-04-25 01:00:04,730][cascade_classifier.fit_transform] group_ends=[59]\n",
      "[ 2018-04-25 01:00:04,731][cascade_classifier.fit_transform] X_train.shape=(2818, 59),X_test.shape=(1389, 59)\n",
      "[ 2018-04-25 01:00:04,734][cascade_classifier.fit_transform] [layer=0] look_indexs=[0], X_cur_train.shape=(2818, 59), X_cur_test.shape=(1389, 59)\n"
     ]
    },
    {
     "name": "stdout",
     "output_type": "stream",
     "text": [
      "('Test Accuracy of ExtraTrees = 94.960403 %', 0, 'fois')\n"
     ]
    },
    {
     "name": "stderr",
     "output_type": "stream",
     "text": [
      "[ 2018-04-25 01:00:05,439][kfold_wrapper.log_eval_metrics] Accuracy(layer_0 - estimator_0 - 10_folds.train_0.predict)=95.76%\n",
      "[ 2018-04-25 01:00:06,283][kfold_wrapper.log_eval_metrics] Accuracy(layer_0 - estimator_0 - 10_folds.train_1.predict)=93.64%\n",
      "[ 2018-04-25 01:00:07,053][kfold_wrapper.log_eval_metrics] Accuracy(layer_0 - estimator_0 - 10_folds.train_2.predict)=95.39%\n",
      "[ 2018-04-25 01:00:07,843][kfold_wrapper.log_eval_metrics] Accuracy(layer_0 - estimator_0 - 10_folds.train_3.predict)=96.45%\n",
      "[ 2018-04-25 01:00:08,636][kfold_wrapper.log_eval_metrics] Accuracy(layer_0 - estimator_0 - 10_folds.train_4.predict)=94.68%\n",
      "[ 2018-04-25 01:00:09,434][kfold_wrapper.log_eval_metrics] Accuracy(layer_0 - estimator_0 - 10_folds.train_5.predict)=95.04%\n",
      "[ 2018-04-25 01:00:10,246][kfold_wrapper.log_eval_metrics] Accuracy(layer_0 - estimator_0 - 10_folds.train_6.predict)=95.37%\n",
      "[ 2018-04-25 01:00:11,147][kfold_wrapper.log_eval_metrics] Accuracy(layer_0 - estimator_0 - 10_folds.train_7.predict)=96.09%\n",
      "[ 2018-04-25 01:00:11,933][kfold_wrapper.log_eval_metrics] Accuracy(layer_0 - estimator_0 - 10_folds.train_8.predict)=92.17%\n",
      "[ 2018-04-25 01:00:12,720][kfold_wrapper.log_eval_metrics] Accuracy(layer_0 - estimator_0 - 10_folds.train_9.predict)=95.02%\n",
      "[ 2018-04-25 01:00:12,876][kfold_wrapper.log_eval_metrics] Accuracy(layer_0 - estimator_0 - 10_folds.train_cv.predict)=94.96%\n",
      "[ 2018-04-25 01:00:12,878][kfold_wrapper.log_eval_metrics] Accuracy(layer_0 - estimator_0 - 10_folds.test.predict)=94.96%\n",
      "[ 2018-04-25 01:00:12,888][cascade_classifier.calc_accuracy] Accuracy(layer_0 - train.classifier_average)=94.96%\n",
      "[ 2018-04-25 01:00:12,890][cascade_classifier.calc_accuracy] Accuracy(layer_0 - test.classifier_average)=94.96%\n",
      "[ 2018-04-25 01:00:12,891][cascade_classifier.fit_transform] [Result][Reach Max Layer] opt_layer_num=1, accuracy_train=94.96%, accuracy_test=94.96%\n",
      "[ 2018-04-25 01:00:12,893][cascade_classifier.transform] X_groups_test.shape=[(1389, 59)]\n",
      "[ 2018-04-25 01:00:12,896][cascade_classifier.transform] group_dims=[59]\n",
      "[ 2018-04-25 01:00:12,897][cascade_classifier.transform] X_test.shape=(1389, 59)\n",
      "[ 2018-04-25 01:00:12,899][cascade_classifier.transform] [layer=0] look_indexs=[0], X_cur_test.shape=(1389, 59)\n",
      "[ 2018-04-25 01:00:14,528][cascade_classifier.fit_transform] X_groups_train.shape=[(2818, 59)],y_train.shape=(2818,),X_groups_test.shape=[(1389, 59)],y_test.shape=(1389,)\n",
      "[ 2018-04-25 01:00:14,530][cascade_classifier.fit_transform] group_dims=[59]\n",
      "[ 2018-04-25 01:00:14,531][cascade_classifier.fit_transform] group_starts=[0]\n",
      "[ 2018-04-25 01:00:14,533][cascade_classifier.fit_transform] group_ends=[59]\n",
      "[ 2018-04-25 01:00:14,535][cascade_classifier.fit_transform] X_train.shape=(2818, 59),X_test.shape=(1389, 59)\n",
      "[ 2018-04-25 01:00:14,537][cascade_classifier.fit_transform] [layer=0] look_indexs=[0], X_cur_train.shape=(2818, 59), X_cur_test.shape=(1389, 59)\n"
     ]
    },
    {
     "name": "stdout",
     "output_type": "stream",
     "text": [
      "('Test Accuracy of ExtraTrees = 94.960403 %', 1, 'fois')\n"
     ]
    },
    {
     "name": "stderr",
     "output_type": "stream",
     "text": [
      "[ 2018-04-25 01:00:15,169][kfold_wrapper.log_eval_metrics] Accuracy(layer_0 - estimator_0 - 10_folds.train_0.predict)=95.05%\n",
      "[ 2018-04-25 01:00:15,975][kfold_wrapper.log_eval_metrics] Accuracy(layer_0 - estimator_0 - 10_folds.train_1.predict)=92.93%\n",
      "[ 2018-04-25 01:00:16,764][kfold_wrapper.log_eval_metrics] Accuracy(layer_0 - estimator_0 - 10_folds.train_2.predict)=93.97%\n",
      "[ 2018-04-25 01:00:17,558][kfold_wrapper.log_eval_metrics] Accuracy(layer_0 - estimator_0 - 10_folds.train_3.predict)=94.68%\n",
      "[ 2018-04-25 01:00:18,389][kfold_wrapper.log_eval_metrics] Accuracy(layer_0 - estimator_0 - 10_folds.train_4.predict)=93.97%\n",
      "[ 2018-04-25 01:00:19,182][kfold_wrapper.log_eval_metrics] Accuracy(layer_0 - estimator_0 - 10_folds.train_5.predict)=94.68%\n",
      "[ 2018-04-25 01:00:20,040][kfold_wrapper.log_eval_metrics] Accuracy(layer_0 - estimator_0 - 10_folds.train_6.predict)=94.31%\n",
      "[ 2018-04-25 01:00:20,856][kfold_wrapper.log_eval_metrics] Accuracy(layer_0 - estimator_0 - 10_folds.train_7.predict)=96.09%\n",
      "[ 2018-04-25 01:00:21,717][kfold_wrapper.log_eval_metrics] Accuracy(layer_0 - estimator_0 - 10_folds.train_8.predict)=92.17%\n",
      "[ 2018-04-25 01:00:22,558][kfold_wrapper.log_eval_metrics] Accuracy(layer_0 - estimator_0 - 10_folds.train_9.predict)=95.02%\n",
      "[ 2018-04-25 01:00:22,711][kfold_wrapper.log_eval_metrics] Accuracy(layer_0 - estimator_0 - 10_folds.train_cv.predict)=94.29%\n",
      "[ 2018-04-25 01:00:22,713][kfold_wrapper.log_eval_metrics] Accuracy(layer_0 - estimator_0 - 10_folds.test.predict)=95.18%\n",
      "[ 2018-04-25 01:00:22,723][cascade_classifier.calc_accuracy] Accuracy(layer_0 - train.classifier_average)=94.29%\n",
      "[ 2018-04-25 01:00:22,725][cascade_classifier.calc_accuracy] Accuracy(layer_0 - test.classifier_average)=95.18%\n",
      "[ 2018-04-25 01:00:22,727][cascade_classifier.fit_transform] [Result][Reach Max Layer] opt_layer_num=1, accuracy_train=94.29%, accuracy_test=95.18%\n",
      "[ 2018-04-25 01:00:22,729][cascade_classifier.transform] X_groups_test.shape=[(1389, 59)]\n",
      "[ 2018-04-25 01:00:22,733][cascade_classifier.transform] group_dims=[59]\n",
      "[ 2018-04-25 01:00:22,734][cascade_classifier.transform] X_test.shape=(1389, 59)\n",
      "[ 2018-04-25 01:00:22,736][cascade_classifier.transform] [layer=0] look_indexs=[0], X_cur_test.shape=(1389, 59)\n",
      "[ 2018-04-25 01:00:24,253][cascade_classifier.fit_transform] X_groups_train.shape=[(2818, 59)],y_train.shape=(2818,),X_groups_test.shape=[(1389, 59)],y_test.shape=(1389,)\n",
      "[ 2018-04-25 01:00:24,257][cascade_classifier.fit_transform] group_dims=[59]\n",
      "[ 2018-04-25 01:00:24,258][cascade_classifier.fit_transform] group_starts=[0]\n",
      "[ 2018-04-25 01:00:24,260][cascade_classifier.fit_transform] group_ends=[59]\n",
      "[ 2018-04-25 01:00:24,261][cascade_classifier.fit_transform] X_train.shape=(2818, 59),X_test.shape=(1389, 59)\n",
      "[ 2018-04-25 01:00:24,263][cascade_classifier.fit_transform] [layer=0] look_indexs=[0], X_cur_train.shape=(2818, 59), X_cur_test.shape=(1389, 59)\n"
     ]
    },
    {
     "name": "stdout",
     "output_type": "stream",
     "text": [
      "('Test Accuracy of ExtraTrees = 95.176386 %', 2, 'fois')\n"
     ]
    },
    {
     "name": "stderr",
     "output_type": "stream",
     "text": [
      "[ 2018-04-25 01:00:24,931][kfold_wrapper.log_eval_metrics] Accuracy(layer_0 - estimator_0 - 10_folds.train_0.predict)=94.70%\n",
      "[ 2018-04-25 01:00:25,718][kfold_wrapper.log_eval_metrics] Accuracy(layer_0 - estimator_0 - 10_folds.train_1.predict)=91.87%\n",
      "[ 2018-04-25 01:00:26,564][kfold_wrapper.log_eval_metrics] Accuracy(layer_0 - estimator_0 - 10_folds.train_2.predict)=94.33%\n",
      "[ 2018-04-25 01:00:27,533][kfold_wrapper.log_eval_metrics] Accuracy(layer_0 - estimator_0 - 10_folds.train_3.predict)=95.39%\n",
      "[ 2018-04-25 01:00:28,376][kfold_wrapper.log_eval_metrics] Accuracy(layer_0 - estimator_0 - 10_folds.train_4.predict)=93.26%\n",
      "[ 2018-04-25 01:00:29,187][kfold_wrapper.log_eval_metrics] Accuracy(layer_0 - estimator_0 - 10_folds.train_5.predict)=95.04%\n",
      "[ 2018-04-25 01:00:30,024][kfold_wrapper.log_eval_metrics] Accuracy(layer_0 - estimator_0 - 10_folds.train_6.predict)=94.66%\n",
      "[ 2018-04-25 01:00:30,812][kfold_wrapper.log_eval_metrics] Accuracy(layer_0 - estimator_0 - 10_folds.train_7.predict)=95.37%\n",
      "[ 2018-04-25 01:00:31,631][kfold_wrapper.log_eval_metrics] Accuracy(layer_0 - estimator_0 - 10_folds.train_8.predict)=91.81%\n",
      "[ 2018-04-25 01:00:32,430][kfold_wrapper.log_eval_metrics] Accuracy(layer_0 - estimator_0 - 10_folds.train_9.predict)=94.31%\n",
      "[ 2018-04-25 01:00:32,661][kfold_wrapper.log_eval_metrics] Accuracy(layer_0 - estimator_0 - 10_folds.train_cv.predict)=94.07%\n",
      "[ 2018-04-25 01:00:32,664][kfold_wrapper.log_eval_metrics] Accuracy(layer_0 - estimator_0 - 10_folds.test.predict)=95.25%\n",
      "[ 2018-04-25 01:00:32,674][cascade_classifier.calc_accuracy] Accuracy(layer_0 - train.classifier_average)=94.07%\n",
      "[ 2018-04-25 01:00:32,676][cascade_classifier.calc_accuracy] Accuracy(layer_0 - test.classifier_average)=95.25%\n",
      "[ 2018-04-25 01:00:32,678][cascade_classifier.fit_transform] [Result][Reach Max Layer] opt_layer_num=1, accuracy_train=94.07%, accuracy_test=95.25%\n",
      "[ 2018-04-25 01:00:32,680][cascade_classifier.transform] X_groups_test.shape=[(1389, 59)]\n",
      "[ 2018-04-25 01:00:32,682][cascade_classifier.transform] group_dims=[59]\n",
      "[ 2018-04-25 01:00:32,684][cascade_classifier.transform] X_test.shape=(1389, 59)\n",
      "[ 2018-04-25 01:00:32,686][cascade_classifier.transform] [layer=0] look_indexs=[0], X_cur_test.shape=(1389, 59)\n",
      "[ 2018-04-25 01:00:34,227][cascade_classifier.fit_transform] X_groups_train.shape=[(2818, 59)],y_train.shape=(2818,),X_groups_test.shape=[(1389, 59)],y_test.shape=(1389,)\n",
      "[ 2018-04-25 01:00:34,230][cascade_classifier.fit_transform] group_dims=[59]\n",
      "[ 2018-04-25 01:00:34,232][cascade_classifier.fit_transform] group_starts=[0]\n",
      "[ 2018-04-25 01:00:34,234][cascade_classifier.fit_transform] group_ends=[59]\n",
      "[ 2018-04-25 01:00:34,235][cascade_classifier.fit_transform] X_train.shape=(2818, 59),X_test.shape=(1389, 59)\n",
      "[ 2018-04-25 01:00:34,238][cascade_classifier.fit_transform] [layer=0] look_indexs=[0], X_cur_train.shape=(2818, 59), X_cur_test.shape=(1389, 59)\n"
     ]
    },
    {
     "name": "stdout",
     "output_type": "stream",
     "text": [
      "('Test Accuracy of ExtraTrees = 95.248380 %', 3, 'fois')\n"
     ]
    },
    {
     "name": "stderr",
     "output_type": "stream",
     "text": [
      "[ 2018-04-25 01:00:34,867][kfold_wrapper.log_eval_metrics] Accuracy(layer_0 - estimator_0 - 10_folds.train_0.predict)=93.64%\n",
      "[ 2018-04-25 01:00:35,647][kfold_wrapper.log_eval_metrics] Accuracy(layer_0 - estimator_0 - 10_folds.train_1.predict)=92.93%\n",
      "[ 2018-04-25 01:00:36,467][kfold_wrapper.log_eval_metrics] Accuracy(layer_0 - estimator_0 - 10_folds.train_2.predict)=95.04%\n",
      "[ 2018-04-25 01:00:37,278][kfold_wrapper.log_eval_metrics] Accuracy(layer_0 - estimator_0 - 10_folds.train_3.predict)=95.39%\n",
      "[ 2018-04-25 01:00:38,065][kfold_wrapper.log_eval_metrics] Accuracy(layer_0 - estimator_0 - 10_folds.train_4.predict)=94.33%\n",
      "[ 2018-04-25 01:00:38,865][kfold_wrapper.log_eval_metrics] Accuracy(layer_0 - estimator_0 - 10_folds.train_5.predict)=92.91%\n",
      "[ 2018-04-25 01:00:39,789][kfold_wrapper.log_eval_metrics] Accuracy(layer_0 - estimator_0 - 10_folds.train_6.predict)=95.02%\n",
      "[ 2018-04-25 01:00:40,620][kfold_wrapper.log_eval_metrics] Accuracy(layer_0 - estimator_0 - 10_folds.train_7.predict)=95.37%\n",
      "[ 2018-04-25 01:00:41,423][kfold_wrapper.log_eval_metrics] Accuracy(layer_0 - estimator_0 - 10_folds.train_8.predict)=92.17%\n",
      "[ 2018-04-25 01:00:42,204][kfold_wrapper.log_eval_metrics] Accuracy(layer_0 - estimator_0 - 10_folds.train_9.predict)=95.73%\n",
      "[ 2018-04-25 01:00:42,360][kfold_wrapper.log_eval_metrics] Accuracy(layer_0 - estimator_0 - 10_folds.train_cv.predict)=94.25%\n",
      "[ 2018-04-25 01:00:42,362][kfold_wrapper.log_eval_metrics] Accuracy(layer_0 - estimator_0 - 10_folds.test.predict)=94.67%\n",
      "[ 2018-04-25 01:00:42,374][cascade_classifier.calc_accuracy] Accuracy(layer_0 - train.classifier_average)=94.25%\n",
      "[ 2018-04-25 01:00:42,376][cascade_classifier.calc_accuracy] Accuracy(layer_0 - test.classifier_average)=94.67%\n",
      "[ 2018-04-25 01:00:42,377][cascade_classifier.fit_transform] [Result][Reach Max Layer] opt_layer_num=1, accuracy_train=94.25%, accuracy_test=94.67%\n",
      "[ 2018-04-25 01:00:42,379][cascade_classifier.transform] X_groups_test.shape=[(1389, 59)]\n",
      "[ 2018-04-25 01:00:42,381][cascade_classifier.transform] group_dims=[59]\n",
      "[ 2018-04-25 01:00:42,383][cascade_classifier.transform] X_test.shape=(1389, 59)\n",
      "[ 2018-04-25 01:00:42,385][cascade_classifier.transform] [layer=0] look_indexs=[0], X_cur_test.shape=(1389, 59)\n",
      "[ 2018-04-25 01:00:43,922][cascade_classifier.fit_transform] X_groups_train.shape=[(2818, 59)],y_train.shape=(2818,),X_groups_test.shape=[(1389, 59)],y_test.shape=(1389,)\n",
      "[ 2018-04-25 01:00:43,925][cascade_classifier.fit_transform] group_dims=[59]\n",
      "[ 2018-04-25 01:00:43,926][cascade_classifier.fit_transform] group_starts=[0]\n",
      "[ 2018-04-25 01:00:43,928][cascade_classifier.fit_transform] group_ends=[59]\n",
      "[ 2018-04-25 01:00:43,930][cascade_classifier.fit_transform] X_train.shape=(2818, 59),X_test.shape=(1389, 59)\n",
      "[ 2018-04-25 01:00:43,932][cascade_classifier.fit_transform] [layer=0] look_indexs=[0], X_cur_train.shape=(2818, 59), X_cur_test.shape=(1389, 59)\n"
     ]
    },
    {
     "name": "stdout",
     "output_type": "stream",
     "text": [
      "('Test Accuracy of ExtraTrees = 94.672426 %', 4, 'fois')\n"
     ]
    },
    {
     "name": "stderr",
     "output_type": "stream",
     "text": [
      "[ 2018-04-25 01:00:44,736][kfold_wrapper.log_eval_metrics] Accuracy(layer_0 - estimator_0 - 10_folds.train_0.predict)=94.70%\n",
      "[ 2018-04-25 01:00:45,552][kfold_wrapper.log_eval_metrics] Accuracy(layer_0 - estimator_0 - 10_folds.train_1.predict)=93.29%\n",
      "[ 2018-04-25 01:00:46,352][kfold_wrapper.log_eval_metrics] Accuracy(layer_0 - estimator_0 - 10_folds.train_2.predict)=94.68%\n",
      "[ 2018-04-25 01:00:47,152][kfold_wrapper.log_eval_metrics] Accuracy(layer_0 - estimator_0 - 10_folds.train_3.predict)=94.68%\n",
      "[ 2018-04-25 01:00:47,952][kfold_wrapper.log_eval_metrics] Accuracy(layer_0 - estimator_0 - 10_folds.train_4.predict)=94.68%\n",
      "[ 2018-04-25 01:00:48,737][kfold_wrapper.log_eval_metrics] Accuracy(layer_0 - estimator_0 - 10_folds.train_5.predict)=92.91%\n",
      "[ 2018-04-25 01:00:49,561][kfold_wrapper.log_eval_metrics] Accuracy(layer_0 - estimator_0 - 10_folds.train_6.predict)=93.95%\n",
      "[ 2018-04-25 01:00:50,451][kfold_wrapper.log_eval_metrics] Accuracy(layer_0 - estimator_0 - 10_folds.train_7.predict)=95.37%\n",
      "[ 2018-04-25 01:00:51,255][kfold_wrapper.log_eval_metrics] Accuracy(layer_0 - estimator_0 - 10_folds.train_8.predict)=92.17%\n",
      "[ 2018-04-25 01:00:52,025][kfold_wrapper.log_eval_metrics] Accuracy(layer_0 - estimator_0 - 10_folds.train_9.predict)=95.02%\n",
      "[ 2018-04-25 01:00:52,177][kfold_wrapper.log_eval_metrics] Accuracy(layer_0 - estimator_0 - 10_folds.train_cv.predict)=94.14%\n",
      "[ 2018-04-25 01:00:52,179][kfold_wrapper.log_eval_metrics] Accuracy(layer_0 - estimator_0 - 10_folds.test.predict)=94.74%\n",
      "[ 2018-04-25 01:00:52,190][cascade_classifier.calc_accuracy] Accuracy(layer_0 - train.classifier_average)=94.14%\n",
      "[ 2018-04-25 01:00:52,192][cascade_classifier.calc_accuracy] Accuracy(layer_0 - test.classifier_average)=94.74%\n",
      "[ 2018-04-25 01:00:52,194][cascade_classifier.fit_transform] [Result][Reach Max Layer] opt_layer_num=1, accuracy_train=94.14%, accuracy_test=94.74%\n",
      "[ 2018-04-25 01:00:52,195][cascade_classifier.transform] X_groups_test.shape=[(1389, 59)]\n",
      "[ 2018-04-25 01:00:52,198][cascade_classifier.transform] group_dims=[59]\n",
      "[ 2018-04-25 01:00:52,199][cascade_classifier.transform] X_test.shape=(1389, 59)\n",
      "[ 2018-04-25 01:00:52,203][cascade_classifier.transform] [layer=0] look_indexs=[0], X_cur_test.shape=(1389, 59)\n",
      "[ 2018-04-25 01:00:53,768][cascade_classifier.fit_transform] X_groups_train.shape=[(2818, 59)],y_train.shape=(2818,),X_groups_test.shape=[(1389, 59)],y_test.shape=(1389,)\n",
      "[ 2018-04-25 01:00:53,771][cascade_classifier.fit_transform] group_dims=[59]\n",
      "[ 2018-04-25 01:00:53,772][cascade_classifier.fit_transform] group_starts=[0]\n",
      "[ 2018-04-25 01:00:53,774][cascade_classifier.fit_transform] group_ends=[59]\n",
      "[ 2018-04-25 01:00:53,779][cascade_classifier.fit_transform] X_train.shape=(2818, 59),X_test.shape=(1389, 59)\n",
      "[ 2018-04-25 01:00:53,782][cascade_classifier.fit_transform] [layer=0] look_indexs=[0], X_cur_train.shape=(2818, 59), X_cur_test.shape=(1389, 59)\n"
     ]
    },
    {
     "name": "stdout",
     "output_type": "stream",
     "text": [
      "('Test Accuracy of ExtraTrees = 94.744420 %', 5, 'fois')\n"
     ]
    },
    {
     "name": "stderr",
     "output_type": "stream",
     "text": [
      "[ 2018-04-25 01:00:54,424][kfold_wrapper.log_eval_metrics] Accuracy(layer_0 - estimator_0 - 10_folds.train_0.predict)=95.05%\n",
      "[ 2018-04-25 01:00:55,272][kfold_wrapper.log_eval_metrics] Accuracy(layer_0 - estimator_0 - 10_folds.train_1.predict)=92.58%\n",
      "[ 2018-04-25 01:00:56,094][kfold_wrapper.log_eval_metrics] Accuracy(layer_0 - estimator_0 - 10_folds.train_2.predict)=94.68%\n",
      "[ 2018-04-25 01:00:56,923][kfold_wrapper.log_eval_metrics] Accuracy(layer_0 - estimator_0 - 10_folds.train_3.predict)=95.74%\n",
      "[ 2018-04-25 01:00:57,714][kfold_wrapper.log_eval_metrics] Accuracy(layer_0 - estimator_0 - 10_folds.train_4.predict)=94.68%\n",
      "[ 2018-04-25 01:00:58,515][kfold_wrapper.log_eval_metrics] Accuracy(layer_0 - estimator_0 - 10_folds.train_5.predict)=92.20%\n",
      "[ 2018-04-25 01:00:59,300][kfold_wrapper.log_eval_metrics] Accuracy(layer_0 - estimator_0 - 10_folds.train_6.predict)=94.31%\n",
      "[ 2018-04-25 01:01:00,103][kfold_wrapper.log_eval_metrics] Accuracy(layer_0 - estimator_0 - 10_folds.train_7.predict)=95.37%\n",
      "[ 2018-04-25 01:01:00,899][kfold_wrapper.log_eval_metrics] Accuracy(layer_0 - estimator_0 - 10_folds.train_8.predict)=91.81%\n",
      "[ 2018-04-25 01:01:01,707][kfold_wrapper.log_eval_metrics] Accuracy(layer_0 - estimator_0 - 10_folds.train_9.predict)=95.37%\n",
      "[ 2018-04-25 01:01:01,946][kfold_wrapper.log_eval_metrics] Accuracy(layer_0 - estimator_0 - 10_folds.train_cv.predict)=94.18%\n",
      "[ 2018-04-25 01:01:01,948][kfold_wrapper.log_eval_metrics] Accuracy(layer_0 - estimator_0 - 10_folds.test.predict)=94.89%\n",
      "[ 2018-04-25 01:01:01,960][cascade_classifier.calc_accuracy] Accuracy(layer_0 - train.classifier_average)=94.18%\n",
      "[ 2018-04-25 01:01:01,962][cascade_classifier.calc_accuracy] Accuracy(layer_0 - test.classifier_average)=94.89%\n",
      "[ 2018-04-25 01:01:01,964][cascade_classifier.fit_transform] [Result][Reach Max Layer] opt_layer_num=1, accuracy_train=94.18%, accuracy_test=94.89%\n",
      "[ 2018-04-25 01:01:01,965][cascade_classifier.transform] X_groups_test.shape=[(1389, 59)]\n",
      "[ 2018-04-25 01:01:01,968][cascade_classifier.transform] group_dims=[59]\n",
      "[ 2018-04-25 01:01:01,969][cascade_classifier.transform] X_test.shape=(1389, 59)\n",
      "[ 2018-04-25 01:01:01,973][cascade_classifier.transform] [layer=0] look_indexs=[0], X_cur_test.shape=(1389, 59)\n",
      "[ 2018-04-25 01:01:03,471][cascade_classifier.fit_transform] X_groups_train.shape=[(2818, 59)],y_train.shape=(2818,),X_groups_test.shape=[(1389, 59)],y_test.shape=(1389,)\n",
      "[ 2018-04-25 01:01:03,474][cascade_classifier.fit_transform] group_dims=[59]\n",
      "[ 2018-04-25 01:01:03,475][cascade_classifier.fit_transform] group_starts=[0]\n",
      "[ 2018-04-25 01:01:03,477][cascade_classifier.fit_transform] group_ends=[59]\n",
      "[ 2018-04-25 01:01:03,479][cascade_classifier.fit_transform] X_train.shape=(2818, 59),X_test.shape=(1389, 59)\n",
      "[ 2018-04-25 01:01:03,481][cascade_classifier.fit_transform] [layer=0] look_indexs=[0], X_cur_train.shape=(2818, 59), X_cur_test.shape=(1389, 59)\n"
     ]
    },
    {
     "name": "stdout",
     "output_type": "stream",
     "text": [
      "('Test Accuracy of ExtraTrees = 94.888409 %', 6, 'fois')\n"
     ]
    },
    {
     "name": "stderr",
     "output_type": "stream",
     "text": [
      "[ 2018-04-25 01:01:04,133][kfold_wrapper.log_eval_metrics] Accuracy(layer_0 - estimator_0 - 10_folds.train_0.predict)=93.99%\n",
      "[ 2018-04-25 01:01:04,913][kfold_wrapper.log_eval_metrics] Accuracy(layer_0 - estimator_0 - 10_folds.train_1.predict)=93.64%\n",
      "[ 2018-04-25 01:01:05,736][kfold_wrapper.log_eval_metrics] Accuracy(layer_0 - estimator_0 - 10_folds.train_2.predict)=95.04%\n",
      "[ 2018-04-25 01:01:06,553][kfold_wrapper.log_eval_metrics] Accuracy(layer_0 - estimator_0 - 10_folds.train_3.predict)=95.74%\n",
      "[ 2018-04-25 01:01:07,325][kfold_wrapper.log_eval_metrics] Accuracy(layer_0 - estimator_0 - 10_folds.train_4.predict)=94.68%\n",
      "[ 2018-04-25 01:01:08,231][kfold_wrapper.log_eval_metrics] Accuracy(layer_0 - estimator_0 - 10_folds.train_5.predict)=92.20%\n",
      "[ 2018-04-25 01:01:09,017][kfold_wrapper.log_eval_metrics] Accuracy(layer_0 - estimator_0 - 10_folds.train_6.predict)=93.59%\n",
      "[ 2018-04-25 01:01:09,809][kfold_wrapper.log_eval_metrics] Accuracy(layer_0 - estimator_0 - 10_folds.train_7.predict)=95.73%\n",
      "[ 2018-04-25 01:01:10,701][kfold_wrapper.log_eval_metrics] Accuracy(layer_0 - estimator_0 - 10_folds.train_8.predict)=90.75%\n",
      "[ 2018-04-25 01:01:11,539][kfold_wrapper.log_eval_metrics] Accuracy(layer_0 - estimator_0 - 10_folds.train_9.predict)=95.37%\n",
      "[ 2018-04-25 01:01:11,701][kfold_wrapper.log_eval_metrics] Accuracy(layer_0 - estimator_0 - 10_folds.train_cv.predict)=94.07%\n",
      "[ 2018-04-25 01:01:11,703][kfold_wrapper.log_eval_metrics] Accuracy(layer_0 - estimator_0 - 10_folds.test.predict)=94.74%\n",
      "[ 2018-04-25 01:01:11,715][cascade_classifier.calc_accuracy] Accuracy(layer_0 - train.classifier_average)=94.07%\n",
      "[ 2018-04-25 01:01:11,717][cascade_classifier.calc_accuracy] Accuracy(layer_0 - test.classifier_average)=94.74%\n",
      "[ 2018-04-25 01:01:11,718][cascade_classifier.fit_transform] [Result][Reach Max Layer] opt_layer_num=1, accuracy_train=94.07%, accuracy_test=94.74%\n",
      "[ 2018-04-25 01:01:11,720][cascade_classifier.transform] X_groups_test.shape=[(1389, 59)]\n",
      "[ 2018-04-25 01:01:11,722][cascade_classifier.transform] group_dims=[59]\n",
      "[ 2018-04-25 01:01:11,724][cascade_classifier.transform] X_test.shape=(1389, 59)\n",
      "[ 2018-04-25 01:01:11,726][cascade_classifier.transform] [layer=0] look_indexs=[0], X_cur_test.shape=(1389, 59)\n",
      "[ 2018-04-25 01:01:13,390][cascade_classifier.fit_transform] X_groups_train.shape=[(2818, 59)],y_train.shape=(2818,),X_groups_test.shape=[(1389, 59)],y_test.shape=(1389,)\n",
      "[ 2018-04-25 01:01:13,392][cascade_classifier.fit_transform] group_dims=[59]\n",
      "[ 2018-04-25 01:01:13,394][cascade_classifier.fit_transform] group_starts=[0]\n",
      "[ 2018-04-25 01:01:13,395][cascade_classifier.fit_transform] group_ends=[59]\n",
      "[ 2018-04-25 01:01:13,397][cascade_classifier.fit_transform] X_train.shape=(2818, 59),X_test.shape=(1389, 59)\n",
      "[ 2018-04-25 01:01:13,399][cascade_classifier.fit_transform] [layer=0] look_indexs=[0], X_cur_train.shape=(2818, 59), X_cur_test.shape=(1389, 59)\n"
     ]
    },
    {
     "name": "stdout",
     "output_type": "stream",
     "text": [
      "('Test Accuracy of ExtraTrees = 94.744420 %', 7, 'fois')\n"
     ]
    },
    {
     "name": "stderr",
     "output_type": "stream",
     "text": [
      "[ 2018-04-25 01:01:14,036][kfold_wrapper.log_eval_metrics] Accuracy(layer_0 - estimator_0 - 10_folds.train_0.predict)=94.70%\n",
      "[ 2018-04-25 01:01:14,826][kfold_wrapper.log_eval_metrics] Accuracy(layer_0 - estimator_0 - 10_folds.train_1.predict)=92.58%\n",
      "[ 2018-04-25 01:01:15,648][kfold_wrapper.log_eval_metrics] Accuracy(layer_0 - estimator_0 - 10_folds.train_2.predict)=93.62%\n",
      "[ 2018-04-25 01:01:16,448][kfold_wrapper.log_eval_metrics] Accuracy(layer_0 - estimator_0 - 10_folds.train_3.predict)=96.45%\n",
      "[ 2018-04-25 01:01:17,274][kfold_wrapper.log_eval_metrics] Accuracy(layer_0 - estimator_0 - 10_folds.train_4.predict)=95.04%\n",
      "[ 2018-04-25 01:01:18,057][kfold_wrapper.log_eval_metrics] Accuracy(layer_0 - estimator_0 - 10_folds.train_5.predict)=93.26%\n",
      "[ 2018-04-25 01:01:18,912][kfold_wrapper.log_eval_metrics] Accuracy(layer_0 - estimator_0 - 10_folds.train_6.predict)=95.02%\n",
      "[ 2018-04-25 01:01:19,771][kfold_wrapper.log_eval_metrics] Accuracy(layer_0 - estimator_0 - 10_folds.train_7.predict)=95.73%\n",
      "[ 2018-04-25 01:01:20,606][kfold_wrapper.log_eval_metrics] Accuracy(layer_0 - estimator_0 - 10_folds.train_8.predict)=91.81%\n",
      "[ 2018-04-25 01:01:21,424][kfold_wrapper.log_eval_metrics] Accuracy(layer_0 - estimator_0 - 10_folds.train_9.predict)=95.73%\n",
      "[ 2018-04-25 01:01:21,581][kfold_wrapper.log_eval_metrics] Accuracy(layer_0 - estimator_0 - 10_folds.train_cv.predict)=94.39%\n",
      "[ 2018-04-25 01:01:21,583][kfold_wrapper.log_eval_metrics] Accuracy(layer_0 - estimator_0 - 10_folds.test.predict)=94.89%\n",
      "[ 2018-04-25 01:01:21,594][cascade_classifier.calc_accuracy] Accuracy(layer_0 - train.classifier_average)=94.39%\n",
      "[ 2018-04-25 01:01:21,596][cascade_classifier.calc_accuracy] Accuracy(layer_0 - test.classifier_average)=94.89%\n",
      "[ 2018-04-25 01:01:21,597][cascade_classifier.fit_transform] [Result][Reach Max Layer] opt_layer_num=1, accuracy_train=94.39%, accuracy_test=94.89%\n",
      "[ 2018-04-25 01:01:21,599][cascade_classifier.transform] X_groups_test.shape=[(1389, 59)]\n",
      "[ 2018-04-25 01:01:21,601][cascade_classifier.transform] group_dims=[59]\n",
      "[ 2018-04-25 01:01:21,603][cascade_classifier.transform] X_test.shape=(1389, 59)\n",
      "[ 2018-04-25 01:01:21,605][cascade_classifier.transform] [layer=0] look_indexs=[0], X_cur_test.shape=(1389, 59)\n",
      "[ 2018-04-25 01:01:23,107][cascade_classifier.fit_transform] X_groups_train.shape=[(2818, 59)],y_train.shape=(2818,),X_groups_test.shape=[(1389, 59)],y_test.shape=(1389,)\n",
      "[ 2018-04-25 01:01:23,110][cascade_classifier.fit_transform] group_dims=[59]\n",
      "[ 2018-04-25 01:01:23,111][cascade_classifier.fit_transform] group_starts=[0]\n",
      "[ 2018-04-25 01:01:23,113][cascade_classifier.fit_transform] group_ends=[59]\n",
      "[ 2018-04-25 01:01:23,115][cascade_classifier.fit_transform] X_train.shape=(2818, 59),X_test.shape=(1389, 59)\n",
      "[ 2018-04-25 01:01:23,117][cascade_classifier.fit_transform] [layer=0] look_indexs=[0], X_cur_train.shape=(2818, 59), X_cur_test.shape=(1389, 59)\n"
     ]
    },
    {
     "name": "stdout",
     "output_type": "stream",
     "text": [
      "('Test Accuracy of ExtraTrees = 94.888409 %', 8, 'fois')\n"
     ]
    },
    {
     "name": "stderr",
     "output_type": "stream",
     "text": [
      "[ 2018-04-25 01:01:23,787][kfold_wrapper.log_eval_metrics] Accuracy(layer_0 - estimator_0 - 10_folds.train_0.predict)=94.35%\n",
      "[ 2018-04-25 01:01:24,563][kfold_wrapper.log_eval_metrics] Accuracy(layer_0 - estimator_0 - 10_folds.train_1.predict)=93.64%\n",
      "[ 2018-04-25 01:01:25,330][kfold_wrapper.log_eval_metrics] Accuracy(layer_0 - estimator_0 - 10_folds.train_2.predict)=93.26%\n",
      "[ 2018-04-25 01:01:26,126][kfold_wrapper.log_eval_metrics] Accuracy(layer_0 - estimator_0 - 10_folds.train_3.predict)=95.39%\n",
      "[ 2018-04-25 01:01:26,906][kfold_wrapper.log_eval_metrics] Accuracy(layer_0 - estimator_0 - 10_folds.train_4.predict)=95.39%\n",
      "[ 2018-04-25 01:01:27,793][kfold_wrapper.log_eval_metrics] Accuracy(layer_0 - estimator_0 - 10_folds.train_5.predict)=92.91%\n",
      "[ 2018-04-25 01:01:28,646][kfold_wrapper.log_eval_metrics] Accuracy(layer_0 - estimator_0 - 10_folds.train_6.predict)=93.95%\n",
      "[ 2018-04-25 01:01:29,506][kfold_wrapper.log_eval_metrics] Accuracy(layer_0 - estimator_0 - 10_folds.train_7.predict)=95.73%\n",
      "[ 2018-04-25 01:01:30,302][kfold_wrapper.log_eval_metrics] Accuracy(layer_0 - estimator_0 - 10_folds.train_8.predict)=91.46%\n",
      "[ 2018-04-25 01:01:31,135][kfold_wrapper.log_eval_metrics] Accuracy(layer_0 - estimator_0 - 10_folds.train_9.predict)=95.37%\n",
      "[ 2018-04-25 01:01:31,292][kfold_wrapper.log_eval_metrics] Accuracy(layer_0 - estimator_0 - 10_folds.train_cv.predict)=94.14%\n",
      "[ 2018-04-25 01:01:31,294][kfold_wrapper.log_eval_metrics] Accuracy(layer_0 - estimator_0 - 10_folds.test.predict)=94.53%\n",
      "[ 2018-04-25 01:01:31,307][cascade_classifier.calc_accuracy] Accuracy(layer_0 - train.classifier_average)=94.14%\n",
      "[ 2018-04-25 01:01:31,309][cascade_classifier.calc_accuracy] Accuracy(layer_0 - test.classifier_average)=94.53%\n",
      "[ 2018-04-25 01:01:31,310][cascade_classifier.fit_transform] [Result][Reach Max Layer] opt_layer_num=1, accuracy_train=94.14%, accuracy_test=94.53%\n",
      "[ 2018-04-25 01:01:31,312][cascade_classifier.transform] X_groups_test.shape=[(1389, 59)]\n",
      "[ 2018-04-25 01:01:31,315][cascade_classifier.transform] group_dims=[59]\n",
      "[ 2018-04-25 01:01:31,316][cascade_classifier.transform] X_test.shape=(1389, 59)\n",
      "[ 2018-04-25 01:01:31,318][cascade_classifier.transform] [layer=0] look_indexs=[0], X_cur_test.shape=(1389, 59)\n",
      "[ 2018-04-25 01:01:32,868][cascade_classifier.fit_transform] X_groups_train.shape=[(2818, 59)],y_train.shape=(2818,),X_groups_test.shape=[(1389, 59)],y_test.shape=(1389,)\n",
      "[ 2018-04-25 01:01:32,871][cascade_classifier.fit_transform] group_dims=[59]\n",
      "[ 2018-04-25 01:01:32,873][cascade_classifier.fit_transform] group_starts=[0]\n",
      "[ 2018-04-25 01:01:32,874][cascade_classifier.fit_transform] group_ends=[59]\n",
      "[ 2018-04-25 01:01:32,876][cascade_classifier.fit_transform] X_train.shape=(2818, 59),X_test.shape=(1389, 59)\n",
      "[ 2018-04-25 01:01:32,879][cascade_classifier.fit_transform] [layer=0] look_indexs=[0], X_cur_train.shape=(2818, 59), X_cur_test.shape=(1389, 59)\n"
     ]
    },
    {
     "name": "stdout",
     "output_type": "stream",
     "text": [
      "('Test Accuracy of ExtraTrees = 94.528438 %', 9, 'fois')\n"
     ]
    },
    {
     "name": "stderr",
     "output_type": "stream",
     "text": [
      "[ 2018-04-25 01:01:33,531][kfold_wrapper.log_eval_metrics] Accuracy(layer_0 - estimator_0 - 10_folds.train_0.predict)=93.64%\n",
      "[ 2018-04-25 01:01:34,460][kfold_wrapper.log_eval_metrics] Accuracy(layer_0 - estimator_0 - 10_folds.train_1.predict)=92.23%\n",
      "[ 2018-04-25 01:01:35,282][kfold_wrapper.log_eval_metrics] Accuracy(layer_0 - estimator_0 - 10_folds.train_2.predict)=93.26%\n",
      "[ 2018-04-25 01:01:36,093][kfold_wrapper.log_eval_metrics] Accuracy(layer_0 - estimator_0 - 10_folds.train_3.predict)=95.04%\n",
      "[ 2018-04-25 01:01:36,929][kfold_wrapper.log_eval_metrics] Accuracy(layer_0 - estimator_0 - 10_folds.train_4.predict)=94.33%\n",
      "[ 2018-04-25 01:01:37,737][kfold_wrapper.log_eval_metrics] Accuracy(layer_0 - estimator_0 - 10_folds.train_5.predict)=94.33%\n",
      "[ 2018-04-25 01:01:38,601][kfold_wrapper.log_eval_metrics] Accuracy(layer_0 - estimator_0 - 10_folds.train_6.predict)=94.66%\n",
      "[ 2018-04-25 01:01:39,388][kfold_wrapper.log_eval_metrics] Accuracy(layer_0 - estimator_0 - 10_folds.train_7.predict)=95.02%\n",
      "[ 2018-04-25 01:01:40,170][kfold_wrapper.log_eval_metrics] Accuracy(layer_0 - estimator_0 - 10_folds.train_8.predict)=90.75%\n",
      "[ 2018-04-25 01:01:40,943][kfold_wrapper.log_eval_metrics] Accuracy(layer_0 - estimator_0 - 10_folds.train_9.predict)=95.37%\n",
      "[ 2018-04-25 01:01:41,095][kfold_wrapper.log_eval_metrics] Accuracy(layer_0 - estimator_0 - 10_folds.train_cv.predict)=93.86%\n",
      "[ 2018-04-25 01:01:41,097][kfold_wrapper.log_eval_metrics] Accuracy(layer_0 - estimator_0 - 10_folds.test.predict)=94.53%\n",
      "[ 2018-04-25 01:01:41,110][cascade_classifier.calc_accuracy] Accuracy(layer_0 - train.classifier_average)=93.86%\n",
      "[ 2018-04-25 01:01:41,112][cascade_classifier.calc_accuracy] Accuracy(layer_0 - test.classifier_average)=94.53%\n",
      "[ 2018-04-25 01:01:41,114][cascade_classifier.fit_transform] [Result][Reach Max Layer] opt_layer_num=1, accuracy_train=93.86%, accuracy_test=94.53%\n",
      "[ 2018-04-25 01:01:41,115][cascade_classifier.transform] X_groups_test.shape=[(1389, 59)]\n",
      "[ 2018-04-25 01:01:41,118][cascade_classifier.transform] group_dims=[59]\n",
      "[ 2018-04-25 01:01:41,119][cascade_classifier.transform] X_test.shape=(1389, 59)\n",
      "[ 2018-04-25 01:01:41,121][cascade_classifier.transform] [layer=0] look_indexs=[0], X_cur_test.shape=(1389, 59)\n",
      "[ 2018-04-25 01:01:42,670][cascade_classifier.fit_transform] X_groups_train.shape=[(2818, 59)],y_train.shape=(2818,),X_groups_test.shape=[(1389, 59)],y_test.shape=(1389,)\n",
      "[ 2018-04-25 01:01:42,673][cascade_classifier.fit_transform] group_dims=[59]\n",
      "[ 2018-04-25 01:01:42,675][cascade_classifier.fit_transform] group_starts=[0]\n",
      "[ 2018-04-25 01:01:42,677][cascade_classifier.fit_transform] group_ends=[59]\n",
      "[ 2018-04-25 01:01:42,679][cascade_classifier.fit_transform] X_train.shape=(2818, 59),X_test.shape=(1389, 59)\n",
      "[ 2018-04-25 01:01:42,681][cascade_classifier.fit_transform] [layer=0] look_indexs=[0], X_cur_train.shape=(2818, 59), X_cur_test.shape=(1389, 59)\n"
     ]
    },
    {
     "name": "stdout",
     "output_type": "stream",
     "text": [
      "('Test Accuracy of ExtraTrees = 94.528438 %', 10, 'fois')\n"
     ]
    },
    {
     "name": "stderr",
     "output_type": "stream",
     "text": [
      "[ 2018-04-25 01:01:43,334][kfold_wrapper.log_eval_metrics] Accuracy(layer_0 - estimator_0 - 10_folds.train_0.predict)=94.35%\n",
      "[ 2018-04-25 01:01:44,108][kfold_wrapper.log_eval_metrics] Accuracy(layer_0 - estimator_0 - 10_folds.train_1.predict)=93.29%\n",
      "[ 2018-04-25 01:01:44,932][kfold_wrapper.log_eval_metrics] Accuracy(layer_0 - estimator_0 - 10_folds.train_2.predict)=93.26%\n",
      "[ 2018-04-25 01:01:45,839][kfold_wrapper.log_eval_metrics] Accuracy(layer_0 - estimator_0 - 10_folds.train_3.predict)=94.68%\n",
      "[ 2018-04-25 01:01:46,621][kfold_wrapper.log_eval_metrics] Accuracy(layer_0 - estimator_0 - 10_folds.train_4.predict)=94.33%\n",
      "[ 2018-04-25 01:01:47,405][kfold_wrapper.log_eval_metrics] Accuracy(layer_0 - estimator_0 - 10_folds.train_5.predict)=93.62%\n",
      "[ 2018-04-25 01:01:48,214][kfold_wrapper.log_eval_metrics] Accuracy(layer_0 - estimator_0 - 10_folds.train_6.predict)=94.31%\n",
      "[ 2018-04-25 01:01:49,027][kfold_wrapper.log_eval_metrics] Accuracy(layer_0 - estimator_0 - 10_folds.train_7.predict)=95.37%\n",
      "[ 2018-04-25 01:01:49,835][kfold_wrapper.log_eval_metrics] Accuracy(layer_0 - estimator_0 - 10_folds.train_8.predict)=91.46%\n",
      "[ 2018-04-25 01:01:50,664][kfold_wrapper.log_eval_metrics] Accuracy(layer_0 - estimator_0 - 10_folds.train_9.predict)=95.37%\n",
      "[ 2018-04-25 01:01:50,819][kfold_wrapper.log_eval_metrics] Accuracy(layer_0 - estimator_0 - 10_folds.train_cv.predict)=94.00%\n",
      "[ 2018-04-25 01:01:50,822][kfold_wrapper.log_eval_metrics] Accuracy(layer_0 - estimator_0 - 10_folds.test.predict)=94.67%\n",
      "[ 2018-04-25 01:01:50,834][cascade_classifier.calc_accuracy] Accuracy(layer_0 - train.classifier_average)=94.00%\n",
      "[ 2018-04-25 01:01:50,836][cascade_classifier.calc_accuracy] Accuracy(layer_0 - test.classifier_average)=94.67%\n",
      "[ 2018-04-25 01:01:50,837][cascade_classifier.fit_transform] [Result][Reach Max Layer] opt_layer_num=1, accuracy_train=94.00%, accuracy_test=94.67%\n",
      "[ 2018-04-25 01:01:50,839][cascade_classifier.transform] X_groups_test.shape=[(1389, 59)]\n",
      "[ 2018-04-25 01:01:50,841][cascade_classifier.transform] group_dims=[59]\n",
      "[ 2018-04-25 01:01:50,843][cascade_classifier.transform] X_test.shape=(1389, 59)\n",
      "[ 2018-04-25 01:01:50,844][cascade_classifier.transform] [layer=0] look_indexs=[0], X_cur_test.shape=(1389, 59)\n",
      "[ 2018-04-25 01:01:52,502][cascade_classifier.fit_transform] X_groups_train.shape=[(2818, 59)],y_train.shape=(2818,),X_groups_test.shape=[(1389, 59)],y_test.shape=(1389,)\n",
      "[ 2018-04-25 01:01:52,504][cascade_classifier.fit_transform] group_dims=[59]\n",
      "[ 2018-04-25 01:01:52,506][cascade_classifier.fit_transform] group_starts=[0]\n",
      "[ 2018-04-25 01:01:52,507][cascade_classifier.fit_transform] group_ends=[59]\n",
      "[ 2018-04-25 01:01:52,509][cascade_classifier.fit_transform] X_train.shape=(2818, 59),X_test.shape=(1389, 59)\n",
      "[ 2018-04-25 01:01:52,511][cascade_classifier.fit_transform] [layer=0] look_indexs=[0], X_cur_train.shape=(2818, 59), X_cur_test.shape=(1389, 59)\n"
     ]
    },
    {
     "name": "stdout",
     "output_type": "stream",
     "text": [
      "('Test Accuracy of ExtraTrees = 94.672426 %', 11, 'fois')\n"
     ]
    },
    {
     "name": "stderr",
     "output_type": "stream",
     "text": [
      "[ 2018-04-25 01:01:53,145][kfold_wrapper.log_eval_metrics] Accuracy(layer_0 - estimator_0 - 10_folds.train_0.predict)=93.64%\n",
      "[ 2018-04-25 01:01:53,904][kfold_wrapper.log_eval_metrics] Accuracy(layer_0 - estimator_0 - 10_folds.train_1.predict)=92.93%\n",
      "[ 2018-04-25 01:01:54,693][kfold_wrapper.log_eval_metrics] Accuracy(layer_0 - estimator_0 - 10_folds.train_2.predict)=94.33%\n",
      "[ 2018-04-25 01:01:55,504][kfold_wrapper.log_eval_metrics] Accuracy(layer_0 - estimator_0 - 10_folds.train_3.predict)=95.74%\n",
      "[ 2018-04-25 01:01:56,270][kfold_wrapper.log_eval_metrics] Accuracy(layer_0 - estimator_0 - 10_folds.train_4.predict)=94.33%\n",
      "[ 2018-04-25 01:01:57,067][kfold_wrapper.log_eval_metrics] Accuracy(layer_0 - estimator_0 - 10_folds.train_5.predict)=94.33%\n",
      "[ 2018-04-25 01:01:58,047][kfold_wrapper.log_eval_metrics] Accuracy(layer_0 - estimator_0 - 10_folds.train_6.predict)=94.31%\n",
      "[ 2018-04-25 01:01:58,902][kfold_wrapper.log_eval_metrics] Accuracy(layer_0 - estimator_0 - 10_folds.train_7.predict)=95.73%\n",
      "[ 2018-04-25 01:01:59,785][kfold_wrapper.log_eval_metrics] Accuracy(layer_0 - estimator_0 - 10_folds.train_8.predict)=91.10%\n",
      "[ 2018-04-25 01:02:00,587][kfold_wrapper.log_eval_metrics] Accuracy(layer_0 - estimator_0 - 10_folds.train_9.predict)=95.02%\n",
      "[ 2018-04-25 01:02:00,740][kfold_wrapper.log_eval_metrics] Accuracy(layer_0 - estimator_0 - 10_folds.train_cv.predict)=94.14%\n",
      "[ 2018-04-25 01:02:00,741][kfold_wrapper.log_eval_metrics] Accuracy(layer_0 - estimator_0 - 10_folds.test.predict)=94.89%\n",
      "[ 2018-04-25 01:02:00,753][cascade_classifier.calc_accuracy] Accuracy(layer_0 - train.classifier_average)=94.14%\n",
      "[ 2018-04-25 01:02:00,755][cascade_classifier.calc_accuracy] Accuracy(layer_0 - test.classifier_average)=94.89%\n",
      "[ 2018-04-25 01:02:00,757][cascade_classifier.fit_transform] [Result][Reach Max Layer] opt_layer_num=1, accuracy_train=94.14%, accuracy_test=94.89%\n",
      "[ 2018-04-25 01:02:00,758][cascade_classifier.transform] X_groups_test.shape=[(1389, 59)]\n",
      "[ 2018-04-25 01:02:00,761][cascade_classifier.transform] group_dims=[59]\n",
      "[ 2018-04-25 01:02:00,762][cascade_classifier.transform] X_test.shape=(1389, 59)\n",
      "[ 2018-04-25 01:02:00,765][cascade_classifier.transform] [layer=0] look_indexs=[0], X_cur_test.shape=(1389, 59)\n",
      "[ 2018-04-25 01:02:02,405][cascade_classifier.fit_transform] X_groups_train.shape=[(2818, 59)],y_train.shape=(2818,),X_groups_test.shape=[(1389, 59)],y_test.shape=(1389,)\n",
      "[ 2018-04-25 01:02:02,408][cascade_classifier.fit_transform] group_dims=[59]\n",
      "[ 2018-04-25 01:02:02,410][cascade_classifier.fit_transform] group_starts=[0]\n",
      "[ 2018-04-25 01:02:02,411][cascade_classifier.fit_transform] group_ends=[59]\n",
      "[ 2018-04-25 01:02:02,413][cascade_classifier.fit_transform] X_train.shape=(2818, 59),X_test.shape=(1389, 59)\n",
      "[ 2018-04-25 01:02:02,416][cascade_classifier.fit_transform] [layer=0] look_indexs=[0], X_cur_train.shape=(2818, 59), X_cur_test.shape=(1389, 59)\n"
     ]
    },
    {
     "name": "stdout",
     "output_type": "stream",
     "text": [
      "('Test Accuracy of ExtraTrees = 94.888409 %', 12, 'fois')\n"
     ]
    },
    {
     "name": "stderr",
     "output_type": "stream",
     "text": [
      "[ 2018-04-25 01:02:03,028][kfold_wrapper.log_eval_metrics] Accuracy(layer_0 - estimator_0 - 10_folds.train_0.predict)=94.70%\n",
      "[ 2018-04-25 01:02:03,806][kfold_wrapper.log_eval_metrics] Accuracy(layer_0 - estimator_0 - 10_folds.train_1.predict)=93.99%\n",
      "[ 2018-04-25 01:02:04,595][kfold_wrapper.log_eval_metrics] Accuracy(layer_0 - estimator_0 - 10_folds.train_2.predict)=92.91%\n",
      "[ 2018-04-25 01:02:05,359][kfold_wrapper.log_eval_metrics] Accuracy(layer_0 - estimator_0 - 10_folds.train_3.predict)=96.10%\n",
      "[ 2018-04-25 01:02:06,133][kfold_wrapper.log_eval_metrics] Accuracy(layer_0 - estimator_0 - 10_folds.train_4.predict)=95.04%\n",
      "[ 2018-04-25 01:02:06,949][kfold_wrapper.log_eval_metrics] Accuracy(layer_0 - estimator_0 - 10_folds.train_5.predict)=94.68%\n",
      "[ 2018-04-25 01:02:07,812][kfold_wrapper.log_eval_metrics] Accuracy(layer_0 - estimator_0 - 10_folds.train_6.predict)=95.02%\n",
      "[ 2018-04-25 01:02:08,619][kfold_wrapper.log_eval_metrics] Accuracy(layer_0 - estimator_0 - 10_folds.train_7.predict)=95.73%\n",
      "[ 2018-04-25 01:02:09,376][kfold_wrapper.log_eval_metrics] Accuracy(layer_0 - estimator_0 - 10_folds.train_8.predict)=91.10%\n",
      "[ 2018-04-25 01:02:10,165][kfold_wrapper.log_eval_metrics] Accuracy(layer_0 - estimator_0 - 10_folds.train_9.predict)=94.66%\n",
      "[ 2018-04-25 01:02:10,320][kfold_wrapper.log_eval_metrics] Accuracy(layer_0 - estimator_0 - 10_folds.train_cv.predict)=94.39%\n",
      "[ 2018-04-25 01:02:10,322][kfold_wrapper.log_eval_metrics] Accuracy(layer_0 - estimator_0 - 10_folds.test.predict)=94.82%\n",
      "[ 2018-04-25 01:02:10,328][cascade_classifier.calc_accuracy] Accuracy(layer_0 - train.classifier_average)=94.39%\n",
      "[ 2018-04-25 01:02:10,330][cascade_classifier.calc_accuracy] Accuracy(layer_0 - test.classifier_average)=94.82%\n",
      "[ 2018-04-25 01:02:10,332][cascade_classifier.fit_transform] [Result][Reach Max Layer] opt_layer_num=1, accuracy_train=94.39%, accuracy_test=94.82%\n",
      "[ 2018-04-25 01:02:10,334][cascade_classifier.transform] X_groups_test.shape=[(1389, 59)]\n",
      "[ 2018-04-25 01:02:10,336][cascade_classifier.transform] group_dims=[59]\n",
      "[ 2018-04-25 01:02:10,338][cascade_classifier.transform] X_test.shape=(1389, 59)\n",
      "[ 2018-04-25 01:02:10,340][cascade_classifier.transform] [layer=0] look_indexs=[0], X_cur_test.shape=(1389, 59)\n",
      "[ 2018-04-25 01:02:11,935][cascade_classifier.fit_transform] X_groups_train.shape=[(2818, 59)],y_train.shape=(2818,),X_groups_test.shape=[(1389, 59)],y_test.shape=(1389,)\n",
      "[ 2018-04-25 01:02:11,937][cascade_classifier.fit_transform] group_dims=[59]\n",
      "[ 2018-04-25 01:02:11,939][cascade_classifier.fit_transform] group_starts=[0]\n",
      "[ 2018-04-25 01:02:11,940][cascade_classifier.fit_transform] group_ends=[59]\n",
      "[ 2018-04-25 01:02:11,942][cascade_classifier.fit_transform] X_train.shape=(2818, 59),X_test.shape=(1389, 59)\n",
      "[ 2018-04-25 01:02:11,945][cascade_classifier.fit_transform] [layer=0] look_indexs=[0], X_cur_train.shape=(2818, 59), X_cur_test.shape=(1389, 59)\n"
     ]
    },
    {
     "name": "stdout",
     "output_type": "stream",
     "text": [
      "('Test Accuracy of ExtraTrees = 94.816415 %', 13, 'fois')\n"
     ]
    },
    {
     "name": "stderr",
     "output_type": "stream",
     "text": [
      "[ 2018-04-25 01:02:12,616][kfold_wrapper.log_eval_metrics] Accuracy(layer_0 - estimator_0 - 10_folds.train_0.predict)=94.70%\n",
      "[ 2018-04-25 01:02:13,379][kfold_wrapper.log_eval_metrics] Accuracy(layer_0 - estimator_0 - 10_folds.train_1.predict)=93.29%\n",
      "[ 2018-04-25 01:02:14,156][kfold_wrapper.log_eval_metrics] Accuracy(layer_0 - estimator_0 - 10_folds.train_2.predict)=93.26%\n",
      "[ 2018-04-25 01:02:14,907][kfold_wrapper.log_eval_metrics] Accuracy(layer_0 - estimator_0 - 10_folds.train_3.predict)=96.10%\n",
      "[ 2018-04-25 01:02:15,731][kfold_wrapper.log_eval_metrics] Accuracy(layer_0 - estimator_0 - 10_folds.train_4.predict)=94.33%\n",
      "[ 2018-04-25 01:02:16,589][kfold_wrapper.log_eval_metrics] Accuracy(layer_0 - estimator_0 - 10_folds.train_5.predict)=93.97%\n",
      "[ 2018-04-25 01:02:17,360][kfold_wrapper.log_eval_metrics] Accuracy(layer_0 - estimator_0 - 10_folds.train_6.predict)=94.66%\n",
      "[ 2018-04-25 01:02:18,200][kfold_wrapper.log_eval_metrics] Accuracy(layer_0 - estimator_0 - 10_folds.train_7.predict)=95.73%\n",
      "[ 2018-04-25 01:02:18,985][kfold_wrapper.log_eval_metrics] Accuracy(layer_0 - estimator_0 - 10_folds.train_8.predict)=90.75%\n",
      "[ 2018-04-25 01:02:19,816][kfold_wrapper.log_eval_metrics] Accuracy(layer_0 - estimator_0 - 10_folds.train_9.predict)=95.02%\n",
      "[ 2018-04-25 01:02:19,971][kfold_wrapper.log_eval_metrics] Accuracy(layer_0 - estimator_0 - 10_folds.train_cv.predict)=94.18%\n",
      "[ 2018-04-25 01:02:19,973][kfold_wrapper.log_eval_metrics] Accuracy(layer_0 - estimator_0 - 10_folds.test.predict)=95.03%\n",
      "[ 2018-04-25 01:02:19,986][cascade_classifier.calc_accuracy] Accuracy(layer_0 - train.classifier_average)=94.18%\n",
      "[ 2018-04-25 01:02:19,988][cascade_classifier.calc_accuracy] Accuracy(layer_0 - test.classifier_average)=95.03%\n",
      "[ 2018-04-25 01:02:19,989][cascade_classifier.fit_transform] [Result][Reach Max Layer] opt_layer_num=1, accuracy_train=94.18%, accuracy_test=95.03%\n",
      "[ 2018-04-25 01:02:19,991][cascade_classifier.transform] X_groups_test.shape=[(1389, 59)]\n",
      "[ 2018-04-25 01:02:19,993][cascade_classifier.transform] group_dims=[59]\n",
      "[ 2018-04-25 01:02:19,995][cascade_classifier.transform] X_test.shape=(1389, 59)\n",
      "[ 2018-04-25 01:02:19,997][cascade_classifier.transform] [layer=0] look_indexs=[0], X_cur_test.shape=(1389, 59)\n",
      "[ 2018-04-25 01:02:21,667][cascade_classifier.fit_transform] X_groups_train.shape=[(2818, 59)],y_train.shape=(2818,),X_groups_test.shape=[(1389, 59)],y_test.shape=(1389,)\n",
      "[ 2018-04-25 01:02:21,669][cascade_classifier.fit_transform] group_dims=[59]\n",
      "[ 2018-04-25 01:02:21,671][cascade_classifier.fit_transform] group_starts=[0]\n",
      "[ 2018-04-25 01:02:21,672][cascade_classifier.fit_transform] group_ends=[59]\n",
      "[ 2018-04-25 01:02:21,674][cascade_classifier.fit_transform] X_train.shape=(2818, 59),X_test.shape=(1389, 59)\n",
      "[ 2018-04-25 01:02:21,676][cascade_classifier.fit_transform] [layer=0] look_indexs=[0], X_cur_train.shape=(2818, 59), X_cur_test.shape=(1389, 59)\n"
     ]
    },
    {
     "name": "stdout",
     "output_type": "stream",
     "text": [
      "('Test Accuracy of ExtraTrees = 95.032397 %', 14, 'fois')\n"
     ]
    },
    {
     "name": "stderr",
     "output_type": "stream",
     "text": [
      "[ 2018-04-25 01:02:22,351][kfold_wrapper.log_eval_metrics] Accuracy(layer_0 - estimator_0 - 10_folds.train_0.predict)=95.05%\n",
      "[ 2018-04-25 01:02:23,159][kfold_wrapper.log_eval_metrics] Accuracy(layer_0 - estimator_0 - 10_folds.train_1.predict)=93.29%\n",
      "[ 2018-04-25 01:02:23,995][kfold_wrapper.log_eval_metrics] Accuracy(layer_0 - estimator_0 - 10_folds.train_2.predict)=94.33%\n",
      "[ 2018-04-25 01:02:24,785][kfold_wrapper.log_eval_metrics] Accuracy(layer_0 - estimator_0 - 10_folds.train_3.predict)=96.81%\n",
      "[ 2018-04-25 01:02:25,695][kfold_wrapper.log_eval_metrics] Accuracy(layer_0 - estimator_0 - 10_folds.train_4.predict)=94.68%\n",
      "[ 2018-04-25 01:02:26,471][kfold_wrapper.log_eval_metrics] Accuracy(layer_0 - estimator_0 - 10_folds.train_5.predict)=93.97%\n",
      "[ 2018-04-25 01:02:27,256][kfold_wrapper.log_eval_metrics] Accuracy(layer_0 - estimator_0 - 10_folds.train_6.predict)=94.66%\n",
      "[ 2018-04-25 01:02:28,083][kfold_wrapper.log_eval_metrics] Accuracy(layer_0 - estimator_0 - 10_folds.train_7.predict)=95.37%\n",
      "[ 2018-04-25 01:02:28,914][kfold_wrapper.log_eval_metrics] Accuracy(layer_0 - estimator_0 - 10_folds.train_8.predict)=90.75%\n",
      "[ 2018-04-25 01:02:29,704][kfold_wrapper.log_eval_metrics] Accuracy(layer_0 - estimator_0 - 10_folds.train_9.predict)=95.02%\n",
      "[ 2018-04-25 01:02:29,861][kfold_wrapper.log_eval_metrics] Accuracy(layer_0 - estimator_0 - 10_folds.train_cv.predict)=94.39%\n",
      "[ 2018-04-25 01:02:29,863][kfold_wrapper.log_eval_metrics] Accuracy(layer_0 - estimator_0 - 10_folds.test.predict)=94.89%\n",
      "[ 2018-04-25 01:02:29,873][cascade_classifier.calc_accuracy] Accuracy(layer_0 - train.classifier_average)=94.39%\n",
      "[ 2018-04-25 01:02:29,875][cascade_classifier.calc_accuracy] Accuracy(layer_0 - test.classifier_average)=94.89%\n",
      "[ 2018-04-25 01:02:29,877][cascade_classifier.fit_transform] [Result][Reach Max Layer] opt_layer_num=1, accuracy_train=94.39%, accuracy_test=94.89%\n",
      "[ 2018-04-25 01:02:29,879][cascade_classifier.transform] X_groups_test.shape=[(1389, 59)]\n",
      "[ 2018-04-25 01:02:29,881][cascade_classifier.transform] group_dims=[59]\n",
      "[ 2018-04-25 01:02:29,883][cascade_classifier.transform] X_test.shape=(1389, 59)\n",
      "[ 2018-04-25 01:02:29,885][cascade_classifier.transform] [layer=0] look_indexs=[0], X_cur_test.shape=(1389, 59)\n",
      "[ 2018-04-25 01:02:31,538][cascade_classifier.fit_transform] X_groups_train.shape=[(2818, 59)],y_train.shape=(2818,),X_groups_test.shape=[(1389, 59)],y_test.shape=(1389,)\n",
      "[ 2018-04-25 01:02:31,541][cascade_classifier.fit_transform] group_dims=[59]\n",
      "[ 2018-04-25 01:02:31,543][cascade_classifier.fit_transform] group_starts=[0]\n",
      "[ 2018-04-25 01:02:31,544][cascade_classifier.fit_transform] group_ends=[59]\n",
      "[ 2018-04-25 01:02:31,546][cascade_classifier.fit_transform] X_train.shape=(2818, 59),X_test.shape=(1389, 59)\n",
      "[ 2018-04-25 01:02:31,549][cascade_classifier.fit_transform] [layer=0] look_indexs=[0], X_cur_train.shape=(2818, 59), X_cur_test.shape=(1389, 59)\n"
     ]
    },
    {
     "name": "stdout",
     "output_type": "stream",
     "text": [
      "('Test Accuracy of ExtraTrees = 94.888409 %', 15, 'fois')\n"
     ]
    },
    {
     "name": "stderr",
     "output_type": "stream",
     "text": [
      "[ 2018-04-25 01:02:32,182][kfold_wrapper.log_eval_metrics] Accuracy(layer_0 - estimator_0 - 10_folds.train_0.predict)=94.35%\n",
      "[ 2018-04-25 01:02:33,035][kfold_wrapper.log_eval_metrics] Accuracy(layer_0 - estimator_0 - 10_folds.train_1.predict)=92.93%\n",
      "[ 2018-04-25 01:02:33,846][kfold_wrapper.log_eval_metrics] Accuracy(layer_0 - estimator_0 - 10_folds.train_2.predict)=93.97%\n",
      "[ 2018-04-25 01:02:34,619][kfold_wrapper.log_eval_metrics] Accuracy(layer_0 - estimator_0 - 10_folds.train_3.predict)=95.74%\n",
      "[ 2018-04-25 01:02:35,548][kfold_wrapper.log_eval_metrics] Accuracy(layer_0 - estimator_0 - 10_folds.train_4.predict)=94.68%\n",
      "[ 2018-04-25 01:02:36,338][kfold_wrapper.log_eval_metrics] Accuracy(layer_0 - estimator_0 - 10_folds.train_5.predict)=93.97%\n",
      "[ 2018-04-25 01:02:37,099][kfold_wrapper.log_eval_metrics] Accuracy(layer_0 - estimator_0 - 10_folds.train_6.predict)=94.66%\n",
      "[ 2018-04-25 01:02:37,910][kfold_wrapper.log_eval_metrics] Accuracy(layer_0 - estimator_0 - 10_folds.train_7.predict)=95.73%\n",
      "[ 2018-04-25 01:02:38,695][kfold_wrapper.log_eval_metrics] Accuracy(layer_0 - estimator_0 - 10_folds.train_8.predict)=91.46%\n",
      "[ 2018-04-25 01:02:39,522][kfold_wrapper.log_eval_metrics] Accuracy(layer_0 - estimator_0 - 10_folds.train_9.predict)=95.02%\n",
      "[ 2018-04-25 01:02:39,683][kfold_wrapper.log_eval_metrics] Accuracy(layer_0 - estimator_0 - 10_folds.train_cv.predict)=94.25%\n",
      "[ 2018-04-25 01:02:39,685][kfold_wrapper.log_eval_metrics] Accuracy(layer_0 - estimator_0 - 10_folds.test.predict)=95.03%\n",
      "[ 2018-04-25 01:02:39,696][cascade_classifier.calc_accuracy] Accuracy(layer_0 - train.classifier_average)=94.25%\n",
      "[ 2018-04-25 01:02:39,698][cascade_classifier.calc_accuracy] Accuracy(layer_0 - test.classifier_average)=95.03%\n",
      "[ 2018-04-25 01:02:39,700][cascade_classifier.fit_transform] [Result][Reach Max Layer] opt_layer_num=1, accuracy_train=94.25%, accuracy_test=95.03%\n",
      "[ 2018-04-25 01:02:39,701][cascade_classifier.transform] X_groups_test.shape=[(1389, 59)]\n",
      "[ 2018-04-25 01:02:39,704][cascade_classifier.transform] group_dims=[59]\n",
      "[ 2018-04-25 01:02:39,706][cascade_classifier.transform] X_test.shape=(1389, 59)\n",
      "[ 2018-04-25 01:02:39,709][cascade_classifier.transform] [layer=0] look_indexs=[0], X_cur_test.shape=(1389, 59)\n",
      "[ 2018-04-25 01:02:41,254][cascade_classifier.fit_transform] X_groups_train.shape=[(2818, 59)],y_train.shape=(2818,),X_groups_test.shape=[(1389, 59)],y_test.shape=(1389,)\n",
      "[ 2018-04-25 01:02:41,258][cascade_classifier.fit_transform] group_dims=[59]\n",
      "[ 2018-04-25 01:02:41,260][cascade_classifier.fit_transform] group_starts=[0]\n",
      "[ 2018-04-25 01:02:41,262][cascade_classifier.fit_transform] group_ends=[59]\n",
      "[ 2018-04-25 01:02:41,263][cascade_classifier.fit_transform] X_train.shape=(2818, 59),X_test.shape=(1389, 59)\n",
      "[ 2018-04-25 01:02:41,266][cascade_classifier.fit_transform] [layer=0] look_indexs=[0], X_cur_train.shape=(2818, 59), X_cur_test.shape=(1389, 59)\n"
     ]
    },
    {
     "name": "stdout",
     "output_type": "stream",
     "text": [
      "('Test Accuracy of ExtraTrees = 95.032397 %', 16, 'fois')\n"
     ]
    },
    {
     "name": "stderr",
     "output_type": "stream",
     "text": [
      "[ 2018-04-25 01:02:41,935][kfold_wrapper.log_eval_metrics] Accuracy(layer_0 - estimator_0 - 10_folds.train_0.predict)=94.35%\n",
      "[ 2018-04-25 01:02:42,783][kfold_wrapper.log_eval_metrics] Accuracy(layer_0 - estimator_0 - 10_folds.train_1.predict)=92.58%\n",
      "[ 2018-04-25 01:02:43,637][kfold_wrapper.log_eval_metrics] Accuracy(layer_0 - estimator_0 - 10_folds.train_2.predict)=92.55%\n",
      "[ 2018-04-25 01:02:44,428][kfold_wrapper.log_eval_metrics] Accuracy(layer_0 - estimator_0 - 10_folds.train_3.predict)=96.10%\n",
      "[ 2018-04-25 01:02:45,245][kfold_wrapper.log_eval_metrics] Accuracy(layer_0 - estimator_0 - 10_folds.train_4.predict)=93.97%\n",
      "[ 2018-04-25 01:02:46,106][kfold_wrapper.log_eval_metrics] Accuracy(layer_0 - estimator_0 - 10_folds.train_5.predict)=93.62%\n",
      "[ 2018-04-25 01:02:47,003][kfold_wrapper.log_eval_metrics] Accuracy(layer_0 - estimator_0 - 10_folds.train_6.predict)=94.66%\n",
      "[ 2018-04-25 01:02:47,861][kfold_wrapper.log_eval_metrics] Accuracy(layer_0 - estimator_0 - 10_folds.train_7.predict)=95.73%\n",
      "[ 2018-04-25 01:02:48,672][kfold_wrapper.log_eval_metrics] Accuracy(layer_0 - estimator_0 - 10_folds.train_8.predict)=91.46%\n",
      "[ 2018-04-25 01:02:49,491][kfold_wrapper.log_eval_metrics] Accuracy(layer_0 - estimator_0 - 10_folds.train_9.predict)=95.73%\n",
      "[ 2018-04-25 01:02:49,649][kfold_wrapper.log_eval_metrics] Accuracy(layer_0 - estimator_0 - 10_folds.train_cv.predict)=94.07%\n",
      "[ 2018-04-25 01:02:49,651][kfold_wrapper.log_eval_metrics] Accuracy(layer_0 - estimator_0 - 10_folds.test.predict)=94.89%\n",
      "[ 2018-04-25 01:02:49,662][cascade_classifier.calc_accuracy] Accuracy(layer_0 - train.classifier_average)=94.07%\n",
      "[ 2018-04-25 01:02:49,664][cascade_classifier.calc_accuracy] Accuracy(layer_0 - test.classifier_average)=94.89%\n",
      "[ 2018-04-25 01:02:49,665][cascade_classifier.fit_transform] [Result][Reach Max Layer] opt_layer_num=1, accuracy_train=94.07%, accuracy_test=94.89%\n",
      "[ 2018-04-25 01:02:49,667][cascade_classifier.transform] X_groups_test.shape=[(1389, 59)]\n",
      "[ 2018-04-25 01:02:49,669][cascade_classifier.transform] group_dims=[59]\n",
      "[ 2018-04-25 01:02:49,670][cascade_classifier.transform] X_test.shape=(1389, 59)\n",
      "[ 2018-04-25 01:02:49,672][cascade_classifier.transform] [layer=0] look_indexs=[0], X_cur_test.shape=(1389, 59)\n",
      "[ 2018-04-25 01:02:51,218][cascade_classifier.fit_transform] X_groups_train.shape=[(2818, 59)],y_train.shape=(2818,),X_groups_test.shape=[(1389, 59)],y_test.shape=(1389,)\n",
      "[ 2018-04-25 01:02:51,221][cascade_classifier.fit_transform] group_dims=[59]\n",
      "[ 2018-04-25 01:02:51,223][cascade_classifier.fit_transform] group_starts=[0]\n",
      "[ 2018-04-25 01:02:51,224][cascade_classifier.fit_transform] group_ends=[59]\n",
      "[ 2018-04-25 01:02:51,226][cascade_classifier.fit_transform] X_train.shape=(2818, 59),X_test.shape=(1389, 59)\n",
      "[ 2018-04-25 01:02:51,228][cascade_classifier.fit_transform] [layer=0] look_indexs=[0], X_cur_train.shape=(2818, 59), X_cur_test.shape=(1389, 59)\n"
     ]
    },
    {
     "name": "stdout",
     "output_type": "stream",
     "text": [
      "('Test Accuracy of ExtraTrees = 94.888409 %', 17, 'fois')\n"
     ]
    },
    {
     "name": "stderr",
     "output_type": "stream",
     "text": [
      "[ 2018-04-25 01:02:51,929][kfold_wrapper.log_eval_metrics] Accuracy(layer_0 - estimator_0 - 10_folds.train_0.predict)=93.99%\n",
      "[ 2018-04-25 01:02:52,712][kfold_wrapper.log_eval_metrics] Accuracy(layer_0 - estimator_0 - 10_folds.train_1.predict)=93.64%\n",
      "[ 2018-04-25 01:02:53,506][kfold_wrapper.log_eval_metrics] Accuracy(layer_0 - estimator_0 - 10_folds.train_2.predict)=93.97%\n",
      "[ 2018-04-25 01:02:54,365][kfold_wrapper.log_eval_metrics] Accuracy(layer_0 - estimator_0 - 10_folds.train_3.predict)=95.39%\n",
      "[ 2018-04-25 01:02:55,187][kfold_wrapper.log_eval_metrics] Accuracy(layer_0 - estimator_0 - 10_folds.train_4.predict)=94.68%\n",
      "[ 2018-04-25 01:02:55,998][kfold_wrapper.log_eval_metrics] Accuracy(layer_0 - estimator_0 - 10_folds.train_5.predict)=93.62%\n",
      "[ 2018-04-25 01:02:56,817][kfold_wrapper.log_eval_metrics] Accuracy(layer_0 - estimator_0 - 10_folds.train_6.predict)=95.37%\n",
      "[ 2018-04-25 01:02:57,634][kfold_wrapper.log_eval_metrics] Accuracy(layer_0 - estimator_0 - 10_folds.train_7.predict)=96.09%\n",
      "[ 2018-04-25 01:02:58,427][kfold_wrapper.log_eval_metrics] Accuracy(layer_0 - estimator_0 - 10_folds.train_8.predict)=91.81%\n",
      "[ 2018-04-25 01:02:59,243][kfold_wrapper.log_eval_metrics] Accuracy(layer_0 - estimator_0 - 10_folds.train_9.predict)=95.02%\n",
      "[ 2018-04-25 01:02:59,399][kfold_wrapper.log_eval_metrics] Accuracy(layer_0 - estimator_0 - 10_folds.train_cv.predict)=94.36%\n",
      "[ 2018-04-25 01:02:59,401][kfold_wrapper.log_eval_metrics] Accuracy(layer_0 - estimator_0 - 10_folds.test.predict)=94.60%\n",
      "[ 2018-04-25 01:02:59,416][cascade_classifier.calc_accuracy] Accuracy(layer_0 - train.classifier_average)=94.36%\n",
      "[ 2018-04-25 01:02:59,418][cascade_classifier.calc_accuracy] Accuracy(layer_0 - test.classifier_average)=94.60%\n",
      "[ 2018-04-25 01:02:59,420][cascade_classifier.fit_transform] [Result][Reach Max Layer] opt_layer_num=1, accuracy_train=94.36%, accuracy_test=94.60%\n",
      "[ 2018-04-25 01:02:59,422][cascade_classifier.transform] X_groups_test.shape=[(1389, 59)]\n",
      "[ 2018-04-25 01:02:59,424][cascade_classifier.transform] group_dims=[59]\n",
      "[ 2018-04-25 01:02:59,426][cascade_classifier.transform] X_test.shape=(1389, 59)\n",
      "[ 2018-04-25 01:02:59,428][cascade_classifier.transform] [layer=0] look_indexs=[0], X_cur_test.shape=(1389, 59)\n",
      "[ 2018-04-25 01:03:01,053][cascade_classifier.fit_transform] X_groups_train.shape=[(2818, 59)],y_train.shape=(2818,),X_groups_test.shape=[(1389, 59)],y_test.shape=(1389,)\n",
      "[ 2018-04-25 01:03:01,056][cascade_classifier.fit_transform] group_dims=[59]\n",
      "[ 2018-04-25 01:03:01,057][cascade_classifier.fit_transform] group_starts=[0]\n",
      "[ 2018-04-25 01:03:01,059][cascade_classifier.fit_transform] group_ends=[59]\n",
      "[ 2018-04-25 01:03:01,061][cascade_classifier.fit_transform] X_train.shape=(2818, 59),X_test.shape=(1389, 59)\n",
      "[ 2018-04-25 01:03:01,063][cascade_classifier.fit_transform] [layer=0] look_indexs=[0], X_cur_train.shape=(2818, 59), X_cur_test.shape=(1389, 59)\n"
     ]
    },
    {
     "name": "stdout",
     "output_type": "stream",
     "text": [
      "('Test Accuracy of ExtraTrees = 94.600432 %', 18, 'fois')\n"
     ]
    },
    {
     "name": "stderr",
     "output_type": "stream",
     "text": [
      "[ 2018-04-25 01:03:01,684][kfold_wrapper.log_eval_metrics] Accuracy(layer_0 - estimator_0 - 10_folds.train_0.predict)=93.64%\n",
      "[ 2018-04-25 01:03:02,475][kfold_wrapper.log_eval_metrics] Accuracy(layer_0 - estimator_0 - 10_folds.train_1.predict)=92.93%\n",
      "[ 2018-04-25 01:03:03,251][kfold_wrapper.log_eval_metrics] Accuracy(layer_0 - estimator_0 - 10_folds.train_2.predict)=94.68%\n",
      "[ 2018-04-25 01:03:04,086][kfold_wrapper.log_eval_metrics] Accuracy(layer_0 - estimator_0 - 10_folds.train_3.predict)=95.39%\n",
      "[ 2018-04-25 01:03:04,868][kfold_wrapper.log_eval_metrics] Accuracy(layer_0 - estimator_0 - 10_folds.train_4.predict)=95.04%\n",
      "[ 2018-04-25 01:03:05,662][kfold_wrapper.log_eval_metrics] Accuracy(layer_0 - estimator_0 - 10_folds.train_5.predict)=93.26%\n",
      "[ 2018-04-25 01:03:06,480][kfold_wrapper.log_eval_metrics] Accuracy(layer_0 - estimator_0 - 10_folds.train_6.predict)=95.02%\n",
      "[ 2018-04-25 01:03:07,362][kfold_wrapper.log_eval_metrics] Accuracy(layer_0 - estimator_0 - 10_folds.train_7.predict)=96.09%\n",
      "[ 2018-04-25 01:03:08,149][kfold_wrapper.log_eval_metrics] Accuracy(layer_0 - estimator_0 - 10_folds.train_8.predict)=91.10%\n",
      "[ 2018-04-25 01:03:08,962][kfold_wrapper.log_eval_metrics] Accuracy(layer_0 - estimator_0 - 10_folds.train_9.predict)=95.02%\n",
      "[ 2018-04-25 01:03:09,118][kfold_wrapper.log_eval_metrics] Accuracy(layer_0 - estimator_0 - 10_folds.train_cv.predict)=94.22%\n",
      "[ 2018-04-25 01:03:09,120][kfold_wrapper.log_eval_metrics] Accuracy(layer_0 - estimator_0 - 10_folds.test.predict)=94.74%\n",
      "[ 2018-04-25 01:03:09,129][cascade_classifier.calc_accuracy] Accuracy(layer_0 - train.classifier_average)=94.22%\n",
      "[ 2018-04-25 01:03:09,131][cascade_classifier.calc_accuracy] Accuracy(layer_0 - test.classifier_average)=94.74%\n",
      "[ 2018-04-25 01:03:09,132][cascade_classifier.fit_transform] [Result][Reach Max Layer] opt_layer_num=1, accuracy_train=94.22%, accuracy_test=94.74%\n",
      "[ 2018-04-25 01:03:09,134][cascade_classifier.transform] X_groups_test.shape=[(1389, 59)]\n",
      "[ 2018-04-25 01:03:09,136][cascade_classifier.transform] group_dims=[59]\n",
      "[ 2018-04-25 01:03:09,138][cascade_classifier.transform] X_test.shape=(1389, 59)\n",
      "[ 2018-04-25 01:03:09,139][cascade_classifier.transform] [layer=0] look_indexs=[0], X_cur_test.shape=(1389, 59)\n"
     ]
    },
    {
     "name": "stdout",
     "output_type": "stream",
     "text": [
      "('Test Accuracy of ExtraTrees = 94.744420 %', 19, 'fois')\n"
     ]
    }
   ],
   "source": [
    "# Deep\n",
    "for i in range (20):\n",
    "    X_train,X_test=update(X_train,X_test)\n",
    "    X_test_enc, X_train_enc=newdata(X_test_enc, X_train_enc)\n",
    "\n",
    "    X_train=X_train_enc\n",
    "    X_test=X_test_enc \n",
    "    X_train_enc, X_test_enc = gc.fit_transform(X_train, y_train, X_test=X_test, y_test=y_test)\n",
    "    affiche()"
   ]
  },
  {
   "cell_type": "code",
   "execution_count": null,
   "metadata": {
    "collapsed": true
   },
   "outputs": [],
   "source": []
  },
  {
   "cell_type": "markdown",
   "metadata": {},
   "source": [
    "# ('Test Accuracy of ExtraTrees = 95.248380 %', 3, 'fois')"
   ]
  },
  {
   "cell_type": "code",
   "execution_count": null,
   "metadata": {
    "collapsed": true
   },
   "outputs": [],
   "source": []
  }
 ],
 "metadata": {
  "kernelspec": {
   "display_name": "Python 2",
   "language": "python",
   "name": "python2"
  },
  "language_info": {
   "codemirror_mode": {
    "name": "ipython",
    "version": 2
   },
   "file_extension": ".py",
   "mimetype": "text/x-python",
   "name": "python",
   "nbconvert_exporter": "python",
   "pygments_lexer": "ipython2",
   "version": "2.7.14"
  }
 },
 "nbformat": 4,
 "nbformat_minor": 2
}
