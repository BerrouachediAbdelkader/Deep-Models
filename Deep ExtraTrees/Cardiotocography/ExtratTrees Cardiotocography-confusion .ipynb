{
 "cells": [
  {
   "cell_type": "code",
   "execution_count": 17,
   "metadata": {
    "collapsed": true
   },
   "outputs": [],
   "source": [
    "# imports \n",
    "import numpy as np\n",
    "from math import sqrt \n",
    "from pprint import pprint\n",
    "from numpy import array\n",
    "from scipy.io import arff\n",
    "import pandas as pd"
   ]
  },
  {
   "cell_type": "code",
   "execution_count": 18,
   "metadata": {},
   "outputs": [
    {
     "data": {
      "text/html": [
       "<div>\n",
       "<style>\n",
       "    .dataframe thead tr:only-child th {\n",
       "        text-align: right;\n",
       "    }\n",
       "\n",
       "    .dataframe thead th {\n",
       "        text-align: left;\n",
       "    }\n",
       "\n",
       "    .dataframe tbody tr th {\n",
       "        vertical-align: top;\n",
       "    }\n",
       "</style>\n",
       "<table border=\"1\" class=\"dataframe\">\n",
       "  <thead>\n",
       "    <tr style=\"text-align: right;\">\n",
       "      <th></th>\n",
       "      <th>LB</th>\n",
       "      <th>AC</th>\n",
       "      <th>FM</th>\n",
       "      <th>UC</th>\n",
       "      <th>ASTV</th>\n",
       "      <th>MSTV</th>\n",
       "      <th>ALTV</th>\n",
       "      <th>MLTV</th>\n",
       "      <th>DL</th>\n",
       "      <th>DS</th>\n",
       "      <th>...</th>\n",
       "      <th>Min</th>\n",
       "      <th>Max</th>\n",
       "      <th>Nmax</th>\n",
       "      <th>Nzeros</th>\n",
       "      <th>Mode</th>\n",
       "      <th>Mean</th>\n",
       "      <th>Median</th>\n",
       "      <th>Variance</th>\n",
       "      <th>Tendency</th>\n",
       "      <th>outlier</th>\n",
       "    </tr>\n",
       "  </thead>\n",
       "  <tbody>\n",
       "    <tr>\n",
       "      <th>0</th>\n",
       "      <td>146.0</td>\n",
       "      <td>0.0</td>\n",
       "      <td>0.0</td>\n",
       "      <td>5.0</td>\n",
       "      <td>65.0</td>\n",
       "      <td>0.4</td>\n",
       "      <td>33.0</td>\n",
       "      <td>7.4</td>\n",
       "      <td>0.0</td>\n",
       "      <td>0.0</td>\n",
       "      <td>...</td>\n",
       "      <td>134.0</td>\n",
       "      <td>164.0</td>\n",
       "      <td>1.0</td>\n",
       "      <td>0.0</td>\n",
       "      <td>150.0</td>\n",
       "      <td>149.0</td>\n",
       "      <td>151.0</td>\n",
       "      <td>1.0</td>\n",
       "      <td>0.0</td>\n",
       "      <td>1</td>\n",
       "    </tr>\n",
       "    <tr>\n",
       "      <th>1</th>\n",
       "      <td>128.0</td>\n",
       "      <td>0.0</td>\n",
       "      <td>0.0</td>\n",
       "      <td>2.0</td>\n",
       "      <td>86.0</td>\n",
       "      <td>0.3</td>\n",
       "      <td>79.0</td>\n",
       "      <td>2.9</td>\n",
       "      <td>0.0</td>\n",
       "      <td>0.0</td>\n",
       "      <td>...</td>\n",
       "      <td>114.0</td>\n",
       "      <td>130.0</td>\n",
       "      <td>0.0</td>\n",
       "      <td>0.0</td>\n",
       "      <td>128.0</td>\n",
       "      <td>126.0</td>\n",
       "      <td>129.0</td>\n",
       "      <td>0.0</td>\n",
       "      <td>1.0</td>\n",
       "      <td>1</td>\n",
       "    </tr>\n",
       "    <tr>\n",
       "      <th>2</th>\n",
       "      <td>149.0</td>\n",
       "      <td>0.0</td>\n",
       "      <td>0.0</td>\n",
       "      <td>5.0</td>\n",
       "      <td>61.0</td>\n",
       "      <td>0.4</td>\n",
       "      <td>34.0</td>\n",
       "      <td>5.6</td>\n",
       "      <td>0.0</td>\n",
       "      <td>0.0</td>\n",
       "      <td>...</td>\n",
       "      <td>148.0</td>\n",
       "      <td>160.0</td>\n",
       "      <td>1.0</td>\n",
       "      <td>0.0</td>\n",
       "      <td>154.0</td>\n",
       "      <td>153.0</td>\n",
       "      <td>155.0</td>\n",
       "      <td>0.0</td>\n",
       "      <td>0.0</td>\n",
       "      <td>1</td>\n",
       "    </tr>\n",
       "    <tr>\n",
       "      <th>3</th>\n",
       "      <td>122.0</td>\n",
       "      <td>0.0</td>\n",
       "      <td>0.0</td>\n",
       "      <td>0.0</td>\n",
       "      <td>83.0</td>\n",
       "      <td>0.5</td>\n",
       "      <td>6.0</td>\n",
       "      <td>15.6</td>\n",
       "      <td>0.0</td>\n",
       "      <td>0.0</td>\n",
       "      <td>...</td>\n",
       "      <td>62.0</td>\n",
       "      <td>130.0</td>\n",
       "      <td>0.0</td>\n",
       "      <td>0.0</td>\n",
       "      <td>122.0</td>\n",
       "      <td>122.0</td>\n",
       "      <td>123.0</td>\n",
       "      <td>3.0</td>\n",
       "      <td>1.0</td>\n",
       "      <td>1</td>\n",
       "    </tr>\n",
       "    <tr>\n",
       "      <th>4</th>\n",
       "      <td>134.0</td>\n",
       "      <td>0.0</td>\n",
       "      <td>4.0</td>\n",
       "      <td>0.0</td>\n",
       "      <td>79.0</td>\n",
       "      <td>0.2</td>\n",
       "      <td>42.0</td>\n",
       "      <td>5.5</td>\n",
       "      <td>0.0</td>\n",
       "      <td>0.0</td>\n",
       "      <td>...</td>\n",
       "      <td>128.0</td>\n",
       "      <td>145.0</td>\n",
       "      <td>2.0</td>\n",
       "      <td>0.0</td>\n",
       "      <td>135.0</td>\n",
       "      <td>135.0</td>\n",
       "      <td>136.0</td>\n",
       "      <td>1.0</td>\n",
       "      <td>0.0</td>\n",
       "      <td>1</td>\n",
       "    </tr>\n",
       "  </tbody>\n",
       "</table>\n",
       "<p>5 rows × 22 columns</p>\n",
       "</div>"
      ],
      "text/plain": [
       "      LB   AC   FM   UC  ASTV  MSTV  ALTV  MLTV   DL   DS   ...       Min  \\\n",
       "0  146.0  0.0  0.0  5.0  65.0   0.4  33.0   7.4  0.0  0.0   ...     134.0   \n",
       "1  128.0  0.0  0.0  2.0  86.0   0.3  79.0   2.9  0.0  0.0   ...     114.0   \n",
       "2  149.0  0.0  0.0  5.0  61.0   0.4  34.0   5.6  0.0  0.0   ...     148.0   \n",
       "3  122.0  0.0  0.0  0.0  83.0   0.5   6.0  15.6  0.0  0.0   ...      62.0   \n",
       "4  134.0  0.0  4.0  0.0  79.0   0.2  42.0   5.5  0.0  0.0   ...     128.0   \n",
       "\n",
       "     Max  Nmax  Nzeros   Mode   Mean  Median  Variance  Tendency  outlier  \n",
       "0  164.0   1.0     0.0  150.0  149.0   151.0       1.0       0.0        1  \n",
       "1  130.0   0.0     0.0  128.0  126.0   129.0       0.0       1.0        1  \n",
       "2  160.0   1.0     0.0  154.0  153.0   155.0       0.0       0.0        1  \n",
       "3  130.0   0.0     0.0  122.0  122.0   123.0       3.0       1.0        1  \n",
       "4  145.0   2.0     0.0  135.0  135.0   136.0       1.0       0.0        1  \n",
       "\n",
       "[5 rows x 22 columns]"
      ]
     },
     "execution_count": 18,
     "metadata": {},
     "output_type": "execute_result"
    }
   ],
   "source": [
    "# load data\n",
    "\n",
    "df=pd.read_csv('Cardiotocography_02_v10.csv')  \n",
    "\n",
    "del df['id']\n",
    "del df['Unnamed: 0']\n",
    "df['outlier'] = df.outlier.apply(lambda label: 1 if label == \"'yes'\" else 0)\n",
    "\n",
    "df.head()"
   ]
  },
  {
   "cell_type": "code",
   "execution_count": 19,
   "metadata": {},
   "outputs": [
    {
     "data": {
      "text/plain": [
       "(1688, 22)"
      ]
     },
     "execution_count": 19,
     "metadata": {},
     "output_type": "execute_result"
    }
   ],
   "source": [
    "df.shape"
   ]
  },
  {
   "cell_type": "code",
   "execution_count": 20,
   "metadata": {
    "collapsed": true
   },
   "outputs": [],
   "source": [
    "# data to values\n",
    "df = df.values"
   ]
  },
  {
   "cell_type": "code",
   "execution_count": 21,
   "metadata": {
    "collapsed": true
   },
   "outputs": [],
   "source": [
    "# Extratrees Deep\n",
    "import argparse\n",
    "import sys\n",
    "import pickle\n",
    "from sklearn.metrics import accuracy_score\n",
    "sys.path.insert(0, \"lib\")\n",
    "from gcforest.gcforest import GCForest\n",
    "from gcforest.utils.config_utils import load_json\n",
    "config = load_json(\"./examples/Cardiotocography.json\")\n",
    "gc = GCForest(config)"
   ]
  },
  {
   "cell_type": "code",
   "execution_count": 22,
   "metadata": {},
   "outputs": [],
   "source": [
    "# train test \n",
    "from sklearn.cross_validation import train_test_split\n",
    "y = df[:,21]\n",
    "X = df[:,0:21]\n",
    "\n",
    "X_train,X_test,y_train,y_test = train_test_split(X, y, test_size=0.33, random_state=42)"
   ]
  },
  {
   "cell_type": "code",
   "execution_count": 23,
   "metadata": {},
   "outputs": [
    {
     "data": {
      "text/plain": [
       "2"
      ]
     },
     "execution_count": 23,
     "metadata": {},
     "output_type": "execute_result"
    }
   ],
   "source": [
    "# number of class\n",
    "len(np.unique(y_train))"
   ]
  },
  {
   "cell_type": "code",
   "execution_count": 24,
   "metadata": {},
   "outputs": [
    {
     "name": "stderr",
     "output_type": "stream",
     "text": [
      "[ 2018-05-15 10:17:12,998][cascade_classifier.fit_transform] X_groups_train.shape=[(1130, 21)],y_train.shape=(1130,),X_groups_test.shape=[(558, 21)],y_test.shape=(558,)\n",
      "[ 2018-05-15 10:17:13,002][cascade_classifier.fit_transform] group_dims=[21]\n",
      "[ 2018-05-15 10:17:13,006][cascade_classifier.fit_transform] group_starts=[0]\n",
      "[ 2018-05-15 10:17:13,009][cascade_classifier.fit_transform] group_ends=[21]\n",
      "[ 2018-05-15 10:17:13,011][cascade_classifier.fit_transform] X_train.shape=(1130, 21),X_test.shape=(558, 21)\n",
      "[ 2018-05-15 10:17:13,013][cascade_classifier.fit_transform] [layer=0] look_indexs=[0], X_cur_train.shape=(1130, 21), X_cur_test.shape=(558, 21)\n",
      "[ 2018-05-15 10:17:13,516][kfold_wrapper.log_eval_metrics] Accuracy(layer_0 - estimator_0 - 10_folds.train_0.predict)=97.37%\n",
      "[ 2018-05-15 10:17:14,123][kfold_wrapper.log_eval_metrics] Accuracy(layer_0 - estimator_0 - 10_folds.train_1.predict)=97.37%\n",
      "[ 2018-05-15 10:17:14,744][kfold_wrapper.log_eval_metrics] Accuracy(layer_0 - estimator_0 - 10_folds.train_2.predict)=97.37%\n",
      "[ 2018-05-15 10:17:15,326][kfold_wrapper.log_eval_metrics] Accuracy(layer_0 - estimator_0 - 10_folds.train_3.predict)=98.25%\n",
      "[ 2018-05-15 10:17:15,932][kfold_wrapper.log_eval_metrics] Accuracy(layer_0 - estimator_0 - 10_folds.train_4.predict)=98.23%\n",
      "[ 2018-05-15 10:17:16,525][kfold_wrapper.log_eval_metrics] Accuracy(layer_0 - estimator_0 - 10_folds.train_5.predict)=96.46%\n",
      "[ 2018-05-15 10:17:17,112][kfold_wrapper.log_eval_metrics] Accuracy(layer_0 - estimator_0 - 10_folds.train_6.predict)=98.21%\n",
      "[ 2018-05-15 10:17:17,704][kfold_wrapper.log_eval_metrics] Accuracy(layer_0 - estimator_0 - 10_folds.train_7.predict)=98.21%\n",
      "[ 2018-05-15 10:17:18,317][kfold_wrapper.log_eval_metrics] Accuracy(layer_0 - estimator_0 - 10_folds.train_8.predict)=98.21%\n",
      "[ 2018-05-15 10:17:18,902][kfold_wrapper.log_eval_metrics] Accuracy(layer_0 - estimator_0 - 10_folds.train_9.predict)=98.21%\n",
      "[ 2018-05-15 10:17:19,019][kfold_wrapper.log_eval_metrics] Accuracy(layer_0 - estimator_0 - 10_folds.train_cv.predict)=97.79%\n",
      "[ 2018-05-15 10:17:19,022][kfold_wrapper.log_eval_metrics] Accuracy(layer_0 - estimator_0 - 10_folds.test.predict)=98.57%\n",
      "[ 2018-05-15 10:17:19,029][cascade_classifier.calc_accuracy] Accuracy(layer_0 - train.classifier_average)=97.79%\n",
      "[ 2018-05-15 10:17:19,032][cascade_classifier.calc_accuracy] Accuracy(layer_0 - test.classifier_average)=98.57%\n",
      "[ 2018-05-15 10:17:19,033][cascade_classifier.fit_transform] [Result][Reach Max Layer] opt_layer_num=1, accuracy_train=97.79%, accuracy_test=98.57%\n"
     ]
    }
   ],
   "source": [
    "         # X_enc is the concatenated predict_proba result of ExtraTrees\n",
    "\n",
    "X_train_enc, X_test_enc = gc.fit_transform(X_train, y_train, X_test=X_test, y_test=y_test)\n",
    "   "
   ]
  },
  {
   "cell_type": "code",
   "execution_count": 25,
   "metadata": {},
   "outputs": [
    {
     "name": "stderr",
     "output_type": "stream",
     "text": [
      "[ 2018-05-15 10:17:19,042][cascade_classifier.transform] X_groups_test.shape=[(558, 21)]\n",
      "[ 2018-05-15 10:17:19,044][cascade_classifier.transform] group_dims=[21]\n",
      "[ 2018-05-15 10:17:19,045][cascade_classifier.transform] X_test.shape=(558, 21)\n",
      "[ 2018-05-15 10:17:19,046][cascade_classifier.transform] [layer=0] look_indexs=[0], X_cur_test.shape=(558, 21)\n"
     ]
    },
    {
     "name": "stdout",
     "output_type": "stream",
     "text": [
      "Test Accuracy of ExtraTrees = 98.566308 %\n"
     ]
    }
   ],
   "source": [
    "# predict\n",
    "y_pred = gc.predict(X_test)\n",
    "acc = accuracy_score(y_test, y_pred)\n",
    "print(\"Test Accuracy of ExtraTrees = {:.6f} %\".format(acc * 100))"
   ]
  },
  {
   "cell_type": "code",
   "execution_count": 26,
   "metadata": {},
   "outputs": [
    {
     "name": "stdout",
     "output_type": "stream",
     "text": [
      "[[549   2]\n",
      " [  6   1]]\n",
      "\n",
      "\n",
      "             precision    recall  f1-score   support\n",
      "\n",
      "        0.0       0.99      1.00      0.99       551\n",
      "        1.0       0.33      0.14      0.20         7\n",
      "\n",
      "avg / total       0.98      0.99      0.98       558\n",
      "\n"
     ]
    }
   ],
   "source": [
    "# Matrix de confusion\n",
    "from sklearn.metrics import classification_report, confusion_matrix\n",
    "print(confusion_matrix(y_test,y_pred))\n",
    "print('\\n')\n",
    "print(classification_report(y_test,y_pred))"
   ]
  },
  {
   "cell_type": "code",
   "execution_count": 27,
   "metadata": {},
   "outputs": [
    {
     "name": "stderr",
     "output_type": "stream",
     "text": [
      "[ 2018-05-15 10:17:20,490][cascade_classifier.transform] X_groups_test.shape=[(558, 21)]\n",
      "[ 2018-05-15 10:17:20,493][cascade_classifier.transform] group_dims=[21]\n",
      "[ 2018-05-15 10:17:20,495][cascade_classifier.transform] X_test.shape=(558, 21)\n",
      "[ 2018-05-15 10:17:20,497][cascade_classifier.transform] [layer=0] look_indexs=[0], X_cur_test.shape=(558, 21)\n"
     ]
    }
   ],
   "source": [
    "# Make data + estimators\n",
    "X_test_enc = gc.transform(X_test)\n",
    "X_train_enc = X_train_enc.reshape((X_train_enc.shape[0], -1))\n",
    "X_test_enc = X_test_enc.reshape((X_test_enc.shape[0], -1))\n",
    "X_train_origin = X_train.reshape((X_train.shape[0], -1))\n",
    "X_test_origin = X_test.reshape((X_test.shape[0], -1))\n",
    "X_train_enc = np.hstack((X_train_origin, X_train_enc))\n",
    "X_test_enc = np.hstack((X_test_origin, X_test_enc))"
   ]
  },
  {
   "cell_type": "code",
   "execution_count": 28,
   "metadata": {},
   "outputs": [
    {
     "name": "stderr",
     "output_type": "stream",
     "text": [
      "[ 2018-05-15 10:17:21,711][cascade_classifier.fit_transform] X_groups_train.shape=[(1130, 23)],y_train.shape=(1130,),X_groups_test.shape=[(558, 23)],y_test.shape=(558,)\n",
      "[ 2018-05-15 10:17:21,714][cascade_classifier.fit_transform] group_dims=[23]\n",
      "[ 2018-05-15 10:17:21,715][cascade_classifier.fit_transform] group_starts=[0]\n",
      "[ 2018-05-15 10:17:21,717][cascade_classifier.fit_transform] group_ends=[23]\n",
      "[ 2018-05-15 10:17:21,718][cascade_classifier.fit_transform] X_train.shape=(1130, 23),X_test.shape=(558, 23)\n",
      "[ 2018-05-15 10:17:21,721][cascade_classifier.fit_transform] [layer=0] look_indexs=[0], X_cur_train.shape=(1130, 23), X_cur_test.shape=(558, 23)\n",
      "[ 2018-05-15 10:17:22,210][kfold_wrapper.log_eval_metrics] Accuracy(layer_0 - estimator_0 - 10_folds.train_0.predict)=98.25%\n",
      "[ 2018-05-15 10:17:22,790][kfold_wrapper.log_eval_metrics] Accuracy(layer_0 - estimator_0 - 10_folds.train_1.predict)=97.37%\n",
      "[ 2018-05-15 10:17:23,383][kfold_wrapper.log_eval_metrics] Accuracy(layer_0 - estimator_0 - 10_folds.train_2.predict)=97.37%\n",
      "[ 2018-05-15 10:17:23,975][kfold_wrapper.log_eval_metrics] Accuracy(layer_0 - estimator_0 - 10_folds.train_3.predict)=98.25%\n",
      "[ 2018-05-15 10:17:24,549][kfold_wrapper.log_eval_metrics] Accuracy(layer_0 - estimator_0 - 10_folds.train_4.predict)=98.23%\n",
      "[ 2018-05-15 10:17:25,149][kfold_wrapper.log_eval_metrics] Accuracy(layer_0 - estimator_0 - 10_folds.train_5.predict)=97.35%\n",
      "[ 2018-05-15 10:17:25,742][kfold_wrapper.log_eval_metrics] Accuracy(layer_0 - estimator_0 - 10_folds.train_6.predict)=99.11%\n",
      "[ 2018-05-15 10:17:26,327][kfold_wrapper.log_eval_metrics] Accuracy(layer_0 - estimator_0 - 10_folds.train_7.predict)=99.11%\n",
      "[ 2018-05-15 10:17:26,911][kfold_wrapper.log_eval_metrics] Accuracy(layer_0 - estimator_0 - 10_folds.train_8.predict)=99.11%\n",
      "[ 2018-05-15 10:17:27,537][kfold_wrapper.log_eval_metrics] Accuracy(layer_0 - estimator_0 - 10_folds.train_9.predict)=98.21%\n",
      "[ 2018-05-15 10:17:27,653][kfold_wrapper.log_eval_metrics] Accuracy(layer_0 - estimator_0 - 10_folds.train_cv.predict)=98.23%\n",
      "[ 2018-05-15 10:17:27,657][kfold_wrapper.log_eval_metrics] Accuracy(layer_0 - estimator_0 - 10_folds.test.predict)=99.10%\n",
      "[ 2018-05-15 10:17:27,663][cascade_classifier.calc_accuracy] Accuracy(layer_0 - train.classifier_average)=98.23%\n",
      "[ 2018-05-15 10:17:27,665][cascade_classifier.calc_accuracy] Accuracy(layer_0 - test.classifier_average)=99.10%\n",
      "[ 2018-05-15 10:17:27,668][cascade_classifier.fit_transform] [Result][Reach Max Layer] opt_layer_num=1, accuracy_train=98.23%, accuracy_test=99.10%\n"
     ]
    }
   ],
   "source": [
    "# New data\n",
    "X_train=X_train_enc\n",
    "X_test=X_test_enc \n",
    "X_train_enc, X_test_enc = gc.fit_transform(X_train, y_train, X_test=X_test, y_test=y_test)"
   ]
  },
  {
   "cell_type": "code",
   "execution_count": 29,
   "metadata": {},
   "outputs": [
    {
     "name": "stderr",
     "output_type": "stream",
     "text": [
      "[ 2018-05-15 10:17:27,679][cascade_classifier.transform] X_groups_test.shape=[(558, 23)]\n",
      "[ 2018-05-15 10:17:27,683][cascade_classifier.transform] group_dims=[23]\n",
      "[ 2018-05-15 10:17:27,685][cascade_classifier.transform] X_test.shape=(558, 23)\n",
      "[ 2018-05-15 10:17:27,686][cascade_classifier.transform] [layer=0] look_indexs=[0], X_cur_test.shape=(558, 23)\n"
     ]
    },
    {
     "name": "stdout",
     "output_type": "stream",
     "text": [
      "Test Accuracy of ExtraTrees = 99.103943 %\n"
     ]
    }
   ],
   "source": [
    "# predict  data + Es\n",
    "y_pred = gc.predict(X_test)\n",
    "acc = accuracy_score(y_test, y_pred)\n",
    "print(\"Test Accuracy of ExtraTrees = {:.6f} %\".format(acc * 100))"
   ]
  },
  {
   "cell_type": "code",
   "execution_count": 30,
   "metadata": {},
   "outputs": [
    {
     "name": "stdout",
     "output_type": "stream",
     "text": [
      "[[550   1]\n",
      " [  4   3]]\n",
      "\n",
      "\n",
      "             precision    recall  f1-score   support\n",
      "\n",
      "        0.0       0.99      1.00      1.00       551\n",
      "        1.0       0.75      0.43      0.55         7\n",
      "\n",
      "avg / total       0.99      0.99      0.99       558\n",
      "\n"
     ]
    }
   ],
   "source": [
    "# Matrix de confusion\n",
    "from sklearn.metrics import classification_report, confusion_matrix\n",
    "print(confusion_matrix(y_test,y_pred))\n",
    "print('\\n')\n",
    "print(classification_report(y_test,y_pred))"
   ]
  },
  {
   "cell_type": "code",
   "execution_count": 31,
   "metadata": {
    "collapsed": true
   },
   "outputs": [],
   "source": [
    "def update(X_train,X_test):\n",
    "    # update Estimators\n",
    "    M = np.delete(X_train, (-1), axis=1)\n",
    "    X_train= np.delete(M, (-1), axis=1)\n",
    "    M = np.delete(X_test, (-1), axis=1)\n",
    "    X_test = np.delete(M, (-1), axis=1)\n",
    "    return X_train,X_test\n",
    "\n",
    "def newdata(X_test_enc, X_train_enc):\n",
    "    # Make Data + Estimators\n",
    "    X_train_origin = X_train.reshape((X_train.shape[0], -1))\n",
    "    X_test_origin = X_test.reshape((X_test.shape[0], -1))\n",
    "    X_train_enc = np.hstack((X_train_origin, X_train_enc))\n",
    "    X_test_enc = np.hstack((X_test_origin, X_test_enc))\n",
    "    return X_test_enc, X_train_enc\n",
    "\n",
    "def affiche():\n",
    "    # predict\n",
    "    y_pred = gc.predict(X_test)\n",
    "    acc = accuracy_score(y_test, y_pred)\n",
    "    print(\"Test Accuracy of ExtraTrees = {:.6f} %\".format(acc * 100),i,'fois')\n",
    "    # Matrix de confusion\n",
    "    from sklearn.metrics import classification_report, confusion_matrix\n",
    "    print(confusion_matrix(y_test,y_pred))\n",
    "    print('\\n')\n",
    "    print(classification_report(y_test,y_pred))"
   ]
  },
  {
   "cell_type": "code",
   "execution_count": 32,
   "metadata": {},
   "outputs": [
    {
     "name": "stderr",
     "output_type": "stream",
     "text": [
      "[ 2018-05-15 10:17:29,200][cascade_classifier.fit_transform] X_groups_train.shape=[(1130, 23)],y_train.shape=(1130,),X_groups_test.shape=[(558, 23)],y_test.shape=(558,)\n",
      "[ 2018-05-15 10:17:29,204][cascade_classifier.fit_transform] group_dims=[23]\n",
      "[ 2018-05-15 10:17:29,206][cascade_classifier.fit_transform] group_starts=[0]\n",
      "[ 2018-05-15 10:17:29,207][cascade_classifier.fit_transform] group_ends=[23]\n",
      "[ 2018-05-15 10:17:29,208][cascade_classifier.fit_transform] X_train.shape=(1130, 23),X_test.shape=(558, 23)\n",
      "[ 2018-05-15 10:17:29,210][cascade_classifier.fit_transform] [layer=0] look_indexs=[0], X_cur_train.shape=(1130, 23), X_cur_test.shape=(558, 23)\n",
      "[ 2018-05-15 10:17:29,699][kfold_wrapper.log_eval_metrics] Accuracy(layer_0 - estimator_0 - 10_folds.train_0.predict)=98.25%\n",
      "[ 2018-05-15 10:17:30,291][kfold_wrapper.log_eval_metrics] Accuracy(layer_0 - estimator_0 - 10_folds.train_1.predict)=95.61%\n",
      "[ 2018-05-15 10:17:30,886][kfold_wrapper.log_eval_metrics] Accuracy(layer_0 - estimator_0 - 10_folds.train_2.predict)=94.74%\n",
      "[ 2018-05-15 10:17:31,463][kfold_wrapper.log_eval_metrics] Accuracy(layer_0 - estimator_0 - 10_folds.train_3.predict)=98.25%\n",
      "[ 2018-05-15 10:17:32,042][kfold_wrapper.log_eval_metrics] Accuracy(layer_0 - estimator_0 - 10_folds.train_4.predict)=98.23%\n",
      "[ 2018-05-15 10:17:32,636][kfold_wrapper.log_eval_metrics] Accuracy(layer_0 - estimator_0 - 10_folds.train_5.predict)=97.35%\n",
      "[ 2018-05-15 10:17:33,224][kfold_wrapper.log_eval_metrics] Accuracy(layer_0 - estimator_0 - 10_folds.train_6.predict)=99.11%\n",
      "[ 2018-05-15 10:17:33,844][kfold_wrapper.log_eval_metrics] Accuracy(layer_0 - estimator_0 - 10_folds.train_7.predict)=99.11%\n",
      "[ 2018-05-15 10:17:34,425][kfold_wrapper.log_eval_metrics] Accuracy(layer_0 - estimator_0 - 10_folds.train_8.predict)=99.11%\n",
      "[ 2018-05-15 10:17:35,006][kfold_wrapper.log_eval_metrics] Accuracy(layer_0 - estimator_0 - 10_folds.train_9.predict)=98.21%\n",
      "[ 2018-05-15 10:17:35,123][kfold_wrapper.log_eval_metrics] Accuracy(layer_0 - estimator_0 - 10_folds.train_cv.predict)=97.79%\n",
      "[ 2018-05-15 10:17:35,127][kfold_wrapper.log_eval_metrics] Accuracy(layer_0 - estimator_0 - 10_folds.test.predict)=98.92%\n",
      "[ 2018-05-15 10:17:35,135][cascade_classifier.calc_accuracy] Accuracy(layer_0 - train.classifier_average)=97.79%\n",
      "[ 2018-05-15 10:17:35,137][cascade_classifier.calc_accuracy] Accuracy(layer_0 - test.classifier_average)=98.92%\n",
      "[ 2018-05-15 10:17:35,138][cascade_classifier.fit_transform] [Result][Reach Max Layer] opt_layer_num=1, accuracy_train=97.79%, accuracy_test=98.92%\n",
      "[ 2018-05-15 10:17:35,139][cascade_classifier.transform] X_groups_test.shape=[(558, 23)]\n",
      "[ 2018-05-15 10:17:35,140][cascade_classifier.transform] group_dims=[23]\n",
      "[ 2018-05-15 10:17:35,141][cascade_classifier.transform] X_test.shape=(558, 23)\n",
      "[ 2018-05-15 10:17:35,143][cascade_classifier.transform] [layer=0] look_indexs=[0], X_cur_test.shape=(558, 23)\n",
      "[ 2018-05-15 10:17:36,370][cascade_classifier.fit_transform] X_groups_train.shape=[(1130, 23)],y_train.shape=(1130,),X_groups_test.shape=[(558, 23)],y_test.shape=(558,)\n",
      "[ 2018-05-15 10:17:36,371][cascade_classifier.fit_transform] group_dims=[23]\n",
      "[ 2018-05-15 10:17:36,372][cascade_classifier.fit_transform] group_starts=[0]\n",
      "[ 2018-05-15 10:17:36,373][cascade_classifier.fit_transform] group_ends=[23]\n",
      "[ 2018-05-15 10:17:36,375][cascade_classifier.fit_transform] X_train.shape=(1130, 23),X_test.shape=(558, 23)\n",
      "[ 2018-05-15 10:17:36,378][cascade_classifier.fit_transform] [layer=0] look_indexs=[0], X_cur_train.shape=(1130, 23), X_cur_test.shape=(558, 23)\n"
     ]
    },
    {
     "name": "stdout",
     "output_type": "stream",
     "text": [
      "('Test Accuracy of ExtraTrees = 98.924731 %', 0, 'fois')\n",
      "[[549   2]\n",
      " [  4   3]]\n",
      "\n",
      "\n",
      "             precision    recall  f1-score   support\n",
      "\n",
      "        0.0       0.99      1.00      0.99       551\n",
      "        1.0       0.60      0.43      0.50         7\n",
      "\n",
      "avg / total       0.99      0.99      0.99       558\n",
      "\n"
     ]
    },
    {
     "name": "stderr",
     "output_type": "stream",
     "text": [
      "[ 2018-05-15 10:17:36,877][kfold_wrapper.log_eval_metrics] Accuracy(layer_0 - estimator_0 - 10_folds.train_0.predict)=98.25%\n",
      "[ 2018-05-15 10:17:37,459][kfold_wrapper.log_eval_metrics] Accuracy(layer_0 - estimator_0 - 10_folds.train_1.predict)=95.61%\n",
      "[ 2018-05-15 10:17:38,043][kfold_wrapper.log_eval_metrics] Accuracy(layer_0 - estimator_0 - 10_folds.train_2.predict)=94.74%\n",
      "[ 2018-05-15 10:17:38,617][kfold_wrapper.log_eval_metrics] Accuracy(layer_0 - estimator_0 - 10_folds.train_3.predict)=98.25%\n",
      "[ 2018-05-15 10:17:39,198][kfold_wrapper.log_eval_metrics] Accuracy(layer_0 - estimator_0 - 10_folds.train_4.predict)=98.23%\n",
      "[ 2018-05-15 10:17:39,777][kfold_wrapper.log_eval_metrics] Accuracy(layer_0 - estimator_0 - 10_folds.train_5.predict)=97.35%\n",
      "[ 2018-05-15 10:17:40,366][kfold_wrapper.log_eval_metrics] Accuracy(layer_0 - estimator_0 - 10_folds.train_6.predict)=99.11%\n",
      "[ 2018-05-15 10:17:40,963][kfold_wrapper.log_eval_metrics] Accuracy(layer_0 - estimator_0 - 10_folds.train_7.predict)=98.21%\n",
      "[ 2018-05-15 10:17:41,557][kfold_wrapper.log_eval_metrics] Accuracy(layer_0 - estimator_0 - 10_folds.train_8.predict)=99.11%\n",
      "[ 2018-05-15 10:17:42,156][kfold_wrapper.log_eval_metrics] Accuracy(layer_0 - estimator_0 - 10_folds.train_9.predict)=98.21%\n",
      "[ 2018-05-15 10:17:42,271][kfold_wrapper.log_eval_metrics] Accuracy(layer_0 - estimator_0 - 10_folds.train_cv.predict)=97.70%\n",
      "[ 2018-05-15 10:17:42,273][kfold_wrapper.log_eval_metrics] Accuracy(layer_0 - estimator_0 - 10_folds.test.predict)=99.28%\n",
      "[ 2018-05-15 10:17:42,282][cascade_classifier.calc_accuracy] Accuracy(layer_0 - train.classifier_average)=97.70%\n",
      "[ 2018-05-15 10:17:42,285][cascade_classifier.calc_accuracy] Accuracy(layer_0 - test.classifier_average)=99.28%\n",
      "[ 2018-05-15 10:17:42,287][cascade_classifier.fit_transform] [Result][Reach Max Layer] opt_layer_num=1, accuracy_train=97.70%, accuracy_test=99.28%\n",
      "[ 2018-05-15 10:17:42,291][cascade_classifier.transform] X_groups_test.shape=[(558, 23)]\n",
      "[ 2018-05-15 10:17:42,292][cascade_classifier.transform] group_dims=[23]\n",
      "[ 2018-05-15 10:17:42,294][cascade_classifier.transform] X_test.shape=(558, 23)\n",
      "[ 2018-05-15 10:17:42,295][cascade_classifier.transform] [layer=0] look_indexs=[0], X_cur_test.shape=(558, 23)\n",
      "[ 2018-05-15 10:17:43,516][cascade_classifier.fit_transform] X_groups_train.shape=[(1130, 23)],y_train.shape=(1130,),X_groups_test.shape=[(558, 23)],y_test.shape=(558,)\n",
      "[ 2018-05-15 10:17:43,518][cascade_classifier.fit_transform] group_dims=[23]\n",
      "[ 2018-05-15 10:17:43,520][cascade_classifier.fit_transform] group_starts=[0]\n",
      "[ 2018-05-15 10:17:43,521][cascade_classifier.fit_transform] group_ends=[23]\n",
      "[ 2018-05-15 10:17:43,522][cascade_classifier.fit_transform] X_train.shape=(1130, 23),X_test.shape=(558, 23)\n",
      "[ 2018-05-15 10:17:43,524][cascade_classifier.fit_transform] [layer=0] look_indexs=[0], X_cur_train.shape=(1130, 23), X_cur_test.shape=(558, 23)\n"
     ]
    },
    {
     "name": "stdout",
     "output_type": "stream",
     "text": [
      "('Test Accuracy of ExtraTrees = 99.283154 %', 1, 'fois')\n",
      "[[551   0]\n",
      " [  4   3]]\n",
      "\n",
      "\n",
      "             precision    recall  f1-score   support\n",
      "\n",
      "        0.0       0.99      1.00      1.00       551\n",
      "        1.0       1.00      0.43      0.60         7\n",
      "\n",
      "avg / total       0.99      0.99      0.99       558\n",
      "\n"
     ]
    },
    {
     "name": "stderr",
     "output_type": "stream",
     "text": [
      "[ 2018-05-15 10:17:44,007][kfold_wrapper.log_eval_metrics] Accuracy(layer_0 - estimator_0 - 10_folds.train_0.predict)=98.25%\n",
      "[ 2018-05-15 10:17:44,597][kfold_wrapper.log_eval_metrics] Accuracy(layer_0 - estimator_0 - 10_folds.train_1.predict)=94.74%\n",
      "[ 2018-05-15 10:17:45,199][kfold_wrapper.log_eval_metrics] Accuracy(layer_0 - estimator_0 - 10_folds.train_2.predict)=94.74%\n",
      "[ 2018-05-15 10:17:45,774][kfold_wrapper.log_eval_metrics] Accuracy(layer_0 - estimator_0 - 10_folds.train_3.predict)=98.25%\n",
      "[ 2018-05-15 10:17:46,373][kfold_wrapper.log_eval_metrics] Accuracy(layer_0 - estimator_0 - 10_folds.train_4.predict)=98.23%\n",
      "[ 2018-05-15 10:17:46,976][kfold_wrapper.log_eval_metrics] Accuracy(layer_0 - estimator_0 - 10_folds.train_5.predict)=97.35%\n",
      "[ 2018-05-15 10:17:47,573][kfold_wrapper.log_eval_metrics] Accuracy(layer_0 - estimator_0 - 10_folds.train_6.predict)=99.11%\n",
      "[ 2018-05-15 10:17:48,157][kfold_wrapper.log_eval_metrics] Accuracy(layer_0 - estimator_0 - 10_folds.train_7.predict)=97.32%\n",
      "[ 2018-05-15 10:17:48,772][kfold_wrapper.log_eval_metrics] Accuracy(layer_0 - estimator_0 - 10_folds.train_8.predict)=99.11%\n",
      "[ 2018-05-15 10:17:49,396][kfold_wrapper.log_eval_metrics] Accuracy(layer_0 - estimator_0 - 10_folds.train_9.predict)=98.21%\n",
      "[ 2018-05-15 10:17:49,511][kfold_wrapper.log_eval_metrics] Accuracy(layer_0 - estimator_0 - 10_folds.train_cv.predict)=97.52%\n",
      "[ 2018-05-15 10:17:49,514][kfold_wrapper.log_eval_metrics] Accuracy(layer_0 - estimator_0 - 10_folds.test.predict)=99.10%\n",
      "[ 2018-05-15 10:17:49,520][cascade_classifier.calc_accuracy] Accuracy(layer_0 - train.classifier_average)=97.52%\n",
      "[ 2018-05-15 10:17:49,524][cascade_classifier.calc_accuracy] Accuracy(layer_0 - test.classifier_average)=99.10%\n",
      "[ 2018-05-15 10:17:49,526][cascade_classifier.fit_transform] [Result][Reach Max Layer] opt_layer_num=1, accuracy_train=97.52%, accuracy_test=99.10%\n",
      "[ 2018-05-15 10:17:49,528][cascade_classifier.transform] X_groups_test.shape=[(558, 23)]\n",
      "[ 2018-05-15 10:17:49,529][cascade_classifier.transform] group_dims=[23]\n",
      "[ 2018-05-15 10:17:49,531][cascade_classifier.transform] X_test.shape=(558, 23)\n",
      "[ 2018-05-15 10:17:49,532][cascade_classifier.transform] [layer=0] look_indexs=[0], X_cur_test.shape=(558, 23)\n",
      "[ 2018-05-15 10:17:50,769][cascade_classifier.fit_transform] X_groups_train.shape=[(1130, 23)],y_train.shape=(1130,),X_groups_test.shape=[(558, 23)],y_test.shape=(558,)\n",
      "[ 2018-05-15 10:17:50,770][cascade_classifier.fit_transform] group_dims=[23]\n",
      "[ 2018-05-15 10:17:50,771][cascade_classifier.fit_transform] group_starts=[0]\n",
      "[ 2018-05-15 10:17:50,772][cascade_classifier.fit_transform] group_ends=[23]\n",
      "[ 2018-05-15 10:17:50,774][cascade_classifier.fit_transform] X_train.shape=(1130, 23),X_test.shape=(558, 23)\n",
      "[ 2018-05-15 10:17:50,778][cascade_classifier.fit_transform] [layer=0] look_indexs=[0], X_cur_train.shape=(1130, 23), X_cur_test.shape=(558, 23)\n"
     ]
    },
    {
     "name": "stdout",
     "output_type": "stream",
     "text": [
      "('Test Accuracy of ExtraTrees = 99.103943 %', 2, 'fois')\n",
      "[[550   1]\n",
      " [  4   3]]\n",
      "\n",
      "\n",
      "             precision    recall  f1-score   support\n",
      "\n",
      "        0.0       0.99      1.00      1.00       551\n",
      "        1.0       0.75      0.43      0.55         7\n",
      "\n",
      "avg / total       0.99      0.99      0.99       558\n",
      "\n"
     ]
    },
    {
     "name": "stderr",
     "output_type": "stream",
     "text": [
      "[ 2018-05-15 10:17:51,266][kfold_wrapper.log_eval_metrics] Accuracy(layer_0 - estimator_0 - 10_folds.train_0.predict)=97.37%\n",
      "[ 2018-05-15 10:17:51,841][kfold_wrapper.log_eval_metrics] Accuracy(layer_0 - estimator_0 - 10_folds.train_1.predict)=93.86%\n",
      "[ 2018-05-15 10:17:52,451][kfold_wrapper.log_eval_metrics] Accuracy(layer_0 - estimator_0 - 10_folds.train_2.predict)=94.74%\n",
      "[ 2018-05-15 10:17:53,106][kfold_wrapper.log_eval_metrics] Accuracy(layer_0 - estimator_0 - 10_folds.train_3.predict)=98.25%\n",
      "[ 2018-05-15 10:17:53,774][kfold_wrapper.log_eval_metrics] Accuracy(layer_0 - estimator_0 - 10_folds.train_4.predict)=98.23%\n",
      "[ 2018-05-15 10:17:54,345][kfold_wrapper.log_eval_metrics] Accuracy(layer_0 - estimator_0 - 10_folds.train_5.predict)=96.46%\n",
      "[ 2018-05-15 10:17:54,919][kfold_wrapper.log_eval_metrics] Accuracy(layer_0 - estimator_0 - 10_folds.train_6.predict)=99.11%\n",
      "[ 2018-05-15 10:17:55,492][kfold_wrapper.log_eval_metrics] Accuracy(layer_0 - estimator_0 - 10_folds.train_7.predict)=99.11%\n",
      "[ 2018-05-15 10:17:56,099][kfold_wrapper.log_eval_metrics] Accuracy(layer_0 - estimator_0 - 10_folds.train_8.predict)=99.11%\n",
      "[ 2018-05-15 10:17:56,659][kfold_wrapper.log_eval_metrics] Accuracy(layer_0 - estimator_0 - 10_folds.train_9.predict)=98.21%\n",
      "[ 2018-05-15 10:17:56,774][kfold_wrapper.log_eval_metrics] Accuracy(layer_0 - estimator_0 - 10_folds.train_cv.predict)=97.43%\n",
      "[ 2018-05-15 10:17:56,777][kfold_wrapper.log_eval_metrics] Accuracy(layer_0 - estimator_0 - 10_folds.test.predict)=98.92%\n",
      "[ 2018-05-15 10:17:56,789][cascade_classifier.calc_accuracy] Accuracy(layer_0 - train.classifier_average)=97.43%\n",
      "[ 2018-05-15 10:17:56,791][cascade_classifier.calc_accuracy] Accuracy(layer_0 - test.classifier_average)=98.92%\n",
      "[ 2018-05-15 10:17:56,793][cascade_classifier.fit_transform] [Result][Reach Max Layer] opt_layer_num=1, accuracy_train=97.43%, accuracy_test=98.92%\n",
      "[ 2018-05-15 10:17:56,794][cascade_classifier.transform] X_groups_test.shape=[(558, 23)]\n",
      "[ 2018-05-15 10:17:56,796][cascade_classifier.transform] group_dims=[23]\n",
      "[ 2018-05-15 10:17:56,797][cascade_classifier.transform] X_test.shape=(558, 23)\n",
      "[ 2018-05-15 10:17:56,799][cascade_classifier.transform] [layer=0] look_indexs=[0], X_cur_test.shape=(558, 23)\n",
      "[ 2018-05-15 10:17:58,005][cascade_classifier.fit_transform] X_groups_train.shape=[(1130, 23)],y_train.shape=(1130,),X_groups_test.shape=[(558, 23)],y_test.shape=(558,)\n",
      "[ 2018-05-15 10:17:58,007][cascade_classifier.fit_transform] group_dims=[23]\n",
      "[ 2018-05-15 10:17:58,008][cascade_classifier.fit_transform] group_starts=[0]\n",
      "[ 2018-05-15 10:17:58,009][cascade_classifier.fit_transform] group_ends=[23]\n",
      "[ 2018-05-15 10:17:58,010][cascade_classifier.fit_transform] X_train.shape=(1130, 23),X_test.shape=(558, 23)\n",
      "[ 2018-05-15 10:17:58,012][cascade_classifier.fit_transform] [layer=0] look_indexs=[0], X_cur_train.shape=(1130, 23), X_cur_test.shape=(558, 23)\n"
     ]
    },
    {
     "name": "stdout",
     "output_type": "stream",
     "text": [
      "('Test Accuracy of ExtraTrees = 98.924731 %', 3, 'fois')\n",
      "[[550   1]\n",
      " [  5   2]]\n",
      "\n",
      "\n",
      "             precision    recall  f1-score   support\n",
      "\n",
      "        0.0       0.99      1.00      0.99       551\n",
      "        1.0       0.67      0.29      0.40         7\n",
      "\n",
      "avg / total       0.99      0.99      0.99       558\n",
      "\n"
     ]
    },
    {
     "name": "stderr",
     "output_type": "stream",
     "text": [
      "[ 2018-05-15 10:17:58,500][kfold_wrapper.log_eval_metrics] Accuracy(layer_0 - estimator_0 - 10_folds.train_0.predict)=98.25%\n",
      "[ 2018-05-15 10:17:59,066][kfold_wrapper.log_eval_metrics] Accuracy(layer_0 - estimator_0 - 10_folds.train_1.predict)=93.86%\n",
      "[ 2018-05-15 10:17:59,676][kfold_wrapper.log_eval_metrics] Accuracy(layer_0 - estimator_0 - 10_folds.train_2.predict)=94.74%\n",
      "[ 2018-05-15 10:18:00,262][kfold_wrapper.log_eval_metrics] Accuracy(layer_0 - estimator_0 - 10_folds.train_3.predict)=98.25%\n",
      "[ 2018-05-15 10:18:00,919][kfold_wrapper.log_eval_metrics] Accuracy(layer_0 - estimator_0 - 10_folds.train_4.predict)=98.23%\n",
      "[ 2018-05-15 10:18:01,523][kfold_wrapper.log_eval_metrics] Accuracy(layer_0 - estimator_0 - 10_folds.train_5.predict)=97.35%\n",
      "[ 2018-05-15 10:18:02,113][kfold_wrapper.log_eval_metrics] Accuracy(layer_0 - estimator_0 - 10_folds.train_6.predict)=99.11%\n",
      "[ 2018-05-15 10:18:02,704][kfold_wrapper.log_eval_metrics] Accuracy(layer_0 - estimator_0 - 10_folds.train_7.predict)=98.21%\n",
      "[ 2018-05-15 10:18:03,309][kfold_wrapper.log_eval_metrics] Accuracy(layer_0 - estimator_0 - 10_folds.train_8.predict)=99.11%\n",
      "[ 2018-05-15 10:18:03,916][kfold_wrapper.log_eval_metrics] Accuracy(layer_0 - estimator_0 - 10_folds.train_9.predict)=98.21%\n",
      "[ 2018-05-15 10:18:04,028][kfold_wrapper.log_eval_metrics] Accuracy(layer_0 - estimator_0 - 10_folds.train_cv.predict)=97.52%\n",
      "[ 2018-05-15 10:18:04,031][kfold_wrapper.log_eval_metrics] Accuracy(layer_0 - estimator_0 - 10_folds.test.predict)=98.92%\n",
      "[ 2018-05-15 10:18:04,036][cascade_classifier.calc_accuracy] Accuracy(layer_0 - train.classifier_average)=97.52%\n",
      "[ 2018-05-15 10:18:04,038][cascade_classifier.calc_accuracy] Accuracy(layer_0 - test.classifier_average)=98.92%\n",
      "[ 2018-05-15 10:18:04,039][cascade_classifier.fit_transform] [Result][Reach Max Layer] opt_layer_num=1, accuracy_train=97.52%, accuracy_test=98.92%\n",
      "[ 2018-05-15 10:18:04,041][cascade_classifier.transform] X_groups_test.shape=[(558, 23)]\n",
      "[ 2018-05-15 10:18:04,042][cascade_classifier.transform] group_dims=[23]\n",
      "[ 2018-05-15 10:18:04,043][cascade_classifier.transform] X_test.shape=(558, 23)\n",
      "[ 2018-05-15 10:18:04,045][cascade_classifier.transform] [layer=0] look_indexs=[0], X_cur_test.shape=(558, 23)\n",
      "[ 2018-05-15 10:18:05,258][cascade_classifier.fit_transform] X_groups_train.shape=[(1130, 23)],y_train.shape=(1130,),X_groups_test.shape=[(558, 23)],y_test.shape=(558,)\n",
      "[ 2018-05-15 10:18:05,259][cascade_classifier.fit_transform] group_dims=[23]\n",
      "[ 2018-05-15 10:18:05,263][cascade_classifier.fit_transform] group_starts=[0]\n",
      "[ 2018-05-15 10:18:05,267][cascade_classifier.fit_transform] group_ends=[23]\n",
      "[ 2018-05-15 10:18:05,268][cascade_classifier.fit_transform] X_train.shape=(1130, 23),X_test.shape=(558, 23)\n",
      "[ 2018-05-15 10:18:05,270][cascade_classifier.fit_transform] [layer=0] look_indexs=[0], X_cur_train.shape=(1130, 23), X_cur_test.shape=(558, 23)\n"
     ]
    },
    {
     "name": "stdout",
     "output_type": "stream",
     "text": [
      "('Test Accuracy of ExtraTrees = 98.924731 %', 4, 'fois')\n",
      "[[550   1]\n",
      " [  5   2]]\n",
      "\n",
      "\n",
      "             precision    recall  f1-score   support\n",
      "\n",
      "        0.0       0.99      1.00      0.99       551\n",
      "        1.0       0.67      0.29      0.40         7\n",
      "\n",
      "avg / total       0.99      0.99      0.99       558\n",
      "\n"
     ]
    },
    {
     "name": "stderr",
     "output_type": "stream",
     "text": [
      "[ 2018-05-15 10:18:05,777][kfold_wrapper.log_eval_metrics] Accuracy(layer_0 - estimator_0 - 10_folds.train_0.predict)=97.37%\n",
      "[ 2018-05-15 10:18:06,372][kfold_wrapper.log_eval_metrics] Accuracy(layer_0 - estimator_0 - 10_folds.train_1.predict)=93.86%\n",
      "[ 2018-05-15 10:18:06,969][kfold_wrapper.log_eval_metrics] Accuracy(layer_0 - estimator_0 - 10_folds.train_2.predict)=95.61%\n",
      "[ 2018-05-15 10:18:07,571][kfold_wrapper.log_eval_metrics] Accuracy(layer_0 - estimator_0 - 10_folds.train_3.predict)=98.25%\n",
      "[ 2018-05-15 10:18:08,169][kfold_wrapper.log_eval_metrics] Accuracy(layer_0 - estimator_0 - 10_folds.train_4.predict)=97.35%\n",
      "[ 2018-05-15 10:18:08,759][kfold_wrapper.log_eval_metrics] Accuracy(layer_0 - estimator_0 - 10_folds.train_5.predict)=97.35%\n",
      "[ 2018-05-15 10:18:09,340][kfold_wrapper.log_eval_metrics] Accuracy(layer_0 - estimator_0 - 10_folds.train_6.predict)=100.00%\n",
      "[ 2018-05-15 10:18:09,938][kfold_wrapper.log_eval_metrics] Accuracy(layer_0 - estimator_0 - 10_folds.train_7.predict)=99.11%\n",
      "[ 2018-05-15 10:18:10,537][kfold_wrapper.log_eval_metrics] Accuracy(layer_0 - estimator_0 - 10_folds.train_8.predict)=99.11%\n",
      "[ 2018-05-15 10:18:11,145][kfold_wrapper.log_eval_metrics] Accuracy(layer_0 - estimator_0 - 10_folds.train_9.predict)=98.21%\n",
      "[ 2018-05-15 10:18:11,263][kfold_wrapper.log_eval_metrics] Accuracy(layer_0 - estimator_0 - 10_folds.train_cv.predict)=97.61%\n",
      "[ 2018-05-15 10:18:11,266][kfold_wrapper.log_eval_metrics] Accuracy(layer_0 - estimator_0 - 10_folds.test.predict)=98.92%\n",
      "[ 2018-05-15 10:18:11,276][cascade_classifier.calc_accuracy] Accuracy(layer_0 - train.classifier_average)=97.61%\n",
      "[ 2018-05-15 10:18:11,278][cascade_classifier.calc_accuracy] Accuracy(layer_0 - test.classifier_average)=98.92%\n",
      "[ 2018-05-15 10:18:11,279][cascade_classifier.fit_transform] [Result][Reach Max Layer] opt_layer_num=1, accuracy_train=97.61%, accuracy_test=98.92%\n",
      "[ 2018-05-15 10:18:11,280][cascade_classifier.transform] X_groups_test.shape=[(558, 23)]\n",
      "[ 2018-05-15 10:18:11,282][cascade_classifier.transform] group_dims=[23]\n",
      "[ 2018-05-15 10:18:11,283][cascade_classifier.transform] X_test.shape=(558, 23)\n",
      "[ 2018-05-15 10:18:11,285][cascade_classifier.transform] [layer=0] look_indexs=[0], X_cur_test.shape=(558, 23)\n",
      "[ 2018-05-15 10:18:12,492][cascade_classifier.fit_transform] X_groups_train.shape=[(1130, 23)],y_train.shape=(1130,),X_groups_test.shape=[(558, 23)],y_test.shape=(558,)\n",
      "[ 2018-05-15 10:18:12,493][cascade_classifier.fit_transform] group_dims=[23]\n",
      "[ 2018-05-15 10:18:12,494][cascade_classifier.fit_transform] group_starts=[0]\n",
      "[ 2018-05-15 10:18:12,496][cascade_classifier.fit_transform] group_ends=[23]\n",
      "[ 2018-05-15 10:18:12,497][cascade_classifier.fit_transform] X_train.shape=(1130, 23),X_test.shape=(558, 23)\n",
      "[ 2018-05-15 10:18:12,499][cascade_classifier.fit_transform] [layer=0] look_indexs=[0], X_cur_train.shape=(1130, 23), X_cur_test.shape=(558, 23)\n"
     ]
    },
    {
     "name": "stdout",
     "output_type": "stream",
     "text": [
      "('Test Accuracy of ExtraTrees = 98.924731 %', 5, 'fois')\n",
      "[[549   2]\n",
      " [  4   3]]\n",
      "\n",
      "\n",
      "             precision    recall  f1-score   support\n",
      "\n",
      "        0.0       0.99      1.00      0.99       551\n",
      "        1.0       0.60      0.43      0.50         7\n",
      "\n",
      "avg / total       0.99      0.99      0.99       558\n",
      "\n"
     ]
    },
    {
     "name": "stderr",
     "output_type": "stream",
     "text": [
      "[ 2018-05-15 10:18:13,001][kfold_wrapper.log_eval_metrics] Accuracy(layer_0 - estimator_0 - 10_folds.train_0.predict)=98.25%\n",
      "[ 2018-05-15 10:18:13,588][kfold_wrapper.log_eval_metrics] Accuracy(layer_0 - estimator_0 - 10_folds.train_1.predict)=93.86%\n",
      "[ 2018-05-15 10:18:14,185][kfold_wrapper.log_eval_metrics] Accuracy(layer_0 - estimator_0 - 10_folds.train_2.predict)=95.61%\n",
      "[ 2018-05-15 10:18:14,777][kfold_wrapper.log_eval_metrics] Accuracy(layer_0 - estimator_0 - 10_folds.train_3.predict)=97.37%\n",
      "[ 2018-05-15 10:18:15,412][kfold_wrapper.log_eval_metrics] Accuracy(layer_0 - estimator_0 - 10_folds.train_4.predict)=96.46%\n",
      "[ 2018-05-15 10:18:15,993][kfold_wrapper.log_eval_metrics] Accuracy(layer_0 - estimator_0 - 10_folds.train_5.predict)=96.46%\n",
      "[ 2018-05-15 10:18:16,599][kfold_wrapper.log_eval_metrics] Accuracy(layer_0 - estimator_0 - 10_folds.train_6.predict)=100.00%\n",
      "[ 2018-05-15 10:18:17,210][kfold_wrapper.log_eval_metrics] Accuracy(layer_0 - estimator_0 - 10_folds.train_7.predict)=98.21%\n",
      "[ 2018-05-15 10:18:17,817][kfold_wrapper.log_eval_metrics] Accuracy(layer_0 - estimator_0 - 10_folds.train_8.predict)=99.11%\n",
      "[ 2018-05-15 10:18:18,458][kfold_wrapper.log_eval_metrics] Accuracy(layer_0 - estimator_0 - 10_folds.train_9.predict)=98.21%\n",
      "[ 2018-05-15 10:18:18,576][kfold_wrapper.log_eval_metrics] Accuracy(layer_0 - estimator_0 - 10_folds.train_cv.predict)=97.35%\n",
      "[ 2018-05-15 10:18:18,579][kfold_wrapper.log_eval_metrics] Accuracy(layer_0 - estimator_0 - 10_folds.test.predict)=98.75%\n",
      "[ 2018-05-15 10:18:18,587][cascade_classifier.calc_accuracy] Accuracy(layer_0 - train.classifier_average)=97.35%\n",
      "[ 2018-05-15 10:18:18,589][cascade_classifier.calc_accuracy] Accuracy(layer_0 - test.classifier_average)=98.75%\n",
      "[ 2018-05-15 10:18:18,591][cascade_classifier.fit_transform] [Result][Reach Max Layer] opt_layer_num=1, accuracy_train=97.35%, accuracy_test=98.75%\n",
      "[ 2018-05-15 10:18:18,592][cascade_classifier.transform] X_groups_test.shape=[(558, 23)]\n",
      "[ 2018-05-15 10:18:18,593][cascade_classifier.transform] group_dims=[23]\n",
      "[ 2018-05-15 10:18:18,594][cascade_classifier.transform] X_test.shape=(558, 23)\n",
      "[ 2018-05-15 10:18:18,596][cascade_classifier.transform] [layer=0] look_indexs=[0], X_cur_test.shape=(558, 23)\n",
      "[ 2018-05-15 10:18:19,834][cascade_classifier.fit_transform] X_groups_train.shape=[(1130, 23)],y_train.shape=(1130,),X_groups_test.shape=[(558, 23)],y_test.shape=(558,)\n",
      "[ 2018-05-15 10:18:19,836][cascade_classifier.fit_transform] group_dims=[23]\n",
      "[ 2018-05-15 10:18:19,837][cascade_classifier.fit_transform] group_starts=[0]\n",
      "[ 2018-05-15 10:18:19,838][cascade_classifier.fit_transform] group_ends=[23]\n",
      "[ 2018-05-15 10:18:19,839][cascade_classifier.fit_transform] X_train.shape=(1130, 23),X_test.shape=(558, 23)\n",
      "[ 2018-05-15 10:18:19,841][cascade_classifier.fit_transform] [layer=0] look_indexs=[0], X_cur_train.shape=(1130, 23), X_cur_test.shape=(558, 23)\n"
     ]
    },
    {
     "name": "stdout",
     "output_type": "stream",
     "text": [
      "('Test Accuracy of ExtraTrees = 98.745520 %', 6, 'fois')\n",
      "[[549   2]\n",
      " [  5   2]]\n",
      "\n",
      "\n",
      "             precision    recall  f1-score   support\n",
      "\n",
      "        0.0       0.99      1.00      0.99       551\n",
      "        1.0       0.50      0.29      0.36         7\n",
      "\n",
      "avg / total       0.98      0.99      0.99       558\n",
      "\n"
     ]
    },
    {
     "name": "stderr",
     "output_type": "stream",
     "text": [
      "[ 2018-05-15 10:18:20,336][kfold_wrapper.log_eval_metrics] Accuracy(layer_0 - estimator_0 - 10_folds.train_0.predict)=98.25%\n",
      "[ 2018-05-15 10:18:20,923][kfold_wrapper.log_eval_metrics] Accuracy(layer_0 - estimator_0 - 10_folds.train_1.predict)=93.86%\n",
      "[ 2018-05-15 10:18:21,518][kfold_wrapper.log_eval_metrics] Accuracy(layer_0 - estimator_0 - 10_folds.train_2.predict)=94.74%\n",
      "[ 2018-05-15 10:18:22,133][kfold_wrapper.log_eval_metrics] Accuracy(layer_0 - estimator_0 - 10_folds.train_3.predict)=97.37%\n",
      "[ 2018-05-15 10:18:22,714][kfold_wrapper.log_eval_metrics] Accuracy(layer_0 - estimator_0 - 10_folds.train_4.predict)=98.23%\n",
      "[ 2018-05-15 10:18:23,345][kfold_wrapper.log_eval_metrics] Accuracy(layer_0 - estimator_0 - 10_folds.train_5.predict)=97.35%\n",
      "[ 2018-05-15 10:18:24,003][kfold_wrapper.log_eval_metrics] Accuracy(layer_0 - estimator_0 - 10_folds.train_6.predict)=99.11%\n",
      "[ 2018-05-15 10:18:24,583][kfold_wrapper.log_eval_metrics] Accuracy(layer_0 - estimator_0 - 10_folds.train_7.predict)=98.21%\n",
      "[ 2018-05-15 10:18:25,163][kfold_wrapper.log_eval_metrics] Accuracy(layer_0 - estimator_0 - 10_folds.train_8.predict)=99.11%\n",
      "[ 2018-05-15 10:18:25,744][kfold_wrapper.log_eval_metrics] Accuracy(layer_0 - estimator_0 - 10_folds.train_9.predict)=98.21%\n",
      "[ 2018-05-15 10:18:25,860][kfold_wrapper.log_eval_metrics] Accuracy(layer_0 - estimator_0 - 10_folds.train_cv.predict)=97.43%\n",
      "[ 2018-05-15 10:18:25,864][kfold_wrapper.log_eval_metrics] Accuracy(layer_0 - estimator_0 - 10_folds.test.predict)=98.92%\n",
      "[ 2018-05-15 10:18:25,869][cascade_classifier.calc_accuracy] Accuracy(layer_0 - train.classifier_average)=97.43%\n",
      "[ 2018-05-15 10:18:25,873][cascade_classifier.calc_accuracy] Accuracy(layer_0 - test.classifier_average)=98.92%\n",
      "[ 2018-05-15 10:18:25,875][cascade_classifier.fit_transform] [Result][Reach Max Layer] opt_layer_num=1, accuracy_train=97.43%, accuracy_test=98.92%\n",
      "[ 2018-05-15 10:18:25,876][cascade_classifier.transform] X_groups_test.shape=[(558, 23)]\n",
      "[ 2018-05-15 10:18:25,878][cascade_classifier.transform] group_dims=[23]\n",
      "[ 2018-05-15 10:18:25,880][cascade_classifier.transform] X_test.shape=(558, 23)\n",
      "[ 2018-05-15 10:18:25,882][cascade_classifier.transform] [layer=0] look_indexs=[0], X_cur_test.shape=(558, 23)\n",
      "[ 2018-05-15 10:18:27,083][cascade_classifier.fit_transform] X_groups_train.shape=[(1130, 23)],y_train.shape=(1130,),X_groups_test.shape=[(558, 23)],y_test.shape=(558,)\n",
      "[ 2018-05-15 10:18:27,085][cascade_classifier.fit_transform] group_dims=[23]\n",
      "[ 2018-05-15 10:18:27,086][cascade_classifier.fit_transform] group_starts=[0]\n",
      "[ 2018-05-15 10:18:27,087][cascade_classifier.fit_transform] group_ends=[23]\n",
      "[ 2018-05-15 10:18:27,089][cascade_classifier.fit_transform] X_train.shape=(1130, 23),X_test.shape=(558, 23)\n",
      "[ 2018-05-15 10:18:27,091][cascade_classifier.fit_transform] [layer=0] look_indexs=[0], X_cur_train.shape=(1130, 23), X_cur_test.shape=(558, 23)\n"
     ]
    },
    {
     "name": "stdout",
     "output_type": "stream",
     "text": [
      "('Test Accuracy of ExtraTrees = 98.924731 %', 7, 'fois')\n",
      "[[550   1]\n",
      " [  5   2]]\n",
      "\n",
      "\n",
      "             precision    recall  f1-score   support\n",
      "\n",
      "        0.0       0.99      1.00      0.99       551\n",
      "        1.0       0.67      0.29      0.40         7\n",
      "\n",
      "avg / total       0.99      0.99      0.99       558\n",
      "\n"
     ]
    },
    {
     "name": "stderr",
     "output_type": "stream",
     "text": [
      "[ 2018-05-15 10:18:27,586][kfold_wrapper.log_eval_metrics] Accuracy(layer_0 - estimator_0 - 10_folds.train_0.predict)=97.37%\n",
      "[ 2018-05-15 10:18:28,191][kfold_wrapper.log_eval_metrics] Accuracy(layer_0 - estimator_0 - 10_folds.train_1.predict)=92.98%\n",
      "[ 2018-05-15 10:18:28,778][kfold_wrapper.log_eval_metrics] Accuracy(layer_0 - estimator_0 - 10_folds.train_2.predict)=95.61%\n",
      "[ 2018-05-15 10:18:29,359][kfold_wrapper.log_eval_metrics] Accuracy(layer_0 - estimator_0 - 10_folds.train_3.predict)=97.37%\n",
      "[ 2018-05-15 10:18:29,960][kfold_wrapper.log_eval_metrics] Accuracy(layer_0 - estimator_0 - 10_folds.train_4.predict)=98.23%\n",
      "[ 2018-05-15 10:18:30,541][kfold_wrapper.log_eval_metrics] Accuracy(layer_0 - estimator_0 - 10_folds.train_5.predict)=96.46%\n",
      "[ 2018-05-15 10:18:31,135][kfold_wrapper.log_eval_metrics] Accuracy(layer_0 - estimator_0 - 10_folds.train_6.predict)=99.11%\n",
      "[ 2018-05-15 10:18:31,752][kfold_wrapper.log_eval_metrics] Accuracy(layer_0 - estimator_0 - 10_folds.train_7.predict)=98.21%\n",
      "[ 2018-05-15 10:18:32,347][kfold_wrapper.log_eval_metrics] Accuracy(layer_0 - estimator_0 - 10_folds.train_8.predict)=99.11%\n",
      "[ 2018-05-15 10:18:32,982][kfold_wrapper.log_eval_metrics] Accuracy(layer_0 - estimator_0 - 10_folds.train_9.predict)=98.21%\n",
      "[ 2018-05-15 10:18:33,104][kfold_wrapper.log_eval_metrics] Accuracy(layer_0 - estimator_0 - 10_folds.train_cv.predict)=97.26%\n",
      "[ 2018-05-15 10:18:33,107][kfold_wrapper.log_eval_metrics] Accuracy(layer_0 - estimator_0 - 10_folds.test.predict)=99.10%\n",
      "[ 2018-05-15 10:18:33,114][cascade_classifier.calc_accuracy] Accuracy(layer_0 - train.classifier_average)=97.26%\n",
      "[ 2018-05-15 10:18:33,117][cascade_classifier.calc_accuracy] Accuracy(layer_0 - test.classifier_average)=99.10%\n",
      "[ 2018-05-15 10:18:33,123][cascade_classifier.fit_transform] [Result][Reach Max Layer] opt_layer_num=1, accuracy_train=97.26%, accuracy_test=99.10%\n",
      "[ 2018-05-15 10:18:33,125][cascade_classifier.transform] X_groups_test.shape=[(558, 23)]\n",
      "[ 2018-05-15 10:18:33,126][cascade_classifier.transform] group_dims=[23]\n",
      "[ 2018-05-15 10:18:33,127][cascade_classifier.transform] X_test.shape=(558, 23)\n",
      "[ 2018-05-15 10:18:33,128][cascade_classifier.transform] [layer=0] look_indexs=[0], X_cur_test.shape=(558, 23)\n",
      "[ 2018-05-15 10:18:34,327][cascade_classifier.fit_transform] X_groups_train.shape=[(1130, 23)],y_train.shape=(1130,),X_groups_test.shape=[(558, 23)],y_test.shape=(558,)\n",
      "[ 2018-05-15 10:18:34,328][cascade_classifier.fit_transform] group_dims=[23]\n",
      "[ 2018-05-15 10:18:34,329][cascade_classifier.fit_transform] group_starts=[0]\n",
      "[ 2018-05-15 10:18:34,330][cascade_classifier.fit_transform] group_ends=[23]\n",
      "[ 2018-05-15 10:18:34,332][cascade_classifier.fit_transform] X_train.shape=(1130, 23),X_test.shape=(558, 23)\n",
      "[ 2018-05-15 10:18:34,334][cascade_classifier.fit_transform] [layer=0] look_indexs=[0], X_cur_train.shape=(1130, 23), X_cur_test.shape=(558, 23)\n"
     ]
    },
    {
     "name": "stdout",
     "output_type": "stream",
     "text": [
      "('Test Accuracy of ExtraTrees = 99.103943 %', 8, 'fois')\n",
      "[[551   0]\n",
      " [  5   2]]\n",
      "\n",
      "\n",
      "             precision    recall  f1-score   support\n",
      "\n",
      "        0.0       0.99      1.00      1.00       551\n",
      "        1.0       1.00      0.29      0.44         7\n",
      "\n",
      "avg / total       0.99      0.99      0.99       558\n",
      "\n"
     ]
    },
    {
     "name": "stderr",
     "output_type": "stream",
     "text": [
      "[ 2018-05-15 10:18:34,835][kfold_wrapper.log_eval_metrics] Accuracy(layer_0 - estimator_0 - 10_folds.train_0.predict)=97.37%\n",
      "[ 2018-05-15 10:18:35,476][kfold_wrapper.log_eval_metrics] Accuracy(layer_0 - estimator_0 - 10_folds.train_1.predict)=93.86%\n",
      "[ 2018-05-15 10:18:36,057][kfold_wrapper.log_eval_metrics] Accuracy(layer_0 - estimator_0 - 10_folds.train_2.predict)=96.49%\n",
      "[ 2018-05-15 10:18:36,640][kfold_wrapper.log_eval_metrics] Accuracy(layer_0 - estimator_0 - 10_folds.train_3.predict)=98.25%\n",
      "[ 2018-05-15 10:18:37,242][kfold_wrapper.log_eval_metrics] Accuracy(layer_0 - estimator_0 - 10_folds.train_4.predict)=98.23%\n",
      "[ 2018-05-15 10:18:37,845][kfold_wrapper.log_eval_metrics] Accuracy(layer_0 - estimator_0 - 10_folds.train_5.predict)=96.46%\n",
      "[ 2018-05-15 10:18:38,446][kfold_wrapper.log_eval_metrics] Accuracy(layer_0 - estimator_0 - 10_folds.train_6.predict)=99.11%\n",
      "[ 2018-05-15 10:18:39,026][kfold_wrapper.log_eval_metrics] Accuracy(layer_0 - estimator_0 - 10_folds.train_7.predict)=99.11%\n",
      "[ 2018-05-15 10:18:39,599][kfold_wrapper.log_eval_metrics] Accuracy(layer_0 - estimator_0 - 10_folds.train_8.predict)=99.11%\n",
      "[ 2018-05-15 10:18:40,189][kfold_wrapper.log_eval_metrics] Accuracy(layer_0 - estimator_0 - 10_folds.train_9.predict)=98.21%\n",
      "[ 2018-05-15 10:18:40,306][kfold_wrapper.log_eval_metrics] Accuracy(layer_0 - estimator_0 - 10_folds.train_cv.predict)=97.61%\n",
      "[ 2018-05-15 10:18:40,309][kfold_wrapper.log_eval_metrics] Accuracy(layer_0 - estimator_0 - 10_folds.test.predict)=98.57%\n",
      "[ 2018-05-15 10:18:40,317][cascade_classifier.calc_accuracy] Accuracy(layer_0 - train.classifier_average)=97.61%\n",
      "[ 2018-05-15 10:18:40,319][cascade_classifier.calc_accuracy] Accuracy(layer_0 - test.classifier_average)=98.57%\n",
      "[ 2018-05-15 10:18:40,320][cascade_classifier.fit_transform] [Result][Reach Max Layer] opt_layer_num=1, accuracy_train=97.61%, accuracy_test=98.57%\n",
      "[ 2018-05-15 10:18:40,321][cascade_classifier.transform] X_groups_test.shape=[(558, 23)]\n",
      "[ 2018-05-15 10:18:40,323][cascade_classifier.transform] group_dims=[23]\n",
      "[ 2018-05-15 10:18:40,324][cascade_classifier.transform] X_test.shape=(558, 23)\n",
      "[ 2018-05-15 10:18:40,326][cascade_classifier.transform] [layer=0] look_indexs=[0], X_cur_test.shape=(558, 23)\n",
      "[ 2018-05-15 10:18:41,551][cascade_classifier.fit_transform] X_groups_train.shape=[(1130, 23)],y_train.shape=(1130,),X_groups_test.shape=[(558, 23)],y_test.shape=(558,)\n",
      "[ 2018-05-15 10:18:41,553][cascade_classifier.fit_transform] group_dims=[23]\n",
      "[ 2018-05-15 10:18:41,555][cascade_classifier.fit_transform] group_starts=[0]\n",
      "[ 2018-05-15 10:18:41,556][cascade_classifier.fit_transform] group_ends=[23]\n",
      "[ 2018-05-15 10:18:41,558][cascade_classifier.fit_transform] X_train.shape=(1130, 23),X_test.shape=(558, 23)\n",
      "[ 2018-05-15 10:18:41,562][cascade_classifier.fit_transform] [layer=0] look_indexs=[0], X_cur_train.shape=(1130, 23), X_cur_test.shape=(558, 23)\n"
     ]
    },
    {
     "name": "stdout",
     "output_type": "stream",
     "text": [
      "('Test Accuracy of ExtraTrees = 98.566308 %', 9, 'fois')\n",
      "[[549   2]\n",
      " [  6   1]]\n",
      "\n",
      "\n",
      "             precision    recall  f1-score   support\n",
      "\n",
      "        0.0       0.99      1.00      0.99       551\n",
      "        1.0       0.33      0.14      0.20         7\n",
      "\n",
      "avg / total       0.98      0.99      0.98       558\n",
      "\n"
     ]
    },
    {
     "name": "stderr",
     "output_type": "stream",
     "text": [
      "[ 2018-05-15 10:18:42,065][kfold_wrapper.log_eval_metrics] Accuracy(layer_0 - estimator_0 - 10_folds.train_0.predict)=97.37%\n",
      "[ 2018-05-15 10:18:42,645][kfold_wrapper.log_eval_metrics] Accuracy(layer_0 - estimator_0 - 10_folds.train_1.predict)=92.98%\n",
      "[ 2018-05-15 10:18:43,252][kfold_wrapper.log_eval_metrics] Accuracy(layer_0 - estimator_0 - 10_folds.train_2.predict)=95.61%\n",
      "[ 2018-05-15 10:18:43,890][kfold_wrapper.log_eval_metrics] Accuracy(layer_0 - estimator_0 - 10_folds.train_3.predict)=97.37%\n",
      "[ 2018-05-15 10:18:44,474][kfold_wrapper.log_eval_metrics] Accuracy(layer_0 - estimator_0 - 10_folds.train_4.predict)=98.23%\n",
      "[ 2018-05-15 10:18:45,045][kfold_wrapper.log_eval_metrics] Accuracy(layer_0 - estimator_0 - 10_folds.train_5.predict)=97.35%\n",
      "[ 2018-05-15 10:18:45,639][kfold_wrapper.log_eval_metrics] Accuracy(layer_0 - estimator_0 - 10_folds.train_6.predict)=98.21%\n",
      "[ 2018-05-15 10:18:46,236][kfold_wrapper.log_eval_metrics] Accuracy(layer_0 - estimator_0 - 10_folds.train_7.predict)=99.11%\n",
      "[ 2018-05-15 10:18:46,812][kfold_wrapper.log_eval_metrics] Accuracy(layer_0 - estimator_0 - 10_folds.train_8.predict)=99.11%\n",
      "[ 2018-05-15 10:18:47,404][kfold_wrapper.log_eval_metrics] Accuracy(layer_0 - estimator_0 - 10_folds.train_9.predict)=98.21%\n",
      "[ 2018-05-15 10:18:47,521][kfold_wrapper.log_eval_metrics] Accuracy(layer_0 - estimator_0 - 10_folds.train_cv.predict)=97.35%\n",
      "[ 2018-05-15 10:18:47,524][kfold_wrapper.log_eval_metrics] Accuracy(layer_0 - estimator_0 - 10_folds.test.predict)=98.75%\n",
      "[ 2018-05-15 10:18:47,532][cascade_classifier.calc_accuracy] Accuracy(layer_0 - train.classifier_average)=97.35%\n",
      "[ 2018-05-15 10:18:47,533][cascade_classifier.calc_accuracy] Accuracy(layer_0 - test.classifier_average)=98.75%\n",
      "[ 2018-05-15 10:18:47,535][cascade_classifier.fit_transform] [Result][Reach Max Layer] opt_layer_num=1, accuracy_train=97.35%, accuracy_test=98.75%\n",
      "[ 2018-05-15 10:18:47,537][cascade_classifier.transform] X_groups_test.shape=[(558, 23)]\n",
      "[ 2018-05-15 10:18:47,539][cascade_classifier.transform] group_dims=[23]\n",
      "[ 2018-05-15 10:18:47,540][cascade_classifier.transform] X_test.shape=(558, 23)\n",
      "[ 2018-05-15 10:18:47,542][cascade_classifier.transform] [layer=0] look_indexs=[0], X_cur_test.shape=(558, 23)\n",
      "[ 2018-05-15 10:18:48,744][cascade_classifier.fit_transform] X_groups_train.shape=[(1130, 23)],y_train.shape=(1130,),X_groups_test.shape=[(558, 23)],y_test.shape=(558,)\n",
      "[ 2018-05-15 10:18:48,747][cascade_classifier.fit_transform] group_dims=[23]\n",
      "[ 2018-05-15 10:18:48,751][cascade_classifier.fit_transform] group_starts=[0]\n",
      "[ 2018-05-15 10:18:48,754][cascade_classifier.fit_transform] group_ends=[23]\n",
      "[ 2018-05-15 10:18:48,755][cascade_classifier.fit_transform] X_train.shape=(1130, 23),X_test.shape=(558, 23)\n",
      "[ 2018-05-15 10:18:48,757][cascade_classifier.fit_transform] [layer=0] look_indexs=[0], X_cur_train.shape=(1130, 23), X_cur_test.shape=(558, 23)\n"
     ]
    },
    {
     "name": "stdout",
     "output_type": "stream",
     "text": [
      "('Test Accuracy of ExtraTrees = 98.745520 %', 10, 'fois')\n",
      "[[550   1]\n",
      " [  6   1]]\n",
      "\n",
      "\n",
      "             precision    recall  f1-score   support\n",
      "\n",
      "        0.0       0.99      1.00      0.99       551\n",
      "        1.0       0.50      0.14      0.22         7\n",
      "\n",
      "avg / total       0.98      0.99      0.98       558\n",
      "\n"
     ]
    },
    {
     "name": "stderr",
     "output_type": "stream",
     "text": [
      "[ 2018-05-15 10:18:49,281][kfold_wrapper.log_eval_metrics] Accuracy(layer_0 - estimator_0 - 10_folds.train_0.predict)=98.25%\n",
      "[ 2018-05-15 10:18:49,884][kfold_wrapper.log_eval_metrics] Accuracy(layer_0 - estimator_0 - 10_folds.train_1.predict)=92.98%\n",
      "[ 2018-05-15 10:18:50,495][kfold_wrapper.log_eval_metrics] Accuracy(layer_0 - estimator_0 - 10_folds.train_2.predict)=97.37%\n",
      "[ 2018-05-15 10:18:51,080][kfold_wrapper.log_eval_metrics] Accuracy(layer_0 - estimator_0 - 10_folds.train_3.predict)=98.25%\n",
      "[ 2018-05-15 10:18:51,668][kfold_wrapper.log_eval_metrics] Accuracy(layer_0 - estimator_0 - 10_folds.train_4.predict)=98.23%\n",
      "[ 2018-05-15 10:18:52,265][kfold_wrapper.log_eval_metrics] Accuracy(layer_0 - estimator_0 - 10_folds.train_5.predict)=97.35%\n",
      "[ 2018-05-15 10:18:52,856][kfold_wrapper.log_eval_metrics] Accuracy(layer_0 - estimator_0 - 10_folds.train_6.predict)=99.11%\n",
      "[ 2018-05-15 10:18:53,489][kfold_wrapper.log_eval_metrics] Accuracy(layer_0 - estimator_0 - 10_folds.train_7.predict)=98.21%\n",
      "[ 2018-05-15 10:18:54,181][kfold_wrapper.log_eval_metrics] Accuracy(layer_0 - estimator_0 - 10_folds.train_8.predict)=99.11%\n",
      "[ 2018-05-15 10:18:54,798][kfold_wrapper.log_eval_metrics] Accuracy(layer_0 - estimator_0 - 10_folds.train_9.predict)=98.21%\n",
      "[ 2018-05-15 10:18:54,919][kfold_wrapper.log_eval_metrics] Accuracy(layer_0 - estimator_0 - 10_folds.train_cv.predict)=97.70%\n",
      "[ 2018-05-15 10:18:54,922][kfold_wrapper.log_eval_metrics] Accuracy(layer_0 - estimator_0 - 10_folds.test.predict)=98.75%\n",
      "[ 2018-05-15 10:18:54,928][cascade_classifier.calc_accuracy] Accuracy(layer_0 - train.classifier_average)=97.70%\n",
      "[ 2018-05-15 10:18:54,930][cascade_classifier.calc_accuracy] Accuracy(layer_0 - test.classifier_average)=98.75%\n",
      "[ 2018-05-15 10:18:54,932][cascade_classifier.fit_transform] [Result][Reach Max Layer] opt_layer_num=1, accuracy_train=97.70%, accuracy_test=98.75%\n",
      "[ 2018-05-15 10:18:54,933][cascade_classifier.transform] X_groups_test.shape=[(558, 23)]\n",
      "[ 2018-05-15 10:18:54,938][cascade_classifier.transform] group_dims=[23]\n",
      "[ 2018-05-15 10:18:54,939][cascade_classifier.transform] X_test.shape=(558, 23)\n",
      "[ 2018-05-15 10:18:54,942][cascade_classifier.transform] [layer=0] look_indexs=[0], X_cur_test.shape=(558, 23)\n",
      "[ 2018-05-15 10:18:56,158][cascade_classifier.fit_transform] X_groups_train.shape=[(1130, 23)],y_train.shape=(1130,),X_groups_test.shape=[(558, 23)],y_test.shape=(558,)\n",
      "[ 2018-05-15 10:18:56,159][cascade_classifier.fit_transform] group_dims=[23]\n",
      "[ 2018-05-15 10:18:56,161][cascade_classifier.fit_transform] group_starts=[0]\n",
      "[ 2018-05-15 10:18:56,163][cascade_classifier.fit_transform] group_ends=[23]\n",
      "[ 2018-05-15 10:18:56,164][cascade_classifier.fit_transform] X_train.shape=(1130, 23),X_test.shape=(558, 23)\n",
      "[ 2018-05-15 10:18:56,166][cascade_classifier.fit_transform] [layer=0] look_indexs=[0], X_cur_train.shape=(1130, 23), X_cur_test.shape=(558, 23)\n"
     ]
    },
    {
     "name": "stdout",
     "output_type": "stream",
     "text": [
      "('Test Accuracy of ExtraTrees = 98.745520 %', 11, 'fois')\n",
      "[[549   2]\n",
      " [  5   2]]\n",
      "\n",
      "\n",
      "             precision    recall  f1-score   support\n",
      "\n",
      "        0.0       0.99      1.00      0.99       551\n",
      "        1.0       0.50      0.29      0.36         7\n",
      "\n",
      "avg / total       0.98      0.99      0.99       558\n",
      "\n"
     ]
    },
    {
     "name": "stderr",
     "output_type": "stream",
     "text": [
      "[ 2018-05-15 10:18:56,704][kfold_wrapper.log_eval_metrics] Accuracy(layer_0 - estimator_0 - 10_folds.train_0.predict)=98.25%\n",
      "[ 2018-05-15 10:18:57,309][kfold_wrapper.log_eval_metrics] Accuracy(layer_0 - estimator_0 - 10_folds.train_1.predict)=92.98%\n",
      "[ 2018-05-15 10:18:57,894][kfold_wrapper.log_eval_metrics] Accuracy(layer_0 - estimator_0 - 10_folds.train_2.predict)=95.61%\n",
      "[ 2018-05-15 10:18:58,512][kfold_wrapper.log_eval_metrics] Accuracy(layer_0 - estimator_0 - 10_folds.train_3.predict)=97.37%\n",
      "[ 2018-05-15 10:18:59,126][kfold_wrapper.log_eval_metrics] Accuracy(layer_0 - estimator_0 - 10_folds.train_4.predict)=98.23%\n",
      "[ 2018-05-15 10:18:59,734][kfold_wrapper.log_eval_metrics] Accuracy(layer_0 - estimator_0 - 10_folds.train_5.predict)=97.35%\n",
      "[ 2018-05-15 10:19:00,336][kfold_wrapper.log_eval_metrics] Accuracy(layer_0 - estimator_0 - 10_folds.train_6.predict)=98.21%\n",
      "[ 2018-05-15 10:19:00,920][kfold_wrapper.log_eval_metrics] Accuracy(layer_0 - estimator_0 - 10_folds.train_7.predict)=98.21%\n",
      "[ 2018-05-15 10:19:01,498][kfold_wrapper.log_eval_metrics] Accuracy(layer_0 - estimator_0 - 10_folds.train_8.predict)=99.11%\n",
      "[ 2018-05-15 10:19:02,087][kfold_wrapper.log_eval_metrics] Accuracy(layer_0 - estimator_0 - 10_folds.train_9.predict)=98.21%\n",
      "[ 2018-05-15 10:19:02,202][kfold_wrapper.log_eval_metrics] Accuracy(layer_0 - estimator_0 - 10_folds.train_cv.predict)=97.35%\n",
      "[ 2018-05-15 10:19:02,206][kfold_wrapper.log_eval_metrics] Accuracy(layer_0 - estimator_0 - 10_folds.test.predict)=98.57%\n",
      "[ 2018-05-15 10:19:02,214][cascade_classifier.calc_accuracy] Accuracy(layer_0 - train.classifier_average)=97.35%\n",
      "[ 2018-05-15 10:19:02,216][cascade_classifier.calc_accuracy] Accuracy(layer_0 - test.classifier_average)=98.57%\n",
      "[ 2018-05-15 10:19:02,218][cascade_classifier.fit_transform] [Result][Reach Max Layer] opt_layer_num=1, accuracy_train=97.35%, accuracy_test=98.57%\n",
      "[ 2018-05-15 10:19:02,219][cascade_classifier.transform] X_groups_test.shape=[(558, 23)]\n",
      "[ 2018-05-15 10:19:02,220][cascade_classifier.transform] group_dims=[23]\n",
      "[ 2018-05-15 10:19:02,222][cascade_classifier.transform] X_test.shape=(558, 23)\n",
      "[ 2018-05-15 10:19:02,223][cascade_classifier.transform] [layer=0] look_indexs=[0], X_cur_test.shape=(558, 23)\n",
      "[ 2018-05-15 10:19:03,444][cascade_classifier.fit_transform] X_groups_train.shape=[(1130, 23)],y_train.shape=(1130,),X_groups_test.shape=[(558, 23)],y_test.shape=(558,)\n",
      "[ 2018-05-15 10:19:03,445][cascade_classifier.fit_transform] group_dims=[23]\n",
      "[ 2018-05-15 10:19:03,449][cascade_classifier.fit_transform] group_starts=[0]\n",
      "[ 2018-05-15 10:19:03,453][cascade_classifier.fit_transform] group_ends=[23]\n",
      "[ 2018-05-15 10:19:03,458][cascade_classifier.fit_transform] X_train.shape=(1130, 23),X_test.shape=(558, 23)\n",
      "[ 2018-05-15 10:19:03,463][cascade_classifier.fit_transform] [layer=0] look_indexs=[0], X_cur_train.shape=(1130, 23), X_cur_test.shape=(558, 23)\n"
     ]
    },
    {
     "name": "stdout",
     "output_type": "stream",
     "text": [
      "('Test Accuracy of ExtraTrees = 98.566308 %', 12, 'fois')\n",
      "[[549   2]\n",
      " [  6   1]]\n",
      "\n",
      "\n",
      "             precision    recall  f1-score   support\n",
      "\n",
      "        0.0       0.99      1.00      0.99       551\n",
      "        1.0       0.33      0.14      0.20         7\n",
      "\n",
      "avg / total       0.98      0.99      0.98       558\n",
      "\n"
     ]
    },
    {
     "name": "stderr",
     "output_type": "stream",
     "text": [
      "[ 2018-05-15 10:19:03,968][kfold_wrapper.log_eval_metrics] Accuracy(layer_0 - estimator_0 - 10_folds.train_0.predict)=98.25%\n",
      "[ 2018-05-15 10:19:04,566][kfold_wrapper.log_eval_metrics] Accuracy(layer_0 - estimator_0 - 10_folds.train_1.predict)=92.98%\n",
      "[ 2018-05-15 10:19:05,146][kfold_wrapper.log_eval_metrics] Accuracy(layer_0 - estimator_0 - 10_folds.train_2.predict)=96.49%\n",
      "[ 2018-05-15 10:19:05,770][kfold_wrapper.log_eval_metrics] Accuracy(layer_0 - estimator_0 - 10_folds.train_3.predict)=97.37%\n",
      "[ 2018-05-15 10:19:06,352][kfold_wrapper.log_eval_metrics] Accuracy(layer_0 - estimator_0 - 10_folds.train_4.predict)=98.23%\n",
      "[ 2018-05-15 10:19:06,937][kfold_wrapper.log_eval_metrics] Accuracy(layer_0 - estimator_0 - 10_folds.train_5.predict)=97.35%\n",
      "[ 2018-05-15 10:19:07,514][kfold_wrapper.log_eval_metrics] Accuracy(layer_0 - estimator_0 - 10_folds.train_6.predict)=100.00%\n",
      "[ 2018-05-15 10:19:08,127][kfold_wrapper.log_eval_metrics] Accuracy(layer_0 - estimator_0 - 10_folds.train_7.predict)=98.21%\n",
      "[ 2018-05-15 10:19:08,714][kfold_wrapper.log_eval_metrics] Accuracy(layer_0 - estimator_0 - 10_folds.train_8.predict)=99.11%\n",
      "[ 2018-05-15 10:19:09,334][kfold_wrapper.log_eval_metrics] Accuracy(layer_0 - estimator_0 - 10_folds.train_9.predict)=98.21%\n",
      "[ 2018-05-15 10:19:09,450][kfold_wrapper.log_eval_metrics] Accuracy(layer_0 - estimator_0 - 10_folds.train_cv.predict)=97.61%\n",
      "[ 2018-05-15 10:19:09,454][kfold_wrapper.log_eval_metrics] Accuracy(layer_0 - estimator_0 - 10_folds.test.predict)=98.57%\n",
      "[ 2018-05-15 10:19:09,465][cascade_classifier.calc_accuracy] Accuracy(layer_0 - train.classifier_average)=97.61%\n",
      "[ 2018-05-15 10:19:09,466][cascade_classifier.calc_accuracy] Accuracy(layer_0 - test.classifier_average)=98.57%\n",
      "[ 2018-05-15 10:19:09,468][cascade_classifier.fit_transform] [Result][Reach Max Layer] opt_layer_num=1, accuracy_train=97.61%, accuracy_test=98.57%\n",
      "[ 2018-05-15 10:19:09,469][cascade_classifier.transform] X_groups_test.shape=[(558, 23)]\n",
      "[ 2018-05-15 10:19:09,471][cascade_classifier.transform] group_dims=[23]\n",
      "[ 2018-05-15 10:19:09,472][cascade_classifier.transform] X_test.shape=(558, 23)\n",
      "[ 2018-05-15 10:19:09,473][cascade_classifier.transform] [layer=0] look_indexs=[0], X_cur_test.shape=(558, 23)\n",
      "[ 2018-05-15 10:19:10,718][cascade_classifier.fit_transform] X_groups_train.shape=[(1130, 23)],y_train.shape=(1130,),X_groups_test.shape=[(558, 23)],y_test.shape=(558,)\n",
      "[ 2018-05-15 10:19:10,721][cascade_classifier.fit_transform] group_dims=[23]\n",
      "[ 2018-05-15 10:19:10,722][cascade_classifier.fit_transform] group_starts=[0]\n",
      "[ 2018-05-15 10:19:10,723][cascade_classifier.fit_transform] group_ends=[23]\n",
      "[ 2018-05-15 10:19:10,724][cascade_classifier.fit_transform] X_train.shape=(1130, 23),X_test.shape=(558, 23)\n",
      "[ 2018-05-15 10:19:10,725][cascade_classifier.fit_transform] [layer=0] look_indexs=[0], X_cur_train.shape=(1130, 23), X_cur_test.shape=(558, 23)\n"
     ]
    },
    {
     "name": "stdout",
     "output_type": "stream",
     "text": [
      "('Test Accuracy of ExtraTrees = 98.566308 %', 13, 'fois')\n",
      "[[549   2]\n",
      " [  6   1]]\n",
      "\n",
      "\n",
      "             precision    recall  f1-score   support\n",
      "\n",
      "        0.0       0.99      1.00      0.99       551\n",
      "        1.0       0.33      0.14      0.20         7\n",
      "\n",
      "avg / total       0.98      0.99      0.98       558\n",
      "\n"
     ]
    },
    {
     "name": "stderr",
     "output_type": "stream",
     "text": [
      "[ 2018-05-15 10:19:11,216][kfold_wrapper.log_eval_metrics] Accuracy(layer_0 - estimator_0 - 10_folds.train_0.predict)=98.25%\n",
      "[ 2018-05-15 10:19:11,811][kfold_wrapper.log_eval_metrics] Accuracy(layer_0 - estimator_0 - 10_folds.train_1.predict)=92.98%\n",
      "[ 2018-05-15 10:19:12,419][kfold_wrapper.log_eval_metrics] Accuracy(layer_0 - estimator_0 - 10_folds.train_2.predict)=95.61%\n",
      "[ 2018-05-15 10:19:13,003][kfold_wrapper.log_eval_metrics] Accuracy(layer_0 - estimator_0 - 10_folds.train_3.predict)=97.37%\n",
      "[ 2018-05-15 10:19:13,578][kfold_wrapper.log_eval_metrics] Accuracy(layer_0 - estimator_0 - 10_folds.train_4.predict)=98.23%\n",
      "[ 2018-05-15 10:19:14,159][kfold_wrapper.log_eval_metrics] Accuracy(layer_0 - estimator_0 - 10_folds.train_5.predict)=97.35%\n",
      "[ 2018-05-15 10:19:14,727][kfold_wrapper.log_eval_metrics] Accuracy(layer_0 - estimator_0 - 10_folds.train_6.predict)=98.21%\n",
      "[ 2018-05-15 10:19:15,309][kfold_wrapper.log_eval_metrics] Accuracy(layer_0 - estimator_0 - 10_folds.train_7.predict)=98.21%\n",
      "[ 2018-05-15 10:19:15,905][kfold_wrapper.log_eval_metrics] Accuracy(layer_0 - estimator_0 - 10_folds.train_8.predict)=99.11%\n",
      "[ 2018-05-15 10:19:16,497][kfold_wrapper.log_eval_metrics] Accuracy(layer_0 - estimator_0 - 10_folds.train_9.predict)=98.21%\n",
      "[ 2018-05-15 10:19:16,617][kfold_wrapper.log_eval_metrics] Accuracy(layer_0 - estimator_0 - 10_folds.train_cv.predict)=97.35%\n",
      "[ 2018-05-15 10:19:16,620][kfold_wrapper.log_eval_metrics] Accuracy(layer_0 - estimator_0 - 10_folds.test.predict)=98.75%\n",
      "[ 2018-05-15 10:19:16,629][cascade_classifier.calc_accuracy] Accuracy(layer_0 - train.classifier_average)=97.35%\n",
      "[ 2018-05-15 10:19:16,633][cascade_classifier.calc_accuracy] Accuracy(layer_0 - test.classifier_average)=98.75%\n",
      "[ 2018-05-15 10:19:16,634][cascade_classifier.fit_transform] [Result][Reach Max Layer] opt_layer_num=1, accuracy_train=97.35%, accuracy_test=98.75%\n",
      "[ 2018-05-15 10:19:16,635][cascade_classifier.transform] X_groups_test.shape=[(558, 23)]\n",
      "[ 2018-05-15 10:19:16,636][cascade_classifier.transform] group_dims=[23]\n",
      "[ 2018-05-15 10:19:16,637][cascade_classifier.transform] X_test.shape=(558, 23)\n",
      "[ 2018-05-15 10:19:16,639][cascade_classifier.transform] [layer=0] look_indexs=[0], X_cur_test.shape=(558, 23)\n",
      "[ 2018-05-15 10:19:17,853][cascade_classifier.fit_transform] X_groups_train.shape=[(1130, 23)],y_train.shape=(1130,),X_groups_test.shape=[(558, 23)],y_test.shape=(558,)\n",
      "[ 2018-05-15 10:19:17,856][cascade_classifier.fit_transform] group_dims=[23]\n",
      "[ 2018-05-15 10:19:17,857][cascade_classifier.fit_transform] group_starts=[0]\n",
      "[ 2018-05-15 10:19:17,858][cascade_classifier.fit_transform] group_ends=[23]\n",
      "[ 2018-05-15 10:19:17,860][cascade_classifier.fit_transform] X_train.shape=(1130, 23),X_test.shape=(558, 23)\n",
      "[ 2018-05-15 10:19:17,862][cascade_classifier.fit_transform] [layer=0] look_indexs=[0], X_cur_train.shape=(1130, 23), X_cur_test.shape=(558, 23)\n"
     ]
    },
    {
     "name": "stdout",
     "output_type": "stream",
     "text": [
      "('Test Accuracy of ExtraTrees = 98.745520 %', 14, 'fois')\n",
      "[[549   2]\n",
      " [  5   2]]\n",
      "\n",
      "\n",
      "             precision    recall  f1-score   support\n",
      "\n",
      "        0.0       0.99      1.00      0.99       551\n",
      "        1.0       0.50      0.29      0.36         7\n",
      "\n",
      "avg / total       0.98      0.99      0.99       558\n",
      "\n"
     ]
    },
    {
     "name": "stderr",
     "output_type": "stream",
     "text": [
      "[ 2018-05-15 10:19:18,370][kfold_wrapper.log_eval_metrics] Accuracy(layer_0 - estimator_0 - 10_folds.train_0.predict)=98.25%\n",
      "[ 2018-05-15 10:19:18,953][kfold_wrapper.log_eval_metrics] Accuracy(layer_0 - estimator_0 - 10_folds.train_1.predict)=94.74%\n",
      "[ 2018-05-15 10:19:19,607][kfold_wrapper.log_eval_metrics] Accuracy(layer_0 - estimator_0 - 10_folds.train_2.predict)=96.49%\n",
      "[ 2018-05-15 10:19:20,188][kfold_wrapper.log_eval_metrics] Accuracy(layer_0 - estimator_0 - 10_folds.train_3.predict)=98.25%\n",
      "[ 2018-05-15 10:19:20,778][kfold_wrapper.log_eval_metrics] Accuracy(layer_0 - estimator_0 - 10_folds.train_4.predict)=98.23%\n",
      "[ 2018-05-15 10:19:21,368][kfold_wrapper.log_eval_metrics] Accuracy(layer_0 - estimator_0 - 10_folds.train_5.predict)=97.35%\n",
      "[ 2018-05-15 10:19:21,976][kfold_wrapper.log_eval_metrics] Accuracy(layer_0 - estimator_0 - 10_folds.train_6.predict)=98.21%\n",
      "[ 2018-05-15 10:19:22,573][kfold_wrapper.log_eval_metrics] Accuracy(layer_0 - estimator_0 - 10_folds.train_7.predict)=98.21%\n",
      "[ 2018-05-15 10:19:23,223][kfold_wrapper.log_eval_metrics] Accuracy(layer_0 - estimator_0 - 10_folds.train_8.predict)=99.11%\n",
      "[ 2018-05-15 10:19:23,861][kfold_wrapper.log_eval_metrics] Accuracy(layer_0 - estimator_0 - 10_folds.train_9.predict)=98.21%\n",
      "[ 2018-05-15 10:19:23,979][kfold_wrapper.log_eval_metrics] Accuracy(layer_0 - estimator_0 - 10_folds.train_cv.predict)=97.70%\n",
      "[ 2018-05-15 10:19:23,983][kfold_wrapper.log_eval_metrics] Accuracy(layer_0 - estimator_0 - 10_folds.test.predict)=98.92%\n",
      "[ 2018-05-15 10:19:23,990][cascade_classifier.calc_accuracy] Accuracy(layer_0 - train.classifier_average)=97.70%\n",
      "[ 2018-05-15 10:19:23,992][cascade_classifier.calc_accuracy] Accuracy(layer_0 - test.classifier_average)=98.92%\n",
      "[ 2018-05-15 10:19:23,995][cascade_classifier.fit_transform] [Result][Reach Max Layer] opt_layer_num=1, accuracy_train=97.70%, accuracy_test=98.92%\n",
      "[ 2018-05-15 10:19:23,996][cascade_classifier.transform] X_groups_test.shape=[(558, 23)]\n",
      "[ 2018-05-15 10:19:23,998][cascade_classifier.transform] group_dims=[23]\n",
      "[ 2018-05-15 10:19:23,999][cascade_classifier.transform] X_test.shape=(558, 23)\n",
      "[ 2018-05-15 10:19:24,002][cascade_classifier.transform] [layer=0] look_indexs=[0], X_cur_test.shape=(558, 23)\n",
      "[ 2018-05-15 10:19:25,223][cascade_classifier.fit_transform] X_groups_train.shape=[(1130, 23)],y_train.shape=(1130,),X_groups_test.shape=[(558, 23)],y_test.shape=(558,)\n",
      "[ 2018-05-15 10:19:25,224][cascade_classifier.fit_transform] group_dims=[23]\n",
      "[ 2018-05-15 10:19:25,225][cascade_classifier.fit_transform] group_starts=[0]\n",
      "[ 2018-05-15 10:19:25,226][cascade_classifier.fit_transform] group_ends=[23]\n",
      "[ 2018-05-15 10:19:25,227][cascade_classifier.fit_transform] X_train.shape=(1130, 23),X_test.shape=(558, 23)\n",
      "[ 2018-05-15 10:19:25,229][cascade_classifier.fit_transform] [layer=0] look_indexs=[0], X_cur_train.shape=(1130, 23), X_cur_test.shape=(558, 23)\n"
     ]
    },
    {
     "name": "stdout",
     "output_type": "stream",
     "text": [
      "('Test Accuracy of ExtraTrees = 98.924731 %', 15, 'fois')\n",
      "[[551   0]\n",
      " [  6   1]]\n",
      "\n",
      "\n",
      "             precision    recall  f1-score   support\n",
      "\n",
      "        0.0       0.99      1.00      0.99       551\n",
      "        1.0       1.00      0.14      0.25         7\n",
      "\n",
      "avg / total       0.99      0.99      0.99       558\n",
      "\n"
     ]
    },
    {
     "name": "stderr",
     "output_type": "stream",
     "text": [
      "[ 2018-05-15 10:19:25,709][kfold_wrapper.log_eval_metrics] Accuracy(layer_0 - estimator_0 - 10_folds.train_0.predict)=97.37%\n",
      "[ 2018-05-15 10:19:26,299][kfold_wrapper.log_eval_metrics] Accuracy(layer_0 - estimator_0 - 10_folds.train_1.predict)=92.98%\n",
      "[ 2018-05-15 10:19:26,927][kfold_wrapper.log_eval_metrics] Accuracy(layer_0 - estimator_0 - 10_folds.train_2.predict)=97.37%\n",
      "[ 2018-05-15 10:19:27,547][kfold_wrapper.log_eval_metrics] Accuracy(layer_0 - estimator_0 - 10_folds.train_3.predict)=97.37%\n",
      "[ 2018-05-15 10:19:28,142][kfold_wrapper.log_eval_metrics] Accuracy(layer_0 - estimator_0 - 10_folds.train_4.predict)=97.35%\n",
      "[ 2018-05-15 10:19:28,722][kfold_wrapper.log_eval_metrics] Accuracy(layer_0 - estimator_0 - 10_folds.train_5.predict)=97.35%\n",
      "[ 2018-05-15 10:19:29,303][kfold_wrapper.log_eval_metrics] Accuracy(layer_0 - estimator_0 - 10_folds.train_6.predict)=98.21%\n",
      "[ 2018-05-15 10:19:29,895][kfold_wrapper.log_eval_metrics] Accuracy(layer_0 - estimator_0 - 10_folds.train_7.predict)=98.21%\n",
      "[ 2018-05-15 10:19:30,522][kfold_wrapper.log_eval_metrics] Accuracy(layer_0 - estimator_0 - 10_folds.train_8.predict)=99.11%\n",
      "[ 2018-05-15 10:19:31,108][kfold_wrapper.log_eval_metrics] Accuracy(layer_0 - estimator_0 - 10_folds.train_9.predict)=98.21%\n",
      "[ 2018-05-15 10:19:31,223][kfold_wrapper.log_eval_metrics] Accuracy(layer_0 - estimator_0 - 10_folds.train_cv.predict)=97.35%\n",
      "[ 2018-05-15 10:19:31,227][kfold_wrapper.log_eval_metrics] Accuracy(layer_0 - estimator_0 - 10_folds.test.predict)=98.75%\n",
      "[ 2018-05-15 10:19:31,233][cascade_classifier.calc_accuracy] Accuracy(layer_0 - train.classifier_average)=97.35%\n",
      "[ 2018-05-15 10:19:31,237][cascade_classifier.calc_accuracy] Accuracy(layer_0 - test.classifier_average)=98.75%\n",
      "[ 2018-05-15 10:19:31,238][cascade_classifier.fit_transform] [Result][Reach Max Layer] opt_layer_num=1, accuracy_train=97.35%, accuracy_test=98.75%\n",
      "[ 2018-05-15 10:19:31,240][cascade_classifier.transform] X_groups_test.shape=[(558, 23)]\n",
      "[ 2018-05-15 10:19:31,241][cascade_classifier.transform] group_dims=[23]\n",
      "[ 2018-05-15 10:19:31,242][cascade_classifier.transform] X_test.shape=(558, 23)\n",
      "[ 2018-05-15 10:19:31,243][cascade_classifier.transform] [layer=0] look_indexs=[0], X_cur_test.shape=(558, 23)\n",
      "[ 2018-05-15 10:19:32,465][cascade_classifier.fit_transform] X_groups_train.shape=[(1130, 23)],y_train.shape=(1130,),X_groups_test.shape=[(558, 23)],y_test.shape=(558,)\n",
      "[ 2018-05-15 10:19:32,467][cascade_classifier.fit_transform] group_dims=[23]\n",
      "[ 2018-05-15 10:19:32,468][cascade_classifier.fit_transform] group_starts=[0]\n",
      "[ 2018-05-15 10:19:32,469][cascade_classifier.fit_transform] group_ends=[23]\n",
      "[ 2018-05-15 10:19:32,471][cascade_classifier.fit_transform] X_train.shape=(1130, 23),X_test.shape=(558, 23)\n",
      "[ 2018-05-15 10:19:32,473][cascade_classifier.fit_transform] [layer=0] look_indexs=[0], X_cur_train.shape=(1130, 23), X_cur_test.shape=(558, 23)\n"
     ]
    },
    {
     "name": "stdout",
     "output_type": "stream",
     "text": [
      "('Test Accuracy of ExtraTrees = 98.745520 %', 16, 'fois')\n",
      "[[550   1]\n",
      " [  6   1]]\n",
      "\n",
      "\n",
      "             precision    recall  f1-score   support\n",
      "\n",
      "        0.0       0.99      1.00      0.99       551\n",
      "        1.0       0.50      0.14      0.22         7\n",
      "\n",
      "avg / total       0.98      0.99      0.98       558\n",
      "\n"
     ]
    },
    {
     "name": "stderr",
     "output_type": "stream",
     "text": [
      "[ 2018-05-15 10:19:32,956][kfold_wrapper.log_eval_metrics] Accuracy(layer_0 - estimator_0 - 10_folds.train_0.predict)=97.37%\n",
      "[ 2018-05-15 10:19:33,537][kfold_wrapper.log_eval_metrics] Accuracy(layer_0 - estimator_0 - 10_folds.train_1.predict)=92.98%\n",
      "[ 2018-05-15 10:19:34,123][kfold_wrapper.log_eval_metrics] Accuracy(layer_0 - estimator_0 - 10_folds.train_2.predict)=96.49%\n",
      "[ 2018-05-15 10:19:34,699][kfold_wrapper.log_eval_metrics] Accuracy(layer_0 - estimator_0 - 10_folds.train_3.predict)=97.37%\n",
      "[ 2018-05-15 10:19:35,289][kfold_wrapper.log_eval_metrics] Accuracy(layer_0 - estimator_0 - 10_folds.train_4.predict)=98.23%\n",
      "[ 2018-05-15 10:19:35,862][kfold_wrapper.log_eval_metrics] Accuracy(layer_0 - estimator_0 - 10_folds.train_5.predict)=97.35%\n",
      "[ 2018-05-15 10:19:36,440][kfold_wrapper.log_eval_metrics] Accuracy(layer_0 - estimator_0 - 10_folds.train_6.predict)=98.21%\n",
      "[ 2018-05-15 10:19:37,035][kfold_wrapper.log_eval_metrics] Accuracy(layer_0 - estimator_0 - 10_folds.train_7.predict)=98.21%\n",
      "[ 2018-05-15 10:19:37,629][kfold_wrapper.log_eval_metrics] Accuracy(layer_0 - estimator_0 - 10_folds.train_8.predict)=99.11%\n",
      "[ 2018-05-15 10:19:38,219][kfold_wrapper.log_eval_metrics] Accuracy(layer_0 - estimator_0 - 10_folds.train_9.predict)=98.21%\n",
      "[ 2018-05-15 10:19:38,336][kfold_wrapper.log_eval_metrics] Accuracy(layer_0 - estimator_0 - 10_folds.train_cv.predict)=97.35%\n",
      "[ 2018-05-15 10:19:38,339][kfold_wrapper.log_eval_metrics] Accuracy(layer_0 - estimator_0 - 10_folds.test.predict)=98.92%\n",
      "[ 2018-05-15 10:19:38,343][cascade_classifier.calc_accuracy] Accuracy(layer_0 - train.classifier_average)=97.35%\n",
      "[ 2018-05-15 10:19:38,346][cascade_classifier.calc_accuracy] Accuracy(layer_0 - test.classifier_average)=98.92%\n",
      "[ 2018-05-15 10:19:38,348][cascade_classifier.fit_transform] [Result][Reach Max Layer] opt_layer_num=1, accuracy_train=97.35%, accuracy_test=98.92%\n",
      "[ 2018-05-15 10:19:38,351][cascade_classifier.transform] X_groups_test.shape=[(558, 23)]\n",
      "[ 2018-05-15 10:19:38,354][cascade_classifier.transform] group_dims=[23]\n",
      "[ 2018-05-15 10:19:38,355][cascade_classifier.transform] X_test.shape=(558, 23)\n",
      "[ 2018-05-15 10:19:38,357][cascade_classifier.transform] [layer=0] look_indexs=[0], X_cur_test.shape=(558, 23)\n",
      "[ 2018-05-15 10:19:39,554][cascade_classifier.fit_transform] X_groups_train.shape=[(1130, 23)],y_train.shape=(1130,),X_groups_test.shape=[(558, 23)],y_test.shape=(558,)\n",
      "[ 2018-05-15 10:19:39,555][cascade_classifier.fit_transform] group_dims=[23]\n",
      "[ 2018-05-15 10:19:39,557][cascade_classifier.fit_transform] group_starts=[0]\n",
      "[ 2018-05-15 10:19:39,558][cascade_classifier.fit_transform] group_ends=[23]\n",
      "[ 2018-05-15 10:19:39,560][cascade_classifier.fit_transform] X_train.shape=(1130, 23),X_test.shape=(558, 23)\n",
      "[ 2018-05-15 10:19:39,562][cascade_classifier.fit_transform] [layer=0] look_indexs=[0], X_cur_train.shape=(1130, 23), X_cur_test.shape=(558, 23)\n"
     ]
    },
    {
     "name": "stdout",
     "output_type": "stream",
     "text": [
      "('Test Accuracy of ExtraTrees = 98.924731 %', 17, 'fois')\n",
      "[[551   0]\n",
      " [  6   1]]\n",
      "\n",
      "\n",
      "             precision    recall  f1-score   support\n",
      "\n",
      "        0.0       0.99      1.00      0.99       551\n",
      "        1.0       1.00      0.14      0.25         7\n",
      "\n",
      "avg / total       0.99      0.99      0.99       558\n",
      "\n"
     ]
    },
    {
     "name": "stderr",
     "output_type": "stream",
     "text": [
      "[ 2018-05-15 10:19:40,081][kfold_wrapper.log_eval_metrics] Accuracy(layer_0 - estimator_0 - 10_folds.train_0.predict)=97.37%\n",
      "[ 2018-05-15 10:19:40,668][kfold_wrapper.log_eval_metrics] Accuracy(layer_0 - estimator_0 - 10_folds.train_1.predict)=92.98%\n",
      "[ 2018-05-15 10:19:41,243][kfold_wrapper.log_eval_metrics] Accuracy(layer_0 - estimator_0 - 10_folds.train_2.predict)=98.25%\n",
      "[ 2018-05-15 10:19:41,848][kfold_wrapper.log_eval_metrics] Accuracy(layer_0 - estimator_0 - 10_folds.train_3.predict)=97.37%\n",
      "[ 2018-05-15 10:19:42,432][kfold_wrapper.log_eval_metrics] Accuracy(layer_0 - estimator_0 - 10_folds.train_4.predict)=98.23%\n",
      "[ 2018-05-15 10:19:43,018][kfold_wrapper.log_eval_metrics] Accuracy(layer_0 - estimator_0 - 10_folds.train_5.predict)=96.46%\n",
      "[ 2018-05-15 10:19:43,601][kfold_wrapper.log_eval_metrics] Accuracy(layer_0 - estimator_0 - 10_folds.train_6.predict)=98.21%\n",
      "[ 2018-05-15 10:19:44,208][kfold_wrapper.log_eval_metrics] Accuracy(layer_0 - estimator_0 - 10_folds.train_7.predict)=98.21%\n",
      "[ 2018-05-15 10:19:44,804][kfold_wrapper.log_eval_metrics] Accuracy(layer_0 - estimator_0 - 10_folds.train_8.predict)=99.11%\n",
      "[ 2018-05-15 10:19:45,390][kfold_wrapper.log_eval_metrics] Accuracy(layer_0 - estimator_0 - 10_folds.train_9.predict)=98.21%\n",
      "[ 2018-05-15 10:19:45,501][kfold_wrapper.log_eval_metrics] Accuracy(layer_0 - estimator_0 - 10_folds.train_cv.predict)=97.43%\n",
      "[ 2018-05-15 10:19:45,504][kfold_wrapper.log_eval_metrics] Accuracy(layer_0 - estimator_0 - 10_folds.test.predict)=98.92%\n",
      "[ 2018-05-15 10:19:45,512][cascade_classifier.calc_accuracy] Accuracy(layer_0 - train.classifier_average)=97.43%\n",
      "[ 2018-05-15 10:19:45,515][cascade_classifier.calc_accuracy] Accuracy(layer_0 - test.classifier_average)=98.92%\n",
      "[ 2018-05-15 10:19:45,517][cascade_classifier.fit_transform] [Result][Reach Max Layer] opt_layer_num=1, accuracy_train=97.43%, accuracy_test=98.92%\n",
      "[ 2018-05-15 10:19:45,518][cascade_classifier.transform] X_groups_test.shape=[(558, 23)]\n",
      "[ 2018-05-15 10:19:45,520][cascade_classifier.transform] group_dims=[23]\n",
      "[ 2018-05-15 10:19:45,522][cascade_classifier.transform] X_test.shape=(558, 23)\n",
      "[ 2018-05-15 10:19:45,523][cascade_classifier.transform] [layer=0] look_indexs=[0], X_cur_test.shape=(558, 23)\n",
      "[ 2018-05-15 10:19:46,754][cascade_classifier.fit_transform] X_groups_train.shape=[(1130, 23)],y_train.shape=(1130,),X_groups_test.shape=[(558, 23)],y_test.shape=(558,)\n",
      "[ 2018-05-15 10:19:46,755][cascade_classifier.fit_transform] group_dims=[23]\n",
      "[ 2018-05-15 10:19:46,756][cascade_classifier.fit_transform] group_starts=[0]\n",
      "[ 2018-05-15 10:19:46,761][cascade_classifier.fit_transform] group_ends=[23]\n",
      "[ 2018-05-15 10:19:46,762][cascade_classifier.fit_transform] X_train.shape=(1130, 23),X_test.shape=(558, 23)\n",
      "[ 2018-05-15 10:19:46,769][cascade_classifier.fit_transform] [layer=0] look_indexs=[0], X_cur_train.shape=(1130, 23), X_cur_test.shape=(558, 23)\n"
     ]
    },
    {
     "name": "stdout",
     "output_type": "stream",
     "text": [
      "('Test Accuracy of ExtraTrees = 98.924731 %', 18, 'fois')\n",
      "[[551   0]\n",
      " [  6   1]]\n",
      "\n",
      "\n",
      "             precision    recall  f1-score   support\n",
      "\n",
      "        0.0       0.99      1.00      0.99       551\n",
      "        1.0       1.00      0.14      0.25         7\n",
      "\n",
      "avg / total       0.99      0.99      0.99       558\n",
      "\n"
     ]
    },
    {
     "name": "stderr",
     "output_type": "stream",
     "text": [
      "[ 2018-05-15 10:19:47,272][kfold_wrapper.log_eval_metrics] Accuracy(layer_0 - estimator_0 - 10_folds.train_0.predict)=97.37%\n",
      "[ 2018-05-15 10:19:47,867][kfold_wrapper.log_eval_metrics] Accuracy(layer_0 - estimator_0 - 10_folds.train_1.predict)=92.98%\n",
      "[ 2018-05-15 10:19:48,461][kfold_wrapper.log_eval_metrics] Accuracy(layer_0 - estimator_0 - 10_folds.train_2.predict)=97.37%\n",
      "[ 2018-05-15 10:19:49,063][kfold_wrapper.log_eval_metrics] Accuracy(layer_0 - estimator_0 - 10_folds.train_3.predict)=97.37%\n",
      "[ 2018-05-15 10:19:49,734][kfold_wrapper.log_eval_metrics] Accuracy(layer_0 - estimator_0 - 10_folds.train_4.predict)=98.23%\n",
      "[ 2018-05-15 10:19:50,328][kfold_wrapper.log_eval_metrics] Accuracy(layer_0 - estimator_0 - 10_folds.train_5.predict)=97.35%\n",
      "[ 2018-05-15 10:19:50,903][kfold_wrapper.log_eval_metrics] Accuracy(layer_0 - estimator_0 - 10_folds.train_6.predict)=98.21%\n",
      "[ 2018-05-15 10:19:51,499][kfold_wrapper.log_eval_metrics] Accuracy(layer_0 - estimator_0 - 10_folds.train_7.predict)=98.21%\n",
      "[ 2018-05-15 10:19:52,098][kfold_wrapper.log_eval_metrics] Accuracy(layer_0 - estimator_0 - 10_folds.train_8.predict)=99.11%\n",
      "[ 2018-05-15 10:19:52,690][kfold_wrapper.log_eval_metrics] Accuracy(layer_0 - estimator_0 - 10_folds.train_9.predict)=98.21%\n",
      "[ 2018-05-15 10:19:52,802][kfold_wrapper.log_eval_metrics] Accuracy(layer_0 - estimator_0 - 10_folds.train_cv.predict)=97.43%\n",
      "[ 2018-05-15 10:19:52,806][kfold_wrapper.log_eval_metrics] Accuracy(layer_0 - estimator_0 - 10_folds.test.predict)=98.57%\n",
      "[ 2018-05-15 10:19:52,815][cascade_classifier.calc_accuracy] Accuracy(layer_0 - train.classifier_average)=97.43%\n",
      "[ 2018-05-15 10:19:52,818][cascade_classifier.calc_accuracy] Accuracy(layer_0 - test.classifier_average)=98.57%\n",
      "[ 2018-05-15 10:19:52,819][cascade_classifier.fit_transform] [Result][Reach Max Layer] opt_layer_num=1, accuracy_train=97.43%, accuracy_test=98.57%\n",
      "[ 2018-05-15 10:19:52,821][cascade_classifier.transform] X_groups_test.shape=[(558, 23)]\n",
      "[ 2018-05-15 10:19:52,823][cascade_classifier.transform] group_dims=[23]\n",
      "[ 2018-05-15 10:19:52,824][cascade_classifier.transform] X_test.shape=(558, 23)\n",
      "[ 2018-05-15 10:19:52,826][cascade_classifier.transform] [layer=0] look_indexs=[0], X_cur_test.shape=(558, 23)\n"
     ]
    },
    {
     "name": "stdout",
     "output_type": "stream",
     "text": [
      "('Test Accuracy of ExtraTrees = 98.566308 %', 19, 'fois')\n",
      "[[549   2]\n",
      " [  6   1]]\n",
      "\n",
      "\n",
      "             precision    recall  f1-score   support\n",
      "\n",
      "        0.0       0.99      1.00      0.99       551\n",
      "        1.0       0.33      0.14      0.20         7\n",
      "\n",
      "avg / total       0.98      0.99      0.98       558\n",
      "\n"
     ]
    }
   ],
   "source": [
    "# Deep\n",
    "for i in range (20):\n",
    "    X_train,X_test=update(X_train,X_test)\n",
    "    X_test_enc, X_train_enc=newdata(X_test_enc, X_train_enc)\n",
    "\n",
    "    X_train=X_train_enc\n",
    "    X_test=X_test_enc \n",
    "    X_train_enc, X_test_enc = gc.fit_transform(X_train, y_train, X_test=X_test, y_test=y_test)\n",
    "    affiche()"
   ]
  },
  {
   "cell_type": "code",
   "execution_count": null,
   "metadata": {
    "collapsed": true
   },
   "outputs": [],
   "source": []
  },
  {
   "cell_type": "markdown",
   "metadata": {
    "collapsed": true
   },
   "source": [
    "# ('Test Accuracy of ExtraTrees = 99.283154 %', 1, 'fois')"
   ]
  },
  {
   "cell_type": "code",
   "execution_count": null,
   "metadata": {
    "collapsed": true
   },
   "outputs": [],
   "source": []
  },
  {
   "cell_type": "code",
   "execution_count": null,
   "metadata": {
    "collapsed": true
   },
   "outputs": [],
   "source": []
  },
  {
   "cell_type": "code",
   "execution_count": null,
   "metadata": {
    "collapsed": true
   },
   "outputs": [],
   "source": []
  },
  {
   "cell_type": "code",
   "execution_count": null,
   "metadata": {
    "collapsed": true
   },
   "outputs": [],
   "source": []
  }
 ],
 "metadata": {
  "kernelspec": {
   "display_name": "Python 2",
   "language": "python",
   "name": "python2"
  },
  "language_info": {
   "codemirror_mode": {
    "name": "ipython",
    "version": 2
   },
   "file_extension": ".py",
   "mimetype": "text/x-python",
   "name": "python",
   "nbconvert_exporter": "python",
   "pygments_lexer": "ipython2",
   "version": "2.7.14"
  }
 },
 "nbformat": 4,
 "nbformat_minor": 2
}
