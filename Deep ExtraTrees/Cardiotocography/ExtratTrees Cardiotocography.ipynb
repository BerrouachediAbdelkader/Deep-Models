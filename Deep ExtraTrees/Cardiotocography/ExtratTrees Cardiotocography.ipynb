{
 "cells": [
  {
   "cell_type": "code",
   "execution_count": 1,
   "metadata": {
    "collapsed": true
   },
   "outputs": [],
   "source": [
    "# imports \n",
    "import numpy as np\n",
    "from math import sqrt \n",
    "from pprint import pprint\n",
    "from numpy import array\n",
    "from scipy.io import arff\n",
    "import pandas as pd"
   ]
  },
  {
   "cell_type": "code",
   "execution_count": 2,
   "metadata": {},
   "outputs": [
    {
     "data": {
      "text/html": [
       "<div>\n",
       "<style>\n",
       "    .dataframe thead tr:only-child th {\n",
       "        text-align: right;\n",
       "    }\n",
       "\n",
       "    .dataframe thead th {\n",
       "        text-align: left;\n",
       "    }\n",
       "\n",
       "    .dataframe tbody tr th {\n",
       "        vertical-align: top;\n",
       "    }\n",
       "</style>\n",
       "<table border=\"1\" class=\"dataframe\">\n",
       "  <thead>\n",
       "    <tr style=\"text-align: right;\">\n",
       "      <th></th>\n",
       "      <th>LB</th>\n",
       "      <th>AC</th>\n",
       "      <th>FM</th>\n",
       "      <th>UC</th>\n",
       "      <th>ASTV</th>\n",
       "      <th>MSTV</th>\n",
       "      <th>ALTV</th>\n",
       "      <th>MLTV</th>\n",
       "      <th>DL</th>\n",
       "      <th>DS</th>\n",
       "      <th>...</th>\n",
       "      <th>Min</th>\n",
       "      <th>Max</th>\n",
       "      <th>Nmax</th>\n",
       "      <th>Nzeros</th>\n",
       "      <th>Mode</th>\n",
       "      <th>Mean</th>\n",
       "      <th>Median</th>\n",
       "      <th>Variance</th>\n",
       "      <th>Tendency</th>\n",
       "      <th>outlier</th>\n",
       "    </tr>\n",
       "  </thead>\n",
       "  <tbody>\n",
       "    <tr>\n",
       "      <th>0</th>\n",
       "      <td>146.0</td>\n",
       "      <td>0.0</td>\n",
       "      <td>0.0</td>\n",
       "      <td>5.0</td>\n",
       "      <td>65.0</td>\n",
       "      <td>0.4</td>\n",
       "      <td>33.0</td>\n",
       "      <td>7.4</td>\n",
       "      <td>0.0</td>\n",
       "      <td>0.0</td>\n",
       "      <td>...</td>\n",
       "      <td>134.0</td>\n",
       "      <td>164.0</td>\n",
       "      <td>1.0</td>\n",
       "      <td>0.0</td>\n",
       "      <td>150.0</td>\n",
       "      <td>149.0</td>\n",
       "      <td>151.0</td>\n",
       "      <td>1.0</td>\n",
       "      <td>0.0</td>\n",
       "      <td>1</td>\n",
       "    </tr>\n",
       "    <tr>\n",
       "      <th>1</th>\n",
       "      <td>128.0</td>\n",
       "      <td>0.0</td>\n",
       "      <td>0.0</td>\n",
       "      <td>2.0</td>\n",
       "      <td>86.0</td>\n",
       "      <td>0.3</td>\n",
       "      <td>79.0</td>\n",
       "      <td>2.9</td>\n",
       "      <td>0.0</td>\n",
       "      <td>0.0</td>\n",
       "      <td>...</td>\n",
       "      <td>114.0</td>\n",
       "      <td>130.0</td>\n",
       "      <td>0.0</td>\n",
       "      <td>0.0</td>\n",
       "      <td>128.0</td>\n",
       "      <td>126.0</td>\n",
       "      <td>129.0</td>\n",
       "      <td>0.0</td>\n",
       "      <td>1.0</td>\n",
       "      <td>1</td>\n",
       "    </tr>\n",
       "    <tr>\n",
       "      <th>2</th>\n",
       "      <td>149.0</td>\n",
       "      <td>0.0</td>\n",
       "      <td>0.0</td>\n",
       "      <td>5.0</td>\n",
       "      <td>61.0</td>\n",
       "      <td>0.4</td>\n",
       "      <td>34.0</td>\n",
       "      <td>5.6</td>\n",
       "      <td>0.0</td>\n",
       "      <td>0.0</td>\n",
       "      <td>...</td>\n",
       "      <td>148.0</td>\n",
       "      <td>160.0</td>\n",
       "      <td>1.0</td>\n",
       "      <td>0.0</td>\n",
       "      <td>154.0</td>\n",
       "      <td>153.0</td>\n",
       "      <td>155.0</td>\n",
       "      <td>0.0</td>\n",
       "      <td>0.0</td>\n",
       "      <td>1</td>\n",
       "    </tr>\n",
       "    <tr>\n",
       "      <th>3</th>\n",
       "      <td>122.0</td>\n",
       "      <td>0.0</td>\n",
       "      <td>0.0</td>\n",
       "      <td>0.0</td>\n",
       "      <td>83.0</td>\n",
       "      <td>0.5</td>\n",
       "      <td>6.0</td>\n",
       "      <td>15.6</td>\n",
       "      <td>0.0</td>\n",
       "      <td>0.0</td>\n",
       "      <td>...</td>\n",
       "      <td>62.0</td>\n",
       "      <td>130.0</td>\n",
       "      <td>0.0</td>\n",
       "      <td>0.0</td>\n",
       "      <td>122.0</td>\n",
       "      <td>122.0</td>\n",
       "      <td>123.0</td>\n",
       "      <td>3.0</td>\n",
       "      <td>1.0</td>\n",
       "      <td>1</td>\n",
       "    </tr>\n",
       "    <tr>\n",
       "      <th>4</th>\n",
       "      <td>134.0</td>\n",
       "      <td>0.0</td>\n",
       "      <td>4.0</td>\n",
       "      <td>0.0</td>\n",
       "      <td>79.0</td>\n",
       "      <td>0.2</td>\n",
       "      <td>42.0</td>\n",
       "      <td>5.5</td>\n",
       "      <td>0.0</td>\n",
       "      <td>0.0</td>\n",
       "      <td>...</td>\n",
       "      <td>128.0</td>\n",
       "      <td>145.0</td>\n",
       "      <td>2.0</td>\n",
       "      <td>0.0</td>\n",
       "      <td>135.0</td>\n",
       "      <td>135.0</td>\n",
       "      <td>136.0</td>\n",
       "      <td>1.0</td>\n",
       "      <td>0.0</td>\n",
       "      <td>1</td>\n",
       "    </tr>\n",
       "  </tbody>\n",
       "</table>\n",
       "<p>5 rows × 22 columns</p>\n",
       "</div>"
      ],
      "text/plain": [
       "      LB   AC   FM   UC  ASTV  MSTV  ALTV  MLTV   DL   DS   ...       Min  \\\n",
       "0  146.0  0.0  0.0  5.0  65.0   0.4  33.0   7.4  0.0  0.0   ...     134.0   \n",
       "1  128.0  0.0  0.0  2.0  86.0   0.3  79.0   2.9  0.0  0.0   ...     114.0   \n",
       "2  149.0  0.0  0.0  5.0  61.0   0.4  34.0   5.6  0.0  0.0   ...     148.0   \n",
       "3  122.0  0.0  0.0  0.0  83.0   0.5   6.0  15.6  0.0  0.0   ...      62.0   \n",
       "4  134.0  0.0  4.0  0.0  79.0   0.2  42.0   5.5  0.0  0.0   ...     128.0   \n",
       "\n",
       "     Max  Nmax  Nzeros   Mode   Mean  Median  Variance  Tendency  outlier  \n",
       "0  164.0   1.0     0.0  150.0  149.0   151.0       1.0       0.0        1  \n",
       "1  130.0   0.0     0.0  128.0  126.0   129.0       0.0       1.0        1  \n",
       "2  160.0   1.0     0.0  154.0  153.0   155.0       0.0       0.0        1  \n",
       "3  130.0   0.0     0.0  122.0  122.0   123.0       3.0       1.0        1  \n",
       "4  145.0   2.0     0.0  135.0  135.0   136.0       1.0       0.0        1  \n",
       "\n",
       "[5 rows x 22 columns]"
      ]
     },
     "execution_count": 2,
     "metadata": {},
     "output_type": "execute_result"
    }
   ],
   "source": [
    "# load data\n",
    "\n",
    "df=pd.read_csv('Cardiotocography_02_v10.csv')  \n",
    "\n",
    "del df['id']\n",
    "del df['Unnamed: 0']\n",
    "df['outlier'] = df.outlier.apply(lambda label: 1 if label == \"'yes'\" else 0)\n",
    "\n",
    "df.head()"
   ]
  },
  {
   "cell_type": "code",
   "execution_count": 3,
   "metadata": {},
   "outputs": [
    {
     "data": {
      "text/plain": [
       "(1688, 22)"
      ]
     },
     "execution_count": 3,
     "metadata": {},
     "output_type": "execute_result"
    }
   ],
   "source": [
    "df.shape"
   ]
  },
  {
   "cell_type": "code",
   "execution_count": 4,
   "metadata": {
    "collapsed": true
   },
   "outputs": [],
   "source": [
    "# data to values\n",
    "df = df.values"
   ]
  },
  {
   "cell_type": "code",
   "execution_count": 5,
   "metadata": {
    "collapsed": true
   },
   "outputs": [],
   "source": [
    "# Extratrees Deep\n",
    "import argparse\n",
    "import sys\n",
    "import pickle\n",
    "from sklearn.metrics import accuracy_score\n",
    "sys.path.insert(0, \"lib\")\n",
    "from gcforest.gcforest import GCForest\n",
    "from gcforest.utils.config_utils import load_json\n",
    "config = load_json(\"./examples/Cardiotocography.json\")\n",
    "gc = GCForest(config)"
   ]
  },
  {
   "cell_type": "code",
   "execution_count": 7,
   "metadata": {
    "collapsed": true
   },
   "outputs": [],
   "source": [
    "# train test \n",
    "from sklearn.cross_validation import train_test_split\n",
    "y = df[:,21]\n",
    "X = df[:,0:21]\n",
    "\n",
    "X_train,X_test,y_train,y_test = train_test_split(X, y, test_size=0.33, random_state=42)"
   ]
  },
  {
   "cell_type": "code",
   "execution_count": 7,
   "metadata": {},
   "outputs": [
    {
     "data": {
      "text/plain": [
       "2"
      ]
     },
     "execution_count": 7,
     "metadata": {},
     "output_type": "execute_result"
    }
   ],
   "source": [
    "# number of class\n",
    "len(np.unique(y_train))"
   ]
  },
  {
   "cell_type": "code",
   "execution_count": 8,
   "metadata": {},
   "outputs": [
    {
     "name": "stderr",
     "output_type": "stream",
     "text": [
      "[ 2018-04-25 00:27:13,582][cascade_classifier.fit_transform] X_groups_train.shape=[(1130, 21)],y_train.shape=(1130,),X_groups_test.shape=[(558, 21)],y_test.shape=(558,)\n",
      "[ 2018-04-25 00:27:13,584][cascade_classifier.fit_transform] group_dims=[21]\n",
      "[ 2018-04-25 00:27:13,586][cascade_classifier.fit_transform] group_starts=[0]\n",
      "[ 2018-04-25 00:27:13,588][cascade_classifier.fit_transform] group_ends=[21]\n",
      "[ 2018-04-25 00:27:13,589][cascade_classifier.fit_transform] X_train.shape=(1130, 21),X_test.shape=(558, 21)\n",
      "[ 2018-04-25 00:27:13,591][cascade_classifier.fit_transform] [layer=0] look_indexs=[0], X_cur_train.shape=(1130, 21), X_cur_test.shape=(558, 21)\n",
      "[ 2018-04-25 00:27:14,271][kfold_wrapper.log_eval_metrics] Accuracy(layer_0 - estimator_0 - 10_folds.train_0.predict)=97.37%\n",
      "[ 2018-04-25 00:27:15,123][kfold_wrapper.log_eval_metrics] Accuracy(layer_0 - estimator_0 - 10_folds.train_1.predict)=97.37%\n",
      "[ 2018-04-25 00:27:15,892][kfold_wrapper.log_eval_metrics] Accuracy(layer_0 - estimator_0 - 10_folds.train_2.predict)=97.37%\n",
      "[ 2018-04-25 00:27:16,652][kfold_wrapper.log_eval_metrics] Accuracy(layer_0 - estimator_0 - 10_folds.train_3.predict)=98.25%\n",
      "[ 2018-04-25 00:27:17,463][kfold_wrapper.log_eval_metrics] Accuracy(layer_0 - estimator_0 - 10_folds.train_4.predict)=98.23%\n",
      "[ 2018-04-25 00:27:18,232][kfold_wrapper.log_eval_metrics] Accuracy(layer_0 - estimator_0 - 10_folds.train_5.predict)=96.46%\n",
      "[ 2018-04-25 00:27:19,048][kfold_wrapper.log_eval_metrics] Accuracy(layer_0 - estimator_0 - 10_folds.train_6.predict)=98.21%\n",
      "[ 2018-04-25 00:27:19,797][kfold_wrapper.log_eval_metrics] Accuracy(layer_0 - estimator_0 - 10_folds.train_7.predict)=98.21%\n",
      "[ 2018-04-25 00:27:20,713][kfold_wrapper.log_eval_metrics] Accuracy(layer_0 - estimator_0 - 10_folds.train_8.predict)=98.21%\n",
      "[ 2018-04-25 00:27:21,484][kfold_wrapper.log_eval_metrics] Accuracy(layer_0 - estimator_0 - 10_folds.train_9.predict)=98.21%\n",
      "[ 2018-04-25 00:27:21,636][kfold_wrapper.log_eval_metrics] Accuracy(layer_0 - estimator_0 - 10_folds.train_cv.predict)=97.79%\n",
      "[ 2018-04-25 00:27:21,638][kfold_wrapper.log_eval_metrics] Accuracy(layer_0 - estimator_0 - 10_folds.test.predict)=98.57%\n",
      "[ 2018-04-25 00:27:21,640][cascade_classifier.calc_accuracy] Accuracy(layer_0 - train.classifier_average)=97.79%\n",
      "[ 2018-04-25 00:27:21,641][cascade_classifier.calc_accuracy] Accuracy(layer_0 - test.classifier_average)=98.57%\n",
      "[ 2018-04-25 00:27:21,643][cascade_classifier.fit_transform] [Result][Reach Max Layer] opt_layer_num=1, accuracy_train=97.79%, accuracy_test=98.57%\n"
     ]
    }
   ],
   "source": [
    "         # X_enc is the concatenated predict_proba result of ExtraTrees\n",
    "\n",
    "X_train_enc, X_test_enc = gc.fit_transform(X_train, y_train, X_test=X_test, y_test=y_test)\n",
    "   "
   ]
  },
  {
   "cell_type": "code",
   "execution_count": 9,
   "metadata": {},
   "outputs": [
    {
     "name": "stderr",
     "output_type": "stream",
     "text": [
      "[ 2018-04-25 00:27:21,654][cascade_classifier.transform] X_groups_test.shape=[(558, 21)]\n",
      "[ 2018-04-25 00:27:21,656][cascade_classifier.transform] group_dims=[21]\n",
      "[ 2018-04-25 00:27:21,659][cascade_classifier.transform] X_test.shape=(558, 21)\n",
      "[ 2018-04-25 00:27:21,661][cascade_classifier.transform] [layer=0] look_indexs=[0], X_cur_test.shape=(558, 21)\n"
     ]
    },
    {
     "name": "stdout",
     "output_type": "stream",
     "text": [
      "Test Accuracy of ExtraTrees = 98.566308 %\n"
     ]
    }
   ],
   "source": [
    "# predict\n",
    "y_pred = gc.predict(X_test)\n",
    "acc = accuracy_score(y_test, y_pred)\n",
    "print(\"Test Accuracy of ExtraTrees = {:.6f} %\".format(acc * 100))"
   ]
  },
  {
   "cell_type": "code",
   "execution_count": 10,
   "metadata": {},
   "outputs": [
    {
     "name": "stderr",
     "output_type": "stream",
     "text": [
      "[ 2018-04-25 00:27:23,149][cascade_classifier.transform] X_groups_test.shape=[(558, 21)]\n",
      "[ 2018-04-25 00:27:23,151][cascade_classifier.transform] group_dims=[21]\n",
      "[ 2018-04-25 00:27:23,152][cascade_classifier.transform] X_test.shape=(558, 21)\n",
      "[ 2018-04-25 00:27:23,155][cascade_classifier.transform] [layer=0] look_indexs=[0], X_cur_test.shape=(558, 21)\n"
     ]
    }
   ],
   "source": [
    "# Make data + estimators\n",
    "X_test_enc = gc.transform(X_test)\n",
    "X_train_enc = X_train_enc.reshape((X_train_enc.shape[0], -1))\n",
    "X_test_enc = X_test_enc.reshape((X_test_enc.shape[0], -1))\n",
    "X_train_origin = X_train.reshape((X_train.shape[0], -1))\n",
    "X_test_origin = X_test.reshape((X_test.shape[0], -1))\n",
    "X_train_enc = np.hstack((X_train_origin, X_train_enc))\n",
    "X_test_enc = np.hstack((X_test_origin, X_test_enc))"
   ]
  },
  {
   "cell_type": "code",
   "execution_count": 11,
   "metadata": {},
   "outputs": [
    {
     "name": "stderr",
     "output_type": "stream",
     "text": [
      "[ 2018-04-25 00:27:24,776][cascade_classifier.fit_transform] X_groups_train.shape=[(1130, 23)],y_train.shape=(1130,),X_groups_test.shape=[(558, 23)],y_test.shape=(558,)\n",
      "[ 2018-04-25 00:27:24,779][cascade_classifier.fit_transform] group_dims=[23]\n",
      "[ 2018-04-25 00:27:24,780][cascade_classifier.fit_transform] group_starts=[0]\n",
      "[ 2018-04-25 00:27:24,782][cascade_classifier.fit_transform] group_ends=[23]\n",
      "[ 2018-04-25 00:27:24,784][cascade_classifier.fit_transform] X_train.shape=(1130, 23),X_test.shape=(558, 23)\n",
      "[ 2018-04-25 00:27:24,787][cascade_classifier.fit_transform] [layer=0] look_indexs=[0], X_cur_train.shape=(1130, 23), X_cur_test.shape=(558, 23)\n",
      "[ 2018-04-25 00:27:25,448][kfold_wrapper.log_eval_metrics] Accuracy(layer_0 - estimator_0 - 10_folds.train_0.predict)=98.25%\n",
      "[ 2018-04-25 00:27:26,205][kfold_wrapper.log_eval_metrics] Accuracy(layer_0 - estimator_0 - 10_folds.train_1.predict)=97.37%\n",
      "[ 2018-04-25 00:27:27,013][kfold_wrapper.log_eval_metrics] Accuracy(layer_0 - estimator_0 - 10_folds.train_2.predict)=97.37%\n",
      "[ 2018-04-25 00:27:27,851][kfold_wrapper.log_eval_metrics] Accuracy(layer_0 - estimator_0 - 10_folds.train_3.predict)=98.25%\n",
      "[ 2018-04-25 00:27:28,645][kfold_wrapper.log_eval_metrics] Accuracy(layer_0 - estimator_0 - 10_folds.train_4.predict)=98.23%\n",
      "[ 2018-04-25 00:27:29,438][kfold_wrapper.log_eval_metrics] Accuracy(layer_0 - estimator_0 - 10_folds.train_5.predict)=97.35%\n",
      "[ 2018-04-25 00:27:30,255][kfold_wrapper.log_eval_metrics] Accuracy(layer_0 - estimator_0 - 10_folds.train_6.predict)=99.11%\n",
      "[ 2018-04-25 00:27:31,171][kfold_wrapper.log_eval_metrics] Accuracy(layer_0 - estimator_0 - 10_folds.train_7.predict)=99.11%\n",
      "[ 2018-04-25 00:27:31,984][kfold_wrapper.log_eval_metrics] Accuracy(layer_0 - estimator_0 - 10_folds.train_8.predict)=99.11%\n",
      "[ 2018-04-25 00:27:32,776][kfold_wrapper.log_eval_metrics] Accuracy(layer_0 - estimator_0 - 10_folds.train_9.predict)=98.21%\n",
      "[ 2018-04-25 00:27:32,924][kfold_wrapper.log_eval_metrics] Accuracy(layer_0 - estimator_0 - 10_folds.train_cv.predict)=98.23%\n",
      "[ 2018-04-25 00:27:32,925][kfold_wrapper.log_eval_metrics] Accuracy(layer_0 - estimator_0 - 10_folds.test.predict)=99.10%\n",
      "[ 2018-04-25 00:27:32,931][cascade_classifier.calc_accuracy] Accuracy(layer_0 - train.classifier_average)=98.23%\n",
      "[ 2018-04-25 00:27:32,932][cascade_classifier.calc_accuracy] Accuracy(layer_0 - test.classifier_average)=99.10%\n",
      "[ 2018-04-25 00:27:32,934][cascade_classifier.fit_transform] [Result][Reach Max Layer] opt_layer_num=1, accuracy_train=98.23%, accuracy_test=99.10%\n"
     ]
    }
   ],
   "source": [
    "# New data\n",
    "X_train=X_train_enc\n",
    "X_test=X_test_enc \n",
    "X_train_enc, X_test_enc = gc.fit_transform(X_train, y_train, X_test=X_test, y_test=y_test)"
   ]
  },
  {
   "cell_type": "code",
   "execution_count": 12,
   "metadata": {},
   "outputs": [
    {
     "name": "stderr",
     "output_type": "stream",
     "text": [
      "[ 2018-04-25 00:27:32,945][cascade_classifier.transform] X_groups_test.shape=[(558, 23)]\n",
      "[ 2018-04-25 00:27:32,947][cascade_classifier.transform] group_dims=[23]\n",
      "[ 2018-04-25 00:27:32,950][cascade_classifier.transform] X_test.shape=(558, 23)\n",
      "[ 2018-04-25 00:27:32,952][cascade_classifier.transform] [layer=0] look_indexs=[0], X_cur_test.shape=(558, 23)\n"
     ]
    },
    {
     "name": "stdout",
     "output_type": "stream",
     "text": [
      "Test Accuracy of ExtraTrees = 99.103943 %\n"
     ]
    }
   ],
   "source": [
    "# predict  data + Es\n",
    "y_pred = gc.predict(X_test)\n",
    "acc = accuracy_score(y_test, y_pred)\n",
    "print(\"Test Accuracy of ExtraTrees = {:.6f} %\".format(acc * 100))"
   ]
  },
  {
   "cell_type": "code",
   "execution_count": 13,
   "metadata": {
    "collapsed": true
   },
   "outputs": [],
   "source": [
    "def update(X_train,X_test):\n",
    "    # update Estimators\n",
    "    M = np.delete(X_train, (-1), axis=1)\n",
    "    X_train= np.delete(M, (-1), axis=1)\n",
    "    M = np.delete(X_test, (-1), axis=1)\n",
    "    X_test = np.delete(M, (-1), axis=1)\n",
    "    return X_train,X_test\n",
    "\n",
    "def newdata(X_test_enc, X_train_enc):\n",
    "    # Make Data + Estimators\n",
    "    X_train_origin = X_train.reshape((X_train.shape[0], -1))\n",
    "    X_test_origin = X_test.reshape((X_test.shape[0], -1))\n",
    "    X_train_enc = np.hstack((X_train_origin, X_train_enc))\n",
    "    X_test_enc = np.hstack((X_test_origin, X_test_enc))\n",
    "    return X_test_enc, X_train_enc\n",
    "\n",
    "def affiche():\n",
    "    # predict\n",
    "    y_pred = gc.predict(X_test)\n",
    "    acc = accuracy_score(y_test, y_pred)\n",
    "    print(\"Test Accuracy of ExtraTrees = {:.6f} %\".format(acc * 100),i,'fois')"
   ]
  },
  {
   "cell_type": "code",
   "execution_count": 14,
   "metadata": {},
   "outputs": [
    {
     "name": "stderr",
     "output_type": "stream",
     "text": [
      "[ 2018-04-25 00:27:34,462][cascade_classifier.fit_transform] X_groups_train.shape=[(1130, 23)],y_train.shape=(1130,),X_groups_test.shape=[(558, 23)],y_test.shape=(558,)\n",
      "[ 2018-04-25 00:27:34,464][cascade_classifier.fit_transform] group_dims=[23]\n",
      "[ 2018-04-25 00:27:34,465][cascade_classifier.fit_transform] group_starts=[0]\n",
      "[ 2018-04-25 00:27:34,467][cascade_classifier.fit_transform] group_ends=[23]\n",
      "[ 2018-04-25 00:27:34,469][cascade_classifier.fit_transform] X_train.shape=(1130, 23),X_test.shape=(558, 23)\n",
      "[ 2018-04-25 00:27:34,471][cascade_classifier.fit_transform] [layer=0] look_indexs=[0], X_cur_train.shape=(1130, 23), X_cur_test.shape=(558, 23)\n",
      "[ 2018-04-25 00:27:35,100][kfold_wrapper.log_eval_metrics] Accuracy(layer_0 - estimator_0 - 10_folds.train_0.predict)=98.25%\n",
      "[ 2018-04-25 00:27:36,039][kfold_wrapper.log_eval_metrics] Accuracy(layer_0 - estimator_0 - 10_folds.train_1.predict)=95.61%\n",
      "[ 2018-04-25 00:27:36,856][kfold_wrapper.log_eval_metrics] Accuracy(layer_0 - estimator_0 - 10_folds.train_2.predict)=94.74%\n",
      "[ 2018-04-25 00:27:37,683][kfold_wrapper.log_eval_metrics] Accuracy(layer_0 - estimator_0 - 10_folds.train_3.predict)=98.25%\n",
      "[ 2018-04-25 00:27:38,493][kfold_wrapper.log_eval_metrics] Accuracy(layer_0 - estimator_0 - 10_folds.train_4.predict)=98.23%\n",
      "[ 2018-04-25 00:27:39,295][kfold_wrapper.log_eval_metrics] Accuracy(layer_0 - estimator_0 - 10_folds.train_5.predict)=97.35%\n",
      "[ 2018-04-25 00:27:40,142][kfold_wrapper.log_eval_metrics] Accuracy(layer_0 - estimator_0 - 10_folds.train_6.predict)=99.11%\n",
      "[ 2018-04-25 00:27:40,969][kfold_wrapper.log_eval_metrics] Accuracy(layer_0 - estimator_0 - 10_folds.train_7.predict)=99.11%\n",
      "[ 2018-04-25 00:27:41,784][kfold_wrapper.log_eval_metrics] Accuracy(layer_0 - estimator_0 - 10_folds.train_8.predict)=99.11%\n",
      "[ 2018-04-25 00:27:42,641][kfold_wrapper.log_eval_metrics] Accuracy(layer_0 - estimator_0 - 10_folds.train_9.predict)=98.21%\n",
      "[ 2018-04-25 00:27:42,791][kfold_wrapper.log_eval_metrics] Accuracy(layer_0 - estimator_0 - 10_folds.train_cv.predict)=97.79%\n",
      "[ 2018-04-25 00:27:42,793][kfold_wrapper.log_eval_metrics] Accuracy(layer_0 - estimator_0 - 10_folds.test.predict)=98.92%\n",
      "[ 2018-04-25 00:27:42,798][cascade_classifier.calc_accuracy] Accuracy(layer_0 - train.classifier_average)=97.79%\n",
      "[ 2018-04-25 00:27:42,800][cascade_classifier.calc_accuracy] Accuracy(layer_0 - test.classifier_average)=98.92%\n",
      "[ 2018-04-25 00:27:42,802][cascade_classifier.fit_transform] [Result][Reach Max Layer] opt_layer_num=1, accuracy_train=97.79%, accuracy_test=98.92%\n",
      "[ 2018-04-25 00:27:42,804][cascade_classifier.transform] X_groups_test.shape=[(558, 23)]\n",
      "[ 2018-04-25 00:27:42,806][cascade_classifier.transform] group_dims=[23]\n",
      "[ 2018-04-25 00:27:42,807][cascade_classifier.transform] X_test.shape=(558, 23)\n",
      "[ 2018-04-25 00:27:42,809][cascade_classifier.transform] [layer=0] look_indexs=[0], X_cur_test.shape=(558, 23)\n",
      "[ 2018-04-25 00:27:44,285][cascade_classifier.fit_transform] X_groups_train.shape=[(1130, 23)],y_train.shape=(1130,),X_groups_test.shape=[(558, 23)],y_test.shape=(558,)\n",
      "[ 2018-04-25 00:27:44,287][cascade_classifier.fit_transform] group_dims=[23]\n",
      "[ 2018-04-25 00:27:44,289][cascade_classifier.fit_transform] group_starts=[0]\n",
      "[ 2018-04-25 00:27:44,290][cascade_classifier.fit_transform] group_ends=[23]\n",
      "[ 2018-04-25 00:27:44,292][cascade_classifier.fit_transform] X_train.shape=(1130, 23),X_test.shape=(558, 23)\n",
      "[ 2018-04-25 00:27:44,294][cascade_classifier.fit_transform] [layer=0] look_indexs=[0], X_cur_train.shape=(1130, 23), X_cur_test.shape=(558, 23)\n"
     ]
    },
    {
     "name": "stdout",
     "output_type": "stream",
     "text": [
      "('Test Accuracy of ExtraTrees = 98.924731 %', 0, 'fois')\n"
     ]
    },
    {
     "name": "stderr",
     "output_type": "stream",
     "text": [
      "[ 2018-04-25 00:27:44,942][kfold_wrapper.log_eval_metrics] Accuracy(layer_0 - estimator_0 - 10_folds.train_0.predict)=98.25%\n",
      "[ 2018-04-25 00:27:45,751][kfold_wrapper.log_eval_metrics] Accuracy(layer_0 - estimator_0 - 10_folds.train_1.predict)=95.61%\n",
      "[ 2018-04-25 00:27:46,579][kfold_wrapper.log_eval_metrics] Accuracy(layer_0 - estimator_0 - 10_folds.train_2.predict)=94.74%\n",
      "[ 2018-04-25 00:27:47,420][kfold_wrapper.log_eval_metrics] Accuracy(layer_0 - estimator_0 - 10_folds.train_3.predict)=98.25%\n",
      "[ 2018-04-25 00:27:48,228][kfold_wrapper.log_eval_metrics] Accuracy(layer_0 - estimator_0 - 10_folds.train_4.predict)=98.23%\n",
      "[ 2018-04-25 00:27:49,005][kfold_wrapper.log_eval_metrics] Accuracy(layer_0 - estimator_0 - 10_folds.train_5.predict)=97.35%\n",
      "[ 2018-04-25 00:27:49,838][kfold_wrapper.log_eval_metrics] Accuracy(layer_0 - estimator_0 - 10_folds.train_6.predict)=99.11%\n",
      "[ 2018-04-25 00:27:50,647][kfold_wrapper.log_eval_metrics] Accuracy(layer_0 - estimator_0 - 10_folds.train_7.predict)=98.21%\n",
      "[ 2018-04-25 00:27:51,433][kfold_wrapper.log_eval_metrics] Accuracy(layer_0 - estimator_0 - 10_folds.train_8.predict)=99.11%\n",
      "[ 2018-04-25 00:27:52,226][kfold_wrapper.log_eval_metrics] Accuracy(layer_0 - estimator_0 - 10_folds.train_9.predict)=98.21%\n",
      "[ 2018-04-25 00:27:52,396][kfold_wrapper.log_eval_metrics] Accuracy(layer_0 - estimator_0 - 10_folds.train_cv.predict)=97.70%\n",
      "[ 2018-04-25 00:27:52,398][kfold_wrapper.log_eval_metrics] Accuracy(layer_0 - estimator_0 - 10_folds.test.predict)=99.28%\n",
      "[ 2018-04-25 00:27:52,411][cascade_classifier.calc_accuracy] Accuracy(layer_0 - train.classifier_average)=97.70%\n",
      "[ 2018-04-25 00:27:52,412][cascade_classifier.calc_accuracy] Accuracy(layer_0 - test.classifier_average)=99.28%\n",
      "[ 2018-04-25 00:27:52,414][cascade_classifier.fit_transform] [Result][Reach Max Layer] opt_layer_num=1, accuracy_train=97.70%, accuracy_test=99.28%\n",
      "[ 2018-04-25 00:27:52,416][cascade_classifier.transform] X_groups_test.shape=[(558, 23)]\n",
      "[ 2018-04-25 00:27:52,493][cascade_classifier.transform] group_dims=[23]\n",
      "[ 2018-04-25 00:27:52,495][cascade_classifier.transform] X_test.shape=(558, 23)\n",
      "[ 2018-04-25 00:27:52,496][cascade_classifier.transform] [layer=0] look_indexs=[0], X_cur_test.shape=(558, 23)\n",
      "[ 2018-04-25 00:27:53,953][cascade_classifier.fit_transform] X_groups_train.shape=[(1130, 23)],y_train.shape=(1130,),X_groups_test.shape=[(558, 23)],y_test.shape=(558,)\n",
      "[ 2018-04-25 00:27:53,955][cascade_classifier.fit_transform] group_dims=[23]\n",
      "[ 2018-04-25 00:27:53,957][cascade_classifier.fit_transform] group_starts=[0]\n",
      "[ 2018-04-25 00:27:53,958][cascade_classifier.fit_transform] group_ends=[23]\n",
      "[ 2018-04-25 00:27:53,960][cascade_classifier.fit_transform] X_train.shape=(1130, 23),X_test.shape=(558, 23)\n",
      "[ 2018-04-25 00:27:53,962][cascade_classifier.fit_transform] [layer=0] look_indexs=[0], X_cur_train.shape=(1130, 23), X_cur_test.shape=(558, 23)\n"
     ]
    },
    {
     "name": "stdout",
     "output_type": "stream",
     "text": [
      "('Test Accuracy of ExtraTrees = 99.283154 %', 1, 'fois')\n"
     ]
    },
    {
     "name": "stderr",
     "output_type": "stream",
     "text": [
      "[ 2018-04-25 00:27:54,612][kfold_wrapper.log_eval_metrics] Accuracy(layer_0 - estimator_0 - 10_folds.train_0.predict)=98.25%\n",
      "[ 2018-04-25 00:27:55,402][kfold_wrapper.log_eval_metrics] Accuracy(layer_0 - estimator_0 - 10_folds.train_1.predict)=94.74%\n",
      "[ 2018-04-25 00:27:56,217][kfold_wrapper.log_eval_metrics] Accuracy(layer_0 - estimator_0 - 10_folds.train_2.predict)=94.74%\n",
      "[ 2018-04-25 00:27:57,034][kfold_wrapper.log_eval_metrics] Accuracy(layer_0 - estimator_0 - 10_folds.train_3.predict)=98.25%\n",
      "[ 2018-04-25 00:27:57,867][kfold_wrapper.log_eval_metrics] Accuracy(layer_0 - estimator_0 - 10_folds.train_4.predict)=98.23%\n",
      "[ 2018-04-25 00:27:58,686][kfold_wrapper.log_eval_metrics] Accuracy(layer_0 - estimator_0 - 10_folds.train_5.predict)=97.35%\n",
      "[ 2018-04-25 00:27:59,620][kfold_wrapper.log_eval_metrics] Accuracy(layer_0 - estimator_0 - 10_folds.train_6.predict)=99.11%\n",
      "[ 2018-04-25 00:28:00,382][kfold_wrapper.log_eval_metrics] Accuracy(layer_0 - estimator_0 - 10_folds.train_7.predict)=97.32%\n",
      "[ 2018-04-25 00:28:01,204][kfold_wrapper.log_eval_metrics] Accuracy(layer_0 - estimator_0 - 10_folds.train_8.predict)=99.11%\n",
      "[ 2018-04-25 00:28:02,000][kfold_wrapper.log_eval_metrics] Accuracy(layer_0 - estimator_0 - 10_folds.train_9.predict)=98.21%\n",
      "[ 2018-04-25 00:28:02,150][kfold_wrapper.log_eval_metrics] Accuracy(layer_0 - estimator_0 - 10_folds.train_cv.predict)=97.52%\n",
      "[ 2018-04-25 00:28:02,152][kfold_wrapper.log_eval_metrics] Accuracy(layer_0 - estimator_0 - 10_folds.test.predict)=99.10%\n",
      "[ 2018-04-25 00:28:02,157][cascade_classifier.calc_accuracy] Accuracy(layer_0 - train.classifier_average)=97.52%\n",
      "[ 2018-04-25 00:28:02,158][cascade_classifier.calc_accuracy] Accuracy(layer_0 - test.classifier_average)=99.10%\n",
      "[ 2018-04-25 00:28:02,160][cascade_classifier.fit_transform] [Result][Reach Max Layer] opt_layer_num=1, accuracy_train=97.52%, accuracy_test=99.10%\n",
      "[ 2018-04-25 00:28:02,162][cascade_classifier.transform] X_groups_test.shape=[(558, 23)]\n",
      "[ 2018-04-25 00:28:02,164][cascade_classifier.transform] group_dims=[23]\n",
      "[ 2018-04-25 00:28:02,165][cascade_classifier.transform] X_test.shape=(558, 23)\n",
      "[ 2018-04-25 00:28:02,167][cascade_classifier.transform] [layer=0] look_indexs=[0], X_cur_test.shape=(558, 23)\n",
      "[ 2018-04-25 00:28:03,633][cascade_classifier.fit_transform] X_groups_train.shape=[(1130, 23)],y_train.shape=(1130,),X_groups_test.shape=[(558, 23)],y_test.shape=(558,)\n",
      "[ 2018-04-25 00:28:03,636][cascade_classifier.fit_transform] group_dims=[23]\n",
      "[ 2018-04-25 00:28:03,637][cascade_classifier.fit_transform] group_starts=[0]\n",
      "[ 2018-04-25 00:28:03,639][cascade_classifier.fit_transform] group_ends=[23]\n",
      "[ 2018-04-25 00:28:03,641][cascade_classifier.fit_transform] X_train.shape=(1130, 23),X_test.shape=(558, 23)\n",
      "[ 2018-04-25 00:28:03,643][cascade_classifier.fit_transform] [layer=0] look_indexs=[0], X_cur_train.shape=(1130, 23), X_cur_test.shape=(558, 23)\n"
     ]
    },
    {
     "name": "stdout",
     "output_type": "stream",
     "text": [
      "('Test Accuracy of ExtraTrees = 99.103943 %', 2, 'fois')\n"
     ]
    },
    {
     "name": "stderr",
     "output_type": "stream",
     "text": [
      "[ 2018-04-25 00:28:04,359][kfold_wrapper.log_eval_metrics] Accuracy(layer_0 - estimator_0 - 10_folds.train_0.predict)=97.37%\n",
      "[ 2018-04-25 00:28:05,180][kfold_wrapper.log_eval_metrics] Accuracy(layer_0 - estimator_0 - 10_folds.train_1.predict)=93.86%\n",
      "[ 2018-04-25 00:28:06,049][kfold_wrapper.log_eval_metrics] Accuracy(layer_0 - estimator_0 - 10_folds.train_2.predict)=94.74%\n",
      "[ 2018-04-25 00:28:06,888][kfold_wrapper.log_eval_metrics] Accuracy(layer_0 - estimator_0 - 10_folds.train_3.predict)=98.25%\n",
      "[ 2018-04-25 00:28:07,707][kfold_wrapper.log_eval_metrics] Accuracy(layer_0 - estimator_0 - 10_folds.train_4.predict)=98.23%\n",
      "[ 2018-04-25 00:28:08,544][kfold_wrapper.log_eval_metrics] Accuracy(layer_0 - estimator_0 - 10_folds.train_5.predict)=96.46%\n",
      "[ 2018-04-25 00:28:09,358][kfold_wrapper.log_eval_metrics] Accuracy(layer_0 - estimator_0 - 10_folds.train_6.predict)=99.11%\n",
      "[ 2018-04-25 00:28:10,181][kfold_wrapper.log_eval_metrics] Accuracy(layer_0 - estimator_0 - 10_folds.train_7.predict)=99.11%\n",
      "[ 2018-04-25 00:28:10,958][kfold_wrapper.log_eval_metrics] Accuracy(layer_0 - estimator_0 - 10_folds.train_8.predict)=99.11%\n",
      "[ 2018-04-25 00:28:11,773][kfold_wrapper.log_eval_metrics] Accuracy(layer_0 - estimator_0 - 10_folds.train_9.predict)=98.21%\n",
      "[ 2018-04-25 00:28:12,040][kfold_wrapper.log_eval_metrics] Accuracy(layer_0 - estimator_0 - 10_folds.train_cv.predict)=97.43%\n",
      "[ 2018-04-25 00:28:12,042][kfold_wrapper.log_eval_metrics] Accuracy(layer_0 - estimator_0 - 10_folds.test.predict)=98.92%\n",
      "[ 2018-04-25 00:28:12,049][cascade_classifier.calc_accuracy] Accuracy(layer_0 - train.classifier_average)=97.43%\n",
      "[ 2018-04-25 00:28:12,050][cascade_classifier.calc_accuracy] Accuracy(layer_0 - test.classifier_average)=98.92%\n",
      "[ 2018-04-25 00:28:12,052][cascade_classifier.fit_transform] [Result][Reach Max Layer] opt_layer_num=1, accuracy_train=97.43%, accuracy_test=98.92%\n",
      "[ 2018-04-25 00:28:12,054][cascade_classifier.transform] X_groups_test.shape=[(558, 23)]\n",
      "[ 2018-04-25 00:28:12,056][cascade_classifier.transform] group_dims=[23]\n",
      "[ 2018-04-25 00:28:12,057][cascade_classifier.transform] X_test.shape=(558, 23)\n",
      "[ 2018-04-25 00:28:12,059][cascade_classifier.transform] [layer=0] look_indexs=[0], X_cur_test.shape=(558, 23)\n",
      "[ 2018-04-25 00:28:13,562][cascade_classifier.fit_transform] X_groups_train.shape=[(1130, 23)],y_train.shape=(1130,),X_groups_test.shape=[(558, 23)],y_test.shape=(558,)\n",
      "[ 2018-04-25 00:28:13,565][cascade_classifier.fit_transform] group_dims=[23]\n",
      "[ 2018-04-25 00:28:13,566][cascade_classifier.fit_transform] group_starts=[0]\n",
      "[ 2018-04-25 00:28:13,568][cascade_classifier.fit_transform] group_ends=[23]\n",
      "[ 2018-04-25 00:28:13,570][cascade_classifier.fit_transform] X_train.shape=(1130, 23),X_test.shape=(558, 23)\n",
      "[ 2018-04-25 00:28:13,572][cascade_classifier.fit_transform] [layer=0] look_indexs=[0], X_cur_train.shape=(1130, 23), X_cur_test.shape=(558, 23)\n"
     ]
    },
    {
     "name": "stdout",
     "output_type": "stream",
     "text": [
      "('Test Accuracy of ExtraTrees = 98.924731 %', 3, 'fois')\n"
     ]
    },
    {
     "name": "stderr",
     "output_type": "stream",
     "text": [
      "[ 2018-04-25 00:28:14,249][kfold_wrapper.log_eval_metrics] Accuracy(layer_0 - estimator_0 - 10_folds.train_0.predict)=98.25%\n",
      "[ 2018-04-25 00:28:15,052][kfold_wrapper.log_eval_metrics] Accuracy(layer_0 - estimator_0 - 10_folds.train_1.predict)=93.86%\n",
      "[ 2018-04-25 00:28:15,822][kfold_wrapper.log_eval_metrics] Accuracy(layer_0 - estimator_0 - 10_folds.train_2.predict)=94.74%\n",
      "[ 2018-04-25 00:28:16,617][kfold_wrapper.log_eval_metrics] Accuracy(layer_0 - estimator_0 - 10_folds.train_3.predict)=98.25%\n",
      "[ 2018-04-25 00:28:17,402][kfold_wrapper.log_eval_metrics] Accuracy(layer_0 - estimator_0 - 10_folds.train_4.predict)=98.23%\n",
      "[ 2018-04-25 00:28:18,266][kfold_wrapper.log_eval_metrics] Accuracy(layer_0 - estimator_0 - 10_folds.train_5.predict)=97.35%\n",
      "[ 2018-04-25 00:28:19,069][kfold_wrapper.log_eval_metrics] Accuracy(layer_0 - estimator_0 - 10_folds.train_6.predict)=99.11%\n",
      "[ 2018-04-25 00:28:19,905][kfold_wrapper.log_eval_metrics] Accuracy(layer_0 - estimator_0 - 10_folds.train_7.predict)=98.21%\n",
      "[ 2018-04-25 00:28:20,727][kfold_wrapper.log_eval_metrics] Accuracy(layer_0 - estimator_0 - 10_folds.train_8.predict)=99.11%\n",
      "[ 2018-04-25 00:28:21,510][kfold_wrapper.log_eval_metrics] Accuracy(layer_0 - estimator_0 - 10_folds.train_9.predict)=98.21%\n",
      "[ 2018-04-25 00:28:21,661][kfold_wrapper.log_eval_metrics] Accuracy(layer_0 - estimator_0 - 10_folds.train_cv.predict)=97.52%\n",
      "[ 2018-04-25 00:28:21,663][kfold_wrapper.log_eval_metrics] Accuracy(layer_0 - estimator_0 - 10_folds.test.predict)=98.92%\n",
      "[ 2018-04-25 00:28:21,669][cascade_classifier.calc_accuracy] Accuracy(layer_0 - train.classifier_average)=97.52%\n",
      "[ 2018-04-25 00:28:21,670][cascade_classifier.calc_accuracy] Accuracy(layer_0 - test.classifier_average)=98.92%\n",
      "[ 2018-04-25 00:28:21,672][cascade_classifier.fit_transform] [Result][Reach Max Layer] opt_layer_num=1, accuracy_train=97.52%, accuracy_test=98.92%\n",
      "[ 2018-04-25 00:28:21,674][cascade_classifier.transform] X_groups_test.shape=[(558, 23)]\n",
      "[ 2018-04-25 00:28:21,676][cascade_classifier.transform] group_dims=[23]\n",
      "[ 2018-04-25 00:28:21,678][cascade_classifier.transform] X_test.shape=(558, 23)\n",
      "[ 2018-04-25 00:28:21,680][cascade_classifier.transform] [layer=0] look_indexs=[0], X_cur_test.shape=(558, 23)\n",
      "[ 2018-04-25 00:28:23,153][cascade_classifier.fit_transform] X_groups_train.shape=[(1130, 23)],y_train.shape=(1130,),X_groups_test.shape=[(558, 23)],y_test.shape=(558,)\n",
      "[ 2018-04-25 00:28:23,155][cascade_classifier.fit_transform] group_dims=[23]\n",
      "[ 2018-04-25 00:28:23,156][cascade_classifier.fit_transform] group_starts=[0]\n",
      "[ 2018-04-25 00:28:23,158][cascade_classifier.fit_transform] group_ends=[23]\n",
      "[ 2018-04-25 00:28:23,160][cascade_classifier.fit_transform] X_train.shape=(1130, 23),X_test.shape=(558, 23)\n",
      "[ 2018-04-25 00:28:23,162][cascade_classifier.fit_transform] [layer=0] look_indexs=[0], X_cur_train.shape=(1130, 23), X_cur_test.shape=(558, 23)\n"
     ]
    },
    {
     "name": "stdout",
     "output_type": "stream",
     "text": [
      "('Test Accuracy of ExtraTrees = 98.924731 %', 4, 'fois')\n"
     ]
    },
    {
     "name": "stderr",
     "output_type": "stream",
     "text": [
      "[ 2018-04-25 00:28:23,856][kfold_wrapper.log_eval_metrics] Accuracy(layer_0 - estimator_0 - 10_folds.train_0.predict)=97.37%\n",
      "[ 2018-04-25 00:28:24,660][kfold_wrapper.log_eval_metrics] Accuracy(layer_0 - estimator_0 - 10_folds.train_1.predict)=93.86%\n",
      "[ 2018-04-25 00:28:25,446][kfold_wrapper.log_eval_metrics] Accuracy(layer_0 - estimator_0 - 10_folds.train_2.predict)=95.61%\n",
      "[ 2018-04-25 00:28:26,245][kfold_wrapper.log_eval_metrics] Accuracy(layer_0 - estimator_0 - 10_folds.train_3.predict)=98.25%\n",
      "[ 2018-04-25 00:28:27,044][kfold_wrapper.log_eval_metrics] Accuracy(layer_0 - estimator_0 - 10_folds.train_4.predict)=97.35%\n",
      "[ 2018-04-25 00:28:27,879][kfold_wrapper.log_eval_metrics] Accuracy(layer_0 - estimator_0 - 10_folds.train_5.predict)=97.35%\n",
      "[ 2018-04-25 00:28:28,699][kfold_wrapper.log_eval_metrics] Accuracy(layer_0 - estimator_0 - 10_folds.train_6.predict)=100.00%\n",
      "[ 2018-04-25 00:28:29,522][kfold_wrapper.log_eval_metrics] Accuracy(layer_0 - estimator_0 - 10_folds.train_7.predict)=99.11%\n",
      "[ 2018-04-25 00:28:30,317][kfold_wrapper.log_eval_metrics] Accuracy(layer_0 - estimator_0 - 10_folds.train_8.predict)=99.11%\n",
      "[ 2018-04-25 00:28:31,199][kfold_wrapper.log_eval_metrics] Accuracy(layer_0 - estimator_0 - 10_folds.train_9.predict)=98.21%\n",
      "[ 2018-04-25 00:28:31,355][kfold_wrapper.log_eval_metrics] Accuracy(layer_0 - estimator_0 - 10_folds.train_cv.predict)=97.61%\n",
      "[ 2018-04-25 00:28:31,357][kfold_wrapper.log_eval_metrics] Accuracy(layer_0 - estimator_0 - 10_folds.test.predict)=98.92%\n",
      "[ 2018-04-25 00:28:31,366][cascade_classifier.calc_accuracy] Accuracy(layer_0 - train.classifier_average)=97.61%\n",
      "[ 2018-04-25 00:28:31,367][cascade_classifier.calc_accuracy] Accuracy(layer_0 - test.classifier_average)=98.92%\n",
      "[ 2018-04-25 00:28:31,369][cascade_classifier.fit_transform] [Result][Reach Max Layer] opt_layer_num=1, accuracy_train=97.61%, accuracy_test=98.92%\n",
      "[ 2018-04-25 00:28:31,370][cascade_classifier.transform] X_groups_test.shape=[(558, 23)]\n",
      "[ 2018-04-25 00:28:31,372][cascade_classifier.transform] group_dims=[23]\n",
      "[ 2018-04-25 00:28:31,374][cascade_classifier.transform] X_test.shape=(558, 23)\n",
      "[ 2018-04-25 00:28:31,375][cascade_classifier.transform] [layer=0] look_indexs=[0], X_cur_test.shape=(558, 23)\n",
      "[ 2018-04-25 00:28:32,874][cascade_classifier.fit_transform] X_groups_train.shape=[(1130, 23)],y_train.shape=(1130,),X_groups_test.shape=[(558, 23)],y_test.shape=(558,)\n",
      "[ 2018-04-25 00:28:32,876][cascade_classifier.fit_transform] group_dims=[23]\n",
      "[ 2018-04-25 00:28:32,878][cascade_classifier.fit_transform] group_starts=[0]\n",
      "[ 2018-04-25 00:28:32,880][cascade_classifier.fit_transform] group_ends=[23]\n",
      "[ 2018-04-25 00:28:32,881][cascade_classifier.fit_transform] X_train.shape=(1130, 23),X_test.shape=(558, 23)\n",
      "[ 2018-04-25 00:28:32,883][cascade_classifier.fit_transform] [layer=0] look_indexs=[0], X_cur_train.shape=(1130, 23), X_cur_test.shape=(558, 23)\n"
     ]
    },
    {
     "name": "stdout",
     "output_type": "stream",
     "text": [
      "('Test Accuracy of ExtraTrees = 98.924731 %', 5, 'fois')\n"
     ]
    },
    {
     "name": "stderr",
     "output_type": "stream",
     "text": [
      "[ 2018-04-25 00:28:33,527][kfold_wrapper.log_eval_metrics] Accuracy(layer_0 - estimator_0 - 10_folds.train_0.predict)=98.25%\n",
      "[ 2018-04-25 00:28:34,317][kfold_wrapper.log_eval_metrics] Accuracy(layer_0 - estimator_0 - 10_folds.train_1.predict)=93.86%\n",
      "[ 2018-04-25 00:28:35,105][kfold_wrapper.log_eval_metrics] Accuracy(layer_0 - estimator_0 - 10_folds.train_2.predict)=95.61%\n",
      "[ 2018-04-25 00:28:35,903][kfold_wrapper.log_eval_metrics] Accuracy(layer_0 - estimator_0 - 10_folds.train_3.predict)=97.37%\n",
      "[ 2018-04-25 00:28:36,722][kfold_wrapper.log_eval_metrics] Accuracy(layer_0 - estimator_0 - 10_folds.train_4.predict)=96.46%\n",
      "[ 2018-04-25 00:28:37,540][kfold_wrapper.log_eval_metrics] Accuracy(layer_0 - estimator_0 - 10_folds.train_5.predict)=96.46%\n",
      "[ 2018-04-25 00:28:38,361][kfold_wrapper.log_eval_metrics] Accuracy(layer_0 - estimator_0 - 10_folds.train_6.predict)=100.00%\n",
      "[ 2018-04-25 00:28:39,178][kfold_wrapper.log_eval_metrics] Accuracy(layer_0 - estimator_0 - 10_folds.train_7.predict)=98.21%\n",
      "[ 2018-04-25 00:28:40,017][kfold_wrapper.log_eval_metrics] Accuracy(layer_0 - estimator_0 - 10_folds.train_8.predict)=99.11%\n",
      "[ 2018-04-25 00:28:40,849][kfold_wrapper.log_eval_metrics] Accuracy(layer_0 - estimator_0 - 10_folds.train_9.predict)=98.21%\n",
      "[ 2018-04-25 00:28:40,999][kfold_wrapper.log_eval_metrics] Accuracy(layer_0 - estimator_0 - 10_folds.train_cv.predict)=97.35%\n",
      "[ 2018-04-25 00:28:41,001][kfold_wrapper.log_eval_metrics] Accuracy(layer_0 - estimator_0 - 10_folds.test.predict)=98.75%\n",
      "[ 2018-04-25 00:28:41,009][cascade_classifier.calc_accuracy] Accuracy(layer_0 - train.classifier_average)=97.35%\n",
      "[ 2018-04-25 00:28:41,011][cascade_classifier.calc_accuracy] Accuracy(layer_0 - test.classifier_average)=98.75%\n",
      "[ 2018-04-25 00:28:41,012][cascade_classifier.fit_transform] [Result][Reach Max Layer] opt_layer_num=1, accuracy_train=97.35%, accuracy_test=98.75%\n",
      "[ 2018-04-25 00:28:41,014][cascade_classifier.transform] X_groups_test.shape=[(558, 23)]\n",
      "[ 2018-04-25 00:28:41,016][cascade_classifier.transform] group_dims=[23]\n",
      "[ 2018-04-25 00:28:41,018][cascade_classifier.transform] X_test.shape=(558, 23)\n",
      "[ 2018-04-25 00:28:41,020][cascade_classifier.transform] [layer=0] look_indexs=[0], X_cur_test.shape=(558, 23)\n",
      "[ 2018-04-25 00:28:42,586][cascade_classifier.fit_transform] X_groups_train.shape=[(1130, 23)],y_train.shape=(1130,),X_groups_test.shape=[(558, 23)],y_test.shape=(558,)\n",
      "[ 2018-04-25 00:28:42,588][cascade_classifier.fit_transform] group_dims=[23]\n",
      "[ 2018-04-25 00:28:42,590][cascade_classifier.fit_transform] group_starts=[0]\n",
      "[ 2018-04-25 00:28:42,592][cascade_classifier.fit_transform] group_ends=[23]\n",
      "[ 2018-04-25 00:28:42,594][cascade_classifier.fit_transform] X_train.shape=(1130, 23),X_test.shape=(558, 23)\n",
      "[ 2018-04-25 00:28:42,596][cascade_classifier.fit_transform] [layer=0] look_indexs=[0], X_cur_train.shape=(1130, 23), X_cur_test.shape=(558, 23)\n"
     ]
    },
    {
     "name": "stdout",
     "output_type": "stream",
     "text": [
      "('Test Accuracy of ExtraTrees = 98.745520 %', 6, 'fois')\n"
     ]
    },
    {
     "name": "stderr",
     "output_type": "stream",
     "text": [
      "[ 2018-04-25 00:28:43,223][kfold_wrapper.log_eval_metrics] Accuracy(layer_0 - estimator_0 - 10_folds.train_0.predict)=98.25%\n",
      "[ 2018-04-25 00:28:44,052][kfold_wrapper.log_eval_metrics] Accuracy(layer_0 - estimator_0 - 10_folds.train_1.predict)=93.86%\n",
      "[ 2018-04-25 00:28:44,863][kfold_wrapper.log_eval_metrics] Accuracy(layer_0 - estimator_0 - 10_folds.train_2.predict)=94.74%\n",
      "[ 2018-04-25 00:28:45,720][kfold_wrapper.log_eval_metrics] Accuracy(layer_0 - estimator_0 - 10_folds.train_3.predict)=97.37%\n",
      "[ 2018-04-25 00:28:46,564][kfold_wrapper.log_eval_metrics] Accuracy(layer_0 - estimator_0 - 10_folds.train_4.predict)=98.23%\n",
      "[ 2018-04-25 00:28:47,445][kfold_wrapper.log_eval_metrics] Accuracy(layer_0 - estimator_0 - 10_folds.train_5.predict)=97.35%\n",
      "[ 2018-04-25 00:28:48,255][kfold_wrapper.log_eval_metrics] Accuracy(layer_0 - estimator_0 - 10_folds.train_6.predict)=99.11%\n",
      "[ 2018-04-25 00:28:49,078][kfold_wrapper.log_eval_metrics] Accuracy(layer_0 - estimator_0 - 10_folds.train_7.predict)=98.21%\n",
      "[ 2018-04-25 00:28:49,892][kfold_wrapper.log_eval_metrics] Accuracy(layer_0 - estimator_0 - 10_folds.train_8.predict)=99.11%\n",
      "[ 2018-04-25 00:28:50,721][kfold_wrapper.log_eval_metrics] Accuracy(layer_0 - estimator_0 - 10_folds.train_9.predict)=98.21%\n",
      "[ 2018-04-25 00:28:50,872][kfold_wrapper.log_eval_metrics] Accuracy(layer_0 - estimator_0 - 10_folds.train_cv.predict)=97.43%\n",
      "[ 2018-04-25 00:28:50,874][kfold_wrapper.log_eval_metrics] Accuracy(layer_0 - estimator_0 - 10_folds.test.predict)=98.92%\n",
      "[ 2018-04-25 00:28:50,881][cascade_classifier.calc_accuracy] Accuracy(layer_0 - train.classifier_average)=97.43%\n",
      "[ 2018-04-25 00:28:50,882][cascade_classifier.calc_accuracy] Accuracy(layer_0 - test.classifier_average)=98.92%\n",
      "[ 2018-04-25 00:28:50,884][cascade_classifier.fit_transform] [Result][Reach Max Layer] opt_layer_num=1, accuracy_train=97.43%, accuracy_test=98.92%\n",
      "[ 2018-04-25 00:28:50,886][cascade_classifier.transform] X_groups_test.shape=[(558, 23)]\n",
      "[ 2018-04-25 00:28:50,889][cascade_classifier.transform] group_dims=[23]\n",
      "[ 2018-04-25 00:28:50,890][cascade_classifier.transform] X_test.shape=(558, 23)\n",
      "[ 2018-04-25 00:28:50,892][cascade_classifier.transform] [layer=0] look_indexs=[0], X_cur_test.shape=(558, 23)\n",
      "[ 2018-04-25 00:28:52,419][cascade_classifier.fit_transform] X_groups_train.shape=[(1130, 23)],y_train.shape=(1130,),X_groups_test.shape=[(558, 23)],y_test.shape=(558,)\n",
      "[ 2018-04-25 00:28:52,421][cascade_classifier.fit_transform] group_dims=[23]\n",
      "[ 2018-04-25 00:28:52,423][cascade_classifier.fit_transform] group_starts=[0]\n",
      "[ 2018-04-25 00:28:52,424][cascade_classifier.fit_transform] group_ends=[23]\n",
      "[ 2018-04-25 00:28:52,426][cascade_classifier.fit_transform] X_train.shape=(1130, 23),X_test.shape=(558, 23)\n",
      "[ 2018-04-25 00:28:52,428][cascade_classifier.fit_transform] [layer=0] look_indexs=[0], X_cur_train.shape=(1130, 23), X_cur_test.shape=(558, 23)\n"
     ]
    },
    {
     "name": "stdout",
     "output_type": "stream",
     "text": [
      "('Test Accuracy of ExtraTrees = 98.924731 %', 7, 'fois')\n"
     ]
    },
    {
     "name": "stderr",
     "output_type": "stream",
     "text": [
      "[ 2018-04-25 00:28:53,081][kfold_wrapper.log_eval_metrics] Accuracy(layer_0 - estimator_0 - 10_folds.train_0.predict)=97.37%\n",
      "[ 2018-04-25 00:28:53,878][kfold_wrapper.log_eval_metrics] Accuracy(layer_0 - estimator_0 - 10_folds.train_1.predict)=92.98%\n",
      "[ 2018-04-25 00:28:54,668][kfold_wrapper.log_eval_metrics] Accuracy(layer_0 - estimator_0 - 10_folds.train_2.predict)=95.61%\n",
      "[ 2018-04-25 00:28:55,460][kfold_wrapper.log_eval_metrics] Accuracy(layer_0 - estimator_0 - 10_folds.train_3.predict)=97.37%\n",
      "[ 2018-04-25 00:28:56,312][kfold_wrapper.log_eval_metrics] Accuracy(layer_0 - estimator_0 - 10_folds.train_4.predict)=98.23%\n",
      "[ 2018-04-25 00:28:57,120][kfold_wrapper.log_eval_metrics] Accuracy(layer_0 - estimator_0 - 10_folds.train_5.predict)=96.46%\n",
      "[ 2018-04-25 00:28:57,914][kfold_wrapper.log_eval_metrics] Accuracy(layer_0 - estimator_0 - 10_folds.train_6.predict)=99.11%\n",
      "[ 2018-04-25 00:28:58,815][kfold_wrapper.log_eval_metrics] Accuracy(layer_0 - estimator_0 - 10_folds.train_7.predict)=98.21%\n",
      "[ 2018-04-25 00:28:59,624][kfold_wrapper.log_eval_metrics] Accuracy(layer_0 - estimator_0 - 10_folds.train_8.predict)=99.11%\n",
      "[ 2018-04-25 00:29:00,448][kfold_wrapper.log_eval_metrics] Accuracy(layer_0 - estimator_0 - 10_folds.train_9.predict)=98.21%\n",
      "[ 2018-04-25 00:29:00,599][kfold_wrapper.log_eval_metrics] Accuracy(layer_0 - estimator_0 - 10_folds.train_cv.predict)=97.26%\n",
      "[ 2018-04-25 00:29:00,601][kfold_wrapper.log_eval_metrics] Accuracy(layer_0 - estimator_0 - 10_folds.test.predict)=99.10%\n",
      "[ 2018-04-25 00:29:00,605][cascade_classifier.calc_accuracy] Accuracy(layer_0 - train.classifier_average)=97.26%\n",
      "[ 2018-04-25 00:29:00,607][cascade_classifier.calc_accuracy] Accuracy(layer_0 - test.classifier_average)=99.10%\n",
      "[ 2018-04-25 00:29:00,609][cascade_classifier.fit_transform] [Result][Reach Max Layer] opt_layer_num=1, accuracy_train=97.26%, accuracy_test=99.10%\n",
      "[ 2018-04-25 00:29:00,611][cascade_classifier.transform] X_groups_test.shape=[(558, 23)]\n",
      "[ 2018-04-25 00:29:00,612][cascade_classifier.transform] group_dims=[23]\n",
      "[ 2018-04-25 00:29:00,614][cascade_classifier.transform] X_test.shape=(558, 23)\n",
      "[ 2018-04-25 00:29:00,616][cascade_classifier.transform] [layer=0] look_indexs=[0], X_cur_test.shape=(558, 23)\n",
      "[ 2018-04-25 00:29:02,091][cascade_classifier.fit_transform] X_groups_train.shape=[(1130, 23)],y_train.shape=(1130,),X_groups_test.shape=[(558, 23)],y_test.shape=(558,)\n",
      "[ 2018-04-25 00:29:02,093][cascade_classifier.fit_transform] group_dims=[23]\n",
      "[ 2018-04-25 00:29:02,095][cascade_classifier.fit_transform] group_starts=[0]\n",
      "[ 2018-04-25 00:29:02,097][cascade_classifier.fit_transform] group_ends=[23]\n",
      "[ 2018-04-25 00:29:02,099][cascade_classifier.fit_transform] X_train.shape=(1130, 23),X_test.shape=(558, 23)\n",
      "[ 2018-04-25 00:29:02,101][cascade_classifier.fit_transform] [layer=0] look_indexs=[0], X_cur_train.shape=(1130, 23), X_cur_test.shape=(558, 23)\n"
     ]
    },
    {
     "name": "stdout",
     "output_type": "stream",
     "text": [
      "('Test Accuracy of ExtraTrees = 99.103943 %', 8, 'fois')\n"
     ]
    },
    {
     "name": "stderr",
     "output_type": "stream",
     "text": [
      "[ 2018-04-25 00:29:02,727][kfold_wrapper.log_eval_metrics] Accuracy(layer_0 - estimator_0 - 10_folds.train_0.predict)=97.37%\n",
      "[ 2018-04-25 00:29:03,528][kfold_wrapper.log_eval_metrics] Accuracy(layer_0 - estimator_0 - 10_folds.train_1.predict)=93.86%\n",
      "[ 2018-04-25 00:29:04,332][kfold_wrapper.log_eval_metrics] Accuracy(layer_0 - estimator_0 - 10_folds.train_2.predict)=96.49%\n",
      "[ 2018-04-25 00:29:05,182][kfold_wrapper.log_eval_metrics] Accuracy(layer_0 - estimator_0 - 10_folds.train_3.predict)=98.25%\n",
      "[ 2018-04-25 00:29:06,012][kfold_wrapper.log_eval_metrics] Accuracy(layer_0 - estimator_0 - 10_folds.train_4.predict)=98.23%\n",
      "[ 2018-04-25 00:29:06,834][kfold_wrapper.log_eval_metrics] Accuracy(layer_0 - estimator_0 - 10_folds.train_5.predict)=96.46%\n",
      "[ 2018-04-25 00:29:07,667][kfold_wrapper.log_eval_metrics] Accuracy(layer_0 - estimator_0 - 10_folds.train_6.predict)=99.11%\n",
      "[ 2018-04-25 00:29:08,489][kfold_wrapper.log_eval_metrics] Accuracy(layer_0 - estimator_0 - 10_folds.train_7.predict)=99.11%\n",
      "[ 2018-04-25 00:29:09,329][kfold_wrapper.log_eval_metrics] Accuracy(layer_0 - estimator_0 - 10_folds.train_8.predict)=99.11%\n",
      "[ 2018-04-25 00:29:10,174][kfold_wrapper.log_eval_metrics] Accuracy(layer_0 - estimator_0 - 10_folds.train_9.predict)=98.21%\n",
      "[ 2018-04-25 00:29:10,429][kfold_wrapper.log_eval_metrics] Accuracy(layer_0 - estimator_0 - 10_folds.train_cv.predict)=97.61%\n",
      "[ 2018-04-25 00:29:10,431][kfold_wrapper.log_eval_metrics] Accuracy(layer_0 - estimator_0 - 10_folds.test.predict)=98.57%\n",
      "[ 2018-04-25 00:29:10,435][cascade_classifier.calc_accuracy] Accuracy(layer_0 - train.classifier_average)=97.61%\n",
      "[ 2018-04-25 00:29:10,437][cascade_classifier.calc_accuracy] Accuracy(layer_0 - test.classifier_average)=98.57%\n",
      "[ 2018-04-25 00:29:10,439][cascade_classifier.fit_transform] [Result][Reach Max Layer] opt_layer_num=1, accuracy_train=97.61%, accuracy_test=98.57%\n",
      "[ 2018-04-25 00:29:10,440][cascade_classifier.transform] X_groups_test.shape=[(558, 23)]\n",
      "[ 2018-04-25 00:29:10,442][cascade_classifier.transform] group_dims=[23]\n",
      "[ 2018-04-25 00:29:10,444][cascade_classifier.transform] X_test.shape=(558, 23)\n",
      "[ 2018-04-25 00:29:10,445][cascade_classifier.transform] [layer=0] look_indexs=[0], X_cur_test.shape=(558, 23)\n",
      "[ 2018-04-25 00:29:11,925][cascade_classifier.fit_transform] X_groups_train.shape=[(1130, 23)],y_train.shape=(1130,),X_groups_test.shape=[(558, 23)],y_test.shape=(558,)\n",
      "[ 2018-04-25 00:29:11,927][cascade_classifier.fit_transform] group_dims=[23]\n",
      "[ 2018-04-25 00:29:11,929][cascade_classifier.fit_transform] group_starts=[0]\n",
      "[ 2018-04-25 00:29:11,931][cascade_classifier.fit_transform] group_ends=[23]\n",
      "[ 2018-04-25 00:29:11,932][cascade_classifier.fit_transform] X_train.shape=(1130, 23),X_test.shape=(558, 23)\n",
      "[ 2018-04-25 00:29:11,934][cascade_classifier.fit_transform] [layer=0] look_indexs=[0], X_cur_train.shape=(1130, 23), X_cur_test.shape=(558, 23)\n"
     ]
    },
    {
     "name": "stdout",
     "output_type": "stream",
     "text": [
      "('Test Accuracy of ExtraTrees = 98.566308 %', 9, 'fois')\n"
     ]
    },
    {
     "name": "stderr",
     "output_type": "stream",
     "text": [
      "[ 2018-04-25 00:29:12,574][kfold_wrapper.log_eval_metrics] Accuracy(layer_0 - estimator_0 - 10_folds.train_0.predict)=97.37%\n",
      "[ 2018-04-25 00:29:13,376][kfold_wrapper.log_eval_metrics] Accuracy(layer_0 - estimator_0 - 10_folds.train_1.predict)=92.98%\n",
      "[ 2018-04-25 00:29:14,222][kfold_wrapper.log_eval_metrics] Accuracy(layer_0 - estimator_0 - 10_folds.train_2.predict)=95.61%\n",
      "[ 2018-04-25 00:29:15,038][kfold_wrapper.log_eval_metrics] Accuracy(layer_0 - estimator_0 - 10_folds.train_3.predict)=97.37%\n",
      "[ 2018-04-25 00:29:15,846][kfold_wrapper.log_eval_metrics] Accuracy(layer_0 - estimator_0 - 10_folds.train_4.predict)=98.23%\n",
      "[ 2018-04-25 00:29:16,684][kfold_wrapper.log_eval_metrics] Accuracy(layer_0 - estimator_0 - 10_folds.train_5.predict)=97.35%\n",
      "[ 2018-04-25 00:29:17,511][kfold_wrapper.log_eval_metrics] Accuracy(layer_0 - estimator_0 - 10_folds.train_6.predict)=98.21%\n",
      "[ 2018-04-25 00:29:18,349][kfold_wrapper.log_eval_metrics] Accuracy(layer_0 - estimator_0 - 10_folds.train_7.predict)=99.11%\n",
      "[ 2018-04-25 00:29:19,170][kfold_wrapper.log_eval_metrics] Accuracy(layer_0 - estimator_0 - 10_folds.train_8.predict)=99.11%\n",
      "[ 2018-04-25 00:29:19,999][kfold_wrapper.log_eval_metrics] Accuracy(layer_0 - estimator_0 - 10_folds.train_9.predict)=98.21%\n",
      "[ 2018-04-25 00:29:20,148][kfold_wrapper.log_eval_metrics] Accuracy(layer_0 - estimator_0 - 10_folds.train_cv.predict)=97.35%\n",
      "[ 2018-04-25 00:29:20,150][kfold_wrapper.log_eval_metrics] Accuracy(layer_0 - estimator_0 - 10_folds.test.predict)=98.75%\n",
      "[ 2018-04-25 00:29:20,155][cascade_classifier.calc_accuracy] Accuracy(layer_0 - train.classifier_average)=97.35%\n",
      "[ 2018-04-25 00:29:20,156][cascade_classifier.calc_accuracy] Accuracy(layer_0 - test.classifier_average)=98.75%\n",
      "[ 2018-04-25 00:29:20,158][cascade_classifier.fit_transform] [Result][Reach Max Layer] opt_layer_num=1, accuracy_train=97.35%, accuracy_test=98.75%\n",
      "[ 2018-04-25 00:29:20,160][cascade_classifier.transform] X_groups_test.shape=[(558, 23)]\n",
      "[ 2018-04-25 00:29:20,162][cascade_classifier.transform] group_dims=[23]\n",
      "[ 2018-04-25 00:29:20,163][cascade_classifier.transform] X_test.shape=(558, 23)\n",
      "[ 2018-04-25 00:29:20,165][cascade_classifier.transform] [layer=0] look_indexs=[0], X_cur_test.shape=(558, 23)\n",
      "[ 2018-04-25 00:29:21,648][cascade_classifier.fit_transform] X_groups_train.shape=[(1130, 23)],y_train.shape=(1130,),X_groups_test.shape=[(558, 23)],y_test.shape=(558,)\n",
      "[ 2018-04-25 00:29:21,651][cascade_classifier.fit_transform] group_dims=[23]\n",
      "[ 2018-04-25 00:29:21,652][cascade_classifier.fit_transform] group_starts=[0]\n",
      "[ 2018-04-25 00:29:21,654][cascade_classifier.fit_transform] group_ends=[23]\n",
      "[ 2018-04-25 00:29:21,656][cascade_classifier.fit_transform] X_train.shape=(1130, 23),X_test.shape=(558, 23)\n",
      "[ 2018-04-25 00:29:21,658][cascade_classifier.fit_transform] [layer=0] look_indexs=[0], X_cur_train.shape=(1130, 23), X_cur_test.shape=(558, 23)\n"
     ]
    },
    {
     "name": "stdout",
     "output_type": "stream",
     "text": [
      "('Test Accuracy of ExtraTrees = 98.745520 %', 10, 'fois')\n"
     ]
    },
    {
     "name": "stderr",
     "output_type": "stream",
     "text": [
      "[ 2018-04-25 00:29:22,343][kfold_wrapper.log_eval_metrics] Accuracy(layer_0 - estimator_0 - 10_folds.train_0.predict)=98.25%\n",
      "[ 2018-04-25 00:29:23,177][kfold_wrapper.log_eval_metrics] Accuracy(layer_0 - estimator_0 - 10_folds.train_1.predict)=92.98%\n",
      "[ 2018-04-25 00:29:24,000][kfold_wrapper.log_eval_metrics] Accuracy(layer_0 - estimator_0 - 10_folds.train_2.predict)=97.37%\n",
      "[ 2018-04-25 00:29:24,810][kfold_wrapper.log_eval_metrics] Accuracy(layer_0 - estimator_0 - 10_folds.train_3.predict)=98.25%\n",
      "[ 2018-04-25 00:29:25,613][kfold_wrapper.log_eval_metrics] Accuracy(layer_0 - estimator_0 - 10_folds.train_4.predict)=98.23%\n",
      "[ 2018-04-25 00:29:26,411][kfold_wrapper.log_eval_metrics] Accuracy(layer_0 - estimator_0 - 10_folds.train_5.predict)=97.35%\n",
      "[ 2018-04-25 00:29:27,213][kfold_wrapper.log_eval_metrics] Accuracy(layer_0 - estimator_0 - 10_folds.train_6.predict)=99.11%\n",
      "[ 2018-04-25 00:29:28,013][kfold_wrapper.log_eval_metrics] Accuracy(layer_0 - estimator_0 - 10_folds.train_7.predict)=98.21%\n",
      "[ 2018-04-25 00:29:28,840][kfold_wrapper.log_eval_metrics] Accuracy(layer_0 - estimator_0 - 10_folds.train_8.predict)=99.11%\n",
      "[ 2018-04-25 00:29:29,697][kfold_wrapper.log_eval_metrics] Accuracy(layer_0 - estimator_0 - 10_folds.train_9.predict)=98.21%\n",
      "[ 2018-04-25 00:29:29,846][kfold_wrapper.log_eval_metrics] Accuracy(layer_0 - estimator_0 - 10_folds.train_cv.predict)=97.70%\n",
      "[ 2018-04-25 00:29:29,848][kfold_wrapper.log_eval_metrics] Accuracy(layer_0 - estimator_0 - 10_folds.test.predict)=98.75%\n",
      "[ 2018-04-25 00:29:29,853][cascade_classifier.calc_accuracy] Accuracy(layer_0 - train.classifier_average)=97.70%\n",
      "[ 2018-04-25 00:29:29,854][cascade_classifier.calc_accuracy] Accuracy(layer_0 - test.classifier_average)=98.75%\n",
      "[ 2018-04-25 00:29:29,856][cascade_classifier.fit_transform] [Result][Reach Max Layer] opt_layer_num=1, accuracy_train=97.70%, accuracy_test=98.75%\n",
      "[ 2018-04-25 00:29:29,858][cascade_classifier.transform] X_groups_test.shape=[(558, 23)]\n",
      "[ 2018-04-25 00:29:29,860][cascade_classifier.transform] group_dims=[23]\n",
      "[ 2018-04-25 00:29:29,861][cascade_classifier.transform] X_test.shape=(558, 23)\n",
      "[ 2018-04-25 00:29:29,863][cascade_classifier.transform] [layer=0] look_indexs=[0], X_cur_test.shape=(558, 23)\n",
      "[ 2018-04-25 00:29:31,342][cascade_classifier.fit_transform] X_groups_train.shape=[(1130, 23)],y_train.shape=(1130,),X_groups_test.shape=[(558, 23)],y_test.shape=(558,)\n",
      "[ 2018-04-25 00:29:31,344][cascade_classifier.fit_transform] group_dims=[23]\n",
      "[ 2018-04-25 00:29:31,346][cascade_classifier.fit_transform] group_starts=[0]\n",
      "[ 2018-04-25 00:29:31,348][cascade_classifier.fit_transform] group_ends=[23]\n",
      "[ 2018-04-25 00:29:31,349][cascade_classifier.fit_transform] X_train.shape=(1130, 23),X_test.shape=(558, 23)\n",
      "[ 2018-04-25 00:29:31,351][cascade_classifier.fit_transform] [layer=0] look_indexs=[0], X_cur_train.shape=(1130, 23), X_cur_test.shape=(558, 23)\n"
     ]
    },
    {
     "name": "stdout",
     "output_type": "stream",
     "text": [
      "('Test Accuracy of ExtraTrees = 98.745520 %', 11, 'fois')\n"
     ]
    },
    {
     "name": "stderr",
     "output_type": "stream",
     "text": [
      "[ 2018-04-25 00:29:31,991][kfold_wrapper.log_eval_metrics] Accuracy(layer_0 - estimator_0 - 10_folds.train_0.predict)=98.25%\n",
      "[ 2018-04-25 00:29:32,767][kfold_wrapper.log_eval_metrics] Accuracy(layer_0 - estimator_0 - 10_folds.train_1.predict)=92.98%\n",
      "[ 2018-04-25 00:29:33,558][kfold_wrapper.log_eval_metrics] Accuracy(layer_0 - estimator_0 - 10_folds.train_2.predict)=95.61%\n",
      "[ 2018-04-25 00:29:34,381][kfold_wrapper.log_eval_metrics] Accuracy(layer_0 - estimator_0 - 10_folds.train_3.predict)=97.37%\n",
      "[ 2018-04-25 00:29:35,201][kfold_wrapper.log_eval_metrics] Accuracy(layer_0 - estimator_0 - 10_folds.train_4.predict)=98.23%\n",
      "[ 2018-04-25 00:29:36,041][kfold_wrapper.log_eval_metrics] Accuracy(layer_0 - estimator_0 - 10_folds.train_5.predict)=97.35%\n",
      "[ 2018-04-25 00:29:36,841][kfold_wrapper.log_eval_metrics] Accuracy(layer_0 - estimator_0 - 10_folds.train_6.predict)=98.21%\n",
      "[ 2018-04-25 00:29:37,651][kfold_wrapper.log_eval_metrics] Accuracy(layer_0 - estimator_0 - 10_folds.train_7.predict)=98.21%\n",
      "[ 2018-04-25 00:29:38,477][kfold_wrapper.log_eval_metrics] Accuracy(layer_0 - estimator_0 - 10_folds.train_8.predict)=99.11%\n",
      "[ 2018-04-25 00:29:39,290][kfold_wrapper.log_eval_metrics] Accuracy(layer_0 - estimator_0 - 10_folds.train_9.predict)=98.21%\n",
      "[ 2018-04-25 00:29:39,440][kfold_wrapper.log_eval_metrics] Accuracy(layer_0 - estimator_0 - 10_folds.train_cv.predict)=97.35%\n",
      "[ 2018-04-25 00:29:39,442][kfold_wrapper.log_eval_metrics] Accuracy(layer_0 - estimator_0 - 10_folds.test.predict)=98.57%\n",
      "[ 2018-04-25 00:29:39,446][cascade_classifier.calc_accuracy] Accuracy(layer_0 - train.classifier_average)=97.35%\n",
      "[ 2018-04-25 00:29:39,448][cascade_classifier.calc_accuracy] Accuracy(layer_0 - test.classifier_average)=98.57%\n",
      "[ 2018-04-25 00:29:39,450][cascade_classifier.fit_transform] [Result][Reach Max Layer] opt_layer_num=1, accuracy_train=97.35%, accuracy_test=98.57%\n",
      "[ 2018-04-25 00:29:39,451][cascade_classifier.transform] X_groups_test.shape=[(558, 23)]\n",
      "[ 2018-04-25 00:29:39,453][cascade_classifier.transform] group_dims=[23]\n",
      "[ 2018-04-25 00:29:39,455][cascade_classifier.transform] X_test.shape=(558, 23)\n",
      "[ 2018-04-25 00:29:39,456][cascade_classifier.transform] [layer=0] look_indexs=[0], X_cur_test.shape=(558, 23)\n",
      "[ 2018-04-25 00:29:40,967][cascade_classifier.fit_transform] X_groups_train.shape=[(1130, 23)],y_train.shape=(1130,),X_groups_test.shape=[(558, 23)],y_test.shape=(558,)\n",
      "[ 2018-04-25 00:29:40,969][cascade_classifier.fit_transform] group_dims=[23]\n",
      "[ 2018-04-25 00:29:40,971][cascade_classifier.fit_transform] group_starts=[0]\n",
      "[ 2018-04-25 00:29:40,972][cascade_classifier.fit_transform] group_ends=[23]\n",
      "[ 2018-04-25 00:29:40,974][cascade_classifier.fit_transform] X_train.shape=(1130, 23),X_test.shape=(558, 23)\n",
      "[ 2018-04-25 00:29:40,976][cascade_classifier.fit_transform] [layer=0] look_indexs=[0], X_cur_train.shape=(1130, 23), X_cur_test.shape=(558, 23)\n"
     ]
    },
    {
     "name": "stdout",
     "output_type": "stream",
     "text": [
      "('Test Accuracy of ExtraTrees = 98.566308 %', 12, 'fois')\n"
     ]
    },
    {
     "name": "stderr",
     "output_type": "stream",
     "text": [
      "[ 2018-04-25 00:29:41,624][kfold_wrapper.log_eval_metrics] Accuracy(layer_0 - estimator_0 - 10_folds.train_0.predict)=98.25%\n",
      "[ 2018-04-25 00:29:42,403][kfold_wrapper.log_eval_metrics] Accuracy(layer_0 - estimator_0 - 10_folds.train_1.predict)=92.98%\n",
      "[ 2018-04-25 00:29:43,202][kfold_wrapper.log_eval_metrics] Accuracy(layer_0 - estimator_0 - 10_folds.train_2.predict)=96.49%\n",
      "[ 2018-04-25 00:29:43,979][kfold_wrapper.log_eval_metrics] Accuracy(layer_0 - estimator_0 - 10_folds.train_3.predict)=97.37%\n",
      "[ 2018-04-25 00:29:44,822][kfold_wrapper.log_eval_metrics] Accuracy(layer_0 - estimator_0 - 10_folds.train_4.predict)=98.23%\n",
      "[ 2018-04-25 00:29:45,595][kfold_wrapper.log_eval_metrics] Accuracy(layer_0 - estimator_0 - 10_folds.train_5.predict)=97.35%\n",
      "[ 2018-04-25 00:29:46,419][kfold_wrapper.log_eval_metrics] Accuracy(layer_0 - estimator_0 - 10_folds.train_6.predict)=100.00%\n",
      "[ 2018-04-25 00:29:47,350][kfold_wrapper.log_eval_metrics] Accuracy(layer_0 - estimator_0 - 10_folds.train_7.predict)=98.21%\n",
      "[ 2018-04-25 00:29:48,132][kfold_wrapper.log_eval_metrics] Accuracy(layer_0 - estimator_0 - 10_folds.train_8.predict)=99.11%\n",
      "[ 2018-04-25 00:29:48,968][kfold_wrapper.log_eval_metrics] Accuracy(layer_0 - estimator_0 - 10_folds.train_9.predict)=98.21%\n",
      "[ 2018-04-25 00:29:49,115][kfold_wrapper.log_eval_metrics] Accuracy(layer_0 - estimator_0 - 10_folds.train_cv.predict)=97.61%\n",
      "[ 2018-04-25 00:29:49,116][kfold_wrapper.log_eval_metrics] Accuracy(layer_0 - estimator_0 - 10_folds.test.predict)=98.57%\n",
      "[ 2018-04-25 00:29:49,123][cascade_classifier.calc_accuracy] Accuracy(layer_0 - train.classifier_average)=97.61%\n",
      "[ 2018-04-25 00:29:49,125][cascade_classifier.calc_accuracy] Accuracy(layer_0 - test.classifier_average)=98.57%\n",
      "[ 2018-04-25 00:29:49,126][cascade_classifier.fit_transform] [Result][Reach Max Layer] opt_layer_num=1, accuracy_train=97.61%, accuracy_test=98.57%\n",
      "[ 2018-04-25 00:29:49,128][cascade_classifier.transform] X_groups_test.shape=[(558, 23)]\n",
      "[ 2018-04-25 00:29:49,130][cascade_classifier.transform] group_dims=[23]\n",
      "[ 2018-04-25 00:29:49,131][cascade_classifier.transform] X_test.shape=(558, 23)\n",
      "[ 2018-04-25 00:29:49,133][cascade_classifier.transform] [layer=0] look_indexs=[0], X_cur_test.shape=(558, 23)\n",
      "[ 2018-04-25 00:29:50,602][cascade_classifier.fit_transform] X_groups_train.shape=[(1130, 23)],y_train.shape=(1130,),X_groups_test.shape=[(558, 23)],y_test.shape=(558,)\n",
      "[ 2018-04-25 00:29:50,605][cascade_classifier.fit_transform] group_dims=[23]\n",
      "[ 2018-04-25 00:29:50,606][cascade_classifier.fit_transform] group_starts=[0]\n",
      "[ 2018-04-25 00:29:50,608][cascade_classifier.fit_transform] group_ends=[23]\n",
      "[ 2018-04-25 00:29:50,610][cascade_classifier.fit_transform] X_train.shape=(1130, 23),X_test.shape=(558, 23)\n",
      "[ 2018-04-25 00:29:50,612][cascade_classifier.fit_transform] [layer=0] look_indexs=[0], X_cur_train.shape=(1130, 23), X_cur_test.shape=(558, 23)\n"
     ]
    },
    {
     "name": "stdout",
     "output_type": "stream",
     "text": [
      "('Test Accuracy of ExtraTrees = 98.566308 %', 13, 'fois')\n"
     ]
    },
    {
     "name": "stderr",
     "output_type": "stream",
     "text": [
      "[ 2018-04-25 00:29:51,290][kfold_wrapper.log_eval_metrics] Accuracy(layer_0 - estimator_0 - 10_folds.train_0.predict)=98.25%\n",
      "[ 2018-04-25 00:29:52,241][kfold_wrapper.log_eval_metrics] Accuracy(layer_0 - estimator_0 - 10_folds.train_1.predict)=92.98%\n",
      "[ 2018-04-25 00:29:53,044][kfold_wrapper.log_eval_metrics] Accuracy(layer_0 - estimator_0 - 10_folds.train_2.predict)=95.61%\n",
      "[ 2018-04-25 00:29:53,861][kfold_wrapper.log_eval_metrics] Accuracy(layer_0 - estimator_0 - 10_folds.train_3.predict)=97.37%\n",
      "[ 2018-04-25 00:29:54,663][kfold_wrapper.log_eval_metrics] Accuracy(layer_0 - estimator_0 - 10_folds.train_4.predict)=98.23%\n",
      "[ 2018-04-25 00:29:55,467][kfold_wrapper.log_eval_metrics] Accuracy(layer_0 - estimator_0 - 10_folds.train_5.predict)=97.35%\n",
      "[ 2018-04-25 00:29:56,287][kfold_wrapper.log_eval_metrics] Accuracy(layer_0 - estimator_0 - 10_folds.train_6.predict)=98.21%\n",
      "[ 2018-04-25 00:29:57,109][kfold_wrapper.log_eval_metrics] Accuracy(layer_0 - estimator_0 - 10_folds.train_7.predict)=98.21%\n",
      "[ 2018-04-25 00:29:58,016][kfold_wrapper.log_eval_metrics] Accuracy(layer_0 - estimator_0 - 10_folds.train_8.predict)=99.11%\n",
      "[ 2018-04-25 00:29:58,812][kfold_wrapper.log_eval_metrics] Accuracy(layer_0 - estimator_0 - 10_folds.train_9.predict)=98.21%\n",
      "[ 2018-04-25 00:29:58,962][kfold_wrapper.log_eval_metrics] Accuracy(layer_0 - estimator_0 - 10_folds.train_cv.predict)=97.35%\n",
      "[ 2018-04-25 00:29:58,964][kfold_wrapper.log_eval_metrics] Accuracy(layer_0 - estimator_0 - 10_folds.test.predict)=98.75%\n",
      "[ 2018-04-25 00:29:58,969][cascade_classifier.calc_accuracy] Accuracy(layer_0 - train.classifier_average)=97.35%\n",
      "[ 2018-04-25 00:29:58,972][cascade_classifier.calc_accuracy] Accuracy(layer_0 - test.classifier_average)=98.75%\n",
      "[ 2018-04-25 00:29:58,973][cascade_classifier.fit_transform] [Result][Reach Max Layer] opt_layer_num=1, accuracy_train=97.35%, accuracy_test=98.75%\n",
      "[ 2018-04-25 00:29:58,975][cascade_classifier.transform] X_groups_test.shape=[(558, 23)]\n",
      "[ 2018-04-25 00:29:58,977][cascade_classifier.transform] group_dims=[23]\n",
      "[ 2018-04-25 00:29:58,979][cascade_classifier.transform] X_test.shape=(558, 23)\n",
      "[ 2018-04-25 00:29:58,980][cascade_classifier.transform] [layer=0] look_indexs=[0], X_cur_test.shape=(558, 23)\n",
      "[ 2018-04-25 00:30:00,458][cascade_classifier.fit_transform] X_groups_train.shape=[(1130, 23)],y_train.shape=(1130,),X_groups_test.shape=[(558, 23)],y_test.shape=(558,)\n",
      "[ 2018-04-25 00:30:00,460][cascade_classifier.fit_transform] group_dims=[23]\n",
      "[ 2018-04-25 00:30:00,461][cascade_classifier.fit_transform] group_starts=[0]\n",
      "[ 2018-04-25 00:30:00,463][cascade_classifier.fit_transform] group_ends=[23]\n",
      "[ 2018-04-25 00:30:00,464][cascade_classifier.fit_transform] X_train.shape=(1130, 23),X_test.shape=(558, 23)\n",
      "[ 2018-04-25 00:30:00,466][cascade_classifier.fit_transform] [layer=0] look_indexs=[0], X_cur_train.shape=(1130, 23), X_cur_test.shape=(558, 23)\n"
     ]
    },
    {
     "name": "stdout",
     "output_type": "stream",
     "text": [
      "('Test Accuracy of ExtraTrees = 98.745520 %', 14, 'fois')\n"
     ]
    },
    {
     "name": "stderr",
     "output_type": "stream",
     "text": [
      "[ 2018-04-25 00:30:01,116][kfold_wrapper.log_eval_metrics] Accuracy(layer_0 - estimator_0 - 10_folds.train_0.predict)=98.25%\n",
      "[ 2018-04-25 00:30:01,929][kfold_wrapper.log_eval_metrics] Accuracy(layer_0 - estimator_0 - 10_folds.train_1.predict)=94.74%\n",
      "[ 2018-04-25 00:30:02,742][kfold_wrapper.log_eval_metrics] Accuracy(layer_0 - estimator_0 - 10_folds.train_2.predict)=96.49%\n",
      "[ 2018-04-25 00:30:03,569][kfold_wrapper.log_eval_metrics] Accuracy(layer_0 - estimator_0 - 10_folds.train_3.predict)=98.25%\n",
      "[ 2018-04-25 00:30:04,412][kfold_wrapper.log_eval_metrics] Accuracy(layer_0 - estimator_0 - 10_folds.train_4.predict)=98.23%\n",
      "[ 2018-04-25 00:30:05,210][kfold_wrapper.log_eval_metrics] Accuracy(layer_0 - estimator_0 - 10_folds.train_5.predict)=97.35%\n",
      "[ 2018-04-25 00:30:06,061][kfold_wrapper.log_eval_metrics] Accuracy(layer_0 - estimator_0 - 10_folds.train_6.predict)=98.21%\n",
      "[ 2018-04-25 00:30:06,897][kfold_wrapper.log_eval_metrics] Accuracy(layer_0 - estimator_0 - 10_folds.train_7.predict)=98.21%\n",
      "[ 2018-04-25 00:30:07,707][kfold_wrapper.log_eval_metrics] Accuracy(layer_0 - estimator_0 - 10_folds.train_8.predict)=99.11%\n",
      "[ 2018-04-25 00:30:08,511][kfold_wrapper.log_eval_metrics] Accuracy(layer_0 - estimator_0 - 10_folds.train_9.predict)=98.21%\n",
      "[ 2018-04-25 00:30:08,662][kfold_wrapper.log_eval_metrics] Accuracy(layer_0 - estimator_0 - 10_folds.train_cv.predict)=97.70%\n",
      "[ 2018-04-25 00:30:08,664][kfold_wrapper.log_eval_metrics] Accuracy(layer_0 - estimator_0 - 10_folds.test.predict)=98.92%\n",
      "[ 2018-04-25 00:30:08,669][cascade_classifier.calc_accuracy] Accuracy(layer_0 - train.classifier_average)=97.70%\n",
      "[ 2018-04-25 00:30:08,671][cascade_classifier.calc_accuracy] Accuracy(layer_0 - test.classifier_average)=98.92%\n",
      "[ 2018-04-25 00:30:08,672][cascade_classifier.fit_transform] [Result][Reach Max Layer] opt_layer_num=1, accuracy_train=97.70%, accuracy_test=98.92%\n",
      "[ 2018-04-25 00:30:08,674][cascade_classifier.transform] X_groups_test.shape=[(558, 23)]\n",
      "[ 2018-04-25 00:30:08,676][cascade_classifier.transform] group_dims=[23]\n",
      "[ 2018-04-25 00:30:08,678][cascade_classifier.transform] X_test.shape=(558, 23)\n",
      "[ 2018-04-25 00:30:08,679][cascade_classifier.transform] [layer=0] look_indexs=[0], X_cur_test.shape=(558, 23)\n",
      "[ 2018-04-25 00:30:10,158][cascade_classifier.fit_transform] X_groups_train.shape=[(1130, 23)],y_train.shape=(1130,),X_groups_test.shape=[(558, 23)],y_test.shape=(558,)\n",
      "[ 2018-04-25 00:30:10,161][cascade_classifier.fit_transform] group_dims=[23]\n",
      "[ 2018-04-25 00:30:10,162][cascade_classifier.fit_transform] group_starts=[0]\n",
      "[ 2018-04-25 00:30:10,164][cascade_classifier.fit_transform] group_ends=[23]\n",
      "[ 2018-04-25 00:30:10,165][cascade_classifier.fit_transform] X_train.shape=(1130, 23),X_test.shape=(558, 23)\n",
      "[ 2018-04-25 00:30:10,167][cascade_classifier.fit_transform] [layer=0] look_indexs=[0], X_cur_train.shape=(1130, 23), X_cur_test.shape=(558, 23)\n"
     ]
    },
    {
     "name": "stdout",
     "output_type": "stream",
     "text": [
      "('Test Accuracy of ExtraTrees = 98.924731 %', 15, 'fois')\n"
     ]
    },
    {
     "name": "stderr",
     "output_type": "stream",
     "text": [
      "[ 2018-04-25 00:30:10,818][kfold_wrapper.log_eval_metrics] Accuracy(layer_0 - estimator_0 - 10_folds.train_0.predict)=97.37%\n",
      "[ 2018-04-25 00:30:11,644][kfold_wrapper.log_eval_metrics] Accuracy(layer_0 - estimator_0 - 10_folds.train_1.predict)=92.98%\n",
      "[ 2018-04-25 00:30:12,458][kfold_wrapper.log_eval_metrics] Accuracy(layer_0 - estimator_0 - 10_folds.train_2.predict)=97.37%\n",
      "[ 2018-04-25 00:30:13,253][kfold_wrapper.log_eval_metrics] Accuracy(layer_0 - estimator_0 - 10_folds.train_3.predict)=97.37%\n",
      "[ 2018-04-25 00:30:14,062][kfold_wrapper.log_eval_metrics] Accuracy(layer_0 - estimator_0 - 10_folds.train_4.predict)=97.35%\n",
      "[ 2018-04-25 00:30:14,891][kfold_wrapper.log_eval_metrics] Accuracy(layer_0 - estimator_0 - 10_folds.train_5.predict)=97.35%\n",
      "[ 2018-04-25 00:30:15,719][kfold_wrapper.log_eval_metrics] Accuracy(layer_0 - estimator_0 - 10_folds.train_6.predict)=98.21%\n",
      "[ 2018-04-25 00:30:16,521][kfold_wrapper.log_eval_metrics] Accuracy(layer_0 - estimator_0 - 10_folds.train_7.predict)=98.21%\n",
      "[ 2018-04-25 00:30:17,348][kfold_wrapper.log_eval_metrics] Accuracy(layer_0 - estimator_0 - 10_folds.train_8.predict)=99.11%\n",
      "[ 2018-04-25 00:30:18,128][kfold_wrapper.log_eval_metrics] Accuracy(layer_0 - estimator_0 - 10_folds.train_9.predict)=98.21%\n",
      "[ 2018-04-25 00:30:18,332][kfold_wrapper.log_eval_metrics] Accuracy(layer_0 - estimator_0 - 10_folds.train_cv.predict)=97.35%\n",
      "[ 2018-04-25 00:30:18,334][kfold_wrapper.log_eval_metrics] Accuracy(layer_0 - estimator_0 - 10_folds.test.predict)=98.75%\n",
      "[ 2018-04-25 00:30:18,338][cascade_classifier.calc_accuracy] Accuracy(layer_0 - train.classifier_average)=97.35%\n",
      "[ 2018-04-25 00:30:18,340][cascade_classifier.calc_accuracy] Accuracy(layer_0 - test.classifier_average)=98.75%\n",
      "[ 2018-04-25 00:30:18,342][cascade_classifier.fit_transform] [Result][Reach Max Layer] opt_layer_num=1, accuracy_train=97.35%, accuracy_test=98.75%\n",
      "[ 2018-04-25 00:30:18,344][cascade_classifier.transform] X_groups_test.shape=[(558, 23)]\n",
      "[ 2018-04-25 00:30:18,346][cascade_classifier.transform] group_dims=[23]\n",
      "[ 2018-04-25 00:30:18,347][cascade_classifier.transform] X_test.shape=(558, 23)\n",
      "[ 2018-04-25 00:30:18,349][cascade_classifier.transform] [layer=0] look_indexs=[0], X_cur_test.shape=(558, 23)\n",
      "[ 2018-04-25 00:30:19,830][cascade_classifier.fit_transform] X_groups_train.shape=[(1130, 23)],y_train.shape=(1130,),X_groups_test.shape=[(558, 23)],y_test.shape=(558,)\n",
      "[ 2018-04-25 00:30:19,832][cascade_classifier.fit_transform] group_dims=[23]\n",
      "[ 2018-04-25 00:30:19,833][cascade_classifier.fit_transform] group_starts=[0]\n",
      "[ 2018-04-25 00:30:19,835][cascade_classifier.fit_transform] group_ends=[23]\n",
      "[ 2018-04-25 00:30:19,836][cascade_classifier.fit_transform] X_train.shape=(1130, 23),X_test.shape=(558, 23)\n",
      "[ 2018-04-25 00:30:19,838][cascade_classifier.fit_transform] [layer=0] look_indexs=[0], X_cur_train.shape=(1130, 23), X_cur_test.shape=(558, 23)\n"
     ]
    },
    {
     "name": "stdout",
     "output_type": "stream",
     "text": [
      "('Test Accuracy of ExtraTrees = 98.745520 %', 16, 'fois')\n"
     ]
    },
    {
     "name": "stderr",
     "output_type": "stream",
     "text": [
      "[ 2018-04-25 00:30:20,486][kfold_wrapper.log_eval_metrics] Accuracy(layer_0 - estimator_0 - 10_folds.train_0.predict)=97.37%\n",
      "[ 2018-04-25 00:30:21,308][kfold_wrapper.log_eval_metrics] Accuracy(layer_0 - estimator_0 - 10_folds.train_1.predict)=92.98%\n",
      "[ 2018-04-25 00:30:22,095][kfold_wrapper.log_eval_metrics] Accuracy(layer_0 - estimator_0 - 10_folds.train_2.predict)=96.49%\n",
      "[ 2018-04-25 00:30:22,896][kfold_wrapper.log_eval_metrics] Accuracy(layer_0 - estimator_0 - 10_folds.train_3.predict)=97.37%\n",
      "[ 2018-04-25 00:30:23,698][kfold_wrapper.log_eval_metrics] Accuracy(layer_0 - estimator_0 - 10_folds.train_4.predict)=98.23%\n",
      "[ 2018-04-25 00:30:24,522][kfold_wrapper.log_eval_metrics] Accuracy(layer_0 - estimator_0 - 10_folds.train_5.predict)=97.35%\n",
      "[ 2018-04-25 00:30:25,316][kfold_wrapper.log_eval_metrics] Accuracy(layer_0 - estimator_0 - 10_folds.train_6.predict)=98.21%\n",
      "[ 2018-04-25 00:30:26,130][kfold_wrapper.log_eval_metrics] Accuracy(layer_0 - estimator_0 - 10_folds.train_7.predict)=98.21%\n",
      "[ 2018-04-25 00:30:26,911][kfold_wrapper.log_eval_metrics] Accuracy(layer_0 - estimator_0 - 10_folds.train_8.predict)=99.11%\n",
      "[ 2018-04-25 00:30:27,705][kfold_wrapper.log_eval_metrics] Accuracy(layer_0 - estimator_0 - 10_folds.train_9.predict)=98.21%\n",
      "[ 2018-04-25 00:30:27,858][kfold_wrapper.log_eval_metrics] Accuracy(layer_0 - estimator_0 - 10_folds.train_cv.predict)=97.35%\n",
      "[ 2018-04-25 00:30:27,860][kfold_wrapper.log_eval_metrics] Accuracy(layer_0 - estimator_0 - 10_folds.test.predict)=98.92%\n",
      "[ 2018-04-25 00:30:27,864][cascade_classifier.calc_accuracy] Accuracy(layer_0 - train.classifier_average)=97.35%\n",
      "[ 2018-04-25 00:30:27,866][cascade_classifier.calc_accuracy] Accuracy(layer_0 - test.classifier_average)=98.92%\n",
      "[ 2018-04-25 00:30:27,868][cascade_classifier.fit_transform] [Result][Reach Max Layer] opt_layer_num=1, accuracy_train=97.35%, accuracy_test=98.92%\n",
      "[ 2018-04-25 00:30:27,869][cascade_classifier.transform] X_groups_test.shape=[(558, 23)]\n",
      "[ 2018-04-25 00:30:27,871][cascade_classifier.transform] group_dims=[23]\n",
      "[ 2018-04-25 00:30:27,873][cascade_classifier.transform] X_test.shape=(558, 23)\n",
      "[ 2018-04-25 00:30:27,874][cascade_classifier.transform] [layer=0] look_indexs=[0], X_cur_test.shape=(558, 23)\n",
      "[ 2018-04-25 00:30:29,333][cascade_classifier.fit_transform] X_groups_train.shape=[(1130, 23)],y_train.shape=(1130,),X_groups_test.shape=[(558, 23)],y_test.shape=(558,)\n",
      "[ 2018-04-25 00:30:29,335][cascade_classifier.fit_transform] group_dims=[23]\n",
      "[ 2018-04-25 00:30:29,337][cascade_classifier.fit_transform] group_starts=[0]\n",
      "[ 2018-04-25 00:30:29,338][cascade_classifier.fit_transform] group_ends=[23]\n",
      "[ 2018-04-25 00:30:29,340][cascade_classifier.fit_transform] X_train.shape=(1130, 23),X_test.shape=(558, 23)\n",
      "[ 2018-04-25 00:30:29,342][cascade_classifier.fit_transform] [layer=0] look_indexs=[0], X_cur_train.shape=(1130, 23), X_cur_test.shape=(558, 23)\n"
     ]
    },
    {
     "name": "stdout",
     "output_type": "stream",
     "text": [
      "('Test Accuracy of ExtraTrees = 98.924731 %', 17, 'fois')\n"
     ]
    },
    {
     "name": "stderr",
     "output_type": "stream",
     "text": [
      "[ 2018-04-25 00:30:29,962][kfold_wrapper.log_eval_metrics] Accuracy(layer_0 - estimator_0 - 10_folds.train_0.predict)=97.37%\n",
      "[ 2018-04-25 00:30:30,756][kfold_wrapper.log_eval_metrics] Accuracy(layer_0 - estimator_0 - 10_folds.train_1.predict)=92.98%\n",
      "[ 2018-04-25 00:30:31,548][kfold_wrapper.log_eval_metrics] Accuracy(layer_0 - estimator_0 - 10_folds.train_2.predict)=98.25%\n",
      "[ 2018-04-25 00:30:32,362][kfold_wrapper.log_eval_metrics] Accuracy(layer_0 - estimator_0 - 10_folds.train_3.predict)=97.37%\n",
      "[ 2018-04-25 00:30:33,172][kfold_wrapper.log_eval_metrics] Accuracy(layer_0 - estimator_0 - 10_folds.train_4.predict)=98.23%\n",
      "[ 2018-04-25 00:30:34,009][kfold_wrapper.log_eval_metrics] Accuracy(layer_0 - estimator_0 - 10_folds.train_5.predict)=96.46%\n",
      "[ 2018-04-25 00:30:34,796][kfold_wrapper.log_eval_metrics] Accuracy(layer_0 - estimator_0 - 10_folds.train_6.predict)=98.21%\n",
      "[ 2018-04-25 00:30:35,593][kfold_wrapper.log_eval_metrics] Accuracy(layer_0 - estimator_0 - 10_folds.train_7.predict)=98.21%\n",
      "[ 2018-04-25 00:30:36,400][kfold_wrapper.log_eval_metrics] Accuracy(layer_0 - estimator_0 - 10_folds.train_8.predict)=99.11%\n",
      "[ 2018-04-25 00:30:37,201][kfold_wrapper.log_eval_metrics] Accuracy(layer_0 - estimator_0 - 10_folds.train_9.predict)=98.21%\n",
      "[ 2018-04-25 00:30:37,348][kfold_wrapper.log_eval_metrics] Accuracy(layer_0 - estimator_0 - 10_folds.train_cv.predict)=97.43%\n",
      "[ 2018-04-25 00:30:37,349][kfold_wrapper.log_eval_metrics] Accuracy(layer_0 - estimator_0 - 10_folds.test.predict)=98.92%\n",
      "[ 2018-04-25 00:30:37,354][cascade_classifier.calc_accuracy] Accuracy(layer_0 - train.classifier_average)=97.43%\n",
      "[ 2018-04-25 00:30:37,355][cascade_classifier.calc_accuracy] Accuracy(layer_0 - test.classifier_average)=98.92%\n",
      "[ 2018-04-25 00:30:37,357][cascade_classifier.fit_transform] [Result][Reach Max Layer] opt_layer_num=1, accuracy_train=97.43%, accuracy_test=98.92%\n",
      "[ 2018-04-25 00:30:37,358][cascade_classifier.transform] X_groups_test.shape=[(558, 23)]\n",
      "[ 2018-04-25 00:30:37,361][cascade_classifier.transform] group_dims=[23]\n",
      "[ 2018-04-25 00:30:37,362][cascade_classifier.transform] X_test.shape=(558, 23)\n",
      "[ 2018-04-25 00:30:37,364][cascade_classifier.transform] [layer=0] look_indexs=[0], X_cur_test.shape=(558, 23)\n",
      "[ 2018-04-25 00:30:38,847][cascade_classifier.fit_transform] X_groups_train.shape=[(1130, 23)],y_train.shape=(1130,),X_groups_test.shape=[(558, 23)],y_test.shape=(558,)\n",
      "[ 2018-04-25 00:30:38,849][cascade_classifier.fit_transform] group_dims=[23]\n",
      "[ 2018-04-25 00:30:38,851][cascade_classifier.fit_transform] group_starts=[0]\n",
      "[ 2018-04-25 00:30:38,852][cascade_classifier.fit_transform] group_ends=[23]\n",
      "[ 2018-04-25 00:30:38,854][cascade_classifier.fit_transform] X_train.shape=(1130, 23),X_test.shape=(558, 23)\n",
      "[ 2018-04-25 00:30:38,856][cascade_classifier.fit_transform] [layer=0] look_indexs=[0], X_cur_train.shape=(1130, 23), X_cur_test.shape=(558, 23)\n"
     ]
    },
    {
     "name": "stdout",
     "output_type": "stream",
     "text": [
      "('Test Accuracy of ExtraTrees = 98.924731 %', 18, 'fois')\n"
     ]
    },
    {
     "name": "stderr",
     "output_type": "stream",
     "text": [
      "[ 2018-04-25 00:30:39,502][kfold_wrapper.log_eval_metrics] Accuracy(layer_0 - estimator_0 - 10_folds.train_0.predict)=97.37%\n",
      "[ 2018-04-25 00:30:40,307][kfold_wrapper.log_eval_metrics] Accuracy(layer_0 - estimator_0 - 10_folds.train_1.predict)=92.98%\n",
      "[ 2018-04-25 00:30:41,140][kfold_wrapper.log_eval_metrics] Accuracy(layer_0 - estimator_0 - 10_folds.train_2.predict)=97.37%\n",
      "[ 2018-04-25 00:30:41,969][kfold_wrapper.log_eval_metrics] Accuracy(layer_0 - estimator_0 - 10_folds.train_3.predict)=97.37%\n",
      "[ 2018-04-25 00:30:42,768][kfold_wrapper.log_eval_metrics] Accuracy(layer_0 - estimator_0 - 10_folds.train_4.predict)=98.23%\n",
      "[ 2018-04-25 00:30:43,567][kfold_wrapper.log_eval_metrics] Accuracy(layer_0 - estimator_0 - 10_folds.train_5.predict)=97.35%\n",
      "[ 2018-04-25 00:30:44,356][kfold_wrapper.log_eval_metrics] Accuracy(layer_0 - estimator_0 - 10_folds.train_6.predict)=98.21%\n",
      "[ 2018-04-25 00:30:45,154][kfold_wrapper.log_eval_metrics] Accuracy(layer_0 - estimator_0 - 10_folds.train_7.predict)=98.21%\n",
      "[ 2018-04-25 00:30:45,945][kfold_wrapper.log_eval_metrics] Accuracy(layer_0 - estimator_0 - 10_folds.train_8.predict)=99.11%\n",
      "[ 2018-04-25 00:30:46,846][kfold_wrapper.log_eval_metrics] Accuracy(layer_0 - estimator_0 - 10_folds.train_9.predict)=98.21%\n",
      "[ 2018-04-25 00:30:46,999][kfold_wrapper.log_eval_metrics] Accuracy(layer_0 - estimator_0 - 10_folds.train_cv.predict)=97.43%\n",
      "[ 2018-04-25 00:30:47,001][kfold_wrapper.log_eval_metrics] Accuracy(layer_0 - estimator_0 - 10_folds.test.predict)=98.57%\n",
      "[ 2018-04-25 00:30:47,005][cascade_classifier.calc_accuracy] Accuracy(layer_0 - train.classifier_average)=97.43%\n",
      "[ 2018-04-25 00:30:47,007][cascade_classifier.calc_accuracy] Accuracy(layer_0 - test.classifier_average)=98.57%\n",
      "[ 2018-04-25 00:30:47,009][cascade_classifier.fit_transform] [Result][Reach Max Layer] opt_layer_num=1, accuracy_train=97.43%, accuracy_test=98.57%\n",
      "[ 2018-04-25 00:30:47,011][cascade_classifier.transform] X_groups_test.shape=[(558, 23)]\n",
      "[ 2018-04-25 00:30:47,013][cascade_classifier.transform] group_dims=[23]\n",
      "[ 2018-04-25 00:30:47,014][cascade_classifier.transform] X_test.shape=(558, 23)\n",
      "[ 2018-04-25 00:30:47,016][cascade_classifier.transform] [layer=0] look_indexs=[0], X_cur_test.shape=(558, 23)\n"
     ]
    },
    {
     "name": "stdout",
     "output_type": "stream",
     "text": [
      "('Test Accuracy of ExtraTrees = 98.566308 %', 19, 'fois')\n"
     ]
    }
   ],
   "source": [
    "# Deep\n",
    "for i in range (20):\n",
    "    X_train,X_test=update(X_train,X_test)\n",
    "    X_test_enc, X_train_enc=newdata(X_test_enc, X_train_enc)\n",
    "\n",
    "    X_train=X_train_enc\n",
    "    X_test=X_test_enc \n",
    "    X_train_enc, X_test_enc = gc.fit_transform(X_train, y_train, X_test=X_test, y_test=y_test)\n",
    "    affiche()"
   ]
  },
  {
   "cell_type": "code",
   "execution_count": null,
   "metadata": {
    "collapsed": true
   },
   "outputs": [],
   "source": []
  },
  {
   "cell_type": "markdown",
   "metadata": {
    "collapsed": true
   },
   "source": [
    "# ('Test Accuracy of ExtraTrees = 99.283154 %', 1, 'fois')"
   ]
  },
  {
   "cell_type": "code",
   "execution_count": null,
   "metadata": {
    "collapsed": true
   },
   "outputs": [],
   "source": []
  }
 ],
 "metadata": {
  "kernelspec": {
   "display_name": "Python 2",
   "language": "python",
   "name": "python2"
  },
  "language_info": {
   "codemirror_mode": {
    "name": "ipython",
    "version": 2
   },
   "file_extension": ".py",
   "mimetype": "text/x-python",
   "name": "python",
   "nbconvert_exporter": "python",
   "pygments_lexer": "ipython2",
   "version": "2.7.14"
  }
 },
 "nbformat": 4,
 "nbformat_minor": 2
}
