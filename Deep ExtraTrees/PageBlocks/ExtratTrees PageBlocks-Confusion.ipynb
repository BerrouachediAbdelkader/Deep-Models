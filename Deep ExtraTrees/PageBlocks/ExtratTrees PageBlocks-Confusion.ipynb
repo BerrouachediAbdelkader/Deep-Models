{
 "cells": [
  {
   "cell_type": "code",
   "execution_count": 1,
   "metadata": {
    "collapsed": true
   },
   "outputs": [],
   "source": [
    "# imports \n",
    "import numpy as np\n",
    "from math import sqrt \n",
    "from pprint import pprint\n",
    "from numpy import array\n",
    "from scipy.io import arff\n",
    "import pandas as pd"
   ]
  },
  {
   "cell_type": "code",
   "execution_count": 2,
   "metadata": {},
   "outputs": [
    {
     "data": {
      "text/html": [
       "<div>\n",
       "<style>\n",
       "    .dataframe thead tr:only-child th {\n",
       "        text-align: right;\n",
       "    }\n",
       "\n",
       "    .dataframe thead th {\n",
       "        text-align: left;\n",
       "    }\n",
       "\n",
       "    .dataframe tbody tr th {\n",
       "        vertical-align: top;\n",
       "    }\n",
       "</style>\n",
       "<table border=\"1\" class=\"dataframe\">\n",
       "  <thead>\n",
       "    <tr style=\"text-align: right;\">\n",
       "      <th></th>\n",
       "      <th>att1</th>\n",
       "      <th>att2</th>\n",
       "      <th>att3</th>\n",
       "      <th>att4</th>\n",
       "      <th>att5</th>\n",
       "      <th>att6</th>\n",
       "      <th>att7</th>\n",
       "      <th>att8</th>\n",
       "      <th>att9</th>\n",
       "      <th>att10</th>\n",
       "      <th>outlier</th>\n",
       "    </tr>\n",
       "  </thead>\n",
       "  <tbody>\n",
       "    <tr>\n",
       "      <th>0</th>\n",
       "      <td>5.0</td>\n",
       "      <td>7.0</td>\n",
       "      <td>35.0</td>\n",
       "      <td>1.400</td>\n",
       "      <td>0.400</td>\n",
       "      <td>0.657</td>\n",
       "      <td>2.33</td>\n",
       "      <td>14.0</td>\n",
       "      <td>23.0</td>\n",
       "      <td>6.0</td>\n",
       "      <td>0</td>\n",
       "    </tr>\n",
       "    <tr>\n",
       "      <th>1</th>\n",
       "      <td>6.0</td>\n",
       "      <td>7.0</td>\n",
       "      <td>42.0</td>\n",
       "      <td>1.167</td>\n",
       "      <td>0.429</td>\n",
       "      <td>0.881</td>\n",
       "      <td>3.60</td>\n",
       "      <td>18.0</td>\n",
       "      <td>37.0</td>\n",
       "      <td>5.0</td>\n",
       "      <td>0</td>\n",
       "    </tr>\n",
       "    <tr>\n",
       "      <th>2</th>\n",
       "      <td>6.0</td>\n",
       "      <td>18.0</td>\n",
       "      <td>108.0</td>\n",
       "      <td>3.000</td>\n",
       "      <td>0.287</td>\n",
       "      <td>0.741</td>\n",
       "      <td>4.43</td>\n",
       "      <td>31.0</td>\n",
       "      <td>80.0</td>\n",
       "      <td>7.0</td>\n",
       "      <td>0</td>\n",
       "    </tr>\n",
       "    <tr>\n",
       "      <th>3</th>\n",
       "      <td>5.0</td>\n",
       "      <td>7.0</td>\n",
       "      <td>35.0</td>\n",
       "      <td>1.400</td>\n",
       "      <td>0.371</td>\n",
       "      <td>0.743</td>\n",
       "      <td>4.33</td>\n",
       "      <td>13.0</td>\n",
       "      <td>26.0</td>\n",
       "      <td>3.0</td>\n",
       "      <td>0</td>\n",
       "    </tr>\n",
       "    <tr>\n",
       "      <th>4</th>\n",
       "      <td>6.0</td>\n",
       "      <td>3.0</td>\n",
       "      <td>18.0</td>\n",
       "      <td>0.500</td>\n",
       "      <td>0.500</td>\n",
       "      <td>0.944</td>\n",
       "      <td>2.25</td>\n",
       "      <td>9.0</td>\n",
       "      <td>17.0</td>\n",
       "      <td>4.0</td>\n",
       "      <td>0</td>\n",
       "    </tr>\n",
       "  </tbody>\n",
       "</table>\n",
       "</div>"
      ],
      "text/plain": [
       "   att1  att2   att3   att4   att5   att6  att7  att8  att9  att10  outlier\n",
       "0   5.0   7.0   35.0  1.400  0.400  0.657  2.33  14.0  23.0    6.0        0\n",
       "1   6.0   7.0   42.0  1.167  0.429  0.881  3.60  18.0  37.0    5.0        0\n",
       "2   6.0  18.0  108.0  3.000  0.287  0.741  4.43  31.0  80.0    7.0        0\n",
       "3   5.0   7.0   35.0  1.400  0.371  0.743  4.33  13.0  26.0    3.0        0\n",
       "4   6.0   3.0   18.0  0.500  0.500  0.944  2.25   9.0  17.0    4.0        0"
      ]
     },
     "execution_count": 2,
     "metadata": {},
     "output_type": "execute_result"
    }
   ],
   "source": [
    "# load data\n",
    "df=pd.read_csv('PageBlocks_withoutdupl_02_v02.csv')  \n",
    "\n",
    "del df['id']\n",
    "del df['Unnamed: 0']\n",
    "\n",
    "df.head()"
   ]
  },
  {
   "cell_type": "code",
   "execution_count": 3,
   "metadata": {},
   "outputs": [
    {
     "data": {
      "text/plain": [
       "(4982, 11)"
      ]
     },
     "execution_count": 3,
     "metadata": {},
     "output_type": "execute_result"
    }
   ],
   "source": [
    "df.shape"
   ]
  },
  {
   "cell_type": "code",
   "execution_count": 4,
   "metadata": {
    "collapsed": true
   },
   "outputs": [],
   "source": [
    "# data to values\n",
    "df = df.values"
   ]
  },
  {
   "cell_type": "code",
   "execution_count": 5,
   "metadata": {
    "collapsed": true
   },
   "outputs": [],
   "source": [
    "# Extratrees Deep\n",
    "import argparse\n",
    "import sys\n",
    "import pickle\n",
    "from sklearn.metrics import accuracy_score\n",
    "sys.path.insert(0, \"lib\")\n",
    "from gcforest.gcforest import GCForest\n",
    "from gcforest.utils.config_utils import load_json\n",
    "config = load_json(\"./examples/PageBlocks.json\")\n",
    "gc = GCForest(config)"
   ]
  },
  {
   "cell_type": "code",
   "execution_count": 6,
   "metadata": {},
   "outputs": [
    {
     "name": "stderr",
     "output_type": "stream",
     "text": [
      "/home/kader/anaconda3/envs/py27/lib/python2.7/site-packages/sklearn/cross_validation.py:41: DeprecationWarning: This module was deprecated in version 0.18 in favor of the model_selection module into which all the refactored classes and functions are moved. Also note that the interface of the new CV iterators are different from that of this module. This module will be removed in 0.20.\n",
      "  \"This module will be removed in 0.20.\", DeprecationWarning)\n"
     ]
    }
   ],
   "source": [
    "# train test \n",
    "from sklearn.cross_validation import train_test_split\n",
    "y = df[:,10]\n",
    "X = df[:,0:10]\n",
    "\n",
    "X_train,X_test,y_train,y_test = train_test_split(X, y, test_size=0.33, random_state=42)"
   ]
  },
  {
   "cell_type": "code",
   "execution_count": 7,
   "metadata": {},
   "outputs": [
    {
     "data": {
      "text/plain": [
       "2"
      ]
     },
     "execution_count": 7,
     "metadata": {},
     "output_type": "execute_result"
    }
   ],
   "source": [
    "# number of class\n",
    "len(np.unique(y_train))"
   ]
  },
  {
   "cell_type": "code",
   "execution_count": 8,
   "metadata": {},
   "outputs": [
    {
     "name": "stderr",
     "output_type": "stream",
     "text": [
      "[ 2018-05-15 10:22:54,344][cascade_classifier.fit_transform] X_groups_train.shape=[(3337, 10)],y_train.shape=(3337,),X_groups_test.shape=[(1645, 10)],y_test.shape=(1645,)\n",
      "[ 2018-05-15 10:22:54,349][cascade_classifier.fit_transform] group_dims=[10]\n",
      "[ 2018-05-15 10:22:54,357][cascade_classifier.fit_transform] group_starts=[0]\n",
      "[ 2018-05-15 10:22:54,359][cascade_classifier.fit_transform] group_ends=[10]\n",
      "[ 2018-05-15 10:22:54,369][cascade_classifier.fit_transform] X_train.shape=(3337, 10),X_test.shape=(1645, 10)\n",
      "[ 2018-05-15 10:22:54,371][cascade_classifier.fit_transform] [layer=0] look_indexs=[0], X_cur_train.shape=(3337, 10), X_cur_test.shape=(1645, 10)\n",
      "[ 2018-05-15 10:22:55,613][kfold_wrapper.log_eval_metrics] Accuracy(layer_0 - estimator_0 - 10_folds.train_0.predict)=99.70%\n",
      "[ 2018-05-15 10:22:56,633][kfold_wrapper.log_eval_metrics] Accuracy(layer_0 - estimator_0 - 10_folds.train_1.predict)=98.81%\n",
      "[ 2018-05-15 10:22:57,714][kfold_wrapper.log_eval_metrics] Accuracy(layer_0 - estimator_0 - 10_folds.train_2.predict)=98.21%\n",
      "[ 2018-05-15 10:22:59,049][kfold_wrapper.log_eval_metrics] Accuracy(layer_0 - estimator_0 - 10_folds.train_3.predict)=98.80%\n",
      "[ 2018-05-15 10:22:59,948][kfold_wrapper.log_eval_metrics] Accuracy(layer_0 - estimator_0 - 10_folds.train_4.predict)=99.40%\n",
      "[ 2018-05-15 10:23:01,123][kfold_wrapper.log_eval_metrics] Accuracy(layer_0 - estimator_0 - 10_folds.train_5.predict)=99.10%\n",
      "[ 2018-05-15 10:23:02,342][kfold_wrapper.log_eval_metrics] Accuracy(layer_0 - estimator_0 - 10_folds.train_6.predict)=98.80%\n",
      "[ 2018-05-15 10:23:03,184][kfold_wrapper.log_eval_metrics] Accuracy(layer_0 - estimator_0 - 10_folds.train_7.predict)=98.80%\n",
      "[ 2018-05-15 10:23:04,343][kfold_wrapper.log_eval_metrics] Accuracy(layer_0 - estimator_0 - 10_folds.train_8.predict)=98.50%\n",
      "[ 2018-05-15 10:23:05,718][kfold_wrapper.log_eval_metrics] Accuracy(layer_0 - estimator_0 - 10_folds.train_9.predict)=99.10%\n",
      "[ 2018-05-15 10:23:05,959][kfold_wrapper.log_eval_metrics] Accuracy(layer_0 - estimator_0 - 10_folds.train_cv.predict)=98.92%\n",
      "[ 2018-05-15 10:23:05,961][kfold_wrapper.log_eval_metrics] Accuracy(layer_0 - estimator_0 - 10_folds.test.predict)=98.66%\n",
      "[ 2018-05-15 10:23:05,964][cascade_classifier.calc_accuracy] Accuracy(layer_0 - train.classifier_average)=98.92%\n",
      "[ 2018-05-15 10:23:05,966][cascade_classifier.calc_accuracy] Accuracy(layer_0 - test.classifier_average)=98.66%\n",
      "[ 2018-05-15 10:23:05,968][cascade_classifier.fit_transform] [Result][Reach Max Layer] opt_layer_num=1, accuracy_train=98.92%, accuracy_test=98.66%\n"
     ]
    }
   ],
   "source": [
    "          # X_enc is the concatenated predict_proba result of ExtraTrees\n",
    "\n",
    "X_train_enc, X_test_enc = gc.fit_transform(X_train, y_train, X_test=X_test, y_test=y_test)\n",
    "   "
   ]
  },
  {
   "cell_type": "code",
   "execution_count": 9,
   "metadata": {},
   "outputs": [
    {
     "name": "stderr",
     "output_type": "stream",
     "text": [
      "[ 2018-05-15 10:23:05,979][cascade_classifier.transform] X_groups_test.shape=[(1645, 10)]\n",
      "[ 2018-05-15 10:23:05,980][cascade_classifier.transform] group_dims=[10]\n",
      "[ 2018-05-15 10:23:05,981][cascade_classifier.transform] X_test.shape=(1645, 10)\n",
      "[ 2018-05-15 10:23:05,983][cascade_classifier.transform] [layer=0] look_indexs=[0], X_cur_test.shape=(1645, 10)\n"
     ]
    },
    {
     "name": "stdout",
     "output_type": "stream",
     "text": [
      "Test Accuracy of ExtraTrees = 98.662614 %\n"
     ]
    }
   ],
   "source": [
    "# predict\n",
    "y_pred = gc.predict(X_test)\n",
    "acc = accuracy_score(y_test, y_pred)\n",
    "print(\"Test Accuracy of ExtraTrees = {:.6f} %\".format(acc * 100))"
   ]
  },
  {
   "cell_type": "code",
   "execution_count": 10,
   "metadata": {},
   "outputs": [
    {
     "name": "stdout",
     "output_type": "stream",
     "text": [
      "[[1609    1]\n",
      " [  21   14]]\n",
      "\n",
      "\n",
      "             precision    recall  f1-score   support\n",
      "\n",
      "        0.0       0.99      1.00      0.99      1610\n",
      "        1.0       0.93      0.40      0.56        35\n",
      "\n",
      "avg / total       0.99      0.99      0.98      1645\n",
      "\n"
     ]
    }
   ],
   "source": [
    "# Matrix de confusion\n",
    "from sklearn.metrics import classification_report, confusion_matrix\n",
    "print(confusion_matrix(y_test,y_pred))\n",
    "print('\\n')\n",
    "print(classification_report(y_test,y_pred))"
   ]
  },
  {
   "cell_type": "code",
   "execution_count": 11,
   "metadata": {},
   "outputs": [
    {
     "name": "stderr",
     "output_type": "stream",
     "text": [
      "[ 2018-05-15 10:23:07,923][cascade_classifier.transform] X_groups_test.shape=[(1645, 10)]\n",
      "[ 2018-05-15 10:23:07,925][cascade_classifier.transform] group_dims=[10]\n",
      "[ 2018-05-15 10:23:07,936][cascade_classifier.transform] X_test.shape=(1645, 10)\n",
      "[ 2018-05-15 10:23:07,938][cascade_classifier.transform] [layer=0] look_indexs=[0], X_cur_test.shape=(1645, 10)\n"
     ]
    }
   ],
   "source": [
    "# Make data + estimators\n",
    "X_test_enc = gc.transform(X_test)\n",
    "X_train_enc = X_train_enc.reshape((X_train_enc.shape[0], -1))\n",
    "X_test_enc = X_test_enc.reshape((X_test_enc.shape[0], -1))\n",
    "X_train_origin = X_train.reshape((X_train.shape[0], -1))\n",
    "X_test_origin = X_test.reshape((X_test.shape[0], -1))\n",
    "X_train_enc = np.hstack((X_train_origin, X_train_enc))\n",
    "X_test_enc = np.hstack((X_test_origin, X_test_enc))"
   ]
  },
  {
   "cell_type": "code",
   "execution_count": 12,
   "metadata": {},
   "outputs": [
    {
     "name": "stderr",
     "output_type": "stream",
     "text": [
      "[ 2018-05-15 10:23:09,344][cascade_classifier.fit_transform] X_groups_train.shape=[(3337, 12)],y_train.shape=(3337,),X_groups_test.shape=[(1645, 12)],y_test.shape=(1645,)\n",
      "[ 2018-05-15 10:23:09,355][cascade_classifier.fit_transform] group_dims=[12]\n",
      "[ 2018-05-15 10:23:09,360][cascade_classifier.fit_transform] group_starts=[0]\n",
      "[ 2018-05-15 10:23:09,361][cascade_classifier.fit_transform] group_ends=[12]\n",
      "[ 2018-05-15 10:23:09,364][cascade_classifier.fit_transform] X_train.shape=(3337, 12),X_test.shape=(1645, 12)\n",
      "[ 2018-05-15 10:23:09,365][cascade_classifier.fit_transform] [layer=0] look_indexs=[0], X_cur_train.shape=(3337, 12), X_cur_test.shape=(1645, 12)\n",
      "[ 2018-05-15 10:23:10,310][kfold_wrapper.log_eval_metrics] Accuracy(layer_0 - estimator_0 - 10_folds.train_0.predict)=99.70%\n",
      "[ 2018-05-15 10:23:11,525][kfold_wrapper.log_eval_metrics] Accuracy(layer_0 - estimator_0 - 10_folds.train_1.predict)=99.10%\n",
      "[ 2018-05-15 10:23:12,468][kfold_wrapper.log_eval_metrics] Accuracy(layer_0 - estimator_0 - 10_folds.train_2.predict)=98.21%\n",
      "[ 2018-05-15 10:23:13,256][kfold_wrapper.log_eval_metrics] Accuracy(layer_0 - estimator_0 - 10_folds.train_3.predict)=99.40%\n",
      "[ 2018-05-15 10:23:14,081][kfold_wrapper.log_eval_metrics] Accuracy(layer_0 - estimator_0 - 10_folds.train_4.predict)=99.40%\n",
      "[ 2018-05-15 10:23:15,019][kfold_wrapper.log_eval_metrics] Accuracy(layer_0 - estimator_0 - 10_folds.train_5.predict)=98.80%\n",
      "[ 2018-05-15 10:23:16,322][kfold_wrapper.log_eval_metrics] Accuracy(layer_0 - estimator_0 - 10_folds.train_6.predict)=99.10%\n",
      "[ 2018-05-15 10:23:17,384][kfold_wrapper.log_eval_metrics] Accuracy(layer_0 - estimator_0 - 10_folds.train_7.predict)=98.80%\n",
      "[ 2018-05-15 10:23:18,401][kfold_wrapper.log_eval_metrics] Accuracy(layer_0 - estimator_0 - 10_folds.train_8.predict)=98.50%\n",
      "[ 2018-05-15 10:23:19,633][kfold_wrapper.log_eval_metrics] Accuracy(layer_0 - estimator_0 - 10_folds.train_9.predict)=99.40%\n",
      "[ 2018-05-15 10:23:19,872][kfold_wrapper.log_eval_metrics] Accuracy(layer_0 - estimator_0 - 10_folds.train_cv.predict)=99.04%\n",
      "[ 2018-05-15 10:23:19,875][kfold_wrapper.log_eval_metrics] Accuracy(layer_0 - estimator_0 - 10_folds.test.predict)=99.09%\n",
      "[ 2018-05-15 10:23:19,885][cascade_classifier.calc_accuracy] Accuracy(layer_0 - train.classifier_average)=99.04%\n",
      "[ 2018-05-15 10:23:19,890][cascade_classifier.calc_accuracy] Accuracy(layer_0 - test.classifier_average)=99.09%\n",
      "[ 2018-05-15 10:23:19,894][cascade_classifier.fit_transform] [Result][Reach Max Layer] opt_layer_num=1, accuracy_train=99.04%, accuracy_test=99.09%\n"
     ]
    }
   ],
   "source": [
    "# New data\n",
    "X_train=X_train_enc\n",
    "X_test=X_test_enc \n",
    "X_train_enc, X_test_enc = gc.fit_transform(X_train, y_train, X_test=X_test, y_test=y_test)"
   ]
  },
  {
   "cell_type": "code",
   "execution_count": 13,
   "metadata": {},
   "outputs": [
    {
     "name": "stderr",
     "output_type": "stream",
     "text": [
      "[ 2018-05-15 10:23:19,922][cascade_classifier.transform] X_groups_test.shape=[(1645, 12)]\n",
      "[ 2018-05-15 10:23:19,934][cascade_classifier.transform] group_dims=[12]\n",
      "[ 2018-05-15 10:23:19,936][cascade_classifier.transform] X_test.shape=(1645, 12)\n",
      "[ 2018-05-15 10:23:19,938][cascade_classifier.transform] [layer=0] look_indexs=[0], X_cur_test.shape=(1645, 12)\n"
     ]
    },
    {
     "name": "stdout",
     "output_type": "stream",
     "text": [
      "Test Accuracy of ExtraTrees = 99.088146 %\n"
     ]
    }
   ],
   "source": [
    "# predict  data + Es\n",
    "y_pred = gc.predict(X_test)\n",
    "acc = accuracy_score(y_test, y_pred)\n",
    "print(\"Test Accuracy of ExtraTrees = {:.6f} %\".format(acc * 100))"
   ]
  },
  {
   "cell_type": "code",
   "execution_count": 14,
   "metadata": {},
   "outputs": [
    {
     "name": "stdout",
     "output_type": "stream",
     "text": [
      "[[1608    2]\n",
      " [  13   22]]\n",
      "\n",
      "\n",
      "             precision    recall  f1-score   support\n",
      "\n",
      "        0.0       0.99      1.00      1.00      1610\n",
      "        1.0       0.92      0.63      0.75        35\n",
      "\n",
      "avg / total       0.99      0.99      0.99      1645\n",
      "\n"
     ]
    }
   ],
   "source": [
    "# Matrix de confusion\n",
    "from sklearn.metrics import classification_report, confusion_matrix\n",
    "print(confusion_matrix(y_test,y_pred))\n",
    "print('\\n')\n",
    "print(classification_report(y_test,y_pred))"
   ]
  },
  {
   "cell_type": "code",
   "execution_count": 15,
   "metadata": {
    "collapsed": true
   },
   "outputs": [],
   "source": [
    "def update(X_train,X_test):\n",
    "    # update Estimators\n",
    "    M = np.delete(X_train, (-1), axis=1)\n",
    "    X_train= np.delete(M, (-1), axis=1)\n",
    "    M = np.delete(X_test, (-1), axis=1)\n",
    "    X_test = np.delete(M, (-1), axis=1)\n",
    "    return X_train,X_test\n",
    "\n",
    "def newdata(X_test_enc, X_train_enc):\n",
    "    # Make Data + Estimators\n",
    "    X_train_origin = X_train.reshape((X_train.shape[0], -1))\n",
    "    X_test_origin = X_test.reshape((X_test.shape[0], -1))\n",
    "    X_train_enc = np.hstack((X_train_origin, X_train_enc))\n",
    "    X_test_enc = np.hstack((X_test_origin, X_test_enc))\n",
    "    return X_test_enc, X_train_enc\n",
    "\n",
    "def affiche():\n",
    "    # predict\n",
    "    y_pred = gc.predict(X_test)\n",
    "    acc = accuracy_score(y_test, y_pred)\n",
    "    print(\"Test Accuracy of ExtraTrees = {:.6f} %\".format(acc * 100),i,'fois')\n",
    "    # Matrix de confusion\n",
    "    from sklearn.metrics import classification_report, confusion_matrix\n",
    "    print(confusion_matrix(y_test,y_pred))\n",
    "    print('\\n')\n",
    "    print(classification_report(y_test,y_pred))"
   ]
  },
  {
   "cell_type": "code",
   "execution_count": 16,
   "metadata": {},
   "outputs": [
    {
     "name": "stderr",
     "output_type": "stream",
     "text": [
      "[ 2018-05-15 10:23:21,925][cascade_classifier.fit_transform] X_groups_train.shape=[(3337, 12)],y_train.shape=(3337,),X_groups_test.shape=[(1645, 12)],y_test.shape=(1645,)\n",
      "[ 2018-05-15 10:23:21,927][cascade_classifier.fit_transform] group_dims=[12]\n",
      "[ 2018-05-15 10:23:21,935][cascade_classifier.fit_transform] group_starts=[0]\n",
      "[ 2018-05-15 10:23:21,937][cascade_classifier.fit_transform] group_ends=[12]\n",
      "[ 2018-05-15 10:23:21,940][cascade_classifier.fit_transform] X_train.shape=(3337, 12),X_test.shape=(1645, 12)\n",
      "[ 2018-05-15 10:23:21,944][cascade_classifier.fit_transform] [layer=0] look_indexs=[0], X_cur_train.shape=(3337, 12), X_cur_test.shape=(1645, 12)\n",
      "[ 2018-05-15 10:23:23,129][kfold_wrapper.log_eval_metrics] Accuracy(layer_0 - estimator_0 - 10_folds.train_0.predict)=99.70%\n",
      "[ 2018-05-15 10:23:23,911][kfold_wrapper.log_eval_metrics] Accuracy(layer_0 - estimator_0 - 10_folds.train_1.predict)=99.10%\n",
      "[ 2018-05-15 10:23:25,025][kfold_wrapper.log_eval_metrics] Accuracy(layer_0 - estimator_0 - 10_folds.train_2.predict)=98.21%\n",
      "[ 2018-05-15 10:23:26,237][kfold_wrapper.log_eval_metrics] Accuracy(layer_0 - estimator_0 - 10_folds.train_3.predict)=99.10%\n",
      "[ 2018-05-15 10:23:27,000][kfold_wrapper.log_eval_metrics] Accuracy(layer_0 - estimator_0 - 10_folds.train_4.predict)=99.40%\n",
      "[ 2018-05-15 10:23:28,351][kfold_wrapper.log_eval_metrics] Accuracy(layer_0 - estimator_0 - 10_folds.train_5.predict)=98.80%\n",
      "[ 2018-05-15 10:23:29,590][kfold_wrapper.log_eval_metrics] Accuracy(layer_0 - estimator_0 - 10_folds.train_6.predict)=99.10%\n",
      "[ 2018-05-15 10:23:30,361][kfold_wrapper.log_eval_metrics] Accuracy(layer_0 - estimator_0 - 10_folds.train_7.predict)=99.10%\n",
      "[ 2018-05-15 10:23:31,422][kfold_wrapper.log_eval_metrics] Accuracy(layer_0 - estimator_0 - 10_folds.train_8.predict)=98.20%\n",
      "[ 2018-05-15 10:23:32,773][kfold_wrapper.log_eval_metrics] Accuracy(layer_0 - estimator_0 - 10_folds.train_9.predict)=99.10%\n",
      "[ 2018-05-15 10:23:32,890][kfold_wrapper.log_eval_metrics] Accuracy(layer_0 - estimator_0 - 10_folds.train_cv.predict)=98.98%\n",
      "[ 2018-05-15 10:23:32,892][kfold_wrapper.log_eval_metrics] Accuracy(layer_0 - estimator_0 - 10_folds.test.predict)=99.03%\n",
      "[ 2018-05-15 10:23:32,896][cascade_classifier.calc_accuracy] Accuracy(layer_0 - train.classifier_average)=98.98%\n",
      "[ 2018-05-15 10:23:32,898][cascade_classifier.calc_accuracy] Accuracy(layer_0 - test.classifier_average)=99.03%\n",
      "[ 2018-05-15 10:23:32,906][cascade_classifier.fit_transform] [Result][Reach Max Layer] opt_layer_num=1, accuracy_train=98.98%, accuracy_test=99.03%\n",
      "[ 2018-05-15 10:23:32,907][cascade_classifier.transform] X_groups_test.shape=[(1645, 12)]\n",
      "[ 2018-05-15 10:23:32,909][cascade_classifier.transform] group_dims=[12]\n",
      "[ 2018-05-15 10:23:32,911][cascade_classifier.transform] X_test.shape=(1645, 12)\n",
      "[ 2018-05-15 10:23:32,913][cascade_classifier.transform] [layer=0] look_indexs=[0], X_cur_test.shape=(1645, 12)\n",
      "[ 2018-05-15 10:23:34,572][cascade_classifier.fit_transform] X_groups_train.shape=[(3337, 12)],y_train.shape=(3337,),X_groups_test.shape=[(1645, 12)],y_test.shape=(1645,)\n",
      "[ 2018-05-15 10:23:34,579][cascade_classifier.fit_transform] group_dims=[12]\n",
      "[ 2018-05-15 10:23:34,596][cascade_classifier.fit_transform] group_starts=[0]\n",
      "[ 2018-05-15 10:23:34,597][cascade_classifier.fit_transform] group_ends=[12]\n",
      "[ 2018-05-15 10:23:34,599][cascade_classifier.fit_transform] X_train.shape=(3337, 12),X_test.shape=(1645, 12)\n",
      "[ 2018-05-15 10:23:34,605][cascade_classifier.fit_transform] [layer=0] look_indexs=[0], X_cur_train.shape=(3337, 12), X_cur_test.shape=(1645, 12)\n"
     ]
    },
    {
     "name": "stdout",
     "output_type": "stream",
     "text": [
      "('Test Accuracy of ExtraTrees = 99.027356 %', 0, 'fois')\n",
      "[[1608    2]\n",
      " [  14   21]]\n",
      "\n",
      "\n",
      "             precision    recall  f1-score   support\n",
      "\n",
      "        0.0       0.99      1.00      1.00      1610\n",
      "        1.0       0.91      0.60      0.72        35\n",
      "\n",
      "avg / total       0.99      0.99      0.99      1645\n",
      "\n"
     ]
    },
    {
     "name": "stderr",
     "output_type": "stream",
     "text": [
      "[ 2018-05-15 10:23:35,787][kfold_wrapper.log_eval_metrics] Accuracy(layer_0 - estimator_0 - 10_folds.train_0.predict)=99.40%\n",
      "[ 2018-05-15 10:23:36,528][kfold_wrapper.log_eval_metrics] Accuracy(layer_0 - estimator_0 - 10_folds.train_1.predict)=98.81%\n",
      "[ 2018-05-15 10:23:37,890][kfold_wrapper.log_eval_metrics] Accuracy(layer_0 - estimator_0 - 10_folds.train_2.predict)=97.91%\n",
      "[ 2018-05-15 10:23:39,036][kfold_wrapper.log_eval_metrics] Accuracy(layer_0 - estimator_0 - 10_folds.train_3.predict)=99.10%\n",
      "[ 2018-05-15 10:23:39,937][kfold_wrapper.log_eval_metrics] Accuracy(layer_0 - estimator_0 - 10_folds.train_4.predict)=99.70%\n",
      "[ 2018-05-15 10:23:41,147][kfold_wrapper.log_eval_metrics] Accuracy(layer_0 - estimator_0 - 10_folds.train_5.predict)=98.50%\n",
      "[ 2018-05-15 10:23:42,229][kfold_wrapper.log_eval_metrics] Accuracy(layer_0 - estimator_0 - 10_folds.train_6.predict)=98.80%\n",
      "[ 2018-05-15 10:23:43,257][kfold_wrapper.log_eval_metrics] Accuracy(layer_0 - estimator_0 - 10_folds.train_7.predict)=98.80%\n",
      "[ 2018-05-15 10:23:44,465][kfold_wrapper.log_eval_metrics] Accuracy(layer_0 - estimator_0 - 10_folds.train_8.predict)=98.20%\n",
      "[ 2018-05-15 10:23:45,509][kfold_wrapper.log_eval_metrics] Accuracy(layer_0 - estimator_0 - 10_folds.train_9.predict)=99.10%\n",
      "[ 2018-05-15 10:23:45,639][kfold_wrapper.log_eval_metrics] Accuracy(layer_0 - estimator_0 - 10_folds.train_cv.predict)=98.83%\n",
      "[ 2018-05-15 10:23:45,643][kfold_wrapper.log_eval_metrics] Accuracy(layer_0 - estimator_0 - 10_folds.test.predict)=99.15%\n",
      "[ 2018-05-15 10:23:45,649][cascade_classifier.calc_accuracy] Accuracy(layer_0 - train.classifier_average)=98.83%\n",
      "[ 2018-05-15 10:23:45,654][cascade_classifier.calc_accuracy] Accuracy(layer_0 - test.classifier_average)=99.15%\n",
      "[ 2018-05-15 10:23:45,656][cascade_classifier.fit_transform] [Result][Reach Max Layer] opt_layer_num=1, accuracy_train=98.83%, accuracy_test=99.15%\n",
      "[ 2018-05-15 10:23:45,657][cascade_classifier.transform] X_groups_test.shape=[(1645, 12)]\n",
      "[ 2018-05-15 10:23:45,658][cascade_classifier.transform] group_dims=[12]\n",
      "[ 2018-05-15 10:23:45,659][cascade_classifier.transform] X_test.shape=(1645, 12)\n",
      "[ 2018-05-15 10:23:45,661][cascade_classifier.transform] [layer=0] look_indexs=[0], X_cur_test.shape=(1645, 12)\n",
      "[ 2018-05-15 10:23:46,832][cascade_classifier.fit_transform] X_groups_train.shape=[(3337, 12)],y_train.shape=(3337,),X_groups_test.shape=[(1645, 12)],y_test.shape=(1645,)\n",
      "[ 2018-05-15 10:23:46,833][cascade_classifier.fit_transform] group_dims=[12]\n",
      "[ 2018-05-15 10:23:46,834][cascade_classifier.fit_transform] group_starts=[0]\n",
      "[ 2018-05-15 10:23:46,836][cascade_classifier.fit_transform] group_ends=[12]\n",
      "[ 2018-05-15 10:23:46,845][cascade_classifier.fit_transform] X_train.shape=(3337, 12),X_test.shape=(1645, 12)\n",
      "[ 2018-05-15 10:23:46,847][cascade_classifier.fit_transform] [layer=0] look_indexs=[0], X_cur_train.shape=(3337, 12), X_cur_test.shape=(1645, 12)\n"
     ]
    },
    {
     "name": "stdout",
     "output_type": "stream",
     "text": [
      "('Test Accuracy of ExtraTrees = 99.148936 %', 1, 'fois')\n",
      "[[1608    2]\n",
      " [  12   23]]\n",
      "\n",
      "\n",
      "             precision    recall  f1-score   support\n",
      "\n",
      "        0.0       0.99      1.00      1.00      1610\n",
      "        1.0       0.92      0.66      0.77        35\n",
      "\n",
      "avg / total       0.99      0.99      0.99      1645\n",
      "\n"
     ]
    },
    {
     "name": "stderr",
     "output_type": "stream",
     "text": [
      "[ 2018-05-15 10:23:47,751][kfold_wrapper.log_eval_metrics] Accuracy(layer_0 - estimator_0 - 10_folds.train_0.predict)=99.70%\n",
      "[ 2018-05-15 10:23:49,061][kfold_wrapper.log_eval_metrics] Accuracy(layer_0 - estimator_0 - 10_folds.train_1.predict)=98.81%\n",
      "[ 2018-05-15 10:23:50,102][kfold_wrapper.log_eval_metrics] Accuracy(layer_0 - estimator_0 - 10_folds.train_2.predict)=97.91%\n",
      "[ 2018-05-15 10:23:51,219][kfold_wrapper.log_eval_metrics] Accuracy(layer_0 - estimator_0 - 10_folds.train_3.predict)=98.80%\n",
      "[ 2018-05-15 10:23:52,427][kfold_wrapper.log_eval_metrics] Accuracy(layer_0 - estimator_0 - 10_folds.train_4.predict)=99.70%\n",
      "[ 2018-05-15 10:23:53,174][kfold_wrapper.log_eval_metrics] Accuracy(layer_0 - estimator_0 - 10_folds.train_5.predict)=98.80%\n",
      "[ 2018-05-15 10:23:54,373][kfold_wrapper.log_eval_metrics] Accuracy(layer_0 - estimator_0 - 10_folds.train_6.predict)=98.50%\n",
      "[ 2018-05-15 10:23:55,597][kfold_wrapper.log_eval_metrics] Accuracy(layer_0 - estimator_0 - 10_folds.train_7.predict)=98.80%\n",
      "[ 2018-05-15 10:23:56,403][kfold_wrapper.log_eval_metrics] Accuracy(layer_0 - estimator_0 - 10_folds.train_8.predict)=98.20%\n",
      "[ 2018-05-15 10:23:57,523][kfold_wrapper.log_eval_metrics] Accuracy(layer_0 - estimator_0 - 10_folds.train_9.predict)=99.10%\n",
      "[ 2018-05-15 10:23:57,639][kfold_wrapper.log_eval_metrics] Accuracy(layer_0 - estimator_0 - 10_folds.train_cv.predict)=98.83%\n",
      "[ 2018-05-15 10:23:57,641][kfold_wrapper.log_eval_metrics] Accuracy(layer_0 - estimator_0 - 10_folds.test.predict)=98.97%\n",
      "[ 2018-05-15 10:23:57,658][cascade_classifier.calc_accuracy] Accuracy(layer_0 - train.classifier_average)=98.83%\n",
      "[ 2018-05-15 10:23:57,661][cascade_classifier.calc_accuracy] Accuracy(layer_0 - test.classifier_average)=98.97%\n",
      "[ 2018-05-15 10:23:57,666][cascade_classifier.fit_transform] [Result][Reach Max Layer] opt_layer_num=1, accuracy_train=98.83%, accuracy_test=98.97%\n",
      "[ 2018-05-15 10:23:57,671][cascade_classifier.transform] X_groups_test.shape=[(1645, 12)]\n",
      "[ 2018-05-15 10:23:57,676][cascade_classifier.transform] group_dims=[12]\n",
      "[ 2018-05-15 10:23:57,684][cascade_classifier.transform] X_test.shape=(1645, 12)\n",
      "[ 2018-05-15 10:23:57,688][cascade_classifier.transform] [layer=0] look_indexs=[0], X_cur_test.shape=(1645, 12)\n",
      "[ 2018-05-15 10:23:59,132][cascade_classifier.fit_transform] X_groups_train.shape=[(3337, 12)],y_train.shape=(3337,),X_groups_test.shape=[(1645, 12)],y_test.shape=(1645,)\n",
      "[ 2018-05-15 10:23:59,134][cascade_classifier.fit_transform] group_dims=[12]\n",
      "[ 2018-05-15 10:23:59,139][cascade_classifier.fit_transform] group_starts=[0]\n",
      "[ 2018-05-15 10:23:59,145][cascade_classifier.fit_transform] group_ends=[12]\n",
      "[ 2018-05-15 10:23:59,146][cascade_classifier.fit_transform] X_train.shape=(3337, 12),X_test.shape=(1645, 12)\n",
      "[ 2018-05-15 10:23:59,149][cascade_classifier.fit_transform] [layer=0] look_indexs=[0], X_cur_train.shape=(3337, 12), X_cur_test.shape=(1645, 12)\n"
     ]
    },
    {
     "name": "stdout",
     "output_type": "stream",
     "text": [
      "('Test Accuracy of ExtraTrees = 98.966565 %', 2, 'fois')\n",
      "[[1609    1]\n",
      " [  16   19]]\n",
      "\n",
      "\n",
      "             precision    recall  f1-score   support\n",
      "\n",
      "        0.0       0.99      1.00      0.99      1610\n",
      "        1.0       0.95      0.54      0.69        35\n",
      "\n",
      "avg / total       0.99      0.99      0.99      1645\n",
      "\n"
     ]
    },
    {
     "name": "stderr",
     "output_type": "stream",
     "text": [
      "[ 2018-05-15 10:23:59,925][kfold_wrapper.log_eval_metrics] Accuracy(layer_0 - estimator_0 - 10_folds.train_0.predict)=99.40%\n",
      "[ 2018-05-15 10:24:01,153][kfold_wrapper.log_eval_metrics] Accuracy(layer_0 - estimator_0 - 10_folds.train_1.predict)=98.51%\n",
      "[ 2018-05-15 10:24:02,354][kfold_wrapper.log_eval_metrics] Accuracy(layer_0 - estimator_0 - 10_folds.train_2.predict)=98.21%\n",
      "[ 2018-05-15 10:24:03,068][kfold_wrapper.log_eval_metrics] Accuracy(layer_0 - estimator_0 - 10_folds.train_3.predict)=98.80%\n",
      "[ 2018-05-15 10:24:04,181][kfold_wrapper.log_eval_metrics] Accuracy(layer_0 - estimator_0 - 10_folds.train_4.predict)=99.40%\n",
      "[ 2018-05-15 10:24:05,381][kfold_wrapper.log_eval_metrics] Accuracy(layer_0 - estimator_0 - 10_folds.train_5.predict)=98.80%\n",
      "[ 2018-05-15 10:24:06,155][kfold_wrapper.log_eval_metrics] Accuracy(layer_0 - estimator_0 - 10_folds.train_6.predict)=98.80%\n",
      "[ 2018-05-15 10:24:07,387][kfold_wrapper.log_eval_metrics] Accuracy(layer_0 - estimator_0 - 10_folds.train_7.predict)=98.80%\n",
      "[ 2018-05-15 10:24:08,563][kfold_wrapper.log_eval_metrics] Accuracy(layer_0 - estimator_0 - 10_folds.train_8.predict)=98.20%\n",
      "[ 2018-05-15 10:24:09,316][kfold_wrapper.log_eval_metrics] Accuracy(layer_0 - estimator_0 - 10_folds.train_9.predict)=99.40%\n",
      "[ 2018-05-15 10:24:09,442][kfold_wrapper.log_eval_metrics] Accuracy(layer_0 - estimator_0 - 10_folds.train_cv.predict)=98.83%\n",
      "[ 2018-05-15 10:24:09,449][kfold_wrapper.log_eval_metrics] Accuracy(layer_0 - estimator_0 - 10_folds.test.predict)=98.91%\n",
      "[ 2018-05-15 10:24:09,456][cascade_classifier.calc_accuracy] Accuracy(layer_0 - train.classifier_average)=98.83%\n",
      "[ 2018-05-15 10:24:09,458][cascade_classifier.calc_accuracy] Accuracy(layer_0 - test.classifier_average)=98.91%\n",
      "[ 2018-05-15 10:24:09,463][cascade_classifier.fit_transform] [Result][Reach Max Layer] opt_layer_num=1, accuracy_train=98.83%, accuracy_test=98.91%\n",
      "[ 2018-05-15 10:24:09,469][cascade_classifier.transform] X_groups_test.shape=[(1645, 12)]\n",
      "[ 2018-05-15 10:24:09,471][cascade_classifier.transform] group_dims=[12]\n",
      "[ 2018-05-15 10:24:09,476][cascade_classifier.transform] X_test.shape=(1645, 12)\n",
      "[ 2018-05-15 10:24:09,481][cascade_classifier.transform] [layer=0] look_indexs=[0], X_cur_test.shape=(1645, 12)\n",
      "[ 2018-05-15 10:24:11,291][cascade_classifier.fit_transform] X_groups_train.shape=[(3337, 12)],y_train.shape=(3337,),X_groups_test.shape=[(1645, 12)],y_test.shape=(1645,)\n",
      "[ 2018-05-15 10:24:11,293][cascade_classifier.fit_transform] group_dims=[12]\n",
      "[ 2018-05-15 10:24:11,298][cascade_classifier.fit_transform] group_starts=[0]\n",
      "[ 2018-05-15 10:24:11,300][cascade_classifier.fit_transform] group_ends=[12]\n",
      "[ 2018-05-15 10:24:11,305][cascade_classifier.fit_transform] X_train.shape=(3337, 12),X_test.shape=(1645, 12)\n",
      "[ 2018-05-15 10:24:11,311][cascade_classifier.fit_transform] [layer=0] look_indexs=[0], X_cur_train.shape=(3337, 12), X_cur_test.shape=(1645, 12)\n"
     ]
    },
    {
     "name": "stdout",
     "output_type": "stream",
     "text": [
      "('Test Accuracy of ExtraTrees = 98.905775 %', 3, 'fois')\n",
      "[[1609    1]\n",
      " [  17   18]]\n",
      "\n",
      "\n",
      "             precision    recall  f1-score   support\n",
      "\n",
      "        0.0       0.99      1.00      0.99      1610\n",
      "        1.0       0.95      0.51      0.67        35\n",
      "\n",
      "avg / total       0.99      0.99      0.99      1645\n",
      "\n"
     ]
    },
    {
     "name": "stderr",
     "output_type": "stream",
     "text": [
      "[ 2018-05-15 10:24:12,117][kfold_wrapper.log_eval_metrics] Accuracy(layer_0 - estimator_0 - 10_folds.train_0.predict)=99.70%\n",
      "[ 2018-05-15 10:24:13,199][kfold_wrapper.log_eval_metrics] Accuracy(layer_0 - estimator_0 - 10_folds.train_1.predict)=98.81%\n",
      "[ 2018-05-15 10:24:14,297][kfold_wrapper.log_eval_metrics] Accuracy(layer_0 - estimator_0 - 10_folds.train_2.predict)=98.21%\n",
      "[ 2018-05-15 10:24:15,283][kfold_wrapper.log_eval_metrics] Accuracy(layer_0 - estimator_0 - 10_folds.train_3.predict)=99.40%\n",
      "[ 2018-05-15 10:24:16,506][kfold_wrapper.log_eval_metrics] Accuracy(layer_0 - estimator_0 - 10_folds.train_4.predict)=99.10%\n",
      "[ 2018-05-15 10:24:17,615][kfold_wrapper.log_eval_metrics] Accuracy(layer_0 - estimator_0 - 10_folds.train_5.predict)=99.40%\n",
      "[ 2018-05-15 10:24:18,536][kfold_wrapper.log_eval_metrics] Accuracy(layer_0 - estimator_0 - 10_folds.train_6.predict)=99.10%\n",
      "[ 2018-05-15 10:24:19,357][kfold_wrapper.log_eval_metrics] Accuracy(layer_0 - estimator_0 - 10_folds.train_7.predict)=99.10%\n",
      "[ 2018-05-15 10:24:20,178][kfold_wrapper.log_eval_metrics] Accuracy(layer_0 - estimator_0 - 10_folds.train_8.predict)=98.50%\n",
      "[ 2018-05-15 10:24:21,503][kfold_wrapper.log_eval_metrics] Accuracy(layer_0 - estimator_0 - 10_folds.train_9.predict)=99.10%\n",
      "[ 2018-05-15 10:24:21,737][kfold_wrapper.log_eval_metrics] Accuracy(layer_0 - estimator_0 - 10_folds.train_cv.predict)=99.04%\n",
      "[ 2018-05-15 10:24:21,739][kfold_wrapper.log_eval_metrics] Accuracy(layer_0 - estimator_0 - 10_folds.test.predict)=98.78%\n",
      "[ 2018-05-15 10:24:21,756][cascade_classifier.calc_accuracy] Accuracy(layer_0 - train.classifier_average)=99.04%\n",
      "[ 2018-05-15 10:24:21,758][cascade_classifier.calc_accuracy] Accuracy(layer_0 - test.classifier_average)=98.78%\n",
      "[ 2018-05-15 10:24:21,763][cascade_classifier.fit_transform] [Result][Reach Max Layer] opt_layer_num=1, accuracy_train=99.04%, accuracy_test=98.78%\n",
      "[ 2018-05-15 10:24:21,771][cascade_classifier.transform] X_groups_test.shape=[(1645, 12)]\n",
      "[ 2018-05-15 10:24:21,780][cascade_classifier.transform] group_dims=[12]\n",
      "[ 2018-05-15 10:24:21,792][cascade_classifier.transform] X_test.shape=(1645, 12)\n",
      "[ 2018-05-15 10:24:21,798][cascade_classifier.transform] [layer=0] look_indexs=[0], X_cur_test.shape=(1645, 12)\n",
      "[ 2018-05-15 10:24:23,338][cascade_classifier.fit_transform] X_groups_train.shape=[(3337, 12)],y_train.shape=(3337,),X_groups_test.shape=[(1645, 12)],y_test.shape=(1645,)\n",
      "[ 2018-05-15 10:24:23,340][cascade_classifier.fit_transform] group_dims=[12]\n",
      "[ 2018-05-15 10:24:23,355][cascade_classifier.fit_transform] group_starts=[0]\n",
      "[ 2018-05-15 10:24:23,359][cascade_classifier.fit_transform] group_ends=[12]\n",
      "[ 2018-05-15 10:24:23,362][cascade_classifier.fit_transform] X_train.shape=(3337, 12),X_test.shape=(1645, 12)\n",
      "[ 2018-05-15 10:24:23,367][cascade_classifier.fit_transform] [layer=0] look_indexs=[0], X_cur_train.shape=(3337, 12), X_cur_test.shape=(1645, 12)\n"
     ]
    },
    {
     "name": "stdout",
     "output_type": "stream",
     "text": [
      "('Test Accuracy of ExtraTrees = 98.784195 %', 4, 'fois')\n",
      "[[1609    1]\n",
      " [  19   16]]\n",
      "\n",
      "\n",
      "             precision    recall  f1-score   support\n",
      "\n",
      "        0.0       0.99      1.00      0.99      1610\n",
      "        1.0       0.94      0.46      0.62        35\n",
      "\n",
      "avg / total       0.99      0.99      0.99      1645\n",
      "\n"
     ]
    },
    {
     "name": "stderr",
     "output_type": "stream",
     "text": [
      "[ 2018-05-15 10:24:24,342][kfold_wrapper.log_eval_metrics] Accuracy(layer_0 - estimator_0 - 10_folds.train_0.predict)=99.40%\n",
      "[ 2018-05-15 10:24:25,449][kfold_wrapper.log_eval_metrics] Accuracy(layer_0 - estimator_0 - 10_folds.train_1.predict)=98.81%\n",
      "[ 2018-05-15 10:24:26,319][kfold_wrapper.log_eval_metrics] Accuracy(layer_0 - estimator_0 - 10_folds.train_2.predict)=97.91%\n",
      "[ 2018-05-15 10:24:27,514][kfold_wrapper.log_eval_metrics] Accuracy(layer_0 - estimator_0 - 10_folds.train_3.predict)=99.40%\n",
      "[ 2018-05-15 10:24:28,606][kfold_wrapper.log_eval_metrics] Accuracy(layer_0 - estimator_0 - 10_folds.train_4.predict)=99.10%\n",
      "[ 2018-05-15 10:24:29,344][kfold_wrapper.log_eval_metrics] Accuracy(layer_0 - estimator_0 - 10_folds.train_5.predict)=99.10%\n",
      "[ 2018-05-15 10:24:30,447][kfold_wrapper.log_eval_metrics] Accuracy(layer_0 - estimator_0 - 10_folds.train_6.predict)=98.50%\n",
      "[ 2018-05-15 10:24:31,689][kfold_wrapper.log_eval_metrics] Accuracy(layer_0 - estimator_0 - 10_folds.train_7.predict)=99.10%\n",
      "[ 2018-05-15 10:24:32,471][kfold_wrapper.log_eval_metrics] Accuracy(layer_0 - estimator_0 - 10_folds.train_8.predict)=98.50%\n",
      "[ 2018-05-15 10:24:33,623][kfold_wrapper.log_eval_metrics] Accuracy(layer_0 - estimator_0 - 10_folds.train_9.predict)=99.10%\n",
      "[ 2018-05-15 10:24:33,877][kfold_wrapper.log_eval_metrics] Accuracy(layer_0 - estimator_0 - 10_folds.train_cv.predict)=98.89%\n",
      "[ 2018-05-15 10:24:33,879][kfold_wrapper.log_eval_metrics] Accuracy(layer_0 - estimator_0 - 10_folds.test.predict)=98.78%\n",
      "[ 2018-05-15 10:24:33,894][cascade_classifier.calc_accuracy] Accuracy(layer_0 - train.classifier_average)=98.89%\n",
      "[ 2018-05-15 10:24:33,896][cascade_classifier.calc_accuracy] Accuracy(layer_0 - test.classifier_average)=98.78%\n",
      "[ 2018-05-15 10:24:33,898][cascade_classifier.fit_transform] [Result][Reach Max Layer] opt_layer_num=1, accuracy_train=98.89%, accuracy_test=98.78%\n",
      "[ 2018-05-15 10:24:33,904][cascade_classifier.transform] X_groups_test.shape=[(1645, 12)]\n",
      "[ 2018-05-15 10:24:33,905][cascade_classifier.transform] group_dims=[12]\n",
      "[ 2018-05-15 10:24:33,908][cascade_classifier.transform] X_test.shape=(1645, 12)\n",
      "[ 2018-05-15 10:24:33,910][cascade_classifier.transform] [layer=0] look_indexs=[0], X_cur_test.shape=(1645, 12)\n",
      "[ 2018-05-15 10:24:35,563][cascade_classifier.fit_transform] X_groups_train.shape=[(3337, 12)],y_train.shape=(3337,),X_groups_test.shape=[(1645, 12)],y_test.shape=(1645,)\n",
      "[ 2018-05-15 10:24:35,567][cascade_classifier.fit_transform] group_dims=[12]\n",
      "[ 2018-05-15 10:24:35,582][cascade_classifier.fit_transform] group_starts=[0]\n",
      "[ 2018-05-15 10:24:35,592][cascade_classifier.fit_transform] group_ends=[12]\n",
      "[ 2018-05-15 10:24:35,594][cascade_classifier.fit_transform] X_train.shape=(3337, 12),X_test.shape=(1645, 12)\n",
      "[ 2018-05-15 10:24:35,610][cascade_classifier.fit_transform] [layer=0] look_indexs=[0], X_cur_train.shape=(3337, 12), X_cur_test.shape=(1645, 12)\n"
     ]
    },
    {
     "name": "stdout",
     "output_type": "stream",
     "text": [
      "('Test Accuracy of ExtraTrees = 98.784195 %', 5, 'fois')\n",
      "[[1609    1]\n",
      " [  19   16]]\n",
      "\n",
      "\n",
      "             precision    recall  f1-score   support\n",
      "\n",
      "        0.0       0.99      1.00      0.99      1610\n",
      "        1.0       0.94      0.46      0.62        35\n",
      "\n",
      "avg / total       0.99      0.99      0.99      1645\n",
      "\n"
     ]
    },
    {
     "name": "stderr",
     "output_type": "stream",
     "text": [
      "[ 2018-05-15 10:24:36,775][kfold_wrapper.log_eval_metrics] Accuracy(layer_0 - estimator_0 - 10_folds.train_0.predict)=99.40%\n",
      "[ 2018-05-15 10:24:38,106][kfold_wrapper.log_eval_metrics] Accuracy(layer_0 - estimator_0 - 10_folds.train_1.predict)=98.81%\n",
      "[ 2018-05-15 10:24:39,049][kfold_wrapper.log_eval_metrics] Accuracy(layer_0 - estimator_0 - 10_folds.train_2.predict)=98.21%\n",
      "[ 2018-05-15 10:24:40,250][kfold_wrapper.log_eval_metrics] Accuracy(layer_0 - estimator_0 - 10_folds.train_3.predict)=99.10%\n",
      "[ 2018-05-15 10:24:41,214][kfold_wrapper.log_eval_metrics] Accuracy(layer_0 - estimator_0 - 10_folds.train_4.predict)=99.10%\n",
      "[ 2018-05-15 10:24:42,058][kfold_wrapper.log_eval_metrics] Accuracy(layer_0 - estimator_0 - 10_folds.train_5.predict)=98.80%\n",
      "[ 2018-05-15 10:24:43,471][kfold_wrapper.log_eval_metrics] Accuracy(layer_0 - estimator_0 - 10_folds.train_6.predict)=98.50%\n",
      "[ 2018-05-15 10:24:44,434][kfold_wrapper.log_eval_metrics] Accuracy(layer_0 - estimator_0 - 10_folds.train_7.predict)=99.10%\n",
      "[ 2018-05-15 10:24:45,351][kfold_wrapper.log_eval_metrics] Accuracy(layer_0 - estimator_0 - 10_folds.train_8.predict)=98.20%\n",
      "[ 2018-05-15 10:24:46,589][kfold_wrapper.log_eval_metrics] Accuracy(layer_0 - estimator_0 - 10_folds.train_9.predict)=99.10%\n",
      "[ 2018-05-15 10:24:46,706][kfold_wrapper.log_eval_metrics] Accuracy(layer_0 - estimator_0 - 10_folds.train_cv.predict)=98.83%\n",
      "[ 2018-05-15 10:24:46,709][kfold_wrapper.log_eval_metrics] Accuracy(layer_0 - estimator_0 - 10_folds.test.predict)=98.78%\n",
      "[ 2018-05-15 10:24:46,714][cascade_classifier.calc_accuracy] Accuracy(layer_0 - train.classifier_average)=98.83%\n",
      "[ 2018-05-15 10:24:46,716][cascade_classifier.calc_accuracy] Accuracy(layer_0 - test.classifier_average)=98.78%\n",
      "[ 2018-05-15 10:24:46,718][cascade_classifier.fit_transform] [Result][Reach Max Layer] opt_layer_num=1, accuracy_train=98.83%, accuracy_test=98.78%\n",
      "[ 2018-05-15 10:24:46,719][cascade_classifier.transform] X_groups_test.shape=[(1645, 12)]\n",
      "[ 2018-05-15 10:24:46,721][cascade_classifier.transform] group_dims=[12]\n",
      "[ 2018-05-15 10:24:46,723][cascade_classifier.transform] X_test.shape=(1645, 12)\n",
      "[ 2018-05-15 10:24:46,725][cascade_classifier.transform] [layer=0] look_indexs=[0], X_cur_test.shape=(1645, 12)\n",
      "[ 2018-05-15 10:24:47,966][cascade_classifier.fit_transform] X_groups_train.shape=[(3337, 12)],y_train.shape=(3337,),X_groups_test.shape=[(1645, 12)],y_test.shape=(1645,)\n",
      "[ 2018-05-15 10:24:47,989][cascade_classifier.fit_transform] group_dims=[12]\n",
      "[ 2018-05-15 10:24:47,993][cascade_classifier.fit_transform] group_starts=[0]\n",
      "[ 2018-05-15 10:24:47,995][cascade_classifier.fit_transform] group_ends=[12]\n",
      "[ 2018-05-15 10:24:48,007][cascade_classifier.fit_transform] X_train.shape=(3337, 12),X_test.shape=(1645, 12)\n",
      "[ 2018-05-15 10:24:48,016][cascade_classifier.fit_transform] [layer=0] look_indexs=[0], X_cur_train.shape=(3337, 12), X_cur_test.shape=(1645, 12)\n"
     ]
    },
    {
     "name": "stdout",
     "output_type": "stream",
     "text": [
      "('Test Accuracy of ExtraTrees = 98.784195 %', 6, 'fois')\n",
      "[[1609    1]\n",
      " [  19   16]]\n",
      "\n",
      "\n",
      "             precision    recall  f1-score   support\n",
      "\n",
      "        0.0       0.99      1.00      0.99      1610\n",
      "        1.0       0.94      0.46      0.62        35\n",
      "\n",
      "avg / total       0.99      0.99      0.99      1645\n",
      "\n"
     ]
    },
    {
     "name": "stderr",
     "output_type": "stream",
     "text": [
      "[ 2018-05-15 10:24:49,031][kfold_wrapper.log_eval_metrics] Accuracy(layer_0 - estimator_0 - 10_folds.train_0.predict)=99.40%\n",
      "[ 2018-05-15 10:24:50,239][kfold_wrapper.log_eval_metrics] Accuracy(layer_0 - estimator_0 - 10_folds.train_1.predict)=98.81%\n",
      "[ 2018-05-15 10:24:51,100][kfold_wrapper.log_eval_metrics] Accuracy(layer_0 - estimator_0 - 10_folds.train_2.predict)=97.91%\n",
      "[ 2018-05-15 10:24:51,927][kfold_wrapper.log_eval_metrics] Accuracy(layer_0 - estimator_0 - 10_folds.train_3.predict)=99.10%\n",
      "[ 2018-05-15 10:24:52,725][kfold_wrapper.log_eval_metrics] Accuracy(layer_0 - estimator_0 - 10_folds.train_4.predict)=98.80%\n",
      "[ 2018-05-15 10:24:53,821][kfold_wrapper.log_eval_metrics] Accuracy(layer_0 - estimator_0 - 10_folds.train_5.predict)=98.20%\n",
      "[ 2018-05-15 10:24:55,026][kfold_wrapper.log_eval_metrics] Accuracy(layer_0 - estimator_0 - 10_folds.train_6.predict)=98.50%\n",
      "[ 2018-05-15 10:24:55,808][kfold_wrapper.log_eval_metrics] Accuracy(layer_0 - estimator_0 - 10_folds.train_7.predict)=98.80%\n",
      "[ 2018-05-15 10:24:56,947][kfold_wrapper.log_eval_metrics] Accuracy(layer_0 - estimator_0 - 10_folds.train_8.predict)=98.20%\n",
      "[ 2018-05-15 10:24:58,321][kfold_wrapper.log_eval_metrics] Accuracy(layer_0 - estimator_0 - 10_folds.train_9.predict)=98.50%\n",
      "[ 2018-05-15 10:24:58,435][kfold_wrapper.log_eval_metrics] Accuracy(layer_0 - estimator_0 - 10_folds.train_cv.predict)=98.62%\n",
      "[ 2018-05-15 10:24:58,436][kfold_wrapper.log_eval_metrics] Accuracy(layer_0 - estimator_0 - 10_folds.test.predict)=98.78%\n",
      "[ 2018-05-15 10:24:58,441][cascade_classifier.calc_accuracy] Accuracy(layer_0 - train.classifier_average)=98.62%\n",
      "[ 2018-05-15 10:24:58,442][cascade_classifier.calc_accuracy] Accuracy(layer_0 - test.classifier_average)=98.78%\n",
      "[ 2018-05-15 10:24:58,444][cascade_classifier.fit_transform] [Result][Reach Max Layer] opt_layer_num=1, accuracy_train=98.62%, accuracy_test=98.78%\n",
      "[ 2018-05-15 10:24:58,445][cascade_classifier.transform] X_groups_test.shape=[(1645, 12)]\n",
      "[ 2018-05-15 10:24:58,448][cascade_classifier.transform] group_dims=[12]\n",
      "[ 2018-05-15 10:24:58,450][cascade_classifier.transform] X_test.shape=(1645, 12)\n",
      "[ 2018-05-15 10:24:58,452][cascade_classifier.transform] [layer=0] look_indexs=[0], X_cur_test.shape=(1645, 12)\n",
      "[ 2018-05-15 10:24:59,935][cascade_classifier.fit_transform] X_groups_train.shape=[(3337, 12)],y_train.shape=(3337,),X_groups_test.shape=[(1645, 12)],y_test.shape=(1645,)\n",
      "[ 2018-05-15 10:24:59,940][cascade_classifier.fit_transform] group_dims=[12]\n",
      "[ 2018-05-15 10:24:59,945][cascade_classifier.fit_transform] group_starts=[0]\n",
      "[ 2018-05-15 10:24:59,947][cascade_classifier.fit_transform] group_ends=[12]\n",
      "[ 2018-05-15 10:24:59,952][cascade_classifier.fit_transform] X_train.shape=(3337, 12),X_test.shape=(1645, 12)\n",
      "[ 2018-05-15 10:24:59,956][cascade_classifier.fit_transform] [layer=0] look_indexs=[0], X_cur_train.shape=(3337, 12), X_cur_test.shape=(1645, 12)\n"
     ]
    },
    {
     "name": "stdout",
     "output_type": "stream",
     "text": [
      "('Test Accuracy of ExtraTrees = 98.784195 %', 7, 'fois')\n",
      "[[1609    1]\n",
      " [  19   16]]\n",
      "\n",
      "\n",
      "             precision    recall  f1-score   support\n",
      "\n",
      "        0.0       0.99      1.00      0.99      1610\n",
      "        1.0       0.94      0.46      0.62        35\n",
      "\n",
      "avg / total       0.99      0.99      0.99      1645\n",
      "\n"
     ]
    },
    {
     "name": "stderr",
     "output_type": "stream",
     "text": [
      "[ 2018-05-15 10:25:01,086][kfold_wrapper.log_eval_metrics] Accuracy(layer_0 - estimator_0 - 10_folds.train_0.predict)=99.40%\n",
      "[ 2018-05-15 10:25:01,970][kfold_wrapper.log_eval_metrics] Accuracy(layer_0 - estimator_0 - 10_folds.train_1.predict)=99.10%\n",
      "[ 2018-05-15 10:25:03,082][kfold_wrapper.log_eval_metrics] Accuracy(layer_0 - estimator_0 - 10_folds.train_2.predict)=98.21%\n",
      "[ 2018-05-15 10:25:04,290][kfold_wrapper.log_eval_metrics] Accuracy(layer_0 - estimator_0 - 10_folds.train_3.predict)=99.10%\n",
      "[ 2018-05-15 10:25:05,094][kfold_wrapper.log_eval_metrics] Accuracy(layer_0 - estimator_0 - 10_folds.train_4.predict)=99.10%\n",
      "[ 2018-05-15 10:25:06,195][kfold_wrapper.log_eval_metrics] Accuracy(layer_0 - estimator_0 - 10_folds.train_5.predict)=99.10%\n",
      "[ 2018-05-15 10:25:07,558][kfold_wrapper.log_eval_metrics] Accuracy(layer_0 - estimator_0 - 10_folds.train_6.predict)=98.80%\n",
      "[ 2018-05-15 10:25:08,324][kfold_wrapper.log_eval_metrics] Accuracy(layer_0 - estimator_0 - 10_folds.train_7.predict)=98.80%\n",
      "[ 2018-05-15 10:25:09,562][kfold_wrapper.log_eval_metrics] Accuracy(layer_0 - estimator_0 - 10_folds.train_8.predict)=98.50%\n",
      "[ 2018-05-15 10:25:10,774][kfold_wrapper.log_eval_metrics] Accuracy(layer_0 - estimator_0 - 10_folds.train_9.predict)=99.10%\n",
      "[ 2018-05-15 10:25:10,906][kfold_wrapper.log_eval_metrics] Accuracy(layer_0 - estimator_0 - 10_folds.train_cv.predict)=98.92%\n",
      "[ 2018-05-15 10:25:10,907][kfold_wrapper.log_eval_metrics] Accuracy(layer_0 - estimator_0 - 10_folds.test.predict)=98.91%\n",
      "[ 2018-05-15 10:25:10,911][cascade_classifier.calc_accuracy] Accuracy(layer_0 - train.classifier_average)=98.92%\n",
      "[ 2018-05-15 10:25:10,917][cascade_classifier.calc_accuracy] Accuracy(layer_0 - test.classifier_average)=98.91%\n",
      "[ 2018-05-15 10:25:10,918][cascade_classifier.fit_transform] [Result][Reach Max Layer] opt_layer_num=1, accuracy_train=98.92%, accuracy_test=98.91%\n",
      "[ 2018-05-15 10:25:10,924][cascade_classifier.transform] X_groups_test.shape=[(1645, 12)]\n",
      "[ 2018-05-15 10:25:10,926][cascade_classifier.transform] group_dims=[12]\n",
      "[ 2018-05-15 10:25:10,928][cascade_classifier.transform] X_test.shape=(1645, 12)\n",
      "[ 2018-05-15 10:25:10,933][cascade_classifier.transform] [layer=0] look_indexs=[0], X_cur_test.shape=(1645, 12)\n",
      "[ 2018-05-15 10:25:12,693][cascade_classifier.fit_transform] X_groups_train.shape=[(3337, 12)],y_train.shape=(3337,),X_groups_test.shape=[(1645, 12)],y_test.shape=(1645,)\n",
      "[ 2018-05-15 10:25:12,696][cascade_classifier.fit_transform] group_dims=[12]\n",
      "[ 2018-05-15 10:25:12,704][cascade_classifier.fit_transform] group_starts=[0]\n",
      "[ 2018-05-15 10:25:12,706][cascade_classifier.fit_transform] group_ends=[12]\n",
      "[ 2018-05-15 10:25:12,710][cascade_classifier.fit_transform] X_train.shape=(3337, 12),X_test.shape=(1645, 12)\n",
      "[ 2018-05-15 10:25:12,714][cascade_classifier.fit_transform] [layer=0] look_indexs=[0], X_cur_train.shape=(3337, 12), X_cur_test.shape=(1645, 12)\n"
     ]
    },
    {
     "name": "stdout",
     "output_type": "stream",
     "text": [
      "('Test Accuracy of ExtraTrees = 98.905775 %', 8, 'fois')\n",
      "[[1609    1]\n",
      " [  17   18]]\n",
      "\n",
      "\n",
      "             precision    recall  f1-score   support\n",
      "\n",
      "        0.0       0.99      1.00      0.99      1610\n",
      "        1.0       0.95      0.51      0.67        35\n",
      "\n",
      "avg / total       0.99      0.99      0.99      1645\n",
      "\n"
     ]
    },
    {
     "name": "stderr",
     "output_type": "stream",
     "text": [
      "[ 2018-05-15 10:25:13,803][kfold_wrapper.log_eval_metrics] Accuracy(layer_0 - estimator_0 - 10_folds.train_0.predict)=99.40%\n",
      "[ 2018-05-15 10:25:14,693][kfold_wrapper.log_eval_metrics] Accuracy(layer_0 - estimator_0 - 10_folds.train_1.predict)=98.81%\n",
      "[ 2018-05-15 10:25:16,081][kfold_wrapper.log_eval_metrics] Accuracy(layer_0 - estimator_0 - 10_folds.train_2.predict)=97.91%\n",
      "[ 2018-05-15 10:25:16,921][kfold_wrapper.log_eval_metrics] Accuracy(layer_0 - estimator_0 - 10_folds.train_3.predict)=99.10%\n",
      "[ 2018-05-15 10:25:17,913][kfold_wrapper.log_eval_metrics] Accuracy(layer_0 - estimator_0 - 10_folds.train_4.predict)=98.50%\n",
      "[ 2018-05-15 10:25:18,997][kfold_wrapper.log_eval_metrics] Accuracy(layer_0 - estimator_0 - 10_folds.train_5.predict)=98.50%\n",
      "[ 2018-05-15 10:25:20,083][kfold_wrapper.log_eval_metrics] Accuracy(layer_0 - estimator_0 - 10_folds.train_6.predict)=98.50%\n",
      "[ 2018-05-15 10:25:20,807][kfold_wrapper.log_eval_metrics] Accuracy(layer_0 - estimator_0 - 10_folds.train_7.predict)=98.50%\n",
      "[ 2018-05-15 10:25:22,038][kfold_wrapper.log_eval_metrics] Accuracy(layer_0 - estimator_0 - 10_folds.train_8.predict)=98.50%\n",
      "[ 2018-05-15 10:25:23,246][kfold_wrapper.log_eval_metrics] Accuracy(layer_0 - estimator_0 - 10_folds.train_9.predict)=98.80%\n",
      "[ 2018-05-15 10:25:23,373][kfold_wrapper.log_eval_metrics] Accuracy(layer_0 - estimator_0 - 10_folds.train_cv.predict)=98.65%\n",
      "[ 2018-05-15 10:25:23,376][kfold_wrapper.log_eval_metrics] Accuracy(layer_0 - estimator_0 - 10_folds.test.predict)=98.84%\n",
      "[ 2018-05-15 10:25:23,380][cascade_classifier.calc_accuracy] Accuracy(layer_0 - train.classifier_average)=98.65%\n",
      "[ 2018-05-15 10:25:23,382][cascade_classifier.calc_accuracy] Accuracy(layer_0 - test.classifier_average)=98.84%\n",
      "[ 2018-05-15 10:25:23,383][cascade_classifier.fit_transform] [Result][Reach Max Layer] opt_layer_num=1, accuracy_train=98.65%, accuracy_test=98.84%\n",
      "[ 2018-05-15 10:25:23,387][cascade_classifier.transform] X_groups_test.shape=[(1645, 12)]\n",
      "[ 2018-05-15 10:25:23,388][cascade_classifier.transform] group_dims=[12]\n",
      "[ 2018-05-15 10:25:23,390][cascade_classifier.transform] X_test.shape=(1645, 12)\n",
      "[ 2018-05-15 10:25:23,392][cascade_classifier.transform] [layer=0] look_indexs=[0], X_cur_test.shape=(1645, 12)\n",
      "[ 2018-05-15 10:25:24,555][cascade_classifier.fit_transform] X_groups_train.shape=[(3337, 12)],y_train.shape=(3337,),X_groups_test.shape=[(1645, 12)],y_test.shape=(1645,)\n",
      "[ 2018-05-15 10:25:24,557][cascade_classifier.fit_transform] group_dims=[12]\n",
      "[ 2018-05-15 10:25:24,559][cascade_classifier.fit_transform] group_starts=[0]\n",
      "[ 2018-05-15 10:25:24,560][cascade_classifier.fit_transform] group_ends=[12]\n",
      "[ 2018-05-15 10:25:24,562][cascade_classifier.fit_transform] X_train.shape=(3337, 12),X_test.shape=(1645, 12)\n",
      "[ 2018-05-15 10:25:24,564][cascade_classifier.fit_transform] [layer=0] look_indexs=[0], X_cur_train.shape=(3337, 12), X_cur_test.shape=(1645, 12)\n"
     ]
    },
    {
     "name": "stdout",
     "output_type": "stream",
     "text": [
      "('Test Accuracy of ExtraTrees = 98.844985 %', 9, 'fois')\n",
      "[[1609    1]\n",
      " [  18   17]]\n",
      "\n",
      "\n",
      "             precision    recall  f1-score   support\n",
      "\n",
      "        0.0       0.99      1.00      0.99      1610\n",
      "        1.0       0.94      0.49      0.64        35\n",
      "\n",
      "avg / total       0.99      0.99      0.99      1645\n",
      "\n"
     ]
    },
    {
     "name": "stderr",
     "output_type": "stream",
     "text": [
      "[ 2018-05-15 10:25:25,259][kfold_wrapper.log_eval_metrics] Accuracy(layer_0 - estimator_0 - 10_folds.train_0.predict)=98.81%\n",
      "[ 2018-05-15 10:25:26,481][kfold_wrapper.log_eval_metrics] Accuracy(layer_0 - estimator_0 - 10_folds.train_1.predict)=98.81%\n",
      "[ 2018-05-15 10:25:27,565][kfold_wrapper.log_eval_metrics] Accuracy(layer_0 - estimator_0 - 10_folds.train_2.predict)=98.21%\n",
      "[ 2018-05-15 10:25:28,365][kfold_wrapper.log_eval_metrics] Accuracy(layer_0 - estimator_0 - 10_folds.train_3.predict)=99.10%\n",
      "[ 2018-05-15 10:25:29,441][kfold_wrapper.log_eval_metrics] Accuracy(layer_0 - estimator_0 - 10_folds.train_4.predict)=98.20%\n",
      "[ 2018-05-15 10:25:30,579][kfold_wrapper.log_eval_metrics] Accuracy(layer_0 - estimator_0 - 10_folds.train_5.predict)=98.80%\n",
      "[ 2018-05-15 10:25:31,333][kfold_wrapper.log_eval_metrics] Accuracy(layer_0 - estimator_0 - 10_folds.train_6.predict)=98.80%\n",
      "[ 2018-05-15 10:25:32,519][kfold_wrapper.log_eval_metrics] Accuracy(layer_0 - estimator_0 - 10_folds.train_7.predict)=98.50%\n",
      "[ 2018-05-15 10:25:33,635][kfold_wrapper.log_eval_metrics] Accuracy(layer_0 - estimator_0 - 10_folds.train_8.predict)=98.20%\n",
      "[ 2018-05-15 10:25:34,437][kfold_wrapper.log_eval_metrics] Accuracy(layer_0 - estimator_0 - 10_folds.train_9.predict)=98.50%\n",
      "[ 2018-05-15 10:25:34,550][kfold_wrapper.log_eval_metrics] Accuracy(layer_0 - estimator_0 - 10_folds.train_cv.predict)=98.59%\n",
      "[ 2018-05-15 10:25:34,552][kfold_wrapper.log_eval_metrics] Accuracy(layer_0 - estimator_0 - 10_folds.test.predict)=98.84%\n",
      "[ 2018-05-15 10:25:34,566][cascade_classifier.calc_accuracy] Accuracy(layer_0 - train.classifier_average)=98.59%\n",
      "[ 2018-05-15 10:25:34,569][cascade_classifier.calc_accuracy] Accuracy(layer_0 - test.classifier_average)=98.84%\n",
      "[ 2018-05-15 10:25:34,576][cascade_classifier.fit_transform] [Result][Reach Max Layer] opt_layer_num=1, accuracy_train=98.59%, accuracy_test=98.84%\n",
      "[ 2018-05-15 10:25:34,578][cascade_classifier.transform] X_groups_test.shape=[(1645, 12)]\n",
      "[ 2018-05-15 10:25:34,581][cascade_classifier.transform] group_dims=[12]\n",
      "[ 2018-05-15 10:25:34,590][cascade_classifier.transform] X_test.shape=(1645, 12)\n",
      "[ 2018-05-15 10:25:34,596][cascade_classifier.transform] [layer=0] look_indexs=[0], X_cur_test.shape=(1645, 12)\n",
      "[ 2018-05-15 10:25:36,415][cascade_classifier.fit_transform] X_groups_train.shape=[(3337, 12)],y_train.shape=(3337,),X_groups_test.shape=[(1645, 12)],y_test.shape=(1645,)\n",
      "[ 2018-05-15 10:25:36,417][cascade_classifier.fit_transform] group_dims=[12]\n",
      "[ 2018-05-15 10:25:36,431][cascade_classifier.fit_transform] group_starts=[0]\n",
      "[ 2018-05-15 10:25:36,434][cascade_classifier.fit_transform] group_ends=[12]\n",
      "[ 2018-05-15 10:25:36,438][cascade_classifier.fit_transform] X_train.shape=(3337, 12),X_test.shape=(1645, 12)\n",
      "[ 2018-05-15 10:25:36,444][cascade_classifier.fit_transform] [layer=0] look_indexs=[0], X_cur_train.shape=(3337, 12), X_cur_test.shape=(1645, 12)\n"
     ]
    },
    {
     "name": "stdout",
     "output_type": "stream",
     "text": [
      "('Test Accuracy of ExtraTrees = 98.844985 %', 10, 'fois')\n",
      "[[1608    2]\n",
      " [  17   18]]\n",
      "\n",
      "\n",
      "             precision    recall  f1-score   support\n",
      "\n",
      "        0.0       0.99      1.00      0.99      1610\n",
      "        1.0       0.90      0.51      0.65        35\n",
      "\n",
      "avg / total       0.99      0.99      0.99      1645\n",
      "\n"
     ]
    },
    {
     "name": "stderr",
     "output_type": "stream",
     "text": [
      "[ 2018-05-15 10:25:37,289][kfold_wrapper.log_eval_metrics] Accuracy(layer_0 - estimator_0 - 10_folds.train_0.predict)=99.40%\n",
      "[ 2018-05-15 10:25:38,495][kfold_wrapper.log_eval_metrics] Accuracy(layer_0 - estimator_0 - 10_folds.train_1.predict)=98.51%\n",
      "[ 2018-05-15 10:25:39,731][kfold_wrapper.log_eval_metrics] Accuracy(layer_0 - estimator_0 - 10_folds.train_2.predict)=98.21%\n",
      "[ 2018-05-15 10:25:40,464][kfold_wrapper.log_eval_metrics] Accuracy(layer_0 - estimator_0 - 10_folds.train_3.predict)=98.80%\n",
      "[ 2018-05-15 10:25:41,559][kfold_wrapper.log_eval_metrics] Accuracy(layer_0 - estimator_0 - 10_folds.train_4.predict)=98.20%\n",
      "[ 2018-05-15 10:25:42,785][kfold_wrapper.log_eval_metrics] Accuracy(layer_0 - estimator_0 - 10_folds.train_5.predict)=99.40%\n",
      "[ 2018-05-15 10:25:43,647][kfold_wrapper.log_eval_metrics] Accuracy(layer_0 - estimator_0 - 10_folds.train_6.predict)=98.50%\n",
      "[ 2018-05-15 10:25:44,756][kfold_wrapper.log_eval_metrics] Accuracy(layer_0 - estimator_0 - 10_folds.train_7.predict)=98.80%\n",
      "[ 2018-05-15 10:25:46,047][kfold_wrapper.log_eval_metrics] Accuracy(layer_0 - estimator_0 - 10_folds.train_8.predict)=98.20%\n",
      "[ 2018-05-15 10:25:46,887][kfold_wrapper.log_eval_metrics] Accuracy(layer_0 - estimator_0 - 10_folds.train_9.predict)=99.10%\n",
      "[ 2018-05-15 10:25:46,998][kfold_wrapper.log_eval_metrics] Accuracy(layer_0 - estimator_0 - 10_folds.train_cv.predict)=98.71%\n",
      "[ 2018-05-15 10:25:47,002][kfold_wrapper.log_eval_metrics] Accuracy(layer_0 - estimator_0 - 10_folds.test.predict)=98.97%\n",
      "[ 2018-05-15 10:25:47,011][cascade_classifier.calc_accuracy] Accuracy(layer_0 - train.classifier_average)=98.71%\n",
      "[ 2018-05-15 10:25:47,013][cascade_classifier.calc_accuracy] Accuracy(layer_0 - test.classifier_average)=98.97%\n",
      "[ 2018-05-15 10:25:47,015][cascade_classifier.fit_transform] [Result][Reach Max Layer] opt_layer_num=1, accuracy_train=98.71%, accuracy_test=98.97%\n",
      "[ 2018-05-15 10:25:47,017][cascade_classifier.transform] X_groups_test.shape=[(1645, 12)]\n",
      "[ 2018-05-15 10:25:47,019][cascade_classifier.transform] group_dims=[12]\n",
      "[ 2018-05-15 10:25:47,021][cascade_classifier.transform] X_test.shape=(1645, 12)\n",
      "[ 2018-05-15 10:25:47,023][cascade_classifier.transform] [layer=0] look_indexs=[0], X_cur_test.shape=(1645, 12)\n",
      "[ 2018-05-15 10:25:48,983][cascade_classifier.fit_transform] X_groups_train.shape=[(3337, 12)],y_train.shape=(3337,),X_groups_test.shape=[(1645, 12)],y_test.shape=(1645,)\n",
      "[ 2018-05-15 10:25:48,985][cascade_classifier.fit_transform] group_dims=[12]\n",
      "[ 2018-05-15 10:25:48,999][cascade_classifier.fit_transform] group_starts=[0]\n",
      "[ 2018-05-15 10:25:49,003][cascade_classifier.fit_transform] group_ends=[12]\n",
      "[ 2018-05-15 10:25:49,007][cascade_classifier.fit_transform] X_train.shape=(3337, 12),X_test.shape=(1645, 12)\n",
      "[ 2018-05-15 10:25:49,012][cascade_classifier.fit_transform] [layer=0] look_indexs=[0], X_cur_train.shape=(3337, 12), X_cur_test.shape=(1645, 12)\n"
     ]
    },
    {
     "name": "stdout",
     "output_type": "stream",
     "text": [
      "('Test Accuracy of ExtraTrees = 98.966565 %', 11, 'fois')\n",
      "[[1607    3]\n",
      " [  14   21]]\n",
      "\n",
      "\n",
      "             precision    recall  f1-score   support\n",
      "\n",
      "        0.0       0.99      1.00      0.99      1610\n",
      "        1.0       0.88      0.60      0.71        35\n",
      "\n",
      "avg / total       0.99      0.99      0.99      1645\n",
      "\n"
     ]
    },
    {
     "name": "stderr",
     "output_type": "stream",
     "text": [
      "[ 2018-05-15 10:25:49,728][kfold_wrapper.log_eval_metrics] Accuracy(layer_0 - estimator_0 - 10_folds.train_0.predict)=98.81%\n",
      "[ 2018-05-15 10:25:50,851][kfold_wrapper.log_eval_metrics] Accuracy(layer_0 - estimator_0 - 10_folds.train_1.predict)=98.51%\n",
      "[ 2018-05-15 10:25:52,062][kfold_wrapper.log_eval_metrics] Accuracy(layer_0 - estimator_0 - 10_folds.train_2.predict)=98.21%\n",
      "[ 2018-05-15 10:25:52,916][kfold_wrapper.log_eval_metrics] Accuracy(layer_0 - estimator_0 - 10_folds.train_3.predict)=98.80%\n",
      "[ 2018-05-15 10:25:54,073][kfold_wrapper.log_eval_metrics] Accuracy(layer_0 - estimator_0 - 10_folds.train_4.predict)=98.50%\n",
      "[ 2018-05-15 10:25:55,326][kfold_wrapper.log_eval_metrics] Accuracy(layer_0 - estimator_0 - 10_folds.train_5.predict)=98.20%\n",
      "[ 2018-05-15 10:25:56,185][kfold_wrapper.log_eval_metrics] Accuracy(layer_0 - estimator_0 - 10_folds.train_6.predict)=98.80%\n",
      "[ 2018-05-15 10:25:56,947][kfold_wrapper.log_eval_metrics] Accuracy(layer_0 - estimator_0 - 10_folds.train_7.predict)=98.80%\n",
      "[ 2018-05-15 10:25:57,675][kfold_wrapper.log_eval_metrics] Accuracy(layer_0 - estimator_0 - 10_folds.train_8.predict)=98.20%\n",
      "[ 2018-05-15 10:25:58,875][kfold_wrapper.log_eval_metrics] Accuracy(layer_0 - estimator_0 - 10_folds.train_9.predict)=99.40%\n",
      "[ 2018-05-15 10:25:59,136][kfold_wrapper.log_eval_metrics] Accuracy(layer_0 - estimator_0 - 10_folds.train_cv.predict)=98.62%\n",
      "[ 2018-05-15 10:25:59,138][kfold_wrapper.log_eval_metrics] Accuracy(layer_0 - estimator_0 - 10_folds.test.predict)=98.91%\n",
      "[ 2018-05-15 10:25:59,150][cascade_classifier.calc_accuracy] Accuracy(layer_0 - train.classifier_average)=98.62%\n",
      "[ 2018-05-15 10:25:59,156][cascade_classifier.calc_accuracy] Accuracy(layer_0 - test.classifier_average)=98.91%\n",
      "[ 2018-05-15 10:25:59,161][cascade_classifier.fit_transform] [Result][Reach Max Layer] opt_layer_num=1, accuracy_train=98.62%, accuracy_test=98.91%\n",
      "[ 2018-05-15 10:25:59,163][cascade_classifier.transform] X_groups_test.shape=[(1645, 12)]\n",
      "[ 2018-05-15 10:25:59,171][cascade_classifier.transform] group_dims=[12]\n",
      "[ 2018-05-15 10:25:59,174][cascade_classifier.transform] X_test.shape=(1645, 12)\n",
      "[ 2018-05-15 10:25:59,177][cascade_classifier.transform] [layer=0] look_indexs=[0], X_cur_test.shape=(1645, 12)\n",
      "[ 2018-05-15 10:26:00,735][cascade_classifier.fit_transform] X_groups_train.shape=[(3337, 12)],y_train.shape=(3337,),X_groups_test.shape=[(1645, 12)],y_test.shape=(1645,)\n",
      "[ 2018-05-15 10:26:00,737][cascade_classifier.fit_transform] group_dims=[12]\n",
      "[ 2018-05-15 10:26:00,746][cascade_classifier.fit_transform] group_starts=[0]\n",
      "[ 2018-05-15 10:26:00,747][cascade_classifier.fit_transform] group_ends=[12]\n",
      "[ 2018-05-15 10:26:00,749][cascade_classifier.fit_transform] X_train.shape=(3337, 12),X_test.shape=(1645, 12)\n",
      "[ 2018-05-15 10:26:00,750][cascade_classifier.fit_transform] [layer=0] look_indexs=[0], X_cur_train.shape=(3337, 12), X_cur_test.shape=(1645, 12)\n"
     ]
    },
    {
     "name": "stdout",
     "output_type": "stream",
     "text": [
      "('Test Accuracy of ExtraTrees = 98.905775 %', 12, 'fois')\n",
      "[[1608    2]\n",
      " [  16   19]]\n",
      "\n",
      "\n",
      "             precision    recall  f1-score   support\n",
      "\n",
      "        0.0       0.99      1.00      0.99      1610\n",
      "        1.0       0.90      0.54      0.68        35\n",
      "\n",
      "avg / total       0.99      0.99      0.99      1645\n",
      "\n"
     ]
    },
    {
     "name": "stderr",
     "output_type": "stream",
     "text": [
      "[ 2018-05-15 10:26:01,618][kfold_wrapper.log_eval_metrics] Accuracy(layer_0 - estimator_0 - 10_folds.train_0.predict)=99.10%\n",
      "[ 2018-05-15 10:26:02,697][kfold_wrapper.log_eval_metrics] Accuracy(layer_0 - estimator_0 - 10_folds.train_1.predict)=98.81%\n",
      "[ 2018-05-15 10:26:03,685][kfold_wrapper.log_eval_metrics] Accuracy(layer_0 - estimator_0 - 10_folds.train_2.predict)=98.21%\n",
      "[ 2018-05-15 10:26:04,793][kfold_wrapper.log_eval_metrics] Accuracy(layer_0 - estimator_0 - 10_folds.train_3.predict)=99.10%\n",
      "[ 2018-05-15 10:26:06,259][kfold_wrapper.log_eval_metrics] Accuracy(layer_0 - estimator_0 - 10_folds.train_4.predict)=98.80%\n",
      "[ 2018-05-15 10:26:07,014][kfold_wrapper.log_eval_metrics] Accuracy(layer_0 - estimator_0 - 10_folds.train_5.predict)=99.40%\n",
      "[ 2018-05-15 10:26:08,254][kfold_wrapper.log_eval_metrics] Accuracy(layer_0 - estimator_0 - 10_folds.train_6.predict)=98.80%\n",
      "[ 2018-05-15 10:26:09,595][kfold_wrapper.log_eval_metrics] Accuracy(layer_0 - estimator_0 - 10_folds.train_7.predict)=98.50%\n",
      "[ 2018-05-15 10:26:10,387][kfold_wrapper.log_eval_metrics] Accuracy(layer_0 - estimator_0 - 10_folds.train_8.predict)=98.20%\n",
      "[ 2018-05-15 10:26:11,585][kfold_wrapper.log_eval_metrics] Accuracy(layer_0 - estimator_0 - 10_folds.train_9.predict)=99.40%\n",
      "[ 2018-05-15 10:26:11,821][kfold_wrapper.log_eval_metrics] Accuracy(layer_0 - estimator_0 - 10_folds.train_cv.predict)=98.83%\n",
      "[ 2018-05-15 10:26:11,823][kfold_wrapper.log_eval_metrics] Accuracy(layer_0 - estimator_0 - 10_folds.test.predict)=98.91%\n",
      "[ 2018-05-15 10:26:11,837][cascade_classifier.calc_accuracy] Accuracy(layer_0 - train.classifier_average)=98.83%\n",
      "[ 2018-05-15 10:26:11,840][cascade_classifier.calc_accuracy] Accuracy(layer_0 - test.classifier_average)=98.91%\n",
      "[ 2018-05-15 10:26:11,843][cascade_classifier.fit_transform] [Result][Reach Max Layer] opt_layer_num=1, accuracy_train=98.83%, accuracy_test=98.91%\n",
      "[ 2018-05-15 10:26:11,848][cascade_classifier.transform] X_groups_test.shape=[(1645, 12)]\n",
      "[ 2018-05-15 10:26:11,850][cascade_classifier.transform] group_dims=[12]\n",
      "[ 2018-05-15 10:26:11,862][cascade_classifier.transform] X_test.shape=(1645, 12)\n",
      "[ 2018-05-15 10:26:11,864][cascade_classifier.transform] [layer=0] look_indexs=[0], X_cur_test.shape=(1645, 12)\n",
      "[ 2018-05-15 10:26:13,269][cascade_classifier.fit_transform] X_groups_train.shape=[(3337, 12)],y_train.shape=(3337,),X_groups_test.shape=[(1645, 12)],y_test.shape=(1645,)\n",
      "[ 2018-05-15 10:26:13,270][cascade_classifier.fit_transform] group_dims=[12]\n",
      "[ 2018-05-15 10:26:13,272][cascade_classifier.fit_transform] group_starts=[0]\n",
      "[ 2018-05-15 10:26:13,279][cascade_classifier.fit_transform] group_ends=[12]\n",
      "[ 2018-05-15 10:26:13,281][cascade_classifier.fit_transform] X_train.shape=(3337, 12),X_test.shape=(1645, 12)\n",
      "[ 2018-05-15 10:26:13,283][cascade_classifier.fit_transform] [layer=0] look_indexs=[0], X_cur_train.shape=(3337, 12), X_cur_test.shape=(1645, 12)\n"
     ]
    },
    {
     "name": "stdout",
     "output_type": "stream",
     "text": [
      "('Test Accuracy of ExtraTrees = 98.905775 %', 13, 'fois')\n",
      "[[1608    2]\n",
      " [  16   19]]\n",
      "\n",
      "\n",
      "             precision    recall  f1-score   support\n",
      "\n",
      "        0.0       0.99      1.00      0.99      1610\n",
      "        1.0       0.90      0.54      0.68        35\n",
      "\n",
      "avg / total       0.99      0.99      0.99      1645\n",
      "\n"
     ]
    },
    {
     "name": "stderr",
     "output_type": "stream",
     "text": [
      "[ 2018-05-15 10:26:14,341][kfold_wrapper.log_eval_metrics] Accuracy(layer_0 - estimator_0 - 10_folds.train_0.predict)=99.10%\n",
      "[ 2018-05-15 10:26:15,457][kfold_wrapper.log_eval_metrics] Accuracy(layer_0 - estimator_0 - 10_folds.train_1.predict)=98.81%\n",
      "[ 2018-05-15 10:26:16,372][kfold_wrapper.log_eval_metrics] Accuracy(layer_0 - estimator_0 - 10_folds.train_2.predict)=97.91%\n",
      "[ 2018-05-15 10:26:17,549][kfold_wrapper.log_eval_metrics] Accuracy(layer_0 - estimator_0 - 10_folds.train_3.predict)=98.80%\n",
      "[ 2018-05-15 10:26:18,909][kfold_wrapper.log_eval_metrics] Accuracy(layer_0 - estimator_0 - 10_folds.train_4.predict)=98.80%\n",
      "[ 2018-05-15 10:26:19,727][kfold_wrapper.log_eval_metrics] Accuracy(layer_0 - estimator_0 - 10_folds.train_5.predict)=99.10%\n",
      "[ 2018-05-15 10:26:20,794][kfold_wrapper.log_eval_metrics] Accuracy(layer_0 - estimator_0 - 10_folds.train_6.predict)=98.50%\n",
      "[ 2018-05-15 10:26:22,019][kfold_wrapper.log_eval_metrics] Accuracy(layer_0 - estimator_0 - 10_folds.train_7.predict)=98.80%\n",
      "[ 2018-05-15 10:26:22,783][kfold_wrapper.log_eval_metrics] Accuracy(layer_0 - estimator_0 - 10_folds.train_8.predict)=98.20%\n",
      "[ 2018-05-15 10:26:23,964][kfold_wrapper.log_eval_metrics] Accuracy(layer_0 - estimator_0 - 10_folds.train_9.predict)=98.80%\n",
      "[ 2018-05-15 10:26:24,080][kfold_wrapper.log_eval_metrics] Accuracy(layer_0 - estimator_0 - 10_folds.train_cv.predict)=98.68%\n",
      "[ 2018-05-15 10:26:24,081][kfold_wrapper.log_eval_metrics] Accuracy(layer_0 - estimator_0 - 10_folds.test.predict)=98.91%\n",
      "[ 2018-05-15 10:26:24,097][cascade_classifier.calc_accuracy] Accuracy(layer_0 - train.classifier_average)=98.68%\n",
      "[ 2018-05-15 10:26:24,099][cascade_classifier.calc_accuracy] Accuracy(layer_0 - test.classifier_average)=98.91%\n",
      "[ 2018-05-15 10:26:24,104][cascade_classifier.fit_transform] [Result][Reach Max Layer] opt_layer_num=1, accuracy_train=98.68%, accuracy_test=98.91%\n",
      "[ 2018-05-15 10:26:24,107][cascade_classifier.transform] X_groups_test.shape=[(1645, 12)]\n",
      "[ 2018-05-15 10:26:24,110][cascade_classifier.transform] group_dims=[12]\n",
      "[ 2018-05-15 10:26:24,113][cascade_classifier.transform] X_test.shape=(1645, 12)\n",
      "[ 2018-05-15 10:26:24,123][cascade_classifier.transform] [layer=0] look_indexs=[0], X_cur_test.shape=(1645, 12)\n",
      "[ 2018-05-15 10:26:25,667][cascade_classifier.fit_transform] X_groups_train.shape=[(3337, 12)],y_train.shape=(3337,),X_groups_test.shape=[(1645, 12)],y_test.shape=(1645,)\n",
      "[ 2018-05-15 10:26:25,669][cascade_classifier.fit_transform] group_dims=[12]\n",
      "[ 2018-05-15 10:26:25,670][cascade_classifier.fit_transform] group_starts=[0]\n",
      "[ 2018-05-15 10:26:25,680][cascade_classifier.fit_transform] group_ends=[12]\n",
      "[ 2018-05-15 10:26:25,682][cascade_classifier.fit_transform] X_train.shape=(3337, 12),X_test.shape=(1645, 12)\n",
      "[ 2018-05-15 10:26:25,683][cascade_classifier.fit_transform] [layer=0] look_indexs=[0], X_cur_train.shape=(3337, 12), X_cur_test.shape=(1645, 12)\n"
     ]
    },
    {
     "name": "stdout",
     "output_type": "stream",
     "text": [
      "('Test Accuracy of ExtraTrees = 98.905775 %', 14, 'fois')\n",
      "[[1607    3]\n",
      " [  15   20]]\n",
      "\n",
      "\n",
      "             precision    recall  f1-score   support\n",
      "\n",
      "        0.0       0.99      1.00      0.99      1610\n",
      "        1.0       0.87      0.57      0.69        35\n",
      "\n",
      "avg / total       0.99      0.99      0.99      1645\n",
      "\n"
     ]
    },
    {
     "name": "stderr",
     "output_type": "stream",
     "text": [
      "[ 2018-05-15 10:26:26,423][kfold_wrapper.log_eval_metrics] Accuracy(layer_0 - estimator_0 - 10_folds.train_0.predict)=99.10%\n",
      "[ 2018-05-15 10:26:27,607][kfold_wrapper.log_eval_metrics] Accuracy(layer_0 - estimator_0 - 10_folds.train_1.predict)=98.81%\n",
      "[ 2018-05-15 10:26:28,783][kfold_wrapper.log_eval_metrics] Accuracy(layer_0 - estimator_0 - 10_folds.train_2.predict)=98.51%\n",
      "[ 2018-05-15 10:26:29,557][kfold_wrapper.log_eval_metrics] Accuracy(layer_0 - estimator_0 - 10_folds.train_3.predict)=98.50%\n",
      "[ 2018-05-15 10:26:30,370][kfold_wrapper.log_eval_metrics] Accuracy(layer_0 - estimator_0 - 10_folds.train_4.predict)=99.10%\n",
      "[ 2018-05-15 10:26:31,246][kfold_wrapper.log_eval_metrics] Accuracy(layer_0 - estimator_0 - 10_folds.train_5.predict)=98.80%\n",
      "[ 2018-05-15 10:26:32,327][kfold_wrapper.log_eval_metrics] Accuracy(layer_0 - estimator_0 - 10_folds.train_6.predict)=98.80%\n",
      "[ 2018-05-15 10:26:33,425][kfold_wrapper.log_eval_metrics] Accuracy(layer_0 - estimator_0 - 10_folds.train_7.predict)=98.80%\n",
      "[ 2018-05-15 10:26:34,163][kfold_wrapper.log_eval_metrics] Accuracy(layer_0 - estimator_0 - 10_folds.train_8.predict)=98.20%\n",
      "[ 2018-05-15 10:26:35,255][kfold_wrapper.log_eval_metrics] Accuracy(layer_0 - estimator_0 - 10_folds.train_9.predict)=99.70%\n",
      "[ 2018-05-15 10:26:35,392][kfold_wrapper.log_eval_metrics] Accuracy(layer_0 - estimator_0 - 10_folds.train_cv.predict)=98.83%\n",
      "[ 2018-05-15 10:26:35,394][kfold_wrapper.log_eval_metrics] Accuracy(layer_0 - estimator_0 - 10_folds.test.predict)=98.72%\n",
      "[ 2018-05-15 10:26:35,406][cascade_classifier.calc_accuracy] Accuracy(layer_0 - train.classifier_average)=98.83%\n",
      "[ 2018-05-15 10:26:35,420][cascade_classifier.calc_accuracy] Accuracy(layer_0 - test.classifier_average)=98.72%\n",
      "[ 2018-05-15 10:26:35,432][cascade_classifier.fit_transform] [Result][Reach Max Layer] opt_layer_num=1, accuracy_train=98.83%, accuracy_test=98.72%\n",
      "[ 2018-05-15 10:26:35,443][cascade_classifier.transform] X_groups_test.shape=[(1645, 12)]\n",
      "[ 2018-05-15 10:26:35,445][cascade_classifier.transform] group_dims=[12]\n",
      "[ 2018-05-15 10:26:35,458][cascade_classifier.transform] X_test.shape=(1645, 12)\n",
      "[ 2018-05-15 10:26:35,460][cascade_classifier.transform] [layer=0] look_indexs=[0], X_cur_test.shape=(1645, 12)\n",
      "[ 2018-05-15 10:26:36,754][cascade_classifier.fit_transform] X_groups_train.shape=[(3337, 12)],y_train.shape=(3337,),X_groups_test.shape=[(1645, 12)],y_test.shape=(1645,)\n",
      "[ 2018-05-15 10:26:36,755][cascade_classifier.fit_transform] group_dims=[12]\n",
      "[ 2018-05-15 10:26:36,759][cascade_classifier.fit_transform] group_starts=[0]\n",
      "[ 2018-05-15 10:26:36,760][cascade_classifier.fit_transform] group_ends=[12]\n",
      "[ 2018-05-15 10:26:36,762][cascade_classifier.fit_transform] X_train.shape=(3337, 12),X_test.shape=(1645, 12)\n",
      "[ 2018-05-15 10:26:36,764][cascade_classifier.fit_transform] [layer=0] look_indexs=[0], X_cur_train.shape=(3337, 12), X_cur_test.shape=(1645, 12)\n"
     ]
    },
    {
     "name": "stdout",
     "output_type": "stream",
     "text": [
      "('Test Accuracy of ExtraTrees = 98.723404 %', 15, 'fois')\n",
      "[[1608    2]\n",
      " [  19   16]]\n",
      "\n",
      "\n",
      "             precision    recall  f1-score   support\n",
      "\n",
      "        0.0       0.99      1.00      0.99      1610\n",
      "        1.0       0.89      0.46      0.60        35\n",
      "\n",
      "avg / total       0.99      0.99      0.99      1645\n",
      "\n"
     ]
    },
    {
     "name": "stderr",
     "output_type": "stream",
     "text": [
      "[ 2018-05-15 10:26:37,701][kfold_wrapper.log_eval_metrics] Accuracy(layer_0 - estimator_0 - 10_folds.train_0.predict)=98.81%\n",
      "[ 2018-05-15 10:26:38,933][kfold_wrapper.log_eval_metrics] Accuracy(layer_0 - estimator_0 - 10_folds.train_1.predict)=98.81%\n",
      "[ 2018-05-15 10:26:39,849][kfold_wrapper.log_eval_metrics] Accuracy(layer_0 - estimator_0 - 10_folds.train_2.predict)=97.91%\n",
      "[ 2018-05-15 10:26:41,100][kfold_wrapper.log_eval_metrics] Accuracy(layer_0 - estimator_0 - 10_folds.train_3.predict)=98.80%\n",
      "[ 2018-05-15 10:26:42,182][kfold_wrapper.log_eval_metrics] Accuracy(layer_0 - estimator_0 - 10_folds.train_4.predict)=99.70%\n",
      "[ 2018-05-15 10:26:43,050][kfold_wrapper.log_eval_metrics] Accuracy(layer_0 - estimator_0 - 10_folds.train_5.predict)=98.20%\n",
      "[ 2018-05-15 10:26:44,129][kfold_wrapper.log_eval_metrics] Accuracy(layer_0 - estimator_0 - 10_folds.train_6.predict)=99.10%\n",
      "[ 2018-05-15 10:26:45,229][kfold_wrapper.log_eval_metrics] Accuracy(layer_0 - estimator_0 - 10_folds.train_7.predict)=99.10%\n",
      "[ 2018-05-15 10:26:46,182][kfold_wrapper.log_eval_metrics] Accuracy(layer_0 - estimator_0 - 10_folds.train_8.predict)=98.80%\n",
      "[ 2018-05-15 10:26:47,315][kfold_wrapper.log_eval_metrics] Accuracy(layer_0 - estimator_0 - 10_folds.train_9.predict)=99.10%\n",
      "[ 2018-05-15 10:26:47,550][kfold_wrapper.log_eval_metrics] Accuracy(layer_0 - estimator_0 - 10_folds.train_cv.predict)=98.83%\n",
      "[ 2018-05-15 10:26:47,552][kfold_wrapper.log_eval_metrics] Accuracy(layer_0 - estimator_0 - 10_folds.test.predict)=98.91%\n",
      "[ 2018-05-15 10:26:47,572][cascade_classifier.calc_accuracy] Accuracy(layer_0 - train.classifier_average)=98.83%\n",
      "[ 2018-05-15 10:26:47,579][cascade_classifier.calc_accuracy] Accuracy(layer_0 - test.classifier_average)=98.91%\n",
      "[ 2018-05-15 10:26:47,586][cascade_classifier.fit_transform] [Result][Reach Max Layer] opt_layer_num=1, accuracy_train=98.83%, accuracy_test=98.91%\n",
      "[ 2018-05-15 10:26:47,596][cascade_classifier.transform] X_groups_test.shape=[(1645, 12)]\n",
      "[ 2018-05-15 10:26:47,609][cascade_classifier.transform] group_dims=[12]\n",
      "[ 2018-05-15 10:26:47,611][cascade_classifier.transform] X_test.shape=(1645, 12)\n",
      "[ 2018-05-15 10:26:47,624][cascade_classifier.transform] [layer=0] look_indexs=[0], X_cur_test.shape=(1645, 12)\n",
      "[ 2018-05-15 10:26:49,052][cascade_classifier.fit_transform] X_groups_train.shape=[(3337, 12)],y_train.shape=(3337,),X_groups_test.shape=[(1645, 12)],y_test.shape=(1645,)\n",
      "[ 2018-05-15 10:26:49,053][cascade_classifier.fit_transform] group_dims=[12]\n",
      "[ 2018-05-15 10:26:49,055][cascade_classifier.fit_transform] group_starts=[0]\n",
      "[ 2018-05-15 10:26:49,056][cascade_classifier.fit_transform] group_ends=[12]\n",
      "[ 2018-05-15 10:26:49,057][cascade_classifier.fit_transform] X_train.shape=(3337, 12),X_test.shape=(1645, 12)\n",
      "[ 2018-05-15 10:26:49,058][cascade_classifier.fit_transform] [layer=0] look_indexs=[0], X_cur_train.shape=(3337, 12), X_cur_test.shape=(1645, 12)\n"
     ]
    },
    {
     "name": "stdout",
     "output_type": "stream",
     "text": [
      "('Test Accuracy of ExtraTrees = 98.905775 %', 16, 'fois')\n",
      "[[1608    2]\n",
      " [  16   19]]\n",
      "\n",
      "\n",
      "             precision    recall  f1-score   support\n",
      "\n",
      "        0.0       0.99      1.00      0.99      1610\n",
      "        1.0       0.90      0.54      0.68        35\n",
      "\n",
      "avg / total       0.99      0.99      0.99      1645\n",
      "\n"
     ]
    },
    {
     "name": "stderr",
     "output_type": "stream",
     "text": [
      "[ 2018-05-15 10:26:49,975][kfold_wrapper.log_eval_metrics] Accuracy(layer_0 - estimator_0 - 10_folds.train_0.predict)=98.81%\n",
      "[ 2018-05-15 10:26:51,084][kfold_wrapper.log_eval_metrics] Accuracy(layer_0 - estimator_0 - 10_folds.train_1.predict)=98.51%\n",
      "[ 2018-05-15 10:26:52,085][kfold_wrapper.log_eval_metrics] Accuracy(layer_0 - estimator_0 - 10_folds.train_2.predict)=97.91%\n",
      "[ 2018-05-15 10:26:53,039][kfold_wrapper.log_eval_metrics] Accuracy(layer_0 - estimator_0 - 10_folds.train_3.predict)=99.10%\n",
      "[ 2018-05-15 10:26:54,151][kfold_wrapper.log_eval_metrics] Accuracy(layer_0 - estimator_0 - 10_folds.train_4.predict)=98.50%\n",
      "[ 2018-05-15 10:26:55,302][kfold_wrapper.log_eval_metrics] Accuracy(layer_0 - estimator_0 - 10_folds.train_5.predict)=98.20%\n",
      "[ 2018-05-15 10:26:56,328][kfold_wrapper.log_eval_metrics] Accuracy(layer_0 - estimator_0 - 10_folds.train_6.predict)=98.80%\n",
      "[ 2018-05-15 10:26:57,549][kfold_wrapper.log_eval_metrics] Accuracy(layer_0 - estimator_0 - 10_folds.train_7.predict)=98.80%\n",
      "[ 2018-05-15 10:26:58,367][kfold_wrapper.log_eval_metrics] Accuracy(layer_0 - estimator_0 - 10_folds.train_8.predict)=98.20%\n",
      "[ 2018-05-15 10:26:59,219][kfold_wrapper.log_eval_metrics] Accuracy(layer_0 - estimator_0 - 10_folds.train_9.predict)=98.80%\n",
      "[ 2018-05-15 10:26:59,343][kfold_wrapper.log_eval_metrics] Accuracy(layer_0 - estimator_0 - 10_folds.train_cv.predict)=98.56%\n",
      "[ 2018-05-15 10:26:59,345][kfold_wrapper.log_eval_metrics] Accuracy(layer_0 - estimator_0 - 10_folds.test.predict)=98.72%\n",
      "[ 2018-05-15 10:26:59,355][cascade_classifier.calc_accuracy] Accuracy(layer_0 - train.classifier_average)=98.56%\n",
      "[ 2018-05-15 10:26:59,365][cascade_classifier.calc_accuracy] Accuracy(layer_0 - test.classifier_average)=98.72%\n",
      "[ 2018-05-15 10:26:59,367][cascade_classifier.fit_transform] [Result][Reach Max Layer] opt_layer_num=1, accuracy_train=98.56%, accuracy_test=98.72%\n",
      "[ 2018-05-15 10:26:59,371][cascade_classifier.transform] X_groups_test.shape=[(1645, 12)]\n",
      "[ 2018-05-15 10:26:59,378][cascade_classifier.transform] group_dims=[12]\n",
      "[ 2018-05-15 10:26:59,385][cascade_classifier.transform] X_test.shape=(1645, 12)\n",
      "[ 2018-05-15 10:26:59,388][cascade_classifier.transform] [layer=0] look_indexs=[0], X_cur_test.shape=(1645, 12)\n",
      "[ 2018-05-15 10:27:01,343][cascade_classifier.fit_transform] X_groups_train.shape=[(3337, 12)],y_train.shape=(3337,),X_groups_test.shape=[(1645, 12)],y_test.shape=(1645,)\n",
      "[ 2018-05-15 10:27:01,345][cascade_classifier.fit_transform] group_dims=[12]\n",
      "[ 2018-05-15 10:27:01,346][cascade_classifier.fit_transform] group_starts=[0]\n",
      "[ 2018-05-15 10:27:01,351][cascade_classifier.fit_transform] group_ends=[12]\n",
      "[ 2018-05-15 10:27:01,352][cascade_classifier.fit_transform] X_train.shape=(3337, 12),X_test.shape=(1645, 12)\n",
      "[ 2018-05-15 10:27:01,356][cascade_classifier.fit_transform] [layer=0] look_indexs=[0], X_cur_train.shape=(3337, 12), X_cur_test.shape=(1645, 12)\n"
     ]
    },
    {
     "name": "stdout",
     "output_type": "stream",
     "text": [
      "('Test Accuracy of ExtraTrees = 98.723404 %', 17, 'fois')\n",
      "[[1607    3]\n",
      " [  18   17]]\n",
      "\n",
      "\n",
      "             precision    recall  f1-score   support\n",
      "\n",
      "        0.0       0.99      1.00      0.99      1610\n",
      "        1.0       0.85      0.49      0.62        35\n",
      "\n",
      "avg / total       0.99      0.99      0.99      1645\n",
      "\n"
     ]
    },
    {
     "name": "stderr",
     "output_type": "stream",
     "text": [
      "[ 2018-05-15 10:27:02,148][kfold_wrapper.log_eval_metrics] Accuracy(layer_0 - estimator_0 - 10_folds.train_0.predict)=99.40%\n",
      "[ 2018-05-15 10:27:02,910][kfold_wrapper.log_eval_metrics] Accuracy(layer_0 - estimator_0 - 10_folds.train_1.predict)=98.81%\n",
      "[ 2018-05-15 10:27:04,006][kfold_wrapper.log_eval_metrics] Accuracy(layer_0 - estimator_0 - 10_folds.train_2.predict)=98.21%\n",
      "[ 2018-05-15 10:27:05,365][kfold_wrapper.log_eval_metrics] Accuracy(layer_0 - estimator_0 - 10_folds.train_3.predict)=98.80%\n",
      "[ 2018-05-15 10:27:06,228][kfold_wrapper.log_eval_metrics] Accuracy(layer_0 - estimator_0 - 10_folds.train_4.predict)=99.40%\n",
      "[ 2018-05-15 10:27:07,305][kfold_wrapper.log_eval_metrics] Accuracy(layer_0 - estimator_0 - 10_folds.train_5.predict)=98.80%\n",
      "[ 2018-05-15 10:27:08,531][kfold_wrapper.log_eval_metrics] Accuracy(layer_0 - estimator_0 - 10_folds.train_6.predict)=98.50%\n",
      "[ 2018-05-15 10:27:09,435][kfold_wrapper.log_eval_metrics] Accuracy(layer_0 - estimator_0 - 10_folds.train_7.predict)=99.10%\n",
      "[ 2018-05-15 10:27:10,646][kfold_wrapper.log_eval_metrics] Accuracy(layer_0 - estimator_0 - 10_folds.train_8.predict)=98.20%\n",
      "[ 2018-05-15 10:27:11,939][kfold_wrapper.log_eval_metrics] Accuracy(layer_0 - estimator_0 - 10_folds.train_9.predict)=98.80%\n",
      "[ 2018-05-15 10:27:12,069][kfold_wrapper.log_eval_metrics] Accuracy(layer_0 - estimator_0 - 10_folds.train_cv.predict)=98.80%\n",
      "[ 2018-05-15 10:27:12,072][kfold_wrapper.log_eval_metrics] Accuracy(layer_0 - estimator_0 - 10_folds.test.predict)=98.78%\n",
      "[ 2018-05-15 10:27:12,081][cascade_classifier.calc_accuracy] Accuracy(layer_0 - train.classifier_average)=98.80%\n",
      "[ 2018-05-15 10:27:12,083][cascade_classifier.calc_accuracy] Accuracy(layer_0 - test.classifier_average)=98.78%\n",
      "[ 2018-05-15 10:27:12,085][cascade_classifier.fit_transform] [Result][Reach Max Layer] opt_layer_num=1, accuracy_train=98.80%, accuracy_test=98.78%\n",
      "[ 2018-05-15 10:27:12,086][cascade_classifier.transform] X_groups_test.shape=[(1645, 12)]\n",
      "[ 2018-05-15 10:27:12,092][cascade_classifier.transform] group_dims=[12]\n",
      "[ 2018-05-15 10:27:12,093][cascade_classifier.transform] X_test.shape=(1645, 12)\n",
      "[ 2018-05-15 10:27:12,095][cascade_classifier.transform] [layer=0] look_indexs=[0], X_cur_test.shape=(1645, 12)\n",
      "[ 2018-05-15 10:27:13,751][cascade_classifier.fit_transform] X_groups_train.shape=[(3337, 12)],y_train.shape=(3337,),X_groups_test.shape=[(1645, 12)],y_test.shape=(1645,)\n",
      "[ 2018-05-15 10:27:13,753][cascade_classifier.fit_transform] group_dims=[12]\n",
      "[ 2018-05-15 10:27:13,756][cascade_classifier.fit_transform] group_starts=[0]\n",
      "[ 2018-05-15 10:27:13,762][cascade_classifier.fit_transform] group_ends=[12]\n",
      "[ 2018-05-15 10:27:13,764][cascade_classifier.fit_transform] X_train.shape=(3337, 12),X_test.shape=(1645, 12)\n",
      "[ 2018-05-15 10:27:13,770][cascade_classifier.fit_transform] [layer=0] look_indexs=[0], X_cur_train.shape=(3337, 12), X_cur_test.shape=(1645, 12)\n"
     ]
    },
    {
     "name": "stdout",
     "output_type": "stream",
     "text": [
      "('Test Accuracy of ExtraTrees = 98.784195 %', 18, 'fois')\n",
      "[[1608    2]\n",
      " [  18   17]]\n",
      "\n",
      "\n",
      "             precision    recall  f1-score   support\n",
      "\n",
      "        0.0       0.99      1.00      0.99      1610\n",
      "        1.0       0.89      0.49      0.63        35\n",
      "\n",
      "avg / total       0.99      0.99      0.99      1645\n",
      "\n"
     ]
    },
    {
     "name": "stderr",
     "output_type": "stream",
     "text": [
      "[ 2018-05-15 10:27:14,894][kfold_wrapper.log_eval_metrics] Accuracy(layer_0 - estimator_0 - 10_folds.train_0.predict)=99.40%\n",
      "[ 2018-05-15 10:27:15,678][kfold_wrapper.log_eval_metrics] Accuracy(layer_0 - estimator_0 - 10_folds.train_1.predict)=98.81%\n",
      "[ 2018-05-15 10:27:16,914][kfold_wrapper.log_eval_metrics] Accuracy(layer_0 - estimator_0 - 10_folds.train_2.predict)=97.91%\n",
      "[ 2018-05-15 10:27:18,172][kfold_wrapper.log_eval_metrics] Accuracy(layer_0 - estimator_0 - 10_folds.train_3.predict)=98.20%\n",
      "[ 2018-05-15 10:27:18,918][kfold_wrapper.log_eval_metrics] Accuracy(layer_0 - estimator_0 - 10_folds.train_4.predict)=99.10%\n",
      "[ 2018-05-15 10:27:20,040][kfold_wrapper.log_eval_metrics] Accuracy(layer_0 - estimator_0 - 10_folds.train_5.predict)=98.20%\n",
      "[ 2018-05-15 10:27:21,153][kfold_wrapper.log_eval_metrics] Accuracy(layer_0 - estimator_0 - 10_folds.train_6.predict)=98.80%\n",
      "[ 2018-05-15 10:27:21,891][kfold_wrapper.log_eval_metrics] Accuracy(layer_0 - estimator_0 - 10_folds.train_7.predict)=99.40%\n",
      "[ 2018-05-15 10:27:23,029][kfold_wrapper.log_eval_metrics] Accuracy(layer_0 - estimator_0 - 10_folds.train_8.predict)=98.20%\n",
      "[ 2018-05-15 10:27:24,372][kfold_wrapper.log_eval_metrics] Accuracy(layer_0 - estimator_0 - 10_folds.train_9.predict)=99.10%\n",
      "[ 2018-05-15 10:27:24,503][kfold_wrapper.log_eval_metrics] Accuracy(layer_0 - estimator_0 - 10_folds.train_cv.predict)=98.71%\n",
      "[ 2018-05-15 10:27:24,505][kfold_wrapper.log_eval_metrics] Accuracy(layer_0 - estimator_0 - 10_folds.test.predict)=98.78%\n",
      "[ 2018-05-15 10:27:24,509][cascade_classifier.calc_accuracy] Accuracy(layer_0 - train.classifier_average)=98.71%\n",
      "[ 2018-05-15 10:27:24,513][cascade_classifier.calc_accuracy] Accuracy(layer_0 - test.classifier_average)=98.78%\n",
      "[ 2018-05-15 10:27:24,515][cascade_classifier.fit_transform] [Result][Reach Max Layer] opt_layer_num=1, accuracy_train=98.71%, accuracy_test=98.78%\n",
      "[ 2018-05-15 10:27:24,518][cascade_classifier.transform] X_groups_test.shape=[(1645, 12)]\n",
      "[ 2018-05-15 10:27:24,520][cascade_classifier.transform] group_dims=[12]\n",
      "[ 2018-05-15 10:27:24,521][cascade_classifier.transform] X_test.shape=(1645, 12)\n",
      "[ 2018-05-15 10:27:24,523][cascade_classifier.transform] [layer=0] look_indexs=[0], X_cur_test.shape=(1645, 12)\n"
     ]
    },
    {
     "name": "stdout",
     "output_type": "stream",
     "text": [
      "('Test Accuracy of ExtraTrees = 98.784195 %', 19, 'fois')\n",
      "[[1609    1]\n",
      " [  19   16]]\n",
      "\n",
      "\n",
      "             precision    recall  f1-score   support\n",
      "\n",
      "        0.0       0.99      1.00      0.99      1610\n",
      "        1.0       0.94      0.46      0.62        35\n",
      "\n",
      "avg / total       0.99      0.99      0.99      1645\n",
      "\n"
     ]
    }
   ],
   "source": [
    "# Deep\n",
    "for i in range (20):\n",
    "    X_train,X_test=update(X_train,X_test)\n",
    "    X_test_enc, X_train_enc=newdata(X_test_enc, X_train_enc)\n",
    "\n",
    "    X_train=X_train_enc\n",
    "    X_test=X_test_enc \n",
    "    X_train_enc, X_test_enc = gc.fit_transform(X_train, y_train, X_test=X_test, y_test=y_test)\n",
    "    affiche()"
   ]
  },
  {
   "cell_type": "code",
   "execution_count": null,
   "metadata": {
    "collapsed": true
   },
   "outputs": [],
   "source": []
  },
  {
   "cell_type": "markdown",
   "metadata": {},
   "source": [
    "# ('Test Accuracy of ExtraTrees = 99.148936 %', 1, 'fois')"
   ]
  },
  {
   "cell_type": "code",
   "execution_count": null,
   "metadata": {
    "collapsed": true
   },
   "outputs": [],
   "source": []
  }
 ],
 "metadata": {
  "kernelspec": {
   "display_name": "Python 2",
   "language": "python",
   "name": "python2"
  },
  "language_info": {
   "codemirror_mode": {
    "name": "ipython",
    "version": 2
   },
   "file_extension": ".py",
   "mimetype": "text/x-python",
   "name": "python",
   "nbconvert_exporter": "python",
   "pygments_lexer": "ipython2",
   "version": "2.7.14"
  }
 },
 "nbformat": 4,
 "nbformat_minor": 2
}
