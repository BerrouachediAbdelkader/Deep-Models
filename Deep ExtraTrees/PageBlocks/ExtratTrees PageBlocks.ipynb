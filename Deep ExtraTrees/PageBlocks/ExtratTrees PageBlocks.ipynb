{
 "cells": [
  {
   "cell_type": "code",
   "execution_count": 1,
   "metadata": {
    "collapsed": true
   },
   "outputs": [],
   "source": [
    "# imports \n",
    "import numpy as np\n",
    "from math import sqrt \n",
    "from pprint import pprint\n",
    "from numpy import array\n",
    "from scipy.io import arff\n",
    "import pandas as pd"
   ]
  },
  {
   "cell_type": "code",
   "execution_count": 2,
   "metadata": {},
   "outputs": [
    {
     "data": {
      "text/html": [
       "<div>\n",
       "<style>\n",
       "    .dataframe thead tr:only-child th {\n",
       "        text-align: right;\n",
       "    }\n",
       "\n",
       "    .dataframe thead th {\n",
       "        text-align: left;\n",
       "    }\n",
       "\n",
       "    .dataframe tbody tr th {\n",
       "        vertical-align: top;\n",
       "    }\n",
       "</style>\n",
       "<table border=\"1\" class=\"dataframe\">\n",
       "  <thead>\n",
       "    <tr style=\"text-align: right;\">\n",
       "      <th></th>\n",
       "      <th>att1</th>\n",
       "      <th>att2</th>\n",
       "      <th>att3</th>\n",
       "      <th>att4</th>\n",
       "      <th>att5</th>\n",
       "      <th>att6</th>\n",
       "      <th>att7</th>\n",
       "      <th>att8</th>\n",
       "      <th>att9</th>\n",
       "      <th>att10</th>\n",
       "      <th>outlier</th>\n",
       "    </tr>\n",
       "  </thead>\n",
       "  <tbody>\n",
       "    <tr>\n",
       "      <th>0</th>\n",
       "      <td>5.0</td>\n",
       "      <td>7.0</td>\n",
       "      <td>35.0</td>\n",
       "      <td>1.400</td>\n",
       "      <td>0.400</td>\n",
       "      <td>0.657</td>\n",
       "      <td>2.33</td>\n",
       "      <td>14.0</td>\n",
       "      <td>23.0</td>\n",
       "      <td>6.0</td>\n",
       "      <td>0</td>\n",
       "    </tr>\n",
       "    <tr>\n",
       "      <th>1</th>\n",
       "      <td>6.0</td>\n",
       "      <td>7.0</td>\n",
       "      <td>42.0</td>\n",
       "      <td>1.167</td>\n",
       "      <td>0.429</td>\n",
       "      <td>0.881</td>\n",
       "      <td>3.60</td>\n",
       "      <td>18.0</td>\n",
       "      <td>37.0</td>\n",
       "      <td>5.0</td>\n",
       "      <td>0</td>\n",
       "    </tr>\n",
       "    <tr>\n",
       "      <th>2</th>\n",
       "      <td>6.0</td>\n",
       "      <td>18.0</td>\n",
       "      <td>108.0</td>\n",
       "      <td>3.000</td>\n",
       "      <td>0.287</td>\n",
       "      <td>0.741</td>\n",
       "      <td>4.43</td>\n",
       "      <td>31.0</td>\n",
       "      <td>80.0</td>\n",
       "      <td>7.0</td>\n",
       "      <td>0</td>\n",
       "    </tr>\n",
       "    <tr>\n",
       "      <th>3</th>\n",
       "      <td>5.0</td>\n",
       "      <td>7.0</td>\n",
       "      <td>35.0</td>\n",
       "      <td>1.400</td>\n",
       "      <td>0.371</td>\n",
       "      <td>0.743</td>\n",
       "      <td>4.33</td>\n",
       "      <td>13.0</td>\n",
       "      <td>26.0</td>\n",
       "      <td>3.0</td>\n",
       "      <td>0</td>\n",
       "    </tr>\n",
       "    <tr>\n",
       "      <th>4</th>\n",
       "      <td>6.0</td>\n",
       "      <td>3.0</td>\n",
       "      <td>18.0</td>\n",
       "      <td>0.500</td>\n",
       "      <td>0.500</td>\n",
       "      <td>0.944</td>\n",
       "      <td>2.25</td>\n",
       "      <td>9.0</td>\n",
       "      <td>17.0</td>\n",
       "      <td>4.0</td>\n",
       "      <td>0</td>\n",
       "    </tr>\n",
       "  </tbody>\n",
       "</table>\n",
       "</div>"
      ],
      "text/plain": [
       "   att1  att2   att3   att4   att5   att6  att7  att8  att9  att10  outlier\n",
       "0   5.0   7.0   35.0  1.400  0.400  0.657  2.33  14.0  23.0    6.0        0\n",
       "1   6.0   7.0   42.0  1.167  0.429  0.881  3.60  18.0  37.0    5.0        0\n",
       "2   6.0  18.0  108.0  3.000  0.287  0.741  4.43  31.0  80.0    7.0        0\n",
       "3   5.0   7.0   35.0  1.400  0.371  0.743  4.33  13.0  26.0    3.0        0\n",
       "4   6.0   3.0   18.0  0.500  0.500  0.944  2.25   9.0  17.0    4.0        0"
      ]
     },
     "execution_count": 2,
     "metadata": {},
     "output_type": "execute_result"
    }
   ],
   "source": [
    "# load data\n",
    "df=pd.read_csv('PageBlocks_withoutdupl_02_v02.csv')  \n",
    "\n",
    "del df['id']\n",
    "del df['Unnamed: 0']\n",
    "\n",
    "df.head()"
   ]
  },
  {
   "cell_type": "code",
   "execution_count": 3,
   "metadata": {},
   "outputs": [
    {
     "data": {
      "text/plain": [
       "(4982, 11)"
      ]
     },
     "execution_count": 3,
     "metadata": {},
     "output_type": "execute_result"
    }
   ],
   "source": [
    "df.shape"
   ]
  },
  {
   "cell_type": "code",
   "execution_count": 4,
   "metadata": {
    "collapsed": true
   },
   "outputs": [],
   "source": [
    "# data to values\n",
    "df = df.values"
   ]
  },
  {
   "cell_type": "code",
   "execution_count": 5,
   "metadata": {
    "collapsed": true
   },
   "outputs": [],
   "source": [
    "# Extratrees Deep\n",
    "import argparse\n",
    "import sys\n",
    "import pickle\n",
    "from sklearn.metrics import accuracy_score\n",
    "sys.path.insert(0, \"lib\")\n",
    "from gcforest.gcforest import GCForest\n",
    "from gcforest.utils.config_utils import load_json\n",
    "config = load_json(\"./examples/PageBlocks.json\")\n",
    "gc = GCForest(config)"
   ]
  },
  {
   "cell_type": "code",
   "execution_count": 15,
   "metadata": {
    "collapsed": true
   },
   "outputs": [],
   "source": [
    "# train test \n",
    "from sklearn.cross_validation import train_test_split\n",
    "y = df[:,10]\n",
    "X = df[:,0:10]\n",
    "\n",
    "X_train,X_test,y_train,y_test = train_test_split(X, y, test_size=0.33, random_state=42)"
   ]
  },
  {
   "cell_type": "code",
   "execution_count": 7,
   "metadata": {},
   "outputs": [
    {
     "data": {
      "text/plain": [
       "2"
      ]
     },
     "execution_count": 7,
     "metadata": {},
     "output_type": "execute_result"
    }
   ],
   "source": [
    "# number of class\n",
    "len(np.unique(y_train))"
   ]
  },
  {
   "cell_type": "code",
   "execution_count": 8,
   "metadata": {},
   "outputs": [
    {
     "name": "stderr",
     "output_type": "stream",
     "text": [
      "[ 2018-04-25 00:35:51,793][cascade_classifier.fit_transform] X_groups_train.shape=[(3337, 10)],y_train.shape=(3337,),X_groups_test.shape=[(1645, 10)],y_test.shape=(1645,)\n",
      "[ 2018-04-25 00:35:51,794][cascade_classifier.fit_transform] group_dims=[10]\n",
      "[ 2018-04-25 00:35:51,797][cascade_classifier.fit_transform] group_starts=[0]\n",
      "[ 2018-04-25 00:35:51,798][cascade_classifier.fit_transform] group_ends=[10]\n",
      "[ 2018-04-25 00:35:51,800][cascade_classifier.fit_transform] X_train.shape=(3337, 10),X_test.shape=(1645, 10)\n",
      "[ 2018-04-25 00:35:51,801][cascade_classifier.fit_transform] [layer=0] look_indexs=[0], X_cur_train.shape=(3337, 10), X_cur_test.shape=(1645, 10)\n",
      "[ 2018-04-25 00:35:52,425][kfold_wrapper.log_eval_metrics] Accuracy(layer_0 - estimator_0 - 10_folds.train_0.predict)=99.70%\n",
      "[ 2018-04-25 00:35:53,249][kfold_wrapper.log_eval_metrics] Accuracy(layer_0 - estimator_0 - 10_folds.train_1.predict)=98.81%\n",
      "[ 2018-04-25 00:35:54,073][kfold_wrapper.log_eval_metrics] Accuracy(layer_0 - estimator_0 - 10_folds.train_2.predict)=98.21%\n",
      "[ 2018-04-25 00:35:54,858][kfold_wrapper.log_eval_metrics] Accuracy(layer_0 - estimator_0 - 10_folds.train_3.predict)=98.80%\n",
      "[ 2018-04-25 00:35:55,611][kfold_wrapper.log_eval_metrics] Accuracy(layer_0 - estimator_0 - 10_folds.train_4.predict)=99.40%\n",
      "[ 2018-04-25 00:35:56,388][kfold_wrapper.log_eval_metrics] Accuracy(layer_0 - estimator_0 - 10_folds.train_5.predict)=99.10%\n",
      "[ 2018-04-25 00:35:57,191][kfold_wrapper.log_eval_metrics] Accuracy(layer_0 - estimator_0 - 10_folds.train_6.predict)=98.80%\n",
      "[ 2018-04-25 00:35:57,998][kfold_wrapper.log_eval_metrics] Accuracy(layer_0 - estimator_0 - 10_folds.train_7.predict)=98.80%\n",
      "[ 2018-04-25 00:35:58,775][kfold_wrapper.log_eval_metrics] Accuracy(layer_0 - estimator_0 - 10_folds.train_8.predict)=98.50%\n",
      "[ 2018-04-25 00:35:59,672][kfold_wrapper.log_eval_metrics] Accuracy(layer_0 - estimator_0 - 10_folds.train_9.predict)=99.10%\n",
      "[ 2018-04-25 00:35:59,827][kfold_wrapper.log_eval_metrics] Accuracy(layer_0 - estimator_0 - 10_folds.train_cv.predict)=98.92%\n",
      "[ 2018-04-25 00:35:59,829][kfold_wrapper.log_eval_metrics] Accuracy(layer_0 - estimator_0 - 10_folds.test.predict)=98.66%\n",
      "[ 2018-04-25 00:35:59,831][cascade_classifier.calc_accuracy] Accuracy(layer_0 - train.classifier_average)=98.92%\n",
      "[ 2018-04-25 00:35:59,833][cascade_classifier.calc_accuracy] Accuracy(layer_0 - test.classifier_average)=98.66%\n",
      "[ 2018-04-25 00:35:59,835][cascade_classifier.fit_transform] [Result][Reach Max Layer] opt_layer_num=1, accuracy_train=98.92%, accuracy_test=98.66%\n"
     ]
    }
   ],
   "source": [
    "          # X_enc is the concatenated predict_proba result of ExtraTrees\n",
    "\n",
    "X_train_enc, X_test_enc = gc.fit_transform(X_train, y_train, X_test=X_test, y_test=y_test)\n",
    "   "
   ]
  },
  {
   "cell_type": "code",
   "execution_count": 9,
   "metadata": {},
   "outputs": [
    {
     "name": "stderr",
     "output_type": "stream",
     "text": [
      "[ 2018-04-25 00:35:59,846][cascade_classifier.transform] X_groups_test.shape=[(1645, 10)]\n",
      "[ 2018-04-25 00:35:59,848][cascade_classifier.transform] group_dims=[10]\n",
      "[ 2018-04-25 00:35:59,850][cascade_classifier.transform] X_test.shape=(1645, 10)\n",
      "[ 2018-04-25 00:35:59,852][cascade_classifier.transform] [layer=0] look_indexs=[0], X_cur_test.shape=(1645, 10)\n"
     ]
    },
    {
     "name": "stdout",
     "output_type": "stream",
     "text": [
      "Test Accuracy of ExtraTrees = 98.662614 %\n"
     ]
    }
   ],
   "source": [
    "# predict\n",
    "y_pred = gc.predict(X_test)\n",
    "acc = accuracy_score(y_test, y_pred)\n",
    "print(\"Test Accuracy of ExtraTrees = {:.6f} %\".format(acc * 100))"
   ]
  },
  {
   "cell_type": "code",
   "execution_count": 10,
   "metadata": {},
   "outputs": [
    {
     "name": "stderr",
     "output_type": "stream",
     "text": [
      "[ 2018-04-25 00:36:01,386][cascade_classifier.transform] X_groups_test.shape=[(1645, 10)]\n",
      "[ 2018-04-25 00:36:01,389][cascade_classifier.transform] group_dims=[10]\n",
      "[ 2018-04-25 00:36:01,391][cascade_classifier.transform] X_test.shape=(1645, 10)\n",
      "[ 2018-04-25 00:36:01,393][cascade_classifier.transform] [layer=0] look_indexs=[0], X_cur_test.shape=(1645, 10)\n"
     ]
    }
   ],
   "source": [
    "# Make data + estimators\n",
    "X_test_enc = gc.transform(X_test)\n",
    "X_train_enc = X_train_enc.reshape((X_train_enc.shape[0], -1))\n",
    "X_test_enc = X_test_enc.reshape((X_test_enc.shape[0], -1))\n",
    "X_train_origin = X_train.reshape((X_train.shape[0], -1))\n",
    "X_test_origin = X_test.reshape((X_test.shape[0], -1))\n",
    "X_train_enc = np.hstack((X_train_origin, X_train_enc))\n",
    "X_test_enc = np.hstack((X_test_origin, X_test_enc))"
   ]
  },
  {
   "cell_type": "code",
   "execution_count": 11,
   "metadata": {},
   "outputs": [
    {
     "name": "stderr",
     "output_type": "stream",
     "text": [
      "[ 2018-04-25 00:36:02,881][cascade_classifier.fit_transform] X_groups_train.shape=[(3337, 12)],y_train.shape=(3337,),X_groups_test.shape=[(1645, 12)],y_test.shape=(1645,)\n",
      "[ 2018-04-25 00:36:02,884][cascade_classifier.fit_transform] group_dims=[12]\n",
      "[ 2018-04-25 00:36:02,886][cascade_classifier.fit_transform] group_starts=[0]\n",
      "[ 2018-04-25 00:36:02,888][cascade_classifier.fit_transform] group_ends=[12]\n",
      "[ 2018-04-25 00:36:02,890][cascade_classifier.fit_transform] X_train.shape=(3337, 12),X_test.shape=(1645, 12)\n",
      "[ 2018-04-25 00:36:02,892][cascade_classifier.fit_transform] [layer=0] look_indexs=[0], X_cur_train.shape=(3337, 12), X_cur_test.shape=(1645, 12)\n",
      "[ 2018-04-25 00:36:03,540][kfold_wrapper.log_eval_metrics] Accuracy(layer_0 - estimator_0 - 10_folds.train_0.predict)=99.70%\n",
      "[ 2018-04-25 00:36:04,321][kfold_wrapper.log_eval_metrics] Accuracy(layer_0 - estimator_0 - 10_folds.train_1.predict)=99.10%\n",
      "[ 2018-04-25 00:36:05,145][kfold_wrapper.log_eval_metrics] Accuracy(layer_0 - estimator_0 - 10_folds.train_2.predict)=98.21%\n",
      "[ 2018-04-25 00:36:05,922][kfold_wrapper.log_eval_metrics] Accuracy(layer_0 - estimator_0 - 10_folds.train_3.predict)=99.40%\n",
      "[ 2018-04-25 00:36:06,760][kfold_wrapper.log_eval_metrics] Accuracy(layer_0 - estimator_0 - 10_folds.train_4.predict)=99.40%\n",
      "[ 2018-04-25 00:36:07,579][kfold_wrapper.log_eval_metrics] Accuracy(layer_0 - estimator_0 - 10_folds.train_5.predict)=98.80%\n",
      "[ 2018-04-25 00:36:08,430][kfold_wrapper.log_eval_metrics] Accuracy(layer_0 - estimator_0 - 10_folds.train_6.predict)=99.10%\n",
      "[ 2018-04-25 00:36:09,382][kfold_wrapper.log_eval_metrics] Accuracy(layer_0 - estimator_0 - 10_folds.train_7.predict)=98.80%\n",
      "[ 2018-04-25 00:36:10,183][kfold_wrapper.log_eval_metrics] Accuracy(layer_0 - estimator_0 - 10_folds.train_8.predict)=98.50%\n",
      "[ 2018-04-25 00:36:10,979][kfold_wrapper.log_eval_metrics] Accuracy(layer_0 - estimator_0 - 10_folds.train_9.predict)=99.40%\n",
      "[ 2018-04-25 00:36:11,130][kfold_wrapper.log_eval_metrics] Accuracy(layer_0 - estimator_0 - 10_folds.train_cv.predict)=99.04%\n",
      "[ 2018-04-25 00:36:11,132][kfold_wrapper.log_eval_metrics] Accuracy(layer_0 - estimator_0 - 10_folds.test.predict)=99.09%\n",
      "[ 2018-04-25 00:36:11,141][cascade_classifier.calc_accuracy] Accuracy(layer_0 - train.classifier_average)=99.04%\n",
      "[ 2018-04-25 00:36:11,142][cascade_classifier.calc_accuracy] Accuracy(layer_0 - test.classifier_average)=99.09%\n",
      "[ 2018-04-25 00:36:11,144][cascade_classifier.fit_transform] [Result][Reach Max Layer] opt_layer_num=1, accuracy_train=99.04%, accuracy_test=99.09%\n"
     ]
    }
   ],
   "source": [
    "# New data\n",
    "X_train=X_train_enc\n",
    "X_test=X_test_enc \n",
    "X_train_enc, X_test_enc = gc.fit_transform(X_train, y_train, X_test=X_test, y_test=y_test)"
   ]
  },
  {
   "cell_type": "code",
   "execution_count": 12,
   "metadata": {},
   "outputs": [
    {
     "name": "stderr",
     "output_type": "stream",
     "text": [
      "[ 2018-04-25 00:36:11,156][cascade_classifier.transform] X_groups_test.shape=[(1645, 12)]\n",
      "[ 2018-04-25 00:36:11,159][cascade_classifier.transform] group_dims=[12]\n",
      "[ 2018-04-25 00:36:11,161][cascade_classifier.transform] X_test.shape=(1645, 12)\n",
      "[ 2018-04-25 00:36:11,163][cascade_classifier.transform] [layer=0] look_indexs=[0], X_cur_test.shape=(1645, 12)\n"
     ]
    },
    {
     "name": "stdout",
     "output_type": "stream",
     "text": [
      "Test Accuracy of ExtraTrees = 99.088146 %\n"
     ]
    }
   ],
   "source": [
    "# predict  data + Es\n",
    "y_pred = gc.predict(X_test)\n",
    "acc = accuracy_score(y_test, y_pred)\n",
    "print(\"Test Accuracy of ExtraTrees = {:.6f} %\".format(acc * 100))"
   ]
  },
  {
   "cell_type": "code",
   "execution_count": 13,
   "metadata": {
    "collapsed": true
   },
   "outputs": [],
   "source": [
    "def update(X_train,X_test):\n",
    "    # update Estimators\n",
    "    M = np.delete(X_train, (-1), axis=1)\n",
    "    X_train= np.delete(M, (-1), axis=1)\n",
    "    M = np.delete(X_test, (-1), axis=1)\n",
    "    X_test = np.delete(M, (-1), axis=1)\n",
    "    return X_train,X_test\n",
    "\n",
    "def newdata(X_test_enc, X_train_enc):\n",
    "    # Make Data + Estimators\n",
    "    X_train_origin = X_train.reshape((X_train.shape[0], -1))\n",
    "    X_test_origin = X_test.reshape((X_test.shape[0], -1))\n",
    "    X_train_enc = np.hstack((X_train_origin, X_train_enc))\n",
    "    X_test_enc = np.hstack((X_test_origin, X_test_enc))\n",
    "    return X_test_enc, X_train_enc\n",
    "\n",
    "def affiche():\n",
    "    # predict\n",
    "    y_pred = gc.predict(X_test)\n",
    "    acc = accuracy_score(y_test, y_pred)\n",
    "    print(\"Test Accuracy of ExtraTrees = {:.6f} %\".format(acc * 100),i,'fois')"
   ]
  },
  {
   "cell_type": "code",
   "execution_count": 14,
   "metadata": {},
   "outputs": [
    {
     "name": "stderr",
     "output_type": "stream",
     "text": [
      "[ 2018-04-25 00:36:12,700][cascade_classifier.fit_transform] X_groups_train.shape=[(3337, 12)],y_train.shape=(3337,),X_groups_test.shape=[(1645, 12)],y_test.shape=(1645,)\n",
      "[ 2018-04-25 00:36:12,702][cascade_classifier.fit_transform] group_dims=[12]\n",
      "[ 2018-04-25 00:36:12,703][cascade_classifier.fit_transform] group_starts=[0]\n",
      "[ 2018-04-25 00:36:12,705][cascade_classifier.fit_transform] group_ends=[12]\n",
      "[ 2018-04-25 00:36:12,707][cascade_classifier.fit_transform] X_train.shape=(3337, 12),X_test.shape=(1645, 12)\n",
      "[ 2018-04-25 00:36:12,709][cascade_classifier.fit_transform] [layer=0] look_indexs=[0], X_cur_train.shape=(3337, 12), X_cur_test.shape=(1645, 12)\n",
      "[ 2018-04-25 00:36:13,342][kfold_wrapper.log_eval_metrics] Accuracy(layer_0 - estimator_0 - 10_folds.train_0.predict)=99.70%\n",
      "[ 2018-04-25 00:36:14,152][kfold_wrapper.log_eval_metrics] Accuracy(layer_0 - estimator_0 - 10_folds.train_1.predict)=99.10%\n",
      "[ 2018-04-25 00:36:14,924][kfold_wrapper.log_eval_metrics] Accuracy(layer_0 - estimator_0 - 10_folds.train_2.predict)=98.21%\n",
      "[ 2018-04-25 00:36:15,700][kfold_wrapper.log_eval_metrics] Accuracy(layer_0 - estimator_0 - 10_folds.train_3.predict)=99.10%\n",
      "[ 2018-04-25 00:36:16,588][kfold_wrapper.log_eval_metrics] Accuracy(layer_0 - estimator_0 - 10_folds.train_4.predict)=99.40%\n",
      "[ 2018-04-25 00:36:17,400][kfold_wrapper.log_eval_metrics] Accuracy(layer_0 - estimator_0 - 10_folds.train_5.predict)=98.80%\n",
      "[ 2018-04-25 00:36:18,160][kfold_wrapper.log_eval_metrics] Accuracy(layer_0 - estimator_0 - 10_folds.train_6.predict)=99.10%\n",
      "[ 2018-04-25 00:36:18,930][kfold_wrapper.log_eval_metrics] Accuracy(layer_0 - estimator_0 - 10_folds.train_7.predict)=99.10%\n",
      "[ 2018-04-25 00:36:19,716][kfold_wrapper.log_eval_metrics] Accuracy(layer_0 - estimator_0 - 10_folds.train_8.predict)=98.20%\n",
      "[ 2018-04-25 00:36:20,513][kfold_wrapper.log_eval_metrics] Accuracy(layer_0 - estimator_0 - 10_folds.train_9.predict)=99.10%\n",
      "[ 2018-04-25 00:36:20,665][kfold_wrapper.log_eval_metrics] Accuracy(layer_0 - estimator_0 - 10_folds.train_cv.predict)=98.98%\n",
      "[ 2018-04-25 00:36:20,667][kfold_wrapper.log_eval_metrics] Accuracy(layer_0 - estimator_0 - 10_folds.test.predict)=99.03%\n",
      "[ 2018-04-25 00:36:20,675][cascade_classifier.calc_accuracy] Accuracy(layer_0 - train.classifier_average)=98.98%\n",
      "[ 2018-04-25 00:36:20,677][cascade_classifier.calc_accuracy] Accuracy(layer_0 - test.classifier_average)=99.03%\n",
      "[ 2018-04-25 00:36:20,678][cascade_classifier.fit_transform] [Result][Reach Max Layer] opt_layer_num=1, accuracy_train=98.98%, accuracy_test=99.03%\n",
      "[ 2018-04-25 00:36:20,680][cascade_classifier.transform] X_groups_test.shape=[(1645, 12)]\n",
      "[ 2018-04-25 00:36:20,682][cascade_classifier.transform] group_dims=[12]\n",
      "[ 2018-04-25 00:36:20,684][cascade_classifier.transform] X_test.shape=(1645, 12)\n",
      "[ 2018-04-25 00:36:20,686][cascade_classifier.transform] [layer=0] look_indexs=[0], X_cur_test.shape=(1645, 12)\n",
      "[ 2018-04-25 00:36:22,195][cascade_classifier.fit_transform] X_groups_train.shape=[(3337, 12)],y_train.shape=(3337,),X_groups_test.shape=[(1645, 12)],y_test.shape=(1645,)\n",
      "[ 2018-04-25 00:36:22,198][cascade_classifier.fit_transform] group_dims=[12]\n",
      "[ 2018-04-25 00:36:22,199][cascade_classifier.fit_transform] group_starts=[0]\n",
      "[ 2018-04-25 00:36:22,201][cascade_classifier.fit_transform] group_ends=[12]\n",
      "[ 2018-04-25 00:36:22,203][cascade_classifier.fit_transform] X_train.shape=(3337, 12),X_test.shape=(1645, 12)\n",
      "[ 2018-04-25 00:36:22,204][cascade_classifier.fit_transform] [layer=0] look_indexs=[0], X_cur_train.shape=(3337, 12), X_cur_test.shape=(1645, 12)\n"
     ]
    },
    {
     "name": "stdout",
     "output_type": "stream",
     "text": [
      "('Test Accuracy of ExtraTrees = 99.027356 %', 0, 'fois')\n"
     ]
    },
    {
     "name": "stderr",
     "output_type": "stream",
     "text": [
      "[ 2018-04-25 00:36:22,879][kfold_wrapper.log_eval_metrics] Accuracy(layer_0 - estimator_0 - 10_folds.train_0.predict)=99.40%\n",
      "[ 2018-04-25 00:36:23,667][kfold_wrapper.log_eval_metrics] Accuracy(layer_0 - estimator_0 - 10_folds.train_1.predict)=98.81%\n",
      "[ 2018-04-25 00:36:24,513][kfold_wrapper.log_eval_metrics] Accuracy(layer_0 - estimator_0 - 10_folds.train_2.predict)=97.91%\n",
      "[ 2018-04-25 00:36:25,310][kfold_wrapper.log_eval_metrics] Accuracy(layer_0 - estimator_0 - 10_folds.train_3.predict)=99.10%\n",
      "[ 2018-04-25 00:36:26,147][kfold_wrapper.log_eval_metrics] Accuracy(layer_0 - estimator_0 - 10_folds.train_4.predict)=99.70%\n",
      "[ 2018-04-25 00:36:26,915][kfold_wrapper.log_eval_metrics] Accuracy(layer_0 - estimator_0 - 10_folds.train_5.predict)=98.50%\n",
      "[ 2018-04-25 00:36:27,741][kfold_wrapper.log_eval_metrics] Accuracy(layer_0 - estimator_0 - 10_folds.train_6.predict)=98.80%\n",
      "[ 2018-04-25 00:36:28,550][kfold_wrapper.log_eval_metrics] Accuracy(layer_0 - estimator_0 - 10_folds.train_7.predict)=98.80%\n",
      "[ 2018-04-25 00:36:29,330][kfold_wrapper.log_eval_metrics] Accuracy(layer_0 - estimator_0 - 10_folds.train_8.predict)=98.20%\n",
      "[ 2018-04-25 00:36:30,167][kfold_wrapper.log_eval_metrics] Accuracy(layer_0 - estimator_0 - 10_folds.train_9.predict)=99.10%\n",
      "[ 2018-04-25 00:36:30,330][kfold_wrapper.log_eval_metrics] Accuracy(layer_0 - estimator_0 - 10_folds.train_cv.predict)=98.83%\n",
      "[ 2018-04-25 00:36:30,333][kfold_wrapper.log_eval_metrics] Accuracy(layer_0 - estimator_0 - 10_folds.test.predict)=99.15%\n",
      "[ 2018-04-25 00:36:30,346][cascade_classifier.calc_accuracy] Accuracy(layer_0 - train.classifier_average)=98.83%\n",
      "[ 2018-04-25 00:36:30,348][cascade_classifier.calc_accuracy] Accuracy(layer_0 - test.classifier_average)=99.15%\n",
      "[ 2018-04-25 00:36:30,349][cascade_classifier.fit_transform] [Result][Reach Max Layer] opt_layer_num=1, accuracy_train=98.83%, accuracy_test=99.15%\n",
      "[ 2018-04-25 00:36:30,351][cascade_classifier.transform] X_groups_test.shape=[(1645, 12)]\n",
      "[ 2018-04-25 00:36:30,353][cascade_classifier.transform] group_dims=[12]\n",
      "[ 2018-04-25 00:36:30,355][cascade_classifier.transform] X_test.shape=(1645, 12)\n",
      "[ 2018-04-25 00:36:30,356][cascade_classifier.transform] [layer=0] look_indexs=[0], X_cur_test.shape=(1645, 12)\n",
      "[ 2018-04-25 00:36:31,889][cascade_classifier.fit_transform] X_groups_train.shape=[(3337, 12)],y_train.shape=(3337,),X_groups_test.shape=[(1645, 12)],y_test.shape=(1645,)\n",
      "[ 2018-04-25 00:36:31,891][cascade_classifier.fit_transform] group_dims=[12]\n",
      "[ 2018-04-25 00:36:31,893][cascade_classifier.fit_transform] group_starts=[0]\n",
      "[ 2018-04-25 00:36:31,895][cascade_classifier.fit_transform] group_ends=[12]\n",
      "[ 2018-04-25 00:36:31,896][cascade_classifier.fit_transform] X_train.shape=(3337, 12),X_test.shape=(1645, 12)\n",
      "[ 2018-04-25 00:36:31,898][cascade_classifier.fit_transform] [layer=0] look_indexs=[0], X_cur_train.shape=(3337, 12), X_cur_test.shape=(1645, 12)\n"
     ]
    },
    {
     "name": "stdout",
     "output_type": "stream",
     "text": [
      "('Test Accuracy of ExtraTrees = 99.148936 %', 1, 'fois')\n"
     ]
    },
    {
     "name": "stderr",
     "output_type": "stream",
     "text": [
      "[ 2018-04-25 00:36:32,545][kfold_wrapper.log_eval_metrics] Accuracy(layer_0 - estimator_0 - 10_folds.train_0.predict)=99.70%\n",
      "[ 2018-04-25 00:36:33,319][kfold_wrapper.log_eval_metrics] Accuracy(layer_0 - estimator_0 - 10_folds.train_1.predict)=98.81%\n",
      "[ 2018-04-25 00:36:34,240][kfold_wrapper.log_eval_metrics] Accuracy(layer_0 - estimator_0 - 10_folds.train_2.predict)=97.91%\n",
      "[ 2018-04-25 00:36:35,058][kfold_wrapper.log_eval_metrics] Accuracy(layer_0 - estimator_0 - 10_folds.train_3.predict)=98.80%\n",
      "[ 2018-04-25 00:36:35,870][kfold_wrapper.log_eval_metrics] Accuracy(layer_0 - estimator_0 - 10_folds.train_4.predict)=99.70%\n",
      "[ 2018-04-25 00:36:36,666][kfold_wrapper.log_eval_metrics] Accuracy(layer_0 - estimator_0 - 10_folds.train_5.predict)=98.80%\n",
      "[ 2018-04-25 00:36:37,437][kfold_wrapper.log_eval_metrics] Accuracy(layer_0 - estimator_0 - 10_folds.train_6.predict)=98.50%\n",
      "[ 2018-04-25 00:36:38,199][kfold_wrapper.log_eval_metrics] Accuracy(layer_0 - estimator_0 - 10_folds.train_7.predict)=98.80%\n",
      "[ 2018-04-25 00:36:39,028][kfold_wrapper.log_eval_metrics] Accuracy(layer_0 - estimator_0 - 10_folds.train_8.predict)=98.20%\n",
      "[ 2018-04-25 00:36:39,845][kfold_wrapper.log_eval_metrics] Accuracy(layer_0 - estimator_0 - 10_folds.train_9.predict)=99.10%\n",
      "[ 2018-04-25 00:36:40,000][kfold_wrapper.log_eval_metrics] Accuracy(layer_0 - estimator_0 - 10_folds.train_cv.predict)=98.83%\n",
      "[ 2018-04-25 00:36:40,002][kfold_wrapper.log_eval_metrics] Accuracy(layer_0 - estimator_0 - 10_folds.test.predict)=98.97%\n",
      "[ 2018-04-25 00:36:40,012][cascade_classifier.calc_accuracy] Accuracy(layer_0 - train.classifier_average)=98.83%\n",
      "[ 2018-04-25 00:36:40,014][cascade_classifier.calc_accuracy] Accuracy(layer_0 - test.classifier_average)=98.97%\n",
      "[ 2018-04-25 00:36:40,016][cascade_classifier.fit_transform] [Result][Reach Max Layer] opt_layer_num=1, accuracy_train=98.83%, accuracy_test=98.97%\n",
      "[ 2018-04-25 00:36:40,017][cascade_classifier.transform] X_groups_test.shape=[(1645, 12)]\n",
      "[ 2018-04-25 00:36:40,020][cascade_classifier.transform] group_dims=[12]\n",
      "[ 2018-04-25 00:36:40,021][cascade_classifier.transform] X_test.shape=(1645, 12)\n",
      "[ 2018-04-25 00:36:40,023][cascade_classifier.transform] [layer=0] look_indexs=[0], X_cur_test.shape=(1645, 12)\n",
      "[ 2018-04-25 00:36:41,666][cascade_classifier.fit_transform] X_groups_train.shape=[(3337, 12)],y_train.shape=(3337,),X_groups_test.shape=[(1645, 12)],y_test.shape=(1645,)\n",
      "[ 2018-04-25 00:36:41,668][cascade_classifier.fit_transform] group_dims=[12]\n",
      "[ 2018-04-25 00:36:41,670][cascade_classifier.fit_transform] group_starts=[0]\n",
      "[ 2018-04-25 00:36:41,672][cascade_classifier.fit_transform] group_ends=[12]\n",
      "[ 2018-04-25 00:36:41,674][cascade_classifier.fit_transform] X_train.shape=(3337, 12),X_test.shape=(1645, 12)\n",
      "[ 2018-04-25 00:36:41,676][cascade_classifier.fit_transform] [layer=0] look_indexs=[0], X_cur_train.shape=(3337, 12), X_cur_test.shape=(1645, 12)\n"
     ]
    },
    {
     "name": "stdout",
     "output_type": "stream",
     "text": [
      "('Test Accuracy of ExtraTrees = 98.966565 %', 2, 'fois')\n"
     ]
    },
    {
     "name": "stderr",
     "output_type": "stream",
     "text": [
      "[ 2018-04-25 00:36:42,295][kfold_wrapper.log_eval_metrics] Accuracy(layer_0 - estimator_0 - 10_folds.train_0.predict)=99.40%\n",
      "[ 2018-04-25 00:36:43,093][kfold_wrapper.log_eval_metrics] Accuracy(layer_0 - estimator_0 - 10_folds.train_1.predict)=98.51%\n",
      "[ 2018-04-25 00:36:43,906][kfold_wrapper.log_eval_metrics] Accuracy(layer_0 - estimator_0 - 10_folds.train_2.predict)=98.21%\n",
      "[ 2018-04-25 00:36:44,673][kfold_wrapper.log_eval_metrics] Accuracy(layer_0 - estimator_0 - 10_folds.train_3.predict)=98.80%\n",
      "[ 2018-04-25 00:36:45,443][kfold_wrapper.log_eval_metrics] Accuracy(layer_0 - estimator_0 - 10_folds.train_4.predict)=99.40%\n",
      "[ 2018-04-25 00:36:46,273][kfold_wrapper.log_eval_metrics] Accuracy(layer_0 - estimator_0 - 10_folds.train_5.predict)=98.80%\n",
      "[ 2018-04-25 00:36:47,206][kfold_wrapper.log_eval_metrics] Accuracy(layer_0 - estimator_0 - 10_folds.train_6.predict)=98.80%\n",
      "[ 2018-04-25 00:36:48,082][kfold_wrapper.log_eval_metrics] Accuracy(layer_0 - estimator_0 - 10_folds.train_7.predict)=98.80%\n",
      "[ 2018-04-25 00:36:48,892][kfold_wrapper.log_eval_metrics] Accuracy(layer_0 - estimator_0 - 10_folds.train_8.predict)=98.20%\n",
      "[ 2018-04-25 00:36:49,633][kfold_wrapper.log_eval_metrics] Accuracy(layer_0 - estimator_0 - 10_folds.train_9.predict)=99.40%\n",
      "[ 2018-04-25 00:36:49,777][kfold_wrapper.log_eval_metrics] Accuracy(layer_0 - estimator_0 - 10_folds.train_cv.predict)=98.83%\n",
      "[ 2018-04-25 00:36:49,781][kfold_wrapper.log_eval_metrics] Accuracy(layer_0 - estimator_0 - 10_folds.test.predict)=98.91%\n",
      "[ 2018-04-25 00:36:49,793][cascade_classifier.calc_accuracy] Accuracy(layer_0 - train.classifier_average)=98.83%\n",
      "[ 2018-04-25 00:36:49,795][cascade_classifier.calc_accuracy] Accuracy(layer_0 - test.classifier_average)=98.91%\n",
      "[ 2018-04-25 00:36:49,797][cascade_classifier.fit_transform] [Result][Reach Max Layer] opt_layer_num=1, accuracy_train=98.83%, accuracy_test=98.91%\n",
      "[ 2018-04-25 00:36:49,798][cascade_classifier.transform] X_groups_test.shape=[(1645, 12)]\n",
      "[ 2018-04-25 00:36:49,801][cascade_classifier.transform] group_dims=[12]\n",
      "[ 2018-04-25 00:36:49,802][cascade_classifier.transform] X_test.shape=(1645, 12)\n",
      "[ 2018-04-25 00:36:49,804][cascade_classifier.transform] [layer=0] look_indexs=[0], X_cur_test.shape=(1645, 12)\n",
      "[ 2018-04-25 00:36:51,432][cascade_classifier.fit_transform] X_groups_train.shape=[(3337, 12)],y_train.shape=(3337,),X_groups_test.shape=[(1645, 12)],y_test.shape=(1645,)\n",
      "[ 2018-04-25 00:36:51,434][cascade_classifier.fit_transform] group_dims=[12]\n",
      "[ 2018-04-25 00:36:51,436][cascade_classifier.fit_transform] group_starts=[0]\n",
      "[ 2018-04-25 00:36:51,437][cascade_classifier.fit_transform] group_ends=[12]\n",
      "[ 2018-04-25 00:36:51,439][cascade_classifier.fit_transform] X_train.shape=(3337, 12),X_test.shape=(1645, 12)\n",
      "[ 2018-04-25 00:36:51,441][cascade_classifier.fit_transform] [layer=0] look_indexs=[0], X_cur_train.shape=(3337, 12), X_cur_test.shape=(1645, 12)\n"
     ]
    },
    {
     "name": "stdout",
     "output_type": "stream",
     "text": [
      "('Test Accuracy of ExtraTrees = 98.905775 %', 3, 'fois')\n"
     ]
    },
    {
     "name": "stderr",
     "output_type": "stream",
     "text": [
      "[ 2018-04-25 00:36:52,045][kfold_wrapper.log_eval_metrics] Accuracy(layer_0 - estimator_0 - 10_folds.train_0.predict)=99.70%\n",
      "[ 2018-04-25 00:36:52,818][kfold_wrapper.log_eval_metrics] Accuracy(layer_0 - estimator_0 - 10_folds.train_1.predict)=98.81%\n",
      "[ 2018-04-25 00:36:53,579][kfold_wrapper.log_eval_metrics] Accuracy(layer_0 - estimator_0 - 10_folds.train_2.predict)=98.21%\n",
      "[ 2018-04-25 00:36:54,384][kfold_wrapper.log_eval_metrics] Accuracy(layer_0 - estimator_0 - 10_folds.train_3.predict)=99.40%\n",
      "[ 2018-04-25 00:36:55,148][kfold_wrapper.log_eval_metrics] Accuracy(layer_0 - estimator_0 - 10_folds.train_4.predict)=99.10%\n",
      "[ 2018-04-25 00:36:55,963][kfold_wrapper.log_eval_metrics] Accuracy(layer_0 - estimator_0 - 10_folds.train_5.predict)=99.40%\n",
      "[ 2018-04-25 00:36:56,797][kfold_wrapper.log_eval_metrics] Accuracy(layer_0 - estimator_0 - 10_folds.train_6.predict)=99.10%\n",
      "[ 2018-04-25 00:36:57,585][kfold_wrapper.log_eval_metrics] Accuracy(layer_0 - estimator_0 - 10_folds.train_7.predict)=99.10%\n",
      "[ 2018-04-25 00:36:58,350][kfold_wrapper.log_eval_metrics] Accuracy(layer_0 - estimator_0 - 10_folds.train_8.predict)=98.50%\n",
      "[ 2018-04-25 00:36:59,167][kfold_wrapper.log_eval_metrics] Accuracy(layer_0 - estimator_0 - 10_folds.train_9.predict)=99.10%\n",
      "[ 2018-04-25 00:36:59,319][kfold_wrapper.log_eval_metrics] Accuracy(layer_0 - estimator_0 - 10_folds.train_cv.predict)=99.04%\n",
      "[ 2018-04-25 00:36:59,321][kfold_wrapper.log_eval_metrics] Accuracy(layer_0 - estimator_0 - 10_folds.test.predict)=98.78%\n",
      "[ 2018-04-25 00:36:59,333][cascade_classifier.calc_accuracy] Accuracy(layer_0 - train.classifier_average)=99.04%\n",
      "[ 2018-04-25 00:36:59,335][cascade_classifier.calc_accuracy] Accuracy(layer_0 - test.classifier_average)=98.78%\n",
      "[ 2018-04-25 00:36:59,337][cascade_classifier.fit_transform] [Result][Reach Max Layer] opt_layer_num=1, accuracy_train=99.04%, accuracy_test=98.78%\n",
      "[ 2018-04-25 00:36:59,339][cascade_classifier.transform] X_groups_test.shape=[(1645, 12)]\n",
      "[ 2018-04-25 00:36:59,341][cascade_classifier.transform] group_dims=[12]\n",
      "[ 2018-04-25 00:36:59,343][cascade_classifier.transform] X_test.shape=(1645, 12)\n",
      "[ 2018-04-25 00:36:59,345][cascade_classifier.transform] [layer=0] look_indexs=[0], X_cur_test.shape=(1645, 12)\n",
      "[ 2018-04-25 00:37:00,863][cascade_classifier.fit_transform] X_groups_train.shape=[(3337, 12)],y_train.shape=(3337,),X_groups_test.shape=[(1645, 12)],y_test.shape=(1645,)\n",
      "[ 2018-04-25 00:37:00,865][cascade_classifier.fit_transform] group_dims=[12]\n",
      "[ 2018-04-25 00:37:00,867][cascade_classifier.fit_transform] group_starts=[0]\n",
      "[ 2018-04-25 00:37:00,868][cascade_classifier.fit_transform] group_ends=[12]\n",
      "[ 2018-04-25 00:37:00,869][cascade_classifier.fit_transform] X_train.shape=(3337, 12),X_test.shape=(1645, 12)\n",
      "[ 2018-04-25 00:37:00,871][cascade_classifier.fit_transform] [layer=0] look_indexs=[0], X_cur_train.shape=(3337, 12), X_cur_test.shape=(1645, 12)\n"
     ]
    },
    {
     "name": "stdout",
     "output_type": "stream",
     "text": [
      "('Test Accuracy of ExtraTrees = 98.784195 %', 4, 'fois')\n"
     ]
    },
    {
     "name": "stderr",
     "output_type": "stream",
     "text": [
      "[ 2018-04-25 00:37:01,509][kfold_wrapper.log_eval_metrics] Accuracy(layer_0 - estimator_0 - 10_folds.train_0.predict)=99.40%\n",
      "[ 2018-04-25 00:37:02,347][kfold_wrapper.log_eval_metrics] Accuracy(layer_0 - estimator_0 - 10_folds.train_1.predict)=98.81%\n",
      "[ 2018-04-25 00:37:03,227][kfold_wrapper.log_eval_metrics] Accuracy(layer_0 - estimator_0 - 10_folds.train_2.predict)=97.91%\n",
      "[ 2018-04-25 00:37:03,998][kfold_wrapper.log_eval_metrics] Accuracy(layer_0 - estimator_0 - 10_folds.train_3.predict)=99.40%\n",
      "[ 2018-04-25 00:37:04,813][kfold_wrapper.log_eval_metrics] Accuracy(layer_0 - estimator_0 - 10_folds.train_4.predict)=99.10%\n",
      "[ 2018-04-25 00:37:05,631][kfold_wrapper.log_eval_metrics] Accuracy(layer_0 - estimator_0 - 10_folds.train_5.predict)=99.10%\n",
      "[ 2018-04-25 00:37:06,453][kfold_wrapper.log_eval_metrics] Accuracy(layer_0 - estimator_0 - 10_folds.train_6.predict)=98.50%\n",
      "[ 2018-04-25 00:37:07,273][kfold_wrapper.log_eval_metrics] Accuracy(layer_0 - estimator_0 - 10_folds.train_7.predict)=99.10%\n",
      "[ 2018-04-25 00:37:08,061][kfold_wrapper.log_eval_metrics] Accuracy(layer_0 - estimator_0 - 10_folds.train_8.predict)=98.50%\n",
      "[ 2018-04-25 00:37:08,862][kfold_wrapper.log_eval_metrics] Accuracy(layer_0 - estimator_0 - 10_folds.train_9.predict)=99.10%\n",
      "[ 2018-04-25 00:37:09,018][kfold_wrapper.log_eval_metrics] Accuracy(layer_0 - estimator_0 - 10_folds.train_cv.predict)=98.89%\n",
      "[ 2018-04-25 00:37:09,020][kfold_wrapper.log_eval_metrics] Accuracy(layer_0 - estimator_0 - 10_folds.test.predict)=98.78%\n",
      "[ 2018-04-25 00:37:09,029][cascade_classifier.calc_accuracy] Accuracy(layer_0 - train.classifier_average)=98.89%\n",
      "[ 2018-04-25 00:37:09,031][cascade_classifier.calc_accuracy] Accuracy(layer_0 - test.classifier_average)=98.78%\n",
      "[ 2018-04-25 00:37:09,032][cascade_classifier.fit_transform] [Result][Reach Max Layer] opt_layer_num=1, accuracy_train=98.89%, accuracy_test=98.78%\n",
      "[ 2018-04-25 00:37:09,034][cascade_classifier.transform] X_groups_test.shape=[(1645, 12)]\n",
      "[ 2018-04-25 00:37:09,036][cascade_classifier.transform] group_dims=[12]\n",
      "[ 2018-04-25 00:37:09,038][cascade_classifier.transform] X_test.shape=(1645, 12)\n",
      "[ 2018-04-25 00:37:09,039][cascade_classifier.transform] [layer=0] look_indexs=[0], X_cur_test.shape=(1645, 12)\n",
      "[ 2018-04-25 00:37:10,705][cascade_classifier.fit_transform] X_groups_train.shape=[(3337, 12)],y_train.shape=(3337,),X_groups_test.shape=[(1645, 12)],y_test.shape=(1645,)\n",
      "[ 2018-04-25 00:37:10,707][cascade_classifier.fit_transform] group_dims=[12]\n",
      "[ 2018-04-25 00:37:10,709][cascade_classifier.fit_transform] group_starts=[0]\n",
      "[ 2018-04-25 00:37:10,710][cascade_classifier.fit_transform] group_ends=[12]\n",
      "[ 2018-04-25 00:37:10,712][cascade_classifier.fit_transform] X_train.shape=(3337, 12),X_test.shape=(1645, 12)\n",
      "[ 2018-04-25 00:37:10,713][cascade_classifier.fit_transform] [layer=0] look_indexs=[0], X_cur_train.shape=(3337, 12), X_cur_test.shape=(1645, 12)\n"
     ]
    },
    {
     "name": "stdout",
     "output_type": "stream",
     "text": [
      "('Test Accuracy of ExtraTrees = 98.784195 %', 5, 'fois')\n"
     ]
    },
    {
     "name": "stderr",
     "output_type": "stream",
     "text": [
      "[ 2018-04-25 00:37:11,353][kfold_wrapper.log_eval_metrics] Accuracy(layer_0 - estimator_0 - 10_folds.train_0.predict)=99.40%\n",
      "[ 2018-04-25 00:37:12,126][kfold_wrapper.log_eval_metrics] Accuracy(layer_0 - estimator_0 - 10_folds.train_1.predict)=98.81%\n",
      "[ 2018-04-25 00:37:12,893][kfold_wrapper.log_eval_metrics] Accuracy(layer_0 - estimator_0 - 10_folds.train_2.predict)=98.21%\n",
      "[ 2018-04-25 00:37:13,705][kfold_wrapper.log_eval_metrics] Accuracy(layer_0 - estimator_0 - 10_folds.train_3.predict)=99.10%\n",
      "[ 2018-04-25 00:37:14,514][kfold_wrapper.log_eval_metrics] Accuracy(layer_0 - estimator_0 - 10_folds.train_4.predict)=99.10%\n",
      "[ 2018-04-25 00:37:15,373][kfold_wrapper.log_eval_metrics] Accuracy(layer_0 - estimator_0 - 10_folds.train_5.predict)=98.80%\n",
      "[ 2018-04-25 00:37:16,198][kfold_wrapper.log_eval_metrics] Accuracy(layer_0 - estimator_0 - 10_folds.train_6.predict)=98.50%\n",
      "[ 2018-04-25 00:37:17,037][kfold_wrapper.log_eval_metrics] Accuracy(layer_0 - estimator_0 - 10_folds.train_7.predict)=99.10%\n",
      "[ 2018-04-25 00:37:17,804][kfold_wrapper.log_eval_metrics] Accuracy(layer_0 - estimator_0 - 10_folds.train_8.predict)=98.20%\n",
      "[ 2018-04-25 00:37:18,622][kfold_wrapper.log_eval_metrics] Accuracy(layer_0 - estimator_0 - 10_folds.train_9.predict)=99.10%\n",
      "[ 2018-04-25 00:37:18,780][kfold_wrapper.log_eval_metrics] Accuracy(layer_0 - estimator_0 - 10_folds.train_cv.predict)=98.83%\n",
      "[ 2018-04-25 00:37:18,782][kfold_wrapper.log_eval_metrics] Accuracy(layer_0 - estimator_0 - 10_folds.test.predict)=98.78%\n",
      "[ 2018-04-25 00:37:18,791][cascade_classifier.calc_accuracy] Accuracy(layer_0 - train.classifier_average)=98.83%\n",
      "[ 2018-04-25 00:37:18,793][cascade_classifier.calc_accuracy] Accuracy(layer_0 - test.classifier_average)=98.78%\n",
      "[ 2018-04-25 00:37:18,794][cascade_classifier.fit_transform] [Result][Reach Max Layer] opt_layer_num=1, accuracy_train=98.83%, accuracy_test=98.78%\n",
      "[ 2018-04-25 00:37:18,796][cascade_classifier.transform] X_groups_test.shape=[(1645, 12)]\n",
      "[ 2018-04-25 00:37:18,799][cascade_classifier.transform] group_dims=[12]\n",
      "[ 2018-04-25 00:37:18,800][cascade_classifier.transform] X_test.shape=(1645, 12)\n",
      "[ 2018-04-25 00:37:18,802][cascade_classifier.transform] [layer=0] look_indexs=[0], X_cur_test.shape=(1645, 12)\n",
      "[ 2018-04-25 00:37:20,447][cascade_classifier.fit_transform] X_groups_train.shape=[(3337, 12)],y_train.shape=(3337,),X_groups_test.shape=[(1645, 12)],y_test.shape=(1645,)\n",
      "[ 2018-04-25 00:37:20,449][cascade_classifier.fit_transform] group_dims=[12]\n",
      "[ 2018-04-25 00:37:20,451][cascade_classifier.fit_transform] group_starts=[0]\n",
      "[ 2018-04-25 00:37:20,452][cascade_classifier.fit_transform] group_ends=[12]\n",
      "[ 2018-04-25 00:37:20,454][cascade_classifier.fit_transform] X_train.shape=(3337, 12),X_test.shape=(1645, 12)\n",
      "[ 2018-04-25 00:37:20,456][cascade_classifier.fit_transform] [layer=0] look_indexs=[0], X_cur_train.shape=(3337, 12), X_cur_test.shape=(1645, 12)\n"
     ]
    },
    {
     "name": "stdout",
     "output_type": "stream",
     "text": [
      "('Test Accuracy of ExtraTrees = 98.784195 %', 6, 'fois')\n"
     ]
    },
    {
     "name": "stderr",
     "output_type": "stream",
     "text": [
      "[ 2018-04-25 00:37:21,163][kfold_wrapper.log_eval_metrics] Accuracy(layer_0 - estimator_0 - 10_folds.train_0.predict)=99.40%\n",
      "[ 2018-04-25 00:37:21,933][kfold_wrapper.log_eval_metrics] Accuracy(layer_0 - estimator_0 - 10_folds.train_1.predict)=98.81%\n",
      "[ 2018-04-25 00:37:22,758][kfold_wrapper.log_eval_metrics] Accuracy(layer_0 - estimator_0 - 10_folds.train_2.predict)=97.91%\n",
      "[ 2018-04-25 00:37:23,572][kfold_wrapper.log_eval_metrics] Accuracy(layer_0 - estimator_0 - 10_folds.train_3.predict)=99.10%\n",
      "[ 2018-04-25 00:37:24,383][kfold_wrapper.log_eval_metrics] Accuracy(layer_0 - estimator_0 - 10_folds.train_4.predict)=98.80%\n",
      "[ 2018-04-25 00:37:25,229][kfold_wrapper.log_eval_metrics] Accuracy(layer_0 - estimator_0 - 10_folds.train_5.predict)=98.20%\n",
      "[ 2018-04-25 00:37:26,031][kfold_wrapper.log_eval_metrics] Accuracy(layer_0 - estimator_0 - 10_folds.train_6.predict)=98.50%\n",
      "[ 2018-04-25 00:37:26,834][kfold_wrapper.log_eval_metrics] Accuracy(layer_0 - estimator_0 - 10_folds.train_7.predict)=98.80%\n",
      "[ 2018-04-25 00:37:27,597][kfold_wrapper.log_eval_metrics] Accuracy(layer_0 - estimator_0 - 10_folds.train_8.predict)=98.20%\n",
      "[ 2018-04-25 00:37:28,388][kfold_wrapper.log_eval_metrics] Accuracy(layer_0 - estimator_0 - 10_folds.train_9.predict)=98.50%\n",
      "[ 2018-04-25 00:37:28,537][kfold_wrapper.log_eval_metrics] Accuracy(layer_0 - estimator_0 - 10_folds.train_cv.predict)=98.62%\n",
      "[ 2018-04-25 00:37:28,539][kfold_wrapper.log_eval_metrics] Accuracy(layer_0 - estimator_0 - 10_folds.test.predict)=98.78%\n",
      "[ 2018-04-25 00:37:28,547][cascade_classifier.calc_accuracy] Accuracy(layer_0 - train.classifier_average)=98.62%\n",
      "[ 2018-04-25 00:37:28,549][cascade_classifier.calc_accuracy] Accuracy(layer_0 - test.classifier_average)=98.78%\n",
      "[ 2018-04-25 00:37:28,551][cascade_classifier.fit_transform] [Result][Reach Max Layer] opt_layer_num=1, accuracy_train=98.62%, accuracy_test=98.78%\n",
      "[ 2018-04-25 00:37:28,552][cascade_classifier.transform] X_groups_test.shape=[(1645, 12)]\n",
      "[ 2018-04-25 00:37:28,555][cascade_classifier.transform] group_dims=[12]\n",
      "[ 2018-04-25 00:37:28,556][cascade_classifier.transform] X_test.shape=(1645, 12)\n",
      "[ 2018-04-25 00:37:28,558][cascade_classifier.transform] [layer=0] look_indexs=[0], X_cur_test.shape=(1645, 12)\n",
      "[ 2018-04-25 00:37:30,097][cascade_classifier.fit_transform] X_groups_train.shape=[(3337, 12)],y_train.shape=(3337,),X_groups_test.shape=[(1645, 12)],y_test.shape=(1645,)\n",
      "[ 2018-04-25 00:37:30,100][cascade_classifier.fit_transform] group_dims=[12]\n",
      "[ 2018-04-25 00:37:30,101][cascade_classifier.fit_transform] group_starts=[0]\n",
      "[ 2018-04-25 00:37:30,103][cascade_classifier.fit_transform] group_ends=[12]\n",
      "[ 2018-04-25 00:37:30,104][cascade_classifier.fit_transform] X_train.shape=(3337, 12),X_test.shape=(1645, 12)\n",
      "[ 2018-04-25 00:37:30,106][cascade_classifier.fit_transform] [layer=0] look_indexs=[0], X_cur_train.shape=(3337, 12), X_cur_test.shape=(1645, 12)\n"
     ]
    },
    {
     "name": "stdout",
     "output_type": "stream",
     "text": [
      "('Test Accuracy of ExtraTrees = 98.784195 %', 7, 'fois')\n"
     ]
    },
    {
     "name": "stderr",
     "output_type": "stream",
     "text": [
      "[ 2018-04-25 00:37:30,768][kfold_wrapper.log_eval_metrics] Accuracy(layer_0 - estimator_0 - 10_folds.train_0.predict)=99.40%\n",
      "[ 2018-04-25 00:37:31,622][kfold_wrapper.log_eval_metrics] Accuracy(layer_0 - estimator_0 - 10_folds.train_1.predict)=99.10%\n",
      "[ 2018-04-25 00:37:32,388][kfold_wrapper.log_eval_metrics] Accuracy(layer_0 - estimator_0 - 10_folds.train_2.predict)=98.21%\n",
      "[ 2018-04-25 00:37:33,244][kfold_wrapper.log_eval_metrics] Accuracy(layer_0 - estimator_0 - 10_folds.train_3.predict)=99.10%\n",
      "[ 2018-04-25 00:37:34,016][kfold_wrapper.log_eval_metrics] Accuracy(layer_0 - estimator_0 - 10_folds.train_4.predict)=99.10%\n",
      "[ 2018-04-25 00:37:34,815][kfold_wrapper.log_eval_metrics] Accuracy(layer_0 - estimator_0 - 10_folds.train_5.predict)=99.10%\n",
      "[ 2018-04-25 00:37:35,630][kfold_wrapper.log_eval_metrics] Accuracy(layer_0 - estimator_0 - 10_folds.train_6.predict)=98.80%\n",
      "[ 2018-04-25 00:37:36,433][kfold_wrapper.log_eval_metrics] Accuracy(layer_0 - estimator_0 - 10_folds.train_7.predict)=98.80%\n",
      "[ 2018-04-25 00:37:37,251][kfold_wrapper.log_eval_metrics] Accuracy(layer_0 - estimator_0 - 10_folds.train_8.predict)=98.50%\n",
      "[ 2018-04-25 00:37:38,078][kfold_wrapper.log_eval_metrics] Accuracy(layer_0 - estimator_0 - 10_folds.train_9.predict)=99.10%\n",
      "[ 2018-04-25 00:37:38,231][kfold_wrapper.log_eval_metrics] Accuracy(layer_0 - estimator_0 - 10_folds.train_cv.predict)=98.92%\n",
      "[ 2018-04-25 00:37:38,233][kfold_wrapper.log_eval_metrics] Accuracy(layer_0 - estimator_0 - 10_folds.test.predict)=98.91%\n",
      "[ 2018-04-25 00:37:38,244][cascade_classifier.calc_accuracy] Accuracy(layer_0 - train.classifier_average)=98.92%\n",
      "[ 2018-04-25 00:37:38,246][cascade_classifier.calc_accuracy] Accuracy(layer_0 - test.classifier_average)=98.91%\n",
      "[ 2018-04-25 00:37:38,247][cascade_classifier.fit_transform] [Result][Reach Max Layer] opt_layer_num=1, accuracy_train=98.92%, accuracy_test=98.91%\n",
      "[ 2018-04-25 00:37:38,249][cascade_classifier.transform] X_groups_test.shape=[(1645, 12)]\n",
      "[ 2018-04-25 00:37:38,252][cascade_classifier.transform] group_dims=[12]\n",
      "[ 2018-04-25 00:37:38,253][cascade_classifier.transform] X_test.shape=(1645, 12)\n",
      "[ 2018-04-25 00:37:38,255][cascade_classifier.transform] [layer=0] look_indexs=[0], X_cur_test.shape=(1645, 12)\n",
      "[ 2018-04-25 00:37:39,783][cascade_classifier.fit_transform] X_groups_train.shape=[(3337, 12)],y_train.shape=(3337,),X_groups_test.shape=[(1645, 12)],y_test.shape=(1645,)\n",
      "[ 2018-04-25 00:37:39,786][cascade_classifier.fit_transform] group_dims=[12]\n",
      "[ 2018-04-25 00:37:39,787][cascade_classifier.fit_transform] group_starts=[0]\n",
      "[ 2018-04-25 00:37:39,789][cascade_classifier.fit_transform] group_ends=[12]\n",
      "[ 2018-04-25 00:37:39,791][cascade_classifier.fit_transform] X_train.shape=(3337, 12),X_test.shape=(1645, 12)\n",
      "[ 2018-04-25 00:37:39,792][cascade_classifier.fit_transform] [layer=0] look_indexs=[0], X_cur_train.shape=(3337, 12), X_cur_test.shape=(1645, 12)\n"
     ]
    },
    {
     "name": "stdout",
     "output_type": "stream",
     "text": [
      "('Test Accuracy of ExtraTrees = 98.905775 %', 8, 'fois')\n"
     ]
    },
    {
     "name": "stderr",
     "output_type": "stream",
     "text": [
      "[ 2018-04-25 00:37:40,484][kfold_wrapper.log_eval_metrics] Accuracy(layer_0 - estimator_0 - 10_folds.train_0.predict)=99.40%\n",
      "[ 2018-04-25 00:37:41,292][kfold_wrapper.log_eval_metrics] Accuracy(layer_0 - estimator_0 - 10_folds.train_1.predict)=98.81%\n",
      "[ 2018-04-25 00:37:42,132][kfold_wrapper.log_eval_metrics] Accuracy(layer_0 - estimator_0 - 10_folds.train_2.predict)=97.91%\n",
      "[ 2018-04-25 00:37:43,012][kfold_wrapper.log_eval_metrics] Accuracy(layer_0 - estimator_0 - 10_folds.train_3.predict)=99.10%\n",
      "[ 2018-04-25 00:37:43,786][kfold_wrapper.log_eval_metrics] Accuracy(layer_0 - estimator_0 - 10_folds.train_4.predict)=98.50%\n",
      "[ 2018-04-25 00:37:44,624][kfold_wrapper.log_eval_metrics] Accuracy(layer_0 - estimator_0 - 10_folds.train_5.predict)=98.50%\n",
      "[ 2018-04-25 00:37:45,466][kfold_wrapper.log_eval_metrics] Accuracy(layer_0 - estimator_0 - 10_folds.train_6.predict)=98.50%\n",
      "[ 2018-04-25 00:37:46,281][kfold_wrapper.log_eval_metrics] Accuracy(layer_0 - estimator_0 - 10_folds.train_7.predict)=98.50%\n",
      "[ 2018-04-25 00:37:47,149][kfold_wrapper.log_eval_metrics] Accuracy(layer_0 - estimator_0 - 10_folds.train_8.predict)=98.50%\n",
      "[ 2018-04-25 00:37:47,975][kfold_wrapper.log_eval_metrics] Accuracy(layer_0 - estimator_0 - 10_folds.train_9.predict)=98.80%\n",
      "[ 2018-04-25 00:37:48,137][kfold_wrapper.log_eval_metrics] Accuracy(layer_0 - estimator_0 - 10_folds.train_cv.predict)=98.65%\n",
      "[ 2018-04-25 00:37:48,139][kfold_wrapper.log_eval_metrics] Accuracy(layer_0 - estimator_0 - 10_folds.test.predict)=98.84%\n",
      "[ 2018-04-25 00:37:48,150][cascade_classifier.calc_accuracy] Accuracy(layer_0 - train.classifier_average)=98.65%\n",
      "[ 2018-04-25 00:37:48,152][cascade_classifier.calc_accuracy] Accuracy(layer_0 - test.classifier_average)=98.84%\n",
      "[ 2018-04-25 00:37:48,154][cascade_classifier.fit_transform] [Result][Reach Max Layer] opt_layer_num=1, accuracy_train=98.65%, accuracy_test=98.84%\n",
      "[ 2018-04-25 00:37:48,155][cascade_classifier.transform] X_groups_test.shape=[(1645, 12)]\n",
      "[ 2018-04-25 00:37:48,157][cascade_classifier.transform] group_dims=[12]\n",
      "[ 2018-04-25 00:37:48,159][cascade_classifier.transform] X_test.shape=(1645, 12)\n",
      "[ 2018-04-25 00:37:48,161][cascade_classifier.transform] [layer=0] look_indexs=[0], X_cur_test.shape=(1645, 12)\n",
      "[ 2018-04-25 00:37:49,795][cascade_classifier.fit_transform] X_groups_train.shape=[(3337, 12)],y_train.shape=(3337,),X_groups_test.shape=[(1645, 12)],y_test.shape=(1645,)\n",
      "[ 2018-04-25 00:37:49,797][cascade_classifier.fit_transform] group_dims=[12]\n",
      "[ 2018-04-25 00:37:49,798][cascade_classifier.fit_transform] group_starts=[0]\n",
      "[ 2018-04-25 00:37:49,800][cascade_classifier.fit_transform] group_ends=[12]\n",
      "[ 2018-04-25 00:37:49,801][cascade_classifier.fit_transform] X_train.shape=(3337, 12),X_test.shape=(1645, 12)\n",
      "[ 2018-04-25 00:37:49,803][cascade_classifier.fit_transform] [layer=0] look_indexs=[0], X_cur_train.shape=(3337, 12), X_cur_test.shape=(1645, 12)\n"
     ]
    },
    {
     "name": "stdout",
     "output_type": "stream",
     "text": [
      "('Test Accuracy of ExtraTrees = 98.844985 %', 9, 'fois')\n"
     ]
    },
    {
     "name": "stderr",
     "output_type": "stream",
     "text": [
      "[ 2018-04-25 00:37:50,442][kfold_wrapper.log_eval_metrics] Accuracy(layer_0 - estimator_0 - 10_folds.train_0.predict)=98.81%\n",
      "[ 2018-04-25 00:37:51,277][kfold_wrapper.log_eval_metrics] Accuracy(layer_0 - estimator_0 - 10_folds.train_1.predict)=98.81%\n",
      "[ 2018-04-25 00:37:52,107][kfold_wrapper.log_eval_metrics] Accuracy(layer_0 - estimator_0 - 10_folds.train_2.predict)=98.21%\n",
      "[ 2018-04-25 00:37:52,943][kfold_wrapper.log_eval_metrics] Accuracy(layer_0 - estimator_0 - 10_folds.train_3.predict)=99.10%\n",
      "[ 2018-04-25 00:37:53,722][kfold_wrapper.log_eval_metrics] Accuracy(layer_0 - estimator_0 - 10_folds.train_4.predict)=98.20%\n",
      "[ 2018-04-25 00:37:54,532][kfold_wrapper.log_eval_metrics] Accuracy(layer_0 - estimator_0 - 10_folds.train_5.predict)=98.80%\n",
      "[ 2018-04-25 00:37:55,326][kfold_wrapper.log_eval_metrics] Accuracy(layer_0 - estimator_0 - 10_folds.train_6.predict)=98.80%\n",
      "[ 2018-04-25 00:37:56,257][kfold_wrapper.log_eval_metrics] Accuracy(layer_0 - estimator_0 - 10_folds.train_7.predict)=98.50%\n",
      "[ 2018-04-25 00:37:57,092][kfold_wrapper.log_eval_metrics] Accuracy(layer_0 - estimator_0 - 10_folds.train_8.predict)=98.20%\n",
      "[ 2018-04-25 00:37:57,897][kfold_wrapper.log_eval_metrics] Accuracy(layer_0 - estimator_0 - 10_folds.train_9.predict)=98.50%\n",
      "[ 2018-04-25 00:37:58,051][kfold_wrapper.log_eval_metrics] Accuracy(layer_0 - estimator_0 - 10_folds.train_cv.predict)=98.59%\n",
      "[ 2018-04-25 00:37:58,054][kfold_wrapper.log_eval_metrics] Accuracy(layer_0 - estimator_0 - 10_folds.test.predict)=98.84%\n",
      "[ 2018-04-25 00:37:58,063][cascade_classifier.calc_accuracy] Accuracy(layer_0 - train.classifier_average)=98.59%\n",
      "[ 2018-04-25 00:37:58,064][cascade_classifier.calc_accuracy] Accuracy(layer_0 - test.classifier_average)=98.84%\n",
      "[ 2018-04-25 00:37:58,066][cascade_classifier.fit_transform] [Result][Reach Max Layer] opt_layer_num=1, accuracy_train=98.59%, accuracy_test=98.84%\n",
      "[ 2018-04-25 00:37:58,068][cascade_classifier.transform] X_groups_test.shape=[(1645, 12)]\n",
      "[ 2018-04-25 00:37:58,069][cascade_classifier.transform] group_dims=[12]\n",
      "[ 2018-04-25 00:37:58,071][cascade_classifier.transform] X_test.shape=(1645, 12)\n",
      "[ 2018-04-25 00:37:58,072][cascade_classifier.transform] [layer=0] look_indexs=[0], X_cur_test.shape=(1645, 12)\n",
      "[ 2018-04-25 00:37:59,619][cascade_classifier.fit_transform] X_groups_train.shape=[(3337, 12)],y_train.shape=(3337,),X_groups_test.shape=[(1645, 12)],y_test.shape=(1645,)\n",
      "[ 2018-04-25 00:37:59,624][cascade_classifier.fit_transform] group_dims=[12]\n",
      "[ 2018-04-25 00:37:59,625][cascade_classifier.fit_transform] group_starts=[0]\n",
      "[ 2018-04-25 00:37:59,627][cascade_classifier.fit_transform] group_ends=[12]\n",
      "[ 2018-04-25 00:37:59,629][cascade_classifier.fit_transform] X_train.shape=(3337, 12),X_test.shape=(1645, 12)\n",
      "[ 2018-04-25 00:37:59,631][cascade_classifier.fit_transform] [layer=0] look_indexs=[0], X_cur_train.shape=(3337, 12), X_cur_test.shape=(1645, 12)\n"
     ]
    },
    {
     "name": "stdout",
     "output_type": "stream",
     "text": [
      "('Test Accuracy of ExtraTrees = 98.844985 %', 10, 'fois')\n"
     ]
    },
    {
     "name": "stderr",
     "output_type": "stream",
     "text": [
      "[ 2018-04-25 00:38:00,258][kfold_wrapper.log_eval_metrics] Accuracy(layer_0 - estimator_0 - 10_folds.train_0.predict)=99.40%\n",
      "[ 2018-04-25 00:38:01,075][kfold_wrapper.log_eval_metrics] Accuracy(layer_0 - estimator_0 - 10_folds.train_1.predict)=98.51%\n",
      "[ 2018-04-25 00:38:02,007][kfold_wrapper.log_eval_metrics] Accuracy(layer_0 - estimator_0 - 10_folds.train_2.predict)=98.21%\n",
      "[ 2018-04-25 00:38:02,843][kfold_wrapper.log_eval_metrics] Accuracy(layer_0 - estimator_0 - 10_folds.train_3.predict)=98.80%\n",
      "[ 2018-04-25 00:38:03,643][kfold_wrapper.log_eval_metrics] Accuracy(layer_0 - estimator_0 - 10_folds.train_4.predict)=98.20%\n",
      "[ 2018-04-25 00:38:04,486][kfold_wrapper.log_eval_metrics] Accuracy(layer_0 - estimator_0 - 10_folds.train_5.predict)=99.40%\n",
      "[ 2018-04-25 00:38:05,324][kfold_wrapper.log_eval_metrics] Accuracy(layer_0 - estimator_0 - 10_folds.train_6.predict)=98.50%\n",
      "[ 2018-04-25 00:38:06,197][kfold_wrapper.log_eval_metrics] Accuracy(layer_0 - estimator_0 - 10_folds.train_7.predict)=98.80%\n",
      "[ 2018-04-25 00:38:06,965][kfold_wrapper.log_eval_metrics] Accuracy(layer_0 - estimator_0 - 10_folds.train_8.predict)=98.20%\n",
      "[ 2018-04-25 00:38:07,796][kfold_wrapper.log_eval_metrics] Accuracy(layer_0 - estimator_0 - 10_folds.train_9.predict)=99.10%\n",
      "[ 2018-04-25 00:38:07,953][kfold_wrapper.log_eval_metrics] Accuracy(layer_0 - estimator_0 - 10_folds.train_cv.predict)=98.71%\n",
      "[ 2018-04-25 00:38:07,955][kfold_wrapper.log_eval_metrics] Accuracy(layer_0 - estimator_0 - 10_folds.test.predict)=98.97%\n",
      "[ 2018-04-25 00:38:07,967][cascade_classifier.calc_accuracy] Accuracy(layer_0 - train.classifier_average)=98.71%\n",
      "[ 2018-04-25 00:38:07,969][cascade_classifier.calc_accuracy] Accuracy(layer_0 - test.classifier_average)=98.97%\n",
      "[ 2018-04-25 00:38:07,970][cascade_classifier.fit_transform] [Result][Reach Max Layer] opt_layer_num=1, accuracy_train=98.71%, accuracy_test=98.97%\n",
      "[ 2018-04-25 00:38:07,972][cascade_classifier.transform] X_groups_test.shape=[(1645, 12)]\n",
      "[ 2018-04-25 00:38:07,974][cascade_classifier.transform] group_dims=[12]\n",
      "[ 2018-04-25 00:38:07,976][cascade_classifier.transform] X_test.shape=(1645, 12)\n",
      "[ 2018-04-25 00:38:07,978][cascade_classifier.transform] [layer=0] look_indexs=[0], X_cur_test.shape=(1645, 12)\n",
      "[ 2018-04-25 00:38:09,636][cascade_classifier.fit_transform] X_groups_train.shape=[(3337, 12)],y_train.shape=(3337,),X_groups_test.shape=[(1645, 12)],y_test.shape=(1645,)\n",
      "[ 2018-04-25 00:38:09,638][cascade_classifier.fit_transform] group_dims=[12]\n",
      "[ 2018-04-25 00:38:09,640][cascade_classifier.fit_transform] group_starts=[0]\n",
      "[ 2018-04-25 00:38:09,641][cascade_classifier.fit_transform] group_ends=[12]\n",
      "[ 2018-04-25 00:38:09,643][cascade_classifier.fit_transform] X_train.shape=(3337, 12),X_test.shape=(1645, 12)\n",
      "[ 2018-04-25 00:38:09,644][cascade_classifier.fit_transform] [layer=0] look_indexs=[0], X_cur_train.shape=(3337, 12), X_cur_test.shape=(1645, 12)\n"
     ]
    },
    {
     "name": "stdout",
     "output_type": "stream",
     "text": [
      "('Test Accuracy of ExtraTrees = 98.966565 %', 11, 'fois')\n"
     ]
    },
    {
     "name": "stderr",
     "output_type": "stream",
     "text": [
      "[ 2018-04-25 00:38:10,305][kfold_wrapper.log_eval_metrics] Accuracy(layer_0 - estimator_0 - 10_folds.train_0.predict)=98.81%\n",
      "[ 2018-04-25 00:38:11,140][kfold_wrapper.log_eval_metrics] Accuracy(layer_0 - estimator_0 - 10_folds.train_1.predict)=98.51%\n",
      "[ 2018-04-25 00:38:11,959][kfold_wrapper.log_eval_metrics] Accuracy(layer_0 - estimator_0 - 10_folds.train_2.predict)=98.21%\n",
      "[ 2018-04-25 00:38:12,720][kfold_wrapper.log_eval_metrics] Accuracy(layer_0 - estimator_0 - 10_folds.train_3.predict)=98.80%\n",
      "[ 2018-04-25 00:38:13,519][kfold_wrapper.log_eval_metrics] Accuracy(layer_0 - estimator_0 - 10_folds.train_4.predict)=98.50%\n",
      "[ 2018-04-25 00:38:14,448][kfold_wrapper.log_eval_metrics] Accuracy(layer_0 - estimator_0 - 10_folds.train_5.predict)=98.20%\n",
      "[ 2018-04-25 00:38:15,315][kfold_wrapper.log_eval_metrics] Accuracy(layer_0 - estimator_0 - 10_folds.train_6.predict)=98.80%\n",
      "[ 2018-04-25 00:38:16,081][kfold_wrapper.log_eval_metrics] Accuracy(layer_0 - estimator_0 - 10_folds.train_7.predict)=98.80%\n",
      "[ 2018-04-25 00:38:16,854][kfold_wrapper.log_eval_metrics] Accuracy(layer_0 - estimator_0 - 10_folds.train_8.predict)=98.20%\n",
      "[ 2018-04-25 00:38:17,635][kfold_wrapper.log_eval_metrics] Accuracy(layer_0 - estimator_0 - 10_folds.train_9.predict)=99.40%\n",
      "[ 2018-04-25 00:38:17,791][kfold_wrapper.log_eval_metrics] Accuracy(layer_0 - estimator_0 - 10_folds.train_cv.predict)=98.62%\n",
      "[ 2018-04-25 00:38:17,793][kfold_wrapper.log_eval_metrics] Accuracy(layer_0 - estimator_0 - 10_folds.test.predict)=98.91%\n",
      "[ 2018-04-25 00:38:17,800][cascade_classifier.calc_accuracy] Accuracy(layer_0 - train.classifier_average)=98.62%\n",
      "[ 2018-04-25 00:38:17,802][cascade_classifier.calc_accuracy] Accuracy(layer_0 - test.classifier_average)=98.91%\n",
      "[ 2018-04-25 00:38:17,804][cascade_classifier.fit_transform] [Result][Reach Max Layer] opt_layer_num=1, accuracy_train=98.62%, accuracy_test=98.91%\n",
      "[ 2018-04-25 00:38:17,806][cascade_classifier.transform] X_groups_test.shape=[(1645, 12)]\n",
      "[ 2018-04-25 00:38:17,808][cascade_classifier.transform] group_dims=[12]\n",
      "[ 2018-04-25 00:38:17,809][cascade_classifier.transform] X_test.shape=(1645, 12)\n",
      "[ 2018-04-25 00:38:17,811][cascade_classifier.transform] [layer=0] look_indexs=[0], X_cur_test.shape=(1645, 12)\n",
      "[ 2018-04-25 00:38:19,422][cascade_classifier.fit_transform] X_groups_train.shape=[(3337, 12)],y_train.shape=(3337,),X_groups_test.shape=[(1645, 12)],y_test.shape=(1645,)\n",
      "[ 2018-04-25 00:38:19,425][cascade_classifier.fit_transform] group_dims=[12]\n",
      "[ 2018-04-25 00:38:19,426][cascade_classifier.fit_transform] group_starts=[0]\n",
      "[ 2018-04-25 00:38:19,428][cascade_classifier.fit_transform] group_ends=[12]\n",
      "[ 2018-04-25 00:38:19,430][cascade_classifier.fit_transform] X_train.shape=(3337, 12),X_test.shape=(1645, 12)\n",
      "[ 2018-04-25 00:38:19,432][cascade_classifier.fit_transform] [layer=0] look_indexs=[0], X_cur_train.shape=(3337, 12), X_cur_test.shape=(1645, 12)\n"
     ]
    },
    {
     "name": "stdout",
     "output_type": "stream",
     "text": [
      "('Test Accuracy of ExtraTrees = 98.905775 %', 12, 'fois')\n"
     ]
    },
    {
     "name": "stderr",
     "output_type": "stream",
     "text": [
      "[ 2018-04-25 00:38:20,099][kfold_wrapper.log_eval_metrics] Accuracy(layer_0 - estimator_0 - 10_folds.train_0.predict)=99.10%\n",
      "[ 2018-04-25 00:38:20,867][kfold_wrapper.log_eval_metrics] Accuracy(layer_0 - estimator_0 - 10_folds.train_1.predict)=98.81%\n",
      "[ 2018-04-25 00:38:21,652][kfold_wrapper.log_eval_metrics] Accuracy(layer_0 - estimator_0 - 10_folds.train_2.predict)=98.21%\n",
      "[ 2018-04-25 00:38:22,481][kfold_wrapper.log_eval_metrics] Accuracy(layer_0 - estimator_0 - 10_folds.train_3.predict)=99.10%\n",
      "[ 2018-04-25 00:38:23,432][kfold_wrapper.log_eval_metrics] Accuracy(layer_0 - estimator_0 - 10_folds.train_4.predict)=98.80%\n",
      "[ 2018-04-25 00:38:24,236][kfold_wrapper.log_eval_metrics] Accuracy(layer_0 - estimator_0 - 10_folds.train_5.predict)=99.40%\n",
      "[ 2018-04-25 00:38:25,024][kfold_wrapper.log_eval_metrics] Accuracy(layer_0 - estimator_0 - 10_folds.train_6.predict)=98.80%\n",
      "[ 2018-04-25 00:38:25,861][kfold_wrapper.log_eval_metrics] Accuracy(layer_0 - estimator_0 - 10_folds.train_7.predict)=98.50%\n",
      "[ 2018-04-25 00:38:26,669][kfold_wrapper.log_eval_metrics] Accuracy(layer_0 - estimator_0 - 10_folds.train_8.predict)=98.20%\n",
      "[ 2018-04-25 00:38:27,489][kfold_wrapper.log_eval_metrics] Accuracy(layer_0 - estimator_0 - 10_folds.train_9.predict)=99.40%\n",
      "[ 2018-04-25 00:38:27,644][kfold_wrapper.log_eval_metrics] Accuracy(layer_0 - estimator_0 - 10_folds.train_cv.predict)=98.83%\n",
      "[ 2018-04-25 00:38:27,646][kfold_wrapper.log_eval_metrics] Accuracy(layer_0 - estimator_0 - 10_folds.test.predict)=98.91%\n",
      "[ 2018-04-25 00:38:27,654][cascade_classifier.calc_accuracy] Accuracy(layer_0 - train.classifier_average)=98.83%\n",
      "[ 2018-04-25 00:38:27,656][cascade_classifier.calc_accuracy] Accuracy(layer_0 - test.classifier_average)=98.91%\n",
      "[ 2018-04-25 00:38:27,658][cascade_classifier.fit_transform] [Result][Reach Max Layer] opt_layer_num=1, accuracy_train=98.83%, accuracy_test=98.91%\n",
      "[ 2018-04-25 00:38:27,660][cascade_classifier.transform] X_groups_test.shape=[(1645, 12)]\n",
      "[ 2018-04-25 00:38:27,662][cascade_classifier.transform] group_dims=[12]\n",
      "[ 2018-04-25 00:38:27,663][cascade_classifier.transform] X_test.shape=(1645, 12)\n",
      "[ 2018-04-25 00:38:27,665][cascade_classifier.transform] [layer=0] look_indexs=[0], X_cur_test.shape=(1645, 12)\n",
      "[ 2018-04-25 00:38:29,159][cascade_classifier.fit_transform] X_groups_train.shape=[(3337, 12)],y_train.shape=(3337,),X_groups_test.shape=[(1645, 12)],y_test.shape=(1645,)\n",
      "[ 2018-04-25 00:38:29,162][cascade_classifier.fit_transform] group_dims=[12]\n",
      "[ 2018-04-25 00:38:29,164][cascade_classifier.fit_transform] group_starts=[0]\n",
      "[ 2018-04-25 00:38:29,165][cascade_classifier.fit_transform] group_ends=[12]\n",
      "[ 2018-04-25 00:38:29,167][cascade_classifier.fit_transform] X_train.shape=(3337, 12),X_test.shape=(1645, 12)\n",
      "[ 2018-04-25 00:38:29,170][cascade_classifier.fit_transform] [layer=0] look_indexs=[0], X_cur_train.shape=(3337, 12), X_cur_test.shape=(1645, 12)\n"
     ]
    },
    {
     "name": "stdout",
     "output_type": "stream",
     "text": [
      "('Test Accuracy of ExtraTrees = 98.905775 %', 13, 'fois')\n"
     ]
    },
    {
     "name": "stderr",
     "output_type": "stream",
     "text": [
      "[ 2018-04-25 00:38:29,866][kfold_wrapper.log_eval_metrics] Accuracy(layer_0 - estimator_0 - 10_folds.train_0.predict)=99.10%\n",
      "[ 2018-04-25 00:38:30,634][kfold_wrapper.log_eval_metrics] Accuracy(layer_0 - estimator_0 - 10_folds.train_1.predict)=98.81%\n",
      "[ 2018-04-25 00:38:31,445][kfold_wrapper.log_eval_metrics] Accuracy(layer_0 - estimator_0 - 10_folds.train_2.predict)=97.91%\n",
      "[ 2018-04-25 00:38:32,262][kfold_wrapper.log_eval_metrics] Accuracy(layer_0 - estimator_0 - 10_folds.train_3.predict)=98.80%\n",
      "[ 2018-04-25 00:38:33,056][kfold_wrapper.log_eval_metrics] Accuracy(layer_0 - estimator_0 - 10_folds.train_4.predict)=98.80%\n",
      "[ 2018-04-25 00:38:33,852][kfold_wrapper.log_eval_metrics] Accuracy(layer_0 - estimator_0 - 10_folds.train_5.predict)=99.10%\n",
      "[ 2018-04-25 00:38:34,614][kfold_wrapper.log_eval_metrics] Accuracy(layer_0 - estimator_0 - 10_folds.train_6.predict)=98.50%\n",
      "[ 2018-04-25 00:38:35,490][kfold_wrapper.log_eval_metrics] Accuracy(layer_0 - estimator_0 - 10_folds.train_7.predict)=98.80%\n",
      "[ 2018-04-25 00:38:36,309][kfold_wrapper.log_eval_metrics] Accuracy(layer_0 - estimator_0 - 10_folds.train_8.predict)=98.20%\n",
      "[ 2018-04-25 00:38:37,108][kfold_wrapper.log_eval_metrics] Accuracy(layer_0 - estimator_0 - 10_folds.train_9.predict)=98.80%\n",
      "[ 2018-04-25 00:38:37,262][kfold_wrapper.log_eval_metrics] Accuracy(layer_0 - estimator_0 - 10_folds.train_cv.predict)=98.68%\n",
      "[ 2018-04-25 00:38:37,264][kfold_wrapper.log_eval_metrics] Accuracy(layer_0 - estimator_0 - 10_folds.test.predict)=98.91%\n",
      "[ 2018-04-25 00:38:37,272][cascade_classifier.calc_accuracy] Accuracy(layer_0 - train.classifier_average)=98.68%\n",
      "[ 2018-04-25 00:38:37,274][cascade_classifier.calc_accuracy] Accuracy(layer_0 - test.classifier_average)=98.91%\n",
      "[ 2018-04-25 00:38:37,275][cascade_classifier.fit_transform] [Result][Reach Max Layer] opt_layer_num=1, accuracy_train=98.68%, accuracy_test=98.91%\n",
      "[ 2018-04-25 00:38:37,277][cascade_classifier.transform] X_groups_test.shape=[(1645, 12)]\n",
      "[ 2018-04-25 00:38:37,280][cascade_classifier.transform] group_dims=[12]\n",
      "[ 2018-04-25 00:38:37,281][cascade_classifier.transform] X_test.shape=(1645, 12)\n",
      "[ 2018-04-25 00:38:37,283][cascade_classifier.transform] [layer=0] look_indexs=[0], X_cur_test.shape=(1645, 12)\n",
      "[ 2018-04-25 00:38:38,903][cascade_classifier.fit_transform] X_groups_train.shape=[(3337, 12)],y_train.shape=(3337,),X_groups_test.shape=[(1645, 12)],y_test.shape=(1645,)\n",
      "[ 2018-04-25 00:38:38,905][cascade_classifier.fit_transform] group_dims=[12]\n",
      "[ 2018-04-25 00:38:38,907][cascade_classifier.fit_transform] group_starts=[0]\n",
      "[ 2018-04-25 00:38:38,909][cascade_classifier.fit_transform] group_ends=[12]\n",
      "[ 2018-04-25 00:38:38,910][cascade_classifier.fit_transform] X_train.shape=(3337, 12),X_test.shape=(1645, 12)\n",
      "[ 2018-04-25 00:38:38,912][cascade_classifier.fit_transform] [layer=0] look_indexs=[0], X_cur_train.shape=(3337, 12), X_cur_test.shape=(1645, 12)\n"
     ]
    },
    {
     "name": "stdout",
     "output_type": "stream",
     "text": [
      "('Test Accuracy of ExtraTrees = 98.905775 %', 14, 'fois')\n"
     ]
    },
    {
     "name": "stderr",
     "output_type": "stream",
     "text": [
      "[ 2018-04-25 00:38:39,567][kfold_wrapper.log_eval_metrics] Accuracy(layer_0 - estimator_0 - 10_folds.train_0.predict)=99.10%\n",
      "[ 2018-04-25 00:38:40,388][kfold_wrapper.log_eval_metrics] Accuracy(layer_0 - estimator_0 - 10_folds.train_1.predict)=98.81%\n",
      "[ 2018-04-25 00:38:41,176][kfold_wrapper.log_eval_metrics] Accuracy(layer_0 - estimator_0 - 10_folds.train_2.predict)=98.51%\n",
      "[ 2018-04-25 00:38:42,021][kfold_wrapper.log_eval_metrics] Accuracy(layer_0 - estimator_0 - 10_folds.train_3.predict)=98.50%\n",
      "[ 2018-04-25 00:38:42,829][kfold_wrapper.log_eval_metrics] Accuracy(layer_0 - estimator_0 - 10_folds.train_4.predict)=99.10%\n",
      "[ 2018-04-25 00:38:43,700][kfold_wrapper.log_eval_metrics] Accuracy(layer_0 - estimator_0 - 10_folds.train_5.predict)=98.80%\n",
      "[ 2018-04-25 00:38:44,533][kfold_wrapper.log_eval_metrics] Accuracy(layer_0 - estimator_0 - 10_folds.train_6.predict)=98.80%\n",
      "[ 2018-04-25 00:38:45,338][kfold_wrapper.log_eval_metrics] Accuracy(layer_0 - estimator_0 - 10_folds.train_7.predict)=98.80%\n",
      "[ 2018-04-25 00:38:46,248][kfold_wrapper.log_eval_metrics] Accuracy(layer_0 - estimator_0 - 10_folds.train_8.predict)=98.20%\n",
      "[ 2018-04-25 00:38:47,053][kfold_wrapper.log_eval_metrics] Accuracy(layer_0 - estimator_0 - 10_folds.train_9.predict)=99.70%\n",
      "[ 2018-04-25 00:38:47,202][kfold_wrapper.log_eval_metrics] Accuracy(layer_0 - estimator_0 - 10_folds.train_cv.predict)=98.83%\n",
      "[ 2018-04-25 00:38:47,204][kfold_wrapper.log_eval_metrics] Accuracy(layer_0 - estimator_0 - 10_folds.test.predict)=98.72%\n",
      "[ 2018-04-25 00:38:47,212][cascade_classifier.calc_accuracy] Accuracy(layer_0 - train.classifier_average)=98.83%\n",
      "[ 2018-04-25 00:38:47,214][cascade_classifier.calc_accuracy] Accuracy(layer_0 - test.classifier_average)=98.72%\n",
      "[ 2018-04-25 00:38:47,216][cascade_classifier.fit_transform] [Result][Reach Max Layer] opt_layer_num=1, accuracy_train=98.83%, accuracy_test=98.72%\n",
      "[ 2018-04-25 00:38:47,217][cascade_classifier.transform] X_groups_test.shape=[(1645, 12)]\n",
      "[ 2018-04-25 00:38:47,219][cascade_classifier.transform] group_dims=[12]\n",
      "[ 2018-04-25 00:38:47,221][cascade_classifier.transform] X_test.shape=(1645, 12)\n",
      "[ 2018-04-25 00:38:47,222][cascade_classifier.transform] [layer=0] look_indexs=[0], X_cur_test.shape=(1645, 12)\n",
      "[ 2018-04-25 00:38:48,758][cascade_classifier.fit_transform] X_groups_train.shape=[(3337, 12)],y_train.shape=(3337,),X_groups_test.shape=[(1645, 12)],y_test.shape=(1645,)\n",
      "[ 2018-04-25 00:38:48,761][cascade_classifier.fit_transform] group_dims=[12]\n",
      "[ 2018-04-25 00:38:48,763][cascade_classifier.fit_transform] group_starts=[0]\n",
      "[ 2018-04-25 00:38:48,765][cascade_classifier.fit_transform] group_ends=[12]\n",
      "[ 2018-04-25 00:38:48,766][cascade_classifier.fit_transform] X_train.shape=(3337, 12),X_test.shape=(1645, 12)\n",
      "[ 2018-04-25 00:38:48,769][cascade_classifier.fit_transform] [layer=0] look_indexs=[0], X_cur_train.shape=(3337, 12), X_cur_test.shape=(1645, 12)\n"
     ]
    },
    {
     "name": "stdout",
     "output_type": "stream",
     "text": [
      "('Test Accuracy of ExtraTrees = 98.723404 %', 15, 'fois')\n"
     ]
    },
    {
     "name": "stderr",
     "output_type": "stream",
     "text": [
      "[ 2018-04-25 00:38:49,437][kfold_wrapper.log_eval_metrics] Accuracy(layer_0 - estimator_0 - 10_folds.train_0.predict)=98.81%\n",
      "[ 2018-04-25 00:38:50,281][kfold_wrapper.log_eval_metrics] Accuracy(layer_0 - estimator_0 - 10_folds.train_1.predict)=98.81%\n",
      "[ 2018-04-25 00:38:51,242][kfold_wrapper.log_eval_metrics] Accuracy(layer_0 - estimator_0 - 10_folds.train_2.predict)=97.91%\n",
      "[ 2018-04-25 00:38:52,044][kfold_wrapper.log_eval_metrics] Accuracy(layer_0 - estimator_0 - 10_folds.train_3.predict)=98.80%\n",
      "[ 2018-04-25 00:38:52,843][kfold_wrapper.log_eval_metrics] Accuracy(layer_0 - estimator_0 - 10_folds.train_4.predict)=99.70%\n",
      "[ 2018-04-25 00:38:53,664][kfold_wrapper.log_eval_metrics] Accuracy(layer_0 - estimator_0 - 10_folds.train_5.predict)=98.20%\n",
      "[ 2018-04-25 00:38:54,458][kfold_wrapper.log_eval_metrics] Accuracy(layer_0 - estimator_0 - 10_folds.train_6.predict)=99.10%\n",
      "[ 2018-04-25 00:38:55,268][kfold_wrapper.log_eval_metrics] Accuracy(layer_0 - estimator_0 - 10_folds.train_7.predict)=99.10%\n",
      "[ 2018-04-25 00:38:56,038][kfold_wrapper.log_eval_metrics] Accuracy(layer_0 - estimator_0 - 10_folds.train_8.predict)=98.80%\n",
      "[ 2018-04-25 00:38:56,876][kfold_wrapper.log_eval_metrics] Accuracy(layer_0 - estimator_0 - 10_folds.train_9.predict)=99.10%\n",
      "[ 2018-04-25 00:38:57,028][kfold_wrapper.log_eval_metrics] Accuracy(layer_0 - estimator_0 - 10_folds.train_cv.predict)=98.83%\n",
      "[ 2018-04-25 00:38:57,030][kfold_wrapper.log_eval_metrics] Accuracy(layer_0 - estimator_0 - 10_folds.test.predict)=98.91%\n",
      "[ 2018-04-25 00:38:57,042][cascade_classifier.calc_accuracy] Accuracy(layer_0 - train.classifier_average)=98.83%\n",
      "[ 2018-04-25 00:38:57,044][cascade_classifier.calc_accuracy] Accuracy(layer_0 - test.classifier_average)=98.91%\n",
      "[ 2018-04-25 00:38:57,045][cascade_classifier.fit_transform] [Result][Reach Max Layer] opt_layer_num=1, accuracy_train=98.83%, accuracy_test=98.91%\n",
      "[ 2018-04-25 00:38:57,047][cascade_classifier.transform] X_groups_test.shape=[(1645, 12)]\n",
      "[ 2018-04-25 00:38:57,050][cascade_classifier.transform] group_dims=[12]\n",
      "[ 2018-04-25 00:38:57,051][cascade_classifier.transform] X_test.shape=(1645, 12)\n",
      "[ 2018-04-25 00:38:57,053][cascade_classifier.transform] [layer=0] look_indexs=[0], X_cur_test.shape=(1645, 12)\n",
      "[ 2018-04-25 00:38:58,685][cascade_classifier.fit_transform] X_groups_train.shape=[(3337, 12)],y_train.shape=(3337,),X_groups_test.shape=[(1645, 12)],y_test.shape=(1645,)\n",
      "[ 2018-04-25 00:38:58,687][cascade_classifier.fit_transform] group_dims=[12]\n",
      "[ 2018-04-25 00:38:58,689][cascade_classifier.fit_transform] group_starts=[0]\n",
      "[ 2018-04-25 00:38:58,690][cascade_classifier.fit_transform] group_ends=[12]\n",
      "[ 2018-04-25 00:38:58,692][cascade_classifier.fit_transform] X_train.shape=(3337, 12),X_test.shape=(1645, 12)\n",
      "[ 2018-04-25 00:38:58,694][cascade_classifier.fit_transform] [layer=0] look_indexs=[0], X_cur_train.shape=(3337, 12), X_cur_test.shape=(1645, 12)\n"
     ]
    },
    {
     "name": "stdout",
     "output_type": "stream",
     "text": [
      "('Test Accuracy of ExtraTrees = 98.905775 %', 16, 'fois')\n"
     ]
    },
    {
     "name": "stderr",
     "output_type": "stream",
     "text": [
      "[ 2018-04-25 00:38:59,343][kfold_wrapper.log_eval_metrics] Accuracy(layer_0 - estimator_0 - 10_folds.train_0.predict)=98.81%\n",
      "[ 2018-04-25 00:39:00,113][kfold_wrapper.log_eval_metrics] Accuracy(layer_0 - estimator_0 - 10_folds.train_1.predict)=98.51%\n",
      "[ 2018-04-25 00:39:00,925][kfold_wrapper.log_eval_metrics] Accuracy(layer_0 - estimator_0 - 10_folds.train_2.predict)=97.91%\n",
      "[ 2018-04-25 00:39:01,718][kfold_wrapper.log_eval_metrics] Accuracy(layer_0 - estimator_0 - 10_folds.train_3.predict)=99.10%\n",
      "[ 2018-04-25 00:39:02,528][kfold_wrapper.log_eval_metrics] Accuracy(layer_0 - estimator_0 - 10_folds.train_4.predict)=98.50%\n",
      "[ 2018-04-25 00:39:03,371][kfold_wrapper.log_eval_metrics] Accuracy(layer_0 - estimator_0 - 10_folds.train_5.predict)=98.20%\n",
      "[ 2018-04-25 00:39:04,208][kfold_wrapper.log_eval_metrics] Accuracy(layer_0 - estimator_0 - 10_folds.train_6.predict)=98.80%\n",
      "[ 2018-04-25 00:39:04,974][kfold_wrapper.log_eval_metrics] Accuracy(layer_0 - estimator_0 - 10_folds.train_7.predict)=98.80%\n",
      "[ 2018-04-25 00:39:05,944][kfold_wrapper.log_eval_metrics] Accuracy(layer_0 - estimator_0 - 10_folds.train_8.predict)=98.20%\n",
      "[ 2018-04-25 00:39:06,741][kfold_wrapper.log_eval_metrics] Accuracy(layer_0 - estimator_0 - 10_folds.train_9.predict)=98.80%\n",
      "[ 2018-04-25 00:39:06,893][kfold_wrapper.log_eval_metrics] Accuracy(layer_0 - estimator_0 - 10_folds.train_cv.predict)=98.56%\n",
      "[ 2018-04-25 00:39:06,895][kfold_wrapper.log_eval_metrics] Accuracy(layer_0 - estimator_0 - 10_folds.test.predict)=98.72%\n",
      "[ 2018-04-25 00:39:06,904][cascade_classifier.calc_accuracy] Accuracy(layer_0 - train.classifier_average)=98.56%\n",
      "[ 2018-04-25 00:39:06,906][cascade_classifier.calc_accuracy] Accuracy(layer_0 - test.classifier_average)=98.72%\n",
      "[ 2018-04-25 00:39:06,908][cascade_classifier.fit_transform] [Result][Reach Max Layer] opt_layer_num=1, accuracy_train=98.56%, accuracy_test=98.72%\n",
      "[ 2018-04-25 00:39:06,909][cascade_classifier.transform] X_groups_test.shape=[(1645, 12)]\n",
      "[ 2018-04-25 00:39:06,911][cascade_classifier.transform] group_dims=[12]\n",
      "[ 2018-04-25 00:39:06,912][cascade_classifier.transform] X_test.shape=(1645, 12)\n",
      "[ 2018-04-25 00:39:06,914][cascade_classifier.transform] [layer=0] look_indexs=[0], X_cur_test.shape=(1645, 12)\n",
      "[ 2018-04-25 00:39:08,428][cascade_classifier.fit_transform] X_groups_train.shape=[(3337, 12)],y_train.shape=(3337,),X_groups_test.shape=[(1645, 12)],y_test.shape=(1645,)\n",
      "[ 2018-04-25 00:39:08,430][cascade_classifier.fit_transform] group_dims=[12]\n",
      "[ 2018-04-25 00:39:08,432][cascade_classifier.fit_transform] group_starts=[0]\n",
      "[ 2018-04-25 00:39:08,434][cascade_classifier.fit_transform] group_ends=[12]\n",
      "[ 2018-04-25 00:39:08,435][cascade_classifier.fit_transform] X_train.shape=(3337, 12),X_test.shape=(1645, 12)\n",
      "[ 2018-04-25 00:39:08,438][cascade_classifier.fit_transform] [layer=0] look_indexs=[0], X_cur_train.shape=(3337, 12), X_cur_test.shape=(1645, 12)\n"
     ]
    },
    {
     "name": "stdout",
     "output_type": "stream",
     "text": [
      "('Test Accuracy of ExtraTrees = 98.723404 %', 17, 'fois')\n"
     ]
    },
    {
     "name": "stderr",
     "output_type": "stream",
     "text": [
      "[ 2018-04-25 00:39:09,060][kfold_wrapper.log_eval_metrics] Accuracy(layer_0 - estimator_0 - 10_folds.train_0.predict)=99.40%\n",
      "[ 2018-04-25 00:39:09,875][kfold_wrapper.log_eval_metrics] Accuracy(layer_0 - estimator_0 - 10_folds.train_1.predict)=98.81%\n",
      "[ 2018-04-25 00:39:10,772][kfold_wrapper.log_eval_metrics] Accuracy(layer_0 - estimator_0 - 10_folds.train_2.predict)=98.21%\n",
      "[ 2018-04-25 00:39:11,558][kfold_wrapper.log_eval_metrics] Accuracy(layer_0 - estimator_0 - 10_folds.train_3.predict)=98.80%\n",
      "[ 2018-04-25 00:39:12,318][kfold_wrapper.log_eval_metrics] Accuracy(layer_0 - estimator_0 - 10_folds.train_4.predict)=99.40%\n",
      "[ 2018-04-25 00:39:13,132][kfold_wrapper.log_eval_metrics] Accuracy(layer_0 - estimator_0 - 10_folds.train_5.predict)=98.80%\n",
      "[ 2018-04-25 00:39:13,942][kfold_wrapper.log_eval_metrics] Accuracy(layer_0 - estimator_0 - 10_folds.train_6.predict)=98.50%\n",
      "[ 2018-04-25 00:39:14,759][kfold_wrapper.log_eval_metrics] Accuracy(layer_0 - estimator_0 - 10_folds.train_7.predict)=99.10%\n",
      "[ 2018-04-25 00:39:15,549][kfold_wrapper.log_eval_metrics] Accuracy(layer_0 - estimator_0 - 10_folds.train_8.predict)=98.20%\n",
      "[ 2018-04-25 00:39:16,441][kfold_wrapper.log_eval_metrics] Accuracy(layer_0 - estimator_0 - 10_folds.train_9.predict)=98.80%\n",
      "[ 2018-04-25 00:39:16,595][kfold_wrapper.log_eval_metrics] Accuracy(layer_0 - estimator_0 - 10_folds.train_cv.predict)=98.80%\n",
      "[ 2018-04-25 00:39:16,597][kfold_wrapper.log_eval_metrics] Accuracy(layer_0 - estimator_0 - 10_folds.test.predict)=98.78%\n",
      "[ 2018-04-25 00:39:16,606][cascade_classifier.calc_accuracy] Accuracy(layer_0 - train.classifier_average)=98.80%\n",
      "[ 2018-04-25 00:39:16,608][cascade_classifier.calc_accuracy] Accuracy(layer_0 - test.classifier_average)=98.78%\n",
      "[ 2018-04-25 00:39:16,610][cascade_classifier.fit_transform] [Result][Reach Max Layer] opt_layer_num=1, accuracy_train=98.80%, accuracy_test=98.78%\n",
      "[ 2018-04-25 00:39:16,611][cascade_classifier.transform] X_groups_test.shape=[(1645, 12)]\n",
      "[ 2018-04-25 00:39:16,613][cascade_classifier.transform] group_dims=[12]\n",
      "[ 2018-04-25 00:39:16,615][cascade_classifier.transform] X_test.shape=(1645, 12)\n",
      "[ 2018-04-25 00:39:16,617][cascade_classifier.transform] [layer=0] look_indexs=[0], X_cur_test.shape=(1645, 12)\n",
      "[ 2018-04-25 00:39:18,240][cascade_classifier.fit_transform] X_groups_train.shape=[(3337, 12)],y_train.shape=(3337,),X_groups_test.shape=[(1645, 12)],y_test.shape=(1645,)\n",
      "[ 2018-04-25 00:39:18,242][cascade_classifier.fit_transform] group_dims=[12]\n",
      "[ 2018-04-25 00:39:18,244][cascade_classifier.fit_transform] group_starts=[0]\n",
      "[ 2018-04-25 00:39:18,246][cascade_classifier.fit_transform] group_ends=[12]\n",
      "[ 2018-04-25 00:39:18,247][cascade_classifier.fit_transform] X_train.shape=(3337, 12),X_test.shape=(1645, 12)\n",
      "[ 2018-04-25 00:39:18,250][cascade_classifier.fit_transform] [layer=0] look_indexs=[0], X_cur_train.shape=(3337, 12), X_cur_test.shape=(1645, 12)\n"
     ]
    },
    {
     "name": "stdout",
     "output_type": "stream",
     "text": [
      "('Test Accuracy of ExtraTrees = 98.784195 %', 18, 'fois')\n"
     ]
    },
    {
     "name": "stderr",
     "output_type": "stream",
     "text": [
      "[ 2018-04-25 00:39:18,902][kfold_wrapper.log_eval_metrics] Accuracy(layer_0 - estimator_0 - 10_folds.train_0.predict)=99.40%\n",
      "[ 2018-04-25 00:39:19,711][kfold_wrapper.log_eval_metrics] Accuracy(layer_0 - estimator_0 - 10_folds.train_1.predict)=98.81%\n",
      "[ 2018-04-25 00:39:20,538][kfold_wrapper.log_eval_metrics] Accuracy(layer_0 - estimator_0 - 10_folds.train_2.predict)=97.91%\n",
      "[ 2018-04-25 00:39:21,357][kfold_wrapper.log_eval_metrics] Accuracy(layer_0 - estimator_0 - 10_folds.train_3.predict)=98.20%\n",
      "[ 2018-04-25 00:39:22,139][kfold_wrapper.log_eval_metrics] Accuracy(layer_0 - estimator_0 - 10_folds.train_4.predict)=99.10%\n",
      "[ 2018-04-25 00:39:22,920][kfold_wrapper.log_eval_metrics] Accuracy(layer_0 - estimator_0 - 10_folds.train_5.predict)=98.20%\n",
      "[ 2018-04-25 00:39:23,770][kfold_wrapper.log_eval_metrics] Accuracy(layer_0 - estimator_0 - 10_folds.train_6.predict)=98.80%\n",
      "[ 2018-04-25 00:39:24,547][kfold_wrapper.log_eval_metrics] Accuracy(layer_0 - estimator_0 - 10_folds.train_7.predict)=99.40%\n",
      "[ 2018-04-25 00:39:25,485][kfold_wrapper.log_eval_metrics] Accuracy(layer_0 - estimator_0 - 10_folds.train_8.predict)=98.20%\n",
      "[ 2018-04-25 00:39:26,255][kfold_wrapper.log_eval_metrics] Accuracy(layer_0 - estimator_0 - 10_folds.train_9.predict)=99.10%\n",
      "[ 2018-04-25 00:39:26,405][kfold_wrapper.log_eval_metrics] Accuracy(layer_0 - estimator_0 - 10_folds.train_cv.predict)=98.71%\n",
      "[ 2018-04-25 00:39:26,407][kfold_wrapper.log_eval_metrics] Accuracy(layer_0 - estimator_0 - 10_folds.test.predict)=98.78%\n",
      "[ 2018-04-25 00:39:26,414][cascade_classifier.calc_accuracy] Accuracy(layer_0 - train.classifier_average)=98.71%\n",
      "[ 2018-04-25 00:39:26,416][cascade_classifier.calc_accuracy] Accuracy(layer_0 - test.classifier_average)=98.78%\n",
      "[ 2018-04-25 00:39:26,418][cascade_classifier.fit_transform] [Result][Reach Max Layer] opt_layer_num=1, accuracy_train=98.71%, accuracy_test=98.78%\n",
      "[ 2018-04-25 00:39:26,420][cascade_classifier.transform] X_groups_test.shape=[(1645, 12)]\n",
      "[ 2018-04-25 00:39:26,422][cascade_classifier.transform] group_dims=[12]\n",
      "[ 2018-04-25 00:39:26,423][cascade_classifier.transform] X_test.shape=(1645, 12)\n",
      "[ 2018-04-25 00:39:26,425][cascade_classifier.transform] [layer=0] look_indexs=[0], X_cur_test.shape=(1645, 12)\n"
     ]
    },
    {
     "name": "stdout",
     "output_type": "stream",
     "text": [
      "('Test Accuracy of ExtraTrees = 98.784195 %', 19, 'fois')\n"
     ]
    }
   ],
   "source": [
    "# Deep\n",
    "for i in range (20):\n",
    "    X_train,X_test=update(X_train,X_test)\n",
    "    X_test_enc, X_train_enc=newdata(X_test_enc, X_train_enc)\n",
    "\n",
    "    X_train=X_train_enc\n",
    "    X_test=X_test_enc \n",
    "    X_train_enc, X_test_enc = gc.fit_transform(X_train, y_train, X_test=X_test, y_test=y_test)\n",
    "    affiche()"
   ]
  },
  {
   "cell_type": "code",
   "execution_count": null,
   "metadata": {
    "collapsed": true
   },
   "outputs": [],
   "source": []
  },
  {
   "cell_type": "markdown",
   "metadata": {},
   "source": [
    "# ('Test Accuracy of ExtraTrees = 99.148936 %', 1, 'fois')"
   ]
  },
  {
   "cell_type": "code",
   "execution_count": null,
   "metadata": {
    "collapsed": true
   },
   "outputs": [],
   "source": []
  }
 ],
 "metadata": {
  "kernelspec": {
   "display_name": "Python 2",
   "language": "python",
   "name": "python2"
  },
  "language_info": {
   "codemirror_mode": {
    "name": "ipython",
    "version": 2
   },
   "file_extension": ".py",
   "mimetype": "text/x-python",
   "name": "python",
   "nbconvert_exporter": "python",
   "pygments_lexer": "ipython2",
   "version": "2.7.14"
  }
 },
 "nbformat": 4,
 "nbformat_minor": 2
}
