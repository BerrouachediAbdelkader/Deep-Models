{
 "cells": [
  {
   "cell_type": "code",
   "execution_count": 1,
   "metadata": {
    "collapsed": true
   },
   "outputs": [],
   "source": [
    "# imports \n",
    "import numpy as np\n",
    "from math import sqrt \n",
    "from pprint import pprint\n",
    "from numpy import array\n",
    "from scipy.io import arff\n",
    "import pandas as pd"
   ]
  },
  {
   "cell_type": "code",
   "execution_count": 2,
   "metadata": {},
   "outputs": [
    {
     "data": {
      "text/html": [
       "<div>\n",
       "<style>\n",
       "    .dataframe thead tr:only-child th {\n",
       "        text-align: right;\n",
       "    }\n",
       "\n",
       "    .dataframe thead th {\n",
       "        text-align: left;\n",
       "    }\n",
       "\n",
       "    .dataframe tbody tr th {\n",
       "        vertical-align: top;\n",
       "    }\n",
       "</style>\n",
       "<table border=\"1\" class=\"dataframe\">\n",
       "  <thead>\n",
       "    <tr style=\"text-align: right;\">\n",
       "      <th></th>\n",
       "      <th>GLCM_pan</th>\n",
       "      <th>Mean_Green</th>\n",
       "      <th>Mean_Red</th>\n",
       "      <th>Mean_NIR</th>\n",
       "      <th>SD_pan</th>\n",
       "      <th>outlier</th>\n",
       "    </tr>\n",
       "  </thead>\n",
       "  <tbody>\n",
       "    <tr>\n",
       "      <th>0</th>\n",
       "      <td>0.656711</td>\n",
       "      <td>0.050984</td>\n",
       "      <td>0.044570</td>\n",
       "      <td>0.218476</td>\n",
       "      <td>0.132110</td>\n",
       "      <td>1</td>\n",
       "    </tr>\n",
       "    <tr>\n",
       "      <th>1</th>\n",
       "      <td>0.680591</td>\n",
       "      <td>0.049425</td>\n",
       "      <td>0.041939</td>\n",
       "      <td>0.177275</td>\n",
       "      <td>0.106749</td>\n",
       "      <td>1</td>\n",
       "    </tr>\n",
       "    <tr>\n",
       "      <th>2</th>\n",
       "      <td>0.734892</td>\n",
       "      <td>0.047396</td>\n",
       "      <td>0.042926</td>\n",
       "      <td>0.259034</td>\n",
       "      <td>0.143741</td>\n",
       "      <td>1</td>\n",
       "    </tr>\n",
       "    <tr>\n",
       "      <th>3</th>\n",
       "      <td>0.698087</td>\n",
       "      <td>0.035317</td>\n",
       "      <td>0.027066</td>\n",
       "      <td>0.127065</td>\n",
       "      <td>0.095697</td>\n",
       "      <td>1</td>\n",
       "    </tr>\n",
       "    <tr>\n",
       "      <th>4</th>\n",
       "      <td>0.738927</td>\n",
       "      <td>0.046076</td>\n",
       "      <td>0.040228</td>\n",
       "      <td>0.295501</td>\n",
       "      <td>0.112481</td>\n",
       "      <td>1</td>\n",
       "    </tr>\n",
       "  </tbody>\n",
       "</table>\n",
       "</div>"
      ],
      "text/plain": [
       "   GLCM_pan  Mean_Green  Mean_Red  Mean_NIR    SD_pan  outlier\n",
       "0  0.656711    0.050984  0.044570  0.218476  0.132110        1\n",
       "1  0.680591    0.049425  0.041939  0.177275  0.106749        1\n",
       "2  0.734892    0.047396  0.042926  0.259034  0.143741        1\n",
       "3  0.698087    0.035317  0.027066  0.127065  0.095697        1\n",
       "4  0.738927    0.046076  0.040228  0.295501  0.112481        1"
      ]
     },
     "execution_count": 2,
     "metadata": {},
     "output_type": "execute_result"
    }
   ],
   "source": [
    "# load data\n",
    "\n",
    "df=pd.read_csv('Wilt_withoutdupl_norm_05.csv')  \n",
    "\n",
    "del df['id']\n",
    "del df['Unnamed: 0']\n",
    "df['outlier'] = df.outlier.apply(lambda label: 1 if label == \"'yes'\" else 0)\n",
    "\n",
    "df.head()"
   ]
  },
  {
   "cell_type": "code",
   "execution_count": 3,
   "metadata": {},
   "outputs": [
    {
     "data": {
      "text/plain": [
       "(4819, 6)"
      ]
     },
     "execution_count": 3,
     "metadata": {},
     "output_type": "execute_result"
    }
   ],
   "source": [
    "df.shape"
   ]
  },
  {
   "cell_type": "code",
   "execution_count": 4,
   "metadata": {
    "collapsed": true
   },
   "outputs": [],
   "source": [
    "# data to values\n",
    "df = df.values"
   ]
  },
  {
   "cell_type": "code",
   "execution_count": 5,
   "metadata": {
    "collapsed": true
   },
   "outputs": [],
   "source": [
    "# Extratrees Deep\n",
    "import argparse\n",
    "import sys\n",
    "import pickle\n",
    "from sklearn.metrics import accuracy_score\n",
    "sys.path.insert(0, \"lib\")\n",
    "from gcforest.gcforest import GCForest\n",
    "from gcforest.utils.config_utils import load_json\n",
    "config = load_json(\"./examples/Wilt.json\")\n",
    "gc = GCForest(config)"
   ]
  },
  {
   "cell_type": "code",
   "execution_count": 7,
   "metadata": {},
   "outputs": [],
   "source": [
    "# train test \n",
    "from sklearn.cross_validation import train_test_split\n",
    "y = df[:,5]\n",
    "X = df[:,0:5]\n",
    "\n",
    "X_train,X_test,y_train,y_test = train_test_split(X, y, test_size=0.33, random_state=42)"
   ]
  },
  {
   "cell_type": "code",
   "execution_count": 7,
   "metadata": {},
   "outputs": [
    {
     "data": {
      "text/plain": [
       "2"
      ]
     },
     "execution_count": 7,
     "metadata": {},
     "output_type": "execute_result"
    }
   ],
   "source": [
    "# number of class\n",
    "len(np.unique(y_train))"
   ]
  },
  {
   "cell_type": "code",
   "execution_count": 8,
   "metadata": {},
   "outputs": [
    {
     "name": "stderr",
     "output_type": "stream",
     "text": [
      "[ 2018-04-25 01:05:26,613][cascade_classifier.fit_transform] X_groups_train.shape=[(3228, 5)],y_train.shape=(3228,),X_groups_test.shape=[(1591, 5)],y_test.shape=(1591,)\n",
      "[ 2018-04-25 01:05:26,614][cascade_classifier.fit_transform] group_dims=[5]\n",
      "[ 2018-04-25 01:05:26,616][cascade_classifier.fit_transform] group_starts=[0]\n",
      "[ 2018-04-25 01:05:26,618][cascade_classifier.fit_transform] group_ends=[5]\n",
      "[ 2018-04-25 01:05:26,623][cascade_classifier.fit_transform] X_train.shape=(3228, 5),X_test.shape=(1591, 5)\n",
      "[ 2018-04-25 01:05:26,625][cascade_classifier.fit_transform] [layer=0] look_indexs=[0], X_cur_train.shape=(3228, 5), X_cur_test.shape=(1591, 5)\n",
      "[ 2018-04-25 01:05:27,263][kfold_wrapper.log_eval_metrics] Accuracy(layer_0 - estimator_0 - 10_folds.train_0.predict)=97.52%\n",
      "[ 2018-04-25 01:05:28,046][kfold_wrapper.log_eval_metrics] Accuracy(layer_0 - estimator_0 - 10_folds.train_1.predict)=98.45%\n",
      "[ 2018-04-25 01:05:28,820][kfold_wrapper.log_eval_metrics] Accuracy(layer_0 - estimator_0 - 10_folds.train_2.predict)=97.83%\n",
      "[ 2018-04-25 01:05:29,579][kfold_wrapper.log_eval_metrics] Accuracy(layer_0 - estimator_0 - 10_folds.train_3.predict)=97.21%\n",
      "[ 2018-04-25 01:05:30,332][kfold_wrapper.log_eval_metrics] Accuracy(layer_0 - estimator_0 - 10_folds.train_4.predict)=98.76%\n",
      "[ 2018-04-25 01:05:31,116][kfold_wrapper.log_eval_metrics] Accuracy(layer_0 - estimator_0 - 10_folds.train_5.predict)=96.90%\n",
      "[ 2018-04-25 01:05:31,890][kfold_wrapper.log_eval_metrics] Accuracy(layer_0 - estimator_0 - 10_folds.train_6.predict)=97.83%\n",
      "[ 2018-04-25 01:05:32,673][kfold_wrapper.log_eval_metrics] Accuracy(layer_0 - estimator_0 - 10_folds.train_7.predict)=98.14%\n",
      "[ 2018-04-25 01:05:33,609][kfold_wrapper.log_eval_metrics] Accuracy(layer_0 - estimator_0 - 10_folds.train_8.predict)=98.14%\n",
      "[ 2018-04-25 01:05:34,416][kfold_wrapper.log_eval_metrics] Accuracy(layer_0 - estimator_0 - 10_folds.train_9.predict)=97.83%\n",
      "[ 2018-04-25 01:05:34,552][kfold_wrapper.log_eval_metrics] Accuracy(layer_0 - estimator_0 - 10_folds.train_cv.predict)=97.86%\n",
      "[ 2018-04-25 01:05:34,554][kfold_wrapper.log_eval_metrics] Accuracy(layer_0 - estimator_0 - 10_folds.test.predict)=98.11%\n",
      "[ 2018-04-25 01:05:34,556][cascade_classifier.calc_accuracy] Accuracy(layer_0 - train.classifier_average)=97.86%\n",
      "[ 2018-04-25 01:05:34,558][cascade_classifier.calc_accuracy] Accuracy(layer_0 - test.classifier_average)=98.11%\n",
      "[ 2018-04-25 01:05:34,560][cascade_classifier.fit_transform] [Result][Reach Max Layer] opt_layer_num=1, accuracy_train=97.86%, accuracy_test=98.11%\n"
     ]
    }
   ],
   "source": [
    "             # X_enc is the concatenated predict_proba result of ExtraTrees\n",
    "\n",
    "X_train_enc, X_test_enc = gc.fit_transform(X_train, y_train, X_test=X_test, y_test=y_test)\n",
    "   "
   ]
  },
  {
   "cell_type": "code",
   "execution_count": 9,
   "metadata": {},
   "outputs": [
    {
     "name": "stderr",
     "output_type": "stream",
     "text": [
      "[ 2018-04-25 01:05:34,570][cascade_classifier.transform] X_groups_test.shape=[(1591, 5)]\n",
      "[ 2018-04-25 01:05:34,572][cascade_classifier.transform] group_dims=[5]\n",
      "[ 2018-04-25 01:05:34,574][cascade_classifier.transform] X_test.shape=(1591, 5)\n",
      "[ 2018-04-25 01:05:34,576][cascade_classifier.transform] [layer=0] look_indexs=[0], X_cur_test.shape=(1591, 5)\n"
     ]
    },
    {
     "name": "stdout",
     "output_type": "stream",
     "text": [
      "Test Accuracy of ExtraTrees = 98.114393 %\n"
     ]
    }
   ],
   "source": [
    "# predict\n",
    "y_pred = gc.predict(X_test)\n",
    "acc = accuracy_score(y_test, y_pred)\n",
    "print(\"Test Accuracy of ExtraTrees = {:.6f} %\".format(acc * 100))"
   ]
  },
  {
   "cell_type": "code",
   "execution_count": 10,
   "metadata": {},
   "outputs": [
    {
     "name": "stderr",
     "output_type": "stream",
     "text": [
      "[ 2018-04-25 01:05:36,070][cascade_classifier.transform] X_groups_test.shape=[(1591, 5)]\n",
      "[ 2018-04-25 01:05:36,072][cascade_classifier.transform] group_dims=[5]\n",
      "[ 2018-04-25 01:05:36,074][cascade_classifier.transform] X_test.shape=(1591, 5)\n",
      "[ 2018-04-25 01:05:36,076][cascade_classifier.transform] [layer=0] look_indexs=[0], X_cur_test.shape=(1591, 5)\n"
     ]
    }
   ],
   "source": [
    "# Make data + estimators\n",
    "X_test_enc = gc.transform(X_test)\n",
    "X_train_enc = X_train_enc.reshape((X_train_enc.shape[0], -1))\n",
    "X_test_enc = X_test_enc.reshape((X_test_enc.shape[0], -1))\n",
    "X_train_origin = X_train.reshape((X_train.shape[0], -1))\n",
    "X_test_origin = X_test.reshape((X_test.shape[0], -1))\n",
    "X_train_enc = np.hstack((X_train_origin, X_train_enc))\n",
    "X_test_enc = np.hstack((X_test_origin, X_test_enc))"
   ]
  },
  {
   "cell_type": "code",
   "execution_count": 11,
   "metadata": {},
   "outputs": [
    {
     "name": "stderr",
     "output_type": "stream",
     "text": [
      "[ 2018-04-25 01:05:37,517][cascade_classifier.fit_transform] X_groups_train.shape=[(3228, 7)],y_train.shape=(3228,),X_groups_test.shape=[(1591, 7)],y_test.shape=(1591,)\n",
      "[ 2018-04-25 01:05:37,519][cascade_classifier.fit_transform] group_dims=[7]\n",
      "[ 2018-04-25 01:05:37,521][cascade_classifier.fit_transform] group_starts=[0]\n",
      "[ 2018-04-25 01:05:37,522][cascade_classifier.fit_transform] group_ends=[7]\n",
      "[ 2018-04-25 01:05:37,524][cascade_classifier.fit_transform] X_train.shape=(3228, 7),X_test.shape=(1591, 7)\n",
      "[ 2018-04-25 01:05:37,526][cascade_classifier.fit_transform] [layer=0] look_indexs=[0], X_cur_train.shape=(3228, 7), X_cur_test.shape=(1591, 7)\n",
      "[ 2018-04-25 01:05:38,269][kfold_wrapper.log_eval_metrics] Accuracy(layer_0 - estimator_0 - 10_folds.train_0.predict)=98.45%\n",
      "[ 2018-04-25 01:05:39,058][kfold_wrapper.log_eval_metrics] Accuracy(layer_0 - estimator_0 - 10_folds.train_1.predict)=97.83%\n",
      "[ 2018-04-25 01:05:39,858][kfold_wrapper.log_eval_metrics] Accuracy(layer_0 - estimator_0 - 10_folds.train_2.predict)=98.45%\n",
      "[ 2018-04-25 01:05:40,641][kfold_wrapper.log_eval_metrics] Accuracy(layer_0 - estimator_0 - 10_folds.train_3.predict)=98.45%\n",
      "[ 2018-04-25 01:05:41,416][kfold_wrapper.log_eval_metrics] Accuracy(layer_0 - estimator_0 - 10_folds.train_4.predict)=99.38%\n",
      "[ 2018-04-25 01:05:42,196][kfold_wrapper.log_eval_metrics] Accuracy(layer_0 - estimator_0 - 10_folds.train_5.predict)=97.52%\n",
      "[ 2018-04-25 01:05:42,956][kfold_wrapper.log_eval_metrics] Accuracy(layer_0 - estimator_0 - 10_folds.train_6.predict)=98.76%\n",
      "[ 2018-04-25 01:05:43,713][kfold_wrapper.log_eval_metrics] Accuracy(layer_0 - estimator_0 - 10_folds.train_7.predict)=98.14%\n",
      "[ 2018-04-25 01:05:44,504][kfold_wrapper.log_eval_metrics] Accuracy(layer_0 - estimator_0 - 10_folds.train_8.predict)=98.76%\n",
      "[ 2018-04-25 01:05:45,329][kfold_wrapper.log_eval_metrics] Accuracy(layer_0 - estimator_0 - 10_folds.train_9.predict)=97.52%\n",
      "[ 2018-04-25 01:05:45,482][kfold_wrapper.log_eval_metrics] Accuracy(layer_0 - estimator_0 - 10_folds.train_cv.predict)=98.33%\n",
      "[ 2018-04-25 01:05:45,484][kfold_wrapper.log_eval_metrics] Accuracy(layer_0 - estimator_0 - 10_folds.test.predict)=98.87%\n",
      "[ 2018-04-25 01:05:45,494][cascade_classifier.calc_accuracy] Accuracy(layer_0 - train.classifier_average)=98.33%\n",
      "[ 2018-04-25 01:05:45,495][cascade_classifier.calc_accuracy] Accuracy(layer_0 - test.classifier_average)=98.87%\n",
      "[ 2018-04-25 01:05:45,497][cascade_classifier.fit_transform] [Result][Reach Max Layer] opt_layer_num=1, accuracy_train=98.33%, accuracy_test=98.87%\n"
     ]
    }
   ],
   "source": [
    "# New data\n",
    "X_train=X_train_enc\n",
    "X_test=X_test_enc \n",
    "X_train_enc, X_test_enc = gc.fit_transform(X_train, y_train, X_test=X_test, y_test=y_test)"
   ]
  },
  {
   "cell_type": "code",
   "execution_count": 12,
   "metadata": {},
   "outputs": [
    {
     "name": "stderr",
     "output_type": "stream",
     "text": [
      "[ 2018-04-25 01:05:45,507][cascade_classifier.transform] X_groups_test.shape=[(1591, 7)]\n",
      "[ 2018-04-25 01:05:45,509][cascade_classifier.transform] group_dims=[7]\n",
      "[ 2018-04-25 01:05:45,511][cascade_classifier.transform] X_test.shape=(1591, 7)\n",
      "[ 2018-04-25 01:05:45,513][cascade_classifier.transform] [layer=0] look_indexs=[0], X_cur_test.shape=(1591, 7)\n"
     ]
    },
    {
     "name": "stdout",
     "output_type": "stream",
     "text": [
      "Test Accuracy of ExtraTrees = 98.868636 %\n"
     ]
    }
   ],
   "source": [
    "# predict  data + Es\n",
    "y_pred = gc.predict(X_test)\n",
    "acc = accuracy_score(y_test, y_pred)\n",
    "print(\"Test Accuracy of ExtraTrees = {:.6f} %\".format(acc * 100))"
   ]
  },
  {
   "cell_type": "code",
   "execution_count": 13,
   "metadata": {
    "collapsed": true
   },
   "outputs": [],
   "source": [
    "def update(X_train,X_test):\n",
    "    # update Estimators\n",
    "    M = np.delete(X_train, (-1), axis=1)\n",
    "    X_train= np.delete(M, (-1), axis=1)\n",
    "    M = np.delete(X_test, (-1), axis=1)\n",
    "    X_test = np.delete(M, (-1), axis=1)\n",
    "    return X_train,X_test\n",
    "\n",
    "def newdata(X_test_enc, X_train_enc):\n",
    "    # Make Data + Estimators\n",
    "    X_train_origin = X_train.reshape((X_train.shape[0], -1))\n",
    "    X_test_origin = X_test.reshape((X_test.shape[0], -1))\n",
    "    X_train_enc = np.hstack((X_train_origin, X_train_enc))\n",
    "    X_test_enc = np.hstack((X_test_origin, X_test_enc))\n",
    "    return X_test_enc, X_train_enc\n",
    "\n",
    "def affiche():\n",
    "    # predict\n",
    "    y_pred = gc.predict(X_test)\n",
    "    acc = accuracy_score(y_test, y_pred)\n",
    "    print(\"Test Accuracy of ExtraTrees = {:.6f} %\".format(acc * 100),i,'fois')"
   ]
  },
  {
   "cell_type": "code",
   "execution_count": 14,
   "metadata": {},
   "outputs": [
    {
     "name": "stderr",
     "output_type": "stream",
     "text": [
      "[ 2018-04-25 01:05:46,986][cascade_classifier.fit_transform] X_groups_train.shape=[(3228, 7)],y_train.shape=(3228,),X_groups_test.shape=[(1591, 7)],y_test.shape=(1591,)\n",
      "[ 2018-04-25 01:05:46,988][cascade_classifier.fit_transform] group_dims=[7]\n",
      "[ 2018-04-25 01:05:46,989][cascade_classifier.fit_transform] group_starts=[0]\n",
      "[ 2018-04-25 01:05:46,991][cascade_classifier.fit_transform] group_ends=[7]\n",
      "[ 2018-04-25 01:05:46,993][cascade_classifier.fit_transform] X_train.shape=(3228, 7),X_test.shape=(1591, 7)\n",
      "[ 2018-04-25 01:05:46,994][cascade_classifier.fit_transform] [layer=0] look_indexs=[0], X_cur_train.shape=(3228, 7), X_cur_test.shape=(1591, 7)\n",
      "[ 2018-04-25 01:05:47,594][kfold_wrapper.log_eval_metrics] Accuracy(layer_0 - estimator_0 - 10_folds.train_0.predict)=98.76%\n",
      "[ 2018-04-25 01:05:48,384][kfold_wrapper.log_eval_metrics] Accuracy(layer_0 - estimator_0 - 10_folds.train_1.predict)=97.52%\n",
      "[ 2018-04-25 01:05:49,249][kfold_wrapper.log_eval_metrics] Accuracy(layer_0 - estimator_0 - 10_folds.train_2.predict)=98.76%\n",
      "[ 2018-04-25 01:05:49,988][kfold_wrapper.log_eval_metrics] Accuracy(layer_0 - estimator_0 - 10_folds.train_3.predict)=98.14%\n",
      "[ 2018-04-25 01:05:50,804][kfold_wrapper.log_eval_metrics] Accuracy(layer_0 - estimator_0 - 10_folds.train_4.predict)=99.07%\n",
      "[ 2018-04-25 01:05:51,601][kfold_wrapper.log_eval_metrics] Accuracy(layer_0 - estimator_0 - 10_folds.train_5.predict)=96.90%\n",
      "[ 2018-04-25 01:05:52,395][kfold_wrapper.log_eval_metrics] Accuracy(layer_0 - estimator_0 - 10_folds.train_6.predict)=98.45%\n",
      "[ 2018-04-25 01:05:53,203][kfold_wrapper.log_eval_metrics] Accuracy(layer_0 - estimator_0 - 10_folds.train_7.predict)=98.14%\n",
      "[ 2018-04-25 01:05:53,977][kfold_wrapper.log_eval_metrics] Accuracy(layer_0 - estimator_0 - 10_folds.train_8.predict)=98.45%\n",
      "[ 2018-04-25 01:05:54,729][kfold_wrapper.log_eval_metrics] Accuracy(layer_0 - estimator_0 - 10_folds.train_9.predict)=97.52%\n",
      "[ 2018-04-25 01:05:54,865][kfold_wrapper.log_eval_metrics] Accuracy(layer_0 - estimator_0 - 10_folds.train_cv.predict)=98.17%\n",
      "[ 2018-04-25 01:05:54,867][kfold_wrapper.log_eval_metrics] Accuracy(layer_0 - estimator_0 - 10_folds.test.predict)=98.81%\n",
      "[ 2018-04-25 01:05:54,879][cascade_classifier.calc_accuracy] Accuracy(layer_0 - train.classifier_average)=98.17%\n",
      "[ 2018-04-25 01:05:54,881][cascade_classifier.calc_accuracy] Accuracy(layer_0 - test.classifier_average)=98.81%\n",
      "[ 2018-04-25 01:05:54,882][cascade_classifier.fit_transform] [Result][Reach Max Layer] opt_layer_num=1, accuracy_train=98.17%, accuracy_test=98.81%\n",
      "[ 2018-04-25 01:05:54,884][cascade_classifier.transform] X_groups_test.shape=[(1591, 7)]\n",
      "[ 2018-04-25 01:05:54,886][cascade_classifier.transform] group_dims=[7]\n",
      "[ 2018-04-25 01:05:54,887][cascade_classifier.transform] X_test.shape=(1591, 7)\n",
      "[ 2018-04-25 01:05:54,889][cascade_classifier.transform] [layer=0] look_indexs=[0], X_cur_test.shape=(1591, 7)\n",
      "[ 2018-04-25 01:05:56,442][cascade_classifier.fit_transform] X_groups_train.shape=[(3228, 7)],y_train.shape=(3228,),X_groups_test.shape=[(1591, 7)],y_test.shape=(1591,)\n",
      "[ 2018-04-25 01:05:56,444][cascade_classifier.fit_transform] group_dims=[7]\n",
      "[ 2018-04-25 01:05:56,446][cascade_classifier.fit_transform] group_starts=[0]\n",
      "[ 2018-04-25 01:05:56,447][cascade_classifier.fit_transform] group_ends=[7]\n",
      "[ 2018-04-25 01:05:56,449][cascade_classifier.fit_transform] X_train.shape=(3228, 7),X_test.shape=(1591, 7)\n",
      "[ 2018-04-25 01:05:56,451][cascade_classifier.fit_transform] [layer=0] look_indexs=[0], X_cur_train.shape=(3228, 7), X_cur_test.shape=(1591, 7)\n"
     ]
    },
    {
     "name": "stdout",
     "output_type": "stream",
     "text": [
      "('Test Accuracy of ExtraTrees = 98.805783 %', 0, 'fois')\n"
     ]
    },
    {
     "name": "stderr",
     "output_type": "stream",
     "text": [
      "[ 2018-04-25 01:05:57,121][kfold_wrapper.log_eval_metrics] Accuracy(layer_0 - estimator_0 - 10_folds.train_0.predict)=97.83%\n",
      "[ 2018-04-25 01:05:57,894][kfold_wrapper.log_eval_metrics] Accuracy(layer_0 - estimator_0 - 10_folds.train_1.predict)=97.52%\n",
      "[ 2018-04-25 01:05:58,651][kfold_wrapper.log_eval_metrics] Accuracy(layer_0 - estimator_0 - 10_folds.train_2.predict)=98.76%\n",
      "[ 2018-04-25 01:05:59,510][kfold_wrapper.log_eval_metrics] Accuracy(layer_0 - estimator_0 - 10_folds.train_3.predict)=97.52%\n",
      "[ 2018-04-25 01:06:00,264][kfold_wrapper.log_eval_metrics] Accuracy(layer_0 - estimator_0 - 10_folds.train_4.predict)=99.07%\n",
      "[ 2018-04-25 01:06:01,022][kfold_wrapper.log_eval_metrics] Accuracy(layer_0 - estimator_0 - 10_folds.train_5.predict)=96.90%\n",
      "[ 2018-04-25 01:06:01,768][kfold_wrapper.log_eval_metrics] Accuracy(layer_0 - estimator_0 - 10_folds.train_6.predict)=98.45%\n",
      "[ 2018-04-25 01:06:02,587][kfold_wrapper.log_eval_metrics] Accuracy(layer_0 - estimator_0 - 10_folds.train_7.predict)=98.14%\n",
      "[ 2018-04-25 01:06:03,328][kfold_wrapper.log_eval_metrics] Accuracy(layer_0 - estimator_0 - 10_folds.train_8.predict)=98.45%\n",
      "[ 2018-04-25 01:06:04,095][kfold_wrapper.log_eval_metrics] Accuracy(layer_0 - estimator_0 - 10_folds.train_9.predict)=97.83%\n",
      "[ 2018-04-25 01:06:04,235][kfold_wrapper.log_eval_metrics] Accuracy(layer_0 - estimator_0 - 10_folds.train_cv.predict)=98.05%\n",
      "[ 2018-04-25 01:06:04,237][kfold_wrapper.log_eval_metrics] Accuracy(layer_0 - estimator_0 - 10_folds.test.predict)=98.11%\n",
      "[ 2018-04-25 01:06:04,248][cascade_classifier.calc_accuracy] Accuracy(layer_0 - train.classifier_average)=98.05%\n",
      "[ 2018-04-25 01:06:04,250][cascade_classifier.calc_accuracy] Accuracy(layer_0 - test.classifier_average)=98.11%\n",
      "[ 2018-04-25 01:06:04,251][cascade_classifier.fit_transform] [Result][Reach Max Layer] opt_layer_num=1, accuracy_train=98.05%, accuracy_test=98.11%\n",
      "[ 2018-04-25 01:06:04,253][cascade_classifier.transform] X_groups_test.shape=[(1591, 7)]\n",
      "[ 2018-04-25 01:06:04,256][cascade_classifier.transform] group_dims=[7]\n",
      "[ 2018-04-25 01:06:04,257][cascade_classifier.transform] X_test.shape=(1591, 7)\n",
      "[ 2018-04-25 01:06:04,259][cascade_classifier.transform] [layer=0] look_indexs=[0], X_cur_test.shape=(1591, 7)\n",
      "[ 2018-04-25 01:06:05,714][cascade_classifier.fit_transform] X_groups_train.shape=[(3228, 7)],y_train.shape=(3228,),X_groups_test.shape=[(1591, 7)],y_test.shape=(1591,)\n",
      "[ 2018-04-25 01:06:05,716][cascade_classifier.fit_transform] group_dims=[7]\n",
      "[ 2018-04-25 01:06:05,717][cascade_classifier.fit_transform] group_starts=[0]\n",
      "[ 2018-04-25 01:06:05,719][cascade_classifier.fit_transform] group_ends=[7]\n",
      "[ 2018-04-25 01:06:05,720][cascade_classifier.fit_transform] X_train.shape=(3228, 7),X_test.shape=(1591, 7)\n",
      "[ 2018-04-25 01:06:05,722][cascade_classifier.fit_transform] [layer=0] look_indexs=[0], X_cur_train.shape=(3228, 7), X_cur_test.shape=(1591, 7)\n"
     ]
    },
    {
     "name": "stdout",
     "output_type": "stream",
     "text": [
      "('Test Accuracy of ExtraTrees = 98.114393 %', 1, 'fois')\n"
     ]
    },
    {
     "name": "stderr",
     "output_type": "stream",
     "text": [
      "[ 2018-04-25 01:06:06,347][kfold_wrapper.log_eval_metrics] Accuracy(layer_0 - estimator_0 - 10_folds.train_0.predict)=98.14%\n",
      "[ 2018-04-25 01:06:07,150][kfold_wrapper.log_eval_metrics] Accuracy(layer_0 - estimator_0 - 10_folds.train_1.predict)=98.45%\n",
      "[ 2018-04-25 01:06:08,133][kfold_wrapper.log_eval_metrics] Accuracy(layer_0 - estimator_0 - 10_folds.train_2.predict)=98.45%\n",
      "[ 2018-04-25 01:06:08,975][kfold_wrapper.log_eval_metrics] Accuracy(layer_0 - estimator_0 - 10_folds.train_3.predict)=98.14%\n",
      "[ 2018-04-25 01:06:09,745][kfold_wrapper.log_eval_metrics] Accuracy(layer_0 - estimator_0 - 10_folds.train_4.predict)=99.38%\n",
      "[ 2018-04-25 01:06:10,575][kfold_wrapper.log_eval_metrics] Accuracy(layer_0 - estimator_0 - 10_folds.train_5.predict)=97.52%\n",
      "[ 2018-04-25 01:06:11,353][kfold_wrapper.log_eval_metrics] Accuracy(layer_0 - estimator_0 - 10_folds.train_6.predict)=98.76%\n",
      "[ 2018-04-25 01:06:12,115][kfold_wrapper.log_eval_metrics] Accuracy(layer_0 - estimator_0 - 10_folds.train_7.predict)=98.76%\n",
      "[ 2018-04-25 01:06:12,920][kfold_wrapper.log_eval_metrics] Accuracy(layer_0 - estimator_0 - 10_folds.train_8.predict)=99.07%\n",
      "[ 2018-04-25 01:06:13,813][kfold_wrapper.log_eval_metrics] Accuracy(layer_0 - estimator_0 - 10_folds.train_9.predict)=97.52%\n",
      "[ 2018-04-25 01:06:13,957][kfold_wrapper.log_eval_metrics] Accuracy(layer_0 - estimator_0 - 10_folds.train_cv.predict)=98.42%\n",
      "[ 2018-04-25 01:06:13,958][kfold_wrapper.log_eval_metrics] Accuracy(layer_0 - estimator_0 - 10_folds.test.predict)=98.62%\n",
      "[ 2018-04-25 01:06:13,969][cascade_classifier.calc_accuracy] Accuracy(layer_0 - train.classifier_average)=98.42%\n",
      "[ 2018-04-25 01:06:13,970][cascade_classifier.calc_accuracy] Accuracy(layer_0 - test.classifier_average)=98.62%\n",
      "[ 2018-04-25 01:06:13,972][cascade_classifier.fit_transform] [Result][Reach Max Layer] opt_layer_num=1, accuracy_train=98.42%, accuracy_test=98.62%\n",
      "[ 2018-04-25 01:06:13,973][cascade_classifier.transform] X_groups_test.shape=[(1591, 7)]\n",
      "[ 2018-04-25 01:06:13,975][cascade_classifier.transform] group_dims=[7]\n",
      "[ 2018-04-25 01:06:13,977][cascade_classifier.transform] X_test.shape=(1591, 7)\n",
      "[ 2018-04-25 01:06:13,978][cascade_classifier.transform] [layer=0] look_indexs=[0], X_cur_test.shape=(1591, 7)\n",
      "[ 2018-04-25 01:06:15,408][cascade_classifier.fit_transform] X_groups_train.shape=[(3228, 7)],y_train.shape=(3228,),X_groups_test.shape=[(1591, 7)],y_test.shape=(1591,)\n",
      "[ 2018-04-25 01:06:15,410][cascade_classifier.fit_transform] group_dims=[7]\n",
      "[ 2018-04-25 01:06:15,412][cascade_classifier.fit_transform] group_starts=[0]\n",
      "[ 2018-04-25 01:06:15,413][cascade_classifier.fit_transform] group_ends=[7]\n",
      "[ 2018-04-25 01:06:15,415][cascade_classifier.fit_transform] X_train.shape=(3228, 7),X_test.shape=(1591, 7)\n",
      "[ 2018-04-25 01:06:15,417][cascade_classifier.fit_transform] [layer=0] look_indexs=[0], X_cur_train.shape=(3228, 7), X_cur_test.shape=(1591, 7)\n"
     ]
    },
    {
     "name": "stdout",
     "output_type": "stream",
     "text": [
      "('Test Accuracy of ExtraTrees = 98.617222 %', 2, 'fois')\n"
     ]
    },
    {
     "name": "stderr",
     "output_type": "stream",
     "text": [
      "[ 2018-04-25 01:06:16,060][kfold_wrapper.log_eval_metrics] Accuracy(layer_0 - estimator_0 - 10_folds.train_0.predict)=97.83%\n",
      "[ 2018-04-25 01:06:16,852][kfold_wrapper.log_eval_metrics] Accuracy(layer_0 - estimator_0 - 10_folds.train_1.predict)=98.14%\n",
      "[ 2018-04-25 01:06:17,646][kfold_wrapper.log_eval_metrics] Accuracy(layer_0 - estimator_0 - 10_folds.train_2.predict)=98.14%\n",
      "[ 2018-04-25 01:06:18,434][kfold_wrapper.log_eval_metrics] Accuracy(layer_0 - estimator_0 - 10_folds.train_3.predict)=97.21%\n",
      "[ 2018-04-25 01:06:19,172][kfold_wrapper.log_eval_metrics] Accuracy(layer_0 - estimator_0 - 10_folds.train_4.predict)=99.07%\n",
      "[ 2018-04-25 01:06:20,009][kfold_wrapper.log_eval_metrics] Accuracy(layer_0 - estimator_0 - 10_folds.train_5.predict)=97.52%\n",
      "[ 2018-04-25 01:06:20,887][kfold_wrapper.log_eval_metrics] Accuracy(layer_0 - estimator_0 - 10_folds.train_6.predict)=98.76%\n",
      "[ 2018-04-25 01:06:21,661][kfold_wrapper.log_eval_metrics] Accuracy(layer_0 - estimator_0 - 10_folds.train_7.predict)=97.52%\n",
      "[ 2018-04-25 01:06:22,448][kfold_wrapper.log_eval_metrics] Accuracy(layer_0 - estimator_0 - 10_folds.train_8.predict)=99.07%\n",
      "[ 2018-04-25 01:06:23,223][kfold_wrapper.log_eval_metrics] Accuracy(layer_0 - estimator_0 - 10_folds.train_9.predict)=97.52%\n",
      "[ 2018-04-25 01:06:23,368][kfold_wrapper.log_eval_metrics] Accuracy(layer_0 - estimator_0 - 10_folds.train_cv.predict)=98.08%\n",
      "[ 2018-04-25 01:06:23,370][kfold_wrapper.log_eval_metrics] Accuracy(layer_0 - estimator_0 - 10_folds.test.predict)=98.37%\n",
      "[ 2018-04-25 01:06:23,378][cascade_classifier.calc_accuracy] Accuracy(layer_0 - train.classifier_average)=98.08%\n",
      "[ 2018-04-25 01:06:23,380][cascade_classifier.calc_accuracy] Accuracy(layer_0 - test.classifier_average)=98.37%\n",
      "[ 2018-04-25 01:06:23,381][cascade_classifier.fit_transform] [Result][Reach Max Layer] opt_layer_num=1, accuracy_train=98.08%, accuracy_test=98.37%\n",
      "[ 2018-04-25 01:06:23,383][cascade_classifier.transform] X_groups_test.shape=[(1591, 7)]\n",
      "[ 2018-04-25 01:06:23,385][cascade_classifier.transform] group_dims=[7]\n",
      "[ 2018-04-25 01:06:23,386][cascade_classifier.transform] X_test.shape=(1591, 7)\n",
      "[ 2018-04-25 01:06:23,388][cascade_classifier.transform] [layer=0] look_indexs=[0], X_cur_test.shape=(1591, 7)\n",
      "[ 2018-04-25 01:06:24,836][cascade_classifier.fit_transform] X_groups_train.shape=[(3228, 7)],y_train.shape=(3228,),X_groups_test.shape=[(1591, 7)],y_test.shape=(1591,)\n",
      "[ 2018-04-25 01:06:24,838][cascade_classifier.fit_transform] group_dims=[7]\n",
      "[ 2018-04-25 01:06:24,840][cascade_classifier.fit_transform] group_starts=[0]\n",
      "[ 2018-04-25 01:06:24,841][cascade_classifier.fit_transform] group_ends=[7]\n",
      "[ 2018-04-25 01:06:24,843][cascade_classifier.fit_transform] X_train.shape=(3228, 7),X_test.shape=(1591, 7)\n",
      "[ 2018-04-25 01:06:24,845][cascade_classifier.fit_transform] [layer=0] look_indexs=[0], X_cur_train.shape=(3228, 7), X_cur_test.shape=(1591, 7)\n"
     ]
    },
    {
     "name": "stdout",
     "output_type": "stream",
     "text": [
      "('Test Accuracy of ExtraTrees = 98.365808 %', 3, 'fois')\n"
     ]
    },
    {
     "name": "stderr",
     "output_type": "stream",
     "text": [
      "[ 2018-04-25 01:06:25,488][kfold_wrapper.log_eval_metrics] Accuracy(layer_0 - estimator_0 - 10_folds.train_0.predict)=98.14%\n",
      "[ 2018-04-25 01:06:26,291][kfold_wrapper.log_eval_metrics] Accuracy(layer_0 - estimator_0 - 10_folds.train_1.predict)=98.14%\n",
      "[ 2018-04-25 01:06:27,103][kfold_wrapper.log_eval_metrics] Accuracy(layer_0 - estimator_0 - 10_folds.train_2.predict)=98.14%\n",
      "[ 2018-04-25 01:06:27,880][kfold_wrapper.log_eval_metrics] Accuracy(layer_0 - estimator_0 - 10_folds.train_3.predict)=97.52%\n",
      "[ 2018-04-25 01:06:28,656][kfold_wrapper.log_eval_metrics] Accuracy(layer_0 - estimator_0 - 10_folds.train_4.predict)=99.07%\n",
      "[ 2018-04-25 01:06:29,382][kfold_wrapper.log_eval_metrics] Accuracy(layer_0 - estimator_0 - 10_folds.train_5.predict)=97.83%\n",
      "[ 2018-04-25 01:06:30,196][kfold_wrapper.log_eval_metrics] Accuracy(layer_0 - estimator_0 - 10_folds.train_6.predict)=98.45%\n",
      "[ 2018-04-25 01:06:30,971][kfold_wrapper.log_eval_metrics] Accuracy(layer_0 - estimator_0 - 10_folds.train_7.predict)=97.52%\n",
      "[ 2018-04-25 01:06:31,736][kfold_wrapper.log_eval_metrics] Accuracy(layer_0 - estimator_0 - 10_folds.train_8.predict)=98.14%\n",
      "[ 2018-04-25 01:06:32,513][kfold_wrapper.log_eval_metrics] Accuracy(layer_0 - estimator_0 - 10_folds.train_9.predict)=97.83%\n",
      "[ 2018-04-25 01:06:32,656][kfold_wrapper.log_eval_metrics] Accuracy(layer_0 - estimator_0 - 10_folds.train_cv.predict)=98.08%\n",
      "[ 2018-04-25 01:06:32,658][kfold_wrapper.log_eval_metrics] Accuracy(layer_0 - estimator_0 - 10_folds.test.predict)=98.18%\n",
      "[ 2018-04-25 01:06:32,662][cascade_classifier.calc_accuracy] Accuracy(layer_0 - train.classifier_average)=98.08%\n",
      "[ 2018-04-25 01:06:32,664][cascade_classifier.calc_accuracy] Accuracy(layer_0 - test.classifier_average)=98.18%\n",
      "[ 2018-04-25 01:06:32,666][cascade_classifier.fit_transform] [Result][Reach Max Layer] opt_layer_num=1, accuracy_train=98.08%, accuracy_test=98.18%\n",
      "[ 2018-04-25 01:06:32,667][cascade_classifier.transform] X_groups_test.shape=[(1591, 7)]\n",
      "[ 2018-04-25 01:06:32,669][cascade_classifier.transform] group_dims=[7]\n",
      "[ 2018-04-25 01:06:32,671][cascade_classifier.transform] X_test.shape=(1591, 7)\n",
      "[ 2018-04-25 01:06:32,672][cascade_classifier.transform] [layer=0] look_indexs=[0], X_cur_test.shape=(1591, 7)\n",
      "[ 2018-04-25 01:06:34,074][cascade_classifier.fit_transform] X_groups_train.shape=[(3228, 7)],y_train.shape=(3228,),X_groups_test.shape=[(1591, 7)],y_test.shape=(1591,)\n",
      "[ 2018-04-25 01:06:34,076][cascade_classifier.fit_transform] group_dims=[7]\n",
      "[ 2018-04-25 01:06:34,077][cascade_classifier.fit_transform] group_starts=[0]\n",
      "[ 2018-04-25 01:06:34,078][cascade_classifier.fit_transform] group_ends=[7]\n",
      "[ 2018-04-25 01:06:34,080][cascade_classifier.fit_transform] X_train.shape=(3228, 7),X_test.shape=(1591, 7)\n",
      "[ 2018-04-25 01:06:34,082][cascade_classifier.fit_transform] [layer=0] look_indexs=[0], X_cur_train.shape=(3228, 7), X_cur_test.shape=(1591, 7)\n"
     ]
    },
    {
     "name": "stdout",
     "output_type": "stream",
     "text": [
      "('Test Accuracy of ExtraTrees = 98.177247 %', 4, 'fois')\n"
     ]
    },
    {
     "name": "stderr",
     "output_type": "stream",
     "text": [
      "[ 2018-04-25 01:06:34,715][kfold_wrapper.log_eval_metrics] Accuracy(layer_0 - estimator_0 - 10_folds.train_0.predict)=97.52%\n",
      "[ 2018-04-25 01:06:35,436][kfold_wrapper.log_eval_metrics] Accuracy(layer_0 - estimator_0 - 10_folds.train_1.predict)=97.83%\n",
      "[ 2018-04-25 01:06:36,151][kfold_wrapper.log_eval_metrics] Accuracy(layer_0 - estimator_0 - 10_folds.train_2.predict)=97.83%\n",
      "[ 2018-04-25 01:06:36,937][kfold_wrapper.log_eval_metrics] Accuracy(layer_0 - estimator_0 - 10_folds.train_3.predict)=97.52%\n",
      "[ 2018-04-25 01:06:37,741][kfold_wrapper.log_eval_metrics] Accuracy(layer_0 - estimator_0 - 10_folds.train_4.predict)=99.38%\n",
      "[ 2018-04-25 01:06:38,556][kfold_wrapper.log_eval_metrics] Accuracy(layer_0 - estimator_0 - 10_folds.train_5.predict)=97.52%\n",
      "[ 2018-04-25 01:06:39,364][kfold_wrapper.log_eval_metrics] Accuracy(layer_0 - estimator_0 - 10_folds.train_6.predict)=98.14%\n",
      "[ 2018-04-25 01:06:40,168][kfold_wrapper.log_eval_metrics] Accuracy(layer_0 - estimator_0 - 10_folds.train_7.predict)=97.52%\n",
      "[ 2018-04-25 01:06:40,950][kfold_wrapper.log_eval_metrics] Accuracy(layer_0 - estimator_0 - 10_folds.train_8.predict)=98.14%\n",
      "[ 2018-04-25 01:06:41,709][kfold_wrapper.log_eval_metrics] Accuracy(layer_0 - estimator_0 - 10_folds.train_9.predict)=97.83%\n",
      "[ 2018-04-25 01:06:41,852][kfold_wrapper.log_eval_metrics] Accuracy(layer_0 - estimator_0 - 10_folds.train_cv.predict)=97.92%\n",
      "[ 2018-04-25 01:06:41,854][kfold_wrapper.log_eval_metrics] Accuracy(layer_0 - estimator_0 - 10_folds.test.predict)=98.43%\n",
      "[ 2018-04-25 01:06:41,859][cascade_classifier.calc_accuracy] Accuracy(layer_0 - train.classifier_average)=97.92%\n",
      "[ 2018-04-25 01:06:41,861][cascade_classifier.calc_accuracy] Accuracy(layer_0 - test.classifier_average)=98.43%\n",
      "[ 2018-04-25 01:06:41,863][cascade_classifier.fit_transform] [Result][Reach Max Layer] opt_layer_num=1, accuracy_train=97.92%, accuracy_test=98.43%\n",
      "[ 2018-04-25 01:06:41,865][cascade_classifier.transform] X_groups_test.shape=[(1591, 7)]\n",
      "[ 2018-04-25 01:06:41,867][cascade_classifier.transform] group_dims=[7]\n",
      "[ 2018-04-25 01:06:41,868][cascade_classifier.transform] X_test.shape=(1591, 7)\n",
      "[ 2018-04-25 01:06:41,870][cascade_classifier.transform] [layer=0] look_indexs=[0], X_cur_test.shape=(1591, 7)\n",
      "[ 2018-04-25 01:06:43,292][cascade_classifier.fit_transform] X_groups_train.shape=[(3228, 7)],y_train.shape=(3228,),X_groups_test.shape=[(1591, 7)],y_test.shape=(1591,)\n",
      "[ 2018-04-25 01:06:43,294][cascade_classifier.fit_transform] group_dims=[7]\n",
      "[ 2018-04-25 01:06:43,296][cascade_classifier.fit_transform] group_starts=[0]\n",
      "[ 2018-04-25 01:06:43,297][cascade_classifier.fit_transform] group_ends=[7]\n",
      "[ 2018-04-25 01:06:43,299][cascade_classifier.fit_transform] X_train.shape=(3228, 7),X_test.shape=(1591, 7)\n",
      "[ 2018-04-25 01:06:43,301][cascade_classifier.fit_transform] [layer=0] look_indexs=[0], X_cur_train.shape=(3228, 7), X_cur_test.shape=(1591, 7)\n"
     ]
    },
    {
     "name": "stdout",
     "output_type": "stream",
     "text": [
      "('Test Accuracy of ExtraTrees = 98.428661 %', 5, 'fois')\n"
     ]
    },
    {
     "name": "stderr",
     "output_type": "stream",
     "text": [
      "[ 2018-04-25 01:06:43,937][kfold_wrapper.log_eval_metrics] Accuracy(layer_0 - estimator_0 - 10_folds.train_0.predict)=97.21%\n",
      "[ 2018-04-25 01:06:44,727][kfold_wrapper.log_eval_metrics] Accuracy(layer_0 - estimator_0 - 10_folds.train_1.predict)=96.59%\n",
      "[ 2018-04-25 01:06:45,481][kfold_wrapper.log_eval_metrics] Accuracy(layer_0 - estimator_0 - 10_folds.train_2.predict)=97.83%\n",
      "[ 2018-04-25 01:06:46,285][kfold_wrapper.log_eval_metrics] Accuracy(layer_0 - estimator_0 - 10_folds.train_3.predict)=97.83%\n",
      "[ 2018-04-25 01:06:47,124][kfold_wrapper.log_eval_metrics] Accuracy(layer_0 - estimator_0 - 10_folds.train_4.predict)=99.38%\n",
      "[ 2018-04-25 01:06:47,922][kfold_wrapper.log_eval_metrics] Accuracy(layer_0 - estimator_0 - 10_folds.train_5.predict)=97.21%\n",
      "[ 2018-04-25 01:06:48,673][kfold_wrapper.log_eval_metrics] Accuracy(layer_0 - estimator_0 - 10_folds.train_6.predict)=97.52%\n",
      "[ 2018-04-25 01:06:49,422][kfold_wrapper.log_eval_metrics] Accuracy(layer_0 - estimator_0 - 10_folds.train_7.predict)=97.83%\n",
      "[ 2018-04-25 01:06:50,172][kfold_wrapper.log_eval_metrics] Accuracy(layer_0 - estimator_0 - 10_folds.train_8.predict)=99.07%\n",
      "[ 2018-04-25 01:06:51,004][kfold_wrapper.log_eval_metrics] Accuracy(layer_0 - estimator_0 - 10_folds.train_9.predict)=96.89%\n",
      "[ 2018-04-25 01:06:51,155][kfold_wrapper.log_eval_metrics] Accuracy(layer_0 - estimator_0 - 10_folds.train_cv.predict)=97.74%\n",
      "[ 2018-04-25 01:06:51,157][kfold_wrapper.log_eval_metrics] Accuracy(layer_0 - estimator_0 - 10_folds.test.predict)=98.68%\n",
      "[ 2018-04-25 01:06:51,161][cascade_classifier.calc_accuracy] Accuracy(layer_0 - train.classifier_average)=97.74%\n",
      "[ 2018-04-25 01:06:51,163][cascade_classifier.calc_accuracy] Accuracy(layer_0 - test.classifier_average)=98.68%\n",
      "[ 2018-04-25 01:06:51,164][cascade_classifier.fit_transform] [Result][Reach Max Layer] opt_layer_num=1, accuracy_train=97.74%, accuracy_test=98.68%\n",
      "[ 2018-04-25 01:06:51,166][cascade_classifier.transform] X_groups_test.shape=[(1591, 7)]\n",
      "[ 2018-04-25 01:06:51,167][cascade_classifier.transform] group_dims=[7]\n",
      "[ 2018-04-25 01:06:51,169][cascade_classifier.transform] X_test.shape=(1591, 7)\n",
      "[ 2018-04-25 01:06:51,170][cascade_classifier.transform] [layer=0] look_indexs=[0], X_cur_test.shape=(1591, 7)\n",
      "[ 2018-04-25 01:06:52,722][cascade_classifier.fit_transform] X_groups_train.shape=[(3228, 7)],y_train.shape=(3228,),X_groups_test.shape=[(1591, 7)],y_test.shape=(1591,)\n",
      "[ 2018-04-25 01:06:52,724][cascade_classifier.fit_transform] group_dims=[7]\n",
      "[ 2018-04-25 01:06:52,726][cascade_classifier.fit_transform] group_starts=[0]\n",
      "[ 2018-04-25 01:06:52,728][cascade_classifier.fit_transform] group_ends=[7]\n",
      "[ 2018-04-25 01:06:52,730][cascade_classifier.fit_transform] X_train.shape=(3228, 7),X_test.shape=(1591, 7)\n",
      "[ 2018-04-25 01:06:52,732][cascade_classifier.fit_transform] [layer=0] look_indexs=[0], X_cur_train.shape=(3228, 7), X_cur_test.shape=(1591, 7)\n"
     ]
    },
    {
     "name": "stdout",
     "output_type": "stream",
     "text": [
      "('Test Accuracy of ExtraTrees = 98.680075 %', 6, 'fois')\n"
     ]
    },
    {
     "name": "stderr",
     "output_type": "stream",
     "text": [
      "[ 2018-04-25 01:06:53,348][kfold_wrapper.log_eval_metrics] Accuracy(layer_0 - estimator_0 - 10_folds.train_0.predict)=98.14%\n",
      "[ 2018-04-25 01:06:54,120][kfold_wrapper.log_eval_metrics] Accuracy(layer_0 - estimator_0 - 10_folds.train_1.predict)=97.52%\n",
      "[ 2018-04-25 01:06:54,854][kfold_wrapper.log_eval_metrics] Accuracy(layer_0 - estimator_0 - 10_folds.train_2.predict)=98.76%\n",
      "[ 2018-04-25 01:06:55,669][kfold_wrapper.log_eval_metrics] Accuracy(layer_0 - estimator_0 - 10_folds.train_3.predict)=97.21%\n",
      "[ 2018-04-25 01:06:56,420][kfold_wrapper.log_eval_metrics] Accuracy(layer_0 - estimator_0 - 10_folds.train_4.predict)=99.38%\n",
      "[ 2018-04-25 01:06:57,215][kfold_wrapper.log_eval_metrics] Accuracy(layer_0 - estimator_0 - 10_folds.train_5.predict)=97.83%\n",
      "[ 2018-04-25 01:06:58,007][kfold_wrapper.log_eval_metrics] Accuracy(layer_0 - estimator_0 - 10_folds.train_6.predict)=97.21%\n",
      "[ 2018-04-25 01:06:58,800][kfold_wrapper.log_eval_metrics] Accuracy(layer_0 - estimator_0 - 10_folds.train_7.predict)=98.14%\n",
      "[ 2018-04-25 01:06:59,582][kfold_wrapper.log_eval_metrics] Accuracy(layer_0 - estimator_0 - 10_folds.train_8.predict)=98.76%\n",
      "[ 2018-04-25 01:07:00,335][kfold_wrapper.log_eval_metrics] Accuracy(layer_0 - estimator_0 - 10_folds.train_9.predict)=96.89%\n",
      "[ 2018-04-25 01:07:00,487][kfold_wrapper.log_eval_metrics] Accuracy(layer_0 - estimator_0 - 10_folds.train_cv.predict)=97.99%\n",
      "[ 2018-04-25 01:07:00,489][kfold_wrapper.log_eval_metrics] Accuracy(layer_0 - estimator_0 - 10_folds.test.predict)=98.81%\n",
      "[ 2018-04-25 01:07:00,500][cascade_classifier.calc_accuracy] Accuracy(layer_0 - train.classifier_average)=97.99%\n",
      "[ 2018-04-25 01:07:00,502][cascade_classifier.calc_accuracy] Accuracy(layer_0 - test.classifier_average)=98.81%\n",
      "[ 2018-04-25 01:07:00,503][cascade_classifier.fit_transform] [Result][Reach Max Layer] opt_layer_num=1, accuracy_train=97.99%, accuracy_test=98.81%\n",
      "[ 2018-04-25 01:07:00,505][cascade_classifier.transform] X_groups_test.shape=[(1591, 7)]\n",
      "[ 2018-04-25 01:07:00,508][cascade_classifier.transform] group_dims=[7]\n",
      "[ 2018-04-25 01:07:00,509][cascade_classifier.transform] X_test.shape=(1591, 7)\n",
      "[ 2018-04-25 01:07:00,511][cascade_classifier.transform] [layer=0] look_indexs=[0], X_cur_test.shape=(1591, 7)\n",
      "[ 2018-04-25 01:07:02,070][cascade_classifier.fit_transform] X_groups_train.shape=[(3228, 7)],y_train.shape=(3228,),X_groups_test.shape=[(1591, 7)],y_test.shape=(1591,)\n",
      "[ 2018-04-25 01:07:02,072][cascade_classifier.fit_transform] group_dims=[7]\n",
      "[ 2018-04-25 01:07:02,073][cascade_classifier.fit_transform] group_starts=[0]\n",
      "[ 2018-04-25 01:07:02,075][cascade_classifier.fit_transform] group_ends=[7]\n",
      "[ 2018-04-25 01:07:02,077][cascade_classifier.fit_transform] X_train.shape=(3228, 7),X_test.shape=(1591, 7)\n",
      "[ 2018-04-25 01:07:02,079][cascade_classifier.fit_transform] [layer=0] look_indexs=[0], X_cur_train.shape=(3228, 7), X_cur_test.shape=(1591, 7)\n"
     ]
    },
    {
     "name": "stdout",
     "output_type": "stream",
     "text": [
      "('Test Accuracy of ExtraTrees = 98.742929 %', 7, 'fois')\n"
     ]
    },
    {
     "name": "stderr",
     "output_type": "stream",
     "text": [
      "[ 2018-04-25 01:07:02,708][kfold_wrapper.log_eval_metrics] Accuracy(layer_0 - estimator_0 - 10_folds.train_0.predict)=97.83%\n",
      "[ 2018-04-25 01:07:03,468][kfold_wrapper.log_eval_metrics] Accuracy(layer_0 - estimator_0 - 10_folds.train_1.predict)=97.83%\n",
      "[ 2018-04-25 01:07:04,229][kfold_wrapper.log_eval_metrics] Accuracy(layer_0 - estimator_0 - 10_folds.train_2.predict)=98.76%\n",
      "[ 2018-04-25 01:07:04,969][kfold_wrapper.log_eval_metrics] Accuracy(layer_0 - estimator_0 - 10_folds.train_3.predict)=97.83%\n",
      "[ 2018-04-25 01:07:05,727][kfold_wrapper.log_eval_metrics] Accuracy(layer_0 - estimator_0 - 10_folds.train_4.predict)=99.38%\n",
      "[ 2018-04-25 01:07:06,506][kfold_wrapper.log_eval_metrics] Accuracy(layer_0 - estimator_0 - 10_folds.train_5.predict)=97.52%\n",
      "[ 2018-04-25 01:07:07,275][kfold_wrapper.log_eval_metrics] Accuracy(layer_0 - estimator_0 - 10_folds.train_6.predict)=97.21%\n",
      "[ 2018-04-25 01:07:08,010][kfold_wrapper.log_eval_metrics] Accuracy(layer_0 - estimator_0 - 10_folds.train_7.predict)=97.83%\n",
      "[ 2018-04-25 01:07:08,769][kfold_wrapper.log_eval_metrics] Accuracy(layer_0 - estimator_0 - 10_folds.train_8.predict)=98.45%\n",
      "[ 2018-04-25 01:07:09,553][kfold_wrapper.log_eval_metrics] Accuracy(layer_0 - estimator_0 - 10_folds.train_9.predict)=97.83%\n",
      "[ 2018-04-25 01:07:09,708][kfold_wrapper.log_eval_metrics] Accuracy(layer_0 - estimator_0 - 10_folds.train_cv.predict)=98.05%\n",
      "[ 2018-04-25 01:07:09,710][kfold_wrapper.log_eval_metrics] Accuracy(layer_0 - estimator_0 - 10_folds.test.predict)=98.43%\n",
      "[ 2018-04-25 01:07:09,715][cascade_classifier.calc_accuracy] Accuracy(layer_0 - train.classifier_average)=98.05%\n",
      "[ 2018-04-25 01:07:09,717][cascade_classifier.calc_accuracy] Accuracy(layer_0 - test.classifier_average)=98.43%\n",
      "[ 2018-04-25 01:07:09,718][cascade_classifier.fit_transform] [Result][Reach Max Layer] opt_layer_num=1, accuracy_train=98.05%, accuracy_test=98.43%\n",
      "[ 2018-04-25 01:07:09,720][cascade_classifier.transform] X_groups_test.shape=[(1591, 7)]\n",
      "[ 2018-04-25 01:07:09,722][cascade_classifier.transform] group_dims=[7]\n",
      "[ 2018-04-25 01:07:09,724][cascade_classifier.transform] X_test.shape=(1591, 7)\n",
      "[ 2018-04-25 01:07:09,725][cascade_classifier.transform] [layer=0] look_indexs=[0], X_cur_test.shape=(1591, 7)\n",
      "[ 2018-04-25 01:07:11,136][cascade_classifier.fit_transform] X_groups_train.shape=[(3228, 7)],y_train.shape=(3228,),X_groups_test.shape=[(1591, 7)],y_test.shape=(1591,)\n",
      "[ 2018-04-25 01:07:11,139][cascade_classifier.fit_transform] group_dims=[7]\n",
      "[ 2018-04-25 01:07:11,140][cascade_classifier.fit_transform] group_starts=[0]\n",
      "[ 2018-04-25 01:07:11,142][cascade_classifier.fit_transform] group_ends=[7]\n",
      "[ 2018-04-25 01:07:11,143][cascade_classifier.fit_transform] X_train.shape=(3228, 7),X_test.shape=(1591, 7)\n",
      "[ 2018-04-25 01:07:11,145][cascade_classifier.fit_transform] [layer=0] look_indexs=[0], X_cur_train.shape=(3228, 7), X_cur_test.shape=(1591, 7)\n"
     ]
    },
    {
     "name": "stdout",
     "output_type": "stream",
     "text": [
      "('Test Accuracy of ExtraTrees = 98.428661 %', 8, 'fois')\n"
     ]
    },
    {
     "name": "stderr",
     "output_type": "stream",
     "text": [
      "[ 2018-04-25 01:07:11,788][kfold_wrapper.log_eval_metrics] Accuracy(layer_0 - estimator_0 - 10_folds.train_0.predict)=98.14%\n",
      "[ 2018-04-25 01:07:12,535][kfold_wrapper.log_eval_metrics] Accuracy(layer_0 - estimator_0 - 10_folds.train_1.predict)=98.14%\n",
      "[ 2018-04-25 01:07:13,266][kfold_wrapper.log_eval_metrics] Accuracy(layer_0 - estimator_0 - 10_folds.train_2.predict)=98.45%\n",
      "[ 2018-04-25 01:07:14,059][kfold_wrapper.log_eval_metrics] Accuracy(layer_0 - estimator_0 - 10_folds.train_3.predict)=97.52%\n",
      "[ 2018-04-25 01:07:14,869][kfold_wrapper.log_eval_metrics] Accuracy(layer_0 - estimator_0 - 10_folds.train_4.predict)=99.38%\n",
      "[ 2018-04-25 01:07:15,626][kfold_wrapper.log_eval_metrics] Accuracy(layer_0 - estimator_0 - 10_folds.train_5.predict)=96.90%\n",
      "[ 2018-04-25 01:07:16,443][kfold_wrapper.log_eval_metrics] Accuracy(layer_0 - estimator_0 - 10_folds.train_6.predict)=97.52%\n",
      "[ 2018-04-25 01:07:17,229][kfold_wrapper.log_eval_metrics] Accuracy(layer_0 - estimator_0 - 10_folds.train_7.predict)=97.52%\n",
      "[ 2018-04-25 01:07:17,995][kfold_wrapper.log_eval_metrics] Accuracy(layer_0 - estimator_0 - 10_folds.train_8.predict)=99.07%\n",
      "[ 2018-04-25 01:07:18,921][kfold_wrapper.log_eval_metrics] Accuracy(layer_0 - estimator_0 - 10_folds.train_9.predict)=97.52%\n",
      "[ 2018-04-25 01:07:19,071][kfold_wrapper.log_eval_metrics] Accuracy(layer_0 - estimator_0 - 10_folds.train_cv.predict)=98.02%\n",
      "[ 2018-04-25 01:07:19,073][kfold_wrapper.log_eval_metrics] Accuracy(layer_0 - estimator_0 - 10_folds.test.predict)=98.55%\n",
      "[ 2018-04-25 01:07:19,083][cascade_classifier.calc_accuracy] Accuracy(layer_0 - train.classifier_average)=98.02%\n",
      "[ 2018-04-25 01:07:19,085][cascade_classifier.calc_accuracy] Accuracy(layer_0 - test.classifier_average)=98.55%\n",
      "[ 2018-04-25 01:07:19,087][cascade_classifier.fit_transform] [Result][Reach Max Layer] opt_layer_num=1, accuracy_train=98.02%, accuracy_test=98.55%\n",
      "[ 2018-04-25 01:07:19,089][cascade_classifier.transform] X_groups_test.shape=[(1591, 7)]\n",
      "[ 2018-04-25 01:07:19,091][cascade_classifier.transform] group_dims=[7]\n",
      "[ 2018-04-25 01:07:19,093][cascade_classifier.transform] X_test.shape=(1591, 7)\n",
      "[ 2018-04-25 01:07:19,094][cascade_classifier.transform] [layer=0] look_indexs=[0], X_cur_test.shape=(1591, 7)\n",
      "[ 2018-04-25 01:07:20,527][cascade_classifier.fit_transform] X_groups_train.shape=[(3228, 7)],y_train.shape=(3228,),X_groups_test.shape=[(1591, 7)],y_test.shape=(1591,)\n",
      "[ 2018-04-25 01:07:20,529][cascade_classifier.fit_transform] group_dims=[7]\n",
      "[ 2018-04-25 01:07:20,531][cascade_classifier.fit_transform] group_starts=[0]\n",
      "[ 2018-04-25 01:07:20,532][cascade_classifier.fit_transform] group_ends=[7]\n",
      "[ 2018-04-25 01:07:20,534][cascade_classifier.fit_transform] X_train.shape=(3228, 7),X_test.shape=(1591, 7)\n",
      "[ 2018-04-25 01:07:20,536][cascade_classifier.fit_transform] [layer=0] look_indexs=[0], X_cur_train.shape=(3228, 7), X_cur_test.shape=(1591, 7)\n"
     ]
    },
    {
     "name": "stdout",
     "output_type": "stream",
     "text": [
      "('Test Accuracy of ExtraTrees = 98.554368 %', 9, 'fois')\n"
     ]
    },
    {
     "name": "stderr",
     "output_type": "stream",
     "text": [
      "[ 2018-04-25 01:07:21,199][kfold_wrapper.log_eval_metrics] Accuracy(layer_0 - estimator_0 - 10_folds.train_0.predict)=98.14%\n",
      "[ 2018-04-25 01:07:22,036][kfold_wrapper.log_eval_metrics] Accuracy(layer_0 - estimator_0 - 10_folds.train_1.predict)=97.21%\n",
      "[ 2018-04-25 01:07:22,794][kfold_wrapper.log_eval_metrics] Accuracy(layer_0 - estimator_0 - 10_folds.train_2.predict)=98.45%\n",
      "[ 2018-04-25 01:07:23,556][kfold_wrapper.log_eval_metrics] Accuracy(layer_0 - estimator_0 - 10_folds.train_3.predict)=97.83%\n",
      "[ 2018-04-25 01:07:24,299][kfold_wrapper.log_eval_metrics] Accuracy(layer_0 - estimator_0 - 10_folds.train_4.predict)=99.69%\n",
      "[ 2018-04-25 01:07:25,121][kfold_wrapper.log_eval_metrics] Accuracy(layer_0 - estimator_0 - 10_folds.train_5.predict)=97.21%\n",
      "[ 2018-04-25 01:07:25,909][kfold_wrapper.log_eval_metrics] Accuracy(layer_0 - estimator_0 - 10_folds.train_6.predict)=97.83%\n",
      "[ 2018-04-25 01:07:26,697][kfold_wrapper.log_eval_metrics] Accuracy(layer_0 - estimator_0 - 10_folds.train_7.predict)=97.52%\n",
      "[ 2018-04-25 01:07:27,446][kfold_wrapper.log_eval_metrics] Accuracy(layer_0 - estimator_0 - 10_folds.train_8.predict)=99.38%\n",
      "[ 2018-04-25 01:07:28,213][kfold_wrapper.log_eval_metrics] Accuracy(layer_0 - estimator_0 - 10_folds.train_9.predict)=97.52%\n",
      "[ 2018-04-25 01:07:28,362][kfold_wrapper.log_eval_metrics] Accuracy(layer_0 - estimator_0 - 10_folds.train_cv.predict)=98.08%\n",
      "[ 2018-04-25 01:07:28,365][kfold_wrapper.log_eval_metrics] Accuracy(layer_0 - estimator_0 - 10_folds.test.predict)=98.55%\n",
      "[ 2018-04-25 01:07:28,376][cascade_classifier.calc_accuracy] Accuracy(layer_0 - train.classifier_average)=98.08%\n",
      "[ 2018-04-25 01:07:28,378][cascade_classifier.calc_accuracy] Accuracy(layer_0 - test.classifier_average)=98.55%\n",
      "[ 2018-04-25 01:07:28,379][cascade_classifier.fit_transform] [Result][Reach Max Layer] opt_layer_num=1, accuracy_train=98.08%, accuracy_test=98.55%\n",
      "[ 2018-04-25 01:07:28,381][cascade_classifier.transform] X_groups_test.shape=[(1591, 7)]\n",
      "[ 2018-04-25 01:07:28,383][cascade_classifier.transform] group_dims=[7]\n",
      "[ 2018-04-25 01:07:28,384][cascade_classifier.transform] X_test.shape=(1591, 7)\n",
      "[ 2018-04-25 01:07:28,386][cascade_classifier.transform] [layer=0] look_indexs=[0], X_cur_test.shape=(1591, 7)\n",
      "[ 2018-04-25 01:07:29,828][cascade_classifier.fit_transform] X_groups_train.shape=[(3228, 7)],y_train.shape=(3228,),X_groups_test.shape=[(1591, 7)],y_test.shape=(1591,)\n",
      "[ 2018-04-25 01:07:29,830][cascade_classifier.fit_transform] group_dims=[7]\n",
      "[ 2018-04-25 01:07:29,831][cascade_classifier.fit_transform] group_starts=[0]\n",
      "[ 2018-04-25 01:07:29,833][cascade_classifier.fit_transform] group_ends=[7]\n",
      "[ 2018-04-25 01:07:29,835][cascade_classifier.fit_transform] X_train.shape=(3228, 7),X_test.shape=(1591, 7)\n",
      "[ 2018-04-25 01:07:29,837][cascade_classifier.fit_transform] [layer=0] look_indexs=[0], X_cur_train.shape=(3228, 7), X_cur_test.shape=(1591, 7)\n"
     ]
    },
    {
     "name": "stdout",
     "output_type": "stream",
     "text": [
      "('Test Accuracy of ExtraTrees = 98.554368 %', 10, 'fois')\n"
     ]
    },
    {
     "name": "stderr",
     "output_type": "stream",
     "text": [
      "[ 2018-04-25 01:07:30,495][kfold_wrapper.log_eval_metrics] Accuracy(layer_0 - estimator_0 - 10_folds.train_0.predict)=98.14%\n",
      "[ 2018-04-25 01:07:31,299][kfold_wrapper.log_eval_metrics] Accuracy(layer_0 - estimator_0 - 10_folds.train_1.predict)=97.21%\n",
      "[ 2018-04-25 01:07:32,232][kfold_wrapper.log_eval_metrics] Accuracy(layer_0 - estimator_0 - 10_folds.train_2.predict)=98.45%\n",
      "[ 2018-04-25 01:07:33,051][kfold_wrapper.log_eval_metrics] Accuracy(layer_0 - estimator_0 - 10_folds.train_3.predict)=97.83%\n",
      "[ 2018-04-25 01:07:33,841][kfold_wrapper.log_eval_metrics] Accuracy(layer_0 - estimator_0 - 10_folds.train_4.predict)=99.38%\n",
      "[ 2018-04-25 01:07:34,605][kfold_wrapper.log_eval_metrics] Accuracy(layer_0 - estimator_0 - 10_folds.train_5.predict)=96.90%\n",
      "[ 2018-04-25 01:07:35,455][kfold_wrapper.log_eval_metrics] Accuracy(layer_0 - estimator_0 - 10_folds.train_6.predict)=97.83%\n",
      "[ 2018-04-25 01:07:36,248][kfold_wrapper.log_eval_metrics] Accuracy(layer_0 - estimator_0 - 10_folds.train_7.predict)=96.90%\n",
      "[ 2018-04-25 01:07:37,000][kfold_wrapper.log_eval_metrics] Accuracy(layer_0 - estimator_0 - 10_folds.train_8.predict)=99.07%\n",
      "[ 2018-04-25 01:07:37,793][kfold_wrapper.log_eval_metrics] Accuracy(layer_0 - estimator_0 - 10_folds.train_9.predict)=97.83%\n",
      "[ 2018-04-25 01:07:37,942][kfold_wrapper.log_eval_metrics] Accuracy(layer_0 - estimator_0 - 10_folds.train_cv.predict)=97.96%\n",
      "[ 2018-04-25 01:07:37,944][kfold_wrapper.log_eval_metrics] Accuracy(layer_0 - estimator_0 - 10_folds.test.predict)=98.37%\n",
      "[ 2018-04-25 01:07:37,952][cascade_classifier.calc_accuracy] Accuracy(layer_0 - train.classifier_average)=97.96%\n",
      "[ 2018-04-25 01:07:37,954][cascade_classifier.calc_accuracy] Accuracy(layer_0 - test.classifier_average)=98.37%\n",
      "[ 2018-04-25 01:07:37,955][cascade_classifier.fit_transform] [Result][Reach Max Layer] opt_layer_num=1, accuracy_train=97.96%, accuracy_test=98.37%\n",
      "[ 2018-04-25 01:07:37,957][cascade_classifier.transform] X_groups_test.shape=[(1591, 7)]\n",
      "[ 2018-04-25 01:07:37,959][cascade_classifier.transform] group_dims=[7]\n",
      "[ 2018-04-25 01:07:37,960][cascade_classifier.transform] X_test.shape=(1591, 7)\n",
      "[ 2018-04-25 01:07:37,961][cascade_classifier.transform] [layer=0] look_indexs=[0], X_cur_test.shape=(1591, 7)\n",
      "[ 2018-04-25 01:07:39,506][cascade_classifier.fit_transform] X_groups_train.shape=[(3228, 7)],y_train.shape=(3228,),X_groups_test.shape=[(1591, 7)],y_test.shape=(1591,)\n",
      "[ 2018-04-25 01:07:39,508][cascade_classifier.fit_transform] group_dims=[7]\n",
      "[ 2018-04-25 01:07:39,509][cascade_classifier.fit_transform] group_starts=[0]\n",
      "[ 2018-04-25 01:07:39,510][cascade_classifier.fit_transform] group_ends=[7]\n",
      "[ 2018-04-25 01:07:39,512][cascade_classifier.fit_transform] X_train.shape=(3228, 7),X_test.shape=(1591, 7)\n",
      "[ 2018-04-25 01:07:39,514][cascade_classifier.fit_transform] [layer=0] look_indexs=[0], X_cur_train.shape=(3228, 7), X_cur_test.shape=(1591, 7)\n"
     ]
    },
    {
     "name": "stdout",
     "output_type": "stream",
     "text": [
      "('Test Accuracy of ExtraTrees = 98.365808 %', 11, 'fois')\n"
     ]
    },
    {
     "name": "stderr",
     "output_type": "stream",
     "text": [
      "[ 2018-04-25 01:07:40,186][kfold_wrapper.log_eval_metrics] Accuracy(layer_0 - estimator_0 - 10_folds.train_0.predict)=97.52%\n",
      "[ 2018-04-25 01:07:40,912][kfold_wrapper.log_eval_metrics] Accuracy(layer_0 - estimator_0 - 10_folds.train_1.predict)=97.21%\n",
      "[ 2018-04-25 01:07:41,654][kfold_wrapper.log_eval_metrics] Accuracy(layer_0 - estimator_0 - 10_folds.train_2.predict)=98.45%\n",
      "[ 2018-04-25 01:07:42,462][kfold_wrapper.log_eval_metrics] Accuracy(layer_0 - estimator_0 - 10_folds.train_3.predict)=97.83%\n",
      "[ 2018-04-25 01:07:43,319][kfold_wrapper.log_eval_metrics] Accuracy(layer_0 - estimator_0 - 10_folds.train_4.predict)=99.07%\n",
      "[ 2018-04-25 01:07:44,084][kfold_wrapper.log_eval_metrics] Accuracy(layer_0 - estimator_0 - 10_folds.train_5.predict)=97.83%\n",
      "[ 2018-04-25 01:07:44,885][kfold_wrapper.log_eval_metrics] Accuracy(layer_0 - estimator_0 - 10_folds.train_6.predict)=96.90%\n",
      "[ 2018-04-25 01:07:45,789][kfold_wrapper.log_eval_metrics] Accuracy(layer_0 - estimator_0 - 10_folds.train_7.predict)=96.59%\n",
      "[ 2018-04-25 01:07:46,582][kfold_wrapper.log_eval_metrics] Accuracy(layer_0 - estimator_0 - 10_folds.train_8.predict)=98.45%\n",
      "[ 2018-04-25 01:07:47,370][kfold_wrapper.log_eval_metrics] Accuracy(layer_0 - estimator_0 - 10_folds.train_9.predict)=97.83%\n",
      "[ 2018-04-25 01:07:47,509][kfold_wrapper.log_eval_metrics] Accuracy(layer_0 - estimator_0 - 10_folds.train_cv.predict)=97.77%\n",
      "[ 2018-04-25 01:07:47,511][kfold_wrapper.log_eval_metrics] Accuracy(layer_0 - estimator_0 - 10_folds.test.predict)=98.37%\n",
      "[ 2018-04-25 01:07:47,519][cascade_classifier.calc_accuracy] Accuracy(layer_0 - train.classifier_average)=97.77%\n",
      "[ 2018-04-25 01:07:47,521][cascade_classifier.calc_accuracy] Accuracy(layer_0 - test.classifier_average)=98.37%\n",
      "[ 2018-04-25 01:07:47,523][cascade_classifier.fit_transform] [Result][Reach Max Layer] opt_layer_num=1, accuracy_train=97.77%, accuracy_test=98.37%\n",
      "[ 2018-04-25 01:07:47,524][cascade_classifier.transform] X_groups_test.shape=[(1591, 7)]\n",
      "[ 2018-04-25 01:07:47,526][cascade_classifier.transform] group_dims=[7]\n",
      "[ 2018-04-25 01:07:47,527][cascade_classifier.transform] X_test.shape=(1591, 7)\n",
      "[ 2018-04-25 01:07:47,529][cascade_classifier.transform] [layer=0] look_indexs=[0], X_cur_test.shape=(1591, 7)\n",
      "[ 2018-04-25 01:07:48,987][cascade_classifier.fit_transform] X_groups_train.shape=[(3228, 7)],y_train.shape=(3228,),X_groups_test.shape=[(1591, 7)],y_test.shape=(1591,)\n",
      "[ 2018-04-25 01:07:48,989][cascade_classifier.fit_transform] group_dims=[7]\n",
      "[ 2018-04-25 01:07:48,990][cascade_classifier.fit_transform] group_starts=[0]\n",
      "[ 2018-04-25 01:07:48,991][cascade_classifier.fit_transform] group_ends=[7]\n",
      "[ 2018-04-25 01:07:48,993][cascade_classifier.fit_transform] X_train.shape=(3228, 7),X_test.shape=(1591, 7)\n",
      "[ 2018-04-25 01:07:48,995][cascade_classifier.fit_transform] [layer=0] look_indexs=[0], X_cur_train.shape=(3228, 7), X_cur_test.shape=(1591, 7)\n"
     ]
    },
    {
     "name": "stdout",
     "output_type": "stream",
     "text": [
      "('Test Accuracy of ExtraTrees = 98.365808 %', 12, 'fois')\n"
     ]
    },
    {
     "name": "stderr",
     "output_type": "stream",
     "text": [
      "[ 2018-04-25 01:07:49,606][kfold_wrapper.log_eval_metrics] Accuracy(layer_0 - estimator_0 - 10_folds.train_0.predict)=97.83%\n",
      "[ 2018-04-25 01:07:50,382][kfold_wrapper.log_eval_metrics] Accuracy(layer_0 - estimator_0 - 10_folds.train_1.predict)=97.52%\n",
      "[ 2018-04-25 01:07:51,163][kfold_wrapper.log_eval_metrics] Accuracy(layer_0 - estimator_0 - 10_folds.train_2.predict)=98.45%\n",
      "[ 2018-04-25 01:07:51,850][kfold_wrapper.log_eval_metrics] Accuracy(layer_0 - estimator_0 - 10_folds.train_3.predict)=97.52%\n",
      "[ 2018-04-25 01:07:52,765][kfold_wrapper.log_eval_metrics] Accuracy(layer_0 - estimator_0 - 10_folds.train_4.predict)=98.45%\n",
      "[ 2018-04-25 01:07:53,512][kfold_wrapper.log_eval_metrics] Accuracy(layer_0 - estimator_0 - 10_folds.train_5.predict)=97.21%\n",
      "[ 2018-04-25 01:07:54,294][kfold_wrapper.log_eval_metrics] Accuracy(layer_0 - estimator_0 - 10_folds.train_6.predict)=96.59%\n",
      "[ 2018-04-25 01:07:55,033][kfold_wrapper.log_eval_metrics] Accuracy(layer_0 - estimator_0 - 10_folds.train_7.predict)=97.52%\n",
      "[ 2018-04-25 01:07:55,826][kfold_wrapper.log_eval_metrics] Accuracy(layer_0 - estimator_0 - 10_folds.train_8.predict)=98.45%\n",
      "[ 2018-04-25 01:07:56,621][kfold_wrapper.log_eval_metrics] Accuracy(layer_0 - estimator_0 - 10_folds.train_9.predict)=97.83%\n",
      "[ 2018-04-25 01:07:56,775][kfold_wrapper.log_eval_metrics] Accuracy(layer_0 - estimator_0 - 10_folds.train_cv.predict)=97.74%\n",
      "[ 2018-04-25 01:07:56,777][kfold_wrapper.log_eval_metrics] Accuracy(layer_0 - estimator_0 - 10_folds.test.predict)=98.68%\n",
      "[ 2018-04-25 01:07:56,788][cascade_classifier.calc_accuracy] Accuracy(layer_0 - train.classifier_average)=97.74%\n",
      "[ 2018-04-25 01:07:56,790][cascade_classifier.calc_accuracy] Accuracy(layer_0 - test.classifier_average)=98.68%\n",
      "[ 2018-04-25 01:07:56,792][cascade_classifier.fit_transform] [Result][Reach Max Layer] opt_layer_num=1, accuracy_train=97.74%, accuracy_test=98.68%\n",
      "[ 2018-04-25 01:07:56,794][cascade_classifier.transform] X_groups_test.shape=[(1591, 7)]\n",
      "[ 2018-04-25 01:07:56,796][cascade_classifier.transform] group_dims=[7]\n",
      "[ 2018-04-25 01:07:56,797][cascade_classifier.transform] X_test.shape=(1591, 7)\n",
      "[ 2018-04-25 01:07:56,799][cascade_classifier.transform] [layer=0] look_indexs=[0], X_cur_test.shape=(1591, 7)\n",
      "[ 2018-04-25 01:07:58,258][cascade_classifier.fit_transform] X_groups_train.shape=[(3228, 7)],y_train.shape=(3228,),X_groups_test.shape=[(1591, 7)],y_test.shape=(1591,)\n",
      "[ 2018-04-25 01:07:58,261][cascade_classifier.fit_transform] group_dims=[7]\n",
      "[ 2018-04-25 01:07:58,262][cascade_classifier.fit_transform] group_starts=[0]\n",
      "[ 2018-04-25 01:07:58,264][cascade_classifier.fit_transform] group_ends=[7]\n",
      "[ 2018-04-25 01:07:58,266][cascade_classifier.fit_transform] X_train.shape=(3228, 7),X_test.shape=(1591, 7)\n",
      "[ 2018-04-25 01:07:58,268][cascade_classifier.fit_transform] [layer=0] look_indexs=[0], X_cur_train.shape=(3228, 7), X_cur_test.shape=(1591, 7)\n"
     ]
    },
    {
     "name": "stdout",
     "output_type": "stream",
     "text": [
      "('Test Accuracy of ExtraTrees = 98.680075 %', 13, 'fois')\n"
     ]
    },
    {
     "name": "stderr",
     "output_type": "stream",
     "text": [
      "[ 2018-04-25 01:07:59,018][kfold_wrapper.log_eval_metrics] Accuracy(layer_0 - estimator_0 - 10_folds.train_0.predict)=97.52%\n",
      "[ 2018-04-25 01:07:59,798][kfold_wrapper.log_eval_metrics] Accuracy(layer_0 - estimator_0 - 10_folds.train_1.predict)=96.90%\n",
      "[ 2018-04-25 01:08:00,559][kfold_wrapper.log_eval_metrics] Accuracy(layer_0 - estimator_0 - 10_folds.train_2.predict)=98.76%\n",
      "[ 2018-04-25 01:08:01,328][kfold_wrapper.log_eval_metrics] Accuracy(layer_0 - estimator_0 - 10_folds.train_3.predict)=97.83%\n",
      "[ 2018-04-25 01:08:02,081][kfold_wrapper.log_eval_metrics] Accuracy(layer_0 - estimator_0 - 10_folds.train_4.predict)=99.07%\n",
      "[ 2018-04-25 01:08:02,903][kfold_wrapper.log_eval_metrics] Accuracy(layer_0 - estimator_0 - 10_folds.train_5.predict)=97.52%\n",
      "[ 2018-04-25 01:08:03,692][kfold_wrapper.log_eval_metrics] Accuracy(layer_0 - estimator_0 - 10_folds.train_6.predict)=96.90%\n",
      "[ 2018-04-25 01:08:04,479][kfold_wrapper.log_eval_metrics] Accuracy(layer_0 - estimator_0 - 10_folds.train_7.predict)=98.14%\n",
      "[ 2018-04-25 01:08:05,325][kfold_wrapper.log_eval_metrics] Accuracy(layer_0 - estimator_0 - 10_folds.train_8.predict)=97.83%\n",
      "[ 2018-04-25 01:08:06,184][kfold_wrapper.log_eval_metrics] Accuracy(layer_0 - estimator_0 - 10_folds.train_9.predict)=97.52%\n",
      "[ 2018-04-25 01:08:06,313][kfold_wrapper.log_eval_metrics] Accuracy(layer_0 - estimator_0 - 10_folds.train_cv.predict)=97.80%\n",
      "[ 2018-04-25 01:08:06,315][kfold_wrapper.log_eval_metrics] Accuracy(layer_0 - estimator_0 - 10_folds.test.predict)=98.93%\n",
      "[ 2018-04-25 01:08:06,323][cascade_classifier.calc_accuracy] Accuracy(layer_0 - train.classifier_average)=97.80%\n",
      "[ 2018-04-25 01:08:06,324][cascade_classifier.calc_accuracy] Accuracy(layer_0 - test.classifier_average)=98.93%\n",
      "[ 2018-04-25 01:08:06,325][cascade_classifier.fit_transform] [Result][Reach Max Layer] opt_layer_num=1, accuracy_train=97.80%, accuracy_test=98.93%\n",
      "[ 2018-04-25 01:08:06,326][cascade_classifier.transform] X_groups_test.shape=[(1591, 7)]\n",
      "[ 2018-04-25 01:08:06,328][cascade_classifier.transform] group_dims=[7]\n",
      "[ 2018-04-25 01:08:06,329][cascade_classifier.transform] X_test.shape=(1591, 7)\n",
      "[ 2018-04-25 01:08:06,331][cascade_classifier.transform] [layer=0] look_indexs=[0], X_cur_test.shape=(1591, 7)\n",
      "[ 2018-04-25 01:08:07,790][cascade_classifier.fit_transform] X_groups_train.shape=[(3228, 7)],y_train.shape=(3228,),X_groups_test.shape=[(1591, 7)],y_test.shape=(1591,)\n",
      "[ 2018-04-25 01:08:07,793][cascade_classifier.fit_transform] group_dims=[7]\n",
      "[ 2018-04-25 01:08:07,794][cascade_classifier.fit_transform] group_starts=[0]\n",
      "[ 2018-04-25 01:08:07,796][cascade_classifier.fit_transform] group_ends=[7]\n",
      "[ 2018-04-25 01:08:07,797][cascade_classifier.fit_transform] X_train.shape=(3228, 7),X_test.shape=(1591, 7)\n",
      "[ 2018-04-25 01:08:07,799][cascade_classifier.fit_transform] [layer=0] look_indexs=[0], X_cur_train.shape=(3228, 7), X_cur_test.shape=(1591, 7)\n"
     ]
    },
    {
     "name": "stdout",
     "output_type": "stream",
     "text": [
      "('Test Accuracy of ExtraTrees = 98.931490 %', 14, 'fois')\n"
     ]
    },
    {
     "name": "stderr",
     "output_type": "stream",
     "text": [
      "[ 2018-04-25 01:08:08,437][kfold_wrapper.log_eval_metrics] Accuracy(layer_0 - estimator_0 - 10_folds.train_0.predict)=96.90%\n",
      "[ 2018-04-25 01:08:09,216][kfold_wrapper.log_eval_metrics] Accuracy(layer_0 - estimator_0 - 10_folds.train_1.predict)=97.21%\n",
      "[ 2018-04-25 01:08:09,983][kfold_wrapper.log_eval_metrics] Accuracy(layer_0 - estimator_0 - 10_folds.train_2.predict)=98.76%\n",
      "[ 2018-04-25 01:08:10,817][kfold_wrapper.log_eval_metrics] Accuracy(layer_0 - estimator_0 - 10_folds.train_3.predict)=97.83%\n",
      "[ 2018-04-25 01:08:11,628][kfold_wrapper.log_eval_metrics] Accuracy(layer_0 - estimator_0 - 10_folds.train_4.predict)=98.76%\n",
      "[ 2018-04-25 01:08:12,436][kfold_wrapper.log_eval_metrics] Accuracy(layer_0 - estimator_0 - 10_folds.train_5.predict)=97.21%\n",
      "[ 2018-04-25 01:08:13,241][kfold_wrapper.log_eval_metrics] Accuracy(layer_0 - estimator_0 - 10_folds.train_6.predict)=98.14%\n",
      "[ 2018-04-25 01:08:14,031][kfold_wrapper.log_eval_metrics] Accuracy(layer_0 - estimator_0 - 10_folds.train_7.predict)=98.14%\n",
      "[ 2018-04-25 01:08:14,845][kfold_wrapper.log_eval_metrics] Accuracy(layer_0 - estimator_0 - 10_folds.train_8.predict)=97.83%\n",
      "[ 2018-04-25 01:08:15,655][kfold_wrapper.log_eval_metrics] Accuracy(layer_0 - estimator_0 - 10_folds.train_9.predict)=97.52%\n",
      "[ 2018-04-25 01:08:15,802][kfold_wrapper.log_eval_metrics] Accuracy(layer_0 - estimator_0 - 10_folds.train_cv.predict)=97.83%\n",
      "[ 2018-04-25 01:08:15,804][kfold_wrapper.log_eval_metrics] Accuracy(layer_0 - estimator_0 - 10_folds.test.predict)=98.68%\n",
      "[ 2018-04-25 01:08:15,814][cascade_classifier.calc_accuracy] Accuracy(layer_0 - train.classifier_average)=97.83%\n",
      "[ 2018-04-25 01:08:15,816][cascade_classifier.calc_accuracy] Accuracy(layer_0 - test.classifier_average)=98.68%\n",
      "[ 2018-04-25 01:08:15,817][cascade_classifier.fit_transform] [Result][Reach Max Layer] opt_layer_num=1, accuracy_train=97.83%, accuracy_test=98.68%\n",
      "[ 2018-04-25 01:08:15,819][cascade_classifier.transform] X_groups_test.shape=[(1591, 7)]\n",
      "[ 2018-04-25 01:08:15,821][cascade_classifier.transform] group_dims=[7]\n",
      "[ 2018-04-25 01:08:15,823][cascade_classifier.transform] X_test.shape=(1591, 7)\n",
      "[ 2018-04-25 01:08:15,824][cascade_classifier.transform] [layer=0] look_indexs=[0], X_cur_test.shape=(1591, 7)\n",
      "[ 2018-04-25 01:08:17,389][cascade_classifier.fit_transform] X_groups_train.shape=[(3228, 7)],y_train.shape=(3228,),X_groups_test.shape=[(1591, 7)],y_test.shape=(1591,)\n",
      "[ 2018-04-25 01:08:17,392][cascade_classifier.fit_transform] group_dims=[7]\n",
      "[ 2018-04-25 01:08:17,393][cascade_classifier.fit_transform] group_starts=[0]\n",
      "[ 2018-04-25 01:08:17,395][cascade_classifier.fit_transform] group_ends=[7]\n",
      "[ 2018-04-25 01:08:17,397][cascade_classifier.fit_transform] X_train.shape=(3228, 7),X_test.shape=(1591, 7)\n",
      "[ 2018-04-25 01:08:17,398][cascade_classifier.fit_transform] [layer=0] look_indexs=[0], X_cur_train.shape=(3228, 7), X_cur_test.shape=(1591, 7)\n"
     ]
    },
    {
     "name": "stdout",
     "output_type": "stream",
     "text": [
      "('Test Accuracy of ExtraTrees = 98.680075 %', 15, 'fois')\n"
     ]
    },
    {
     "name": "stderr",
     "output_type": "stream",
     "text": [
      "[ 2018-04-25 01:08:18,096][kfold_wrapper.log_eval_metrics] Accuracy(layer_0 - estimator_0 - 10_folds.train_0.predict)=98.14%\n",
      "[ 2018-04-25 01:08:18,866][kfold_wrapper.log_eval_metrics] Accuracy(layer_0 - estimator_0 - 10_folds.train_1.predict)=96.90%\n",
      "[ 2018-04-25 01:08:19,667][kfold_wrapper.log_eval_metrics] Accuracy(layer_0 - estimator_0 - 10_folds.train_2.predict)=99.07%\n",
      "[ 2018-04-25 01:08:20,478][kfold_wrapper.log_eval_metrics] Accuracy(layer_0 - estimator_0 - 10_folds.train_3.predict)=97.83%\n",
      "[ 2018-04-25 01:08:21,242][kfold_wrapper.log_eval_metrics] Accuracy(layer_0 - estimator_0 - 10_folds.train_4.predict)=98.14%\n",
      "[ 2018-04-25 01:08:22,074][kfold_wrapper.log_eval_metrics] Accuracy(layer_0 - estimator_0 - 10_folds.train_5.predict)=97.21%\n",
      "[ 2018-04-25 01:08:22,903][kfold_wrapper.log_eval_metrics] Accuracy(layer_0 - estimator_0 - 10_folds.train_6.predict)=97.52%\n",
      "[ 2018-04-25 01:08:23,684][kfold_wrapper.log_eval_metrics] Accuracy(layer_0 - estimator_0 - 10_folds.train_7.predict)=98.76%\n",
      "[ 2018-04-25 01:08:24,491][kfold_wrapper.log_eval_metrics] Accuracy(layer_0 - estimator_0 - 10_folds.train_8.predict)=96.89%\n",
      "[ 2018-04-25 01:08:25,259][kfold_wrapper.log_eval_metrics] Accuracy(layer_0 - estimator_0 - 10_folds.train_9.predict)=97.83%\n",
      "[ 2018-04-25 01:08:25,409][kfold_wrapper.log_eval_metrics] Accuracy(layer_0 - estimator_0 - 10_folds.train_cv.predict)=97.83%\n",
      "[ 2018-04-25 01:08:25,411][kfold_wrapper.log_eval_metrics] Accuracy(layer_0 - estimator_0 - 10_folds.test.predict)=98.93%\n",
      "[ 2018-04-25 01:08:25,420][cascade_classifier.calc_accuracy] Accuracy(layer_0 - train.classifier_average)=97.83%\n",
      "[ 2018-04-25 01:08:25,422][cascade_classifier.calc_accuracy] Accuracy(layer_0 - test.classifier_average)=98.93%\n",
      "[ 2018-04-25 01:08:25,424][cascade_classifier.fit_transform] [Result][Reach Max Layer] opt_layer_num=1, accuracy_train=97.83%, accuracy_test=98.93%\n",
      "[ 2018-04-25 01:08:25,425][cascade_classifier.transform] X_groups_test.shape=[(1591, 7)]\n",
      "[ 2018-04-25 01:08:25,428][cascade_classifier.transform] group_dims=[7]\n",
      "[ 2018-04-25 01:08:25,429][cascade_classifier.transform] X_test.shape=(1591, 7)\n",
      "[ 2018-04-25 01:08:25,431][cascade_classifier.transform] [layer=0] look_indexs=[0], X_cur_test.shape=(1591, 7)\n",
      "[ 2018-04-25 01:08:26,926][cascade_classifier.fit_transform] X_groups_train.shape=[(3228, 7)],y_train.shape=(3228,),X_groups_test.shape=[(1591, 7)],y_test.shape=(1591,)\n",
      "[ 2018-04-25 01:08:26,928][cascade_classifier.fit_transform] group_dims=[7]\n",
      "[ 2018-04-25 01:08:26,930][cascade_classifier.fit_transform] group_starts=[0]\n",
      "[ 2018-04-25 01:08:26,931][cascade_classifier.fit_transform] group_ends=[7]\n",
      "[ 2018-04-25 01:08:26,933][cascade_classifier.fit_transform] X_train.shape=(3228, 7),X_test.shape=(1591, 7)\n",
      "[ 2018-04-25 01:08:26,935][cascade_classifier.fit_transform] [layer=0] look_indexs=[0], X_cur_train.shape=(3228, 7), X_cur_test.shape=(1591, 7)\n"
     ]
    },
    {
     "name": "stdout",
     "output_type": "stream",
     "text": [
      "('Test Accuracy of ExtraTrees = 98.931490 %', 16, 'fois')\n"
     ]
    },
    {
     "name": "stderr",
     "output_type": "stream",
     "text": [
      "[ 2018-04-25 01:08:27,538][kfold_wrapper.log_eval_metrics] Accuracy(layer_0 - estimator_0 - 10_folds.train_0.predict)=97.52%\n",
      "[ 2018-04-25 01:08:28,416][kfold_wrapper.log_eval_metrics] Accuracy(layer_0 - estimator_0 - 10_folds.train_1.predict)=96.90%\n",
      "[ 2018-04-25 01:08:29,211][kfold_wrapper.log_eval_metrics] Accuracy(layer_0 - estimator_0 - 10_folds.train_2.predict)=98.14%\n",
      "[ 2018-04-25 01:08:29,976][kfold_wrapper.log_eval_metrics] Accuracy(layer_0 - estimator_0 - 10_folds.train_3.predict)=97.83%\n",
      "[ 2018-04-25 01:08:30,800][kfold_wrapper.log_eval_metrics] Accuracy(layer_0 - estimator_0 - 10_folds.train_4.predict)=97.83%\n",
      "[ 2018-04-25 01:08:31,581][kfold_wrapper.log_eval_metrics] Accuracy(layer_0 - estimator_0 - 10_folds.train_5.predict)=97.21%\n",
      "[ 2018-04-25 01:08:32,354][kfold_wrapper.log_eval_metrics] Accuracy(layer_0 - estimator_0 - 10_folds.train_6.predict)=97.21%\n",
      "[ 2018-04-25 01:08:33,237][kfold_wrapper.log_eval_metrics] Accuracy(layer_0 - estimator_0 - 10_folds.train_7.predict)=97.52%\n",
      "[ 2018-04-25 01:08:34,003][kfold_wrapper.log_eval_metrics] Accuracy(layer_0 - estimator_0 - 10_folds.train_8.predict)=97.52%\n",
      "[ 2018-04-25 01:08:34,812][kfold_wrapper.log_eval_metrics] Accuracy(layer_0 - estimator_0 - 10_folds.train_9.predict)=97.83%\n",
      "[ 2018-04-25 01:08:34,969][kfold_wrapper.log_eval_metrics] Accuracy(layer_0 - estimator_0 - 10_folds.train_cv.predict)=97.55%\n",
      "[ 2018-04-25 01:08:34,971][kfold_wrapper.log_eval_metrics] Accuracy(layer_0 - estimator_0 - 10_folds.test.predict)=98.81%\n",
      "[ 2018-04-25 01:08:34,982][cascade_classifier.calc_accuracy] Accuracy(layer_0 - train.classifier_average)=97.55%\n",
      "[ 2018-04-25 01:08:34,984][cascade_classifier.calc_accuracy] Accuracy(layer_0 - test.classifier_average)=98.81%\n",
      "[ 2018-04-25 01:08:34,985][cascade_classifier.fit_transform] [Result][Reach Max Layer] opt_layer_num=1, accuracy_train=97.55%, accuracy_test=98.81%\n",
      "[ 2018-04-25 01:08:34,987][cascade_classifier.transform] X_groups_test.shape=[(1591, 7)]\n",
      "[ 2018-04-25 01:08:34,988][cascade_classifier.transform] group_dims=[7]\n",
      "[ 2018-04-25 01:08:34,990][cascade_classifier.transform] X_test.shape=(1591, 7)\n",
      "[ 2018-04-25 01:08:34,991][cascade_classifier.transform] [layer=0] look_indexs=[0], X_cur_test.shape=(1591, 7)\n",
      "[ 2018-04-25 01:08:36,489][cascade_classifier.fit_transform] X_groups_train.shape=[(3228, 7)],y_train.shape=(3228,),X_groups_test.shape=[(1591, 7)],y_test.shape=(1591,)\n",
      "[ 2018-04-25 01:08:36,492][cascade_classifier.fit_transform] group_dims=[7]\n",
      "[ 2018-04-25 01:08:36,493][cascade_classifier.fit_transform] group_starts=[0]\n",
      "[ 2018-04-25 01:08:36,495][cascade_classifier.fit_transform] group_ends=[7]\n",
      "[ 2018-04-25 01:08:36,496][cascade_classifier.fit_transform] X_train.shape=(3228, 7),X_test.shape=(1591, 7)\n",
      "[ 2018-04-25 01:08:36,498][cascade_classifier.fit_transform] [layer=0] look_indexs=[0], X_cur_train.shape=(3228, 7), X_cur_test.shape=(1591, 7)\n"
     ]
    },
    {
     "name": "stdout",
     "output_type": "stream",
     "text": [
      "('Test Accuracy of ExtraTrees = 98.805783 %', 17, 'fois')\n"
     ]
    },
    {
     "name": "stderr",
     "output_type": "stream",
     "text": [
      "[ 2018-04-25 01:08:37,137][kfold_wrapper.log_eval_metrics] Accuracy(layer_0 - estimator_0 - 10_folds.train_0.predict)=97.52%\n",
      "[ 2018-04-25 01:08:37,902][kfold_wrapper.log_eval_metrics] Accuracy(layer_0 - estimator_0 - 10_folds.train_1.predict)=96.90%\n",
      "[ 2018-04-25 01:08:38,743][kfold_wrapper.log_eval_metrics] Accuracy(layer_0 - estimator_0 - 10_folds.train_2.predict)=98.76%\n",
      "[ 2018-04-25 01:08:39,521][kfold_wrapper.log_eval_metrics] Accuracy(layer_0 - estimator_0 - 10_folds.train_3.predict)=97.52%\n",
      "[ 2018-04-25 01:08:40,298][kfold_wrapper.log_eval_metrics] Accuracy(layer_0 - estimator_0 - 10_folds.train_4.predict)=98.14%\n",
      "[ 2018-04-25 01:08:41,078][kfold_wrapper.log_eval_metrics] Accuracy(layer_0 - estimator_0 - 10_folds.train_5.predict)=97.52%\n",
      "[ 2018-04-25 01:08:41,869][kfold_wrapper.log_eval_metrics] Accuracy(layer_0 - estimator_0 - 10_folds.train_6.predict)=97.21%\n",
      "[ 2018-04-25 01:08:42,660][kfold_wrapper.log_eval_metrics] Accuracy(layer_0 - estimator_0 - 10_folds.train_7.predict)=97.83%\n",
      "[ 2018-04-25 01:08:43,471][kfold_wrapper.log_eval_metrics] Accuracy(layer_0 - estimator_0 - 10_folds.train_8.predict)=97.20%\n",
      "[ 2018-04-25 01:08:44,243][kfold_wrapper.log_eval_metrics] Accuracy(layer_0 - estimator_0 - 10_folds.train_9.predict)=97.20%\n",
      "[ 2018-04-25 01:08:44,397][kfold_wrapper.log_eval_metrics] Accuracy(layer_0 - estimator_0 - 10_folds.train_cv.predict)=97.58%\n",
      "[ 2018-04-25 01:08:44,399][kfold_wrapper.log_eval_metrics] Accuracy(layer_0 - estimator_0 - 10_folds.test.predict)=98.81%\n",
      "[ 2018-04-25 01:08:44,407][cascade_classifier.calc_accuracy] Accuracy(layer_0 - train.classifier_average)=97.58%\n",
      "[ 2018-04-25 01:08:44,409][cascade_classifier.calc_accuracy] Accuracy(layer_0 - test.classifier_average)=98.81%\n",
      "[ 2018-04-25 01:08:44,410][cascade_classifier.fit_transform] [Result][Reach Max Layer] opt_layer_num=1, accuracy_train=97.58%, accuracy_test=98.81%\n",
      "[ 2018-04-25 01:08:44,412][cascade_classifier.transform] X_groups_test.shape=[(1591, 7)]\n",
      "[ 2018-04-25 01:08:44,414][cascade_classifier.transform] group_dims=[7]\n",
      "[ 2018-04-25 01:08:44,416][cascade_classifier.transform] X_test.shape=(1591, 7)\n",
      "[ 2018-04-25 01:08:44,418][cascade_classifier.transform] [layer=0] look_indexs=[0], X_cur_test.shape=(1591, 7)\n",
      "[ 2018-04-25 01:08:45,911][cascade_classifier.fit_transform] X_groups_train.shape=[(3228, 7)],y_train.shape=(3228,),X_groups_test.shape=[(1591, 7)],y_test.shape=(1591,)\n",
      "[ 2018-04-25 01:08:45,913][cascade_classifier.fit_transform] group_dims=[7]\n",
      "[ 2018-04-25 01:08:45,915][cascade_classifier.fit_transform] group_starts=[0]\n",
      "[ 2018-04-25 01:08:45,916][cascade_classifier.fit_transform] group_ends=[7]\n",
      "[ 2018-04-25 01:08:45,918][cascade_classifier.fit_transform] X_train.shape=(3228, 7),X_test.shape=(1591, 7)\n",
      "[ 2018-04-25 01:08:45,920][cascade_classifier.fit_transform] [layer=0] look_indexs=[0], X_cur_train.shape=(3228, 7), X_cur_test.shape=(1591, 7)\n"
     ]
    },
    {
     "name": "stdout",
     "output_type": "stream",
     "text": [
      "('Test Accuracy of ExtraTrees = 98.742929 %', 18, 'fois')\n"
     ]
    },
    {
     "name": "stderr",
     "output_type": "stream",
     "text": [
      "[ 2018-04-25 01:08:46,542][kfold_wrapper.log_eval_metrics] Accuracy(layer_0 - estimator_0 - 10_folds.train_0.predict)=97.83%\n",
      "[ 2018-04-25 01:08:47,352][kfold_wrapper.log_eval_metrics] Accuracy(layer_0 - estimator_0 - 10_folds.train_1.predict)=97.21%\n",
      "[ 2018-04-25 01:08:48,181][kfold_wrapper.log_eval_metrics] Accuracy(layer_0 - estimator_0 - 10_folds.train_2.predict)=97.83%\n",
      "[ 2018-04-25 01:08:48,919][kfold_wrapper.log_eval_metrics] Accuracy(layer_0 - estimator_0 - 10_folds.train_3.predict)=98.14%\n",
      "[ 2018-04-25 01:08:49,691][kfold_wrapper.log_eval_metrics] Accuracy(layer_0 - estimator_0 - 10_folds.train_4.predict)=98.14%\n",
      "[ 2018-04-25 01:08:50,532][kfold_wrapper.log_eval_metrics] Accuracy(layer_0 - estimator_0 - 10_folds.train_5.predict)=97.21%\n",
      "[ 2018-04-25 01:08:51,359][kfold_wrapper.log_eval_metrics] Accuracy(layer_0 - estimator_0 - 10_folds.train_6.predict)=96.28%\n",
      "[ 2018-04-25 01:08:52,156][kfold_wrapper.log_eval_metrics] Accuracy(layer_0 - estimator_0 - 10_folds.train_7.predict)=98.14%\n",
      "[ 2018-04-25 01:08:53,009][kfold_wrapper.log_eval_metrics] Accuracy(layer_0 - estimator_0 - 10_folds.train_8.predict)=97.83%\n",
      "[ 2018-04-25 01:08:53,828][kfold_wrapper.log_eval_metrics] Accuracy(layer_0 - estimator_0 - 10_folds.train_9.predict)=97.83%\n",
      "[ 2018-04-25 01:08:53,984][kfold_wrapper.log_eval_metrics] Accuracy(layer_0 - estimator_0 - 10_folds.train_cv.predict)=97.65%\n",
      "[ 2018-04-25 01:08:53,985][kfold_wrapper.log_eval_metrics] Accuracy(layer_0 - estimator_0 - 10_folds.test.predict)=98.87%\n",
      "[ 2018-04-25 01:08:53,997][cascade_classifier.calc_accuracy] Accuracy(layer_0 - train.classifier_average)=97.65%\n",
      "[ 2018-04-25 01:08:53,999][cascade_classifier.calc_accuracy] Accuracy(layer_0 - test.classifier_average)=98.87%\n",
      "[ 2018-04-25 01:08:54,001][cascade_classifier.fit_transform] [Result][Reach Max Layer] opt_layer_num=1, accuracy_train=97.65%, accuracy_test=98.87%\n",
      "[ 2018-04-25 01:08:54,002][cascade_classifier.transform] X_groups_test.shape=[(1591, 7)]\n",
      "[ 2018-04-25 01:08:54,005][cascade_classifier.transform] group_dims=[7]\n",
      "[ 2018-04-25 01:08:54,006][cascade_classifier.transform] X_test.shape=(1591, 7)\n",
      "[ 2018-04-25 01:08:54,008][cascade_classifier.transform] [layer=0] look_indexs=[0], X_cur_test.shape=(1591, 7)\n"
     ]
    },
    {
     "name": "stdout",
     "output_type": "stream",
     "text": [
      "('Test Accuracy of ExtraTrees = 98.868636 %', 19, 'fois')\n"
     ]
    }
   ],
   "source": [
    "# Deep\n",
    "for i in range (20):\n",
    "    X_train,X_test=update(X_train,X_test)\n",
    "    X_test_enc, X_train_enc=newdata(X_test_enc, X_train_enc)\n",
    "\n",
    "    X_train=X_train_enc\n",
    "    X_test=X_test_enc \n",
    "    X_train_enc, X_test_enc = gc.fit_transform(X_train, y_train, X_test=X_test, y_test=y_test)\n",
    "    affiche()"
   ]
  },
  {
   "cell_type": "code",
   "execution_count": null,
   "metadata": {
    "collapsed": true
   },
   "outputs": [],
   "source": []
  },
  {
   "cell_type": "markdown",
   "metadata": {},
   "source": [
    "# ('Test Accuracy of ExtraTrees = 98.931490 %', 14, 'fois')"
   ]
  },
  {
   "cell_type": "code",
   "execution_count": null,
   "metadata": {
    "collapsed": true
   },
   "outputs": [],
   "source": []
  }
 ],
 "metadata": {
  "kernelspec": {
   "display_name": "Python 2",
   "language": "python",
   "name": "python2"
  },
  "language_info": {
   "codemirror_mode": {
    "name": "ipython",
    "version": 2
   },
   "file_extension": ".py",
   "mimetype": "text/x-python",
   "name": "python",
   "nbconvert_exporter": "python",
   "pygments_lexer": "ipython2",
   "version": "2.7.14"
  }
 },
 "nbformat": 4,
 "nbformat_minor": 2
}
