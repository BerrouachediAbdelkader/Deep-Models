{
 "cells": [
  {
   "cell_type": "code",
   "execution_count": 1,
   "metadata": {
    "collapsed": true
   },
   "outputs": [],
   "source": [
    "# imports \n",
    "import numpy as np\n",
    "from math import sqrt \n",
    "from pprint import pprint\n",
    "from numpy import array\n",
    "from scipy.io import arff\n",
    "import pandas as pd"
   ]
  },
  {
   "cell_type": "code",
   "execution_count": 2,
   "metadata": {},
   "outputs": [
    {
     "data": {
      "text/html": [
       "<div>\n",
       "<style>\n",
       "    .dataframe thead tr:only-child th {\n",
       "        text-align: right;\n",
       "    }\n",
       "\n",
       "    .dataframe thead th {\n",
       "        text-align: left;\n",
       "    }\n",
       "\n",
       "    .dataframe tbody tr th {\n",
       "        vertical-align: top;\n",
       "    }\n",
       "</style>\n",
       "<table border=\"1\" class=\"dataframe\">\n",
       "  <thead>\n",
       "    <tr style=\"text-align: right;\">\n",
       "      <th></th>\n",
       "      <th>att1</th>\n",
       "      <th>att2</th>\n",
       "      <th>att3</th>\n",
       "      <th>att4</th>\n",
       "      <th>att5</th>\n",
       "      <th>att6</th>\n",
       "      <th>att7</th>\n",
       "      <th>att8</th>\n",
       "      <th>att9</th>\n",
       "      <th>att10</th>\n",
       "      <th>...</th>\n",
       "      <th>att13</th>\n",
       "      <th>att14</th>\n",
       "      <th>att15</th>\n",
       "      <th>att16</th>\n",
       "      <th>att17</th>\n",
       "      <th>att18</th>\n",
       "      <th>att19</th>\n",
       "      <th>att20</th>\n",
       "      <th>att21</th>\n",
       "      <th>outlier</th>\n",
       "    </tr>\n",
       "  </thead>\n",
       "  <tbody>\n",
       "    <tr>\n",
       "      <th>0</th>\n",
       "      <td>0.73</td>\n",
       "      <td>0.0</td>\n",
       "      <td>1.0</td>\n",
       "      <td>0.0</td>\n",
       "      <td>0.0</td>\n",
       "      <td>0.0</td>\n",
       "      <td>0.0</td>\n",
       "      <td>0.0</td>\n",
       "      <td>1.0</td>\n",
       "      <td>0.0</td>\n",
       "      <td>...</td>\n",
       "      <td>0.0</td>\n",
       "      <td>0.0</td>\n",
       "      <td>0.0</td>\n",
       "      <td>0.0</td>\n",
       "      <td>0.00060</td>\n",
       "      <td>0.015</td>\n",
       "      <td>0.120</td>\n",
       "      <td>0.082</td>\n",
       "      <td>0.146</td>\n",
       "      <td>0</td>\n",
       "    </tr>\n",
       "    <tr>\n",
       "      <th>1</th>\n",
       "      <td>0.24</td>\n",
       "      <td>0.0</td>\n",
       "      <td>0.0</td>\n",
       "      <td>0.0</td>\n",
       "      <td>0.0</td>\n",
       "      <td>0.0</td>\n",
       "      <td>0.0</td>\n",
       "      <td>0.0</td>\n",
       "      <td>0.0</td>\n",
       "      <td>0.0</td>\n",
       "      <td>...</td>\n",
       "      <td>0.0</td>\n",
       "      <td>0.0</td>\n",
       "      <td>0.0</td>\n",
       "      <td>0.0</td>\n",
       "      <td>0.00025</td>\n",
       "      <td>0.030</td>\n",
       "      <td>0.143</td>\n",
       "      <td>0.133</td>\n",
       "      <td>0.108</td>\n",
       "      <td>0</td>\n",
       "    </tr>\n",
       "    <tr>\n",
       "      <th>2</th>\n",
       "      <td>0.47</td>\n",
       "      <td>0.0</td>\n",
       "      <td>0.0</td>\n",
       "      <td>0.0</td>\n",
       "      <td>0.0</td>\n",
       "      <td>0.0</td>\n",
       "      <td>0.0</td>\n",
       "      <td>0.0</td>\n",
       "      <td>0.0</td>\n",
       "      <td>0.0</td>\n",
       "      <td>...</td>\n",
       "      <td>0.0</td>\n",
       "      <td>0.0</td>\n",
       "      <td>0.0</td>\n",
       "      <td>0.0</td>\n",
       "      <td>0.00190</td>\n",
       "      <td>0.024</td>\n",
       "      <td>0.102</td>\n",
       "      <td>0.131</td>\n",
       "      <td>0.078</td>\n",
       "      <td>0</td>\n",
       "    </tr>\n",
       "    <tr>\n",
       "      <th>3</th>\n",
       "      <td>0.64</td>\n",
       "      <td>1.0</td>\n",
       "      <td>0.0</td>\n",
       "      <td>0.0</td>\n",
       "      <td>0.0</td>\n",
       "      <td>0.0</td>\n",
       "      <td>0.0</td>\n",
       "      <td>0.0</td>\n",
       "      <td>0.0</td>\n",
       "      <td>0.0</td>\n",
       "      <td>...</td>\n",
       "      <td>0.0</td>\n",
       "      <td>0.0</td>\n",
       "      <td>0.0</td>\n",
       "      <td>0.0</td>\n",
       "      <td>0.00090</td>\n",
       "      <td>0.017</td>\n",
       "      <td>0.077</td>\n",
       "      <td>0.090</td>\n",
       "      <td>0.085</td>\n",
       "      <td>0</td>\n",
       "    </tr>\n",
       "    <tr>\n",
       "      <th>4</th>\n",
       "      <td>0.23</td>\n",
       "      <td>0.0</td>\n",
       "      <td>0.0</td>\n",
       "      <td>0.0</td>\n",
       "      <td>0.0</td>\n",
       "      <td>0.0</td>\n",
       "      <td>0.0</td>\n",
       "      <td>0.0</td>\n",
       "      <td>0.0</td>\n",
       "      <td>0.0</td>\n",
       "      <td>...</td>\n",
       "      <td>0.0</td>\n",
       "      <td>0.0</td>\n",
       "      <td>0.0</td>\n",
       "      <td>0.0</td>\n",
       "      <td>0.00025</td>\n",
       "      <td>0.026</td>\n",
       "      <td>0.139</td>\n",
       "      <td>0.090</td>\n",
       "      <td>0.153</td>\n",
       "      <td>0</td>\n",
       "    </tr>\n",
       "  </tbody>\n",
       "</table>\n",
       "<p>5 rows × 22 columns</p>\n",
       "</div>"
      ],
      "text/plain": [
       "   att1  att2  att3  att4  att5  att6  att7  att8  att9  att10   ...     \\\n",
       "0  0.73   0.0   1.0   0.0   0.0   0.0   0.0   0.0   1.0    0.0   ...      \n",
       "1  0.24   0.0   0.0   0.0   0.0   0.0   0.0   0.0   0.0    0.0   ...      \n",
       "2  0.47   0.0   0.0   0.0   0.0   0.0   0.0   0.0   0.0    0.0   ...      \n",
       "3  0.64   1.0   0.0   0.0   0.0   0.0   0.0   0.0   0.0    0.0   ...      \n",
       "4  0.23   0.0   0.0   0.0   0.0   0.0   0.0   0.0   0.0    0.0   ...      \n",
       "\n",
       "   att13  att14  att15  att16    att17  att18  att19  att20  att21  outlier  \n",
       "0    0.0    0.0    0.0    0.0  0.00060  0.015  0.120  0.082  0.146        0  \n",
       "1    0.0    0.0    0.0    0.0  0.00025  0.030  0.143  0.133  0.108        0  \n",
       "2    0.0    0.0    0.0    0.0  0.00190  0.024  0.102  0.131  0.078        0  \n",
       "3    0.0    0.0    0.0    0.0  0.00090  0.017  0.077  0.090  0.085        0  \n",
       "4    0.0    0.0    0.0    0.0  0.00025  0.026  0.139  0.090  0.153        0  \n",
       "\n",
       "[5 rows x 22 columns]"
      ]
     },
     "execution_count": 2,
     "metadata": {},
     "output_type": "execute_result"
    }
   ],
   "source": [
    "# load data\n",
    "\n",
    "df=pd.read_csv('Annthyroid_02_v01.csv')  \n",
    "\n",
    "del df['id']\n",
    "del df['Unnamed: 0']\n",
    "df['outlier'] = df.outlier.apply(lambda label: 1 if label == \"'yes'\" else 0)\n",
    "\n",
    "df.head()"
   ]
  },
  {
   "cell_type": "code",
   "execution_count": 3,
   "metadata": {},
   "outputs": [
    {
     "data": {
      "text/plain": [
       "(6802, 22)"
      ]
     },
     "execution_count": 3,
     "metadata": {},
     "output_type": "execute_result"
    }
   ],
   "source": [
    "df.shape"
   ]
  },
  {
   "cell_type": "code",
   "execution_count": 4,
   "metadata": {
    "collapsed": true
   },
   "outputs": [],
   "source": [
    "# data to values\n",
    "df = df.values"
   ]
  },
  {
   "cell_type": "code",
   "execution_count": 5,
   "metadata": {
    "collapsed": true
   },
   "outputs": [],
   "source": [
    "# Extratrees Deep\n",
    "import argparse\n",
    "import sys\n",
    "import pickle\n",
    "from sklearn.metrics import accuracy_score\n",
    "sys.path.insert(0, \"lib\")\n",
    "from gcforest.gcforest import GCForest\n",
    "from gcforest.utils.config_utils import load_json\n",
    "config = load_json(\"./examples/Annthyroid.json\")\n",
    "gc = GCForest(config)"
   ]
  },
  {
   "cell_type": "code",
   "execution_count": 15,
   "metadata": {
    "collapsed": true
   },
   "outputs": [],
   "source": [
    "# train test \n",
    "from sklearn.cross_validation import train_test_split\n",
    "y = df[:,21]\n",
    "X = df[:,0:21]\n",
    "\n",
    "X_train,X_test,y_train,y_test = train_test_split(X, y, test_size=0.33, random_state=42)"
   ]
  },
  {
   "cell_type": "code",
   "execution_count": 7,
   "metadata": {},
   "outputs": [
    {
     "data": {
      "text/plain": [
       "2"
      ]
     },
     "execution_count": 7,
     "metadata": {},
     "output_type": "execute_result"
    }
   ],
   "source": [
    "# number of class\n",
    "len(np.unique(y_train))"
   ]
  },
  {
   "cell_type": "code",
   "execution_count": 8,
   "metadata": {},
   "outputs": [
    {
     "name": "stderr",
     "output_type": "stream",
     "text": [
      "[ 2018-04-25 00:15:29,278][cascade_classifier.fit_transform] X_groups_train.shape=[(4557, 21)],y_train.shape=(4557,),X_groups_test.shape=[(2245, 21)],y_test.shape=(2245,)\n",
      "[ 2018-04-25 00:15:29,280][cascade_classifier.fit_transform] group_dims=[21]\n",
      "[ 2018-04-25 00:15:29,282][cascade_classifier.fit_transform] group_starts=[0]\n",
      "[ 2018-04-25 00:15:29,284][cascade_classifier.fit_transform] group_ends=[21]\n",
      "[ 2018-04-25 00:15:29,285][cascade_classifier.fit_transform] X_train.shape=(4557, 21),X_test.shape=(2245, 21)\n",
      "[ 2018-04-25 00:15:29,288][cascade_classifier.fit_transform] [layer=0] look_indexs=[0], X_cur_train.shape=(4557, 21), X_cur_test.shape=(2245, 21)\n",
      "[ 2018-04-25 00:15:29,957][kfold_wrapper.log_eval_metrics] Accuracy(layer_0 - estimator_0 - 10_folds.train_0.predict)=98.25%\n",
      "[ 2018-04-25 00:15:30,805][kfold_wrapper.log_eval_metrics] Accuracy(layer_0 - estimator_0 - 10_folds.train_1.predict)=99.12%\n",
      "[ 2018-04-25 00:15:31,590][kfold_wrapper.log_eval_metrics] Accuracy(layer_0 - estimator_0 - 10_folds.train_2.predict)=98.68%\n",
      "[ 2018-04-25 00:15:32,360][kfold_wrapper.log_eval_metrics] Accuracy(layer_0 - estimator_0 - 10_folds.train_3.predict)=98.90%\n",
      "[ 2018-04-25 00:15:33,260][kfold_wrapper.log_eval_metrics] Accuracy(layer_0 - estimator_0 - 10_folds.train_4.predict)=99.56%\n",
      "[ 2018-04-25 00:15:34,037][kfold_wrapper.log_eval_metrics] Accuracy(layer_0 - estimator_0 - 10_folds.train_5.predict)=98.90%\n",
      "[ 2018-04-25 00:15:34,874][kfold_wrapper.log_eval_metrics] Accuracy(layer_0 - estimator_0 - 10_folds.train_6.predict)=99.34%\n",
      "[ 2018-04-25 00:15:35,686][kfold_wrapper.log_eval_metrics] Accuracy(layer_0 - estimator_0 - 10_folds.train_7.predict)=98.68%\n",
      "[ 2018-04-25 00:15:36,497][kfold_wrapper.log_eval_metrics] Accuracy(layer_0 - estimator_0 - 10_folds.train_8.predict)=98.46%\n",
      "[ 2018-04-25 00:15:37,308][kfold_wrapper.log_eval_metrics] Accuracy(layer_0 - estimator_0 - 10_folds.train_9.predict)=98.46%\n",
      "[ 2018-04-25 00:15:37,460][kfold_wrapper.log_eval_metrics] Accuracy(layer_0 - estimator_0 - 10_folds.train_cv.predict)=98.84%\n",
      "[ 2018-04-25 00:15:37,462][kfold_wrapper.log_eval_metrics] Accuracy(layer_0 - estimator_0 - 10_folds.test.predict)=98.75%\n",
      "[ 2018-04-25 00:15:37,464][cascade_classifier.calc_accuracy] Accuracy(layer_0 - train.classifier_average)=98.84%\n",
      "[ 2018-04-25 00:15:37,466][cascade_classifier.calc_accuracy] Accuracy(layer_0 - test.classifier_average)=98.75%\n",
      "[ 2018-04-25 00:15:37,467][cascade_classifier.fit_transform] [Result][Reach Max Layer] opt_layer_num=1, accuracy_train=98.84%, accuracy_test=98.75%\n"
     ]
    }
   ],
   "source": [
    "         # X_enc is the concatenated predict_proba result of ExtraTrees\n",
    "\n",
    "X_train_enc, X_test_enc = gc.fit_transform(X_train, y_train, X_test=X_test, y_test=y_test)\n",
    "   "
   ]
  },
  {
   "cell_type": "code",
   "execution_count": 9,
   "metadata": {},
   "outputs": [
    {
     "name": "stderr",
     "output_type": "stream",
     "text": [
      "[ 2018-04-25 00:15:37,479][cascade_classifier.transform] X_groups_test.shape=[(2245, 21)]\n",
      "[ 2018-04-25 00:15:37,481][cascade_classifier.transform] group_dims=[21]\n",
      "[ 2018-04-25 00:15:37,483][cascade_classifier.transform] X_test.shape=(2245, 21)\n",
      "[ 2018-04-25 00:15:37,485][cascade_classifier.transform] [layer=0] look_indexs=[0], X_cur_test.shape=(2245, 21)\n"
     ]
    },
    {
     "name": "stdout",
     "output_type": "stream",
     "text": [
      "Test Accuracy of ExtraTrees = 98.752784 %\n"
     ]
    }
   ],
   "source": [
    "# predict\n",
    "y_pred = gc.predict(X_test)\n",
    "acc = accuracy_score(y_test, y_pred)\n",
    "print(\"Test Accuracy of ExtraTrees = {:.6f} %\".format(acc * 100))"
   ]
  },
  {
   "cell_type": "code",
   "execution_count": 10,
   "metadata": {},
   "outputs": [
    {
     "name": "stderr",
     "output_type": "stream",
     "text": [
      "[ 2018-04-25 00:15:39,003][cascade_classifier.transform] X_groups_test.shape=[(2245, 21)]\n",
      "[ 2018-04-25 00:15:39,005][cascade_classifier.transform] group_dims=[21]\n",
      "[ 2018-04-25 00:15:39,008][cascade_classifier.transform] X_test.shape=(2245, 21)\n",
      "[ 2018-04-25 00:15:39,010][cascade_classifier.transform] [layer=0] look_indexs=[0], X_cur_test.shape=(2245, 21)\n"
     ]
    }
   ],
   "source": [
    "# Make data + estimators\n",
    "X_test_enc = gc.transform(X_test)\n",
    "X_train_enc = X_train_enc.reshape((X_train_enc.shape[0], -1))\n",
    "X_test_enc = X_test_enc.reshape((X_test_enc.shape[0], -1))\n",
    "X_train_origin = X_train.reshape((X_train.shape[0], -1))\n",
    "X_test_origin = X_test.reshape((X_test.shape[0], -1))\n",
    "X_train_enc = np.hstack((X_train_origin, X_train_enc))\n",
    "X_test_enc = np.hstack((X_test_origin, X_test_enc))"
   ]
  },
  {
   "cell_type": "code",
   "execution_count": 11,
   "metadata": {},
   "outputs": [
    {
     "name": "stderr",
     "output_type": "stream",
     "text": [
      "[ 2018-04-25 00:15:40,633][cascade_classifier.fit_transform] X_groups_train.shape=[(4557, 23)],y_train.shape=(4557,),X_groups_test.shape=[(2245, 23)],y_test.shape=(2245,)\n",
      "[ 2018-04-25 00:15:40,635][cascade_classifier.fit_transform] group_dims=[23]\n",
      "[ 2018-04-25 00:15:40,637][cascade_classifier.fit_transform] group_starts=[0]\n",
      "[ 2018-04-25 00:15:40,638][cascade_classifier.fit_transform] group_ends=[23]\n",
      "[ 2018-04-25 00:15:40,640][cascade_classifier.fit_transform] X_train.shape=(4557, 23),X_test.shape=(2245, 23)\n",
      "[ 2018-04-25 00:15:40,642][cascade_classifier.fit_transform] [layer=0] look_indexs=[0], X_cur_train.shape=(4557, 23), X_cur_test.shape=(2245, 23)\n",
      "[ 2018-04-25 00:15:41,292][kfold_wrapper.log_eval_metrics] Accuracy(layer_0 - estimator_0 - 10_folds.train_0.predict)=98.68%\n",
      "[ 2018-04-25 00:15:42,079][kfold_wrapper.log_eval_metrics] Accuracy(layer_0 - estimator_0 - 10_folds.train_1.predict)=99.78%\n",
      "[ 2018-04-25 00:15:42,937][kfold_wrapper.log_eval_metrics] Accuracy(layer_0 - estimator_0 - 10_folds.train_2.predict)=99.56%\n",
      "[ 2018-04-25 00:15:43,760][kfold_wrapper.log_eval_metrics] Accuracy(layer_0 - estimator_0 - 10_folds.train_3.predict)=99.34%\n",
      "[ 2018-04-25 00:15:44,568][kfold_wrapper.log_eval_metrics] Accuracy(layer_0 - estimator_0 - 10_folds.train_4.predict)=99.56%\n",
      "[ 2018-04-25 00:15:45,504][kfold_wrapper.log_eval_metrics] Accuracy(layer_0 - estimator_0 - 10_folds.train_5.predict)=99.56%\n",
      "[ 2018-04-25 00:15:46,289][kfold_wrapper.log_eval_metrics] Accuracy(layer_0 - estimator_0 - 10_folds.train_6.predict)=99.56%\n",
      "[ 2018-04-25 00:15:47,057][kfold_wrapper.log_eval_metrics] Accuracy(layer_0 - estimator_0 - 10_folds.train_7.predict)=99.56%\n",
      "[ 2018-04-25 00:15:47,839][kfold_wrapper.log_eval_metrics] Accuracy(layer_0 - estimator_0 - 10_folds.train_8.predict)=99.56%\n",
      "[ 2018-04-25 00:15:48,616][kfold_wrapper.log_eval_metrics] Accuracy(layer_0 - estimator_0 - 10_folds.train_9.predict)=98.24%\n",
      "[ 2018-04-25 00:15:48,773][kfold_wrapper.log_eval_metrics] Accuracy(layer_0 - estimator_0 - 10_folds.train_cv.predict)=99.34%\n",
      "[ 2018-04-25 00:15:48,775][kfold_wrapper.log_eval_metrics] Accuracy(layer_0 - estimator_0 - 10_folds.test.predict)=99.15%\n",
      "[ 2018-04-25 00:15:48,783][cascade_classifier.calc_accuracy] Accuracy(layer_0 - train.classifier_average)=99.34%\n",
      "[ 2018-04-25 00:15:48,784][cascade_classifier.calc_accuracy] Accuracy(layer_0 - test.classifier_average)=99.15%\n",
      "[ 2018-04-25 00:15:48,786][cascade_classifier.fit_transform] [Result][Reach Max Layer] opt_layer_num=1, accuracy_train=99.34%, accuracy_test=99.15%\n"
     ]
    }
   ],
   "source": [
    "# New data\n",
    "X_train=X_train_enc\n",
    "X_test=X_test_enc \n",
    "X_train_enc, X_test_enc = gc.fit_transform(X_train, y_train, X_test=X_test, y_test=y_test)"
   ]
  },
  {
   "cell_type": "code",
   "execution_count": 12,
   "metadata": {},
   "outputs": [
    {
     "name": "stderr",
     "output_type": "stream",
     "text": [
      "[ 2018-04-25 00:15:48,796][cascade_classifier.transform] X_groups_test.shape=[(2245, 23)]\n",
      "[ 2018-04-25 00:15:48,799][cascade_classifier.transform] group_dims=[23]\n",
      "[ 2018-04-25 00:15:48,801][cascade_classifier.transform] X_test.shape=(2245, 23)\n",
      "[ 2018-04-25 00:15:48,803][cascade_classifier.transform] [layer=0] look_indexs=[0], X_cur_test.shape=(2245, 23)\n"
     ]
    },
    {
     "name": "stdout",
     "output_type": "stream",
     "text": [
      "Test Accuracy of ExtraTrees = 99.153675 %\n"
     ]
    }
   ],
   "source": [
    "# predict  data + Es\n",
    "y_pred = gc.predict(X_test)\n",
    "acc = accuracy_score(y_test, y_pred)\n",
    "print(\"Test Accuracy of ExtraTrees = {:.6f} %\".format(acc * 100))"
   ]
  },
  {
   "cell_type": "code",
   "execution_count": 13,
   "metadata": {
    "collapsed": true
   },
   "outputs": [],
   "source": [
    "def update(X_train,X_test):\n",
    "    # update Estimators\n",
    "    M = np.delete(X_train, (-1), axis=1)\n",
    "    X_train= np.delete(M, (-1), axis=1)\n",
    "    M = np.delete(X_test, (-1), axis=1)\n",
    "    X_test = np.delete(M, (-1), axis=1)\n",
    "    return X_train,X_test\n",
    "\n",
    "def newdata(X_test_enc, X_train_enc):\n",
    "    # Make Data + Estimators\n",
    "    X_train_origin = X_train.reshape((X_train.shape[0], -1))\n",
    "    X_test_origin = X_test.reshape((X_test.shape[0], -1))\n",
    "    X_train_enc = np.hstack((X_train_origin, X_train_enc))\n",
    "    X_test_enc = np.hstack((X_test_origin, X_test_enc))\n",
    "    return X_test_enc, X_train_enc\n",
    "\n",
    "def affiche():\n",
    "    # predict\n",
    "    y_pred = gc.predict(X_test)\n",
    "    acc = accuracy_score(y_test, y_pred)\n",
    "    print(\"Test Accuracy of ExtraTrees = {:.6f} %\".format(acc * 100),i,'fois')"
   ]
  },
  {
   "cell_type": "code",
   "execution_count": 14,
   "metadata": {},
   "outputs": [
    {
     "name": "stderr",
     "output_type": "stream",
     "text": [
      "[ 2018-04-25 00:15:50,351][cascade_classifier.fit_transform] X_groups_train.shape=[(4557, 23)],y_train.shape=(4557,),X_groups_test.shape=[(2245, 23)],y_test.shape=(2245,)\n",
      "[ 2018-04-25 00:15:50,354][cascade_classifier.fit_transform] group_dims=[23]\n",
      "[ 2018-04-25 00:15:50,355][cascade_classifier.fit_transform] group_starts=[0]\n",
      "[ 2018-04-25 00:15:50,357][cascade_classifier.fit_transform] group_ends=[23]\n",
      "[ 2018-04-25 00:15:50,359][cascade_classifier.fit_transform] X_train.shape=(4557, 23),X_test.shape=(2245, 23)\n",
      "[ 2018-04-25 00:15:50,361][cascade_classifier.fit_transform] [layer=0] look_indexs=[0], X_cur_train.shape=(4557, 23), X_cur_test.shape=(2245, 23)\n",
      "[ 2018-04-25 00:15:50,983][kfold_wrapper.log_eval_metrics] Accuracy(layer_0 - estimator_0 - 10_folds.train_0.predict)=98.46%\n",
      "[ 2018-04-25 00:15:51,796][kfold_wrapper.log_eval_metrics] Accuracy(layer_0 - estimator_0 - 10_folds.train_1.predict)=99.56%\n",
      "[ 2018-04-25 00:15:52,625][kfold_wrapper.log_eval_metrics] Accuracy(layer_0 - estimator_0 - 10_folds.train_2.predict)=99.56%\n",
      "[ 2018-04-25 00:15:53,422][kfold_wrapper.log_eval_metrics] Accuracy(layer_0 - estimator_0 - 10_folds.train_3.predict)=99.34%\n",
      "[ 2018-04-25 00:15:54,220][kfold_wrapper.log_eval_metrics] Accuracy(layer_0 - estimator_0 - 10_folds.train_4.predict)=99.56%\n",
      "[ 2018-04-25 00:15:55,020][kfold_wrapper.log_eval_metrics] Accuracy(layer_0 - estimator_0 - 10_folds.train_5.predict)=99.56%\n",
      "[ 2018-04-25 00:15:55,857][kfold_wrapper.log_eval_metrics] Accuracy(layer_0 - estimator_0 - 10_folds.train_6.predict)=99.34%\n",
      "[ 2018-04-25 00:15:56,654][kfold_wrapper.log_eval_metrics] Accuracy(layer_0 - estimator_0 - 10_folds.train_7.predict)=99.56%\n",
      "[ 2018-04-25 00:15:57,529][kfold_wrapper.log_eval_metrics] Accuracy(layer_0 - estimator_0 - 10_folds.train_8.predict)=99.34%\n",
      "[ 2018-04-25 00:15:58,333][kfold_wrapper.log_eval_metrics] Accuracy(layer_0 - estimator_0 - 10_folds.train_9.predict)=98.24%\n",
      "[ 2018-04-25 00:15:58,488][kfold_wrapper.log_eval_metrics] Accuracy(layer_0 - estimator_0 - 10_folds.train_cv.predict)=99.25%\n",
      "[ 2018-04-25 00:15:58,490][kfold_wrapper.log_eval_metrics] Accuracy(layer_0 - estimator_0 - 10_folds.test.predict)=99.15%\n",
      "[ 2018-04-25 00:15:58,499][cascade_classifier.calc_accuracy] Accuracy(layer_0 - train.classifier_average)=99.25%\n",
      "[ 2018-04-25 00:15:58,501][cascade_classifier.calc_accuracy] Accuracy(layer_0 - test.classifier_average)=99.15%\n",
      "[ 2018-04-25 00:15:58,503][cascade_classifier.fit_transform] [Result][Reach Max Layer] opt_layer_num=1, accuracy_train=99.25%, accuracy_test=99.15%\n",
      "[ 2018-04-25 00:15:58,504][cascade_classifier.transform] X_groups_test.shape=[(2245, 23)]\n",
      "[ 2018-04-25 00:15:58,507][cascade_classifier.transform] group_dims=[23]\n",
      "[ 2018-04-25 00:15:58,508][cascade_classifier.transform] X_test.shape=(2245, 23)\n",
      "[ 2018-04-25 00:15:58,510][cascade_classifier.transform] [layer=0] look_indexs=[0], X_cur_test.shape=(2245, 23)\n",
      "[ 2018-04-25 00:16:00,042][cascade_classifier.fit_transform] X_groups_train.shape=[(4557, 23)],y_train.shape=(4557,),X_groups_test.shape=[(2245, 23)],y_test.shape=(2245,)\n",
      "[ 2018-04-25 00:16:00,045][cascade_classifier.fit_transform] group_dims=[23]\n",
      "[ 2018-04-25 00:16:00,046][cascade_classifier.fit_transform] group_starts=[0]\n",
      "[ 2018-04-25 00:16:00,048][cascade_classifier.fit_transform] group_ends=[23]\n",
      "[ 2018-04-25 00:16:00,049][cascade_classifier.fit_transform] X_train.shape=(4557, 23),X_test.shape=(2245, 23)\n",
      "[ 2018-04-25 00:16:00,051][cascade_classifier.fit_transform] [layer=0] look_indexs=[0], X_cur_train.shape=(4557, 23), X_cur_test.shape=(2245, 23)\n"
     ]
    },
    {
     "name": "stdout",
     "output_type": "stream",
     "text": [
      "('Test Accuracy of ExtraTrees = 99.153675 %', 0, 'fois')\n"
     ]
    },
    {
     "name": "stderr",
     "output_type": "stream",
     "text": [
      "[ 2018-04-25 00:16:00,669][kfold_wrapper.log_eval_metrics] Accuracy(layer_0 - estimator_0 - 10_folds.train_0.predict)=98.46%\n",
      "[ 2018-04-25 00:16:01,438][kfold_wrapper.log_eval_metrics] Accuracy(layer_0 - estimator_0 - 10_folds.train_1.predict)=99.78%\n",
      "[ 2018-04-25 00:16:02,280][kfold_wrapper.log_eval_metrics] Accuracy(layer_0 - estimator_0 - 10_folds.train_2.predict)=99.56%\n",
      "[ 2018-04-25 00:16:03,092][kfold_wrapper.log_eval_metrics] Accuracy(layer_0 - estimator_0 - 10_folds.train_3.predict)=99.34%\n",
      "[ 2018-04-25 00:16:03,912][kfold_wrapper.log_eval_metrics] Accuracy(layer_0 - estimator_0 - 10_folds.train_4.predict)=99.34%\n",
      "[ 2018-04-25 00:16:04,694][kfold_wrapper.log_eval_metrics] Accuracy(layer_0 - estimator_0 - 10_folds.train_5.predict)=99.34%\n",
      "[ 2018-04-25 00:16:05,529][kfold_wrapper.log_eval_metrics] Accuracy(layer_0 - estimator_0 - 10_folds.train_6.predict)=99.34%\n",
      "[ 2018-04-25 00:16:06,306][kfold_wrapper.log_eval_metrics] Accuracy(layer_0 - estimator_0 - 10_folds.train_7.predict)=99.34%\n",
      "[ 2018-04-25 00:16:07,108][kfold_wrapper.log_eval_metrics] Accuracy(layer_0 - estimator_0 - 10_folds.train_8.predict)=99.34%\n",
      "[ 2018-04-25 00:16:07,942][kfold_wrapper.log_eval_metrics] Accuracy(layer_0 - estimator_0 - 10_folds.train_9.predict)=98.02%\n",
      "[ 2018-04-25 00:16:08,096][kfold_wrapper.log_eval_metrics] Accuracy(layer_0 - estimator_0 - 10_folds.train_cv.predict)=99.19%\n",
      "[ 2018-04-25 00:16:08,098][kfold_wrapper.log_eval_metrics] Accuracy(layer_0 - estimator_0 - 10_folds.test.predict)=99.06%\n",
      "[ 2018-04-25 00:16:08,107][cascade_classifier.calc_accuracy] Accuracy(layer_0 - train.classifier_average)=99.19%\n",
      "[ 2018-04-25 00:16:08,109][cascade_classifier.calc_accuracy] Accuracy(layer_0 - test.classifier_average)=99.06%\n",
      "[ 2018-04-25 00:16:08,111][cascade_classifier.fit_transform] [Result][Reach Max Layer] opt_layer_num=1, accuracy_train=99.19%, accuracy_test=99.06%\n",
      "[ 2018-04-25 00:16:08,112][cascade_classifier.transform] X_groups_test.shape=[(2245, 23)]\n",
      "[ 2018-04-25 00:16:08,115][cascade_classifier.transform] group_dims=[23]\n",
      "[ 2018-04-25 00:16:08,116][cascade_classifier.transform] X_test.shape=(2245, 23)\n",
      "[ 2018-04-25 00:16:08,118][cascade_classifier.transform] [layer=0] look_indexs=[0], X_cur_test.shape=(2245, 23)\n",
      "[ 2018-04-25 00:16:09,728][cascade_classifier.fit_transform] X_groups_train.shape=[(4557, 23)],y_train.shape=(4557,),X_groups_test.shape=[(2245, 23)],y_test.shape=(2245,)\n",
      "[ 2018-04-25 00:16:09,730][cascade_classifier.fit_transform] group_dims=[23]\n",
      "[ 2018-04-25 00:16:09,732][cascade_classifier.fit_transform] group_starts=[0]\n",
      "[ 2018-04-25 00:16:09,733][cascade_classifier.fit_transform] group_ends=[23]\n",
      "[ 2018-04-25 00:16:09,735][cascade_classifier.fit_transform] X_train.shape=(4557, 23),X_test.shape=(2245, 23)\n",
      "[ 2018-04-25 00:16:09,737][cascade_classifier.fit_transform] [layer=0] look_indexs=[0], X_cur_train.shape=(4557, 23), X_cur_test.shape=(2245, 23)\n"
     ]
    },
    {
     "name": "stdout",
     "output_type": "stream",
     "text": [
      "('Test Accuracy of ExtraTrees = 99.064588 %', 1, 'fois')\n"
     ]
    },
    {
     "name": "stderr",
     "output_type": "stream",
     "text": [
      "[ 2018-04-25 00:16:10,357][kfold_wrapper.log_eval_metrics] Accuracy(layer_0 - estimator_0 - 10_folds.train_0.predict)=98.68%\n",
      "[ 2018-04-25 00:16:11,124][kfold_wrapper.log_eval_metrics] Accuracy(layer_0 - estimator_0 - 10_folds.train_1.predict)=99.34%\n",
      "[ 2018-04-25 00:16:11,893][kfold_wrapper.log_eval_metrics] Accuracy(layer_0 - estimator_0 - 10_folds.train_2.predict)=99.78%\n",
      "[ 2018-04-25 00:16:12,672][kfold_wrapper.log_eval_metrics] Accuracy(layer_0 - estimator_0 - 10_folds.train_3.predict)=99.34%\n",
      "[ 2018-04-25 00:16:13,512][kfold_wrapper.log_eval_metrics] Accuracy(layer_0 - estimator_0 - 10_folds.train_4.predict)=99.34%\n",
      "[ 2018-04-25 00:16:14,344][kfold_wrapper.log_eval_metrics] Accuracy(layer_0 - estimator_0 - 10_folds.train_5.predict)=99.56%\n",
      "[ 2018-04-25 00:16:15,212][kfold_wrapper.log_eval_metrics] Accuracy(layer_0 - estimator_0 - 10_folds.train_6.predict)=99.34%\n",
      "[ 2018-04-25 00:16:15,985][kfold_wrapper.log_eval_metrics] Accuracy(layer_0 - estimator_0 - 10_folds.train_7.predict)=99.34%\n",
      "[ 2018-04-25 00:16:16,756][kfold_wrapper.log_eval_metrics] Accuracy(layer_0 - estimator_0 - 10_folds.train_8.predict)=99.56%\n",
      "[ 2018-04-25 00:16:17,528][kfold_wrapper.log_eval_metrics] Accuracy(layer_0 - estimator_0 - 10_folds.train_9.predict)=98.90%\n",
      "[ 2018-04-25 00:16:17,682][kfold_wrapper.log_eval_metrics] Accuracy(layer_0 - estimator_0 - 10_folds.train_cv.predict)=99.32%\n",
      "[ 2018-04-25 00:16:17,684][kfold_wrapper.log_eval_metrics] Accuracy(layer_0 - estimator_0 - 10_folds.test.predict)=99.29%\n",
      "[ 2018-04-25 00:16:17,689][cascade_classifier.calc_accuracy] Accuracy(layer_0 - train.classifier_average)=99.32%\n",
      "[ 2018-04-25 00:16:17,691][cascade_classifier.calc_accuracy] Accuracy(layer_0 - test.classifier_average)=99.29%\n",
      "[ 2018-04-25 00:16:17,693][cascade_classifier.fit_transform] [Result][Reach Max Layer] opt_layer_num=1, accuracy_train=99.32%, accuracy_test=99.29%\n",
      "[ 2018-04-25 00:16:17,694][cascade_classifier.transform] X_groups_test.shape=[(2245, 23)]\n",
      "[ 2018-04-25 00:16:17,696][cascade_classifier.transform] group_dims=[23]\n",
      "[ 2018-04-25 00:16:17,698][cascade_classifier.transform] X_test.shape=(2245, 23)\n",
      "[ 2018-04-25 00:16:17,699][cascade_classifier.transform] [layer=0] look_indexs=[0], X_cur_test.shape=(2245, 23)\n",
      "[ 2018-04-25 00:16:19,199][cascade_classifier.fit_transform] X_groups_train.shape=[(4557, 23)],y_train.shape=(4557,),X_groups_test.shape=[(2245, 23)],y_test.shape=(2245,)\n",
      "[ 2018-04-25 00:16:19,202][cascade_classifier.fit_transform] group_dims=[23]\n",
      "[ 2018-04-25 00:16:19,203][cascade_classifier.fit_transform] group_starts=[0]\n",
      "[ 2018-04-25 00:16:19,205][cascade_classifier.fit_transform] group_ends=[23]\n",
      "[ 2018-04-25 00:16:19,207][cascade_classifier.fit_transform] X_train.shape=(4557, 23),X_test.shape=(2245, 23)\n",
      "[ 2018-04-25 00:16:19,209][cascade_classifier.fit_transform] [layer=0] look_indexs=[0], X_cur_train.shape=(4557, 23), X_cur_test.shape=(2245, 23)\n"
     ]
    },
    {
     "name": "stdout",
     "output_type": "stream",
     "text": [
      "('Test Accuracy of ExtraTrees = 99.287305 %', 2, 'fois')\n"
     ]
    },
    {
     "name": "stderr",
     "output_type": "stream",
     "text": [
      "[ 2018-04-25 00:16:19,855][kfold_wrapper.log_eval_metrics] Accuracy(layer_0 - estimator_0 - 10_folds.train_0.predict)=98.68%\n",
      "[ 2018-04-25 00:16:20,619][kfold_wrapper.log_eval_metrics] Accuracy(layer_0 - estimator_0 - 10_folds.train_1.predict)=99.34%\n",
      "[ 2018-04-25 00:16:21,393][kfold_wrapper.log_eval_metrics] Accuracy(layer_0 - estimator_0 - 10_folds.train_2.predict)=99.78%\n",
      "[ 2018-04-25 00:16:22,203][kfold_wrapper.log_eval_metrics] Accuracy(layer_0 - estimator_0 - 10_folds.train_3.predict)=99.34%\n",
      "[ 2018-04-25 00:16:23,000][kfold_wrapper.log_eval_metrics] Accuracy(layer_0 - estimator_0 - 10_folds.train_4.predict)=99.34%\n",
      "[ 2018-04-25 00:16:23,791][kfold_wrapper.log_eval_metrics] Accuracy(layer_0 - estimator_0 - 10_folds.train_5.predict)=99.34%\n",
      "[ 2018-04-25 00:16:24,561][kfold_wrapper.log_eval_metrics] Accuracy(layer_0 - estimator_0 - 10_folds.train_6.predict)=99.34%\n",
      "[ 2018-04-25 00:16:25,347][kfold_wrapper.log_eval_metrics] Accuracy(layer_0 - estimator_0 - 10_folds.train_7.predict)=99.34%\n",
      "[ 2018-04-25 00:16:26,161][kfold_wrapper.log_eval_metrics] Accuracy(layer_0 - estimator_0 - 10_folds.train_8.predict)=99.34%\n",
      "[ 2018-04-25 00:16:26,975][kfold_wrapper.log_eval_metrics] Accuracy(layer_0 - estimator_0 - 10_folds.train_9.predict)=98.24%\n",
      "[ 2018-04-25 00:16:27,127][kfold_wrapper.log_eval_metrics] Accuracy(layer_0 - estimator_0 - 10_folds.train_cv.predict)=99.21%\n",
      "[ 2018-04-25 00:16:27,129][kfold_wrapper.log_eval_metrics] Accuracy(layer_0 - estimator_0 - 10_folds.test.predict)=99.15%\n",
      "[ 2018-04-25 00:16:27,134][cascade_classifier.calc_accuracy] Accuracy(layer_0 - train.classifier_average)=99.21%\n",
      "[ 2018-04-25 00:16:27,135][cascade_classifier.calc_accuracy] Accuracy(layer_0 - test.classifier_average)=99.15%\n",
      "[ 2018-04-25 00:16:27,137][cascade_classifier.fit_transform] [Result][Reach Max Layer] opt_layer_num=1, accuracy_train=99.21%, accuracy_test=99.15%\n",
      "[ 2018-04-25 00:16:27,139][cascade_classifier.transform] X_groups_test.shape=[(2245, 23)]\n",
      "[ 2018-04-25 00:16:27,141][cascade_classifier.transform] group_dims=[23]\n",
      "[ 2018-04-25 00:16:27,142][cascade_classifier.transform] X_test.shape=(2245, 23)\n",
      "[ 2018-04-25 00:16:27,144][cascade_classifier.transform] [layer=0] look_indexs=[0], X_cur_test.shape=(2245, 23)\n",
      "[ 2018-04-25 00:16:28,759][cascade_classifier.fit_transform] X_groups_train.shape=[(4557, 23)],y_train.shape=(4557,),X_groups_test.shape=[(2245, 23)],y_test.shape=(2245,)\n",
      "[ 2018-04-25 00:16:28,761][cascade_classifier.fit_transform] group_dims=[23]\n",
      "[ 2018-04-25 00:16:28,763][cascade_classifier.fit_transform] group_starts=[0]\n",
      "[ 2018-04-25 00:16:28,764][cascade_classifier.fit_transform] group_ends=[23]\n",
      "[ 2018-04-25 00:16:28,766][cascade_classifier.fit_transform] X_train.shape=(4557, 23),X_test.shape=(2245, 23)\n",
      "[ 2018-04-25 00:16:28,769][cascade_classifier.fit_transform] [layer=0] look_indexs=[0], X_cur_train.shape=(4557, 23), X_cur_test.shape=(2245, 23)\n"
     ]
    },
    {
     "name": "stdout",
     "output_type": "stream",
     "text": [
      "('Test Accuracy of ExtraTrees = 99.153675 %', 3, 'fois')\n"
     ]
    },
    {
     "name": "stderr",
     "output_type": "stream",
     "text": [
      "[ 2018-04-25 00:16:29,364][kfold_wrapper.log_eval_metrics] Accuracy(layer_0 - estimator_0 - 10_folds.train_0.predict)=98.68%\n",
      "[ 2018-04-25 00:16:30,188][kfold_wrapper.log_eval_metrics] Accuracy(layer_0 - estimator_0 - 10_folds.train_1.predict)=99.12%\n",
      "[ 2018-04-25 00:16:30,995][kfold_wrapper.log_eval_metrics] Accuracy(layer_0 - estimator_0 - 10_folds.train_2.predict)=99.56%\n",
      "[ 2018-04-25 00:16:31,799][kfold_wrapper.log_eval_metrics] Accuracy(layer_0 - estimator_0 - 10_folds.train_3.predict)=99.34%\n",
      "[ 2018-04-25 00:16:32,593][kfold_wrapper.log_eval_metrics] Accuracy(layer_0 - estimator_0 - 10_folds.train_4.predict)=99.12%\n",
      "[ 2018-04-25 00:16:33,431][kfold_wrapper.log_eval_metrics] Accuracy(layer_0 - estimator_0 - 10_folds.train_5.predict)=99.34%\n",
      "[ 2018-04-25 00:16:34,259][kfold_wrapper.log_eval_metrics] Accuracy(layer_0 - estimator_0 - 10_folds.train_6.predict)=99.34%\n",
      "[ 2018-04-25 00:16:35,050][kfold_wrapper.log_eval_metrics] Accuracy(layer_0 - estimator_0 - 10_folds.train_7.predict)=99.34%\n",
      "[ 2018-04-25 00:16:35,854][kfold_wrapper.log_eval_metrics] Accuracy(layer_0 - estimator_0 - 10_folds.train_8.predict)=99.12%\n",
      "[ 2018-04-25 00:16:36,639][kfold_wrapper.log_eval_metrics] Accuracy(layer_0 - estimator_0 - 10_folds.train_9.predict)=98.24%\n",
      "[ 2018-04-25 00:16:36,791][kfold_wrapper.log_eval_metrics] Accuracy(layer_0 - estimator_0 - 10_folds.train_cv.predict)=99.12%\n",
      "[ 2018-04-25 00:16:36,793][kfold_wrapper.log_eval_metrics] Accuracy(layer_0 - estimator_0 - 10_folds.test.predict)=99.15%\n",
      "[ 2018-04-25 00:16:36,798][cascade_classifier.calc_accuracy] Accuracy(layer_0 - train.classifier_average)=99.12%\n",
      "[ 2018-04-25 00:16:36,800][cascade_classifier.calc_accuracy] Accuracy(layer_0 - test.classifier_average)=99.15%\n",
      "[ 2018-04-25 00:16:36,802][cascade_classifier.fit_transform] [Result][Reach Max Layer] opt_layer_num=1, accuracy_train=99.12%, accuracy_test=99.15%\n",
      "[ 2018-04-25 00:16:36,803][cascade_classifier.transform] X_groups_test.shape=[(2245, 23)]\n",
      "[ 2018-04-25 00:16:36,805][cascade_classifier.transform] group_dims=[23]\n",
      "[ 2018-04-25 00:16:36,807][cascade_classifier.transform] X_test.shape=(2245, 23)\n",
      "[ 2018-04-25 00:16:36,808][cascade_classifier.transform] [layer=0] look_indexs=[0], X_cur_test.shape=(2245, 23)\n",
      "[ 2018-04-25 00:16:38,416][cascade_classifier.fit_transform] X_groups_train.shape=[(4557, 23)],y_train.shape=(4557,),X_groups_test.shape=[(2245, 23)],y_test.shape=(2245,)\n",
      "[ 2018-04-25 00:16:38,419][cascade_classifier.fit_transform] group_dims=[23]\n",
      "[ 2018-04-25 00:16:38,420][cascade_classifier.fit_transform] group_starts=[0]\n",
      "[ 2018-04-25 00:16:38,422][cascade_classifier.fit_transform] group_ends=[23]\n",
      "[ 2018-04-25 00:16:38,424][cascade_classifier.fit_transform] X_train.shape=(4557, 23),X_test.shape=(2245, 23)\n",
      "[ 2018-04-25 00:16:38,426][cascade_classifier.fit_transform] [layer=0] look_indexs=[0], X_cur_train.shape=(4557, 23), X_cur_test.shape=(2245, 23)\n"
     ]
    },
    {
     "name": "stdout",
     "output_type": "stream",
     "text": [
      "('Test Accuracy of ExtraTrees = 99.153675 %', 4, 'fois')\n"
     ]
    },
    {
     "name": "stderr",
     "output_type": "stream",
     "text": [
      "[ 2018-04-25 00:16:39,088][kfold_wrapper.log_eval_metrics] Accuracy(layer_0 - estimator_0 - 10_folds.train_0.predict)=98.46%\n",
      "[ 2018-04-25 00:16:39,939][kfold_wrapper.log_eval_metrics] Accuracy(layer_0 - estimator_0 - 10_folds.train_1.predict)=99.12%\n",
      "[ 2018-04-25 00:16:40,756][kfold_wrapper.log_eval_metrics] Accuracy(layer_0 - estimator_0 - 10_folds.train_2.predict)=99.78%\n",
      "[ 2018-04-25 00:16:41,558][kfold_wrapper.log_eval_metrics] Accuracy(layer_0 - estimator_0 - 10_folds.train_3.predict)=99.34%\n",
      "[ 2018-04-25 00:16:42,395][kfold_wrapper.log_eval_metrics] Accuracy(layer_0 - estimator_0 - 10_folds.train_4.predict)=99.12%\n",
      "[ 2018-04-25 00:16:43,193][kfold_wrapper.log_eval_metrics] Accuracy(layer_0 - estimator_0 - 10_folds.train_5.predict)=99.56%\n",
      "[ 2018-04-25 00:16:44,163][kfold_wrapper.log_eval_metrics] Accuracy(layer_0 - estimator_0 - 10_folds.train_6.predict)=99.34%\n",
      "[ 2018-04-25 00:16:44,964][kfold_wrapper.log_eval_metrics] Accuracy(layer_0 - estimator_0 - 10_folds.train_7.predict)=99.34%\n",
      "[ 2018-04-25 00:16:45,765][kfold_wrapper.log_eval_metrics] Accuracy(layer_0 - estimator_0 - 10_folds.train_8.predict)=99.12%\n",
      "[ 2018-04-25 00:16:46,525][kfold_wrapper.log_eval_metrics] Accuracy(layer_0 - estimator_0 - 10_folds.train_9.predict)=97.80%\n",
      "[ 2018-04-25 00:16:46,680][kfold_wrapper.log_eval_metrics] Accuracy(layer_0 - estimator_0 - 10_folds.train_cv.predict)=99.10%\n",
      "[ 2018-04-25 00:16:46,682][kfold_wrapper.log_eval_metrics] Accuracy(layer_0 - estimator_0 - 10_folds.test.predict)=99.29%\n",
      "[ 2018-04-25 00:16:46,690][cascade_classifier.calc_accuracy] Accuracy(layer_0 - train.classifier_average)=99.10%\n",
      "[ 2018-04-25 00:16:46,693][cascade_classifier.calc_accuracy] Accuracy(layer_0 - test.classifier_average)=99.29%\n",
      "[ 2018-04-25 00:16:46,694][cascade_classifier.fit_transform] [Result][Reach Max Layer] opt_layer_num=1, accuracy_train=99.10%, accuracy_test=99.29%\n",
      "[ 2018-04-25 00:16:46,696][cascade_classifier.transform] X_groups_test.shape=[(2245, 23)]\n",
      "[ 2018-04-25 00:16:46,699][cascade_classifier.transform] group_dims=[23]\n",
      "[ 2018-04-25 00:16:46,700][cascade_classifier.transform] X_test.shape=(2245, 23)\n",
      "[ 2018-04-25 00:16:46,702][cascade_classifier.transform] [layer=0] look_indexs=[0], X_cur_test.shape=(2245, 23)\n",
      "[ 2018-04-25 00:16:48,202][cascade_classifier.fit_transform] X_groups_train.shape=[(4557, 23)],y_train.shape=(4557,),X_groups_test.shape=[(2245, 23)],y_test.shape=(2245,)\n",
      "[ 2018-04-25 00:16:48,204][cascade_classifier.fit_transform] group_dims=[23]\n",
      "[ 2018-04-25 00:16:48,206][cascade_classifier.fit_transform] group_starts=[0]\n",
      "[ 2018-04-25 00:16:48,208][cascade_classifier.fit_transform] group_ends=[23]\n",
      "[ 2018-04-25 00:16:48,210][cascade_classifier.fit_transform] X_train.shape=(4557, 23),X_test.shape=(2245, 23)\n",
      "[ 2018-04-25 00:16:48,212][cascade_classifier.fit_transform] [layer=0] look_indexs=[0], X_cur_train.shape=(4557, 23), X_cur_test.shape=(2245, 23)\n"
     ]
    },
    {
     "name": "stdout",
     "output_type": "stream",
     "text": [
      "('Test Accuracy of ExtraTrees = 99.287305 %', 5, 'fois')\n"
     ]
    },
    {
     "name": "stderr",
     "output_type": "stream",
     "text": [
      "[ 2018-04-25 00:16:48,848][kfold_wrapper.log_eval_metrics] Accuracy(layer_0 - estimator_0 - 10_folds.train_0.predict)=98.25%\n",
      "[ 2018-04-25 00:16:49,626][kfold_wrapper.log_eval_metrics] Accuracy(layer_0 - estimator_0 - 10_folds.train_1.predict)=99.12%\n",
      "[ 2018-04-25 00:16:50,430][kfold_wrapper.log_eval_metrics] Accuracy(layer_0 - estimator_0 - 10_folds.train_2.predict)=99.56%\n",
      "[ 2018-04-25 00:16:51,196][kfold_wrapper.log_eval_metrics] Accuracy(layer_0 - estimator_0 - 10_folds.train_3.predict)=99.34%\n",
      "[ 2018-04-25 00:16:51,967][kfold_wrapper.log_eval_metrics] Accuracy(layer_0 - estimator_0 - 10_folds.train_4.predict)=99.12%\n",
      "[ 2018-04-25 00:16:52,754][kfold_wrapper.log_eval_metrics] Accuracy(layer_0 - estimator_0 - 10_folds.train_5.predict)=99.12%\n",
      "[ 2018-04-25 00:16:53,537][kfold_wrapper.log_eval_metrics] Accuracy(layer_0 - estimator_0 - 10_folds.train_6.predict)=99.56%\n",
      "[ 2018-04-25 00:16:54,307][kfold_wrapper.log_eval_metrics] Accuracy(layer_0 - estimator_0 - 10_folds.train_7.predict)=99.34%\n",
      "[ 2018-04-25 00:16:55,139][kfold_wrapper.log_eval_metrics] Accuracy(layer_0 - estimator_0 - 10_folds.train_8.predict)=98.90%\n",
      "[ 2018-04-25 00:16:55,900][kfold_wrapper.log_eval_metrics] Accuracy(layer_0 - estimator_0 - 10_folds.train_9.predict)=97.80%\n",
      "[ 2018-04-25 00:16:56,052][kfold_wrapper.log_eval_metrics] Accuracy(layer_0 - estimator_0 - 10_folds.train_cv.predict)=99.01%\n",
      "[ 2018-04-25 00:16:56,054][kfold_wrapper.log_eval_metrics] Accuracy(layer_0 - estimator_0 - 10_folds.test.predict)=99.15%\n",
      "[ 2018-04-25 00:16:56,059][cascade_classifier.calc_accuracy] Accuracy(layer_0 - train.classifier_average)=99.01%\n",
      "[ 2018-04-25 00:16:56,060][cascade_classifier.calc_accuracy] Accuracy(layer_0 - test.classifier_average)=99.15%\n",
      "[ 2018-04-25 00:16:56,062][cascade_classifier.fit_transform] [Result][Reach Max Layer] opt_layer_num=1, accuracy_train=99.01%, accuracy_test=99.15%\n",
      "[ 2018-04-25 00:16:56,063][cascade_classifier.transform] X_groups_test.shape=[(2245, 23)]\n",
      "[ 2018-04-25 00:16:56,065][cascade_classifier.transform] group_dims=[23]\n",
      "[ 2018-04-25 00:16:56,066][cascade_classifier.transform] X_test.shape=(2245, 23)\n",
      "[ 2018-04-25 00:16:56,068][cascade_classifier.transform] [layer=0] look_indexs=[0], X_cur_test.shape=(2245, 23)\n",
      "[ 2018-04-25 00:16:57,589][cascade_classifier.fit_transform] X_groups_train.shape=[(4557, 23)],y_train.shape=(4557,),X_groups_test.shape=[(2245, 23)],y_test.shape=(2245,)\n",
      "[ 2018-04-25 00:16:57,591][cascade_classifier.fit_transform] group_dims=[23]\n",
      "[ 2018-04-25 00:16:57,592][cascade_classifier.fit_transform] group_starts=[0]\n",
      "[ 2018-04-25 00:16:57,594][cascade_classifier.fit_transform] group_ends=[23]\n",
      "[ 2018-04-25 00:16:57,596][cascade_classifier.fit_transform] X_train.shape=(4557, 23),X_test.shape=(2245, 23)\n",
      "[ 2018-04-25 00:16:57,598][cascade_classifier.fit_transform] [layer=0] look_indexs=[0], X_cur_train.shape=(4557, 23), X_cur_test.shape=(2245, 23)\n"
     ]
    },
    {
     "name": "stdout",
     "output_type": "stream",
     "text": [
      "('Test Accuracy of ExtraTrees = 99.153675 %', 6, 'fois')\n"
     ]
    },
    {
     "name": "stderr",
     "output_type": "stream",
     "text": [
      "[ 2018-04-25 00:16:58,215][kfold_wrapper.log_eval_metrics] Accuracy(layer_0 - estimator_0 - 10_folds.train_0.predict)=98.46%\n",
      "[ 2018-04-25 00:16:59,032][kfold_wrapper.log_eval_metrics] Accuracy(layer_0 - estimator_0 - 10_folds.train_1.predict)=99.34%\n",
      "[ 2018-04-25 00:16:59,881][kfold_wrapper.log_eval_metrics] Accuracy(layer_0 - estimator_0 - 10_folds.train_2.predict)=100.00%\n",
      "[ 2018-04-25 00:17:00,672][kfold_wrapper.log_eval_metrics] Accuracy(layer_0 - estimator_0 - 10_folds.train_3.predict)=99.34%\n",
      "[ 2018-04-25 00:17:01,473][kfold_wrapper.log_eval_metrics] Accuracy(layer_0 - estimator_0 - 10_folds.train_4.predict)=98.90%\n",
      "[ 2018-04-25 00:17:02,263][kfold_wrapper.log_eval_metrics] Accuracy(layer_0 - estimator_0 - 10_folds.train_5.predict)=99.56%\n",
      "[ 2018-04-25 00:17:03,062][kfold_wrapper.log_eval_metrics] Accuracy(layer_0 - estimator_0 - 10_folds.train_6.predict)=99.56%\n",
      "[ 2018-04-25 00:17:03,853][kfold_wrapper.log_eval_metrics] Accuracy(layer_0 - estimator_0 - 10_folds.train_7.predict)=99.34%\n",
      "[ 2018-04-25 00:17:04,626][kfold_wrapper.log_eval_metrics] Accuracy(layer_0 - estimator_0 - 10_folds.train_8.predict)=99.12%\n",
      "[ 2018-04-25 00:17:05,395][kfold_wrapper.log_eval_metrics] Accuracy(layer_0 - estimator_0 - 10_folds.train_9.predict)=98.68%\n",
      "[ 2018-04-25 00:17:05,548][kfold_wrapper.log_eval_metrics] Accuracy(layer_0 - estimator_0 - 10_folds.train_cv.predict)=99.23%\n",
      "[ 2018-04-25 00:17:05,549][kfold_wrapper.log_eval_metrics] Accuracy(layer_0 - estimator_0 - 10_folds.test.predict)=99.02%\n",
      "[ 2018-04-25 00:17:05,554][cascade_classifier.calc_accuracy] Accuracy(layer_0 - train.classifier_average)=99.23%\n",
      "[ 2018-04-25 00:17:05,555][cascade_classifier.calc_accuracy] Accuracy(layer_0 - test.classifier_average)=99.02%\n",
      "[ 2018-04-25 00:17:05,557][cascade_classifier.fit_transform] [Result][Reach Max Layer] opt_layer_num=1, accuracy_train=99.23%, accuracy_test=99.02%\n",
      "[ 2018-04-25 00:17:05,558][cascade_classifier.transform] X_groups_test.shape=[(2245, 23)]\n",
      "[ 2018-04-25 00:17:05,560][cascade_classifier.transform] group_dims=[23]\n",
      "[ 2018-04-25 00:17:05,562][cascade_classifier.transform] X_test.shape=(2245, 23)\n",
      "[ 2018-04-25 00:17:05,563][cascade_classifier.transform] [layer=0] look_indexs=[0], X_cur_test.shape=(2245, 23)\n",
      "[ 2018-04-25 00:17:07,179][cascade_classifier.fit_transform] X_groups_train.shape=[(4557, 23)],y_train.shape=(4557,),X_groups_test.shape=[(2245, 23)],y_test.shape=(2245,)\n",
      "[ 2018-04-25 00:17:07,181][cascade_classifier.fit_transform] group_dims=[23]\n",
      "[ 2018-04-25 00:17:07,183][cascade_classifier.fit_transform] group_starts=[0]\n",
      "[ 2018-04-25 00:17:07,184][cascade_classifier.fit_transform] group_ends=[23]\n",
      "[ 2018-04-25 00:17:07,186][cascade_classifier.fit_transform] X_train.shape=(4557, 23),X_test.shape=(2245, 23)\n",
      "[ 2018-04-25 00:17:07,189][cascade_classifier.fit_transform] [layer=0] look_indexs=[0], X_cur_train.shape=(4557, 23), X_cur_test.shape=(2245, 23)\n"
     ]
    },
    {
     "name": "stdout",
     "output_type": "stream",
     "text": [
      "('Test Accuracy of ExtraTrees = 99.020045 %', 7, 'fois')\n"
     ]
    },
    {
     "name": "stderr",
     "output_type": "stream",
     "text": [
      "[ 2018-04-25 00:17:07,824][kfold_wrapper.log_eval_metrics] Accuracy(layer_0 - estimator_0 - 10_folds.train_0.predict)=98.03%\n",
      "[ 2018-04-25 00:17:08,589][kfold_wrapper.log_eval_metrics] Accuracy(layer_0 - estimator_0 - 10_folds.train_1.predict)=99.34%\n",
      "[ 2018-04-25 00:17:09,379][kfold_wrapper.log_eval_metrics] Accuracy(layer_0 - estimator_0 - 10_folds.train_2.predict)=100.00%\n",
      "[ 2018-04-25 00:17:10,169][kfold_wrapper.log_eval_metrics] Accuracy(layer_0 - estimator_0 - 10_folds.train_3.predict)=99.34%\n",
      "[ 2018-04-25 00:17:11,048][kfold_wrapper.log_eval_metrics] Accuracy(layer_0 - estimator_0 - 10_folds.train_4.predict)=98.90%\n",
      "[ 2018-04-25 00:17:11,849][kfold_wrapper.log_eval_metrics] Accuracy(layer_0 - estimator_0 - 10_folds.train_5.predict)=99.56%\n",
      "[ 2018-04-25 00:17:12,627][kfold_wrapper.log_eval_metrics] Accuracy(layer_0 - estimator_0 - 10_folds.train_6.predict)=99.12%\n",
      "[ 2018-04-25 00:17:13,431][kfold_wrapper.log_eval_metrics] Accuracy(layer_0 - estimator_0 - 10_folds.train_7.predict)=99.34%\n",
      "[ 2018-04-25 00:17:14,194][kfold_wrapper.log_eval_metrics] Accuracy(layer_0 - estimator_0 - 10_folds.train_8.predict)=99.12%\n",
      "[ 2018-04-25 00:17:15,032][kfold_wrapper.log_eval_metrics] Accuracy(layer_0 - estimator_0 - 10_folds.train_9.predict)=98.68%\n",
      "[ 2018-04-25 00:17:15,180][kfold_wrapper.log_eval_metrics] Accuracy(layer_0 - estimator_0 - 10_folds.train_cv.predict)=99.14%\n",
      "[ 2018-04-25 00:17:15,182][kfold_wrapper.log_eval_metrics] Accuracy(layer_0 - estimator_0 - 10_folds.test.predict)=99.02%\n",
      "[ 2018-04-25 00:17:15,186][cascade_classifier.calc_accuracy] Accuracy(layer_0 - train.classifier_average)=99.14%\n",
      "[ 2018-04-25 00:17:15,188][cascade_classifier.calc_accuracy] Accuracy(layer_0 - test.classifier_average)=99.02%\n",
      "[ 2018-04-25 00:17:15,190][cascade_classifier.fit_transform] [Result][Reach Max Layer] opt_layer_num=1, accuracy_train=99.14%, accuracy_test=99.02%\n",
      "[ 2018-04-25 00:17:15,191][cascade_classifier.transform] X_groups_test.shape=[(2245, 23)]\n",
      "[ 2018-04-25 00:17:15,193][cascade_classifier.transform] group_dims=[23]\n",
      "[ 2018-04-25 00:17:15,195][cascade_classifier.transform] X_test.shape=(2245, 23)\n",
      "[ 2018-04-25 00:17:15,196][cascade_classifier.transform] [layer=0] look_indexs=[0], X_cur_test.shape=(2245, 23)\n",
      "[ 2018-04-25 00:17:16,813][cascade_classifier.fit_transform] X_groups_train.shape=[(4557, 23)],y_train.shape=(4557,),X_groups_test.shape=[(2245, 23)],y_test.shape=(2245,)\n",
      "[ 2018-04-25 00:17:16,815][cascade_classifier.fit_transform] group_dims=[23]\n",
      "[ 2018-04-25 00:17:16,816][cascade_classifier.fit_transform] group_starts=[0]\n",
      "[ 2018-04-25 00:17:16,817][cascade_classifier.fit_transform] group_ends=[23]\n",
      "[ 2018-04-25 00:17:16,819][cascade_classifier.fit_transform] X_train.shape=(4557, 23),X_test.shape=(2245, 23)\n",
      "[ 2018-04-25 00:17:16,821][cascade_classifier.fit_transform] [layer=0] look_indexs=[0], X_cur_train.shape=(4557, 23), X_cur_test.shape=(2245, 23)\n"
     ]
    },
    {
     "name": "stdout",
     "output_type": "stream",
     "text": [
      "('Test Accuracy of ExtraTrees = 99.020045 %', 8, 'fois')\n"
     ]
    },
    {
     "name": "stderr",
     "output_type": "stream",
     "text": [
      "[ 2018-04-25 00:17:17,479][kfold_wrapper.log_eval_metrics] Accuracy(layer_0 - estimator_0 - 10_folds.train_0.predict)=98.03%\n",
      "[ 2018-04-25 00:17:18,244][kfold_wrapper.log_eval_metrics] Accuracy(layer_0 - estimator_0 - 10_folds.train_1.predict)=99.34%\n",
      "[ 2018-04-25 00:17:19,072][kfold_wrapper.log_eval_metrics] Accuracy(layer_0 - estimator_0 - 10_folds.train_2.predict)=99.78%\n",
      "[ 2018-04-25 00:17:19,868][kfold_wrapper.log_eval_metrics] Accuracy(layer_0 - estimator_0 - 10_folds.train_3.predict)=99.34%\n",
      "[ 2018-04-25 00:17:20,665][kfold_wrapper.log_eval_metrics] Accuracy(layer_0 - estimator_0 - 10_folds.train_4.predict)=99.12%\n",
      "[ 2018-04-25 00:17:21,491][kfold_wrapper.log_eval_metrics] Accuracy(layer_0 - estimator_0 - 10_folds.train_5.predict)=99.56%\n",
      "[ 2018-04-25 00:17:22,306][kfold_wrapper.log_eval_metrics] Accuracy(layer_0 - estimator_0 - 10_folds.train_6.predict)=99.12%\n",
      "[ 2018-04-25 00:17:23,107][kfold_wrapper.log_eval_metrics] Accuracy(layer_0 - estimator_0 - 10_folds.train_7.predict)=99.12%\n",
      "[ 2018-04-25 00:17:23,850][kfold_wrapper.log_eval_metrics] Accuracy(layer_0 - estimator_0 - 10_folds.train_8.predict)=99.34%\n",
      "[ 2018-04-25 00:17:24,640][kfold_wrapper.log_eval_metrics] Accuracy(layer_0 - estimator_0 - 10_folds.train_9.predict)=98.90%\n",
      "[ 2018-04-25 00:17:24,794][kfold_wrapper.log_eval_metrics] Accuracy(layer_0 - estimator_0 - 10_folds.train_cv.predict)=99.17%\n",
      "[ 2018-04-25 00:17:24,796][kfold_wrapper.log_eval_metrics] Accuracy(layer_0 - estimator_0 - 10_folds.test.predict)=99.02%\n",
      "[ 2018-04-25 00:17:24,801][cascade_classifier.calc_accuracy] Accuracy(layer_0 - train.classifier_average)=99.17%\n",
      "[ 2018-04-25 00:17:24,803][cascade_classifier.calc_accuracy] Accuracy(layer_0 - test.classifier_average)=99.02%\n",
      "[ 2018-04-25 00:17:24,805][cascade_classifier.fit_transform] [Result][Reach Max Layer] opt_layer_num=1, accuracy_train=99.17%, accuracy_test=99.02%\n",
      "[ 2018-04-25 00:17:24,807][cascade_classifier.transform] X_groups_test.shape=[(2245, 23)]\n",
      "[ 2018-04-25 00:17:24,809][cascade_classifier.transform] group_dims=[23]\n",
      "[ 2018-04-25 00:17:24,810][cascade_classifier.transform] X_test.shape=(2245, 23)\n",
      "[ 2018-04-25 00:17:24,812][cascade_classifier.transform] [layer=0] look_indexs=[0], X_cur_test.shape=(2245, 23)\n",
      "[ 2018-04-25 00:17:26,306][cascade_classifier.fit_transform] X_groups_train.shape=[(4557, 23)],y_train.shape=(4557,),X_groups_test.shape=[(2245, 23)],y_test.shape=(2245,)\n",
      "[ 2018-04-25 00:17:26,308][cascade_classifier.fit_transform] group_dims=[23]\n",
      "[ 2018-04-25 00:17:26,310][cascade_classifier.fit_transform] group_starts=[0]\n",
      "[ 2018-04-25 00:17:26,311][cascade_classifier.fit_transform] group_ends=[23]\n",
      "[ 2018-04-25 00:17:26,312][cascade_classifier.fit_transform] X_train.shape=(4557, 23),X_test.shape=(2245, 23)\n",
      "[ 2018-04-25 00:17:26,314][cascade_classifier.fit_transform] [layer=0] look_indexs=[0], X_cur_train.shape=(4557, 23), X_cur_test.shape=(2245, 23)\n"
     ]
    },
    {
     "name": "stdout",
     "output_type": "stream",
     "text": [
      "('Test Accuracy of ExtraTrees = 99.020045 %', 9, 'fois')\n"
     ]
    },
    {
     "name": "stderr",
     "output_type": "stream",
     "text": [
      "[ 2018-04-25 00:17:27,061][kfold_wrapper.log_eval_metrics] Accuracy(layer_0 - estimator_0 - 10_folds.train_0.predict)=98.03%\n",
      "[ 2018-04-25 00:17:27,830][kfold_wrapper.log_eval_metrics] Accuracy(layer_0 - estimator_0 - 10_folds.train_1.predict)=99.34%\n",
      "[ 2018-04-25 00:17:28,610][kfold_wrapper.log_eval_metrics] Accuracy(layer_0 - estimator_0 - 10_folds.train_2.predict)=99.78%\n",
      "[ 2018-04-25 00:17:29,386][kfold_wrapper.log_eval_metrics] Accuracy(layer_0 - estimator_0 - 10_folds.train_3.predict)=99.34%\n",
      "[ 2018-04-25 00:17:30,151][kfold_wrapper.log_eval_metrics] Accuracy(layer_0 - estimator_0 - 10_folds.train_4.predict)=99.12%\n",
      "[ 2018-04-25 00:17:30,928][kfold_wrapper.log_eval_metrics] Accuracy(layer_0 - estimator_0 - 10_folds.train_5.predict)=99.56%\n",
      "[ 2018-04-25 00:17:31,698][kfold_wrapper.log_eval_metrics] Accuracy(layer_0 - estimator_0 - 10_folds.train_6.predict)=98.90%\n",
      "[ 2018-04-25 00:17:32,523][kfold_wrapper.log_eval_metrics] Accuracy(layer_0 - estimator_0 - 10_folds.train_7.predict)=99.34%\n",
      "[ 2018-04-25 00:17:33,297][kfold_wrapper.log_eval_metrics] Accuracy(layer_0 - estimator_0 - 10_folds.train_8.predict)=99.34%\n",
      "[ 2018-04-25 00:17:34,075][kfold_wrapper.log_eval_metrics] Accuracy(layer_0 - estimator_0 - 10_folds.train_9.predict)=98.68%\n",
      "[ 2018-04-25 00:17:34,229][kfold_wrapper.log_eval_metrics] Accuracy(layer_0 - estimator_0 - 10_folds.train_cv.predict)=99.14%\n",
      "[ 2018-04-25 00:17:34,230][kfold_wrapper.log_eval_metrics] Accuracy(layer_0 - estimator_0 - 10_folds.test.predict)=99.02%\n",
      "[ 2018-04-25 00:17:34,236][cascade_classifier.calc_accuracy] Accuracy(layer_0 - train.classifier_average)=99.14%\n",
      "[ 2018-04-25 00:17:34,237][cascade_classifier.calc_accuracy] Accuracy(layer_0 - test.classifier_average)=99.02%\n",
      "[ 2018-04-25 00:17:34,239][cascade_classifier.fit_transform] [Result][Reach Max Layer] opt_layer_num=1, accuracy_train=99.14%, accuracy_test=99.02%\n",
      "[ 2018-04-25 00:17:34,241][cascade_classifier.transform] X_groups_test.shape=[(2245, 23)]\n",
      "[ 2018-04-25 00:17:34,242][cascade_classifier.transform] group_dims=[23]\n",
      "[ 2018-04-25 00:17:34,244][cascade_classifier.transform] X_test.shape=(2245, 23)\n",
      "[ 2018-04-25 00:17:34,246][cascade_classifier.transform] [layer=0] look_indexs=[0], X_cur_test.shape=(2245, 23)\n",
      "[ 2018-04-25 00:17:35,751][cascade_classifier.fit_transform] X_groups_train.shape=[(4557, 23)],y_train.shape=(4557,),X_groups_test.shape=[(2245, 23)],y_test.shape=(2245,)\n",
      "[ 2018-04-25 00:17:35,753][cascade_classifier.fit_transform] group_dims=[23]\n",
      "[ 2018-04-25 00:17:35,754][cascade_classifier.fit_transform] group_starts=[0]\n",
      "[ 2018-04-25 00:17:35,756][cascade_classifier.fit_transform] group_ends=[23]\n",
      "[ 2018-04-25 00:17:35,758][cascade_classifier.fit_transform] X_train.shape=(4557, 23),X_test.shape=(2245, 23)\n",
      "[ 2018-04-25 00:17:35,760][cascade_classifier.fit_transform] [layer=0] look_indexs=[0], X_cur_train.shape=(4557, 23), X_cur_test.shape=(2245, 23)\n"
     ]
    },
    {
     "name": "stdout",
     "output_type": "stream",
     "text": [
      "('Test Accuracy of ExtraTrees = 99.020045 %', 10, 'fois')\n"
     ]
    },
    {
     "name": "stderr",
     "output_type": "stream",
     "text": [
      "[ 2018-04-25 00:17:36,417][kfold_wrapper.log_eval_metrics] Accuracy(layer_0 - estimator_0 - 10_folds.train_0.predict)=98.03%\n",
      "[ 2018-04-25 00:17:37,221][kfold_wrapper.log_eval_metrics] Accuracy(layer_0 - estimator_0 - 10_folds.train_1.predict)=99.34%\n",
      "[ 2018-04-25 00:17:38,000][kfold_wrapper.log_eval_metrics] Accuracy(layer_0 - estimator_0 - 10_folds.train_2.predict)=99.78%\n",
      "[ 2018-04-25 00:17:38,809][kfold_wrapper.log_eval_metrics] Accuracy(layer_0 - estimator_0 - 10_folds.train_3.predict)=99.12%\n",
      "[ 2018-04-25 00:17:39,579][kfold_wrapper.log_eval_metrics] Accuracy(layer_0 - estimator_0 - 10_folds.train_4.predict)=99.12%\n",
      "[ 2018-04-25 00:17:40,446][kfold_wrapper.log_eval_metrics] Accuracy(layer_0 - estimator_0 - 10_folds.train_5.predict)=99.34%\n",
      "[ 2018-04-25 00:17:41,233][kfold_wrapper.log_eval_metrics] Accuracy(layer_0 - estimator_0 - 10_folds.train_6.predict)=99.34%\n",
      "[ 2018-04-25 00:17:41,997][kfold_wrapper.log_eval_metrics] Accuracy(layer_0 - estimator_0 - 10_folds.train_7.predict)=99.34%\n",
      "[ 2018-04-25 00:17:42,648][kfold_wrapper.log_eval_metrics] Accuracy(layer_0 - estimator_0 - 10_folds.train_8.predict)=99.12%\n",
      "[ 2018-04-25 00:17:43,323][kfold_wrapper.log_eval_metrics] Accuracy(layer_0 - estimator_0 - 10_folds.train_9.predict)=98.68%\n",
      "[ 2018-04-25 00:17:43,461][kfold_wrapper.log_eval_metrics] Accuracy(layer_0 - estimator_0 - 10_folds.train_cv.predict)=99.12%\n",
      "[ 2018-04-25 00:17:43,464][kfold_wrapper.log_eval_metrics] Accuracy(layer_0 - estimator_0 - 10_folds.test.predict)=99.02%\n",
      "[ 2018-04-25 00:17:43,476][cascade_classifier.calc_accuracy] Accuracy(layer_0 - train.classifier_average)=99.12%\n",
      "[ 2018-04-25 00:17:43,478][cascade_classifier.calc_accuracy] Accuracy(layer_0 - test.classifier_average)=99.02%\n",
      "[ 2018-04-25 00:17:43,480][cascade_classifier.fit_transform] [Result][Reach Max Layer] opt_layer_num=1, accuracy_train=99.12%, accuracy_test=99.02%\n",
      "[ 2018-04-25 00:17:43,482][cascade_classifier.transform] X_groups_test.shape=[(2245, 23)]\n",
      "[ 2018-04-25 00:17:43,566][cascade_classifier.transform] group_dims=[23]\n",
      "[ 2018-04-25 00:17:43,568][cascade_classifier.transform] X_test.shape=(2245, 23)\n",
      "[ 2018-04-25 00:17:43,570][cascade_classifier.transform] [layer=0] look_indexs=[0], X_cur_test.shape=(2245, 23)\n",
      "[ 2018-04-25 00:17:44,954][cascade_classifier.fit_transform] X_groups_train.shape=[(4557, 23)],y_train.shape=(4557,),X_groups_test.shape=[(2245, 23)],y_test.shape=(2245,)\n",
      "[ 2018-04-25 00:17:44,957][cascade_classifier.fit_transform] group_dims=[23]\n",
      "[ 2018-04-25 00:17:44,958][cascade_classifier.fit_transform] group_starts=[0]\n",
      "[ 2018-04-25 00:17:44,959][cascade_classifier.fit_transform] group_ends=[23]\n",
      "[ 2018-04-25 00:17:44,961][cascade_classifier.fit_transform] X_train.shape=(4557, 23),X_test.shape=(2245, 23)\n",
      "[ 2018-04-25 00:17:44,963][cascade_classifier.fit_transform] [layer=0] look_indexs=[0], X_cur_train.shape=(4557, 23), X_cur_test.shape=(2245, 23)\n"
     ]
    },
    {
     "name": "stdout",
     "output_type": "stream",
     "text": [
      "('Test Accuracy of ExtraTrees = 99.020045 %', 11, 'fois')\n"
     ]
    },
    {
     "name": "stderr",
     "output_type": "stream",
     "text": [
      "[ 2018-04-25 00:17:45,560][kfold_wrapper.log_eval_metrics] Accuracy(layer_0 - estimator_0 - 10_folds.train_0.predict)=98.03%\n",
      "[ 2018-04-25 00:17:46,291][kfold_wrapper.log_eval_metrics] Accuracy(layer_0 - estimator_0 - 10_folds.train_1.predict)=99.34%\n",
      "[ 2018-04-25 00:17:46,899][kfold_wrapper.log_eval_metrics] Accuracy(layer_0 - estimator_0 - 10_folds.train_2.predict)=99.78%\n",
      "[ 2018-04-25 00:17:47,625][kfold_wrapper.log_eval_metrics] Accuracy(layer_0 - estimator_0 - 10_folds.train_3.predict)=99.34%\n",
      "[ 2018-04-25 00:17:48,405][kfold_wrapper.log_eval_metrics] Accuracy(layer_0 - estimator_0 - 10_folds.train_4.predict)=98.90%\n",
      "[ 2018-04-25 00:17:49,225][kfold_wrapper.log_eval_metrics] Accuracy(layer_0 - estimator_0 - 10_folds.train_5.predict)=99.34%\n",
      "[ 2018-04-25 00:17:50,174][kfold_wrapper.log_eval_metrics] Accuracy(layer_0 - estimator_0 - 10_folds.train_6.predict)=99.12%\n",
      "[ 2018-04-25 00:17:50,923][kfold_wrapper.log_eval_metrics] Accuracy(layer_0 - estimator_0 - 10_folds.train_7.predict)=99.34%\n",
      "[ 2018-04-25 00:17:51,644][kfold_wrapper.log_eval_metrics] Accuracy(layer_0 - estimator_0 - 10_folds.train_8.predict)=99.12%\n",
      "[ 2018-04-25 00:17:52,364][kfold_wrapper.log_eval_metrics] Accuracy(layer_0 - estimator_0 - 10_folds.train_9.predict)=98.68%\n",
      "[ 2018-04-25 00:17:52,530][kfold_wrapper.log_eval_metrics] Accuracy(layer_0 - estimator_0 - 10_folds.train_cv.predict)=99.10%\n",
      "[ 2018-04-25 00:17:52,532][kfold_wrapper.log_eval_metrics] Accuracy(layer_0 - estimator_0 - 10_folds.test.predict)=98.98%\n",
      "[ 2018-04-25 00:17:52,539][cascade_classifier.calc_accuracy] Accuracy(layer_0 - train.classifier_average)=99.10%\n",
      "[ 2018-04-25 00:17:52,541][cascade_classifier.calc_accuracy] Accuracy(layer_0 - test.classifier_average)=98.98%\n",
      "[ 2018-04-25 00:17:52,542][cascade_classifier.fit_transform] [Result][Reach Max Layer] opt_layer_num=1, accuracy_train=99.10%, accuracy_test=98.98%\n",
      "[ 2018-04-25 00:17:52,544][cascade_classifier.transform] X_groups_test.shape=[(2245, 23)]\n",
      "[ 2018-04-25 00:17:52,546][cascade_classifier.transform] group_dims=[23]\n",
      "[ 2018-04-25 00:17:52,548][cascade_classifier.transform] X_test.shape=(2245, 23)\n",
      "[ 2018-04-25 00:17:52,549][cascade_classifier.transform] [layer=0] look_indexs=[0], X_cur_test.shape=(2245, 23)\n",
      "[ 2018-04-25 00:17:53,923][cascade_classifier.fit_transform] X_groups_train.shape=[(4557, 23)],y_train.shape=(4557,),X_groups_test.shape=[(2245, 23)],y_test.shape=(2245,)\n",
      "[ 2018-04-25 00:17:53,925][cascade_classifier.fit_transform] group_dims=[23]\n",
      "[ 2018-04-25 00:17:53,927][cascade_classifier.fit_transform] group_starts=[0]\n",
      "[ 2018-04-25 00:17:53,929][cascade_classifier.fit_transform] group_ends=[23]\n",
      "[ 2018-04-25 00:17:53,930][cascade_classifier.fit_transform] X_train.shape=(4557, 23),X_test.shape=(2245, 23)\n",
      "[ 2018-04-25 00:17:53,932][cascade_classifier.fit_transform] [layer=0] look_indexs=[0], X_cur_train.shape=(4557, 23), X_cur_test.shape=(2245, 23)\n"
     ]
    },
    {
     "name": "stdout",
     "output_type": "stream",
     "text": [
      "('Test Accuracy of ExtraTrees = 98.975501 %', 12, 'fois')\n"
     ]
    },
    {
     "name": "stderr",
     "output_type": "stream",
     "text": [
      "[ 2018-04-25 00:17:54,534][kfold_wrapper.log_eval_metrics] Accuracy(layer_0 - estimator_0 - 10_folds.train_0.predict)=97.81%\n",
      "[ 2018-04-25 00:17:55,255][kfold_wrapper.log_eval_metrics] Accuracy(layer_0 - estimator_0 - 10_folds.train_1.predict)=99.34%\n",
      "[ 2018-04-25 00:17:55,994][kfold_wrapper.log_eval_metrics] Accuracy(layer_0 - estimator_0 - 10_folds.train_2.predict)=99.34%\n",
      "[ 2018-04-25 00:17:56,771][kfold_wrapper.log_eval_metrics] Accuracy(layer_0 - estimator_0 - 10_folds.train_3.predict)=99.34%\n",
      "[ 2018-04-25 00:17:57,348][kfold_wrapper.log_eval_metrics] Accuracy(layer_0 - estimator_0 - 10_folds.train_4.predict)=98.90%\n",
      "[ 2018-04-25 00:17:58,108][kfold_wrapper.log_eval_metrics] Accuracy(layer_0 - estimator_0 - 10_folds.train_5.predict)=99.34%\n",
      "[ 2018-04-25 00:17:58,890][kfold_wrapper.log_eval_metrics] Accuracy(layer_0 - estimator_0 - 10_folds.train_6.predict)=99.12%\n",
      "[ 2018-04-25 00:17:59,602][kfold_wrapper.log_eval_metrics] Accuracy(layer_0 - estimator_0 - 10_folds.train_7.predict)=99.34%\n",
      "[ 2018-04-25 00:18:00,304][kfold_wrapper.log_eval_metrics] Accuracy(layer_0 - estimator_0 - 10_folds.train_8.predict)=99.12%\n",
      "[ 2018-04-25 00:18:01,085][kfold_wrapper.log_eval_metrics] Accuracy(layer_0 - estimator_0 - 10_folds.train_9.predict)=98.46%\n",
      "[ 2018-04-25 00:18:01,266][kfold_wrapper.log_eval_metrics] Accuracy(layer_0 - estimator_0 - 10_folds.train_cv.predict)=99.01%\n",
      "[ 2018-04-25 00:18:01,268][kfold_wrapper.log_eval_metrics] Accuracy(layer_0 - estimator_0 - 10_folds.test.predict)=98.93%\n",
      "[ 2018-04-25 00:18:01,278][cascade_classifier.calc_accuracy] Accuracy(layer_0 - train.classifier_average)=99.01%\n",
      "[ 2018-04-25 00:18:01,280][cascade_classifier.calc_accuracy] Accuracy(layer_0 - test.classifier_average)=98.93%\n",
      "[ 2018-04-25 00:18:01,282][cascade_classifier.fit_transform] [Result][Reach Max Layer] opt_layer_num=1, accuracy_train=99.01%, accuracy_test=98.93%\n",
      "[ 2018-04-25 00:18:01,284][cascade_classifier.transform] X_groups_test.shape=[(2245, 23)]\n",
      "[ 2018-04-25 00:18:01,286][cascade_classifier.transform] group_dims=[23]\n",
      "[ 2018-04-25 00:18:01,288][cascade_classifier.transform] X_test.shape=(2245, 23)\n",
      "[ 2018-04-25 00:18:01,289][cascade_classifier.transform] [layer=0] look_indexs=[0], X_cur_test.shape=(2245, 23)\n",
      "[ 2018-04-25 00:18:02,637][cascade_classifier.fit_transform] X_groups_train.shape=[(4557, 23)],y_train.shape=(4557,),X_groups_test.shape=[(2245, 23)],y_test.shape=(2245,)\n",
      "[ 2018-04-25 00:18:02,639][cascade_classifier.fit_transform] group_dims=[23]\n",
      "[ 2018-04-25 00:18:02,640][cascade_classifier.fit_transform] group_starts=[0]\n",
      "[ 2018-04-25 00:18:02,642][cascade_classifier.fit_transform] group_ends=[23]\n",
      "[ 2018-04-25 00:18:02,643][cascade_classifier.fit_transform] X_train.shape=(4557, 23),X_test.shape=(2245, 23)\n",
      "[ 2018-04-25 00:18:02,645][cascade_classifier.fit_transform] [layer=0] look_indexs=[0], X_cur_train.shape=(4557, 23), X_cur_test.shape=(2245, 23)\n"
     ]
    },
    {
     "name": "stdout",
     "output_type": "stream",
     "text": [
      "('Test Accuracy of ExtraTrees = 98.930958 %', 13, 'fois')\n"
     ]
    },
    {
     "name": "stderr",
     "output_type": "stream",
     "text": [
      "[ 2018-04-25 00:18:03,243][kfold_wrapper.log_eval_metrics] Accuracy(layer_0 - estimator_0 - 10_folds.train_0.predict)=97.59%\n",
      "[ 2018-04-25 00:18:03,994][kfold_wrapper.log_eval_metrics] Accuracy(layer_0 - estimator_0 - 10_folds.train_1.predict)=99.34%\n",
      "[ 2018-04-25 00:18:04,769][kfold_wrapper.log_eval_metrics] Accuracy(layer_0 - estimator_0 - 10_folds.train_2.predict)=99.34%\n",
      "[ 2018-04-25 00:18:05,578][kfold_wrapper.log_eval_metrics] Accuracy(layer_0 - estimator_0 - 10_folds.train_3.predict)=99.34%\n",
      "[ 2018-04-25 00:18:06,181][kfold_wrapper.log_eval_metrics] Accuracy(layer_0 - estimator_0 - 10_folds.train_4.predict)=98.90%\n",
      "[ 2018-04-25 00:18:07,006][kfold_wrapper.log_eval_metrics] Accuracy(layer_0 - estimator_0 - 10_folds.train_5.predict)=99.12%\n",
      "[ 2018-04-25 00:18:07,746][kfold_wrapper.log_eval_metrics] Accuracy(layer_0 - estimator_0 - 10_folds.train_6.predict)=99.34%\n",
      "[ 2018-04-25 00:18:08,449][kfold_wrapper.log_eval_metrics] Accuracy(layer_0 - estimator_0 - 10_folds.train_7.predict)=98.90%\n",
      "[ 2018-04-25 00:18:09,075][kfold_wrapper.log_eval_metrics] Accuracy(layer_0 - estimator_0 - 10_folds.train_8.predict)=99.12%\n",
      "[ 2018-04-25 00:18:09,788][kfold_wrapper.log_eval_metrics] Accuracy(layer_0 - estimator_0 - 10_folds.train_9.predict)=98.46%\n",
      "[ 2018-04-25 00:18:09,913][kfold_wrapper.log_eval_metrics] Accuracy(layer_0 - estimator_0 - 10_folds.train_cv.predict)=98.95%\n",
      "[ 2018-04-25 00:18:09,915][kfold_wrapper.log_eval_metrics] Accuracy(layer_0 - estimator_0 - 10_folds.test.predict)=98.98%\n",
      "[ 2018-04-25 00:18:09,920][cascade_classifier.calc_accuracy] Accuracy(layer_0 - train.classifier_average)=98.95%\n",
      "[ 2018-04-25 00:18:09,921][cascade_classifier.calc_accuracy] Accuracy(layer_0 - test.classifier_average)=98.98%\n",
      "[ 2018-04-25 00:18:09,923][cascade_classifier.fit_transform] [Result][Reach Max Layer] opt_layer_num=1, accuracy_train=98.95%, accuracy_test=98.98%\n",
      "[ 2018-04-25 00:18:09,924][cascade_classifier.transform] X_groups_test.shape=[(2245, 23)]\n",
      "[ 2018-04-25 00:18:09,925][cascade_classifier.transform] group_dims=[23]\n",
      "[ 2018-04-25 00:18:09,926][cascade_classifier.transform] X_test.shape=(2245, 23)\n",
      "[ 2018-04-25 00:18:09,927][cascade_classifier.transform] [layer=0] look_indexs=[0], X_cur_test.shape=(2245, 23)\n",
      "[ 2018-04-25 00:18:11,466][cascade_classifier.fit_transform] X_groups_train.shape=[(4557, 23)],y_train.shape=(4557,),X_groups_test.shape=[(2245, 23)],y_test.shape=(2245,)\n",
      "[ 2018-04-25 00:18:11,468][cascade_classifier.fit_transform] group_dims=[23]\n",
      "[ 2018-04-25 00:18:11,470][cascade_classifier.fit_transform] group_starts=[0]\n",
      "[ 2018-04-25 00:18:11,471][cascade_classifier.fit_transform] group_ends=[23]\n",
      "[ 2018-04-25 00:18:11,473][cascade_classifier.fit_transform] X_train.shape=(4557, 23),X_test.shape=(2245, 23)\n",
      "[ 2018-04-25 00:18:11,475][cascade_classifier.fit_transform] [layer=0] look_indexs=[0], X_cur_train.shape=(4557, 23), X_cur_test.shape=(2245, 23)\n"
     ]
    },
    {
     "name": "stdout",
     "output_type": "stream",
     "text": [
      "('Test Accuracy of ExtraTrees = 98.975501 %', 14, 'fois')\n"
     ]
    },
    {
     "name": "stderr",
     "output_type": "stream",
     "text": [
      "[ 2018-04-25 00:18:12,014][kfold_wrapper.log_eval_metrics] Accuracy(layer_0 - estimator_0 - 10_folds.train_0.predict)=98.03%\n",
      "[ 2018-04-25 00:18:12,771][kfold_wrapper.log_eval_metrics] Accuracy(layer_0 - estimator_0 - 10_folds.train_1.predict)=99.34%\n",
      "[ 2018-04-25 00:18:13,528][kfold_wrapper.log_eval_metrics] Accuracy(layer_0 - estimator_0 - 10_folds.train_2.predict)=99.34%\n",
      "[ 2018-04-25 00:18:14,269][kfold_wrapper.log_eval_metrics] Accuracy(layer_0 - estimator_0 - 10_folds.train_3.predict)=99.34%\n",
      "[ 2018-04-25 00:18:15,005][kfold_wrapper.log_eval_metrics] Accuracy(layer_0 - estimator_0 - 10_folds.train_4.predict)=99.34%\n",
      "[ 2018-04-25 00:18:15,763][kfold_wrapper.log_eval_metrics] Accuracy(layer_0 - estimator_0 - 10_folds.train_5.predict)=99.56%\n",
      "[ 2018-04-25 00:18:16,539][kfold_wrapper.log_eval_metrics] Accuracy(layer_0 - estimator_0 - 10_folds.train_6.predict)=99.56%\n",
      "[ 2018-04-25 00:18:17,337][kfold_wrapper.log_eval_metrics] Accuracy(layer_0 - estimator_0 - 10_folds.train_7.predict)=98.90%\n",
      "[ 2018-04-25 00:18:18,078][kfold_wrapper.log_eval_metrics] Accuracy(layer_0 - estimator_0 - 10_folds.train_8.predict)=99.34%\n",
      "[ 2018-04-25 00:18:18,786][kfold_wrapper.log_eval_metrics] Accuracy(layer_0 - estimator_0 - 10_folds.train_9.predict)=98.68%\n",
      "[ 2018-04-25 00:18:18,946][kfold_wrapper.log_eval_metrics] Accuracy(layer_0 - estimator_0 - 10_folds.train_cv.predict)=99.14%\n",
      "[ 2018-04-25 00:18:18,948][kfold_wrapper.log_eval_metrics] Accuracy(layer_0 - estimator_0 - 10_folds.test.predict)=99.06%\n",
      "[ 2018-04-25 00:18:18,957][cascade_classifier.calc_accuracy] Accuracy(layer_0 - train.classifier_average)=99.14%\n",
      "[ 2018-04-25 00:18:18,959][cascade_classifier.calc_accuracy] Accuracy(layer_0 - test.classifier_average)=99.06%\n",
      "[ 2018-04-25 00:18:18,961][cascade_classifier.fit_transform] [Result][Reach Max Layer] opt_layer_num=1, accuracy_train=99.14%, accuracy_test=99.06%\n",
      "[ 2018-04-25 00:18:18,963][cascade_classifier.transform] X_groups_test.shape=[(2245, 23)]\n",
      "[ 2018-04-25 00:18:18,965][cascade_classifier.transform] group_dims=[23]\n",
      "[ 2018-04-25 00:18:18,967][cascade_classifier.transform] X_test.shape=(2245, 23)\n",
      "[ 2018-04-25 00:18:18,970][cascade_classifier.transform] [layer=0] look_indexs=[0], X_cur_test.shape=(2245, 23)\n",
      "[ 2018-04-25 00:18:20,305][cascade_classifier.fit_transform] X_groups_train.shape=[(4557, 23)],y_train.shape=(4557,),X_groups_test.shape=[(2245, 23)],y_test.shape=(2245,)\n",
      "[ 2018-04-25 00:18:20,307][cascade_classifier.fit_transform] group_dims=[23]\n",
      "[ 2018-04-25 00:18:20,309][cascade_classifier.fit_transform] group_starts=[0]\n",
      "[ 2018-04-25 00:18:20,310][cascade_classifier.fit_transform] group_ends=[23]\n",
      "[ 2018-04-25 00:18:20,312][cascade_classifier.fit_transform] X_train.shape=(4557, 23),X_test.shape=(2245, 23)\n",
      "[ 2018-04-25 00:18:20,314][cascade_classifier.fit_transform] [layer=0] look_indexs=[0], X_cur_train.shape=(4557, 23), X_cur_test.shape=(2245, 23)\n"
     ]
    },
    {
     "name": "stdout",
     "output_type": "stream",
     "text": [
      "('Test Accuracy of ExtraTrees = 99.064588 %', 15, 'fois')\n"
     ]
    },
    {
     "name": "stderr",
     "output_type": "stream",
     "text": [
      "[ 2018-04-25 00:18:20,909][kfold_wrapper.log_eval_metrics] Accuracy(layer_0 - estimator_0 - 10_folds.train_0.predict)=97.81%\n",
      "[ 2018-04-25 00:18:21,656][kfold_wrapper.log_eval_metrics] Accuracy(layer_0 - estimator_0 - 10_folds.train_1.predict)=99.34%\n",
      "[ 2018-04-25 00:18:22,361][kfold_wrapper.log_eval_metrics] Accuracy(layer_0 - estimator_0 - 10_folds.train_2.predict)=99.34%\n",
      "[ 2018-04-25 00:18:22,999][kfold_wrapper.log_eval_metrics] Accuracy(layer_0 - estimator_0 - 10_folds.train_3.predict)=99.34%\n",
      "[ 2018-04-25 00:18:23,583][kfold_wrapper.log_eval_metrics] Accuracy(layer_0 - estimator_0 - 10_folds.train_4.predict)=99.12%\n",
      "[ 2018-04-25 00:18:24,324][kfold_wrapper.log_eval_metrics] Accuracy(layer_0 - estimator_0 - 10_folds.train_5.predict)=99.12%\n",
      "[ 2018-04-25 00:18:25,165][kfold_wrapper.log_eval_metrics] Accuracy(layer_0 - estimator_0 - 10_folds.train_6.predict)=99.34%\n",
      "[ 2018-04-25 00:18:25,858][kfold_wrapper.log_eval_metrics] Accuracy(layer_0 - estimator_0 - 10_folds.train_7.predict)=98.90%\n",
      "[ 2018-04-25 00:18:26,654][kfold_wrapper.log_eval_metrics] Accuracy(layer_0 - estimator_0 - 10_folds.train_8.predict)=99.34%\n",
      "[ 2018-04-25 00:18:27,457][kfold_wrapper.log_eval_metrics] Accuracy(layer_0 - estimator_0 - 10_folds.train_9.predict)=98.68%\n",
      "[ 2018-04-25 00:18:27,586][kfold_wrapper.log_eval_metrics] Accuracy(layer_0 - estimator_0 - 10_folds.train_cv.predict)=99.03%\n",
      "[ 2018-04-25 00:18:27,588][kfold_wrapper.log_eval_metrics] Accuracy(layer_0 - estimator_0 - 10_folds.test.predict)=99.06%\n",
      "[ 2018-04-25 00:18:27,597][cascade_classifier.calc_accuracy] Accuracy(layer_0 - train.classifier_average)=99.03%\n",
      "[ 2018-04-25 00:18:27,598][cascade_classifier.calc_accuracy] Accuracy(layer_0 - test.classifier_average)=99.06%\n",
      "[ 2018-04-25 00:18:27,600][cascade_classifier.fit_transform] [Result][Reach Max Layer] opt_layer_num=1, accuracy_train=99.03%, accuracy_test=99.06%\n",
      "[ 2018-04-25 00:18:27,602][cascade_classifier.transform] X_groups_test.shape=[(2245, 23)]\n",
      "[ 2018-04-25 00:18:27,604][cascade_classifier.transform] group_dims=[23]\n",
      "[ 2018-04-25 00:18:27,605][cascade_classifier.transform] X_test.shape=(2245, 23)\n",
      "[ 2018-04-25 00:18:27,607][cascade_classifier.transform] [layer=0] look_indexs=[0], X_cur_test.shape=(2245, 23)\n",
      "[ 2018-04-25 00:18:29,036][cascade_classifier.fit_transform] X_groups_train.shape=[(4557, 23)],y_train.shape=(4557,),X_groups_test.shape=[(2245, 23)],y_test.shape=(2245,)\n",
      "[ 2018-04-25 00:18:29,038][cascade_classifier.fit_transform] group_dims=[23]\n",
      "[ 2018-04-25 00:18:29,038][cascade_classifier.fit_transform] group_starts=[0]\n",
      "[ 2018-04-25 00:18:29,039][cascade_classifier.fit_transform] group_ends=[23]\n",
      "[ 2018-04-25 00:18:29,041][cascade_classifier.fit_transform] X_train.shape=(4557, 23),X_test.shape=(2245, 23)\n",
      "[ 2018-04-25 00:18:29,042][cascade_classifier.fit_transform] [layer=0] look_indexs=[0], X_cur_train.shape=(4557, 23), X_cur_test.shape=(2245, 23)\n"
     ]
    },
    {
     "name": "stdout",
     "output_type": "stream",
     "text": [
      "('Test Accuracy of ExtraTrees = 99.064588 %', 16, 'fois')\n"
     ]
    },
    {
     "name": "stderr",
     "output_type": "stream",
     "text": [
      "[ 2018-04-25 00:18:29,628][kfold_wrapper.log_eval_metrics] Accuracy(layer_0 - estimator_0 - 10_folds.train_0.predict)=97.59%\n",
      "[ 2018-04-25 00:18:30,374][kfold_wrapper.log_eval_metrics] Accuracy(layer_0 - estimator_0 - 10_folds.train_1.predict)=99.34%\n",
      "[ 2018-04-25 00:18:31,056][kfold_wrapper.log_eval_metrics] Accuracy(layer_0 - estimator_0 - 10_folds.train_2.predict)=99.34%\n",
      "[ 2018-04-25 00:18:31,803][kfold_wrapper.log_eval_metrics] Accuracy(layer_0 - estimator_0 - 10_folds.train_3.predict)=99.34%\n",
      "[ 2018-04-25 00:18:32,549][kfold_wrapper.log_eval_metrics] Accuracy(layer_0 - estimator_0 - 10_folds.train_4.predict)=99.34%\n",
      "[ 2018-04-25 00:18:33,293][kfold_wrapper.log_eval_metrics] Accuracy(layer_0 - estimator_0 - 10_folds.train_5.predict)=99.12%\n",
      "[ 2018-04-25 00:18:34,139][kfold_wrapper.log_eval_metrics] Accuracy(layer_0 - estimator_0 - 10_folds.train_6.predict)=99.34%\n",
      "[ 2018-04-25 00:18:34,889][kfold_wrapper.log_eval_metrics] Accuracy(layer_0 - estimator_0 - 10_folds.train_7.predict)=98.68%\n",
      "[ 2018-04-25 00:18:35,629][kfold_wrapper.log_eval_metrics] Accuracy(layer_0 - estimator_0 - 10_folds.train_8.predict)=99.12%\n",
      "[ 2018-04-25 00:18:36,258][kfold_wrapper.log_eval_metrics] Accuracy(layer_0 - estimator_0 - 10_folds.train_9.predict)=98.24%\n",
      "[ 2018-04-25 00:18:36,387][kfold_wrapper.log_eval_metrics] Accuracy(layer_0 - estimator_0 - 10_folds.train_cv.predict)=98.95%\n",
      "[ 2018-04-25 00:18:36,389][kfold_wrapper.log_eval_metrics] Accuracy(layer_0 - estimator_0 - 10_folds.test.predict)=98.89%\n",
      "[ 2018-04-25 00:18:36,397][cascade_classifier.calc_accuracy] Accuracy(layer_0 - train.classifier_average)=98.95%\n",
      "[ 2018-04-25 00:18:36,399][cascade_classifier.calc_accuracy] Accuracy(layer_0 - test.classifier_average)=98.89%\n",
      "[ 2018-04-25 00:18:36,400][cascade_classifier.fit_transform] [Result][Reach Max Layer] opt_layer_num=1, accuracy_train=98.95%, accuracy_test=98.89%\n",
      "[ 2018-04-25 00:18:36,402][cascade_classifier.transform] X_groups_test.shape=[(2245, 23)]\n",
      "[ 2018-04-25 00:18:36,406][cascade_classifier.transform] group_dims=[23]\n",
      "[ 2018-04-25 00:18:36,408][cascade_classifier.transform] X_test.shape=(2245, 23)\n",
      "[ 2018-04-25 00:18:36,410][cascade_classifier.transform] [layer=0] look_indexs=[0], X_cur_test.shape=(2245, 23)\n",
      "[ 2018-04-25 00:18:37,787][cascade_classifier.fit_transform] X_groups_train.shape=[(4557, 23)],y_train.shape=(4557,),X_groups_test.shape=[(2245, 23)],y_test.shape=(2245,)\n",
      "[ 2018-04-25 00:18:37,790][cascade_classifier.fit_transform] group_dims=[23]\n",
      "[ 2018-04-25 00:18:37,791][cascade_classifier.fit_transform] group_starts=[0]\n",
      "[ 2018-04-25 00:18:37,793][cascade_classifier.fit_transform] group_ends=[23]\n",
      "[ 2018-04-25 00:18:37,794][cascade_classifier.fit_transform] X_train.shape=(4557, 23),X_test.shape=(2245, 23)\n",
      "[ 2018-04-25 00:18:37,796][cascade_classifier.fit_transform] [layer=0] look_indexs=[0], X_cur_train.shape=(4557, 23), X_cur_test.shape=(2245, 23)\n"
     ]
    },
    {
     "name": "stdout",
     "output_type": "stream",
     "text": [
      "('Test Accuracy of ExtraTrees = 98.886414 %', 17, 'fois')\n"
     ]
    },
    {
     "name": "stderr",
     "output_type": "stream",
     "text": [
      "[ 2018-04-25 00:18:38,401][kfold_wrapper.log_eval_metrics] Accuracy(layer_0 - estimator_0 - 10_folds.train_0.predict)=98.46%\n",
      "[ 2018-04-25 00:18:39,021][kfold_wrapper.log_eval_metrics] Accuracy(layer_0 - estimator_0 - 10_folds.train_1.predict)=99.34%\n",
      "[ 2018-04-25 00:18:39,743][kfold_wrapper.log_eval_metrics] Accuracy(layer_0 - estimator_0 - 10_folds.train_2.predict)=99.12%\n",
      "[ 2018-04-25 00:18:40,472][kfold_wrapper.log_eval_metrics] Accuracy(layer_0 - estimator_0 - 10_folds.train_3.predict)=99.34%\n",
      "[ 2018-04-25 00:18:41,209][kfold_wrapper.log_eval_metrics] Accuracy(layer_0 - estimator_0 - 10_folds.train_4.predict)=99.56%\n",
      "[ 2018-04-25 00:18:41,944][kfold_wrapper.log_eval_metrics] Accuracy(layer_0 - estimator_0 - 10_folds.train_5.predict)=99.34%\n",
      "[ 2018-04-25 00:18:42,679][kfold_wrapper.log_eval_metrics] Accuracy(layer_0 - estimator_0 - 10_folds.train_6.predict)=99.78%\n",
      "[ 2018-04-25 00:18:43,419][kfold_wrapper.log_eval_metrics] Accuracy(layer_0 - estimator_0 - 10_folds.train_7.predict)=98.90%\n",
      "[ 2018-04-25 00:18:44,231][kfold_wrapper.log_eval_metrics] Accuracy(layer_0 - estimator_0 - 10_folds.train_8.predict)=99.12%\n",
      "[ 2018-04-25 00:18:44,931][kfold_wrapper.log_eval_metrics] Accuracy(layer_0 - estimator_0 - 10_folds.train_9.predict)=98.46%\n",
      "[ 2018-04-25 00:18:45,063][kfold_wrapper.log_eval_metrics] Accuracy(layer_0 - estimator_0 - 10_folds.train_cv.predict)=99.14%\n",
      "[ 2018-04-25 00:18:45,065][kfold_wrapper.log_eval_metrics] Accuracy(layer_0 - estimator_0 - 10_folds.test.predict)=99.06%\n",
      "[ 2018-04-25 00:18:45,074][cascade_classifier.calc_accuracy] Accuracy(layer_0 - train.classifier_average)=99.14%\n",
      "[ 2018-04-25 00:18:45,076][cascade_classifier.calc_accuracy] Accuracy(layer_0 - test.classifier_average)=99.06%\n",
      "[ 2018-04-25 00:18:45,078][cascade_classifier.fit_transform] [Result][Reach Max Layer] opt_layer_num=1, accuracy_train=99.14%, accuracy_test=99.06%\n",
      "[ 2018-04-25 00:18:45,080][cascade_classifier.transform] X_groups_test.shape=[(2245, 23)]\n",
      "[ 2018-04-25 00:18:45,083][cascade_classifier.transform] group_dims=[23]\n",
      "[ 2018-04-25 00:18:45,085][cascade_classifier.transform] X_test.shape=(2245, 23)\n",
      "[ 2018-04-25 00:18:45,087][cascade_classifier.transform] [layer=0] look_indexs=[0], X_cur_test.shape=(2245, 23)\n",
      "[ 2018-04-25 00:18:46,494][cascade_classifier.fit_transform] X_groups_train.shape=[(4557, 23)],y_train.shape=(4557,),X_groups_test.shape=[(2245, 23)],y_test.shape=(2245,)\n",
      "[ 2018-04-25 00:18:46,496][cascade_classifier.fit_transform] group_dims=[23]\n",
      "[ 2018-04-25 00:18:46,498][cascade_classifier.fit_transform] group_starts=[0]\n",
      "[ 2018-04-25 00:18:46,500][cascade_classifier.fit_transform] group_ends=[23]\n",
      "[ 2018-04-25 00:18:46,501][cascade_classifier.fit_transform] X_train.shape=(4557, 23),X_test.shape=(2245, 23)\n",
      "[ 2018-04-25 00:18:46,504][cascade_classifier.fit_transform] [layer=0] look_indexs=[0], X_cur_train.shape=(4557, 23), X_cur_test.shape=(2245, 23)\n"
     ]
    },
    {
     "name": "stdout",
     "output_type": "stream",
     "text": [
      "('Test Accuracy of ExtraTrees = 99.064588 %', 18, 'fois')\n"
     ]
    },
    {
     "name": "stderr",
     "output_type": "stream",
     "text": [
      "[ 2018-04-25 00:18:47,127][kfold_wrapper.log_eval_metrics] Accuracy(layer_0 - estimator_0 - 10_folds.train_0.predict)=98.25%\n",
      "[ 2018-04-25 00:18:47,851][kfold_wrapper.log_eval_metrics] Accuracy(layer_0 - estimator_0 - 10_folds.train_1.predict)=99.34%\n",
      "[ 2018-04-25 00:18:48,564][kfold_wrapper.log_eval_metrics] Accuracy(layer_0 - estimator_0 - 10_folds.train_2.predict)=99.34%\n",
      "[ 2018-04-25 00:18:49,265][kfold_wrapper.log_eval_metrics] Accuracy(layer_0 - estimator_0 - 10_folds.train_3.predict)=99.34%\n",
      "[ 2018-04-25 00:18:50,117][kfold_wrapper.log_eval_metrics] Accuracy(layer_0 - estimator_0 - 10_folds.train_4.predict)=99.56%\n",
      "[ 2018-04-25 00:18:50,919][kfold_wrapper.log_eval_metrics] Accuracy(layer_0 - estimator_0 - 10_folds.train_5.predict)=99.12%\n",
      "[ 2018-04-25 00:18:51,642][kfold_wrapper.log_eval_metrics] Accuracy(layer_0 - estimator_0 - 10_folds.train_6.predict)=99.34%\n",
      "[ 2018-04-25 00:18:52,380][kfold_wrapper.log_eval_metrics] Accuracy(layer_0 - estimator_0 - 10_folds.train_7.predict)=98.68%\n",
      "[ 2018-04-25 00:18:53,195][kfold_wrapper.log_eval_metrics] Accuracy(layer_0 - estimator_0 - 10_folds.train_8.predict)=99.12%\n",
      "[ 2018-04-25 00:18:53,921][kfold_wrapper.log_eval_metrics] Accuracy(layer_0 - estimator_0 - 10_folds.train_9.predict)=98.24%\n",
      "[ 2018-04-25 00:18:54,060][kfold_wrapper.log_eval_metrics] Accuracy(layer_0 - estimator_0 - 10_folds.train_cv.predict)=99.03%\n",
      "[ 2018-04-25 00:18:54,062][kfold_wrapper.log_eval_metrics] Accuracy(layer_0 - estimator_0 - 10_folds.test.predict)=99.02%\n",
      "[ 2018-04-25 00:18:54,070][cascade_classifier.calc_accuracy] Accuracy(layer_0 - train.classifier_average)=99.03%\n",
      "[ 2018-04-25 00:18:54,072][cascade_classifier.calc_accuracy] Accuracy(layer_0 - test.classifier_average)=99.02%\n",
      "[ 2018-04-25 00:18:54,073][cascade_classifier.fit_transform] [Result][Reach Max Layer] opt_layer_num=1, accuracy_train=99.03%, accuracy_test=99.02%\n",
      "[ 2018-04-25 00:18:54,075][cascade_classifier.transform] X_groups_test.shape=[(2245, 23)]\n",
      "[ 2018-04-25 00:18:54,078][cascade_classifier.transform] group_dims=[23]\n",
      "[ 2018-04-25 00:18:54,079][cascade_classifier.transform] X_test.shape=(2245, 23)\n",
      "[ 2018-04-25 00:18:54,082][cascade_classifier.transform] [layer=0] look_indexs=[0], X_cur_test.shape=(2245, 23)\n"
     ]
    },
    {
     "name": "stdout",
     "output_type": "stream",
     "text": [
      "('Test Accuracy of ExtraTrees = 99.020045 %', 19, 'fois')\n"
     ]
    }
   ],
   "source": [
    "# Deep\n",
    "for i in range (20):\n",
    "    X_train,X_test=update(X_train,X_test)\n",
    "    X_test_enc, X_train_enc=newdata(X_test_enc, X_train_enc)\n",
    "\n",
    "    X_train=X_train_enc\n",
    "    X_test=X_test_enc \n",
    "    X_train_enc, X_test_enc = gc.fit_transform(X_train, y_train, X_test=X_test, y_test=y_test)\n",
    "    affiche()"
   ]
  },
  {
   "cell_type": "code",
   "execution_count": null,
   "metadata": {
    "collapsed": true
   },
   "outputs": [],
   "source": []
  },
  {
   "cell_type": "markdown",
   "metadata": {},
   "source": [
    "# ('Test Accuracy of ExtraTrees = 99.287305 %', 2, 'fois')"
   ]
  },
  {
   "cell_type": "code",
   "execution_count": null,
   "metadata": {
    "collapsed": true
   },
   "outputs": [],
   "source": []
  }
 ],
 "metadata": {
  "kernelspec": {
   "display_name": "Python 2",
   "language": "python",
   "name": "python2"
  },
  "language_info": {
   "codemirror_mode": {
    "name": "ipython",
    "version": 2
   },
   "file_extension": ".py",
   "mimetype": "text/x-python",
   "name": "python",
   "nbconvert_exporter": "python",
   "pygments_lexer": "ipython2",
   "version": "2.7.14"
  }
 },
 "nbformat": 4,
 "nbformat_minor": 2
}
