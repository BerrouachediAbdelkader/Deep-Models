{
 "cells": [
  {
   "cell_type": "code",
   "execution_count": 1,
   "metadata": {
    "collapsed": true
   },
   "outputs": [],
   "source": [
    "# imports \n",
    "import numpy as np\n",
    "from math import sqrt \n",
    "from pprint import pprint\n",
    "from numpy import array\n",
    "from scipy.io import arff\n",
    "import pandas as pd"
   ]
  },
  {
   "cell_type": "code",
   "execution_count": 2,
   "metadata": {},
   "outputs": [
    {
     "data": {
      "text/html": [
       "<div>\n",
       "<style>\n",
       "    .dataframe thead tr:only-child th {\n",
       "        text-align: right;\n",
       "    }\n",
       "\n",
       "    .dataframe thead th {\n",
       "        text-align: left;\n",
       "    }\n",
       "\n",
       "    .dataframe tbody tr th {\n",
       "        vertical-align: top;\n",
       "    }\n",
       "</style>\n",
       "<table border=\"1\" class=\"dataframe\">\n",
       "  <thead>\n",
       "    <tr style=\"text-align: right;\">\n",
       "      <th></th>\n",
       "      <th>att1</th>\n",
       "      <th>att2</th>\n",
       "      <th>att3</th>\n",
       "      <th>att4</th>\n",
       "      <th>att5</th>\n",
       "      <th>att6</th>\n",
       "      <th>att7</th>\n",
       "      <th>att8</th>\n",
       "      <th>att9</th>\n",
       "      <th>att10</th>\n",
       "      <th>...</th>\n",
       "      <th>att13</th>\n",
       "      <th>att14</th>\n",
       "      <th>att15</th>\n",
       "      <th>att16</th>\n",
       "      <th>att17</th>\n",
       "      <th>att18</th>\n",
       "      <th>att19</th>\n",
       "      <th>att20</th>\n",
       "      <th>att21</th>\n",
       "      <th>outlier</th>\n",
       "    </tr>\n",
       "  </thead>\n",
       "  <tbody>\n",
       "    <tr>\n",
       "      <th>0</th>\n",
       "      <td>0.73</td>\n",
       "      <td>0.0</td>\n",
       "      <td>1.0</td>\n",
       "      <td>0.0</td>\n",
       "      <td>0.0</td>\n",
       "      <td>0.0</td>\n",
       "      <td>0.0</td>\n",
       "      <td>0.0</td>\n",
       "      <td>1.0</td>\n",
       "      <td>0.0</td>\n",
       "      <td>...</td>\n",
       "      <td>0.0</td>\n",
       "      <td>0.0</td>\n",
       "      <td>0.0</td>\n",
       "      <td>0.0</td>\n",
       "      <td>0.00060</td>\n",
       "      <td>0.015</td>\n",
       "      <td>0.120</td>\n",
       "      <td>0.082</td>\n",
       "      <td>0.146</td>\n",
       "      <td>0</td>\n",
       "    </tr>\n",
       "    <tr>\n",
       "      <th>1</th>\n",
       "      <td>0.24</td>\n",
       "      <td>0.0</td>\n",
       "      <td>0.0</td>\n",
       "      <td>0.0</td>\n",
       "      <td>0.0</td>\n",
       "      <td>0.0</td>\n",
       "      <td>0.0</td>\n",
       "      <td>0.0</td>\n",
       "      <td>0.0</td>\n",
       "      <td>0.0</td>\n",
       "      <td>...</td>\n",
       "      <td>0.0</td>\n",
       "      <td>0.0</td>\n",
       "      <td>0.0</td>\n",
       "      <td>0.0</td>\n",
       "      <td>0.00025</td>\n",
       "      <td>0.030</td>\n",
       "      <td>0.143</td>\n",
       "      <td>0.133</td>\n",
       "      <td>0.108</td>\n",
       "      <td>0</td>\n",
       "    </tr>\n",
       "    <tr>\n",
       "      <th>2</th>\n",
       "      <td>0.47</td>\n",
       "      <td>0.0</td>\n",
       "      <td>0.0</td>\n",
       "      <td>0.0</td>\n",
       "      <td>0.0</td>\n",
       "      <td>0.0</td>\n",
       "      <td>0.0</td>\n",
       "      <td>0.0</td>\n",
       "      <td>0.0</td>\n",
       "      <td>0.0</td>\n",
       "      <td>...</td>\n",
       "      <td>0.0</td>\n",
       "      <td>0.0</td>\n",
       "      <td>0.0</td>\n",
       "      <td>0.0</td>\n",
       "      <td>0.00190</td>\n",
       "      <td>0.024</td>\n",
       "      <td>0.102</td>\n",
       "      <td>0.131</td>\n",
       "      <td>0.078</td>\n",
       "      <td>0</td>\n",
       "    </tr>\n",
       "    <tr>\n",
       "      <th>3</th>\n",
       "      <td>0.64</td>\n",
       "      <td>1.0</td>\n",
       "      <td>0.0</td>\n",
       "      <td>0.0</td>\n",
       "      <td>0.0</td>\n",
       "      <td>0.0</td>\n",
       "      <td>0.0</td>\n",
       "      <td>0.0</td>\n",
       "      <td>0.0</td>\n",
       "      <td>0.0</td>\n",
       "      <td>...</td>\n",
       "      <td>0.0</td>\n",
       "      <td>0.0</td>\n",
       "      <td>0.0</td>\n",
       "      <td>0.0</td>\n",
       "      <td>0.00090</td>\n",
       "      <td>0.017</td>\n",
       "      <td>0.077</td>\n",
       "      <td>0.090</td>\n",
       "      <td>0.085</td>\n",
       "      <td>0</td>\n",
       "    </tr>\n",
       "    <tr>\n",
       "      <th>4</th>\n",
       "      <td>0.23</td>\n",
       "      <td>0.0</td>\n",
       "      <td>0.0</td>\n",
       "      <td>0.0</td>\n",
       "      <td>0.0</td>\n",
       "      <td>0.0</td>\n",
       "      <td>0.0</td>\n",
       "      <td>0.0</td>\n",
       "      <td>0.0</td>\n",
       "      <td>0.0</td>\n",
       "      <td>...</td>\n",
       "      <td>0.0</td>\n",
       "      <td>0.0</td>\n",
       "      <td>0.0</td>\n",
       "      <td>0.0</td>\n",
       "      <td>0.00025</td>\n",
       "      <td>0.026</td>\n",
       "      <td>0.139</td>\n",
       "      <td>0.090</td>\n",
       "      <td>0.153</td>\n",
       "      <td>0</td>\n",
       "    </tr>\n",
       "  </tbody>\n",
       "</table>\n",
       "<p>5 rows × 22 columns</p>\n",
       "</div>"
      ],
      "text/plain": [
       "   att1  att2  att3  att4  att5  att6  att7  att8  att9  att10   ...     \\\n",
       "0  0.73   0.0   1.0   0.0   0.0   0.0   0.0   0.0   1.0    0.0   ...      \n",
       "1  0.24   0.0   0.0   0.0   0.0   0.0   0.0   0.0   0.0    0.0   ...      \n",
       "2  0.47   0.0   0.0   0.0   0.0   0.0   0.0   0.0   0.0    0.0   ...      \n",
       "3  0.64   1.0   0.0   0.0   0.0   0.0   0.0   0.0   0.0    0.0   ...      \n",
       "4  0.23   0.0   0.0   0.0   0.0   0.0   0.0   0.0   0.0    0.0   ...      \n",
       "\n",
       "   att13  att14  att15  att16    att17  att18  att19  att20  att21  outlier  \n",
       "0    0.0    0.0    0.0    0.0  0.00060  0.015  0.120  0.082  0.146        0  \n",
       "1    0.0    0.0    0.0    0.0  0.00025  0.030  0.143  0.133  0.108        0  \n",
       "2    0.0    0.0    0.0    0.0  0.00190  0.024  0.102  0.131  0.078        0  \n",
       "3    0.0    0.0    0.0    0.0  0.00090  0.017  0.077  0.090  0.085        0  \n",
       "4    0.0    0.0    0.0    0.0  0.00025  0.026  0.139  0.090  0.153        0  \n",
       "\n",
       "[5 rows x 22 columns]"
      ]
     },
     "execution_count": 2,
     "metadata": {},
     "output_type": "execute_result"
    }
   ],
   "source": [
    "# load data\n",
    "\n",
    "df=pd.read_csv('Annthyroid_02_v01.csv')  \n",
    "\n",
    "del df['id']\n",
    "del df['Unnamed: 0']\n",
    "df['outlier'] = df.outlier.apply(lambda label: 1 if label == \"'yes'\" else 0)\n",
    "\n",
    "df.head()"
   ]
  },
  {
   "cell_type": "code",
   "execution_count": 3,
   "metadata": {},
   "outputs": [
    {
     "data": {
      "text/plain": [
       "(6802, 22)"
      ]
     },
     "execution_count": 3,
     "metadata": {},
     "output_type": "execute_result"
    }
   ],
   "source": [
    "df.shape"
   ]
  },
  {
   "cell_type": "code",
   "execution_count": 4,
   "metadata": {
    "collapsed": true
   },
   "outputs": [],
   "source": [
    "# data to values\n",
    "df = df.values"
   ]
  },
  {
   "cell_type": "code",
   "execution_count": 5,
   "metadata": {
    "collapsed": true
   },
   "outputs": [],
   "source": [
    "# Extratrees Deep\n",
    "import argparse\n",
    "import sys\n",
    "import pickle\n",
    "from sklearn.metrics import accuracy_score\n",
    "sys.path.insert(0, \"lib\")\n",
    "from gcforest.gcforest import GCForest\n",
    "from gcforest.utils.config_utils import load_json\n",
    "config = load_json(\"./examples/Annthyroid.json\")\n",
    "gc = GCForest(config)"
   ]
  },
  {
   "cell_type": "code",
   "execution_count": 6,
   "metadata": {},
   "outputs": [
    {
     "name": "stderr",
     "output_type": "stream",
     "text": [
      "/home/kader/anaconda3/envs/py27/lib/python2.7/site-packages/sklearn/cross_validation.py:41: DeprecationWarning: This module was deprecated in version 0.18 in favor of the model_selection module into which all the refactored classes and functions are moved. Also note that the interface of the new CV iterators are different from that of this module. This module will be removed in 0.20.\n",
      "  \"This module will be removed in 0.20.\", DeprecationWarning)\n"
     ]
    }
   ],
   "source": [
    "# train test \n",
    "from sklearn.cross_validation import train_test_split\n",
    "y = df[:,21]\n",
    "X = df[:,0:21]\n",
    "\n",
    "X_train,X_test,y_train,y_test = train_test_split(X, y, test_size=0.33, random_state=42)"
   ]
  },
  {
   "cell_type": "code",
   "execution_count": 7,
   "metadata": {},
   "outputs": [
    {
     "data": {
      "text/plain": [
       "2"
      ]
     },
     "execution_count": 7,
     "metadata": {},
     "output_type": "execute_result"
    }
   ],
   "source": [
    "# number of class\n",
    "len(np.unique(y_train))"
   ]
  },
  {
   "cell_type": "code",
   "execution_count": 8,
   "metadata": {},
   "outputs": [
    {
     "name": "stderr",
     "output_type": "stream",
     "text": [
      "[ 2018-05-15 09:29:07,560][cascade_classifier.fit_transform] X_groups_train.shape=[(4557, 21)],y_train.shape=(4557,),X_groups_test.shape=[(2245, 21)],y_test.shape=(2245,)\n",
      "[ 2018-05-15 09:29:07,564][cascade_classifier.fit_transform] group_dims=[21]\n",
      "[ 2018-05-15 09:29:07,567][cascade_classifier.fit_transform] group_starts=[0]\n",
      "[ 2018-05-15 09:29:07,568][cascade_classifier.fit_transform] group_ends=[21]\n",
      "[ 2018-05-15 09:29:07,571][cascade_classifier.fit_transform] X_train.shape=(4557, 21),X_test.shape=(2245, 21)\n",
      "[ 2018-05-15 09:29:07,575][cascade_classifier.fit_transform] [layer=0] look_indexs=[0], X_cur_train.shape=(4557, 21), X_cur_test.shape=(2245, 21)\n",
      "[ 2018-05-15 09:29:08,626][kfold_wrapper.log_eval_metrics] Accuracy(layer_0 - estimator_0 - 10_folds.train_0.predict)=98.25%\n",
      "[ 2018-05-15 09:29:09,428][kfold_wrapper.log_eval_metrics] Accuracy(layer_0 - estimator_0 - 10_folds.train_1.predict)=99.12%\n",
      "[ 2018-05-15 09:29:10,163][kfold_wrapper.log_eval_metrics] Accuracy(layer_0 - estimator_0 - 10_folds.train_2.predict)=98.68%\n",
      "[ 2018-05-15 09:29:10,919][kfold_wrapper.log_eval_metrics] Accuracy(layer_0 - estimator_0 - 10_folds.train_3.predict)=98.90%\n",
      "[ 2018-05-15 09:29:11,647][kfold_wrapper.log_eval_metrics] Accuracy(layer_0 - estimator_0 - 10_folds.train_4.predict)=99.56%\n",
      "[ 2018-05-15 09:29:12,353][kfold_wrapper.log_eval_metrics] Accuracy(layer_0 - estimator_0 - 10_folds.train_5.predict)=98.90%\n",
      "[ 2018-05-15 09:29:13,089][kfold_wrapper.log_eval_metrics] Accuracy(layer_0 - estimator_0 - 10_folds.train_6.predict)=99.34%\n",
      "[ 2018-05-15 09:29:13,846][kfold_wrapper.log_eval_metrics] Accuracy(layer_0 - estimator_0 - 10_folds.train_7.predict)=98.68%\n",
      "[ 2018-05-15 09:29:14,579][kfold_wrapper.log_eval_metrics] Accuracy(layer_0 - estimator_0 - 10_folds.train_8.predict)=98.46%\n",
      "[ 2018-05-15 09:29:15,314][kfold_wrapper.log_eval_metrics] Accuracy(layer_0 - estimator_0 - 10_folds.train_9.predict)=98.46%\n",
      "[ 2018-05-15 09:29:15,444][kfold_wrapper.log_eval_metrics] Accuracy(layer_0 - estimator_0 - 10_folds.train_cv.predict)=98.84%\n",
      "[ 2018-05-15 09:29:15,448][kfold_wrapper.log_eval_metrics] Accuracy(layer_0 - estimator_0 - 10_folds.test.predict)=98.75%\n",
      "[ 2018-05-15 09:29:15,451][cascade_classifier.calc_accuracy] Accuracy(layer_0 - train.classifier_average)=98.84%\n",
      "[ 2018-05-15 09:29:15,454][cascade_classifier.calc_accuracy] Accuracy(layer_0 - test.classifier_average)=98.75%\n",
      "[ 2018-05-15 09:29:15,457][cascade_classifier.fit_transform] [Result][Reach Max Layer] opt_layer_num=1, accuracy_train=98.84%, accuracy_test=98.75%\n"
     ]
    }
   ],
   "source": [
    "         # X_enc is the concatenated predict_proba result of ExtraTrees\n",
    "\n",
    "X_train_enc, X_test_enc = gc.fit_transform(X_train, y_train, X_test=X_test, y_test=y_test)\n",
    "   "
   ]
  },
  {
   "cell_type": "code",
   "execution_count": 9,
   "metadata": {},
   "outputs": [
    {
     "name": "stderr",
     "output_type": "stream",
     "text": [
      "[ 2018-05-15 09:29:15,473][cascade_classifier.transform] X_groups_test.shape=[(2245, 21)]\n",
      "[ 2018-05-15 09:29:15,475][cascade_classifier.transform] group_dims=[21]\n",
      "[ 2018-05-15 09:29:15,476][cascade_classifier.transform] X_test.shape=(2245, 21)\n",
      "[ 2018-05-15 09:29:15,479][cascade_classifier.transform] [layer=0] look_indexs=[0], X_cur_test.shape=(2245, 21)\n"
     ]
    },
    {
     "name": "stdout",
     "output_type": "stream",
     "text": [
      "Test Accuracy of ExtraTrees = 98.752784 %\n"
     ]
    }
   ],
   "source": [
    "# predict\n",
    "y_pred = gc.predict(X_test)\n",
    "acc = accuracy_score(y_test, y_pred)\n",
    "print(\"Test Accuracy of ExtraTrees = {:.6f} %\".format(acc * 100))"
   ]
  },
  {
   "cell_type": "code",
   "execution_count": 10,
   "metadata": {},
   "outputs": [
    {
     "name": "stdout",
     "output_type": "stream",
     "text": [
      "[[2193    4]\n",
      " [  24   24]]\n",
      "\n",
      "\n",
      "             precision    recall  f1-score   support\n",
      "\n",
      "        0.0       0.99      1.00      0.99      2197\n",
      "        1.0       0.86      0.50      0.63        48\n",
      "\n",
      "avg / total       0.99      0.99      0.99      2245\n",
      "\n"
     ]
    }
   ],
   "source": [
    "# Matrix de confusion\n",
    "from sklearn.metrics import classification_report, confusion_matrix\n",
    "print(confusion_matrix(y_test,y_pred))\n",
    "print('\\n')\n",
    "print(classification_report(y_test,y_pred))"
   ]
  },
  {
   "cell_type": "code",
   "execution_count": 11,
   "metadata": {},
   "outputs": [
    {
     "name": "stderr",
     "output_type": "stream",
     "text": [
      "[ 2018-05-15 09:29:16,783][cascade_classifier.transform] X_groups_test.shape=[(2245, 21)]\n",
      "[ 2018-05-15 09:29:16,785][cascade_classifier.transform] group_dims=[21]\n",
      "[ 2018-05-15 09:29:16,786][cascade_classifier.transform] X_test.shape=(2245, 21)\n",
      "[ 2018-05-15 09:29:16,788][cascade_classifier.transform] [layer=0] look_indexs=[0], X_cur_test.shape=(2245, 21)\n"
     ]
    }
   ],
   "source": [
    "# Make data + estimators\n",
    "X_test_enc = gc.transform(X_test)\n",
    "X_train_enc = X_train_enc.reshape((X_train_enc.shape[0], -1))\n",
    "X_test_enc = X_test_enc.reshape((X_test_enc.shape[0], -1))\n",
    "X_train_origin = X_train.reshape((X_train.shape[0], -1))\n",
    "X_test_origin = X_test.reshape((X_test.shape[0], -1))\n",
    "X_train_enc = np.hstack((X_train_origin, X_train_enc))\n",
    "X_test_enc = np.hstack((X_test_origin, X_test_enc))"
   ]
  },
  {
   "cell_type": "code",
   "execution_count": 12,
   "metadata": {},
   "outputs": [
    {
     "name": "stderr",
     "output_type": "stream",
     "text": [
      "[ 2018-05-15 09:29:17,968][cascade_classifier.fit_transform] X_groups_train.shape=[(4557, 23)],y_train.shape=(4557,),X_groups_test.shape=[(2245, 23)],y_test.shape=(2245,)\n",
      "[ 2018-05-15 09:29:17,971][cascade_classifier.fit_transform] group_dims=[23]\n",
      "[ 2018-05-15 09:29:17,972][cascade_classifier.fit_transform] group_starts=[0]\n",
      "[ 2018-05-15 09:29:17,974][cascade_classifier.fit_transform] group_ends=[23]\n",
      "[ 2018-05-15 09:29:17,975][cascade_classifier.fit_transform] X_train.shape=(4557, 23),X_test.shape=(2245, 23)\n",
      "[ 2018-05-15 09:29:17,977][cascade_classifier.fit_transform] [layer=0] look_indexs=[0], X_cur_train.shape=(4557, 23), X_cur_test.shape=(2245, 23)\n",
      "[ 2018-05-15 09:29:18,598][kfold_wrapper.log_eval_metrics] Accuracy(layer_0 - estimator_0 - 10_folds.train_0.predict)=98.68%\n",
      "[ 2018-05-15 09:29:19,331][kfold_wrapper.log_eval_metrics] Accuracy(layer_0 - estimator_0 - 10_folds.train_1.predict)=99.78%\n",
      "[ 2018-05-15 09:29:20,023][kfold_wrapper.log_eval_metrics] Accuracy(layer_0 - estimator_0 - 10_folds.train_2.predict)=99.56%\n",
      "[ 2018-05-15 09:29:20,770][kfold_wrapper.log_eval_metrics] Accuracy(layer_0 - estimator_0 - 10_folds.train_3.predict)=99.34%\n",
      "[ 2018-05-15 09:29:21,524][kfold_wrapper.log_eval_metrics] Accuracy(layer_0 - estimator_0 - 10_folds.train_4.predict)=99.56%\n",
      "[ 2018-05-15 09:29:22,266][kfold_wrapper.log_eval_metrics] Accuracy(layer_0 - estimator_0 - 10_folds.train_5.predict)=99.56%\n",
      "[ 2018-05-15 09:29:22,985][kfold_wrapper.log_eval_metrics] Accuracy(layer_0 - estimator_0 - 10_folds.train_6.predict)=99.56%\n",
      "[ 2018-05-15 09:29:23,713][kfold_wrapper.log_eval_metrics] Accuracy(layer_0 - estimator_0 - 10_folds.train_7.predict)=99.56%\n",
      "[ 2018-05-15 09:29:24,504][kfold_wrapper.log_eval_metrics] Accuracy(layer_0 - estimator_0 - 10_folds.train_8.predict)=99.56%\n",
      "[ 2018-05-15 09:29:25,236][kfold_wrapper.log_eval_metrics] Accuracy(layer_0 - estimator_0 - 10_folds.train_9.predict)=98.24%\n",
      "[ 2018-05-15 09:29:25,354][kfold_wrapper.log_eval_metrics] Accuracy(layer_0 - estimator_0 - 10_folds.train_cv.predict)=99.34%\n",
      "[ 2018-05-15 09:29:25,357][kfold_wrapper.log_eval_metrics] Accuracy(layer_0 - estimator_0 - 10_folds.test.predict)=99.15%\n",
      "[ 2018-05-15 09:29:25,366][cascade_classifier.calc_accuracy] Accuracy(layer_0 - train.classifier_average)=99.34%\n",
      "[ 2018-05-15 09:29:25,368][cascade_classifier.calc_accuracy] Accuracy(layer_0 - test.classifier_average)=99.15%\n",
      "[ 2018-05-15 09:29:25,370][cascade_classifier.fit_transform] [Result][Reach Max Layer] opt_layer_num=1, accuracy_train=99.34%, accuracy_test=99.15%\n"
     ]
    }
   ],
   "source": [
    "# New data\n",
    "X_train=X_train_enc\n",
    "X_test=X_test_enc \n",
    "X_train_enc, X_test_enc = gc.fit_transform(X_train, y_train, X_test=X_test, y_test=y_test)"
   ]
  },
  {
   "cell_type": "code",
   "execution_count": 13,
   "metadata": {},
   "outputs": [
    {
     "name": "stderr",
     "output_type": "stream",
     "text": [
      "[ 2018-05-15 09:29:25,380][cascade_classifier.transform] X_groups_test.shape=[(2245, 23)]\n",
      "[ 2018-05-15 09:29:25,382][cascade_classifier.transform] group_dims=[23]\n",
      "[ 2018-05-15 09:29:25,383][cascade_classifier.transform] X_test.shape=(2245, 23)\n",
      "[ 2018-05-15 09:29:25,384][cascade_classifier.transform] [layer=0] look_indexs=[0], X_cur_test.shape=(2245, 23)\n"
     ]
    },
    {
     "name": "stdout",
     "output_type": "stream",
     "text": [
      "Test Accuracy of ExtraTrees = 99.153675 %\n"
     ]
    }
   ],
   "source": [
    "# predict  data + Es\n",
    "y_pred = gc.predict(X_test)\n",
    "acc = accuracy_score(y_test, y_pred)\n",
    "print(\"Test Accuracy of ExtraTrees = {:.6f} %\".format(acc * 100))"
   ]
  },
  {
   "cell_type": "code",
   "execution_count": 14,
   "metadata": {},
   "outputs": [
    {
     "name": "stdout",
     "output_type": "stream",
     "text": [
      "[[2189    8]\n",
      " [  11   37]]\n",
      "\n",
      "\n",
      "             precision    recall  f1-score   support\n",
      "\n",
      "        0.0       0.99      1.00      1.00      2197\n",
      "        1.0       0.82      0.77      0.80        48\n",
      "\n",
      "avg / total       0.99      0.99      0.99      2245\n",
      "\n"
     ]
    }
   ],
   "source": [
    "# Matrix de confusion\n",
    "from sklearn.metrics import classification_report, confusion_matrix\n",
    "print(confusion_matrix(y_test,y_pred))\n",
    "print('\\n')\n",
    "print(classification_report(y_test,y_pred))"
   ]
  },
  {
   "cell_type": "code",
   "execution_count": 15,
   "metadata": {
    "collapsed": true
   },
   "outputs": [],
   "source": [
    "def update(X_train,X_test):\n",
    "    # update Estimators\n",
    "    M = np.delete(X_train, (-1), axis=1)\n",
    "    X_train= np.delete(M, (-1), axis=1)\n",
    "    M = np.delete(X_test, (-1), axis=1)\n",
    "    X_test = np.delete(M, (-1), axis=1)\n",
    "    return X_train,X_test\n",
    "\n",
    "def newdata(X_test_enc, X_train_enc):\n",
    "    # Make Data + Estimators\n",
    "    X_train_origin = X_train.reshape((X_train.shape[0], -1))\n",
    "    X_test_origin = X_test.reshape((X_test.shape[0], -1))\n",
    "    X_train_enc = np.hstack((X_train_origin, X_train_enc))\n",
    "    X_test_enc = np.hstack((X_test_origin, X_test_enc))\n",
    "    return X_test_enc, X_train_enc\n",
    "\n",
    "def affiche():\n",
    "    # predict\n",
    "    y_pred = gc.predict(X_test)\n",
    "    acc = accuracy_score(y_test, y_pred)\n",
    "    print(\"Test Accuracy of ExtraTrees = {:.6f} %\".format(acc * 100),i,'fois')\n",
    "    \n",
    "    # Matrix de confusion\n",
    "    from sklearn.metrics import classification_report, confusion_matrix\n",
    "    print(confusion_matrix(y_test,y_pred))\n",
    "    print('\\n')\n",
    "    print(classification_report(y_test,y_pred))"
   ]
  },
  {
   "cell_type": "code",
   "execution_count": 16,
   "metadata": {},
   "outputs": [
    {
     "name": "stderr",
     "output_type": "stream",
     "text": [
      "[ 2018-05-15 09:29:26,879][cascade_classifier.fit_transform] X_groups_train.shape=[(4557, 23)],y_train.shape=(4557,),X_groups_test.shape=[(2245, 23)],y_test.shape=(2245,)\n",
      "[ 2018-05-15 09:29:26,881][cascade_classifier.fit_transform] group_dims=[23]\n",
      "[ 2018-05-15 09:29:26,882][cascade_classifier.fit_transform] group_starts=[0]\n",
      "[ 2018-05-15 09:29:26,883][cascade_classifier.fit_transform] group_ends=[23]\n",
      "[ 2018-05-15 09:29:26,884][cascade_classifier.fit_transform] X_train.shape=(4557, 23),X_test.shape=(2245, 23)\n",
      "[ 2018-05-15 09:29:26,886][cascade_classifier.fit_transform] [layer=0] look_indexs=[0], X_cur_train.shape=(4557, 23), X_cur_test.shape=(2245, 23)\n",
      "[ 2018-05-15 09:29:27,502][kfold_wrapper.log_eval_metrics] Accuracy(layer_0 - estimator_0 - 10_folds.train_0.predict)=98.46%\n",
      "[ 2018-05-15 09:29:28,194][kfold_wrapper.log_eval_metrics] Accuracy(layer_0 - estimator_0 - 10_folds.train_1.predict)=99.56%\n",
      "[ 2018-05-15 09:29:28,935][kfold_wrapper.log_eval_metrics] Accuracy(layer_0 - estimator_0 - 10_folds.train_2.predict)=99.56%\n",
      "[ 2018-05-15 09:29:29,655][kfold_wrapper.log_eval_metrics] Accuracy(layer_0 - estimator_0 - 10_folds.train_3.predict)=99.34%\n",
      "[ 2018-05-15 09:29:30,394][kfold_wrapper.log_eval_metrics] Accuracy(layer_0 - estimator_0 - 10_folds.train_4.predict)=99.56%\n",
      "[ 2018-05-15 09:29:31,136][kfold_wrapper.log_eval_metrics] Accuracy(layer_0 - estimator_0 - 10_folds.train_5.predict)=99.56%\n",
      "[ 2018-05-15 09:29:31,819][kfold_wrapper.log_eval_metrics] Accuracy(layer_0 - estimator_0 - 10_folds.train_6.predict)=99.34%\n",
      "[ 2018-05-15 09:29:32,544][kfold_wrapper.log_eval_metrics] Accuracy(layer_0 - estimator_0 - 10_folds.train_7.predict)=99.56%\n",
      "[ 2018-05-15 09:29:33,443][kfold_wrapper.log_eval_metrics] Accuracy(layer_0 - estimator_0 - 10_folds.train_8.predict)=99.34%\n",
      "[ 2018-05-15 09:29:34,192][kfold_wrapper.log_eval_metrics] Accuracy(layer_0 - estimator_0 - 10_folds.train_9.predict)=98.24%\n",
      "[ 2018-05-15 09:29:34,308][kfold_wrapper.log_eval_metrics] Accuracy(layer_0 - estimator_0 - 10_folds.train_cv.predict)=99.25%\n",
      "[ 2018-05-15 09:29:34,310][kfold_wrapper.log_eval_metrics] Accuracy(layer_0 - estimator_0 - 10_folds.test.predict)=99.15%\n",
      "[ 2018-05-15 09:29:34,314][cascade_classifier.calc_accuracy] Accuracy(layer_0 - train.classifier_average)=99.25%\n",
      "[ 2018-05-15 09:29:34,316][cascade_classifier.calc_accuracy] Accuracy(layer_0 - test.classifier_average)=99.15%\n",
      "[ 2018-05-15 09:29:34,317][cascade_classifier.fit_transform] [Result][Reach Max Layer] opt_layer_num=1, accuracy_train=99.25%, accuracy_test=99.15%\n",
      "[ 2018-05-15 09:29:34,319][cascade_classifier.transform] X_groups_test.shape=[(2245, 23)]\n",
      "[ 2018-05-15 09:29:34,321][cascade_classifier.transform] group_dims=[23]\n",
      "[ 2018-05-15 09:29:34,322][cascade_classifier.transform] X_test.shape=(2245, 23)\n",
      "[ 2018-05-15 09:29:34,324][cascade_classifier.transform] [layer=0] look_indexs=[0], X_cur_test.shape=(2245, 23)\n",
      "[ 2018-05-15 09:29:35,510][cascade_classifier.fit_transform] X_groups_train.shape=[(4557, 23)],y_train.shape=(4557,),X_groups_test.shape=[(2245, 23)],y_test.shape=(2245,)\n",
      "[ 2018-05-15 09:29:35,512][cascade_classifier.fit_transform] group_dims=[23]\n",
      "[ 2018-05-15 09:29:35,513][cascade_classifier.fit_transform] group_starts=[0]\n",
      "[ 2018-05-15 09:29:35,515][cascade_classifier.fit_transform] group_ends=[23]\n",
      "[ 2018-05-15 09:29:35,516][cascade_classifier.fit_transform] X_train.shape=(4557, 23),X_test.shape=(2245, 23)\n",
      "[ 2018-05-15 09:29:35,519][cascade_classifier.fit_transform] [layer=0] look_indexs=[0], X_cur_train.shape=(4557, 23), X_cur_test.shape=(2245, 23)\n"
     ]
    },
    {
     "name": "stdout",
     "output_type": "stream",
     "text": [
      "('Test Accuracy of ExtraTrees = 99.153675 %', 0, 'fois')\n",
      "[[2192    5]\n",
      " [  14   34]]\n",
      "\n",
      "\n",
      "             precision    recall  f1-score   support\n",
      "\n",
      "        0.0       0.99      1.00      1.00      2197\n",
      "        1.0       0.87      0.71      0.78        48\n",
      "\n",
      "avg / total       0.99      0.99      0.99      2245\n",
      "\n"
     ]
    },
    {
     "name": "stderr",
     "output_type": "stream",
     "text": [
      "[ 2018-05-15 09:29:36,134][kfold_wrapper.log_eval_metrics] Accuracy(layer_0 - estimator_0 - 10_folds.train_0.predict)=98.46%\n",
      "[ 2018-05-15 09:29:36,877][kfold_wrapper.log_eval_metrics] Accuracy(layer_0 - estimator_0 - 10_folds.train_1.predict)=99.78%\n",
      "[ 2018-05-15 09:29:37,585][kfold_wrapper.log_eval_metrics] Accuracy(layer_0 - estimator_0 - 10_folds.train_2.predict)=99.56%\n",
      "[ 2018-05-15 09:29:38,325][kfold_wrapper.log_eval_metrics] Accuracy(layer_0 - estimator_0 - 10_folds.train_3.predict)=99.34%\n",
      "[ 2018-05-15 09:29:39,048][kfold_wrapper.log_eval_metrics] Accuracy(layer_0 - estimator_0 - 10_folds.train_4.predict)=99.34%\n",
      "[ 2018-05-15 09:29:39,761][kfold_wrapper.log_eval_metrics] Accuracy(layer_0 - estimator_0 - 10_folds.train_5.predict)=99.34%\n",
      "[ 2018-05-15 09:29:40,558][kfold_wrapper.log_eval_metrics] Accuracy(layer_0 - estimator_0 - 10_folds.train_6.predict)=99.34%\n",
      "[ 2018-05-15 09:29:41,350][kfold_wrapper.log_eval_metrics] Accuracy(layer_0 - estimator_0 - 10_folds.train_7.predict)=99.34%\n",
      "[ 2018-05-15 09:29:42,092][kfold_wrapper.log_eval_metrics] Accuracy(layer_0 - estimator_0 - 10_folds.train_8.predict)=99.34%\n",
      "[ 2018-05-15 09:29:42,787][kfold_wrapper.log_eval_metrics] Accuracy(layer_0 - estimator_0 - 10_folds.train_9.predict)=98.02%\n",
      "[ 2018-05-15 09:29:42,908][kfold_wrapper.log_eval_metrics] Accuracy(layer_0 - estimator_0 - 10_folds.train_cv.predict)=99.19%\n",
      "[ 2018-05-15 09:29:42,912][kfold_wrapper.log_eval_metrics] Accuracy(layer_0 - estimator_0 - 10_folds.test.predict)=99.06%\n",
      "[ 2018-05-15 09:29:42,919][cascade_classifier.calc_accuracy] Accuracy(layer_0 - train.classifier_average)=99.19%\n",
      "[ 2018-05-15 09:29:42,922][cascade_classifier.calc_accuracy] Accuracy(layer_0 - test.classifier_average)=99.06%\n",
      "[ 2018-05-15 09:29:42,924][cascade_classifier.fit_transform] [Result][Reach Max Layer] opt_layer_num=1, accuracy_train=99.19%, accuracy_test=99.06%\n",
      "[ 2018-05-15 09:29:42,925][cascade_classifier.transform] X_groups_test.shape=[(2245, 23)]\n",
      "[ 2018-05-15 09:29:42,927][cascade_classifier.transform] group_dims=[23]\n",
      "[ 2018-05-15 09:29:42,928][cascade_classifier.transform] X_test.shape=(2245, 23)\n",
      "[ 2018-05-15 09:29:42,929][cascade_classifier.transform] [layer=0] look_indexs=[0], X_cur_test.shape=(2245, 23)\n",
      "[ 2018-05-15 09:29:44,108][cascade_classifier.fit_transform] X_groups_train.shape=[(4557, 23)],y_train.shape=(4557,),X_groups_test.shape=[(2245, 23)],y_test.shape=(2245,)\n",
      "[ 2018-05-15 09:29:44,111][cascade_classifier.fit_transform] group_dims=[23]\n",
      "[ 2018-05-15 09:29:44,112][cascade_classifier.fit_transform] group_starts=[0]\n",
      "[ 2018-05-15 09:29:44,113][cascade_classifier.fit_transform] group_ends=[23]\n",
      "[ 2018-05-15 09:29:44,114][cascade_classifier.fit_transform] X_train.shape=(4557, 23),X_test.shape=(2245, 23)\n",
      "[ 2018-05-15 09:29:44,115][cascade_classifier.fit_transform] [layer=0] look_indexs=[0], X_cur_train.shape=(4557, 23), X_cur_test.shape=(2245, 23)\n"
     ]
    },
    {
     "name": "stdout",
     "output_type": "stream",
     "text": [
      "('Test Accuracy of ExtraTrees = 99.064588 %', 1, 'fois')\n",
      "[[2190    7]\n",
      " [  14   34]]\n",
      "\n",
      "\n",
      "             precision    recall  f1-score   support\n",
      "\n",
      "        0.0       0.99      1.00      1.00      2197\n",
      "        1.0       0.83      0.71      0.76        48\n",
      "\n",
      "avg / total       0.99      0.99      0.99      2245\n",
      "\n"
     ]
    },
    {
     "name": "stderr",
     "output_type": "stream",
     "text": [
      "[ 2018-05-15 09:29:44,735][kfold_wrapper.log_eval_metrics] Accuracy(layer_0 - estimator_0 - 10_folds.train_0.predict)=98.68%\n",
      "[ 2018-05-15 09:29:45,467][kfold_wrapper.log_eval_metrics] Accuracy(layer_0 - estimator_0 - 10_folds.train_1.predict)=99.34%\n",
      "[ 2018-05-15 09:29:46,182][kfold_wrapper.log_eval_metrics] Accuracy(layer_0 - estimator_0 - 10_folds.train_2.predict)=99.78%\n",
      "[ 2018-05-15 09:29:46,918][kfold_wrapper.log_eval_metrics] Accuracy(layer_0 - estimator_0 - 10_folds.train_3.predict)=99.34%\n",
      "[ 2018-05-15 09:29:47,628][kfold_wrapper.log_eval_metrics] Accuracy(layer_0 - estimator_0 - 10_folds.train_4.predict)=99.34%\n",
      "[ 2018-05-15 09:29:48,369][kfold_wrapper.log_eval_metrics] Accuracy(layer_0 - estimator_0 - 10_folds.train_5.predict)=99.56%\n",
      "[ 2018-05-15 09:29:49,099][kfold_wrapper.log_eval_metrics] Accuracy(layer_0 - estimator_0 - 10_folds.train_6.predict)=99.34%\n",
      "[ 2018-05-15 09:29:49,827][kfold_wrapper.log_eval_metrics] Accuracy(layer_0 - estimator_0 - 10_folds.train_7.predict)=99.34%\n",
      "[ 2018-05-15 09:29:50,554][kfold_wrapper.log_eval_metrics] Accuracy(layer_0 - estimator_0 - 10_folds.train_8.predict)=99.56%\n",
      "[ 2018-05-15 09:29:51,297][kfold_wrapper.log_eval_metrics] Accuracy(layer_0 - estimator_0 - 10_folds.train_9.predict)=98.90%\n",
      "[ 2018-05-15 09:29:51,414][kfold_wrapper.log_eval_metrics] Accuracy(layer_0 - estimator_0 - 10_folds.train_cv.predict)=99.32%\n",
      "[ 2018-05-15 09:29:51,418][kfold_wrapper.log_eval_metrics] Accuracy(layer_0 - estimator_0 - 10_folds.test.predict)=99.29%\n",
      "[ 2018-05-15 09:29:51,425][cascade_classifier.calc_accuracy] Accuracy(layer_0 - train.classifier_average)=99.32%\n",
      "[ 2018-05-15 09:29:51,427][cascade_classifier.calc_accuracy] Accuracy(layer_0 - test.classifier_average)=99.29%\n",
      "[ 2018-05-15 09:29:51,429][cascade_classifier.fit_transform] [Result][Reach Max Layer] opt_layer_num=1, accuracy_train=99.32%, accuracy_test=99.29%\n",
      "[ 2018-05-15 09:29:51,435][cascade_classifier.transform] X_groups_test.shape=[(2245, 23)]\n",
      "[ 2018-05-15 09:29:51,437][cascade_classifier.transform] group_dims=[23]\n",
      "[ 2018-05-15 09:29:51,438][cascade_classifier.transform] X_test.shape=(2245, 23)\n",
      "[ 2018-05-15 09:29:51,439][cascade_classifier.transform] [layer=0] look_indexs=[0], X_cur_test.shape=(2245, 23)\n",
      "[ 2018-05-15 09:29:52,616][cascade_classifier.fit_transform] X_groups_train.shape=[(4557, 23)],y_train.shape=(4557,),X_groups_test.shape=[(2245, 23)],y_test.shape=(2245,)\n",
      "[ 2018-05-15 09:29:52,618][cascade_classifier.fit_transform] group_dims=[23]\n",
      "[ 2018-05-15 09:29:52,619][cascade_classifier.fit_transform] group_starts=[0]\n",
      "[ 2018-05-15 09:29:52,620][cascade_classifier.fit_transform] group_ends=[23]\n",
      "[ 2018-05-15 09:29:52,621][cascade_classifier.fit_transform] X_train.shape=(4557, 23),X_test.shape=(2245, 23)\n",
      "[ 2018-05-15 09:29:52,623][cascade_classifier.fit_transform] [layer=0] look_indexs=[0], X_cur_train.shape=(4557, 23), X_cur_test.shape=(2245, 23)\n"
     ]
    },
    {
     "name": "stdout",
     "output_type": "stream",
     "text": [
      "('Test Accuracy of ExtraTrees = 99.287305 %', 2, 'fois')\n",
      "[[2193    4]\n",
      " [  12   36]]\n",
      "\n",
      "\n",
      "             precision    recall  f1-score   support\n",
      "\n",
      "        0.0       0.99      1.00      1.00      2197\n",
      "        1.0       0.90      0.75      0.82        48\n",
      "\n",
      "avg / total       0.99      0.99      0.99      2245\n",
      "\n"
     ]
    },
    {
     "name": "stderr",
     "output_type": "stream",
     "text": [
      "[ 2018-05-15 09:29:53,255][kfold_wrapper.log_eval_metrics] Accuracy(layer_0 - estimator_0 - 10_folds.train_0.predict)=98.68%\n",
      "[ 2018-05-15 09:29:53,976][kfold_wrapper.log_eval_metrics] Accuracy(layer_0 - estimator_0 - 10_folds.train_1.predict)=99.34%\n",
      "[ 2018-05-15 09:29:54,717][kfold_wrapper.log_eval_metrics] Accuracy(layer_0 - estimator_0 - 10_folds.train_2.predict)=99.78%\n",
      "[ 2018-05-15 09:29:55,442][kfold_wrapper.log_eval_metrics] Accuracy(layer_0 - estimator_0 - 10_folds.train_3.predict)=99.34%\n",
      "[ 2018-05-15 09:29:56,192][kfold_wrapper.log_eval_metrics] Accuracy(layer_0 - estimator_0 - 10_folds.train_4.predict)=99.34%\n",
      "[ 2018-05-15 09:29:56,921][kfold_wrapper.log_eval_metrics] Accuracy(layer_0 - estimator_0 - 10_folds.train_5.predict)=99.34%\n",
      "[ 2018-05-15 09:29:57,628][kfold_wrapper.log_eval_metrics] Accuracy(layer_0 - estimator_0 - 10_folds.train_6.predict)=99.34%\n",
      "[ 2018-05-15 09:29:58,408][kfold_wrapper.log_eval_metrics] Accuracy(layer_0 - estimator_0 - 10_folds.train_7.predict)=99.34%\n",
      "[ 2018-05-15 09:29:59,176][kfold_wrapper.log_eval_metrics] Accuracy(layer_0 - estimator_0 - 10_folds.train_8.predict)=99.34%\n",
      "[ 2018-05-15 09:29:59,941][kfold_wrapper.log_eval_metrics] Accuracy(layer_0 - estimator_0 - 10_folds.train_9.predict)=98.24%\n",
      "[ 2018-05-15 09:30:00,061][kfold_wrapper.log_eval_metrics] Accuracy(layer_0 - estimator_0 - 10_folds.train_cv.predict)=99.21%\n",
      "[ 2018-05-15 09:30:00,063][kfold_wrapper.log_eval_metrics] Accuracy(layer_0 - estimator_0 - 10_folds.test.predict)=99.15%\n",
      "[ 2018-05-15 09:30:00,067][cascade_classifier.calc_accuracy] Accuracy(layer_0 - train.classifier_average)=99.21%\n",
      "[ 2018-05-15 09:30:00,068][cascade_classifier.calc_accuracy] Accuracy(layer_0 - test.classifier_average)=99.15%\n",
      "[ 2018-05-15 09:30:00,070][cascade_classifier.fit_transform] [Result][Reach Max Layer] opt_layer_num=1, accuracy_train=99.21%, accuracy_test=99.15%\n",
      "[ 2018-05-15 09:30:00,071][cascade_classifier.transform] X_groups_test.shape=[(2245, 23)]\n",
      "[ 2018-05-15 09:30:00,073][cascade_classifier.transform] group_dims=[23]\n",
      "[ 2018-05-15 09:30:00,075][cascade_classifier.transform] X_test.shape=(2245, 23)\n",
      "[ 2018-05-15 09:30:00,077][cascade_classifier.transform] [layer=0] look_indexs=[0], X_cur_test.shape=(2245, 23)\n",
      "[ 2018-05-15 09:30:01,258][cascade_classifier.fit_transform] X_groups_train.shape=[(4557, 23)],y_train.shape=(4557,),X_groups_test.shape=[(2245, 23)],y_test.shape=(2245,)\n",
      "[ 2018-05-15 09:30:01,260][cascade_classifier.fit_transform] group_dims=[23]\n",
      "[ 2018-05-15 09:30:01,262][cascade_classifier.fit_transform] group_starts=[0]\n",
      "[ 2018-05-15 09:30:01,263][cascade_classifier.fit_transform] group_ends=[23]\n",
      "[ 2018-05-15 09:30:01,264][cascade_classifier.fit_transform] X_train.shape=(4557, 23),X_test.shape=(2245, 23)\n",
      "[ 2018-05-15 09:30:01,266][cascade_classifier.fit_transform] [layer=0] look_indexs=[0], X_cur_train.shape=(4557, 23), X_cur_test.shape=(2245, 23)\n"
     ]
    },
    {
     "name": "stdout",
     "output_type": "stream",
     "text": [
      "('Test Accuracy of ExtraTrees = 99.153675 %', 3, 'fois')\n",
      "[[2189    8]\n",
      " [  11   37]]\n",
      "\n",
      "\n",
      "             precision    recall  f1-score   support\n",
      "\n",
      "        0.0       0.99      1.00      1.00      2197\n",
      "        1.0       0.82      0.77      0.80        48\n",
      "\n",
      "avg / total       0.99      0.99      0.99      2245\n",
      "\n"
     ]
    },
    {
     "name": "stderr",
     "output_type": "stream",
     "text": [
      "[ 2018-05-15 09:30:01,947][kfold_wrapper.log_eval_metrics] Accuracy(layer_0 - estimator_0 - 10_folds.train_0.predict)=98.68%\n",
      "[ 2018-05-15 09:30:02,674][kfold_wrapper.log_eval_metrics] Accuracy(layer_0 - estimator_0 - 10_folds.train_1.predict)=99.12%\n",
      "[ 2018-05-15 09:30:03,426][kfold_wrapper.log_eval_metrics] Accuracy(layer_0 - estimator_0 - 10_folds.train_2.predict)=99.56%\n",
      "[ 2018-05-15 09:30:04,200][kfold_wrapper.log_eval_metrics] Accuracy(layer_0 - estimator_0 - 10_folds.train_3.predict)=99.34%\n",
      "[ 2018-05-15 09:30:05,017][kfold_wrapper.log_eval_metrics] Accuracy(layer_0 - estimator_0 - 10_folds.train_4.predict)=99.12%\n",
      "[ 2018-05-15 09:30:05,900][kfold_wrapper.log_eval_metrics] Accuracy(layer_0 - estimator_0 - 10_folds.train_5.predict)=99.34%\n",
      "[ 2018-05-15 09:30:06,653][kfold_wrapper.log_eval_metrics] Accuracy(layer_0 - estimator_0 - 10_folds.train_6.predict)=99.34%\n",
      "[ 2018-05-15 09:30:07,357][kfold_wrapper.log_eval_metrics] Accuracy(layer_0 - estimator_0 - 10_folds.train_7.predict)=99.34%\n",
      "[ 2018-05-15 09:30:08,104][kfold_wrapper.log_eval_metrics] Accuracy(layer_0 - estimator_0 - 10_folds.train_8.predict)=99.12%\n",
      "[ 2018-05-15 09:30:08,842][kfold_wrapper.log_eval_metrics] Accuracy(layer_0 - estimator_0 - 10_folds.train_9.predict)=98.24%\n",
      "[ 2018-05-15 09:30:08,953][kfold_wrapper.log_eval_metrics] Accuracy(layer_0 - estimator_0 - 10_folds.train_cv.predict)=99.12%\n",
      "[ 2018-05-15 09:30:08,956][kfold_wrapper.log_eval_metrics] Accuracy(layer_0 - estimator_0 - 10_folds.test.predict)=99.15%\n",
      "[ 2018-05-15 09:30:08,965][cascade_classifier.calc_accuracy] Accuracy(layer_0 - train.classifier_average)=99.12%\n",
      "[ 2018-05-15 09:30:08,967][cascade_classifier.calc_accuracy] Accuracy(layer_0 - test.classifier_average)=99.15%\n",
      "[ 2018-05-15 09:30:08,969][cascade_classifier.fit_transform] [Result][Reach Max Layer] opt_layer_num=1, accuracy_train=99.12%, accuracy_test=99.15%\n",
      "[ 2018-05-15 09:30:08,970][cascade_classifier.transform] X_groups_test.shape=[(2245, 23)]\n",
      "[ 2018-05-15 09:30:08,972][cascade_classifier.transform] group_dims=[23]\n",
      "[ 2018-05-15 09:30:08,973][cascade_classifier.transform] X_test.shape=(2245, 23)\n",
      "[ 2018-05-15 09:30:08,974][cascade_classifier.transform] [layer=0] look_indexs=[0], X_cur_test.shape=(2245, 23)\n",
      "[ 2018-05-15 09:30:10,125][cascade_classifier.fit_transform] X_groups_train.shape=[(4557, 23)],y_train.shape=(4557,),X_groups_test.shape=[(2245, 23)],y_test.shape=(2245,)\n",
      "[ 2018-05-15 09:30:10,126][cascade_classifier.fit_transform] group_dims=[23]\n",
      "[ 2018-05-15 09:30:10,127][cascade_classifier.fit_transform] group_starts=[0]\n",
      "[ 2018-05-15 09:30:10,129][cascade_classifier.fit_transform] group_ends=[23]\n",
      "[ 2018-05-15 09:30:10,130][cascade_classifier.fit_transform] X_train.shape=(4557, 23),X_test.shape=(2245, 23)\n",
      "[ 2018-05-15 09:30:10,132][cascade_classifier.fit_transform] [layer=0] look_indexs=[0], X_cur_train.shape=(4557, 23), X_cur_test.shape=(2245, 23)\n"
     ]
    },
    {
     "name": "stdout",
     "output_type": "stream",
     "text": [
      "('Test Accuracy of ExtraTrees = 99.153675 %', 4, 'fois')\n",
      "[[2189    8]\n",
      " [  11   37]]\n",
      "\n",
      "\n",
      "             precision    recall  f1-score   support\n",
      "\n",
      "        0.0       0.99      1.00      1.00      2197\n",
      "        1.0       0.82      0.77      0.80        48\n",
      "\n",
      "avg / total       0.99      0.99      0.99      2245\n",
      "\n"
     ]
    },
    {
     "name": "stderr",
     "output_type": "stream",
     "text": [
      "[ 2018-05-15 09:30:10,788][kfold_wrapper.log_eval_metrics] Accuracy(layer_0 - estimator_0 - 10_folds.train_0.predict)=98.46%\n",
      "[ 2018-05-15 09:30:11,501][kfold_wrapper.log_eval_metrics] Accuracy(layer_0 - estimator_0 - 10_folds.train_1.predict)=99.12%\n",
      "[ 2018-05-15 09:30:12,225][kfold_wrapper.log_eval_metrics] Accuracy(layer_0 - estimator_0 - 10_folds.train_2.predict)=99.78%\n",
      "[ 2018-05-15 09:30:12,944][kfold_wrapper.log_eval_metrics] Accuracy(layer_0 - estimator_0 - 10_folds.train_3.predict)=99.34%\n",
      "[ 2018-05-15 09:30:13,653][kfold_wrapper.log_eval_metrics] Accuracy(layer_0 - estimator_0 - 10_folds.train_4.predict)=99.12%\n",
      "[ 2018-05-15 09:30:14,397][kfold_wrapper.log_eval_metrics] Accuracy(layer_0 - estimator_0 - 10_folds.train_5.predict)=99.56%\n",
      "[ 2018-05-15 09:30:15,115][kfold_wrapper.log_eval_metrics] Accuracy(layer_0 - estimator_0 - 10_folds.train_6.predict)=99.34%\n",
      "[ 2018-05-15 09:30:15,863][kfold_wrapper.log_eval_metrics] Accuracy(layer_0 - estimator_0 - 10_folds.train_7.predict)=99.34%\n",
      "[ 2018-05-15 09:30:16,576][kfold_wrapper.log_eval_metrics] Accuracy(layer_0 - estimator_0 - 10_folds.train_8.predict)=99.12%\n",
      "[ 2018-05-15 09:30:17,286][kfold_wrapper.log_eval_metrics] Accuracy(layer_0 - estimator_0 - 10_folds.train_9.predict)=97.80%\n",
      "[ 2018-05-15 09:30:17,406][kfold_wrapper.log_eval_metrics] Accuracy(layer_0 - estimator_0 - 10_folds.train_cv.predict)=99.10%\n",
      "[ 2018-05-15 09:30:17,410][kfold_wrapper.log_eval_metrics] Accuracy(layer_0 - estimator_0 - 10_folds.test.predict)=99.29%\n",
      "[ 2018-05-15 09:30:17,417][cascade_classifier.calc_accuracy] Accuracy(layer_0 - train.classifier_average)=99.10%\n",
      "[ 2018-05-15 09:30:17,419][cascade_classifier.calc_accuracy] Accuracy(layer_0 - test.classifier_average)=99.29%\n",
      "[ 2018-05-15 09:30:17,421][cascade_classifier.fit_transform] [Result][Reach Max Layer] opt_layer_num=1, accuracy_train=99.10%, accuracy_test=99.29%\n",
      "[ 2018-05-15 09:30:17,422][cascade_classifier.transform] X_groups_test.shape=[(2245, 23)]\n",
      "[ 2018-05-15 09:30:17,423][cascade_classifier.transform] group_dims=[23]\n",
      "[ 2018-05-15 09:30:17,424][cascade_classifier.transform] X_test.shape=(2245, 23)\n",
      "[ 2018-05-15 09:30:17,430][cascade_classifier.transform] [layer=0] look_indexs=[0], X_cur_test.shape=(2245, 23)\n",
      "[ 2018-05-15 09:30:18,610][cascade_classifier.fit_transform] X_groups_train.shape=[(4557, 23)],y_train.shape=(4557,),X_groups_test.shape=[(2245, 23)],y_test.shape=(2245,)\n",
      "[ 2018-05-15 09:30:18,611][cascade_classifier.fit_transform] group_dims=[23]\n",
      "[ 2018-05-15 09:30:18,612][cascade_classifier.fit_transform] group_starts=[0]\n",
      "[ 2018-05-15 09:30:18,613][cascade_classifier.fit_transform] group_ends=[23]\n",
      "[ 2018-05-15 09:30:18,615][cascade_classifier.fit_transform] X_train.shape=(4557, 23),X_test.shape=(2245, 23)\n",
      "[ 2018-05-15 09:30:18,617][cascade_classifier.fit_transform] [layer=0] look_indexs=[0], X_cur_train.shape=(4557, 23), X_cur_test.shape=(2245, 23)\n"
     ]
    },
    {
     "name": "stdout",
     "output_type": "stream",
     "text": [
      "('Test Accuracy of ExtraTrees = 99.287305 %', 5, 'fois')\n",
      "[[2192    5]\n",
      " [  11   37]]\n",
      "\n",
      "\n",
      "             precision    recall  f1-score   support\n",
      "\n",
      "        0.0       1.00      1.00      1.00      2197\n",
      "        1.0       0.88      0.77      0.82        48\n",
      "\n",
      "avg / total       0.99      0.99      0.99      2245\n",
      "\n"
     ]
    },
    {
     "name": "stderr",
     "output_type": "stream",
     "text": [
      "[ 2018-05-15 09:30:19,282][kfold_wrapper.log_eval_metrics] Accuracy(layer_0 - estimator_0 - 10_folds.train_0.predict)=98.25%\n",
      "[ 2018-05-15 09:30:20,000][kfold_wrapper.log_eval_metrics] Accuracy(layer_0 - estimator_0 - 10_folds.train_1.predict)=99.12%\n",
      "[ 2018-05-15 09:30:20,732][kfold_wrapper.log_eval_metrics] Accuracy(layer_0 - estimator_0 - 10_folds.train_2.predict)=99.56%\n",
      "[ 2018-05-15 09:30:21,449][kfold_wrapper.log_eval_metrics] Accuracy(layer_0 - estimator_0 - 10_folds.train_3.predict)=99.34%\n",
      "[ 2018-05-15 09:30:22,192][kfold_wrapper.log_eval_metrics] Accuracy(layer_0 - estimator_0 - 10_folds.train_4.predict)=99.12%\n",
      "[ 2018-05-15 09:30:22,930][kfold_wrapper.log_eval_metrics] Accuracy(layer_0 - estimator_0 - 10_folds.train_5.predict)=99.12%\n",
      "[ 2018-05-15 09:30:23,674][kfold_wrapper.log_eval_metrics] Accuracy(layer_0 - estimator_0 - 10_folds.train_6.predict)=99.56%\n",
      "[ 2018-05-15 09:30:24,399][kfold_wrapper.log_eval_metrics] Accuracy(layer_0 - estimator_0 - 10_folds.train_7.predict)=99.34%\n",
      "[ 2018-05-15 09:30:25,157][kfold_wrapper.log_eval_metrics] Accuracy(layer_0 - estimator_0 - 10_folds.train_8.predict)=98.90%\n",
      "[ 2018-05-15 09:30:25,916][kfold_wrapper.log_eval_metrics] Accuracy(layer_0 - estimator_0 - 10_folds.train_9.predict)=97.80%\n",
      "[ 2018-05-15 09:30:26,035][kfold_wrapper.log_eval_metrics] Accuracy(layer_0 - estimator_0 - 10_folds.train_cv.predict)=99.01%\n",
      "[ 2018-05-15 09:30:26,038][kfold_wrapper.log_eval_metrics] Accuracy(layer_0 - estimator_0 - 10_folds.test.predict)=99.15%\n",
      "[ 2018-05-15 09:30:26,043][cascade_classifier.calc_accuracy] Accuracy(layer_0 - train.classifier_average)=99.01%\n",
      "[ 2018-05-15 09:30:26,045][cascade_classifier.calc_accuracy] Accuracy(layer_0 - test.classifier_average)=99.15%\n",
      "[ 2018-05-15 09:30:26,046][cascade_classifier.fit_transform] [Result][Reach Max Layer] opt_layer_num=1, accuracy_train=99.01%, accuracy_test=99.15%\n",
      "[ 2018-05-15 09:30:26,048][cascade_classifier.transform] X_groups_test.shape=[(2245, 23)]\n",
      "[ 2018-05-15 09:30:26,051][cascade_classifier.transform] group_dims=[23]\n",
      "[ 2018-05-15 09:30:26,053][cascade_classifier.transform] X_test.shape=(2245, 23)\n",
      "[ 2018-05-15 09:30:26,055][cascade_classifier.transform] [layer=0] look_indexs=[0], X_cur_test.shape=(2245, 23)\n",
      "[ 2018-05-15 09:30:27,241][cascade_classifier.fit_transform] X_groups_train.shape=[(4557, 23)],y_train.shape=(4557,),X_groups_test.shape=[(2245, 23)],y_test.shape=(2245,)\n",
      "[ 2018-05-15 09:30:27,243][cascade_classifier.fit_transform] group_dims=[23]\n",
      "[ 2018-05-15 09:30:27,244][cascade_classifier.fit_transform] group_starts=[0]\n",
      "[ 2018-05-15 09:30:27,248][cascade_classifier.fit_transform] group_ends=[23]\n",
      "[ 2018-05-15 09:30:27,250][cascade_classifier.fit_transform] X_train.shape=(4557, 23),X_test.shape=(2245, 23)\n",
      "[ 2018-05-15 09:30:27,251][cascade_classifier.fit_transform] [layer=0] look_indexs=[0], X_cur_train.shape=(4557, 23), X_cur_test.shape=(2245, 23)\n"
     ]
    },
    {
     "name": "stdout",
     "output_type": "stream",
     "text": [
      "('Test Accuracy of ExtraTrees = 99.153675 %', 6, 'fois')\n",
      "[[2191    6]\n",
      " [  13   35]]\n",
      "\n",
      "\n",
      "             precision    recall  f1-score   support\n",
      "\n",
      "        0.0       0.99      1.00      1.00      2197\n",
      "        1.0       0.85      0.73      0.79        48\n",
      "\n",
      "avg / total       0.99      0.99      0.99      2245\n",
      "\n"
     ]
    },
    {
     "name": "stderr",
     "output_type": "stream",
     "text": [
      "[ 2018-05-15 09:30:27,862][kfold_wrapper.log_eval_metrics] Accuracy(layer_0 - estimator_0 - 10_folds.train_0.predict)=98.46%\n",
      "[ 2018-05-15 09:30:28,571][kfold_wrapper.log_eval_metrics] Accuracy(layer_0 - estimator_0 - 10_folds.train_1.predict)=99.34%\n",
      "[ 2018-05-15 09:30:29,271][kfold_wrapper.log_eval_metrics] Accuracy(layer_0 - estimator_0 - 10_folds.train_2.predict)=100.00%\n",
      "[ 2018-05-15 09:30:29,984][kfold_wrapper.log_eval_metrics] Accuracy(layer_0 - estimator_0 - 10_folds.train_3.predict)=99.34%\n",
      "[ 2018-05-15 09:30:30,707][kfold_wrapper.log_eval_metrics] Accuracy(layer_0 - estimator_0 - 10_folds.train_4.predict)=98.90%\n",
      "[ 2018-05-15 09:30:31,436][kfold_wrapper.log_eval_metrics] Accuracy(layer_0 - estimator_0 - 10_folds.train_5.predict)=99.56%\n",
      "[ 2018-05-15 09:30:32,187][kfold_wrapper.log_eval_metrics] Accuracy(layer_0 - estimator_0 - 10_folds.train_6.predict)=99.56%\n",
      "[ 2018-05-15 09:30:32,904][kfold_wrapper.log_eval_metrics] Accuracy(layer_0 - estimator_0 - 10_folds.train_7.predict)=99.34%\n",
      "[ 2018-05-15 09:30:33,622][kfold_wrapper.log_eval_metrics] Accuracy(layer_0 - estimator_0 - 10_folds.train_8.predict)=99.12%\n",
      "[ 2018-05-15 09:30:34,315][kfold_wrapper.log_eval_metrics] Accuracy(layer_0 - estimator_0 - 10_folds.train_9.predict)=98.68%\n",
      "[ 2018-05-15 09:30:34,437][kfold_wrapper.log_eval_metrics] Accuracy(layer_0 - estimator_0 - 10_folds.train_cv.predict)=99.23%\n",
      "[ 2018-05-15 09:30:34,445][kfold_wrapper.log_eval_metrics] Accuracy(layer_0 - estimator_0 - 10_folds.test.predict)=99.02%\n",
      "[ 2018-05-15 09:30:34,452][cascade_classifier.calc_accuracy] Accuracy(layer_0 - train.classifier_average)=99.23%\n",
      "[ 2018-05-15 09:30:34,454][cascade_classifier.calc_accuracy] Accuracy(layer_0 - test.classifier_average)=99.02%\n",
      "[ 2018-05-15 09:30:34,456][cascade_classifier.fit_transform] [Result][Reach Max Layer] opt_layer_num=1, accuracy_train=99.23%, accuracy_test=99.02%\n",
      "[ 2018-05-15 09:30:34,457][cascade_classifier.transform] X_groups_test.shape=[(2245, 23)]\n",
      "[ 2018-05-15 09:30:34,458][cascade_classifier.transform] group_dims=[23]\n",
      "[ 2018-05-15 09:30:34,459][cascade_classifier.transform] X_test.shape=(2245, 23)\n",
      "[ 2018-05-15 09:30:34,461][cascade_classifier.transform] [layer=0] look_indexs=[0], X_cur_test.shape=(2245, 23)\n",
      "[ 2018-05-15 09:30:35,643][cascade_classifier.fit_transform] X_groups_train.shape=[(4557, 23)],y_train.shape=(4557,),X_groups_test.shape=[(2245, 23)],y_test.shape=(2245,)\n",
      "[ 2018-05-15 09:30:35,644][cascade_classifier.fit_transform] group_dims=[23]\n",
      "[ 2018-05-15 09:30:35,645][cascade_classifier.fit_transform] group_starts=[0]\n",
      "[ 2018-05-15 09:30:35,647][cascade_classifier.fit_transform] group_ends=[23]\n",
      "[ 2018-05-15 09:30:35,648][cascade_classifier.fit_transform] X_train.shape=(4557, 23),X_test.shape=(2245, 23)\n",
      "[ 2018-05-15 09:30:35,651][cascade_classifier.fit_transform] [layer=0] look_indexs=[0], X_cur_train.shape=(4557, 23), X_cur_test.shape=(2245, 23)\n"
     ]
    },
    {
     "name": "stdout",
     "output_type": "stream",
     "text": [
      "('Test Accuracy of ExtraTrees = 99.020045 %', 7, 'fois')\n",
      "[[2189    8]\n",
      " [  14   34]]\n",
      "\n",
      "\n",
      "             precision    recall  f1-score   support\n",
      "\n",
      "        0.0       0.99      1.00      0.99      2197\n",
      "        1.0       0.81      0.71      0.76        48\n",
      "\n",
      "avg / total       0.99      0.99      0.99      2245\n",
      "\n"
     ]
    },
    {
     "name": "stderr",
     "output_type": "stream",
     "text": [
      "[ 2018-05-15 09:30:36,296][kfold_wrapper.log_eval_metrics] Accuracy(layer_0 - estimator_0 - 10_folds.train_0.predict)=98.03%\n",
      "[ 2018-05-15 09:30:37,032][kfold_wrapper.log_eval_metrics] Accuracy(layer_0 - estimator_0 - 10_folds.train_1.predict)=99.34%\n",
      "[ 2018-05-15 09:30:37,755][kfold_wrapper.log_eval_metrics] Accuracy(layer_0 - estimator_0 - 10_folds.train_2.predict)=100.00%\n",
      "[ 2018-05-15 09:30:38,509][kfold_wrapper.log_eval_metrics] Accuracy(layer_0 - estimator_0 - 10_folds.train_3.predict)=99.34%\n",
      "[ 2018-05-15 09:30:39,221][kfold_wrapper.log_eval_metrics] Accuracy(layer_0 - estimator_0 - 10_folds.train_4.predict)=98.90%\n",
      "[ 2018-05-15 09:30:39,946][kfold_wrapper.log_eval_metrics] Accuracy(layer_0 - estimator_0 - 10_folds.train_5.predict)=99.56%\n",
      "[ 2018-05-15 09:30:40,658][kfold_wrapper.log_eval_metrics] Accuracy(layer_0 - estimator_0 - 10_folds.train_6.predict)=99.12%\n",
      "[ 2018-05-15 09:30:41,385][kfold_wrapper.log_eval_metrics] Accuracy(layer_0 - estimator_0 - 10_folds.train_7.predict)=99.34%\n",
      "[ 2018-05-15 09:30:42,096][kfold_wrapper.log_eval_metrics] Accuracy(layer_0 - estimator_0 - 10_folds.train_8.predict)=99.12%\n",
      "[ 2018-05-15 09:30:42,803][kfold_wrapper.log_eval_metrics] Accuracy(layer_0 - estimator_0 - 10_folds.train_9.predict)=98.68%\n",
      "[ 2018-05-15 09:30:42,920][kfold_wrapper.log_eval_metrics] Accuracy(layer_0 - estimator_0 - 10_folds.train_cv.predict)=99.14%\n",
      "[ 2018-05-15 09:30:42,926][kfold_wrapper.log_eval_metrics] Accuracy(layer_0 - estimator_0 - 10_folds.test.predict)=99.02%\n",
      "[ 2018-05-15 09:30:42,935][cascade_classifier.calc_accuracy] Accuracy(layer_0 - train.classifier_average)=99.14%\n",
      "[ 2018-05-15 09:30:42,936][cascade_classifier.calc_accuracy] Accuracy(layer_0 - test.classifier_average)=99.02%\n",
      "[ 2018-05-15 09:30:42,937][cascade_classifier.fit_transform] [Result][Reach Max Layer] opt_layer_num=1, accuracy_train=99.14%, accuracy_test=99.02%\n",
      "[ 2018-05-15 09:30:42,938][cascade_classifier.transform] X_groups_test.shape=[(2245, 23)]\n",
      "[ 2018-05-15 09:30:42,940][cascade_classifier.transform] group_dims=[23]\n",
      "[ 2018-05-15 09:30:42,942][cascade_classifier.transform] X_test.shape=(2245, 23)\n",
      "[ 2018-05-15 09:30:42,943][cascade_classifier.transform] [layer=0] look_indexs=[0], X_cur_test.shape=(2245, 23)\n",
      "[ 2018-05-15 09:30:44,121][cascade_classifier.fit_transform] X_groups_train.shape=[(4557, 23)],y_train.shape=(4557,),X_groups_test.shape=[(2245, 23)],y_test.shape=(2245,)\n",
      "[ 2018-05-15 09:30:44,123][cascade_classifier.fit_transform] group_dims=[23]\n",
      "[ 2018-05-15 09:30:44,124][cascade_classifier.fit_transform] group_starts=[0]\n",
      "[ 2018-05-15 09:30:44,125][cascade_classifier.fit_transform] group_ends=[23]\n",
      "[ 2018-05-15 09:30:44,126][cascade_classifier.fit_transform] X_train.shape=(4557, 23),X_test.shape=(2245, 23)\n",
      "[ 2018-05-15 09:30:44,128][cascade_classifier.fit_transform] [layer=0] look_indexs=[0], X_cur_train.shape=(4557, 23), X_cur_test.shape=(2245, 23)\n"
     ]
    },
    {
     "name": "stdout",
     "output_type": "stream",
     "text": [
      "('Test Accuracy of ExtraTrees = 99.020045 %', 8, 'fois')\n",
      "[[2189    8]\n",
      " [  14   34]]\n",
      "\n",
      "\n",
      "             precision    recall  f1-score   support\n",
      "\n",
      "        0.0       0.99      1.00      0.99      2197\n",
      "        1.0       0.81      0.71      0.76        48\n",
      "\n",
      "avg / total       0.99      0.99      0.99      2245\n",
      "\n"
     ]
    },
    {
     "name": "stderr",
     "output_type": "stream",
     "text": [
      "[ 2018-05-15 09:30:44,756][kfold_wrapper.log_eval_metrics] Accuracy(layer_0 - estimator_0 - 10_folds.train_0.predict)=98.03%\n",
      "[ 2018-05-15 09:30:45,473][kfold_wrapper.log_eval_metrics] Accuracy(layer_0 - estimator_0 - 10_folds.train_1.predict)=99.34%\n",
      "[ 2018-05-15 09:30:46,181][kfold_wrapper.log_eval_metrics] Accuracy(layer_0 - estimator_0 - 10_folds.train_2.predict)=99.78%\n",
      "[ 2018-05-15 09:30:46,893][kfold_wrapper.log_eval_metrics] Accuracy(layer_0 - estimator_0 - 10_folds.train_3.predict)=99.34%\n",
      "[ 2018-05-15 09:30:47,606][kfold_wrapper.log_eval_metrics] Accuracy(layer_0 - estimator_0 - 10_folds.train_4.predict)=99.12%\n",
      "[ 2018-05-15 09:30:48,342][kfold_wrapper.log_eval_metrics] Accuracy(layer_0 - estimator_0 - 10_folds.train_5.predict)=99.56%\n",
      "[ 2018-05-15 09:30:49,050][kfold_wrapper.log_eval_metrics] Accuracy(layer_0 - estimator_0 - 10_folds.train_6.predict)=99.12%\n",
      "[ 2018-05-15 09:30:49,769][kfold_wrapper.log_eval_metrics] Accuracy(layer_0 - estimator_0 - 10_folds.train_7.predict)=99.12%\n",
      "[ 2018-05-15 09:30:50,541][kfold_wrapper.log_eval_metrics] Accuracy(layer_0 - estimator_0 - 10_folds.train_8.predict)=99.34%\n",
      "[ 2018-05-15 09:30:51,272][kfold_wrapper.log_eval_metrics] Accuracy(layer_0 - estimator_0 - 10_folds.train_9.predict)=98.90%\n",
      "[ 2018-05-15 09:30:51,387][kfold_wrapper.log_eval_metrics] Accuracy(layer_0 - estimator_0 - 10_folds.train_cv.predict)=99.17%\n",
      "[ 2018-05-15 09:30:51,388][kfold_wrapper.log_eval_metrics] Accuracy(layer_0 - estimator_0 - 10_folds.test.predict)=99.02%\n",
      "[ 2018-05-15 09:30:51,392][cascade_classifier.calc_accuracy] Accuracy(layer_0 - train.classifier_average)=99.17%\n",
      "[ 2018-05-15 09:30:51,395][cascade_classifier.calc_accuracy] Accuracy(layer_0 - test.classifier_average)=99.02%\n",
      "[ 2018-05-15 09:30:51,397][cascade_classifier.fit_transform] [Result][Reach Max Layer] opt_layer_num=1, accuracy_train=99.17%, accuracy_test=99.02%\n",
      "[ 2018-05-15 09:30:51,399][cascade_classifier.transform] X_groups_test.shape=[(2245, 23)]\n",
      "[ 2018-05-15 09:30:51,401][cascade_classifier.transform] group_dims=[23]\n",
      "[ 2018-05-15 09:30:51,404][cascade_classifier.transform] X_test.shape=(2245, 23)\n",
      "[ 2018-05-15 09:30:51,406][cascade_classifier.transform] [layer=0] look_indexs=[0], X_cur_test.shape=(2245, 23)\n",
      "[ 2018-05-15 09:30:52,504][cascade_classifier.fit_transform] X_groups_train.shape=[(4557, 23)],y_train.shape=(4557,),X_groups_test.shape=[(2245, 23)],y_test.shape=(2245,)\n",
      "[ 2018-05-15 09:30:52,505][cascade_classifier.fit_transform] group_dims=[23]\n",
      "[ 2018-05-15 09:30:52,506][cascade_classifier.fit_transform] group_starts=[0]\n",
      "[ 2018-05-15 09:30:52,511][cascade_classifier.fit_transform] group_ends=[23]\n",
      "[ 2018-05-15 09:30:52,514][cascade_classifier.fit_transform] X_train.shape=(4557, 23),X_test.shape=(2245, 23)\n",
      "[ 2018-05-15 09:30:52,517][cascade_classifier.fit_transform] [layer=0] look_indexs=[0], X_cur_train.shape=(4557, 23), X_cur_test.shape=(2245, 23)\n"
     ]
    },
    {
     "name": "stdout",
     "output_type": "stream",
     "text": [
      "('Test Accuracy of ExtraTrees = 99.020045 %', 9, 'fois')\n",
      "[[2188    9]\n",
      " [  13   35]]\n",
      "\n",
      "\n",
      "             precision    recall  f1-score   support\n",
      "\n",
      "        0.0       0.99      1.00      0.99      2197\n",
      "        1.0       0.80      0.73      0.76        48\n",
      "\n",
      "avg / total       0.99      0.99      0.99      2245\n",
      "\n"
     ]
    },
    {
     "name": "stderr",
     "output_type": "stream",
     "text": [
      "[ 2018-05-15 09:30:53,154][kfold_wrapper.log_eval_metrics] Accuracy(layer_0 - estimator_0 - 10_folds.train_0.predict)=98.03%\n",
      "[ 2018-05-15 09:30:53,903][kfold_wrapper.log_eval_metrics] Accuracy(layer_0 - estimator_0 - 10_folds.train_1.predict)=99.34%\n",
      "[ 2018-05-15 09:30:54,645][kfold_wrapper.log_eval_metrics] Accuracy(layer_0 - estimator_0 - 10_folds.train_2.predict)=99.78%\n",
      "[ 2018-05-15 09:30:55,397][kfold_wrapper.log_eval_metrics] Accuracy(layer_0 - estimator_0 - 10_folds.train_3.predict)=99.34%\n",
      "[ 2018-05-15 09:30:56,105][kfold_wrapper.log_eval_metrics] Accuracy(layer_0 - estimator_0 - 10_folds.train_4.predict)=99.12%\n",
      "[ 2018-05-15 09:30:56,818][kfold_wrapper.log_eval_metrics] Accuracy(layer_0 - estimator_0 - 10_folds.train_5.predict)=99.56%\n",
      "[ 2018-05-15 09:30:57,548][kfold_wrapper.log_eval_metrics] Accuracy(layer_0 - estimator_0 - 10_folds.train_6.predict)=98.90%\n",
      "[ 2018-05-15 09:30:58,272][kfold_wrapper.log_eval_metrics] Accuracy(layer_0 - estimator_0 - 10_folds.train_7.predict)=99.34%\n",
      "[ 2018-05-15 09:30:58,981][kfold_wrapper.log_eval_metrics] Accuracy(layer_0 - estimator_0 - 10_folds.train_8.predict)=99.34%\n",
      "[ 2018-05-15 09:30:59,699][kfold_wrapper.log_eval_metrics] Accuracy(layer_0 - estimator_0 - 10_folds.train_9.predict)=98.68%\n",
      "[ 2018-05-15 09:30:59,813][kfold_wrapper.log_eval_metrics] Accuracy(layer_0 - estimator_0 - 10_folds.train_cv.predict)=99.14%\n",
      "[ 2018-05-15 09:30:59,817][kfold_wrapper.log_eval_metrics] Accuracy(layer_0 - estimator_0 - 10_folds.test.predict)=99.02%\n",
      "[ 2018-05-15 09:30:59,824][cascade_classifier.calc_accuracy] Accuracy(layer_0 - train.classifier_average)=99.14%\n",
      "[ 2018-05-15 09:30:59,825][cascade_classifier.calc_accuracy] Accuracy(layer_0 - test.classifier_average)=99.02%\n",
      "[ 2018-05-15 09:30:59,826][cascade_classifier.fit_transform] [Result][Reach Max Layer] opt_layer_num=1, accuracy_train=99.14%, accuracy_test=99.02%\n",
      "[ 2018-05-15 09:30:59,828][cascade_classifier.transform] X_groups_test.shape=[(2245, 23)]\n",
      "[ 2018-05-15 09:30:59,829][cascade_classifier.transform] group_dims=[23]\n",
      "[ 2018-05-15 09:30:59,834][cascade_classifier.transform] X_test.shape=(2245, 23)\n",
      "[ 2018-05-15 09:30:59,836][cascade_classifier.transform] [layer=0] look_indexs=[0], X_cur_test.shape=(2245, 23)\n",
      "[ 2018-05-15 09:31:01,019][cascade_classifier.fit_transform] X_groups_train.shape=[(4557, 23)],y_train.shape=(4557,),X_groups_test.shape=[(2245, 23)],y_test.shape=(2245,)\n",
      "[ 2018-05-15 09:31:01,021][cascade_classifier.fit_transform] group_dims=[23]\n",
      "[ 2018-05-15 09:31:01,023][cascade_classifier.fit_transform] group_starts=[0]\n",
      "[ 2018-05-15 09:31:01,025][cascade_classifier.fit_transform] group_ends=[23]\n",
      "[ 2018-05-15 09:31:01,027][cascade_classifier.fit_transform] X_train.shape=(4557, 23),X_test.shape=(2245, 23)\n",
      "[ 2018-05-15 09:31:01,030][cascade_classifier.fit_transform] [layer=0] look_indexs=[0], X_cur_train.shape=(4557, 23), X_cur_test.shape=(2245, 23)\n"
     ]
    },
    {
     "name": "stdout",
     "output_type": "stream",
     "text": [
      "('Test Accuracy of ExtraTrees = 99.020045 %', 10, 'fois')\n",
      "[[2188    9]\n",
      " [  13   35]]\n",
      "\n",
      "\n",
      "             precision    recall  f1-score   support\n",
      "\n",
      "        0.0       0.99      1.00      0.99      2197\n",
      "        1.0       0.80      0.73      0.76        48\n",
      "\n",
      "avg / total       0.99      0.99      0.99      2245\n",
      "\n"
     ]
    },
    {
     "name": "stderr",
     "output_type": "stream",
     "text": [
      "[ 2018-05-15 09:31:01,695][kfold_wrapper.log_eval_metrics] Accuracy(layer_0 - estimator_0 - 10_folds.train_0.predict)=98.03%\n",
      "[ 2018-05-15 09:31:02,499][kfold_wrapper.log_eval_metrics] Accuracy(layer_0 - estimator_0 - 10_folds.train_1.predict)=99.34%\n",
      "[ 2018-05-15 09:31:03,218][kfold_wrapper.log_eval_metrics] Accuracy(layer_0 - estimator_0 - 10_folds.train_2.predict)=99.78%\n",
      "[ 2018-05-15 09:31:03,951][kfold_wrapper.log_eval_metrics] Accuracy(layer_0 - estimator_0 - 10_folds.train_3.predict)=99.12%\n",
      "[ 2018-05-15 09:31:04,664][kfold_wrapper.log_eval_metrics] Accuracy(layer_0 - estimator_0 - 10_folds.train_4.predict)=99.12%\n",
      "[ 2018-05-15 09:31:05,393][kfold_wrapper.log_eval_metrics] Accuracy(layer_0 - estimator_0 - 10_folds.train_5.predict)=99.34%\n",
      "[ 2018-05-15 09:31:06,111][kfold_wrapper.log_eval_metrics] Accuracy(layer_0 - estimator_0 - 10_folds.train_6.predict)=99.34%\n",
      "[ 2018-05-15 09:31:06,813][kfold_wrapper.log_eval_metrics] Accuracy(layer_0 - estimator_0 - 10_folds.train_7.predict)=99.34%\n",
      "[ 2018-05-15 09:31:07,513][kfold_wrapper.log_eval_metrics] Accuracy(layer_0 - estimator_0 - 10_folds.train_8.predict)=99.12%\n",
      "[ 2018-05-15 09:31:08,234][kfold_wrapper.log_eval_metrics] Accuracy(layer_0 - estimator_0 - 10_folds.train_9.predict)=98.68%\n",
      "[ 2018-05-15 09:31:08,352][kfold_wrapper.log_eval_metrics] Accuracy(layer_0 - estimator_0 - 10_folds.train_cv.predict)=99.12%\n",
      "[ 2018-05-15 09:31:08,355][kfold_wrapper.log_eval_metrics] Accuracy(layer_0 - estimator_0 - 10_folds.test.predict)=99.02%\n",
      "[ 2018-05-15 09:31:08,363][cascade_classifier.calc_accuracy] Accuracy(layer_0 - train.classifier_average)=99.12%\n",
      "[ 2018-05-15 09:31:08,365][cascade_classifier.calc_accuracy] Accuracy(layer_0 - test.classifier_average)=99.02%\n",
      "[ 2018-05-15 09:31:08,368][cascade_classifier.fit_transform] [Result][Reach Max Layer] opt_layer_num=1, accuracy_train=99.12%, accuracy_test=99.02%\n",
      "[ 2018-05-15 09:31:08,369][cascade_classifier.transform] X_groups_test.shape=[(2245, 23)]\n",
      "[ 2018-05-15 09:31:08,371][cascade_classifier.transform] group_dims=[23]\n",
      "[ 2018-05-15 09:31:08,372][cascade_classifier.transform] X_test.shape=(2245, 23)\n",
      "[ 2018-05-15 09:31:08,374][cascade_classifier.transform] [layer=0] look_indexs=[0], X_cur_test.shape=(2245, 23)\n",
      "[ 2018-05-15 09:31:09,565][cascade_classifier.fit_transform] X_groups_train.shape=[(4557, 23)],y_train.shape=(4557,),X_groups_test.shape=[(2245, 23)],y_test.shape=(2245,)\n",
      "[ 2018-05-15 09:31:09,567][cascade_classifier.fit_transform] group_dims=[23]\n",
      "[ 2018-05-15 09:31:09,568][cascade_classifier.fit_transform] group_starts=[0]\n",
      "[ 2018-05-15 09:31:09,569][cascade_classifier.fit_transform] group_ends=[23]\n",
      "[ 2018-05-15 09:31:09,570][cascade_classifier.fit_transform] X_train.shape=(4557, 23),X_test.shape=(2245, 23)\n",
      "[ 2018-05-15 09:31:09,572][cascade_classifier.fit_transform] [layer=0] look_indexs=[0], X_cur_train.shape=(4557, 23), X_cur_test.shape=(2245, 23)\n"
     ]
    },
    {
     "name": "stdout",
     "output_type": "stream",
     "text": [
      "('Test Accuracy of ExtraTrees = 99.020045 %', 11, 'fois')\n",
      "[[2188    9]\n",
      " [  13   35]]\n",
      "\n",
      "\n",
      "             precision    recall  f1-score   support\n",
      "\n",
      "        0.0       0.99      1.00      0.99      2197\n",
      "        1.0       0.80      0.73      0.76        48\n",
      "\n",
      "avg / total       0.99      0.99      0.99      2245\n",
      "\n"
     ]
    },
    {
     "name": "stderr",
     "output_type": "stream",
     "text": [
      "[ 2018-05-15 09:31:10,196][kfold_wrapper.log_eval_metrics] Accuracy(layer_0 - estimator_0 - 10_folds.train_0.predict)=98.03%\n",
      "[ 2018-05-15 09:31:10,910][kfold_wrapper.log_eval_metrics] Accuracy(layer_0 - estimator_0 - 10_folds.train_1.predict)=99.34%\n",
      "[ 2018-05-15 09:31:11,637][kfold_wrapper.log_eval_metrics] Accuracy(layer_0 - estimator_0 - 10_folds.train_2.predict)=99.78%\n",
      "[ 2018-05-15 09:31:12,361][kfold_wrapper.log_eval_metrics] Accuracy(layer_0 - estimator_0 - 10_folds.train_3.predict)=99.34%\n",
      "[ 2018-05-15 09:31:13,090][kfold_wrapper.log_eval_metrics] Accuracy(layer_0 - estimator_0 - 10_folds.train_4.predict)=98.90%\n",
      "[ 2018-05-15 09:31:13,827][kfold_wrapper.log_eval_metrics] Accuracy(layer_0 - estimator_0 - 10_folds.train_5.predict)=99.34%\n",
      "[ 2018-05-15 09:31:14,561][kfold_wrapper.log_eval_metrics] Accuracy(layer_0 - estimator_0 - 10_folds.train_6.predict)=99.12%\n",
      "[ 2018-05-15 09:31:15,261][kfold_wrapper.log_eval_metrics] Accuracy(layer_0 - estimator_0 - 10_folds.train_7.predict)=99.34%\n",
      "[ 2018-05-15 09:31:16,003][kfold_wrapper.log_eval_metrics] Accuracy(layer_0 - estimator_0 - 10_folds.train_8.predict)=99.12%\n",
      "[ 2018-05-15 09:31:16,834][kfold_wrapper.log_eval_metrics] Accuracy(layer_0 - estimator_0 - 10_folds.train_9.predict)=98.68%\n",
      "[ 2018-05-15 09:31:16,954][kfold_wrapper.log_eval_metrics] Accuracy(layer_0 - estimator_0 - 10_folds.train_cv.predict)=99.10%\n",
      "[ 2018-05-15 09:31:16,958][kfold_wrapper.log_eval_metrics] Accuracy(layer_0 - estimator_0 - 10_folds.test.predict)=98.98%\n",
      "[ 2018-05-15 09:31:16,965][cascade_classifier.calc_accuracy] Accuracy(layer_0 - train.classifier_average)=99.10%\n",
      "[ 2018-05-15 09:31:16,967][cascade_classifier.calc_accuracy] Accuracy(layer_0 - test.classifier_average)=98.98%\n",
      "[ 2018-05-15 09:31:16,969][cascade_classifier.fit_transform] [Result][Reach Max Layer] opt_layer_num=1, accuracy_train=99.10%, accuracy_test=98.98%\n",
      "[ 2018-05-15 09:31:16,970][cascade_classifier.transform] X_groups_test.shape=[(2245, 23)]\n",
      "[ 2018-05-15 09:31:16,972][cascade_classifier.transform] group_dims=[23]\n",
      "[ 2018-05-15 09:31:16,973][cascade_classifier.transform] X_test.shape=(2245, 23)\n",
      "[ 2018-05-15 09:31:16,974][cascade_classifier.transform] [layer=0] look_indexs=[0], X_cur_test.shape=(2245, 23)\n",
      "[ 2018-05-15 09:31:18,150][cascade_classifier.fit_transform] X_groups_train.shape=[(4557, 23)],y_train.shape=(4557,),X_groups_test.shape=[(2245, 23)],y_test.shape=(2245,)\n",
      "[ 2018-05-15 09:31:18,152][cascade_classifier.fit_transform] group_dims=[23]\n",
      "[ 2018-05-15 09:31:18,153][cascade_classifier.fit_transform] group_starts=[0]\n",
      "[ 2018-05-15 09:31:18,154][cascade_classifier.fit_transform] group_ends=[23]\n",
      "[ 2018-05-15 09:31:18,156][cascade_classifier.fit_transform] X_train.shape=(4557, 23),X_test.shape=(2245, 23)\n",
      "[ 2018-05-15 09:31:18,158][cascade_classifier.fit_transform] [layer=0] look_indexs=[0], X_cur_train.shape=(4557, 23), X_cur_test.shape=(2245, 23)\n"
     ]
    },
    {
     "name": "stdout",
     "output_type": "stream",
     "text": [
      "('Test Accuracy of ExtraTrees = 98.975501 %', 12, 'fois')\n",
      "[[2190    7]\n",
      " [  16   32]]\n",
      "\n",
      "\n",
      "             precision    recall  f1-score   support\n",
      "\n",
      "        0.0       0.99      1.00      0.99      2197\n",
      "        1.0       0.82      0.67      0.74        48\n",
      "\n",
      "avg / total       0.99      0.99      0.99      2245\n",
      "\n"
     ]
    },
    {
     "name": "stderr",
     "output_type": "stream",
     "text": [
      "[ 2018-05-15 09:31:18,779][kfold_wrapper.log_eval_metrics] Accuracy(layer_0 - estimator_0 - 10_folds.train_0.predict)=97.81%\n",
      "[ 2018-05-15 09:31:19,526][kfold_wrapper.log_eval_metrics] Accuracy(layer_0 - estimator_0 - 10_folds.train_1.predict)=99.34%\n",
      "[ 2018-05-15 09:31:20,268][kfold_wrapper.log_eval_metrics] Accuracy(layer_0 - estimator_0 - 10_folds.train_2.predict)=99.34%\n",
      "[ 2018-05-15 09:31:21,004][kfold_wrapper.log_eval_metrics] Accuracy(layer_0 - estimator_0 - 10_folds.train_3.predict)=99.34%\n",
      "[ 2018-05-15 09:31:21,735][kfold_wrapper.log_eval_metrics] Accuracy(layer_0 - estimator_0 - 10_folds.train_4.predict)=98.90%\n",
      "[ 2018-05-15 09:31:22,450][kfold_wrapper.log_eval_metrics] Accuracy(layer_0 - estimator_0 - 10_folds.train_5.predict)=99.34%\n",
      "[ 2018-05-15 09:31:23,195][kfold_wrapper.log_eval_metrics] Accuracy(layer_0 - estimator_0 - 10_folds.train_6.predict)=99.12%\n",
      "[ 2018-05-15 09:31:24,133][kfold_wrapper.log_eval_metrics] Accuracy(layer_0 - estimator_0 - 10_folds.train_7.predict)=99.34%\n",
      "[ 2018-05-15 09:31:24,871][kfold_wrapper.log_eval_metrics] Accuracy(layer_0 - estimator_0 - 10_folds.train_8.predict)=99.12%\n",
      "[ 2018-05-15 09:31:25,584][kfold_wrapper.log_eval_metrics] Accuracy(layer_0 - estimator_0 - 10_folds.train_9.predict)=98.46%\n",
      "[ 2018-05-15 09:31:25,704][kfold_wrapper.log_eval_metrics] Accuracy(layer_0 - estimator_0 - 10_folds.train_cv.predict)=99.01%\n",
      "[ 2018-05-15 09:31:25,706][kfold_wrapper.log_eval_metrics] Accuracy(layer_0 - estimator_0 - 10_folds.test.predict)=98.93%\n",
      "[ 2018-05-15 09:31:25,709][cascade_classifier.calc_accuracy] Accuracy(layer_0 - train.classifier_average)=99.01%\n",
      "[ 2018-05-15 09:31:25,711][cascade_classifier.calc_accuracy] Accuracy(layer_0 - test.classifier_average)=98.93%\n",
      "[ 2018-05-15 09:31:25,713][cascade_classifier.fit_transform] [Result][Reach Max Layer] opt_layer_num=1, accuracy_train=99.01%, accuracy_test=98.93%\n",
      "[ 2018-05-15 09:31:25,714][cascade_classifier.transform] X_groups_test.shape=[(2245, 23)]\n",
      "[ 2018-05-15 09:31:25,716][cascade_classifier.transform] group_dims=[23]\n",
      "[ 2018-05-15 09:31:25,718][cascade_classifier.transform] X_test.shape=(2245, 23)\n",
      "[ 2018-05-15 09:31:25,721][cascade_classifier.transform] [layer=0] look_indexs=[0], X_cur_test.shape=(2245, 23)\n",
      "[ 2018-05-15 09:31:26,953][cascade_classifier.fit_transform] X_groups_train.shape=[(4557, 23)],y_train.shape=(4557,),X_groups_test.shape=[(2245, 23)],y_test.shape=(2245,)\n",
      "[ 2018-05-15 09:31:26,955][cascade_classifier.fit_transform] group_dims=[23]\n",
      "[ 2018-05-15 09:31:26,956][cascade_classifier.fit_transform] group_starts=[0]\n",
      "[ 2018-05-15 09:31:26,958][cascade_classifier.fit_transform] group_ends=[23]\n",
      "[ 2018-05-15 09:31:26,960][cascade_classifier.fit_transform] X_train.shape=(4557, 23),X_test.shape=(2245, 23)\n",
      "[ 2018-05-15 09:31:26,964][cascade_classifier.fit_transform] [layer=0] look_indexs=[0], X_cur_train.shape=(4557, 23), X_cur_test.shape=(2245, 23)\n"
     ]
    },
    {
     "name": "stdout",
     "output_type": "stream",
     "text": [
      "('Test Accuracy of ExtraTrees = 98.930958 %', 13, 'fois')\n",
      "[[2189    8]\n",
      " [  16   32]]\n",
      "\n",
      "\n",
      "             precision    recall  f1-score   support\n",
      "\n",
      "        0.0       0.99      1.00      0.99      2197\n",
      "        1.0       0.80      0.67      0.73        48\n",
      "\n",
      "avg / total       0.99      0.99      0.99      2245\n",
      "\n"
     ]
    },
    {
     "name": "stderr",
     "output_type": "stream",
     "text": [
      "[ 2018-05-15 09:31:27,739][kfold_wrapper.log_eval_metrics] Accuracy(layer_0 - estimator_0 - 10_folds.train_0.predict)=97.59%\n",
      "[ 2018-05-15 09:31:28,476][kfold_wrapper.log_eval_metrics] Accuracy(layer_0 - estimator_0 - 10_folds.train_1.predict)=99.34%\n",
      "[ 2018-05-15 09:31:29,207][kfold_wrapper.log_eval_metrics] Accuracy(layer_0 - estimator_0 - 10_folds.train_2.predict)=99.34%\n",
      "[ 2018-05-15 09:31:29,963][kfold_wrapper.log_eval_metrics] Accuracy(layer_0 - estimator_0 - 10_folds.train_3.predict)=99.34%\n",
      "[ 2018-05-15 09:31:30,706][kfold_wrapper.log_eval_metrics] Accuracy(layer_0 - estimator_0 - 10_folds.train_4.predict)=98.90%\n",
      "[ 2018-05-15 09:31:31,394][kfold_wrapper.log_eval_metrics] Accuracy(layer_0 - estimator_0 - 10_folds.train_5.predict)=99.12%\n",
      "[ 2018-05-15 09:31:32,120][kfold_wrapper.log_eval_metrics] Accuracy(layer_0 - estimator_0 - 10_folds.train_6.predict)=99.34%\n",
      "[ 2018-05-15 09:31:32,843][kfold_wrapper.log_eval_metrics] Accuracy(layer_0 - estimator_0 - 10_folds.train_7.predict)=98.90%\n",
      "[ 2018-05-15 09:31:33,530][kfold_wrapper.log_eval_metrics] Accuracy(layer_0 - estimator_0 - 10_folds.train_8.predict)=99.12%\n",
      "[ 2018-05-15 09:31:34,234][kfold_wrapper.log_eval_metrics] Accuracy(layer_0 - estimator_0 - 10_folds.train_9.predict)=98.46%\n",
      "[ 2018-05-15 09:31:34,352][kfold_wrapper.log_eval_metrics] Accuracy(layer_0 - estimator_0 - 10_folds.train_cv.predict)=98.95%\n",
      "[ 2018-05-15 09:31:34,356][kfold_wrapper.log_eval_metrics] Accuracy(layer_0 - estimator_0 - 10_folds.test.predict)=98.98%\n",
      "[ 2018-05-15 09:31:34,363][cascade_classifier.calc_accuracy] Accuracy(layer_0 - train.classifier_average)=98.95%\n",
      "[ 2018-05-15 09:31:34,365][cascade_classifier.calc_accuracy] Accuracy(layer_0 - test.classifier_average)=98.98%\n",
      "[ 2018-05-15 09:31:34,367][cascade_classifier.fit_transform] [Result][Reach Max Layer] opt_layer_num=1, accuracy_train=98.95%, accuracy_test=98.98%\n",
      "[ 2018-05-15 09:31:34,368][cascade_classifier.transform] X_groups_test.shape=[(2245, 23)]\n",
      "[ 2018-05-15 09:31:34,369][cascade_classifier.transform] group_dims=[23]\n",
      "[ 2018-05-15 09:31:34,370][cascade_classifier.transform] X_test.shape=(2245, 23)\n",
      "[ 2018-05-15 09:31:34,371][cascade_classifier.transform] [layer=0] look_indexs=[0], X_cur_test.shape=(2245, 23)\n",
      "[ 2018-05-15 09:31:35,549][cascade_classifier.fit_transform] X_groups_train.shape=[(4557, 23)],y_train.shape=(4557,),X_groups_test.shape=[(2245, 23)],y_test.shape=(2245,)\n",
      "[ 2018-05-15 09:31:35,550][cascade_classifier.fit_transform] group_dims=[23]\n",
      "[ 2018-05-15 09:31:35,552][cascade_classifier.fit_transform] group_starts=[0]\n",
      "[ 2018-05-15 09:31:35,553][cascade_classifier.fit_transform] group_ends=[23]\n",
      "[ 2018-05-15 09:31:35,554][cascade_classifier.fit_transform] X_train.shape=(4557, 23),X_test.shape=(2245, 23)\n",
      "[ 2018-05-15 09:31:35,556][cascade_classifier.fit_transform] [layer=0] look_indexs=[0], X_cur_train.shape=(4557, 23), X_cur_test.shape=(2245, 23)\n"
     ]
    },
    {
     "name": "stdout",
     "output_type": "stream",
     "text": [
      "('Test Accuracy of ExtraTrees = 98.975501 %', 14, 'fois')\n",
      "[[2189    8]\n",
      " [  15   33]]\n",
      "\n",
      "\n",
      "             precision    recall  f1-score   support\n",
      "\n",
      "        0.0       0.99      1.00      0.99      2197\n",
      "        1.0       0.80      0.69      0.74        48\n",
      "\n",
      "avg / total       0.99      0.99      0.99      2245\n",
      "\n"
     ]
    },
    {
     "name": "stderr",
     "output_type": "stream",
     "text": [
      "[ 2018-05-15 09:31:36,181][kfold_wrapper.log_eval_metrics] Accuracy(layer_0 - estimator_0 - 10_folds.train_0.predict)=98.03%\n",
      "[ 2018-05-15 09:31:36,871][kfold_wrapper.log_eval_metrics] Accuracy(layer_0 - estimator_0 - 10_folds.train_1.predict)=99.34%\n",
      "[ 2018-05-15 09:31:37,583][kfold_wrapper.log_eval_metrics] Accuracy(layer_0 - estimator_0 - 10_folds.train_2.predict)=99.34%\n",
      "[ 2018-05-15 09:31:38,333][kfold_wrapper.log_eval_metrics] Accuracy(layer_0 - estimator_0 - 10_folds.train_3.predict)=99.34%\n",
      "[ 2018-05-15 09:31:39,056][kfold_wrapper.log_eval_metrics] Accuracy(layer_0 - estimator_0 - 10_folds.train_4.predict)=99.34%\n",
      "[ 2018-05-15 09:31:39,792][kfold_wrapper.log_eval_metrics] Accuracy(layer_0 - estimator_0 - 10_folds.train_5.predict)=99.56%\n",
      "[ 2018-05-15 09:31:40,524][kfold_wrapper.log_eval_metrics] Accuracy(layer_0 - estimator_0 - 10_folds.train_6.predict)=99.56%\n",
      "[ 2018-05-15 09:31:41,243][kfold_wrapper.log_eval_metrics] Accuracy(layer_0 - estimator_0 - 10_folds.train_7.predict)=98.90%\n",
      "[ 2018-05-15 09:31:41,962][kfold_wrapper.log_eval_metrics] Accuracy(layer_0 - estimator_0 - 10_folds.train_8.predict)=99.34%\n",
      "[ 2018-05-15 09:31:42,710][kfold_wrapper.log_eval_metrics] Accuracy(layer_0 - estimator_0 - 10_folds.train_9.predict)=98.68%\n",
      "[ 2018-05-15 09:31:42,827][kfold_wrapper.log_eval_metrics] Accuracy(layer_0 - estimator_0 - 10_folds.train_cv.predict)=99.14%\n",
      "[ 2018-05-15 09:31:42,831][kfold_wrapper.log_eval_metrics] Accuracy(layer_0 - estimator_0 - 10_folds.test.predict)=99.06%\n",
      "[ 2018-05-15 09:31:42,839][cascade_classifier.calc_accuracy] Accuracy(layer_0 - train.classifier_average)=99.14%\n",
      "[ 2018-05-15 09:31:42,842][cascade_classifier.calc_accuracy] Accuracy(layer_0 - test.classifier_average)=99.06%\n",
      "[ 2018-05-15 09:31:42,845][cascade_classifier.fit_transform] [Result][Reach Max Layer] opt_layer_num=1, accuracy_train=99.14%, accuracy_test=99.06%\n",
      "[ 2018-05-15 09:31:42,849][cascade_classifier.transform] X_groups_test.shape=[(2245, 23)]\n",
      "[ 2018-05-15 09:31:42,850][cascade_classifier.transform] group_dims=[23]\n",
      "[ 2018-05-15 09:31:42,852][cascade_classifier.transform] X_test.shape=(2245, 23)\n",
      "[ 2018-05-15 09:31:42,853][cascade_classifier.transform] [layer=0] look_indexs=[0], X_cur_test.shape=(2245, 23)\n",
      "[ 2018-05-15 09:31:44,041][cascade_classifier.fit_transform] X_groups_train.shape=[(4557, 23)],y_train.shape=(4557,),X_groups_test.shape=[(2245, 23)],y_test.shape=(2245,)\n",
      "[ 2018-05-15 09:31:44,042][cascade_classifier.fit_transform] group_dims=[23]\n",
      "[ 2018-05-15 09:31:44,043][cascade_classifier.fit_transform] group_starts=[0]\n",
      "[ 2018-05-15 09:31:44,044][cascade_classifier.fit_transform] group_ends=[23]\n",
      "[ 2018-05-15 09:31:44,046][cascade_classifier.fit_transform] X_train.shape=(4557, 23),X_test.shape=(2245, 23)\n",
      "[ 2018-05-15 09:31:44,048][cascade_classifier.fit_transform] [layer=0] look_indexs=[0], X_cur_train.shape=(4557, 23), X_cur_test.shape=(2245, 23)\n"
     ]
    },
    {
     "name": "stdout",
     "output_type": "stream",
     "text": [
      "('Test Accuracy of ExtraTrees = 99.064588 %', 15, 'fois')\n",
      "[[2189    8]\n",
      " [  13   35]]\n",
      "\n",
      "\n",
      "             precision    recall  f1-score   support\n",
      "\n",
      "        0.0       0.99      1.00      1.00      2197\n",
      "        1.0       0.81      0.73      0.77        48\n",
      "\n",
      "avg / total       0.99      0.99      0.99      2245\n",
      "\n"
     ]
    },
    {
     "name": "stderr",
     "output_type": "stream",
     "text": [
      "[ 2018-05-15 09:31:44,652][kfold_wrapper.log_eval_metrics] Accuracy(layer_0 - estimator_0 - 10_folds.train_0.predict)=97.81%\n",
      "[ 2018-05-15 09:31:45,377][kfold_wrapper.log_eval_metrics] Accuracy(layer_0 - estimator_0 - 10_folds.train_1.predict)=99.34%\n",
      "[ 2018-05-15 09:31:46,136][kfold_wrapper.log_eval_metrics] Accuracy(layer_0 - estimator_0 - 10_folds.train_2.predict)=99.34%\n",
      "[ 2018-05-15 09:31:46,900][kfold_wrapper.log_eval_metrics] Accuracy(layer_0 - estimator_0 - 10_folds.train_3.predict)=99.34%\n",
      "[ 2018-05-15 09:31:47,630][kfold_wrapper.log_eval_metrics] Accuracy(layer_0 - estimator_0 - 10_folds.train_4.predict)=99.12%\n",
      "[ 2018-05-15 09:31:48,378][kfold_wrapper.log_eval_metrics] Accuracy(layer_0 - estimator_0 - 10_folds.train_5.predict)=99.12%\n",
      "[ 2018-05-15 09:31:49,094][kfold_wrapper.log_eval_metrics] Accuracy(layer_0 - estimator_0 - 10_folds.train_6.predict)=99.34%\n",
      "[ 2018-05-15 09:31:49,820][kfold_wrapper.log_eval_metrics] Accuracy(layer_0 - estimator_0 - 10_folds.train_7.predict)=98.90%\n",
      "[ 2018-05-15 09:31:50,580][kfold_wrapper.log_eval_metrics] Accuracy(layer_0 - estimator_0 - 10_folds.train_8.predict)=99.34%\n",
      "[ 2018-05-15 09:31:51,306][kfold_wrapper.log_eval_metrics] Accuracy(layer_0 - estimator_0 - 10_folds.train_9.predict)=98.68%\n",
      "[ 2018-05-15 09:31:51,428][kfold_wrapper.log_eval_metrics] Accuracy(layer_0 - estimator_0 - 10_folds.train_cv.predict)=99.03%\n",
      "[ 2018-05-15 09:31:51,432][kfold_wrapper.log_eval_metrics] Accuracy(layer_0 - estimator_0 - 10_folds.test.predict)=99.06%\n",
      "[ 2018-05-15 09:31:51,439][cascade_classifier.calc_accuracy] Accuracy(layer_0 - train.classifier_average)=99.03%\n",
      "[ 2018-05-15 09:31:51,442][cascade_classifier.calc_accuracy] Accuracy(layer_0 - test.classifier_average)=99.06%\n",
      "[ 2018-05-15 09:31:51,443][cascade_classifier.fit_transform] [Result][Reach Max Layer] opt_layer_num=1, accuracy_train=99.03%, accuracy_test=99.06%\n",
      "[ 2018-05-15 09:31:51,444][cascade_classifier.transform] X_groups_test.shape=[(2245, 23)]\n",
      "[ 2018-05-15 09:31:51,446][cascade_classifier.transform] group_dims=[23]\n",
      "[ 2018-05-15 09:31:51,447][cascade_classifier.transform] X_test.shape=(2245, 23)\n",
      "[ 2018-05-15 09:31:51,448][cascade_classifier.transform] [layer=0] look_indexs=[0], X_cur_test.shape=(2245, 23)\n",
      "[ 2018-05-15 09:31:52,631][cascade_classifier.fit_transform] X_groups_train.shape=[(4557, 23)],y_train.shape=(4557,),X_groups_test.shape=[(2245, 23)],y_test.shape=(2245,)\n",
      "[ 2018-05-15 09:31:52,633][cascade_classifier.fit_transform] group_dims=[23]\n",
      "[ 2018-05-15 09:31:52,634][cascade_classifier.fit_transform] group_starts=[0]\n",
      "[ 2018-05-15 09:31:52,635][cascade_classifier.fit_transform] group_ends=[23]\n",
      "[ 2018-05-15 09:31:52,636][cascade_classifier.fit_transform] X_train.shape=(4557, 23),X_test.shape=(2245, 23)\n",
      "[ 2018-05-15 09:31:52,638][cascade_classifier.fit_transform] [layer=0] look_indexs=[0], X_cur_train.shape=(4557, 23), X_cur_test.shape=(2245, 23)\n"
     ]
    },
    {
     "name": "stdout",
     "output_type": "stream",
     "text": [
      "('Test Accuracy of ExtraTrees = 99.064588 %', 16, 'fois')\n",
      "[[2191    6]\n",
      " [  15   33]]\n",
      "\n",
      "\n",
      "             precision    recall  f1-score   support\n",
      "\n",
      "        0.0       0.99      1.00      1.00      2197\n",
      "        1.0       0.85      0.69      0.76        48\n",
      "\n",
      "avg / total       0.99      0.99      0.99      2245\n",
      "\n"
     ]
    },
    {
     "name": "stderr",
     "output_type": "stream",
     "text": [
      "[ 2018-05-15 09:31:53,245][kfold_wrapper.log_eval_metrics] Accuracy(layer_0 - estimator_0 - 10_folds.train_0.predict)=97.59%\n",
      "[ 2018-05-15 09:31:53,965][kfold_wrapper.log_eval_metrics] Accuracy(layer_0 - estimator_0 - 10_folds.train_1.predict)=99.34%\n",
      "[ 2018-05-15 09:31:54,678][kfold_wrapper.log_eval_metrics] Accuracy(layer_0 - estimator_0 - 10_folds.train_2.predict)=99.34%\n",
      "[ 2018-05-15 09:31:55,387][kfold_wrapper.log_eval_metrics] Accuracy(layer_0 - estimator_0 - 10_folds.train_3.predict)=99.34%\n",
      "[ 2018-05-15 09:31:56,102][kfold_wrapper.log_eval_metrics] Accuracy(layer_0 - estimator_0 - 10_folds.train_4.predict)=99.34%\n",
      "[ 2018-05-15 09:31:56,873][kfold_wrapper.log_eval_metrics] Accuracy(layer_0 - estimator_0 - 10_folds.train_5.predict)=99.12%\n",
      "[ 2018-05-15 09:31:57,608][kfold_wrapper.log_eval_metrics] Accuracy(layer_0 - estimator_0 - 10_folds.train_6.predict)=99.34%\n",
      "[ 2018-05-15 09:31:58,313][kfold_wrapper.log_eval_metrics] Accuracy(layer_0 - estimator_0 - 10_folds.train_7.predict)=98.68%\n",
      "[ 2018-05-15 09:31:59,037][kfold_wrapper.log_eval_metrics] Accuracy(layer_0 - estimator_0 - 10_folds.train_8.predict)=99.12%\n",
      "[ 2018-05-15 09:31:59,753][kfold_wrapper.log_eval_metrics] Accuracy(layer_0 - estimator_0 - 10_folds.train_9.predict)=98.24%\n",
      "[ 2018-05-15 09:31:59,870][kfold_wrapper.log_eval_metrics] Accuracy(layer_0 - estimator_0 - 10_folds.train_cv.predict)=98.95%\n",
      "[ 2018-05-15 09:31:59,874][kfold_wrapper.log_eval_metrics] Accuracy(layer_0 - estimator_0 - 10_folds.test.predict)=98.89%\n",
      "[ 2018-05-15 09:31:59,881][cascade_classifier.calc_accuracy] Accuracy(layer_0 - train.classifier_average)=98.95%\n",
      "[ 2018-05-15 09:31:59,883][cascade_classifier.calc_accuracy] Accuracy(layer_0 - test.classifier_average)=98.89%\n",
      "[ 2018-05-15 09:31:59,885][cascade_classifier.fit_transform] [Result][Reach Max Layer] opt_layer_num=1, accuracy_train=98.95%, accuracy_test=98.89%\n",
      "[ 2018-05-15 09:31:59,886][cascade_classifier.transform] X_groups_test.shape=[(2245, 23)]\n",
      "[ 2018-05-15 09:31:59,887][cascade_classifier.transform] group_dims=[23]\n",
      "[ 2018-05-15 09:31:59,888][cascade_classifier.transform] X_test.shape=(2245, 23)\n",
      "[ 2018-05-15 09:31:59,890][cascade_classifier.transform] [layer=0] look_indexs=[0], X_cur_test.shape=(2245, 23)\n",
      "[ 2018-05-15 09:32:01,063][cascade_classifier.fit_transform] X_groups_train.shape=[(4557, 23)],y_train.shape=(4557,),X_groups_test.shape=[(2245, 23)],y_test.shape=(2245,)\n",
      "[ 2018-05-15 09:32:01,065][cascade_classifier.fit_transform] group_dims=[23]\n",
      "[ 2018-05-15 09:32:01,066][cascade_classifier.fit_transform] group_starts=[0]\n",
      "[ 2018-05-15 09:32:01,067][cascade_classifier.fit_transform] group_ends=[23]\n",
      "[ 2018-05-15 09:32:01,068][cascade_classifier.fit_transform] X_train.shape=(4557, 23),X_test.shape=(2245, 23)\n",
      "[ 2018-05-15 09:32:01,069][cascade_classifier.fit_transform] [layer=0] look_indexs=[0], X_cur_train.shape=(4557, 23), X_cur_test.shape=(2245, 23)\n"
     ]
    },
    {
     "name": "stdout",
     "output_type": "stream",
     "text": [
      "('Test Accuracy of ExtraTrees = 98.886414 %', 17, 'fois')\n",
      "[[2191    6]\n",
      " [  19   29]]\n",
      "\n",
      "\n",
      "             precision    recall  f1-score   support\n",
      "\n",
      "        0.0       0.99      1.00      0.99      2197\n",
      "        1.0       0.83      0.60      0.70        48\n",
      "\n",
      "avg / total       0.99      0.99      0.99      2245\n",
      "\n"
     ]
    },
    {
     "name": "stderr",
     "output_type": "stream",
     "text": [
      "[ 2018-05-15 09:32:01,700][kfold_wrapper.log_eval_metrics] Accuracy(layer_0 - estimator_0 - 10_folds.train_0.predict)=98.46%\n",
      "[ 2018-05-15 09:32:02,421][kfold_wrapper.log_eval_metrics] Accuracy(layer_0 - estimator_0 - 10_folds.train_1.predict)=99.34%\n",
      "[ 2018-05-15 09:32:03,116][kfold_wrapper.log_eval_metrics] Accuracy(layer_0 - estimator_0 - 10_folds.train_2.predict)=99.12%\n",
      "[ 2018-05-15 09:32:03,833][kfold_wrapper.log_eval_metrics] Accuracy(layer_0 - estimator_0 - 10_folds.train_3.predict)=99.34%\n",
      "[ 2018-05-15 09:32:04,557][kfold_wrapper.log_eval_metrics] Accuracy(layer_0 - estimator_0 - 10_folds.train_4.predict)=99.56%\n",
      "[ 2018-05-15 09:32:05,398][kfold_wrapper.log_eval_metrics] Accuracy(layer_0 - estimator_0 - 10_folds.train_5.predict)=99.34%\n",
      "[ 2018-05-15 09:32:06,144][kfold_wrapper.log_eval_metrics] Accuracy(layer_0 - estimator_0 - 10_folds.train_6.predict)=99.78%\n",
      "[ 2018-05-15 09:32:06,899][kfold_wrapper.log_eval_metrics] Accuracy(layer_0 - estimator_0 - 10_folds.train_7.predict)=98.90%\n",
      "[ 2018-05-15 09:32:07,632][kfold_wrapper.log_eval_metrics] Accuracy(layer_0 - estimator_0 - 10_folds.train_8.predict)=99.12%\n",
      "[ 2018-05-15 09:32:08,413][kfold_wrapper.log_eval_metrics] Accuracy(layer_0 - estimator_0 - 10_folds.train_9.predict)=98.46%\n",
      "[ 2018-05-15 09:32:08,536][kfold_wrapper.log_eval_metrics] Accuracy(layer_0 - estimator_0 - 10_folds.train_cv.predict)=99.14%\n",
      "[ 2018-05-15 09:32:08,539][kfold_wrapper.log_eval_metrics] Accuracy(layer_0 - estimator_0 - 10_folds.test.predict)=99.06%\n",
      "[ 2018-05-15 09:32:08,549][cascade_classifier.calc_accuracy] Accuracy(layer_0 - train.classifier_average)=99.14%\n",
      "[ 2018-05-15 09:32:08,551][cascade_classifier.calc_accuracy] Accuracy(layer_0 - test.classifier_average)=99.06%\n",
      "[ 2018-05-15 09:32:08,552][cascade_classifier.fit_transform] [Result][Reach Max Layer] opt_layer_num=1, accuracy_train=99.14%, accuracy_test=99.06%\n",
      "[ 2018-05-15 09:32:08,553][cascade_classifier.transform] X_groups_test.shape=[(2245, 23)]\n",
      "[ 2018-05-15 09:32:08,555][cascade_classifier.transform] group_dims=[23]\n",
      "[ 2018-05-15 09:32:08,557][cascade_classifier.transform] X_test.shape=(2245, 23)\n",
      "[ 2018-05-15 09:32:08,560][cascade_classifier.transform] [layer=0] look_indexs=[0], X_cur_test.shape=(2245, 23)\n",
      "[ 2018-05-15 09:32:09,743][cascade_classifier.fit_transform] X_groups_train.shape=[(4557, 23)],y_train.shape=(4557,),X_groups_test.shape=[(2245, 23)],y_test.shape=(2245,)\n",
      "[ 2018-05-15 09:32:09,745][cascade_classifier.fit_transform] group_dims=[23]\n",
      "[ 2018-05-15 09:32:09,746][cascade_classifier.fit_transform] group_starts=[0]\n",
      "[ 2018-05-15 09:32:09,748][cascade_classifier.fit_transform] group_ends=[23]\n",
      "[ 2018-05-15 09:32:09,751][cascade_classifier.fit_transform] X_train.shape=(4557, 23),X_test.shape=(2245, 23)\n",
      "[ 2018-05-15 09:32:09,754][cascade_classifier.fit_transform] [layer=0] look_indexs=[0], X_cur_train.shape=(4557, 23), X_cur_test.shape=(2245, 23)\n"
     ]
    },
    {
     "name": "stdout",
     "output_type": "stream",
     "text": [
      "('Test Accuracy of ExtraTrees = 99.064588 %', 18, 'fois')\n",
      "[[2193    4]\n",
      " [  17   31]]\n",
      "\n",
      "\n",
      "             precision    recall  f1-score   support\n",
      "\n",
      "        0.0       0.99      1.00      1.00      2197\n",
      "        1.0       0.89      0.65      0.75        48\n",
      "\n",
      "avg / total       0.99      0.99      0.99      2245\n",
      "\n"
     ]
    },
    {
     "name": "stderr",
     "output_type": "stream",
     "text": [
      "[ 2018-05-15 09:32:10,395][kfold_wrapper.log_eval_metrics] Accuracy(layer_0 - estimator_0 - 10_folds.train_0.predict)=98.25%\n",
      "[ 2018-05-15 09:32:11,136][kfold_wrapper.log_eval_metrics] Accuracy(layer_0 - estimator_0 - 10_folds.train_1.predict)=99.34%\n",
      "[ 2018-05-15 09:32:11,843][kfold_wrapper.log_eval_metrics] Accuracy(layer_0 - estimator_0 - 10_folds.train_2.predict)=99.34%\n",
      "[ 2018-05-15 09:32:12,580][kfold_wrapper.log_eval_metrics] Accuracy(layer_0 - estimator_0 - 10_folds.train_3.predict)=99.34%\n",
      "[ 2018-05-15 09:32:13,328][kfold_wrapper.log_eval_metrics] Accuracy(layer_0 - estimator_0 - 10_folds.train_4.predict)=99.56%\n",
      "[ 2018-05-15 09:32:14,079][kfold_wrapper.log_eval_metrics] Accuracy(layer_0 - estimator_0 - 10_folds.train_5.predict)=99.12%\n",
      "[ 2018-05-15 09:32:14,828][kfold_wrapper.log_eval_metrics] Accuracy(layer_0 - estimator_0 - 10_folds.train_6.predict)=99.34%\n",
      "[ 2018-05-15 09:32:15,535][kfold_wrapper.log_eval_metrics] Accuracy(layer_0 - estimator_0 - 10_folds.train_7.predict)=98.68%\n",
      "[ 2018-05-15 09:32:16,319][kfold_wrapper.log_eval_metrics] Accuracy(layer_0 - estimator_0 - 10_folds.train_8.predict)=99.12%\n",
      "[ 2018-05-15 09:32:17,090][kfold_wrapper.log_eval_metrics] Accuracy(layer_0 - estimator_0 - 10_folds.train_9.predict)=98.24%\n",
      "[ 2018-05-15 09:32:17,209][kfold_wrapper.log_eval_metrics] Accuracy(layer_0 - estimator_0 - 10_folds.train_cv.predict)=99.03%\n",
      "[ 2018-05-15 09:32:17,212][kfold_wrapper.log_eval_metrics] Accuracy(layer_0 - estimator_0 - 10_folds.test.predict)=99.02%\n",
      "[ 2018-05-15 09:32:17,217][cascade_classifier.calc_accuracy] Accuracy(layer_0 - train.classifier_average)=99.03%\n",
      "[ 2018-05-15 09:32:17,220][cascade_classifier.calc_accuracy] Accuracy(layer_0 - test.classifier_average)=99.02%\n",
      "[ 2018-05-15 09:32:17,222][cascade_classifier.fit_transform] [Result][Reach Max Layer] opt_layer_num=1, accuracy_train=99.03%, accuracy_test=99.02%\n",
      "[ 2018-05-15 09:32:17,223][cascade_classifier.transform] X_groups_test.shape=[(2245, 23)]\n",
      "[ 2018-05-15 09:32:17,225][cascade_classifier.transform] group_dims=[23]\n",
      "[ 2018-05-15 09:32:17,226][cascade_classifier.transform] X_test.shape=(2245, 23)\n",
      "[ 2018-05-15 09:32:17,227][cascade_classifier.transform] [layer=0] look_indexs=[0], X_cur_test.shape=(2245, 23)\n"
     ]
    },
    {
     "name": "stdout",
     "output_type": "stream",
     "text": [
      "('Test Accuracy of ExtraTrees = 99.020045 %', 19, 'fois')\n",
      "[[2192    5]\n",
      " [  17   31]]\n",
      "\n",
      "\n",
      "             precision    recall  f1-score   support\n",
      "\n",
      "        0.0       0.99      1.00      1.00      2197\n",
      "        1.0       0.86      0.65      0.74        48\n",
      "\n",
      "avg / total       0.99      0.99      0.99      2245\n",
      "\n"
     ]
    }
   ],
   "source": [
    "# Deep\n",
    "for i in range (20):\n",
    "    X_train,X_test=update(X_train,X_test)\n",
    "    X_test_enc, X_train_enc=newdata(X_test_enc, X_train_enc)\n",
    "\n",
    "    X_train=X_train_enc\n",
    "    X_test=X_test_enc \n",
    "    X_train_enc, X_test_enc = gc.fit_transform(X_train, y_train, X_test=X_test, y_test=y_test)\n",
    "    affiche()"
   ]
  },
  {
   "cell_type": "code",
   "execution_count": null,
   "metadata": {
    "collapsed": true
   },
   "outputs": [],
   "source": []
  },
  {
   "cell_type": "markdown",
   "metadata": {},
   "source": [
    "# ('Test Accuracy of ExtraTrees = 99.287305 %', 2, 'fois')"
   ]
  },
  {
   "cell_type": "code",
   "execution_count": null,
   "metadata": {
    "collapsed": true
   },
   "outputs": [],
   "source": []
  }
 ],
 "metadata": {
  "kernelspec": {
   "display_name": "Python 2",
   "language": "python",
   "name": "python2"
  },
  "language_info": {
   "codemirror_mode": {
    "name": "ipython",
    "version": 2
   },
   "file_extension": ".py",
   "mimetype": "text/x-python",
   "name": "python",
   "nbconvert_exporter": "python",
   "pygments_lexer": "ipython2",
   "version": "2.7.14"
  }
 },
 "nbformat": 4,
 "nbformat_minor": 2
}
